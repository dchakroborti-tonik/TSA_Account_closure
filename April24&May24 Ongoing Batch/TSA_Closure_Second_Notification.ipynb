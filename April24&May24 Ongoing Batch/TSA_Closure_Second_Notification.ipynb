{
 "cells": [
  {
   "cell_type": "markdown",
   "metadata": {},
   "source": [
    "# <div align=\"center\" style=\"color: #ff5733;\">TSA Closure Second Notification</div>"
   ]
  },
  {
   "cell_type": "code",
   "execution_count": 1,
   "metadata": {},
   "outputs": [],
   "source": [
    "# Import Libraries   \n",
    "\n",
    "import pandas as pd  \n",
    "import numpy as np  \n",
    "\n",
    "from google.cloud import bigquery\n",
    "import os\n",
    "\n",
    "path = r\"C:\\Users\\DwaipayanChakroborti\\AppData\\Roaming\\gcloud\\legacy_credentials\\dchakroborti@tonikbank.com\\adc.json\"\n",
    "\n",
    "os.environ[\"GOOGLE_APPLICATION_CREDENTIALS\"] = path\n",
    "client = bigquery.Client(project=\"prj-prod-dataplatform\")"
   ]
  },
  {
   "cell_type": "markdown",
   "metadata": {},
   "source": [
    "# Ask Balasubramani to refresh risk_credit_mis.tsa_account_closure table.\n",
    "**Check if that is refreshed when Balasubramani confirms it**"
   ]
  },
  {
   "cell_type": "code",
   "execution_count": 2,
   "metadata": {},
   "outputs": [
    {
     "name": "stdout",
     "output_type": "stream",
     "text": [
      "Job ID f77affd6-41d5-4f4e-88e2-20d9308a2fec successfully executed: 100%|\u001b[32m██████████\u001b[0m|\n",
      "Downloading: 100%|\u001b[32m██████████\u001b[0m|\n"
     ]
    },
    {
     "data": {
      "text/html": [
       "<div>\n",
       "<style scoped>\n",
       "    .dataframe tbody tr th:only-of-type {\n",
       "        vertical-align: middle;\n",
       "    }\n",
       "\n",
       "    .dataframe tbody tr th {\n",
       "        vertical-align: top;\n",
       "    }\n",
       "\n",
       "    .dataframe thead th {\n",
       "        text-align: right;\n",
       "    }\n",
       "</style>\n",
       "<table border=\"1\" class=\"dataframe\">\n",
       "  <thead>\n",
       "    <tr style=\"text-align: right;\">\n",
       "      <th></th>\n",
       "      <th>Run_Date</th>\n",
       "      <th>cnt</th>\n",
       "    </tr>\n",
       "  </thead>\n",
       "  <tbody>\n",
       "    <tr>\n",
       "      <th>0</th>\n",
       "      <td>2024-06-18</td>\n",
       "      <td>577479</td>\n",
       "    </tr>\n",
       "  </tbody>\n",
       "</table>\n",
       "</div>"
      ],
      "text/plain": [
       "     Run_Date     cnt\n",
       "0  2024-06-18  577479"
      ]
     },
     "execution_count": 2,
     "metadata": {},
     "output_type": "execute_result"
    }
   ],
   "source": [
    "sq = \"\"\"select Run_Date, count(1)cnt from risk_credit_mis.tsa_account_closure group by 1 order by 1 desc\"\"\"\n",
    "df = client.query(sq).to_dataframe(progress_bar_type = 'tqdm')\n",
    "df.head(1)"
   ]
  },
  {
   "cell_type": "markdown",
   "metadata": {},
   "source": [
    "The date should show yesterday's date"
   ]
  },
  {
   "cell_type": "markdown",
   "metadata": {},
   "source": [
    "# Read the data from the first sheet for Type1 and Type2 data provided by Marvin"
   ]
  },
  {
   "cell_type": "code",
   "execution_count": 3,
   "metadata": {},
   "outputs": [
    {
     "data": {
      "text/plain": [
       "(8331, 2)"
      ]
     },
     "execution_count": 3,
     "metadata": {},
     "output_type": "execute_result"
    }
   ],
   "source": [
    "d1 = pd.read_excel(r\"C:\\Users\\DwaipayanChakroborti\\OneDrive - Tonik Financial Pte Ltd\\MyStuff\\Marvin\\TSA Account Closure\\April24&May24 Ongoing Batch\\SecondNotification_files\\Type 1  & 2  - 1st Notif.xlsx\")\n",
    "d1.shape"
   ]
  },
  {
   "cell_type": "code",
   "execution_count": 4,
   "metadata": {},
   "outputs": [
    {
     "name": "stdout",
     "output_type": "stream",
     "text": [
      "The unique count of customer_id is:\t8325\n"
     ]
    },
    {
     "data": {
      "text/html": [
       "<div>\n",
       "<style scoped>\n",
       "    .dataframe tbody tr th:only-of-type {\n",
       "        vertical-align: middle;\n",
       "    }\n",
       "\n",
       "    .dataframe tbody tr th {\n",
       "        vertical-align: top;\n",
       "    }\n",
       "\n",
       "    .dataframe thead th {\n",
       "        text-align: right;\n",
       "    }\n",
       "</style>\n",
       "<table border=\"1\" class=\"dataframe\">\n",
       "  <thead>\n",
       "    <tr style=\"text-align: right;\">\n",
       "      <th></th>\n",
       "      <th>Customer_Id</th>\n",
       "      <th>ACTION_TYPE</th>\n",
       "    </tr>\n",
       "  </thead>\n",
       "  <tbody>\n",
       "    <tr>\n",
       "      <th>0</th>\n",
       "      <td>2421537</td>\n",
       "      <td>TYPE 1</td>\n",
       "    </tr>\n",
       "    <tr>\n",
       "      <th>1</th>\n",
       "      <td>2410303</td>\n",
       "      <td>TYPE 1</td>\n",
       "    </tr>\n",
       "    <tr>\n",
       "      <th>2</th>\n",
       "      <td>2435378</td>\n",
       "      <td>TYPE 1</td>\n",
       "    </tr>\n",
       "    <tr>\n",
       "      <th>3</th>\n",
       "      <td>2441535</td>\n",
       "      <td>TYPE 1</td>\n",
       "    </tr>\n",
       "    <tr>\n",
       "      <th>4</th>\n",
       "      <td>2413979</td>\n",
       "      <td>TYPE 1</td>\n",
       "    </tr>\n",
       "  </tbody>\n",
       "</table>\n",
       "</div>"
      ],
      "text/plain": [
       "   Customer_Id ACTION_TYPE\n",
       "0      2421537      TYPE 1\n",
       "1      2410303      TYPE 1\n",
       "2      2435378      TYPE 1\n",
       "3      2441535      TYPE 1\n",
       "4      2413979      TYPE 1"
      ]
     },
     "execution_count": 4,
     "metadata": {},
     "output_type": "execute_result"
    }
   ],
   "source": [
    "print(f\"The unique count of customer_id is:\\t{len(d1['Customer_Id'].unique())}\")\n",
    "d1.head()\n"
   ]
  },
  {
   "cell_type": "markdown",
   "metadata": {},
   "source": [
    "# Read the data from the second sheet for Type3 data provided by Marvin"
   ]
  },
  {
   "cell_type": "code",
   "execution_count": 5,
   "metadata": {},
   "outputs": [
    {
     "data": {
      "text/plain": [
       "(1122, 2)"
      ]
     },
     "execution_count": 5,
     "metadata": {},
     "output_type": "execute_result"
    }
   ],
   "source": [
    "d2 = pd.read_excel(r\"C:\\Users\\DwaipayanChakroborti\\OneDrive - Tonik Financial Pte Ltd\\MyStuff\\Marvin\\TSA Account Closure\\April24&May24 Ongoing Batch\\SecondNotification_files\\Type 3  - 1st Notif.xlsx\")\n",
    "d2.shape"
   ]
  },
  {
   "cell_type": "code",
   "execution_count": 6,
   "metadata": {},
   "outputs": [
    {
     "name": "stdout",
     "output_type": "stream",
     "text": [
      "The unique count of customer_id is:\t1122\n"
     ]
    },
    {
     "data": {
      "text/html": [
       "<div>\n",
       "<style scoped>\n",
       "    .dataframe tbody tr th:only-of-type {\n",
       "        vertical-align: middle;\n",
       "    }\n",
       "\n",
       "    .dataframe tbody tr th {\n",
       "        vertical-align: top;\n",
       "    }\n",
       "\n",
       "    .dataframe thead th {\n",
       "        text-align: right;\n",
       "    }\n",
       "</style>\n",
       "<table border=\"1\" class=\"dataframe\">\n",
       "  <thead>\n",
       "    <tr style=\"text-align: right;\">\n",
       "      <th></th>\n",
       "      <th>Customer_Id</th>\n",
       "      <th>ACTION_TYPE</th>\n",
       "    </tr>\n",
       "  </thead>\n",
       "  <tbody>\n",
       "    <tr>\n",
       "      <th>0</th>\n",
       "      <td>2312994</td>\n",
       "      <td>TYPE 3</td>\n",
       "    </tr>\n",
       "    <tr>\n",
       "      <th>1</th>\n",
       "      <td>2289307</td>\n",
       "      <td>TYPE 3</td>\n",
       "    </tr>\n",
       "    <tr>\n",
       "      <th>2</th>\n",
       "      <td>2194639</td>\n",
       "      <td>TYPE 3</td>\n",
       "    </tr>\n",
       "    <tr>\n",
       "      <th>3</th>\n",
       "      <td>2192630</td>\n",
       "      <td>TYPE 3</td>\n",
       "    </tr>\n",
       "    <tr>\n",
       "      <th>4</th>\n",
       "      <td>2256481</td>\n",
       "      <td>TYPE 3</td>\n",
       "    </tr>\n",
       "  </tbody>\n",
       "</table>\n",
       "</div>"
      ],
      "text/plain": [
       "   Customer_Id ACTION_TYPE\n",
       "0      2312994      TYPE 3\n",
       "1      2289307      TYPE 3\n",
       "2      2194639      TYPE 3\n",
       "3      2192630      TYPE 3\n",
       "4      2256481      TYPE 3"
      ]
     },
     "execution_count": 6,
     "metadata": {},
     "output_type": "execute_result"
    }
   ],
   "source": [
    "print(f\"The unique count of customer_id is:\\t{len(d2['Customer_Id'].unique())}\")\n",
    "d2.head()"
   ]
  },
  {
   "cell_type": "code",
   "execution_count": 7,
   "metadata": {},
   "outputs": [
    {
     "data": {
      "text/plain": [
       "(9453, 2)"
      ]
     },
     "execution_count": 7,
     "metadata": {},
     "output_type": "execute_result"
    }
   ],
   "source": [
    "result = pd.concat([d1, d2], axis=0, ignore_index=True)\n",
    "result.shape"
   ]
  },
  {
   "cell_type": "code",
   "execution_count": 8,
   "metadata": {},
   "outputs": [
    {
     "data": {
      "text/plain": [
       "ACTION_TYPE\n",
       "TYPE 1    8304\n",
       "TYPE 3    1122\n",
       "TYPE 2      27\n",
       "Name: count, dtype: int64"
      ]
     },
     "execution_count": 8,
     "metadata": {},
     "output_type": "execute_result"
    }
   ],
   "source": [
    "result.ACTION_TYPE.value_counts()"
   ]
  },
  {
   "cell_type": "code",
   "execution_count": 9,
   "metadata": {},
   "outputs": [
    {
     "data": {
      "text/html": [
       "<div>\n",
       "<style scoped>\n",
       "    .dataframe tbody tr th:only-of-type {\n",
       "        vertical-align: middle;\n",
       "    }\n",
       "\n",
       "    .dataframe tbody tr th {\n",
       "        vertical-align: top;\n",
       "    }\n",
       "\n",
       "    .dataframe thead th {\n",
       "        text-align: right;\n",
       "    }\n",
       "</style>\n",
       "<table border=\"1\" class=\"dataframe\">\n",
       "  <thead>\n",
       "    <tr style=\"text-align: right;\">\n",
       "      <th></th>\n",
       "      <th>Customer_Id</th>\n",
       "      <th>ACTION_TYPE</th>\n",
       "    </tr>\n",
       "  </thead>\n",
       "  <tbody>\n",
       "  </tbody>\n",
       "</table>\n",
       "</div>"
      ],
      "text/plain": [
       "Empty DataFrame\n",
       "Columns: [Customer_Id, ACTION_TYPE]\n",
       "Index: []"
      ]
     },
     "execution_count": 9,
     "metadata": {},
     "output_type": "execute_result"
    }
   ],
   "source": [
    "result[result['Customer_Id'] == '2256481']"
   ]
  },
  {
   "cell_type": "code",
   "execution_count": 10,
   "metadata": {},
   "outputs": [
    {
     "name": "stdout",
     "output_type": "stream",
     "text": [
      "<class 'pandas.core.frame.DataFrame'>\n",
      "RangeIndex: 9453 entries, 0 to 9452\n",
      "Data columns (total 2 columns):\n",
      " #   Column       Non-Null Count  Dtype \n",
      "---  ------       --------------  ----- \n",
      " 0   Customer_Id  9453 non-null   int64 \n",
      " 1   ACTION_TYPE  9453 non-null   object\n",
      "dtypes: int64(1), object(1)\n",
      "memory usage: 147.8+ KB\n"
     ]
    }
   ],
   "source": [
    "result.info()"
   ]
  },
  {
   "cell_type": "code",
   "execution_count": 11,
   "metadata": {},
   "outputs": [
    {
     "name": "stdout",
     "output_type": "stream",
     "text": [
      "<class 'pandas.core.frame.DataFrame'>\n",
      "RangeIndex: 9453 entries, 0 to 9452\n",
      "Data columns (total 2 columns):\n",
      " #   Column       Non-Null Count  Dtype \n",
      "---  ------       --------------  ----- \n",
      " 0   Customer_Id  9453 non-null   object\n",
      " 1   ACTION_TYPE  9453 non-null   object\n",
      "dtypes: object(2)\n",
      "memory usage: 147.8+ KB\n"
     ]
    }
   ],
   "source": [
    "result['Customer_Id'] = result['Customer_Id'].astype(str)\n",
    "result.info()"
   ]
  },
  {
   "cell_type": "code",
   "execution_count": 12,
   "metadata": {},
   "outputs": [],
   "source": [
    "result.to_csv(\"temp.csv\", index = False)"
   ]
  },
  {
   "cell_type": "code",
   "execution_count": 13,
   "metadata": {},
   "outputs": [
    {
     "data": {
      "text/plain": [
       "('2421537', '2410303', '2435378', '2441535', '2413979')"
      ]
     },
     "execution_count": 13,
     "metadata": {},
     "output_type": "execute_result"
    }
   ],
   "source": [
    "a = tuple(result['Customer_Id'])\n",
    "a[:5]"
   ]
  },
  {
   "cell_type": "code",
   "execution_count": 14,
   "metadata": {},
   "outputs": [
    {
     "name": "stdout",
     "output_type": "stream",
     "text": [
      "D-1 day from current date 2024-06-18 00:00:00\n",
      "D-60 day from the current date - 1: 2024-03-27\n",
      "D-180 day from the current date -1: 2023-11-28\n",
      "D-1 day from the current date: 2024-06-18\n",
      "D-60 day from the current date: 2024-03-27\n",
      "D-180 day from the current date: 2023-11-28\n"
     ]
    }
   ],
   "source": [
    "d = '2024-04-23'   ### Need to change this to D-1 everytime we run this code ###\n",
    "# Get the current date\n",
    "current_date = pd.Timestamp.now().date()\n",
    "d_minus_1_days = current_date - pd.DateOffset(days=1)\n",
    "# Calculate D-60 days\n",
    "d_minus_60_days = '2024-03-27'\n",
    "# Calculate D-180 days\n",
    "d_minus_180_days = '2023-11-28'\n",
    "\n",
    "print(\"D-1 day from current date\", d_minus_1_days )\n",
    "print(\"D-60 day from the current date - 1:\", d_minus_60_days)\n",
    "print(\"D-180 day from the current date -1:\", d_minus_180_days)\n",
    "\n",
    "d_minus_1_days_string = d_minus_1_days.strftime('%Y-%m-%d')\n",
    "print(\"D-1 day from the current date:\", d_minus_1_days_string)\n",
    "\n",
    "d_minus_60_days_string = d_minus_60_days\n",
    "print(\"D-60 day from the current date:\", d_minus_60_days_string)\n",
    "\n",
    "d_minus_180_days_string = d_minus_180_days\n",
    "print(\"D-180 day from the current date:\", d_minus_180_days_string)"
   ]
  },
  {
   "cell_type": "markdown",
   "metadata": {},
   "source": [
    "The date should be D-1? If the date is not D-1 then ask Bala to refresh the table."
   ]
  },
  {
   "cell_type": "markdown",
   "metadata": {},
   "source": [
    "Step1: At line 11 change the date to D-1<br><br>\n",
    "Step2: At line around 36 (and (TSA_Opening_date < date '2023-10-18')   ####D-60 days(SHOULD BE SAME DATE FOR 1ST,2ND,3RD NOTIFICATION)) Change the date D-60 Days <br><br>\n",
    "Step3: At line around 45 (WHEN tsa_status = 'Active' and Last_TSA_EOD_Balance_Date is null and (TSA_Opening_date < date '2023-10-18')  ####D-60 days(SHOULD BE SAME DATE FOR 1ST,2ND,3RD NOTIFICATION)) Change the date D-60 Days <br><br>\n",
    "Step4: At line 58 (and TSA_Opening_date < date '2023-06-18'  and (Last_TSA_Credit_Date < date '2023-06-18' and Last_TSA_Debit_Date < date '2023-06-18' and coalesce(Last_Group_Stash_Credit_Date,date '1970-01-01') < date '2023-06-18')  ####D-180 days(SHOULD BE SAME DATE FOR 1ST,2ND,3RD NOTIFICATION)) <br><br>\n",
    "Step5: At line 72 (Run_Date = date '2024-01-09'###DATE change here to D-1) Change the date to D-1<br><br>"
   ]
  },
  {
   "cell_type": "markdown",
   "metadata": {},
   "source": [
    "First Notification we change all the steps <br><br>\n",
    "Second and Third Notification we only change Step1 and Step5\n",
    "For Second Notificaiton and Third Notificaiton the customre id should be from the file sent by Marvin. <br><br>"
   ]
  },
  {
   "cell_type": "code",
   "execution_count": 15,
   "metadata": {},
   "outputs": [
    {
     "data": {
      "text/plain": [
       "(9445, 29)"
      ]
     },
     "execution_count": 15,
     "metadata": {},
     "output_type": "execute_result"
    }
   ],
   "source": [
    "sq = f\"\"\"\n",
    "with\n",
    "w_kyc\n",
    "as\n",
    "(\n",
    "  select distinct PARTYID, SEGCATEGORYDESC, row_number() over(partition by partyid order by SEGEFFECTIVEFROM desc) as rnk from `core_raw.party_details`\n",
    "),\n",
    "w_tsa\n",
    "as\n",
    "(\n",
    "  select * from risk_credit_mis.tsa_account_closure where Run_Date = date '{d_minus_1_days_string}' ###DATE change here to D-1\n",
    "  and\n",
    "  Customer_Id not in (select cast(PARTYID as string) from w_kyc where rnk = 1 and SEGCATEGORYDESC = 'BKYC')\n",
    "  and\n",
    "  --customer_id in (select cast(customer_id as string) from prj-prod-dataplatform.dap_ds_poweruser_playground.tsa_2nd_notification_base_10jan2024)\n",
    "  customer_id in {a}\n",
    ")\n",
    "select * from w_tsa;\n",
    "\"\"\"\n",
    "\n",
    "dfd = client.query(sq).to_dataframe()\n",
    "dfd.shape"
   ]
  },
  {
   "cell_type": "code",
   "execution_count": 16,
   "metadata": {},
   "outputs": [],
   "source": [
    "sq = f\"\"\"\n",
    "with\n",
    "w_kyc\n",
    "as\n",
    "(\n",
    "  select distinct PARTYID, SEGCATEGORYDESC, row_number() over(partition by partyid order by SEGEFFECTIVEFROM desc) as rnk from `core_raw.party_details`\n",
    "),\n",
    "w_tsa\n",
    "as\n",
    "(\n",
    "  select * from risk_credit_mis.tsa_account_closure where Run_Date = date '{d_minus_1_days_string}'  ###DATE change here to D-1\n",
    "  and\n",
    "  Customer_Id not in (select cast(PARTYID as string) from w_kyc where rnk = 1 and SEGCATEGORYDESC = 'BKYC')\n",
    "  and\n",
    "  --customer_id in (select cast(customer_id as string) from prj-prod-dataplatform.dap_ds_poweruser_playground.tsa_2nd_notification_base_10jan2024)\n",
    "  customer_id in {a}\n",
    "),\n",
    "w_approved\n",
    "as\n",
    "(\n",
    "  select DISTINCT customerId from risk_credit_mis.loan_master_table where loantype = 'BIGLOAN' OR FLAGAPPROVAL = 1 OR FLAGDISBURSEMENT = 1  \n",
    "  or (stage1Status = 'EXPIRED' AND cddInitiatedDateAndTime IS NULL)\n",
    ")\n",
    "select *\n",
    "from\n",
    "(\n",
    "  select distinct\n",
    "  a.Customer_Id,a.TSA_Opening_date,\n",
    "  c.OFSTANDARDACCOUNTID as TSA_Account_Number, c.OfblockAmount, \n",
    "  a.TSA_Status,a.TSA_Balance,a.Solo_Stash_Balance,a.Group_Stash_Balance,a.Term_Deposit_Balance,a.Active_Term_Deposit_flag,a.Last_TSA_Credit_Date,a.Last_TSA_Debit_Date,\n",
    "  a.ARI_Flag,a.Active_Loan,a.Total_Loan_Outstanding,  case when b.customerId is not null then 1 else 0 end as Approved_Loans,\n",
    "  a.Pending_Loan_Applications,a.Hard_Reject_Loans_App,a.Soft_Reject_Loans_App,a.Cancelled_Loans_App, extract(date from a.Last_Login_Date) as Last_Login_Date,\n",
    "  a.Last_TSA_EOD_Balance_Date,a.Last_Group_Stash_Credit_Date,a.Group_Stash_Balance_Owner,a.Run_Date,a.Batch,a.Processing_Month,a.pending_loans_not_expired_not_exempt,a.expired_loans,\n",
    "  a.pending_loans_lastDt,a.expired_loans_lastDt,\n",
    "  CASE \n",
    "    WHEN tsa_status = 'Active' and (Last_TSA_Credit_Date = date '1970-01-01' and Last_Group_Stash_Credit_Date is null)\n",
    "    and (TSA_Opening_date < date '{d_minus_60_days_string}')   ####D-60 days(SHOULD BE SAME DATE FOR 1ST,2ND,3RD NOTIFICATION)\n",
    "    and ( round(coalesce(TSA_Balance,0) + coalesce(Solo_Stash_Balance,0) + coalesce(Group_Stash_Balance,0) + coalesce(Term_Deposit_Balance,0),2) = 0 )\n",
    "    and (Active_Loan = 0) and (COALESCE(Pending_Loan_Applications,0) = 0)\n",
    "    and (Active_Term_Deposit_flag = 0)\n",
    "    and (ARI_Flag = 'N')\n",
    "    --and (Approved_Loans = 0)  THEN 'TYPE 1'\n",
    "    and b.customerId is null  THEN 'TYPE 1'\n",
    "\n",
    "\n",
    "    WHEN tsa_status = 'Active' and Last_TSA_EOD_Balance_Date is null and (TSA_Opening_date < date '{d_minus_60_days_string}')  ####D-60 days(SHOULD BE SAME DATE FOR 1ST,2ND,3RD NOTIFICATION)\n",
    "    and ( round(coalesce(TSA_Balance,0) + coalesce(Solo_Stash_Balance,0) + coalesce(Group_Stash_Balance,0) + coalesce(Term_Deposit_Balance,0),2) = 0 )\n",
    "    and (Active_Loan = 0) and (COALESCE(Pending_Loan_Applications,0) = 0)\n",
    "    and (Active_Term_Deposit_flag = 0)\n",
    "    and (ARI_Flag = 'N')\n",
    "    --and (Approved_Loans = 0)\n",
    "    and b.customerId is null  \n",
    "    and (date_trunc(TSA_Opening_date,day) = date_trunc(Last_Login_Date,day)) THEN 'TYPE 2'\n",
    "\n",
    "    \n",
    "    WHEN ( round(coalesce(TSA_Balance,0) + coalesce(Solo_Stash_Balance,0) + coalesce(Group_Stash_Balance,0) + coalesce(Term_Deposit_Balance,0),2) < 1 )\n",
    "            and (Active_Loan = 0) and (COALESCE(Pending_Loan_Applications,0) = 0)\n",
    "            and (Active_Term_Deposit_flag = 0)\n",
    "            and TSA_Opening_date < date '{d_minus_180_days_string}'                                     ####D-180 days(SHOULD BE SAME DATE FOR 1ST,2ND,3RD NOTIFICATION)\n",
    "            and (Last_TSA_Credit_Date < date '{d_minus_180_days_string}'                                 ####D-180 days(SHOULD BE SAME DATE FOR 1ST,2ND,3RD NOTIFICATION)\n",
    "            and Last_TSA_Debit_Date < date '{d_minus_180_days_string}'                                         ####D-180 days(SHOULD BE SAME DATE FOR 1ST,2ND,3RD NOTIFICATION)\n",
    "            and coalesce(Last_Group_Stash_Credit_Date,date '1970-01-01') < date '{d_minus_180_days_string}' )  ####D-180 days(SHOULD BE SAME DATE FOR 1ST,2ND,3RD NOTIFICATION)\n",
    "            and tsa_status = 'Active'\n",
    "            and (ARI_Flag = 'N')\n",
    "    --and (Approved_Loans = 0)\n",
    "            and b.customerId is null  \n",
    "    THEN 'TYPE 3'\n",
    "    ELSE 'NO ACTION'\n",
    "    END AS ACTION_TYPE\n",
    "  from w_tsa A\n",
    "  left join w_approved b\n",
    "  on cast(a.Customer_Id as int64) = b.customerId\n",
    "  left join core_raw.customer_accounts c\n",
    "  on c.OFCUSTOMERID = a.Customer_Id and c.CRINTERDESC = 'Transactional Savings Account Inv_R' and c.OFISCLOSED = 'N'\n",
    "  where\n",
    "  Run_Date = date '{d_minus_1_days_string}'  ###DATE change here to D-1\n",
    ")\n",
    "\"\"\"\n"
   ]
  },
  {
   "cell_type": "code",
   "execution_count": 17,
   "metadata": {},
   "outputs": [
    {
     "name": "stdout",
     "output_type": "stream",
     "text": [
      "\n",
      "with\n",
      "w_kyc\n",
      "as\n",
      "(\n",
      "  select distinct PARTYID, SEGCATEGORYDESC, row_number() over(partition by partyid order by SEGEFFECTIVEFROM desc) as rnk from `core_raw.party_details`\n",
      "),\n",
      "w_tsa\n",
      "as\n",
      "(\n",
      "  select * from risk_credit_mis.tsa_account_closure where Run_Date = date '2024-06-18'  ###DATE change here to D-1\n",
      "  and\n",
      "  Customer_Id not in (select cast(PARTYID as string) from w_kyc where rnk = 1 and SEGCATEGORYDESC = 'BKYC')\n",
      "  and\n",
      "  --customer_id in (select cast(customer_id as string) from prj-prod-dataplatform.dap_ds_poweruser_playground.tsa_2nd_notification_base_10jan2024)\n",
      "  customer_id in ('2421537', '2410303', '2435378', '2441535', '2413979', '2387124', '2285488', '2430530', '2433744', '2427781', '2420913', '2423475', '2418176', '2436126', '2424945', '2431247', '2436791', '2428956', '2419886', '2441219', '2414588', '2426864', '2371940', '2356900', '2436143', '2435827', '2425334', '2441462', '2414421', '2433463', '2428449', '2408787', '2423594', '2419819', '2418472', '2411332', '2411885', '2241930', '2409649', '2424361', '2419027', '2411996', '2411529', '2418622', '2419647', '2409309', '2419082', '2441132', '2425415', '2440087', '2416206', '2433603', '2440903', '2436083', '2402606', '2426243', '2437284', '2414502', '2423816', '2421492', '2438928', '2414313', '2431055', '2430307', '2421502', '2412017', '2386860', '2433342', '2415110', '2429180', '2428114', '2415580', '2433118', '2420379', '2433249', '2416241', '2419361', '2410948', '2431282', '2433712', '2411327', '2391342', '2414128', '2440981', '2400687', '2348212', '2400974', '2401589', '2424935', '2410733', '2439634', '2416190', '2433486', '2441925', '2406349', '2419872', '2410079', '2437943', '2430278', '2437850', '2339119', '2419326', '2438473', '2415428', '2430208', '2435032', '2430711', '2418396', '2413631', '2435427', '2419704', '2412379', '2238331', '2421269', '2417088', '2426402', '2431870', '2415697', '2433264', '2422900', '2415591', '2409809', '2416808', '2420813', '2423136', '2415236', '2422069', '2426795', '2411578', '2413908', '2439506', '2418478', '2409946', '2441374', '2304581', '2421239', '2429158', '2408820', '2432948', '2423810', '2423859', '2426637', '2350448', '2431960', '2421580', '2424696', '2417305', '2441931', '2424062', '2438602', '2434090', '2439024', '2329889', '2423276', '2436861', '2428678', '2282698', '2417980', '2430079', '2421386', '2432698', '2436208', '2432068', '2414052', '2424278', '2413110', '2375950', '2430117', '2420380', '2425342', '2223660', '2426622', '2420356', '2418998', '2417769', '2441887', '2422347', '2436970', '2416986', '2415617', '2438809', '2433851', '2436245', '2424769', '2435131', '2408781', '2411136', '2425988', '2440533', '2432209', '2414198', '2413495', '2438995', '2405271', '2432214', '2408988', '2409461', '2419894', '2409280', '2302105', '2432672', '2415742', '2431803', '2410645', '2430967', '2419925', '2426483', '2430994', '2416904', '2426562', '2416017', '2427338', '2425418', '2432889', '2413983', '2439999', '2419129', '2427563', '2408868', '2414585', '2434877', '2425598', '2413624', '2412786', '2419448', '2435751', '2433086', '2437604', '2424227', '2261555', '1901801', '1107828', '1532401', '2111655', '1081199', '2420080', '2420533', '2408947', '2406543', '2418676', '2428801', '2421499', '2414945', '2420479', '2428645', '2410548', '2421260', '2272826', '2408907', '2432419', '2421574', '2423832', '2419059', '2426743', '2431548', '2422678', '2423715', '2408814', '2429479', '2365453', '2412359', '2430522', '2409237', '2437418', '2431316', '2416676', '2420459', '2434621', '2437693', '2418125', '2424144', '2415574', '2439868', '2417634', '2430232', '2425923', '2440003', '2435903', '2429886', '2430726', '2416962', '2435704', '2421091', '2409437', '2431385', '2418328', '2430837', '2423414', '2432767', '2427699', '2423449', '2373969', '2275388', '2428258', '2413357', '2428744', '2415495', '2430182', '2429518', '2422299', '2339771', '2418211', '2429797', '2426126', '2435702', '2436636', '2417685', '2423431', '2415957', '2436156', '2432839', '2439534', '2432938', '2417755', '2404447', '2421908', '2417625', '2427091', '2425620', '2428383', '2409338', '2349327', '2411601', '2394216', '2410785', '2391734', '2406827', '2425393', '2397229', '2436194', '2430956', '2423558', '2431776', '2415621', '2437181', '2428403', '2424506', '2430707', '2432459', '2431738', '2427410', '2429563', '2308820', '2417050', '2420065', '2438472', '2424084', '2427839', '2437195', '2416319', '2413649', '2421349', '2411549', '2425369', '2357782', '2413633', '2424612', '2421652', '2431994', '2441697', '2431447', '2430060', '2437949', '2412944', '2185206', '2419035', '2422945', '2420921', '2416166', '2432305', '2436708', '2424553', '2414248', '2243267', '2438873', '2438262', '2418241', '2427581', '2430712', '2277091', '2429925', '2416711', '2394095', '2380869', '1884476', '2426608', '2426387', '2437081', '2441907', '2415431', '2420211', '2360459', '2441908', '2426931', '2423328', '2419324', '2409485', '2429273', '2415766', '2412723', '2412799', '2408473', '2422501', '2440288', '2421755', '2416287', '2418098', '2420956', '2433841', '2424534', '2412524', '2414982', '2427482', '2432945', '2417505', '2328484', '2420865', '2438649', '2438413', '2412072', '2432145', '2436517', '2419920', '2418300', '2433038', '2431221', '2420387', '2436190', '2436926', '2421927', '2408965', '2415717', '2412356', '2408602', '2412198', '2439621', '2412202', '2436114', '1300488', '1309947', '1048227', '1546503', '1573914', '1594020', '1606165', '2113219', '1639932', '2423487', '2412656', '2412938', '2425930', '2440571', '2430033', '2440886', '2403740', '2435269', '2370569', '2416265', '2438917', '2428818', '2427455', '2417468', '2416779', '2422363', '2413736', '2423439', '2424210', '2410361', '2440265', '2394106', '2424667', '2413444', '2440145', '2416718', '2430544', '2413023', '2421639', '2414242', '2429662', '2409040', '2422198', '2427633', '2427540', '2418657', '2390966', '2311237', '2428331', '2434469', '2410366', '2426787', '2415368', '2410046', '2411398', '2257030', '2420784', '2411888', '2435875', '2413312', '2429754', '2428471', '2356557', '2429702', '2425423', '2426032', '2426810', '2411711', '2433897', '2421406', '2426024', '2435645', '2438706', '2430475', '2433270', '2417408', '2411706', '2426817', '2420281', '2409906', '2409927', '2439865', '2409370', '2440402', '2416110', '2427204', '2411098', '2440389', '2422747', '2421973', '2440002', '2415706', '2387365', '2408523', '2410312', '2411932', '2410589', '2414122', '2438189', '2422807', '2319794', '2433141', '2376103', '2413104', '2408963', '2417434', '2417843', '2435431', '2419166', '2437186', '2422889', '2425437', '2412259', '2434473', '2422217', '2424151', '2414148', '2419149', '2408691', '2430249', '2408676', '2386516', '2410071', '2421459', '2405534', '2422453', '2322115', '2436507', '2416913', '2435624', '2415597', '2417113', '2427916', '2435900', '2416518', '2417666', '2432372', '2424807', '2419552', '2414960', '2409585', '2438981', '2431328', '2441989', '2426697', '2424832', '2419591', '2440711', '2414222', '2416193', '2433756', '2438535', '2435865', '2424232', '2418878', '2428682', '2432125', '2437461', '2441050', '2428464', '2410524', '2410086', '2422172', '2434578', '2434160', '2418862', '2438395', '2433422', '2416073', '2424159', '2433914', '2434040', '2343255', '2423971', '2427683', '2435629', '2418235', '2416177', '2437704', '2411441', '2421233', '2415492', '2424224', '2292992', '2417444', '2414500', '2421922', '2413429', '2402225', '2421718', '2422088', '2202022', '2421938', '2431605', '2411203', '2434149', '2417616', '2423601', '2420412', '2434696', '2368921', '2436064', '2439370', '2422272', '2437276', '2411518', '2416152', '2433170', '2430768', '2385942', '2412528', '2436462', '2358796', '2428581', '2436652', '2418459', '2418949', '2438492', '2414481', '2441284', '2427291', '2427332', '2421900', '2409320', '2410408', '2413301', '2430961', '2441318', '2410965', '2438814', '2429583', '2427622', '1891253', '2086787', '1126536', '2427228', '2419745', '2409155', '2400368', '2439110', '2424568', '2420971', '2441810', '2436903', '2430073', '2409828', '2411778', '2422827', '2426830', '2414959', '2408690', '2423433', '2433911', '2409929', '2440336', '2415712', '2416005', '2411793', '2425105', '2433067', '2421156', '2425130', '2421370', '2421046', '2410106', '2425637', '2435085', '2426381', '2410481', '2422310', '2434385', '2421519', '2437380', '2421850', '2431560', '2420304', '2408976', '2430767', '2421310', '2433501', '2413461', '2441125', '2418453', '2410212', '2422810', '2420402', '2399392', '2421250', '2419023', '2422766', '2310257', '2428875', '2420096', '2289909', '2423894', '2441346', '2426733', '2424294', '2440986', '2413804', '2425749', '2413045', '2421344', '2430115', '2409526', '2431479', '2432469', '2316229', '2423603', '2441224', '2425797', '2421826', '2425101', '2412470', '2431653', '2355850', '2437156', '2427617', '2414370', '2416976', '2430053', '2430433', '2409319', '2432246', '2425966', '2433357', '2430667', '2433651', '2409396', '2440964', '2413669', '2436430', '2408875', '2423809', '2414139', '2435024', '2436185', '2421274', '2413610', '2430311', '2414262', '2428168', '1017278', '2398639', '2415680', '2400803', '2437262', '2120703', '2436041', '2414579', '2436948', '2423947', '2431246', '2425864', '2429600', '2414878', '2429072', '2412609', '2441084', '2408804', '2417499', '2436281', '2411923', '2415787', '2426843', '2360844', '2416004', '2412992', '2437336', '2426184', '2438746', '2417937', '2414484', '2423496', '2427473', '2418481', '2419904', '2432106', '2176955', '2425077', '2431782', '2409450', '2436131', '2437645', '2421509', '2429136', '2432263', '2414288', '2430639', '2426513', '2413654', '2432877', '2424573', '2426636', '2421592', '2438821', '2429581', '2441511', '2436445', '2429509', '2211391', '2421490', '2427672', '2436955', '2438980', '2413516', '2422758', '2432478', '2424066', '2414675', '2422143', '2420658', '2419091', '2419458', '2399918', '2432443', '2435156', '2423936', '2415410', '2430684', '2439244', '2414533', '2431434', '2413133', '2377409', '2412148', '2411560', '2430505', '2428247', '2422336', '2416473', '2421715', '2435870', '2428373', '2441909', '2409537', '2413766', '2437953', '2427890', '1848364', '2248589', '2409819', '1315137', '1627243', '1506583', '1264087', '2427726', '2434748', '2422513', '2417704', '2436099', '2436134', '2434738', '2437833', '2420543', '2437775', '2434045', '2423168', '2414647', '2440653', '2422237', '2393892', '2412994', '2425409', '2426999', '2409409', '2410384', '2408464', '2432630', '2429991', '2431805', '2428839', '2428017', '2412664', '2438109', '2415903', '2420716', '2423272', '2420923', '2276881', '2404652', '2424285', '2431614', '2369190', '2433211', '2441491', '2370176', '2295641', '2434057', '2430614', '2406707', '2436180', '2424793', '2423030', '2422022', '2436685', '2412206', '2410435', '2408901', '2439982', '2410559', '2424632', '2429699', '2430049', '2415209', '2434139', '2404421', '2406499', '2420321', '2411001', '2413819', '2423078', '2418364', '2410615', '2413124', '2424547', '2288295', '2423930', '2408672', '2411591', '2427594', '2425032', '2428333', '2417621', '2424967', '2427732', '2413395', '2433859', '2433106', '2422949', '2425886', '2420092', '2417397', '2415372', '2432233', '2413047', '2344751', '2426744', '2430834', '2440348', '2421251', '2414964', '2244641', '2422083', '2421625', '2425507', '2414817', '2426693', '2433058', '2418219', '2431702', '2435077', '2413710', '2428459', '2428689', '2423116', '2430930', '2434915', '2437432', '2419343', '2408431', '2404573', '2421638', '2439948', '2427963', '2410338', '2433916', '2420364', '2426428', '2425358', '2409657', '2414397', '2437290', '2411665', '2414401', '2212569', '2434858', '2409435', '2433829', '2418666', '2408756', '2419162', '2393342', '2441888', '2418420', '2297908', '2416687', '2419615', '2438195', '2414868', '2412551', '2410569', '2423974', '2400981', '2427568', '2438960', '2423620', '2433090', '2413186', '2423353', '2429675', '2429299', '2435385', '2415550', '2419814', '2435022', '2434112', '2423352', '2425848', '2411082', '2433969', '2440452', '2425788', '2428641', '2420537', '2421624', '2427753', '2436582', '2429732', '2422212', '2420091', '2435255', '2421930', '2424562', '2429603', '2420084', '2430576', '2426263', '2350431', '2425944', '2431928', '2412306', '2411662', '2440307', '2410006', '2421383', '2434449', '2385058', '2440966', '2431611', '2431975', '2437818', '2420503', '2424265', '2413722', '2426855', '2427528', '2414454', '2406482', '2432878', '2428486', '2433918', '2416328', '2412871', '2441833', '2411679', '2415884', '2429002', '2418757', '2440851', '2209078', '1909017', '2409707', '1957395', '2426794', '2421248', '2436385', '2438360', '2358453', '2438739', '2424157', '2365596', '2432817', '2304875', '2418371', '2394987', '2427478', '2420552', '2426434', '2423495', '2434770', '2398693', '2397615', '2416757', '2313978', '2437724', '2435215', '2423472', '2431806', '2427515', '2416911', '2437665', '2409207', '1182070', '2438321', '2411233', '2433813', '2430763', '2427511', '2426510', '2416104', '2429499', '2429601', '2440005', '2409248', '2427530', '2421926', '2420679', '2437524', '2352826', '2416426', '2298316', '2414432', '2441154', '2425623', '2420569', '2423779', '2434097', '2415613', '2441904', '2440190', '2421678', '2425123', '2413660', '2428726', '2408452', '2440151', '2412924', '2438924', '2438774', '2416831', '2420796', '2423777', '2436751', '2409475', '2439282', '2414263', '2441584', '2434181', '2420864', '2411101', '2409258', '2430771', '2431729', '2408496', '2347086', '2419381', '2434787', '2431366', '2419715', '2427176', '2428688', '2394698', '2415822', '2424007', '2416192', '2436973', '2404795', '2415199', '2435369', '2425896', '2420361', '2410808', '2440882', '2410369', '2417821', '2419629', '2421168', '2436974', '2315405', '2426540', '2407974', '2427096', '2430747', '2411083', '2428809', '2439261', '2377869', '2421018', '2429564', '2428005', '2326037', '2416614', '2408913', '2417128', '2412575', '2414935', '2417304', '2416338', '2430500', '2409763', '2431292', '2415507', '2418531', '2214807', '2433167', '2437099', '2419666', '2395317', '2416115', '2405721', '2429014', '2414573', '2414144', '2409233', '2431099', '2412989', '2402828', '2413639', '2440641', '2424488', '2412809', '2430264', '2412949', '2417667', '2435839', '2422741', '2423543', '2434818', '2426440', '2419240', '2411565', '2429963', '2441826', '2411817', '2423381', '2148174', '2439106', '2436753', '2433569', '2413190', '2437885', '2441236', '2416930', '2428169', '2420834', '2433383', '2421199', '2389955', '2425243', '2426371', '2437439', '2432528', '2440215', '2411121', '2425273', '2410695', '2410542', '2420830', '2428714', '2426829', '2413779', '2409845', '2429474', '2437488', '2431861', '2421653', '2430525', '2418447', '2423292', '2421208', '2431833', '1991718', '2051506', '1290364', '1241201', '2429996', '2415843', '2424685', '2427571', '2432815', '2436687', '2414567', '2409760', '2414189', '2436580', '2416560', '2427697', '2410514', '2421142', '2435975', '2430301', '2415012', '2436483', '2399499', '2422565', '2428874', '2424763', '2440531', '2409117', '2430194', '2412595', '2429468', '2410876', '2411692', '2441019', '1567597', '2418844', '2425587', '2416255', '2411448', '2416841', '2409662', '2429806', '2410178', '2437241', '2440822', '2408201', '2410020', '2430823', '2440203', '2412147', '2403571', '2416440', '2308288', '2436968', '2433945', '2409616', '2431815', '2412455', '2414107', '2343421', '2431616', '2414887', '2414698', '2426404', '2436296', '2427615', '2428718', '2408345', '2440609', '2433313', '2397066', '2141117', '2420767', '2421326', '2424660', '2409392', '2416551', '2418389', '2415802', '2409645', '2432389', '2409691', '2417764', '2412790', '2388277', '2408544', '2413292', '2438860', '2420160', '2420919', '2438460', '2437069', '2439759', '2408800', '2432287', '2410092', '2414894', '2422055', '2406576', '2413869', '2417032', '2413062', '2398130', '2428176', '2424018', '2425891', '2425891', '2430113', '2412561', '2410207', '2414483', '2423446', '2417824', '2135646', '2271433', '2433894', '2422799', '2421885', '2240732', '2431268', '2328942', '2436923', '2436378', '2436008', '2433716', '2441357', '2439977', '2415300', '2409639', '2410306', '2439891', '2437444', '2408796', '2424466', '2438634', '2358079', '2441367', '2419567', '2404834', '2413205', '2424388', '2426894', '2437476', '2354317', '2433378', '2167565', '2412660', '2412077', '2428514', '2408281', '2417008', '2420320', '2430686', '2425707', '2423946', '2434802', '2412535', '2108502', '2434197', '2435484', '2399089', '2424200', '2432871', '2434067', '2419979', '2411993', '2438612', '2438250', '2321699', '2396629', '2354299', '2403124', '2417360', '2423408', '2411799', '2415393', '2381106', '2418487', '2432051', '2413496', '2412733', '2427188', '2428776', '2348360', '2434769', '2411697', '2414856', '2415103', '2422286', '2417465', '2323574', '2421147', '2411395', '2419940', '2405083', '2414099', '2413716', '2419874', '2418793', '2435015', '2413925', '2433521', '2427682', '2430528', '2431921', '2412560', '2422047', '2410005', '2415141', '2408540', '2435896', '2422182', '2416464', '2409611', '2436181', '2417848', '2418390', '2414088', '2434309', '2410680', '2417081', '2432801', '2437643', '2436177', '2271091', '2432462', '2412342', '2432056', '2438748', '2136579', '1407390', '1634064', '2146947', '2416712', '2440853', '2408373', '2417285', '2368897', '2338768', '2427912', '2440068', '2414475', '2413762', '2432147', '2145090', '2413105', '2415339', '2426905', '2441352', '2416094', '2434130', '2430703', '2422303', '2435463', '2433846', '2439527', '2424735', '2415384', '2412867', '2440727', '2436057', '2432940', '2418737', '2437013', '2432151', '2428425', '2393624', '2415581', '2430206', '2411926', '2412727', '2441114', '2414598', '2434037', '2429173', '2427021', '2410177', '2410017', '2420621', '2436427', '2422617', '2433043', '2412275', '2410648', '2440422', '2425756', '2425403', '2438796', '2411014', '2417642', '2437128', '2178672', '2435160', '2415292', '2431435', '2411514', '2225323', '2434030', '2191743', '2436312', '2417803', '2233232', '2432339', '2429529', '2417267', '2437314', '2441258', '2419254', '2426309', '2426396', '2418452', '2418222', '2412216', '2427312', '2433464', '2440760', '2429477', '2434957', '2418517', '2413402', '2373775', '2431081', '2411999', '2412065', '2409143', '2419929', '2419214', '2419058', '2417771', '2427194', '2438555', '2417374', '2387538', '2425226', '2424129', '2420656', '2438096', '2420902', '2438730', '2422836', '2413231', '2410148', '2265790', '2410492', '2438595', '2423286', '2427042', '2411229', '2436724', '2435023', '2412619', '2346857', '2356614', '2428668', '2436350', '2413456', '2413187', '2423277', '2431647', '2427452', '2419609', '2381299', '2429270', '2417481', '2436906', '2438975', '2385134', '2429950', '2420344', '2441037', '2428565', '2420523', '2414485', '2434767', '2381711', '2417759', '2415655', '2434855', '2422149', '2413543', '2389061', '2414006', '2413604', '2404647', '2430741', '2436779', '2436559', '2192347', '2429604', '2414445', '1710441', '2427070', '2432592', '2398198', '2422375', '2426260', '2428673', '2426068', '2240193', '2418087', '2408664', '2365241', '2437381', '2409566', '2409046', '2427539', '2411179', '2397146', '2430541', '2422438', '2415070', '2422302', '2421431', '2412828', '2316790', '2435823', '2413781', '2409799', '2424869', '2421221', '2432962', '2433582', '2417761', '2440274', '2437289', '2415256', '2437285', '2018568', '1305220', '1105547', '2120245', '2426073', '2419006', '2415633', '2423387', '2414900', '2428412', '2410434', '2358283', '2406489', '2417701', '2424283', '2412697', '2412968', '2440783', '2428551', '2310892', '2417509', '2421468', '2413592', '2410010', '2411099', '2426586', '2414560', '2432631', '2427717', '2430646', '2434229', '2424657', '2408604', '2437452', '2435026', '2415900', '2398129', '2420975', '2409241', '2431887', '2434116', '2434470', '2430070', '2440572', '2416263', '2410039', '2423575', '2418270', '2420205', '2134746', '2433761', '2343043', '2418850', '2426738', '2419981', '2379781', '2409491', '2435520', '2435283', '2293674', '2420710', '2416365', '2408215', '2420522', '2435239', '2441500', '2410496', '2419628', '2422147', '2440578', '2434964', '2438906', '2420958', '2415979', '2398454', '2419117', '2436486', '2412805', '2412155', '2438898', '2435219', '2388077', '2433878', '2413363', '2227351', '2426241', '2418807', '2435210', '2440970', '2415188', '2431200', '2421435', '2419892', '2437921', '2418471', '2423705', '2427177', '2420889', '2439639', '2419618', '2261067', '2410275', '2420527', '2426595', '2410298', '2440341', '2425596', '2435245', '2411909', '2430546', '2414363', '2436474', '2421451', '2426041', '2420611', '2425914', '2431476', '2414613', '2424831', '2426969', '2411862', '2410646', '2437582', '2414439', '2416353', '2429060', '2429594', '2415464', '2421629', '2411965', '2425330', '2190382', '2422391', '2417961', '2409542', '2409820', '2414574', '2436987', '2418344', '2432888', '2428016', '2416495', '2409065', '2439795', '2438076', '2362066', '2425179', '2438408', '2413320', '2431108', '2412895', '2411501', '2428697', '2439780', '2410427', '2419611', '2441703', '2424205', '2240867', '2410458', '2414649', '2419476', '2424234', '2428501', '2440486', '2435897', '2405411', '2425990', '2433631', '2430138', '2243498', '2429225', '2441057', '2438059', '2242782', '2319157', '2147113', '2413204', '2430710', '2408854', '2426081', '2431254', '2426746', '2411988', '2422753', '2425376', '2437577', '2365993', '2409768', '2378288', '2424249', '2438670', '2434421', '2425856', '2413492', '2358043', '2424351', '2440841', '2420411', '2419577', '2416466', '2391582', '2434015', '2427145', '2438672', '2422952', '2421787', '2438680', '2425651', '2413734', '2414147', '2423419', '2436469', '2414482', '2423754', '2418999', '2427995', '2420100', '2427565', '2425570', '2424459', '2428774', '2441935', '2431669', '2425957', '2415306', '2437659', '2441283', '2438770', '2436068', '2424930', '2307667', '1993659', '2068342', '1306624', '2431814', '2421255', '2413443', '2425202', '2420665', '2413674', '2419114', '2424966', '2409467', '2317326', '2317326', '2441616', '2440778', '2409050', '2430515', '2419990', '2441828', '2411597', '2424050', '2416087', '2426012', '2439438', '2416769', '2416501', '2417297', '2429229', '2423338', '2407542', '2418097', '2413038', '2435092', '2433215', '2416326', '2432470', '2441920', '2420171', '2421201', '2414266', '2428563', '2412653', '2411380', '2425676', '2415148', '2423342', '2423435', '2437154', '2420339', '2422932', '2386182', '2418800', '2426174', '2320716', '2428465', '2436979', '2357998', '2425479', '2435904', '2413589', '2417120', '2436709', '2424539', '2409750', '2433591', '2426508', '2418689', '2430001', '2432456', '2429551', '2413226', '2411482', '2409277', '2408935', '2422422', '2414729', '2410899', '2409295', '2440316', '2415791', '2217123', '2419875', '2433109', '2423787', '2414383', '2418787', '2433089', '2420287', '2427791', '2411985', '2365267', '2426079', '2429995', '2438855', '2427205', '2420935', '2422346', '2418810', '2337402', '2417202', '2440777', '2417146', '2429507', '2430488', '2414963', '2401369', '2427674', '2413902', '2435302', '2439165', '2425552', '2417620', '2421876', '2407908', '2409334', '2409349', '2426890', '2416538', '2411980', '2416023', '2433833', '2435916', '2429824', '2430611', '2437867', '2322477', '2429065', '2382233', '2431057', '2410744', '2433885', '2422383', '2419455', '2424273', '2409762', '2422779', '2429068', '2403963', '2430825', '2430165', '2410810', '2413318', '2400636', '2423583', '2422736', '2412629', '2315891', '2409401', '2438817', '2430613', '2434443', '2415474', '2431682', '2418343', '2434345', '2417227', '2431630', '2420718', '2297287', '2433568', '2412514', '2441753', '2427318', '2419037', '2417483', '2416489', '2427029', '2422539', '2431442', '2428401', '2409737', '1806434', '2421084', '2417288', '2422406', '2421019', '2411768', '2421138', '2422329', '2417325', '2416162', '2436343', '2431840', '2416855', '2305722', '2413430', '2434593', '2440844', '2438899', '2438635', '2416483', '2424872', '2439710', '2426826', '2422791', '2430980', '2411690', '2319113', '2417108', '2426175', '2426389', '2414825', '2435209', '2417048', '2414690', '2415314', '2430626', '2413889', '2419478', '2409482', '2440951', '2438376', '2424917', '2338839', '2425556', '2437922', '2410173', '2219005', '1520537', '2174003', '2419426', '2438916', '2394992', '2421095', '2429859', '2416234', '2425475', '2422354', '2415864', '2437272', '2408504', '2424102', '2412751', '2344037', '2436510', '2417334', '2427382', '2423237', '2416545', '2415542', '2439538', '2439652', '2435656', '2387988', '2420663', '2410499', '2404024', '2423840', '2437705', '2393268', '2438226', '2441600', '2439198', '2194933', '2410544', '2428898', '2423959', '2418821', '2433748', '2418898', '2420409', '2430655', '2415226', '2405445', '2414551', '2414467', '2436874', '2426392', '2418697', '2298990', '2425888', '2410134', '2418682', '2423134', '2439111', '2422415', '2414169', '2414860', '2416139', '2418103', '2437067', '2413408', '2425096', '2412570', '2408546', '2425799', '2431129', '2407443', '2257216', '2432728', '2418852', '2422373', '2416820', '2417422', '2434607', '1476391', '2415225', '2403197', '2419369', '2415434', '2432085', '2269659', '2425120', '2417508', '2409078', '2425496', '2414669', '2431726', '2419302', '2420546', '2434146', '2440449', '2434890', '2432292', '2413111', '2410187', '2415960', '2415754', '2435946', '2423164', '2439338', '2361463', '2417918', '2348304', '2430482', '2416862', '2415432', '2430582', '2409197', '2415677', '2418694', '2423710', '2434076', '2420926', '2388209', '2416671', '2435346', '2412162', '2424684', '2429349', '2427314', '2416604', '2413600', '2413580', '2413658', '2423262', '2419549', '2422878', '2424892', '2437073', '2433513', '2128254', '2409079', '2428398', '2436286', '2427939', '2410913', '2418662', '2161206', '2432023', '2430181', '2411446', '2438713', '2434820', '2431807', '2432711', '2432689', '2418743', '2438023', '2379830', '2426091', '2438352', '2412191', '2334963', '2425058', '2434528', '2414528', '2423028', '2435982', '2418303', '2413564', '2408929', '2433875', '2412215', '2431644', '2380880', '2426854', '2423670', '2428437', '2419521', '2430059', '2372357', '2434532', '2419421', '2409074', '2429667', '2432864', '2409132', '2409613', '2412567', '2399800', '2383235', '2409358', '2439806', '2422801', '2420256', '2417556', '2435847', '2418643', '2407171', '2412760', '2419001', '2423225', '2415278', '2413912', '2416846', '2417318', '2423507', '2419150', '2292031', '2425223', '2425424', '2210493', '2433158', '2426104', '2431772', '2411020', '2223696', '2434854', '2386377', '2440796', '2393313', '2420203', '2418744', '2431794', '1464273', '2427345', '1490108', '1645637', '1785619', '1590906', '2437548', '2427449', '2438920', '2426512', '2422566', '2418320', '2413130', '2398773', '2437950', '2430598', '2422523', '2426138', '2411590', '2423374', '2438124', '2378718', '2441636', '2422636', '2441067', '2437940', '2432798', '2428215', '2328057', '2431736', '2182725', '2133314', '2372208', '2413398', '2437095', '2427259', '2415026', '2438047', '2280418', '2429104', '2425891', '2425891', '2413025', '2419642', '2393604', '2423333', '2408883', '2383380', '2438856', '2431836', '2439497', '2396335', '2414688', '2440945', '2439429', '2421863', '2429300', '2434732', '2415976', '1691427', '2438368', '2417758', '2415755', '2438972', '2408750', '2433788', '2441412', '2429161', '1137753', '2428469', '2313417', '2413016', '2418742', '2412073', '2422958', '2426755', '2431737', '2338327', '2412692', '2429487', '2428202', '2429466', '2437806', '2425758', '2426481', '2432306', '2328002', '2420449', '2360830', '2393289', '2432973', '2415333', '2428594', '2434174', '2152769', '2417103', '2413375', '2437070', '2420860', '2412374', '2432840', '2415360', '2422037', '2434216', '2412426', '2413636', '2437493', '2416168', '2430215', '2426922', '2411742', '2426118', '2412987', '2434985', '2437175', '2420147', '2436680', '2430561', '2429671', '2411005', '2434382', '2408548', '2436152', '2370179', '2419218', '2416187', '2416562', '2424061', '2439917', '2432217', '1862258', '2412954', '2441640', '2417946', '2413992', '2408202', '2430872', '2438712', '2419597', '2409872', '2439131', '2428672', '2424386', '2436832', '2410404', '2423812', '2414858', '2438432', '2245837', '2413680', '2422510', '2437911', '2440359', '2426560', '2422482', '2429264', '2437834', '2409356', '2436042', '2421338', '2413090', '2425895', '2394317', '2421288', '2438284', '2424146', '2430814', '2406088', '2430594', '2418167', '2409757', '2426414', '2417733', '2408600', '2414987', '2413219', '2433800', '2431998', '2439254', '2429296', '2419902', '2437034', '2426270', '2441348', '2433097', '2428295', '2390282', '2436413', '2434811', '2436954', '2430919', '2427757', '2413542', '2408535', '2415274', '2412728', '2414071', '2276445', '2436870', '2431073', '2440305', '2434398', '2416468', '2437706', '2435794', '2408675', '2414420', '2414162', '2420606', '2438767', '2412941', '2426863', '2427263', '2413057', '2426674', '2432729', '2419447', '2422546', '2440686', '2344595', '2435461', '2419105', '2430696', '2438131', '2414659', '2408888', '2419639', '2415059', '2436357', '2363912', '2425427', '2424867', '2000245', '1400089', '2182536', '1732950', '2429691', '2412655', '2309269', '2428073', '2410467', '2356901', '2440829', '2410717', '2426711', '2418848', '2431700', '2441513', '2402856', '2306783', '2424781', '2437771', '2433655', '2424906', '2411968', '2438943', '2432084', '2416762', '2417354', '2433362', '2432024', '2268334', '2414562', '2408626', '2432629', '2416463', '2424811', '2415594', '2426059', '2435260', '2413466', '2415482', '2418899', '2410573', '2286258', '2426435', '2413627', '2409086', '2437796', '2425834', '2414865', '2409011', '2439765', '2421695', '2433942', '2415452', '2428348', '2417872', '2417259', '2428375', '2433633', '2409543', '2423897', '2429113', '2429000', '2441570', '2410531', '2404626', '2439437', '2439130', '2421915', '2437145', '2440816', '2440147', '2439009', '2287507', '2422232', '2415801', '2412908', '2438221', '2420574', '2365139', '2411580', '2437133', '2411500', '2415008', '2436441', '2418972', '2436095', '2435756', '2425765', '2424490', '2428800', '2403139', '2425362', '2414554', '2409343', '2431661', '2426055', '2415318', '2380498', '2434970', '2303516', '2438985', '2435355', '2417799', '2440831', '2416155', '2436812', '2428216', '2416735', '2435330', '2433795', '2418465', '2398690', '2413361', '2423501', '2409271', '2412564', '2421441', '2423399', '2173523', '2428989', '2434279', '2357231', '2409782', '2422640', '2439902', '2433975', '2411517', '2411294', '2413534', '2275695', '2440013', '2419683', '2362158', '2420565', '2428701', '2440451', '2431592', '2425696', '2416284', '1852924', '2413558', '2421683', '2412758', '2240297', '2434883', '2418258', '2373868', '2423718', '2360658', '2440435', '2426063', '2405814', '2436467', '2418437', '2411149', '2411536', '2432752', '2440738', '2417266', '2428475', '2435911', '2435649', '2414492', '2427631', '2411651', '2426191', '2430687', '2409569', '2414431', '2434492', '2425804', '2220009', '2408700', '2434242', '2435185', '2403578', '2423737', '2416242', '2421825', '2426500', '2439894', '2410129', '2435063', '2411375', '2361605', '2410346', '2437561', '2421175', '2411454', '2422318', '2409931', '2436786', '2408806', '2428270', '2424830', '2415723', '2420843', '2380054', '2425230', '2424879', '2436815', '2390436', '2411138', '2440722', '2418071', '2420682', '2408233', '2428751', '2414644', '2436978', '2415172', '2410600', '2423253', '2433355', '1513953', '2411886', '2431724', '2440399', '2416169', '2425338', '2433790', '2421442', '2390470', '2428473', '2419428', '2421558', '2413931', '2422263', '2426210', '2440933', '2429121', '2428722', '2411148', '2436864', '2423554', '2435919', '2426379', '2410536', '2436902', '2434762', '2414937', '2412921', '2420378', '2413673', '2426959', '2410068', '2439875', '2426192', '2429523', '2435099', '2426495', '2371869', '2413289', '2424275', '2419846', '2425395', '2427583', '2414986', '2441103', '2440991', '2412800', '2283339', '2433939', '2424468', '2429542', '2414174', '2437431', '2312181', '2396653', '2424114', '2412864', '2333294', '2441340', '2420077', '2415365', '2440833', '2441152', '2423709', '2412662', '2398115', '2427316', '2413892', '1536699', '2430342', '2421282', '2441130', '2420452', '2413414', '2420116', '2380361', '2427751', '2423422', '2421350', '2428544', '2410630', '2420738', '2409716', '2410468', '2433763', '2414101', '2419109', '2438719', '2419785', '2410371', '2324908', '2409503', '2424694', '2421041', '2269754', '2400606', '2429593', '2415415', '2441282', '2434537', '2432980', '2439023', '2437027', '2413121', '2409063', '2438679', '2433328', '2409797', '2427956', '2422007', '2412714', '2439979', '2434178', '2417748', '2397539', '2430193', '2418648', '2419038', '2412499', '2244024', '2424820', '2418480', '2440868', '2432368', '2411451', '2419004', '2432015', '2400453', '2416487', '2384879', '2427273', '2415780', '2421495', '2414449', '2431746', '2412804', '2413800', '2436696', '2434512', '2412452', '2412928', '2433677', '2424042', '2435876', '2329976', '2434586', '2416071', '2426103', '2430969', '2417903', '2123354', '2429738', '2428573', '2412046', '2419999', '2428716', '2419783', '2426934', '2275442', '2439192', '2435646', '2374068', '2260517', '2429602', '2429836', '2436243', '2438092', '2386940', '2430209', '2426256', '2411870', '2419544', '2439893', '2424416', '2437889', '2412049', '2405281', '2313187', '2425924', '2404515', '2414762', '2410420', '2428941', '2434064', '2425887', '2438487', '2415451', '2421010', '2435716', '2423379', '2440279', '2411676', '2418370', '2436995', '2436424', '2423964', '2414739', '2416461', '2408905', '2410614', '2438177', '2324708', '2411630', '2425538', '2436402', '2432659', '2420572', '2421991', '2440931', '2419440', '2401865', '2430597', '2419275', '2426579', '2422376', '2426116', '2422647', '2428992', '2436562', '2419293', '2432615', '2430258', '2436516', '2420446', '2440765', '2428343', '2436556', '2412505', '2416916', '2434610', '2414653', '2426418', '1819576', '2412056', '1967691', '1349619', '2094899', '1105214', '2434325', '2422189', '2437372', '2411730', '2422410', '2401721', '2429171', '2440527', '2413687', '2411051', '2412271', '2434208', '2425509', '2423873', '2416337', '2412589', '2421129', '2395358', '2126580', '2422356', '2437851', '2429525', '2418726', '2364078', '2414361', '2392509', '2421790', '2429555', '2381861', '2439442', '2419942', '2423126', '2408886', '2415977', '2431089', '2423326', '2410780', '2433452', '2419377', '2418431', '2438546', '2433614', '2427414', '2410874', '2434572', '2435834', '2428583', '2413780', '2429748', '2414516', '2410561', '2430213', '1768250', '2415667', '2426632', '2427612', '2437657', '2411292', '2415220', '2421413', '2415249', '2423336', '2430458', '2424135', '2388697', '2415804', '2409417', '2440797', '2438100', '2421535', '2422016', '2421294', '2431531', '2408768', '2405246', '2424569', '2438234', '2417100', '2399398', '2440961', '2417976', '2435952', '2411624', '2423741', '2426886', '2435343', '2437766', '2431872', '2407792', '2422097', '2433567', '2422842', '2426825', '2417672', '2409139', '2435054', '2274568', '2433495', '2426558', '2408170', '2419980', '2440975', '2215097', '2194190', '2419502', '2409779', '2410521', '2436707', '2431024', '2417823', '2438511', '2412916', '2410454', '2439373', '2439525', '2407794', '2426963', '2419500', '2411773', '2434654', '2422537', '2437581', '2429334', '2408622', '2417243', '2424617', '2405472', '2417688', '2418387', '2407626', '2417952', '2410137', '2429044', '2427678', '2402585', '2412208', '2416214', '2426436', '2415514', '2417979', '2358621', '2438660', '2433007', '2437776', '2394594', '2412422', '2440969', '2420382', '2414487', '2438861', '2412572', '2411599', '2406529', '2432799', '2298680', '2434752', '2409032', '2431618', '2417132', '2429774', '2439005', '2406760', '2418673', '2430074', '2423002', '2413719', '2413711', '2418687', '2410823', '2426220', '2413539', '2422235', '2419768', '2416143', '2412982', '2426261', '2439030', '2411774', '2417284', '2429787', '2427264', '2427851', '2388608', '2423684', '2424794', '2435734', '2420110', '2441108', '2420404', '2417446', '2421691', '2413703', '2397890', '2433042', '2421060', '2414219', '2419491', '2421921', '2429403', '2416269', '2434882', '2425318', '2416879', '2429749', '1930367', '2309887', '1964027', '1192333', '1345360', '1584009', '2093149', '2426136', '2409008', '2414127', '2400486', '2426312', '2439777', '2409412', '2423227', '2417068', '2426687', '2434896', '2429428', '2412278', '2434002', '2434099', '2432830', '2416849', '2412869', '2434988', '2433371', '2409761', '2418617', '2432075', '2418527', '2423014', '2420134', '2440850', '2422852', '2416175', '2410586', '2430283', '2431008', '2414809', '2439228', '2426845', '2429003', '2428957', '2417091', '2409073', '2425168', '2421437', '2354097', '2433949', '2430136', '2441985', '2432427', '2440291', '2415850', '2435627', '2438498', '2418441', '2362442', '2428094', '2421261', '2427492', '2421969', '2433937', '2413507', '2419346', '2437727', '2421485', '2418254', '2427095', '2424179', '2436907', '2431250', '2424385', '2435007', '2417336', '2435990', '2438519', '2439086', '2441516', '2434712', '2434451', '2413519', '2433814', '2424297', '2418152', '2440917', '2428605', '2419820', '2418658', '2418177', '2425920', '2426456', '1222934', '2439954', '2417141', '2210760', '2437006', '2423023', '2411584', '2427368', '2427636', '2314418', '2412520', '2437515', '2415335', '2415139', '2413175', '2408971', '2427589', '2434176', '2432449', '2426232', '2432269', '2410040', '2430889', '2413737', '2430874', '2430807', '2413856', '2412180', '2429611', '2416859', '2433583', '2439906', '2412067', '2421933', '2427181', '2427399', '2429203', '2415701', '2415582', '2433071', '2440949', '2421131', '2425902', '2433078', '2423231', '2411864', '2433759', '2420278', '2439914', '2419395', '2440535', '2413336', '2428178', '2413352', '2433862', '2425359', '2436316', '2434843', '2438181', '2430404', '2409505', '2418310', '2430855', '2427150', '2435618', '2334079', '2411683', '2410036', '2423416', '2418183', '2425971', '2411515', '2415311', '2423269', '2436554', '2415806', '2438503', '2433441', '2415855', '2414582', '2412193', '2432903', '2420604', '2433579', '2409228', '2428098', '2412603', '2426543', '2348045', '2408952', '2416683', '2412650', '2428608', '2419804', '2425370', '2413399', '2422874', '2404188', '2434093', '2433230', '2415897', '2411214', '2436360', '2429658', '2430746', '2413850', '2427993', '2437993', '2434446', '2422622', '2417674', '2409710', '2438583', '2435835', '2419899', '2438249', '2437751', '2411966', '2435422', '2425312', '2433291', '2421849', '2412009', '1310653', '1501628', '1997651', '1580735', '1781171', '1769393', '2410000', '2437859', '2441027', '2436006', '2420831', '2423663', '2422053', '2421588', '2410285', '2435301', '2410639', '2408915', '2424482', '2432049', '2433961', '2440193', '2409497', '2420464', '2414547', '2416459', '2414823', '2413573', '2417431', '2434808', '2413167', '2434601', '2413655', '2420651', '2431789', '2435816', '2440950', '2437671', '2428761', '2427768', '2433921', '2409754', '2439159', '2295074', '2413689', '2415140', '2408460', '2441014', '2178479', '2417171', '2410493', '2422362', '2421618', '2433760', '2380447', '2427127', '2425868', '2427958', '2434252', '2412154', '2416799', '2412362', '2427508', '2419151', '2441886', '2435095', '2419524', '2415346', '2316864', '2388212', '2417680', '2441375', '2408505', '2431522', '2231046', '2413103', '2424801', '2425849', '2420348', '2427105', '2422589', '2441423', '2420427', '2411678', '2436309', '2242771', '2434848', '2427086', '2410664', '2398814', '2425514', '2425324', '2424078', '2429049', '2397986', '2437919', '2413482', '2410796', '2124890', '2433560', '2430019', '2417022', '2426085', '2415313', '2425492', '2414117', '2435701', '2432203', '2426534', '2424359', '2390714', '2439832', '2431658', '2418873', '2436981', '2426496', '2436601', '2441959', '2411759', '2418684', '2387257', '2417252', '2417673', '2372245', '2407657', '2440644', '2421904', '2428466', '2403272', '2425486', '2413013', '2409663', '2420882', '2431253', '2399572', '2412137', '2431307', '2233767', '2419165', '2408607', '2409353', '2427339', '2413772', '2431712', '2418895', '2437978', '2425018', '2427479', '2417629', '2427116', '2418444', '2432069', '2432211', '2421772', '2437654', '2423607', '2438594', '2408595', '2410409', '2424626', '2422371', '2425216', '2405205', '2416552', '2411234', '2439226', '2439645', '2410781', '2434163', '2408574', '2422365', '2425431', '2413957', '2423184', '2421687', '2414664', '2388093', '2278645', '2422102', '2432548', '2432204', '2437349', '2415661', '2150965', '2438419', '2429760', '2410608', '2438940', '2415442', '2441441', '2424261', '2437992', '2425959', '2416345', '2429696', '2434919', '2411211', '2425446', '2434805', '2433347', '2420666', '2436387', '2426544', '2437231', '2423658', '2439116', '2421053', '2429562', '2436626', '2424036', '2431608', '2415260', '2356631', '2416755', '2420967', '2441034', '2408555', '2427793', '2428812', '2416576', '2439094', '2422703', '2419303', '2409852', '2425903', '2424927', '2414498', '2383015', '2420113', '2420893', '2425391', '2419895', '2424996', '2411853', '2439654', '2360050', '2426517', '2415208', '2415381', '2422655', '2423044', '2438086', '1466497', '1266441', '2019320', '2074694', '1626319', '2412970', '2205241', '2428536', '2412174', '2422334', '2430736', '2425738', '2420906', '2436798', '2232143', '2409014', '2355692', '2431769', '2428675', '2441857', '2401758', '2415024', '2420297', '2437340', '2437839', '2428335', '2430236', '2435854', '2410029', '2424762', '2430375', '2416332', '2396014', '2430917', '2420272', '2359039', '2426547', '2399744', '2413572', '2436610', '2398538', '2436632', '2368597', '2416781', '2419222', '2432785', '2425167', '2420204', '2410308', '2423405', '2429747', '2421398', '2422950', '2436570', '2409926', '2440432', '1720429', '2321132', '2427063', '2425335', '2434272', '2426328', '2409504', '2440549', '2417448', '2421698', '2224440', '2415250', '2410478', '2429035', '2441020', '2422563', '2421169', '2415268', '2181870', '2439739', '2393085', '2414436', '2412525', '2420776', '2436509', '2415947', '2418922', '2440747', '2430295', '2431413', '2421672', '2420310', '2418334', '2440743', '2413579', '2441978', '2436860', '2414095', '2423158', '2440597', '2420493', '2409369', '2423745', '2428820', '2428244', '2417386', '2429769', '2427085', '2409695', '2424226', '2430848', '2416114', '2429790', '2429472', '2420184', '2408660', '2405503', '2428120', '2438619', '2428484', '2440983', '2431824', '2418208', '2429284', '2414972', '2436591', '2424024', '2410441', '2441320', '2436914', '2418525', '2316936', '2416861', '2431402', '2434998', '2419599', '2417502', '2438203', '2437879', '2417234', '2441610', '2410463', '2411772', '2121931', '2418041', '2410800', '2414341', '2427404', '2408749', '2436256', '2439960', '2440856', '2425543', '2438585', '2425267', '2437348', '2428584', '2412756', '2167952', '2327082', '2411358', '2410506', '2422247', '2409529', '2408697', '2422129', '2413991', '2409815', '2411779', '2411945', '2421302', '2421497', '2387354', '2420027', '2433861', '2410374', '2412000', '2421981', '2415654', '2420951', '2426988', '2429131', '2439861', '2431359', '2414525', '2433845', '2434777', '2428983', '2415555', '2414587', '2420069', '2422462', '2293023', '2303728', '2413690', '2416594', '2429302', '2414437', '2414776', '2439051', '2120804', '2245284', '2411221', '2441519', '2382701', '2417383', '2441983', '2428022', '2420051', '2428226', '2415450', '2408955', '2415585', '2427510', '2434706', '2410535', '2432614', '2439247', '2421312', '2408394', '2396950', '2411373', '2417464', '2410363', '2441921', '2413030', '2434075', '2440206', '2420753', '2426331', '2413653', '2432561', '2440710', '2434573', '2257492', '1263177', '1087784', '1320883', '1557116', '1342617', '1662526', '2427081', '2440189', '2434997', '2434390', '2288223', '2239112', '2413777', '2416346', '2431354', '2341296', '2419631', '2412423', '2414975', '2415167', '2413818', '2411882', '2423386', '2436014', '2413448', '2418479', '2433148', '2133042', '2419189', '2409677', '2379899', '2320538', '2417264', '2387333', '2412461', '2430717', '2434799', '2413770', '2430786', '2426645', '2428483', '2421293', '2436176', '2434432', '2434013', '2366302', '2414510', '2433391', '2410406', '2427598', '2419679', '2421170', '2419140', '2420750', '2423712', '2421705', '2425669', '2324554', '2434238', '2423161', '2425740', '2425767', '2424844', '2417568', '2433849', '2433630', '2414004', '2435455', '2406261', '2419461', '2433880', '2423844', '2428567', '2428621', '2423738', '2431215', '2423067', '2429796', '2438891', '2399861', '2407520', '2432423', '2430493', '2419494', '2439803', '2421532', '2414378', '2427333', '2413919', '2439701', '2411473', '2441146', '2430163', '2415716', '2416018', '2408760', '2440054', '2385098', '2409586', '2409940', '2414342', '2422503', '2415683', '2413180', '2279202', '2428838', '2423055', '2436145', '2440861', '2413950', '2428491', '2435290', '2415034', '2418547', '2412157', '2436383', '2385369', '2435569', '2419534', '2420842', '2417897', '2440113', '2427955', '2433368', '2433927', '2418535', '2420838', '2420177', '2426292', '2430255', '2437996', '2430021', '2434276', '2440892', '2432860', '2425936', '2430661', '2427962', '2440740', '2426082', '2437301', '2439869', '2431880', '2426101', '2419508', '2413622', '2423436', '2409533', '2413605', '2431820', '2438210', '2412490', '2423365', '2440739', '2418348', '2409305', '2426896', '2434070', '2413259', '2438551', '2297999', '2440136', '2404666', '2440872', '2412881', '2437286', '2422631', '2424968', '2410549', '2427415', '2436460', '2438078', '2410817', '2418475', '2165286', '2430010', '2413958', '2422999', '2410022', '2362160', '2371301', '2434979', '2414735', '2318254', '2360629', '2440460', '2437593', '2415558', '2430587', '2383463', '2413866', '2410359', '2421748', '2434422', '2414705', '2433261', '2428738', '2416252', '2434010', '2416923', '2430708', '2251168', '2410349', '2409965', '2352654', '2438149', '1978050', '1983544', '1356996', '1564689', '2429704', '2418523', '2411709', '2439964', '2431046', '2428587', '2426978', '2432929', '2403928', '2437306', '2422350', '2427357', '2437694', '2411754', '2326130', '2420246', '2425629', '2426303', '2434725', '2433019', '2411350', '2420785', '2411571', '2415015', '2440159', '2417287', '2440083', '2425777', '2432875', '2418425', '2427741', '2440015', '2416439', '2428524', '2323685', '2429590', '2257560', '2409668', '2440033', '2431559', '2419826', '2427651', '2429413', '2431196', '2416548', '2433341', '2438948', '2433968', '2421137', '2421434', '2441769', '2437958', '2410992', '2419152', '2439818', '2434538', '2409346', '2424531', '2339006', '2441461', '2408534', '2426549', '2410563', '2413611', '2388156', '2410550', '2426629', '2385391', '2427940', '2414985', '2173847', '2392558', '2432743', '2419573', '2415178', '2413499', '2415757', '2431508', '2436674', '2438929', '2408703', '2437416', '2414333', '2422242', '2398219', '2392115', '2426655', '2433659', '2440445', '2417344', '2420312', '2408862', '2420060', '2428702', '2412496', '2417482', '2431691', '2422064', '2417530', '2411950', '2402282', '2430503', '2440381', '2407875', '2424649', '2439922', '2424957', '2436148', '2429139', '2435845', '2433287', '2427627', '2431431', '2411414', '2210873', '2423156', '2333105', '2436472', '2296628', '2441543', '2411010', '2420544', '2319654', '2406687', '2427635', '2434344', '2419399', '2421995', '2412120', '2436027', '2395301', '2414597', '2413116', '2233136', '2439996', '2424439', '2426504', '2362284', '2434429', '2420472', '2416195', '2419158', '2424271', '2415631', '2434774', '2424020', '2440615', '2409478', '2426831', '2423393', '2419608', '2398247', '2417543', '2426976', '2432310', '2435746', '2415933', '2413748', '2417009', '2419933', '2129036', '2416322', '2180940', '2439791', '2429066', '2419241', '2406930', '2428691', '2409288', '2417518', '2437835', '2408998', '2417765', '2418996', '2411879', '2431757', '2409209', '2413306', '2418909', '2416999', '2421426', '2409024', '2428810', '2417212', '2436977', '2434873', '2420153', '2201776', '2420758', '2422817', '2414766', '2431453', '2416584', '2432939', '2420797', '2437871', '2429773', '2430077', '2432171', '2418650', '2416362', '2410466', '2424367', '2352436', '2430695', '2414338', '2412958', '2437745', '2428866', '2439655', '2437054', '2418532', '2414438', '2426753', '2413407', '2438970', '2409546', '2433041', '2412223', '2427225', '2409682', '2407183', '2427705', '2437831', '2416964', '2441397', '1111518', '1137147', '2433765', '2414365', '2413930', '2415863', '2431828', '2422359', '2261623', '2416309', '2425794', '2416183', '2424262', '2433577', '2432720', '2440086', '2414879', '2435655', '2438794', '2422360', '2411024', '2411163', '2391981', '2438088', '2432346', '2430566', '2270723', '2428825', '2386308', '2427996', '2416752', '2431590', '2418490', '2439286', '2230402', '2423470', '2433309', '2441762', '2417309', '2418561', '2417844', '2428490', '2425456', '2423267', '2437256', '2409621', '2409433', '2417462', '2419518', '2426354', '2410416', '2417463', '2414759', '2421262', '2426841', '2422975', '2426593', '2427117', '2437625', '2412824', '2417593', '2418841', '2198989', '2417339', '2423232', '2413724', '2381897', '2410378', '2413601', '2411180', '2437321', '2436691', '2432008', '2425808', '2436513', '2401242', '2420491', '2428153', '2412126', '2409666', '2409293', '2411775', '2434403', '2438946', '2201722', '2420242', '2384381', '2429915', '2411456', '2421093', '2415728', '2412112', '2413356', '2410730', '2423773', '2425036', '2435551', '2427346', '2436129', '2406460', '2434230', '2438652', '2440018', '2438863', '2421198', '2416197', '2419706', '2425670', '2409507', '2414599', '2416568', '2434565', '2423576', '2419385', '2418026', '2413523', '2329448', '2436381', '2438938', '2419056', '2433830', '2432028', '2440131', '2425877', '2408638', '2430693', '2415430', '2410930', '2420025', '2417055', '2422436', '2432175', '2426781', '2420394', '2418118', '2439150', '2429776', '2410260', '2434401', '2418915', '2417248', '2431083', '2384958', '2334483', '2395248', '2415782', '2413142', '2437742', '2441554', '2412766', '2281602', '2410350', '2342379', '2424671', '2430641', '2418593', '2425519', '2411146', '2421785', '2397418', '2439750', '2430395', '2440974', '2409452', '2418358', '2411684', '2425392', '2418674', '2426305', '2410673', '2429710', '2433545', '2414926', '2413529', '2422226', '2420389', '2429655', '2405278', '2416772', '2389859', '2424691', '2417271', '2409149', '2429322', '2415767', '2437042', '2429460', '2415774', '2434233', '2399236', '2415906', '2440109', '2410125', '2415093', '2428649', '2435844', '2437584', '2409449', '2415893', '2427605', '2438566', '2410061', '2408598', '2389672', '2421561', '2409064', '2413647', '1448758', '1657876', '2132808', '2417207', '2419670', '2432730', '2418812', '2408908', '2422802', '2429250', '2418432', '2414464', '2409260', '2425812', '2429626', '2431155', '2439951', '2211046', '2415403', '2420430', '2426623', '2433386', '2425969', '2430749', '2433595', '2432031', '2417147', '2440766', '2425111', '2421911', '2434260', '2350629', '2436984', '2426426', '2424507', '2428530', '2426072', '2413617', '2440202', '2425588', '2128327', '2420988', '2421023', '2409331', '2429944', '2417541', '2420012', '2420929', '2421816', '2412348', '2420607', '2431336', '2405630', '2415547', '2411306', '2425809', '2426771', '2423448', '2418567', '2424597', '2435316', '2435434', '2437634', '2411884', '2410437', '2412739', '2408483', '2417045', '2431466', '2432902', '2436524', '2394199', '2367000', '2420818', '2427266', '2427519', '2366819', '2425428', '2414727', '2283546', '2428105', '2424330', '2429467', '2422108', '2413599', '2421913', '2430091', '2410843', '2431709', '2426650', '2421854', '2436856', '2413756', '2304800', '2422322', '2424245', '2433858', '2435760', '2422052', '2415922', '2429916', '2413632', '2414655', '2439432', '2414973', '2436508', '2412905', '2418586', '2431566', '2414186', '2419919', '2337620', '2438148', '2428137', '2425680', '2441710', '2434713', '2410326', '2415874', '2282375', '2414079', '2430358', '2434468', '2441017', '2415630', '2417412', '2416834', '2432010', '2411994', '2418965', '2415152', '2345080', '2436213', '2415436', '2429903', '2432795', '2435536', '2303087', '2429740', '2427034', '2364845', '2427749', '2429788', '2412712', '2407671', '2400504', '2411865', '2409229', '2438743', '2432029', '2438773', '2410462', '2423319', '2426427', '2422385', '2436985', '2423406', '2418630', '2439975', '2377601', '2421692', '2414850', '2413441', '2440056', '2368204', '2424782', '2430164', '2420422', '2403337', '2435176', '2441180', '2425380', '2440719', '2416491', '2429417', '2426941', '2311295', '2422610', '2420984', '2430000', '2425582', '2416055', '2440685', '2403176', '2412369', '2410490', '2437178', '2438091', '2433072', '2422158', '2390151', '2410593', '2410829', '2421347', '2431520', '2429580', '2429486', '2436345', '2418345', '2409062', '2419005', '2423818', '2424719', '2428493', '2383866', '2415545', '2422702', '2371367', '2433767', '2325720', '2430109', '2431248', '2408454', '2245865', '2422483', '2436207', '2435634', '2421366', '2418248', '2427614', '2441253', '2422033', '2424818', '2424202', '2383042', '2437011', '2431294', '2440513', '2425116', '2430562', '2412935', '2410152', '2330991', '2415330', '2435352', '2408726', '2421583', '2388603', '2425984', '2412558', '2434887', '2438760', '2441473', '2408931', '1953516', '1086149', '1127713', '2417079', '2138875', '2440059', '2419871', '2410523', '2386452', '2436563', '2419499', '2432665', '2009692', '2415491', '2422974', '2431634', '2412735', '2415187', '2423544', '2408661', '2431127', '2413546', '2420442', '2418552', '2433550', '2413924', '2423937', '2436755', '2425885', '2410008', '2427542', '2424303', '2410822', '2415638', '2412361', '2421271', '2408737', '2429535', '2435482', '2417815', '2431826', '2430363', '2418731', '2419310', '2427670', '2423283', '2438496', '2439916', '2415660', '2433332', '2410647', '2439947', '2434518', '2416042', '2382417', '2435447', '2429605', '2432848', '2414435', '2420265', '2430958', '2429328', '2435080', '2423956', '2414292', '2426725', '2425480', '2407767', '2421377', '2436939', '2408685', '2414428', '2368972', '2412021', '2428313', '2414299', '2369894', '2369977', '2418618', '2426981', '2433350', '2436568', '2250340', '2419031', '2429545', '2414273', '2430921', '2435563', '2419259', '2437684', '2438933', '2438241', '2396187', '2418780', '2420218', '2438921', '2434701', '2427799', '2425233', '2393416', '2421577', '2428886', '2397570', '2417760', '2427219', '2425853', '2409981', '2419481', '2415763', '2418521', '2409525', '2420362', '2424124', '2431529', '2422246', '2305322', '2420966', '2429682', '2427161', '2409825', '2421590', '2424079', '2434969', '2420542', '2429620', '2336330', '2414617', '2438720', '2436637', '2412083', '2412471', '2417343', '2433195', '2430875', '2423551', '2416072', '2437784', '2414611', '2427662', '2416823', '2436321', '2428227', '2428562', '2235223', '2410444', '2439683', '2410778', '2423860', '2428079', '2426691', '2438194', '2419070', '2425146', '2420054', '2420463', '2421450', '2432853', '2419269', '2412597', '2397341', '2430966', '2420978', '2417882', '2422559', '2414749', '2412260', '2412343', '2439399', '2412879', '2410483', '2424596', '2284875', '2434087', '2433645', '2433266', '2413346', '2378730', '2409219', '2428686', '2416514', '2423298', '2424453', '2421205', '2411738', '2437142', '2410609', '2440550', '2413541', '2336143', '2419441', '2428854', '2439287', '2417988', '2436272', '2429443', '2418356', '2425339', '2420643', '2209041', '2428636', '2437152', '2414466', '2415557', '2195335', '1385117', '2091709', '2429073', '2414499', '2436050', '2434993', '2264023', '2435745', '2430123', '2427555', '2434845', '2439075', '2413152', '2346034', '2429047', '2419365', '2422746', '2418767', '2413763', '2432954', '2410286', '2431883', '2412539', '2320172', '2436915', '2418384', '2439647', '2433954', '2430401', '2417206', '2435818', '2420209', '2425162', '2415044', '2419295', '2415254', '2417376', '2423137', '2399914', '2434938', '2430592', '2434306', '2434935', '2423385', '2411459', '2441422', '2430171', '2412772', '2428199', '2403542', '2412997', '2441968', '2434190', '2438120', '2436716', '2413712', '2423041', '2427763', '2418112', '2429359', '2422070', '2425522', '2419585', '2420220', '2412040', '2434803', '2418847', '2415522', '2414137', '2415620', '2423349', '2436982', '2415619', '2412366', '2414899', '2433881', '2361952', '2423218', '2434897', '2431637', '2418438', '2430573', '2438717', '2412678', '2428139', '2377995', '2427680', '2412604', '2437029', '2392533', '2426348', '2431394', '2432986', '2426870', '2393386', '2422233', '2415641', '2432612', '2430995', '2424347', '2421280', '2427292', '2438886', '2415412', '2409076', '2432463', '2438192', '2408784', '2419553', '2427038', '2441707', '2364216', '2415135', '2413251', '2369738', '2429201', '2428272', '2412591', '2407793', '2436071', '2436697', '2437204', '2418611', '2432581', '2439855', '2429097', '2423129', '2412816', '2441997', '2424164', '2419503', '2420462', '2434257', '2424509', '2428147', '2415526', '2435288', '2414250', '2438650', '2412095', '2428518', '2375930', '2431905', '2420470', '2414032', '2419161', '2433507', '2410718', '2429663', '2420741', '2440067', '2434226', '2431642', '2385241', '2418467', '2424758', '2425530', '2419125', '2425265', '2226372', '2410788', '2433382', '2441123', '2425387', '2413440', '2425125', '2419344', '2424529', '2429679', '2415663', '2437929', '2382669', '2420827', '2412688', '2423241', '2422305', '2430601', '2438826', '2412541', '2414309', '2423214', '2258967', '2420502', '2436335', '2438479', '2428652', '2432747', '2439724', '2392278', '2416043', '2423804', '2431944', '2345306', '2412923', '2413963', '2338755', '2426324', '2181243', '2413315', '2415494', '2418059', '2428327', '2416504', '2399631', '2435006', '2423024', '2436847', '2426814', '2416701', '2418598', '2122163', '2440630', '2424269', '2425973', '2356881', '2410373', '2424895', '2433380', '2414570', '1970183', '1468025', '1520322', '2015975', '2032823', '2059984', '2100017', '2141800', '2435697', '2408902', '2435154', '2433381', '2419146', '2422146', '2421166', '2426092', '2418381', '2430378', '2416293', '2418781', '2400245', '2436943', '2412522', '2435956', '2431665', '2413853', '2439050', '2415836', '2426235', '2428311', '2372774', '2417566', '2429343', '2410967', '2409812', '2430531', '2423680', '2381925', '2425088', '2399013', '2428899', '2432934', '2382929', '2424916', '2414149', '2422635', '2421744', '2421500', '2204367', '2426004', '2412802', '2421596', '2435141', '2182779', '2420418', '2435801', '2408566', '2371010', '2431010', '2425643', '2419938', '2410661', '2419463', '2422295', '2425227', '2441585', '2410111', '2425939', '2419880', '2440563', '2440894', '2433340', '2434879', '2428696', '2428446', '2406520', '2435444', '2427383', '2419593', '2408635', '2415950', '2410975', '2423750', '2410517', '2409051', '2421392', '2420308', '2416103', '2426355', '2417313', '2431053', '1704297', '2430998', '2420517', '2409426', '2200008', '2418369', '2426282', '2413273', '2382923', '2281950', '2414859', '2414280', '2429960', '2416910', '2424772', '2422204', '2412093', '2404054', '2439074', '2408731', '2427216', '2430716', '2411693', '2411650', '2408344', '2433590', '2431625', '2408975', '2422178', '2432225', '2284808', '2441444', '2420636', '2426923', '2416499', '2311937', '2433499', '2425104', '2434235', '2398163', '2411352', '2233385', '2421707', '2427233', '2415815', '2439100', '2420545', '2428430', '2432755', '2424186', '2426883', '2423674', '2413999', '2425464', '2243816', '2432796', '2410405', '2423299', '2437153', '2409177', '2434006', '2409454', '2416295', '2420941', '2421204', '2412200', '2414709', '2414375', '2415989', '2413911', '2428050', '2429145', '2419616', '2417371', '2440541', '2419998', '2417891', '2439193', '2433972', '2423535', '2419506', '2408516', '2412024', '2396645', '2414429', '2421567', '2411545', '2417443', '2433061', '2418528', '2280054', '2404981', '2412736', '2433753', '2440397', '2421022', '2430864', '2415658', '2437427', '2433775', '2214771', '2425408', '2416965', '2421761', '2416270', '2429689', '2416724', '2435300', '2416376', '2420374', '2424171', '2426449', '2410337', '2440843', '2424166', '2409432', '2441312', '2431869', '2381691', '2427774', '2435326', '2409013', '2434351', '2420015', '2413229', '2417425', '2424277', '2435867', '2428283', '2416662', '2427954', '2411457', '2408157', '2430457', '2410537', '2414523', '2435735', '2422428', '2410255', '2429668', '2413197', '2424035', '2434300', '2422953', '2430490', '2410628', '2430132', '2307368', '2432619', '2422485', '2424248', '2411989', '2414917', '2429056', '2419479', '2429565', '2438357', '2440124', '2417071', '2428124', '2414531', '1317298', '1148783', '1762409', '2422561', '2421710', '2415858', '2374398', '2441381', '2432693', '2435708', '2419284', '2430953', '2398970', '2412649', '2427656', '2426050', '2422720', '2441536', '2420846', '2386919', '1098239', '2411379', '2424123', '2419637', '2409425', '2418765', '2415114', '2420509', '2432014', '2408714', '2423360', '2436843', '2439179', '2132589', '2408930', '2437934', '2424188', '2423220', '2358436', '2428618', '2438725', '2421365', '2424484', '2413096', '2437858', '2416447', '2427391', '2344343', '2432295', '2438033', '2426904', '2436183', '2400307', '2408837', '2427124', '2422902', '2427171', '2411905', '2435278', '2421643', '2408795', '2436828', '2356936', '2408469', '2413629', '2415050', '2412722', '2425289', '2435125', '2314845', '2430713', '2280166', '2425652', '2408797', '2425295', '2410751', '2416575', '2433794', '2408628', '2423693', '2433983', '2437685', '2419273', '2395320', '2416536', '2441563', '2439084', '2420500', '2412863', '2438138', '2408567', '2433570', '2410530', '2392489', '2429038', '2421539', '2426967', '2414623', '2428329', '2433494', '2431172', '2435331', '2416815', '2433871', '2304089', '2416201', '2415744', '2439577', '2417599', '2432593', '2433005', '2386492', '2435004', '2252602', '2435621', '2439608', '2420820', '2428195', '2440014', '2424437', '2416325', '2402345', '2421559', '2427020', '2394972', '2430280', '2417525', '2435258', '2319392', '2426493', '2425743', '2429761', '2404261', '2436201', '2423018', '2430170', '2310313', '2421666', '2409290', '2426600', '2440249', '2405651', '2409391', '2413913', '2415868', '2440253', '2415364', '2412562', '2432363', '2432063', '2412906', '2388226', '2409554', '2409850', '2421877', '2422505', '2365390', '2422319', '2432139', '2418354', '2420062', '2422671', '2411910', '2435610', '2431974', '2425421', '2415275', '2433101', '2225176', '2429094', '2439035', '2411958', '2415862', '2379818', '2371792', '2413311', '2421507', '2395009', '2416093', '2426797', '2411680', '2415057', '2439594', '2409738', '2409632', '2409627', '2409832', '2409415', '2415653', '2408736', '2414848', '2194050', '2410037', '2416634', '2428582', '2410262', '2415666', '2425372', '2430821', '2441943', '2412873', '2418494', '2417630', '2414723', '2431475', '2415175', '2415833', '2411054', '2427469', '2423204', '2416863', '2432790', '2412577', '2420549', '2432264', '2438989', '2441987', '2435647', '2434177', '2423181', '2414182', '2423369', '1976845', '1549738', '1366893', '2409133', '2428115', '2436641', '2414171', '2415483', '2410507', '2421514', '2400654', '2421316', '2414315', '2365809', '2429358', '2412318', '2430096', '2431855', '2410336', '2415056', '2419924', '2196994', '2414353', '2435295', '2435274', '2414571', '2427152', '2427132', '2427618', '2439987', '2416520', '2436827', '2223802', '2426417', '2436944', '2417939', '2440564', '2439515', '2430064', '2413662', '2434559', '2433948', '2426356', '2416985', '2417163', '2414240', '2412565', '2413967', '2413049', '2439793', '2411526', '2441265', '2398208', '2131438', '2423444', '2419360', '2412532', '2420996', '2406552', '2436034', '2433191', '2416598', '2422072', '2427201', '2411916', '2423473', '2424212', '2420367', '2422214', '2420486', '2407365', '2420237', '2439986', '2402651', '2408568', '2430205', '2421749', '2439305', '2416014', '2395132', '2409944', '2412504', '2415651', '2422556', '2414284', '2414737', '2167669', '2399145', '2438058', '2433574', '2434380', '2437364', '2436918', '2416977', '2434560', '2415875', '2441131', '2382330', '2343559', '2440724', '2431107', '2348097', '2413463', '2428351', '2429777', '2412933', '2422025', '2415761', '2428158', '2415669', '2413166', '2420751', '2426238', '2421281', '2417316', '2411053', '2435998', '2424187', '2426216', '2438062', '2421329', '2415460', '2412605', '2437176', '1930494', '2410038', '2428370', '2423459', '2440900', '2420441', '2391104', '2434072', '2414417', '2427645', '2404829', '2423324', '2428570', '2424734', '2425184', '2418990', '2418307', '2427574', '2410098', '2433180', '2433505', '2416992', '2410855', '2415356', '2433919', '2410199', '2410528', '2436187', '2413943', '2420443', '2426474', '2418322', '2417507', '2417459', '2418896', '2426347', '2440824', '2288431', '2427278', '2416305', '2426840', '2402823', '2434433', '2420965', '2411382', '2420318', '2401741', '2436431', '2418550', '2423581', '2418363', '2429548', '2429724', '2405432', '2424706', '2418419', '2426366', '2426047', '2434695', '2424680', '2433036', '2412611', '2414642', '2379909', '2409775', '2434841', '2441062', '2417111', '2230063', '2418511', '2432494', '2431493', '1201811', '1460644', '2012273', '2435559', '2429845', '2422705', '2434668', '2417403', '2431745', '2413739', '2434133', '2354327', '2441881', '2412311', '2425349', '2394427', '2431210', '2402569', '2435829', '2411378', '2438926', '2428541', '2414538', '2415975', '2440420', '2417251', '2431549', '2419887', '2429881', '2435387', '2438877', '2437267', '2436840', '2417691', '2436615', '2416519', '2415321', '2417911', '2197052', '2438282', '2429540', '2430735', '2440935', '2436702', '2317054', '2419996', '2425344', '2414934', '2415949', '2427663', '2412548', '2435778', '2429339', '2319876', '2436280', '2430745', '2407887', '2416589', '2413503', '2418760', '2425648', '2420652', '2412305', '2434563', '2422687', '2432637', '2422979', '2415446', '2426203', '2421531', '2398758', '2435106', '2420587', '2427923', '2391920', '2441271', '2376634', '2431391', '2226290', '2416024', '2436048', '2440368', '2410172', '2408857', '2412108', '2413317', '2413290', '2427033', '2438443', '2412177', '2427400', '2438847', '2426607', '2410315', '2417695', '2409571', '2438869', '2380627', '2236967', '2433081', '2413606', '2440401', '2411177', '2430982', '2424134', '2417127', '2441202', '2438035', '2432038', '2434893', '2344082', '2440297', '2415095', '2432932', '2438629', '2241101', '2424678', '2438417', '2435825', '2436135', '2438812', '2420186', '2410494', '2430247', '2416984', '2434933', '2434575', '2430895', '2424609', '2431651', '2441068', '2439968', '2359942', '2420532', '1027871', '2410432', '2433013', '1128038', '2434615', '2417220', '2409527', '2435025', '2400882', '2441550', '2432072', '2408236', '2405168', '2402329', '2412815', '2437638', '2407839', '2427560', '2415895', '2422112', '2415569', '2427533', '2408877', '2421855', '2415112', '2433856', '2422468', '2428305', '2414018', '2422541', '2438951', '2434597', '2429078', '2440968', '2433543', '2427582', '2436901', '2426344', '2430464', '2418619', '2411664', '2427409', '2437030', '2434073', '2413537', '2434667', '2435071', '2439178', '2431377', '2414992', '2429511', '2416181', '2425976', '2424176', '2419728', '2419050', '2419596', '2423325', '2427440', '2435996', '2419374', '2413385', '2423270', '2416706', '2407975', '2431169', '2435661', '2404406', '2417871', '2419243', '2429009', '2293319', '2421466', '2437669', '2409418', '2422337', '1735948', '2045189', '1762210', '2421818', '2437613', '2419586', '2424619', '2399080', '2412225', '2409517', '2426689', '2415967', '2431353', '2426514', '2411186', '2436997', '2408987', '2423579', '2417232', '2402578', '2435670', '2413479', '2428743', '2246458', '2416866', '2136013', '2411015', '2415775', '2436731', '2436252', '2424846', '2413620', '2440270', '2441045', '2413225', '2421731', '2424631', '2417392', '2422058', '2426228', '2412087', '2413593', '2418834', '2428051', '2430492', '2384579', '2439408', '2440601', '2240592', '2410861', '2409035', '2438542', '2414359', '2411199', '2403016', '2428856', '2414402', '2436868', '2412546', '2416527', '2412012', '2427828', '2426384', '2437039', '2420085', '2418946', '2440859', '2258278', '2427787', '2436487', '2426701', '2412543', '2411510', '2424206', '2420555', '2414350', '2431027', '2430478', '2436043', '2404125', '2422587', '2424695', '2420451', '2434358', '2401234', '2433009', '2422378', '2439985', '2384414', '2438098', '2411626', '2400241', '2427191', '2228078', '2432791', '2408487', '2389786', '2437994', '2433821', '2420681', '2430154', '2409148', '2408673', '2428736', '2412028', '2412442', '2425986', '2420457', '2413613', '2414132', '2440128', '2441541', '2428628', '2421457', '2415709', '2432098', '2434043', '2131958', '2426469', '2417209', '2230384', '2418255', '2424503', '2430738', '2413316', '2423322', '2432996', '2415994', '2413092', '2426527', '2411904', '2438087', '2429198', '2422155', '2429779', '2426188', '2427384', '2434400', '2438781', '2435985', '2411629', '2431817', '2438801', '2419073', '2435786', '2437486', '2421099', '2422269', '2358600', '2412388', '2437789', '2439808', '2433448', '2420959', '2421247', '2256453', '2371717', '2438306', '2438331', '2419606', '2419939', '2431908', '2410604', '2439712', '2421881', '2440205', '2416382', '2409510', '2431550', '2425600', '2429034', '2421976', '2413524', '2431856', '2414885', '2438931', '2415570', '2441843', '2422328', '2428534', '2428267', '2411407', '2288377', '2438797', '2414321', '2409081', '2439209', '2430881', '2433149', '2411792', '2410054', '2414212', '2431361', '2414446', '2413757', '2427149', '2409405', '2410290', '2433731', '2409587', '2419076', '2412588', '2339569', '2345445', '2409031', '1844593', '2273772', '2415337', '2417225', '1371063', '1284345', '1512216', '1568179', '1253057', '1744402', '2422646', '2412354', '2424191', '2420536', '2415212', '2397791', '2414857', '2427388', '2388317', '2435397', '2419560', '2428804', '2365712', '2436226', '2434515', '2416218', '2416276', '2425272', '2381689', '2431781', '2415640', '2434813', '2412694', '2417406', '2414477', '2433008', '2425504', '2231877', '2415258', '2426430', '2423567', '2437210', '2435580', '2420782', '2431170', '2423696', '2416845', '2404971', '2433343', '2406952', '2415727', '2418985', '2409274', '2343697', '2231486', '2427588', '2441251', '2414301', '2261106', '2408689', '2409985', '2429407', '2430234', '2413224', '2313269', '2423585', '2395688', '2408799', '2409635', '2395096', '2429621', '2424893', '2424842', '2420769', '2433853', '2403354', '2341306', '2417293', '2373203', '2412286', '2418556', '2409539', '2413094', '2427307', '2436721', '2347577', '2440393', '2433952', '2432917', '2422267', '2425929', '2398619', '2415484', '2438454', '2415388', '2405602', '2433252', '2338410', '2437098', '2430630', '2420724', '2432669', '2415829', '2425545', '2439092', '2419068', '2420669', '2311011', '2412221', '2335381', '2417292', '2421619', '2428121', '2419708', '2413426', '2414576', '2421449', '2431348', '2439766', '2417301', '2440713', '2441927', '2433397', '2430015', '2411088', '2431567', '2427564', '2441980', '2429962', '2422686', '2411503', '2432913', '2421128', '2413857', '2409084', '2417382', '2413480', '2414181', '2415699', '2436606', '2372778', '2355199', '2419690', '2317326', '2317326', '2416553', '2410510', '2414682', '2360321', '2433271', '2410413', '2427053', '2409308', '2415928', '2435140', '2412680', '2405515', '2415363', '2410144', '2413526', '2433743', '2423249', '2437984', '2418491', '2426388', '2430567', '2422980', '2420000', '2416396', '2426089', '2418455', '2409399', '2414468', '2434231', '2413563', '2437140', '2441237', '2426306', '2314431', '2431370', '2413713', '2412768', '2419316', '2408545', '2368092', '2421703', '2401264', '2428893', '2408606', '2423945', '2429527', '2419701', '2411852', '2432616', '2409429', '2410002', '2409477', '2418512', '2441134', '2425674', '2421909', '2439725', '2423666', '2438053', '2421360', '2436644', '2434452', '2359025', '2424207', '2419335', '2413844', '2410103', '2359055', '2364350', '2408885', '2425414', '2429360', '2414580', '2433418', '2426624', '2157154', '2418654', '2413335', '2432990', '1240064', '1446887', '1253185', '1095658', '1592245', '2431680', '2412151', '2433980', '2433467', '2430474', '2428433', '2430075', '2427821', '2422820', '2417537', '2435711', '2429541', '2409778', '2434196', '2390681', '2408529', '2440732', '2418056', '2432850', '2302375', '2426662', '2437003', '2394890', '2403136', '2426342', '2411681', '2423653', '2309257', '2437872', '2420030', '2423943', '2419562', '2438871', '2440443', '2417263', '2426591', '2422190', '2440252', '2413163', '2413131', '2428637', '2434078', '2413971', '2379797', '2425784', '2378475', '2415710', '2288189', '2440552', '2410583', '2385875', '2439563', '2437173', '2416940', '2433815', '2441757', '2420445', '2439915', '2423345', '2411269', '2404612', '2426119', '2406691', '2428109', '2428683', '2422120', '2419007', '2440209', '2441655', '2436290', '2420740', '2376866', '2424256', '2415455', '2419467', '2408277', '2212571', '2412661', '2441405', '2388699', '2415396', '2432753', '2411868', '2417341', '2434623', '2441239', '2409857', '2411569', '2433436', '2433552', '2411478', '2419081', '2414622', '2434405', '2415164', '2396953', '2438820', '2441836', '2414138', '2437957', '2416336', '2435436', '2439532', '2431785', '2420513', '2420140', '2429039', '2426084', '2418530', '2437031', '2422886', '2413746', '2432435', '2428564', '2416485', '2409444', '2217572', '2438864', '2411710', '2435822', '2416477', '2409383', '2411426', '2435390', '2413118', '2412380', '2428785', '2418440', '2415788', '2231624', '2428627', '2409565', '2409173', '2421301', '2422627', '2422392', '2423165', '2413731', '2429834', '2436527', '2423215', '2418035', '2440922', '2419351', '2400487', '2416272', '2409066', '2403678', '2323537', '2435159', '2423485', '2432407', '2414928', '2438578', '2411620', '2416363', '2414696', '2431845', '2413956', '2420788', '2432734', '2416903', '2431573', '2423022', '2419429', '2417368', '2432254', '2428228', '2197718', '2426633', '2412917', '2207875', '2439978', '2201515', '2408495', '2420766', '2421542', '2433453', '2414416', '2431588', '2417440', '2417281', '2414733', '2435029', '2418748', '2419144', '2411035', '2436049', '2439965', '2420181', '2427376', '2417789', '2436443', '2420772', '2418835', '2437822', '2393088', '2440830', '2440890', '2413834', '1822229', '1777622', '2422202', '2421122', '2420286', '2422738', '2430487', '2428606', '2415532', '2418677', '2440133', '2407556', '2420309', '2426087', '2430730', '2440793', '2435110', '2436886', '2427349', '2422349', '2419394', '2424852', '2438215', '2411776', '2412600', '2433863', '2425922', '2424422', '2411761', '2412967', '2415991', '2409871', '2430131', '2417746', '2430353', '2272872', '2411052', '2424860', '2416858', '2433889', '2418571', '2413372', '2412188', '2424711', '2428397', '2430637', '2410556', '2427532', '2434490', '2423514', '2415310', '2431931', '2417718', '2428378', '2411018', '2415426', '2436294', '2430400', '2420396', '2431913', '2419815', '2422457', '2420833', '2425505', '2267437', '2431554', '2422606', '2257458', '2408950', '2427464', '2416406', '2424469', '2431088', '2424014', '2426726', '2434927', '2410391', '2413310', '2434730', '2411969', '2410225', '2422922', '2424025', '2437773', '2424192', '2418423', '2419103', '2428616', '2411142', '2421602', '2424900', '2431946', '2249434', '2420413', '2414915', '2410498', '2410857', '2436022', '2436910', '2212741', '2426681', '2425206', '2418635', '2437121', '2428703', '2416460', '2388594', '2398159', '2435813', '2433950', '2423289', '2428453', '2429085', '2431116', '2439623', '2417493', '2435814', '2441088', '2438596', '2440353', '2365839', '2430559', '2358975', '2409747', '2369628', '2420471', '2409316', '2418681', '2438936', '2441090', '2424142', '2426660', '2431689', '2429464', '2412430', '2436744', '2408709', '2427026', '2185961', '2418584', '2420090', '2410591', '2412990', '2431491', '2427842', '2427267', '2438305', '2430523', '2434165', '2421820', '2414549', '2409718', '2430409', '2412579', '2411400', '2411021', '2414931', '2413533', '2412385', '2419730', '2428848', '2434394', '2413087', '2418188', '2408861', '2417520', '2434434', '2441468', '2441383', '2416213', '2440610', '2436898', '2406953', '2423550', '2421784', '2412249', '2422313', '2436895', '2420162', '2296638', '2409540', '2411055', '2437229', '2428349', '2432933', '2433868', '2430169', '2412045', '2420221', '2433929', '2420295', '2436710', '2434860', '2424475', '2400610', '2424343', '2417531', '2430191', '2433662', '2415343', '2436102', '2428826', '2430963', '2414440', '2321458', '2422881', '2418730', '2438674', '2438908', '2436232', '2420626', '2366357', '1434736', '1351897', '1129079', '2399224', '2410627', '2411581', '2203255', '2416437', '2425691', '2423361', '2397463', '2413095', '2429057', '2433869', '2433037', '2415468', '2411036', '2414543', '2441416', '2409016', '2424589', '2435281', '2413055', '2408579', '2426808', '2425703', '2409501', '2422821', '2373060', '2408537', '2417424', '2417676', '2427546', '2425644', '2414625', '2418020', '2440701', '2417801', '2417645', '2427882', '2418663', '2440115', '2409784', '2419926', '2422432', '2147985', '2429692', '2415353', '2434942', '2408753', '2434781', '2413314', '2423407', '2418822', '2436384', '2422567', '2432355', '2415303', '2411087', '2419636', '2408482', '2430465', '2390073', '2429209', '2411798', '2439813', '2426117', '2422470', '2413890', '2418784', '2379860', '2417253', '2419270', '2423755', '2436917', '2434906', '2431445', '2408435', '2420804', '2435107', '2414552', '2434428', '2410062', '2415038', '2429454', '2412798', '2435481', '2418778', '2419547', '2441745', '2408695', '2418762', '2420001', '2439841', '2431985', '2429526', '2429493', '2423537', '2417294', '2428496', '2415675', '2416163', '2340361', '2440616', '2437028', '2401574', '2414872', '2296397', '2308229', '2327182', '2440440', '2427413', '2424825', '2424636', '2427610', '2421345', '2423513', '2433938', '2412836', '2426617', '2435566', '2424907', '2422857', '2431289', '2435906', '2435103', '2409378', '2428235', '2422187', '2417974', '2433903', '2412691', '2428173', '2273049', '2433030', '2440566', '2428275', '2414789', '2424209', '2430325', '2422448', '2413191', '2429980', '2422494', '2421422', '2409633', '2434521', '2424840', '2282696', '2435018', '2435783', '2404432', '2419279', '2265259', '2416012', '2425241', '2430011', '2433906', '2437589', '2412034', '2409113', '2413634', '2418979', '2438467', '2301377', '2424106', '2412164', '2416062', '2423329', '2422389', '2390884', '2436613', '2397999', '2266216', '2431571', '2420338', '2412911', '2412698', '2331417', '2405559', '2434895', '2424861', '2421756', '2437213', '2408951', '2419691', '2420333', '2417390', '2409321', '2306473', '2433575', '2434053', '2418518', '2441150', '2414408', '2416692', '2436866', '2436787', '2422399', '2428324', '2418655', '2412830', '2422244', '2413453', '2432792', '2300921', '2207174', '2422377', '2418302', '2399932', '2437211', '2427629', '2434533', '2426590', '2425373', '2425941', '2434740', '2435877', '2438695', '2416449', '2416465', '2417583', '2429599', '1134494', '1116283', '2046922', '1302399', '1565847', '1558074', '2431332', '2347749', '2423463', '2436742', '2413145', '2370744', '2428185', '2409083', '2434842', '2433641', '2410623', '2416335', '2286077', '2438842', '2435930', '2425584', '2412251', '2435805', '2437842', '2416451', '2420063', '2419529', '2413644', '2417326', '2414179', '2440862', '2415408', '2431341', '2430172', '2438983', '2409994', '2416759', '2409829', '2435632', '2415021', '2344620', '2419582', '2386220', '2426185', '2410502', '2441371', '2198911', '2412321', '2322782', '2421758', '2438269', '2410605', '2410301', '2407584', '2410878', '2438182', '2421030', '2410461', '2410440', '2437815', '2413240', '2416873', '2412085', '2416367', '2422418', '2432205', '2411272', '2411522', '2261989', '2391708', '2419852', '2437837', '2401361', '2426912', '2426849', '2409257', '2428527', '2429277', '2431002', '2438991', '2419652', '2426151', '2429624', '2301714', '2412495', '2440464', '2420020', '2422266', '2422521', '2433361', '2414930', '2436124', '2416441', '2410773', '2434821', '2413115', '2418597', '2425332', '2422575', '2437760', '2436452', '2435353', '2386548', '2428026', '2441620', '2410867', '2417322', '2411763', '2439693', '2437033', '2431844', '2395105', '2430718', '2426148', '2425353', '2441289', '2426054', '2429155', '2439920', '2374000', '2380291', '2292658', '2401558', '2432892', '2428289', '2411372', '2436741', '2440557', '2383330', '2411434', '2426811', '2425945', '2408911', '2420664', '2428512', '2409534', '2417831', '2380050', '2432918', '2411246', '2428962', '2428165', '2205123', '2346102', '2440695', '2422532', '2419883', '2424405', '2426521', '2434110', '2423337', '2296087', '2437212', '2419470', '2424002', '2374174', '2410596', '2419157', '2440135', '2412583', '2440500', '2409267', '2422837', '2438870', '2440534', '2439815', '2414949', '2414152', '2414080', '2421946', '2421139', '2416853', '2427078', '2426479', '2415587', '2129292', '2428253', '2439656', '2441079', '2427490', '2378134', '2440902', '2430076', '2430760', '2413157', '2435386', '2423316', '2422564', '2403315', '2440181', '2416339', '2417208', '2417991', '2409413', '2427991', '2408887', '2432047', '2430585', '2432786', '2415578', '2412005', '2287770', '2437778', '2439705', '2405245', '2412643', '2428294', '2414827', '2410331', '2436730', '2438705', '2422509', '2438415', '2415379', '2415626', '2418409', '2100846', '1804514', '2440004', '2330166', '2331755', '2398274', '2437150', '2418753', '2410769', '2414343', '2430219', '2414257', '2409623', '2414380', '2416424', '2440398', '2410073', '2431192', '2430835', '2420173', '2424132', '2424288', '2414808', '2429165', '2421463', '2408751', '2439749', '2275160', '2223612', '2429716', '2419456', '2412835', '2438167', '2415590', '2424001', '2425824', '2413813', '2418503', '2423833', '2424140', '2426722', '2337917', '2419835', '2422890', '2422776', '2409300', '2425317', '2431719', '2174248', '2316493', '2419977', '2415458', '2418554', '2428284', '2414750', '2424905', '2423929', '2259923', '2415342', '2413044', '2428027', '2427505', '2384235', '2408084', '2436052', '2420494', '2428056', '2421487', '2426685', '2387534', '2431309', '2425191', '2416725', '2416061', '2416088', '2412113', '2418100', '2421889', '2429956', '2375671', '2418190', '2148884', '2427978', '2412022', '2434574', '2434283', '2431058', '2410612', '2433369', '2434379', '2438675', '2413602', '2433408', '2429184', '2420405', '2436373', '2415332', '2431582', '2427566', '2431023', '2410395', '2431499', '2433819', '2426171', '2389419', '2427433', '2426395', '2424737', '2433697', '2409121', '2418538', '2415047', '2437863', '2413458', '2433129', '2441420', '2417610', '2420922', '2436391', '2431780', '2428679', '2435914', '2437913', '2409835', '2433620', '2425921', '2402517', '2415818', '2424364', '2433804', '2413765', '2297046', '2426541', '2438994', '2437783', '2431409', '2421873', '2412785', '2426798', '2414444', '2400319', '2438385', '2431753', '2427485', '2436785', '2413650', '2428883', '2421256', '2337738', '2433196', '2435979', '2433123', '2411561', '2427144', '2418234', '2425693', '2411531', '2157600', '2409640', '2440536', '2188041', '2415853', '2371936', '2416830', '2414104', '2429909', '2432272', '2436877', '2429431', '2436669', '2430508', '2432100', '2437060', '2439180', '2424197', '2420385', '2426002', '2437614', '2389175', '2430062', '2424041', '2409918', '2420676', '2421305', '2422372', '2438752', '2429261', '2434105', '2427934', '2422292', '2427156', '2418558', '2284708', '2431656', '2414231', '2428243', '2421047', '2423033', '2422131', '2415605', '2429819', '2433738', '2383912', '2409259', '2439464', '2430674', '2429889', '2420686', '2426987', '2386293', '2419748', '2411257', '2412594', '2420807', '2038340', '1143651', '1475702', '2414126', '2410649', '2432202', '2432961', '2421111', '2429863', '2417798', '2414393', '2436651', '2436699', '2423765', '2421483', '2430306', '2408539', '2416244', '2432606', '2381823', '2418590', '2428624', '2440007', '2433876', '2412874', '2435472', '2430477', '2427899', '2430094', '2396113', '2407705', '2418818', '2408455', '2441659', '2424933', '2439249', '2421342', '2425493', '2412418', '2425516', '2428772', '2416408', '2409878', '2421564', '2421056', '2411344', '2412811', '2421290', '2428038', '2419868', '2433247', '2435186', '2412563', '2432045', '2436765', '2424322', '2417046', '2258812', '2437233', '2410015', '2419074', '2435130', '2436661', '2433679', '2430725', '2422275', '2408983', '2422472', '2439345', '2424045', '2433017', '2421663', '2429901', '2425631', '2441895', '2425098', '2268409', '2418410', '2412966', '2414048', '2441109', '2439800', '2412091', '2439984', '2408856', '2433965', '2402794', '2423222', '2424117', '2413792', '2431654', '2441938', '2428646', '2432736', '2436762', '2420496', '2410254', '2430545', '2420252', '2428863', '2429690', '2418017', '2411890', '2428727', '2430407', '2324643', '2412197', '2429576', '2411953', '2424295', '2414427', '2430565', '2435050', '2412915', '2439403', '2441672', '2425761', '2417432', '2408585', '2409183', '2419472', '2438822', '2410112', '2419949', '2433284', '2432865', '2419179', '2437220', '2412485', '2418064', '2377028', '2414713', '2420234', '2409580', '2416194', '2429630', '2432971', '2432960', '2426949', '2417740', '2426407', '2412246', '2418976', '2415556', '2412616', '2433616', '2434088', '2420794', '2440962', '2400652', '2431275', '2418885', '2419822', '2421505', '2408891', '2421353', '2431443', '2430965', '2414818', '2412683', '2399614', '2427138', '2433722', '2441847', '2435868', '2406848', '2434765', '2420847', '2418956', '2425841', '2402233', '2420102', '2419465', '2424398', '2436897', '2418853', '2415984', '2423500', '2423845', '2427428', '2132299', '2439839', '2412979', '2429190', '2413775', '2427693', '2338541', '2415512', '2260278', '2434194', '2436039', '2439310', '2431509', '2423254', '2363084', '2412617', '2419535', '2409460', '2418133', '2416410', '2208789', '2433059', '2438016', '2428467', '2432296', '2416630', '2418291', '2414756', '2426932', '2423462', '2422293', '2431589', '2417275', '2410845', '2423115', '2413897', '2421719', '2413961', '2425488', '2203927', '2426337', '1973803', '1452537', '1098683', '2425238', '2431858', '2414855', '2418063', '2415560', '2436654', '2427638', '2419722', '2418823', '2411647', '2409802', '2419648', '2426015', '2410543', '2432417', '2430912', '2412718', '2409853', '2431032', '2419427', '2410333', '2436021', '2414460', '2436195', '2437544', '2418091', '2410470', '2428479', '2431773', '2427140', '2419296', '2364075', '2419908', '2428713', '2412100', '2412592', '2415751', '2415456', '2441790', '2418634', '2440767', '2419484', '2413209', '2438976', '2422388', '2436333', '2429665', '2423224', '2441105', '2425932', '2417519', '2430524', '2431697', '2408916', '2438197', '2417697', '2423711', '2385595', '2418837', '2421914', '2365389', '2414627', '2434044', '2410489', '2426631', '2429414', '2434836', '2432461', '2410538', '2416497', '2402425', '2411182', '2421937', '2411771', '2418900', '2414063', '2439874', '2408572', '2429294', '2439726', '2416498', '2436298', '2408791', '2435218', '2417380', '2422728', '2409419', '2410403', '2430360', '2432895', '2421538', '2424998', '2419962', '2407926', '2425553', '2429680', '2420712', '2326377', '2411857', '2409004', '2421511', '2432135', '2435759', '2423892', '2419306', '2423453', '2412912', '2426542', '2419340', '2410358', '2421838', '2411682', '2418099', '2436913', '2412349', '2422751', '2409551', '2430135', '2423756', '2432770', '2372511', '2413591', '2419053', '2433777', '2424701', '2420660', '2421460', '2424965', '2440817', '2409930', '2435811', '2433611', '2409085', '2436342', '2411345', '1907335', '2416307', '2416303', '2414205', '2408550', '2438340', '2437005', '2411367', '2225774', '2419300', '2412032', '2434900', '2360812', '2430583', '2436767', '2433866', '2431791', '2435108', '2437344', '2421162', '2416144', '2422486', '2408830', '2412569', '2431679', '2441351', '2413278', '2418773', '2441878', '2417362', '2413481', '2435540', '2422526', '2427758', '2415281', '2432133', '2428212', '2417501', '2435236', '2277220', '2418135', '2403594', '2389051', '2427653', '2423031', '2416056', '2435658', '2422492', '2438825', '2410848', '2415736', '2420615', '2439866', '2424477', '2430495', '2439064', '2317824', '2404667', '2422893', '2409555', '2415270', '2408556', '2423177', '2429118', '2431795', '2389367', '2415391', '2410476', '2435665', '2441800', '2429821', '2417426', '2415027', '2435538', '2411583', '2429898', '2414802', '2436353', '2384316', '2439119', '2439473', '2287277', '2289601', '2419495', '2441413', '2440804', '2410610', '2410213', '2438772', '2427516', '2427182', '2418959', '2418025', '2424467', '2441161', '2414051', '2435202', '2438678', '2431735', '2411814', '2423331', '2419239', '2424462', '2416258', '2426868', '2418312', '2436675', '2420980', '2436106', '2431553', '2410399', '2411729', '2411699', '2441354', '2425663', '2424340', '2431860', '2425422', '2416754', '2425495', '2422533', '2422206', '2410619', '2433145', '2433572', '2412742', '2421174', '2436059', '2438835', '2420559', '2426219', '2428271', '2428522', '2435167', '2433536', '2432249', '2439089', '2420737', '2440079', '2413704', '2426646', '2421216', '2418457', '2434771', '2420849', '2428382', '2409787', '2378436', '2368750', '2282941', '2425396', '2408463', '2440525', '2418825', '2439801', '2431660', '2430656', '2433557', '2409664', '2414463', '2438219', '2441778', '2405728', '2417399', '2411831', '2409103', '2416198', '2435349', '2403849', '2422917', '2427137', '2414880', '2434020', '2441853', '2421918', '2434832', '2423637', '2429815', '2430778', '2410052', '2417455', '2395936', '2422451', '2376820', '2430817', '2434423', '2428434', '2423504', '2409670', '2425747', '2330133', '2425485', '2438676', '2434806', '2413900', '2434237', '2158913', '2419644', '2432390', '2422971', '2411535', '2424418', '2428662', '2439659', '2436986', '2409377', '2429405', '2441025', '2412669', '2436612', '2428741', '2441401', '2419569', '2247105', '2416569', '2429842', '2420691', '2411466', '2430159', '2408882', '2413686', '2432667', '2304461', '2412544', '2412298', '2437343', '2427619', '2410423', '2432505', '2411606', '2409535', '2411797', '2427438', '2422208', '2412630', '2440806', '2434126', '2419043', '2399109', '2437749', '2412725', '2437523', '2419504', '2431981', '2415879', '2399344', '2431841', '2421395', '2415424', '2413238', '2439189', '2428940', '2421052', '2331719', '2432195', '2419115', '2422320', '2412861', '2411023', '2411883', '2412220', '2407506', '2435764', '2432582', '2426335', '2431730', '2417717', '2419756', '2428660', '2425890', '2409914', '2417365', '2413556', '2431313', '2441301', '2430281', '2427671', '2426105', '2428391', '2437542', '2441884', '2429768', '2438276', '2129354', '2427937', '2410599', '2421462', '2429497', '2429510', '2436543', '2427356', '2437698', '2428821', '2428730', '2411901', '2363369', '2408962', '2421944', '2431842', '2423588', '2433428', '2425182', '2402228', '2437702', '2430621', '1914130', '1092479', '1918518', '1747362', '2312994', '2289307', '2194639', '2192630', '2256481', '2262622', '1728376', '2266069', '1498788', '2039921', '2262760', '1789326', '2086133', '2259839', '2262415', '2278280', '1184897', '2084461', '1981226', '2240638', '1176017', '1198084', '2215389', '1006484', '1038333', '1137403', '1409207', '1745913', '1077327', '2290607', '2311914', '2314349', '2297053', '1133131', '1197841', '1781045', '1268323', '1467717', '2104205', '1421376', '2145511', '1196677', '1486541', '1109437', '2130612', '2210515', '1077265', '2265482', '2181227', '1786064', '1595874', '2303347', '2161410', '1075437', '1020978', '2243450', '1224601', '1197922', '1944256', '1922662', '1500014', '2298214', '2303584', '2220419', '1549763', '1060709', '1027544', '2189810', '1634321', '1875544', '2260789', '2057860', '1273150', '1822198', '2168840', '1077860', '2027821', '2273705', '2204326', '1148519', '2241256', '1518890', '2256091', '2199599', '1890252', '1912470', '2256041', '1107386', '1072281', '1190052', '1717732', '2269865', '2213090', '1910855', '1085078', '1252123', '1926625', '1134549', '2247175', '1857341', '1051643', '1166760', '2280486', '2217511', '1412094', '2058316', '1022694', '2232744', '2242763', '1030927', '2084521', '2224999', '1147302', '2241732', '2271771', '1966537', '1017021', '1235430', '1004704', '1004371', '1353384', '1284060', '1085104', '1847101', '1083928', '1065145', '1256865', '1404171', '2036873', '2165540', '2211315', '2066265', '2035557', '2276654', '2259088', '1202280', '1940419', '2075058', '1413929', '2108076', '2233012', '1591411', '2248290', '2140820', '1407002', '2217292', '1034968', '2157925', '1935728', '2159669', '2283288', '2246075', '1494494', '1129142', '1036766', '1075913', '1026488', '1380846', '1133142', '1079218', '1911292', '1682224', '1792319', '1279551', '1854828', '1383384', '1201031', '2267100', '2096875', '1945615', '1937105', '1955818', '2257907', '2090498', '1875403', '2139566', '2295036', '1074930', '1019668', '1068285', '1423908', '2294218', '2291738', '1043750', '2239268', '2107313', '1216400', '1012308', '1232964', '1812311', '1129301', '2056135', '1105416', '2154076', '2267737', '1206824', '1174091', '1370715', '1017409', '2166138', '1837822', '1654312', '1248341', '1309982', '1223778', '2291955', '2209689', '2240146', '1026474', '2283636', '2284627', '1338086', '1182077', '2183035', '1077955', '1361994', '1957217', '2240518', '1420686', '2111583', '1121338', '1282835', '1848115', '1573523', '1401774', '1955393', '2238751', '1250166', '1590205', '2069749', '2168973', '1061712', '2176486', '2307688', '2234392', '1438678', '1187666', '1294434', '2035788', '1051012', '2129416', '1158480', '2149009', '1665958', '1263009', '2069407', '2270552', '1252981', '2261043', '1667434', '1939644', '1048580', '2267108', '2236316', '2099080', '2142927', '2294538', '1213523', '1573077', '2288307', '1194243', '1315277', '1065644', '2155798', '2260988', '1008068', '1025115', '2278650', '1332334', '2063877', '2260839', '2182208', '2269101', '1989910', '2064585', '2120577', '2246569', '1320143', '1000159', '2208593', '2270322', '2286486', '1353824', '2204598', '1013132', '2249137', '2285413', '1187732', '2297463', '1340614', '1065350', '2050374', '1036586', '2240948', '1130020', '1792472', '2275683', '1202141', '1053338', '1100761', '2254485', '1906763', '1511065', '1807116', '1471862', '1008980', '1982570', '1829287', '1125824', '2028373', '1043810', '2300308', '2110407', '2277917', '1064775', '2230816', '1431011', '2222595', '1796326', '1005330', '1260626', '1184713', '1231391', '2257150', '2245961', '1387930', '2273810', '2117521', '1658396', '1421483', '1074333', '2194931', '1282723', '1992744', '2267956', '1829155', '1299975', '1431311', '2271081', '2061494', '2282252', '2241749', '2245455', '1019589', '1035828', '1003385', '2223746', '1616504', '1181782', '1550425', '1039169', '2147434', '1257434', '1081236', '1697715', '1280142', '2248569', '2058995', '2105806', '2102509', '1949697', '1882457', '1296108', '2301760', '2293207', '1002539', '1455799', '2294612', '1072346', '2300723', '1215273', '1007781', '1249438', '1413241', '1452731', '2251889', '1690110', '2286568', '2143925', '1013864', '2267213', '1231832', '1027779', '1259296', '1438301', '1056427', '1250943', '2145835', '2296975', '1038052', '1864749', '1847317', '2076293', '1231562', '1749189', '1060307', '2266609', '2062795', '2058719', '1688809', '1190934', '1214391', '2098640', '1998090', '1854457', '2220300', '2171427', '2269481', '1011321', '1225941', '1292663', '1424868', '1784791', '2298948', '2121187', '2300297', '1749275', '1832554', '1947425', '2314118', '1195357', '1925336', '2101208', '1477134', '2217058', '1841427', '2016356', '2262063', '2095252', '1778534', '1872324', '1008115', '1326867', '2271390', '1013158', '1525870', '2167154', '2246182', '1125729', '1839977', '2095967', '2139688', '1366089', '2020045', '1045187', '1347703', '2181420', '1097965', '2000059', '2311244', '2283738', '1120273', '1445461', '2004079', '1718902', '1143001', '1443878', '2002414', '1359036', '2225272', '2161274', '2264980', '1100421', '1244394', '1726888', '1857480', '2249155', '2193516', '2118838', '1009916', '1342085', '2192603', '1092546', '1067367', '2294715', '1111858', '1219503', '2306417', '2048439', '1179915', '1401921', '1873134', '1138389', '1997330', '1813223', '2139586', '2247492', '1744749', '1451040', '2264364', '2185984', '2186267', '1371405', '1878933', '1083318', '2245813', '1028068', '1034282', '1001714', '1481087', '2296179', '2290905', '1943006', '1781557', '1897100', '2289264', '2301231', '1198687', '1999230', '1977997', '1022686', '1238872', '2217843', '1294340', '1490234', '1135874', '1625324', '1241777', '2292002', '1848755', '2064511', '1022969', '2276404', '2285674', '1270022', '2292763', '2289840', '1031642', '1713878', '1305342', '1146886', '2242972', '1205983', '2235000', '1129726', '2136899', '2255733', '1533595', '2251869', '1880291', '2268696', '1813839', '2096057', '2109148', '1908601', '1858399', '1002885', '1922729', '1736309', '2284333', '2296357', '1877938', '2173317', '1234926', '1743905', '1042165', '2312899', '2313599', '2284219', '1017991', '1207053', '1049702', '1170584', '2072803', '1354773', '1138271', '2249713', '1035681', '2278757', '1374228', '2195577', '1871799', '1196280', '2154714', '1698667', '1090939', '2277384', '1921644', '1927992', '2176410', '1134626', '2096786', '1009332', '1088353', '2262129', '2190599', '1228088', '2263205', '2277067', '1028272', '1959535', '1037907', '2199755', '1852692', '1915633', '1615371', '2295123', '2300396', '2247745', '1074712', '1048722', '1037908', '1805851', '1189083', '2150917', '2150795', '1746917', '2268850', '1365951', '1247050', '1063633', '2140025', '1056425', '1012898', '2133331', '1900852', '2122195', '1268174', '1936366', '1559559', '2062704', '1205896', '2286402', '1457511', '1736460', '2289726', '1968185', '1945795', '2286529', '2299850', '1511389', '2311121', '2054252', '1000914', '1004078', '2147575', '1978619', '2275259', '1288394', '2266061', '1905554', '1107563', '1621806', '1026162', '1184887', '2055734', '2228548', '1203029', '1227843', '1145446', '1034362', '1987623', '1086794', '1297827', '2297105', '1908061', '2295041', '1066029', '2304554', '1228098', '1504991', '1039697', '1004980', '1874049', '1416316', '2012970', '2183627', '1474204', '1826660', '1839869', '1028555', '2012352', '1789419', '1032677', '2219237', '1357320', '1081748', '1253803', '2272399', '1012279', '2276043', '2311409', '2306599', '2300150', '2276061', '1017275', '1060275', '2016224', '2131050', '1398247', '2143529', '2263681', '1072687', '2137538', '1815106', '2171420', '2206906', '2216416', '2204789', '2284323', '2140010', '1113217', '1621504', '1052581', '1092312', '1574000', '1781569', '2268018', '2050226', '1249572', '2278481', '1275076', '1876087', '1181081', '1038786', '1078261', '2298439', '1315702', '2060590', '1124689', '1226695', '1953457', '1882026', '2313862', '2287952', '2247644', '1450437', '2171596', '2111464', '1094802', '1598844', '1031750', '2135267', '1054232', '2056412', '1190616', '1205198', '2265511', '2241356', '1477514', '1413385', '1104451', '1975636', '1085853', '1046391', '1179533', '2239137', '1030102', '1284041', '1458425', '2046973', '1670804', '2165533', '1224460', '2209213', '1789659', '2311108', '1967781', '1544866', '1351219', '2118765', '1056460', '2277093', '1000549', '2258038', '1083679', '1356231', '2188062', '2264604', '2287348', '1515916', '1748667', '2171754', '1190027', '2013619', '1017533', '1001770', '2233752', '2265106', '1136015', '1044588', '1756920', '1925774', '1246814', '2308519', '2304176', '1074934', '1940449', '2288824', '2287248', '2289163', '1003605', '2256451', '2263118', '2278210', '1998354', '1256383', '1839074', '1244947', '1987493', '1679067', '2266480', '2074752', '2117036', '1434268', '1012438', '1714996', '2233345', '2061908', '1140173', '2228519', '2281189', '1391209', '1010521', '1121318', '1366816', '2274668', '2303336', '1678478', '2013347', '2297072', '1066083', '1178099', '1045850', '1821343', '2131639', '2245563', '1128529', '1029070', '1652145', '2089218', '2285256', '2287404', '2064942', '2266233', '1059292', '2273993', '1252853', '2158118', '2014951', '2206503', '1565252', '1197392', '1860631', '1557759', '1077051', '1026297', '1037611', '2204630', '2291052', '2284013', '1033450', '1887465', '2067207', '2104004', '2213349', '2161925', '1001587', '1113207', '1426168', '1200936', '1025568', '2263592', '2217193', '1455080', '2177248', '1203790', '1272773', '2238259', '1044464', '2174574', '1337177', '2155542', '1028477', '1086364', '1961803', '2290509', '2304333', '1759417', '2311939', '2293044', '2315185', '1408522', '1960543', '1337342', '2258949', '1805602', '2137175', '2224226', '2112826', '2172514', '2129739', '1989788', '1308372', '2285948', '1236004', '2264178', '2072827', '2208010', '2241680', '2286498', '1937629', '2206793', '2273473', '1979032', '1044643', '1034832', '2085837', '2285099', '1045001', '1076327', '1855608', '2296131', '2220757', '2271220', '1038255', '2289233', '2292107', '2033472', '1818011', '1255666', '2220330', '2277064', '2285437', '1557815', '2241111', '1003407', '2221159', '2254198', '1079098', '2264317', '2246730', '1286281', '1360482', '1395315', '2293150', '1092957', '1055590', '1978391', '1294703', '2297225', '2305998', '2234353', '1260212', '1954522', '2157056', '2172353', '2123397', '1119181', '2261272', '2223563', '2095851', '2262946', '2046519', '1679307', '1743552', '2267021', '2267182', '1421420', '2225382', '1216896', '2103353', '2133204', '2293227', '1079872', '1901425', '1422293', '1243831', '1235505', '2098254', '1030727', '2234610', '2249954', '1231362', '1039724', '1482071', '2079924', '2276226', '2284659', '2275910', '2274278', '2238232', '1104004', '1485910', '1379306', '1270514', '2218684', '1197117', '2149032', '1460728', '1270957', '1913326', '2228679', '1031424', '1232574', '1369528', '2301347', '2290553', '2309994', '2254290', '2076080', '2295395', '1236816', '2303561', '1207615', '1815905', '2187121', '1994776', '1054835', '1176856', '2275177', '2143256', '2265805', '2264856', '2196892', '2162707', '1899850', '1112613', '1011358', '2245270', '1385569', '1061620', '1040894', '1787981', '2298510', '2287039', '1019231', '1303602', '1039739', '1324615', '1237702', '1021891', '1249170', '2280621', '1177654', '1010295', '1191239', '2148941', '1993616', '1229471', '1129118', '1384014', '2178086', '1118015', '1377916', '1543951', '2137350', '1973898', '2290138', '1026257', '2305216', '1168788', '1366160', '1027254', '1216764', '1929998', '1881927', '1764117', '1158798', '1781772', '2279112', '2094211', '2247057', '2015978', '2185733', '2285672', '2163833', '1178387', '2285328', '1536109', '2148030', '1012352', '2259630', '1470766', '2242853', '2086207', '2249092', '1391659', '1007722', '1093907', '1835050', '1196411', '2242807', '1001582', '1741622', '1006677', '1131348', '1010714', '2213123', '1748841', '1534378', '2252064', '2016213', '1886678', '2013380', '2251069', '2259995', '1004590', '1485505', '1795105', '1461870', '1806375', '2046561', '2131056', '2276797', '2082298', '2264996', '2264341', '2031557', '2016955', '2143045', '2109515', '2245110', '2107180', '1025208', '1213164', '1072230', '1000466', '1957934', '1997100', '1010392', '1735603')\n",
      "),\n",
      "w_approved\n",
      "as\n",
      "(\n",
      "  select DISTINCT customerId from risk_credit_mis.loan_master_table where loantype = 'BIGLOAN' OR FLAGAPPROVAL = 1 OR FLAGDISBURSEMENT = 1  \n",
      "  or (stage1Status = 'EXPIRED' AND cddInitiatedDateAndTime IS NULL)\n",
      ")\n",
      "select *\n",
      "from\n",
      "(\n",
      "  select distinct\n",
      "  a.Customer_Id,a.TSA_Opening_date,\n",
      "  c.OFSTANDARDACCOUNTID as TSA_Account_Number, c.OfblockAmount, \n",
      "  a.TSA_Status,a.TSA_Balance,a.Solo_Stash_Balance,a.Group_Stash_Balance,a.Term_Deposit_Balance,a.Active_Term_Deposit_flag,a.Last_TSA_Credit_Date,a.Last_TSA_Debit_Date,\n",
      "  a.ARI_Flag,a.Active_Loan,a.Total_Loan_Outstanding,  case when b.customerId is not null then 1 else 0 end as Approved_Loans,\n",
      "  a.Pending_Loan_Applications,a.Hard_Reject_Loans_App,a.Soft_Reject_Loans_App,a.Cancelled_Loans_App, extract(date from a.Last_Login_Date) as Last_Login_Date,\n",
      "  a.Last_TSA_EOD_Balance_Date,a.Last_Group_Stash_Credit_Date,a.Group_Stash_Balance_Owner,a.Run_Date,a.Batch,a.Processing_Month,a.pending_loans_not_expired_not_exempt,a.expired_loans,\n",
      "  a.pending_loans_lastDt,a.expired_loans_lastDt,\n",
      "  CASE \n",
      "    WHEN tsa_status = 'Active' and (Last_TSA_Credit_Date = date '1970-01-01' and Last_Group_Stash_Credit_Date is null)\n",
      "    and (TSA_Opening_date < date '2024-03-27')   ####D-60 days(SHOULD BE SAME DATE FOR 1ST,2ND,3RD NOTIFICATION)\n",
      "    and ( round(coalesce(TSA_Balance,0) + coalesce(Solo_Stash_Balance,0) + coalesce(Group_Stash_Balance,0) + coalesce(Term_Deposit_Balance,0),2) = 0 )\n",
      "    and (Active_Loan = 0) and (COALESCE(Pending_Loan_Applications,0) = 0)\n",
      "    and (Active_Term_Deposit_flag = 0)\n",
      "    and (ARI_Flag = 'N')\n",
      "    --and (Approved_Loans = 0)  THEN 'TYPE 1'\n",
      "    and b.customerId is null  THEN 'TYPE 1'\n",
      "\n",
      "\n",
      "    WHEN tsa_status = 'Active' and Last_TSA_EOD_Balance_Date is null and (TSA_Opening_date < date '2024-03-27')  ####D-60 days(SHOULD BE SAME DATE FOR 1ST,2ND,3RD NOTIFICATION)\n",
      "    and ( round(coalesce(TSA_Balance,0) + coalesce(Solo_Stash_Balance,0) + coalesce(Group_Stash_Balance,0) + coalesce(Term_Deposit_Balance,0),2) = 0 )\n",
      "    and (Active_Loan = 0) and (COALESCE(Pending_Loan_Applications,0) = 0)\n",
      "    and (Active_Term_Deposit_flag = 0)\n",
      "    and (ARI_Flag = 'N')\n",
      "    --and (Approved_Loans = 0)\n",
      "    and b.customerId is null  \n",
      "    and (date_trunc(TSA_Opening_date,day) = date_trunc(Last_Login_Date,day)) THEN 'TYPE 2'\n",
      "\n",
      "    \n",
      "    WHEN ( round(coalesce(TSA_Balance,0) + coalesce(Solo_Stash_Balance,0) + coalesce(Group_Stash_Balance,0) + coalesce(Term_Deposit_Balance,0),2) < 1 )\n",
      "            and (Active_Loan = 0) and (COALESCE(Pending_Loan_Applications,0) = 0)\n",
      "            and (Active_Term_Deposit_flag = 0)\n",
      "            and TSA_Opening_date < date '2023-11-28'                                     ####D-180 days(SHOULD BE SAME DATE FOR 1ST,2ND,3RD NOTIFICATION)\n",
      "            and (Last_TSA_Credit_Date < date '2023-11-28'                                 ####D-180 days(SHOULD BE SAME DATE FOR 1ST,2ND,3RD NOTIFICATION)\n",
      "            and Last_TSA_Debit_Date < date '2023-11-28'                                         ####D-180 days(SHOULD BE SAME DATE FOR 1ST,2ND,3RD NOTIFICATION)\n",
      "            and coalesce(Last_Group_Stash_Credit_Date,date '1970-01-01') < date '2023-11-28' )  ####D-180 days(SHOULD BE SAME DATE FOR 1ST,2ND,3RD NOTIFICATION)\n",
      "            and tsa_status = 'Active'\n",
      "            and (ARI_Flag = 'N')\n",
      "    --and (Approved_Loans = 0)\n",
      "            and b.customerId is null  \n",
      "    THEN 'TYPE 3'\n",
      "    ELSE 'NO ACTION'\n",
      "    END AS ACTION_TYPE\n",
      "  from w_tsa A\n",
      "  left join w_approved b\n",
      "  on cast(a.Customer_Id as int64) = b.customerId\n",
      "  left join core_raw.customer_accounts c\n",
      "  on c.OFCUSTOMERID = a.Customer_Id and c.CRINTERDESC = 'Transactional Savings Account Inv_R' and c.OFISCLOSED = 'N'\n",
      "  where\n",
      "  Run_Date = date '2024-06-18'  ###DATE change here to D-1\n",
      ")\n",
      "\n"
     ]
    }
   ],
   "source": [
    "print(sq)"
   ]
  },
  {
   "cell_type": "code",
   "execution_count": 18,
   "metadata": {},
   "outputs": [
    {
     "name": "stdout",
     "output_type": "stream",
     "text": [
      "Job ID 2a2c6cf7-0aaa-42a4-8d58-b6b21cc3e948 successfully executed: 100%|\u001b[32m██████████\u001b[0m|\n",
      "Downloading: 100%|\u001b[32m██████████\u001b[0m|\n"
     ]
    }
   ],
   "source": [
    "df = client.query(sq).to_dataframe(progress_bar_type = 'tqdm')"
   ]
  },
  {
   "cell_type": "code",
   "execution_count": 19,
   "metadata": {},
   "outputs": [
    {
     "data": {
      "text/html": [
       "<div>\n",
       "<style scoped>\n",
       "    .dataframe tbody tr th:only-of-type {\n",
       "        vertical-align: middle;\n",
       "    }\n",
       "\n",
       "    .dataframe tbody tr th {\n",
       "        vertical-align: top;\n",
       "    }\n",
       "\n",
       "    .dataframe thead th {\n",
       "        text-align: right;\n",
       "    }\n",
       "</style>\n",
       "<table border=\"1\" class=\"dataframe\">\n",
       "  <thead>\n",
       "    <tr style=\"text-align: right;\">\n",
       "      <th></th>\n",
       "      <th>Customer_Id</th>\n",
       "      <th>TSA_Opening_date</th>\n",
       "      <th>TSA_Account_Number</th>\n",
       "      <th>OfblockAmount</th>\n",
       "      <th>TSA_Status</th>\n",
       "      <th>TSA_Balance</th>\n",
       "      <th>Solo_Stash_Balance</th>\n",
       "      <th>Group_Stash_Balance</th>\n",
       "      <th>Term_Deposit_Balance</th>\n",
       "      <th>Active_Term_Deposit_flag</th>\n",
       "      <th>Last_TSA_Credit_Date</th>\n",
       "      <th>Last_TSA_Debit_Date</th>\n",
       "      <th>ARI_Flag</th>\n",
       "      <th>Active_Loan</th>\n",
       "      <th>Total_Loan_Outstanding</th>\n",
       "      <th>Approved_Loans</th>\n",
       "      <th>Pending_Loan_Applications</th>\n",
       "      <th>Hard_Reject_Loans_App</th>\n",
       "      <th>Soft_Reject_Loans_App</th>\n",
       "      <th>Cancelled_Loans_App</th>\n",
       "      <th>Last_Login_Date</th>\n",
       "      <th>Last_TSA_EOD_Balance_Date</th>\n",
       "      <th>Last_Group_Stash_Credit_Date</th>\n",
       "      <th>Group_Stash_Balance_Owner</th>\n",
       "      <th>Run_Date</th>\n",
       "      <th>Batch</th>\n",
       "      <th>Processing_Month</th>\n",
       "      <th>pending_loans_not_expired_not_exempt</th>\n",
       "      <th>expired_loans</th>\n",
       "      <th>pending_loans_lastDt</th>\n",
       "      <th>expired_loans_lastDt</th>\n",
       "      <th>ACTION_TYPE</th>\n",
       "    </tr>\n",
       "  </thead>\n",
       "  <tbody>\n",
       "    <tr>\n",
       "      <th>2287</th>\n",
       "      <td>2429339</td>\n",
       "      <td>2024-03-14</td>\n",
       "      <td>60824293390002</td>\n",
       "      <td>0.0</td>\n",
       "      <td>Active</td>\n",
       "      <td>0.00</td>\n",
       "      <td>0.0</td>\n",
       "      <td>0.0</td>\n",
       "      <td>0.0</td>\n",
       "      <td>0</td>\n",
       "      <td>1970-01-01</td>\n",
       "      <td>1970-01-01</td>\n",
       "      <td>N</td>\n",
       "      <td>0</td>\n",
       "      <td>0.0</td>\n",
       "      <td>0</td>\n",
       "      <td>0</td>\n",
       "      <td>0</td>\n",
       "      <td>0</td>\n",
       "      <td>0</td>\n",
       "      <td>2024-03-14</td>\n",
       "      <td>NaT</td>\n",
       "      <td>NaT</td>\n",
       "      <td>NaN</td>\n",
       "      <td>2024-06-18</td>\n",
       "      <td>Batch_1</td>\n",
       "      <td>June</td>\n",
       "      <td>0</td>\n",
       "      <td>1</td>\n",
       "      <td>NaT</td>\n",
       "      <td>2024-06-13</td>\n",
       "      <td>TYPE 1</td>\n",
       "    </tr>\n",
       "    <tr>\n",
       "      <th>185</th>\n",
       "      <td>2411292</td>\n",
       "      <td>2024-02-25</td>\n",
       "      <td>60824112920007</td>\n",
       "      <td>0.0</td>\n",
       "      <td>Active</td>\n",
       "      <td>0.00</td>\n",
       "      <td>0.0</td>\n",
       "      <td>0.0</td>\n",
       "      <td>0.0</td>\n",
       "      <td>0</td>\n",
       "      <td>1970-01-01</td>\n",
       "      <td>1970-01-01</td>\n",
       "      <td>N</td>\n",
       "      <td>0</td>\n",
       "      <td>0.0</td>\n",
       "      <td>0</td>\n",
       "      <td>0</td>\n",
       "      <td>0</td>\n",
       "      <td>0</td>\n",
       "      <td>0</td>\n",
       "      <td>2024-02-26</td>\n",
       "      <td>NaT</td>\n",
       "      <td>NaT</td>\n",
       "      <td>NaN</td>\n",
       "      <td>2024-06-18</td>\n",
       "      <td>Batch_1</td>\n",
       "      <td>June</td>\n",
       "      <td>0</td>\n",
       "      <td>1</td>\n",
       "      <td>NaT</td>\n",
       "      <td>2024-05-26</td>\n",
       "      <td>TYPE 1</td>\n",
       "    </tr>\n",
       "    <tr>\n",
       "      <th>6530</th>\n",
       "      <td>2440549</td>\n",
       "      <td>2024-03-25</td>\n",
       "      <td>60824405490004</td>\n",
       "      <td>0.0</td>\n",
       "      <td>Active</td>\n",
       "      <td>0.00</td>\n",
       "      <td>0.0</td>\n",
       "      <td>0.0</td>\n",
       "      <td>0.0</td>\n",
       "      <td>0</td>\n",
       "      <td>1970-01-01</td>\n",
       "      <td>1970-01-01</td>\n",
       "      <td>N</td>\n",
       "      <td>0</td>\n",
       "      <td>0.0</td>\n",
       "      <td>0</td>\n",
       "      <td>0</td>\n",
       "      <td>0</td>\n",
       "      <td>1</td>\n",
       "      <td>0</td>\n",
       "      <td>2024-03-25</td>\n",
       "      <td>NaT</td>\n",
       "      <td>NaT</td>\n",
       "      <td>NaN</td>\n",
       "      <td>2024-06-18</td>\n",
       "      <td>Batch_1</td>\n",
       "      <td>June</td>\n",
       "      <td>0</td>\n",
       "      <td>0</td>\n",
       "      <td>NaT</td>\n",
       "      <td>NaT</td>\n",
       "      <td>TYPE 1</td>\n",
       "    </tr>\n",
       "    <tr>\n",
       "      <th>630</th>\n",
       "      <td>2429296</td>\n",
       "      <td>2024-03-14</td>\n",
       "      <td>60824292960008</td>\n",
       "      <td>0.0</td>\n",
       "      <td>Active</td>\n",
       "      <td>0.00</td>\n",
       "      <td>0.0</td>\n",
       "      <td>0.0</td>\n",
       "      <td>0.0</td>\n",
       "      <td>0</td>\n",
       "      <td>1970-01-01</td>\n",
       "      <td>1970-01-01</td>\n",
       "      <td>N</td>\n",
       "      <td>0</td>\n",
       "      <td>0.0</td>\n",
       "      <td>0</td>\n",
       "      <td>0</td>\n",
       "      <td>0</td>\n",
       "      <td>0</td>\n",
       "      <td>0</td>\n",
       "      <td>2024-05-04</td>\n",
       "      <td>NaT</td>\n",
       "      <td>NaT</td>\n",
       "      <td>NaN</td>\n",
       "      <td>2024-06-18</td>\n",
       "      <td>Batch_1</td>\n",
       "      <td>June</td>\n",
       "      <td>0</td>\n",
       "      <td>1</td>\n",
       "      <td>NaT</td>\n",
       "      <td>2024-06-13</td>\n",
       "      <td>TYPE 1</td>\n",
       "    </tr>\n",
       "    <tr>\n",
       "      <th>1702</th>\n",
       "      <td>2057860</td>\n",
       "      <td>2023-05-23</td>\n",
       "      <td>60820578600007</td>\n",
       "      <td>0.0</td>\n",
       "      <td>Active</td>\n",
       "      <td>113.53</td>\n",
       "      <td>0.0</td>\n",
       "      <td>0.0</td>\n",
       "      <td>0.0</td>\n",
       "      <td>0</td>\n",
       "      <td>2024-05-31</td>\n",
       "      <td>2023-10-31</td>\n",
       "      <td>N</td>\n",
       "      <td>0</td>\n",
       "      <td>0.0</td>\n",
       "      <td>0</td>\n",
       "      <td>1</td>\n",
       "      <td>0</td>\n",
       "      <td>0</td>\n",
       "      <td>1</td>\n",
       "      <td>2024-05-27</td>\n",
       "      <td>2024-06-18</td>\n",
       "      <td>NaT</td>\n",
       "      <td>NaN</td>\n",
       "      <td>2024-06-18</td>\n",
       "      <td>Batch_1</td>\n",
       "      <td>June</td>\n",
       "      <td>1</td>\n",
       "      <td>1</td>\n",
       "      <td>2024-05-27</td>\n",
       "      <td>2023-08-23</td>\n",
       "      <td>NO ACTION</td>\n",
       "    </tr>\n",
       "    <tr>\n",
       "      <th>6360</th>\n",
       "      <td>1822198</td>\n",
       "      <td>2022-12-16</td>\n",
       "      <td>60818221980006</td>\n",
       "      <td>0.0</td>\n",
       "      <td>Active</td>\n",
       "      <td>0.61</td>\n",
       "      <td>0.0</td>\n",
       "      <td>0.0</td>\n",
       "      <td>0.0</td>\n",
       "      <td>0</td>\n",
       "      <td>2023-10-31</td>\n",
       "      <td>2023-10-31</td>\n",
       "      <td>N</td>\n",
       "      <td>0</td>\n",
       "      <td>0.0</td>\n",
       "      <td>0</td>\n",
       "      <td>0</td>\n",
       "      <td>0</td>\n",
       "      <td>0</td>\n",
       "      <td>0</td>\n",
       "      <td>2024-01-02</td>\n",
       "      <td>2024-06-18</td>\n",
       "      <td>NaT</td>\n",
       "      <td>NaN</td>\n",
       "      <td>2024-06-18</td>\n",
       "      <td>Batch_1</td>\n",
       "      <td>June</td>\n",
       "      <td>0</td>\n",
       "      <td>1</td>\n",
       "      <td>NaT</td>\n",
       "      <td>2023-03-28</td>\n",
       "      <td>TYPE 3</td>\n",
       "    </tr>\n",
       "    <tr>\n",
       "      <th>4857</th>\n",
       "      <td>2418673</td>\n",
       "      <td>2024-03-04</td>\n",
       "      <td>60824186730004</td>\n",
       "      <td>0.0</td>\n",
       "      <td>Active</td>\n",
       "      <td>0.00</td>\n",
       "      <td>0.0</td>\n",
       "      <td>0.0</td>\n",
       "      <td>0.0</td>\n",
       "      <td>0</td>\n",
       "      <td>1970-01-01</td>\n",
       "      <td>1970-01-01</td>\n",
       "      <td>N</td>\n",
       "      <td>0</td>\n",
       "      <td>0.0</td>\n",
       "      <td>0</td>\n",
       "      <td>0</td>\n",
       "      <td>0</td>\n",
       "      <td>1</td>\n",
       "      <td>0</td>\n",
       "      <td>2024-04-17</td>\n",
       "      <td>NaT</td>\n",
       "      <td>NaT</td>\n",
       "      <td>NaN</td>\n",
       "      <td>2024-06-18</td>\n",
       "      <td>Batch_1</td>\n",
       "      <td>June</td>\n",
       "      <td>0</td>\n",
       "      <td>0</td>\n",
       "      <td>NaT</td>\n",
       "      <td>NaT</td>\n",
       "      <td>TYPE 1</td>\n",
       "    </tr>\n",
       "    <tr>\n",
       "      <th>172</th>\n",
       "      <td>2426479</td>\n",
       "      <td>2024-03-11</td>\n",
       "      <td>60824264790001</td>\n",
       "      <td>0.0</td>\n",
       "      <td>Active</td>\n",
       "      <td>0.00</td>\n",
       "      <td>0.0</td>\n",
       "      <td>0.0</td>\n",
       "      <td>0.0</td>\n",
       "      <td>0</td>\n",
       "      <td>1970-01-01</td>\n",
       "      <td>1970-01-01</td>\n",
       "      <td>N</td>\n",
       "      <td>0</td>\n",
       "      <td>0.0</td>\n",
       "      <td>0</td>\n",
       "      <td>0</td>\n",
       "      <td>0</td>\n",
       "      <td>0</td>\n",
       "      <td>0</td>\n",
       "      <td>2024-03-12</td>\n",
       "      <td>NaT</td>\n",
       "      <td>NaT</td>\n",
       "      <td>NaN</td>\n",
       "      <td>2024-06-18</td>\n",
       "      <td>Batch_1</td>\n",
       "      <td>June</td>\n",
       "      <td>0</td>\n",
       "      <td>0</td>\n",
       "      <td>NaT</td>\n",
       "      <td>NaT</td>\n",
       "      <td>TYPE 1</td>\n",
       "    </tr>\n",
       "    <tr>\n",
       "      <th>2699</th>\n",
       "      <td>2412148</td>\n",
       "      <td>2024-02-26</td>\n",
       "      <td>60824121480004</td>\n",
       "      <td>0.0</td>\n",
       "      <td>Active</td>\n",
       "      <td>0.00</td>\n",
       "      <td>0.0</td>\n",
       "      <td>0.0</td>\n",
       "      <td>0.0</td>\n",
       "      <td>0</td>\n",
       "      <td>1970-01-01</td>\n",
       "      <td>1970-01-01</td>\n",
       "      <td>N</td>\n",
       "      <td>0</td>\n",
       "      <td>0.0</td>\n",
       "      <td>0</td>\n",
       "      <td>0</td>\n",
       "      <td>0</td>\n",
       "      <td>0</td>\n",
       "      <td>0</td>\n",
       "      <td>2024-02-26</td>\n",
       "      <td>NaT</td>\n",
       "      <td>NaT</td>\n",
       "      <td>NaN</td>\n",
       "      <td>2024-06-18</td>\n",
       "      <td>Batch_1</td>\n",
       "      <td>June</td>\n",
       "      <td>0</td>\n",
       "      <td>1</td>\n",
       "      <td>NaT</td>\n",
       "      <td>2024-05-27</td>\n",
       "      <td>TYPE 1</td>\n",
       "    </tr>\n",
       "    <tr>\n",
       "      <th>6747</th>\n",
       "      <td>2411591</td>\n",
       "      <td>2024-02-25</td>\n",
       "      <td>60824115910005</td>\n",
       "      <td>0.0</td>\n",
       "      <td>Active</td>\n",
       "      <td>0.00</td>\n",
       "      <td>0.0</td>\n",
       "      <td>0.0</td>\n",
       "      <td>0.0</td>\n",
       "      <td>0</td>\n",
       "      <td>1970-01-01</td>\n",
       "      <td>1970-01-01</td>\n",
       "      <td>N</td>\n",
       "      <td>0</td>\n",
       "      <td>0.0</td>\n",
       "      <td>0</td>\n",
       "      <td>0</td>\n",
       "      <td>0</td>\n",
       "      <td>0</td>\n",
       "      <td>0</td>\n",
       "      <td>2024-04-04</td>\n",
       "      <td>NaT</td>\n",
       "      <td>NaT</td>\n",
       "      <td>NaN</td>\n",
       "      <td>2024-06-18</td>\n",
       "      <td>Batch_1</td>\n",
       "      <td>June</td>\n",
       "      <td>0</td>\n",
       "      <td>1</td>\n",
       "      <td>NaT</td>\n",
       "      <td>2024-05-26</td>\n",
       "      <td>TYPE 1</td>\n",
       "    </tr>\n",
       "  </tbody>\n",
       "</table>\n",
       "</div>"
      ],
      "text/plain": [
       "     Customer_Id TSA_Opening_date TSA_Account_Number  OfblockAmount  \\\n",
       "2287     2429339       2024-03-14     60824293390002            0.0   \n",
       "185      2411292       2024-02-25     60824112920007            0.0   \n",
       "6530     2440549       2024-03-25     60824405490004            0.0   \n",
       "630      2429296       2024-03-14     60824292960008            0.0   \n",
       "1702     2057860       2023-05-23     60820578600007            0.0   \n",
       "6360     1822198       2022-12-16     60818221980006            0.0   \n",
       "4857     2418673       2024-03-04     60824186730004            0.0   \n",
       "172      2426479       2024-03-11     60824264790001            0.0   \n",
       "2699     2412148       2024-02-26     60824121480004            0.0   \n",
       "6747     2411591       2024-02-25     60824115910005            0.0   \n",
       "\n",
       "     TSA_Status  TSA_Balance  Solo_Stash_Balance  Group_Stash_Balance  \\\n",
       "2287     Active         0.00                 0.0                  0.0   \n",
       "185      Active         0.00                 0.0                  0.0   \n",
       "6530     Active         0.00                 0.0                  0.0   \n",
       "630      Active         0.00                 0.0                  0.0   \n",
       "1702     Active       113.53                 0.0                  0.0   \n",
       "6360     Active         0.61                 0.0                  0.0   \n",
       "4857     Active         0.00                 0.0                  0.0   \n",
       "172      Active         0.00                 0.0                  0.0   \n",
       "2699     Active         0.00                 0.0                  0.0   \n",
       "6747     Active         0.00                 0.0                  0.0   \n",
       "\n",
       "      Term_Deposit_Balance  Active_Term_Deposit_flag Last_TSA_Credit_Date  \\\n",
       "2287                   0.0                         0           1970-01-01   \n",
       "185                    0.0                         0           1970-01-01   \n",
       "6530                   0.0                         0           1970-01-01   \n",
       "630                    0.0                         0           1970-01-01   \n",
       "1702                   0.0                         0           2024-05-31   \n",
       "6360                   0.0                         0           2023-10-31   \n",
       "4857                   0.0                         0           1970-01-01   \n",
       "172                    0.0                         0           1970-01-01   \n",
       "2699                   0.0                         0           1970-01-01   \n",
       "6747                   0.0                         0           1970-01-01   \n",
       "\n",
       "     Last_TSA_Debit_Date ARI_Flag  Active_Loan  Total_Loan_Outstanding  \\\n",
       "2287          1970-01-01        N            0                     0.0   \n",
       "185           1970-01-01        N            0                     0.0   \n",
       "6530          1970-01-01        N            0                     0.0   \n",
       "630           1970-01-01        N            0                     0.0   \n",
       "1702          2023-10-31        N            0                     0.0   \n",
       "6360          2023-10-31        N            0                     0.0   \n",
       "4857          1970-01-01        N            0                     0.0   \n",
       "172           1970-01-01        N            0                     0.0   \n",
       "2699          1970-01-01        N            0                     0.0   \n",
       "6747          1970-01-01        N            0                     0.0   \n",
       "\n",
       "      Approved_Loans  Pending_Loan_Applications  Hard_Reject_Loans_App  \\\n",
       "2287               0                          0                      0   \n",
       "185                0                          0                      0   \n",
       "6530               0                          0                      0   \n",
       "630                0                          0                      0   \n",
       "1702               0                          1                      0   \n",
       "6360               0                          0                      0   \n",
       "4857               0                          0                      0   \n",
       "172                0                          0                      0   \n",
       "2699               0                          0                      0   \n",
       "6747               0                          0                      0   \n",
       "\n",
       "      Soft_Reject_Loans_App  Cancelled_Loans_App Last_Login_Date  \\\n",
       "2287                      0                    0      2024-03-14   \n",
       "185                       0                    0      2024-02-26   \n",
       "6530                      1                    0      2024-03-25   \n",
       "630                       0                    0      2024-05-04   \n",
       "1702                      0                    1      2024-05-27   \n",
       "6360                      0                    0      2024-01-02   \n",
       "4857                      1                    0      2024-04-17   \n",
       "172                       0                    0      2024-03-12   \n",
       "2699                      0                    0      2024-02-26   \n",
       "6747                      0                    0      2024-04-04   \n",
       "\n",
       "     Last_TSA_EOD_Balance_Date Last_Group_Stash_Credit_Date  \\\n",
       "2287                       NaT                          NaT   \n",
       "185                        NaT                          NaT   \n",
       "6530                       NaT                          NaT   \n",
       "630                        NaT                          NaT   \n",
       "1702                2024-06-18                          NaT   \n",
       "6360                2024-06-18                          NaT   \n",
       "4857                       NaT                          NaT   \n",
       "172                        NaT                          NaT   \n",
       "2699                       NaT                          NaT   \n",
       "6747                       NaT                          NaT   \n",
       "\n",
       "      Group_Stash_Balance_Owner    Run_Date    Batch Processing_Month  \\\n",
       "2287                        NaN  2024-06-18  Batch_1             June   \n",
       "185                         NaN  2024-06-18  Batch_1             June   \n",
       "6530                        NaN  2024-06-18  Batch_1             June   \n",
       "630                         NaN  2024-06-18  Batch_1             June   \n",
       "1702                        NaN  2024-06-18  Batch_1             June   \n",
       "6360                        NaN  2024-06-18  Batch_1             June   \n",
       "4857                        NaN  2024-06-18  Batch_1             June   \n",
       "172                         NaN  2024-06-18  Batch_1             June   \n",
       "2699                        NaN  2024-06-18  Batch_1             June   \n",
       "6747                        NaN  2024-06-18  Batch_1             June   \n",
       "\n",
       "      pending_loans_not_expired_not_exempt  expired_loans  \\\n",
       "2287                                     0              1   \n",
       "185                                      0              1   \n",
       "6530                                     0              0   \n",
       "630                                      0              1   \n",
       "1702                                     1              1   \n",
       "6360                                     0              1   \n",
       "4857                                     0              0   \n",
       "172                                      0              0   \n",
       "2699                                     0              1   \n",
       "6747                                     0              1   \n",
       "\n",
       "     pending_loans_lastDt expired_loans_lastDt ACTION_TYPE  \n",
       "2287                  NaT           2024-06-13      TYPE 1  \n",
       "185                   NaT           2024-05-26      TYPE 1  \n",
       "6530                  NaT                  NaT      TYPE 1  \n",
       "630                   NaT           2024-06-13      TYPE 1  \n",
       "1702           2024-05-27           2023-08-23   NO ACTION  \n",
       "6360                  NaT           2023-03-28      TYPE 3  \n",
       "4857                  NaT                  NaT      TYPE 1  \n",
       "172                   NaT                  NaT      TYPE 1  \n",
       "2699                  NaT           2024-05-27      TYPE 1  \n",
       "6747                  NaT           2024-05-26      TYPE 1  "
      ]
     },
     "execution_count": 19,
     "metadata": {},
     "output_type": "execute_result"
    }
   ],
   "source": [
    "pd.set_option('display.max_columns', None)\n",
    "df.sample(10)"
   ]
  },
  {
   "cell_type": "code",
   "execution_count": 20,
   "metadata": {},
   "outputs": [
    {
     "data": {
      "text/plain": [
       "(9445, 32)"
      ]
     },
     "execution_count": 20,
     "metadata": {},
     "output_type": "execute_result"
    }
   ],
   "source": [
    "df.shape"
   ]
  },
  {
   "cell_type": "code",
   "execution_count": 21,
   "metadata": {},
   "outputs": [
    {
     "data": {
      "text/plain": [
       "ACTION_TYPE\n",
       "TYPE 1       8173\n",
       "TYPE 3        975\n",
       "NO ACTION     270\n",
       "TYPE 2         27\n",
       "Name: count, dtype: int64"
      ]
     },
     "execution_count": 21,
     "metadata": {},
     "output_type": "execute_result"
    }
   ],
   "source": [
    "df['ACTION_TYPE'].value_counts()"
   ]
  },
  {
   "cell_type": "code",
   "execution_count": 22,
   "metadata": {},
   "outputs": [],
   "source": [
    "df.to_excel(r\"C:\\Users\\DwaipayanChakroborti\\OneDrive - Tonik Financial Pte Ltd\\MyStuff\\Marvin\\TSA Account Closure\\April24&May24 Ongoing Batch\\2024018_TSA_Account_Closure_2ndtNotification.xlsx\", sheet_name='TSA_Closure_2ndNotification', index = False)"
   ]
  },
  {
   "cell_type": "code",
   "execution_count": null,
   "metadata": {},
   "outputs": [],
   "source": []
  }
 ],
 "metadata": {
  "kernelspec": {
   "display_name": "prjreports",
   "language": "python",
   "name": "python3"
  },
  "language_info": {
   "codemirror_mode": {
    "name": "ipython",
    "version": 3
   },
   "file_extension": ".py",
   "mimetype": "text/x-python",
   "name": "python",
   "nbconvert_exporter": "python",
   "pygments_lexer": "ipython3",
   "version": "3.9.19"
  }
 },
 "nbformat": 4,
 "nbformat_minor": 2
}
