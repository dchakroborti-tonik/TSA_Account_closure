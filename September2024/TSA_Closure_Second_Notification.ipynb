{
 "cells": [
  {
   "cell_type": "markdown",
   "metadata": {},
   "source": [
    "# <div align=\"center\" style=\"color: #ff5733;\">TSA Closure Second Notification</div>"
   ]
  },
  {
   "cell_type": "code",
   "execution_count": 24,
   "metadata": {},
   "outputs": [],
   "source": [
    "# Import Libraries   \n",
    "\n",
    "import pandas as pd  \n",
    "import numpy as np  \n",
    "\n",
    "from google.cloud import bigquery\n",
    "import os\n",
    "\n",
    "path = r\"C:\\Users\\DwaipayanChakroborti\\AppData\\Roaming\\gcloud\\legacy_credentials\\dchakroborti@tonikbank.com\\adc.json\"\n",
    "\n",
    "os.environ[\"GOOGLE_APPLICATION_CREDENTIALS\"] = path\n",
    "client = bigquery.Client(project=\"prj-prod-dataplatform\")"
   ]
  },
  {
   "cell_type": "markdown",
   "metadata": {},
   "source": [
    "# Ask Balasubramani to refresh risk_credit_mis.tsa_account_closure table.\n",
    "**Check if that is refreshed when Balasubramani confirms it**"
   ]
  },
  {
   "cell_type": "code",
   "execution_count": 25,
   "metadata": {},
   "outputs": [
    {
     "name": "stdout",
     "output_type": "stream",
     "text": [
      "Job ID 141e4d41-9c6e-4dce-8cb6-62676b961bbc successfully executed: 100%|\u001b[32m██████████\u001b[0m|\n",
      "Downloading: 100%|\u001b[32m██████████\u001b[0m|\n"
     ]
    },
    {
     "data": {
      "text/html": [
       "<div>\n",
       "<style scoped>\n",
       "    .dataframe tbody tr th:only-of-type {\n",
       "        vertical-align: middle;\n",
       "    }\n",
       "\n",
       "    .dataframe tbody tr th {\n",
       "        vertical-align: top;\n",
       "    }\n",
       "\n",
       "    .dataframe thead th {\n",
       "        text-align: right;\n",
       "    }\n",
       "</style>\n",
       "<table border=\"1\" class=\"dataframe\">\n",
       "  <thead>\n",
       "    <tr style=\"text-align: right;\">\n",
       "      <th></th>\n",
       "      <th>Run_Date</th>\n",
       "      <th>cnt</th>\n",
       "    </tr>\n",
       "  </thead>\n",
       "  <tbody>\n",
       "    <tr>\n",
       "      <th>0</th>\n",
       "      <td>2024-07-07</td>\n",
       "      <td>595391</td>\n",
       "    </tr>\n",
       "  </tbody>\n",
       "</table>\n",
       "</div>"
      ],
      "text/plain": [
       "     Run_Date     cnt\n",
       "0  2024-07-07  595391"
      ]
     },
     "execution_count": 25,
     "metadata": {},
     "output_type": "execute_result"
    }
   ],
   "source": [
    "sq = \"\"\"select Run_Date, count(1)cnt from risk_credit_mis.tsa_account_closure group by 1 order by 1 desc\"\"\"\n",
    "df = client.query(sq).to_dataframe(progress_bar_type = 'tqdm')\n",
    "df.head(1)"
   ]
  },
  {
   "cell_type": "markdown",
   "metadata": {},
   "source": [
    "The date should show yesterday's date"
   ]
  },
  {
   "cell_type": "markdown",
   "metadata": {},
   "source": [
    "# Read the data from the first sheet for Type1 and Type2 data provided by Marvin"
   ]
  },
  {
   "cell_type": "code",
   "execution_count": 26,
   "metadata": {},
   "outputs": [
    {
     "data": {
      "text/plain": [
       "(8132, 2)"
      ]
     },
     "execution_count": 26,
     "metadata": {},
     "output_type": "execute_result"
    }
   ],
   "source": [
    "d1 = pd.read_excel(r\"C:\\Users\\DwaipayanChakroborti\\OneDrive - Tonik Financial Pte Ltd\\MyStuff\\Marvin\\TSA Account Closure\\May24&June24 Ongoing Batch\\SecondNotification_files\\Type 1 & 2.xlsx\")\n",
    "d1.shape"
   ]
  },
  {
   "cell_type": "code",
   "execution_count": 27,
   "metadata": {},
   "outputs": [
    {
     "name": "stdout",
     "output_type": "stream",
     "text": [
      "The unique count of customer_id is:\t8130\n"
     ]
    },
    {
     "data": {
      "text/html": [
       "<div>\n",
       "<style scoped>\n",
       "    .dataframe tbody tr th:only-of-type {\n",
       "        vertical-align: middle;\n",
       "    }\n",
       "\n",
       "    .dataframe tbody tr th {\n",
       "        vertical-align: top;\n",
       "    }\n",
       "\n",
       "    .dataframe thead th {\n",
       "        text-align: right;\n",
       "    }\n",
       "</style>\n",
       "<table border=\"1\" class=\"dataframe\">\n",
       "  <thead>\n",
       "    <tr style=\"text-align: right;\">\n",
       "      <th></th>\n",
       "      <th>Customer_Id</th>\n",
       "      <th>ACTION_TYPE</th>\n",
       "    </tr>\n",
       "  </thead>\n",
       "  <tbody>\n",
       "    <tr>\n",
       "      <th>0</th>\n",
       "      <td>2196994</td>\n",
       "      <td>TYPE 1</td>\n",
       "    </tr>\n",
       "    <tr>\n",
       "      <th>1</th>\n",
       "      <td>2441154</td>\n",
       "      <td>TYPE 1</td>\n",
       "    </tr>\n",
       "    <tr>\n",
       "      <th>2</th>\n",
       "      <td>2435167</td>\n",
       "      <td>TYPE 1</td>\n",
       "    </tr>\n",
       "    <tr>\n",
       "      <th>3</th>\n",
       "      <td>2418183</td>\n",
       "      <td>TYPE 1</td>\n",
       "    </tr>\n",
       "    <tr>\n",
       "      <th>4</th>\n",
       "      <td>2433983</td>\n",
       "      <td>TYPE 1</td>\n",
       "    </tr>\n",
       "  </tbody>\n",
       "</table>\n",
       "</div>"
      ],
      "text/plain": [
       "   Customer_Id ACTION_TYPE\n",
       "0      2196994      TYPE 1\n",
       "1      2441154      TYPE 1\n",
       "2      2435167      TYPE 1\n",
       "3      2418183      TYPE 1\n",
       "4      2433983      TYPE 1"
      ]
     },
     "execution_count": 27,
     "metadata": {},
     "output_type": "execute_result"
    }
   ],
   "source": [
    "print(f\"The unique count of customer_id is:\\t{len(d1['Customer_Id'].unique())}\")\n",
    "d1.head()\n"
   ]
  },
  {
   "cell_type": "markdown",
   "metadata": {},
   "source": [
    "# Read the data from the second sheet for Type3 data provided by Marvin"
   ]
  },
  {
   "cell_type": "code",
   "execution_count": 28,
   "metadata": {},
   "outputs": [
    {
     "data": {
      "text/plain": [
       "(951, 2)"
      ]
     },
     "execution_count": 28,
     "metadata": {},
     "output_type": "execute_result"
    }
   ],
   "source": [
    "d2 = pd.read_excel(r\"C:\\Users\\DwaipayanChakroborti\\OneDrive - Tonik Financial Pte Ltd\\MyStuff\\Marvin\\TSA Account Closure\\May24&June24 Ongoing Batch\\SecondNotification_files\\Type 3.xlsx\")\n",
    "d2.shape"
   ]
  },
  {
   "cell_type": "code",
   "execution_count": 29,
   "metadata": {},
   "outputs": [
    {
     "name": "stdout",
     "output_type": "stream",
     "text": [
      "The unique count of customer_id is:\t951\n"
     ]
    },
    {
     "data": {
      "text/html": [
       "<div>\n",
       "<style scoped>\n",
       "    .dataframe tbody tr th:only-of-type {\n",
       "        vertical-align: middle;\n",
       "    }\n",
       "\n",
       "    .dataframe tbody tr th {\n",
       "        vertical-align: top;\n",
       "    }\n",
       "\n",
       "    .dataframe thead th {\n",
       "        text-align: right;\n",
       "    }\n",
       "</style>\n",
       "<table border=\"1\" class=\"dataframe\">\n",
       "  <thead>\n",
       "    <tr style=\"text-align: right;\">\n",
       "      <th></th>\n",
       "      <th>Customer_Id</th>\n",
       "      <th>ACTION_TYPE</th>\n",
       "    </tr>\n",
       "  </thead>\n",
       "  <tbody>\n",
       "    <tr>\n",
       "      <th>0</th>\n",
       "      <td>1371405</td>\n",
       "      <td>TYPE 3</td>\n",
       "    </tr>\n",
       "    <tr>\n",
       "      <th>1</th>\n",
       "      <td>1477514</td>\n",
       "      <td>TYPE 3</td>\n",
       "    </tr>\n",
       "    <tr>\n",
       "      <th>2</th>\n",
       "      <td>1852692</td>\n",
       "      <td>TYPE 3</td>\n",
       "    </tr>\n",
       "    <tr>\n",
       "      <th>3</th>\n",
       "      <td>2292763</td>\n",
       "      <td>TYPE 3</td>\n",
       "    </tr>\n",
       "    <tr>\n",
       "      <th>4</th>\n",
       "      <td>2035788</td>\n",
       "      <td>TYPE 3</td>\n",
       "    </tr>\n",
       "  </tbody>\n",
       "</table>\n",
       "</div>"
      ],
      "text/plain": [
       "   Customer_Id ACTION_TYPE\n",
       "0      1371405      TYPE 3\n",
       "1      1477514      TYPE 3\n",
       "2      1852692      TYPE 3\n",
       "3      2292763      TYPE 3\n",
       "4      2035788      TYPE 3"
      ]
     },
     "execution_count": 29,
     "metadata": {},
     "output_type": "execute_result"
    }
   ],
   "source": [
    "print(f\"The unique count of customer_id is:\\t{len(d2['Customer_Id'].unique())}\")\n",
    "d2.head()"
   ]
  },
  {
   "cell_type": "code",
   "execution_count": 30,
   "metadata": {},
   "outputs": [
    {
     "data": {
      "text/plain": [
       "(9083, 2)"
      ]
     },
     "execution_count": 30,
     "metadata": {},
     "output_type": "execute_result"
    }
   ],
   "source": [
    "result = pd.concat([d1, d2], axis=0, ignore_index=True)\n",
    "result.shape"
   ]
  },
  {
   "cell_type": "code",
   "execution_count": 31,
   "metadata": {},
   "outputs": [
    {
     "data": {
      "text/plain": [
       "ACTION_TYPE\n",
       "TYPE 1    8107\n",
       "TYPE 3     951\n",
       "TYPE 2      25\n",
       "Name: count, dtype: int64"
      ]
     },
     "execution_count": 31,
     "metadata": {},
     "output_type": "execute_result"
    }
   ],
   "source": [
    "result.ACTION_TYPE.value_counts()"
   ]
  },
  {
   "cell_type": "code",
   "execution_count": 35,
   "metadata": {},
   "outputs": [
    {
     "data": {
      "text/html": [
       "<div>\n",
       "<style scoped>\n",
       "    .dataframe tbody tr th:only-of-type {\n",
       "        vertical-align: middle;\n",
       "    }\n",
       "\n",
       "    .dataframe tbody tr th {\n",
       "        vertical-align: top;\n",
       "    }\n",
       "\n",
       "    .dataframe thead th {\n",
       "        text-align: right;\n",
       "    }\n",
       "</style>\n",
       "<table border=\"1\" class=\"dataframe\">\n",
       "  <thead>\n",
       "    <tr style=\"text-align: right;\">\n",
       "      <th></th>\n",
       "      <th>Customer_Id</th>\n",
       "      <th>ACTION_TYPE</th>\n",
       "    </tr>\n",
       "  </thead>\n",
       "  <tbody>\n",
       "    <tr>\n",
       "      <th>8188</th>\n",
       "      <td>2256481</td>\n",
       "      <td>TYPE 3</td>\n",
       "    </tr>\n",
       "  </tbody>\n",
       "</table>\n",
       "</div>"
      ],
      "text/plain": [
       "     Customer_Id ACTION_TYPE\n",
       "8188     2256481      TYPE 3"
      ]
     },
     "execution_count": 35,
     "metadata": {},
     "output_type": "execute_result"
    }
   ],
   "source": [
    "result[result['Customer_Id'] == '2256481']"
   ]
  },
  {
   "cell_type": "code",
   "execution_count": 33,
   "metadata": {},
   "outputs": [
    {
     "name": "stdout",
     "output_type": "stream",
     "text": [
      "<class 'pandas.core.frame.DataFrame'>\n",
      "RangeIndex: 9083 entries, 0 to 9082\n",
      "Data columns (total 2 columns):\n",
      " #   Column       Non-Null Count  Dtype \n",
      "---  ------       --------------  ----- \n",
      " 0   Customer_Id  9083 non-null   int64 \n",
      " 1   ACTION_TYPE  9083 non-null   object\n",
      "dtypes: int64(1), object(1)\n",
      "memory usage: 142.0+ KB\n"
     ]
    }
   ],
   "source": [
    "result.info()"
   ]
  },
  {
   "cell_type": "code",
   "execution_count": 34,
   "metadata": {},
   "outputs": [
    {
     "name": "stdout",
     "output_type": "stream",
     "text": [
      "<class 'pandas.core.frame.DataFrame'>\n",
      "RangeIndex: 9083 entries, 0 to 9082\n",
      "Data columns (total 2 columns):\n",
      " #   Column       Non-Null Count  Dtype \n",
      "---  ------       --------------  ----- \n",
      " 0   Customer_Id  9083 non-null   object\n",
      " 1   ACTION_TYPE  9083 non-null   object\n",
      "dtypes: object(2)\n",
      "memory usage: 142.0+ KB\n"
     ]
    }
   ],
   "source": [
    "result['Customer_Id'] = result['Customer_Id'].astype(str)\n",
    "result.info()"
   ]
  },
  {
   "cell_type": "code",
   "execution_count": 36,
   "metadata": {},
   "outputs": [],
   "source": [
    "result.to_csv(\"temp.csv\", index = False)"
   ]
  },
  {
   "cell_type": "code",
   "execution_count": 37,
   "metadata": {},
   "outputs": [
    {
     "data": {
      "text/plain": [
       "('2196994', '2441154', '2435167', '2418183', '2433983')"
      ]
     },
     "execution_count": 37,
     "metadata": {},
     "output_type": "execute_result"
    }
   ],
   "source": [
    "a = tuple(result['Customer_Id'])\n",
    "a[:5]"
   ]
  },
  {
   "cell_type": "code",
   "execution_count": 38,
   "metadata": {},
   "outputs": [
    {
     "name": "stdout",
     "output_type": "stream",
     "text": [
      "D-1 day from current date 2024-07-07 00:00:00\n",
      "D-60 day from the current date - 1: 2024-05-08\n",
      "D-180 day from the current date -1: 2024-01-09\n",
      "D-1 day from the current date: 2024-07-07\n",
      "D-60 day from the current date: 2024-05-08\n",
      "D-180 day from the current date: 2024-01-09\n"
     ]
    }
   ],
   "source": [
    "d = '2024-07-07'   ### Need to change this to D-1 everytime we run this code ###\n",
    "# Get the current date\n",
    "current_date = pd.Timestamp.now().date()\n",
    "d_minus_1_days = current_date - pd.DateOffset(days=1)\n",
    "# Calculate D-60 days\n",
    "d_minus_60_days = '2024-05-08'\n",
    "# Calculate D-180 days\n",
    "d_minus_180_days = '2024-01-09'\n",
    "\n",
    "print(\"D-1 day from current date\", d_minus_1_days )\n",
    "print(\"D-60 day from the current date - 1:\", d_minus_60_days)\n",
    "print(\"D-180 day from the current date -1:\", d_minus_180_days)\n",
    "\n",
    "d_minus_1_days_string = d_minus_1_days.strftime('%Y-%m-%d')\n",
    "print(\"D-1 day from the current date:\", d_minus_1_days_string)\n",
    "\n",
    "d_minus_60_days_string = d_minus_60_days\n",
    "print(\"D-60 day from the current date:\", d_minus_60_days_string)\n",
    "\n",
    "d_minus_180_days_string = d_minus_180_days\n",
    "print(\"D-180 day from the current date:\", d_minus_180_days_string)"
   ]
  },
  {
   "cell_type": "markdown",
   "metadata": {},
   "source": [
    "The date should be D-1? If the date is not D-1 then ask Bala to refresh the table."
   ]
  },
  {
   "cell_type": "markdown",
   "metadata": {},
   "source": [
    "Step1: At line 11 change the date to D-1<br><br>\n",
    "Step2: At line around 36 (and (TSA_Opening_date < date '2023-10-18')   ####D-60 days(SHOULD BE SAME DATE FOR 1ST,2ND,3RD NOTIFICATION)) Change the date D-60 Days <br><br>\n",
    "Step3: At line around 45 (WHEN tsa_status = 'Active' and Last_TSA_EOD_Balance_Date is null and (TSA_Opening_date < date '2023-10-18')  ####D-60 days(SHOULD BE SAME DATE FOR 1ST,2ND,3RD NOTIFICATION)) Change the date D-60 Days <br><br>\n",
    "Step4: At line 58 (and TSA_Opening_date < date '2023-06-18'  and (Last_TSA_Credit_Date < date '2023-06-18' and Last_TSA_Debit_Date < date '2023-06-18' and coalesce(Last_Group_Stash_Credit_Date,date '1970-01-01') < date '2023-06-18')  ####D-180 days(SHOULD BE SAME DATE FOR 1ST,2ND,3RD NOTIFICATION)) <br><br>\n",
    "Step5: At line 72 (Run_Date = date '2024-01-09'###DATE change here to D-1) Change the date to D-1<br><br>"
   ]
  },
  {
   "cell_type": "markdown",
   "metadata": {},
   "source": [
    "First Notification we change all the steps <br><br>\n",
    "Second and Third Notification we only change Step1 and Step5\n",
    "For Second Notificaiton and Third Notificaiton the customre id should be from the file sent by Marvin. <br><br>"
   ]
  },
  {
   "cell_type": "code",
   "execution_count": 39,
   "metadata": {},
   "outputs": [
    {
     "data": {
      "text/plain": [
       "(549152, 29)"
      ]
     },
     "execution_count": 39,
     "metadata": {},
     "output_type": "execute_result"
    }
   ],
   "source": [
    "sq = f\"\"\"\n",
    "with\n",
    "w_kyc\n",
    "as\n",
    "(\n",
    "  select distinct PARTYID, SEGCATEGORYDESC, row_number() over(partition by partyid order by SEGEFFECTIVEFROM desc) as rnk from `core_raw.party_details`\n",
    "),\n",
    "w_tsa\n",
    "as\n",
    "(\n",
    "  select * from risk_credit_mis.tsa_account_closure where Run_Date = date '{d_minus_1_days_string}' ###DATE change here to D-1\n",
    "  and\n",
    "  Customer_Id not in (select cast(PARTYID as string) from w_kyc where rnk = 1 and SEGCATEGORYDESC = 'BKYC')\n",
    "  and\n",
    "  --customer_id in (select cast(customer_id as string) from prj-prod-dataplatform.dap_ds_poweruser_playground.tsa_2nd_notification_base_10jan2024)\n",
    "  customer_id not in {a}\n",
    ")\n",
    "select * from w_tsa;\n",
    "\"\"\"\n",
    "\n",
    "dfd = client.query(sq).to_dataframe()\n",
    "dfd.shape"
   ]
  },
  {
   "cell_type": "code",
   "execution_count": 41,
   "metadata": {},
   "outputs": [],
   "source": [
    "sq = f\"\"\"\n",
    "with\n",
    "w_kyc\n",
    "as\n",
    "(\n",
    "  select distinct PARTYID, SEGCATEGORYDESC, row_number() over(partition by partyid order by SEGEFFECTIVEFROM desc) as rnk from `core_raw.party_details`\n",
    "),\n",
    "w_tsa\n",
    "as\n",
    "(\n",
    "  select * from risk_credit_mis.tsa_account_closure where Run_Date = date '{d_minus_1_days_string}'  ###DATE change here to D-1\n",
    "  and\n",
    "  Customer_Id not in (select cast(PARTYID as string) from w_kyc where rnk = 1 and SEGCATEGORYDESC = 'BKYC')\n",
    "  and\n",
    "  --customer_id in (select cast(customer_id as string) from prj-prod-dataplatform.dap_ds_poweruser_playground.tsa_2nd_notification_base_10jan2024)\n",
    "  customer_id not in {a}\n",
    "),\n",
    "w_approved\n",
    "as\n",
    "(\n",
    "  select DISTINCT customerId from risk_credit_mis.loan_master_table where loantype = 'BIGLOAN' OR FLAGAPPROVAL = 1 OR FLAGDISBURSEMENT = 1  \n",
    "  or (stage1Status = 'EXPIRED' AND cddInitiatedDateAndTime IS NULL)\n",
    ")\n",
    "select *\n",
    "from\n",
    "(\n",
    "  select distinct\n",
    "  a.Customer_Id,a.TSA_Opening_date,\n",
    "  c.OFSTANDARDACCOUNTID as TSA_Account_Number, c.OfblockAmount, \n",
    "  a.TSA_Status,a.TSA_Balance,a.Solo_Stash_Balance,a.Group_Stash_Balance,a.Term_Deposit_Balance,a.Active_Term_Deposit_flag,a.Last_TSA_Credit_Date,a.Last_TSA_Debit_Date,\n",
    "  a.ARI_Flag,a.Active_Loan,a.Total_Loan_Outstanding,  case when b.customerId is not null then 1 else 0 end as Approved_Loans,\n",
    "  a.Pending_Loan_Applications,a.Hard_Reject_Loans_App,a.Soft_Reject_Loans_App,a.Cancelled_Loans_App, extract(date from a.Last_Login_Date) as Last_Login_Date,\n",
    "  a.Last_TSA_EOD_Balance_Date,a.Last_Group_Stash_Credit_Date,a.Group_Stash_Balance_Owner,a.Run_Date,a.Batch,a.Processing_Month,a.pending_loans_not_expired_not_exempt,a.expired_loans,\n",
    "  a.pending_loans_lastDt,a.expired_loans_lastDt,\n",
    "  CASE \n",
    "    WHEN tsa_status = 'Active' and (Last_TSA_Credit_Date = date '1970-01-01' and Last_Group_Stash_Credit_Date is null)\n",
    "    and (TSA_Opening_date < date '{d_minus_60_days_string}')   ####D-60 days(SHOULD BE SAME DATE FOR 1ST,2ND,3RD NOTIFICATION)\n",
    "    and ( round(coalesce(TSA_Balance,0) + coalesce(Solo_Stash_Balance,0) + coalesce(Group_Stash_Balance,0) + coalesce(Term_Deposit_Balance,0),2) = 0 )\n",
    "    and (Active_Loan = 0) and (COALESCE(Pending_Loan_Applications,0) = 0)\n",
    "    and (Active_Term_Deposit_flag = 0)\n",
    "    and (ARI_Flag = 'N')\n",
    "    --and (Approved_Loans = 0)  THEN 'TYPE 1'\n",
    "    and b.customerId is null  THEN 'TYPE 1'\n",
    "\n",
    "\n",
    "    WHEN tsa_status = 'Active' and Last_TSA_EOD_Balance_Date is null and (TSA_Opening_date < date '{d_minus_60_days_string}')  ####D-60 days(SHOULD BE SAME DATE FOR 1ST,2ND,3RD NOTIFICATION)\n",
    "    and ( round(coalesce(TSA_Balance,0) + coalesce(Solo_Stash_Balance,0) + coalesce(Group_Stash_Balance,0) + coalesce(Term_Deposit_Balance,0),2) = 0 )\n",
    "    and (Active_Loan = 0) and (COALESCE(Pending_Loan_Applications,0) = 0)\n",
    "    and (Active_Term_Deposit_flag = 0)\n",
    "    and (ARI_Flag = 'N')\n",
    "    --and (Approved_Loans = 0)\n",
    "    and b.customerId is null  \n",
    "    and (date_trunc(TSA_Opening_date,day) = date_trunc(Last_Login_Date,day)) THEN 'TYPE 2'\n",
    "\n",
    "    \n",
    "    WHEN ( round(coalesce(TSA_Balance,0) + coalesce(Solo_Stash_Balance,0) + coalesce(Group_Stash_Balance,0) + coalesce(Term_Deposit_Balance,0),2) < 1 )\n",
    "            and (Active_Loan = 0) and (COALESCE(Pending_Loan_Applications,0) = 0)\n",
    "            and (Active_Term_Deposit_flag = 0)\n",
    "            and TSA_Opening_date < date '{d_minus_180_days_string}'                                     ####D-180 days(SHOULD BE SAME DATE FOR 1ST,2ND,3RD NOTIFICATION)\n",
    "            and (Last_TSA_Credit_Date < date '{d_minus_180_days_string}'                                 ####D-180 days(SHOULD BE SAME DATE FOR 1ST,2ND,3RD NOTIFICATION)\n",
    "            and Last_TSA_Debit_Date < date '{d_minus_180_days_string}'                                         ####D-180 days(SHOULD BE SAME DATE FOR 1ST,2ND,3RD NOTIFICATION)\n",
    "            and coalesce(Last_Group_Stash_Credit_Date,date '1970-01-01') < date '{d_minus_180_days_string}' )  ####D-180 days(SHOULD BE SAME DATE FOR 1ST,2ND,3RD NOTIFICATION)\n",
    "            and tsa_status = 'Active'\n",
    "            and (ARI_Flag = 'N')\n",
    "    --and (Approved_Loans = 0)\n",
    "            and b.customerId is null  \n",
    "    THEN 'TYPE 3'\n",
    "    ELSE 'NO ACTION'\n",
    "    END AS ACTION_TYPE\n",
    "  from w_tsa A\n",
    "  left join w_approved b\n",
    "  on cast(a.Customer_Id as int64) = b.customerId\n",
    "  left join core_raw.customer_accounts c\n",
    "  on c.OFCUSTOMERID = a.Customer_Id and c.CRINTERDESC = 'Transactional Savings Account Inv_R' and c.OFISCLOSED = 'N'\n",
    "  where\n",
    "  Run_Date = date '{d_minus_1_days_string}'  ###DATE change here to D-1\n",
    ")\n",
    "\"\"\"\n"
   ]
  },
  {
   "cell_type": "code",
   "execution_count": 42,
   "metadata": {},
   "outputs": [
    {
     "name": "stdout",
     "output_type": "stream",
     "text": [
      "\n",
      "with\n",
      "w_kyc\n",
      "as\n",
      "(\n",
      "  select distinct PARTYID, SEGCATEGORYDESC, row_number() over(partition by partyid order by SEGEFFECTIVEFROM desc) as rnk from `core_raw.party_details`\n",
      "),\n",
      "w_tsa\n",
      "as\n",
      "(\n",
      "  select * from risk_credit_mis.tsa_account_closure where Run_Date = date '2024-07-07'  ###DATE change here to D-1\n",
      "  and\n",
      "  Customer_Id not in (select cast(PARTYID as string) from w_kyc where rnk = 1 and SEGCATEGORYDESC = 'BKYC')\n",
      "  and\n",
      "  --customer_id in (select cast(customer_id as string) from prj-prod-dataplatform.dap_ds_poweruser_playground.tsa_2nd_notification_base_10jan2024)\n",
      "  customer_id not in ('2196994', '2441154', '2435167', '2418183', '2433983', '2439130', '2418300', '2422147', '2418098', '2440531', '2417980', '2419103', '2436954', '2437152', '2401242', '2436176', '2425670', '2424811', '2437727', '2416976', '2409334', '2429740', '2412912', '2416940', '2411862', '2148884', '2440500', '2422303', '2409064', '2426753', '2416725', '2439106', '2413105', '2404666', '1116283', '2410336', '2405168', '2439705', '2416477', '2416863', '2359025', '2421876', '2350448', '2202022', '2410661', '2430965', '2417325', '2433141', '2422949', '2439874', '2398538', '2411679', '2434076', '2414004', '2408905', '2420218', '2414723', '2425784', '2421201', '2413197', '2424205', '2438585', '2426746', '2436652', '2437871', '2358600', '2430545', '2441351', '2424188', '2440018', '2422275', '2438822', '2414421', '2438219', '2018568', '2433569', '2145090', '2439506', '2209041', '2439652', '2427821', '2414617', '2424361', '2409280', '2428430', '2427144', '2421748', '2438864', '2424025', '2436052', '2429417', '2435745', '2427188', '1568179', '2417823', '2410733', '2439815', '2435835', '2418523', '2441888', '2417848', '2415187', '2433845', '2408157', '2411446', '2432612', '2434072', '2412206', '2422807', '1909017', '2418312', '2233232', '2432940', '2414949', '2419144', '2422705', '2441397', '2412736', '2431024', '2430295', '2426843', '2433763', '2422457', '2417882', '2418538', '2427438', '2410499', '2413090', '2437685', '2412388', '2410559', '2434765', '2417630', '2419146', '2433453', '2413204', '2429689', '2430194', '2416548', '2425631', '2438946', '2434242', '2421785', '2441239', '2420656', '2430258', '2413662', '2412452', '2427991', '2411380', '2436312', '2261106', '2439119', '2439429', '2427594', '2422129', '2413853', '2433342', '2427404', '2403928', '2398247', '2427555', '2414250', '2416055', '2429925', '2421816', '2425922', '2296638', '2412499', '2431806', '2441927', '2422436', '2409587', '2424846', '2426904', '2441843', '2410498', '2427699', '2415709', '2410349', '2338839', '2440389', '1777622', '2038340', '2413850', '2438674', '2409267', '2430587', '2439608', '2440685', '2436707', '2408868', '2376820', '2407171', '2416834', '2437432', '2315891', '2427574', '2394972', '2428686', '2419068', '2441134', '2419998', '2434469', '2420772', '2433875', '2416014', '2408464', '2409852', '2430301', '1137147', '2418687', '2417801', '2415677', '2409074', '2417758', '2418765', '2426396', '2423319', '2421703', '2429065', '2434040', '2430000', '2421459', '2439803', '2310313', '2418658', '2427368', '2440578', '2428243', '2408202', '2414516', '2429039', '2409461', '2427070', '2425902', '2420402', '2421715', '2440305', '2424782', '2421316', '2433815', '2423419', '2377028', '2430576', '2409300', '2350629', '2431794', '2440933', '2425486', '2418787', '2428383', '2425409', '2421347', '2433814', '2414878', '2415464', '2430661', '2436744', '2261067', '2415556', '1993659', '2410432', '2430597', '2413961', '2428294', '2419920', '2361463', '2413813', '2388212', '2423470', '2417108', '2431776', '2414935', '2414212', '2410437', '2415984', '2433343', '2426324', '2411999', '2352826', '2421638', '2415574', '2415175', '2439370', '2379860', '2421437', '2438503', '2411776', '2429668', '2417974', '2419567', '2436059', '2428313', '2344620', '2412933', '2436232', '2419222', '2428467', '2393268', '2311011', '2428295', '2413142', '2415706', '2357782', '2418125', '2440950', '2434906', '2436148', '2381861', '2420116', '2431781', '2419597', '2440710', '2321699', '2384879', '2424762', '2413096', '2435839', '2420919', '2422391', '2409501', '2417789', '2430193', '2431435', '2421271', '2427485', '2412600', '2420394', '2436280', '2418676', '2422738', '2416965', '2418655', '2414525', '2422069', '2416396', '2424711', '2419455', '2414776', '2429161', '2438555', '2414887', '2437262', '2441881', '2435751', '2418455', '2325720', '2413655', '2418020', '2408976', '2409177', '2232143', '2413687', '2423974', '2417761', '2405503', '2418059', '2408483', '2438863', '2438825', '2418167', '2434538', '2424142', '2417483', '2418234', '2432069', '2415949', '2417318', '2421247', '2411886', '2387124', '2433513', '2421441', '2390714', '2438899', '2430613', '2418584', '2433347', '2441412', '2425799', '2429682', '2426811', '2412032', '2440067', '2436982', '2413430', '2424322', '2426366', '2425216', '2405246', '2431985', '2411680', '2427117', '2432888', '2417821', '2430015', '2437150', '2428662', '2415103', '2426591', '2416192', '2411451', '2423044', '2420846', '2437953', '2438098', '2426256', '2355850', '2437934', '2415110', '2413999', '2427291', '2441037', '2441931', '2434883', '2322477', '2416498', '2438276', '2441383', '2409237', '2441907', '2432839', '2420830', '2424793', '2411382', '2432693', '2426693', '2418556', '2403594', '2135646', '2421499', '2410405', '2415034', '2417406', '2416408', '2415491', '2408965', '2435646', '2385098', '2427091', '2423352', '2438182', '2414301', '2437195', '2437593', '2439035', '2417502', '2430961', '2423283', '2437289', '2411146', '2409632', '2412113', '2429545', '2425036', '2430135', '2423810', '2306473', '2280166', '2422728', '2420463', '2427563', '2425392', '2423386', '2416604', '2412643', '2422359', '2309257', '2420309', '2414365', '2417326', '2431946', '1735948', '2429072', '2414169', '2441441', '2412869', '2431841', '2423504', '2419369', '2416270', '2399861', '2435946', '2440525', '2433042', '2427469', '2440131', '2423711', '2427828', '2416424', '2410531', '2438091', '2413613', '2435154', '2439985', '2435160', '2433211', '2431709', '2256453', '2425105', '2418996', '2436524', '2401234', '2420051', '2410769', '2440440', '2439832', '2409585', '2422267', '2422878', '2416241', '2411565', '2409399', '2409649', '2420660', '2431661', '2308288', '2417079', '2440886', '2424695', '2427939', '2426808', '2429777', '2425886', '2426504', '2434382', '2441258', '2343043', '2398970', '2409308', '2415654', '2420572', '2410308', '2425123', '2432014', '2413191', '2429443', '2425130', '2428216', '2435618', '2354097', '2415446', '2420523', '2439286', '2257560', '2420565', '2425480', '2417301', '2438594', '2428005', '2415391', '2435538', '2418618', '1182070', '2439920', '1095658', '2433170', '2428349', '2433071', '2431780', '2429564', '2424146', '2416830', '2425877', '2426024', '2412321', '2435708', '2439249', '2413352', '2421539', '2438861', '2418825', '2410371', '2412246', '2435844', '2438194', '2412997', '2334963', '2440420', '2414477', '2409565', '2410992', '2434667', '2420441', '2435385', '2438835', '2412994', '2415906', '2430049', '2441068', '2435239', '2390073', '2423674', '2438487', '2429980', '2432954', '2411738', '2418211', '2426175', '2419908', '2426608', '2411367', '2441375', '2233136', '2430522', '2434575', '2425167', '2438368', '2413543', '2416244', '2441935', '2424763', '2381689', '2436985', '2431833', '2416594', '2400654', '2412000', '2421305', '2440113', '2432045', '2426174', '2428776', '2440452', '2418307', '2411945', '2415321', '2430500', '2393604', '2411882', '2419467', '2425552', '2427516', '2418480', '2409139', '2430091', '2432339', '2418133', '2426923', '2427338', '2430001', '2230063', '2417263', '2426593', '2415802', '2424340', '2423588', '2426527', '2427033', '2440206', '2429158', '2420333', '2414445', '2435711', '2432456', '2432047', '2398208', '2414931', '2379797', '2406687', '2435026', '2417271', '2438357', '2429038', '2417939', '2426797', '2428169', '2416930', '2420020', '2418965', '2415580', '2412193', '2420256', '2423816', '2435300', '2411793', '2265259', '2437978', '2423601', '2419902', '2436131', '2409143', '2413602', '2428391', '2431307', '2317326', '2422753', '2422758', '2408814', '2432024', '2417285', '2420750', '2309887', '2437582', '2428469', '2386492', '2406576', '2419704', '2363912', '2419820', '2440079', '2414570', '2411883', '2417022', '2417676', '2420776', '2398693', '2420842', '1253185', '2410612', '2438124', '2428551', '2434712', '2419484', '2421583', '2440738', '2430191', '2426560', '2423331', '2418432', '2411771', '2409432', '2411853', '2412661', '2436102', '2410605', '2426184', '2432593', '2412374', '2430528', '2419596', '2410502', '2418956', '2409787', '2408756', '2433712', '2437121', '2407792', '2441312', '2439656', '2433357', '2417397', '1452537', '2436832', '2424469', '2390436', '2426126', '2435007', '2430969', '2333294', '2403139', '2362160', '2415260', '2430138', '2434593', '2429898', '2438023', '2265790', '2439515', '2436357', '2436674', '2415335', '2410543', '2426949', '2406952', '2289909', '2434802', '2410467', '2410878', '2439947', '2427201', '2415619', '2432368', '2431791', '2423322', '2418097', '2425643', '2432029', '2384958', '2427078', '1720429', '2408875', '2413503', '2409782', '2440968', '2433109', '2426381', '2415492', '2433614', '2415460', '2430154', '2417368', '2410413', '2411344', '2434805', '2440336', '2430707', '2406349', '2412496', '2420984', '2412249', '2412879', '2433090', '2309269', '2440202', '2421756', '2416339', '2420308', '2425342', '2408714', '2408539', '2426263', '2421463', '2419608', '2426674', '2419980', '2295641', '2414549', '2417501', '2441655', '2411966', '2414560', '2436543', '2356631', '2416190', '2418491', '2429555', '2426118', '2422198', '2418100', '2412906', '2412662', '2439473', '2412733', '2381691', '2431883', '2429486', '2438408', '2426590', '2432630', '2421532', '2431665', '2415343', '2440557', '2410573', '2426558', '2411269', '2412180', '2424737', '2427482', '2437029', '2438743', '2416769', '2422146', '2435431', '2427564', '2414309', '2421262', '2410015', '2412917', '2427582', '2411916', '2426342', '2409616', '2434799', '2431820', '1744402', '2421466', '2429889', '2420834', '2422329', '2390681', '2426633', '2433129', '2432211', '2416614', '2329889', '2438670', '2396950', '2430209', '2415788', '1567597', '2414284', '2437486', '2435735', '2424900', '2068342', '2409031', '2416701', '2422299', '2431341', '2431669', '2433381', '2409505', '2419076', '2417220', '2418481', '2430956', '2428718', '2435656', '2428874', '2432171', '2393313', '2440783', '2436918', '1657876', '2416489', '2436948', '2423501', '2427124', '2419874', '2415605', '2413118', '2420882', '2430247', '2408726', '2436866', '2188041', '2408791', '2384414', '2424830', '2430404', '2410680', '2412563', '2416706', '2432195', '2437634', '2441554', '2438938', '2411651', '2400368', '2303516', '2413633', '2409815', '2404406', '2414499', '2436391', '2421915', '2414378', '2362442', '2418528', '2433340', '2411088', '2415897', '2421558', '2423741', '2414992', '2415008', '2420452', '2416206', '2413634', '2419868', '2441090', '2432932', '2422272', '2414231', '2423225', '2415095', '2432913', '2410796', '2422563', '2411665', '2415384', '2419639', '2431928', '2437276', '2423387', '2440856', '2439893', '1819576', '2423653', '2407793', '2431880', '2426637', '2425939', '2438649', '2413711', '2438951', '2375671', '2296087', '2418517', '2440368', '2440536', '2419768', '2425370', '2424794', '2408795', '2412091', '2421426', '2439399', '2431129', '2436606', '2436762', '2438898', '2146947', '1806434', '2415895', '2434300', '2431081', '2418622', '2414543', '2422857', '2426645', '2441103', '2422070', '2429035', '2426148', '2413103', '2421938', '2419162', '2418694', '2414292', '2426607', '2419043', '2435369', '2433284', '2436984', '2413680', '2426348', '2432423', '2359039', '2410561', '2428636', '2425427', '2429431', '2415514', '2415038', '2421395', '2420339', '2432798', '2412970', '2410673', '2392489', '2438053', '2416410', '2436431', '2438801', '2441423', '2421019', '2434216', '2369738', '2419679', '2356614', '2410399', '2359942', '2422801', '2435156', '2429624', '2419577', '2416195', '2433355', '2425804', '2432561', '2410454', '2421497', '2424529', '2438842', '2415757', '2436252', '2440701', '2422202', '2425421', '2419722', '2359055', '2421505', '2424166', '2374068', '2432100', '2438767', '2420442', '2436742', '1768250', '2431795', '2434997', '2423158', '2434821', '2408281', '2417422', '2417620', '2419440', '2409248', '2431548', '2317824', '2414928', '2415426', '2425767', '2427273', '2433560', '2418026', '2245284', '2408523', '2434126', '2409664', '2413781', '2431994', '2424171', '2431491', '2419470', '2415787', '2389175', '2432310', '2328002', '2371869', '2343697', '2422233', '2410017', '2411021', '2302375', '2416536', '2413226', '2420658', '2432877', '2441745', '2410361', '1691427', '2138875', '2440892', '2432056', '2433043', '2417697', '2427473', '2411710', '2439795', '2432372', '2410639', '2439891', '2439623', '2431824', '2439023', '2414945', '2307368', '2402345', '2415140', '2422190', '2364216', '2347086', '2430585', '2411683', '2198911', '2412311', '2427963', '2324643', '2434178', '2431773', '2412989', '2412251', '2430164', '2418990', '2432015', '2430264', '2429696', '2431845', '2421487', '2410649', '2435099', '2432263', '2417032', '2432850', '2434064', '2408883', '2412354', '2373203', '1580735', '2426981', '2437833', '2417740', '2410523', '2428702', '2412278', '2421046', '2429944', '2419529', '2409797', '2434433', '2430524', '2347577', '2209078', '2431253', '2423873', '2411179', '2430311', '2429769', '2425570', '2425895', '2411246', '2431656', '2165286', '2425179', '2425202', '2430598', '2411434', '2417288', '2410781', '2416754', '2437523', '2439198', '2431611', '2397229', '2417225', '2207875', '2409775', '2415093', '2415922', '2415818', '2413346', '2414750', '2414222', '2420100', '2402606', '2430696', '2414006', '2421507', '2425984', '2436786', '2436914', '2429859', '2417251', '2432672', '2427140', '2434490', '2418663', '2326037', '2438809', '2428215', '2411571', '2319113', '2382669', '2415532', '2409356', '2422097', '2399614', '2413913', '2418344', '2421128', '2422886', '2417566', '2420430', '2423262', '2426117', '2431550', '2428940', '2413979', '2414428', '2426312', '2419615', '2438035', '2416501', '2416376', '2401361', '2424364', '2431682', '2435025', '2441697', '2436708', '2414597', '2411456', '2432363', '2434279', '2429565', '2413116', '2414538', '2411186', '2412005', '2421653', '2431931', '2439005', '2131958', '2416335', '2432478', '2331755', '2438419', '2420549', '2420738', '2429776', '2424351', '2428022', '2432986', '2436997', '2410476', '2437867', '2440841', '2406520', '2434276', '2358436', '2418841', '2417248', '2423134', '2420413', '2414299', '2431590', '2429403', '2433968', '2387333', '2427995', '2422242', '2408930', '2409853', '2334483', '2408345', '2316790', '2174003', '2426810', '2415957', '2420503', '2421678', '2419628', '2429056', '2418834', '2419296', '2423407', '2431653', '2424020', '2417113', '2435760', '2428785', '2440630', '2414122', '2429479', '2435801', '1490108', '2423023', '2413992', '2410038', '2409507', '2428898', '2415236', '1263177', '2429881', '2440359', '2436385', '2430717', '2433436', '2434572', '2402856', '2413157', '2408988', '2428453', '2433332', '2420451', '2415310', '2424801', '1710441', '2385058', '2437614', '2409035', '2413456', '2438376', '2412040', '2412155', '2409475', '2441416', '2416018', '2413180', '2418593', '2409305', '2397615', '2412220', '2413526', '2433579', '2421365', '2434615', '2416676', '2425479', '2418452', '2430874', '2423433', '2412908', '2424294', '2425743', '2415178', '2435436', '2438413', '2410507', '2412197', '2441938', '2434938', '2437645', '2296628', '2274568', '2423338', '2426138', '2436430', '2411885', '2414696', '2440004', '2408201', '2297999', '2439310', '2433287', '2408595', '2414393', '2441769', '2409338', '2410262', '2409825', '2338755', '2051506', '2019320', '2415368', '2415933', '2439996', '1087784', '2427678', '2420569', '2432233', '2439869', '2441123', '2432711', '2435210', '2427478', '2430113', '2316936', '2426101', '2405630', '2435786', '2415617', '2418821', '2409392', '2424248', '2411690', '2409551', '2410125', '2313417', '2288377', '2428473', '2437461', '2428016', '2435281', '2328484', '2419091', '2238331', '2441237', '2235223', '2413737', '2404795', '2420265', '2437416', '2410346', '2437154', '2433980', '2438167', '2435827', '2427177', '2427150', '2437348', '2412616', '2427653', '2415727', '2435979', '2390282', '2348360', '2427787', '2431630', '2440203', '2420788', '2434194', '2009692', '2342379', '2424626', '2304089', '2413130', '2420975', '2422640', '2437256', '2428398', '2413240', '2422362', '2418726', '2441034', '2408971', '2404421', '2420409', '2432962', '2408703', '2411035', '2413658', '2417336', '2437822', '2424597', '2435006', '2434855', '2429960', '2416449', '2424187', '2419006', '2433521', '2408535', '1907335', '2426309', '2409011', '2424691', '2415858', '2424589', '2410530', '2419458', '2416986', '2439437', '2439654', '2416504', '2425096', '2288295', '2436637', '2438847', '2423337', '2408891', '2438817', '2421691', '2408170', '2413414', '2438746', '2435447', '2427726', '2428570', '2412067', '2436413', '2428809', '2409716', '2292658', '2412470', '2426905', '2437005', '2432049', '2440765', '2415436', '2412756', '2418895', '2419990', '2386220', '2420140', '2418176', '2408628', '2413152', '2421976', '2412603', '2419151', '2441027', '2423333', '2422945', '2422389', '2394890', '2424680', '2441114', '2418681', '2435434', '2414437', '2418343', '2440859', '2416072', '2439178', '2437577', '2431842', '2441853', '2436180', '2425885', '2413957', '2428738', '2430814', '2409940', '2413654', '1446887', '2413617', '2417946', '2433841', '2436290', '2412800', '2410524', '2411958', '2441130', '2412012', '2421909', '2440727', '2424042', '2419326', '2416152', '2422510', '2418384', '2423369', '2407584', '2431169', '2435566', '2413104', '2418531', '2418558', '2431447', '2426481', '2435054', '2439180', '2431108', '2373775', '2424359', '2436427', '2418219', '2414449', '2417209', '2411581', '2441062', '2427610', '2409760', '2434832', '2433013', '2418118', '2420281', '1371063', '2420606', '2382330', '2437427', '2437872', '2439244', '2437186', '2415780', '2441980', '2424159', '2420084', '2430465', '2437153', '2432051', '2431475', '2418453', '2376634', '2433862', '2440853', '2441584', '2422655', '2426089', '2422263', '2435536', '2420941', '2437665', '2436556', '2430708', '2435330', '2418425', '2413110', '2434139', '2418862', '2419316', '2399145', '2414623', '2419637', '2283546', '2412683', '2282941', '2418328', '2243267', '1918518', '2416711', '2438443', '2428726', '2437911', '2012273', '2419894', '2272826', '2427333', '2417111', '2412505', '2415056', '2428253', '2369628', '2205123', '2412772', '2428941', '2431814', '2409627', '2426068', '2426032', '2430621', '2410061', '2415220', '2418459', '2438284', '2415318', '2415975', '2412835', '2409504', '2428563', '2423937', '2420988', '2440527', '2421652', '2417688', '2419303', '2441887', '2406848', '2421900', '2429845', '2418949', '2422636', '2415012', '2409819', '2409757', '2424234', '2423116', '2414937', '1320883', '2086787', '2426407', '2414350', '2424176', '2429118', '2420445', '2430687', '2417048', '2428956', '2419648', '2426354', '2419324', '2430626', '2415135', '2417120', '2426119', '2412697', '2242771', '2426549', '2416903', '2410068', '2410462', '2356901', '2421904', '2438760', '2441659', '2425959', '2430306', '2301377', '2412739', '2429901', '2410103', '2413719', '2417755', '2439497', '2428105', '2409207', '2433383', '2435823', '2440398', '2410255', '2425349', '2439868', '2434230', '2428449', '2412867', '2424036', '2427029', '2433428', '2425324', '2419463', '2418440', '2432720', '2322782', '2434160', '2286258', '2412564', '2424694', '2223612', '2425556', '2436099', '2389061', '1400089', '2408877', '2427267', '2427799', '2441836', '2415365', '2203255', '2388156', '2437693', '2418550', '2441050', '2430881', '2412735', '2412342', '2425703', '2427940', '2422486', '2427672', '2417206', '2432217', '2417815', '2431618', '2423224', '2419300', '2386548', '2438047', '2418689', '2437081', '2420221', '2408800', '1970183', '2427312', '2433853', '2438929', '2412828', '2420921', '2418837', '2427899', '2412815', '2434725', '2412525', '2409707', '2421139', '2268409', '2425849', '2420980', '2439345', '2424506', '2441340', '2419606', '2409635', '2433180', '2377409', '2419872', '2412809', '2409412', '2437003', '2414401', '2432871', '2197052', '2419456', '2414588', '2431789', '2411098', '2422494', '2424343', '2410366', '2433756', '2441420', '2409415', '2128327', '2413336', '2440851', '2326377', '2417371', '2412426', '2429284', '2409369', '2422537', '2413592', '1098239', '2397463', '2430011', '2409926', '2441367', '2280418', '2428267', '2436562', '2425488', '2434177', '2313187', '2421784', '2434820', '2421174', '2416234', '2413049', '2433616', '2423345', '2293319', '2422889', '2432815', '2317054', '2431192', '2426305', '2410008', '2439894', '2417642', '2426104', '2438203', '2434045', '2411148', '2411306', '2411020', '2410751', '2429139', '2415683', '2418387', '2429518', '2438869', '2365712', '2419082', '2417399', '2431268', '2368092', '2414205', '2414576', '2360459', '2413524', '2441108', '2432752', '2074694', '2417541', '2430033', '1914130', '2428514', '2427292', '2434979', '2415015', '2413731', '2426931', '2417464', '2430823', '2430503', '2430917', '2417202', '2428524', '2391342', '2414099', '2425514', '2412653', '2418998', '2425738', '2417253', '2415822', '2433195', '2407926', '2423237', '2428202', '2420472', '2433633', '2408544', '2434781', '2420204', '2414827', '2428544', '1501628', '2425422', '2362284', '2419899', '2420509', '2436467', '2438131', '2422472', '2437285', '2436516', '2426084', '2408622', '2413704', '2423325', '2409155', '2420162', '2417259', '2333105', '2440422', '2401369', '2431872', '2381711', '2430375', '2433369', '2416465', '2418657', '2422392', '2420767', '2416325', '2413892', '2436039', '2408566', '2411014', '2433788', '2423414', '2422546', '2416276', '2410129', '2409401', '2426282', '2439759', '2419035', '2410112', '2413624', '2420663', '2413087', '2420091', '2436513', '2425393', '2437067', '2441462', '2413398', '2405559', '2436156', '2437749', '2434053', '2413780', '2422149', '2420464', '2428530', '2415412', '2437921', '2412766', '2430062', '2415249', '2412569', '2427955', '2400307', '2435295', '2440209', '2410427', '2430895', '2360629', '2427581', '2409526', '2426220', '2427842', '2436902', '2425289', '2439800', '2431944', '2430565', '2433878', '2413045', '2426303', '2416367', '2407975', '2402794', '2410537', '2426002', '2412575', '2412522', '2441468', '2424123', '2417891', '2420344', '2436995', '2240732', '2418320', '2417354', '2428893', '2428311', '2434078', '2419880', '2420237', '2429675', '2438551', '2421913', '2440397', '2403197', '2414848', '2422802', '2423475', '2412921', '2248589', '2421422', '2425116', '2439050', '2433906', '2424490', '2436185', '2410848', '2393624', '2423002', '2428820', '2404447', '2428401', '2439978', '2424398', '2426241', '2428812', '2414240', '2419343', '2419293', '2427138', '2409113', '2437231', '2420740', '2437272', '2194190', '2430378', '2432864', '2422347', '2424467', '2439793', '2423709', '2437133', '2434706', '2417432', '2339569', '2440533', '2434163', '2413062', '2395096', '2416168', '2415994', '2412087', '2421251', '2417803', '2415928', '2385391', '2418241', '2438985', '2431377', '2429680', '2428618', '2399013', '2430726', '2430407', '2436973', '2433149', '2424462', '2415633', '2421353', '2396653', '2416823', '2429747', '2412935', '2424531', '2427511', '2386940', '2412691', '2423446', '2432175', '2419569', '2426015', '2419273', '2440393', '2427156', '2415661', '2414402', '2438602', '2441131', '2416560', '2419428', '2420153', '2435032', '2405534', '2435427', '2413292', '2420710', '2287770', '2415483', '2424386', '2434895', '2438566', '2424226', '2413480', '2408950', '2427307', '2420348', '2275695', '2414483', '2423349', '2413190', '2433889', '2415653', '2361605', '2440464', '2427384', '2422112', '2419609', '2276881', '2427382', '2426436', '2284808', '2410857', '2429261', '2441057', '2412177', '2436008', '2413317', '2408963', '2231624', '2411051', '2411372', '2427400', '2425318', '2415728', '2416144', '2416198', '1512216', '2433361', '2415474', '2311237', '2429526', '2428697', '2416752', '2420513', '2410510', '2409051', '2426493', '2427753', '2408495', '2422958', '2433058', '2414107', '2410315', '2422313', '2414554', '2091709', '2431855', '1557116', '2437993', '2365453', '2409832', '2429563', '2432225', '2436181', '2434401', '2415275', '2421468', '2420664', '2420769', '2432980', '2415806', '2410829', '2427680', '2440253', '2425032', '2227351', '2438860', '2416309', '2435975', '2423018', '2438713', '2436245', '2439964', '2440449', '2409449', '2439777', '2413209', '2441152', '2408913', '2435624', '2440861', '2435834', '2280054', '2257030', '2420536', '2418744', '2421095', '2195335', '2094899', '2417103', '2426795', '2429049', '2405245', '2413844', '2440711', '1852924', '2424685', '2438306', '2417455', '2429909', '2423579', '2410780', '2431394', '2414137', '2429583', '2426771', '2436462', '2431366', '2440610', '2436114', '2413632', '2419421', '2420681', '2409343', '2435914', '2417701', '2423945', '2417426', '2432249', '2432799', '2430786', '2419053', '2422617', '2421301', '2426841', '2430478', '2408907', '2436755', '2438719', '2394095', '2437267', '2434421', '2410134', '2418494', '2416634', '2434854', '2431757', '2392509', '2436570', '2406482', '2429229', '2433191', '2414613', '2421293', '2437996', '2438109', '2425944', '2418479', '2427741', '2418091', '2425464', '2435875', '2230384', '2419701', '2319794', '2412863', '2225774', '2182725', '2412816', '2429085', '2434473', '2417765', '2430182', '2426430', '2178479', '2424906', '2411578', '2417760', '2439977', '2360658', '2421169', '2411968', '2424596', '2417322', '2433118', '2408487', '2409762', '2433557', '2436360', '2328057', '2411379', '2423067', '2412200', '1964027', '2408901', '2420718', '2431442', '2434877', '2412034', '2388603', '2424967', '2425077', '2422212', '2434563', '2419670', '2413716', '2415112', '2418666', '2429171', '2423755', '2397341', '2434070', '2440399', '2421342', '2423277', '2438479', '2416755', '2440552', '2421099', '2421282', '2413259', '2429815', '2412712', '2410152', '2418822', '2441810', '2414257', '2439408', '2439338', '2421312', '2328942', '2275388', '2417382', '2438921', '2424769', '2436898', '2437336', '2420966', '2412655', '2284875', '2418643', '2417583', '2441511', '2365241', '2404829', '2430544', '2407520', '2440900', '1804514', '2413689', '2410406', '2410444', '2409148', '2423078', '2441401', '2422890', '2428668', '2432145', '2423126', '1747362', '2440796', '2424562', '2412916', '2409747', '2414653', '2436856', '2408947', '2441271', '2439525', '2438856', '2439855', '2418648', '2434351', '2421451', '2413622', '2411036', '2371010', '2416491', '2432619', '2371717', '2421091', '2411910', '2430745', '2417798', '2430505', '2420796', '2418420', '2429468', '1930367', '2422646', '2411005', '2439193', '2214807', '2409503', '2437929', '2413593', '2424144', '2417403', '2429963', '2404024', '2419351', '2433086', '2436815', '2433230', '2425423', '2425749', '2413779', '2409534', '2435813', '2412260', '2413541', '2417481', '2422064', '2338327', '2421370', '2421377', '1092479', '2440307', '2424539', '2414727', '2430021', '2409290', '2438511', '2366357', '2425637', '2424735', '2412359', '2427614', '2429576', '2434067', '2428378', '2436213', '2415482', '2411010', '2421873', '2406088', '2419058', '2424649', '2363084', '2439914', '2424191', '2423328', '2425971', '2415585', '2435278', '2418999', '2420181', '2419599', '2409662', '2438886', '2439116', '2408394', '2428375', '2413224', '2429724', '2430064', '2418190', '2408882', '2416437', '2415434', '2419886', '2430738', '2415620', '2432133', '2439438', '2410333', '2428875', '1822229', '2431753', '2409850', '2379781', '2419611', '2428672', '2438583', '2427149', '2441352', '2413889', '2430342', '1584009', '2420446', '2410593', '2424893', '2388209', '2344082', '2410730', '2435050', '2426392', '2412579', '2432606', '2415212', '2417508', '2405271', '2418757', '2415027', '2437073', '1385117', '2413963', '2417769', '2411597', '2435018', '2435085', '2415774', '2414735', '2425920', '2409802', '2396187', '2412562', '2417163', '2413819', '2402517', '2416114', '2369894', '2424872', '2422836', '2431246', '2269754', '2421537', '2436907', '2429509', '2380880', '2439464', '2433645', '2412990', '2430358', '2421349', '2433795', '2434197', '2428512', '2437851', '2413289', '2430474', '2408750', '2408751', '2314431', '2423603', '2434073', '2433765', '2430966', '2432770', '2410718', '2426440', '2441354', '2415558', '2410285', '2411693', '2415815', '2436135', '2426817', '2436977', '2430131', '2350431', '2427717', '2426344', '2417046', '2409396', '2419395', '2429655', '2411650', '2420587', '2427391', '1460644', '2415712', '2440894', '2418472', '2427339', '2411709', '2432028', '2427452', '2386308', '2408454', '2419871', '2429996', '2426922', '2429692', '2413739', '2429057', '2414729', '2410000', '2429527', '2408277', '2413599', '2412572', '2432948', '2420978', '2434887', '2399932', '2414987', '2416305', '2423737', '2416181', '2419059', '2410435', '2415680', '2413310', '2419549', '2417146', '2415396', '2292992', '2411857', '1848364', '2427505', '2440460', '2438797', '2435990', '2425696', '2345445', '2433505', '2421122', '2185961', '2418487', '2440033', '2414429', '2427510', '2437784', '2437241', '2416295', '2428289', '2231486', '2410312', '2428741', '2414547', '2429834', '2434537', '2398129', '2437030', '2428195', '2407443', '2371940', '2431974', '1302399', '2441909', '2413606', '2414885', '1107828', '2408676', '2426632', '2340361', '2434306', '2429414', '2428983', '2412198', '2431089', '2416552', '2428247', '2414101', '2430771', '2420186', '2409046', '2415716', '2419241', '2420102', '2437789', '2417468', '2415630', '2433408', '2402228', '2418071', '2438262', '2435378', '2416169', '2427539', '2436508', '2428856', '2427086', '2437233', '2417666', '2388699', '2428605', '2425758', '2421302', '2409008', '2422047', '2412722', '1126536', '2427636', '2438352', '2431726', '2409931', '2414498', '2432840', '2427528', '2412275', '2440961', '2412215', '2421918', '2432918', '2438472', '2430562', '2421707', '2439282', '2440868', '2419150', '2420000', '2408820', '2408469', '2436183', '2420405', '2426701', '2425519', '2422178', '2409497', '2425756', '2417334', '2413563', '2432734', '2423014', '2437760', '2420356', '2410006', '2416365', '2437806', '2438454', '2197718', '2425403', '2440145', '2431309', '2408084', '2425966', '2416497', '2429796', '2425543', '2436582', '2180940', '2430307', '2173847', '2421672', '2421255', '2000245', '2416473', '2417284', '2404647', '2426508', '2431316', '2420396', '2408660', '2409799', '2428348', '2424503', '2420362', '2433679', '2425230', '2413775', '2120703', '2422033', '2440724', '2412343', '2436580', '2436654', '2429886', '2427583', '2121931', '2410610', '2422226', '2413902', '2429467', '2414219', '2420242', '2417629', '2434621', '2438305', '2441921', '2430181', '2431592', '2419804', '2417493', '2384579', '2433760', '2439765', '2436632', '2428866', '2412915', '2431560', '2432665', '2425098', '2425868', '2428628', '2411358', '2409062', '2408567', '2429600', '2426404', '2440722', '2364075', '2439726', '2414818', '2420385', '2414438', '2413556', '2438542', '2403542', '2428957', '2437783', '2430096', '2435559', '2439791', '2426185', '2417844', '2421345', '2419461', '2414713', '2433019', '2433863', '2412151', '2419535', '2430232', '2440550', '2430409', '2339771', '2414766', '2428147', '2411199', '2428479', '1564689', '2424197', '2409229', '2406760', '2421199', '2436913', '2408731', '2415775', '2418465', '2433391', '2438970', '2434149', '2425344', '2419073', '2433894', '2414370', '2418878', '2434843', '2416569', '2436333', '2399344', '2430821', '2361952', '2430482', '2424927', '2412490', '2436915', '2427161', '2408602', '2438980', '2437613', '2429797', '2434093', '2440401', '2425353', '2410615', '2413857', '2425334', '2413231', '2420418', '2421561', '2426963', '2426435', '2423024', '2420651', '2419189', '2404125', '2419962', '2435632', '2424018', '2416193', '2434985', '2411864', '2434998', '2427937', '2412430', '2406953', '2420147', '2424132', '2424209', '2422703', '2418025', '2439968', '2425111', '2282698', '2418773', '2422720', '2420069', '2439084', '2425424', '2435919', '2428536', '2430163', '2425125', '2405515', '2377869', '2411601', '2422541', '2288189', '2414655', '2433362', '2420173', '2423033', '2426798', '2441284', '2406707', '2426260', '2418697', '2436874', '2418567', '2432084', '2434208', '2433368', '2425431', '2422470', '2426849', '2411798', '2422410', '2411233', '2411626', '2426210', '2378730', '2241930', '2425765', '2397570', '2434010', '2417871', '2413111', '2424842', '2423254', '2387534', '2412162', '2421625', '2434668', '2418363', '1983544', '2420304', '2178672', '2370744', '2415884', '2436345', '2423270', '2410589', '2419031', '2415542', '2378436', '2409737', '2414464', '2425295', '2412678', '2420669', '2429903', '2413145', '2413912', '2425223', '2424807', '2421921', '2412760', '2408455', '2393289', '2415393', '2410423', '2439841', '2428527', '2420847', '2418635', '2438672', '2408463', '2434969', '2424612', '2421592', '2231877', '2366302', '2430930', '2427278', '2418248', '2422526', '2437099', '2421129', '2414263', '2409533', '2417443', '2434933', '2418258', '2409613', '2423859', '2425418', '2436452', '2408784', '2437211', '2435301', '2434238', '2409078', '2413458', '2433748', '2427560', '2415026', '2410326', '2422671', '2421147', '1351897', '2417704', '2414857', '2419500', '2424609', '2415868', '2429358', '2438720', '2306783', '2419302', '2421483', '2414397', '2415651', '2438931', '2415172', '2241101', '2420782', '2411177', '2440128', '2426941', '2411221', '2426622', '2414880', '2433659', '2417537', '2441762', '2436042', '2422328', '1565847', '2424045', '2420184', '2422505', '2431549', '2435930', '2412558', '2430712', '2425492', '2421457', '2437766', '2440181', '2431083', '2411868', '2408550', '2437835', '2418270', '2416999', '2148174', '2414571', '2435756', '2423507', '2393386', '2426469', '2424277', '2428899', '2438189', '2407671', '2415278', '2413318', '2416258', '2417952', '2430493', '2413013', '2417008', '2436517', '2431887', '2441847', '2429343', '2426826', '2392533', '2431815', '2403354', '2432755', '2324554', '2411647', '1349619', '2413356', '2411015', '2435077', '2411624', '2441236', '2403176', '2412065', '2434787', '2167952', '2411797', '2416630', '2414858', '2409228', '2412188', '2421338', '2410843', '2434740', '2430875', '2429270', '2435563', '2441020', '2429581', '2425891', '2408482', '2416263', '2438385', '2414698', '2425273', '2412422', '2416094', '2427219', '2426863', '2426868', '2422372', '2412305', '2408431', '2433078', '2412442', '2414416', '2409121', '2418503', '2167669', '2420552', '2415353', '2438695', '2425335', '2440732', '2410647', '2428962', '2433927', '2409419', '2433743', '2419240', '2421156', '2413375', '2368897', '2441884', '2413653', '2431046', '2409981', '2413605', '2260278', '2437439', '2411138', '2434252', '2433568', '2422791', '2412022', '2433885', '2410022', '2425797', '2433486', '2416799', '2411024', '2412126', '2431559', '2421168', '2427923', '2418369', '2420404', '2432902', '2440133', '2400652', '2427171', '2431553', '2426059', '2240867', '2412941', '2434896', '2410867', '2423514', '2400606', '2437724', '2415782', '2421204', '2418358', '2182536', '2410062', '2420532', '2433603', '2435346', '2424002', '1634064', '2436194', '2423299', '2420491', '2413385', '2418753', '2200008', '2363369', '2417362', '2426534', '2410178', '2437524', '2420367', '2414095', '2435996', '2437013', '2417448', '2408529', '2429294', '2413650', '2380869', '2423298', '2427546', '2408689', '2438473', '2434574', '2194050', '2428333', '2428094', '2417313', '2421710', '2431522', '2410514', '2424140', '2440962', '2423129', '2419502', '2415199', '2417961', '2423249', '2428624', '2406930', '2416562', '2409535', '2436152', '2414802', '2420246', '2436981', '2324908', '2381299', '2437589', '2426335', '2425777', '2429630', '2384235', '2417991', '2441983', '2412366', '2426395', '2430837', '2409809', '2436917', '2421492', '2410490', '2428863', '2412592', '2433938', '2434848', '2439442', '2409750', '2416353', '2418431', '2424256', '2383042', '2437011', '2441985', '2428587', '1081199', '2425644', '2437290', '2437212', '2418527', '2174248', '2412861', '2194933', '2430094', '2436870', '2430477', '2413306', '2437284', '2432125', '2433264', '2414972', '2413897', '2418784', '2410338', '2414868', '2428121', '2426054', '2440252', '2427137', '2414126', '2426840', '2418099', '2422088', '2416519', '2411229', '2412461', '2425923', '2425184', '2258967', '2430353', '2419783', '2409784', '2440719', '2417275', '2441444', '2438821', '2415313', '2430730', '2432615', '2427132', '2423220', '2409537', '2413572', '2420054', '2430074', '2427683', '2427479', '2427732', '2440109', '2402282', '2421719', '2419521', '2430611', '2435655', '2415050', '2441826', '2416553', '2429836', '2415829', '2416518', '2414051', '2415864', '2436316', '2421208', '2428541', '2430718', '2410591', '2408886', '2398814', '2413703', '2437372', '2422686', '2419005', '2293674', '2421761', '2430848', '2428727', '2431691', '2426103', '2413600', '2386452', '2422779', '2427152', '2423658', '2422365', '2421731', '2412944', '2415638', '2433819', '2413407', '2406499', '2414627', '2409084', '2436626', '2422817', '2422295', '2436321', '2408952', '2425415', '2421383', '2432971', '2423845', '2437033', '2414528', '2429773', '2411905', '2297046', '2441500', '2413748', '2319654', '2414182', '2437098', '2412318', '2432616', '2201515', '2413311', '2415723', '2423946', '2421294', '2421514', '2418619', '2408606', '2441908', '2417009', '2415893', '2430713', '2422052', '2414179', '2440249', '2375930', '2425553', '2431805', '2434879', '2431289', '2418345', '2421542', '2438059', '2413533', '2411985', '2358796', '2399918', '2434806', '2429009', '2413710', '2407839', '2436791', '2383015', '2434235', '1732950', '2371367', '2417680', '2426722', '2240592', '2417531', '2413124', '2385369', '2434422', '2413818', '2436644', '2421577', '2438340', '2421908', '2412045', '2394698', '2433948', '2409529', '2429136', '2435092', '2420220', '2420012', '2439228', '2426050', '2409857', '2427622', '2418370', '2416781', '2422565', '2422821', '2440983', '2132589', '2410395', '2421170', '2422182', '2402233', '2415258', '2400981', '2419117', '2413631', '2408781', '2405278', '2436986', '2438936', '2409319', '2416201', '2439086', '2397418', '2428703', '2435829', '2432419', '2173523', '2416362', '2438535', '2416992', '2436661', '2432305', '2429413', '2412148', '2427674', '2418634', '2416692', '2415950', '2418511', '2429474', '2427540', '2410975', '2422360', '2421406', '2409405', '2430433', '2428465', '2419895', '2409467', '2427781', '2432730', '2416062', '2408344', '2409554', '2441513', '2427697', '2434283', '2436886', '2420486', '2429094', '2412017', '2423554', '2408806', '2409539', '2424207', '2419924', '2437742', '2421269', '2412966', '2304581', '2416495', '2413429', '2412565', '2424347', '2401558', '2426087', '2433574', '2436923', '2418823', '2434515', '2421930', '2415188', '2416808', '2418467', '2437060', '2413669', '2436126', '2410817', '2395317', '2210760', '2423436', '2416862', '2380054', '2439710', '2435125', '2440739', '2422322', '2428691', '2441019', '2411536', '2411136', '2426959', '2416087', '2435701', '2421937', '2437128', '2431567', '2408768', '2433641', '2411054', '2425018', '2419179', '2419926', '2212571', '2436860', '2424405', '2426883', '2436731', '2433813', '2425623', '2428606', '2411560', '2430487', '2436864', '2423241', '2421093', '2423137', '2420338', '2428079', '2436613', '2422687', '2427635', '2422561', '2369190', '2420272', '2423272', '2427388', '2410483', '2429542', '2413025', '2409580', '2412830', '2434738', '2410493', '2411398', '2440513', '2424968', '2420626', '2421084', '2434390', '2315405', '2421602', '2421927', '2422346', '2414440', '2430325', '2410822', '2427464', '2415991', '2421619', '2426055', '2411901', '2433536', '2412570', '2424418', '2437706', '2427356', '2430583', '2400241', '2424568', '2416568', '2414463', '2409478', '2388317', '2421041', '2422235', '2398163', '2311295', '2430530', '2419023', '2440616', '2416683', '2417645', '2411018', '2425812', '2436472', '2423184', '2425226', '2438192', '2436507', '2427181', '2433918', '2412680', '2411101', '2417911', '2432390', '2421280', '2433914', '2412874', '2432106', '2438076', '2415047', '1356996', '2345306', '2421137', '2415057', '2428038', '2439806', '2428098', '2416012', '2421239', '2414408', '2409763', '2434927', '2424303', '2410071', '2414266', '2438596', '2419429', '2434882', '2428434', '2438994', '2437842', '2431053', '2441374', '2440816', '2413441', '2416538', '2425505', '2426814', '2354317', '2419815', '2420457', '2425387', '2413314', '2421052', '2414587', '2417520', '2441828', '2438995', '2415372', '2412911', '2431861', '2413772', '2417746', '2420364', '2427763', '2418112', '2410213', '2423329', '2418730', '2435661', '2410374', '2435481', '2424066', '2419129', '2435645', '2417305', '2261555', '2434732', '2438181', '2420412', '2428343', '2395688', '2414963', '2411294', '2437220', '2432292', '2421326', '2415801', '2430073', '2409845', '2409569', '2413713', '2136013', '2426041', '2441014', '2430255', '2405083', '2431348', '2427316', '2434344', '2410092', '2435444', '2414128', '2431637', '2433463', '2414152', '2414789', '2415879', '2405411', '2343255', '2421392', '2414475', '2414343', '2424466', '2420546', '2410337', '2428272', '2398619', '2440486', '2440902', '2422932', '2415512', '2441516', '1306624', '2431099', '2428886', '2422587', '2433833', '2412714', '2437584', '2410416', '2416671', '2420234', '2410301', '2431116', '2431769', '2441703', '2411950', '2436272', '2432203', '2437418', '2407875', '2419140', '2399089', '2411583', '2434088', '2416175', '2431644', '2419394', '2440778', '2412009', '2247105', '2331719', '2409930', '2428199', '2423773', '2427629', '2410619', '2316864', '2439701', '2410556', '2433575', '2422468', '2414080', '2435896', '2412949', '2434858', '2429991', '2421881', '2426725', '2411591', '2410298', '2411203', '2438873', '2425146', '2419996', '2426243', '2417309', '2419644', '2438820', '2417068', '2434090', '2439975', '2411001', '2413919', '2426830', '2418597', '2425538', '2423663', '2438870', '2428327', '2437913', '2426845', '2409677', '2437922', '2428772', '2432736', '2431634', '2434890', '2437659', '2422564', '2425359', '2422766', '2436381', '2431588', '2374174', '2418447', '2427216', '2431254', '2261623', '2425707', '2437705', '2426886', '2316493', '2418547', '2410948', '2409309', '2322115', '2421360', '2438928', '2436281', '2424507', '2425362', '2439092', '2416985', '2418255', '2437958', '2420818', '2433030', '2421687', '2419562', '2414127', '2436554', '2408987', '2433829', '2409063', '2430994', '2409768', '2413175', '2421010', '2416345', '2441105', '1594020', '2419007', '2429322', '2399109', '2437039', '2435764', '2422509', '2428139', '2422371', '2422953', '2378718', '2438706', '2408804', '2423393', '2424534', '2419038', '2428051', '2422533', '1662526', '2434919', '2421663', '2423754', '2424124', '2422383', '2415547', '2417392', '2437745', '2434964', '2409639', '2426355', '2409413', '2432548', '2422286', '2421256', '2437095', '2441959', '2436767', '2413357', '2424084', '2382923', '2386919', '2439875', '2428774', '2404188', '2430807', '2404261', '2407626', '2223696', '2313269', '2437775', '2416363', '2398130', '2440969', '2438717', '2434988', '1762409', '2430249', '2420611', '2380447', '2414579', '2429407', '2426347', '2434075', '2438826', '2399398', '2410037', '2432973', '2420060', '2413363', '2411699', '2441283', '2415363', '2382701', '2416977', '2437561', '2430165', '2419999', '2413908', '2425339', '2416820', '2419835', '2406552', '2412072', '2431998', '2414427', '2228078', '2412967', '2338541', '2432934', '2431010', '2430982', '2432801', '2436974', '2439659', '2433595', '2389367', '2429663', '2365267', '2426188', '2428026', '2424275', '2409429', '2421639', '2410461', '2419340', '2438916', '2420374', '2404573', '2425669', '2433868', '2411706', '2426912', '2433397', '2437984', '2382929', '2434623', '2429738', '2421260', '2429548', '2431856', '2409695', '2424024', '2311937', '2410466', '2415862', '2436187', '2412604', '2433583', '2413930', '2438629', '2386293', '2421854', '2424437', '2403578', '2430592', '2430825', '2367000', '2441371', '2415804', '2381106', '2424671', '2416265', '2391981', '2439432', '2435916', '2440443', '2414420', '2418590', '2412694', '2198989', '2427757', '2440793', '2425747', '2418135', '2432631', '2413529', '2421442', '2426662', '2439075', '2358043', '2425396', '2425629', '2438814', '2429790', '2421559', '2417507', '2426794', '2431729', '2410073', '2423431', '2417509', '2422980', '2417376', '2440760', '2421131', '2409079', '2413023', '2421018', '2423833', '2416139', '2419938', '2412768', '2438772', '2437694', '2419552', '2440975', '2403124', '2410039', '2415900', '2423204', '2414915', '2410600', '2429510', '2416143', '2419846', '2430980', '2405602', '2429264', '2431328', '2420297', '2418371', '2411953', '2437702', '2429748', '2409633', '2441925', '2427958', '2433196', '2434808', '2414709', '2441563', '2416859', '2433965', '2429499', '2397146', '2434133', '2436106', '2420794', '2217572', '2414688', '2429863', '2433869', '2411182', '2413372', '2428120', '2423462', '2419254', '2412073', '2413315', '2412895', '2438926', '2440949', '2212741', '2417843', '2438432', '2435822', '2425691', '2422418', '2440087', '2436779', '2400487', '2413627', '2420906', '2412723', '2418254', '2441265', '2278645', '2408473', '1520537', '2393342', '2440806', '2415597', '2412423', '2203927', '1111518', '2435794', '2419361', '2427357', '2431354', '2427433', '2372778', '2433382', '2428305', '2420312', '2434446', '2428848', '2381823', '2432853', '2433037', '2236967', '2424035', '2426384', '2433849', '2438972', '2423276', '2425104', '1781171', '2430953', '2358453', '2336330', '2410808', '2412589', '2412595', '2441045', '2336143', '1407390', '2424186', '2421818', '2423897', '2418303', '2421618', '2438321', '2428178', '2422747', '2210493', '2430059', '2413238', '2438920', '2423637', '2415989', '2416855', '2413539', '2437654', '2418922', '2432728', '2330166', '2277091', '2303728', '2411888', '2439110', '2412669', '2426004', '2410494', '2123354', '2440534', '2421596', '2407794', '2412471', '2431008', '2414444', '2422810', '2428825', '2408749', '2430710', '2424416', '2418441', '2428565', '2426072', '2414856', '2408962', '2323685', '2425903', '2417287', '2412660', '2434730', '2415791', '2416155', '2425475', '2437850', '2408911', '2430458', '2418532', '2412298', '2409040', '2420063', '2405728', '2429768', '2420092', '2413644', '2416307', '2410199', '2327182', '2421590', '2408857', '2410046', '2409542', '2422217', '2436134', '2208789', '1300488', '2403016', '2419826', '2421749', '2422354', '2412692', '2422025', '2301714', '2434713', '2424867', '2418389', '2431625', '2434260', '2415148', '2438676', '2440068', '2430546', '2415755', '2435759', '2319157', '2401741', '2425456', '2418848', '2424265', '2408753', '2402651', '2422741', '2440964', '2413943', '2438078', '2438635', '2418354', '2395936', '2437796', '2417360', '2428168', '2429679', '2167565', '2420724', '2417759', '2412597', '2434597', '2436615', '2432848', '2432494', '2415164', '2419883', '2434528', '2411730', '2413537', '2420380', '2429580', '2433572', '2429604', '2357998', '2431735', '2425674', '2426541', '2419152', '2413579', '2426387', '2432753', '2319392', '2427332', '2422120', '2331417', '2435845', '2420287', '2415254', '2411697', '2413647', '2405432', '2420462', '2422751', '2226372', '2414181', '2423947', '2434002', '2409710', '2219005', '2441886', '2412938', '2418490', '2420716', '2417380', '2422302', '2424482', '2433106', '2421826', '2412727', '2418873', '2413991', '2430921', '2438415', '2420077', '2416213', '2434532', '2429599', '2429131', '1532401', '2415452', '2440013', '2430716', '2427645', '2437380', '2423585', '2413591', '2438725', '2408600', '1978050', '2409454', '2243498', '2432443', '2432435', '2409517', '2427105', '2426976', '2409929', '2412223', '2422631', '2430515', '2419573', '2422521', '2413496', '2424212', '2414823', '2416551', '2436968', '2420574', '2412546', '2414733', '2427651', '2420849', '2409271', '2424905', '2434231', '2415976', '2432729', '2432264', '2408534', '2420893', '2432205', '2427020', '2410054', '2433871', '2419491', '2441636', '2423360', '2432272', '2408862', '2424079', '2425522', '1973803', '2426600', '2413115', '2410538', '2433716', '2416861', '2413757', '2298316', '2440991', '2414809', '2435702', '2400486', '2435982', '2435484', '2421519', '2423416', '2414467', '2424781', '2418561', '2433620', '2430912', '2394199', '2122163', '2434565', '2433097', '2365993', '2426650', '2428335', '2426646', '2384316', '2422952', '2418064', '2413481', '2412095', '2436669', '2409086', '2304461', '2409754', '2441146', '2435260', '2420027', '2424852', '2408830', '2418035', '2412191', '2420923', '2420096', '2419344', '2427415', '2356900', '2411678', '2439064', '2433921', '2435847', '2421502', '2409083', '2411980', '2420422', '2412873', '2416858', '2433577', '2432996', '2434087', '2426825', '2434771', '2408902', '2418737', '1704297', '2410492', '2410496', '2429842', '2419904', '2402569', '2429002', '2416382', '2435911', '2417127', '2397890', '2432939', '2413205', '2427264', '2436944', '2429460', '2434993', '2423607', '2428992', '2425809', '2410212', '2416845', '2422016', '2414148', '2436955', '2433697', '2411083', '2379818', '2212569', '2419335', '2416916', '2413301', '2418103', '2427455', '2419115', '2437671', '2432461', '2429472', '2413121', '2371936', '2437773', '2415339', '2417691', '2432254', '2441473', '2438149', '2426012', '2422072', '2419074', '2439577', '2414198', '2429716', '2434345', '2425395', '2431529', '2400636', '2439532', '2431905', '2436812', '2310892', '2428027', '2415590', '2379899', '2420205', '2419875', '2412541', '2437950', '2415550', '2410290', '2426082', '2417771', '2430215', '2408975', '2432470', '2419691', '2438908', '2440059', '2421344', '2417616', '2412583', '2426191', '2345080', '2422902', '2439906', '2428235', '2433790', '1240064', '2387354', '2388277', '2434379', '2410409', '2257458', '2435331', '2403315', '2411865', '2432417', '2381897', '2417292', '2415557', '2421889', '2132808', '2429551', '2410695', '2425496', '2434654', '2412650', '2414117', '2427383', '2420926', '2093149', '2415570', '2420171', '2270723', '2422208', '2410965', '2409233', '2430010', '2440205', '2430760', '2410544', '2418682', '2421248', '2436903', '2441025', '2434468', '2427618', '2424933', '2429760', '2424157', '2429662', '2411682', '2410717', '2417234', '2432667', '2420804', '2411779', '2233385', '2426483', '2434518', '2272872', '2438395', '2396953', '2419239', '2415044', '2424844', '2111655', '2431737', '2190382', '2411257', '2409004', '2419004', '2385595', '2430363', '2412093', '2434512', '2418356', '2435952', '2422501', '2426711', '2161206', '2415903', '2407542', '2440124', '2424061', '2431443', '2429915', '2433969', '2413523', '2441125', '2424619', '2420929', '2426261', '2436350', '2438177', '2424957', '2411932', '2439979', '2438595', '2412605', '2440974', '2429113', '2432135', '2423567', '2440609', '2434470', '2413601', '2436840', '2428810', '2415594', '2414567', '2412154', '2430172', '2410173', '2420378', '2355199', '2416332', '2440970', '2419381', '2435422', '2434803', '2418915', '2417482', '2431616', '2419476', '2375950', '2429173', '2434860', '2425848', '2282375', '1464273', '2422158', '2344751', '2424014', '2412594', '2432767', '2424667', '2427791', '2368204', '2417132', '2432743', '2437027', '2421366', '2426495', '2413762', '2415024', '2423353', '2419547', '2431332', '2416166', '2441640', '2425651', '2431531', '2430281', '2436527', '2416056', '2418310', '2426389', '2410468', '2425582', '2441180', '2415225', '2433975', '2433761', '2437321', '2412271', '2419756', '2411664', '2314845', '2422108', '2438546', '2432889', '2415428', '2394427', '2429601', '2433858', '2360812', '2415626', '2409527', '2426595', '2433880', '2434942', '2428397', '2426427', '2432830', '2414171', '2412698', '2360050', '2415836', '2437548', '2424273', '2413479', '2418742', '2427588', '2304875', '2439030', '2439634', '2411454', '2416831', '2414926', '2428688', '1253057', '2437229', '2418177', '2416183', '2426854', '2432209', '2415356', '2406827', '2435071', '2430132', '2418812', '2439813', '2435716', '2422310', '2410172', '2433009', '2415059', '2303087', '2421944', '2429302', '2416110', '2421849', '2419979', '2416303', '2406691', '2437684', '2439209', '2439131', '2419070', '2424330', '2425369', '2416406', '2412836', '2402425', '2426328', '2410005', '2436286', '2411590', '2374398', '2415736', '2426219', '2409258', '2423818', '2422350', '2440193', '2426894', '2275160', '2422556', '2438812', '2388077', '2422523', '2408579', '2426085', '2409586', '2430674', '2438250', '2437837', '2412881', '2391708', '2435455', '2414759', '2414500', '2432892', '2424996', '2426586', '2428185', '2416461', '2416319', '2417208', '2422415', '2370569', '2417264', '2428176', '2428284', '2432296', '2427890', '2433846', '2411965', '2436897', '2415967', '2421838', '2412528', '2424636', '2433759', '2426755', '2428109', '2425391', '2181870', '2434044', '2420427', '2434449', '2240297', '2435569', '2414052', '2416724', '2435209', '2420517', '2410876', '2436342', '2420843', '2429277', '2423684', '2409013', '2428270', '2427996', '2414482', '2427314', '2415578', '2411684', '2439179', '2432202', '2432592', '2399080', '2419892', '2419586', '2413542', '2418972', '2417718', '2410586', '2440005', '2429602', '2409778', '2426081', '2426689', '2338768', '2430749', '2408555', '2436847', '2420741', '2427428', '2427038', '2320172', '2211391', '2433467', '2417499', '2433952', '2414273', '2413453', '2415960', '2435520', '2411926', '2417365', '2431697', '2413890', '2300921', '2424632', '2439074', '2438062', '2413519', '2413766', '2435610', '2417207', '2422053', '2411517', '2422320', '2410778', '2415456', '2436064', '2432269', '2435103', '2421175', '2437625', '2420110', '2339006', '2430855', '2414964', '2411606', '2434752', '2434146', '2429611', '2420496', '2415333', '2425495', '2428475', '2429454', '2425584', '2421431', '2431844', '2365839', '2419105', '2413610', '2434610', '2409828', '2431651', '2434105', '2150965', '2419161', '1129079', '2415669', '2426890', '2415303', '2433950', '2414562', '2438269', '2329976', '1315137', '2425986', '2201776', '2419652', '2436827', '2436445', '2422337', '2440935', '2427228', '2433441', '2410528', '2428660', '2416328', '2432462', '2409779', '2417045', '2434492', '2268334', '2400687', '2440824', '2327082', '2418885', '1862258', '2423575', '2358975', '2395009', '2425338', '2433851', '2416073', '2426337', '2131438', '2431172', '2436071', '2434578', '2411989', '2426047', '2433422', '2411142', '2413869', '2429603', '2410549', '2372357', '2427318', '2439750', '2391104', '2440572', '2434842', '2422575', '1048227', '2414644', '2439725', '2368597', '2432747', '2425485', '2411375', '1957395', '2406543', '2438578', '2436201', '2217123', '2418762', '2422513', '2419125', '2429529', '2413589', '2432355', '2404515', '2437859', '2396335', '2427042', '2230402', '2423936', '2441461', '2423405', '2297908', '2433270', '2417446', '2412543', '2439999', '2424192', '2431453', '2422974', '2415381', '2288431', '2395132', '2440767', '2422206', '2433590', '2423459', '2421911', '2414985', '2424772', '2431057', '2420470', '2419346', '2428722', '2416272', '2419157', '2432246', '2423693', '2421946', '2431127', '2435746', '2414280', '2431023', '2422842', '2431032', '2427508', '2428573', '2412629', '2423399', '2437581', '2427182', '2430736', '2416483', '2413095', '2388608', '2440817', '2400610', '2441833', '2436483', '2421877', '2425446', '2411772', '2352654', '2420676', '2412077', '2394317', '2432528', '2411775', '2411909', '2418471', '2432582', '2435141', '2426496', '2433655', '2431921', '2432938', '2419582', '2423161', '2431294', '2427751', '2424907', '2421233', '2439165', '2416598', '2429209', '2411234', '2415274', '2414147', '2429405', '2436636', '2410111', '2428331', '2413649', '2436741', '2433942', '2424657', '2412221', '2425841', '2431826', '2423551', '2436987', '2430637', '2410645', '2420533', '2424895', '2158913', '1558074', '2437340', '2415947', '1901801', '2409378', '2440951', '2429819', '2426831', '2428114', '2436697', '2422589', '2420831', '2419785', '2437885', '1513953', '2427542', '2436226', '2419499', '2414432', '2427096', '2432629', '2441943', '2400245', '2396014', '2409418', '2395358', '2420387', '2434774', '2413770', '2440054', '2408545', '2412790', '2434110', '2408635', '2430995', '2414487', '2427605', '2423316', '2431509', '2430601', '2425957', '2427034', '2410359', '2423670', '2424117', '2425676', '2414611', '2405205', '2414484', '2439594', '2412591', '2435186', '2418853', '2261989', '2429145', '2411904', '2433261', '2409426', '2433972', '2423385', '2408736', '2428736', '2426579', '2428645', '2431589', '2435110', '2411870', '2408737', '2412619', '2429824', '2428646', '2433881', '2422363', '2430206', '2415458', '2413736', '2424202', '2404981', '2425272', '2422232', '2417518', '2422647', '2426540', '2418898', '2438748', '2422189', '2433631', '2405814', '2422799', '2440083', '2416879', '2413057', '2419518', '2425191', '2434900', '2430360', '1627243', '2438781', '2434429', '2429155', '2417444', '2425243', '2438917', '2418778', '2420679', '2438679', '2414380', '2430746', '2424631', '2435854', '2412112', '2431785', '2408951', '2430567', '2420902', '2408697', '2411180', '2419441', '2423964', '2419270', '2420080', '2432463', '2409927', '2425620', '2412811', '2421030', '2411662', '2414982', '2434165', '2424041', '2413546', '2422837', '2415754', '2436124', '2411768', '2415388', '2417462', '2431614', '2425794', '2414162', '2432469', '2438991', '2430070', '2423381', '2289601', '2412202', '2439645', '2422246', '2413629', '2201722', '2243816', '2425376', '2428652', '2429995', '2414189', '2427053', '2431745', '2413186', '2412864', '2408638', '2416460', '2419001', '2421511', '2421500', '2293023', '2422539', '2421413', '2431196', '2424210', '2420025', '2438016', '2435015', '2436651', '2420522', '2413278', '2436129', '2421705', '2433148', '2397539', '2399744', '2410403', '2437054', '2343421', '2426171', '2431247', '2410404', '2410550', '2415560', '2417672', '2426073', '2421350', '2147113', '2383380', '2409149', '2364845', '2437669', '2433448', '2419942', '2430457', '2295074', '2418518', '2419214', '2422482', '2437006', '2416061', '2412742', '2417408', '2411522', '2436978', '2409477', '2430171', '2425120', '2439159', '2438234', '2425932', '2411814', '2429626', '2416194', '2409073', '2432990', '2437493', '2415021', '2430763', '2401574', '2413402', '2413495', '2417383', '2413573', '2428581', '2408661', '2433059', '2431058', '2406529', '2420203', '2349327', '2412524', '2424820', '2423055', '2341296', '2423930', '2405445', '2419218', '2176955', '2415761', '2431679', '2418900', '2440535', '2409965', '2415853', '2435140', '2431573', '2424701', '2414531', '2415209', '2413167', '2433341', '2420967', '2415152', '2416284', '2421698', '2398198', '2423444', '2422305', '2437949', '2409346', '2423292', '2404971', '2417440', '2344343', '2424825', '2412348', '2416336', '2428696', '2418525', '2414625', '2434935', '2434769', '2419647', '2394987', '2407657', '2416545', '2429749', '2413440', '2440270', '2431200', '2433866', '2430525', '2426978', '2429620', '2421666', '2414383', '2439712', '2414850', '2408540', '2429180', '2413038', '2414439', '2420555', '2440862', '2435697', '2433072', '2436910', '2430725', '2423804', '2423581', '2424062', '2423448', '2418896', '2428716', '2434423', '2440007', '2441997', '2425380', '2411292', '2415450', '2439801', '2397791', '2424129', '2427191', '2419919', '2420813', '2422143', '2416866', '2411214', '2427095', '2421495', '2432795', '2415977', '2124890', '2427774', '2441536', '2413444', '2436486', '2411082', '2434176', '2354299', '2423232', '2419925', '2393085', '2435627', '2439247', '2411742', '2420537', '2419385', '2427682', '2410378', '2337917', '2420971', '2430117', '2437175', '2369977', '2437515', '2432791', '2389051', '2412567', '2420493', '2429047', '2341306', '2365389', '2435900', '2418235', '2409277', '2425648', '2429511', '2410517', '2412100', '2417764', '2429562', '2437940', '2420797', '2431642', '2420784', '2434181', '2413866', '2409444', '2389419', '2421462', '2429300', '2372245', '2411890', '2437831', '2439808', '1305220', '2409555', '2416984', '2437863', '2424916', '2409985', '2440571', '2413746', '2435665', '2438282', '2431002', '2413971', '2424569', '2427758', '2433794', '2383912', '2435634', '2428412', '2421981', '2431353', '2430817', '2410583', '2434813', '2422237', '2438983', '2418731', '2411761', '2431608', '2409085', '2422485', '2410536', '2430646', '2429916', '1105214', '2441422', '2435998', '2307667', '2440115', '2429541', '2414446', '2437476', '2407974', '2424930', '2412147', '2424297', '2437488', '2427233', '2434112', '2436877', '2416762', '2426896', '2426092', '2431960', '2312181', '2360830', '2429477', '2428370', '2429702', '1930494', '2423666', '2412049', '2406261', '2413792', '2436487', '2408955', '2412504', '2427063', '2418684', '2439305', '2415833', '2426216', '2416017', '2427349', '2419426', '1844593', '2411482', '2426136', '2395248', '2421922', '2430834', '2435904', '2428673', '2410609', '2427440', '2427204', '2420479', '2439683', '2408598', '2425058', '2425761', '2435876', '2417918', '2352436', '2416589', '2433550', '2421435', '2438948', '2416242', '2414436', '2417266', '2431155', '2425317', '2420471', '2420361', '2437210', '2415114', '2440833', '2441320', '2418521', '2423326', '1536699', '2418535', '2424758', '2436675', '2357231', '2417674', '2431402', '2414917', '2271091', '2425530', '2434237', '2435825', '2433591', '2416287', '2419814', '2420621', '2434443', '2439986', '2430872', '2411332', '2431027', '2390151', '2429044', '2411503', '2415270', '2419427', '2419940', '2383866', '2412992', '2413273', '2423406', '2411792', '2415424', '2415281', '2204367', '2439948', '2401758', '2366819', '2441978', '2420559', '2425887', '2413765', '2420090', '2414186', '2223660', '2416163', '2410506', '2015975', '2431908', '2417431', '2337620', '2410563', '2429671', '2409377', '2430630', '2417667', '2424869', '2419027', '2364350', '2440445', '2415569', '2439192', '2417081', '2434043', '2411466', '2329448', '2425853', '2431292', '2347749', '2411400', '2420666', '2417343', '2382417', '2414860', '2437301', '2437306', '2440917', '2411711', '2411831', '2439254', '2410010', '2384381', '2424879', '2414342', '2428017', '2413251', '2424261', '2411514', '2435080', '2433386', '2433038', '2440189', '2429787', '2431700', '2426418', '2421386', '2393088', '2420015', '2423558', '2414872', '2430695', '2424484', '2335381', '2430115', '2422532', '2419544', '2435818', '2436006', '2205241', '2437145', '2435274', '2414690', '2420065', '2416293', '2417897', '2426617', '2420860', '2413924', '2415640', '2416735', '2397999', '2438226', '2424078', '2425891', '2418850', '2414599', '2428761', '2418056', '2433158', '2418946', '2411778', '2413604', '2431738', '2434573', '2433378', '2409682', '2437156', '2437638', '2418381', '2417748', '2435353', '2403740', '2424367', '2420956', '2424388', '2440151', '2438092', '2379830', '2411580', '2416910', '2421914', '2419109', '2428567', '2441109', '2427793', '2430109', '2409383', '2410628', '2250340', '2414139', '2424271', '1549738', '2408537', '2411345', '2411272', '2414248', '2394594', '2432785', '2380498', '2425663', '2128254', '2423227', '2432038', '2429691', '2249434', '2393892', '2417733', '2338410', '2381925', '2284708', '2423750', '2436568', '2439024', '2418041', '2409370', '2435108', '2429535', '2440931', '2422336', '2425740', '2433662', '2433911', '2430278', '2386860', '2415855', '2422131', '2414865', '2433350', '2440844', '2425788', '2416441', '2438087', '2434015', '2429525', '2437181', '2410599', '2415431', '2424422', '2438417', '2433945', '2435816', '2422622', '2416873', '2431493', '2432903', '2414879', '2441251', '2413443', '2429104', '2419284', '2428689', '2436043', '2388594', '2426479', '2430684', '2437381', '2192347', '2425372', '2436751', '2422376', '2429594', '1342617', '2433271', '2429493', '2413673', '2427589', '2424206', '2413426', '2358621', '2370179', '2421329', '2428627', '2425969', '2396113', '2438933', '2412664', '2415581', '2423267', '2411501', '2422917', '2429073', '2424966', '2436068', '2431724', '2418334', '2415701', '2422893', '2417341', '2046922', '2433309', '2414960', '1434736', '2438960', '2428637', '2412649', '2438660', '2420134', '2380050', '2417525', '2441301', '2428534', '2420209', '2434405', '2426079', '2433507', '2430280', '2435219', '2412349', '2414321', '2305322', '2428838', '2441987', '2415874', '2428382', '2417685', '2439839', '2432860', '2435352', '2423756', '2420922', '2320538', '2429704', '2433552', '1506583', '2419593', '2414144', '2411817', '2424488', '2420959', '2415667', '2423165', '2426379', '2358079', '2271433', '2225323', '2409546', '2429296', '2428490', '2434190', '2430079', '2435551', '2410275', '2422448', '2386182', '2417599', '2430768', '2432075', '2399499', '2437069', '2438496', '2436612', '2431654', '2441253', '2428173', '2244024', '2414675', '2415522', '2429225', '2226290', '2433954', '2436510', '2408935', '2408915', '2387988', '2422635', '2411352', '2426744', '2427749', '2433371', '2428641', '2410630', '2437431', '2427515', '2436441', '2416520', '2429066', '2408626', '2408673', '2417281', '2427532', '2427662', '2437751', '2409621', '2404667', '2432581', '2434818', '2420160', '2428839', '2436687', '2436384', '2282696', '2214771', '2438855', '2411327', '2422247', '2437604', '2424151', '2419508', '2420751', '2431828', '2434748', '2441079', '2423718', '2437213', '2412544', '2433903', '2411763', '2412805', '2415555', '2410225', '2428153', '2378475', '2437776', '2417519', '2257216', '2427627', '2100017', '2388226', '2429165', '2425507', '2407705', '2417088', '2415346', '2414523', '2431476', '2425945', '2427956', '2424860', '2431409', '2420320', '2411053', '2438120', '2434233', '2436730', '2435811', '2421485', '2421991', '2432865', '2404054', '2422037', '2422214', '2414894', '2408998', '2433452', '2408452', '2411099', '2437992', '2424617', '2433249', '2426456', '2412356', '2414242', '2409391', '2424678', '2412688', '2440822', '2428800', '2432214', '2426636', '2408215', '2412021', '2437919', '2419295', '2411773', '2439693', '2422702', '2411759', '2427399', '2438088', '2408664', '2415526', '2437657', '2424283', '2368750', '2396645', '2426105', '2415292', '2409691', '2408695', '2394106', '2414552', '2425973', '2438774', '2417610', '2430656', '2419524', '2427615', '2430401', '2426681', '2423710', '2431736', '2415582', '2413611', '2436373', '2424553', '2412157', '2416043', '2430561', '2437344', '2424262', '2415364', '2421053', '2428594', '2410207', '2419939', '2436696', '2413016', '2416326', '2428483', '2416103', '2420085', '2407556', '2323574', '2420838', '2370176', '2431520', '2424818', '2432295', '2419560', '2415660', '2430667', '2429962', '2430741', '2427954', '2419114', '2431981', '2120245', '2430963', '2426655', '2427176', '2418444', '2412979', '2435540', '2413047', '2412982', '2437178', '2414574', '2417543', '2426292', '2433856', '2432659', '2418630', '2429507', '2418979', '2421250', '2266216', '2435024', '2298990', '2417530', '2434841', '2410052', '2304800', '2411630', '2429464', '2401264', '2436207', '2157154', '2439655', '2428522', '2428801', '2428818', '2433961', '2440432', '2436710', '2425545', '2410148', '2365390', '2435903', '2412551', '2431359', '2436048', '2432407', '2420295', '2440829', '2423115', '2426306', '2420864', '2412485', '2427619', '2414338', '2410930', '2416779', '2438148', '2439373', '2427571', '2418530', '2434533', '2409066', '2415342', '2414485', '2413463', '2433501', '2434325', '2339119', '2424439', '2440541', '2410913', '2436335', '2434196', '2428324', '2439009', '2430490', '2419949', '2411599', '2417824', '2431712', '2379909', '2411676', '2409872', '2411923', '2425233', '2386377', '2430864', '2377601', '2410036', '2416005', '2425990', '2426270', '1991718', '2433744', '2441017', '2419506', '2415332', '2427346', '2431807', '2441150', '2413674', '2430767', '2288223', '2415875', '2414749', '2430958', '2421825', '2423500', '2414986', '1626319', '2414481', '2410408', '2240193', '2435095', '2259923', '2419730', '2410785', '2409320', '2409259', '2120804', '2412108', '2440903', '2330133', '2435202', '2435865', '2432875', '2428804', '2438249', '2419269', '2429690', '2313978', '2426733', '2435159', '2409433', '2412802', '2402578', '2423956', '2425414', '2409103', '2426512', '2414582', '2399631', '2431689', '2417171', '2430213', '2435397', '2420001', '2439902', '2419745', '2408672', '2423929', '2417316', '2398690', '2411163', '2414973', '2427376', '2422373', '2422102', '2435580', '2422900', '2433495', '2431647', '2425598', '2355692', '2389955', '2435734', '2420318', '2438796', '2421509', '2411969', '2429950', '2411441', '2428056', '2414934', '2427882', '2314418', '2420542', '2411545', '2426738', '2437173', '2414361', '2420833', '2434521', '2439403', '2436610', '2411373', '2422172', '2413499', '2380291', '2409611', '2418017', '2408690', '2414104', '2413800', '2415451', '2439261', '2441620', '2436387', '2412804', '2418291', '2412968', '2425227', '2422378', '2419852', '2436041', '2415139', '2426969', '2430541', '2435658', '2436353', '2408496', '2422356', '2438634', '2426192', '2414363', '2436702', '2430967', '2421281', '2439089', '2431840', '2414647', '2415699', '2435349', '2411414', '2429003', '2410788', '2421683', '2427194', '1017278', '2413690', '2428564', '2438877', '2401589', '2435621', '2413580', '2439917', '2433291', '2423576', '2427934', '2410106', '2426513', '2418899', '2423218', '2422269', '2415507', '2412216', '2147985', '2408685', '2373868', '2413712', '2413636', '2417071', '2437444', '2417988', '2410458', '2435258', '2440002', '2413722', '2431836', '2416853', '2410187', '2422874', '2181243', '2421692', '2411535', '1891253', '2430053', '2392115', '2426151', '2437286', '2416115', '2435814', '2428437', '2416468', '2426428', '2417339', '2441348', '2421758', '2439150', '2419631', '2416923', '2428491', '2414174', '2414262', '2418909', '2388697', '2419708', '2433123', '2410627', '2438195', '2417799', '2414859', '1284345', '2437204', '2424719', '2412758', '2424965', '2440381', '2421023', '2419616', '2423971', '2428373', '2418810', '2409645', '2410029', '2404432', '2441895', '2411407', '2436691', '2252602', '2419259', '2421162', '2422678', '2421624', '2417147', '2412028', '2432945', '2400319', '2438650', '2380627', '2433081', '2417424', '2429699', '2409437', '2426517', '2432072', '2421449', '2435647', '2430686', '2439766', '2437839', '2418364', '2428403', '2416004', '2416426', '2414071', '2343559', '2429428', '2413925', '2419629', '2421434', '2441800', '2431248', '2421629', '2430735', '2419933', '2276445', '2419377', '2439951', '2422058', '1128038', '2438773', '1201811', '2414353', '2435316', '2412208', '2246458', '2441224', '2408856', '2360321', '2430205', '2425808', '2438360', '2428854', '2410845', '2441710', '2415717', '2411515', '2433919', '2440695', '2435956', '2428678', '2419553', '2435022', '2412532', '2421138', '2438100', '2414018', '2409016', '2436716', '2152769', '2408546', '2413395', '2434915', '2431431', '2409668', '2420958', '2431508', '1475702', '2422266', '2425936', '2422155', '2422852', '2415250', '2438940', '2429359', '2440686', '2428283', '2398115', '2418302', '2427851', '2423705', '2439960', '2431282', '2412617', '2423472', '2427259', '2317326', '2418611', '2410286', '2427671', '2416712', '2373060', '2346857', '2411500', '2436095', '2440850', '2421450', '2431391', '2439189', '2428649', '2417976', '2431055', '2436861', '2409829', '2440615', '2405651', '2428675', '2423028', '2429605', '2432917', '2429184', '2416255', '2408787', '2413408', '2441616', '2426063', '2420820', '2411459', '2409663', '2346034', '2416499', '2395301', '2413399', '2409944', '2397986', '2441543', '2438906', '2441088', '2423041', '2412588', '2437140', '2434701', '2412286', '2348097', '2408916', '2423336', '2419149', '2403571', '2441757', '2383330', '2422881', '2409358', '2428682', '2427598', '2383235', '2391582', '2434030', '2435176', '2409183', '2421755', '2420686', '2421290', '2412514', '2420545', '2423745', '2433677', '2428583', '2434099', '2436943', '2413639', '2409994', '1137753', '2418478', '2421490', '2433266', '2412799', '2411149', '2431817', '2436591', '2410463', '2433861', '1468025', '2423463', '2423550', '2425587', '2420965', '2411531', '2433380', '2422827', '2431370', '2410420', '2413335', '1573914', '2411993', '2440831', '2411211', '2438460', '2269659', '2425921', '2413856', '2432010', '2431073', '2251168', '2426500', '2433775', '2408797', '2427993', '2428616', '2409460', '2434434', '2423535', '2422559', '2387257', '2431499', '2410144', '2432698', '2412561', '2403963', '2244641', '2424892', '2440402', '2412137', '2410441', '2437034', '2415306', '1953516', '2431680', '2408837', '2441600', '2416485', '2413834', '2348045', '2428751', '2422736', '2409316', '2431660', '2434226', '2428464', '1241201', '2418552', '2414664', '2422432', '2420607', '2400803', '2413312', '2385241', '2416576', '2409525', '2423422', '2420951', '2417937', '2426687', '2439100', '2441413', '2434762', '2415621', '2427081', '2434006', '2412520', '2436753', '2413316', '2376103', '2423943', '2410350', '2426932', '2416815', '2424007', '2324708', '2413320', '2430464', '2424998', '2419448', '2438619', '2422971', '2426514', '2420459', '2438086', '2415311', '2426623', '2411884', '2440981', '2435482', '2409293', '2356936', '2423435', '2425373', '2435236', '2418654', '2441610', '2439965', '2426685', '2433167', '2420543', '2417374', '2417831', '2408572', '2437957', '2429190', '2419504', '2429540', '2437771', '2418844', '2435283', '2411988', '2432637', '2429334', '2435029', '2410861', '2412905', '2365139', '2440922', '2425437', '2308229', '2258812', '2422385', '2409871', '2420615', '2415167', '2411518', '2422293', '2425088', '2406460', '2242782', '2433007', '2415379', '2397066', '2439287', '2424831', '2426691', '2409197', '2426356', '2427670', '2421926', '2440966', '2409209', '2408373', '2412786', '2398274', '2415415', '2430123', '2426203', '2431170', '2433916', '2417695', '2440341', '2257492', '2059984', '2433567', '2421111', '1143651', '2416451', '2435326', '2413290', '2417872', '2434229', '2409117', '2433859', '2435255', '2429203', '2425890', '2423324', '2423959', '2410303', '2440804', '2423156', '2421772', '2398639', '2416964', '2427978', '1546503', '2419056', '2410596', '2428258', '2424179', '2410664', '2427705', '2414510', '2421274', '2420177', '2435387', '2409761', '2434428', '2231046', '2245837', '2425596', '2436049', '2425680', '2411478', '2409918', '2432689', '2436939', '2413448', '2436798', '2422567', '2440644', '2428501', '2431275', '2404626', '2417463', '2409485', '2436296', '2426235', '2425834', '2402823', '2408233', '2417634', '2415843', '2108502', '2416841', '2428582', '2427916', '2423485', '2434116', '2441346', '2415631', '2413967', '2439094', '2417304', '2440348', '2424917', '2433582', '2334079', '2437943', '2425924', '2430889', '2434358', '2410823', '2411350', '2415141', '2416904', '2429078', '2420321', '2437343', '2433089', '2415697', '2438794', '2385942', '2424134', '2412656', '2440316', '2441920', '2326130', '2387538', '2408929', '2414502', '2413958', '2428714', '2414580', '2419503', '2434767', '2414466', '2419706', '2428683', '2433328', '2427839', '2432895', '2432287', '2431210', '2423787', '2410623', '2418554', '2420913', '2413804', '2427127', '2439954', '2415403', '2436868', '2423594', '2425408', '2409321', '2428227', '2436709', '2413516', '2438705', '2423374', '2141117', '2415751', '2418748', '2429806', '2429593', '2417212', '2413163', '2418152', '2321458', '2415744', '2409450', '2207174', '2438678', '2416088', '1606165', '2419822', '2414048', '2436343', '2431479', '2382233', '2425856', '2419360', '2438975', '2440015', '2419306', '2411629', '2411754', '2417556', '2429665', '2437042', '2414288', '2417390', '2394216', '2412056', '2407767', '2387365', '2408675', '1476391', '2433611', '2414315', '2411526', '2423809', '2423495', '2411852', '2430495', '2421695', '2414669', '2441541', '2437542', '2421047', '2409349', '2277220', '2427263', '2100846', '2416214', '2185206', '2423408', '2438331', '2233767', '2436460', '2424114', '2422007', '2430531', '2434097', '2424227', '2418348', '2421288', '2412928', '2433949', '2426697', '2426228', '2437314', '2438752', '1105547', '2427345', '2414079', '2430169', '2425162', '2423487', '2412083', '2427492', '2428158', '2418781', '2435063', '2433731', '2409417', '2436765', '2398219', '2436195', '2411799', '2441585', '2425914', '2414417', '2416913', '2422610', '2422979', '2412954', '2423496', '2412871', '2427530', '2428124', '2431782', '2440830', '2418437', '2439916', '2412785', '2440597', '2439982', '2432614', '2431361', '2432459', '2414032', '2402225', '2423449', '2436680', '2432961', '2434696', '2437704', '2412609', '2415591', '2414341', '2439639', '2437818', '2411549', '2423269', '2421310', '2418396', '2426988', '2417050', '2434957', '2416104', '2409288', '2433145', '2411473', '2436699', '2429779', '2422462', '2413983', '2429014', '2439226', '2419690', '2429060', '2440288', '2428821', '2418188', '1976845', '2285488', '2436190', '2437994', '2426829', '2416338', '2403272', '2401865', '2438976', '2425267', '2427663', '2412539', '2427768', '2386516', '2433008', '2425182', '2416071', '2420544', '2427449', '2426116', '2432669', '2310257', '2440147', '2441878', '2409657', '2436014', '2436906', '2391920', '2414649', '2419279', '1192333', '2409738', '2433247', '2432427', '2408885', '2438033', '2410358', '2436509', '2428562', '2372208', '2418760', '2297287', '2421588', '2435704', '2413166', '2408887', '2416466', '2410079', '2418390', '2428989', '2410614', '2439780', '2413777', '2417294', '2431746', '2402585', '2439861', '2423177', '2432960', '2422055', '1448758', '2423680', '2417055', '2441535', '2422503', '2439865', '2433722', '2433830', '2435461', '2215097', '2430614', '2416162', '2417568', '2432786', '2426781', '2407908', '2433767', '2413558', '2400974', '2425241', '2423537', '2441778', '2427266', '2419081', '2286077', '2419275', '2432008', '2440291', '2428228', '2344037', '2346102', '2409914', '2438215', '2433937', '2439527', '2377995', '2414930', '2434897', '2440265', '2428679', '2425600', '2279202', '2419981', '2434403', '2434020', '2436050', '2410521', '2433804', '2440056', '2422950', '2425265', '2422746', '2404612', '2425588', '2411510', '2412798', '2441491', '2429339', '2431413', '2424696', '2416177', '2430019', '2429667', '2399392', '2428484', '1309947', '2438739', '2440872', '2399236', '2421056', '2422377', '2409257', '1290364', '2426091', '2418222', '2429250', '2428493', '2422187', '2426934', '2418438', '2435288', '2417673', '2413461', '2427026', '2425238', '2220009', '2428701', '2412751', '2409435', '2424385', '2432389', '2430236', '2413660', '2417297', '2410363', '2422083', '2427116', '2436970', '2425504', '2410489', '2408931', '2413950', '2435131', '2404652', '2275442', '2437452', '2435906', '2415432', '2413044', '2437778', '2420286', '2422375', '2360844', '2421198', '2419050', '2403849', '2429360', '2412164', '2412418', '2421535', '2416439', '2427225', '2432151', '2416187', '2414622', '2431869', '2433570', '2408796', '2409081', '2413734', '2308820', '2424832', '2426521', '2426631', '2435985', '2432031', '2425206', '2416322', '1366893', '2435670', '2415495', '2415410', '2365809', '2423286', '2433313', '2434559', '2423342', '2425509', '2408236', '2440713', '2438871', '2419819', '2416911', '2418793', '2423543', '2409878', '2420827', '2398454', '2414598', '2420062', '2418959', '2258278', '2330991', '2414454', '2182779', '2416759', '2422483', '2420389', '2425941', '2431870', '2409543', '2421060', '2410535', '2416849', '2439111', '2436145', '2441132', '2437643', '2413466', '1086149', '2432023', '2408691', '2420502', '2436208', '2440566', '2431445', '2441570', '2438943', '2414659', '2362066', '2429710', '2436034', '2354327', '2436641', '2410331', '2440743', '2424509', '2424547', '2437834', '2411569', '2434811', '2420604', '2433545', '2440297', '2415430', '2436294', '2420494', '2399800', '2371792', '2412924', '2436027', '1345360', '2427638', '2410648', '2415442', '2410470', '2441904', '2136579', '2428730', '2410177', '2408861', '2431702', '2418410', '2424935', '2409032', '2418063', '2410646', '2426660', '2439749', '2412987', '2433036', '2413900', '2415655', '2408568', '2420443', '2417386', '2431434', '2429299', '2429761', '2436563', '2433017', '2424459', '2411994', '2416687', '2298680', '2126580', '2438981', '2410874', '2423777', '2385875', '2438652', '2440135', '2429774', '2422776', '2439647', '2419037', '2422388', '2413030', '2430639', '2415766', '2415710', '2411121', '2427612', '2441084', '2431215', '2431975', '2425896', '2418847', '2415545', '2441405', '2431466', '2436843', '2435004', '2421744', '2417252', '2410773', '2410369', '2411620', '2422999', '2415863', '2418818', '2371301', '2413229', '2411729', '2413534', '2421790', '2436721', '2431571', '2423289', '2422820', '2410002', '2434394', '2416447', '2421863', '2439987', '2417717', '2441790', '2440549', '2421574', '2435245', '2398758', '2423231', '2417621', '2431336', '2412306', '2438210', '2432878', '2410481', '2427693', '2436402', '2429000', '2438924', '2368972', '2428351', '2433738', '2426743', '2418208', '1769393', '2413564', '2437028', '2430208', '2428584', '2426855', '2423379', '2418598', '2422627', '2416197', '2438770', '2410899', '2413492', '1127713', '2423513', '2424573', '2435870', '2390884', '2441989', '2380361', '2437544', '2440279', '2424050', '2412369', '2432449', '2439563', '2426562', '2438989', '2438498', '2433929', '2434607', '2431605', '2318254', '2415763', '2408516', '2440563', '2389786', '2432505', '2405281', '2424684', '2419666', '2134746', '2410744', '2431385', '2435386', '2436021', '2426331', '2422334', '2440136', '2430641', '2418087', '2409409', '2424232', '2305722', '2425493', '2426474', '2425516', '2426629', '2419618', '2413133', '2440740', '2433499', '2395105', '2224440', '2420643', '2433897', '2431858', '2421538', '2223802', '2415641', '2425330', '2420682', '2409353', '2439818', '2437142', '2428471', '2408908', '2440190', '1645637', '2424164', '2410967', '2413219', '2408854', '2434873', '2113219', '2411052', '2287507', '2411692', '2368921', '2438891', '2418423', '2426544', '2412455', '2424135', '2441519', '2427912', '2422319', '2438138', '2432204', '2430594', '2423136', '2435269', '2437879', '2283339', '2433418', '2439534', '2414585', '2413911', '2429349', '2419534', '2423844', '2348212', '2424224', '2421787', '2420691', '2415850', '2424453', '2409173', '2423164', '2431250', '2409274', '2424295', '2423892', '2441381', '2407183', '2191743', '2435778', '2423453', '2415613', '2429121', '2430559', '2416093', '2419365', '2436424', '2412495', '2398159', '2432929', '2425332', '2422451', '2399224', '2427021', '2412611', '1134494', '2417091', '2440003', '2419465', '2423860', '2432933', '1098683', '2394992', '2434385', '2423738', '2417232', '2403678', '2434013', '2273772', '2356557', '2417625', '2409132', '2421216', '2410260', '2420785', '2418571', '2412718', '2421531', '2433777', '2417412', '2432346', '2372774', '2439724', '2428744', '2337738', '2422406', '2407365', '2425428', '2392278', '2441753', '2385134', '2430523', '2435649', '2409014', '2415979', '2420712', '2434601', '2414808', '2433494', '2408548', '2425988', '2413187', '2414333', '2427414', '2423894', '2433041', '2411448', '2429658', '2418409', '2432792', '2426543', '2412380', '2435218', '2409906', '2423222', '2424861', '2428226', '2430219', '2132299', '2424278', '2281602', '2430703', '2430400', '2432085', '2436177', '2420807', '2441318', '2405472', '2416464', '2419585', '2428425', '2434037', '2416772', '2414825', '2408888', '2434380', '2440435', '2436143', '2438241', '2417505', '2440215', '2416252', '2245865', '2421580', '2410810', '2417459', '2432790', '2411426', '2440564', '2420113', '2423361', '2422022', '2419447', '2428275', '2431088', '2420996', '2433252', '2412259', '2438519', '2422606', '2296397', '2440353', '2421142', '2413956', '2424840', '2418674', '2415314', '2421261', '2435629', '2419310', '1762210', '2409812', '2429754', '2401721', '2426542', '2427410', '2373969', '2413931', '2410800', '2410542', '2424285', '2133042', '2417434', '2411774', '2431554', '2435355', '2129292', '2420665', '2411457', '2437070', '2404834', '2418662', '2423215', '2434257', '2418650', '2414435', '2435897', '2412120', '2425101', '2423779', '2414959', '2430711', '2424734', '2427519', '2424269', '2409666', '2430283', '2431582', '2419158', '2420382', '2430747', '2409482', '2436559', '2425888', '2434130', '2434400', '2433630', '2427490', '2435868', '2420310', '2440986', '2414756', '2424660', '2432068', '2428244', '2390966', '2419478', '2428212', '2422428', '2433821', '2423181', '2437858', '2432147', '2416023', '2440747', '2389672', '2409425', '2412535', '2414855', '2429034', '2389859', '2409331', '2411879', '2416346', '2408504', '2409295', '2441282', '2421995', '2422244', '2423365', '2426726', '2420935', '2416718', '2441067', '2400453', '2430508', '2421820', '2427145', '2427617', '2421166', '2429466', '2420527', '2418852', '2405721', '2414551', '2362158', '2431658', '2416337', '2415587', '2430159', '2412728', '2398773', '2438058', '2412085', '2419494', '2418743', '2435290', '2436601', '2431730', '2420865', '2415767', '2436901', '2426624', '2416757', '2430488', '2427413', '2417344', '2412577', '2421933', '2418673', '2157600', '2348304', '2408799', '2414132', '2423620', '2430919', '2440890', '2410604', '2433215', '2292031', '2409670', '2436979', '2419374', '2417100', '2409946', '1466497', '2434560', '2415468', '2409219', '2267437', '2424468', '2418322', '2440641', '2319876', '2415658', '2417293', '2429956', '2440766', '2424200', '2419715', '2433543', '2435107', '2430077', '2435023', '2416269', '2374000', '2425312', '2436378', '2426547', '2410855', '2414817', '2424106', '2409241', '2440945', '2416459', '2413620', '2437698', '2430136', '2427962', '2419479', '2411561', '2417243', '2424245', '2428271', '2408760', '2415070', '2427631', '2413131', '2428486', '2425652', '2400882', '2423696', '2426371', '2438675', '2421022', '2429328', '2435302', '2435877', '2416487', '2419683', '2434777', '2424249', '2433464', '2430492', '2441707', '2428073', '2419243', '2429097', '2392558', '2441289', '2423168', '2435463', '2421885', '2438730', '2418475', '2133314', '2273049', '2417227', '2436474', '2433876', '2414705', '2418976', '2391734', '2410391', '2430234', '2428826', '2440601', '2424706', '2427656', '2425824', '2413763', '2413507', '2434836', '2415666', '2441219', '2420411', '2419399', '2430998', '2423583', '2211046', '2414533', '2411681', '2412923', '1639932', '2428459', '2422975', '2420449', '2419481', '2430060', '2434770', '2436685', '2434451', '2425693', '2432139', '2433800', '2321132', '2438612', '2412560', '2434970', '2411055', '2378288', '2439866', '2414063', '2436309', '2422422', '2358283', '2412958', '2420030', '2422566', '2420278', '2210873', '2427085', '2434398', '2440777', '2412385', '2412379', '2410384', '2403136', '2430778', '2440843', '2417979', '2408435', '2414431', '2420379', '2410020', '2411529', '2438712', '2426426', '2414737', '2393416', '2434845', '2434586', '2419887', '2410098', '2409260', '2429068', '2416846', '2415268', '2430693', '2436895', '2431772', '2439051', '2403337', '2418767', '2418586', '2421850', '2414149', '2423812', '2365596', '2316229', '2426417', '2428466', '2441161', '2440653', '2419636', '2438221', '2435805', '2424288', '2390470', '2436926', '2431221', '2409491', '2420652', '2410137', '2413686', '2419166', '2395320', '2436383', '2423031', '2438096', '2422399', '2409640', '2440451', '2435106', '2429273', '2413092', '2409571', '2436243', '2438467', '2419591', '2430835', '2431913', '2412046', '2428621', '2426510', '2427409', '2437176', '2430475', '2402828', '1967691', '2436469', '2427568', '2441857', '2423544', '2433067', '2432098', '2409024', '2422453', '2412824', '2417593', '1884476', '2414573', '2419472', '2421205', '2417267', '2412174', '2412225', '2413482', '2440882', '2416042', '2418985', '2421567', '2437031', '2422292', '2413756', '2419728', '2423473', '2429621', '2426414', '2423022', '2411584', '2418780', '2429732', '2426402', '1997651', '2426434', '2435130', '2417141', '2409510', '2428446', '2438680', '2425358', '2421564', '2409133', '2430566', '2425929', '2428713', '2439984', '2399572', '2440086', '2432063', '2413094', '2430395', '2428329', '2413055', '2435215', '2428743', '2441672', '2411395', '2416584', '2408505', '2409065', '2418677', '2410306', '2415742', '2419748', '2415408', '2427205', '2412630', '2427566', '2428137', '2429821', '2429788', '2422922', '2432817', '2428165', '2418512', '2239112', '2416662', '2416575', '2410548', '2435185', '2407506', '2410040', '2423712', '2419165', '2438197', '2431107', '2437349', '2430573', '2426388', '2408604', '2421718', '2414900', '2418835', '2410373', '2426967', '2417465', '2383463', '2433651', '2416514', '2414739', '2435783', '2409566', '2423832', '2388093', '2427633', '2433061', '2129036', '2437815', '2426232', '2412024', '2410254', '2436022', '2434893', '2431719', '2411996', '2422438', '1520322', '2356881', '2441550', '2364078', '2433005', '2428433', '2408709', '2420758', '2409623', '2433101', '2434272', '2422318', '2415484', '2436256', '2439922', '2409835', '2434057', '2407887', '2416218', '2418800', '2426449', '2414375', '2436057', '2430076', '2439538', '1371405', '1477514', '1852692', '2292763', '2035788', '1027544', '1002885', '1420686', '2297053', '1019668', '2046561', '2118765', '2264341', '2182208', '1017021', '1034282', '2261043', '2284627', '2296131', '2311939', '2098254', '2312994', '1028477', '1925774', '2262415', '1315702', '2246075', '1886678', '1713878', '1992744', '1263009', '2314349', '2262129', '2304176', '1109437', '1621504', '1559559', '1384014', '2295036', '1795105', '2058995', '2016955', '1282723', '2301231', '1829155', '1987493', '1413929', '1035681', '1137403', '1374228', '1438678', '1994776', '1176017', '1875403', '2157925', '1198084', '2256481', '1486541', '2050226', '1979032', '1065145', '1989910', '1214391', '2293044', '1821343', '2183627', '1201031', '1013864', '2301347', '2067207', '2235000', '1477134', '1744749', '2165540', '1957217', '1905554', '2064942', '1998090', '1213523', '1598844', '2261272', '1908061', '2145511', '2271771', '1085078', '1936366', '1929998', '2268018', '2120577', '2213123', '2306599', '2013347', '2293150', '1148519', '2296357', '1841427', '1216764', '1543951', '2258949', '2273705', '1055590', '2147575', '1182077', '1854828', '1455799', '2266061', '2216416', '2278481', '1228098', '1320143', '2292002', '1835050', '2063877', '2307688', '1092546', '1764117', '2290138', '2094211', '1665958', '1697715', '1216896', '2217058', '2174574', '2137350', '2084461', '1039169', '1305342', '2186267', '2256451', '2181227', '1147302', '2275910', '2273810', '1993616', '1077860', '2283288', '2245563', '2242807', '2273473', '1945615', '2161410', '2274278', '1034832', '1138271', '2142927', '2284333', '2275259', '1431311', '1247050', '2220757', '1749275', '2289840', '1342085', '1134549', '2064511', '1259296', '1438301', '2311244', '2147434', '1284041', '1652145', '2249092', '1781045', '2294218', '1077327', '2143925', '2247175', '2208593', '1717732', '1679307', '2064585', '2264317', '2263205', '1119181', '2263118', '1124689', '2228679', '2223746', '2104205', '1434268', '1431011', '1525870', '2139688', '1000159', '2016356', '2260988', '1009916', '2295041', '1190027', '1068285', '1511065', '2264178', '2298439', '1735603', '1881927', '1273150', '1004590', '2060590', '1356231', '1848755', '1060307', '1275076', '2192603', '1158480', '1125729', '2209213', '1077051', '1309982', '2241111', '2285099', '1013158', '1121318', '1515916', '1187732', '1054835', '2145835', '1908601', '1227843', '1075913', '1026297', '1235430', '1061620', '2304554', '1736460', '2187121', '1591411', '2270322', '1595874', '1085853', '2062795', '1937629', '2259995', '2290905', '2158118', '1839074', '2264996', '2251869', '1467717', '1244947', '2245110', '1351219', '1031642', '1482071', '2264856', '1421376', '2264604', '2196892', '1107563', '2217292', '1743905', '1398247', '2265106', '1090939', '1968185', '1353384', '1008068', '1911292', '1778534', '2061494', '1573523', '2287952', '1872324', '1074930', '2254290', '1745913', '1130020', '1337342', '2181420', '2143045', '1890252', '2140025', '2300297', '1961803', '2256091', '2259839', '1997330', '1805851', '2297072', '1353824', '2254485', '1006677', '2239268', '2117036', '2167154', '1347703', '1407002', '1010714', '2245455', '1839977', '1039724', '1383384', '2131056', '1789419', '2135267', '1822198', '2031557', '1207053', '1022694', '1238872', '1781569', '2267100', '2183035', '2204630', '1270957', '1061712', '2285672', '2257150', '1011358', '2234610', '2090498', '1748667', '2168840', '1083318', '2085837', '1940419', '2248290', '2109515', '2154076', '2131639', '2199755', '1001582', '1129726', '2241256', '2061908', '1999230', '1807116', '2098640', '1085104', '1028555', '2188062', '1009332', '1901425', '2143256', '2111464', '1076327', '1494494', '1170584', '1088353', '2217193', '1474204', '1181782', '1324615', '1813839', '1020978', '1954522', '1337177', '2247644', '1294703', '1485505', '1100761', '1079098', '2232744', '1726888', '2290607', '2033472', '2228548', '2245961', '1007722', '1616504', '1012352', '2082298', '2246182', '2213090', '2262622', '2206906', '2315185', '2285437', '1134626', '1012438', '1959535', '1012308', '2297463', '1140173', '2295395', '2062704', '2209689', '1184713', '2058316', '2289307', '1025115', '2266609', '1544866', '1225941', '2287404', '1354773', '2249137', '1268174', '2161274', '2255733', '1072230', '2137175', '1196677', '2241356', '1107386', '1997100', '1421483', '2296179', '2140820', '2249155', '2172514', '1008115', '1252853', '1028068', '1028272', '1978619', '2076080', '1360482', '1839869', '2294612', '2289163', '2241749', '2276797', '2305216', '2278757', '1256865', '1369528', '2266069', '1955818', '1019231', '2194639', '1025568', '2099080', '2259630', '2220419', '2286568', '2150917', '1001770', '2238259', '1196411', '1877938', '1682224', '2263592', '1179915', '2288824', '1125824', '2311108', '1457511', '1010392', '1789326', '1000549', '1949697', '2284013', '2241680', '2150795', '2215389', '2294538', '1455080', '1064775', '2233345', '1728376', '1550425', '2130612', '2178086', '2107313', '2269481', '2286402', '1260626', '2262063', '1250943', '2257907', '2290509', '1743552', '2285328', '1749189', '2050374', '1401921', '2276654', '2286529', '2076293', '2171427', '1203029', '2245270', '2303347', '2268850', '1813223', '1812311', '2305998', '2129739', '2267956', '1973898', '2079924', '1025208', '2199599', '1045187', '1178387', '1236004', '1065644', '2171420', '2287039', '2046973', '2220300', '1805602', '2271390', '1977997', '1042165', '2240948', '1243831', '2277064', '2278210', '2266480', '1253803', '2309994', '2240518', '1857480', '1177654', '1698667', '1031424', '1786064', '1200936', '2136899', '2269101', '1038333', '2117521', '2121187', '1249572', '1040894', '2267182', '1796326', '2251889', '1736309', '1118015', '2285674', '1927992', '2269865', '1143001', '1136015', '2155542', '2110407', '1044643', '1006484', '1231362', '1011321', '1296108', '2265482', '2303336', '2218684', '2270552', '2254198', '2234353', '2195577', '1470766', '2230816', '2014951', '1189083', '2101208', '2298510', '2084521', '1847101', '2279112', '1787981', '2303561', '2284323', '1252981', '2275177', '1044588', '1054232', '2301760', '1250166', '1202280', '2112826', '2086133', '1056427', '2055734', '1634321', '2096057', '2048439', '1280142', '1910855', '2296975', '2282252', '2046519', '2154714', '1366816', '2190599', '2228519', '2276226', '2148941', '1197117', '1030102', '2264364', '1404171', '2217843', '1688809', '2225382', '1370715', '1129142', '2149009', '1268323', '1485910', '2313862', '1679067', '2280621', '1288394', '2272399', '2238232', '1818011', '1135874', '1848115', '1272773', '2264980', '1053338', '2247492', '1315277', '2278280', '1654312', '1228088', '1413241', '2267737', '2298214', '1422293', '1255666', '2252064', '1197392', '2247745', '1232574', '1815106', '2058719', '2131050', '1876087', '2277093', '2267108', '1257434', '1216400', '2291955', '1338086', '1113207', '1205983', '2277917', '1326867', '2289264', '1166760', '2239137', '1960543', '1365951', '2171754', '2284659', '2208010', '1104451', '2283738', '1198687', '1231562', '2311914', '1875544', '2095851', '2192630', '1860631', '2223563', '2194931', '2204789', '1056460', '1294340', '1667434', '2133331', '2211315', '2249954', '1759417', '2096786', '1864749', '2297225', '2238751', '1184897', '2308519', '2295123', '2220330', '1748841', '1781772', '2137538', '1181081', '2222595', '1792319', '1241777', '2069749', '2166138', '2246569', '1001587', '2171596', '2155798', '2271081', '2263681', '2280486', '2122195', '2300150', '1111858', '2013619', '1081748', '2103353', '1912470', '2300396', '2104004', '2265805', '1658396', '1224460', '2157056', '1922729', '2185733', '2176486', '2260839', '1409207', '1231832', '1034362', '1003407', '2236316', '1112613', '1252123', '2206793', '1413385', '1882457', '2204326', '1377916', '2313599', '1533595', '1032677', '1982570', '2177248', '2028373', '2249713', '1366089', '1000466', '2204598', '2287348', '2123397', '2072827', '2277067', '1105416', '1806375', '1034968', '1128529', '1458425', '2286498', '2299850', '2240146', '1043810', '1100421', '2300723', '1412094', '1989788', '1079218', '1030927', '2102509', '1451040', '2273993', '1113217', '2266233', '2290553', '2016224', '2217511', '2241732', '2289233', '1237702', '1093907', '2159669', '1357320', '1621806', '2086207', '1203790', '2292107', '1784791', '1945795', '2072803', '2277384', '1067367', '1690110', '2298948', '2293207', '1038786', '2089218', '1056425', '1037907', '1498788', '1004371', '2283636', '2066265', '1044464', '2247057', '1008980', '2276404', '1013132', '1957934', '1297827', '2276061', '2219237', '2056135', '1874049', '1460728', '1176856', '1224601', '1184887', '1026474', '2314118', '1036766', '1284060', '1010521', '1940449', '1847317', '1052581', '1206824', '2105806', '2285948', '2012970', '2288307', '1955393', '2246730', '1078261', '2224999', '2016213', '2111583', '1286281', '1092312', '1826660', '2275683', '1191239', '2312899', '2287248', '1026257', '2281189', '1678478', '2291738', '1270514', '1837822', '1027779', '2248569', '1966537', '1450437', '2206503', '1670804', '1063633', '2304333', '2245813', '1248341', '2278650', '2069407', '1557759', '2224226', '2148030', '2260789', '1481087', '2259088', '2311121', '1197922', '2035557', '2176410', '1718902', '2242853', '2291052', '2262760', '2074752', '1443878', '2027821', '1423908', '1880291', '1395315', '2274668', '2256041', '1223778', '2286486', '1308372', '1871799', '1590205', '2311409', '2165533', '2297105', '2300308', '1387930', '1359036', '1039739', '1205896', '2294715', '2149032', '2240638', '2243450', '1086794', '1215273', '2242972', '2096875', '1282835', '2163833', '1887465', '2161925', '2293227', '1792472', '1000914', '1385569', '1967781', '1900852', '2013380', '2172353', '2162707', '2108076', '1741622', '2267021', '2109148', '1026162', '2225272', '2268696', '1045001', '1557815', '1899850', '1174091', '2004079', '2129416', '1815905', '1714996', '2139566', '1490234', '1190934', '1981226', '1179533', '1231391', '1022686', '1229471', '2221159', '1249170', '2242763', '2107180', '1059292', '1196280', '2143529', '2056412', '2185984', '1012279', '1511389', '2095252', '2285413', '1004704', '2284219', '2210515', '1829287', '1072346', '1178099', '2289726', '2020045', '1244394', '1279551', '1878933', '1205198', '1975636', '1416316', '1010295', '2173317', '2265511', '1074934', '2213349', '1158798', '1939644', '2303584', '2276043', '2267213', '1077265', '2189810', '2012352', '1235505')\n",
      "),\n",
      "w_approved\n",
      "as\n",
      "(\n",
      "  select DISTINCT customerId from risk_credit_mis.loan_master_table where loantype = 'BIGLOAN' OR FLAGAPPROVAL = 1 OR FLAGDISBURSEMENT = 1  \n",
      "  or (stage1Status = 'EXPIRED' AND cddInitiatedDateAndTime IS NULL)\n",
      ")\n",
      "select *\n",
      "from\n",
      "(\n",
      "  select distinct\n",
      "  a.Customer_Id,a.TSA_Opening_date,\n",
      "  c.OFSTANDARDACCOUNTID as TSA_Account_Number, c.OfblockAmount, \n",
      "  a.TSA_Status,a.TSA_Balance,a.Solo_Stash_Balance,a.Group_Stash_Balance,a.Term_Deposit_Balance,a.Active_Term_Deposit_flag,a.Last_TSA_Credit_Date,a.Last_TSA_Debit_Date,\n",
      "  a.ARI_Flag,a.Active_Loan,a.Total_Loan_Outstanding,  case when b.customerId is not null then 1 else 0 end as Approved_Loans,\n",
      "  a.Pending_Loan_Applications,a.Hard_Reject_Loans_App,a.Soft_Reject_Loans_App,a.Cancelled_Loans_App, extract(date from a.Last_Login_Date) as Last_Login_Date,\n",
      "  a.Last_TSA_EOD_Balance_Date,a.Last_Group_Stash_Credit_Date,a.Group_Stash_Balance_Owner,a.Run_Date,a.Batch,a.Processing_Month,a.pending_loans_not_expired_not_exempt,a.expired_loans,\n",
      "  a.pending_loans_lastDt,a.expired_loans_lastDt,\n",
      "  CASE \n",
      "    WHEN tsa_status = 'Active' and (Last_TSA_Credit_Date = date '1970-01-01' and Last_Group_Stash_Credit_Date is null)\n",
      "    and (TSA_Opening_date < date '2024-05-08')   ####D-60 days(SHOULD BE SAME DATE FOR 1ST,2ND,3RD NOTIFICATION)\n",
      "    and ( round(coalesce(TSA_Balance,0) + coalesce(Solo_Stash_Balance,0) + coalesce(Group_Stash_Balance,0) + coalesce(Term_Deposit_Balance,0),2) = 0 )\n",
      "    and (Active_Loan = 0) and (COALESCE(Pending_Loan_Applications,0) = 0)\n",
      "    and (Active_Term_Deposit_flag = 0)\n",
      "    and (ARI_Flag = 'N')\n",
      "    --and (Approved_Loans = 0)  THEN 'TYPE 1'\n",
      "    and b.customerId is null  THEN 'TYPE 1'\n",
      "\n",
      "\n",
      "    WHEN tsa_status = 'Active' and Last_TSA_EOD_Balance_Date is null and (TSA_Opening_date < date '2024-05-08')  ####D-60 days(SHOULD BE SAME DATE FOR 1ST,2ND,3RD NOTIFICATION)\n",
      "    and ( round(coalesce(TSA_Balance,0) + coalesce(Solo_Stash_Balance,0) + coalesce(Group_Stash_Balance,0) + coalesce(Term_Deposit_Balance,0),2) = 0 )\n",
      "    and (Active_Loan = 0) and (COALESCE(Pending_Loan_Applications,0) = 0)\n",
      "    and (Active_Term_Deposit_flag = 0)\n",
      "    and (ARI_Flag = 'N')\n",
      "    --and (Approved_Loans = 0)\n",
      "    and b.customerId is null  \n",
      "    and (date_trunc(TSA_Opening_date,day) = date_trunc(Last_Login_Date,day)) THEN 'TYPE 2'\n",
      "\n",
      "    \n",
      "    WHEN ( round(coalesce(TSA_Balance,0) + coalesce(Solo_Stash_Balance,0) + coalesce(Group_Stash_Balance,0) + coalesce(Term_Deposit_Balance,0),2) < 1 )\n",
      "            and (Active_Loan = 0) and (COALESCE(Pending_Loan_Applications,0) = 0)\n",
      "            and (Active_Term_Deposit_flag = 0)\n",
      "            and TSA_Opening_date < date '2024-01-09'                                     ####D-180 days(SHOULD BE SAME DATE FOR 1ST,2ND,3RD NOTIFICATION)\n",
      "            and (Last_TSA_Credit_Date < date '2024-01-09'                                 ####D-180 days(SHOULD BE SAME DATE FOR 1ST,2ND,3RD NOTIFICATION)\n",
      "            and Last_TSA_Debit_Date < date '2024-01-09'                                         ####D-180 days(SHOULD BE SAME DATE FOR 1ST,2ND,3RD NOTIFICATION)\n",
      "            and coalesce(Last_Group_Stash_Credit_Date,date '1970-01-01') < date '2024-01-09' )  ####D-180 days(SHOULD BE SAME DATE FOR 1ST,2ND,3RD NOTIFICATION)\n",
      "            and tsa_status = 'Active'\n",
      "            and (ARI_Flag = 'N')\n",
      "    --and (Approved_Loans = 0)\n",
      "            and b.customerId is null  \n",
      "    THEN 'TYPE 3'\n",
      "    ELSE 'NO ACTION'\n",
      "    END AS ACTION_TYPE\n",
      "  from w_tsa A\n",
      "  left join w_approved b\n",
      "  on cast(a.Customer_Id as int64) = b.customerId\n",
      "  left join core_raw.customer_accounts c\n",
      "  on c.OFCUSTOMERID = a.Customer_Id and c.CRINTERDESC = 'Transactional Savings Account Inv_R' and c.OFISCLOSED = 'N'\n",
      "  where\n",
      "  Run_Date = date '2024-07-07'  ###DATE change here to D-1\n",
      ")\n",
      "\n"
     ]
    }
   ],
   "source": [
    "print(sq)"
   ]
  },
  {
   "cell_type": "code",
   "execution_count": 43,
   "metadata": {},
   "outputs": [
    {
     "name": "stdout",
     "output_type": "stream",
     "text": [
      "Job ID 95f6f473-17e6-45ae-8ed0-d49c2d127062 successfully executed: 100%|\u001b[32m██████████\u001b[0m|\n",
      "Downloading: 100%|\u001b[32m██████████\u001b[0m|\n"
     ]
    }
   ],
   "source": [
    "df = client.query(sq).to_dataframe(progress_bar_type = 'tqdm')"
   ]
  },
  {
   "cell_type": "code",
   "execution_count": 44,
   "metadata": {},
   "outputs": [
    {
     "data": {
      "text/html": [
       "<div>\n",
       "<style scoped>\n",
       "    .dataframe tbody tr th:only-of-type {\n",
       "        vertical-align: middle;\n",
       "    }\n",
       "\n",
       "    .dataframe tbody tr th {\n",
       "        vertical-align: top;\n",
       "    }\n",
       "\n",
       "    .dataframe thead th {\n",
       "        text-align: right;\n",
       "    }\n",
       "</style>\n",
       "<table border=\"1\" class=\"dataframe\">\n",
       "  <thead>\n",
       "    <tr style=\"text-align: right;\">\n",
       "      <th></th>\n",
       "      <th>Customer_Id</th>\n",
       "      <th>TSA_Opening_date</th>\n",
       "      <th>TSA_Account_Number</th>\n",
       "      <th>OfblockAmount</th>\n",
       "      <th>TSA_Status</th>\n",
       "      <th>TSA_Balance</th>\n",
       "      <th>Solo_Stash_Balance</th>\n",
       "      <th>Group_Stash_Balance</th>\n",
       "      <th>Term_Deposit_Balance</th>\n",
       "      <th>Active_Term_Deposit_flag</th>\n",
       "      <th>Last_TSA_Credit_Date</th>\n",
       "      <th>Last_TSA_Debit_Date</th>\n",
       "      <th>ARI_Flag</th>\n",
       "      <th>Active_Loan</th>\n",
       "      <th>Total_Loan_Outstanding</th>\n",
       "      <th>Approved_Loans</th>\n",
       "      <th>Pending_Loan_Applications</th>\n",
       "      <th>Hard_Reject_Loans_App</th>\n",
       "      <th>Soft_Reject_Loans_App</th>\n",
       "      <th>Cancelled_Loans_App</th>\n",
       "      <th>Last_Login_Date</th>\n",
       "      <th>Last_TSA_EOD_Balance_Date</th>\n",
       "      <th>Last_Group_Stash_Credit_Date</th>\n",
       "      <th>Group_Stash_Balance_Owner</th>\n",
       "      <th>Run_Date</th>\n",
       "      <th>Batch</th>\n",
       "      <th>Processing_Month</th>\n",
       "      <th>pending_loans_not_expired_not_exempt</th>\n",
       "      <th>expired_loans</th>\n",
       "      <th>pending_loans_lastDt</th>\n",
       "      <th>expired_loans_lastDt</th>\n",
       "      <th>ACTION_TYPE</th>\n",
       "    </tr>\n",
       "  </thead>\n",
       "  <tbody>\n",
       "    <tr>\n",
       "      <th>132923</th>\n",
       "      <td>1954123</td>\n",
       "      <td>2023-03-21</td>\n",
       "      <td>60819541230006</td>\n",
       "      <td>0.0</td>\n",
       "      <td>Active</td>\n",
       "      <td>0.00</td>\n",
       "      <td>0.00</td>\n",
       "      <td>0.0</td>\n",
       "      <td>0.0</td>\n",
       "      <td>0</td>\n",
       "      <td>2024-06-30</td>\n",
       "      <td>2024-07-02</td>\n",
       "      <td>N</td>\n",
       "      <td>1</td>\n",
       "      <td>21504.26</td>\n",
       "      <td>1</td>\n",
       "      <td>0</td>\n",
       "      <td>0</td>\n",
       "      <td>0</td>\n",
       "      <td>0</td>\n",
       "      <td>2024-06-21</td>\n",
       "      <td>2024-07-01</td>\n",
       "      <td>NaT</td>\n",
       "      <td>NaN</td>\n",
       "      <td>2024-07-07</td>\n",
       "      <td>Batch_1</td>\n",
       "      <td>July</td>\n",
       "      <td>0</td>\n",
       "      <td>0</td>\n",
       "      <td>NaT</td>\n",
       "      <td>NaT</td>\n",
       "      <td>NO ACTION</td>\n",
       "    </tr>\n",
       "    <tr>\n",
       "      <th>521890</th>\n",
       "      <td>2611722</td>\n",
       "      <td>2024-06-26</td>\n",
       "      <td>60826117220001</td>\n",
       "      <td>0.0</td>\n",
       "      <td>Active</td>\n",
       "      <td>0.00</td>\n",
       "      <td>0.00</td>\n",
       "      <td>0.0</td>\n",
       "      <td>0.0</td>\n",
       "      <td>0</td>\n",
       "      <td>1970-01-01</td>\n",
       "      <td>1970-01-01</td>\n",
       "      <td>N</td>\n",
       "      <td>1</td>\n",
       "      <td>6327.30</td>\n",
       "      <td>1</td>\n",
       "      <td>0</td>\n",
       "      <td>0</td>\n",
       "      <td>0</td>\n",
       "      <td>0</td>\n",
       "      <td>2024-06-26</td>\n",
       "      <td>NaT</td>\n",
       "      <td>NaT</td>\n",
       "      <td>NaN</td>\n",
       "      <td>2024-07-07</td>\n",
       "      <td>Batch_1</td>\n",
       "      <td>July</td>\n",
       "      <td>0</td>\n",
       "      <td>0</td>\n",
       "      <td>NaT</td>\n",
       "      <td>NaT</td>\n",
       "      <td>NO ACTION</td>\n",
       "    </tr>\n",
       "    <tr>\n",
       "      <th>294274</th>\n",
       "      <td>1382826</td>\n",
       "      <td>2022-05-21</td>\n",
       "      <td>60813828260001</td>\n",
       "      <td>0.0</td>\n",
       "      <td>Active</td>\n",
       "      <td>0.29</td>\n",
       "      <td>12.96</td>\n",
       "      <td>0.0</td>\n",
       "      <td>0.0</td>\n",
       "      <td>0</td>\n",
       "      <td>2024-04-30</td>\n",
       "      <td>2022-06-30</td>\n",
       "      <td>N</td>\n",
       "      <td>0</td>\n",
       "      <td>0.00</td>\n",
       "      <td>0</td>\n",
       "      <td>1</td>\n",
       "      <td>0</td>\n",
       "      <td>0</td>\n",
       "      <td>0</td>\n",
       "      <td>2022-11-15</td>\n",
       "      <td>2024-07-07</td>\n",
       "      <td>NaT</td>\n",
       "      <td>NaN</td>\n",
       "      <td>2024-07-07</td>\n",
       "      <td>Batch_1</td>\n",
       "      <td>July</td>\n",
       "      <td>1</td>\n",
       "      <td>0</td>\n",
       "      <td>2022-08-11</td>\n",
       "      <td>NaT</td>\n",
       "      <td>NO ACTION</td>\n",
       "    </tr>\n",
       "    <tr>\n",
       "      <th>124582</th>\n",
       "      <td>1607630</td>\n",
       "      <td>2023-04-24</td>\n",
       "      <td>60816076300009</td>\n",
       "      <td>0.0</td>\n",
       "      <td>Active</td>\n",
       "      <td>0.02</td>\n",
       "      <td>2.41</td>\n",
       "      <td>0.0</td>\n",
       "      <td>0.0</td>\n",
       "      <td>0</td>\n",
       "      <td>2023-09-07</td>\n",
       "      <td>2023-09-07</td>\n",
       "      <td>N</td>\n",
       "      <td>0</td>\n",
       "      <td>0.00</td>\n",
       "      <td>0</td>\n",
       "      <td>1</td>\n",
       "      <td>0</td>\n",
       "      <td>0</td>\n",
       "      <td>1</td>\n",
       "      <td>2023-09-07</td>\n",
       "      <td>2024-07-07</td>\n",
       "      <td>NaT</td>\n",
       "      <td>NaN</td>\n",
       "      <td>2024-07-07</td>\n",
       "      <td>Batch_1</td>\n",
       "      <td>July</td>\n",
       "      <td>1</td>\n",
       "      <td>3</td>\n",
       "      <td>2023-04-24</td>\n",
       "      <td>2023-12-07</td>\n",
       "      <td>NO ACTION</td>\n",
       "    </tr>\n",
       "    <tr>\n",
       "      <th>116362</th>\n",
       "      <td>2512770</td>\n",
       "      <td>2024-05-13</td>\n",
       "      <td>60825127700006</td>\n",
       "      <td>0.0</td>\n",
       "      <td>Active</td>\n",
       "      <td>0.00</td>\n",
       "      <td>0.00</td>\n",
       "      <td>0.0</td>\n",
       "      <td>0.0</td>\n",
       "      <td>0</td>\n",
       "      <td>1970-01-01</td>\n",
       "      <td>1970-01-01</td>\n",
       "      <td>N</td>\n",
       "      <td>0</td>\n",
       "      <td>0.00</td>\n",
       "      <td>0</td>\n",
       "      <td>0</td>\n",
       "      <td>0</td>\n",
       "      <td>1</td>\n",
       "      <td>0</td>\n",
       "      <td>2024-05-17</td>\n",
       "      <td>NaT</td>\n",
       "      <td>NaT</td>\n",
       "      <td>NaN</td>\n",
       "      <td>2024-07-07</td>\n",
       "      <td>Batch_1</td>\n",
       "      <td>July</td>\n",
       "      <td>0</td>\n",
       "      <td>0</td>\n",
       "      <td>NaT</td>\n",
       "      <td>NaT</td>\n",
       "      <td>NO ACTION</td>\n",
       "    </tr>\n",
       "    <tr>\n",
       "      <th>385739</th>\n",
       "      <td>1741410</td>\n",
       "      <td>2022-10-29</td>\n",
       "      <td>60817414100001</td>\n",
       "      <td>0.0</td>\n",
       "      <td>Active</td>\n",
       "      <td>0.00</td>\n",
       "      <td>0.00</td>\n",
       "      <td>0.0</td>\n",
       "      <td>0.0</td>\n",
       "      <td>0</td>\n",
       "      <td>1970-01-01</td>\n",
       "      <td>1970-01-01</td>\n",
       "      <td>N</td>\n",
       "      <td>0</td>\n",
       "      <td>0.00</td>\n",
       "      <td>0</td>\n",
       "      <td>1</td>\n",
       "      <td>0</td>\n",
       "      <td>0</td>\n",
       "      <td>0</td>\n",
       "      <td>2022-12-31</td>\n",
       "      <td>NaT</td>\n",
       "      <td>NaT</td>\n",
       "      <td>NaN</td>\n",
       "      <td>2024-07-07</td>\n",
       "      <td>Batch_1</td>\n",
       "      <td>July</td>\n",
       "      <td>0</td>\n",
       "      <td>0</td>\n",
       "      <td>NaT</td>\n",
       "      <td>NaT</td>\n",
       "      <td>NO ACTION</td>\n",
       "    </tr>\n",
       "    <tr>\n",
       "      <th>293681</th>\n",
       "      <td>1457223</td>\n",
       "      <td>2022-07-10</td>\n",
       "      <td>60814572230001</td>\n",
       "      <td>0.0</td>\n",
       "      <td>Active</td>\n",
       "      <td>0.00</td>\n",
       "      <td>0.00</td>\n",
       "      <td>0.0</td>\n",
       "      <td>0.0</td>\n",
       "      <td>0</td>\n",
       "      <td>1970-01-01</td>\n",
       "      <td>1970-01-01</td>\n",
       "      <td>N</td>\n",
       "      <td>0</td>\n",
       "      <td>0.00</td>\n",
       "      <td>0</td>\n",
       "      <td>1</td>\n",
       "      <td>0</td>\n",
       "      <td>0</td>\n",
       "      <td>0</td>\n",
       "      <td>2022-07-10</td>\n",
       "      <td>NaT</td>\n",
       "      <td>NaT</td>\n",
       "      <td>NaN</td>\n",
       "      <td>2024-07-07</td>\n",
       "      <td>Batch_1</td>\n",
       "      <td>July</td>\n",
       "      <td>0</td>\n",
       "      <td>0</td>\n",
       "      <td>NaT</td>\n",
       "      <td>NaT</td>\n",
       "      <td>NO ACTION</td>\n",
       "    </tr>\n",
       "    <tr>\n",
       "      <th>221230</th>\n",
       "      <td>2574019</td>\n",
       "      <td>2024-06-13</td>\n",
       "      <td>60825740190001</td>\n",
       "      <td>0.0</td>\n",
       "      <td>Active</td>\n",
       "      <td>0.00</td>\n",
       "      <td>0.00</td>\n",
       "      <td>0.0</td>\n",
       "      <td>0.0</td>\n",
       "      <td>0</td>\n",
       "      <td>1970-01-01</td>\n",
       "      <td>1970-01-01</td>\n",
       "      <td>N</td>\n",
       "      <td>0</td>\n",
       "      <td>0.00</td>\n",
       "      <td>0</td>\n",
       "      <td>0</td>\n",
       "      <td>0</td>\n",
       "      <td>1</td>\n",
       "      <td>0</td>\n",
       "      <td>2024-06-13</td>\n",
       "      <td>NaT</td>\n",
       "      <td>NaT</td>\n",
       "      <td>NaN</td>\n",
       "      <td>2024-07-07</td>\n",
       "      <td>Batch_1</td>\n",
       "      <td>July</td>\n",
       "      <td>0</td>\n",
       "      <td>0</td>\n",
       "      <td>NaT</td>\n",
       "      <td>NaT</td>\n",
       "      <td>NO ACTION</td>\n",
       "    </tr>\n",
       "    <tr>\n",
       "      <th>71235</th>\n",
       "      <td>1022063</td>\n",
       "      <td>2021-04-03</td>\n",
       "      <td>60810220630004</td>\n",
       "      <td>0.0</td>\n",
       "      <td>Active</td>\n",
       "      <td>887.59</td>\n",
       "      <td>49931.15</td>\n",
       "      <td>0.0</td>\n",
       "      <td>0.0</td>\n",
       "      <td>0</td>\n",
       "      <td>2024-06-30</td>\n",
       "      <td>2024-06-30</td>\n",
       "      <td>N</td>\n",
       "      <td>0</td>\n",
       "      <td>0.00</td>\n",
       "      <td>0</td>\n",
       "      <td>0</td>\n",
       "      <td>0</td>\n",
       "      <td>0</td>\n",
       "      <td>0</td>\n",
       "      <td>2024-07-02</td>\n",
       "      <td>2024-07-07</td>\n",
       "      <td>NaT</td>\n",
       "      <td>NaN</td>\n",
       "      <td>2024-07-07</td>\n",
       "      <td>Batch_1</td>\n",
       "      <td>July</td>\n",
       "      <td>0</td>\n",
       "      <td>0</td>\n",
       "      <td>NaT</td>\n",
       "      <td>NaT</td>\n",
       "      <td>NO ACTION</td>\n",
       "    </tr>\n",
       "    <tr>\n",
       "      <th>536856</th>\n",
       "      <td>1740940</td>\n",
       "      <td>2022-10-28</td>\n",
       "      <td>60817409400008</td>\n",
       "      <td>0.0</td>\n",
       "      <td>Active</td>\n",
       "      <td>0.00</td>\n",
       "      <td>0.00</td>\n",
       "      <td>0.0</td>\n",
       "      <td>0.0</td>\n",
       "      <td>0</td>\n",
       "      <td>1970-01-01</td>\n",
       "      <td>1970-01-01</td>\n",
       "      <td>N</td>\n",
       "      <td>0</td>\n",
       "      <td>0.00</td>\n",
       "      <td>0</td>\n",
       "      <td>2</td>\n",
       "      <td>0</td>\n",
       "      <td>0</td>\n",
       "      <td>1</td>\n",
       "      <td>2022-10-31</td>\n",
       "      <td>NaT</td>\n",
       "      <td>NaT</td>\n",
       "      <td>NaN</td>\n",
       "      <td>2024-07-07</td>\n",
       "      <td>Batch_1</td>\n",
       "      <td>July</td>\n",
       "      <td>2</td>\n",
       "      <td>0</td>\n",
       "      <td>2022-11-30</td>\n",
       "      <td>NaT</td>\n",
       "      <td>NO ACTION</td>\n",
       "    </tr>\n",
       "  </tbody>\n",
       "</table>\n",
       "</div>"
      ],
      "text/plain": [
       "       Customer_Id TSA_Opening_date TSA_Account_Number  OfblockAmount  \\\n",
       "132923     1954123       2023-03-21     60819541230006            0.0   \n",
       "521890     2611722       2024-06-26     60826117220001            0.0   \n",
       "294274     1382826       2022-05-21     60813828260001            0.0   \n",
       "124582     1607630       2023-04-24     60816076300009            0.0   \n",
       "116362     2512770       2024-05-13     60825127700006            0.0   \n",
       "385739     1741410       2022-10-29     60817414100001            0.0   \n",
       "293681     1457223       2022-07-10     60814572230001            0.0   \n",
       "221230     2574019       2024-06-13     60825740190001            0.0   \n",
       "71235      1022063       2021-04-03     60810220630004            0.0   \n",
       "536856     1740940       2022-10-28     60817409400008            0.0   \n",
       "\n",
       "       TSA_Status  TSA_Balance  Solo_Stash_Balance  Group_Stash_Balance  \\\n",
       "132923     Active         0.00                0.00                  0.0   \n",
       "521890     Active         0.00                0.00                  0.0   \n",
       "294274     Active         0.29               12.96                  0.0   \n",
       "124582     Active         0.02                2.41                  0.0   \n",
       "116362     Active         0.00                0.00                  0.0   \n",
       "385739     Active         0.00                0.00                  0.0   \n",
       "293681     Active         0.00                0.00                  0.0   \n",
       "221230     Active         0.00                0.00                  0.0   \n",
       "71235      Active       887.59            49931.15                  0.0   \n",
       "536856     Active         0.00                0.00                  0.0   \n",
       "\n",
       "        Term_Deposit_Balance  Active_Term_Deposit_flag Last_TSA_Credit_Date  \\\n",
       "132923                   0.0                         0           2024-06-30   \n",
       "521890                   0.0                         0           1970-01-01   \n",
       "294274                   0.0                         0           2024-04-30   \n",
       "124582                   0.0                         0           2023-09-07   \n",
       "116362                   0.0                         0           1970-01-01   \n",
       "385739                   0.0                         0           1970-01-01   \n",
       "293681                   0.0                         0           1970-01-01   \n",
       "221230                   0.0                         0           1970-01-01   \n",
       "71235                    0.0                         0           2024-06-30   \n",
       "536856                   0.0                         0           1970-01-01   \n",
       "\n",
       "       Last_TSA_Debit_Date ARI_Flag  Active_Loan  Total_Loan_Outstanding  \\\n",
       "132923          2024-07-02        N            1                21504.26   \n",
       "521890          1970-01-01        N            1                 6327.30   \n",
       "294274          2022-06-30        N            0                    0.00   \n",
       "124582          2023-09-07        N            0                    0.00   \n",
       "116362          1970-01-01        N            0                    0.00   \n",
       "385739          1970-01-01        N            0                    0.00   \n",
       "293681          1970-01-01        N            0                    0.00   \n",
       "221230          1970-01-01        N            0                    0.00   \n",
       "71235           2024-06-30        N            0                    0.00   \n",
       "536856          1970-01-01        N            0                    0.00   \n",
       "\n",
       "        Approved_Loans  Pending_Loan_Applications  Hard_Reject_Loans_App  \\\n",
       "132923               1                          0                      0   \n",
       "521890               1                          0                      0   \n",
       "294274               0                          1                      0   \n",
       "124582               0                          1                      0   \n",
       "116362               0                          0                      0   \n",
       "385739               0                          1                      0   \n",
       "293681               0                          1                      0   \n",
       "221230               0                          0                      0   \n",
       "71235                0                          0                      0   \n",
       "536856               0                          2                      0   \n",
       "\n",
       "        Soft_Reject_Loans_App  Cancelled_Loans_App Last_Login_Date  \\\n",
       "132923                      0                    0      2024-06-21   \n",
       "521890                      0                    0      2024-06-26   \n",
       "294274                      0                    0      2022-11-15   \n",
       "124582                      0                    1      2023-09-07   \n",
       "116362                      1                    0      2024-05-17   \n",
       "385739                      0                    0      2022-12-31   \n",
       "293681                      0                    0      2022-07-10   \n",
       "221230                      1                    0      2024-06-13   \n",
       "71235                       0                    0      2024-07-02   \n",
       "536856                      0                    1      2022-10-31   \n",
       "\n",
       "       Last_TSA_EOD_Balance_Date Last_Group_Stash_Credit_Date  \\\n",
       "132923                2024-07-01                          NaT   \n",
       "521890                       NaT                          NaT   \n",
       "294274                2024-07-07                          NaT   \n",
       "124582                2024-07-07                          NaT   \n",
       "116362                       NaT                          NaT   \n",
       "385739                       NaT                          NaT   \n",
       "293681                       NaT                          NaT   \n",
       "221230                       NaT                          NaT   \n",
       "71235                 2024-07-07                          NaT   \n",
       "536856                       NaT                          NaT   \n",
       "\n",
       "        Group_Stash_Balance_Owner    Run_Date    Batch Processing_Month  \\\n",
       "132923                        NaN  2024-07-07  Batch_1             July   \n",
       "521890                        NaN  2024-07-07  Batch_1             July   \n",
       "294274                        NaN  2024-07-07  Batch_1             July   \n",
       "124582                        NaN  2024-07-07  Batch_1             July   \n",
       "116362                        NaN  2024-07-07  Batch_1             July   \n",
       "385739                        NaN  2024-07-07  Batch_1             July   \n",
       "293681                        NaN  2024-07-07  Batch_1             July   \n",
       "221230                        NaN  2024-07-07  Batch_1             July   \n",
       "71235                         NaN  2024-07-07  Batch_1             July   \n",
       "536856                        NaN  2024-07-07  Batch_1             July   \n",
       "\n",
       "        pending_loans_not_expired_not_exempt  expired_loans  \\\n",
       "132923                                     0              0   \n",
       "521890                                     0              0   \n",
       "294274                                     1              0   \n",
       "124582                                     1              3   \n",
       "116362                                     0              0   \n",
       "385739                                     0              0   \n",
       "293681                                     0              0   \n",
       "221230                                     0              0   \n",
       "71235                                      0              0   \n",
       "536856                                     2              0   \n",
       "\n",
       "       pending_loans_lastDt expired_loans_lastDt ACTION_TYPE  \n",
       "132923                  NaT                  NaT   NO ACTION  \n",
       "521890                  NaT                  NaT   NO ACTION  \n",
       "294274           2022-08-11                  NaT   NO ACTION  \n",
       "124582           2023-04-24           2023-12-07   NO ACTION  \n",
       "116362                  NaT                  NaT   NO ACTION  \n",
       "385739                  NaT                  NaT   NO ACTION  \n",
       "293681                  NaT                  NaT   NO ACTION  \n",
       "221230                  NaT                  NaT   NO ACTION  \n",
       "71235                   NaT                  NaT   NO ACTION  \n",
       "536856           2022-11-30                  NaT   NO ACTION  "
      ]
     },
     "execution_count": 44,
     "metadata": {},
     "output_type": "execute_result"
    }
   ],
   "source": [
    "pd.set_option('display.max_columns', None)\n",
    "df.sample(10)"
   ]
  },
  {
   "cell_type": "code",
   "execution_count": 45,
   "metadata": {},
   "outputs": [
    {
     "data": {
      "text/plain": [
       "(549156, 32)"
      ]
     },
     "execution_count": 45,
     "metadata": {},
     "output_type": "execute_result"
    }
   ],
   "source": [
    "df.shape"
   ]
  },
  {
   "cell_type": "code",
   "execution_count": 46,
   "metadata": {},
   "outputs": [
    {
     "data": {
      "text/plain": [
       "ACTION_TYPE\n",
       "NO ACTION    533381\n",
       "TYPE 1        14313\n",
       "TYPE 3         1432\n",
       "TYPE 2           30\n",
       "Name: count, dtype: int64"
      ]
     },
     "execution_count": 46,
     "metadata": {},
     "output_type": "execute_result"
    }
   ],
   "source": [
    "df['ACTION_TYPE'].value_counts()"
   ]
  },
  {
   "cell_type": "code",
   "execution_count": 49,
   "metadata": {},
   "outputs": [],
   "source": [
    "df.to_excel(r\"C:\\Users\\DwaipayanChakroborti\\OneDrive - Tonik Financial Pte Ltd\\MyStuff\\Marvin\\TSA Account Closure\\May24&June24 Ongoing Batch\\2024018_TSA_Account_Closure_firstNotificationexcludingattachment.xlsx\", sheet_name='firstNotificationexclattachment', index = False)"
   ]
  },
  {
   "cell_type": "code",
   "execution_count": null,
   "metadata": {},
   "outputs": [],
   "source": []
  }
 ],
 "metadata": {
  "kernelspec": {
   "display_name": "prjreports",
   "language": "python",
   "name": "python3"
  },
  "language_info": {
   "codemirror_mode": {
    "name": "ipython",
    "version": 3
   },
   "file_extension": ".py",
   "mimetype": "text/x-python",
   "name": "python",
   "nbconvert_exporter": "python",
   "pygments_lexer": "ipython3",
   "version": "3.9.19"
  }
 },
 "nbformat": 4,
 "nbformat_minor": 2
}
