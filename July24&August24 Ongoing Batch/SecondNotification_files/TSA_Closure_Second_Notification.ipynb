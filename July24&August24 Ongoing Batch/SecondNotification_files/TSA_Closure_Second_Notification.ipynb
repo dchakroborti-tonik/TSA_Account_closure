{
 "cells": [
  {
   "cell_type": "markdown",
   "metadata": {},
   "source": [
    "# <div align=\"center\" style=\"color: #ff5733;\">TSA Closure Second Notification</div>"
   ]
  },
  {
   "cell_type": "code",
   "execution_count": 1,
   "metadata": {},
   "outputs": [],
   "source": [
    "# Import Libraries   \n",
    "\n",
    "import pandas as pd  \n",
    "import numpy as np  \n",
    "\n",
    "from google.cloud import bigquery\n",
    "import os\n",
    "\n",
    "path = r\"C:\\Users\\DwaipayanChakroborti\\AppData\\Roaming\\gcloud\\legacy_credentials\\dchakroborti@tonikbank.com\\adc.json\"\n",
    "\n",
    "os.environ[\"GOOGLE_APPLICATION_CREDENTIALS\"] = path\n",
    "client = bigquery.Client(project=\"prj-prod-dataplatform\")"
   ]
  },
  {
   "cell_type": "markdown",
   "metadata": {},
   "source": [
    "# Ask Balasubramani to refresh risk_credit_mis.tsa_account_closure table.\n",
    "**Check if that is refreshed when Balasubramani confirms it**"
   ]
  },
  {
   "cell_type": "code",
   "execution_count": 2,
   "metadata": {},
   "outputs": [
    {
     "name": "stdout",
     "output_type": "stream",
     "text": [
      "Job ID 69ab0782-28d3-4365-b6af-87e8000620e1 successfully executed: 100%|\u001b[32m██████████\u001b[0m|\n",
      "Downloading: 100%|\u001b[32m██████████\u001b[0m|\n"
     ]
    },
    {
     "data": {
      "text/html": [
       "<div>\n",
       "<style scoped>\n",
       "    .dataframe tbody tr th:only-of-type {\n",
       "        vertical-align: middle;\n",
       "    }\n",
       "\n",
       "    .dataframe tbody tr th {\n",
       "        vertical-align: top;\n",
       "    }\n",
       "\n",
       "    .dataframe thead th {\n",
       "        text-align: right;\n",
       "    }\n",
       "</style>\n",
       "<table border=\"1\" class=\"dataframe\">\n",
       "  <thead>\n",
       "    <tr style=\"text-align: right;\">\n",
       "      <th></th>\n",
       "      <th>Run_Date</th>\n",
       "      <th>cnt</th>\n",
       "    </tr>\n",
       "  </thead>\n",
       "  <tbody>\n",
       "    <tr>\n",
       "      <th>0</th>\n",
       "      <td>2024-09-03</td>\n",
       "      <td>656465</td>\n",
       "    </tr>\n",
       "  </tbody>\n",
       "</table>\n",
       "</div>"
      ],
      "text/plain": [
       "     Run_Date     cnt\n",
       "0  2024-09-03  656465"
      ]
     },
     "execution_count": 2,
     "metadata": {},
     "output_type": "execute_result"
    }
   ],
   "source": [
    "sq = \"\"\"select Run_Date, count(1)cnt from risk_credit_mis.tsa_account_closure group by 1 order by 1 desc\"\"\"\n",
    "df = client.query(sq).to_dataframe(progress_bar_type = 'tqdm')\n",
    "df.head(1)"
   ]
  },
  {
   "cell_type": "markdown",
   "metadata": {},
   "source": [
    "The date should show yesterday's date"
   ]
  },
  {
   "cell_type": "markdown",
   "metadata": {},
   "source": [
    "# Read the data from the first sheet for Type1 and Type2 data provided by Marvin"
   ]
  },
  {
   "cell_type": "code",
   "execution_count": 3,
   "metadata": {},
   "outputs": [
    {
     "data": {
      "text/plain": [
       "(17453, 2)"
      ]
     },
     "execution_count": 3,
     "metadata": {},
     "output_type": "execute_result"
    }
   ],
   "source": [
    "d1 = pd.read_excel(r\"C:\\Users\\DwaipayanChakroborti\\OneDrive - Tonik Financial Pte Ltd\\MyStuff\\Marvin\\TSA Account Closure\\July24&August24 Ongoing Batch\\SecondNotification_files\\Type 1 & 2.xlsx\", sheet_name='Sheet1')\n",
    "d1.shape"
   ]
  },
  {
   "cell_type": "code",
   "execution_count": 4,
   "metadata": {},
   "outputs": [
    {
     "name": "stdout",
     "output_type": "stream",
     "text": [
      "The unique count of customer_id is:\t17450\n"
     ]
    },
    {
     "data": {
      "text/html": [
       "<div>\n",
       "<style scoped>\n",
       "    .dataframe tbody tr th:only-of-type {\n",
       "        vertical-align: middle;\n",
       "    }\n",
       "\n",
       "    .dataframe tbody tr th {\n",
       "        vertical-align: top;\n",
       "    }\n",
       "\n",
       "    .dataframe thead th {\n",
       "        text-align: right;\n",
       "    }\n",
       "</style>\n",
       "<table border=\"1\" class=\"dataframe\">\n",
       "  <thead>\n",
       "    <tr style=\"text-align: right;\">\n",
       "      <th></th>\n",
       "      <th>Customer_Id</th>\n",
       "      <th>ACTION_TYPE</th>\n",
       "    </tr>\n",
       "  </thead>\n",
       "  <tbody>\n",
       "    <tr>\n",
       "      <th>0</th>\n",
       "      <td>2535147</td>\n",
       "      <td>TYPE 1</td>\n",
       "    </tr>\n",
       "    <tr>\n",
       "      <th>1</th>\n",
       "      <td>2553961</td>\n",
       "      <td>TYPE 1</td>\n",
       "    </tr>\n",
       "    <tr>\n",
       "      <th>2</th>\n",
       "      <td>2508667</td>\n",
       "      <td>TYPE 1</td>\n",
       "    </tr>\n",
       "    <tr>\n",
       "      <th>3</th>\n",
       "      <td>2494101</td>\n",
       "      <td>TYPE 1</td>\n",
       "    </tr>\n",
       "    <tr>\n",
       "      <th>4</th>\n",
       "      <td>2566030</td>\n",
       "      <td>TYPE 1</td>\n",
       "    </tr>\n",
       "  </tbody>\n",
       "</table>\n",
       "</div>"
      ],
      "text/plain": [
       "   Customer_Id ACTION_TYPE\n",
       "0      2535147      TYPE 1\n",
       "1      2553961      TYPE 1\n",
       "2      2508667      TYPE 1\n",
       "3      2494101      TYPE 1\n",
       "4      2566030      TYPE 1"
      ]
     },
     "execution_count": 4,
     "metadata": {},
     "output_type": "execute_result"
    }
   ],
   "source": [
    "print(f\"The unique count of customer_id is:\\t{len(d1['Customer_Id'].unique())}\")\n",
    "d1.head()\n"
   ]
  },
  {
   "cell_type": "markdown",
   "metadata": {},
   "source": [
    "# Read the data from the second sheet for Type3 data provided by Marvin"
   ]
  },
  {
   "cell_type": "code",
   "execution_count": 5,
   "metadata": {},
   "outputs": [
    {
     "data": {
      "text/plain": [
       "(1051, 2)"
      ]
     },
     "execution_count": 5,
     "metadata": {},
     "output_type": "execute_result"
    }
   ],
   "source": [
    "d2 = pd.read_excel(r\"C:\\Users\\DwaipayanChakroborti\\OneDrive - Tonik Financial Pte Ltd\\MyStuff\\Marvin\\TSA Account Closure\\July24&August24 Ongoing Batch\\SecondNotification_files\\Type 3.xlsx\", sheet_name='Sheet1')\n",
    "d2.shape"
   ]
  },
  {
   "cell_type": "code",
   "execution_count": 6,
   "metadata": {},
   "outputs": [
    {
     "name": "stdout",
     "output_type": "stream",
     "text": [
      "The unique count of customer_id is:\t1051\n"
     ]
    },
    {
     "data": {
      "text/html": [
       "<div>\n",
       "<style scoped>\n",
       "    .dataframe tbody tr th:only-of-type {\n",
       "        vertical-align: middle;\n",
       "    }\n",
       "\n",
       "    .dataframe tbody tr th {\n",
       "        vertical-align: top;\n",
       "    }\n",
       "\n",
       "    .dataframe thead th {\n",
       "        text-align: right;\n",
       "    }\n",
       "</style>\n",
       "<table border=\"1\" class=\"dataframe\">\n",
       "  <thead>\n",
       "    <tr style=\"text-align: right;\">\n",
       "      <th></th>\n",
       "      <th>Customer_Id</th>\n",
       "      <th>ACTION_TYPE</th>\n",
       "    </tr>\n",
       "  </thead>\n",
       "  <tbody>\n",
       "    <tr>\n",
       "      <th>0</th>\n",
       "      <td>2394739</td>\n",
       "      <td>TYPE 3</td>\n",
       "    </tr>\n",
       "    <tr>\n",
       "      <th>1</th>\n",
       "      <td>2349122</td>\n",
       "      <td>TYPE 3</td>\n",
       "    </tr>\n",
       "    <tr>\n",
       "      <th>2</th>\n",
       "      <td>1958075</td>\n",
       "      <td>TYPE 3</td>\n",
       "    </tr>\n",
       "    <tr>\n",
       "      <th>3</th>\n",
       "      <td>1748391</td>\n",
       "      <td>TYPE 3</td>\n",
       "    </tr>\n",
       "    <tr>\n",
       "      <th>4</th>\n",
       "      <td>1219458</td>\n",
       "      <td>TYPE 3</td>\n",
       "    </tr>\n",
       "  </tbody>\n",
       "</table>\n",
       "</div>"
      ],
      "text/plain": [
       "   Customer_Id ACTION_TYPE\n",
       "0      2394739      TYPE 3\n",
       "1      2349122      TYPE 3\n",
       "2      1958075      TYPE 3\n",
       "3      1748391      TYPE 3\n",
       "4      1219458      TYPE 3"
      ]
     },
     "execution_count": 6,
     "metadata": {},
     "output_type": "execute_result"
    }
   ],
   "source": [
    "print(f\"The unique count of customer_id is:\\t{len(d2['Customer_Id'].unique())}\")\n",
    "d2.head()"
   ]
  },
  {
   "cell_type": "code",
   "execution_count": 7,
   "metadata": {},
   "outputs": [
    {
     "data": {
      "text/plain": [
       "(18504, 2)"
      ]
     },
     "execution_count": 7,
     "metadata": {},
     "output_type": "execute_result"
    }
   ],
   "source": [
    "result = pd.concat([d1, d2], axis=0, ignore_index=True)\n",
    "result.shape"
   ]
  },
  {
   "cell_type": "code",
   "execution_count": 8,
   "metadata": {},
   "outputs": [
    {
     "data": {
      "text/plain": [
       "ACTION_TYPE\n",
       "TYPE 1    17412\n",
       "TYPE 3     1051\n",
       "TYPE 2       41\n",
       "Name: count, dtype: int64"
      ]
     },
     "execution_count": 8,
     "metadata": {},
     "output_type": "execute_result"
    }
   ],
   "source": [
    "result.ACTION_TYPE.value_counts()"
   ]
  },
  {
   "cell_type": "code",
   "execution_count": 14,
   "metadata": {},
   "outputs": [
    {
     "data": {
      "text/html": [
       "<div>\n",
       "<style scoped>\n",
       "    .dataframe tbody tr th:only-of-type {\n",
       "        vertical-align: middle;\n",
       "    }\n",
       "\n",
       "    .dataframe tbody tr th {\n",
       "        vertical-align: top;\n",
       "    }\n",
       "\n",
       "    .dataframe thead th {\n",
       "        text-align: right;\n",
       "    }\n",
       "</style>\n",
       "<table border=\"1\" class=\"dataframe\">\n",
       "  <thead>\n",
       "    <tr style=\"text-align: right;\">\n",
       "      <th></th>\n",
       "      <th>Customer_Id</th>\n",
       "      <th>ACTION_TYPE</th>\n",
       "    </tr>\n",
       "  </thead>\n",
       "  <tbody>\n",
       "    <tr>\n",
       "      <th>17454</th>\n",
       "      <td>2349122</td>\n",
       "      <td>TYPE 3</td>\n",
       "    </tr>\n",
       "  </tbody>\n",
       "</table>\n",
       "</div>"
      ],
      "text/plain": [
       "      Customer_Id ACTION_TYPE\n",
       "17454     2349122      TYPE 3"
      ]
     },
     "execution_count": 14,
     "metadata": {},
     "output_type": "execute_result"
    }
   ],
   "source": [
    "result[result['Customer_Id'] == '2349122']"
   ]
  },
  {
   "cell_type": "code",
   "execution_count": 12,
   "metadata": {},
   "outputs": [
    {
     "name": "stdout",
     "output_type": "stream",
     "text": [
      "<class 'pandas.core.frame.DataFrame'>\n",
      "RangeIndex: 18504 entries, 0 to 18503\n",
      "Data columns (total 2 columns):\n",
      " #   Column       Non-Null Count  Dtype \n",
      "---  ------       --------------  ----- \n",
      " 0   Customer_Id  18504 non-null  int64 \n",
      " 1   ACTION_TYPE  18504 non-null  object\n",
      "dtypes: int64(1), object(1)\n",
      "memory usage: 289.2+ KB\n"
     ]
    }
   ],
   "source": [
    "result.info()"
   ]
  },
  {
   "cell_type": "code",
   "execution_count": 13,
   "metadata": {},
   "outputs": [
    {
     "name": "stdout",
     "output_type": "stream",
     "text": [
      "<class 'pandas.core.frame.DataFrame'>\n",
      "RangeIndex: 18504 entries, 0 to 18503\n",
      "Data columns (total 2 columns):\n",
      " #   Column       Non-Null Count  Dtype \n",
      "---  ------       --------------  ----- \n",
      " 0   Customer_Id  18504 non-null  object\n",
      " 1   ACTION_TYPE  18504 non-null  object\n",
      "dtypes: object(2)\n",
      "memory usage: 289.2+ KB\n"
     ]
    }
   ],
   "source": [
    "result['Customer_Id'] = result['Customer_Id'].astype(str)\n",
    "result.info()"
   ]
  },
  {
   "cell_type": "code",
   "execution_count": 15,
   "metadata": {},
   "outputs": [],
   "source": [
    "result.to_csv(\"temp.csv\", index = False)"
   ]
  },
  {
   "cell_type": "code",
   "execution_count": 16,
   "metadata": {},
   "outputs": [
    {
     "data": {
      "text/plain": [
       "('2535147', '2553961', '2508667', '2494101', '2566030')"
      ]
     },
     "execution_count": 16,
     "metadata": {},
     "output_type": "execute_result"
    }
   ],
   "source": [
    "a = tuple(result['Customer_Id'])\n",
    "a[:5]"
   ]
  },
  {
   "cell_type": "code",
   "execution_count": 17,
   "metadata": {},
   "outputs": [
    {
     "name": "stdout",
     "output_type": "stream",
     "text": [
      "D-1 day from current date 2024-09-03 00:00:00\n",
      "D-60 day from the current date - 1: 2024-06-12\n",
      "D-180 day from the current date -1: 2024-02-13\n",
      "D-1 day from the current date: 2024-09-03\n",
      "D-60 day from the current date: 2024-06-12\n",
      "D-180 day from the current date: 2024-02-13\n"
     ]
    }
   ],
   "source": [
    "d = '2024-08-11'   ### Need to change this to D-1 everytime we run this code ###\n",
    "# Get the current date\n",
    "current_date = pd.Timestamp.now().date()\n",
    "d_minus_1_days = current_date - pd.DateOffset(days=1)\n",
    "# Calculate D-60 days\n",
    "d_minus_60_days = '2024-06-12'\n",
    "# Calculate D-180 days\n",
    "d_minus_180_days = '2024-02-13'\n",
    "\n",
    "print(\"D-1 day from current date\", d_minus_1_days )\n",
    "print(\"D-60 day from the current date - 1:\", d_minus_60_days)\n",
    "print(\"D-180 day from the current date -1:\", d_minus_180_days)\n",
    "\n",
    "d_minus_1_days_string = d_minus_1_days.strftime('%Y-%m-%d')\n",
    "print(\"D-1 day from the current date:\", d_minus_1_days_string)\n",
    "\n",
    "d_minus_60_days_string = d_minus_60_days\n",
    "print(\"D-60 day from the current date:\", d_minus_60_days_string)\n",
    "\n",
    "d_minus_180_days_string = d_minus_180_days\n",
    "print(\"D-180 day from the current date:\", d_minus_180_days_string)"
   ]
  },
  {
   "cell_type": "markdown",
   "metadata": {},
   "source": [
    "The date should be D-1? If the date is not D-1 then ask Bala to refresh the table."
   ]
  },
  {
   "cell_type": "markdown",
   "metadata": {},
   "source": [
    "Step1: At line 11 change the date to D-1<br><br>\n",
    "Step2: At line around 36 (and (TSA_Opening_date < date '2023-10-18')   ####D-60 days(SHOULD BE SAME DATE FOR 1ST,2ND,3RD NOTIFICATION)) Change the date D-60 Days <br><br>\n",
    "Step3: At line around 45 (WHEN tsa_status = 'Active' and Last_TSA_EOD_Balance_Date is null and (TSA_Opening_date < date '2023-10-18')  ####D-60 days(SHOULD BE SAME DATE FOR 1ST,2ND,3RD NOTIFICATION)) Change the date D-60 Days <br><br>\n",
    "Step4: At line 58 (and TSA_Opening_date < date '2023-06-18'  and (Last_TSA_Credit_Date < date '2023-06-18' and Last_TSA_Debit_Date < date '2023-06-18' and coalesce(Last_Group_Stash_Credit_Date,date '1970-01-01') < date '2023-06-18')  ####D-180 days(SHOULD BE SAME DATE FOR 1ST,2ND,3RD NOTIFICATION)) <br><br>\n",
    "Step5: At line 72 (Run_Date = date '2024-01-09'###DATE change here to D-1) Change the date to D-1<br><br>"
   ]
  },
  {
   "cell_type": "markdown",
   "metadata": {},
   "source": [
    "First Notification we change all the steps <br><br>\n",
    "Second and Third Notification we only change Step1 and Step5\n",
    "For Second Notificaiton and Third Notificaiton the customre id should be from the file sent by Marvin. <br><br>"
   ]
  },
  {
   "cell_type": "code",
   "execution_count": 18,
   "metadata": {},
   "outputs": [
    {
     "name": "stdout",
     "output_type": "stream",
     "text": [
      "Job ID 9290bdc9-daf4-4bd3-b6b3-e4044e11e76d successfully executed: 100%|\u001b[32m██████████\u001b[0m|\n",
      "Downloading: 100%|\u001b[32m██████████\u001b[0m|\n"
     ]
    },
    {
     "data": {
      "text/plain": [
       "(18483, 29)"
      ]
     },
     "execution_count": 18,
     "metadata": {},
     "output_type": "execute_result"
    }
   ],
   "source": [
    "sq = f\"\"\"\n",
    "with\n",
    "w_kyc\n",
    "as\n",
    "(\n",
    "  select distinct PARTYID, SEGCATEGORYDESC, row_number() over(partition by partyid order by SEGEFFECTIVEFROM desc) as rnk from `core_raw.party_details`\n",
    "),\n",
    "w_tsa\n",
    "as\n",
    "(\n",
    "  select * from risk_credit_mis.tsa_account_closure where Run_Date = date '{d_minus_1_days_string}' ###DATE change here to D-1\n",
    "  and\n",
    "  Customer_Id not in (select cast(PARTYID as string) from w_kyc where rnk = 1 and SEGCATEGORYDESC = 'BKYC')\n",
    "  and\n",
    "  --customer_id in (select cast(customer_id as string) from prj-prod-dataplatform.dap_ds_poweruser_playground.tsa_2nd_notification_base_10jan2024)\n",
    "  customer_id in {a}\n",
    ")\n",
    "select * from w_tsa;\n",
    "\"\"\"\n",
    "\n",
    "dfd = client.query(sq).to_dataframe(progress_bar_type='tqdm')\n",
    "dfd.shape"
   ]
  },
  {
   "cell_type": "code",
   "execution_count": 19,
   "metadata": {},
   "outputs": [],
   "source": [
    "sq = f\"\"\"\n",
    "with\n",
    "w_kyc\n",
    "as\n",
    "(\n",
    "  select distinct PARTYID, SEGCATEGORYDESC, row_number() over(partition by partyid order by SEGEFFECTIVEFROM desc) as rnk from `core_raw.party_details`\n",
    "),\n",
    "w_tsa\n",
    "as\n",
    "(\n",
    "  select * from risk_credit_mis.tsa_account_closure where Run_Date = date '{d_minus_1_days_string}'  ###DATE change here to D-1\n",
    "  and\n",
    "  Customer_Id not in (select cast(PARTYID as string) from w_kyc where rnk = 1 and SEGCATEGORYDESC = 'BKYC')\n",
    "  and\n",
    "  --customer_id in (select cast(customer_id as string) from prj-prod-dataplatform.dap_ds_poweruser_playground.tsa_2nd_notification_base_10jan2024)\n",
    "  customer_id in {a}\n",
    "),\n",
    "w_approved\n",
    "as\n",
    "(\n",
    "  select DISTINCT customerId from risk_credit_mis.loan_master_table where loantype = 'BIGLOAN' OR FLAGAPPROVAL = 1 OR FLAGDISBURSEMENT = 1  \n",
    "  or (stage1Status = 'EXPIRED' AND cddInitiatedDateAndTime IS NULL)\n",
    ")\n",
    "select *\n",
    "from\n",
    "(\n",
    "  select distinct\n",
    "  a.Customer_Id,a.TSA_Opening_date,\n",
    "  c.OFSTANDARDACCOUNTID as TSA_Account_Number, c.OfblockAmount, \n",
    "  a.TSA_Status,a.TSA_Balance,a.Solo_Stash_Balance,a.Group_Stash_Balance,a.Term_Deposit_Balance,a.Active_Term_Deposit_flag,a.Last_TSA_Credit_Date,a.Last_TSA_Debit_Date,\n",
    "  a.ARI_Flag,a.Active_Loan,a.Total_Loan_Outstanding,  case when b.customerId is not null then 1 else 0 end as Approved_Loans,\n",
    "  a.Pending_Loan_Applications,a.Hard_Reject_Loans_App,a.Soft_Reject_Loans_App,a.Cancelled_Loans_App, extract(date from a.Last_Login_Date) as Last_Login_Date,\n",
    "  a.Last_TSA_EOD_Balance_Date,a.Last_Group_Stash_Credit_Date,a.Group_Stash_Balance_Owner,a.Run_Date,a.Batch,a.Processing_Month,a.pending_loans_not_expired_not_exempt,a.expired_loans,\n",
    "  a.pending_loans_lastDt,a.expired_loans_lastDt,\n",
    "  CASE \n",
    "    WHEN tsa_status = 'Active' and (Last_TSA_Credit_Date = date '1970-01-01' and Last_Group_Stash_Credit_Date is null)\n",
    "    and (TSA_Opening_date < date '{d_minus_60_days_string}')   ####D-60 days(SHOULD BE SAME DATE FOR 1ST,2ND,3RD NOTIFICATION)\n",
    "    and ( round(coalesce(TSA_Balance,0) + coalesce(Solo_Stash_Balance,0) + coalesce(Group_Stash_Balance,0) + coalesce(Term_Deposit_Balance,0),2) = 0 )\n",
    "    and (Active_Loan = 0) and (COALESCE(Pending_Loan_Applications,0) = 0)\n",
    "    and (Active_Term_Deposit_flag = 0)\n",
    "    and (ARI_Flag = 'N')\n",
    "    --and (Approved_Loans = 0)  THEN 'TYPE 1'\n",
    "    and b.customerId is null  THEN 'TYPE 1'\n",
    "\n",
    "\n",
    "    WHEN tsa_status = 'Active' and Last_TSA_EOD_Balance_Date is null and (TSA_Opening_date < date '{d_minus_60_days_string}')  ####D-60 days(SHOULD BE SAME DATE FOR 1ST,2ND,3RD NOTIFICATION)\n",
    "    and ( round(coalesce(TSA_Balance,0) + coalesce(Solo_Stash_Balance,0) + coalesce(Group_Stash_Balance,0) + coalesce(Term_Deposit_Balance,0),2) = 0 )\n",
    "    and (Active_Loan = 0) and (COALESCE(Pending_Loan_Applications,0) = 0)\n",
    "    and (Active_Term_Deposit_flag = 0)\n",
    "    and (ARI_Flag = 'N')\n",
    "    --and (Approved_Loans = 0)\n",
    "    and b.customerId is null  \n",
    "    and (date_trunc(TSA_Opening_date,day) = date_trunc(Last_Login_Date,day)) THEN 'TYPE 2'\n",
    "\n",
    "    \n",
    "    WHEN ( round(coalesce(TSA_Balance,0) + coalesce(Solo_Stash_Balance,0) + coalesce(Group_Stash_Balance,0) + coalesce(Term_Deposit_Balance,0),2) < 1 )\n",
    "            and (Active_Loan = 0) and (COALESCE(Pending_Loan_Applications,0) = 0)\n",
    "            and (Active_Term_Deposit_flag = 0)\n",
    "            and TSA_Opening_date < date '{d_minus_180_days_string}'                                     ####D-180 days(SHOULD BE SAME DATE FOR 1ST,2ND,3RD NOTIFICATION)\n",
    "            and (Last_TSA_Credit_Date < date '{d_minus_180_days_string}'                                 ####D-180 days(SHOULD BE SAME DATE FOR 1ST,2ND,3RD NOTIFICATION)\n",
    "            and Last_TSA_Debit_Date < date '{d_minus_180_days_string}'                                         ####D-180 days(SHOULD BE SAME DATE FOR 1ST,2ND,3RD NOTIFICATION)\n",
    "            and coalesce(Last_Group_Stash_Credit_Date,date '1970-01-01') < date '{d_minus_180_days_string}' )  ####D-180 days(SHOULD BE SAME DATE FOR 1ST,2ND,3RD NOTIFICATION)\n",
    "            and tsa_status = 'Active'\n",
    "            and (ARI_Flag = 'N')\n",
    "    --and (Approved_Loans = 0)\n",
    "            and b.customerId is null  \n",
    "    THEN 'TYPE 3'\n",
    "    ELSE 'NO ACTION'\n",
    "    END AS ACTION_TYPE\n",
    "  from w_tsa A\n",
    "  left join w_approved b\n",
    "  on cast(a.Customer_Id as int64) = b.customerId\n",
    "  left join core_raw.customer_accounts c\n",
    "  on c.OFCUSTOMERID = a.Customer_Id and c.CRINTERDESC = 'Transactional Savings Account Inv_R' and c.OFISCLOSED = 'N'\n",
    "  where\n",
    "  Run_Date = date '{d_minus_1_days_string}'  ###DATE change here to D-1\n",
    ")\n",
    "\"\"\"\n"
   ]
  },
  {
   "cell_type": "code",
   "execution_count": 20,
   "metadata": {},
   "outputs": [
    {
     "name": "stdout",
     "output_type": "stream",
     "text": [
      "\n",
      "with\n",
      "w_kyc\n",
      "as\n",
      "(\n",
      "  select distinct PARTYID, SEGCATEGORYDESC, row_number() over(partition by partyid order by SEGEFFECTIVEFROM desc) as rnk from `core_raw.party_details`\n",
      "),\n",
      "w_tsa\n",
      "as\n",
      "(\n",
      "  select * from risk_credit_mis.tsa_account_closure where Run_Date = date '2024-09-03'  ###DATE change here to D-1\n",
      "  and\n",
      "  Customer_Id not in (select cast(PARTYID as string) from w_kyc where rnk = 1 and SEGCATEGORYDESC = 'BKYC')\n",
      "  and\n",
      "  --customer_id in (select cast(customer_id as string) from prj-prod-dataplatform.dap_ds_poweruser_playground.tsa_2nd_notification_base_10jan2024)\n",
      "  customer_id in ('2535147', '2553961', '2508667', '2494101', '2566030', '2530366', '2540989', '2557083', '2553476', '2421376', '2559752', '2504749', '2530998', '2520272', '2549260', '2519239', '2540639', '2530764', '2513913', '2536425', '2539410', '2545131', '2452473', '2521287', '2490520', '2570438', '2563944', '2555173', '2520721', '2514930', '2544423', '2526106', '2508030', '2537420', '2536945', '2558693', '2412620', '2566052', '2516471', '2561518', '2537304', '2555016', '2522746', '2533510', '2552238', '2528935', '2503769', '2535231', '2529831', '2564753', '2568671', '2514116', '2541314', '2546332', '2545437', '2516500', '2535185', '2535188', '2519797', '2501309', '2512088', '2518206', '2540434', '2511378', '2505772', '2548201', '2546493', '2536544', '2569349', '2516735', '2542340', '2546393', '2559413', '2555321', '2403942', '2518754', '2538174', '2570546', '2530393', '2528695', '2548163', '2508622', '2509729', '2531716', '2525350', '2525663', '2513940', '2555649', '2521659', '2542412', '2519751', '2560112', '2562168', '2528910', '2569112', '2543506', '2515969', '2495607', '2564907', '2549734', '2566585', '2522002', '2516144', '2531774', '2508556', '2562090', '2556746', '2541130', '2528594', '2533498', '2568184', '2511221', '2565380', '2552465', '2520861', '2565633', '2549217', '2553977', '2546195', '2509868', '2504064', '2303248', '2551867', '2453322', '2525701', '2539584', '2538851', '2568163', '2566045', '2524079', '2536067', '2523259', '2528785', '2503759', '2515068', '2535887', '2540081', '2564426', '2568287', '2504562', '2541680', '2538598', '2559287', '2517383', '2513055', '2506193', '2513006', '2369754', '2563161', '2505294', '2539439', '2515570', '2553442', '2554493', '2527297', '2563230', '2525972', '2506556', '2518809', '2537662', '2467866', '2504480', '2515834', '2506446', '2554247', '2516668', '2538912', '2522092', '2534889', '2542308', '2547485', '2517457', '2519741', '2521459', '2559967', '2512233', '2400686', '2542672', '2538047', '2531292', '2537393', '2529294', '2570490', '2510603', '2518200', '2566667', '2507205', '2567905', '2546831', '2519208', '2438309', '2527850', '2570430', '2552200', '2567103', '2562541', '2509723', '2523407', '2567951', '2504537', '2509003', '2515594', '2565040', '2565363', '2516108', '2481795', '2516058', '2552664', '2535409', '2510804', '2537371', '2254262', '2489757', '2529371', '2566245', '2372185', '2515399', '2271815', '2558654', '2506709', '2514047', '2510980', '2549751', '2559270', '2559340', '2556246', '2397276', '2528696', '2504894', '2503931', '2513943', '2568022', '2559620', '2559801', '2564012', '2556450', '2520685', '2508808', '2511518', '2540818', '2512470', '2553598', '2541802', '2524529', '2482260', '2553310', '2568381', '2560225', '2553446', '2517692', '2506893', '2565761', '2551175', '2516963', '2555269', '2542514', '2518152', '2531856', '2540911', '2549102', '2512405', '2557266', '2556674', '2568654', '2530323', '2512573', '2560389', '2547610', '2512688', '2536816', '2539046', '2516762', '2483660', '2514737', '2508716', '2514174', '2562677', '2508167', '2558260', '2561794', '2519370', '2506796', '2513414', '2530577', '2545783', '2546217', '2526361', '2512745', '2310445', '2538944', '2525643', '2538860', '2556458', '2522929', '2536691', '2540333', '2526818', '2509801', '2512226', '2525420', '2563679', '2548391', '2560103', '2555165', '2516174', '2536335', '2545776', '2563376', '2432182', '2565734', '2554107', '2510895', '2518920', '2534588', '2505351', '2546233', '2555375', '2536042', '2529476', '2548469', '2555328', '2568918', '2568333', '2535955', '2535332', '2519486', '2525686', '2541922', '2525728', '2565207', '2532509', '2376180', '2529769', '2535129', '2505441', '2523275', '2539425', '2508346', '2568679', '2556591', '2547833', '2473969', '2530367', '2554321', '2172619', '2538867', '2517161', '2508685', '2557087', '2562999', '2545134', '2497525', '2525914', '2509131', '2508540', '2526469', '2547917', '2324725', '2515326', '2530723', '2554135', '2530301', '2516860', '2519933', '2570577', '2440292', '2535549', '2513264', '2569493', '2545416', '2538617', '2506408', '2459757', '2539537', '2537229', '2532122', '2568646', '2546764', '2556058', '2562371', '2508757', '2569106', '2535832', '2516741', '2524752', '2514042', '2518171', '2503795', '2560176', '2535848', '2553402', '2543164', '2525560', '2382261', '2562117', '2508965', '2534757', '2536831', '2527322', '2559850', '2526054', '2236643', '2505420', '2564821', '2555641', '2540201', '2528856', '2534971', '2509558', '2371296', '2544501', '2550332', '2503952', '2507630', '2524204', '2558369', '2542915', '2563685', '2557654', '2545109', '2545547', '2539463', '1400145', '2284273', '1073228', '1316735', '2516046', '2546306', '2507743', '2546293', '2556024', '2554856', '2508038', '2569343', '2531199', '2520945', '2564327', '2553250', '2507760', '2515251', '2524484', '2558361', '2563946', '2556292', '2548347', '2484027', '2532181', '2549004', '2567590', '2566201', '2503084', '2536222', '2548404', '2551648', '2129211', '2542631', '2521145', '2531613', '2561935', '2510119', '2519330', '2527844', '2504071', '2507392', '2504781', '2553648', '2560707', '2509813', '2566616', '2523076', '2556537', '2514553', '2544506', '2525391', '2547920', '2556819', '2539594', '2529156', '2562339', '2511431', '2556184', '2437878', '2533447', '2505471', '2551752', '2532515', '2511837', '2509836', '2484241', '2562032', '2542338', '2307013', '2482807', '2489753', '2563448', '2537461', '2550120', '2521139', '2561497', '2555598', '2559563', '2553201', '2532779', '2341550', '2405522', '2552456', '2508923', '2520790', '2540487', '2545511', '2538077', '2569045', '2512873', '2565242', '2563619', '2552789', '2544124', '2553141', '2246944', '2527052', '2519270', '2552213', '2557924', '2567171', '2520149', '2524746', '2514278', '2547930', '2525071', '2517181', '2565370', '2508542', '2559723', '2545927', '2553171', '2566802', '2508973', '2506644', '2565810', '2557516', '2537146', '2522027', '2544599', '2516226', '2494033', '2535327', '2535195', '2540916', '2542828', '2522486', '2505783', '2570118', '2558552', '2506635', '2553692', '2287600', '2520728', '2547931', '2552646', '2531880', '2547458', '2525499', '2562439', '2537328', '2569259', '2459541', '2569836', '2531972', '2491145', '2563929', '2459214', '2541694', '2564978', '2537259', '2569739', '2535513', '2567833', '2519420', '2555570', '2522220', '2537979', '2517260', '2538979', '2514644', '2223414', '2277142', '2522316', '2560249', '2561405', '2507789', '2568161', '2462156', '2566542', '2539539', '2536491', '2526440', '2519303', '2515051', '2527339', '2557024', '2528789', '2539987', '2503808', '2518122', '2528330', '2531999', '2509443', '2545288', '2528829', '2545203', '2517637', '2553992', '2525531', '2568259', '2557188', '2454635', '2509157', '2567058', '2522173', '2519934', '2561275', '2527890', '2509892', '2570300', '2509285', '2546176', '2525874', '2503939', '2525739', '2537809', '2529775', '2552739', '2496551', '2566833', '2269079', '2549969', '2238722', '2505489', '2556117', '2533913', '2523870', '2568036', '2541616', '2566768', '2542263', '2524671', '2545278', '2506053', '2509305', '2545586', '2548073', '2511210', '2519627', '2524801', '2505112', '2507320', '2504558', '2520504', '2531831', '2446296', '2551032', '2556709', '2546915', '2324576', '2535366', '2517575', '2538632', '2525199', '2550636', '2198206', '2510745', '2520416', '2538512', '2540378', '2566334', '2549097', '2486629', '2512102', '2545588', '2531981', '2516820', '2539522', '2509498', '2494365', '2483482', '2545494', '2568554', '2556229', '2494661', '2519591', '2556634', '2514447', '2551067', '2507191', '2475781', '2551160', '2527124', '2521316', '2549669', '2513975', '2551465', '2384287', '2551850', '2523659', '2548131', '2515476', '2505849', '2512547', '2535271', '2515692', '2551715', '2508896', '2541648', '2524106', '2523382', '2540059', '2507280', '2552572', '2554904', '2512117', '2515440', '2465290', '2550495', '2556553', '2561923', '2547856', '2521759', '2517370', '2514810', '2536143', '2533901', '2552509', '2507481', '2563780', '2566325', '2526893', '2537957', '2537048', '2528662', '2509879', '2564986', '2519138', '2509349', '2569489', '2536190', '2540741', '2507728', '2526255', '2506482', '2541207', '2570214', '2523304', '2570153', '2511320', '2529983', '2517606', '2545176', '2554607', '2522406', '2561176', '2522824', '2526462', '2546525', '2519523', '2501220', '2562691', '2558019', '2557860', '2519334', '2304329', '2449018', '2527299', '2538540', '2534837', '2533701', '2504495', '2509278', '2527355', '2521413', '2502175', '2557571', '2525676', '2514075', '2505578', '2539378', '2215485', '2536255', '2554176', '2533521', '2518484', '2419386', '2560579', '2557991', '2505444', '2552740', '2539035', '2561333', '2528271', '2529201', '2494816', '2564766', '2569769', '2552784', '2157822', '2543329', '1865177', '2248700', '1881239', '1492392', '2516826', '1552581', '1695259', '1694557', '2563508', '2559493', '2518645', '2509727', '2507012', '2501400', '2520195', '2543656', '2526369', '2523197', '2529022', '2541162', '2557455', '2521799', '2549421', '2522050', '2519791', '2566487', '2524464', '2547668', '2540628', '2536221', '2543341', '2541310', '2564003', '2524337', '2502131', '2561878', '2534970', '2505080', '2560494', '2535423', '2564548', '2544054', '2517472', '2506901', '2544630', '2523054', '2533430', '2569147', '2570508', '2549384', '2548084', '2524818', '2441080', '2528158', '2559751', '2526211', '2514173', '2558482', '2540616', '2535515', '2533333', '2524686', '2544556', '2516493', '2554633', '2555680', '2567753', '2518736', '2512312', '2532287', '2528179', '2564502', '2535453', '2528832', '2539797', '2563015', '2546623', '2317288', '2551793', '2261885', '2556696', '2544004', '2526612', '2521674', '2514226', '2559226', '2555079', '2504079', '2565692', '2566181', '2536454', '2178356', '2566920', '2512081', '2507859', '2549002', '2525150', '2542052', '2516158', '2353331', '2497378', '2563370', '2529065', '2541067', '2506254', '2523988', '2539827', '2519314', '2561934', '2554919', '2547453', '2559670', '2564809', '2464217', '2556701', '2510002', '2536359', '2512587', '2522358', '2513342', '2522759', '2521559', '2524147', '2509343', '2545102', '2518908', '2551013', '2506791', '2540121', '2525697', '2524127', '2504839', '2544529', '2510264', '2563436', '2512264', '2534535', '2509535', '2557383', '2541874', '2554133', '2545856', '2516142', '2552925', '2508980', '2559940', '2511549', '2540730', '2558388', '2507183', '2525372', '2555705', '2509703', '2558838', '2527162', '2557077', '2534704', '2569699', '2212177', '2520458', '2426879', '2559972', '2505336', '2528146', '2523642', '2552546', '2547635', '2510077', '2541493', '2533366', '2570384', '2510719', '2520852', '2515307', '2507798', '2501811', '2532222', '2541331', '2504025', '2529000', '2558081', '2516168', '2529961', '2532075', '2569130', '2524972', '2496210', '2570555', '2556527', '2210848', '2508767', '2427565', '2550186', '2511661', '2543585', '2503890', '2544352', '2535443', '2567798', '2561120', '2233794', '2569475', '2548557', '2563771', '2513771', '2506330', '2545546', '2549052', '2560193', '2522370', '2214693', '2515468', '2563782', '2545186', '2549723', '2511207', '2530498', '2553299', '2517964', '2556862', '2521742', '2525342', '2541689', '2507970', '2513685', '2565453', '2566066', '2426805', '2494841', '2510058', '2504799', '2538408', '2518066', '2532046', '2544645', '2542846', '2515147', '2539780', '2551675', '2548112', '2491573', '2529404', '2555991', '2519225', '2519414', '2542815', '2534733', '2528446', '2551722', '2505953', '2506210', '2559659', '2511370', '2568841', '2556896', '2526685', '2565141', '2563889', '2524281', '2538285', '2550687', '2554450', '2351779', '2559337', '2505228', '2567602', '2488555', '2563486', '2446178', '2519690', '2523820', '2566933', '2520196', '2522073', '2539450', '2548031', '2514499', '2524781', '2525083', '2562947', '2545218', '2528504', '2538819', '2570425', '2508456', '2536295', '2542725', '2564890', '2552622', '2569773', '2555044', '2545426', '1231605', '2515021', '2524508', '2507527', '2521127', '2529754', '2560267', '2497281', '2541530', '2543889', '2553606', '2556337', '2503794', '2565664', '2541170', '2529085', '2521991', '2561285', '2541927', '2504780', '2519041', '2498492', '2556600', '2564485', '2544511', '2528968', '2509677', '2536536', '2507725', '2507845', '2534180', '2539545', '2551585', '2520875', '2554306', '2552024', '2542137', '2537019', '2541721', '2556664', '2541591', '2566301', '2517865', '2531301', '2519275', '2477293', '2552172', '2530276', '2525750', '2478214', '2530879', '2504330', '2522805', '2517711', '2560093', '2539816', '2529502', '2542391', '2501764', '2530807', '2421259', '2528957', '2509740', '2502876', '2553087', '2558714', '2503188', '2505287', '2527301', '2561165', '2507041', '2568169', '2552058', '2521736', '2537989', '2505378', '2550613', '2543552', '2515850', '2517300', '2527269', '2530505', '2562045', '2506017', '2561381', '2546875', '2529854', '2523535', '2552013', '2509000', '2518505', '2558748', '2524434', '2515535', '2560557', '2552909', '2510193', '2547778', '2552332', '2482303', '2519756', '2516187', '2505474', '2459982', '2515443', '2512404', '2529319', '2473971', '2516811', '2548850', '2510040', '2567107', '2521977', '2549062', '2560222', '1693082', '1400493', '2365121', '2505836', '2505935', '1552846', '2521983', '2515578', '2549321', '2516577', '2553983', '2519602', '2485480', '2537628', '2559330', '2341685', '2546139', '2568119', '2552408', '2548195', '2530781', '2563586', '2437402', '2561668', '2552249', '2517515', '2555047', '2522563', '2570504', '2543584', '2551183', '2565122', '2557708', '2551583', '2512203', '2542920', '2547141', '2528332', '2512723', '2555448', '2506811', '2539774', '2537365', '2563751', '2536504', '2378421', '2536977', '2554423', '2569926', '2508569', '2454631', '2535809', '2568189', '2512198', '2519352', '2524758', '2567377', '2505053', '2504844', '2529922', '2556834', '2514037', '2521137', '2533773', '2517908', '2528739', '2555206', '2547724', '2567982', '2527226', '2527409', '2508303', '2510175', '2569365', '2532777', '2564945', '2525272', '2537859', '2523565', '2526891', '2527792', '2509171', '2522744', '2555711', '2519357', '2522393', '2335716', '2508849', '2335795', '2535242', '2568354', '2537439', '2512770', '2535226', '2509191', '2563732', '2514294', '2551765', '2550434', '2551539', '2554465', '2521153', '2550490', '2555462', '2538903', '2543287', '2567648', '2548148', '2515554', '2554264', '2521997', '2505551', '2543174', '2532757', '2527992', '2556799', '2564811', '2528188', '2521088', '2554307', '2523511', '2441095', '2419758', '2541381', '2526088', '2543894', '2537969', '2551921', '2519304', '2553156', '2511324', '2203384', '2510146', '2510159', '2561699', '2568622', '2514273', '2546904', '2570522', '2553857', '2513768', '2544115', '2536081', '2512632', '2555246', '2558004', '2521739', '2510391', '2531013', '2541783', '2524395', '2504484', '2549140', '2518655', '2512519', '2541297', '2543277', '2569695', '2434886', '2570570', '2518818', '2565036', '2494188', '2530944', '2556177', '2562024', '2537647', '2498941', '2533288', '2558697', '2525211', '2558761', '2526932', '2535719', '2564662', '2568630', '2557021', '2556311', '2453946', '2561139', '2548650', '2442421', '2563499', '2532454', '2561000', '2553514', '2513617', '2513415', '2560120', '2552220', '2477132', '2530407', '2563864', '2350069', '2560950', '2533001', '2551203', '2543002', '2537323', '2525898', '2550837', '2549477', '2508809', '2518304', '2542251', '2543177', '2565160', '2537029', '2539256', '2515458', '2560009', '2535688', '2522711', '2566363', '2516249', '2560462', '2506366', '2542674', '2568013', '2521648', '2528712', '2550382', '2541589', '2534511', '2565978', '2516902', '2545617', '2569146', '2559476', '2545946', '2561189', '2509188', '2533761', '2527782', '2514051', '2551687', '2570453', '2546959', '2561940', '2562001', '2528313', '2548078', '2512149', '2254500', '2553103', '2542169', '2561963', '2466711', '2561082', '2537286', '2567025', '2536087', '2332175', '2565393', '2559285', '2526131', '2510243', '2517654', '2516403', '2564819', '2567169', '2538797', '2504338', '2565354', '2508534', '2551428', '2316087', '2565212', '2553356', '2544715', '2539994', '2515022', '2514400', '2531961', '2542135', '2510490', '2528701', '2481579', '2532271', '2516661', '2402554', '2543831', '2324452', '2530932', '2545448', '2527463', '2535313', '2518601', '2230982', '2502567', '2510550', '2528276', '2554018', '2506290', '2566995', '2538864', '2532570', '2568849', '2504098', '2564781', '2567745', '2556294', '2549328', '2563004', '2537024', '2517809', '2556479', '2498153', '2568418', '2552088', '2549841', '2519815', '2561243', '2476602', '2521228', '2547995', '2508359', '2421541', '2509987', '2565083', '2505868', '2532582', '2557882', '2523932', '2569057', '2542787', '2523802', '2562108', '2545792', '2529335', '2512810', '2542786', '2543203', '2522836', '2525611', '2568817', '2539845', '2518795', '2522890', '2565395', '2513473', '2527366', '2547852', '2521283', '1217457', '2532450', '2548400', '2451491', '2557281', '2531482', '2554235', '2559788', '2516974', '2157168', '2518098', '2520503', '2525878', '2505572', '2555509', '2554032', '2525748', '2534803', '2523412', '2551427', '2570037', '2566568', '2553858', '2555955', '2488374', '2198440', '2515342', '2531290', '2297994', '2539016', '2564328', '2519287', '2519398', '2530090', '2518550', '2518573', '2520232', '2505300', '2510093', '2538215', '2562810', '2558375', '2557422', '2530414', '2506674', '2542193', '1878198', '2028143', '2078357', '1104558', '1574395', '2544542', '2533670', '2548008', '2518350', '2568753', '2555770', '2540313', '2567823', '2520727', '2566807', '2545236', '2514605', '2512042', '2509961', '2565922', '2525242', '2512869', '2543634', '2568594', '2546866', '2516909', '2531745', '2547396', '2530305', '2515479', '2514991', '2433480', '2556766', '2570592', '2553295', '2564108', '2549762', '2518740', '2513156', '2539839', '2511316', '2514072', '2559440', '2507037', '2540133', '2547407', '2538982', '2535136', '2557132', '2532800', '2558270', '2514276', '2516956', '2541505', '2426780', '2528913', '2527121', '2558589', '2533127', '2471688', '2529585', '2533419', '2508712', '2506580', '2545513', '2565489', '2520573', '2512953', '2514231', '2562575', '2515306', '2530736', '2549139', '2543145', '2509020', '2532176', '2532138', '2565674', '2519332', '2519032', '2564933', '2537861', '2507757', '2521768', '2528322', '2478948', '2544525', '2545992', '2511389', '2535398', '2555327', '2556919', '2566984', '2514262', '2533741', '2525535', '2544736', '2554037', '2526632', '2561077', '2518104', '2561705', '2556454', '2564733', '2540379', '2524864', '2550623', '2514763', '2521612', '2560340', '2519408', '2502274', '2536784', '2498307', '2550590', '2555929', '2530358', '2511390', '2542500', '2510269', '2561967', '2537746', '2555619', '2538745', '2560412', '2528648', '2513413', '2477491', '2547051', '2531647', '2545112', '2549506', '2562532', '2533508', '2517638', '2538799', '2555445', '2537171', '2517061', '2566528', '2544319', '2315511', '2545565', '2543670', '2522602', '2511130', '2504213', '2569193', '2544863', '2562283', '2531450', '2567915', '2517834', '2359716', '2532804', '2563962', '2557797', '2532031', '2457337', '2540463', '2561533', '2526707', '2509572', '2523482', '2538756', '2505606', '2531615', '2501450', '2563800', '2557758', '2562671', '2525919', '2563651', '2509053', '2506648', '2540737', '2547057', '2541441', '2539599', '2517906', '2521130', '2550348', '2516991', '2563427', '2557526', '2510166', '2567645', '2526732', '2534404', '2515235', '2567669', '2503767', '2442741', '2545471', '2510480', '2556191', '2566964', '2530235', '2552369', '2538506', '2225043', '2565977', '2541831', '2543964', '2552845', '2557893', '2460277', '2545435', '2541330', '2543423', '2545691', '2533132', '2505699', '2532057', '2399596', '2545951', '2522268', '2516256', '2555945', '2557216', '2545329', '2527526', '2505326', '2516501', '2538154', '2512695', '2546746', '2535425', '2542162', '2555463', '2530699', '2557228', '2506104', '2557053', '2558161', '2513982', '2555485', '2236840', '2518068', '2554660', '2566608', '2567636', '2570051', '2556835', '2556986', '2498862', '2558220', '2541376', '2527270', '2362672', '2515723', '2544083', '2503516', '2514683', '2537272', '2543588', '2417416', '2510262', '2556936', '2524009', '2533646', '2549636', '2495371', '2523836', '2562444', '2556389', '2564206', '2553326', '2532191', '2355523', '2555238', '2545351', '2519387', '2505998', '2537451', '2564097', '2567750', '2562097', '2552008', '2505788', '2530777', '2344070', '2512119', '2519951', '2527277', '2565481', '2548085', '2506889', '2516331', '2557675', '2533033', '2544048', '2517996', '2532255', '2531206', '2562393', '2533733', '2560458', '2388528', '2523896', '2561290', '2520403', '2568173', '2507395', '2555465', '2558729', '2565842', '2423940', '2488795', '2546259', '2511392', '2557287', '2506372', '2564521', '2509707', '2570583', '2516427', '2547888', '2532584', '2569799', '2468771', '2536364', '2560003', '2452569', '2549495', '2559353', '2517463', '2513788', '2501115', '2547500', '2538200', '2539126', '2551215', '2508812', '2319603', '2570565', '2526900', '2517738', '2509062', '2548219', '2512389', '2521140', '2507231', '2128425', '2531754', '2559232', '2558618', '2521494', '2530420', '2517267', '2511224', '2524971', '2513798', '2541897', '2552872', '2522416', '2526040', '2527623', '2507154', '2530091', '2511012', '2538360', '2546024', '2532874', '2563020', '2535866', '2518598', '2534496', '2507614', '2553353', '2504610', '2506521', '2557850', '2526182', '2563273', '2512231', '2568058', '2535534', '2531286', '2525056', '2550729', '2534632', '2517125', '2504638', '2547350', '2570463', '2452930', '2545392', '2499819', '2511951', '2554149', '2554982', '2524260', '2522382', '2540821', '2541778', '2517881', '2557303', '2530063', '2510270', '2529038', '2558500', '2532810', '2561119', '2525917', '2538600', '2512702', '2534196', '2533193', '2561205', '2567041', '2533370', '2548232', '2559409', '2553098', '2506126', '2514859', '2570578', '2531473', '2459215', '2538737', '2569013', '2569159', '2178831', '1419731', '1784308', '2509597', '2504165', '2505459', '2533680', '2499563', '2513602', '2508930', '2552402', '2523907', '2505128', '2559206', '2556332', '2559718', '2548269', '2523999', '2503819', '2557752', '2538848', '2531546', '2528189', '2540260', '2541472', '2549515', '2550624', '2563527', '2552779', '2568567', '2549654', '2486377', '2516541', '2505217', '2536603', '2528145', '2562408', '2499584', '2564739', '2503953', '2508693', '2558251', '2539721', '2507376', '2537076', '2555585', '2512141', '2537564', '2529984', '2478406', '2523697', '2509222', '2537805', '2547086', '2509072', '2562705', '2547647', '2558146', '2550205', '2518483', '2531915', '2540498', '2535660', '2525553', '2540350', '2547241', '2568324', '2542955', '2566943', '2519560', '2510308', '2520961', '2482715', '2537960', '2528004', '2535091', '2546857', '2538742', '2472169', '2545407', '2265435', '2552540', '2519643', '2518902', '2551128', '2524285', '2561183', '2529060', '2507227', '2564927', '2515552', '2555909', '2559080', '2418631', '2542220', '2525057', '2532378', '2527474', '2520678', '2566090', '2536144', '2562995', '2512666', '2545070', '2525324', '2522411', '2546601', '2543216', '2510298', '2535312', '2560728', '2563560', '2553142', '2506357', '2565656', '2565491', '2540127', '2533895', '2567180', '2515459', '2548026', '2539965', '2541768', '1436119', '2560472', '2552774', '2536901', '2562473', '2533617', '2509826', '2510726', '2566740', '2506007', '2521471', '2533383', '2335666', '2544274', '2511775', '2517535', '2529667', '2523845', '2548664', '2568153', '2544601', '2545193', '2525961', '2400460', '2533105', '2534960', '2525933', '2570264', '2511482', '2509178', '2505311', '2512572', '2564674', '2557305', '2560384', '2566315', '2550356', '2525445', '2534935', '2569206', '2538299', '2536453', '2548942', '2514061', '2513369', '2519274', '2553136', '2487618', '2544943', '2522164', '2527517', '2550677', '2514217', '2509325', '2547040', '2512864', '2510180', '2556905', '2386107', '2508389', '2542155', '2510430', '2562453', '2541714', '2549662', '2513542', '2538578', '2506138', '2530968', '2553970', '2508804', '2555740', '2569144', '2519642', '2534077', '2539553', '2547606', '2552271', '2541971', '2529198', '2448457', '2530858', '2513654', '2450853', '2548398', '2511310', '2526658', '2518882', '2550961', '2507384', '2552321', '2505524', '2437587', '2505823', '2545606', '2517778', '2293872', '2542459', '2565353', '2559818', '2517072', '2548904', '2529206', '2507066', '2521059', '2539502', '2508890', '2566194', '2556823', '2558758', '2530161', '2516438', '2544057', '2367712', '2551476', '2557564', '2538131', '2566495', '2544357', '2527278', '2550140', '2517172', '2522208', '2512251', '2546422', '2561891', '2287159', '2522666', '2534551', '2515652', '2508612', '2447066', '2518989', '2497452', '2552076', '2550137', '2511249', '2515269', '2529322', '2518631', '2537983', '2542359', '2557356', '2545839', '2548106', '2549288', '2537051', '2535089', '2552520', '2557463', '2564121', '2537428', '2511118', '2559329', '2539094', '2533588', '2536352', '2509954', '2515378', '2541201', '2469923', '2554981', '2538717', '2520050', '2526630', '2440258', '2522017', '2523949', '2550811', '2504007', '2518129', '2570668', '2517234', '2525106', '2528664', '2535977', '2534408', '2546497', '2495710', '2553270', '2533496', '2556545', '2551259', '2509629', '2562681', '2509540', '2540654', '2471123', '2569510', '2530799', '2535096', '2512224', '2565454', '2541910', '2528139', '2512265', '2560996', '2561073', '2556509', '2550000', '2513070', '2565414', '2558287', '2437853', '2538249', '2568010', '2547683', '2505363', '2532310', '2537891', '2558931', '2552503', '2567652', '2516652', '2549686', '2504460', '2529856', '2556619', '2549326', '2522328', '2547991', '2549970', '2503791', '2291486', '2541816', '2549699', '2505181', '2552608', '2518824', '2493101', '2525058', '2279181', '2526060', '2527920', '2570110', '2505455', '2416967', '2536270', '2556599', '2553469', '2518905', '2562099', '2534752', '2326036', '2524049', '2523160', '2561922', '2319435', '2512158', '2547028', '2559473', '2541479', '2532712', '2387738', '2515168', '2507326', '2515362', '2552951', '2531576', '2565821', '2550633', '2541891', '2504096', '2544298', '2529123', '2524175', '2328947', '2522982', '2528346', '2532393', '2507027', '2454814', '2536494', '2521532', '2550592', '2518433', '2517143', '2554792', '2528133', '2542681', '2554556', '2552829', '2552611', '2537658', '2520977', '2526941', '2516015', '2556466', '2514009', '2558696', '2565331', '2559271', '2551660', '2540858', '2564069', '2555199', '2511986', '2494733', '2567275', '2511962', '2508863', '2533581', '2510551', '2476238', '2567362', '1965089', '2512661', '2397495', '2528316', '2527858', '2530306', '2532550', '2533098', '2525417', '2548340', '2533877', '2570616', '2529942', '2545534', '2482625', '2532420', '2503978', '2515416', '2529660', '2554102', '2509491', '2512300', '2554276', '2460607', '2522342', '2541363', '2542335', '2514392', '2560496', '2535319', '2568992', '2538085', '2512818', '2509228', '2539415', '2552133', '2542970', '2535140', '2525815', '2480439', '2514557', '2490134', '2532828', '2560030', '2545294', '2524506', '2505628', '2541455', '2465653', '2456787', '2567183', '2536381', '2570681', '2565552', '2518466', '2541260', '2556593', '2533582', '2473707', '2560686', '2541829', '2563763', '2538593', '2508352', '2504023', '2518654', '2541858', '2559933', '2535315', '2398010', '2506549', '2542582', '2561012', '2555390', '2518376', '2512785', '2554955', '2534381', '2554285', '2515669', '2499914', '1506052', '2516456', '2564583', '2523614', '2527260', '2535417', '2542103', '2519580', '2530927', '2552492', '2557975', '2515149', '2549412', '2557104', '2512030', '2550703', '2538647', '2506447', '2527437', '2552861', '2446865', '2542014', '2525156', '2509361', '2531278', '2529839', '2568364', '2545712', '2557574', '2532462', '2534384', '2528111', '2514940', '2545558', '2565723', '2516705', '2551415', '2408596', '2542799', '2526287', '2509589', '2520753', '2558455', '2565140', '2550215', '2543432', '2549834', '2507659', '2551953', '2554057', '2547895', '2548107', '2525769', '2558596', '2537749', '2492869', '2559106', '2555019', '2564109', '2528907', '2507125', '2520571', '2504131', '2567162', '2504548', '2509839', '2538661', '2565611', '2550540', '2552856', '2560674', '2521097', '2507638', '2564446', '2503816', '2534450', '2523253', '2560700', '2527067', '2566231', '2511709', '2555350', '2498473', '2512288', '2514097', '2535510', '2560889', '2542356', '2537556', '2508602', '2513409', '2149663', '2566794', '2562583', '2522243', '2570597', '2570203', '2470224', '2525431', '2500118', '2558557', '2516823', '2507769', '2543241', '2560967', '2561092', '2561642', '2538116', '2506348', '2521274', '2568076', '2562164', '2569468', '2528805', '2529046', '2517477', '2547556', '2566942', '2530357', '2560046', '2550525', '2560277', '2394258', '2535419', '2505512', '2550726', '2505508', '2533247', '2559321', '2568994', '2537762', '2550351', '2504070', '2539349', '2527427', '2556706', '2519015', '2551045', '2541934', '2551770', '2532116', '2534131', '2563564', '2543143', '2525561', '2567953', '2548945', '2554058', '2565476', '2515765', '2557012', '2468632', '2508573', '2523948', '2516580', '2512277', '2519796', '2542475', '2570651', '2540819', '2530530', '2557297', '2534702', '2521434', '2567543', '2543012', '2549997', '2504705', '2518283', '2524839', '2536711', '2570464', '2560554', '2512700', '2535506', '2510232', '2520375', '2549381', '2514708', '2552847', '2538238', '2545789', '2515294', '2559530', '2555384', '2566789', '2557103', '2540370', '2526962', '2544978', '2558478', '2568037', '2543512', '2520656', '2566960', '2569154', '2554186', '2569754', '2533066', '2562445', '2520628', '2541712', '2532518', '2457342', '2554464', '2554509', '2562012', '2560926', '2503906', '2559605', '2507431', '2556077', '2550044', '2566583', '2520136', '2535628', '2540930', '2519078', '2556181', '2568407', '2538660', '2569366', '2569581', '2518632', '2515107', '2551730', '2559036', '2507740', '2552250', '2472363', '2554435', '2518868', '2544563', '2527374', '2537010', '2519770', '2525529', '2529556', '2570476', '2548844', '2506522', '2505375', '2501566', '2568351', '2532759', '2550571', '2517459', '2537183', '2532196', '2555273', '2561852', '2361982', '2564842', '2545583', '2561247', '2557684', '2535232', '2535986', '2509465', '2533217', '2561527', '2527343', '2560623', '2526544', '2520835', '2510499', '2535346', '2527563', '2546609', '2555533', '2330634', '2527320', '2504652', '2544487', '2503814', '2536461', '2558315', '2560508', '2516960', '2538488', '2569373', '2541085', '2538803', '2564466', '2538315', '2260551', '2559558', '2535161', '2505546', '2564641', '2506068', '2513143', '2557019', '2556248', '2512077', '2538266', '2528757', '2561191', '2489720', '2512657', '2514631', '2497480', '2185280', '2569483', '2530912', '2530418', '2517384', '2526887', '2531835', '2380886', '2519947', '2554192', '2474463', '2568716', '2543690', '2548484', '2567939', '2559970', '2565116', '2559311', '2547779', '2513952', '2546272', '2433828', '2556413', '2518641', '2509538', '2521257', '2537163', '2550113', '2549236', '2524181', '2544528', '2545423', '2538378', '2060717', '2528260', '2526896', '2439734', '2534597', '2515078', '2565524', '2557374', '2547653', '2437437', '2525819', '2505305', '2549155', '2528749', '2560933', '2562276', '2550503', '2524028', '2542377', '2512273', '2563459', '2550164', '2541326', '2566935', '2537228', '2558614', '2546438', '2272945', '2511220', '2508647', '2522540', '2504609', '2557048', '2541557', '2517090', '2548006', '2555012', '2532161', '2544631', '2535512', '2537637', '2548328', '2531364', '2550028', '2549772', '2538237', '2552633', '2511101', '2523194', '2542537', '2526280', '2530852', '2293885', '2550013', '2531262', '2545960', '2559283', '2511352', '2530684', '2508835', '2548810', '2505828', '2569142', '2526576', '2512290', '2562795', '2512944', '2524387', '2564759', '2500488', '2524007', '2508052', '2543363', '2564718', '2539293', '2544679', '2563615', '2514504', '2517788', '2504379', '2569083', '2524997', '2562145', '2514452', '2495816', '2548752', '2524435', '2563899', '2540383', '2499764', '2272992', '2550436', '2166734', '2505057', '2510919', '2451050', '2570047', '2505341', '2411105', '2547360', '2565623', '2551510', '2520876', '2555551', '2522733', '2565699', '2529304', '2567760', '2525433', '2564030', '2554141', '2552735', '2552747', '2507842', '2567889', '2550572', '2513125', '2541291', '2513211', '2541658', '2562232', '2510988', '2546286', '2545293', '2519126', '2560019', '2533237', '2560180', '2519970', '2518839', '2557811', '2555174', '2565774', '2549373', '2503721', '2506118', '2515839', '2504583', '2511412', '2569132', '2545300', '2569059', '2567586', '2541935', '2559803', '2566753', '2543638', '2527449', '2525793', '2428690', '2555835', '2530542', '2519594', '2558739', '2568089', '2556018', '2543185', '2550821', '2550240', '2545820', '2510824', '2562391', '2508368', '2545502', '2561103', '2545192', '2555271', '2548454', '2549589', '2525644', '2508104', '2549322', '2541601', '2547793', '2554897', '2522016', '2520608', '2527862', '2534490', '2555401', '2224828', '2516840', '2518172', '2272746', '2303812', '2537814', '2544001', '2534676', '2556802', '2557826', '2554316', '2531247', '2530078', '2556328', '2451460', '2501665', '2532099', '2524698', '2561174', '2556026', '2530269', '2564913', '2533982', '2539526', '2538502', '2565990', '2510273', '2382751', '2513719', '2542226', '2511354', '2414557', '2549598', '2525381', '2510160', '2485490', '2507692', '2556497', '2531658', '2269697', '2508430', '2542516', '2532651', '2545364', '2547638', '2506941', '2529005', '2559486', '2545405', '2550838', '2530667', '2530184', '2508433', '2530473', '2524499', '2510069', '2518159', '2535930', '2539267', '2508130', '2562025', '2512474', '2512028', '2567897', '2508918', '2545335', '2531889', '2521123', '2520108', '2518996', '2558075', '2533586', '2516037', '2514681', '2528486', '2526741', '2519686', '2504144', '2538006', '2521374', '2540113', '2536445', '2300430', '2536737', '2569945', '2488836', '2551782', '2564454', '2556732', '2535367', '2537638', '2570059', '2521211', '2537174', '2531099', '2562461', '2566537', '2515973', '2567442', '2527359', '2548424', '2510834', '2568332', '2569820', '2553725', '2567997', '2517848', '2538732', '2347888', '2528525', '2552126', '2446758', '2539092', '2560329', '2522046', '2509578', '2530982', '2513393', '2552614', '2558538', '2533310', '2562149', '2515047', '2413271', '2522296', '2536423', '2537633', '2520453', '2535060', '2527767', '2535238', '2520455', '2376971', '2568717', '2524201', '2523467', '2557090', '2549347', '2569001', '2562109', '2551798', '2516009', '2505272', '2508606', '2524006', '2529311', '2510889', '2557205', '2483367', '2543661', '2566026', '2567962', '2538292', '2511388', '2522428', '2516285', '2504669', '2539467', '2542564', '2530377', '2550854', '2545326', '2543736', '2551235', '2550310', '2493926', '2504458', '2568462', '2515101', '2515915', '2536557', '2556436', '2528961', '2508724', '2567431', '2505047', '2558439', '2505904', '2560148', '2505609', '2433578', '2555443', '2520392', '2493146', '2557477', '2507880', '2536105', '2567687', '2546627', '2526431', '2566446', '2539261', '2569617', '2526433', '2512131', '2541534', '2558849', '2547524', '2506516', '2557096', '2522272', '2556179', '2558890', '2533695', '2517001', '2568953', '2533818', '2558182', '2545953', '2510000', '2538707', '2543700', '2528658', '2557915', '2538067', '2524359', '2539346', '2564052', '2566399', '2517122', '2536044', '2561894', '2514105', '2569951', '2565482', '2535851', '2542032', '2548401', '2543953', '2558382', '2563869', '2563886', '2525144', '2514344', '2539946', '2531923', '2509928', '2541596', '2532886', '2507918', '2569712', '2570140', '2540241', '2539311', '2550523', '1101181', '1564924', '2538573', '2514855', '2540718', '2516877', '2539516', '2357896', '2301204', '2565340', '2511195', '2521294', '2523178', '2566134', '2518084', '2536980', '2544368', '2543798', '2533878', '2554884', '2461528', '2514873', '2525608', '2542839', '2544015', '2189830', '2527511', '2505952', '2510327', '2568477', '2524020', '2515060', '2567551', '2569400', '2539487', '2518853', '2566634', '2569818', '2565428', '2504020', '2558719', '2513037', '2446012', '2555450', '2542339', '2533894', '2333669', '2535676', '2554376', '2568174', '2510605', '2522043', '2514676', '2561973', '2569759', '2512950', '2550652', '2536509', '2505698', '2459366', '2533546', '2539935', '2521007', '2525774', '2563703', '2566437', '2522357', '2525474', '2562358', '2565433', '2553498', '2539366', '2564967', '2528629', '2547801', '2535655', '2147963', '2561086', '2535894', '2498707', '2553452', '2561606', '2516232', '2423420', '2512043', '2533340', '2540872', '2525909', '2530978', '2562333', '2525173', '2550418', '2517247', '2508449', '2505487', '2558241', '2508320', '2550539', '2550795', '2557152', '2488380', '2547921', '2566531', '2557009', '2538589', '2545512', '2547243', '2564292', '2518572', '2551860', '2562124', '2540334', '2559927', '2560321', '2560080', '2552990', '2350878', '2568027', '2535756', '2528944', '2527899', '2334956', '2506211', '2512105', '2527912', '2525852', '2416147', '2570247', '2566234', '2551794', '2564954', '2516447', '2503798', '2495953', '2531320', '2540505', '2537803', '2542655', '2519599', '2534727', '2477862', '2119379', '2504328', '2557318', '2515756', '2505990', '2536300', '2544747', '2510584', '2538547', '2505657', '2536197', '2534672', '2533320', '2508530', '2517544', '2513926', '2555772', '2510293', '2565063', '2526916', '2513853', '2508768', '2543340', '2545067', '2556803', '2549912', '2561882', '2527246', '2507339', '2528942', '2502860', '2528694', '2541168', '2522259', '2568499', '2565417', '2561819', '2506028', '2517596', '2522959', '2508514', '2530205', '2507411', '2508764', '2536790', '2541911', '2547515', '2550959', '2513078', '2514977', '2567293', '2540179', '2507772', '2531122', '2520156', '2550185', '2520578', '2515801', '2550470', '2543230', '2533677', '2527755', '2541758', '2521054', '2524754', '2550765', '2521501', '2554923', '2544353', '2544773', '2552853', '2568211', '2531899', '2542159', '2542637', '2405935', '2519125', '2559877', '2529179', '2539165', '2517168', '2507201', '2535875', '2516568', '2291576', '2523582', '2550268', '2550268', '2324049', '2556300', '2514891', '2553873', '2554585', '2567634', '2509681', '2543534', '2567292', '2537135', '2550075', '2543800', '2557962', '2549889', '2569490', '2561680', '2554956', '2544765', '2537740', '2516085', '2563844', '2500611', '2527929', '2556632', '2528871', '2507897', '2562042', '2567883', '2541144', '2557747', '2522029', '2548127', '2353184', '2500448', '2551001', '2554360', '2527363', '2532889', '2550417', '2535598', '2534907', '2503950', '2527501', '2562143', '2553443', '2509497', '2558588', '2557065', '2507054', '2529901', '2322495', '2536056', '2554590', '2557144', '2543358', '2473363', '2562550', '2200429', '2535976', '2515199', '2509291', '2524266', '2551089', '2528657', '2464153', '2532872', '2510566', '2517097', '2518097', '2564241', '2510440', '2552394', '2550063', '2570556', '2505059', '2566244', '2538814', '2552235', '2541866', '2532311', '2519772', '2521916', '2512996', '2515142', '2566915', '2548757', '2524166', '2562946', '2567733', '2482533', '2563585', '2568252', '2502132', '2547441', '2528623', '2540833', '2559794', '2522274', '2562834', '2542454', '2557204', '2493174', '2556855', '2541686', '2551325', '2531778', '2508444', '2552769', '2566481', '2527086', '2245693', '2510535', '2565594', '2543335', '2551930', '2531370', '2556949', '2568388', '2548239', '2523935', '2520115', '2542667', '2559401', '2546655', '2507545', '2537829', '2570148', '2530897', '2551929', '2562157', '2561280', '2461572', '2512094', '2556812', '2550026', '2512963', '2555248', '2345141', '2552867', '2549871', '2550702', '2569575', '2518294', '2535934', '2522414', '2452265', '2552387', '2558145', '2561482', '2506472', '2520301', '2558602', '2522290', '2534002', '2556051', '2511125', '2538809', '2532572', '2510995', '2506260', '2535197', '2557200', '2441624', '2507018', '2554421', '2536429', '2509268', '2547688', '2561198', '2396482', '2552907', '2521415', '2550061', '2558836', '2552017', '2568783', '2524218', '2541252', '2509996', '2519197', '1846106', '1612089', '2556669', '1533634', '1702896', '1605608', '2547373', '2540762', '2550944', '2539541', '2508868', '2401650', '2551807', '2480440', '2539973', '2557451', '2564284', '2525860', '2516268', '2505413', '2522961', '2524081', '2504244', '2537125', '2362992', '2528617', '2525247', '2541630', '2505925', '2512982', '2538385', '2537067', '2541546', '2511606', '2520178', '2541597', '2492031', '2509864', '2506620', '2561633', '2495104', '2526965', '2563568', '2555771', '2552906', '2537369', '2568004', '2569233', '2530450', '2560901', '2565754', '2545450', '2520517', '2471713', '2507195', '2537778', '2505503', '2568046', '2524396', '2447466', '2555694', '2520279', '2563445', '2540520', '2529229', '2566554', '2557140', '2570643', '2543754', '2530905', '2541199', '2524253', '2524180', '2552499', '2561337', '2569586', '2548134', '2514795', '2418514', '2561434', '2507085', '2386042', '2525886', '2323019', '2563814', '2501778', '2513927', '2300285', '2537312', '2557944', '2157386', '2569906', '2551095', '2551726', '2532149', '2518549', '2512706', '2549267', '2552484', '2541303', '2539370', '2570052', '2529162', '2509446', '2546629', '2508675', '2567176', '2565312', '2556291', '2545348', '2545381', '2546854', '2558865', '2527241', '2558768', '2561926', '2516809', '2567776', '2509880', '2511293', '2517761', '2567931', '2528175', '2516229', '2544289', '2510511', '2517862', '2503831', '2439137', '2526582', '2561854', '2549091', '2563271', '2536312', '2533697', '2507629', '2562428', '2570280', '2538711', '2569194', '2502723', '2504769', '2570632', '2532145', '2567288', '2531447', '2570150', '2506158', '2561250', '2536124', '2502481', '2513928', '2539007', '2452564', '2507116', '2531198', '2517408', '2535306', '2560658', '2533745', '2566591', '2336591', '2534257', '2245639', '2233852', '2531708', '2328319', '2541731', '2515359', '2569585', '2534098', '2554665', '2563328', '2565477', '2517989', '2355842', '2570349', '2559347', '2565470', '2515544', '2552715', '2534617', '2531010', '2565729', '2505393', '2534177', '2505045', '2567152', '2533468', '2511929', '2531811', '2532583', '2516477', '2524000', '2554169', '2520881', '2525263', '2527400', '2520927', '2532986', '2547981', '2541642', '2566459', '2507972', '2556872', '2489428', '2545480', '2544114', '2502400', '2526902', '2548209', '2568940', '2536751', '2510997', '2547803', '2509077', '2555373', '2564087', '2554860', '2537182', '2553917', '2554441', '2541030', '2526617', '2564188', '2557518', '2544960', '2522896', '2549017', '2522997', '2508177', '2539017', '2544853', '2556516', '2535483', '2570650', '2562334', '2524045', '2564431', '2533309', '2531452', '2509657', '2561305', '2569807', '2518462', '2564000', '2548953', '2558453', '2547587', '2570454', '2553209', '2543232', '2532278', '2544515', '2551511', '2530470', '2536063', '2568991', '2559949', '2514915', '2566395', '2539917', '2552421', '2529208', '2530241', '2543338', '2567092', '2540168', '2542620', '2552522', '2562559', '2542127', '2533208', '2518772', '2556583', '2506960', '2556503', '2545956', '2506127', '2562436', '2558254', '2567722', '2512489', '2529395', '2500418', '2517298', '2499304', '2529798', '2504335', '2489356', '2546784', '2489686', '2519305', '2513487', '2550104', '2509766', '2532969', '2539190', '2555984', '2530653', '2550810', '2555621', '2530185', '2557363', '2568868', '2542237', '2556691', '2556717', '2551212', '2509350', '2534575', '2544655', '2545250', '2545491', '2522315', '2525612', '2507930', '2533423', '2548194', '2506216', '2549251', '2524747', '2541500', '2552223', '2562674', '2527805', '2511528', '2513694', '2515400', '2566343', '2543398', '2522302', '2564684', '2531733', '2552095', '2556235', '2519043', '2559686', '2556488', '2565500', '2529094', '2519852', '2504321', '2543218', '2479576', '2534543', '2529964', '2520936', '2545132', '2506238', '2527344', '2506826', '2512648', '2526928', '2549563', '2525172', '2560165', '2516752', '2560526', '2541984', '2564550', '2525572', '2167208', '2554171', '2525277', '2555429', '2545967', '2552496', '2552589', '2561185', '2545411', '2553791', '2504486', '2512142', '2531096', '2515208', '2536731', '2413726', '2538671', '2559973', '2517925', '2162649', '2531980', '2517898', '2529325', '2510324', '2541473', '2514129', '2553028', '2565039', '2523165', '2536047', '2559272', '2521482', '2507656', '1820667', '1911317', '1952142', '2157492', '2537305', '2102828', '2494502', '2507074', '2562690', '2552676', '2556687', '2562773', '2551006', '2543404', '2556050', '2547999', '2513677', '2551967', '2530288', '2548233', '2519237', '2566795', '2545639', '2509856', '2568526', '2545616', '2535530', '2513873', '2562343', '2564084', '2536958', '2556196', '2505950', '2489862', '2539800', '2531823', '2508581', '2535813', '2552771', '2546867', '2247172', '2528336', '2552295', '2507580', '2523337', '2569927', '2510290', '2538977', '2313278', '2558413', '2528892', '2566291', '2553715', '2528865', '2548745', '2551459', '2545890', '2507342', '2538380', '2549681', '2554731', '2567434', '2525109', '2494906', '2512189', '2513833', '2505365', '2564762', '2539296', '2506075', '2563577', '2539492', '2548922', '2539465', '2516827', '2528835', '2533417', '2543321', '2515935', '2534714', '2549685', '2536082', '2509937', '2536975', '2506079', '2526491', '2547328', '2568819', '2520931', '2554821', '2525333', '2467542', '2521275', '2555501', '2563218', '2546561', '2510819', '2516206', '2521303', '2513391', '2535333', '2559599', '2526364', '2518441', '2539088', '2505332', '2553080', '1017251', '2545775', '2517163', '2512150', '2539712', '2568875', '2544714', '2562775', '2510024', '2535476', '2530041', '2551576', '2537769', '2524876', '2566131', '2538546', '2528156', '2514103', '2537244', '2499580', '2518046', '2508490', '2537210', '2512938', '2562048', '2447086', '2512069', '2512576', '2568391', '2452572', '2545771', '2514798', '2509262', '2565446', '2505901', '2535237', '2534918', '2510423', '2543631', '2565226', '2509552', '2514210', '2564222', '2544572', '2550428', '2550650', '2550072', '2530395', '2535010', '2528455', '2522324', '2356703', '2401563', '2567043', '2535058', '2507684', '2517106', '2429852', '2564879', '2512741', '2565798', '2564223', '2520294', '2538365', '2550027', '2535365', '2537396', '2566010', '2531135', '2553099', '2550438', '2509486', '2504589', '2538881', '2547855', '2559009', '2529727', '2503780', '2510156', '2386501', '2527017', '2554249', '2525618', '2523663', '2489142', '2513887', '2543460', '2544669', '2557059', '2514192', '2543148', '2507596', '2523494', '2554082', '2550268', '2550268', '2513397', '2508184', '2525521', '2531869', '2517843', '2531618', '2544697', '2548061', '2423767', '2528258', '2522258', '2518858', '2556804', '2508888', '2393857', '2528386', '2537140', '2552616', '2509885', '2537905', '2526961', '2556815', '2557208', '2559912', '2550927', '2512276', '2490331', '2561126', '2292439', '2536452', '2543788', '2530947', '2505301', '2506895', '2561342', '2503728', '2529555', '2557244', '2552240', '2526601', '2544678', '2475209', '2551062', '2205067', '2533673', '2559926', '2543041', '2551593', '2549450', '2546412', '2540540', '2549040', '2540117', '2544996', '2541014', '2542422', '2517863', '2491626', '2516863', '2374864', '2554152', '2551269', '2551209', '2508505', '2531933', '2446015', '2532040', '2554049', '2527487', '2548589', '2550440', '2566211', '2535816', '2549087', '2507650', '2549154', '2540473', '2563294', '2549633', '2522693', '2541608', '2260146', '2504855', '2536060', '2560571', '2446253', '2531400', '2561442', '2511900', '2414922', '2568536', '2539505', '2533225', '2565484', '2537343', '2557596', '2553952', '2505073', '2526789', '2507480', '2522066', '2521825', '2524824', '2536736', '2526061', '2546301', '2521063', '2503651', '2553916', '2451940', '2540538', '2543088', '2508659', '2547799', '2519666', '2525162', '2494597', '2558121', '2554613', '2559019', '2545594', '2541824', '2542368', '2559371', '2537039', '2517918', '2525792', '2517429', '2538764', '2508462', '2514816', '2492668', '2524777', '2530413', '2565589', '2525628', '2527018', '2505662', '2564041', '2508754', '2565121', '2563861', '2549167', '2530079', '2528889', '2548147', '2568997', '2512509', '2567631', '2533145', '2529035', '2542572', '2558859', '2569997', '2529516', '2529634', '2544311', '2541842', '2540079', '2546689', '2563677', '2528927', '2508814', '2510302', '2524929', '2505896', '2514776', '2521025', '2537394', '2538001', '2560215', '2559324', '2520082', '2506850', '2538793', '2567089', '2562326', '2535579', '2568257', '2515913', '2566280', '2504678', '2530331', '2558527', '2568781', '2458554', '2522678', '2540860', '2307045', '2551515', '2561952', '2535215', '2549742', '2568500', '2568053', '2552554', '2520762', '2515260', '2550910', '2512294', '2504473', '2559561', '2539592', '2552131', '2518035', '2529265', '2516592', '2515196', '1826984', '2077813', '2514634', '2562630', '2535138', '2508510', '2547753', '2558986', '2562285', '2558955', '2531129', '2555702', '2527904', '2435901', '2549993', '2512076', '2537792', '2558256', '2530737', '2520051', '2510342', '2527161', '2551397', '2546310', '2568191', '2545618', '2535122', '2519191', '2517126', '2528034', '2554191', '2554670', '2569964', '2508619', '2514687', '2557106', '2557473', '2524135', '2532564', '2509324', '2563284', '2561001', '2541623', '2568697', '2509814', '2547245', '2264143', '2523742', '2553211', '2569119', '2513665', '2525302', '2554026', '2511230', '2539660', '2468152', '2555904', '2532193', '2514073', '2518909', '2551272', '2538372', '2545844', '2506745', '2512156', '2526194', '2516744', '2536268', '2528669', '2504952', '2538509', '2532065', '2515884', '2568372', '2517587', '2508981', '2512098', '2298725', '2517567', '2533475', '2515254', '2570611', '2504911', '2220442', '2545722', '2551150', '2521733', '2548621', '2465423', '2523151', '2545559', '2516421', '2518972', '2530391', '2545120', '2543053', '2545038', '2545431', '2271143', '2512341', '2527418', '2522534', '2543748', '2458079', '2523320', '2509306', '2503828', '2569020', '2539923', '2511471', '2509226', '2556752', '2527907', '2527546', '2539175', '2523713', '2565527', '2541674', '2540523', '2541037', '2537401', '2512154', '2551669', '2562847', '2535705', '2570087', '2551008', '2554115', '2565676', '2522240', '2546356', '2504949', '2530700', '2508300', '2542555', '2552444', '2546929', '2527308', '2459559', '2545088', '2567816', '2522294', '2564301', '2518073', '2540883', '2514933', '2561089', '2562927', '2529001', '2542994', '2566361', '2504199', '2242410', '2558598', '2286914', '2541885', '2547293', '2518457', '2523481', '2510251', '2565559', '2539948', '2563087', '2508132', '2519614', '2539686', '2532209', '2525808', '2540326', '2557638', '2453499', '2540240', '2546260', '2549595', '2554934', '2568951', '2544278', '2515768', '2531399', '2511656', '2538169', '2566842', '2564263', '2525142', '2554395', '2564213', '2518037', '2547748', '2568580', '2552262', '2532983', '2528099', '2565073', '2260417', '2565444', '2510266', '2477719', '2554317', '2512603', '2553868', '2558296', '2483134', '2522547', '2532488', '2547354', '2520000', '2430603', '2535302', '2418846', '2274392', '2480766', '2534282', '2542151', '2556636', '2516939', '2554702', '2569735', '2525038', '2557554', '2513894', '2401885', '2509609', '2533934', '2566821', '2506156', '2532212', '2312942', '2520174', '2526757', '2443339', '2509752', '2570321', '2568634', '2524432', '2510528', '2520295', '2527533', '2541787', '2547462', '2526635', '2504596', '2535944', '2560980', '2563659', '2538785', '2531027', '2563640', '2564226', '2543658', '2528705', '2426806', '2524324', '2557213', '2557532', '2538269', '2569149', '2544351', '2532213', '2509158', '2212757', '2279680', '2513618', '2564042', '2526490', '2543595', '2526542', '2524011', '2538367', '2534275', '2538127', '2541073', '2568704', '2535222', '2558529', '2555051', '2537654', '2561747', '2522286', '2513516', '2564981', '2511424', '2524734', '2537080', '2563168', '2562893', '2383317', '2512753', '2519424', '2542448', '2546397', '2565195', '2562189', '2564936', '2524952', '2513733', '2544397', '2510892', '2534055', '2505250', '2522592', '2551268', '2541564', '2480302', '2565871', '2525606', '2520194', '2532148', '2508341', '2537754', '2521710', '2534593', '2532367', '2512342', '2564475', '2526043', '2503623', '2531359', '2539751', '2554097', '2506363', '2555887', '2563373', '2503999', '2564102', '2521898', '2561220', '2561825', '2559820', '2393350', '2266923', '2555885', '2544621', '2541001', '2536899', '2548063', '2536522', '2542901', '2563598', '2561136', '2507101', '2529646', '2518496', '2539993', '2537335', '2520533', '2522646', '2537143', '2556276', '2531998', '2559457', '2560951', '2558210', '2533652', '2561046', '2569784', '2543154', '2560970', '2543555', '2515907', '2545023', '2561341', '2514214', '2509354', '2545289', '2532446', '2542844', '2517615', '2519890', '2570241', '2442935', '2534748', '2532368', '2200219', '2540908', '2554512', '2535925', '2566197', '2556032', '2528348', '2514398', '2453801', '2524920', '2509039', '2506971', '2548234', '2529935', '2511755', '2416542', '2536365', '2512420', '2550053', '2459094', '2506863', '2246123', '2384055', '2215655', '2533388', '2531966', '2537620', '2492423', '2519469', '2553189', '2531272', '2550325', '2520511', '2537453', '2531611', '2517876', '2533828', '2534880', '2538046', '2548096', '2530727', '2560645', '2523167', '2509169', '2511474', '1836550', '1410760', '1623740', '1114403', '2515612', '2545710', '2528706', '2560188', '2508738', '2517403', '2534772', '2516315', '2515988', '2559658', '2569749', '2532002', '2568225', '2509775', '2547873', '2492928', '2533380', '2543291', '2562463', '2529287', '2569324', '2530201', '2540702', '2550347', '2473678', '2520968', '2564133', '2569542', '2520072', '2533927', '2515981', '2568484', '2534244', '2534264', '2565968', '2524076', '2519169', '2556388', '2529938', '2519083', '2533014', '2157000', '2412737', '2521188', '2569428', '2555934', '2557519', '2517295', '2547549', '2507677', '2517847', '2537808', '2506821', '2539385', '2526475', '2510303', '2541175', '2506063', '2522375', '2545215', '2498491', '2507038', '2510363', '2556917', '2549688', '2524749', '2509997', '2451482', '2568025', '2562520', '2527775', '2522625', '2541820', '2530718', '2514203', '2519262', '2558658', '2563400', '2533563', '2207209', '2567071', '2495602', '2562913', '2512133', '2522840', '2529524', '2558470', '2519413', '2561388', '2505124', '2530724', '2519292', '2537104', '2530632', '2387245', '2565801', '2511109', '2569403', '2530831', '2510076', '2560836', '2527330', '2505256', '2565005', '2560539', '2553286', '2568432', '2561227', '2081992', '2530730', '2538359', '2515272', '2547540', '2552624', '2547075', '2556260', '2557173', '2511857', '2566149', '2565452', '2537826', '2533730', '2512353', '2496457', '2540438', '2518904', '2507068', '2533527', '2570624', '2520722', '2524687', '2549985', '2559427', '2532663', '2558643', '2568377', '2560041', '2522949', '2537463', '2561912', '2561024', '2535191', '2513257', '2554202', '2530794', '2515355', '2569808', '2525834', '2535347', '2508469', '2449715', '2505842', '2448571', '2538000', '2466544', '2396678', '2530650', '2524323', '2531283', '2529706', '2543443', '2566057', '2517208', '2531969', '2547798', '2565678', '2547744', '2539308', '2499878', '2563296', '2551946', '2456750', '2387439', '2563860', '2524399', '2540516', '2544141', '2510631', '2530387', '2442861', '2523101', '2568396', '2551805', '2525732', '2560366', '2541457', '2548957', '2565758', '2527555', '2528713', '2535278', '2511203', '2560973', '2523192', '2566124', '2545698', '2566392', '2515122', '2518027', '2541852', '2503933', '2563345', '2471194', '2505888', '2553294', '2559580', '2506223', '2533453', '2568966', '2492945', '2554283', '2524297', '2559977', '2541657', '2536665', '2516787', '2464222', '2521151', '2564588', '2558864', '2331466', '2401424', '2552367', '2526751', '2505527', '2538727', '2511289', '2246170', '2518812', '2519519', '2527362', '2515189', '2550141', '2562906', '2516153', '2520985', '2530207', '2518656', '2521080', '2561053', '2535542', '2564271', '2504776', '2561100', '2531989', '2550085', '2537875', '2554523', '2565012', '2519211', '2510604', '2481030', '2524978', '2540599', '2516969', '2553241', '2562252', '2533838', '2526957', '2557568', '2512195', '2505350', '2529791', '2543620', '2560324', '2469959', '2569834', '2543048', '2538670', '2554424', '2529558', '2569850', '2532135', '2545882', '2552564', '2532416', '2399592', '2506235', '2554256', '2536201', '2548938', '2567383', '2488058', '2563062', '2543702', '2540205', '2550273', '2539436', '2564353', '2564396', '2557236', '2515519', '2549505', '2569257', '2556326', '2547776', '2542526', '2508533', '2546801', '2561932', '2490891', '2468436', '2510544', '2546462', '2478847', '2556112', '2511376', '2513682', '2519879', '2540508', '2549048', '2513880', '2543608', '2569084', '2530726', '2509626', '2520684', '2538401', '2541672', '2557968', '2524787', '2545325', '2503967', '2566832', '2519018', '2288599', '2541035', '2499338', '2552287', '2543339', '2549380', '2565396', '2526980', '2525865', '2557339', '2518730', '2508787', '2559213', '2505607', '2525845', '2190693', '2515951', '2539960', '2556030', '2540411', '2550574', '2504455', '2556928', '2514686', '2533947', '2549878', '2523459', '2512430', '2512575', '2462753', '2540092', '2535796', '2538829', '2555137', '2563908', '2522561', '2569506', '2558404', '2565493', '2540007', '2536233', '2556053', '2545328', '2318651', '2522015', '2504758', '2504700', '2532331', '2541502', '2544664', '2517140', '2468167', '2536581', '2209720', '1977426', '2097111', '1317458', '1793369', '2548280', '2538596', '2564139', '2507715', '2528888', '2492688', '2457890', '2541407', '2532480', '2547214', '2542332', '2515322', '2542122', '2548674', '2484009', '2510491', '2507159', '2561160', '2560264', '2569684', '2546558', '2562959', '2567698', '2557746', '2537264', '2555875', '2531865', '2551601', '2513914', '2561743', '2557749', '2451078', '2545297', '2545542', '2513254', '2534738', '2533698', '2556897', '2518250', '2520758', '2538644', '2549232', '2510349', '2534191', '2524314', '2466209', '2565832', '2540575', '2553502', '2566590', '2543168', '2522314', '2527457', '2286187', '2517770', '2503875', '2522090', '2519976', '2515492', '2534794', '2512443', '2566749', '2513858', '2556426', '2560010', '2554077', '2507401', '2347165', '2530619', '2560840', '2504205', '2513773', '2526534', '2543289', '2560236', '2506422', '2532635', '2540010', '2542944', '2549619', '2525165', '2503858', '2526492', '2541491', '2549778', '2538560', '2553526', '2562911', '2551331', '2532844', '2524120', '2531771', '2568177', '2564632', '2506985', '2540664', '2549003', '2530605', '2512815', '2550949', '2506226', '2568528', '2519939', '2567397', '2540144', '2525353', '2512075', '2532812', '2511003', '2558831', '2503305', '2518523', '2527372', '2520425', '2568073', '2559186', '2553891', '2541706', '2523782', '2533776', '2565373', '2546864', '2445025', '2525393', '2565497', '2557784', '2565709', '2558412', '2519793', '2515875', '2562319', '2477903', '2542179', '2529531', '2544486', '2552261', '2547747', '2525665', '2504825', '2517025', '2538073', '2554390', '2534873', '2554803', '2515345', '2508798', '2540423', '2540105', '2121393', '2181965', '2554301', '2549043', '2512858', '2533649', '2527261', '2561762', '2552327', '2534782', '2534344', '2504818', '2566681', '2527824', '2544848', '2540037', '2566092', '2529357', '2505127', '2507035', '2517720', '2525422', '2468748', '2569910', '2545410', '2410914', '2536262', '2557490', '2535239', '2518696', '2513603', '2513623', '2543478', '2518875', '2566726', '2561440', '2538532', '2398611', '2538875', '2528090', '2536263', '2517594', '2548053', '2509573', '2456244', '2525820', '2525719', '2533295', '2552227', '2514021', '2541920', '2450104', '2519522', '2508028', '2523846', '2547153', '2528586', '2515089', '2560791', '2555415', '2531321', '2535154', '2559769', '2515344', '2541619', '2528766', '2554790', '2514675', '2510774', '2539433', '2525636', '2524091', '2519498', '2557248', '2512464', '2546567', '2505534', '2551266', '2518079', '2526481', '2532796', '2525113', '2561706', '2554920', '2511393', '2513909', '2532866', '2511422', '2524178', '2531920', '2559390', '2505495', '2524003', '2516264', '2532233', '2527643', '2552865', '2512551', '2551841', '2541445', '2540415', '2517020', '2523025', '2562036', '2544166', '2540131', '2517297', '2530139', '2560525', '2535021', '2544258', '2520905', '2512250', '2529811', '2530307', '2563371', '2567890', '2516674', '2552212', '2546262', '2548461', '2559092', '2532660', '2245702', '2513039', '2563158', '2510964', '2516813', '2548524', '2513737', '2542742', '2554346', '2533368', '2492195', '2529747', '2503997', '2557436', '2509975', '2532714', '2558740', '2509144', '2533351', '2508083', '2510973', '2561259', '2559456', '2559024', '2550009', '2567033', '2558416', '2519562', '2459220', '2321461', '2507073', '2553982', '2535503', '2532112', '2519027', '2512032', '2532203', '2566037', '2424253', '2551555', '2483785', '2562928', '2432134', '2529231', '2555820', '2543995', '2530326', '2507206', '2423358', '2545260', '2542208', '2532579', '2556845', '2523499', '2504367', '2527949', '2495237', '2551299', '2550449', '2526863', '2567178', '2464817', '2509499', '2566946', '2557416', '2562244', '2504792', '2521682', '2491084', '2551291', '2547844', '2516496', '2556611', '2561782', '2554404', '2467391', '2507818', '2570600', '2567904', '2530483', '2434850', '2531137', '2519402', '2515350', '2534800', '2551302', '2570423', '2497387', '2570456', '2548214', '2523027', '2529083', '2565002', '2562786', '2567747', '2410188', '2520940', '2524930', '2508221', '2531939', '2538369', '2525837', '2540689', '2560558', '2512080', '2526580', '2565425', '2566429', '2561872', '2527627', '2539833', '2549708', '2548999', '2560828', '2557325', '2514577', '2556433', '2504534', '2561180', '2565061', '2507901', '2511902', '2505647', '2511307', '2555090', '2545179', '2549757', '2511956', '2517937', '2507056', '2529284', '2550559', '2567844', '2528720', '2521492', '2568669', '2557848', '2556406', '2508680', '2503704', '2537565', '2568927', '2547583', '2517327', '2525703', '2556681', '2526417', '2524527', '2527968', '2545609', '2524461', '2512961', '2506541', '2525760', '2549535', '2141946', '2533936', '2558222', '2455740', '2513954', '2507804', '1452277', '1409538', '1430247', '2522624', '2556240', '2538662', '2517714', '2558371', '2559124', '2529930', '2569256', '2511311', '2544868', '2530244', '2519310', '2521699', '2540033', '2554258', '2536911', '2517957', '2552935', '2554228', '2560488', '2525776', '2537008', '2507076', '2543381', '2568413', '2354421', '2554197', '2553508', '2506707', '2554488', '2569387', '2519055', '2549826', '2567770', '2556354', '2509400', '2535104', '2535941', '2565647', '2542764', '2529219', '2550723', '2540635', '2557858', '2552045', '2524152', '2543659', '2519670', '2557310', '2510868', '2225131', '2564855', '2552818', '2564974', '2550019', '2493995', '2552586', '2513447', '2559615', '2533486', '2548136', '2444232', '2569279', '2540775', '2527774', '2561568', '2503839', '2556972', '2526573', '2507877', '2533854', '2508474', '2391546', '2543971', '2504755', '2561874', '2472627', '2563777', '2544755', '2415256', '2532235', '2294668', '2509822', '2569441', '2511788', '2524134', '2509418', '2475931', '2542508', '2487906', '2559319', '2530616', '2526206', '2501476', '2519409', '2451485', '2561778', '2531587', '2524784', '2560373', '2515329', '2536428', '2519341', '2562295', '2522441', '2566447', '2535781', '2551893', '2265398', '2507121', '2541459', '2518805', '2509468', '2556059', '2527389', '2518343', '2539763', '2520320', '2535009', '2517085', '2550812', '2517102', '2524871', '2558640', '2551088', '2530681', '2560600', '2529264', '2546004', '2530816', '2543576', '2516306', '2542253', '2533431', '2559341', '2548447', '2569654', '2507096', '2543261', '2539274', '2551194', '2522690', '2565952', '2565950', '2562284', '2506166', '2541287', '2532729', '2550431', '2541086', '2549417', '2536243', '2567276', '2556757', '2555829', '2507193', '2568498', '2540948', '2543204', '2505539', '2507624', '2566195', '2507246', '2401614', '2566180', '2552293', '2417136', '2530125', '2515785', '2556198', '2568433', '2520212', '2516679', '2569182', '2546762', '2528239', '2529236', '2514797', '2563593', '2569140', '2493375', '2564336', '2529367', '2523744', '2548475', '2568320', '2507214', '2532631', '2507676', '2508686', '2553832', '2560191', '2495190', '2523273', '2565112', '2518936', '2524748', '2540955', '2525698', '2510937', '2566827', '2546049', '2558968', '2404013', '2513221', '2532102', '2552194', '2491108', '2556269', '2472124', '2543740', '2561546', '2562521', '2534710', '2551085', '2546458', '2516791', '2524140', '2554157', '2509172', '2523247', '2565227', '2548276', '2522721', '2553824', '2548119', '2506301', '2504006', '2552776', '2557716', '2532249', '2535478', '2504050', '2518670', '2521425', '2539849', '2534901', '2510555', '2512471', '2557931', '2515036', '2554310', '2508684', '2567907', '2557788', '2510979', '2525706', '2545200', '2551991', '2532261', '2506986', '2551445', '2540468', '2515773', '2513217', '2553657', '2541321', '2516029', '2512065', '2514562', '2522412', '2539616', '2537452', '2537465', '2561078', '2522153', '2562885', '2566677', '2514512', '2527257', '2508781', '2557488', '2541010', '2548773', '2520543', '2559685', '2528449', '2522162', '2507861', '2567630', '2541532', '2528703', '2568736', '2540034', '2220290', '2553240', '2527422', '2526705', '2503818', '2518762', '2567323', '2561231', '2503904', '2537165', '2532594', '2533000', '2546151', '2556404', '2493271', '2560248', '2562790', '2535438', '2520438', '2567332', '2551834', '2499246', '2520534', '2503869', '2515946', '2520500', '2530988', '2565405', '2530256', '2543830', '2563942', '2524071', '2347897', '2551213', '2558044', '2539728', '2519612', '2522403', '2535049', '2521667', '2548629', '2533018', '2543362', '2391091', '2561210', '2520873', '2503836', '2517475', '2533571', '2509514', '2545508', '2508624', '2541683', '2554476', '2536583', '2540489', '2180408', '2541604', '2527922', '2529858', '2522695', '2555744', '2506338', '2554231', '2522492', '2543466', '2536981', '2556926', '2520548', '2520761', '2516768', '2539967', '2554990', '2557505', '2551681', '2528315', '2556409', '2525401', '2525072', '2513718', '2518544', '2515517', '2569094', '2525386', '2308450', '2564479', '2540903', '2390552', '2533062', '2508548', '2517037', '2566063', '2535718', '2274029', '2534749', '2511277', '2538176', '2522580', '2517759', '2483454', '2536567', '2541399', '2514016', '2546415', '2532893', '2545356', '2560099', '2517872', '2529640', '2554734', '2558027', '2517411', '2538741', '2527975', '2538595', '2450688', '2514632', '2543219', '2555640', '2526326', '2544536', '2506214', '2532407', '2543848', '2517169', '2556031', '2542154', '2540085', '2511672', '2522920', '2550195', '2559418', '2563704', '2554092', '2501850', '2538963', '1196525', '1751978', '2505665', '2532697', '2560679', '1376256', '2513710', '2538641', '2557314', '2268362', '2563206', '2505994', '2560280', '2547812', '2535351', '2532056', '2515432', '2565304', '2536043', '2515139', '2519534', '2537284', '2534783', '2542993', '2518002', '2519093', '2512687', '2562587', '2548737', '2561659', '2526174', '2564291', '2561622', '2559204', '2550344', '2510540', '2511035', '2517173', '2541969', '2527266', '2527351', '2532464', '2284915', '2471714', '2533678', '2559085', '2562351', '2562033', '2543600', '2544226', '2564728', '2149430', '2526389', '2560170', '2532746', '2549856', '2505500', '2533823', '2563529', '2539909', '2560835', '2522772', '2520539', '2481109', '2548126', '2530759', '2545429', '2504008', '2561225', '2513807', '2556563', '2533880', '2527448', '2539521', '2564147', '2508121', '2535546', '2528840', '2561154', '2524953', '2506134', '2529432', '2556061', '2504569', '2403205', '2521500', '2517782', '2520840', '2514296', '2541555', '2567964', '2394913', '2444172', '2509714', '2489636', '2567668', '2562868', '2534294', '2528278', '2490915', '2562945', '2525134', '2563878', '2451430', '2322588', '2543074', '2556814', '2526834', '2516713', '2523352', '2559846', '2521436', '2501748', '2522276', '2557653', '2543529', '2219010', '2505448', '2567544', '2548426', '2538149', '2543489', '2518797', '2506505', '2524257', '2526354', '2517031', '2537367', '2522559', '2536007', '2514725', '2531466', '2533012', '2512169', '2544987', '2565636', '2532501', '2518463', '2438298', '2520959', '2522188', '2535702', '2570635', '2506300', '2322957', '2554416', '2522494', '2555454', '2564082', '2553990', '2530191', '2517243', '2558510', '2545646', '2541688', '2532064', '2508646', '2523943', '2482113', '2569446', '2490015', '2536230', '2555623', '2567928', '2556841', '2556170', '2559268', '2561063', '2570081', '2504834', '2545772', '2534648', '2510149', '2520125', '2526171', '2550466', '2523977', '2543258', '2567264', '2504513', '2543569', '2425491', '2526674', '2513901', '2515953', '2311161', '2495364', '2515217', '2543384', '2543781', '2570607', '2563848', '2532158', '2511312', '2562422', '2500183', '2553339', '2550993', '2567954', '2509223', '2495377', '2551674', '2565677', '2507852', '2559745', '2511439', '2553297', '2512716', '2562389', '2521362', '2508911', '2567888', '2562536', '2565247', '2545178', '2542653', '2555205', '2540222', '2552190', '2570474', '2499885', '2535474', '2553105', '2563880', '2546747', '2543314', '2530265', '2552353', '2504082', '2541194', '2508522', '2513763', '2533679', '2566850', '2535662', '2513162', '2531254', '2564865', '2559593', '2503811', '2559764', '2495611', '2555610', '2462215', '2561164', '2552682', '2533550', '2543505', '2529428', '2538917', '2529672', '2520389', '2559005', '2519091', '2567998', '2523008', '2511227', '2537763', '2542433', '2520434', '2536316', '2528607', '2527220', '2565817', '2565403', '2559692', '2540897', '2569915', '2551656', '2513059', '2534260', '2505024', '2508108', '2505793', '2552944', '2537992', '2564740', '2533593', '2535363', '2527331', '2307834', '2251555', '2504297', '2387032', '2515916', '2547800', '2563714', '2503964', '2372995', '2522741', '2557225', '2558281', '2560867', '2533869', '2523594', '2552318', '2544332', '2557935', '2565864', '2519917', '2557548', '2522141', '2505666', '2184602', '2533440', '2555897', '2508448', '2547320', '2521309', '2448606', '2563478', '2534256', '2504989', '2249069', '2521519', '2507378', '2532337', '2512162', '2543616', '2505098', '2529550', '2504226', '2512335', '2531950', '2527768', '2542212', '2508523', '2516737', '2534106', '2550305', '2556016', '2555341', '2537641', '2551761', '2505260', '2567805', '2504647', '2509200', '2527249', '2335951', '2530945', '2559625', '2515591', '2541540', '2462730', '2516888', '2566272', '2511458', '2556976', '2528282', '2539484', '2549537', '2538750', '2529386', '2533125', '2525797', '2517450', '2516560', '2519928', '2529192', '2514449', '2534011', '2510836', '2523965', '2551301', '2509623', '2531885', '2531429', '2530986', '2519117', '2562159', '2529328', '2530392', '2512916', '2564106', '2544533', '2519136', '2562692', '2541583', '2543334', '2510508', '2538529', '2561042', '2520751', '2505143', '2464029', '2517628', '2564515', '2549235', '2501957', '2532219', '2516817', '2534579', '2504621', '2522443', '2545367', '2567075', '2557896', '2501971', '2512561', '2537246', '2546873', '2555240', '2568235', '2555228', '2566271', '2550342', '1834891', '1221372', '1204717', '1116622', '2527633', '2473795', '2519294', '2518657', '2441770', '2536611', '2558684', '2566342', '2554733', '2555809', '2569369', '2570184', '2565086', '2548384', '2514171', '2518257', '2562833', '2518825', '2506349', '2522776', '2524307', '2504554', '2522075', '2549284', '2522864', '2535156', '2451951', '2521786', '2526327', '2525244', '2549807', '2560753', '2544029', '2520946', '2535384', '2568584', '2505433', '2522310', '2569760', '2504476', '2515474', '2546669', '2517058', '2539929', '2538377', '2512281', '2505967', '2495676', '2510078', '2563713', '2563184', '2531004', '2521265', '2554227', '2507758', '2555763', '2505552', '2537528', '2555657', '2520952', '2509009', '2507636', '2530208', '2514002', '2506262', '2534972', '2530560', '2527626', '2557458', '2514107', '2503863', '2563474', '2506331', '2509151', '2512589', '2497751', '2523063', '2453435', '2535206', '2507171', '2521002', '2529407', '2535137', '2483769', '2553603', '2490275', '2547279', '2510599', '2522249', '2568651', '2564433', '2503650', '2555417', '2524142', '2524321', '2542241', '2504167', '2557733', '2521693', '2540969', '2429231', '2530948', '2545398', '2547923', '2555204', '2532165', '2533796', '2542222', '2554656', '2507113', '2536986', '2520128', '2513563', '2506795', '2545321', '2516847', '2553174', '2527419', '2530431', '2551516', '2539980', '2525900', '2540354', '2535504', '2525305', '2511041', '2524853', '2562066', '2518402', '2515256', '2504674', '2546314', '2539971', '2510394', '2515427', '2535543', '2525669', '2466601', '2563963', '2521758', '2547733', '2520340', '2518538', '2558309', '2561202', '2513845', '2535562', '2545387', '2505243', '2544994', '2555785', '2557031', '2551271', '2542770', '2523365', '2535038', '2551048', '2529302', '2322183', '2550557', '2506108', '2546774', '2447721', '2546464', '2529368', '2522004', '2570252', '2538594', '2527027', '2512279', '2548216', '2548173', '2554843', '2562905', '2562697', '2553068', '2421856', '2558950', '2561719', '2514360', '2533768', '2502740', '2558267', '2544857', '2548015', '2567763', '2561219', '2522279', '2502221', '2530374', '2275864', '2512091', '2257817', '2515601', '2561383', '2526243', '2551599', '2490929', '2517443', '2540421', '2464663', '2566548', '2563207', '2547225', '2566008', '2518688', '2534943', '2521084', '2534731', '2332120', '2543394', '2518590', '2549476', '2264450', '2543545', '2559430', '2529527', '2532127', '2518880', '2542779', '2539762', '2505373', '2558559', '2539240', '2569638', '2510771', '2558517', '2490968', '2535642', '2545562', '2548812', '2506951', '2529281', '2520267', '2557105', '2560108', '2552615', '2537106', '2536466', '2508926', '2556290', '2529970', '2565332', '2557276', '2546640', '2550673', '2506270', '2538872', '2540607', '2443790', '2556167', '2506586', '2524558', '2341502', '2516688', '2508248', '2562201', '2562615', '2518353', '2532470', '2547257', '2528842', '2522976', '2511961', '2555046', '2512093', '2527338', '2512949', '2530409', '2504229', '2545479', '2559053', '2513053', '2547307', '2504141', '2560833', '2512542', '2504176', '2256399', '2522202', '2570427', '2447772', '2547874', '2508432', '2515860', '2549670', '2526782', '2554096', '2519672', '2530845', '2537948', '2508820', '2221726', '2541948', '2547993', '2543480', '2516740', '2556860', '2517091', '2556754', '2550899', '2477133', '2511844', '2564737', '2554187', '2445313', '2546708', '2509311', '2520783', '2547044', '2547348', '2503963', '2562412', '2520759', '2504833', '2536053', '2516104', '2558407', '2527875', '2557146', '2564001', '2517233', '2562817', '2523361', '2523026', '2507086', '2522664', '2522490', '2558173', '2550831', '2327577', '2534959', '2458692', '2524480', '2527822', '2545083', '2506119', '2555625', '2569397', '2553515', '2503761', '2530899', '2569868', '2464850', '2484811', '2506332', '2540771', '2561931', '2565339', '2554727', '2513739', '2555035', '2511457', '2552743', '2513514', '2535958', '2499377', '2508101', '2554028', '2549427', '2395775', '2557085', '2567625', '2414423', '2545419', '2520564', '2207125', '2504188', '2510497', '2507263', '2509258', '2539755', '2565269', '2517398', '2511202', '2561467', '2543950', '2511138', '2552911', '2547529', '2544335', '2508914', '2529967', '2530263', '2530576', '2537820', '2543732', '2567955', '2537047', '2549898', '2570552', '2555171', '2530768', '2562624', '2529732', '2540703', '2529641', '2554127', '2558991', '2559699', '2549296', '2534667', '2329000', '2531672', '2458761', '2505278', '2561791', '2537930', '2271596', '2531044', '2564750', '2528361', '2502048', '2523695', '2568453', '2495719', '2557151', '2554344', '2551568', '2532478', '2378448', '2515369', '2508400', '2527954', '2560567', '2542870', '2526898', '2554174', '2566143', '2541028', '2530977', '2518979', '2561863', '2559983', '2558370', '2521201', '2236269', '2536017', '2548676', '2527860', '2540080', '2551140', '2512393', '2509769', '2514860', '2501126', '2514255', '2539041', '2521551', '2522109', '2555989', '2558262', '2518203', '2507281', '2563265', '2455001', '2513815', '2513731', '2515391', '2512731', '2554892', '2526810', '2480589', '2556878', '1499851', '1297027', '2569153', '2472622', '2560832', '2556297', '2552959', '2544728', '2475227', '2510568', '2520080', '2527661', '2534723', '2543259', '2542337', '2558359', '2547516', '2523473', '2552713', '2462997', '2556529', '2512087', '2559546', '2545048', '2516182', '2544156', '2552641', '2515508', '2553740', '2500576', '2568301', '2539320', '2231290', '2530582', '2507444', '2512496', '2531802', '2560730', '2532010', '2456441', '2567211', '2508733', '2549790', '2526525', '2431771', '2529741', '2542570', '2496575', '2535968', '2563920', '2546333', '2554890', '2514264', '2561207', '2556641', '2548289', '2542476', '2569529', '2486215', '2514069', '2530567', '2565262', '2541388', '2567143', '2558022', '2524762', '2555045', '2509463', '2284082', '2523485', '2540206', '2545910', '2508041', '2526033', '2559852', '2562983', '2563304', '2512719', '2285707', '2170581', '2518840', '2545717', '2523512', '2557139', '2526098', '2559582', '2525224', '2567667', '2515523', '2519410', '2556903', '2569977', '2525034', '2504034', '2516698', '2564912', '2558674', '2481677', '2520938', '2568809', '2561673', '2215088', '2526478', '2505462', '2522183', '2529883', '2524979', '2501001', '2530435', '2554793', '2567699', '2557459', '2505558', '2568590', '2540330', '2509080', '2513177', '2541538', '2547902', '2539212', '2542213', '2522171', '2537622', '2550701', '2314110', '2506867', '2549697', '2564979', '2548012', '2520635', '2510295', '2562006', '2550864', '2538575', '2558434', '2557479', '2552395', '2546546', '2563220', '2430177', '2555122', '2557166', '2519578', '2530821', '2502052', '2515193', '2192329', '2564136', '2547362', '2517156', '2524963', '2504734', '2512214', '2537822', '2553388', '2523936', '2560163', '2547010', '2560678', '2536250', '2555150', '2512772', '2553637', '2542510', '1134838', '2563354', '2510412', '2553850', '2510606', '2538749', '2565255', '2513633', '2545237', '2537672', '2530904', '2504126', '2505533', '2529457', '2545645', '2317612', '2560500', '2555653', '2543987', '2475848', '2522731', '2519168', '2531285', '2551330', '2569088', '2517080', '2525157', '2569016', '2538543', '2552732', '2534446', '2554447', '2518508', '2520422', '2566209', '2528633', '2569322', '2519298', '2569587', '2568713', '2516387', '2563465', '2548065', '2513931', '2506410', '2511199', '2554644', '2530692', '2515909', '2541710', '2542721', '2529792', '2541033', '2547101', '2503833', '2546660', '2522155', '2511542', '2530539', '2525916', '2512106', '2552612', '2504430', '2519259', '2548090', '2535462', '2548688', '2545376', '2507983', '2517502', '2522867', '2554612', '2516802', '2534399', '2525279', '2557357', '2530486', '2512236', '2538780', '2562028', '2506351', '2506283', '2504438', '2509731', '2465293', '2525637', '2543960', '1335915', '2500701', '2552196', '2522697', '2570413', '2413493', '2558111', '2566506', '2547117', '2549519', '2537221', '2562146', '2564288', '2529972', '2545673', '2533918', '2556894', '2555097', '2557939', '2554552', '2528833', '2516355', '2500561', '2497891', '2551643', '2517772', '2505390', '2520456', '2548397', '2508836', '2496994', '2542188', '2517191', '2543445', '2538199', '2532093', '2528269', '2526747', '2559696', '2551846', '2532425', '2524731', '2522708', '2543263', '2504761', '2560305', '2390345', '2556424', '2562080', '2556376', '2570514', '2537115', '2559833', '2485318', '2538062', '2553726', '2547418', '2510862', '2551352', '2548261', '2523388', '2542605', '2569595', '2551573', '2557867', '2520615', '2546359', '2560552', '2518540', '2520586', '2542480', '2509735', '2527267', '2539866', '2525145', '2514425', '2502898', '2532288', '2510915', '2552416', '2512491', '2513766', '2238733', '2521038', '2549166', '2205429', '2519622', '2564952', '2532918', '2546370', '2544766', '2524463', '2551363', '2536334', '2518709', '2536654', '2562084', '2278707', '2559004', '2546848', '2562202', '2552164', '2537718', '2541105', '2488495', '2518816', '2569035', '2539996', '2531489', '2554672', '2566297', '2533263', '2511019', '2567853', '2518557', '2520677', '2522226', '2560048', '2527873', '2513292', '2522694', '2468898', '2504745', '2564856', '2524645', '2544133', '2520686', '2562296', '2522417', '2537830', '2535687', '2519052', '2528435', '2512840', '2412384', '2545623', '2501236', '2527429', '2531055', '2487563', '2511570', '2530313', '2554385', '2276085', '2510795', '2521049', '2566332', '2512767', '2512469', '2530608', '2518524', '2482829', '2529209', '2535495', '2548200', '2542417', '2552661', '2552550', '2547786', '2455014', '2509286', '2559622', '2543968', '2543368', '1419883', '1422224', '2507851', '2513951', '1079643', '1241079', '2510297', '2546771', '2518681', '2512311', '2566058', '2557142', '2508549', '2554374', '2505737', '2556501', '2562769', '2553641', '2518262', '2564471', '2547953', '2543676', '2561480', '2560592', '2568558', '2562751', '2538167', '2560489', '2124775', '2557193', '2565530', '2566268', '2506491', '2554225', '2537416', '2489448', '2538721', '2568348', '2515763', '2505340', '2529947', '2508912', '2552097', '2455089', '2537867', '2550486', '2545884', '2517214', '2550420', '2547281', '2553042', '2530278', '2394482', '2534210', '2538634', '2562844', '2559710', '2539172', '2513801', '2563820', '2562808', '2531030', '2519767', '2557857', '2525453', '2509280', '2556849', '2549446', '2563921', '2515498', '2552876', '2562715', '2566676', '2507123', '2501935', '2524113', '2516976', '2528249', '2272989', '2535837', '2530573', '2511798', '2549305', '2511533', '2554719', '2543419', '2540185', '2251279', '2506998', '2450009', '2548046', '2558682', '2531070', '2557338', '2547951', '2552454', '2524025', '2519335', '2559517', '2560882', '2556707', '2559524', '2432622', '2512324', '2527853', '2234892', '2527783', '2549395', '2564647', '2568903', '2504446', '2554554', '2538246', '2567665', '2503758', '2422516', '2538146', '2557186', '2443806', '2513252', '2540694', '2558627', '2549743', '2506964', '2477166', '2559668', '2534664', '2566605', '2564059', '2542719', '2526624', '2544769', '2540496', '2543297', '2511980', '2562212', '2560208', '2362231', '2557984', '2504626', '2527371', '2515551', '2567076', '2506910', '2537450', '2513750', '2520610', '2528431', '2555410', '2514526', '2548869', '2532350', '2547906', '2548498', '2542795', '2517943', '2505032', '2511206', '2531591', '2518865', '2553570', '2517202', '2549715', '2541421', '2537266', '2506949', '2531154', '2538865', '2556977', '2544592', '2546594', '2535085', '2496921', '2509663', '2530818', '2518921', '2543235', '2521943', '2554742', '2563905', '2551412', '2569049', '2555668', '2414410', '2507207', '2569828', '2507184', '2567807', '2570484', '2538825', '2561360', '2520333', '2402132', '2521465', '2507770', '2568899', '2532553', '2528462', '2557543', '2539924', '2555952', '2486791', '2539032', '2550054', '2565278', '2504925', '2536018', '2504078', '2536732', '2569337', '2528598', '2545259', '2565825', '2334367', '2512258', '2555278', '2517268', '2565178', '2545019', '2533662', '2533399', '2509784', '2524976', '2508636', '2538769', '2506849', '2567353', '2562313', '2525871', '2547672', '2517616', '2520937', '2537542', '2518280', '2459901', '2507849', '2517129', '2549270', '2545224', '2564457', '2530190', '2512791', '2530262', '2505285', '2504400', '2543779', '2518365', '2515823', '2564304', '2543772', '2546447', '2556644', '2507573', '2551472', '2528769', '2568221', '2563351', '2522968', '2533709', '2532905', '2519761', '2541204', '2522010', '2533348', '2568268', '2513890', '2515499', '2543163', '2509381', '2527248', '2521584', '2568619', '2508085', '2560618', '2552772', '2532649', '2509705', '2527728', '2568045', '2565199', '2532174', '2570096', '2565923', '2528274', '2526155', '2560626', '2475305', '2559783', '2511823', '2510668', '2521158', '2517052', '2505040', '2541750', '2556561', '2541632', '2536780', '2548348', '2478842', '2518854', '2520408', '2542810', '2523500', '2566716', '2322987', '2528535', '2469006', '2540449', '2509225', '2512725', '2492006', '2527686', '2558905', '2515528', '2562779', '2563825', '2554599', '2525341', '2315789', '2527651', '2508922', '2518943', '2560023', '2508040', '2519462', '2556859', '2495735', '2560620', '2529780', '2517553', '2524061', '2559908', '2539873', '2531562', '2552319', '2506067', '2536938', '2518845', '2556792', '2508656', '2516624', '2523548', '2512956', '2522071', '2504699', '2564322', '2535287', '2566232', '2505702', '2534938', '2560234', '2504401', '2524040', '2536565', '2520689', '2385463', '2537472', '2565127', '2521371', '2479650', '2561167', '2513482', '2537815', '2552707', '2522431', '2518050', '2531878', '2509389', '2504824', '2545515', '2248073', '2526058', '2508087', '2519590', '2556800', '2503751', '2511213', '2513905', '2531667', '2508962', '2529716', '2528619', '2517728', '2551638', '2532927', '2515258', '2552362', '2562943', '2560655', '2524557', '2534796', '2569027', '2527235', '2505981', '2556533', '2565812', '2525835', '2546485', '2569782', '2565520', '2554711', '2249012', '2504959', '2537520', '2532167', '2485503', '2510601', '2424148', '2508628', '2530370', '2558819', '2523317', '2559767', '2544557', '2540145', '2464275', '2561599', '2558326', '2515083', '2551854', '2515441', '2554688', '2488036', '2536160', '2510296', '2561451', '2531368', '2506741', '2522471', '2550668', '2566876', '2539681', '2505401', '2514079', '2566193', '2553283', '2558841', '2511628', '2529217', '2541365', '2559841', '2541492', '2566858', '2553842', '2563907', '2530880', '2544586', '2550743', '2563256', '2535633', '2540886', '2568760', '2555522', '2506915', '2535540', '2538561', '2568218', '2559795', '2527296', '2523181', '2395747', '1082488', '1995792', '1576832', '1727565', '2564887', '2541667', '2475671', '2528467', '2307131', '2557183', '2506353', '2531917', '2518965', '2525843', '2567447', '2552704', '2509323', '2517225', '2552409', '2544293', '2230665', '2510558', '2538024', '2538824', '2510482', '2434662', '2510608', '2556558', '2548473', '2568656', '2505321', '2464432', '2535965', '2543956', '2568914', '2565486', '2157198', '2517700', '2513836', '2519390', '2510387', '2538571', '2521587', '2527557', '2554313', '2555472', '2534637', '2561799', '2562000', '2514928', '2515650', '2542540', '2566148', '2517504', '2546157', '2528285', '2524833', '2517993', '2566424', '2564113', '2553108', '2505432', '2564598', '2250140', '2524290', '2551435', '2564676', '2520995', '2568495', '2559451', '2541699', '2547955', '2548368', '2547831', '2512643', '2534851', '2538791', '2558236', '2554323', '2510789', '2524191', '2568811', '2530801', '2525677', '2515065', '2528569', '2568657', '2533416', '2386028', '2553533', '2518584', '2549522', '2504372', '2513232', '2545598', '2489361', '2539547', '2499233', '2541794', '2524786', '2570695', '2511284', '2555369', '2522245', '2516952', '2507794', '2503919', '2511520', '2485171', '2515586', '2517874', '2544456', '2544916', '2551239', '2561917', '2417016', '2556434', '2562135', '2504140', '2514529', '2530634', '2457263', '2511421', '2532743', '2543592', '2548815', '2296162', '2515742', '2515411', '2500358', '2541470', '2505577', '2519250', '2532546', '2530158', '2287864', '2517314', '2547771', '2553032', '2537840', '2516990', '2560895', '2550513', '2539210', '2510594', '2550241', '2565475', '2541456', '2532741', '2544808', '2531646', '2559010', '2556922', '2557503', '2480653', '2558951', '2567232', '2509560', '2507400', '2510529', '2537333', '2569598', '2530521', '2556357', '2542078', '2261991', '2547186', '2534208', '2514547', '2517579', '2520614', '2526375', '2542321', '2481787', '2511346', '2510858', '2449979', '2547442', '2258306', '2554468', '2560076', '2537790', '2519583', '2569765', '2567427', '2520083', '2542753', '2533450', '2529178', '2552457', '2547576', '2527594', '2519086', '2532971', '2412914', '2562062', '2534740', '2533573', '2528900', '2526388', '2473137', '2568598', '2557992', '2519785', '2528206', '2534881', '2564973', '2547716', '2544106', '2516711', '2547542', '2523978', '2532077', '2524299', '2513734', '2540393', '2554511', '2560303', '2518725', '2555628', '2527591', '2503985', '2555846', '2566432', '2566200', '2565843', '2528808', '2543239', '2506774', '2474821', '2410364', '2175220', '2538038', '2521573', '2516763', '2517213', '2561079', '2567519', '2537509', '2554959', '2468059', '2561458', '2564440', '2316646', '2555959', '2529796', '2519095', '2528799', '2525700', '2554153', '2385372', '2529735', '2558436', '2490983', '2556585', '2516803', '2513649', '2436664', '2555054', '2504891', '2549100', '2507955', '2524774', '2507309', '2540074', '2553511', '2549580', '2524796', '2570198', '2522483', '2544356', '2513808', '2551255', '2558414', '2541764', '2565565', '2515250', '2250070', '2554071', '2522206', '2561737', '2537399', '2557056', '2559499', '2562770', '2535507', '2559102', '2520538', '2550443', '2512513', '2517183', '2559241', '2532017', '2565838', '2505562', '2506858', '2536415', '2530230', '2529104', '2565984', '2543815', '2532105', '2521233', '2505786', '2536132', '2535254', '2546046', '2523345', '2131905', '2538212', '2504035', '2529609', '2514011', '2545677', '2554482', '2537990', '2556826', '2440025', '2517523', '2565885', '2528049', '2540805', '2523043', '2508944', '2551416', '2532044', '2551463', '2520616', '2537735', '2555232', '2569676', '2543318', '2528403', '2535685', '2529860', '2520119', '2508249', '2566517', '2551275', '2508627', '2505235', '2508607', '2521994', '2543292', '2445251', '2551877', '2558000', '2541401', '2525344', '2532264', '2215244', '2569042', '2565703', '2568561', '2567594', '2565271', '2544740', '2514151', '2398390', '2522362', '2537316', '2554614', '2545568', '2516324', '2526104', '2552132', '2512416', '2565889', '2548049', '2556258', '2412319', '2507166', '2531476', '2529416', '2522565', '2519071', '2520407', '2512181', '2513848', '2525006', '2545248', '2515166', '2555637', '2526547', '2530625', '2541219', '2511368', '2524261', '2508921', '2560005', '2552494', '2515718', '2145598', '2556902', '2520191', '2541224', '2562335', '2554597', '2520461', '2507001', '2308326', '2537464', '1692074', '2506839', '2569136', '2555504', '2551783', '2528187', '2531784', '2507779', '2520356', '2556475', '2548470', '2541785', '2547959', '2526020', '2540533', '2527201', '2523014', '2564418', '2563221', '2531997', '2562140', '2526112', '2537686', '2550196', '2548842', '2296641', '2516255', '2538118', '2510449', '2507049', '2567673', '2517288', '2517067', '2521797', '2561003', '2560923', '2510546', '2557043', '2560238', '2521944', '2537513', '2529297', '2557465', '2558661', '2513767', '2527306', '2550534', '2557217', '2532130', '2548207', '2529893', '2542768', '2554284', '2518136', '2518644', '2508958', '2568242', '2540852', '2563460', '2535348', '2544693', '2523466', '2452137', '2567809', '2552621', '2556830', '2568069', '2545126', '2545871', '2559067', '2403112', '2518480', '2547956', '2563369', '2516224', '2534333', '2516685', '2534069', '2517926', '2531938', '2521285', '2550940', '2547528', '2563966', '2567126', '2545295', '2546214', '2562515', '2534963', '2505007', '2503854', '2560331', '2464785', '2501912', '2506312', '2557061', '2541705', '2513797', '2534023', '2522110', '2520117', '2568750', '2553096', '2532552', '2569052', '2513088', '2565397', '2508306', '2520226', '2524341', '2507230', '2555761', '2503880', '2528624', '2561414', '2336709', '2527455', '2508234', '2543810', '2540574', '2561698', '2524242', '2552314', '2535663', '2511975', '2516115', '2519784', '2514877', '2566182', '2560018', '2523743', '2481550', '2518767', '2414129', '2509038', '2556432', '2547395', '2560771', '2542199', '2512461', '2546500', '2515338', '2504531', '2564184', '2526955', '2530369', '2561594', '2570688', '2513945', '2554205', '2547792', '2521605', '2518497', '2549472', '2550660', '2568744', '2508388', '2507329', '2546926', '2537065', '2567790', '2527233', '2524067', '2512531', '2518419', '2558870', '2536167', '2528026', '2485027', '2567150', '2519843', '2546682', '2555692', '2514036', '2538141', '2504106', '2554084', '2568565', '2519484', '2552718', '2549921', '2395996', '2508615', '2568898', '2374442', '2525068', '2515879', '2520167', '2517028', '2513507', '2560316', '2551779', '2534003', '2532901', '2552040', '2514152', '2566064', '2534560', '2526265', '2555849', '2535263', '2570043', '2557923', '2527295', '2509299', '2528167', '2533830', '2548260', '2462489', '2540001', '2564151', '2504639', '2536666', '2552635', '2543127', '2541882', '2530516', '2558305', '2554628', '2550094', '2506233', '2519174', '2524167', '2547263', '2539650', '2550374', '2515398', '2527924', '2519510', '2548243', '2541569', '2532941', '2521824', '2543024', '2505632', '2523953', '2567190', '2558433', '2531451', '2551938', '2553626', '2565718', '2541876', '2508730', '2133383', '2537776', '2521078', '2549884', '2528773', '2559689', '2533249', '2540993', '2559395', '2489220', '2537712', '2535149', '2512559', '2503682', '2527624', '2528077', '2558733', '2515761', '2530258', '2530917', '2568905', '2565653', '2560027', '2569458', '2538397', '2412256', '2536080', '2288560', '2550316', '2541484', '2543439', '2547173', '2552289', '2536202', '2536090', '2523975', '2560273', '2533292', '2567036', '2569449', '2543652', '2556635', '2544082', '2538090', '2553481', '2526556', '2532227', '2523451', '2539475', '2512771', '2552557', '2528122', '2555188', '2475145', '2503927', '2530195', '2509478', '2526505', '2540246', '2139040', '2537002', '2560364', '2538147', '2564370', '2513226', '2518485', '2502264', '2513686', '2560865', '2501491', '2465448', '2560850', '2561068', '2554411', '2533356', '2529712', '2519340', '2561390', '2539226', '2525229', '2520426', '2534049', '2556695', '2562493', '2541460', '2515693', '2559600', '2554279', '2300984', '2555187', '2562555', '2540230', '2505941', '2558874', '2565912', '2565685', '2509159', '2545571', '2515735', '2532333', '2509234', '2413359', '2561777', '2552839', '2550079', '2532643', '2533723', '2525786', '2560657', '2568941', '2531059', '2559264', '2512490', '2553181', '2562783', '2508824', '2479820', '2540502', '2494418', '2569990', '2530277', '2448565', '2384400', '2541572', '2548926', '2530528', '2490328', '2535975', '2539379', '2511147', '2557807', '2555270', '2526250', '2526927', '2528400', '2544980', '2513489', '2526817', '2536371', '2530757', '2533427', '2536028', '2523145', '2507944', '2473674', '2564484', '2545135', '2525509', '2508537', '2520201', '2508408', '2524058', '2518980', '2529757', '2559424', '2518461', '2528747', '2527719', '2558787', '2508750', '2516243', '2554971', '2545468', '2512377', '2523616', '2535469', '2557819', '2554827', '2514201', '2568725', '2144307', '2517455', '2564203', '2565543', '2550102', '2544648', '2516244', '2556380', '2526802', '2563392', '2525502', '2543522', '2549996', '2565914', '2531711', '2544026', '2509924', '2568787', '2545244', '2544793', '2542957', '2521317', '2518683', '2561563', '2528775', '2548786', '2525675', '2538826', '2569823', '2550115', '2506062', '2131285', '2532429', '2556556', '2319852', '2512190', '2561806', '2553947', '2530825', '2488011', '2515937', '2508483', '2555426', '2554486', '2519563', '1896257', '1110254', '2034338', '1556635', '1112910', '2493703', '2546316', '2558601', '2560028', '2556914', '2570144', '2540054', '2520682', '2552504', '2510375', '2522167', '2514838', '2530296', '2518828', '2566931', '2565111', '2514635', '2528130', '2478964', '2517034', '2521939', '2558344', '2563391', '2514782', '2552193', '2565929', '2536187', '2531953', '2534479', '2533688', '2542093', '2539613', '2507104', '2547521', '2539704', '2507017', '2524312', '2557351', '2568425', '2530779', '2458553', '2567379', '2513214', '2543728', '2543558', '2523924', '2533526', '2552618', '2515303', '2563947', '2517356', '2524843', '2196537', '2520662', '2569879', '2558553', '2561702', '2355576', '2560069', '2528074', '2542117', '2523996', '2518915', '2516185', '2516372', '2554780', '2549196', '2544596', '2533738', '2557256', '2293990', '2569005', '2505939', '2558235', '2561716', '2550002', '2434582', '2565360', '2545672', '2503106', '2539355', '2562962', '2549122', '2541169', '2566475', '2559450', '2543099', '2557781', '2511699', '2503947', '2500671', '2508905', '2508677', '2507307', '2281985', '2514492', '2530274', '2420987', '2518971', '2555992', '2528676', '2513969', '2504342', '2531323', '2531872', '2504347', '2512193', '2541231', '2472037', '2515114', '2470610', '2539061', '2520939', '2522283', '2549712', '2513881', '2508927', '2529138', '2525629', '2528413', '2553584', '2534540', '2543609', '2568395', '2411791', '2530733', '2536052', '2534554', '2564959', '2561209', '2515039', '2553265', '2506788', '2517215', '2520013', '2523503', '2549283', '2538923', '2506383', '2539815', '2537078', '2551391', '2528765', '2506056', '2540229', '2517312', '2509057', '2536809', '2565502', '2566400', '2548249', '2536742', '2522103', '2559798', '2540346', '2553148', '2522129', '2542249', '2530974', '2526274', '2530106', '2511789', '2552582', '2528730', '2536569', '2505636', '2568859', '2556731', '2505989', '2546067', '2569269', '2503909', '2561710', '2530786', '2525996', '2553981', '2529847', '2550570', '2515075', '2480960', '2525421', '2515098', '2453148', '2504053', '2563785', '2532104', '2550900', '2517780', '2564434', '2543911', '2506326', '2503802', '2528987', '2569006', '2540653', '2544300', '2527935', '2509469', '2535390', '2528901', '2534583', '2537766', '2551340', '2523902', '2567235', '2543405', '2517969', '2510279', '2568227', '2531707', '2535370', '2562240', '2541545', '2506540', '2537405', '2553920', '2537899', '2534528', '2561939', '2563974', '2519444', '2547116', '2562072', '2556264', '2359633', '2517781', '2504924', '2563718', '2549763', '2506178', '2503786', '2566714', '2522716', '2544706', '2536191', '2545492', '2534407', '2508792', '2566952', '2506183', '2543599', '2554498', '2419367', '2514450', '2559619', '2551751', '2557582', '2537227', '2561248', '2527647', '2435061', '2509726', '2517361', '2522058', '2548156', '2524153', '2550088', '2563381', '2558829', '2541634', '2557577', '2560372', '2552810', '2532699', '2553057', '2400641', '2544154', '2550594', '2564427', '2516581', '2517854', '2540235', '2501553', '2528309', '2531189', '2544316', '2566997', '2516946', '2538695', '2440995', '2567913', '2511588', '2514601', '2516368', '2542204', '2443688', '2557263', '2537355', '2525670', '2547661', '2562131', '2388507', '2514787', '2552023', '2542642', '2567557', '2528915', '2560391', '2517816', '2505144', '2532009', '2440947', '2509002', '2518276', '2543524', '2533672', '2528762', '2563268', '2547843', '2569060', '2509051', '2371489', '2556688', '2543442', '2553546', '2281442', '2536476', '2518113', '2519356', '2524884', '2410500', '2465407', '2535455', '2485409', '2516358', '2505453', '2555906', '2546707', '2523347', '2510318', '2511865', '2528597', '2564404', '2547840', '2555104', '2549886', '2533769', '2504281', '2546407', '2553350', '2558664', '2520520', '2515402', '2557865', '2536095', '2507276', '2506911', '2504614', '2529834', '2172463', '2520643', '2530935', '2547808', '2533614', '2517735', '2567474', '2510478', '2524634', '2514722', '2528590', '2559737', '2527002', '2520255', '2541644', '2568891', '2504646', '2500607', '2552994', '2528296', '2507906', '2521821', '2339386', '2512427', '2528208', '2547599', '2528128', '2536116', '2510249', '2550753', '2531674', '2525455', '2506401', '2399340', '2527523', '2566780', '2511442', '2541274', '2530509', '2538111', '2528860', '2563175', '2547871', '2555486', '2549507', '2481295', '2532772', '2510494', '2547928', '2562368', '2558534', '2293278', '2536638', '2533233', '2546720', '2566368', '2559544', '2520433', '2509448', '2534019', '2563641', '2519755', '2489178', '2515005', '2554627', '2563666', '2557317', '2541603', '2546855', '2550978', '2513566', '2567446', '2494286', '2514010', '2328361', '2503937', '2512240', '2536613', '2549544', '2507413', '2565687', '2514493', '2505494', '2508539', '2531728', '2493482', '2558410', '2550411', '2503679', '2519731', '2506605', '2556574', '2524680', '2538276', '2547024', '2538621', '2541893', '2505838', '2541111', '2555389', '2538088', '2550988', '2527770', '2544754', '2532622', '2548222', '2532115', '2506751', '2550625', '2528723', '2525682', '2533492', '2550791', '2544622', '2540324', '2561426', '2568904', '2522399', '2544431', '2563395', '2514835', '2532245', '2546368', '2527528', '2509739', '2565165', '2524711', '2526678', '2532974', '2511931', '2515038', '2569090', '2527395', '2522154', '2513636', '2550178', '2557429', '2514839', '2493925', '2548307', '2565378', '2507255', '2553029', '2566874', '2517387', '2523892', '2545576', '2547157', '2532079', '2508818', '2539447', '2552946', '2537855', '2529805', '2387065', '2521102', '2508870', '2507438', '2568540', '2546967', '2551122', '2550384', '2521328', '2516135', '2560006', '2533643', '2563019', '2499520', '2560484', '2526022', '2552672', '2504220', '2550031', '2544637', '2556495', '2561581', '2562206', '2529052', '2544577', '2561028', '2429263', '2514286', '2508411', '2164413', '2526588', '2512679', '2555349', '2549941', '2521740', '2553810', '2514599', '2506923', '2569133', '2512959', '2539435', '2559041', '2543629', '2530697', '2528801', '2542038', '2523894', '2570443', '2520630', '2552403', '2521128', '2538287', '2527832', '2567034', '2512129', '2524225', '2439260', '2512351', '2529955', '2515367', '2530910', '2566415', '2569178', '2555497', '2540488', '2520166', '2511863', '2142379', '2566380', '2533827', '2504853', '2559879', '2561824', '2502632', '2523840', '2538635', '2513046', '2539327', '2531978', '2551206', '2518777', '2505995', '2570054', '2511038', '2554632', '2507238', '2522019', '2551482', '2504292', '2557394', '2518899', '2525833', '2553425', '2534420', '2537689', '2492128', '2545180', '2444821', '2518592', '2569254', '2512892', '2540995', '2569465', '2531222', '2474644', '2534836', '2558201', '2528291', '2542142', '2524441', '2567448', '2457147', '2560382', '2504525', '2519849', '2531653', '2547961', '2559997', '2513230', '2570331', '2424452', '2542083', '2493070', '2545852', '2539576', '2504187', '2559333', '2527227', '2550615', '2531118', '2563159', '2533725', '2505600', '2371929', '2525717', '2514709', '2559477', '2568288', '2555791', '2513092', '2524119', '2517313', '2569253', '2374654', '2566013', '2556202', '2512176', '2522197', '2538261', '2504933', '1507816', '2528742', '2550852', '2525940', '2547066', '2507535', '2526345', '2539184', '2553625', '2517413', '2482062', '2561920', '2370338', '2540233', '2521998', '2548351', '2529704', '2542542', '2517512', '2522879', '2535856', '2549665', '2569788', '2534261', '2542219', '2556255', '2550039', '2510977', '2532730', '2507574', '2468600', '2530438', '2509282', '2492047', '2524217', '2556485', '2565804', '2545716', '2561955', '2569391', '2533131', '2536903', '2514643', '2523384', '2500682', '2532128', '2487348', '2558670', '2554940', '2154705', '2541941', '2539105', '2513361', '2514353', '2557702', '2532864', '2537751', '2514333', '2566650', '2545524', '2543274', '2542532', '2559957', '2530513', '2549277', '2507417', '2559673', '2514509', '2545778', '2520452', '2541516', '2532569', '2505649', '2511385', '2566178', '2540483', '2534555', '2482353', '2548258', '2546147', '2505284', '2551065', '2541921', '2532880', '2569457', '2516989', '2537089', '2504274', '2533206', '2510852', '2537562', '2545296', '2543005', '2556147', '2568135', '2507014', '2563372', '2535203', '2539309', '2516886', '2528225', '2504930', '2555103', '2528727', '2535259', '2532380', '2562584', '2560788', '2506240', '2542592', '2564394', '2561875', '2411562', '2504363', '2509687', '2516420', '2526682', '2502205', '2331649', '2544190', '2561096', '2543490', '2548781', '2515186', '2537249', '2527368', '2550475', '2517909', '2508688', '2536744', '2522688', '2548191', '2537783', '2431936', '2518717', '2383878', '2125765', '2518583', '2540428', '2559896', '2569479', '2537971', '2515992', '2550289', '2561956', '2540011', '2196555', '2543583', '2561694', '2508700', '2504859', '2510989', '2547506', '2544283', '2518664', '2520885', '2560092', '2563669', '2522338', '2489647', '2551145', '2547369', '2462041', '2564232', '2552495', '2568311', '2562321', '2501679', '2529397', '2550632', '2516017', '2569659', '2508231', '2555143', '2504852', '2425608', '2555663', '2557042', '2428104', '2525925', '2527867', '2517787', '2531800', '2541405', '2519285', '2517101', '2531516', '2549300', '2557067', '2507345', '2516461', '2560292', '2507430', '2558311', '2550563', '2532117', '2235865', '1868834', '2208785', '2318803', '2516136', '2510457', '2535868', '2565142', '2520362', '2425085', '2545743', '2568876', '2497323', '2513947', '2522389', '2514048', '2545149', '2518652', '2511940', '2555190', '2511861', '2536152', '2515447', '2545613', '2532080', '2519941', '2567846', '2550996', '2560257', '2552501', '2551399', '2542584', '2527262', '2556624', '2267634', '2524066', '2507521', '2523968', '2519348', '2507455', '2552195', '2562934', '2506739', '2498272', '2556738', '2514120', '2512260', '2510481', '2526278', '2563802', '2561217', '2523916', '2559979', '2566811', '2525912', '2503768', '2560411', '2513340', '2543955', '2567662', '2547233', '2526636', '2516308', '2565606', '2512627', '2534806', '2513236', '2562450', '2540122', '2543123', '2545878', '2514870', '2531384', '2538551', '2557659', '2506851', '2531264', '2517104', '2561703', '2513108', '2565139', '2550566', '2520102', '2567078', '2497752', '2560098', '2565891', '2506495', '2563080', '2512920', '2551870', '2550583', '2548537', '2565084', '2522134', '2519619', '2517236', '2513379', '2535683', '2510001', '2545941', '2505279', '2507341', '2535295', '2534289', '2561318', '2533274', '2512814', '2531078', '2548081', '2532623', '2515824', '2545418', '2570534', '2520713', '2507719', '2531340', '2554065', '2538985', '2540124', '2320030', '2559739', '2548028', '2515530', '2554209', '2538519', '2512151', '2504222', '2550073', '2537101', '2568813', '2511194', '2533600', '2264789', '2566369', '2551562', '2523939', '2541301', '2551054', '2539865', '2504376', '2298728', '2521452', '2527208', '2528853', '2524308', '2557701', '2242748', '2523605', '2541434', '2523502', '2535538', '2504398', '2545406', '2507847', '2558713', '2556598', '2533754', '2530553', '2488655', '2518789', '2544547', '2559405', '2565408', '2558007', '2555737', '2560156', '2559860', '2567808', '2508186', '2534014', '2529160', '2532014', '2558184', '2534626', '2548437', '2549422', '2543927', '2503612', '2555461', '2511335', '2541396', '2552802', '2524306', '2538669', '2544294', '2524663', '2507675', '2567864', '2530253', '2570016', '2558037', '2516525', '2570036', '2565387', '2528027', '2530478', '2523231', '2558458', '2535391', '2563622', '2523052', '2553083', '2541834', '2515291', '2535223', '2537696', '2511407', '2518833', '2524367', '2504681', '2516092', '2515279', '2543601', '2555706', '2516962', '2566570', '2503834', '2531147', '2251371', '2519383', '2536323', '2525692', '2562760', '2557393', '2520497', '2540156', '2503872', '2528909', '2527836', '2231787', '2568963', '2452295', '2467058', '2515471', '2302920', '2529939', '2318674', '2482656', '2437754', '2551322', '2509281', '2512064', '2555779', '2551171', '2570686', '2532792', '2509322', '2535204', '2565506', '2558777', '2529317', '2567879', '2545316', '2510523', '2513783', '2528192', '2512862', '2527917', '2519774', '2549038', '2300655', '2450077', '2511799', '2561582', '2519587', '2532020', '2563595', '2508954', '2529092', '2508751', '2517368', '2540884', '2555801', '2560199', '2504867', '2525538', '2523380', '2515868', '2566898', '2539788', '2506976', '2550850', '2233638', '2526026', '2519282', '2513761', '2569148', '2525118', '2553044', '2556092', '2522876', '2567678', '2510653', '2553380', '2286910', '2567875', '2530252', '2509930', '2552702', '2556767', '2547490', '2545136', '2540347', '2553914', '2516880', '2531449', '2550510', '2467608', '2538279', '2401853', '2522176', '2512670', '2536247', '2554583', '2271543', '2562318', '2543833', '2560326', '2569795', '2544299', '2559352', '2556953', '2525779', '2382441', '2540020', '2517548', '2561324', '2543007', '2516267', '2507522', '2537610', '2563402', '2510786', '2443174', '2538831', '2570178', '2420670', '2517235', '2540580', '2553178', '2507242', '2562293', '2558945', '2562717', '2537107', '2554101', '2516843', '2551754', '2491283', '2562582', '2549725', '2556253', '2549753', '2538651', '2519545', '2535995', '2567240', '2550035', '2330609', '2528585', '2534157', '2549311', '2525241', '2568942', '2566046', '2539518', '2523944', '2504672', '2522743', '2540135', '2531753', '2530348', '2538599', '2550070', '2528289', '2536392', '2539119', '2509406', '2556645', '2565612', '2516933', '2565410', '2456070', '2513628', '2525275', '2486033', '2543374', '2531112', '2555099', '2442880', '2519098', '2474021', '2557999', '2568621', '2565007', '2546180', '2563620', '2543579', '2533642', '2508909', '2505975', '2557257', '2487351', '2548271', '2557717', '2530270', '2515007', '2541273', '2504535', '2570528', '2511738', '2543281', '2547700', '2547973', '2546472', '2536547', '2543327', '2236865', '2548270', '2528284', '2570156', '2534742', '2520794', '2504158', '2520420', '2548802', '2418210', '2565542', '2559866', '2550036', '2531426', '2518811', '2557201', '2503887', '2514026', '2546507', '2551081', '2512878', '2512995', '2557722', '2534778', '2559807', '2466764', '2517639', '2566560', '2280123', '1355970', '2362556', '2553774', '2510103', '2562826', '2556161', '2557445', '2505625', '2516883', '2520850', '2554541', '2521732', '2570424', '2538907', '2561065', '2552031', '2515639', '2504954', '2506944', '2504148', '2538393', '2544014', '2566728', '2525727', '2219963', '2525781', '2480493', '2539885', '2517755', '2560464', '2550001', '2476307', '2567455', '2532266', '2534033', '2545307', '2535198', '2515453', '2525963', '2557498', '2535881', '2558057', '2549449', '2521493', '2553882', '2435170', '2565161', '2508731', '2565921', '2542706', '2543475', '2564743', '2531685', '2566088', '2503513', '2492660', '2497781', '2505832', '2504889', '2558751', '2560386', '2529713', '2478876', '2233669', '2524102', '2542029', '2540209', '2538310', '2562871', '2548154', '2512476', '2564580', '2561145', '2508310', '2561269', '2555808', '2570310', '2567803', '2548192', '2524303', '2544384', '2537515', '2562600', '2564872', '2556847', '2570014', '2530849', '2519273', '2563748', '2530772', '2523925', '2540924', '2562195', '2534391', '2545718', '2552567', '2559274', '2518685', '2532575', '2507746', '2538448', '2553566', '2551694', '2520268', '2514207', '2536798', '2545671', '2552568', '2563873', '2569101', '2551855', '2557092', '2563079', '2538692', '2538014', '2548791', '2477614', '2538443', '2526358', '2538631', '2515778', '2522057', '2506802', '2501836', '2537299', '2533405', '2551904', '2551069', '2530670', '2509161', '2555459', '2544975', '2564990', '2229725', '2566787', '2493076', '2529840', '2563054', '2504738', '2379188', '2530339', '2567708', '2529483', '2540186', '2504581', '2544727', '2566791', '2535296', '2223288', '2567011', '2523359', '2561416', '2533188', '2536966', '2519716', '2507304', '2549579', '2563793', '2521701', '2503725', '2541757', '2544540', '2563409', '2538304', '2266417', '2541380', '2568995', '2509124', '2543591', '2505023', '2519068', '2569649', '2537297', '2565811', '2457827', '2517017', '2552159', '2491794', '2530712', '2550260', '2542478', '2504195', '2551426', '2511925', '2543920', '2514433', '2562794', '2527370', '2551534', '2470217', '2505379', '2557335', '2562529', '2535964', '2532090', '2560204', '2512083', '2179516', '2511317', '2397133', '2539384', '2515011', '2515691', '2506407', '2548603', '2539746', '2536180', '2550030', '2554931', '2516850', '2504282', '2535624', '2332562', '2511805', '2507007', '2527959', '2512306', '2539572', '2506368', '2537199', '2551558', '2562337', '2544779', '2568113', '2564044', '2528822', '2519882', '2482765', '2568436', '2567658', '2531514', '2542382', '2522159', '2562111', '2504413', '2564419', '2529184', '2528926', '2544363', '2539421', '2523432', '2561235', '2517048', '2547867', '2564689', '2490731', '2526948', '2524032', '2551493', '2537493', '2476282', '2506625', '2566061', '2508358', '2519360', '2513110', '2554326', '2552447', '2507575', '2551608', '2519759', '2547026', '2421989', '2545103', '2543966', '2514128', '2527957', '2569319', '2562056', '2507013', '2516940', '2554572', '2569339', '2540199', '2168627', '2543910', '2569538', '2522157', '2561400', '2557714', '2568147', '2552432', '2561446', '2520048', '2509279', '2541159', '2565908', '2517769', '2515984', '2550508', '2509838', '2539143', '2519220', '2537415', '2509883', '2526254', '2551011', '2525765', '2531773', '2566286', '2537329', '2566383', '2557529', '2490898', '2507658', '2537606', '2501870', '2519858', '2547944', '2554673', '2558545', '2547550', '2561833', '2557386', '2561712', '2558783', '2566961', '2553289', '2568041', '2566513', '2565899', '2507437', '2522424', '2523087', '2508597', '2541190', '2565046', '2531072', '2526661', '2545688', '2516784', '2546363', '2507561', '2515179', '2562909', '2556686', '2547960', '2512935', '2528511', '2543337', '2518321', '2561261', '2521651', '2537765', '2566593', '2550147', '2546361', '2537433', '2510009', '2527103', '2510477', '2554158', '2524865', '2568202', '2565540', '2557153', '2566419', '2557384', '2509717', '2516988', '2545444', '2521428', '2533403', '2494842', '2565314', '2515293', '2559676', '2537337', '2569787', '2528714', '2502805', '2561911', '2532220', '2518942', '2549180', '2513250', '2566929', '2543525', '2555001', '2520132', '2559263', '2528653', '2537502', '2556761', '2549960', '2530303', '2521542', '2527083', '2555506', '2536658', '2508833', '2512816', '2549493', '2503820', '2565956', '2515386', '2566764', '2543090', '2504092', '2557937', '2468081', '2546680', '2561157', '2522374', '2528474', '2552307', '2562437', '2570282', '2540264', '2556321', '2552542', '2528621', '2548310', '2521327', '2444816', '2535550', '2543234', '2530504', '2509777', '2563229', '2515989', '2557385', '2533807', '2521903', '2562572', '2472097', '2344452', '2545347', '2543613', '2569102', '2546433', '2563621', '2567738', '2521531', '2535985', '2550318', '2524469', '2568767', '1846861', '1394368', '1980759', '1027646', '1079400', '1189221', '2507315', '2511045', '2539899', '2569007', '2527406', '2528006', '2454528', '2538820', '2523126', '2507762', '2514180', '2570215', '2545650', '2533924', '2508725', '2509785', '2556103', '2452042', '2567899', '2560045', '2547640', '2450034', '2539062', '2550006', '2553184', '2559047', '2530488', '2510415', '2534678', '2548335', '2524383', '2556724', '2505191', '2565249', '2429558', '2204056', '2517021', '2556282', '2519354', '2570161', '2445214', '2519668', '2514397', '2439290', '2504659', '2562975', '2554805', '2506627', '2537601', '2530809', '2550424', '2562687', '2505564', '2536396', '2535341', '2530215', '2523657', '2560978', '2537073', '2562614', '2565225', '2526177', '2566158', '2422714', '2569155', '2566338', '2525380', '2535359', '2551110', '2563581', '2470041', '2541995', '2548394', '2562134', '2552216', '2559127', '2507591', '2531901', '2537124', '2539462', '2554291', '2545452', '2567145', '2530245', '2525714', '2554534', '2505588', '2537975', '2515066', '2479875', '2522373', '2559442', '2558469', '2521227', '2484918', '2542566', '2564363', '2526596', '2550229', '2547978', '2541489', '2537831', '2559412', '2525918', '2518258', '2538811', '2536448', '2518714', '2533484', '2532587', '2521253', '2569285', '2562327', '2528719', '2556890', '2564444', '2538520', '2541813', '2538768', '2540530', '2351165', '2553895', '2545621', '2556704', '2531850', '2544325', '2516642', '2515324', '2505446', '2551763', '2472740', '2514850', '2565421', '2540277', '2518472', '2514432', '2560596', '2508033', '2539593', '2541575', '2517145', '2535303', '2540279', '2526472', '2553153', '2533602', '2545219', '2442005', '2507920', '2538762', '2506355', '2554408', '2507567', '2536585', '2558314', '2522819', '2549023', '2529701', '2552437', '2516631', '2559296', '2553193', '2559867', '2559943', '2565667', '2543647', '2537214', '2562912', '2543189', '2314061', '2508543', '2511313', '2527503', '2506078', '2522834', '2558244', '2518212', '2527621', '2568936', '2538698', '2393372', '2567336', '2484730', '2526611', '2562986', '2570352', '2503960', '2536477', '2568105', '2564862', '2551881', '2530581', '2522944', '2541566', '2527977', '2515241', '2520470', '2520414', '2542625', '2516563', '2536941', '2526233', '2548535', '2526273', '2549233', '2501143', '2550784', '2538813', '2502853', '2527388', '2545222', '2517322', '2548671', '2511678', '2566631', '2523329', '2557615', '2510292', '2558562', '2512452', '2552742', '2550341', '2520714', '2528108', '2459905', '2547822', '2535566', '2529226', '2556786', '2515646', '2561849', '2463718', '2567880', '2567877', '2531300', '2533363', '2567855', '2535003', '2550901', '2570634', '2554495', '2559562', '2564415', '2558179', '2507888', '2515922', '2366957', '2544110', '2566407', '2506768', '2547644', '2507639', '2526008', '2545272', '2482311', '2556631', '2553834', '2556535', '2526259', '2510722', '2509709', '2566925', '2505058', '2513670', '2530487', '2557135', '2515421', '2521010', '2569271', '2538684', '2519825', '2508111', '2540720', '2547805', '2554973', '2558406', '2511236', '2515873', '2505316', '2532414', '2510231', '2564837', '2504406', '2545355', '2556784', '2512022', '2504766', '2509155', '2526864', '2508178', '2542685', '2535314', '2515477', '2565103', '2530597', '2533929', '2565568', '2542313', '2559128', '2542702', '2506220', '2535664', '2514674', '2567007', '2570435', '2524827', '2554289', '2515264', '2517736', '2531211', '2546426', '2539338', '2509251', '2540184', '2218607', '2556995', '2565902', '2528817', '2553971', '2506342', '2538414', '2390920', '2513999', '2561827', '2537209', '2556023', '2540803', '2518822', '2531470', '2518211', '2518887', '2539759', '2562336', '2513619', '2536815', '2552351', '2519346', '2503883', '2534776', '2527373', '2535760', '2569080', '2567963', '2524934', '2543526', '2502329', '2534362', '2560365', '2528751', '2562785', '2561638', '2522665', '2529463', '2558547', '2544947', '2407394', '2538096', '2529806', '2551879', '2339816', '2564008', '2524131', '2518658', '2560327', '2526871', '2512501', '2554995', '2514614', '2557002', '2532006', '2506905', '2558032', '2511414', '2530751', '2517644', '2523367', '2525013', '2522336', '2506371', '2548657', '2535468', '2538772', '2565765', '2513720', '2553282', '2561840', '2518698', '2564509', '2545447', '2533663', '2485262', '2509782', '2561130', '2508319', '2565407', '2503600', '2512567', '1027306', '1367818', '1265610', '2364500', '2548114', '1425113', '2534204', '2568434', '2543034', '2567629', '2539200', '2545117', '2228470', '2262233', '2533613', '2528721', '2506189', '2478643', '2527495', '2542005', '2551812', '2527080', '2536361', '2556164', '2516207', '2515830', '2546508', '2553346', '2520658', '2556281', '2539706', '2537613', '2562116', '2528185', '2513249', '2568342', '2509631', '2545739', '2512681', '2537952', '2560493', '2561644', '2511108', '2543280', '2510776', '2535083', '2529642', '2551864', '2555515', '2504108', '2552758', '2362291', '2532332', '2534326', '2521562', '2505723', '2546980', '2542521', '2568979', '2551802', '2512811', '2551587', '2523989', '2532963', '2566095', '2535491', '2547796', '2550067', '2545417', '2548038', '2528566', '2543238', '2163785', '2526914', '2538300', '2542945', '2552419', '2555940', '2521766', '2564504', '2504694', '2508308', '2536502', '2512521', '2486303', '2537603', '2545685', '2510548', '2507278', '2518436', '2550359', '2470172', '2513790', '2551987', '2532885', '2516013', '2547811', '2538995', '2555018', '2548939', '2539317', '2522986', '2415118', '2531377', '2541799', '2568494', '2551842', '2562347', '2507279', '2555031', '2531788', '2538476', '2537309', '2528955', '2507896', '2564235', '2480264', '2522006', '2554195', '2568778', '2544009', '2563689', '2516395', '2545469', '2487870', '2569734', '2534121', '2535470', '2525566', '2523963', '2494756', '2454513', '2519794', '2555521', '2530359', '2531790', '2553556', '2561916', '2515518', '2532021', '2564487', '2250692', '2511104', '2566857', '2557361', '2470476', '2531204', '2550549', '2501009', '2553485', '2524521', '2526949', '2506083', '2540776', '2543627', '2547900', '2517190', '2530152', '2513373', '2506420', '2536183', '2449557', '2527840', '2329669', '2553086', '2561965', '2527119', '2562260', '2552303', '2558387', '2528312', '2507747', '2547630', '2400614', '2525966', '2557176', '2549561', '2567163', '2525332', '2539745', '2395414', '2514346', '2521232', '2539438', '2548288', '2556238', '2380160', '2548083', '2557767', '2524491', '2519143', '2517659', '2507426', '2534802', '2559408', '2569940', '2537110', '2505490', '2524232', '2540784', '2522736', '2505835', '2567258', '2556672', '2522606', '2525225', '2447470', '2554410', '2513522', '2536244', '2527610', '2519963', '2517040', '2560171', '2525299', '2553219', '2563213', '2562222', '2505766', '2533393', '2566844', '2562320', '2566136', '2538783', '2553494', '2560666', '2515221', '2520510', '2558378', '2536625', '2519693', '2506921', '2545399', '2521417', '2530065', '2562480', '2554712', '2567560', '2527777', '2512740', '2567929', '2533106', '2545981', '2545592', '2526309', '2525497', '2551683', '2543298', '2508298', '2556088', '2539779', '2519920', '2426177', '2533758', '2553913', '2508964', '2518719', '2469067', '2545457', '2557112', '2554746', '2529042', '2518987', '2560625', '2508623', '2566236', '2541928', '2503386', '2505517', '2523476', '2524782', '2553633', '2517794', '2528697', '2554308', '2518116', '2514292', '2534564', '2523668', '2554566', '2539889', '2552087', '2508676', '2531378', '2545767', '2567580', '2536482', '2518529', '2529006', '2515647', '2516907', '2511543', '2530538', '2547618', '2476684', '2512647', '2473950', '2353266', '2520833', '2548279', '2542096', '2538716', '2509866', '2552244', '2554126', '2534455', '2541879', '2552125', '2504831', '2560260', '2541663', '2359806', '2521618', '2561091', '2547262', '2557825', '2468656', '2528717', '2565416', '2554456', '2182452', '2561489', '2525041', '2518106', '2530319', '2545247', '2514809', '2548313', '2528061', '2554915', '2526196', '2536069', '2547977', '2562488', '2538180', '2541901', '2351273', '2513972', '2514266', '2542175', '2551602', '2427552', '2538627', '2569589', '2567628', '2547382', '2314712', '2510453', '2543359', '2543741', '2518207', '2568832', '2558802', '2517562', '2569385', '2560252', '2546267', '2539298', '2512194', '2542492', '2545994', '2565894', '2550080', '2503300', '2510572', '2516949', '2552135', '2528625', '2525089', '2525726', '2508465', '2261070', '2183136', '2383988', '2538182', '2551528', '2505870', '2544632', '2536478', '2521034', '2515327', '2523169', '2569960', '2529172', '2537303', '2511428', '2547537', '2522385', '2547615', '2524791', '2505135', '2565392', '2555821', '2522352', '2568111', '2322389', '2551684', '2547865', '2521833', '2550312', '2509033', '2512137', '2525410', '2520427', '2510446', '2508504', '2514205', '2493569', '2529165', '2522507', '2179036', '2516194', '2517022', '2223163', '2515604', '2347141', '2533784', '2514825', '2535484', '2514900', '2550194', '2533300', '2525017', '2505520', '2427256', '2554720', '2563404', '2528847', '2529421', '2328035', '2215031', '1379237', '1127964', '2035345', '1097566', '2562633', '2562702', '2514684', '2427451', '2564921', '2505930', '2564347', '2565282', '2553789', '2531830', '2506035', '2567416', '2568291', '2510301', '2554426', '2522329', '2527228', '2523256', '2544830', '2562737', '2519380', '2537300', '2534046', '2541261', '2547616', '2451330', '2561602', '2170305', '2561372', '2557745', '2528234', '2533512', '2518389', '2563311', '2537978', '2449580', '2524095', '2567151', '2530629', '2527620', '2552691', '2539264', '2567989', '2559703', '2529459', '2562497', '2550242', '2569561', '2528830', '2544260', '2439385', '2547278', '2551514', '2454024', '2540247', '2562355', '2525405', '2530399', '2534589', '2505516', '2560289', '2508461', '2557155', '2557344', '2545809', '2559731', '2555754', '2513902', '2554035', '2530790', '2569790', '2552799', '2535267', '2550793', '2504865', '2556873', '2512438', '2537302', '2548765', '2520016', '2557082', '2558045', '2564007', '2563870', '2522875', '2512545', '2555077', '2545651', '2540301', '2527601', '2514912', '2540338', '2569393', '2512161', '2401966', '2529056', '2517980', '2521193', '2540684', '2561373', '2563173', '2522533', '2525400', '2541815', '2488806', '2553987', '2554164', '2568087', '2566715', '2504657', '2206701', '2506373', '2548155', '2511399', '2543003', '2262488', '2532566', '2504276', '2515547', '2544337', '2535650', '2517201', '2567692', '2525604', '2293994', '2173047', '2543200', '2561163', '2522214', '2465568', '2531924', '2546131', '2570478', '2564058', '2548075', '2556983', '2510433', '2566276', '2559317', '2525615', '2568752', '2504302', '2540227', '2532891', '2566106', '2565776', '2521791', '2565301', '2554380', '2567421', '2551284', '1703605', '2514554', '2500390', '2568734', '2517004', '2498313', '2565800', '2564260', '2539703', '2538821', '2524322', '2565232', '2526857', '2519546', '2513013', '2564315', '2543937', '2249549', '2524904', '2517982', '2490907', '2542628', '2505377', '2544050', '2525648', '2569371', '1610806', '2505383', '2512152', '2542156', '2548525', '2551926', '2508681', '2565043', '2517008', '2531274', '2522032', '2530297', '2519685', '2522213', '2531431', '2550658', '2568066', '2558226', '2556464', '2552242', '2556393', '2523221', '2528238', '2525099', '2433087', '2541579', '2560388', '2513632', '2556259', '2553995', '2502051', '2520584', '2543469', '2507176', '2516361', '2536212', '2539068', '2562650', '2561915', '2552498', '2525885', '2544035', '2503307', '2554623', '2445143', '2524171', '2557258', '2525523', '2519990', '2508846', '2510565', '2528798', '2543122', '2554407', '2450333', '2527530', '2183961', '2507333', '2523021', '2526346', '2534645', '2533650', '2527328', '2557566', '2565634', '2526797', '2389797', '2514617', '2517186', '2563493', '2534810', '2555217', '2505367', '2560988', '2537354', '2548797', '2522107', '2561745', '2520466', '2557241', '2568902', '2534697', '2509931', '2516867', '2505277', '2495393', '2337493', '2563667', '2539268', '2506445', '2512372', '2535169', '2557164', '2507128', '2549350', '2555854', '2529405', '2559375', '2527828', '2543802', '2563796', '2557969', '2568426', '2559013', '2529604', '2530804', '2532419', '2506453', '2543954', '2514083', '2541872', '2507927', '2559637', '2541503', '2536422', '2562420', '2555215', '2562136', '2475513', '2525622', '2289914', '2532160', '2555353', '2552593', '2546454', '2537349', '2561328', '2544450', '2548980', '2505353', '2568847', '2516286', '2507070', '2477812', '2550286', '2524655', '2519644', '2550232', '2557036', '2511723', '2551220', '2553182', '2511505', '2524733', '2548244', '2526543', '2539356', '2433685', '2541687', '2524812', '2530254', '2556944', '2570421', '2508349', '2534058', '2539669', '2533375', '2552354', '2535357', '2568739', '2564122', '2543677', '2544775', '2549425', '2538260', '2534923', '2511636', '2520908', '2515055', '2560071', '2564870', '2514615', '2565350', '2548005', '2503775', '2507810', '2535261', '2568329', '2520030', '2522905', '2569104', '2562486', '2565288', '2504881', '2529181', '2548160', '2563737', '2553617', '2560128', '2534734', '2541806', '2567026', '2513642', '2535919', '2528152', '2548350', '2537283', '2566750', '2515494', '2504142', '2558479', '2521508', '2568345', '2519726', '2546937', '2558002', '2509073', '2530626', '2511413', '2519417', '2568872', '2547922', '2556675', '2515390', '2533254', '2557220', '2526827', '2530824', '2502908', '2519104', '2551566', '2548755', '2513612', '2519054', '2539398', '2529118', '2550163', '2549849', '2564652', '2522779', '2543326', '2508568', '1851431', '1281975', '2036919', '2046275', '2339042', '2529158', '2543983', '2506197', '2554047', '2524044', '2532067', '2538082', '2536214', '2550582', '2549644', '2531017', '2541235', '2558377', '2567815', '2531505', '2529135', '2556536', '2554930', '2534142', '2522562', '2513896', '2508855', '2528936', '2558023', '2505863', '2520637', '2511051', '2531948', '2148158', '2513934', '2508632', '2506909', '2556399', '2509910', '2510476', '2515845', '2526754', '2541021', '2566107', '2570196', '2507703', '2566867', '2505526', '2560989', '2533345', '2547226', '2539107', '2406131', '2516607', '2533638', '2561975', '2516303', '2563443', '2535945', '2559533', '2506769', '2564537', '2529050', '2528873', '2518029', '2508875', '2529888', '2511024', '2527784', '2532029', '2516464', '2460087', '2556339', '2565492', '2547231', '2568239', '2507511', '2525708', '2519991', '2513044', '2519359', '2516377', '2566866', '2569992', '2538072', '2545486', '2525941', '2521911', '2529033', '2531632', '2561913', '2537340', '2567079', '2086671', '2503959', '2535517', '2509846', '2560536', '2568566', '2532708', '2540369', '2480486', '2535177', '2557547', '2532037', '2528147', '2566579', '2541760', '2520339', '2547825', '2274072', '2529782', '2552974', '2508208', '2535081', '2519754', '2517838', '2565828', '2547889', '2567023', '2308482', '2541218', '2562733', '2507435', '2543434', '2521735', '2514536', '2514211', '2556417', '2524656', '2525589', '2542940', '2492731', '2506077', '2536242', '2518990', '2557040', '2545931', '2196370', '2519290', '2553378', '2516472', '2502889', '2513978', '2510656', '2560032', '2532559', '2562479', '2550626', '2552326', '2513963', '2529254', '2481129', '2559624', '2562338', '2516798', '2561961', '2553458', '2258726', '2565548', '2515600', '2520765', '2533800', '2566099', '2522764', '2528071', '2568094', '2558114', '2527979', '2568667', '2526395', '2559295', '2515505', '2513638', '2552613', '2536944', '2563419', '2524392', '2510829', '2517430', '2451762', '2564977', '2557668', '2562057', '2509333', '2553609', '2542534', '2523319', '2564450', '2505241', '2507641', '2536846', '2550057', '2540071', '2563011', '2535387', '2539573', '2385495', '2532008', '2558691', '2570333', '2530678', '2556085', '2559027', '2422315', '2527961', '2528964', '2534258', '2538874', '2546670', '2554682', '2568250', '2568435', '2549989', '2529637', '2567194', '2522724', '2561873', '2560101', '2564817', '2535211', '2519349', '2533102', '2533604', '2565170', '2545235', '2554658', '2516299', '2537821', '2529720', '2568836', '2545886', '2514240', '2569217', '2559445', '2432336', '2506241', '2562656', '2552448', '2532317', '2564873', '2518369', '2536118', '2196902', '2559356', '2549845', '2520373', '2509435', '2568982', '2511470', '2545182', '2511666', '2566494', '2518977', '2505763', '2562231', '2524287', '2542527', '2520386', '2552773', '2512757', '2515006', '2526308', '2526316', '2541323', '2556844', '2505492', '2506670', '2548433', '2541647', '2515991', '2507557', '2544314', '2515648', '2535707', '2555883', '2529689', '2564123', '2550599', '2554397', '2552723', '2548710', '2469076', '2526133', '2514093', '2455547', '2556074', '2570683', '2536805', '2555293', '2525373', '2542763', '2531843', '2559631', '2551038', '2535926', '2565250', '2504270', '2553513', '2552571', '2559077', '2508803', '2539272', '2525796', '2562641', '2564886', '2545434', '2552943', '2508832', '2539579', '2526064', '2183021', '2546213', '2505945', '2504059', '2517866', '2510334', '2554761', '2511473', '2512419', '2549511', '2548764', '2516059', '2497859', '2568273', '2564571', '2569504', '2543497', '2268264', '2465895', '2547711', '2518178', '2540648', '2526007', '2500389', '2548141', '2528121', '2522925', '2543256', '2552998', '2526731', '2538622', '2567106', '2552600', '2562248', '2556676', '2541068', '2565616', '2529486', '2515574', '1342404', '2560803', '2534720', '2531799', '2560521', '2553305', '2551580', '2537290', '2527265', '2532291', '2565635', '2512371', '2559291', '2508721', '2552652', '2568032', '2527032', '2554052', '2514733', '2506151', '2528812', '2546580', '2426584', '2522630', '2523531', '2538031', '2506356', '2521251', '2533847', '2555758', '2506646', '2515268', '2542860', '2529821', '2524793', '2512157', '2511153', '2543382', '2377059', '2548920', '2531866', '2545759', '2531543', '2552851', '2536313', '2524144', '2537618', '2531258', '2517007', '2510208', '1168087', '2533995', '2524172', '2551546', '2567443', '2564560', '2558200', '2504717', '2525944', '2554785', '2522963', '2439103', '2550895', '2519604', '2298839', '2560182', '2543786', '2540446', '2560469', '2529380', '2554914', '2512732', '2568620', '2514187', '2503749', '2512121', '2554547', '2505687', '2523602', '2532531', '2562987', '2505622', '2535305', '2565622', '2540779', '2556014', '2536651', '2558637', '2537967', '2568456', '2547296', '2537403', '2544345', '2516774', '2493391', '2520097', '2505406', '2531659', '2519253', '2564923', '2527518', '2545304', '2514405', '2522229', '2527989', '2533788', '2511654', '2521956', '2507903', '2567134', '2542491', '2553333', '2560263', '2559830', '2512926', '2545137', '2557322', '2518800', '2533166', '2535393', '2533518', '2534503', '2554181', '2557707', '2561914', '2416744', '2514322', '2516876', '2558939', '2528692', '2535936', '2513758', '2509026', '2511725', '2519723', '2564712', '2512186', '2513364', '2546763', '2537318', '2503907', '2552005', '2538993', '2533988', '2530687', '2505765', '2518665', '2529016', '2531962', '2535529', '2526411', '2561017', '2563554', '2511151', '2521006', '2563925', '2547966', '2535535', '2508943', '2504099', '2527953', '2554324', '2563098', '2515301', '2545745', '2534418', '2541615', '2506618', '2546522', '2546115', '2544232', '2561586', '2528890', '2570109', '2530219', '2554655', '2529818', '2518913', '2563390', '2514481', '2492976', '2511707', '2528802', '2558671', '2534955', '2527730', '2512562', '2551258', '2519813', '2559065', '2389310', '2564408', '2545413', '2543059', '2515079', '2545917', '2565863', '2520558', '2412381', '2514841', '2561626', '2552736', '2554009', '2536261', '2562610', '2543093', '2505054', '2513099', '2540726', '2559181', '2494334', '2568156', '2466736', '2563660', '2538850', '2555664', '2401833', '2556911', '2526816', '2499858', '2508713', '2543893', '2544047', '2408457', '2508860', '2513785', '2546134', '2545264', '2556539', '2363391', '2537077', '2503938', '2529517', '2548242', '2516033', '2475761', '2550700', '2556680', '2551937', '2527224', '2431091', '2514575', '2554345', '2556350', '2543371', '2516289', '2557409', '2505232', '2507925', '2525054', '2561271', '2508790', '2511005', '2545532', '2527221', '2538230', '2531253', '2547861', '2521330', '2531723', '2552737', '2556486', '2557804', '2548266', '2539359', '2514951', '2506081', '2552414', '2569815', '2504285', '2555743', '2556477', '2554294', '2563151', '2568380', '2531069', '2556831', '2512715', '2555006', '2566374', '2537133', '2564248', '2517059', '2543250', '2556203', '2546960', '2550928', '2503943', '2520924', '2516390', '2506857', '2567930', '2564182', '2510890', '2542792', '2567370', '2532964', '2534584', '2541008', '2544224', '2547431', '2563600', '2513081', '2518040', '2506902', '2513581', '2549895', '2545782', '2539731', '2525921', '2568420', '2554271', '2533691', '2559248', '2542164', '2559782', '2504835', '2533243', '2523315', '2534474', '2555042', '2552115', '2514703', '2531696', '2532248', '2516833', '2540076', '2533020', '2565469', '2545795', '2532171', '2514479', '2547014', '2527085', '2532684', '2460850', '2565174', '2525110', '2472291', '2561452', '2556330', '2543369', '2542460', '2542380', '2525181', '1596383', '2508880', '2519121', '2501545', '2561326', '2508281', '2538302', '2557775', '2559518', '2566022', '2538121', '2485548', '2526628', '2543532', '2523669', '2528738', '2535334', '2550220', '2531797', '2566582', '2542464', '2535344', '2518356', '2510417', '2516816', '2515862', '2553550', '2532085', '2561307', '2543098', '2269784', '2538277', '2511406', '2549672', '2547429', '2558630', '2524487', '2554204', '2541973', '2525582', '2543183', '2532497', '2562186', '2552450', '2555061', '2546871', '2552407', '2528899', '2517226', '2529867', '2558677', '2528368', '2521805', '2544791', '2542323', '2540801', '2565290', '2517144', '2534015', '2556694', '2556918', '2515426', '2303860', '2535500', '2566919', '2517166', '2505635', '2557231', '2465721', '2518042', '2526873', '2525251', '2551971', '2517436', '2531851', '2509221', '2546145', '2543272', '2540217', '2526803', '2565595', '2535412', '2544917', '2514209', '2548495', '2568410', '2515212', '2561526', '2564004', '2508260', '2168129', '2534980', '2525439', '2521385', '2551712', '2560581', '2554315', '2559362', '2210693', '1355937', '1025663', '2518707', '2566084', '1297407', '1767288', '2527821', '2519760', '2493733', '2529454', '2541748', '2143262', '2567080', '2540788', '2507399', '2427298', '2568157', '2514962', '2548418', '2559084', '2526407', '2531592', '2337871', '2566122', '2544060', '2540573', '2559235', '2539969', '2521181', '2557150', '2520303', '2384916', '2566594', '2509195', '2497576', '2533451', '2548717', '2519271', '2542579', '2519058', '2568726', '2458997', '2562138', '2553466', '2479679', '2547454', '2535220', '2545723', '2553454', '2509802', '2511096', '2541135', '2550890', '2450253', '2503777', '2544236', '2509557', '2530711', '2512795', '2560954', '2515346', '2534531', '2510140', '2524780', '2517350', '2525938', '2512337', '2526533', '2494048', '2556798', '2512455', '2539223', '2375629', '2520687', '2534163', '2545422', '2517039', '2551708', '2557782', '2514385', '2422223', '2512714', '2523246', '2552617', '2300725', '2539490', '2512746', '2564895', '2522084', '2490969', '2562804', '2566259', '2375352', '2543302', '2227407', '2506953', '2504971', '2561320', '2472462', '2548758', '2556943', '2519019', '2554396', '2514172', '2508821', '2549077', '2555646', '2508831', '2536328', '2551505', '2568079', '2549268', '2533909', '2559777', '2526051', '2522099', '2529285', '2543435', '2529620', '2535564', '2568740', '2544910', '2504774', '2535182', '2555468', '2528755', '2512199', '2504239', '2535499', '2561681', '2510035', '2554798', '2565705', '2548805', '2563263', '2568159', '2539305', '2528093', '2522413', '2539791', '2551360', '2238533', '2529510', '2542897', '2548566', '2523200', '2554578', '2536561', '2550907', '2507797', '2541148', '2514318', '2539591', '2546076', '2566152', '2567553', '2516786', '2510537', '2516465', '2527264', '2511408', '2520450', '2560681', '2564094', '2473752', '2549249', '2562900', '2518810', '2445514', '2507268', '2505757', '2543456', '2560172', '2563069', '2528473', '2559921', '2507269', '2532246', '2558014', '2518266', '2482050', '2525740', '2544663', '2528809', '2529879', '2554758', '2539300', '2545655', '2498119', '2543493', '2522082', '2548949', '2521744', '2519244', '2570092', '2543245', '2548599', '2514819', '2556736', '2510118', '2514654', '2516215', '2391246', '2533619', '2548411', '2505887', '2509541', '2509392', '2527336', '2534009', '2529485', '2538639', '2512345', '2570234', '2545895', '2506101', '2538667', '2524732', '2532629', '2540328', '2506970', '2561750', '2535166', '2538482', '2543619', '2548794', '2513669', '2517388', '2420377', '2538568', '2528918', '1002108', '2533397', '2550381', '2426790', '2527294', '2529664', '2545476', '2538680', '2509037', '2548829', '2537055', '2537412', '2559463', '2560502', '2377112', '2504603', '2526036', '2510792', '2512951', '2528115', '2552247', '2550255', '2502676', '2466801', '2551193', '2506589', '2523378', '2521510', '2524048', '2552204', '2529086', '2562676', '2513196', '2528353', '2533686', '2538890', '2556021', '2533985', '2521355', '2505415', '2561433', '2543188', '2483418', '2560407', '2522590', '2510562', '2546315', '2538504', '2512646', '2507960', '2522648', '2506045', '2506228', '2532330', '2566340', '2530710', '2509125', '2517614', '2555295', '2559286', '2517454', '2550281', '2539900', '2537268', '2553312', '2563279', '2521803', '2507839', '2568815', '2518594', '2252616', '2312659', '2509232', '2526311', '2555422', '2548011', '2544656', '2561047', '2514880', '2532624', '2548024', '2147165', '2506912', '2520467', '2556392', '2520701', '2519737', '2552683', '2537109', '2523812', '2509878', '2567744', '2537851', '2508797', '2414285', '2465443', '2517055', '2542061', '2516739', '2523098', '2539310', '2485297', '2556075', '2538658', '2525329', '2539455', '2563744', '2555268', '2530248', '2538184', '2525359', '2532134', '2530770', '2521056', '2498290', '2542951', '2516617', '2568722', '2551777', '2533570', '2521653', '2509710', '2559368', '2505225', '2532494', '2528125', '2515261', '2556414', '2505219', '2541471', '2567705', '2546679', '2558509', '2562392', '2519808', '2523703', '2537112', '2515886', '2556353', '2515373', '2567948', '2556809', '2562768', '2533696', '2514702', '2536766', '2530380', '2545504', '2514743', '2523457', '2228630', '2514580', '2565496', '2550538', '2538852', '2552004', '2507224', '2518536', '2505923', '1133346', '2502520', '2551896', '2560870', '2524691', '2512218', '2562021', '2505400', '2511907', '2547952', '2500170', '2560941', '2545074', '2505936', '2480939', '2215872', '2570642', '2522965', '2551118', '1389961', '2397702', '2508705', '2513772', '2527379', '2567534', '2230370', '2252786', '1884874', '1549858', '1366713', '1349766', '1716719', '2505817', '2549756', '2543387', '2534775', '2514711', '2554713', '2523780', '2553500', '2518819', '2494986', '2563091', '2554781', '2526906', '2518689', '2565462', '2303401', '2508828', '2517088', '2521152', '2451337', '2537985', '2514801', '2544494', '2546197', '2516203', '2517389', '2569219', '2548396', '2563346', '2556274', '2528878', '2468877', '2479248', '2515037', '2518958', '2542258', '2291552', '2560221', '2543649', '2552966', '2515435', '2569215', '2561927', '2526879', '2462342', '2541570', '2542458', '2528430', '2514320', '2560972', '2521888', '2559765', '2496619', '2194280', '2461452', '2538400', '2108280', '2567238', '2566569', '2506076', '2550891', '2525587', '2504838', '2552038', '2504397', '2503345', '2558701', '2539533', '2507830', '2556885', '2559359', '2486169', '2518506', '2546879', '2526426', '2528042', '2527286', '2549058', '2519830', '2536070', '2522422', '2555549', '2526963', '2515073', '2514965', '2535720', '2544938', '2542264', '2508470', '2535991', '2562964', '2568560', '2524041', '2525458', '2543832', '2535325', '2499602', '2548956', '2523395', '2536405', '2526494', '2514141', '2529925', '2559878', '2554984', '2569032', '2522442', '2548220', '2570255', '2529777', '2551075', '2532934', '2527381', '2533163', '2531857', '2540143', '2562803', '2552721', '2529676', '2556204', '2561415', '2440260', '2516845', '2534753', '2543895', '2553338', '2553261', '2538387', '2531772', '2543664', '2553474', '2508970', '2536978', '2507855', '2539970', '2557750', '2540665', '2560434', '2545686', '2549280', '2545566', '2560704', '2568207', '2551570', '2535115', '2542618', '2557408', '2445975', '2528791', '2541771', '2514978', '2564950', '2530512', '2541041', '2554207', '2512235', '2504650', '2560609', '2561910', '2560403', '2531887', '2565778', '2561241', '2460625', '2532144', '2541691', '2559952', '2562290', '2545473', '2506663', '2531842', '2563495', '2489732', '2546566', '2559669', '2520417', '2507586', '2511432', '2531022', '2536546', '2251966', '2529018', '2547614', '2531020', '2545891', '2526583', '2504762', '2523827', '2540046', '2526771', '2506213', '2541553', '2530844', '2532780', '2552786', '2523800', '2556853', '2554929', '2534017', '2550252', '2561211', '2547657', '2522253', '2558237', '2532791', '2544873', '2511229', '2569841', '2545634', '2446544', '2553197', '2528432', '2488674', '2503941', '2540600', '2508877', '2506182', '2566536', '2543482', '2552344', '2540951', '2538191', '2440613', '2535243', '2519394', '2566586', '2543032', '2505199', '2540799', '2518561', '2513600', '2565292', '2560216', '2544366', '2554282', '2518541', '2565361', '2568664', '2549744', '2566611', '2548645', '2548092', '2514988', '2527548', '2566032', '2542030', '2545726', '2513593', '2539747', '2531590', '2527222', '2546957', '2301557', '2505317', '2519178', '2525798', '2563778', '2543427', '2506457', '2516507', '2509317', '2511668', '2524861', '2496386', '2568096', '2565434', '2503856', '2517870', '2549786', '2529687', '2529954', '2560585', '2555087', '2432981', '2516348', '2536971', '2526053', '2565644', '2553956', '2548017', '2534166', '2509276', '2517987', '2567072', '2568137', '2551522', '2509585', '2408715', '2515113', '2550256', '2565790', '2566402', '2560452', '2519147', '2570042', '2322231', '2541542', '2558492', '2537025', '2555317', '2538565', '2537476', '2305208', '2510189', '2545255', '2523142', '2510968', '2536923', '2517705', '2542319', '2517376', '2526077', '2535037', '2516098', '2560440', '2534944', '2521037', '2557759', '2551488', '2540108', '2564965', '2548055', '2200886', '2524342', '2549318', '2449181', '2531810', '2554412', '2532611', '2554160', '2532207', '2568378', '2524992', '2363339', '2504936', '2546825', '2526019', '2522267', '2530934', '2517063', '2509884', '2536961', '2517992', '2564987', '2536291', '2552153', '2550704', '2484437', '2540215', '2544342', '2535516', '1060734', '2518807', '2507009', '2540128', '2552156', '2524164', '2528982', '2514064', '2557715', '2524296', '2511271', '2518843', '2547390', '2530842', '2517807', '2564969', '2540832', '2491951', '2527231', '2512390', '2549629', '2559521', '2566202', '2554887', '2517424', '2541628', '2512829', '2515493', '2538138', '2545940', '2546499', '2567813', '2421453', '2538056', '2513275', '2553640', '2535859', '2510520', '2509116', '2540699', '2565550', '2539664', '2534600', '2508817', '2505668', '1551213', '2357984', '2010718', '2099073', '2059818', '1785383', '2531062', '2540093', '2519881', '2531991', '2564131', '2570434', '2543980', '2507584', '2511784', '2565109', '2525558', '2568383', '2519746', '2504207', '2516110', '2525193', '2539630', '2556937', '2475437', '2505226', '2512136', '2509094', '2541554', '2525839', '2537375', '2540220', '2538453', '2525736', '2510757', '2544206', '2524184', '2506314', '2507371', '2519513', '2287793', '2537066', '2546571', '2561392', '2542925', '2537540', '2549227', '2559474', '2508770', '2512178', '2506396', '2567799', '2527951', '2522904', '2504411', '2558016', '2527900', '2567418', '2246408', '2563819', '2527817', '2524880', '2517995', '2536005', '2496093', '2333998', '2519441', '2509387', '2515836', '2548035', '2532563', '2519188', '2553130', '2559147', '2554431', '2534547', '2519070', '2556929', '2519116', '2503783', '2551614', '2552515', '2565722', '2543383', '2516105', '2443049', '2489664', '2506205', '2385725', '2537198', '2555838', '2563872', '2566460', '2551907', '2553459', '2494230', '2534860', '2492303', '2388852', '2536681', '2510331', '2543100', '2568735', '2565697', '2538579', '2546750', '2483588', '2532387', '2567114', '2515004', '2536417', '2538020', '2554760', '2562110', '2508756', '2566069', '2560242', '2549573', '2534398', '2559662', '2554290', '2520748', '2537895', '2467697', '2514936', '2554110', '2447118', '2565344', '2538789', '2564313', '2527553', '2500453', '2566956', '2566660', '2525597', '2568272', '2520693', '2539295', '2419651', '2528582', '2527874', '2564799', '2509454', '2568846', '2559607', '2530104', '2473589', '2446350', '2556743', '2533816', '2527762', '2514440', '2520626', '2570277', '2519867', '2524104', '2567115', '2517752', '2539775', '2535560', '2557050', '2550154', '2557159', '2536051', '2556262', '2553009', '2552361', '2570362', '2484732', '2434681', '2544726', '2548018', '2543842', '2542783', '2543336', '2564290', '2562180', '2545597', '2562528', '2520472', '2540000', '2511530', '2520494', '2562632', '2517771', '2507223', '2556307', '2556090', '2540014', '2551294', '2507412', '2531306', '2538832', '2524689', '2401617', '2511509', '2556130', '2518600', '2524867', '2570204', '2521698', '2509431', '2550967', '2561311', '2539489', '2503770', '2558499', '2515521', '2568488', '2530119', '2562745', '2548263', '2512737', '2520868', '2514649', '2564951', '2548874', '2316212', '2515635', '2568516', '2461498', '2542662', '2531918', '2535281', '2518616', '2528650', '2537920', '2514225', '2483778', '2162803', '2463834', '2503629', '2554872', '2567914', '2549986', '2528046', '2527602', '2555985', '2536127', '2561555', '2507696', '2568363', '2558762', '2549768', '2554259', '2514241', '2569145', '2547678', '2568935', '2521159', '2401274', '2504767', '2547129', '2522407', '2563735', '2562331', '2565034', '2557129', '2565095', '2384743', '2517289', '2530651', '1360280', '2534227', '2540427', '2504465', '2508663', '2536712', '2546840', '2568931', '2510658', '2505855', '2544579', '2551385', '2553972', '2522747', '2541577', '2560284', '2538602', '2554340', '2539044', '2517259', '2558514', '2542275', '2524923', '2561792', '2442448', '2515108', '2496572', '2562091', '2488613', '2530989', '2563197', '2530819', '2523215', '2556912', '2561970', '2506908', '2514857', '2439972', '2531312', '2528882', '2535554', '2532039', '2518507', '2554642', '2517878', '2567756', '2540173', '2544422', '2540193', '2544638', '2568569', '2566089', '2563301', '2529464', '2549022', '2462174', '2564955', '2559695', '2566160', '2526385', '2546645', '2533547', '2554531', '2430679', '2553679', '2543451', '2540822', '2568403', '2545139', '2536922', '2528157', '2562605', '2504077', '2557500', '2565091', '2514822', '2546693', '2556511', '2567942', '2535608', '2512975', '2541464', '2512970', '2389301', '2548176', '2537681', '2469931', '2525657', '2550190', '2505909', '2547781', '2514080', '2555361', '2545007', '2561059', '2372590', '2540290', '2517586', '2535101', '2553188', '2551797', '2563722', '2537466', '2565167', '2516836', '2389209', '2566102', '2518302', '2538654', '2506172', '2523420', '2516425', '2561821', '2190061', '2545648', '2423982', '2540420', '2566861', '2549145', '2566220', '2562471', '2566518', '2528472', '2537009', '1386391', '1218265', '1294754', '2515841', '2448431', '2505167', '2552750', '2423885', '2544336', '2560729', '2536869', '2562104', '2555626', '2355823', '2565341', '2508710', '2520100', '2555703', '2515170', '2538720', '2515132', '2537497', '2565221', '2559816', '2531900', '2513759', '2564595', '2552489', '2555130', '2516547', '2514505', '2506462', '2518183', '2554263', '2524741', '2530329', '2566164', '2528815', '2537949', '2555011', '2551312', '2505469', '2512910', '2508761', '2511607', '2450614', '2534890', '2548959', '2541605', '2515728', '2505889', '2561857', '2553563', '2399269', '2549746', '2567322', '2395019', '2519542', '2541490', '2511246', '2556157', '2559537', '2513732', '2516004', '2511219', '2288163', '2564372', '2527984', '2561941', '2552111', '2508046', '2517509', '2551373', '2551305', '2515856', '2551624', '2510388', '2548392', '2523922', '2562537', '2559906', '2533859', '2516265', '2563500', '2508595', '2557976', '2563997', '2511305', '2471247', '2556394', '2563100', '2537315', '2532325', '2508272', '2551200', '2543111', '2553445', '2524320', '2555954', '2541895', '2555192', '2520644', '2540120', '2551230', '2554017', '2517068', '2510697', '2562667', '2550297', '2554353', '2540479', '2520512', '2540280', '2556427', '2530084', '2515282', '2553973', '2532298', '2474757', '2528876', '2565806', '2563601', '2517574', '2521545', '2513816', '2527122', '2559267', '1299476', '2530433', '2504425', '2563724', '2518244', '2520385', '2538086', '2535099', '2508495', '2504058', '2531614', '2545207', '2553696', '2532362', '2562476', '2503155', '2518180', '2409424', '2535119', '2519193', '2500430', '2511611', '2564970', '2568044', '2558678', '2506756', '2542048', '2516844', '2519960', '2538209', '2499158', '2540565', '2541379', '2511372', '2523967', '2482576', '2526422', '2515095', '2559664', '2505359', '2536645', '2538801', '2536947', '2560143', '2556422', '2557032', '2525130', '2561588', '2515719', '2552849', '2522440', '2515797', '2532186', '2529096', '2126925', '2511508', '2532495', '2429501', '2552598', '2569305', '2514457', '2566674', '2520441', '2566324', '2512656', '2429926', '2570244', '2551564', '2525747', '2493830', '2566659', '2546487', '2529020', '2512090', '2230848', '2333442', '2509845', '2537583', '2507325', '2513784', '2363229', '2508608', '2562249', '2518702', '2554849', '2557430', '2532764', '2513558', '2507482', '2518768', '2502778', '2554562', '2531904', '2524159', '2540874', '2507655', '2563799', '2563146', '2257305', '2516598', '2542256', '2569619', '2509840', '2537898', '2528693', '2522303', '2550388', '2559874', '2556913', '2407579', '2566283', '2564882', '2516511', '2498237', '2552330', '2542671', '2525062', '2529715', '2515673', '2511302', '2510148', '2564075', '2523566', '2524230', '2509797', '2511191', '2507909', '2534508', '2543264', '2536128', '2514347', '2539228', '2504066', '2555527', '2530762', '2566213', '2506165', '2532435', '2547969', '2545926', '2534529', '2537189', '2559856', '2536897', '2526999', '2555299', '2558239', '2522344', '2514091', '2510133', '2507824', '2570482', '2544441', '2547093', '2523946', '2515314', '2515697', '2545089', '2526418', '2526587', '2500985', '2509437', '2513172', '2556643', '2517588', '2508743', '2524060', '2515450', '2521432', '2549958', '2535179', '2552869', '2505012', '2448420', '2510857', '2517531', '2552482', '2524357', '2535340', '2565819', '2511319', '2520872', '2563260', '2527741', '2520165', '2514300', '2540815', '2562354', '2562438', '2544566', '2555938', '2514408', '2510242', '2545573', '2540882', '2566263', '2559773', '2512354', '2518944', '2515629', '2513075', '2560075', '2538309', '2529147', '2551451', '2558142', '2518128', '2519623', '2525711', '2552027', '2528091', '2547660', '2280582', '2522306', '2520235', '2559748', '2542775', '2551093', '2552620', '2513653', '2527073', '2522132', '2513616', '2518742', '2513574', '2535454', '2557611', '2537313', '2506963', '2553925', '2566248', '2512272', '2536894', '2530459', '1128038', '2557671', '2537175', '2524724', '2511815', '2546741', '2531385', '2527938', '2555291', '2537016', '2538267', '2524222', '2562323', '2513757', '2525810', '2485758', '2551442', '2565839', '2525928', '2467704', '2532455', '2511465', '1155067', '1936358', '1299656', '2541735', '1000550', '2547113', '2505333', '2565401', '2507216', '2514532', '2504284', '2550210', '2557862', '2518753', '2525029', '2570101', '2537288', '2553822', '2558467', '2505514', '2511278', '2570416', '2554461', '2551333', '2536045', '2552311', '2522280', '2469338', '2518558', '2524931', '2563976', '2515491', '2567046', '2539031', '2535733', '2539975', '2507544', '2549641', '2542902', '2560296', '2549695', '2482044', '2539183', '2504224', '2527699', '2548997', '2562917', '2566588', '2549374', '2566910', '2556987', '2562899', '2509243', '2555927', '2559771', '2521261', '2532747', '2541909', '2525496', '2503763', '2206684', '2509241', '2540271', '2548103', '2531906', '2506362', '2520164', '2567118', '2552285', '2552518', '2549603', '2506124', '2567649', '2541845', '2543275', '2555860', '2503731', '2534826', '2550943', '2537134', '2560614', '2540294', '2524629', '2520209', '2521223', '2260785', '2539658', '2561950', '2538196', '2517184', '2526625', '2505091', '2543598', '2515389', '2565162', '2539204', '2533767', '2518031', '2538345', '2507592', '2569899', '2555354', '2541582', '2524251', '2522128', '2540938', '2547896', '2426438', '2434195', '2560661', '2507470', '2567970', '2527468', '2558631', '2511309', '2559364', '2531705', '2513696', '2560218', '2550127', '2564810', '2513791', '2549222', '2549388', '2567775', '2542661', '2514418', '2564840', '2526000', '2546734', '2516778', '2559386', '2566024', '2506395', '2520707', '2453389', '2513804', '2553263', '2569651', '2566177', '2489877', '2524709', '2520300', '2505357', '2532929', '2515656', '2498347', '2562814', '2564941', '2547437', '2509398', '2534812', '2515222', '2515892', '2507051', '2462411', '2527978', '2509183', '2527611', '2538503', '2550258', '2520365', '2451842', '2530454', '2537088', '2568796', '2535428', '2510556', '2518661', '2568340', '2526258', '2516307', '2541703', '2528576', '2551201', '2389008', '2537028', '2561566', '2526067', '2567994', '2530376', '2514489', '2534985', '2534934', '2544209', '2504985', '2565797', '2556660', '2513691', '2545305', '2507723', '2392610', '2551058', '2516132', '2566803', '2528818', '2332384', '2429133', '2505733', '2531929', '2541359', '2570132', '2535043', '2528948', '2564617', '2524887', '2524628', '2560362', '2508729', '2566287', '2530780', '2555167', '2558323', '2542248', '2537064', '2514980', '2559351', '2531827', '2568900', '2526699', '2128368', '2537719', '2547284', '2527292', '2554111', '2519374', '2544142', '2530300', '2569066', '2501942', '2526448', '2549825', '2516156', '2539938', '2507134', '2532576', '2567766', '2534859', '2546371', '2561384', '2560777', '2527485', '2566204', '2515312', '2531910', '2542941', '2529560', '2510406', '2417573', '2566755', '2480924', '2507600', '2532063', '2521972', '2513843', '2563629', '2520454', '2416320', '2561398', '2556470', '2504664', '2568546', '2559407', '2569447', '2530014', '2551513', '2546029', '2518348', '1527496', '2543752', '2540971', '2527385', '2467027', '2509712', '2521282', '2519258', '2558718', '2531046', '2536134', '2528679', '2569531', '2556626', '2510377', '2381953', '2551917', '2463460', '2516165', '2511162', '2556805', '2525463', '2504751', '2557206', '2536933', '2564495', '2549705', '2166516', '2549361', '2513889', '2556315', '2515257', '2546340', '2551121', '2552507', '2524642', '2283810', '2532242', '2509023', '2559766', '2562713', '2515187', '2515526', '2510045', '2565973', '2531676', '2460921', '2543577', '2524991', '2511069', '2529077', '2544676', '2560671', '2323376', '2536517', '2539509', '2566877', '2515174', '2535490', '2552162', '2411442', '2360893', '2523311', '2564623', '2564798', '2517083', '2510142', '2439876', '2567135', '2542123', '2558927', '2531092', '2514298', '2566044', '2557218', '2528241', '2529041', '2528246', '2542744', '2519243', '2557840', '2540768', '2558060', '2570274', '2526592', '2511594', '2511420', '2541202', '2542361', '2515188', '2519664', '2537445', '2567402', '2542431', '2532400', '2570673', '2530071', '2560283', '2522297', '2509091', '2535949', '2479550', '2523781', '2568885', '2516181', '2555643', '2537280', '2548179', '2558160', '2516304', '2557160', '2519388', '2562060', '2236298', '2541843', '2511921', '2509682', '2435188', '2513422', '2508762', '2556733', '2510203', '2508968', '2533794', '2559332', '2551663', '2313131', '2505830', '2507735', '2570201', '2538122', '2511006', '2538139', '2491045', '2545488', '2563915', '2545816', '2564918', '2537440', '2551721', '1922430', '1105525', '1579682', '2541734', '2512602', '2525037', '2518412', '2528475', '2560430', '2526722', '2542949', '2509461', '2517343', '2538475', '2543642', '2562167', '2531485', '2537907', '2544471', '2490717', '2543961', '2519005', '2568650', '2478547', '2558264', '2507698', '2549524', '2538204', '2569047', '2520113', '2528044', '2540035', '2535299', '2564507', '2550682', '2515897', '2516023', '2548477', '2506125', '2559663', '2503929', '2539430', '2522242', '2511681', '2536595', '2508796', '2565235', '2564467', '2568970', '2505207', '2421992', '2548595', '2554267', '2515437', '2515566', '2510662', '2518427', '2530013', '2570294', '2562242', '2534582', '2549364', '2562657', '2565349', '2448596', '2537206', '2519242', '2569258', '2510876', '2447433', '2531902', '2512877', '2528979', '2539401', '2568043', '2547443', '2555777', '2497131', '2546457', '2526151', '2545470', '2513929', '2544889', '2566488', '2548301', '2547580', '2455347', '1615865', '2562506', '2561015', '2569918', '2534253', '2528536', '2542814', '2549401', '2537496', '2451763', '2509651', '2510623', '2520479', '2570584', '2515513', '2505193', '2515417', '2508907', '2516812', '2530817', '2515619', '2546047', '2563068', '2524313', '2545982', '2537429', '2524885', '2461099', '2557981', '2531102', '2520957', '2538362', '2555142', '2557273', '2541250', '2507131', '2532146', '2510157', '2559161', '2562646', '2524369', '2506954', '2538953', '2566120', '2533425', '2539291', '2155179', '2564804', '2513592', '2530020', '2505803', '2550802', '2553951', '2334221', '2564279', '2553053', '2471158', '2549609', '2515813', '2526234', '2548846', '2527552', '2391895', '2525693', '2567670', '2551532', '2561540', '2511477', '2507931', '2527877', '2519909', '2557621', '2566251', '2513678', '2546752', '2529415', '2552365', '2563127', '2536229', '2544893', '2536137', '2555805', '2532613', '2565273', '2517379', '2518310', '2553280', '2509874', '2544023', '2563105', '2559881', '2567838', '2524022', '2543428', '2546127', '2525642', '2566969', '2560008', '2545600', '2544475', '2510110', '2566540', '2535555', '2555924', '2545177', '2320941', '2528162', '2512842', '2559991', '2517299', '2466689', '2569277', '2566526', '2504820', '2444086', '2522705', '2518403', '2541690', '2564028', '2513908', '2545653', '2549795', '2562849', '2551342', '2460144', '2544373', '2554415', '2511874', '2563290', '2532137', '2520552', '2515815', '2545838', '2526539', '2508055', '2544199', '2544419', '2531702', '2507637', '2540307', '2545892', '2532301', '2541985', '2551414', '2536563', '2548356', '2518567', '2155954', '2522235', '2516070', '2529070', '2508351', '2516637', '2492540', '2506543', '2532033', '2430905', '2550460', '2554180', '2512244', '2551613', '2509218', '2531731', '2559589', '2516849', '2511070', '2510808', '2534840', '2469269', '2524348', '2538293', '2511111', '2422344', '2542575', '2528477', '2531295', '2567165', '2523646', '2559299', '2522021', '2514228', '2532685', '2542986', '2544939', '2554387', '2524288', '2538356', '2519215', '2399723', '2551337', '2520588', '2518245', '2565263', '2533702', '2554473', '2559823', '2564613', '2532424', '2554214', '2517991', '2509761', '2513971', '2544643', '2513755', '2560290', '2518686', '2563665', '2537635', '2523092', '2556715', '2568852', '2200585', '2519766', '2485319', '2513023', '2557534', '2523580', '2545833', '2517518', '2519286', '2529278', '2526291', '2550672', '2550345', '2567338', '2535396', '2560796', '2542171', '2550236', '2546132', '2554154', '2520249', '2537260', '2537940', '2520043', '2512130', '2561264', '2505690', '2517598', '2512922', '2518270', '2558486', '2533669', '2516957', '2537512', '2546014', '2444252', '2510640', '2523006', '2524959', '2517418', '2523360', '2513915', '2513450', '2563840', '2537802', '2549916', '2557453', '2468240', '2538329', '2559346', '2552183', '2559447', '2506958', '2530011', '2557883', '2525486', '2570535', '2490060', '2532274', '2505602', '2514903', '2550267', '2504497', '2520109', '2517176', '2504752', '2559609', '2557071', '2527345', '2521255', '2547365', '2545460', '2506624', '2519109', '2559190', '2549353', '2563846', '2506309', '2529658', '2560747', '2523658', '2512004', '2509342', '2515383', '2518928', '2524674', '2510116', '2535536', '2531769', '2491510', '2522355', '2509327', '2557086', '2564581', '2536998', '2238935', '2568820', '2506236', '2536653', '2556654', '2544933', '2511105', '2508575', '2554059', '2510617', '2549067', '2516494', '2546041', '2521068', '2566662', '2558816', '2559003', '2556285', '2513656', '2524065', '2527842', '2534728', '2569967', '2522386', '2531150', '2569813', '1295448', '1106221', '1673625', '2535450', '2555110', '2509182', '2570606', '2546023', '2506678', '2559169', '2539457', '2562294', '2516039', '2558233', '2564885', '2516961', '2533281', '2570485', '2538640', '2538572', '2557045', '2544053', '2543655', '2530199', '2547564', '2505547', '2554446', '2547077', '2537582', '2555368', '2543888', '2509233', '2541279', '2553324', '2542863', '2520488', '2525652', '2548659', '2515569', '2567177', '2536661', '2513019', '2336416', '2538128', '2544881', '2527089', '2550198', '2513119', '2531234', '2552949', '2504898', '2511573', '2523220', '2152787', '2566932', '2540002', '2507386', '2522295', '2530562', '2517079', '2546136', '2507306', '2529029', '2561688', '2515180', '2412526', '2512299', '2523196', '2521215', '2543079', '2562121', '2535331', '2554069', '2513726', '2516118', '2535942', '2560806', '2549905', '2528562', '2560622', '2520509', '2524418', '2558313', '2519451', '2548968', '2554159', '2561378', '2556606', '2508853', '2529870', '2565017', '2537417', '2556555', '2559770', '2515145', '2509914', '2546249', '2529801', '2507180', '2523287', '2558109', '2528425', '2567621', '2551035', '2554659', '2563099', '2525550', '2562034', '2543315', '2543684', '2502549', '1487906', '2538511', '2455759', '2518016', '2530461', '2506892', '2567777', '2460241', '2557014', '2526391', '2508810', '2503289', '2285772', '2522605', '2548916', '2524561', '2567654', '2503743', '2527898', '2540237', '2505770', '2542145', '2565123', '2544092', '2518065', '2554460', '2516854', '2473341', '2569884', '2536813', '2568331', '2569350', '2512338', '2561544', '2548731', '2519854', '2472087', '2528014', '2565336', '2528709', '2563827', '2530469', '2535252', '2530774', '2128363', '2537408', '2559216', '2559575', '2527453', '2513800', '2523520', '2559363', '2521884', '2566373', '2505204', '2538800', '2504456', '2551358', '2570273', '2546110', '2522856', '2562589', '2512445', '2559759', '2544822', '2548779', '2552377', '2558599', '2362903', '2544339', '2509638', '2530024', '2553213', '2562664', '2531925', '2545421', '2565997', '2537495', '2567894', '2543010', '2522146', '2529587', '2486850', '2561977', '2506437', '2540713', '2533910', '2541841', '2528404', '2520169', '2548601', '2495883', '2556856', '2525495', '2509132', '2540706', '2539979', '2504728', '2416142', '2515485', '2518144', '2514041', '2506789', '2552064', '2515799', '2556227', '2525025', '2515512', '2567671', '2531225', '2539766', '2532119', '2521565', '2529141', '2510736', '2543500', '2539269', '2519128', '2547703', '2518738', '2507976', '2568874', '2552930', '2548754', '2526735', '2556655', '2530226', '2513436', '2565398', '2545733', '2525777', '2551801', '2558312', '2530197', '2553896', '2514043', '2552843', '2555249', '2504428', '2511645', '2514754', '2530953', '2516871', '2533991', '2534995', '2483505', '2559280', '2504539', '2377338', '2223926', '2527506', '2538577', '2551949', '2427977', '2535849', '2536924', '2513496', '2548294', '2212084', '2522180', '2532155', '2505306', '2555780', '2520142', '2555550', '2539444', '2526165', '2504245', '2557624', '2529216', '2523955', '2568547', '2544128', '2570477', '2526933', '2529644', '2570136', '2534745', '2559488', '2548316', '2507879', '2494144', '2527551', '2521683', '2551670', '2530087', '2555602', '2564240', '2553878', '2555452', '2519492', '2552317', '2531401', '2539583', '2528613', '2511610', '2554569', '2554151', '2565330', '2546616', '2533418', '2552341', '2505139', '2537267', '2569248', '2554129', '2553363', '2523763', '2511276', '2541774', '2563854', '2570383', '2562102', '2534095', '2458173', '2528826', '2540112', '2557808', '2557471', '2505781', '2532087', '2507616', '2561035', '2515852', '2557958', '2549016', '2506657', '2340592', '2537411', '2534856', '2469139', '2523019', '2503166', '2519572', '2565047', '2540792', '2561850', '2558180', '2550243', '2524879', '2521017', '2536987', '2563833', '2512655', '2531029', '2532541', '2482035', '2516914', '2519316', '2568731', '2516657', '2524280', '2547147', '2528710', '2504625', '2508694', '2563731', '2508972', '2550403', '2530709', '2557474', '2515325', '2566288', '2507525', '2523748', '2517357', '2520712', '2558629', '2517792', '2503821', '2542690', '2512502', '2469493', '2531273', '2527625', '2509358', '2553337', '2565464', '2541243', '2557835', '2568805', '2555216', '2568741', '2569321', '2540586', '2520474', '2512092', '2527334', '2539404', '2569069', '2535307', '2510154', '2526065', '2553601', '2516852', '2505593', '2514288', '2557544', '2510926', '2511163', '2537289', '2504065', '1136101', '2543860', '1111231', '1677876', '2538731', '2563211', '2511752', '2559814', '2524693', '2570193', '2523112', '2521269', '2516931', '2539452', '2526895', '2538734', '2527303', '2457152', '2542326', '2528444', '2517825', '2542087', '2566072', '2525995', '2527109', '2544945', '2534004', '2440289', '2535533', '2547937', '2173385', '2547912', '2569246', '2520529', '2565719', '2541354', '2545442', '2516896', '2499679', '2553999', '2508801', '2563093', '2552171', '2544516', '2535751', '2493364', '2550033', '2527541', '2552885', '2541777', '2516544', '2516373', '2530154', '2545170', '2537698', '2568549', '2537418', '2547555', '2555082', '2507832', '2512401', '2505190', '2554121', '2512929', '2530643', '2560720', '2517221', '2516578', '2522633', '2506640', '2555627', '2506257', '2547166', '2540928', '2567971', '2537036', '2559168', '2512932', '2511697', '2505234', '2533952', '2511501', '2524442', '2540518', '2533514', '2516517', '2536976', '2548443', '2566284', '2516407', '2523561', '2529971', '2543221', '2565438', '2520346', '2552985', '2570520', '2553264', '2563215', '2394425', '2521279', '2550457', '2504710', '2511433', '2555106', '2522388', '2536863', '2518240', '2512391', '2563699', '2533599', '2551222', '2489350', '2555218', '2468531', '2483589', '2513700', '2557934', '2538525', '2504783', '2547929', '2504306', '2551581', '2524476', '2548072', '2535457', '2543527', '2517831', '2166135', '2525802', '2550225', '2514126', '2564561', '2567537', '2560164', '2563453', '2570703', '2542465', '1523335', '2538957', '2541796', '2515532', '2569938', '2511519', '2509757', '2513842', '2510397', '2514747', '2545400', '2569010', '2509649', '2559988', '2292340', '2516195', '2510016', '2496542', '2542436', '2516271', '2513820', '2513370', '2461604', '2506553', '2536700', '2532399', '2508578', '2539180', '2523534', '2550809', '2557769', '2561760', '2504150', '2304204', '2376448', '2514647', '2512379', '2551311', '2452302', '2562842', '2559306', '2522356', '2509096', '2546317', '2541737', '2528070', '2525048', '2557289', '2503893', '2562394', '2543865', '2565186', '2538891', '2551347', '2540808', '2507021', '2518185', '2522709', '2558550', '2534989', '2558336', '2517339', '2518058', '2510463', '2555824', '2552807', '2535383', '2521212', '2524052', '2523951', '2505339', '2546064', '2541595', '2559247', '2514520', '2531561', '2528945', '2549405', '2442118', '2504085', '2555230', '2559467', '2554088', '2503882', '2541936', '2521599', '2556140', '2483832', '2545934', '2534010', '2509917', '2537615', '2506632', '2524202', '2567704', '2556335', '2516065', '2538025', '2545720', '2530453', '2551972', '2535180', '2554200', '2553528', '2520401', '2513847', '2568292', '2566329', '2252140', '2548360', '2522462', '2497613', '2555914', '2569539', '2512304', '2538940', '2532223', '2554869', '2515792', '2509309', '2258697', '2554449', '2504944', '2544305', '2504180', '2551369', '2532306', '2564925', '2543390', '2462392', '2567730', '2230874', '2535531', '2556801', '2493768', '2560632', '2552524', '2566298', '2465376', '2508487', '2454595', '2566075', '2172146', '2552149', '2530186', '2196461', '2504746', '2480079', '2522346', '2550372', '2533262', '2317593', '2555842', '2513958', '2552610', '2543104', '2546358', '2523325', '2468005', '2505881', '2564054', '2530534', '2524427', '2569623', '2557336', '2554166', '2512820', '2507095', '2563808', '2438538', '2425298', '2518983', '2532070', '2252087', '2558606', '2510150', '2483236', '2507129', '2550860', '2525671', '2519373', '2559245', '2552796', '2506930', '2541776', '2508065', '2538699', '2511436', '2524826', '2511062', '2537423', '2532028', '2551554', '2481424', '2544290', '2534313', '2439409', '2523678', '2541433', '2516258', '2508037', '2548530', '2534001', '2545989', '2543448', '2520668', '2556459', '2506898', '2528794', '2547903', '2519892', '2546175', '2463605', '2513683', '2505117', '2557260', '2559911', '2553116', '2568140', '2514285', '2546367', '2507364', '2521646', '2542767', '2550133', '2477476', '2527204', '2513864', '2508971', '2563592', '2509194', '2523394', '2553334', '2566555', '2412089', '2534981', '2527444', '2533653', '2542360', '2565187', '2523587', '2537577', '2401654', '2508648', '2544371', '2541523', '2561054', '2504022', '2502333', '2515045', '2509676', '2539646', '2557779', '2329160', '2472066', '2525479', '2535766', '2536973', '2516609', '2519571', '2569704', '2494990', '2511464', '2564601', '2536890', '2553755', '2543765', '2564244', '2519637', '2525630', '2556418', '2553205', '2519180', '2384206', '2539529', '2565747', '2558122', '2519984', '1528189', '2459927', '2566345', '2536199', '2535618', '2561536', '2564742', '2526693', '2524358', '2512204', '2429254', '2551034', '2541452', '2526332', '2437399', '2554918', '2522260', '2522285', '2541999', '2506196', '2552939', '2522727', '2513754', '2529283', '2515227', '2534241', '2546295', '2442501', '2553944', '2442289', '2504580', '2540042', '2201585', '1834806', '1939363', '2034725', '2531984', '2552030', '2563817', '2548706', '2513017', '2560335', '2536568', '2564438', '2556888', '2564274', '2523562', '2537539', '2529511', '2512363', '2518092', '2552182', '2320835', '2504617', '2563461', '2515320', '2518948', '2522647', '2420809', '2531110', '2562988', '2563733', '2530766', '2554679', '2522502', '2508344', '2525465', '2530951', '2516025', '2555366', '2530688', '2531860', '2563762', '2567938', '2553472', '2531085', '2564991', '2552680', '2552418', '1581682', '2509896', '2567691', '2514516', '2537278', '2522014', '2540936', '2410838', '2507563', '2529218', '2504605', '2526377', '2514387', '2532500', '2512914', '2542203', '2555296', '2505154', '2542386', '2543142', '2528905', '2515573', '2542352', '2556241', '2549269', '2536762', '2522882', '2552256', '2548421', '2563571', '2521566', '2556019', '2523905', '2515000', '2537784', '2406256', '2563305', '2563643', '2541198', '2472592', '2518786', '2560307', '2547830', '2526439', '2509708', '2449674', '2336456', '2512160', '2569164', '2504948', '2561459', '2543042', '2537720', '2536446', '2563830', '2539517', '2509292', '2530412', '2509087', '2542675', '2505834', '2195426', '2555517', '2530130', '2267051', '2529450', '2559366', '2517182', '2541873', '2540130', '2528235', '2515385', '2500524', '2565177', '2504572', '2549613', '2554206', '2514018', '2556087', '2531955', '2548656', '2540192', '2563934', '2542364', '2515375', '2562880', '2299055', '2562598', '2542244', '2542004', '2558011', '2525437', '2533478', '2513086', '2518993', '2533499', '2516237', '2508841', '2513483', '2557567', '2564916', '2460417', '2559380', '2554768', '2553682', '2527396', '2541651', '2483905', '2542597', '2547497', '2543607', '2508225', '2544979', '2565075', '2552901', '2549498', '2547632', '2558600', '2506956', '2521341', '2506488', '2569786', '2539645', '2516311', '2531236', '2540949', '2534622', '2553686', '2506965', '2531152', '2559749', '2516458', '2552516', '2548438', '2538317', '2318275', '2561571', '2551316', '2540966', '2551899', '2538481', '2545758', '2515366', '2551769', '2534608', '2505579', '2532284', '2505149', '2548375', '2199970', '2520574', '2504743', '2518146', '2514904', '2549793', '2536872', '2525659', '2558726', '2520317', '2523298', '2518732', '2507313', '2537928', '2519154', '2525920', '2537282', '2490921', '2533316', '2555519', '2507474', '2521064', '2568047', '2547976', '2443213', '2505629', '2559208', '2559583', '2520376', '2560149', '2566664', '2560297', '2529956', '2534437', '2546963', '2554550', '2518862', '2523702', '2551082', '2547783', '2551314', '2530614', '2529032', '2535279', '2546137', '2513552', '2513979', '2532843', '2513786', '2507812', '2538251', '2563254', '2540329', '2524916', '2539552', '2522479', '2527402', '2521607', '2518090', '2534612', '2561829', '2536169', '2538818', '2527273', '2525881', '2535884', '2510685', '2561683', '2509527', '2567817', '2568910', '2527211', '2529366', '2504124', '2518367', '2553784', '2568152', '2522509', '2555977', '2565291', '2508480', '2514096', '2547023', '2560291', '2521098', '2553381', '2511290', '2536354', '2551458', '2511548', '2570026', '2525311', '2547962', '2550667', '2550128', '2516485', '2504977', '2505892', '2543190', '2529073', '2546859', '2552625', '2545033', '2540254', '2458651', '2566174', '2561624', '2567073', '2522596', '2517500', '2530543', '2536727', '2568786', '2570471', '2531861', '2139403', '2555525', '2446969', '2549295', '2524974', '2533548', '2521213', '2504765', '2558403', '2555360', '2566007', '2494956', '2552981', '2541945', '2544024', '2557027', '2527491', '2411670', '2515162', '2558294', '2534427', '2552833', '2503159', '2552938', '2536012', '2524143', '2512465', '2531673', '2550509', '2242275', '2527513', '2530044', '2192370', '2524587', '2515580', '2504343', '2547858', '2534415', '2520974', '2531313', '2566705', '2569804', '2474203', '2523993', '2561310', '2507806', '2507604', '2538218', '2566125', '2513875', '2507198', '2516170', '2535175', '2519945', '2532555', '2525870', '2483918', '2550556', '2512942', '2515025', '2554240', '2539395', '2565185', '2555554', '2522041', '2547983', '2535386', '2534562', '2480501', '2517661', '2545366', '2538605', '2513912', '2559853', '2518165', '2513367', '2523199', '2507882', '2448651', '2452166', '2505464', '2558418', '2505456', '2564536', '2531971', '2530385', '2560063', '2529564', '2552727', '2554699', '2514065', '2426470', '2549343', '2533942', '2506975', '2556713', '2513530', '2525366', '2514451', '2542573', '2527329', '2518371', '2548365', '2558209', '2545064', '2521856', '2352162', '2557097', '2552463', '2513883', '2537192', '2545552', '2530657', '2205875', '1130382', '1292195', '1532078', '2534419', '2549512', '2551217', '2558856', '2569252', '2540722', '2565114', '2560404', '2527672', '2567413', '2532300', '2504685', '2567979', '2526758', '2547034', '2518517', '2553818', '2509424', '2542141', '2456967', '2553716', '2528377', '2541625', '2550437', '2443645', '2519228', '2537591', '2527022', '2512450', '2550897', '2568146', '2517437', '2543380', '2504790', '2542055', '2547847', '2533681', '2518309', '2562611', '2538945', '2544355', '2511478', '2546284', '2528863', '2533511', '2554525', '2525348', '2506725', '2535514', '2528786', '2568064', '2561648', '2569819', '2549813', '2566553', '2557660', '2534211', '2548578', '2569496', '2514886', '2560040', '2539810', '2468041', '2500240', '2561974', '2525505', '2565890', '2552275', '2546414', '2522378', '2528674', '2551697', '2514630', '2369528', '2533068', '2560834', '2544273', '2523770', '2554526', '2561580', '2559729', '2557121', '2531848', '2537095', '2548105', '2513667', '2549378', '2525678', '2539371', '2498516', '2548747', '2530188', '2520505', '2556136', '2563664', '2554286', '2535690', '2537449', '2566091', '2546778', '2506474', '2565324', '2549610', '2530828', '2552248', '2531138', '2519001', '2565260', '2570603', '2557522', '2517508', '2512893', '2509598', '2524073', '2570506', '2544070', '2539765', '2524244', '2541435', '2570151', '2555589', '2509357', '2514478', '2519039', '2549428', '2504001', '2531610', '2529220', '2549854', '2512211', '2568839', '2521192', '2537254', '2547872', '2567714', '2568083', '2564942', '2519618', '2537471', '2557439', '2531064', '2508378', '2570053', '2541205', '2566162', '2555559', '2514462', '2514500', '2544405', '2556774', '2506603', '2534515', '2508077', '2565322', '2519426', '2552692', '2550730', '2529313', '2551131', '2532162', '2506547', '2560559', '2535292', '2543243', '2568312', '2507084', '2565463', '2530655', '2569588', '2550412', '2542916', '2534961', '2507893', '2565587', '2550395', '2514099', '2554382', '2461890', '2567712', '2505747', '2289155', '2496289', '2546878', '2568353', '2557091', '2561070', '2565117', '2515781', '2561294', '2538179', '2562127', '2535785', '2565284', '2552897', '2509759', '2507115', '2323194', '2555259', '2509895', '2517803', '2543415', '2522914', '2521806', '2519721', '2565251', '2530526', '2553492', '2550679', '2567716', '2533634', '2562968', '2522722', '2553413', '2528743', '2565532', '2567893', '2472275', '2549441', '2556852', '2504707', '2556352', '2531341', '2532173', '2551287', '2507566', '2540988', '2547275', '2505293', '2566508', '2567767', '2525125', '2548697', '2569186', '2560574', '2547893', '2517351', '2538123', '2533886', '2510489', '2507514', '2557608', '2516792', '2503992', '2512217', '2548343', '2552587', '2549893', '2553840', '2517481', '2567054', '2558320', '2505651', '2555639', '2539826', '2522181', '2525946', '2508488', '2537038', '2517204', '2545314', '2504408', '2542092', '2536296', '2548481', '2510730', '2513774', '2555131', '2546599', '2522927', '2526641', '2523233', '2534999', '2532086', '2553975', '2518569', '2508029', '2265436', '2518876', '2521061', '2545323', '2490365', '2567606', '2563359', '2523177', '2516423', '2541655', '2517306', '2525816', '2537336', '2453036', '2568431', '2476359', '2553362', '2504031', '2521513', '2560033', '2541361', '2511493', '2507780', '2528035', '2546810', '2526006', '2409265', '2302575', '2539334', '2558861', '2562275', '2516986', '2520366', '2339332', '2120043', '2402266', '2509385', '2565164', '2528311', '2514862', '2529449', '2567478', '2545118', '2512895', '2539400', '2525027', '2325308', '2541871', '2531101', '2540912', '2366948', '2524268', '2549308', '2504950', '2527057', '2563787', '2519592', '2566962', '2561652', '2507262', '2550480', '2516212', '2508752', '2521310', '2544770', '2570075', '2561892', '2566079', '2527068', '2564443', '2529643', '2569183', '2556840', '2541091', '2503204', '2558329', '2524212', '2559361', '2566171', '2511790', '2540129', '2530937', '2562237', '2548715', '2522828', '2482769', '2556723', '2562798', '2531756', '2559542', '2517682', '2512744', '2556098', '2540357', '2565508', '2517257', '2529756', '2519795', '2527250', '2525534', '2524860', '2519826', '1285409', '1391427', '1184365', '2018333', '1613668', '1557271', '2566389', '2540812', '2525012', '2545446', '2550004', '2516917', '2560868', '2544470', '2534185', '2537033', '2504941', '2546886', '2506973', '2505412', '2523544', '2551341', '2513998', '2512339', '2503785', '2553279', '2451776', '2550459', '2491032', '2566117', '2495282', '2512761', '2504019', '2520287', '2505987', '2559212', '2518700', '2154068', '2563286', '2510781', '2505088', '2567734', '2543564', '2522070', '2516505', '2512058', '2568352', '2528506', '2544127', '2532612', '2520286', '2525617', '2437585', '2531548', '2526209', '2564645', '2514908', '2519020', '2549164', '2503954', '2479643', '2530588', '2518885', '2562278', '2526446', '2554226', '2563898', '2549434', '2533660', '2502826', '2520607', '2509396', '2520004', '2560490', '2504045', '2506265', '2509270', '2505771', '2515433', '2511178', '2524246', '2520568', '2504629', '2564654', '2506577', '2504290', '2507344', '2563565', '2567210', '2546619', '2523600', '2517188', '2325830', '2549520', '2530085', '2546149', '2518166', '2510305', '2533710', '2560914', '2530051', '2557124', '2544205', '2524409', '2562424', '2566954', '2548900', '2561032', '2566599', '2506061', '2555652', '2506770', '2512269', '2557909', '2515787', '2567884', '2560113', '2563599', '2562378', '2561074', '2558166', '2549952', '2505431', '2567376', '2550782', '2555382', '2568987', '2565826', '2507208', '2540040', '2536709', '2509415', '2507589', '2533810', '2549532', '2555782', '2523182', '2554299', '2561774', '2531742', '2552695', '2408015', '2522519', '2512127', '2545813', '2567607', '2550413', '2564634', '2514270', '2544348', '2520412', '2523608', '2565133', '2554272', '2216658', '2525315', '2545340', '2559497', '2568653', '2529107', '2515280', '2557801', '2552752', '2516829', '2566885', '2569571', '2514858', '2551233', '2560286', '2520330', '2550101', '2547142', '2525573', '2527434', '2509006', '2557010', '2538913', '2500169', '1017278', '2552103', '2514673', '2550095', '2511783', '2530514', '2485122', '2557724', '2553397', '2496526', '2522419', '2553632', '2561884', '2569034', '2551651', '2553768', '2548901', '2522841', '2541249', '2539555', '2524750', '2530330', '2444265', '2528101', '2530660', '2531665', '2546745', '2547890', '2532068', '2517006', '2560945', '2545002', '2558505', '2510074', '2511196', '2503835', '2523981', '2545395', '2560936', '2519886', '2519111', '2525390', '2537391', '2559800', '2546193', '2510827', '2548459', '2533260', '2536720', '2548769', '2552493', '2528631', '2556453', '2553573', '2555388', '2537477', '2532795', '2555050', '2547427', '2511735', '2521176', '2532348', '2535464', '2517294', '2538996', '2519033', '2548322', '2505921', '2560104', '2549679', '2554684', '2519113', '2553401', '2548432', '2569612', '2543316', '2533984', '2547963', '2564754', '2253521', '2550110', '2520660', '2519547', '2520906', '2525813', '2560119', '2507310', '2510673', '2446021', '2549632', '2563246', '2498264', '2516734', '2529152', '2532842', '2565234', '2567968', '2563789', '2542202', '2533804', '2533497', '2535389', '2485020', '2520350', '2500394', '2527181', '2570510', '2512787', '2537570', '2507039', '2513337', '2540086', '2511025', '2456111', '2531435', '2559253', '2543360', '2548300', '2522137', '2566815', '2544095', '2542633', '2515173', '2563836', '2542713', '2554500', '2515759', '2444382', '2506016', '2528554', '2505205', '2524838', '2518763', '2566868', '2552813', '2467471', '2532389', '2405967', '2530760', '2517345', '2541081', '2524820', '2524835', '2507209', '2530192', '2524234', '2566801', '2555696', '2561636', '2564999', '2533825', '2521521', '2557604', '2535599', '2546675', '2502291', '2554560', '2512499', '2547472', '2569650', '2550368', '2537460', '2555140', '2553115', '2554005', '2558923', '2507105', '2541602', '2552532', '2555830', '2214538', '2526675', '2520395', '2505346', '2525666', '2528247', '2569732', '2539566', '2536668', '2503542', '2566978', '2532805', '2556120', '2554540', '2539968', '2562872', '2539012', '2556595', '2558724', '2512029', '2507755', '2526809', '2524810', '2537876', '2567346', '2556797', '2563092', '2551990', '2555606', '2532724', '2554996', '2536834', '2569688', '2533202', '2563683', '2528288', '2506038', '2510454', '2535241', '2505859', '2550038', '2408807', '2528992', '2504074', '2522304', '2534726', '2538757', '2517123', '2553433', '2522371', '2562367', '2551768', '2545554', '2508557', '2506143', '2538790', '2551641', '2515782', '2561971', '2570056', '2504578', '2511150', '1649174', '2560946', '2565088', '2524368', '2526154', '2553160', '2552254', '2548489', '2533938', '2530290', '2524229', '2516822', '2558621', '2472088', '2514789', '1306791', '2554260', '2569222', '2125484', '2516213', '2372499', '2554808', '2512436', '2536866', '2506239', '2514994', '2567000', '2533120', '2535330', '2560052', '2554275', '2474306', '2568480', '2486620', '2504299', '2543554', '2493331', '2506024', '2554419', '2538049', '2504688', '2537380', '2565603', '2545514', '2508857', '2531024', '2555907', '2540904', '2561731', '2385955', '2514319', '2547689', '2227653', '2547021', '2522967', '2518923', '2566086', '2554582', '2546204', '2510152', '2556148', '2520854', '2519505', '2561486', '2556265', '2417547', '2505646', '2417415', '2565440', '2537050', '2565499', '2529438', '2525365', '2528256', '2532479', '2568416', '2546999', '2546861', '2542015', '2566146', '2534053', '2525470', '2565079', '2566305', '2557233', '2544354', '2545847', '2524055', '2244526', '2521071', '2503993', '2550724', '2410598', '2550877', '2534862', '2550865', '2530163', '2515368', '2508711', '2531876', '2514190', '2506256', '2516189', '2493848', '2515637', '2487354', '2539667', '2540062', '2561186', '2560219', '2540161', '2517631', '2472760', '2533728', '2522320', '2372923', '2529817', '2550766', '2559713', '2549451', '2528447', '2551051', '2526749', '2533474', '2514147', '2564768', '2558584', '2561858', '2510625', '2358833', '2563278', '2561921', '2519377', '2516426', '2517033', '2511343', '2555828', '2514721', '2534447', '2535394', '2523408', '2557454', '2556062', '2508897', '2569313', '2545727', '2552914', '2550600', '2508744', '2555467', '2513412', '2491120', '2532113', '2513844', '2533968', '2525951', '2526599', '2567483', '2508644', '2568789', '2535547', '2569445', '2427160', '2523538', '2563975', '2304037', '2565852', '2222524', '2562985', '2553078', '2543760', '2516858', '2559726', '2566449', '2552841', '2570451', '2564946', '2567711', '2528763', '2556659', '2566348', '2549144', '2517684', '2506535', '2570040', '2562008', '2542757', '2536159', '2531954', '2556500', '2549366', '2498316', '2548485', '2509506', '2546203', '2556083', '2508924', '2506876', '2562144', '2550573', '2482241', '2564701', '2510047', '2569464', '2522333', '2532638', '2337986', '2550567', '2560849', '2532900', '2512779', '2505700', '2541904', '2560529', '2523428', '2539859', '2523285', '2508025', '2523586', '2517718', '2562229', '2508583', '2551486', '2531316', '2528778', '2505794', '2444834', '2547305', '2536837', '2537161', '2510547', '2566546', '2526667', '2538564', '2565474', '2538109', '2525603', '2524121', '2507515', '2522921', '2565056', '2540626', '2538705', '2464598', '2565613', '2531142', '2509193', '2547388', '2558062', '2546329', '2564929', '2527729', '2567700', '2566657', '2520620', '2286818', '2506113', '2542851', '2522691', '2539524', '2500188', '2524530', '2538044', '2521173', '2562064', '2518011', '2535316', '2564883', '2535002', '2534266', '2556617', '2567066', '2511766', '2565479', '2534083', '2528914', '2561153', '2524696', '2532619', '2530149', '2440497', '2564141', '2514001', '2563868', '2559610', '2528217', '2508996', '2532262', '2516526', '2554364', '2562924', '2563692', '2520302', '2509214', '2556478', '2554012', '2569072', '2555245', '2319578', '2565789', '2522854', '2547971', '2555841', '2556886', '2522231', '2522619', '2516967', '2531890', '2531224', '2541402', '2559034', '2553728', '2569770', '2475195', '2517248', '2567835', '2537817', '2542120', '2569553', '2513390', '2510563', '2536357', '2368507', '2551773', '2557254', '2516345', '2539420', '2554305', '2486926', '2569730', '2563682', '2567788', '2555539', '2551964', '2569644', '2515527', '2562658', '2547205', '2540873', '2568114', '2550126', '2568067', '2536789', '2545964', '2538854', '2341434', '2568962', '2549861', '2569847', '2557977', '2280447', '2570077', '2565727', '2527706', '2567944', '2548422', '2561595', '2526520', '2518981', '2567477', '2544421', '2530260', '2471118', '2537427', '2415457', '2547685', '2567063', '2534388', '2550227', '2546928', '2565057', '2555995', '2561583', '2567064', '2503237', '2520859', '2530068', '2193463', '2539897', '2554105', '2557101', '2537931', '2522958', '2444055', '2517955', '2518864', '2506393', '2301176', '2519014', '2504566', '2508282', '2550569', '2512332', '2518209', '2512678', '2539958', '2538650', '2276562', '2505255', '2241796', '2546966', '2149783', '2394739', '2349122', '1958075', '1748391', '1219458', '2357515', '2366993', '1961069', '2018880', '2195695', '2354155', '2368836', '1809815', '2283570', '2378420', '2381827', '1109173', '1467342', '2252355', '1847844', '1325766', '2080884', '2029979', '2140099', '2353218', '1942396', '1179669', '1479425', '1861644', '1024765', '1366220', '1103495', '2365033', '2384162', '2391711', '2377294', '2353948', '1062902', '1433778', '1885671', '2074984', '2371457', '1175485', '2310921', '1147232', '1665180', '2287807', '1741332', '1417267', '2236049', '2333637', '1971337', '1534115', '1811451', '2314798', '1064188', '1222725', '2320960', '1099076', '1960543', '1037661', '1041822', '2389128', '2313646', '2367739', '2259021', '1782219', '2213695', '2348668', '1333630', '1862029', '2368984', '1008139', '2153397', '1538520', '2349666', '2371832', '2037813', '2038212', '1059388', '1224758', '1124972', '1875493', '2371618', '2396314', '1868419', '1785874', '2373802', '2365498', '2367120', '1024590', '1936197', '1910851', '2270042', '2243084', '1124544', '1294020', '2139544', '1661690', '1985790', '1848960', '2304615', '2373643', '1875960', '2299193', '2300492', '2308258', '2358172', '1463580', '1422026', '1368203', '1237792', '1420595', '1044982', '1704255', '1142002', '2246904', '1051053', '2354266', '1335798', '1135938', '1388522', '1206896', '1055334', '1447037', '2312913', '2265486', '2053760', '1842873', '2367967', '1996867', '1225270', '2365914', '2355162', '2383096', '1192719', '1007494', '2316915', '1274151', '2397509', '2311629', '2293966', '1991084', '2003912', '2068562', '1218348', '2372474', '1593894', '2095320', '1010381', '1285600', '1825192', '2336515', '2364456', '1067783', '2293307', '1921916', '1116289', '1276282', '2380456', '2131258', '1928684', '1434269', '2355164', '2339379', '2346840', '1029268', '2358573', '2339853', '2275255', '2347899', '1624818', '1189919', '1419283', '1097905', '1027502', '1035554', '1997330', '2057812', '2376320', '1060458', '1028242', '2155170', '2366995', '2377389', '1009134', '1009341', '2372580', '2050307', '2183096', '1448104', '1318860', '1594355', '1039190', '1187991', '1124433', '2233882', '2102159', '2297840', '2363767', '1288222', '1938048', '1064154', '2352593', '2297738', '2367622', '1046960', '2309830', '1192464', '2372682', '1365092', '2315398', '2303585', '1729836', '1281071', '1102491', '2367199', '2366310', '2362346', '1060131', '2329477', '1127469', '1467864', '2302568', '2310014', '2275300', '1755200', '1300985', '2369351', '2358806', '1888558', '1033380', '2365175', '1064065', '1052929', '2328581', '1015379', '2106576', '2312099', '1099813', '1106413', '2371752', '1103068', '1197800', '2371102', '2347686', '1660694', '2121032', '2318364', '1793238', '2365136', '2363949', '1192462', '1051612', '1710327', '2355816', '2119361', '1793474', '1913775', '1186475', '1060636', '2376695', '1017031', '1192621', '1103689', '1018340', '1046956', '2366194', '2374096', '1616655', '1005293', '2232174', '1390802', '2372205', '2057101', '1031802', '2299144', '1810998', '2344042', '1722391', '2357286', '1858761', '1283908', '1040119', '1881545', '2054018', '1849804', '1009852', '1017019', '1054718', '2391158', '2347414', '2333411', '2253597', '1543777', '2058905', '2362595', '2373592', '2379375', '2380704', '2379783', '2345851', '1025539', '2100112', '2145638', '1930085', '1979207', '2349220', '1020950', '1325287', '2265364', '1088589', '2181320', '1028973', '1656758', '2049321', '1089319', '1006118', '2112209', '2363616', '1795596', '2241635', '1005905', '1022650', '2358891', '2112373', '1078085', '2347854', '1687313', '1204790', '1104373', '2367013', '2374830', '2016321', '1302322', '1109153', '2359703', '1212113', '1780034', '2361753', '1464700', '2364086', '2081751', '1690312', '2052009', '1014657', '2364096', '2013947', '2367931', '2321573', '2064970', '2372905', '2369901', '1122655', '1210175', '1421894', '1698837', '2325898', '2387770', '1965349', '1710680', '2229916', '2131959', '1315143', '1085156', '1142776', '1112685', '2366999', '1113910', '2292305', '1866365', '1100719', '1902134', '2188781', '1523484', '2359714', '2311249', '2082236', '2176572', '2378771', '2381036', '1081425', '1103684', '1155728', '2271220', '2283921', '1034383', '1196471', '1067608', '1706795', '2344161', '1807040', '1830118', '1195600', '1171446', '2364052', '2360980', '2149796', '1421849', '1226670', '1328112', '1037596', '2222239', '2229731', '2275143', '1193519', '1875050', '1035721', '2358900', '1241971', '1027443', '1774982', '1056403', '1261321', '2379945', '2365939', '2258570', '1923433', '2330734', '1757920', '2125677', '2360046', '1029286', '2261675', '2316793', '1421197', '2332532', '2344062', '2357472', '1063031', '1999875', '2386441', '1055649', '2352926', '2048442', '1294552', '1263023', '1835739', '1990290', '1729882', '1218085', '1335250', '1680852', '1916468', '2391142', '2171537', '2352980', '1268846', '2352155', '1542843', '1122599', '2366654', '1880242', '2288407', '2359849', '1282581', '1117210', '2365361', '1699390', '2368291', '2277639', '1032254', '1187413', '2116858', '1503241', '2387977', '1000468', '2363861', '1296524', '1137663', '2379023', '2382409', '1313374', '1057896', '1074261', '1015639', '1070313', '2342795', '2380475', '1409669', '2301031', '1179067', '1054177', '1081303', '2375233', '2367946', '1394317', '1014609', '1041664', '2295039', '1317378', '1909792', '1898528', '1895262', '2364957', '2330622', '2177488', '1072753', '2356699', '1726222', '1422940', '2032059', '2261945', '1217746', '2318004', '1173449', '1046681', '1088382', '1682747', '1016048', '1056605', '1025460', '2352858', '2332066', '2363728', '2255239', '2357018', '2365243', '1172470', '2342724', '2364127', '2247809', '2364641', '1673139', '1948268', '1159427', '1020480', '1261375', '1087975', '2347048', '1114176', '2102279', '1807063', '1868169', '2285567', '1074356', '2172131', '1201113', '2378743', '2395852', '1099039', '2315109', '1449874', '2208699', '2358829', '2231168', '1548913', '2310194', '2358347', '2256425', '1013786', '1941375', '2063428', '1068397', '1954193', '1466200', '1264012', '1112489', '2266874', '1092114', '1078287', '1847634', '1028946', '2385535', '1414372', '2389911', '2384942', '2053202', '1101749', '2034689', '2310364', '1215282', '1415142', '2133820', '2372001', '1284881', '2270437', '2273468', '1648415', '1024665', '1094189', '1186460', '2022550', '1067895', '2342215', '1046645', '1075168', '2371415', '1964982', '1979699', '2371488', '1370785', '1017325', '1414040', '1043408', '1014417', '1967968', '1025882', '2289974', '1475249', '2085483', '1018317', '2365785', '2294662', '1082419', '2250276', '2270433', '2305266', '1108951', '1239767', '2364570', '1148820', '1360176', '1382069', '1011086', '1180410', '1202808', '1852864', '2343178', '2169829', '2362116', '1062828', '1277364', '1009491', '2137145', '1230220', '2390869', '2388613', '1166404', '2386342', '1128873', '1579872', '1783485', '2182584', '1147008', '2124038', '2370471', '2366658', '1078055', '1865441', '1046923', '2331045', '1859708', '1132875', '2149759', '2382155', '1881141', '1072831', '1955374', '1239728', '2333742', '2351905', '1403828', '1871680', '1252367', '2328066', '2280146', '1072165', '1092767', '2378662', '1101357', '1662330', '1777607', '2367006', '1037034', '2107992', '1457004', '1158194', '2366028', '2303253', '1032468', '1091155', '2365668', '1113107', '2372717', '1998920', '1612038', '1384876', '2075285', '1537997', '1251350', '1024553', '2374101', '1129569', '2325891', '1971511', '2348176', '2316781', '1290777', '1861680', '2083634', '1050990', '1202213', '1168876', '1598848', '2380817', '2384912', '1019179', '1079109', '1059560', '1394824', '1204648', '1020027', '1121954', '1379272', '2372016', '1024109', '1179638', '2144505', '1301866', '1461661', '2286972', '1998246', '1885847', '2357741', '1721061', '2203700', '2002805', '2040619', '1015136', '2213576', '2116114', '1014781', '2235226', '2378876', '1752810', '2388446', '1165841', '2349205', '2331609', '2056980', '1109091', '1043968', '2370030', '1049700', '1015940', '2285245', '2362415', '2362623', '2358711', '2308788', '2302655', '2010725', '2378855', '1090851', '2041210', '1057809', '1010714', '2371187', '2362998', '2369298', '1082030', '2343270', '2061569', '1550762', '1243712', '2249397', '2307148', '2367191', '2310146', '2028715', '2380970', '2298153', '1277131', '1014427', '1052918', '2388678', '1528843', '2347641', '1178507', '1037431', '2371048', '2366110', '2366106', '2387237', '2394389', '2394112', '2333227', '2364391', '2295085', '1123202', '2351093', '2373935', '1211619', '1183882', '2208515', '2108926', '2268388', '1888200', '2312817', '2366011', '2361968', '1010042', '1309150', '2330245', '1508739', '1203457', '1785965', '1184648', '2075164', '1342748', '1781067', '1059318', '1189033', '2342298', '1907431', '1766250', '1218454', '2212818', '1923220', '2308558', '1383591', '1015751', '2316620', '2026387', '1099579', '1028774', '1006035', '2299562', '2038971', '1194723', '2014861', '2356387', '2359068', '2081815', '2156252', '2192852', '2372373', '1854878', '2373024', '1237964', '1509523', '2378804', '2383064', '2346322', '1772086', '2332450', '2140041', '2361128', '1511863', '1066024', '1987864', '1392994', '2233621', '1036919', '2223818', '1656461', '1183968', '2387409', '2379222', '1215777', '2314592', '2246760', '2283459', '2390651', '2390958', '2253349', '2377557', '2330377', '2379859', '2305759', '2351855', '2339003', '1538418', '2307322', '2255114', '1084223', '1260180', '2347809', '2284205', '1904841', '2374735', '1416919', '1233656', '1788116', '2396380', '1137781', '2093898', '1572787', '1730538', '1181958', '2068987', '2392388', '2360540', '1037894', '1062860', '1190970', '1092154', '1469147', '2344920', '2013599', '1033501', '1327688', '1884820', '2362299', '2088092', '1105032', '1435514', '2267368', '1765462', '2362161', '1000377', '1468065', '1297635', '2361334', '1813785', '2376347', '1053742', '1572073', '1208504', '1766158', '2317256', '1927938', '2076317', '2205383', '2361036', '1231534', '1456389', '1283431', '1018508', '1623582', '2321856', '2085240', '1946820', '2296086', '1520430', '2366720', '1423631', '1051673', '2224658', '1275244', '1420918', '1132880', '1075139', '1800586', '2224841', '2226958', '1030580', '1916214', '1193294', '1288466', '1047587', '1061806', '2385961', '1227474', '1571917', '1249137', '2200857', '2374219', '1070770', '1846479', '1509028', '1921962', '2375526', '2315143', '2048597', '1051613', '1557280', '2377248', '1858551', '2350393', '1510502', '1195619', '2376030', '2367676', '1080928', '2091024', '2383894', '2313782', '2355121', '1378663', '1272128', '2059126', '1888232', '1406672', '2246399', '1024753', '1022141', '2316005', '1039022', '2395319', '2362404', '1007195', '1787228', '1621945', '1274404', '1043021', '2368169', '1029707', '2360215', '2249769', '1836962', '2103783', '1079015', '1412305', '2303891', '2142255', '1267729', '2328122', '1062150', '1873327', '2091532', '1785593', '1551946', '1146247', '1832301', '1058962', '2397521', '2374099', '2239245', '2076246', '2080517', '2323213', '1867940', '1804100', '2365840', '1124638', '1924473', '2369444', '1750232', '2319752', '2311440', '1188239', '1436214', '1754795', '1180633', '2067057', '1411976', '1236177', '2307526', '1201411', '2153692', '2376804', '1115888', '2349243', '2377735', '2344449', '2317216', '2210840', '1973979', '1192613', '2351752', '2367374', '1857147', '2212369', '2385450', '1222485', '2380282', '1143144', '2378315', '1010191')\n",
      "),\n",
      "w_approved\n",
      "as\n",
      "(\n",
      "  select DISTINCT customerId from risk_credit_mis.loan_master_table where loantype = 'BIGLOAN' OR FLAGAPPROVAL = 1 OR FLAGDISBURSEMENT = 1  \n",
      "  or (stage1Status = 'EXPIRED' AND cddInitiatedDateAndTime IS NULL)\n",
      ")\n",
      "select *\n",
      "from\n",
      "(\n",
      "  select distinct\n",
      "  a.Customer_Id,a.TSA_Opening_date,\n",
      "  c.OFSTANDARDACCOUNTID as TSA_Account_Number, c.OfblockAmount, \n",
      "  a.TSA_Status,a.TSA_Balance,a.Solo_Stash_Balance,a.Group_Stash_Balance,a.Term_Deposit_Balance,a.Active_Term_Deposit_flag,a.Last_TSA_Credit_Date,a.Last_TSA_Debit_Date,\n",
      "  a.ARI_Flag,a.Active_Loan,a.Total_Loan_Outstanding,  case when b.customerId is not null then 1 else 0 end as Approved_Loans,\n",
      "  a.Pending_Loan_Applications,a.Hard_Reject_Loans_App,a.Soft_Reject_Loans_App,a.Cancelled_Loans_App, extract(date from a.Last_Login_Date) as Last_Login_Date,\n",
      "  a.Last_TSA_EOD_Balance_Date,a.Last_Group_Stash_Credit_Date,a.Group_Stash_Balance_Owner,a.Run_Date,a.Batch,a.Processing_Month,a.pending_loans_not_expired_not_exempt,a.expired_loans,\n",
      "  a.pending_loans_lastDt,a.expired_loans_lastDt,\n",
      "  CASE \n",
      "    WHEN tsa_status = 'Active' and (Last_TSA_Credit_Date = date '1970-01-01' and Last_Group_Stash_Credit_Date is null)\n",
      "    and (TSA_Opening_date < date '2024-06-12')   ####D-60 days(SHOULD BE SAME DATE FOR 1ST,2ND,3RD NOTIFICATION)\n",
      "    and ( round(coalesce(TSA_Balance,0) + coalesce(Solo_Stash_Balance,0) + coalesce(Group_Stash_Balance,0) + coalesce(Term_Deposit_Balance,0),2) = 0 )\n",
      "    and (Active_Loan = 0) and (COALESCE(Pending_Loan_Applications,0) = 0)\n",
      "    and (Active_Term_Deposit_flag = 0)\n",
      "    and (ARI_Flag = 'N')\n",
      "    --and (Approved_Loans = 0)  THEN 'TYPE 1'\n",
      "    and b.customerId is null  THEN 'TYPE 1'\n",
      "\n",
      "\n",
      "    WHEN tsa_status = 'Active' and Last_TSA_EOD_Balance_Date is null and (TSA_Opening_date < date '2024-06-12')  ####D-60 days(SHOULD BE SAME DATE FOR 1ST,2ND,3RD NOTIFICATION)\n",
      "    and ( round(coalesce(TSA_Balance,0) + coalesce(Solo_Stash_Balance,0) + coalesce(Group_Stash_Balance,0) + coalesce(Term_Deposit_Balance,0),2) = 0 )\n",
      "    and (Active_Loan = 0) and (COALESCE(Pending_Loan_Applications,0) = 0)\n",
      "    and (Active_Term_Deposit_flag = 0)\n",
      "    and (ARI_Flag = 'N')\n",
      "    --and (Approved_Loans = 0)\n",
      "    and b.customerId is null  \n",
      "    and (date_trunc(TSA_Opening_date,day) = date_trunc(Last_Login_Date,day)) THEN 'TYPE 2'\n",
      "\n",
      "    \n",
      "    WHEN ( round(coalesce(TSA_Balance,0) + coalesce(Solo_Stash_Balance,0) + coalesce(Group_Stash_Balance,0) + coalesce(Term_Deposit_Balance,0),2) < 1 )\n",
      "            and (Active_Loan = 0) and (COALESCE(Pending_Loan_Applications,0) = 0)\n",
      "            and (Active_Term_Deposit_flag = 0)\n",
      "            and TSA_Opening_date < date '2024-02-13'                                     ####D-180 days(SHOULD BE SAME DATE FOR 1ST,2ND,3RD NOTIFICATION)\n",
      "            and (Last_TSA_Credit_Date < date '2024-02-13'                                 ####D-180 days(SHOULD BE SAME DATE FOR 1ST,2ND,3RD NOTIFICATION)\n",
      "            and Last_TSA_Debit_Date < date '2024-02-13'                                         ####D-180 days(SHOULD BE SAME DATE FOR 1ST,2ND,3RD NOTIFICATION)\n",
      "            and coalesce(Last_Group_Stash_Credit_Date,date '1970-01-01') < date '2024-02-13' )  ####D-180 days(SHOULD BE SAME DATE FOR 1ST,2ND,3RD NOTIFICATION)\n",
      "            and tsa_status = 'Active'\n",
      "            and (ARI_Flag = 'N')\n",
      "    --and (Approved_Loans = 0)\n",
      "            and b.customerId is null  \n",
      "    THEN 'TYPE 3'\n",
      "    ELSE 'NO ACTION'\n",
      "    END AS ACTION_TYPE\n",
      "  from w_tsa A\n",
      "  left join w_approved b\n",
      "  on cast(a.Customer_Id as int64) = b.customerId\n",
      "  left join core_raw.customer_accounts c\n",
      "  on c.OFCUSTOMERID = a.Customer_Id and c.CRINTERDESC = 'Transactional Savings Account Inv_R' and c.OFISCLOSED = 'N'\n",
      "  where\n",
      "  Run_Date = date '2024-09-03'  ###DATE change here to D-1\n",
      ")\n",
      "\n"
     ]
    }
   ],
   "source": [
    "print(sq)"
   ]
  },
  {
   "cell_type": "code",
   "execution_count": 21,
   "metadata": {},
   "outputs": [
    {
     "name": "stdout",
     "output_type": "stream",
     "text": [
      "Job ID 063859b4-c8ee-4ad4-bdc5-4728117e8aad successfully executed: 100%|\u001b[32m██████████\u001b[0m|\n",
      "Downloading: 100%|\u001b[32m██████████\u001b[0m|\n"
     ]
    }
   ],
   "source": [
    "df = client.query(sq).to_dataframe(progress_bar_type = 'tqdm')"
   ]
  },
  {
   "cell_type": "code",
   "execution_count": 22,
   "metadata": {},
   "outputs": [
    {
     "data": {
      "text/html": [
       "<div>\n",
       "<style scoped>\n",
       "    .dataframe tbody tr th:only-of-type {\n",
       "        vertical-align: middle;\n",
       "    }\n",
       "\n",
       "    .dataframe tbody tr th {\n",
       "        vertical-align: top;\n",
       "    }\n",
       "\n",
       "    .dataframe thead th {\n",
       "        text-align: right;\n",
       "    }\n",
       "</style>\n",
       "<table border=\"1\" class=\"dataframe\">\n",
       "  <thead>\n",
       "    <tr style=\"text-align: right;\">\n",
       "      <th></th>\n",
       "      <th>Customer_Id</th>\n",
       "      <th>TSA_Opening_date</th>\n",
       "      <th>TSA_Account_Number</th>\n",
       "      <th>OfblockAmount</th>\n",
       "      <th>TSA_Status</th>\n",
       "      <th>TSA_Balance</th>\n",
       "      <th>Solo_Stash_Balance</th>\n",
       "      <th>Group_Stash_Balance</th>\n",
       "      <th>Term_Deposit_Balance</th>\n",
       "      <th>Active_Term_Deposit_flag</th>\n",
       "      <th>Last_TSA_Credit_Date</th>\n",
       "      <th>Last_TSA_Debit_Date</th>\n",
       "      <th>ARI_Flag</th>\n",
       "      <th>Active_Loan</th>\n",
       "      <th>Total_Loan_Outstanding</th>\n",
       "      <th>Approved_Loans</th>\n",
       "      <th>Pending_Loan_Applications</th>\n",
       "      <th>Hard_Reject_Loans_App</th>\n",
       "      <th>Soft_Reject_Loans_App</th>\n",
       "      <th>Cancelled_Loans_App</th>\n",
       "      <th>Last_Login_Date</th>\n",
       "      <th>Last_TSA_EOD_Balance_Date</th>\n",
       "      <th>Last_Group_Stash_Credit_Date</th>\n",
       "      <th>Group_Stash_Balance_Owner</th>\n",
       "      <th>Run_Date</th>\n",
       "      <th>Batch</th>\n",
       "      <th>Processing_Month</th>\n",
       "      <th>pending_loans_not_expired_not_exempt</th>\n",
       "      <th>expired_loans</th>\n",
       "      <th>pending_loans_lastDt</th>\n",
       "      <th>expired_loans_lastDt</th>\n",
       "      <th>ACTION_TYPE</th>\n",
       "    </tr>\n",
       "  </thead>\n",
       "  <tbody>\n",
       "    <tr>\n",
       "      <th>9190</th>\n",
       "      <td>2529741</td>\n",
       "      <td>2024-05-23</td>\n",
       "      <td>60825297410004</td>\n",
       "      <td>0.0</td>\n",
       "      <td>Active</td>\n",
       "      <td>0.0</td>\n",
       "      <td>0.0</td>\n",
       "      <td>0.0</td>\n",
       "      <td>0.0</td>\n",
       "      <td>0</td>\n",
       "      <td>1970-01-01</td>\n",
       "      <td>1970-01-01</td>\n",
       "      <td>N</td>\n",
       "      <td>0</td>\n",
       "      <td>0.0</td>\n",
       "      <td>0</td>\n",
       "      <td>0</td>\n",
       "      <td>0</td>\n",
       "      <td>0</td>\n",
       "      <td>0</td>\n",
       "      <td>2024-05-23</td>\n",
       "      <td>NaT</td>\n",
       "      <td>NaT</td>\n",
       "      <td>NaN</td>\n",
       "      <td>2024-09-03</td>\n",
       "      <td>Batch_1</td>\n",
       "      <td>September</td>\n",
       "      <td>0</td>\n",
       "      <td>1</td>\n",
       "      <td>NaT</td>\n",
       "      <td>2024-08-22</td>\n",
       "      <td>TYPE 1</td>\n",
       "    </tr>\n",
       "    <tr>\n",
       "      <th>12226</th>\n",
       "      <td>2510078</td>\n",
       "      <td>2024-05-11</td>\n",
       "      <td>60825100780005</td>\n",
       "      <td>0.0</td>\n",
       "      <td>Active</td>\n",
       "      <td>0.0</td>\n",
       "      <td>0.0</td>\n",
       "      <td>0.0</td>\n",
       "      <td>0.0</td>\n",
       "      <td>0</td>\n",
       "      <td>1970-01-01</td>\n",
       "      <td>1970-01-01</td>\n",
       "      <td>N</td>\n",
       "      <td>0</td>\n",
       "      <td>0.0</td>\n",
       "      <td>0</td>\n",
       "      <td>0</td>\n",
       "      <td>0</td>\n",
       "      <td>1</td>\n",
       "      <td>0</td>\n",
       "      <td>2024-08-25</td>\n",
       "      <td>NaT</td>\n",
       "      <td>NaT</td>\n",
       "      <td>NaN</td>\n",
       "      <td>2024-09-03</td>\n",
       "      <td>Batch_1</td>\n",
       "      <td>September</td>\n",
       "      <td>0</td>\n",
       "      <td>1</td>\n",
       "      <td>NaT</td>\n",
       "      <td>2024-08-10</td>\n",
       "      <td>TYPE 1</td>\n",
       "    </tr>\n",
       "    <tr>\n",
       "      <th>10582</th>\n",
       "      <td>2515235</td>\n",
       "      <td>2024-05-14</td>\n",
       "      <td>60825152350001</td>\n",
       "      <td>0.0</td>\n",
       "      <td>Active</td>\n",
       "      <td>0.0</td>\n",
       "      <td>0.0</td>\n",
       "      <td>0.0</td>\n",
       "      <td>0.0</td>\n",
       "      <td>0</td>\n",
       "      <td>1970-01-01</td>\n",
       "      <td>1970-01-01</td>\n",
       "      <td>N</td>\n",
       "      <td>0</td>\n",
       "      <td>0.0</td>\n",
       "      <td>0</td>\n",
       "      <td>0</td>\n",
       "      <td>0</td>\n",
       "      <td>0</td>\n",
       "      <td>0</td>\n",
       "      <td>2024-08-12</td>\n",
       "      <td>NaT</td>\n",
       "      <td>NaT</td>\n",
       "      <td>NaN</td>\n",
       "      <td>2024-09-03</td>\n",
       "      <td>Batch_1</td>\n",
       "      <td>September</td>\n",
       "      <td>0</td>\n",
       "      <td>1</td>\n",
       "      <td>NaT</td>\n",
       "      <td>2024-08-13</td>\n",
       "      <td>TYPE 1</td>\n",
       "    </tr>\n",
       "    <tr>\n",
       "      <th>10349</th>\n",
       "      <td>2562624</td>\n",
       "      <td>2024-06-09</td>\n",
       "      <td>60825626240002</td>\n",
       "      <td>0.0</td>\n",
       "      <td>Active</td>\n",
       "      <td>0.0</td>\n",
       "      <td>0.0</td>\n",
       "      <td>0.0</td>\n",
       "      <td>0.0</td>\n",
       "      <td>0</td>\n",
       "      <td>1970-01-01</td>\n",
       "      <td>1970-01-01</td>\n",
       "      <td>N</td>\n",
       "      <td>0</td>\n",
       "      <td>0.0</td>\n",
       "      <td>0</td>\n",
       "      <td>0</td>\n",
       "      <td>0</td>\n",
       "      <td>1</td>\n",
       "      <td>0</td>\n",
       "      <td>2024-09-03</td>\n",
       "      <td>NaT</td>\n",
       "      <td>NaT</td>\n",
       "      <td>NaN</td>\n",
       "      <td>2024-09-03</td>\n",
       "      <td>Batch_1</td>\n",
       "      <td>September</td>\n",
       "      <td>0</td>\n",
       "      <td>0</td>\n",
       "      <td>NaT</td>\n",
       "      <td>NaT</td>\n",
       "      <td>TYPE 1</td>\n",
       "    </tr>\n",
       "    <tr>\n",
       "      <th>1516</th>\n",
       "      <td>2549725</td>\n",
       "      <td>2024-06-03</td>\n",
       "      <td>60825497250004</td>\n",
       "      <td>0.0</td>\n",
       "      <td>Active</td>\n",
       "      <td>0.0</td>\n",
       "      <td>0.0</td>\n",
       "      <td>0.0</td>\n",
       "      <td>0.0</td>\n",
       "      <td>0</td>\n",
       "      <td>1970-01-01</td>\n",
       "      <td>1970-01-01</td>\n",
       "      <td>N</td>\n",
       "      <td>0</td>\n",
       "      <td>0.0</td>\n",
       "      <td>0</td>\n",
       "      <td>0</td>\n",
       "      <td>1</td>\n",
       "      <td>0</td>\n",
       "      <td>0</td>\n",
       "      <td>2024-06-22</td>\n",
       "      <td>NaT</td>\n",
       "      <td>NaT</td>\n",
       "      <td>NaN</td>\n",
       "      <td>2024-09-03</td>\n",
       "      <td>Batch_1</td>\n",
       "      <td>September</td>\n",
       "      <td>0</td>\n",
       "      <td>0</td>\n",
       "      <td>NaT</td>\n",
       "      <td>NaT</td>\n",
       "      <td>TYPE 1</td>\n",
       "    </tr>\n",
       "    <tr>\n",
       "      <th>17247</th>\n",
       "      <td>2512091</td>\n",
       "      <td>2024-05-12</td>\n",
       "      <td>60825120910001</td>\n",
       "      <td>0.0</td>\n",
       "      <td>Active</td>\n",
       "      <td>0.0</td>\n",
       "      <td>0.0</td>\n",
       "      <td>0.0</td>\n",
       "      <td>0.0</td>\n",
       "      <td>0</td>\n",
       "      <td>1970-01-01</td>\n",
       "      <td>1970-01-01</td>\n",
       "      <td>N</td>\n",
       "      <td>0</td>\n",
       "      <td>0.0</td>\n",
       "      <td>1</td>\n",
       "      <td>1</td>\n",
       "      <td>0</td>\n",
       "      <td>0</td>\n",
       "      <td>0</td>\n",
       "      <td>2024-08-30</td>\n",
       "      <td>NaT</td>\n",
       "      <td>NaT</td>\n",
       "      <td>NaN</td>\n",
       "      <td>2024-09-03</td>\n",
       "      <td>Batch_1</td>\n",
       "      <td>September</td>\n",
       "      <td>1</td>\n",
       "      <td>1</td>\n",
       "      <td>2024-08-30</td>\n",
       "      <td>2024-08-11</td>\n",
       "      <td>NO ACTION</td>\n",
       "    </tr>\n",
       "    <tr>\n",
       "      <th>1086</th>\n",
       "      <td>2534600</td>\n",
       "      <td>2024-05-27</td>\n",
       "      <td>60825346000007</td>\n",
       "      <td>0.0</td>\n",
       "      <td>Active</td>\n",
       "      <td>0.0</td>\n",
       "      <td>0.0</td>\n",
       "      <td>0.0</td>\n",
       "      <td>0.0</td>\n",
       "      <td>0</td>\n",
       "      <td>1970-01-01</td>\n",
       "      <td>1970-01-01</td>\n",
       "      <td>N</td>\n",
       "      <td>0</td>\n",
       "      <td>0.0</td>\n",
       "      <td>0</td>\n",
       "      <td>0</td>\n",
       "      <td>0</td>\n",
       "      <td>0</td>\n",
       "      <td>0</td>\n",
       "      <td>2024-08-22</td>\n",
       "      <td>NaT</td>\n",
       "      <td>NaT</td>\n",
       "      <td>NaN</td>\n",
       "      <td>2024-09-03</td>\n",
       "      <td>Batch_1</td>\n",
       "      <td>September</td>\n",
       "      <td>0</td>\n",
       "      <td>1</td>\n",
       "      <td>NaT</td>\n",
       "      <td>2024-08-25</td>\n",
       "      <td>TYPE 1</td>\n",
       "    </tr>\n",
       "    <tr>\n",
       "      <th>16820</th>\n",
       "      <td>2517957</td>\n",
       "      <td>2024-05-16</td>\n",
       "      <td>60825179570005</td>\n",
       "      <td>0.0</td>\n",
       "      <td>Active</td>\n",
       "      <td>0.0</td>\n",
       "      <td>0.0</td>\n",
       "      <td>0.0</td>\n",
       "      <td>0.0</td>\n",
       "      <td>0</td>\n",
       "      <td>1970-01-01</td>\n",
       "      <td>1970-01-01</td>\n",
       "      <td>N</td>\n",
       "      <td>0</td>\n",
       "      <td>0.0</td>\n",
       "      <td>0</td>\n",
       "      <td>0</td>\n",
       "      <td>0</td>\n",
       "      <td>0</td>\n",
       "      <td>0</td>\n",
       "      <td>2024-05-17</td>\n",
       "      <td>NaT</td>\n",
       "      <td>NaT</td>\n",
       "      <td>NaN</td>\n",
       "      <td>2024-09-03</td>\n",
       "      <td>Batch_1</td>\n",
       "      <td>September</td>\n",
       "      <td>0</td>\n",
       "      <td>1</td>\n",
       "      <td>NaT</td>\n",
       "      <td>2024-08-15</td>\n",
       "      <td>TYPE 1</td>\n",
       "    </tr>\n",
       "    <tr>\n",
       "      <th>11178</th>\n",
       "      <td>2550431</td>\n",
       "      <td>2024-06-04</td>\n",
       "      <td>60825504310002</td>\n",
       "      <td>0.0</td>\n",
       "      <td>Active</td>\n",
       "      <td>0.0</td>\n",
       "      <td>0.0</td>\n",
       "      <td>0.0</td>\n",
       "      <td>0.0</td>\n",
       "      <td>0</td>\n",
       "      <td>1970-01-01</td>\n",
       "      <td>1970-01-01</td>\n",
       "      <td>N</td>\n",
       "      <td>0</td>\n",
       "      <td>0.0</td>\n",
       "      <td>0</td>\n",
       "      <td>0</td>\n",
       "      <td>1</td>\n",
       "      <td>0</td>\n",
       "      <td>0</td>\n",
       "      <td>2024-08-26</td>\n",
       "      <td>NaT</td>\n",
       "      <td>NaT</td>\n",
       "      <td>NaN</td>\n",
       "      <td>2024-09-03</td>\n",
       "      <td>Batch_1</td>\n",
       "      <td>September</td>\n",
       "      <td>0</td>\n",
       "      <td>0</td>\n",
       "      <td>NaT</td>\n",
       "      <td>NaT</td>\n",
       "      <td>TYPE 1</td>\n",
       "    </tr>\n",
       "    <tr>\n",
       "      <th>10667</th>\n",
       "      <td>2507116</td>\n",
       "      <td>2024-05-19</td>\n",
       "      <td>60825071160007</td>\n",
       "      <td>0.0</td>\n",
       "      <td>Active</td>\n",
       "      <td>0.0</td>\n",
       "      <td>0.0</td>\n",
       "      <td>0.0</td>\n",
       "      <td>0.0</td>\n",
       "      <td>0</td>\n",
       "      <td>1970-01-01</td>\n",
       "      <td>1970-01-01</td>\n",
       "      <td>N</td>\n",
       "      <td>0</td>\n",
       "      <td>0.0</td>\n",
       "      <td>0</td>\n",
       "      <td>0</td>\n",
       "      <td>0</td>\n",
       "      <td>0</td>\n",
       "      <td>0</td>\n",
       "      <td>2024-07-23</td>\n",
       "      <td>NaT</td>\n",
       "      <td>NaT</td>\n",
       "      <td>NaN</td>\n",
       "      <td>2024-09-03</td>\n",
       "      <td>Batch_1</td>\n",
       "      <td>September</td>\n",
       "      <td>0</td>\n",
       "      <td>1</td>\n",
       "      <td>NaT</td>\n",
       "      <td>2024-08-08</td>\n",
       "      <td>TYPE 1</td>\n",
       "    </tr>\n",
       "  </tbody>\n",
       "</table>\n",
       "</div>"
      ],
      "text/plain": [
       "      Customer_Id TSA_Opening_date TSA_Account_Number  OfblockAmount  \\\n",
       "9190      2529741       2024-05-23     60825297410004            0.0   \n",
       "12226     2510078       2024-05-11     60825100780005            0.0   \n",
       "10582     2515235       2024-05-14     60825152350001            0.0   \n",
       "10349     2562624       2024-06-09     60825626240002            0.0   \n",
       "1516      2549725       2024-06-03     60825497250004            0.0   \n",
       "17247     2512091       2024-05-12     60825120910001            0.0   \n",
       "1086      2534600       2024-05-27     60825346000007            0.0   \n",
       "16820     2517957       2024-05-16     60825179570005            0.0   \n",
       "11178     2550431       2024-06-04     60825504310002            0.0   \n",
       "10667     2507116       2024-05-19     60825071160007            0.0   \n",
       "\n",
       "      TSA_Status  TSA_Balance  Solo_Stash_Balance  Group_Stash_Balance  \\\n",
       "9190      Active          0.0                 0.0                  0.0   \n",
       "12226     Active          0.0                 0.0                  0.0   \n",
       "10582     Active          0.0                 0.0                  0.0   \n",
       "10349     Active          0.0                 0.0                  0.0   \n",
       "1516      Active          0.0                 0.0                  0.0   \n",
       "17247     Active          0.0                 0.0                  0.0   \n",
       "1086      Active          0.0                 0.0                  0.0   \n",
       "16820     Active          0.0                 0.0                  0.0   \n",
       "11178     Active          0.0                 0.0                  0.0   \n",
       "10667     Active          0.0                 0.0                  0.0   \n",
       "\n",
       "       Term_Deposit_Balance  Active_Term_Deposit_flag Last_TSA_Credit_Date  \\\n",
       "9190                    0.0                         0           1970-01-01   \n",
       "12226                   0.0                         0           1970-01-01   \n",
       "10582                   0.0                         0           1970-01-01   \n",
       "10349                   0.0                         0           1970-01-01   \n",
       "1516                    0.0                         0           1970-01-01   \n",
       "17247                   0.0                         0           1970-01-01   \n",
       "1086                    0.0                         0           1970-01-01   \n",
       "16820                   0.0                         0           1970-01-01   \n",
       "11178                   0.0                         0           1970-01-01   \n",
       "10667                   0.0                         0           1970-01-01   \n",
       "\n",
       "      Last_TSA_Debit_Date ARI_Flag  Active_Loan  Total_Loan_Outstanding  \\\n",
       "9190           1970-01-01        N            0                     0.0   \n",
       "12226          1970-01-01        N            0                     0.0   \n",
       "10582          1970-01-01        N            0                     0.0   \n",
       "10349          1970-01-01        N            0                     0.0   \n",
       "1516           1970-01-01        N            0                     0.0   \n",
       "17247          1970-01-01        N            0                     0.0   \n",
       "1086           1970-01-01        N            0                     0.0   \n",
       "16820          1970-01-01        N            0                     0.0   \n",
       "11178          1970-01-01        N            0                     0.0   \n",
       "10667          1970-01-01        N            0                     0.0   \n",
       "\n",
       "       Approved_Loans  Pending_Loan_Applications  Hard_Reject_Loans_App  \\\n",
       "9190                0                          0                      0   \n",
       "12226               0                          0                      0   \n",
       "10582               0                          0                      0   \n",
       "10349               0                          0                      0   \n",
       "1516                0                          0                      1   \n",
       "17247               1                          1                      0   \n",
       "1086                0                          0                      0   \n",
       "16820               0                          0                      0   \n",
       "11178               0                          0                      1   \n",
       "10667               0                          0                      0   \n",
       "\n",
       "       Soft_Reject_Loans_App  Cancelled_Loans_App Last_Login_Date  \\\n",
       "9190                       0                    0      2024-05-23   \n",
       "12226                      1                    0      2024-08-25   \n",
       "10582                      0                    0      2024-08-12   \n",
       "10349                      1                    0      2024-09-03   \n",
       "1516                       0                    0      2024-06-22   \n",
       "17247                      0                    0      2024-08-30   \n",
       "1086                       0                    0      2024-08-22   \n",
       "16820                      0                    0      2024-05-17   \n",
       "11178                      0                    0      2024-08-26   \n",
       "10667                      0                    0      2024-07-23   \n",
       "\n",
       "      Last_TSA_EOD_Balance_Date Last_Group_Stash_Credit_Date  \\\n",
       "9190                        NaT                          NaT   \n",
       "12226                       NaT                          NaT   \n",
       "10582                       NaT                          NaT   \n",
       "10349                       NaT                          NaT   \n",
       "1516                        NaT                          NaT   \n",
       "17247                       NaT                          NaT   \n",
       "1086                        NaT                          NaT   \n",
       "16820                       NaT                          NaT   \n",
       "11178                       NaT                          NaT   \n",
       "10667                       NaT                          NaT   \n",
       "\n",
       "       Group_Stash_Balance_Owner    Run_Date    Batch Processing_Month  \\\n",
       "9190                         NaN  2024-09-03  Batch_1        September   \n",
       "12226                        NaN  2024-09-03  Batch_1        September   \n",
       "10582                        NaN  2024-09-03  Batch_1        September   \n",
       "10349                        NaN  2024-09-03  Batch_1        September   \n",
       "1516                         NaN  2024-09-03  Batch_1        September   \n",
       "17247                        NaN  2024-09-03  Batch_1        September   \n",
       "1086                         NaN  2024-09-03  Batch_1        September   \n",
       "16820                        NaN  2024-09-03  Batch_1        September   \n",
       "11178                        NaN  2024-09-03  Batch_1        September   \n",
       "10667                        NaN  2024-09-03  Batch_1        September   \n",
       "\n",
       "       pending_loans_not_expired_not_exempt  expired_loans  \\\n",
       "9190                                      0              1   \n",
       "12226                                     0              1   \n",
       "10582                                     0              1   \n",
       "10349                                     0              0   \n",
       "1516                                      0              0   \n",
       "17247                                     1              1   \n",
       "1086                                      0              1   \n",
       "16820                                     0              1   \n",
       "11178                                     0              0   \n",
       "10667                                     0              1   \n",
       "\n",
       "      pending_loans_lastDt expired_loans_lastDt ACTION_TYPE  \n",
       "9190                   NaT           2024-08-22      TYPE 1  \n",
       "12226                  NaT           2024-08-10      TYPE 1  \n",
       "10582                  NaT           2024-08-13      TYPE 1  \n",
       "10349                  NaT                  NaT      TYPE 1  \n",
       "1516                   NaT                  NaT      TYPE 1  \n",
       "17247           2024-08-30           2024-08-11   NO ACTION  \n",
       "1086                   NaT           2024-08-25      TYPE 1  \n",
       "16820                  NaT           2024-08-15      TYPE 1  \n",
       "11178                  NaT                  NaT      TYPE 1  \n",
       "10667                  NaT           2024-08-08      TYPE 1  "
      ]
     },
     "execution_count": 22,
     "metadata": {},
     "output_type": "execute_result"
    }
   ],
   "source": [
    "pd.set_option('display.max_columns', None)\n",
    "df.sample(10)"
   ]
  },
  {
   "cell_type": "code",
   "execution_count": 23,
   "metadata": {},
   "outputs": [
    {
     "data": {
      "text/plain": [
       "(18483, 32)"
      ]
     },
     "execution_count": 23,
     "metadata": {},
     "output_type": "execute_result"
    }
   ],
   "source": [
    "df.shape"
   ]
  },
  {
   "cell_type": "code",
   "execution_count": 24,
   "metadata": {},
   "outputs": [
    {
     "data": {
      "text/plain": [
       "ACTION_TYPE\n",
       "TYPE 1       17188\n",
       "TYPE 3         896\n",
       "NO ACTION      362\n",
       "TYPE 2          37\n",
       "Name: count, dtype: int64"
      ]
     },
     "execution_count": 24,
     "metadata": {},
     "output_type": "execute_result"
    }
   ],
   "source": [
    "df['ACTION_TYPE'].value_counts()"
   ]
  },
  {
   "cell_type": "code",
   "execution_count": 25,
   "metadata": {},
   "outputs": [],
   "source": [
    "df.to_excel(r\"C:\\Users\\DwaipayanChakroborti\\OneDrive - Tonik Financial Pte Ltd\\MyStuff\\Marvin\\TSA Account Closure\\July24&August24 Ongoing Batch\\SecondNotification_files\\20240904_TSA_Account_Closure_2ndtNotification.xlsx\", sheet_name='TSA_Closure_2ndNotification', index = False)"
   ]
  },
  {
   "cell_type": "code",
   "execution_count": null,
   "metadata": {},
   "outputs": [],
   "source": []
  }
 ],
 "metadata": {
  "kernelspec": {
   "display_name": "prjreports",
   "language": "python",
   "name": "python3"
  },
  "language_info": {
   "codemirror_mode": {
    "name": "ipython",
    "version": 3
   },
   "file_extension": ".py",
   "mimetype": "text/x-python",
   "name": "python",
   "nbconvert_exporter": "python",
   "pygments_lexer": "ipython3",
   "version": "3.9.19"
  }
 },
 "nbformat": 4,
 "nbformat_minor": 2
}
