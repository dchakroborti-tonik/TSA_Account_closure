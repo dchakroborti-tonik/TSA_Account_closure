{
 "cells": [
  {
   "cell_type": "markdown",
   "metadata": {},
   "source": [
    "# <div align=\"center\" style=\"color: #ff5733;\">TSA Closure Third Notification</div>"
   ]
  },
  {
   "cell_type": "code",
   "execution_count": 1,
   "metadata": {},
   "outputs": [],
   "source": [
    "# Import Libraries   \n",
    "\n",
    "import pandas as pd  \n",
    "import numpy as np  \n",
    "\n",
    "from google.cloud import bigquery\n",
    "import os\n",
    "\n",
    "path = r\"C:\\Users\\DwaipayanChakroborti\\AppData\\Roaming\\gcloud\\legacy_credentials\\dchakroborti@tonikbank.com\\adc.json\"\n",
    "\n",
    "os.environ[\"GOOGLE_APPLICATION_CREDENTIALS\"] = path\n",
    "client = bigquery.Client(project=\"prj-prod-dataplatform\")"
   ]
  },
  {
   "cell_type": "markdown",
   "metadata": {},
   "source": [
    "# Ask Balasubramani to refresh risk_credit_mis.tsa_account_closure table.\n",
    "**Check if that is refreshed when Balasubramani confirms it**"
   ]
  },
  {
   "cell_type": "code",
   "execution_count": 2,
   "metadata": {},
   "outputs": [
    {
     "name": "stdout",
     "output_type": "stream",
     "text": [
      "Job ID 93fb63cd-a8c8-4730-8cad-5b47355adcb8 successfully executed: 100%|\u001b[32m██████████\u001b[0m|\n",
      "Downloading: 100%|\u001b[32m██████████\u001b[0m|\n"
     ]
    },
    {
     "data": {
      "text/html": [
       "<div>\n",
       "<style scoped>\n",
       "    .dataframe tbody tr th:only-of-type {\n",
       "        vertical-align: middle;\n",
       "    }\n",
       "\n",
       "    .dataframe tbody tr th {\n",
       "        vertical-align: top;\n",
       "    }\n",
       "\n",
       "    .dataframe thead th {\n",
       "        text-align: right;\n",
       "    }\n",
       "</style>\n",
       "<table border=\"1\" class=\"dataframe\">\n",
       "  <thead>\n",
       "    <tr style=\"text-align: right;\">\n",
       "      <th></th>\n",
       "      <th>Run_Date</th>\n",
       "      <th>cnt</th>\n",
       "    </tr>\n",
       "  </thead>\n",
       "  <tbody>\n",
       "    <tr>\n",
       "      <th>0</th>\n",
       "      <td>2024-09-10</td>\n",
       "      <td>665830</td>\n",
       "    </tr>\n",
       "  </tbody>\n",
       "</table>\n",
       "</div>"
      ],
      "text/plain": [
       "     Run_Date     cnt\n",
       "0  2024-09-10  665830"
      ]
     },
     "execution_count": 2,
     "metadata": {},
     "output_type": "execute_result"
    }
   ],
   "source": [
    "sq = \"\"\"select Run_Date, count(1)cnt from risk_credit_mis.tsa_account_closure group by 1 order by 1 desc\"\"\"\n",
    "df = client.query(sq).to_dataframe(progress_bar_type = 'tqdm')\n",
    "df.head(1)"
   ]
  },
  {
   "cell_type": "markdown",
   "metadata": {},
   "source": [
    "The date should show yesterday's date"
   ]
  },
  {
   "cell_type": "markdown",
   "metadata": {},
   "source": [
    "# Read the data from the first sheet for Type1 and Type2 data provided by Marvin"
   ]
  },
  {
   "cell_type": "code",
   "execution_count": 3,
   "metadata": {},
   "outputs": [
    {
     "data": {
      "text/plain": [
       "(17225, 2)"
      ]
     },
     "execution_count": 3,
     "metadata": {},
     "output_type": "execute_result"
    }
   ],
   "source": [
    "d1 = pd.read_excel(r\"C:\\Users\\DwaipayanChakroborti\\OneDrive - Tonik Financial Pte Ltd\\MyStuff\\Marvin\\TSA Account Closure\\July24&August24 Ongoing Batch\\ThirdNotification_files\\Type 1 & 2_20240911 .xlsx\")\n",
    "d1.shape"
   ]
  },
  {
   "cell_type": "code",
   "execution_count": 4,
   "metadata": {},
   "outputs": [
    {
     "name": "stdout",
     "output_type": "stream",
     "text": [
      "The unique count of customer_id is:\t17224\n"
     ]
    },
    {
     "data": {
      "text/html": [
       "<div>\n",
       "<style scoped>\n",
       "    .dataframe tbody tr th:only-of-type {\n",
       "        vertical-align: middle;\n",
       "    }\n",
       "\n",
       "    .dataframe tbody tr th {\n",
       "        vertical-align: top;\n",
       "    }\n",
       "\n",
       "    .dataframe thead th {\n",
       "        text-align: right;\n",
       "    }\n",
       "</style>\n",
       "<table border=\"1\" class=\"dataframe\">\n",
       "  <thead>\n",
       "    <tr style=\"text-align: right;\">\n",
       "      <th></th>\n",
       "      <th>Customer_Id</th>\n",
       "      <th>ACTION_TYPE</th>\n",
       "    </tr>\n",
       "  </thead>\n",
       "  <tbody>\n",
       "    <tr>\n",
       "      <th>0</th>\n",
       "      <td>2547930</td>\n",
       "      <td>TYPE 1</td>\n",
       "    </tr>\n",
       "    <tr>\n",
       "      <th>1</th>\n",
       "      <td>2510175</td>\n",
       "      <td>TYPE 1</td>\n",
       "    </tr>\n",
       "    <tr>\n",
       "      <th>2</th>\n",
       "      <td>2525928</td>\n",
       "      <td>TYPE 1</td>\n",
       "    </tr>\n",
       "    <tr>\n",
       "      <th>3</th>\n",
       "      <td>2518472</td>\n",
       "      <td>TYPE 1</td>\n",
       "    </tr>\n",
       "    <tr>\n",
       "      <th>4</th>\n",
       "      <td>2549544</td>\n",
       "      <td>TYPE 1</td>\n",
       "    </tr>\n",
       "  </tbody>\n",
       "</table>\n",
       "</div>"
      ],
      "text/plain": [
       "   Customer_Id ACTION_TYPE\n",
       "0      2547930      TYPE 1\n",
       "1      2510175      TYPE 1\n",
       "2      2525928      TYPE 1\n",
       "3      2518472      TYPE 1\n",
       "4      2549544      TYPE 1"
      ]
     },
     "execution_count": 4,
     "metadata": {},
     "output_type": "execute_result"
    }
   ],
   "source": [
    "print(f\"The unique count of customer_id is:\\t{len(d1['Customer_Id'].unique())}\")\n",
    "d1.head()\n"
   ]
  },
  {
   "cell_type": "markdown",
   "metadata": {},
   "source": [
    "# Read the data from the second sheet for Type3 data provided by Marvin"
   ]
  },
  {
   "cell_type": "code",
   "execution_count": 5,
   "metadata": {},
   "outputs": [
    {
     "data": {
      "text/plain": [
       "(896, 2)"
      ]
     },
     "execution_count": 5,
     "metadata": {},
     "output_type": "execute_result"
    }
   ],
   "source": [
    "d2 = pd.read_excel(r\"C:\\Users\\DwaipayanChakroborti\\OneDrive - Tonik Financial Pte Ltd\\MyStuff\\Marvin\\TSA Account Closure\\July24&August24 Ongoing Batch\\ThirdNotification_files\\Type 3_20240911.xlsx\")\n",
    "d2.shape"
   ]
  },
  {
   "cell_type": "code",
   "execution_count": 6,
   "metadata": {},
   "outputs": [
    {
     "name": "stdout",
     "output_type": "stream",
     "text": [
      "The unique count of customer_id is:\t896\n"
     ]
    },
    {
     "data": {
      "text/html": [
       "<div>\n",
       "<style scoped>\n",
       "    .dataframe tbody tr th:only-of-type {\n",
       "        vertical-align: middle;\n",
       "    }\n",
       "\n",
       "    .dataframe tbody tr th {\n",
       "        vertical-align: top;\n",
       "    }\n",
       "\n",
       "    .dataframe thead th {\n",
       "        text-align: right;\n",
       "    }\n",
       "</style>\n",
       "<table border=\"1\" class=\"dataframe\">\n",
       "  <thead>\n",
       "    <tr style=\"text-align: right;\">\n",
       "      <th></th>\n",
       "      <th>Customer_Id</th>\n",
       "      <th>ACTION_TYPE</th>\n",
       "    </tr>\n",
       "  </thead>\n",
       "  <tbody>\n",
       "    <tr>\n",
       "      <th>0</th>\n",
       "      <td>2283459</td>\n",
       "      <td>TYPE 3</td>\n",
       "    </tr>\n",
       "    <tr>\n",
       "      <th>1</th>\n",
       "      <td>2375526</td>\n",
       "      <td>TYPE 3</td>\n",
       "    </tr>\n",
       "    <tr>\n",
       "      <th>2</th>\n",
       "      <td>1780034</td>\n",
       "      <td>TYPE 3</td>\n",
       "    </tr>\n",
       "    <tr>\n",
       "      <th>3</th>\n",
       "      <td>1924473</td>\n",
       "      <td>TYPE 3</td>\n",
       "    </tr>\n",
       "    <tr>\n",
       "      <th>4</th>\n",
       "      <td>2316005</td>\n",
       "      <td>TYPE 3</td>\n",
       "    </tr>\n",
       "  </tbody>\n",
       "</table>\n",
       "</div>"
      ],
      "text/plain": [
       "   Customer_Id ACTION_TYPE\n",
       "0      2283459      TYPE 3\n",
       "1      2375526      TYPE 3\n",
       "2      1780034      TYPE 3\n",
       "3      1924473      TYPE 3\n",
       "4      2316005      TYPE 3"
      ]
     },
     "execution_count": 6,
     "metadata": {},
     "output_type": "execute_result"
    }
   ],
   "source": [
    "print(f\"The unique count of customer_id is:\\t{len(d2['Customer_Id'].unique())}\")\n",
    "d2.head()"
   ]
  },
  {
   "cell_type": "code",
   "execution_count": 7,
   "metadata": {},
   "outputs": [
    {
     "data": {
      "text/plain": [
       "(18121, 2)"
      ]
     },
     "execution_count": 7,
     "metadata": {},
     "output_type": "execute_result"
    }
   ],
   "source": [
    "result = pd.concat([d1, d2], axis=0, ignore_index=True)\n",
    "result.shape"
   ]
  },
  {
   "cell_type": "code",
   "execution_count": 8,
   "metadata": {},
   "outputs": [
    {
     "data": {
      "text/plain": [
       "ACTION_TYPE\n",
       "TYPE 1    17188\n",
       "TYPE 3      896\n",
       "TYPE 2       37\n",
       "Name: count, dtype: int64"
      ]
     },
     "execution_count": 8,
     "metadata": {},
     "output_type": "execute_result"
    }
   ],
   "source": [
    "result.ACTION_TYPE.value_counts()"
   ]
  },
  {
   "cell_type": "code",
   "execution_count": 13,
   "metadata": {},
   "outputs": [
    {
     "data": {
      "text/html": [
       "<div>\n",
       "<style scoped>\n",
       "    .dataframe tbody tr th:only-of-type {\n",
       "        vertical-align: middle;\n",
       "    }\n",
       "\n",
       "    .dataframe tbody tr th {\n",
       "        vertical-align: top;\n",
       "    }\n",
       "\n",
       "    .dataframe thead th {\n",
       "        text-align: right;\n",
       "    }\n",
       "</style>\n",
       "<table border=\"1\" class=\"dataframe\">\n",
       "  <thead>\n",
       "    <tr style=\"text-align: right;\">\n",
       "      <th></th>\n",
       "      <th>Customer_Id</th>\n",
       "      <th>ACTION_TYPE</th>\n",
       "    </tr>\n",
       "  </thead>\n",
       "  <tbody>\n",
       "    <tr>\n",
       "      <th>17226</th>\n",
       "      <td>2375526</td>\n",
       "      <td>TYPE 3</td>\n",
       "    </tr>\n",
       "  </tbody>\n",
       "</table>\n",
       "</div>"
      ],
      "text/plain": [
       "      Customer_Id ACTION_TYPE\n",
       "17226     2375526      TYPE 3"
      ]
     },
     "execution_count": 13,
     "metadata": {},
     "output_type": "execute_result"
    }
   ],
   "source": [
    "result[result['Customer_Id'] == '2375526']"
   ]
  },
  {
   "cell_type": "code",
   "execution_count": 10,
   "metadata": {},
   "outputs": [
    {
     "name": "stdout",
     "output_type": "stream",
     "text": [
      "<class 'pandas.core.frame.DataFrame'>\n",
      "RangeIndex: 18121 entries, 0 to 18120\n",
      "Data columns (total 2 columns):\n",
      " #   Column       Non-Null Count  Dtype \n",
      "---  ------       --------------  ----- \n",
      " 0   Customer_Id  18121 non-null  int64 \n",
      " 1   ACTION_TYPE  18121 non-null  object\n",
      "dtypes: int64(1), object(1)\n",
      "memory usage: 283.3+ KB\n"
     ]
    }
   ],
   "source": [
    "result.info()"
   ]
  },
  {
   "cell_type": "code",
   "execution_count": 11,
   "metadata": {},
   "outputs": [
    {
     "name": "stdout",
     "output_type": "stream",
     "text": [
      "<class 'pandas.core.frame.DataFrame'>\n",
      "RangeIndex: 18121 entries, 0 to 18120\n",
      "Data columns (total 2 columns):\n",
      " #   Column       Non-Null Count  Dtype \n",
      "---  ------       --------------  ----- \n",
      " 0   Customer_Id  18121 non-null  object\n",
      " 1   ACTION_TYPE  18121 non-null  object\n",
      "dtypes: object(2)\n",
      "memory usage: 283.3+ KB\n"
     ]
    }
   ],
   "source": [
    "result['Customer_Id'] = result['Customer_Id'].astype(str)\n",
    "result.info()"
   ]
  },
  {
   "cell_type": "code",
   "execution_count": 14,
   "metadata": {},
   "outputs": [],
   "source": [
    "result.to_csv(\"temp.csv\", index = False)"
   ]
  },
  {
   "cell_type": "code",
   "execution_count": 15,
   "metadata": {},
   "outputs": [
    {
     "data": {
      "text/plain": [
       "('2547930', '2510175', '2525928', '2518472', '2549544')"
      ]
     },
     "execution_count": 15,
     "metadata": {},
     "output_type": "execute_result"
    }
   ],
   "source": [
    "a = tuple(result['Customer_Id'])\n",
    "a[:5]"
   ]
  },
  {
   "cell_type": "code",
   "execution_count": 16,
   "metadata": {},
   "outputs": [
    {
     "name": "stdout",
     "output_type": "stream",
     "text": [
      "D-1 day from current date 2024-09-10 00:00:00\n",
      "D-60 day from the current date - 1: 2024-06-12\n",
      "D-180 day from the current date -1: 2024-02-13\n",
      "D-1 day from the current date: 2024-09-10\n",
      "D-60 day from the current date: 2024-06-12\n",
      "D-180 day from the current date: 2024-02-13\n"
     ]
    }
   ],
   "source": [
    "d = '2024-09-11'   ### Need to change this to D-1 everytime we run this code ###\n",
    "# Get the current date\n",
    "current_date = pd.Timestamp.now().date()\n",
    "d_minus_1_days = current_date - pd.DateOffset(days=1)\n",
    "# Calculate D-60 days\n",
    "d_minus_60_days = '2024-06-12'\n",
    "# Calculate D-180 days\n",
    "d_minus_180_days = '2024-02-13'\n",
    "\n",
    "print(\"D-1 day from current date\", d_minus_1_days )\n",
    "print(\"D-60 day from the current date - 1:\", d_minus_60_days)\n",
    "print(\"D-180 day from the current date -1:\", d_minus_180_days)\n",
    "\n",
    "d_minus_1_days_string = d_minus_1_days.strftime('%Y-%m-%d')\n",
    "print(\"D-1 day from the current date:\", d_minus_1_days_string)\n",
    "\n",
    "d_minus_60_days_string = d_minus_60_days\n",
    "print(\"D-60 day from the current date:\", d_minus_60_days_string)\n",
    "\n",
    "d_minus_180_days_string = d_minus_180_days\n",
    "print(\"D-180 day from the current date:\", d_minus_180_days_string)"
   ]
  },
  {
   "cell_type": "markdown",
   "metadata": {},
   "source": [
    "Step1: At line 11 change the date to D-1<br><br>\n",
    "Step2: At line around 36 (and (TSA_Opening_date < date '2023-10-18')   ####D-60 days(SHOULD BE SAME DATE FOR 1ST,2ND,3RD NOTIFICATION)) Change the date D-60 Days <br><br>\n",
    "Step3: At line around 45 (WHEN tsa_status = 'Active' and Last_TSA_EOD_Balance_Date is null and (TSA_Opening_date < date '2023-10-18')  ####D-60 days(SHOULD BE SAME DATE FOR 1ST,2ND,3RD NOTIFICATION)) Change the date D-60 Days <br><br>\n",
    "Step4: At line 58 (and TSA_Opening_date < date '2023-06-18'  and (Last_TSA_Credit_Date < date '2023-06-18' and Last_TSA_Debit_Date < date '2023-06-18' and coalesce(Last_Group_Stash_Credit_Date,date '1970-01-01') < date '2023-06-18')  ####D-180 days(SHOULD BE SAME DATE FOR 1ST,2ND,3RD NOTIFICATION)) <br><br>\n",
    "Step5: At line 72 (Run_Date = date '2024-01-09'###DATE change here to D-1) Change the date to D-1<br><br>"
   ]
  },
  {
   "cell_type": "markdown",
   "metadata": {},
   "source": [
    "First Notification we change all the steps <br><br>\n",
    "Second and Third Notification we only change Step1 and Step5\n",
    "For Second Notificaiton and Third Notificaiton the customre id should be from the file sent by Marvin. <br><br>"
   ]
  },
  {
   "cell_type": "code",
   "execution_count": 17,
   "metadata": {},
   "outputs": [
    {
     "name": "stdout",
     "output_type": "stream",
     "text": [
      "Job ID 46c4960f-fb6f-4e2f-99b5-8d9986de4b5e successfully executed: 100%|\u001b[32m██████████\u001b[0m|\n",
      "Downloading: 100%|\u001b[32m██████████\u001b[0m|\n"
     ]
    },
    {
     "data": {
      "text/plain": [
       "(18120, 29)"
      ]
     },
     "execution_count": 17,
     "metadata": {},
     "output_type": "execute_result"
    }
   ],
   "source": [
    "sq = f\"\"\"\n",
    "with\n",
    "w_kyc\n",
    "as\n",
    "(\n",
    "  select distinct PARTYID, SEGCATEGORYDESC, row_number() over(partition by partyid order by SEGEFFECTIVEFROM desc) as rnk from `core_raw.party_details`\n",
    "),\n",
    "w_tsa\n",
    "as\n",
    "(\n",
    "  select * from risk_credit_mis.tsa_account_closure where Run_Date = date '{d_minus_1_days_string}' ###DATE change here to D-1\n",
    "  and\n",
    "  Customer_Id not in (select cast(PARTYID as string) from w_kyc where rnk = 1 and SEGCATEGORYDESC = 'BKYC')\n",
    "  and\n",
    "  --customer_id in (select cast(customer_id as string) from prj-prod-dataplatform.dap_ds_poweruser_playground.tsa_2nd_notification_base_10jan2024)\n",
    "  customer_id in {a}\n",
    ")\n",
    "select * from w_tsa;\n",
    "\"\"\"\n",
    "\n",
    "dfd = client.query(sq).to_dataframe(progress_bar_type =  'tqdm')\n",
    "dfd.shape"
   ]
  },
  {
   "cell_type": "code",
   "execution_count": 18,
   "metadata": {},
   "outputs": [],
   "source": [
    "sq = f\"\"\"\n",
    "with\n",
    "w_kyc\n",
    "as\n",
    "(\n",
    "  select distinct PARTYID, SEGCATEGORYDESC, row_number() over(partition by partyid order by SEGEFFECTIVEFROM desc) as rnk from `core_raw.party_details`\n",
    "),\n",
    "w_tsa\n",
    "as\n",
    "(\n",
    "  select * from risk_credit_mis.tsa_account_closure where Run_Date = date '{d_minus_1_days_string}'  ###DATE change here to D-1\n",
    "  and\n",
    "  Customer_Id not in (select cast(PARTYID as string) from w_kyc where rnk = 1 and SEGCATEGORYDESC = 'BKYC')\n",
    "  and\n",
    "  --customer_id in (select cast(customer_id as string) from prj-prod-dataplatform.dap_ds_poweruser_playground.tsa_2nd_notification_base_10jan2024)\n",
    "  customer_id in {a}\n",
    "),\n",
    "w_approved\n",
    "as\n",
    "(\n",
    "  select DISTINCT customerId from risk_credit_mis.loan_master_table where loantype = 'BIGLOAN' OR FLAGAPPROVAL = 1 OR FLAGDISBURSEMENT = 1  \n",
    "  or (stage1Status = 'EXPIRED' AND cddInitiatedDateAndTime IS NULL)\n",
    ")\n",
    "select *\n",
    "from\n",
    "(\n",
    "  select distinct\n",
    "  a.Customer_Id,a.TSA_Opening_date,\n",
    "  c.OFSTANDARDACCOUNTID as TSA_Account_Number, c.OfblockAmount, \n",
    "  a.TSA_Status,a.TSA_Balance,a.Solo_Stash_Balance,a.Group_Stash_Balance,a.Term_Deposit_Balance,a.Active_Term_Deposit_flag,a.Last_TSA_Credit_Date,a.Last_TSA_Debit_Date,\n",
    "  a.ARI_Flag,a.Active_Loan,a.Total_Loan_Outstanding,  case when b.customerId is not null then 1 else 0 end as Approved_Loans,\n",
    "  a.Pending_Loan_Applications,a.Hard_Reject_Loans_App,a.Soft_Reject_Loans_App,a.Cancelled_Loans_App, extract(date from a.Last_Login_Date) as Last_Login_Date,\n",
    "  a.Last_TSA_EOD_Balance_Date,a.Last_Group_Stash_Credit_Date,a.Group_Stash_Balance_Owner,a.Run_Date,a.Batch,a.Processing_Month,a.pending_loans_not_expired_not_exempt,a.expired_loans,\n",
    "  a.pending_loans_lastDt,a.expired_loans_lastDt,\n",
    "  CASE \n",
    "    WHEN tsa_status = 'Active' and (Last_TSA_Credit_Date = date '1970-01-01' and Last_Group_Stash_Credit_Date is null)\n",
    "    and (TSA_Opening_date < date '{d_minus_60_days_string}')   ####D-60 days(SHOULD BE SAME DATE FOR 1ST,2ND,3RD NOTIFICATION)\n",
    "    and ( round(coalesce(TSA_Balance,0) + coalesce(Solo_Stash_Balance,0) + coalesce(Group_Stash_Balance,0) + coalesce(Term_Deposit_Balance,0),2) = 0 )\n",
    "    and (Active_Loan = 0) and (COALESCE(Pending_Loan_Applications,0) = 0)\n",
    "    and (Active_Term_Deposit_flag = 0)\n",
    "    and (ARI_Flag = 'N')\n",
    "    --and (Approved_Loans = 0)  THEN 'TYPE 1'\n",
    "    and b.customerId is null  THEN 'TYPE 1'\n",
    "\n",
    "\n",
    "    WHEN tsa_status = 'Active' and Last_TSA_EOD_Balance_Date is null and (TSA_Opening_date < date '{d_minus_60_days_string}')  ####D-60 days(SHOULD BE SAME DATE FOR 1ST,2ND,3RD NOTIFICATION)\n",
    "    and ( round(coalesce(TSA_Balance,0) + coalesce(Solo_Stash_Balance,0) + coalesce(Group_Stash_Balance,0) + coalesce(Term_Deposit_Balance,0),2) = 0 )\n",
    "    and (Active_Loan = 0) and (COALESCE(Pending_Loan_Applications,0) = 0)\n",
    "    and (Active_Term_Deposit_flag = 0)\n",
    "    and (ARI_Flag = 'N')\n",
    "    --and (Approved_Loans = 0)\n",
    "    and b.customerId is null  \n",
    "    and (date_trunc(TSA_Opening_date,day) = date_trunc(Last_Login_Date,day)) THEN 'TYPE 2'\n",
    "\n",
    "    \n",
    "    WHEN ( round(coalesce(TSA_Balance,0) + coalesce(Solo_Stash_Balance,0) + coalesce(Group_Stash_Balance,0) + coalesce(Term_Deposit_Balance,0),2) < 1 )\n",
    "            and (Active_Loan = 0) and (COALESCE(Pending_Loan_Applications,0) = 0)\n",
    "            and (Active_Term_Deposit_flag = 0)\n",
    "            and TSA_Opening_date < date '{d_minus_180_days_string}'                                     ####D-180 days(SHOULD BE SAME DATE FOR 1ST,2ND,3RD NOTIFICATION)\n",
    "            and (Last_TSA_Credit_Date < date '{d_minus_180_days_string}'                                 ####D-180 days(SHOULD BE SAME DATE FOR 1ST,2ND,3RD NOTIFICATION)\n",
    "            and Last_TSA_Debit_Date < date '{d_minus_180_days_string}'                                         ####D-180 days(SHOULD BE SAME DATE FOR 1ST,2ND,3RD NOTIFICATION)\n",
    "            and coalesce(Last_Group_Stash_Credit_Date,date '1970-01-01') < date '{d_minus_180_days_string}' )  ####D-180 days(SHOULD BE SAME DATE FOR 1ST,2ND,3RD NOTIFICATION)\n",
    "            and tsa_status = 'Active'\n",
    "            and (ARI_Flag = 'N')\n",
    "    --and (Approved_Loans = 0)\n",
    "            and b.customerId is null  \n",
    "    THEN 'TYPE 3'\n",
    "    ELSE 'NO ACTION'\n",
    "    END AS ACTION_TYPE\n",
    "  from w_tsa A\n",
    "  left join w_approved b\n",
    "  on cast(a.Customer_Id as int64) = b.customerId\n",
    "  left join core_raw.customer_accounts c\n",
    "  on c.OFCUSTOMERID = a.Customer_Id and c.CRINTERDESC = 'Transactional Savings Account Inv_R' and c.OFISCLOSED = 'N'\n",
    "  where\n",
    "  Run_Date = date '{d_minus_1_days_string}'  ###DATE change here to D-1\n",
    ")\n",
    "\"\"\"\n"
   ]
  },
  {
   "cell_type": "code",
   "execution_count": 19,
   "metadata": {},
   "outputs": [
    {
     "name": "stdout",
     "output_type": "stream",
     "text": [
      "\n",
      "with\n",
      "w_kyc\n",
      "as\n",
      "(\n",
      "  select distinct PARTYID, SEGCATEGORYDESC, row_number() over(partition by partyid order by SEGEFFECTIVEFROM desc) as rnk from `core_raw.party_details`\n",
      "),\n",
      "w_tsa\n",
      "as\n",
      "(\n",
      "  select * from risk_credit_mis.tsa_account_closure where Run_Date = date '2024-09-10'  ###DATE change here to D-1\n",
      "  and\n",
      "  Customer_Id not in (select cast(PARTYID as string) from w_kyc where rnk = 1 and SEGCATEGORYDESC = 'BKYC')\n",
      "  and\n",
      "  --customer_id in (select cast(customer_id as string) from prj-prod-dataplatform.dap_ds_poweruser_playground.tsa_2nd_notification_base_10jan2024)\n",
      "  customer_id in ('2547930', '2510175', '2525928', '2518472', '2549544', '2523177', '2515527', '2551602', '2528619', '2520132', '2550268', '2532470', '2543204', '2534923', '2511442', '2531069', '2298839', '2523502', '2529022', '2512214', '2532117', '2554344', '2545492', '2565361', '2561046', '2519486', '2519304', '2564328', '2514838', '2509020', '2531998', '2514512', '2515519', '2541934', '2523602', '2406131', '2560104', '2563159', '2528260', '2566213', '2542970', '2510349', '2566010', '2563771', '2529231', '2567890', '2537367', '2541973', '2519984', '2558751', '2542916', '2549322', '2548396', '2527775', '2390920', '2531070', '2565656', '2516170', '2549699', '2548812', '2528146', '2568027', '2526000', '2567807', '2566593', '2521559', '2535542', '2546195', '2554712', '2529325', '2514214', '2522772', '2519244', '2539948', '2545182', '2516390', '2522297', '2508855', '2519191', '2532570', '2512753', '2527400', '2557032', '2550988', '2561915', '2561333', '2523025', '2528743', '2520414', '2508828', '2559800', '2504664', '2564042', '2564598', '2518822', '2539765', '2548008', '2541999', '2535718', '2543848', '2544714', '2527355', '2568966', '2532772', '2543555', '2536732', '2552013', '2527951', '2558294', '2523006', '2389310', '2566052', '2534672', '2531754', '2553882', '2560045', '2555050', '2508768', '2533571', '2507677', '2520128', '2528175', '2536980', '2510463', '2562021', '2544357', '2546734', '2509892', '2515823', '2515937', '2527294', '2517430', '2508602', '2551302', '2519618', '2538251', '2532407', '2560926', '2238533', '2540508', '2554956', '2558713', '2540168', '2543099', '2532905', '2509214', '2516867', '2527862', '2565012', '2553716', '2513954', '2514504', '2412381', '2515574', '2544486', '2552582', '2532271', '2530091', '2522245', '2552097', '2517383', '2512975', '2525659', '2534934', '2528188', '2559749', '2518654', '2516181', '2556798', '2570026', '2522547', '2548754', '2507511', '2564583', '2515981', '2530608', '2535179', '2554566', '2542356', '2469493', '2418846', '2522180', '2543041', '2507128', '2564733', '2558222', '2508803', '2526789', '2561518', '2515813', '2344452', '2524791', '2519014', '2554416', '2514147', '2518936', '2560216', '2405935', '2506839', '2549986', '2491145', '2543340', '2567075', '2495104', '2540002', '2524296', '2537633', '2509354', '2538118', '2307131', '2562337', '2517838', '2527085', '2512416', '2525813', '2521742', '2556624', '2535733', '2540128', '2504306', '2500389', '2521158', '2546262', '2559803', '2543142', '2556766', '2530270', '2538923', '2569059', '2521434', '2509801', '2552925', '2558621', '2561931', '2541734', '2535707', '2545340', '2557036', '2503929', '2504820', '2517472', '2539900', '2524307', '2543380', '2546915', '2527292', '2531978', '2544345', '2521355', '2552362', '2558142', '2544114', '2534873', '2560404', '2525944', '2530241', '2544325', '2543960', '2518876', '2559013', '2541842', '2518402', '2556196', '2543579', '2529811', '2536869', '2536043', '2541321', '2540502', '2567636', '2525663', '2552718', '2520109', '2554101', '2551363', '2532885', '2548904', '2539094', '2525604', '2528719', '2507007', '2512324', '2567235', '2505340', '2563460', '2565476', '1299476', '2545839', '2547506', '2529450', '2298728', '2567135', '2510926', '2569879', '2529285', '2531020', '2540805', '2558361', '2553726', '2562641', '2510584', '2525648', '2527086', '2534862', '2504707', '2544124', '2507927', '2536396', '2567998', '2558062', '2520571', '2505080', '2550723', '2506193', '2541928', '2514276', '2530818', '2524871', '2546361', '2548239', '2555955', '2512195', '2556353', '2511874', '2545186', '2552750', '2530982', '2541672', '2517794', '2553189', '2462997', '2570144', '2554158', '2556427', '2564754', '2531099', '2531272', '2547516', '2528235', '2541170', '2538669', '2498516', '2534583', '2558000', '2524923', '2503808', '2531831', '2545435', '2511520', '2513759', '2511775', '2507955', '2506472', '2556527', '2547716', '2559330', '2559065', '2518797', '2563665', '2521078', '2566526', '2516962', '2522132', '2555238', '2563571', '2529038', '2529092', '2560730', '2532779', '2514171', '2515113', '2520568', '2545586', '2531013', '2569090', '2562064', '2540040', '2524864', '2543174', '2565314', '2524324', '2538149', '2548524', '2510558', '2350878', '2512363', '2547350', '2554294', '2553130', '2446253', '2525458', '2557749', '2507879', '2513952', '2521425', '2539517', '2504141', '2569215', '2517567', '2506108', '2550341', '2505606', '2562515', '2554746', '2439385', '2517908', '2557086', '2530821', '2548758', '2518541', '2519755', '2516637', '2556050', '2507054', '2531902', '2539370', '2569786', '2512390', '2561373', '2504614', '2520467', '2536712', '2567544', '2418631', '2520500', '2562104', '2552802', '2538215', '2563354', '2554727', '2518989', '2533796', '2525538', '2541969', '2532056', '2525470', '2515254', '2515065', '2524081', '2519519', '2565185', '2517637', '2507039', '2249549', '2510617', '2530269', '2522357', '2508790', '2562769', '2545573', '2534275', '2517022', '2518665', '2554426', '2530542', '2529317', '2566946', '2506077', '2532500', '2557422', '2519387', '2532393', '2569136', '2549834', '2521261', '2538176', '2525145', '2562393', '2519666', '2511109', '2524113', '2534241', '2526809', '2557339', '2506577', '2570184', '2537336', '2565002', '2536546', '2526544', '2529016', '2520333', '2509006', '2531470', '2509631', '2529397', '2559970', '2552501', '2469959', '2521233', '2541028', '2521061', '2530014', '2537582', '2520453', '2562600', '2511236', '2533468', '2519813', '2527954', '2554658', '2507845', '2508853', '2569042', '2539438', '2569256', '2527122', '2562242', '2525113', '2558270', '2528798', '2569617', '2514126', '2526065', '2548757', '2520503', '2520505', '2525353', '2538680', '2523669', '2553500', '2467471', '2520995', '2503761', '2553822', '2216658', '2530844', '2524229', '2511610', '2561745', '2533498', '2488806', '2536961', '2485318', '2529502', '2510119', '2541644', '2538634', '2551546', '2519388', '2502676', '2559867', '2567928', '2509218', '2560700', '2534408', '2536834', '2514285', '2505579', '2565225', '2517188', '2517926', '2384287', '2570681', '2560388', '2490717', '2569458', '2563819', '2538269', '2510989', '2520169', '2526731', '2423358', '2500561', '2545442', '2530944', '2563271', '2515066', '2518505', '2546627', '2565497', '2445313', '2563445', '2566178', '2548375', '2541456', '2516688', '2452302', '2569339', '2522746', '2563763', '2539746', '2461890', '2504188', '2508308', '2534740', '2565902', '2556352', '2519286', '2533709', '2554133', '2548307', '2554665', '2554500', '2509182', '2533828', '2257305', '2526019', '2565234', '2549610', '2569623', '2549295', '2520952', '2430905', '2546784', '2543524', '2519104', '2527755', '2551435', '2564222', '2527453', '2550115', '2384206', '2538139', '2563054', '2561652', '2566268', '2560936', '2562028', '2540357', '2510546', '2562615', '2566395', '2525157', '2528629', '2561581', '2562371', '2568312', '2508846', '2521766', '2552542', '2517312', '2524348', '2525779', '2548805', '2548752', '2514091', '2536354', '2512561', '2506408', '2508569', '2568656', '2551095', '2551687', '2563689', '2531587', '2557206', '2508351', '2568760', '2507600', '2512272', '2537417', '2505994', '2555927', '2555369', '2539240', '2567630', '2562968', '2539175', '2551669', '2518002', '2552223', '2510608', '2536143', '2507976', '2541843', '2570514', '2522070', '2535340', '2561092', '2506802', '2517037', '2564981', '2513755', '2556274', '2522019', '2552494', '2512299', '2535394', '2551075', '2570014', '2535261', '2546464', '2558236', '2555216', '2540229', '2562042', '2523054', '2534399', '2519078', '2544632', '2551472', '2515639', '2523233', '2528234', '2517700', '2517172', '2532317', '2508130', '2511408', '2556664', '2537610', '2548289', '2506401', '2555521', '2276562', '2513088', '2570642', '2120043', '2533910', '2541760', '2549401', '2542675', '2532576', '2519563', '2544156', '2544293', '2547362', '2566714', '2552695', '2560472', '2528791', '2528167', '2532400', '2542253', '2168627', '2520938', '2529831', '2528486', '2524826', '2530670', '2548747', '2508606', '2565421', '2556717', '2560623', '2556655', '2507104', '2527073', '2516105', '2540220', '2526439', '2548469', '2567670', '2465443', '2563404', '2506826', '2553987', '2530230', '2563598', '2547971', '2507417', '2539226', '2557258', '2172146', '2563683', '2509396', '2530219', '2561247', '2529972', '2518709', '2547960', '2559272', '2533127', '2542690', '2565667', '2564873', '2540307', '2537952', '2540007', '2565520', '2507278', '2553784', '2550057', '2523949', '2504460', '2562290', '2461604', '2553078', '2561941', '2557176', '2532310', '2551899', '2569047', '2546180', '2534261', '2511439', '2543493', '2519451', '2539349', '2523367', '2559669', '2553380', '2521791', '2521309', '2529158', '2385725', '2320030', '2552897', '2569369', '2552758', '2564139', '2542846', '2563093', '2524368', '2527262', '2554305', '2439137', '2513801', '2555627', '2556644', '2518899', '2540237', '2544305', '2538641', '2541806', '2544766', '2564084', '2543810', '2527068', '2555360', '2533599', '2560834', '2529732', '2568218', '2516136', '2552064', '2511346', '2529404', '2548968', '2559524', '2561489', '2538749', '2558016', '2515578', '2556418', '2521432', '2557281', '2513718', '2533701', '2538977', '2522540', '2535387', '2528158', '2508685', '2559474', '2545476', '2287600', '2532387', '2443049', '2511611', '2560525', '2535038', '2557318', '2551674', '2508646', '2555375', '2493926', '2556016', '2544300', '2520850', '2532119', '2517351', '2510594', '2536890', '2502481', '2540383', '2359633', '2568272', '2548081', '2567953', '2520317', '2557784', '2512873', '2547840', '2567907', '2550095', '2552732', '2535366', '2554037', '2508767', '2267051', '2525110', '1487906', '2515535', '2525172', '2551399', '2550412', '2510631', '2564495', '2511376', '2372995', '2543591', '2484027', '2546747', '2517769', '2335795', '2509856', '2541190', '2509038', '2557193', '2534049', '2546497', '2544290', '2565484', '2561119', '2565719', '2424148', '2546024', '2518463', '2527299', '2507123', '2496210', '2517982', '1826984', '2543895', '2561688', '2555991', '2553995', '2548200', '2286187', '2225131', '2566728', '2527339', '2522733', '2521803', '2525940', '2561176', '2521413', '2551175', '2454595', '2546619', '2568817', '2516496', '2564837', '2527877', '2524953', '2520615', '2534704', '2519274', '2553280', '2545895', '2544206', '2504638', '2543512', '2544456', '2532274', '2508607', '2562334', '2532575', '2525056', '2430603', '2570651', '2533499', '2506125', '2517761', '2530528', '2524320', '2504678', '2532249', '2519731', '2550667', '2570201', '2538529', '2477166', '2528077', '2548959', '2554612', '2559440', '2540993', '2569468', '2528766', '2559457', '2518485', '2559380', '2509291', '2515268', '2557317', '2278707', '2513393', '2569193', '2438538', '2570578', '2525951', '2566795', '2533496', '2554940', '2530986', '2534600', '2555079', '2552683', '2510995', '2536899', '2507589', '2561086', '2518040', '2541778', '2514877', '2542360', '2555142', '2521916', '2518436', '2551805', '2371929', '2480589', '2535968', '2540812', '2518206', '2508469', '2497525', '2559940', '2519726', '2552721', '2504065', '2524322', '2563284', '2534617', '2541198', '2517123', '2508809', '2513901', '2514211', '2531129', '2559102', '2511412', '2509777', '2473707', '2487870', '2533020', '2555610', '2531562', '2568962', '2557975', '2550305', '2522697', '2512949', '2556752', '2559405', '1265610', '2545305', '2514647', '2547953', '2513853', '2550440', '2570528', '2524879', '2550523', '2505413', '2555649', '2564977', '2532697', '2512521', '2545723', '2531880', '2516517', '2529925', '2522867', '2561054', '2506975', '2506709', '2519215', '2512942', '2550673', '2444834', '2564001', '2519591', '2529032', '2503802', '2540938', '2517235', '2547672', '2558637', '2520191', '2522004', '2528157', '2540775', '2423982', '2541546', '2509708', '2561001', '2520876', '2559241', '2553832', '2544740', '2552295', '2538848', '2530605', '2560033', '2541085', '2569868', '2475671', '2536894', '2560536', '2512576', '2512094', '2519262', '2542258', '2513790', '2544351', '2559321', '2549472', '2512627', '2515453', '2514320', '2513763', '2551752', '2442880', '2548026', '2537329', '2537940', '2363229', '2550351', '2566915', '2564613', '2567376', '2520852', '2533613', '2544947', '2536199', '2554166', '2566874', '2508573', '2515291', '2410188', '2550978', '2559161', '2508849', '2567669', '2537354', '2566171', '2568413', '2563184', '2505241', '2508821', '2525845', '2554540', '2553279', '2566088', '2537763', '2521888', '2566815', '2535357', '2102828', '2521283', '2429852', '2533653', '2525629', '2521279', '2531830', '2531861', '2534391', '2509461', '2565825', '2530974', '2558309', '2487563', '2566740', '2564798', '2526625', '2521492', '2501009', '2536638', '2545470', '2504205', '2540784', '2515856', '2556645', '2518144', '2512332', '2537899', '2555293', '2543053', '2564502', '2527978', '2502052', '2537620', '2549772', '2548589', '2503880', '2544070', '2565410', '2537776', '2539489', '2563220', '2556240', '2558538', '2548006', '2565178', '2565977', '2538362', '2567418', '2546762', '2506368', '2546175', '2562189', '2509306', '2541207', '2526965', '2551067', '2539092', '2521159', '2566579', '2543185', '2566676', '2567332', '2514930', '2549778', '2553452', '2556260', '2556814', '2538756', '2527241', '2569804', '2526628', '2570277', '2516249', '2547644', '2542795', '2517072', '2526151', '2510862', '2513772', '2509037', '2532613', '2540350', '2564912', '2549537', '2520050', '2533340', '2567543', '2462730', '2554534', '2332562', '2524491', '2563359', '2548578', '2504578', '2507113', '2522336', '2557273', '2561160', '2535333', '2131285', '2569146', '2532191', '2549686', '2508456', '2524058', '2563459', '2542135', '2551011', '2511505', '2530831', '2515173', '2525193', '2549140', '2536691', '2556227', '2551573', '2555770', '2527672', '2512545', '1557271', '2480924', '2549296', '2514209', '2512265', '2561310', '2266923', '2514683', '2551726', '2551599', '2519334', '2509676', '2565282', '2536044', '2514599', '2537106', '2525871', '2527119', '2534955', '2545413', '2520488', '2559723', '2564427', '2560412', '2566146', '2515586', '2568657', '2530709', '2559830', '2534077', '2527783', '2541582', '2545994', '2522721', '2564484', '2529313', '2437878', '2559726', '2545471', '2562532', '2528842', '2513788', '2531869', '2555448', '2524865', '2522854', '2514839', '2552589', '2518795', '2558951', '2560901', '2513019', '2560674', '2541540', '2566259', '2555692', '2532264', '2508505', '2551397', '2555754', '2545329', '2518971', '2563864', '2521532', '2515055', '2517586', '2561191', '2539971', '2441095', '2534010', '2506756', '2530473', '2534142', '2553914', '2549353', '2520408', '2531234', '2515778', '2554884', '2562445', '2531865', '2563168', '2561973', '2523944', '2545844', '2511752', '2379188', '2566383', '2524880', '2552227', '2524048', '2524044', '2518116', '2535325', '2535506', '2563692', '2536159', '2526346', '2508029', '2551062', '2405522', '2517450', '2437853', '2550625', '2554541', '2527089', '2528697', '2564232', '2545203', '2527306', '2524134', '2508341', '2556297', '2547956', '2530431', '2548219', '2535579', '2535347', '2559034', '2514425', '2538654', '2245693', '2514333', '2527057', '2549725', '2535474', '2538944', '2545222', '2543765', '2508483', '2549744', '2557717', '2540808', '2515326', '2520167', '2557173', '2559983', '2560182', '2530576', '2532566', '2554415', '2539272', '2532795', '2559622', '2552524', '2527109', '2557522', '2567150', '2540230', '2518136', '2081992', '2550860', '2526327', '2526040', '2570624', '2537802', '2513880', '2515787', '2536603', '2537451', '2533573', '2522424', '2542433', '2529322', '2537316', '2540599', '2507522', '2557547', '2561416', '2567118', '2558469', '2533669', '2555001', '2529395', '2547847', '2565506', '2561916', '2505311', '2547872', '2537790', '2562476', '2537542', '2535313', '2550943', '2535490', '2507561', '2528653', '2512217', '2504925', '2520458', '2549451', '2559850', '2534210', '2233669', '2505139', '2532478', '2521799', '2531799', '2568565', '2328947', '2542340', '2557144', '2554644', '2510601', '2519055', '2514819', '2545038', '2527264', '2565084', '2517720', '2521667', '2341550', '2513574', '2249012', '2512391', '2560440', '2527161', '2541260', '2518732', '2508055', '2559703', '2529165', '2552172', '2539068', '2559943', '2529386', '2511293', '2555758', '2520873', '2383988', '2519947', '2547991', '2527491', '2542534', '2555299', '2556681', '2506290', '2523380', '2563402', '2550865', '2556433', '2505305', '2559853', '2553878', '2518839', '2545562', '2551513', '2521821', '2530313', '2542122', '2531991', '2510334', '2544533', '2492945', '2530307', '2559027', '2509874', '2513771', '2568311', '2552220', '2544384', '2514047', '2540000', '2527409', '2556413', '2536502', '2534015', '2547141', '2559413', '2531742', '2504639', '2552303', '2509937', '2551964', '2518754', '2551442', '2301204', '2515797', '2552611', '2561426', '2564632', '2525774', '2539704', '2515839', '2554286', '2551183', '2550286', '2517865', '2510640', '2516809', '2564634', '2505181', '2505054', '2508836', '1836550', '2527027', '2552447', '2563493', '2540607', '2519583', '2508907', '2514673', '2517021', '2539969', '2520100', '2502264', '2536080', '2504343', '2288560', '2507198', '2566802', '2545778', '2530393', '2512157', '2508378', '2528225', '2506674', '2554047', '2550194', '2561586', '2529005', '2562248', '2526596', '2521545', '2545294', '2517343', '2551770', '2517048', '2525006', '2516306', '2515107', '2515600', '2543163', '2514644', '2568292', '2527121', '2525037', '2540540', '2556077', '2532021', '2548475', '2560462', '2395775', '2535122', '2549498', '2539849', '2558478', '2530367', '2554785', '2532298', '2230370', '2551670', '2516118', '2569695', '2536405', '2547632', '2524299', '2494956', '2520684', '2524506', '2528446', '2505909', '2538085', '2504865', '2547831', '2557439', '2532891', '2535398', '2512995', '2542783', '2557608', '2504126', '2557554', '2524971', '2560296', '2506062', '2431091', '2362992', '2554082', '2523221', '2556953', '2516348', '2533166', '2510605', '2545718', '2532070', '2536105', '2549380', '2518098', '2544278', '2551708', '2506158', '2531925', '2463605', '2547798', '2508659', '2529585', '2524285', '2510159', '2528948', '2568891', '2508208', '2196461', '2548160', '2568046', '2538742', '2541380', '2538699', '2530258', '2531939', '2505379', '2554135', '2566143', '2520373', '2474203', '2550345', '2507567', '2535254', '2563585', '2545992', '2538819', '2561921', '2491794', '2521683', '2517872', '2552271', '2541310', '2554843', '2507378', '2568931', '2552367', '2560484', '2503731', '2564504', '2551299', '2384400', '2550791', '2515402', '2568646', '2520287', '2549144', '2504554', '2471118', '2560681', '2546886', '2463834', '2513412', '2555737', '2532969', '2395019', '2469076', '2542004', '2512156', '2515257', '2554512', '2453322', '2537165', '2515437', '2510726', '2504944', '2478842', '2561824', '2531285', '2561139', '2546861', '2413726', '2552261', '2546937', '2363391', '2505838', '2541985', '2568156', '2566182', '2516580', '2540246', '1452277', '2537520', '2513530', '2535598', '2514835', '2505250', '2336709', '2532266', '2503775', '2548270', '2529041', '2558927', '2537259', '2514452', '2513873', '2527330', '2555929', '2515781', '2552876', '2504064', '2541858', '2506960', '2507333', '2569140', '2523076', '2566368', '2551860', '2557867', '2566152', '2526308', '2514255', '2527661', '2537540', '2504284', '2541068', '2526587', '2550273', '2524827', '2535252', '2507035', '2546689', '2538820', '2538443', '2558057', '2545910', '2543595', '2552872', '2555192', '2566919', '2469923', '2507017', '2514048', '2551841', '2536509', '2522016', '2508926', '2200886', '2522416', '2560030', '2526542', '2408457', '2561243', '1523335', '2512250', '2509814', '2527485', '2517615', '2556051', '1581682', '2526478', '2561699', '2569045', '2525244', '2531301', '2557935', '2528710', '2560316', '2552546', '2568348', '2516142', '2521956', '2530392', '2519380', '2561644', '2529152', '2553142', '2568598', '2515421', '2516461', '2538903', '2557356', '2530319', '2512443', '2513783', '2558037', '2517847', '2542925', '2563376', '2520927', '2556321', '2540684', '2510730', '2424253', '2525642', '2362672', '2517682', '2551122', '2535564', '2567594', '2529077', '2535760', '2559337', '2556191', '2552622', '2414129', '2570161', '2527052', '2532893', '2568037', '2522032', '2516735', '2505444', '2559368', '2533512', '2526206', '2525834', '2569149', '2505462', '2531451', '2537134', '2516115', '2540133', '2507746', '2560365', '2536005', '2517598', '2570427', '2528238', '2546660', '2530560', '2560494', '2523548', '2512559', '2534106', '2482765', '2543241', '2555097', '2512127', '2517361', '2505564', '2532350', '2562202', '2534749', '2522944', '2264789', '2556241', '2556691', '2553324', '2509039', '2566861', '2157168', '2551291', '2562833', '2514754', '2531850', '2489356', '2516361', '2505400', '2568979', '2514850', '2506166', '2488613', '2548473', '2552448', '2505058', '2513683', '2562541', '2566631', '2545102', '2519791', '2549522', '2507470', '2521282', '2525918', '2514676', '2509928', '2536069', '2538147', '2534344', '2552341', '2517518', '2535662', '2503777', '2535560', '2508612', '2540520', '2508306', '2505040', '2543419', '2548433', '2509626', '2552318', '2545236', '2563554', '2519178', '2535685', '2537396', '2565034', '2516203', '2542810', '2546771', '2568942', '2503084', '2546499', '2493101', '2521201', '2556936', '2555743', '2525920', '2504513', '2554411', '2526962', '2531788', '2533399', '2556453', '2509769', '2563158', '2547969', '2540936', '2555099', '2529198', '2546601', '2514687', '2543390', '2544004', '2527968', '2520166', '2532093', '2508040', '2536977', '2554659', '2568354', '2512445', '2550332', '2535535', '2452930', '2565160', '2557519', '2539545', '2519043', '2513915', '2552095', '2506707', '2527328', '2471247', '2519643', '2505287', '2555410', '2527541', '2537855', '2525561', '2551562', '2517181', '2385463', '2480302', '2550682', '2517268', '2506156', '2512312', '2557596', '2513172', '2541714', '2561205', '2502723', '2480264', '2523978', '2536544', '2530191', '2515186', '2566193', '2562909', '2352162', '2514903', '2515742', '2500524', '2514873', '2536557', '2551337', '2551715', '2531323', '2541642', '2529715', '2557454', '2570616', '2546367', '2554798', '2564235', '2543098', '2533316', '2522648', '2561750', '2534918', '2509000', '2524040', '2545767', '2560585', '2534608', '2533492', '2543815', '2520080', '2530478', '2559451', '2511125', '2389797', '2510829', '2564999', '2551855', '2528192', '2527181', '2569538', '2548773', '2493848', '2507180', '2488674', '2519310', '2253521', '2513017', '2514536', '2568047', '2518427', '2517186', '2525637', '2509188', '2028143', '2542464', '2528914', '2539384', '2506973', '2529029', '2525643', '2512959', '2555995', '2529265', '2549997', '2555711', '2487354', '2566495', '2544316', '2514577', '2508648', '2524000', '2554191', '2565340', '2504446', '2508533', '2163785', '2509931', '2551769', '2512575', '2479550', '2489753', '2552103', '2374442', '2537815', '2531359', '2525366', '2485503', '2525966', '2509171', '2545118', '2522805', '2558588', '2548179', '2517202', '2557071', '2531842', '2547540', '2528569', '2537227', '2518777', '2505863', '2531997', '2534826', '2517843', '2509822', '2509448', '2552743', '2511195', '2517083', '2517345', '2525652', '2537019', '2507743', '2555585', '2517481', '2513804', '2505998', '2547462', '2527374', '2566236', '2437402', '2557019', '2541852', '2552027', '2529847', '2559620', '2534266', '2522268', '2530905', '2512706', '2568058', '2518540', '2549495', '2554197', '2532242', '2230982', '2565922', '2565380', '2556311', '2557085', '2507223', '2547867', '2559212', '2512771', '2535263', '2560041', '1884874', '2536568', '2541202', '2514526', '2505205', '2405967', '2545720', '2559912', '2528865', '2551463', '2318674', '2541591', '2528179', '2506549', '2513340', '2509727', '2530366', '2546076', '2520520', '2523256', '2562667', '2516255', '2509914', '2513249', '1911317', '2554227', '2517398', '2548477', '2538532', '2517553', '2520924', '2528936', '2568287', '2523388', '2516847', '2488795', '2546999', '2505628', '2516421', '2558562', '2535331', '2545447', '2246408', '2553481', '2556894', '2550061', '2514489', '2530953', '2536300', '2482353', '2276085', '2536798', '2505516', '2554449', '2559798', '2554102', '2561378', '2554200', '2562127', '2503938', '2507401', '2554887', '2518865', '2535859', '2566954', '2422223', '2519882', '2568431', '2558369', '2510433', '2541706', '2524071', '2548411', '2294668', '2397702', '2550436', '2508688', '2543291', '2515307', '2519766', '2503872', '2539572', '2570510', '2483588', '2554464', '2559488', '2551511', '2538121', '2564617', '2557152', '2219010', '2541273', '2549886', '2568653', '2536711', '2522294', '2544863', '2505490', '2570522', '2540468', '2522879', '2519228', '2528377', '2540264', '2526582', '2524645', '2554345', '2539529', '2424452', '2506921', '2521088', '2449018', '2526377', '2521341', '2546462', '2543832', '2518536', '2553913', '2562520', '2556660', '2538047', '2528955', '2522836', '2554890', '2542941', '2532031', '2568634', '2560655', '1419883', '2512341', '2516189', '2567442', '2506627', '2528034', '2521699', '2563079', '2567447', '2560967', '2503795', '2505803', '2511857', '2530597', '2536212', '2514703', '2540873', '2540421', '2482715', '2557577', '2545134', '2510412', '2533237', '2565912', '2558311', '2515492', '2563448', '2508530', '2510771', '2570650', '2535302', '2564536', '2511370', '2561434', '2556805', '2557714', '2504769', '2540092', '2552285', '2545639', '2518688', '2527821', '2526705', '2556835', '2533646', '2238722', '2551782', '2513858', '2515400', '2568815', '2529094', '2541523', '2557707', '2537751', '2538824', '2206701', '2522181', '2513998', '2560657', '2515359', '2549378', '2509200', '2517515', '2563069', '2527626', '2525109', '2555559', '2099073', '2466764', '2530777', '2536452', '2506118', '2539463', '2529840', '2545515', '2562587', '1677876', '2513162', '2504082', '2530323', '2271543', '2543100', '2509233', '2564206', '2530300', '2544053', '2542573', '2504894', '2515006', '2439876', '2516268', '2528444', '2552771', '1355937', '2524073', '2525463', '2555173', '2543274', '2551721', '2514205', '2567979', '2310445', '2538260', '2548216', '2528035', '2522103', '2568146', '2555199', '2535547', '2519298', '2562320', '2530692', '2534728', '2557394', '2516395', '2528217', '2555809', '2527434', '2562102', '2560252', '2541748', '2503725', '2518948', '2529517', '2553999', '2565255', '2534637', '2524734', '2569257', '2525914', '2537754', '2560403', '2507041', '2535450', '2549417', '2539400', '2538367', '2513230', '2534944', '2557984', '2504629', '2542078', '2510391', '2300655', '2564886', '2563068', '2534447', '2509357', '2554923', '2532425', '2542814', '2564426', '2427160', '2550944', '2557091', '2413271', '2530119', '2538793', '2557031', '2570565', '2529806', '2556075', '2531856', '2552076', '2508249', '2299055', '2548537', '2512389', '2561698', '2504933', '2539965', '2524032', '2514286', '2525815', '2518412', '2544154', '2537343', '2467027', '2561922', '2549958', '2569006', '2533982', '2515036', '2556136', '2565891', '2518258', '2516931', '2546629', '2554315', '2515922', '2503967', '2550241', '2556819', '2562066', '2537990', '2566345', '2541014', '2548957', '2541433', '2550650', '2570214', '2546317', '2520194', '2569088', '2513665', '2341685', '2543642', '2547961', '2536365', '2567813', '2555705', '2512058', '2512471', '2536911', '2528455', '2516070', '2504497', '2518736', '2529983', '2569712', '2530759', '2567733', '2552615', '2330609', '2557287', '2565392', '2569836', '2548348', '2522507', '2513720', '2524011', '2556736', '2554556', '2562144', '2504079', '2557808', '2412526', '2535887', '2307834', '2530880', '2521508', '2531295', '2539509', '2531910', '2531110', '2531306', '2562999', '2554385', '2534999', '2563934', '2562186', '2521049', '2556092', '2521034', '2512064', '2505547', '2558173', '2533869', '2518172', '2562327', '2543232', '2513364', '2506453', '2520707', '2563854', '2511199', '2528832', '2514505', '2527728', '2550094', '2538503', '2532929', '2530842', '2515973', '2510497', '2523965', '2546926', '2532127', '2544664', '2465407', '2549993', '2563997', '2552287', '2518583', '2562987', '2522711', '2502048', '2515038', '2570423', '2525739', '2536563', '2505495', '2570384', '2534289', '2524499', '2538907', '2483778', '2554346', '2563465', '2565908', '2542337', '2143262', '2530650', '2526054', '2559213', '2426780', '2536611', '2549768', '2539183', '1793369', '2519098', '2552661', '2567879', '2513373', '2526879', '2506124', '2179036', '2519672', '2514462', '2510148', '2549845', '2530276', '2559362', '2538238', '2546157', '2559353', '2527719', '2508349', '2519562', '1579682', '2534427', '2540062', '2511865', '2533263', '2534196', '2505527', '2322588', '2514096', '2513013', '2513734', '2432622', '2505059', '2519578', '2504372', '2506366', '2511406', '2555854', '2559729', '2518913', '2403205', '2528871', '2512162', '2520753', '2534597', '2566369', '2548657', '2511477', '2564244', '2525054', '2465568', '2511962', '2544939', '2531696', '2519754', '2539686', '2566022', '2521223', '2531055', '2531632', '2541201', '2568876', '2528586', '2557564', '2525678', '2504148', '2525391', '2519332', '2215485', '2570056', '2392610', '2567905', '2530370', '2537891', '2560791', '1564924', '2563453', '2546127', '2570416', '2519976', '2524387', '2553029', '2536998', '2280447', '2533508', '2536461', '2563713', '2556591', '2530712', '2548566', '2522399', '2532900', '2034725', '2518664', '2537975', '2529689', '2526053', '2570333', '2512785', '2523600', '2545964', '2525701', '2569659', '2530125', '2519282', '2539295', '2505925', '2499858', '2569784', '2195426', '2519933', '2524060', '2525433', '2561827', '2565635', '2523247', '2552676', '2505766', '2465290', '2518572', '2522010', '2515824', '2435188', '2539107', '2558418', '2514857', '2560267', '2528913', '2526389', '2558991', '2511290', '2541569', '2557021', '2527204', '2539755', '2512562', '2533895', '2268264', '2154068', '2525156', '2540473', '2565699', '2551054', '2444816', '2538953', '2532812', '2542391', '2515988', '2553641', '2540653', '2557204', '2546693', '2565589', '2546151', '2552691', '2553241', '2557668', '2544224', '2559605', '2567893', '1376256', '2558344', '2543363', '2528713', '2518508', '2542412', '2568157', '2520407', '2520272', '2548155', '2568499', '2542839', '2505363', '2559486', '2491626', '2526492', '2524839', '2265398', '2511549', '2551643', '2449674', '2527226', '2550480', '2569585', '2545328', '2536361', '2515913', '2508449', '2554572', '2518858', '2530710', '2551065', '2518240', '2554656', '2550793', '2502400', '2544421', '2531920', '2509221', '2519590', '2562428', '2564913', '2505383', '2555167', '2551333', '2538670', '2529206', '2520426', '2530736', '2556265', '2529287', '2515756', '2519594', '2524222', '2220290', '2552256', '2539967', '2554897', '2552966', '2554713', '2535663', '2522314', '2557260', '2494733', '2562444', '2541490', '2538141', '2531101', '2535566', '2512509', '2543592', '2507193', '2528805', '2509023', '2512632', '2561533', '2526006', '2556294', '2552509', '2526782', '2551118', '2560119', '2550039', '2534989', '2507281', '2157000', '2547214', '2506371', '2534697', '2535688', '2559949', '2537300', '2513943', '2541503', '2567687', '2525697', '2566681', '2526007', '2567171', '2530207', '2528070', '2540079', '2510668', '2505272', '2504406', '2526803', '2558552', '2036919', '2383878', '2521139', '2531225', '2524135', '2519041', '2566286', '2496289', '2426470', '2566570', '2532002', '2505226', '2511518', '2548659', '2510457', '2556611', '2523466', '2558109', '2515508', '2566447', '2531450', '2507231', '2507755', '2512401', '2558553', '2511458', '2402266', '2535315', '2546047', '2525777', '2513156', '2517145', '2523092', '2564521', '2530581', '2537260', '2566459', '2531915', '2519523', '2449580', '2549878', '2556291', '2559977', '2534490', '2504572', '2556229', '2515375', '2535438', '2551459', '2514073', '2565453', '2508104', '2522914', '2549715', '2555296', '2530935', '2523744', '2537476', '2530044', '2563311', '2507074', '2542093', '2533643', '2535149', '2547024', '2509251', '2557336', '2528835', '2556147', '2544054', '1936358', '2550001', '2559296', '2556130', '2559663', '2514810', '2542241', '2564809', '2518207', '2556600', '2569807', '2528706', '2519612', '2535975', '2508965', '2567431', '2184602', '2532843', '2518818', '2555828', '2512982', '2532087', '2538852', '2557977', '2377112', '2517594', '2388852', '2504229', '2558758', '2505326', '2536335', '2533816', '2534782', '2542566', '2538811', '2533991', '2550009', '2523988', '2534802', '2547812', '2565644', '2557002', '2521513', '2553868', '2210848', '2565278', '2564433', '2492540', '2512430', '2568809', '2558777', '2527686', '2552361', '2512076', '2535242', '2451050', '2568403', '2472363', '2532488', '2543329', '2567034', '2542436', '2546260', '2564842', '2557363', '2537654', '2560836', '2565284', '2567448', '2547453', '2556285', '2534972', '2519469', '2544190', '2529860', '2518843', '2510118', '2509161', '2568381', '2568910', '2532008', '2533243', '2529380', '2525686', '2549040', '2548535', '2542338', '2512787', '2562988', '2528739', '2556676', '2475513', '2535002', '2339816', '2534985', '2549384', '2555143', '2562180', '2537065', '2512189', '2516165', '2505896', '2528346', '2353331', '2544298', '2535816', '2526601', '2540487', '2525553', '2557097', '2542048', '2522073', '2559625', '2553197', '2551812', '2522276', '2516403', '1189221', '2551145', '2545033', '2507557', '2562285', '2524442', '2510103', '2530781', '2512603', '2503943', '2564315', '2511414', '2490915', '2560867', '2557231', '2519622', '2561211', '2564811', '2533233', '2523407', '2555643', '2549421', '2455547', '2521736', '2512489', '2545743', '2516229', '2542713', '2543216', '2567944', '2527336', '2522279', '2567377', '1695259', '2548244', '2553264', '2562664', '2551194', '2561047', '2553286', '2515322', '2439972', '2515391', '2525550', '2510002', '2561414', '2459215', '2527211', '2564123', '2526948', '2515521', '2558740', '2551342', '2521739', '2560870', '2561594', '2540328', '2548844', '2514231', '2559737', '2505941', '2569997', '2568735', '2536229', '2544933', '2521137', '2559324', '2563105', '2544770', '2562842', '2509094', '2535851', '1878198', '2532086', '2533673', '2516963', '2525916', '2173385', '2561863', '2517191', '2427256', '2533514', '2569365', '2512572', '2384743', '2545117', '2505127', '2559285', '2537369', '2524521', '2543752', '2513739', '2522385', '2549270', '2562906', '2525881', '2570096', '2526417', '2553153', '2505500', '2495816', '2557430', '2508810', '2519797', '2541144', '2513929', '2512741', '2558226', '2560978', '2545137', '2540046', '2531784', '2549641', '2543443', '2500188', '2525700', '2472740', '2502632', '2567668', '2552680', '1389961', '2545571', '2517862', '2566583', '2529531', '2535386', '2550765', '2542249', '2514262', '2564942', '2570136', '2517243', '2505723', '2554259', '2518113', '2567519', '2528027', '2514432', '2540370', '2545532', '2530459', '2531878', '2522997', '2568651', '2495719', '2535881', '2537749', '2548779', '2505512', '2506363', '2550137', '2508025', '2539293', '2515459', '2548024', '2521428', '2559253', '2557216', '2516215', '2481295', '2324576', '2509802', '2506300', '2496526', '2531378', '2550566', '2550701', '2513092', '2513483', '2562650', '2518656', '2545600', '2513969', '2527331', '2526797', '2561680', '2552616', '2555652', '2503869', '2523253', '2537412', '2557939', '2545917', '2547550', '2509131', '2569217', '2547275', '2490328', '2513887', '2519147', '2535314', '2559558', '2543059', '2537439', '2522173', '2565161', '2480501', '2547023', '2520195', '2507735', '2536665', '2560331', '2570430', '2520957', '2493070', '2546415', '2552772', '2511424', '2503767', '2532541', '2536446', '2564291', '2530152', '1379237', '2331466', '2434195', '2557819', '2543475', '2554525', '2535894', '2565140', '2529192', '2508167', '2569598', '2569106', '2539547', '2567673', '2533681', '2511278', '2455347', '2542633', '2561305', '2567079', '2528133', '2516494', '2513342', '2536709', '2568377', '2538154', '2538803', '2538644', '2529209', '2538737', '2560592', '2529954', '2567607', '2541441', '2530399', '2547955', '2518506', '2533102', '2555533', '2488036', '2558210', '2563669', '2561311', '2550004', '1127964', '2554493', '2562790', '2556350', '2554005', '2546778', '2528658', '2540121', '2565718', '2508712', '2548261', '2539994', '2537174', '2565723', '2512953', '2545192', '2503106', '2566280', '2264143', '2538310', '2536242', '2546571', '2559751', '2569571', '2512452', '2563785', '2562358', '2415256', '2568076', '2494990', '2517085', '2520586', '2210693', '2537418', '2561849', '2548176', '2504583', '2533847', '2557769', '2502853', '2568940', '2515886', '2457152', '2567240', '2537192', '2543781', '2504780', '2508480', '2504781', '2567106', '2505012', '2558406', '2506901', '2557882', '2442861', '2520728', '2546957', '2550563', '2557129', '2512661', '2510189', '2544679', '2562605', '2565414', '2559248', '2540635', '2505277', '2515101', '2556885', '2527427', '2510537', '2528147', '2506165', '2506104', '2547630', '2539703', '2506075', '2518840', '2556919', '2506910', '2560143', '2524409', '2548392', '2525211', '2549743', '2535934', '2543910', '2559718', '2541776', '2538860', '2559080', '2530420', '2545411', '2509096', '2567756', '2531449', '2515782', '2564109', '2566555', '2535936', '2538387', '2515000', '2522303', '2511289', '2545356', '2528890', '2514532', '2569182', '2511975', '2512117', '2539046', '2556555', '2526955', '2300984', '2520660', '2505793', '2555706', '2540911', '2537189', '2531851', '2515045', '2529042', '2455759', '2509975', '2551325', '2537403', '2512666', '2564580', '2540059', '2564141', '2548072', '2564102', '2271596', '2501220', '2558007', '2541841', '2537315', '2518882', '2529658', '2562814', '2562436', '2525617', '2545139', '2121393', '2542478', '2568868', '2564240', '2525041', '2551222', '2550438', '2547792', '2505207', '2495883', '2557459', '2394425', '2548470', '2494334', '2541971', '2484241', '2515147', '2522490', '2525181', '2536454', '2529818', '2525793', '2540233', '2566194', '2523968', '2524009', '2541921', '2508300', '2533300', '2566569', '2504569', '2509880', '2502889', '2559363', '2507345', '2567838', '2529587', '2471123', '1204717', '2507574', '2561694', '2556815', '2551514', '2516355', '2553485', '2516990', '2535453', '2550128', '2514686', '2548209', '2319852', '2558547', '2541687', '2566608', '2522471', '2540124', '2558320', '2565086', '2466801', '2544289', '2528315', '2558111', '2507616', '2539401', '2565647', '2248700', '2427451', '2556834', '1703605', '2540112', '2539747', '2549695', '2528927', '2538400', '2522285', '2557893', '2551601', '2560661', '2525808', '2530619', '2564865', '2521693', '2561183', '2527762', '2566419', '2565417', '2503856', '2501545', '2555273', '2556913', '2570438', '2565797', '2541834', '2549520', '2537290', '2568105', '2554126', '2513125', '2541434', '2563062', '2549277', '2545491', '2504705', '2563778', '2525933', '2562461', '2504548', '2517454', '2567750', '2504347', '2524959', '2506811', '2503237', '2522017', '2543466', '2508644', '2460607', '2483832', '2567931', '2525786', '2538482', '2561145', '2526020', '2538393', '2552213', '2550539', '2565360', '2529792', '2509268', '2519920', '2567955', '2552195', '2412737', '2565047', '2525874', '2548126', '2525628', '2535279', '2541632', '2535995', '2529371', '2455014', '2521943', '2528316', '2532515', '2539917', '2537861', '2516037', '2545559', '2495611', '2568526', '2556032', '2551193', '2541376', '2517122', '2570193', '2506024', '2552522', '2535089', '2542208', '2559765', '2545552', '2463718', '2549305', '2557266', '2533581', '2551608', '2556636', '2550428', '2547912', '2567063', '1400493', '2552193', '2557077', '2531676', '2551203', '2549921', '2544547', '2530244', '2562826', '2541421', '2525698', '2560500', '2518185', '2536780', '2540518', '2513815', '2547871', '2525816', '2526583', '2509051', '2518880', '2541787', '2544133', '2534011', '2557654', '2460277', '2519154', '2557474', '2552321', '2538593', '2534180', '2501566', '2513785', '2566348', '2538360', '2550382', '2531548', '2559801', '2561706', '2561527', '2537278', '2545606', '2560364', '2552851', '2524461', '2444252', '2522479', '2499377', '2503819', '2547973', '2535642', '2542219', '2551893', '2569277', '2517008', '2534860', '2544631', '2537765', '2525057', '2564419', '2566943', '2547801', '2520456', '2533934', '2522315', '2558045', '2524212', '2528256', '2539929', '2505193', '2548207', '2511656', '2507675', '2548343', '2558596', '2552702', '2564712', '2493331', '2539450', '2554688', '2530079', '2544335', '2522693', '2565889', '2522274', '2525486', '2511305', '2541330', '2515768', '2542770', '2549347', '2507018', '2566475', '2522164', '2545618', '2512311', '2570463', '2525961', '2515992', '2538764', '2569060', '2523026', '2291552', '2545074', '2516158', '2560191', '2451491', '2526588', '2570592', '2555527', '2568872', '2535599', '2536197', '2538762', '2554582', '2554632', '2532040', '2520504', '2557050', '2518805', '2553105', '2555327', '2561926', '2568671', '2534960', '2518700', '2535676', '2546204', '2503992', '2554299', '2524251', '2550260', '2540215', '2562632', '2520494', '2565273', '2554097', '2568580', '2523646', '2570110', '2560292', '2529226', '2542458', '2359716', '2539462', '2524180', '2550054', '2508890', '2541603', '2536313', '2517638', '2527553', '2511311', '2526682', '2558287', '2196902', '2251371', '2512715', '2555653', '2543980', '2540113', '2559450', '2538196', '2511354', '2521071', '2526928', '2554672', '2517079', '2544572', '2555897', '2551580', '2545325', '2512688', '2554523', '2566827', '2550490', '2565636', '2544209', '2486377', '2565162', '2569094', '2565789', '2553312', '2564131', '2526914', '2517126', '2552715', '2567884', '2550679', '2533375', '2385495', '2567880', '2514809', '2535307', '2519018', '2431771', '2523702', '2527260', '2543558', '2495377', '2532649', '2509226', '2506495', '2541001', '2547442', '2524731', '2550140', '2535412', '2512732', '2557716', '2559783', '2543042', '2445143', '2537101', '2545468', '2401274', '2525342', '2518885', '2555018', '2399269', '2510868', '2547396', '2523748', '2549077', '2503204', '2538818', '2509193', '2525118', '2514457', '2509151', '2559408', '2552617', '2563622', '2534002', '2559764', '2567126', '2522986', '2542212', '2564883', '2540573', '2555602', '2534450', '2560493', '2486791', '2529162', '2524164', '2192329', '2522968', '2560796', '2538453', '2547748', '2542945', '2531771', '2562691', '2519253', '2547995', '2517778', '2520339', '2528430', '2556511', '2513361', '2529060', '2539062', '2533818', '2340592', '2537267', '2505190', '2248073', '2561702', '2534710', '2497452', '2522027', '2525150', '2567628', '2416142', '2535510', '2544273', '2527929', '2570456', '2500358', '2526490', '2522342', '2503513', '2531866', '2536183', '2512149', '2511707', '2531989', '2503963', '2509552', '2540969', '2560208', '2542154', '2444172', '2544515', '2498707', '2520156', '2549763', '2293885', '2491045', '2564941', '2530190', '2505702', '2526358', '2555589', '2512141', '2527363', '2558696', '2451330', '2545419', '2515432', '2522580', '2548092', '2564979', '2561961', '2554152', '1130382', '2505904', '2515612', '2545278', '2535848', '2488380', '2532162', '2538705', '2524801', '2523544', '2563301', '2558905', '2558237', '2526949', '2522982', '2556812', '2549757', '2567654', '2512244', '2505154', '2468771', '2562336', '2554711', '2539669', '2547618', '2563929', '2519939', '2562917', '2518245', '2458079', '2507804', '2529640', '2504001', '2547951', '2514634', '2560707', '2547245', '2547833', '2514649', '2503780', '2564507', '2524887', '2547888', '2549644', '2563004', '2535185', '2545712', '2537464', '2530700', '2542582', '2518244', '2144307', '2528447', '2548136', '2537719', '2518725', '2515916', '2549326', '2515342', '2559299', '2438298', '2508663', '2510116', '2566978', '2391895', '2549002', '2528703', '2542986', '2556724', '2539909', '2527389', '2517144', '2548300', '2527018', '2545444', '2541224', '2528818', '2523378', '2557303', '2525311', '2507399', '2496093', '2566231', '2534535', '2550549', '2570153', '2532134', '2520790', '2530486', '2508490', '2515168', '2551093', '2526182', '2557213', '2565397', '1716719', '2556593', '2521573', '2510251', '2513623', '2554059', '2533474', '2568789', '2533758', '2417136', '2569324', '2543200', '2519349', '2533776', '2515841', '2551488', '2527208', '2548850', '2517995', '2526685', '2536613', '2446969', '2549167', '2562681', '2558890', '2547660', '2385372', '2521994', '2504734', '2521007', '2560242', '2550567', '2523870', '2567011', '2519083', '2549405', '2549856', '2565811', '2507650', '2525302', '2555246', '2513978', '2566920', '2469139', '2566271', '2553973', '2561974', '2543024', '2532435', '2532553', '2566343', '2514965', '2533254', '2524281', '2536727', '2508973', '2252140', '2548926', '2562611', '1527496', '2549969', '2504672', '2556860', '2545244', '2569992', '2555740', '2559583', '2540420', '2508980', '2565765', '2523361', '2548322', '2541816', '2550411', '2551930', '2513633', '2553476', '2525381', '2559041', '1492392', '2539721', '2509262', '2504425', '2545200', '2530331', '2487906', '2518689', '2536973', '2393350', '2515073', '2532729', '2533942', '2387032', '2538267', '2526250', '2521903', '2499338', '2539212', '2492869', '2567071', '2518740', '2527296', '2546669', '2528145', '2511324', '2552518', '2513883', '2544557', '2550053', '2541460', '2504647', '2509392', '2557248', '2564933', '2543337', '2567844', '2550205', '2506522', '2508448', '2512791', '2569252', '2515656', '2568679', '2526661', '2568291', '2551038', '2547226', '2530539', '2519951', '2552087', '2461099', '2533988', '2552614', '2569373', '2544205', '2561458', '2542014', '2504657', '2547931', '2522509', '2556464', '2554808', '2557858', '2565446', '2505953', '2531211', '2548316', '2557445', '2503836', '2537135', '2538062', '2539759', '2569449', '2554308', '2548276', '2510231', '2563296', '2537851', '2543143', '2531811', '2556774', '2553563', '2550626', '2481795', '2554699', '2512304', '2537146', '2547373', '2538589', '2558658', '2520013', '2459927', '2542127', '2517182', '2547830', '2508033', '2528769', '2531290', '2504605', '2564007', '2532233', '2540897', '2562389', '2550486', '2334367', '2538000', '2565613', '2530614', '2554742', '2504818', '2551294', '2525401', '2542951', '2553181', '2565040', '2527875', '2511907', '2550420', '2474757', '2569279', '2561683', '2533769', '2550002', '2517477', '2555639', '2529901', '2528336', '2540427', '2545450', '2538504', '2523063', '2555849', '2506035', '2527699', '2564479', '2506101', '2510242', '2537606', '2522260', '2537076', '2505788', '2538329', '2529311', '2323019', '2511465', '2503289', '2533927', '2527463', '2516607', '2510968', '2516153', '2520174', '2366948', '2533188', '2538179', '2550703', '2558671', '2567551', '2552747', '2508087', '2510572', '1785383', '2562392', '2565378', '2551212', '2515145', '2553378', '2545347', '2525776', '2524810', '2532550', '2154705', '2522328', '2517140', '2525263', '2565482', '2522082', '2490983', '2531400', '2507066', '2551684', '2518029', '2313131', '2568239', '2538138', '2568781', '2546293', '2556929', '2531078', '2506902', '2544728', '2515199', '2523922', '2534702', '2563221', '2538993', '2516711', '2507214', '2552752', '2526932', '2549164', '2551614', '2527860', '2569343', '2525671', '2517388', '2535955', '2485297', '2521824', '2528162', '2556389', '2539088', '2541534', '2525666', '2546831', '2554214', '2570274', '2323194', '2513232', '2567776', '2558403', '2509895', '2532174', '2556743', '2242748', '2516871', '2528111', '2562168', '2512236', '2522442', '2250692', '2532635', '2505668', '2551907', '2531204', '2550232', '2525247', '2533105', '2515294', '2537254', '2519220', '2565761', '2542193', '2514962', '2526747', '2553299', '2528926', '2512869', '2530488', '2527555', '2553917', '2525802', '2563898', '2516652', '2511284', '2527610', '2516888', '2522411', '2509731', '2336416', '2524357', '2547580', '2561703', '2505558', '2566288', '2515799', '2511766', '2504669', '2522890', '2509172', '2554065', '2531981', '2533672', '2505469', '2529971', '2533431', '2560303', '2549960', '2563395', '2517208', '2547786', '2533738', '2516426', '2529609', '2546301', '2548194', '2509538', '2542308', '2556886', '2565290', '2558606', '2565587', '2490015', '2507566', '2541130', '2518644', '2546286', '2535346', '2543658', '2504096', '2272989', '2539305', '2556732', '2548459', '2544511', '2528506', '2561341', '2543525', '2528899', '2552742', '2512136', '2550852', '2568927', '2568811', '2547166', '2450104', '2537095', '2499819', '2566204', '2545967', '1349766', '2540037', '2251966', '2521977', '2542763', '2569183', '2564967', '2519793', '2535687', '2540014', '2526624', '2558434', '2523275', '2535231', '2556801', '2528330', '2507527', '2535278', '2531064', '2513979', '2551751', '2538867', '2506079', '2533310', '2541796', '2549898', '2548350', '2550907', '2510599', '2553171', '2545170', '2555668', '2565806', '2552951', '2535455', '2523820', '2527594', '2509191', '2524290', '2505817', '2556826', '2554267', '2511221', '2505836', '2559263', '2554760', '2522407', '2514217', '2540446', '2544314', '2458553', '2521653', '2515301', '2517523', '1317458', '2509446', '2517169', '2524321', '2566032', '2531320', '2532173', '2524750', '2504335', '2563737', '2554827', '2553617', '2545878', '2468005', '2520885', '2533320', '2284273', '2538261', '2538598', '2515476', '2515494', '2552432', '2523494', '2523955', '2518484', '2542957', '2510827', '2517379', '2543585', '2565548', '2527900', '2547640', '2510270', '2563599', '2527792', '2547906', '2529664', '2565754', '2524469', '2522183', '2569967', '2533686', '2548401', '2538622', '2559544', '2530655', '2543235', '2525474', '2541402', '2530757', '2526388', '2518403', '2563294', '2506788', '2555171', '2487351', '2448565', '2554057', '2541663', '2521257', '2531961', '2507411', '2526233', '2542361', '2333442', '2502131', '2518441', '2548717', '2552496', '2558599', '2562354', '2570703', '2559686', '2511111', '2513053', '2505365', '2564970', '2519068', '2568836', '2454635', '2543451', '1097566', '2537299', '2545651', '2530770', '2548127', '2325830', '2520961', '2528727', '2535166', '2536536', '2532037', '2555232', '2568997', '2568820', '2517225', '2528258', '2554209', '2518027', '2563615', '2516820', '2510292', '2511788', '2532161', '2514298', '2556120', '2569654', '2560645', '2559860', '2558161', '2449557', '2533670', '2554670', '2523420', '2564799', '2542491', '2523695', '2538596', '2533292', '2562060', '2503751', '2519690', '2563660', '2511041', '2561059', '2544001', '2549058', '2530616', '2552736', '2196555', '2522882', '2516243', '2565462', '2527455', '2524824', '2551358', '2465293', '2565331', '2537740', '2534418', '2532509', '2506420', '2514433', '2524487', '2397495', '2546801', '2569393', '2555012', '2530733', '2529839', '2544945', '2520433', '2258306', '2459905', '2506739', '2507306', '2560023', '2519498', '2559710', '2554805', '2525852', '2568963', '2539371', '2483589', '2537405', '2565227', '2524178', '2526902', '2504889', '2497323', '2531258', '2565705', '2536923', '2520635', '2559767', '2551576', '2513947', '2518979', '2516679', '2542993', '2459220', '2562614', '2533678', '2555295', '2524818', '2559386', '2548530', '2505935', '2274029', '2519019', '2505834', '2526505', '2511392', '2545989', '2543552', '2183961', '2509826', '2550753', '2450253', '2522875', '2551233', '2529123', '2517007', '2533098', '2512093', '2567625', '2548173', '2544299', '2515551', '2570077', '2504749', '2557384', '2554306', '2534757', '2518923', '2493733', '2534796', '2560954', '2543953', '2550126', '2559692', '2566075', '2556424', '2508522', '2558761', '2529712', '2548192', '2527917', '2556754', '2550600', '2536042', '2549506', '2540034', '2552737', '2526061', '2514915', '2537638', '2555539', '2396678', '2523614', '2561186', '2562934', '2565251', '2543728', '2557256', '2548438', '2519271', '2544274', '2525373', '2480440', '2537380', '2157386', '2257817', '2541872', '2513773', '2551048', '2518845', '2542188', '2514908', '2556844', '2569619', '2563947', '2541577', '2504456', '2539593', '2528312', '2565332', '2541750', '2539815', '2285772', '2451078', '2566933', '2565187', '2518584', '2517213', '2515179', '2512864', '2569815', '2507859', '2514631', '2567606', '2550028', '1082488', '2527419', '2543779', '2553508', '2527523', '2556674', '2529407', '2534907', '2514080', '2532105', '2543277', '2554934', '2562237', '2542792', '2559659', '2548980', '2567714', '2538671', '2507535', '2554495', '2520249', '2543700', '2532067', '2544586', '2517067', '2537264', '2524698', '2547844', '2554578', '2567054', '2511101', '2538801', '2560329', '2551035', '2528046', '2562084', '2445514', '2524464', '2525748', '2515366', '2547454', '2464785', '2553533', '2524066', '2537515', '2531665', '2333998', '2539061', '2529867', '2525068', '2288163', '2522356', '2515068', '2544115', '2568436', '2559053', '2524104', '2498492', '2530414', '2503786', '2547360', '2540924', '2551239', '2528607', '2569699', '2508754', '2565565', '2507794', '2552845', '2435901', '2562488', '2520908', '2523812', '2317288', '2508368', '2552789', '2514107', '2512204', '2529107', '2517711', '1400145', '2416744', '2552935', '2538575', '2560430', '2565330', '2519737', '2543505', '2382751', '2551566', '2532222', '2564936', '2518276', '2556059', '2512151', '2530470', '2513252', '2544793', '2513482', '2512199', '2517807', '2538309', '2566245', '2512920', '2535296', '2514980', '2513514', '2556023', '2503993', '2565408', '2553053', '2533217', '2515079', '2524777', '2569818', '2568753', '2512178', '2555744', '2557781', '2540156', '2537124', '2550556', '2508636', '2505534', '2568083', '2563372', '2566791', '2565973', '2532631', '2541829', '2527220', '2530051', '2522961', '2567951', '2519354', '2517368', '2537452', '2565852', '2552865', '2535391', '2549232', '2561209', '2512290', '2534981', '2512176', '2562006', '2536007', '2504694', '2516860', '2569069', '2560009', '2462753', '2501309', '2556478', '2541768', '2569350', '2562422', '2548035', '2519211', '2541252', '2549166', '2532563', '2561180', '2507855', '2548706', '2520607', '2534723', '2503854', '2547231', '2512700', '2530687', '2516907', '2511628', '2561583', '2549841', '2561544', '2283810', '2508677', '2526895', '2541608', '2515759', '2522333', '2517104', '2514021', '2540192', '2514083', '2542264', '2558114', '2562687', '2505737', '2543327', '2534420', '2552133', '2460625', '2566340', '2562025', '2556238', '2125765', '2533733', '2511399', '2518983', '2534579', '2569493', '2557140', '2536425', '2439290', '2544516', '2529935', '2525324', '2539897', '2549795', '2519095', '2531514', '2504400', '2527338', '2545671', '2524076', '2569823', '2468656', '2536681', '2563419', '2452564', '2223414', '2536381', '2523827', '2504376', '2533586', '2560326', '2544258', '2510302', '2524091', '2554460', '2505199', '2512032', '2528074', '2078357', '2556202', '2545067', '2546134', '2561568', '2464275', '2565057', '2536328', '2543256', '2567293', '2505517', '2534726', '2514120', '2569684', '2545941', '2548191', '2522141', '2512288', '2520881', '2520946', '2433828', '2545597', '2535010', '2530454', '2549603', '1694557', '2519374', '2543263', '2505520', '2541583', '2506541', '2521682', '2537244', '2567704', '2516657', '2516768', '2546980', '2567875', '2565502', '2546457', '2212084', '2510606', '2554159', '2525963', '2532079', '2534935', '2196370', '2556177', '2524463', '2533788', '2559610', '2553633', '2468877', '2521056', '2546616', '2510406', '2505316', '2535423', '2554387', '2077813', '2545248', '2522029', '2510834', '2532777', '2553920', '2397276', '2535549', '2544232', '2535049', '2478964', '2513413', '2503721', '2553944', '2503997', '2569391', '2523360', '2522295', '2537161', '2513496', '2489732', '2508798', '2570132', '2528504', '2538579', '2540240', '2224828', '2546316', '1612089', '2504034', '2238733', '2521330', '2542175', '2554107', '2517436', '2536296', '2556757', '2541037', '2034338', '2530809', '2568546', '2541710', '2534836', '2565056', '2555270', '2511755', '2564737', '2522352', '2565186', '2552495', '2512681', '2528026', '2543995', '2289155', '2550672', '2516863', '2561324', '2569465', '2517236', '2491108', '2506016', '2551763', '2566244', '2504050', '2567846', '2541927', '2507614', '2536063', '2528590', '2523246', '2523981', '2468081', '2532901', '2544082', '2543955', '2529449', '2551867', '2529637', '2531150', '2518550', '2527250', '2550026', '2567553', '2569034', '2337986', '2563814', '2552196', '2535319', '2545429', '2506076', '2550795', '2475209', '2511271', '2560221', '2532792', '2566429', '2505225', '2510876', '2555467', '2546249', '2520403', '2534333', '2542459', '2528712', '2513600', '2556026', '2523352', '2556246', '2559752', '2508681', '2520454', '2537393', '2468152', '2545064', '2541041', '2511421', '2541086', '2562497', '2521786', '2560362', '2565249', '2568378', '2544106', '2522231', '2531072', '2557958', '2524152', '2523014', '2525796', '2554052', '2560923', '2550198', '2462489', '2554092', '2568590', '2550372', '2533698', '2569441', '2531647', '2509726', '2510193', '2562293', '2509333', '2533068', '2534069', '2564987', '2559823', '2505526', '2533125', '2564434', '2341502', '2554260', '2557409', '2537829', '2545387', '2544336', '2511206', '2567176', '2513642', '2506547', '2538639', '2207209', '2569457', '2507183', '2529791', '2569612', '2539190', '2534963', '2523845', '2557604', '2503939', '2522388', '2545207', '2517313', '2543788', '2556746', '2541359', '2516427', '2526863', '2532552', '2535832', '2535470', '2565664', '2505492', '2524833', '2539592', '2504989', '2556031', '2527227', '2538651', '2555883', '2489636', '2516988', '2175220', '2507888', '2533859', '2505733', '2480960', '2537028', '2559530', '2525420', '2466736', '2539379', '2550027', '2203384', '2139403', '2545673', '2537985', '2537104', '2537249', '2530260', '2526573', '2519346', '2564870', '2504486', '2513581', '2534901', '2507014', '2554628', '2555373', '2563782', '2530106', '2553896', '2554758', '2551206', '2518104', '2536731', '2568875', '2515004', '2537495', '2553356', '2548201', '2531236', '2537948', '2504738', '2441624', '2537496', '2515834', '2360893', '2556062', '2428104', '2558601', '2449181', '2549145', '2538377', '2544938', '2534398', '2018333', '2545437', '2540001', '2518816', '2474306', '2510342', '2567041', '2552444', '2565207', '2508234', '2454814', '2555042', '2505870', '2515047', '2569847', '2544035', '2514278', '2531253', '2542508', '2558179', '2514553', '2518348', '2554781', '2531059', '2517544', '2531401', '2570555', '2523963', '2546145', '2522819', '2521269', '2551131', '2568841', '2558410', '2564560', '2515946', '2518868', '2504071', '2553956', '2509292', '2530521', '2538732', '2520761', '2548031', '2387065', '2518280', '2548046', '2266417', '2540135', '2561975', '2172463', '2533000', '2562760', '2514912', '2543230', '2558027', '2562249', '2541274', '2508756', '2531890', '2515390', '2513628', '2529283', '2534560', '2561626', '2510937', '2563802', '2522162', '2512745', '2532741', '2513046', '2524242', '2535359', '2539745', '2507263', '2567914', '2547962', '2534415', '2561850', '2552327', '2347888', '2513221', '2566931', '2530330', '2566832', '2507307', '2508797', '2566506', '2561326', '2511104', '2552344', '2516827', '2516265', '2552416', '2538378', '2515162', '2561774', '2511654', '2544715', '2560372', '2543800', '2562032', '2509282', '2549561', '2562928', '2512469', '2514988', '2480493', '2537016', '2505765', '2524268', '2530262', '2449979', '2559658', '2547497', '2504007', '2522157', '2511210', '2568391', '2516015', '2515011', '2541314', '2503835', '2565496', '2525089', '2556845', '2545136', '2550525', '2532146', '2540010', '2511302', '2517881', '2533679', '2527992', '2511738', '2507983', '2527228', '2559499', '2555486', '2546067', '2540294', '2508408', '2556485', '2553492', '2560386', '2552740', '2542142', '2508814', '2494188', '2521253', '2515443', '2509299', '2533741', '2542380', '2522921', '2508470', '2530504', '2560835', '2468436', '2546810', '2554673', '2515269', '2141946', '2507780', '2537125', '2529550', '2561174', '2560108', '2543123', '2531728', '2529220', '2566588', '2509057', '2504558', '2557024', '2538650', '2508108', '2526758', '2458651', '2401885', '2555637', '2524204', '2566399', '2567763', '2542719', '2561074', '2434886', '2554285', '2516304', '2542454', '2527621', '2519716', '2564986', '2547779', '2522253', '2515325', '2508568', '2545126', '2512251', '2473363', '2531667', '2517034', '2538711', '2508298', '2514516', '2528721', '2566662', '2559713', '2499580', '2509785', '2450009', '2555389', '2548232', '2505887', '2502132', '2541067', '2510477', '2531030', '2567534', '2538230', '2540988', '2538912', '2565839', '2473971', '2490929', '2524920', '2557257', '2537628', '2513214', '2559600', '2540792', '2545566', '2556738', '2505828', '2515573', '2544645', '2500671', '2527032', '2553951', '2510673', '2482035', '2549449', '2555907', '2530277', '2545776', '2546213', '2570255', '2549441', '2558455', '2533066', '2522128', '2505747', '2526857', '2563699', '2515187', '2515089', '2523142', '2547348', '2511316', '2505622', '2563789', '2527511', '2504224', '2552624', '2552031', '2543564', '2540054', '2532287', '2542155', '2551482', '2545508', '2568594', '2506632', '2537440', '2524028', '2509917', '2513958', '2504276', '2525422', '2529756', '2531505', '2524930', '2570101', '2537394', '2493995', '2512815', '2504621', '2529033', '2538721', '2555703', '2552249', '2529821', '2494144', '2529511', '2542323', '2567816', '2555150', '2521151', '2528386', '2466689', '2552833', '2507426', '2525615', '2543588', '2538300', '2511038', '2548065', '2540080', '2507818', '2545739', '2538067', '2504187', '2559124', '2507849', '2539970', '2562964', '2524280', '2570075', '2518598', '2565727', '2504270', '2546720', '2513196', '2547724', '2537433', '2512264', '2518828', '2536933', '2553498', '2534260', '2508225', '2509735', '2535215', '2227653', '2525566', '2506648', '2512276', '2173047', '2552040', '2568569', '2517168', '2550437', '2530657', '2565141', '2515221', '2442421', '2560048', '2533309', '2556847', '2549654', '2564561', '2558557', '2552707', '2523616', '2511528', '2532014', '2563211', '2524297', '2507129', '2549746', '2546879', '2562045', '2535503', '2451776', '2553679', '2504411', '2524786', '2536789', '2538595', '2509707', '2530573', '2570059', '2524774', '2506678', '2523951', '2528944', '2528049', '2563870', '2530801', '2268362', '2512028', '2567264', '2555924', '2505346', '2545886', '2552635', '2550073', '2552938', '2520115', '2515132', '2514940', '2532245', '1104558', '2506791', '2516949', '2541813', '2528061', '2522596', '2533794', '2517866', '2504077', '2507325', '2519826', '2319435', '2560558', '2508781', '2519759', '2522075', '2533880', '2504106', '2557244', '2518686', '2529001', '2554187', '2507624', '2564431', '2568874', '2534017', '2566148', '2537109', '2555349', '2549762', '2505981', '2522904', '2533417', '2543576', '2557087', '2566956', '2546197', '2524106', '2536837', '2503516', '2504610', '2516786', '2509286', '2562159', '2524306', '2510895', '2521939', '2519858', '2554562', '2545316', '2520255', '2519125', '2561082', '2541735', '2554263', '2532009', '2538741', '2507698', '2510440', '2509183', '2537066', '2489448', '2539946', '2562143', '2501836', '2527221', '2566664', '2440260', '2481579', '2564028', '2520678', '2514203', '2512648', '2509305', '2531189', '2538564', '2562012', '2517068', '2562946', '2570686', '2531274', '2562783', '2546332', '2507341', '2530794', '2515329', '2522824', '2556157', '2522905', '2521805', '2564408', '2559593', '2561383', '2562453', '2520164', '2519796', '2514065', '2546267', '2546580', '2550574', '2522235', '2528809', '2537477', '2550356', '2522362', '2563508', '2540206', '2527231', '2375629', '2556516', '2538831', '2534812', '2547703', '2518594', '2516822', '2552484', '2568432', '2527235', '2503954', '2537302', '2549217', '2513654', '2515517', '2554733', '2524696', '2560632', '2496386', '2548015', '2566164', '2555259', '2505351', '2543482', '2569732', '2525332', '2550267', '2520533', '1079643', '2514151', '2481550', '2530253', '2510508', '2558359', '2526475', '2564872', '2460144', '2554174', '2477491', '2454631', '2536661', '2462411', '2569539', '2558453', '2520479', '2568073', '2521317', '2533348', '2552332', '2528992', '2457263', '2524781', '2329000', '2506505', '2506535', '2535633', '2518369', '2563020', '2567416', '2538560', '2541492', '2528755', '2540533', '2524175', '2538356', '2568716', '2557263', '2548085', '2558986', '2526678', '2456441', '2510685', '2509280', '2532730', '2557201', '2550949', '2532986', '2536737', '2523451', '2514776', '2545288', '2554225', '2530977', '2524358', '2552520', '2565370', '2535316', '2506892', '2518601', '2553472', '2567805', '2563371', '2496575', '2556529', '2566634', '2526391', '2538731', '2541388', '2561940', '2376971', '2531954', '2512770', '2561136', '2562610', '2538199', '2447466', '2537876', '2531711', '2516917', '2516560', '2517260', '2511929', '2506986', '2543259', '2546959', '2537415', '2526418', '2569387', '2522722', '2525589', '2525455', '2539658', '2570178', '2527513', '2534528', '2562244', '2568494', '2506625', '2530469', '2508248', '2558412', '2558598', '2525305', '2544773', '2563836', '2569133', '2443213', '2543616', '2509385', '2514478', '2563345', '2537497', '2547852', '2519746', '2522764', '2507384', '2537613', '2526171', '2548288', '2530762', '2502274', '2483769', '2444086', '2472087', '2537471', '2559003', '2522259', '2543860', '2520509', '2108280', '2568620', '2501778', '2548874', '2505494', '2526592', '2509324', '2543221', '2524140', '2542145', '2506351', '2532559', '2552135', '2507101', '2552250', '2495710', '2509381', '2504743', '2515166', '2507242', '2503933', '2555388', '2569101', '2511607', '2533600', '2532800', '2564885', '2554702', '2546284', '2562582', '2561599', '2538832', '2554110', '2509714', '2520762', '2545366', '2570643', '2561130', '2535341', '2547278', '2534244', '2536751', '2512842', '2514782', '2541073', '2529135', '2541575', '2537686', '2548049', '2548368', '2535083', '2485548', '2542359', '2524748', '2499602', '2525606', '2521646', '2530498', '2535363', '2521482', '2506971', '2532414', '2537289', '2552240', '2562810', '2561433', '2560219', '2513236', '2542537', '2549619', '2336456', '2520412', '2536352', '2557615', '2513758', '2451430', '2532446', '2545648', '2339386', '2555694', '2565350', '2508221', '2538218', '2569269', '2511388', '2539576', '2560069', '2506348', '2557361', '2535543', '2499584', '2512194', '2558838', '2524689', '2539645', '2536846', '2515532', '2545542', '2538957', '2536581', '2535003', '2522958', '2521744', '2489361', '2551312', '2520267', '2514079', '2568987', '2540771', '2558691', '2512211', '2520119', '2215244', '2334221', '2514557', '2561792', '2569760', '2557671', '2544405', '2549139', '2544355', '2520833', '2292340', '2550632', '2504053', '2561911', '2484009', '2564271', '2512779', '2507208', '2564921', '2563905', '2550044', '2501957', '2562911', '2565398', '2556733', '2556117', '2546176', '2520977', '2511312', '2557357', '2533913', '2537050', '2327577', '2518356', '2544853', '2557684', '2519348', '2548900', '2560075', '2532743', '2562834', '2557807', '2514064', '2539968', '2539599', '2558439', '2440995', '2547700', '2569676', '2519305', '2504476', '2533838', '2537967', '2551926', '2548794', '2565405', '2548781', '2556503', '2551255', '2529735', '2551712', '2567177', '2542123', '2552869', '2550242', '2523946', '2562536', '2552600', '2517628', '2506951', '2566389', '2567994', '2558550', '2570140', '2546433', '2559562', '2566542', '2548595', '2322957', '2520455', '2520356', '2152787', '2515441', '2565800', '2563641', '2539035', '2491084', '2510293', '2545650', '2542386', '2552564', '2437754', '2555206', '2552493', '2568372', '2559375', '2541589', '2528400', '2513945', '2540193', '2461528', '2529922', '2523467', '2544726', '2510269', '2552773', '2539613', '2566657', '2468167', '2524427', '2536417', '2553136', '2503542', '2569977', '2554920', '2564571', '2546370', '2516740', '2514061', '2429133', '2544260', '2543609', '2563844', '2155179', '2531906', '2527406', '1865177', '2538122', '2566611', '2567134', '2510142', '2549905', '2542514', '2556855', '2518171', '2511956', '2554231', '2561833', '2506482', '2557944', '2546928', '2568935', '2526961', '2510160', '2527017', '2529428', '2557009', '2568528', '2508231', '2535925', '2566063', '2534593', '2560071', '2526209', '2530766', '2562598', '2565826', '2565929', '2516092', '2550141', '2569884', '2525740', '2517508', '2528826', '2512269', '2553873', '2536831', '2542605', '2540665', '2515369', '2537110', '2524303', '2545272', '2504430', '2556315', '2529438', '2533728', '2513436', '2522375', '2541703', '2513075', '2504299', '2560188', '2517052', '2530013', '2523151', '2529208', '2514347', '2516425', '2530786', '2560833', '2561294', '2553755', '2506056', '2534859', '2553454', '2553990', '2563527', '2562768', '2525372', '2562927', '2535136', '2568032', '2552242', '2535986', '2551069', '2507154', '2526556', '2545717', '2558693', '2252087', '2545083', '2544596', '2543987', '2332120', '2569445', '2568786', '2541615', '2521064', '2560052', '2568135', '2563908', '2531135', '2542940', '2553952', '2505088', '2543298', '2544775', '2565709', '2545247', '2550594', '2517055', '2505892', '2550509', '2545745', '2547920', '2511799', '2566117', '2536187', '2565464', '2540703', '2559580', '2459541', '2559364', '2567072', '2519316', '2563286', '2512464', '2518152', '2528900', '2455740', '2543360', '2567808', '2304037', '2504142', '2515868', '2565122', '2518738', '2570508', '2527248', '2569782', '2538573', '2543529', '2546426', '2525130', '2537272', '2543950', '2547937', '2540916', '2541602', '2528705', '2541705', '2542661', '2505665', '2529065', '2513081', '2562986', '2522286', '2539555', '2522041', '2527517', '2269784', '2514036', '2509398', '2532255', '2540664', '2529805', '2542625', '2539228', '2530643', '2565091', '2560868', '2459559', '2534856', '2511005', '2467391', '2513696', '2551593', '2541572', '2565139', '2526026', '2558336', '2442448', '2505783', '2537509', '2533208', '2556161', '2549280', '2351779', '2190061', '2537214', '2515108', '2535239', '1112910', '2542335', '2501115', '2552532', '2536095', '2547978', '2543280', '2512065', '2528945', '2570600', '2518365', '2516456', '2515368', '2554396', '2527474', '2537429', '2538913', '2512029', '2507830', '2550766', '2551972', '2565344', '2515378', '2552395', '2540580', '2567078', '2312659', '2543428', '2530248', '2565692', '2444382', '2537784', '2525277', '1820667', '1241079', '2534752', '2549889', '2517863', '2568495', '2536316', '2493569', '2553570', '2557896', '2555954', '2506909', '2525062', '2562804', '2219963', '2569400', '2542352', '2559245', '2542087', '2536766', '2519394', '2560626', '2534612', '2522296', '2552262', '2522630', '2516206', '2539774', '2540737', '2518079', '2509323', '2518800', '2550782', '2558849', '2535483', '2564260', '2541845', '2564000', '2549269', '2527953', '2540639', '2556392', '2551427', '2565226', '2536700', '2513682', '2541936', '2563577', '2542768', '2503811', '2506214', '2556802', '2529801', '2287864', '2472088', '2539516', '2468531', '2521542', '2559668', '2483785', '2566125', '2544540', '2556021', '2556170', '2563019', '2516541', '2567103', '2526274', '2543245', '2557924', '2563780', '2550900', '2545314', '2540120', '2554049', '2534058', '2552735', '2528812', '2521587', '2567889', '2546774', '2511420', '2509317', '2570451', '2526472', '2546487', '2462156', '2510279', '2526354', '2517408', '2448651', '2535536', '2460087', '2557186', '2524323', '2567788', '2497891', '2525034', '2515692', '2516058', '2563478', '1506052', '2530825', '2524143', '2547369', '2448457', '2505546', '2421376', '2550359', '2563732', '2569787', '2530917', '2523932', '2569819', '2504971', '2543842', '2560622', '2525071', '2514681', '2517384', '2520656', '2512956', '2545617', '2511320', '2537280', '2552613', '2528889', '2533356', '2560257', '2539455', '2506383', '2505412', '2519941', '2541435', '2502051', '2527359', '2512273', '2505294', '2418210', '2462342', '2541204', '2507696', '2539165', '2510035', '2542465', '2511277', '2252616', '2520434', '2566338', '2554410', '2530667', '2504824', '2223288', '2566287', '2524201', '2518772', '2567073', '2569938', '2508912', '2505415', '2545588', '2546438', '2308482', '2560324', '2547129', '2564855', '2538813', '2525732', '2567964', '2521328', '2567036', '2556545', '2537266', '2460850', '2559024', '2510804', '2272992', '2548134', '2544050', '2544095', '2567855', '2555368', '2534282', '2506446', '2564684', '2554915', '2504035', '2426805', '2530817', '2535195', '2537140', '2559933', '2505260', '2517459', '2536132', '2557451', '2529138', '2553209', '2566283', '2459901', '2567930', '2464153', '2568744', '2558748', '2514822', '2530567', '2541502', '2513784', '2561035', '2505455', '2506954', '2519188', '2555090', '2559770', '2513078', '2538599', '2556030', '2565116', '2536291', '2510203', '2557310', '2509623', '2546315', '2548938', '2506858', '2557999', '2568352', '2559795', '2514733', '2544024', '2509469', '2543034', '2538025', '2535856', '2557325', '2260785', '2521551', '2554486', '2505657', '2564965', '2520751', '2562108', '2538006', '2504302', '2539553', '2421541', '2508556', '2506196', '2558326', '2532115', '2566177', '2570037', '2557104', '2545598', '2535884', '2506956', '2489647', '2563793', '2550000', '2558859', '2563265', '2506603', '2512154', '2531778', '2526433', '2548384', '2534204', '2523319', '2524025', '2516420', '2533929', '2535154', '2539256', '2551081', '2512767', '2313278', '2521856', '2517166', '2562232', '2482829', '2524102', '2525833', '2504455', '2530369', '2547861', '2519426', '2529775', '2542532', '2569506', '2534745', '2529854', '2568173', '2535624', '2513912', '2504363', '2553413', '2558584', '2551834', '2538602', '2514451', '2517322', '2559036', '2537618', '2450853', '2543647', '2551369', '2508922', '1110254', '2550281', '2539269', '2569001', '2060717', '2522208', '2554682', '2545423', '2566089', '2523145', '2533660', '2565403', '2542032', '2568043', '2513450', '2546708', '2422315', '2551842', '2520279', '2527858', '2548083', '2551486', '2562439', '2393372', '2508549', '2488655', '2530149', '2510481', '2513489', '2516471', '2517125', '2511024', '2516816', '2548147', '2554526', '2510555', '2538246', '2515984', '2473969', '2541218', '2528799', '2553080', '2547521', '2565063', '2554283', '2545502', '2526810', '2524244', '2542222', '1610806', '2520286', '2416147', '2557338', '2371489', '2564548', '2507592', '2564879', '2525843', '2541895', '2570683', '2551458', '2554583', '2556823', '2508968', '2529754', '2521531', '2525134', '2293994', '2545956', '2564990', '2517102', '2555174', '2548949', '2556335', '2525728', '2570273', '2364500', '2512932', '2523902', '2567938', '2521562', '2524508', '2504685', '2520320', '2507715', '2521063', '2504140', '2562276', '2463460', '2515884', '2516744', '2536017', '2526898', '2500169', '2567711', '2555445', '2542500', '2564415', '2223926', '2522927', '2515021', '2568567', '2524674', '2520538', '2566537', '2539681', '2568045', '2509437', '2538716', '2535292', '2567698', '2531122', '2533570', '2513864', '2507770', '2566124', '2545448', '1410760', '2550959', '2388528', '2525529', '2515468', '2569542', '2497576', '2528099', '2517909', '2523408', '2556432', '2540626', '2516844', '2544622', '2515149', '2552365', '2540776', '2569285', '2321461', '2508432', '2500118', '2562705', '2564203', '2549511', '2547485', '2527418', '2524885', '2507544', '2518944', '2557779', '2537246', '2552994', '2569754', '2511805', '2508077', '2514129', '2549412', '2568560', '2541731', '2566415', '2530385', '2503863', '2558241', '2509813', '2527873', '2509846', '2525012', '2539616', '2533634', '2545048', '2543335', '2530161', '2408596', '2514187', '2541758', '2514051', '2386501', '2570247', '2423420', '2528597', '2537333', '2537048', '2554026', '2524131', '2545469', '2564075', '2128425', '2528613', '2453036', '2540574', '2488058', '2537564', '2544419', '2271143', '2544648', '2555835', '2537229', '2563974', '2544663', '2551570', '2515650', '2543127', '2314110', '2471688', '2544747', '2569759', '2515344', '2565349', '2452295', '2565776', '2402554', '2553182', '2539395', '2519741', '2566794', '2557335', '2556434', '2554655', '2525941', '2510295', '2545452', '2514418', '2547653', '2555761', '2518928', '2555354', '2510520', '2556326', '2519572', '2552818', '2504074', '2529172', '2560286', '2511784', '2514614', '1965089', '2506516', '2566363', '2559128', '2556281', '2570264', '2516734', '2535188', '2557848', '2526916', '2541771', '2567023', '2544808', '2521211', '2482311', '2564030', '2555989', '2561874', '2244526', '2549912', '2522043', '2533547', '2564487', '1218265', '2504562', '2516013', '2511343', '2476684', '2544366', '2565595', '2506178', '2551765', '2541891', '2532624', '2524992', '2236643', '2551881', '2542527', '2558122', '2511003', '2506457', '2560171', '2563601', '2552088', '2452042', '2523298', '2528692', '2279181', '2556687', '2567942', '2531971', '2562463', '2533827', '2506240', '2538757', '2378448', '2507757', '2447118', '2514675', '2563921', '2520727', '2566284', '1002108', '2566044', '2564759', '2561967', '2554447', '2547528', '2506965', '2538996', '2565832', '2478547', '2564069', '2492031', '2522776', '2537493', '2551534', '2507658', '2509717', '2569083', '2515022', '2523800', '2546546', '2149783', '2550215', '2567560', '2489720', '2517661', '2421992', '2566858', '2514210', '2556672', '2547890', '2562674', '2510150', '2511666', '2528566', '2549636', '2555465', '2563080', '2522107', '2509558', '2558121', '2553116', '2517816', '2529727', '2563197', '2558643', '2533132', '2555366', '2510757', '2553305', '2552608', '2560103', '2561659', '2547895', '2536233', '2569553', '2528785', '2286818', '2555549', '2512083', '2510058', '2492195', '2555820', '2485027', '2518496', '2565373', '2462392', '2543659', '2558314', '2516854', '2533984', '2507931', '2523008', '2545892', '2504766', '2530538', '2547257', '2524418', '2565463', '2510892', '2510653', '2506143', '2569049', '2556470', '2358833', '2553339', '2541554', '2490331', '1355970', '2419651', '2541897', '2546472', '2545376', '2518753', '2559615', '2549048', '2515646', '2505763', '2557477', '2515647', '2566106', '2353266', '2522306', '2536668', '2538698', '2530068', '2563915', '2528860', '2551754', '2521181', '2564929', '2535533', '2555485', '2530090', '1576832', '2529769', '2566013', '2555422', '2546960', '2547635', '2521006', '2565842', '2505588', '2533527', '2564647', '2522709', '2504484', '2301557', '2550569', '2532367', '2513110', '2543368', '2318275', '2539573', '2468041', '2569504', '2558244', '2522220', '2558500', '2549308', '2549003', '2514859', '2420377', '2551008', '2533260', '2507480', '2245702', '2557840', '2548737', '2525299', '2525996', '2568388', '2513737', '2507880', '2476307', '2548398', '2503950', '2509424', '2508730', '2551045', '2538881', '2530274', '2522406', '2513037', '2515350', '2097111', '2429501', '2533388', '2549861', '2478406', '2539334', '2549427', '2522736', '2482533', '2562036', '2562885', '2562131', '2511105', '2565543', '2554780', '2506491', '2500448', '2503814', '2525225', '1834891', '2522483', '2507797', '2531292', '2503623', '2535425', '2557314', '2519020', '2555461', '2548269', '2546623', '2508761', '2555517', '2565260', '2506134', '2531674', '2542382', '2509629', '2516505', '2354421', '2563869', '2482303', '2410500', '2510535', '2513447', '2395996', '2523996', '2524061', '2539728', '2524121', '2537472', '2520689', '2566952', '2563643', '2528696', '2556830', '2560972', '2550572', '2512137', '2547328', '2551331', '2553148', '2562676', '2519441', '2517090', '2523975', '2541871', '2519945', '2563899', '2527533', '2516762', '2520420', '2535305', '2552901', '2535705', '2545398', '2506970', '2562146', '2448431', '2510454', '2537010', '2512277', '2569178', '2555626', '2569144', '2515122', '2505431', '2521983', '2522840', '2556466', '2560567', '2511220', '2507659', '2523200', '2517356', '2539800', '2565479', '2527651', '2518942', '2478643', '2530764', '2538204', '2536070', '2569651', '2560028', '2554069', '2528822', '2542015', '2520362', '2514447', '2558370', '2570597', '2549669', '2479650', '2523742', '2550877', '2535512', '2529510', '2409424', '2530263', '2416320', '2519602', '2561794', '2567478', '2324049', '2492303', '2555646', '2510623', '2545348', '2538237', '2533370', '2537465', '2569638', '2538684', '2508132', '2569145', '2450614', '2567183', '2536295', '2284082', '2540966', '2406256', '2551761', '2542775', '2535949', '2546680', '2558382', '2507893', '2528918', '2530828', '2519664', '2558387', '2529883', '2508801', '2480766', '2563161', '2514192', '2521758', '2561446', '2546871', '2539356', '2538476', '2559997', '2550133', '2546454', '2516144', '2565950', '2532122', '2518497', '2539537', '2236840', '2562134', '2565798', '2523432', '2516458', '2548214', '2548112', '2520427', '2541625', '2515051', '2516285', '2524680', '2520939', '2510792', '2564701', '2525029', '2535977', '2470172', '2559147', '2561571', '2534157', '2565292', '2557048', '2552810', '2542725', '2530158', '2520517', '2497480', '2439409', '2562355', '2537268', '2556090', '2512646', '2528332', '2539667', '2557715', '2522329', '2551230', '2542083', '2510494', '2522240', '2549233', '2563304', '2516763', '2561241', '2535720', '2562480', '2559280', '2541530', '2523520', '2564862', '2552421', '2527257', '2557083', '2555452', '2535546', '2524843', '2537047', '2563714', '2555137', '2519513', '2529555', '2335666', '2566324', '2537979', '2564768', '2548119', '2542955', '2532629', '2557826', '2506410', '2512916', '2546447', '2540488', '2543754', '2564044', '2524095', '2552023', '2517654', '2565890', '2530514', '2512714', '2503964', '2549180', '2503947', '2523317', '2507246', '2499563', '2566586', '2453946', '2472592', '2230665', '2512501', '2551110', '2534023', '2541683', '2520294', '2553160', '2544348', '2537539', '2554289', '2567107', '2518809', '2566102', '2531466', '2557159', '2570476', '2566755', '2538090', '2474644', '2563751', '2543003', '2548869', '2549361', '2549017', '2519033', '2520905', '2506338', '2506905', '2507134', '2542597', '2492976', '2507861', '2555249', '2516004', '2546359', '2543272', '2538285', '2545364', '2523315', '2552454', '2509309', '2562559', '2547865', '2528208', '2542204', '2565481', '2570688', '2561872', '2566857', '2508628', '2557931', '2563685', '2568667', '2411105', '2516976', '2521192', '2557276', '2543334', '2569153', '2356703', '2536986', '2546014', '2533702', '2555035', '2570204', '2315789', '2555047', '2506038', '2513254', '2554204', '2516194', '2538046', '2559004', '2542313', '2541909', '2534551', '2479576', '2565747', '2521735', '2507376', '2518915', '2485262', '2566449', '2512294', '2566984', '2523182', '2544337', '2565491', '2555390', '2274072', '2538769', '2528840', '2518035', '2560552', '2543234', '2566248', '2472037', '1533634', '2547800', '2516168', '2566195', '2545416', '2515477', '2541564', '2558329', '2557708', '2563218', '2565395', '2317612', '2564945', '2540694', '2506309', '2534407', '2558618', '2556686', '2567692', '2532368', '2444821', '2480653', '2554272', '2519644', '2539385', '2510388', '2554279', '2563268', '2510375', '2514575', '2513754', '2554431', '2537423', '2516377', '2511697', '2549580', '2568566', '2560945', '2513940', '2515718', '2553925', '2314061', '2562677', '2528403', '2530804', '2555938', '2479679', '2511844', '2536565', '2524266', '2532971', '2503890', '2536127', '2532429', '2566540', '2563735', '1995792', '2525972', '1834806', '2523087', '2548489', '2566553', '2513563', '2526311', '2507521', '2530718', '2559463', '2508474', '2535367', '2562408', '2520142', '2505889', '2519960', '2553178', '2551140', '2528093', '2556928', '2542526', '2537831', '2532420', '2412384', '2472462', '2522494', '2542944', '2535555', '2557014', '2508812', '2528425', '2516674', '2563254', '2557121', '2541783', '2563328', '2566750', '2508808', '2516373', '2526632', '2563370', '2561497', '2531341', '2508101', '2530505', '2553057', '2552111', '2558482', '2537930', '2545685', '2512169', '2538979', '2523977', '2559085', '2538874', '2530651', '2567853', '2543088', '2517059', '2527824', '2559676', '2568885', '2531901', '2569246', '2536263', '2549893', '2515723', '2488374', '2506223', '2566821', '2558323', '2430177', '2513602', '2510297', '2539274', '2512379', '2549685', '2505306', '2504165', '2535628', '2556635', '2401614', '2549023', '2517226', '2552024', '2512474', '2561154', '2555906', '2514264', '2507918', '2531591', '2547976', '2510208', '2529018', '2561077', '2503816', '2456967', '2569688', '2548688', '2521130', '2521098', '2524007', '2520701', '2564689', '2536222', '2532746', '2555087', '2362291', '2516324', '2544092', '2460417', '2508943', '2526817', '2538600', '2516668', '2533383', '2357984', '2541516', '2562136', '2559748', '2522099', '2506061', '2541505', '2524003', '2554282', '2540378', '2530071', '2544471', '2553601', '2561486', '2527103', '2518529', '2537466', '2559673', '2517989', '2541984', '2552200', '2557043', '2514241', '2543326', '2553584', '2542141', '2515801', '2542786', '2543203', '2550033', '2535389', '2535238', '2566842', '2556986', '1881239', '2540222', '2534720', '2506197', '2538096', '2453801', '1342404', '2531773', '2559881', '2542901', '2567323', '2554607', '2526280', '2522731', '2565304', '2511422', '2521732', '2508824', '2525995', '2558682', '2540093', '2554904', '2553184', '1692074', '2534511', '2546904', '2529035', '2524181', '2516271', '2546356', '2554547', '2529556', '2528311', '2558802', '2550443', '2560291', '2504158', '2556631', '2566024', '2426790', '2567152', '2539223', '2568435', '2472066', '2547900', '2516811', '2363339', '2504717', '2559067', '2532104', '2533518', '2532165', '2551850', '2565434', '2526194', '2507313', '2445975', '2513999', '2508543', '2514709', '2559395', '2440292', '2541648', '2554105', '2523534', '2507206', '2565112', '2560671', '2565603', '2568407', '2514180', '2568750', '2515250', '2547365', '2565312', '2280582', '2444055', '2535538', '2513847', '2543238', '2545982', '2477132', '2508770', '2539309', '2551373', '2555278', '2516739', '2526699', '2549328', '2553083', '2540538', '2522226', '2533366', '2551798', '2507115', '2569080', '2507703', '2498316', '2504652', '2485409', '2514722', '2564955', '2528554', '2507824', '2528909', '2506183', '2554313', '2531658', '2549091', '2508510', '2531222', '2521285', '2561894', '2535180', '2526722', '2557455', '2550592', '2513566', '2562486', '1114403', '2179516', '2564438', '2512404', '2530688', '2530205', '2563015', '2554996', '2528473', '2558004', '2513975', '2563436', '2519169', '2546857', '2548715', '2568752', '2529050', '2522647', '2520300', '2536762', '2567145', '2548645', '2541091', '2516974', '2565894', '2554919', '2550854', '2509836', '2520573', '2527506', '2532757', '2558950', '2557053', '2539012', '2557571', '2546272', '2540713', '2545178', '2514449', '2562394', '2527949', '2556053', '2511951', '2556535', '2552784', '2519273', '2562109', '2535454', '2543620', '2520375', '2525224', '2558865', '2547293', '2399596', '2509361', '2504952', '2508752', '2557746', '2566605', '2511352', '2419386', '2564372', '2508911', '2545417', '2556641', '2508523', '2552813', '2539105', '2543634', '2529357', '2556339', '2508831', '2566160', '2451337', '2551341', '2562033', '2482044', '2427552', '2538891', '2514617', '2540330', '2503704', '2554465', '2524691', '2478876', '2550743', '2549996', '2517874', '2568540', '2568089', '2553992', '2556585', '2524191', '2564907', '2542096', '2507897', '2540438', '2557045', '2516303', '2568250', '2529052', '2513612', '2527840', '2552293', '2452473', '1306791', '2550085', '2513731', '2543889', '2539533', '2562318', '2508537', '2518768', '2508918', '2568722', '2457337', '2491032', '2516289', '2518965', '2538520', '2206684', '2569749', '2538169', '2501870', '2507972', '2554719', '2550809', '2519402', '2543341', '2525597', '2560434', '2547556', '2561028', '2521193', '2515969', '2561015', '2515367', '2515037', '2521415', '2507238', '2506349', '2456244', '2532844', '2565594', '2524655', '2508667', '2561913', '2486629', '2530751', '2541105', '2526177', '2466544', '2514787', '2556872', '2509222', '2545609', '2558404', '2507789', '2541873', '2505936', '2532927', '2516813', '2568332', '2512647', '1784308', '2546340', '2531797', '2547241', '2506474', '2556253', '2147963', '2493703', '2568189', '2551638', '2556983', '2530543', '2560172', '2515761', '2553834', '2548263', '2411442', '2523703', '2534313', '2503937', '2529254', '2506283', '2532399', '2513678', '2542667', '2537820', '2562983', '2509497', '2532495', '2549515', '2502876', '2549629', '2527444', '2560092', '2569588', '2513750', '2533725', '2554088', '2556024', '2527124', '2507604', '2468898', '2524065', '2504045', '2543387', '2531933', '2551779', '2515075', '2518321', '2506908', '2560988', '2509072', '2505441', '2534589', '2549952', '2524784', '2559517', '2563568', '2514450', '2534555', '2564466', '2549613', '2524782', '2542637', '2569769', '2556061', '2533453', '2555204', '2529281', '2555702', '2544060', '2520758', '2556264', '2545710', '2531085', '2551971', '2536201', '2532780', '2569828', '2491120', '2507596', '2548447', '2532017', '2556536', '2504650', '2520497', '2536247', '2563246', '2530582', '2514173', '2400460', '2504066', '2550252', '2565291', '2529888', '1507816', '2473950', '2562751', '2520854', '2515114', '2528247', '2546295', '2522371', '2514654', '2543702', '2526481', '2549813', '2569007', '2562145', '2516023', '2429263', '2448571', '2533380', '2558674', '2531618', '2559856', '2513143', '2552847', '2559427', '2535334', '2563305', '2545488', '2555328', '2528278', '2566315', '2537450', '2564394', '2515491', '2537286', '2531543', '2509866', '2532167', '2529217', '2562671', '2543432', '2545716', '2520685', '2560806', '2565871', '2566251', '2504465', '2546867', '2523382', '2560571', '2539960', '2530897', '2355576', '2542029', '2534588', '2536976', '2512354', '2555945', '2516774', '2489877', '2513217', '2568488', '2521768', '2510857', '2518310', '2481424', '2537895', '2540173', '2561580', '2511194', '2548999', '2550403', '2519545', '2511207', '2289914', '2511902', '2568982', '2530409', '2530374', '2516187', '2525437', '2531769', '2384055', '2527874', '2507692', '2520548', '2547014', '2201585', '2554461', '2538401', '2566107', '2509572', '2567180', '2544083', '2568221', '2557801', '2541831', '2545554', '2545655', '2517234', '2560176', '2562528', '2550164', '2534970', '2535491', '2533521', '2492006', '2529366', '2546594', '2554599', '2534529', '2557200', '2414557', '2528477', '2522110', '2513618', '2519091', '1217457', '2568351', '2509415', '2556477', '2533345', '2560307', '2550850', '2540247', '2149430', '2548769', '2415118', '2531254', '2551555', '2547173', '2526043', '2512926', '2555384', '2548426', '2506543', '2555187', '2548347', '2504688', '2529000', '2538745', '2560003', '2541737', '2526873', '2535550', '2569765', '2508757', '2519174', '2543190', '2506644', '2511150', '2521797', '2519492', '2515222', '2549712', '2563808', '2525706', '2545088', '2558075', '2528090', '2566803', '2168129', '2510394', '2551987', '2543619', '2539317', '2532419', '2518763', '2506789', '2504859', '2509681', '2539833', '2527730', '2560679', '2554731', '2552503', '2519760', '2519424', '2553686', '2538128', '2229725', '2533247', '2539200', '2508462', '2563500', '2532063', '2505091', '2547803', '2557092', '2562947', '2532332', '2554017', '2566780', '2546859', '2560502', '2526576', '2548038', '2523836', '2563595', '2557621', '2314712', '2540801', '2522633', '2561398', '1552846', '2550891', '2543598', '2526494', '2516752', '2567904', '2551510', '2522959', '2520584', '2526060', '2568380', '2558002', '2534166', '2554395', '2508764', '2566298', '2547225', '2526431', '2561032', '2419758', '2533894', '2543005', '2557166', '2519259', '2520441', '2507027', '2558864', '2562658', '2557132', '2544542', '2551921', '2568113', '2560283', '2544431', '2545321', '2504023', '2520906', '2562367', '2551581', '2562335', '2558014', '2568211', '2542828', '2517017', '2541920', '2529604', '2520693', '2504131', '2506393', '2557061', '2516617', '2558011', '2548745', '2565247', '2552387', '2536053', '2533619', '2516098', '2515282', '2524120', '2526067', '2568852', '2519881', '2511019', '2537163', '2536028', '2529086', '2518146', '2566548', '2527362', '2530412', '2526816', '2537928', '2531969', '2515212', '2548242', '2521452', '2447470', '2533593', '2525608', '2521991', '2568426', '2535140', '2510544', '2566876', '2489686', '2520226', '2549672', '2549249', '2440613', '2516914', '2543261', '2533745', '2537449', '2565532', '2554228', '2562149', '2517411', '2539044', '2551215', '2567338', '2507037', '2546363', '2540523', '2507159', '2550510', '2530391', '2530154', '2530199', '2518762', '2519990', '2509954', '2499246', '2562319', '2505332', '2506342', '2512150', '2490891', '2234892', '2547437', '2447772', '2558281', '2555245', '2528189', '2567413', '2519462', '1106221', '2546358', '2523535', '2513972', '2464222', '2551001', '2553947', '2506670', '2555841', '2274392', '2481787', '2508972', '2523112', '2504458', '2538031', '2538266', '2570504', '2516967', '2549343', '2534851', '2529181', '2529956', '2536815', '2560488', '2532144', '2557923', '2506189', '2552005', '2515892', '2507676', '2536087', '2568434', '2557500', '2565322', '2242410', '2560579', '2126925', '2554982', '2562278', '2509285', '2531476', '2526196', '2501553', '2535241', '2333669', '2522856', '2520201', '2506556', '2513971', '2552907', '2555454', '2529218', '2506898', '2542417', '2542618', '2545112', '2551515', '2560407', '2516258', '2535428', '2565475', '2513390', '2529741', '2549854', '2540989', '2509322', '2453435', '2554374', '2545479', '2565687', '2528285', '2513086', '2508721', '2514105', '2564471', '2540483', '2560828', '2532612', '2522316', '2515915', '2518165', '2504199', '2505367', '2558733', '2544727', '2547233', '2520395', '2543154', '2540235', '2538578', '2548939', '2511070', '2507515', '2522304', '2509868', '2553657', '2528276', '2550101', '2518106', '2556558', '2524709', '2517772', '2561912', '2532389', '2517327', '2565039', '2549705', '2564290', '2510417', '2510697', '2517588', '2531313', '2566180', '2504746', '2518183', '2510551', '2527249', '2410838', '2525058', '2505508', '2558861', '2552618', '2510040', '2567370', '2539421', '2508833', '2515450', '2566301', '2565634', '2461572', '2542251', '2560747', '2553103', '2531610', '2550470', '2525682', '2537960', '2568064', '2509585', '2540326', '2533909', '2556501', '2514554', '1367818', '2542339', '2522834', '2543690', '2510154', '2529485', '2561950', '2526693', '2517215', '2551385', '2549227', '2511470', '2535222', '2535327', '2529415', '2548195', '2561875', '2507839', '2504646', '2519420', '2552038', '2519341', '2521374', '2563529', '2560559', '2511519', '2561381', '2562323', '2566202', '2542159', '2543961', '2507810', '2527611', '2508037', '2540884', '2505204', '2517028', '2565046', '2534584', '2508868', '2556406', '2547796', '2564895', '2522413', '2568713', '2534185', '2550821', '2554071', '2507201', '2536364', '2507639', '2515505', '2540033', '2553977', '2535809', '2536736', '2541911', '2508731', '2546064', '2503188', '2511661', '2556098', '2518466', '2552463', '2529564', '2565568', '2251555', '2568273', '2544638', '2341434', '2551877', '2568119', '2563586', '2525726', '2280123', '2527278', '2506821', '2527286', '2548163', '2546023', '2532805', '2514529', '2517735', '2555051', '2517006', '2549381', '2543480', '2512810', '2538299', '2548764', '2550418', '2551305', '2511310', '2560933', '2541169', '2552959', '2511735', '2540076', '2513226', '2478948', '2544494', '2520840', '2522134', '2518592', '2521054', '2545686', '2512129', '2517631', '2514225', '2490275', '2554623', '2550459', '2555952', '2493925', '2506663', '2557701', '2559846', '2531485', '2550704', '2504428', '2567089', '2567631', '2506958', '2529405', '2533810', '2552692', '2556800', '2506618', '2516698', '2547843', '2562770', '2522071', '2519670', '2550210', '2535650', '2510166', '2505952', '2529942', '2555106', '2565864', '2503155', '2523395', '1196525', '2523608', '2556058', '2527373', '2562786', '2535384', '2534508', '2554077', '2527706', '2561089', '1939363', '2516039', '2537365', '2533423', '2522370', '2543638', '2552330', '2508954', '2510722', '2524079', '2543732', '2537875', '2540720', '2534256', '2423940', '2536051', '2533952', '2569057', '2532262', '2526707', '2567864', '2558874', '2507176', '2548797', '2502740', '2566008', '2390552', '2559589', '2544047', '2537115', '2506657', '2411562', '2512090', '2516185', '2329669', '2534257', '2502205', '2507906', '2548005', '2537814', '2527989', '2537746', '2547799', '2542674', '2545019', '2505757', '2568235', '2507086', '2474021', '2511501', '2553842', '2549395', '2516477', '2543292', '2559264', '2521212', '2526332', '2495371', '2535683', '2517097', '2534177', '2555640', '2551160', '2417416', '2503960', '2525693', '2505690', '2518042', '2533723', '2548011', '2554284', '2525106', '2555271', '2545698', '2515433', '2564133', '2444265', '2543968', '2526106', '2128363', '2518742', '2526098', '2401966', '2498290', '2545260', '2503612', '2561806', '2510489', '2526674', '2516802', '2431936', '2510024', '2512970', '2566069', '2529796', '2567665', '2533106', '2533368', '2524976', '2535129', '2525083', '2539475', '2532284', '2508030', '2510997', '2562715', '2553433', '2401650', '2553240', '2545672', '2516182', '2376180', '2559424', '1649174', '2509243', '2528585', '2215031', '2514936', '2505471', '2546675', '2535237', '2535175', '2462041', '2559295', '2515830', '2526287', '2508346', '2528765', '2567211', '1574395', '2528631', '2521471', '2525938', '2532220', '2544765', '2337871', '2551929', '2324725', '2547753', '2566030', '2567809', '2508186', '2559329', '2566867', '2523967', '2513415', '2547075', '2521327', '2519287', '2544397', '2532085', '2545405', '2554141', '2547382', '2561673', '2432182', '2551465', '2568363', '2559216', '2449715', '2509712', '2547606', '2539630', '2537228', '2518670', '2551476', '2565703', '2534046', '2512405', '2534678', '2521145', '2565474', '2565061', '2534806', '2491510', '2534098', '2526422', '2564952', '2515346', '2513913', '2520682', '2544487', '2547638', '2557429', '2522015', '1116622', '2532583', '2515398', '2513059', '2549062', '2566961', '2517173', '2534840', '2548802', '2439734', '2238935', '2485758', '2517288', '2561606', '2558235', '2529955', '2526133', '2523476', '2389209', '2554186', '2547661', '2522561', '2558264', '2516791', '2529156', '2557752', '2529780', '2533886', '2509400', '2530513', '2519934', '2394913', '2543684', '2524041', '2508444', '2518862', '2513507', '2519686', '2412914', '2559518', '2521228', '2537720', '2557146', '2517575', '2558729', '2532531', '2515417', '2429558', '2533014', '2528246', '2386042', '2536255', '2540143', '2561566', '2567954', '2509279', '2511837', '2528271', '2551558', '2506210', '2546310', '2555011', '2527961', '2557416', '2510836', '2563703', '2553840', '2464850', '2541219', '2504176', '2552183', '2189830', '2554955', '2553857', '2514346', '2535370', '2504167', '2565838', '2517987', '2555664', '2504008', '2541479', '2505830', '2546567', '2517143', '2503759', '2544199', '2553983', '2564804', '2523126', '2512746', '2524476', '2554959', '2520875', '2515862', '2519604', '2527503', '2536583', '2531872', '2537562', '2567043', '2515142', '2553961', '2550229', '2351165', '2483418', '2495282', '2419367', '2382261', '2552058', '2562391', '2570673', '2508282', '2556248', '2566964', '2539521', '2545809', '2522462', '2558701', '2570331', '1846861', '2525719', '2554590', '2429926', '2515411', '2501143', '2542799', '2540130', '2558479', '2553546', '2510045', '2493391', '2497131', '2541557', '2556088', '2533680', '2550940', '2561762', '2540145', '2335716', '2507431', '2517457', '2508693', '2515554', '2387245', '2541824', '2559782', '2510548', '2557027', '2537051', '2561024', '2535945', '2518943', '2507013', '2540108', '2541030', '2558514', '2550702', '2145598', '2568669', '2560204', '2528817', '2513370', '2519849', '2530989', '2540600', '2536190', '2540886', '2522441', '2541148', '2508065', '2504108', '2549670', '2564951', '2519408', '2518972', '2538551', '2558829', '2505687', '2509597', '2569155', '2538785', '2542592', '2544342', '2564151', '2512152', '2537206', '2537349', '2421989', '2533936', '2554918', '2467542', '2529939', '2540271', '2557981', '2538044', '2570421', '2535182', '2551347', '2528968', '2508622', '2469269', '2537762', '2521287', '2530024', '2546412', '2545109', '2505378', '2522486', '2542117', '2537463', '2509077', '2391246', '2568953', '2567799', '2510449', '2562584', '2501679', '2528701', '2519693', '2560803', '2512022', '2507851', '2557788', '2564322', '2540948', '2554012', '2559759', '2387439', '2520302', '2526155', '2529229', '2554226', '2526933', '2522920', '2550036', '2523178', '2530512', '2523840', '2570584', '2511940', '2555463', '2535781', '2526395', '2529970', '2537453', '2542863', '2517825', '2516896', '2504330', '2552125', '2567745', '2549598', '2521127', '2553789', '2543382', '2566674', '2541712', '2506314', '2548260', '2540799', '2529464', '2517991', '2541948', '2554456', '2532171', '2569808', '2507806', '2536478', '2540741', '2564969', '2539346', '2556112', '2544960', '2514725', '2520945', '2532306', '2504891', '2543966', '2561185', '2556328', '2528576', '2527370', '2505945', '2538851', '2526636', '2536423', '2522705', '2533510', '2541628', '2512198', '2518789', '2545727', '2514891', '2517878', '2564581', '2516578', '2518981', '2530104', '2530945', '2477293', '2515458', '2504728', '2531918', '2547051', '2512573', '2529947', '2528964', '2556574', '2569254', '2570577', '2534258', '2547747', '2541464', '2542052', '2522249', '2531999', '2522559', '2550897', '2556495', '2516902', '2516849', '2538317', '2514789', '2509838', '2567162', '2524793', '2545789', '2531561', '2520574', '2527898', '2545237', '2504774', '2526658', '2554821', '2541904', '2567621', '2520608', '2512567', '2395747', '2519360', '2514991', '2566925', '2504835', '2326036', '2516226', '2508817', '2517058', '2519243', '2534191', '2516331', '2539298', '2500607', '2526580', '2534004', '2570198', '2569581', '2505551', '2516547', '2540428', '2518632', '2532039', '2526735', '2519815', '2551088', '2410914', '2551322', '2508615', '2550154', '2556853', '2525251', '2524202', '2305208', '2504274', '2560753', '2522665', '2539845', '2300285', '2535226', '2553193', '2550633', '2523989', '2564288', '2545002', '2536137', '2556878', '2525162', '2565221', '2537420', '2551150', '2516447', '2520937', '2531062', '2555506', '2500576', '2538799', '2509178', '2543445', '2518376', '2529798', '2523642', '2324452', '2564662', '2556404', '2451940', '2555551', '2537513', '2517387', '2523905', '2503882', '2529367', '2530760', '2520295', '2567025', '2526871', '2225043', '2558414', '2548922', '2562339', '2552482', '2440258', '2507371', '2551797', '2545180', '2566122', '2389008', '2511433', '2558640', '2566162', '2522283', '2505698', '1184365', '2430679', '2518419', '2350069', '2515637', '2527624', '2529020', '2518657', '2562438', '2543802', '2556454', '2561225', '2539539', '2519357', '2508924', '2518996', '2545326', '2523194', '2537817', '1767288', '2569586', '2502826', '2564882', '2494661', '2550457', '2535660', '2550035', '2514547', '2566898', '2560973', '2510331', '2565540', '2530208', '2523657', '2552727', '2538488', '2538800', '2550864', '2505533', '2511309', '2497281', '2568536', '2552149', '2512233', '2562794', '2505939', '2537391', '2491573', '2328361', '2524234', '2521612', '2533120', '2563825', '2510858', '2568410', '2551505', '2550312', '2545473', '2566932', '2546963', '2535462', '2545250', '2534727', '2565232', '2566513', '2517350', '2508619', '2508743', '2564740', '2444232', '2556595', '2562817', '2508832', '2554249', '2537182', '2525630', '2505651', '2511372', '2505950', '2559852', '2543583', '2555846', '2534564', '2235865', '2549790', '2525125', '2563273', '2511863', '2443339', '2522533', '2538111', '2509924', '2507400', '2521362', '2523287', '2553425', '2569945', '2552998', '2566807', '2506889', '2516507', '2569841', '2532278', '2554276', '2508686', '2555914', '2536334', '2543601', '2504150', '2526900', '2509125', '2536262', '2545494', '2513055', '2505350', '2531044', '2547668', '2516110', '2550513', '2541323', '2510308', '2512075', '2529319', '2568353', '2543145', '2562646', '2507930', '2547983', '2541623', '2414285', '2516264', '2564087', '2565559', '2530041', '2569005', '2531286', '2525453', '2553609', '2537312', '2437437', '2508595', '2192370', '2515485', '2567194', '2556563', '2533773', '2543649', '2507255', '2541941', '2563704', '2500985', '2230848', '2560625', '2519070', '2509589', '2521265', '2552981', '2546679', '2557534', '2549708', '2515648', '2568416', '2561825', '2557112', '2532213', '2568420', '2518833', '2547822', '2532068', '2561078', '2540020', '2563889', '2560850', '2550080', '2562945', '2549434', '2547026', '2560273', '2556357', '2536517', '2523780', '2539775', '2507085', '2517298', '2519180', '2467704', '2526036', '2558467', '2524435', '2517955', '2528128', '2508857', '2543318', '2519292', '2546967', '2563230', '2457890', '2462215', '2561250', '2539430', '2509527', '2540131', '2525531', '2542753', '2568832', '2559168', '2535419', '2516568', '2505243', '2529516', '2521227', '2506113', '2471713', '2545235', '1422224', '2560165', '2515580', '2347141', '2531659', '2561157', '2514825', '2535476', '2553188', '2554240', '2548018', '2517101', '2520417', '2517389', '2531790', '2549723', '2528562', '2539320', '2552974', '2546864', '2531615', '2509311', '2557862', '2548084', '2556617', '2545149', '2519270', '2503818', '2515479', '2485020', '2516598', '2498491', '2562624', '2508488', '2551311', '2523098', '2528594', '2562713', '2556912', '2536790', '2539899', '2564304', '2513757', '2539889', '2538481', '2530438', '2517259', '2516108', '2250070', '2563373', '2527224', '2529967', '2544994', '2296162', '2562737', '2544621', '2517294', '2506646', '2542120', '2532212', '2559662', '2510511', '2553338', '2433480', '2528873', '2564739', '2555122', '2530348', '2465376', '2554160', '2562284', '2543534', '2560529', '2540354', '2560215', '2552437', '2547808', '2527822', '2538890', '1846106', '2548945', '2519086', '2531733', '2556533', '2508632', '2317593', '2522695', '2513875', '2504290', '2537408', '2532964', '2543652', '2541249', '2570424', '2538014', '2550342', '2520043', '2563868', '2541616', '2503953', '2528786', '1297027', '2509739', '2515241', '2556713', '2517509', '2565499', '2535484', '2527853', '2566789', '2530296', '2523993', '2514152', '2516307', '2548481', '2473674', '2568734', '2524634', '2528206', '2530699', '2560788', '2559181', '2522290', '2531029', '2512042', '2497781', '2561068', '2517091', '2527351', '2536047', '2558315', '2515039', '2549476', '2548942', '2569496', '2542542', '2550236', '2477903', '2527591', '2553446', '2166734', '2556426', '2530192', '2550538', '2519168', '2518304', '2554720', '2560264', '2567699', '2569130', '2521651', '2530727', '2509026', '2532462', '2568069', '2532866', '2532880', '2460921', '2547576', '2530290', '2507171', '2504867', '2506257', '2525502', '2548671', '2563091', '2504321', '2489757', '2523896', '2505625', '2515260', '2553445', '2511464', '2536809', '2553363', '2549236', '2543456', '2509157', '2384916', '2545255', '2569464', '2556707', '2520330', '2536924', '2541690', '2512131', '2164413', '2508557', '2534474', '2517596', '2559631', '2533033', '2519377', '2536134', '2536060', '2525837', '2468748', '2538780', '2519721', '2558724', '2236298', '2508675', '2514400', '2512203', '2553502', '2562798', '2509705', '2509003', '2515518', '2556085', '2421856', '2545981', '2556634', '2443174', '2514481', '2544693', '2563820', '2544009', '2508046', '2541570', '2558559', '2536653', '2512158', '2492128', '2565952', '2541301', '2543920', '2539338', '2506235', '2546599', '2509349', '2560180', '2528888', '2205429', '2534582', '2541532', '2513896', '2553774', '2554761', '2562572', '2551412', '1128038', '2523365', '2507760', '2537002', '2547771', '2570087', '2511051', '2563279', '2525072', '2512858', '2524052', '2515235', '2561914', '2511224', '2493174', '2570234', '2568739', '2561563', '2512240', '2535348', '2524978', '2568717', '2494286', '2521618', '2569561', '2560032', '2563724', '2560832', '2391546', '2426438', '2554421', '2505024', '2536522', '2535204', '2525025', '2561207', '2535443', '2555696', '2527647', '2472760', '2539791', '2551539', '2513931', '2514708', '2563907', '2567744', '2532064', '2512351', '2569531', '2512342', '2540279', '2559332', '2525386', '2538001', '2560411', '2528431', '2442741', '2544470', '2538540', '2512725', '2543369', '2512547', '2534547', '2520350', '1231605', '2557289', '2528130', '2543983', '2529264', '2551428', '2569510', '2541162', '2532193', '2565685', '2561307', '2545847', '2564443', '2559619', '2512496', '2520365', '1000550', '2558371', '2562493', '2501126', '2529236', '2509896', '2510156', '2478214', '2418514', '2507116', '2570148', '2525380', '2551794', '2439103', '2513726', '2535562', '2504625', '2010718', '2566850', '2530483', '2559833', '2536082', '2565167', '2557835', '2532020', '2520558', '2433578', '2552311', '2564301', '2535147', '2526375', '2514632', '2528322', '2569918', '2556654', '2522310', '2541658', '2520968', '2567276', '2527222', '2529056', '2512862', '2535344', '2566297', '2536958', '2526469', '2510301', '2566508', '2526617', '2561873', '2538502', '2521038', '2519580', '2547874', '2510890', '2514605', '2507563', '2479820', '2532564', '2568331', '2529644', '2542721', '2519039', '2568096', '2422516', '2516961', '2556797', '2529335', '2512914', '2561716', '2568340', '2541401', '2558527', '2539017', '2547205', '2513768', '2542226', '2565552', '2510327', '2521153', '2539439', '2505577', '2521417', '2523582', '2550508', '2515594', '2510377', '2566460', '2531889', '2560234', '2535478', '2501850', '2372590', '2562296', '2566677', '2522272', '2522678', '2519627', '2516850', '2549350', '2564781', '2556903', '2535306', '2448420', '2515227', '2567700', '2565997', '2537371', '2524261', '2542030', '2550636', '2495237', '2553294', '2507747', '2535081', '2362903', '2486169', '2552682', '2543264', '2554316', '2508684', '2563664', '2507339', '2543315', '2507684', '2528802', '2552593', '2415457', '2562872', '2550227', '2505772', '2544423', '2519027', '2566211', '2520303', '2514951', '2559696', '2517403', '2537712', '2557408', '2489350', '2242275', '2512339', '2527379', '2568905', '2523659', '2548335', '2532572', '2568778', '2505823', '2526243', '2545355', '2510298', '2511062', '2516544', '2517437', '2525657', '2550729', '2494101', '2529964', '2534800', '2537221', '2509879', '2506488', '2566560', '2532301', '2542702', '2362556', '2562630', '2555977', '2533249', '2561189', '2548674', '2565007', '2548765', '2545960', '2543314', '2555205', '2551416', '2549849', '2560596', '2544706', '2525692', '2533695', '2557458', '2534575', '2562437', '2504438', '2476282', '2570215', '2569305', '2535021', '2551340', '2470610', '2506068', '2536903', '2519032', '2552985', '2513798', '2566787', '2564347', '2559689', '2518707', '2542620', '2543613', '2561878', '2553115', '2558416', '2554290', '2523019', '2513816', '2485122', '2550110', '2528751', '2570052', '2564819', '2522606', '2542671', '2551990', '2507758', '2563966', '2529858', '2556087', '2533001', '2540505', '2521294', '2533478', '2556606', '2559542', '2550268', '2529524', '2546655', '2502549', '2526051', '2548437', '2557465', '2555462', '2562412', '2362231', '2544873', '2510852', '2541764', '2526088', '2545726', '2559226', '2539518', '2538717', '2542920', '2563860', '2567667', '2565493', '2567058', '2556414', '2507095', '2556888', '2552774', '2544166', '2522929', '2522006', '2568301', '2501764', '2552457', '2507769', '2529777', '2549756', '2521123', '2508310', '2567971', '2555875', '2215872', '2198440', '2553265', '2504006', '2509557', '2558184', '2560280', '2524341', '2557722', '2542779', '2527768', '2513250', '2534253', '2220442', '2553972', '2560720', '2516960', '1133346', '2471714', '2507412', '2569148', '2499233', '2550811', '2569489', '2511229', '2528833', '2511725', '2540434', '2556972', '2519928', '2544356', '2570036', '2568849', '2520643', '2510776', '2567648', '2546397', '2523936', '2512892', '2556694', '2519825', '2535104', '2519830', '2505256', '2559575', '2511147', '2561372', '2505401', '2520301', '2539810', '2528801', '2529416', '2557188', '2568477', '2480486', '2535469', '2545583', '2530357', '2537107', '2558783', '2562140', '2445025', '2526033', '2483367', '2464817', '2518122', '2427298', '2532149', '2510387', '2527518', '2537681', '2568462', '2504070', '2549067', '2506331', '2514075', '2549751', '2557992', '2528125', '2548063', '2544283', '2512723', '2527548', '2568036', '2557297', '2544643', '2544987', '2552369', '2541326', '2522206', '2512181', '2515547', '2519614', '2555860', '2564041', '2520713', '2542662', '2557374', '2552017', '2558831', '2503883', '2530927', '2511368', '2556458', '2469067', '2564188', '2550660', '2557236', '2544754', '2533475', '2536160', '2530065', '2549563', '2559670', '2516485', '2564054', '2510133', '2565396', '2544601', '2504367', '2519373', '2532611', '2561392', '2559430', '2494230', '2517937', '2518807', '2557991', '2553219', '2557082', '2566554', '2511473', '2566058', '2531900', '2503682', '2526022', '2521884', '2513927', '2529720', '2521232', '2318651', '2545514', '2516563', '2504762', '2504609', '2477133', '2567817', '2524671', '2551587', '2517834', '2557660', '2527308', '2247172', '2505770', '2567397', '2508303', '2556911', '2506620', '2529141', '2185280', '2529118', '2513926', '2529676', '2570583', '2554973', '2566726', '2511276', '2522159', '2530978', '2524787', '2545856', '2567722', '2551352', '2560496', '2505341', '2533193', '2509997', '2505464', '2566997', '2555509', '2281985', '2535991', '2528625', '2561096', '2567970', '2518767', '2561482', '2264450', '2533688', '2509609', '2523907', '2546029', '2547263', '2505699', '2535530', '2563962', '2425608', '2551391', '2563963', '2507882', '2553626', '2524974', '2530998', '2558664', '2504282', '2566764', '2281442', '2514797', '2509009', '2509703', '2520662', '2557865', '2518908', '2555291', '2504342', '2563351', '2550431', '2510889', '2505578', '2553442', '2544352', '2568067', '2557638', '2501912', '2534531', '2562479', '2505987', '2546306', '2560290', '2529006', '2506796', '2505393', '2554176', '2550434', '2569490', '2519867', '2303248', '2511861', '2509709', '2531321', '2534404', '2543545', '2307013', '2549697', '2540301', '2395414', '2543090', '2425298', '2507482', '2525027', '2560771', '2553261', '2504535', '2361982', '2506462', '2208785', '2570535', '2514880', '2504098', '2532714', '2537112', '2494365', '2527633', '2505359', '2279680', '2556803', '2501748', '2509752', '2540369', '2544026', '2558670', '2561737', '2510988', '2560458', '2508177', '2553350', '2538660', '2561390', '2566234', '1868834', '2441080', '2539425', '2510476', '2540565', '2558433', '2227407', '2519560', '2559497', '2552045', '2540648', '2554614', '2552212', '2568549', '2401654', '2509657', '2528829', '2532348', '2526896', '2525675', '2531377', '2552906', '2526741', '2450034', '2515951', '2504881', '2547034', '2509478', '2515416', '2512077', '2560277', '2528876', '2548156', '2558377', '2520470', '2523428', '2250140', '2549734', '2566334', '2561854', '2517752', '2568004', '2518717', '2414423', '2562343', '2507438', '2548053', '2550325', '2531774', '2551301', '2508111', '2552540', '2504765', '2452569', '2522590', '2523027', '2544528', '2508733', '2567064', '2562368', '2513070', '1528189', '2552354', '2524434', '2526533', '2567076', '2529085', '2545634', '2521037', '2565492', '2507772', '2558145', '2522358', '2515306', '2519767', '2512740', '2504783', '2515991', '2504092', '2543404', '2538982', '2541135', '2545592', '2530660', '2536784', '2559979', '2550599', '2505333', '2536429', '2552275', '2532579', '2513119', '2559546', '2564973', '2561261', '2565440', '2526345', '2504539', '2553514', '2494756', '2506216', '2554633', '2518066', '2537603', '2542628', '2551171', '2522154', '2534437', '1549858', '2511457', '2551660', '2569475', '2543608', '2560889', '2530305', '2548266', '2512643', '2535060', '2558836', '2537577', '2555619', '2544353', '2524997', '2516213', '2559333', '2532874', '2544676', '2554869', '2507636', '2522562', '2518811', '2519892', '2547903', '2532148', '2505284', '2538448', '2510625', '2533854', '2510819', '2566935', '2567948', '2510979', '2524480', '2569206', '2526927', '2562795', '2569587', '2565722', '2565801', '2535813', '2518065', '2531708', '2569142', '2535965', '2490898', '2509327', '2550243', '1552581', '2522021', '2525405', '2537792', '2560895', '2200429', '2530819', '2538577', '2537305', '2537840', '2514344', '2562893', '2456070', '2548075', '2519547', '2503749', '2512160', '2568970', '2551879', '2543374', '2534446', '2483454', '2503305', '2442118', '2540722', '2517548', '2535756', '2533691', '2307045', '2536966', '2519599', '2528623', '2548485', '2526999', '2538695', '2512719', '2535958', '2518517', '2565363', '2546566', '2515604', '2548901', '2537689', '2545613', '2549970', '2523499', '2519001', '2541231', '2516592', '2531972', '2535507', '2568951', '2519359', '2536561', '2511191', '2258726', '2568087', '2500453', '2569337', '2551330', '2554129', '2547057', '2427977', '2512731', '2570546', '2537565', '2503909', '2372499', '2517129', '2568257', '2550019', '2505990', '2205875', '2546966', '2556497', '2518887', '2400686', '2532555', '2521436', '2561384', '2524045', '2564336', '2570443', '2552598', '2564654', '2562943', '2554340', '2552326', '2503679', '2534733', '2567115', '2536018', '2563346', '2557811', '2558726', '2381953', '2528462', '2565117', '2540086', '2562001', '2442005', '2539264', '2566866', '2523566', '2544441', '2534388', '2507779', '2545524', '2542555', '2507195', '2508888', '2520630', '2508792', '2521310', '2547917', '2507725', '2541491', '2523181', '2508627', '2507728', '2540184', '2523781', '2566200', '2516631', '2558388', '2503794', '2505453', '2553474', '2532010', '2539308', '2533614', '2535515', '2556450', '2538750', '2506260', '2499679', '2558768', '2547683', '2565622', '2541555', '2505128', '2537622', '2543569', '2565177', '2458997', '2551697', '2464663', '2533295', '2344070', '2517376', '2537769', '2553637', '2554498', '2535690', '2511606', '2551854', '2559447', '2569321', '2537210', '2516511', '2568259', '2512337', '2569820', '2526462', '2552115', '2465423', '2551360', '2521806', '2565524', '2517854', '2545616', '2515763', '2492688', '2556840', '2528536', '2569027', '2524432', '2541882', '2528982', '2519208', '2540035', '2534208', '2533225', '2558060', '2509541', '2512461', '2566585', '2555230', '2550079', '2545951', '2523220', '2526273', '2568787', '2518641', '2545131', '2539712', '2504226', '2515251', '2551284', '2551013', '2546407', '2540616', '2547021', '2513636', '2565142', '2531316', '2510736', '2513638', '2504144', '2549428', '2531247', '2529073', '2514128', '2513902', '2551802', '2556561', '2473589', '2522014', '2536312', '2548650', '2546193', '2556259', '2518073', '2531399', '2544779', '2531917', '2524230', '2537416', '2548829', '2512531', '2522534', '2532623', '2508738', '2557164', '2308326', '2537077', '2504825', '2545546', '2504473', '2528679', '2512491', '2133383', '2566092', '2508358', '2272945', '2522492', '2561852', '2552554', '2506521', '2540074', '2542767', '2514862', '2548107', '2504379', '2548258', '2516104', '2564718', '2530407', '2520149', '2521084', '2557040', '2567190', '2119379', '2537826', '2536214', '2568805', '2511436', '2505373', '2527924', '2433685', '2547893', '2505600', '2569385', '2505503', '2535396', '2512895', '2543830', '2519854', '2543607', '2568418', '2524383', '2504085', '2534648', '2531923', '2570603', '2547441', '2555361', '2552319', '2549632', '2332384', '2525860', '2561638', '2550289', '2539465', '2515427', '2519774', '2533202', '2510719', '2555985', '2520472', '2351273', '2507545', '2519117', '2559769', '2537039', '2522197', '2532065', '2513807', '2541455', '2520620', '2564223', '2520461', '2506930', '2516358', '2537073', '2546854', '2552867', '2538369', '2547281', '2512119', '2212757', '2516784', '2558032', '2545940', '2530845', '2569927', '2514397', '2382441', '2550475', '2519770', '2566361', '2529179', '2521173', '2507309', '2538506', '2532684', '2554018', '2552131', '2526751', '2559341', '2505234', '2533901', '2539452', '2566392', '2530879', '2515619', '2514978', '2515338', '2512043', '2525013', '2538372', '2537008', '2494502', '2561977', '2558296', '2561165', '2526539', '2512938', '2492423', '2531827', '2477614', '2550186', '2417016', '2557548', '2561360', '2541655', '2517214', '2347897', '2508962', '2515098', '2540186', '2472291', '2513677', '2526211', '2513733', '2540379', '2287159', '2562702', '2507580', '2527233', '2528847', '2518909', '1292195', '2512602', '2544630', '2538772', '2565043', '2538791', '2544769', '2468240', '2564003', '2529782', '2555887', '1727565', '2505301', '2521997', '2558945', '2322495', '2562733', '2511783', '2504180', '2260551', '2525479', '2532057', '2519197', '2519808', '2529643', '2549097', '2543833', '2518990', '2515474', '1693082', '2527784', '2531283', '2512393', '2517755', '2569799', '2522214', '2536067', '2525241', '2525465', '2527297', '2562717', '2504019', '2565674', '2528101', '2412089', '2547811', '2545431', '2565263', '2386107', '2559794', '2516952', '1409538', '2517898', '2531980', '2545838', '2527938', '2524963', '2559582', '2516737', '2559745', '2546368', '2393857', '2558510', '2534980', '1335915', '2552786', '2525496', '2537067', '2534775', '2527907', '2548557', '2568453', '2542510', '2518090', '2509782', '2499158', '2525495', '2530215', '2519546', '2523482', '2504244', '2518097', '2523500', '2517925', '2538631', '2532137', '2511474', '2555103', '2517969', '2549535', '2525431', '2531810', '2560704', '2554407', '2501971', '2512142', '2514509', '2549422', '2555353', '2516085', '2369528', '2509638', '2436664', '2522431', '2564444', '2516025', '2564106', '2315511', '2557782', '2544014', '2540260', '2560163', '2520835', '2513593', '2548090', '2547778', '2515569', '2311161', '2543338', '2541579', '2543148', '2505602', '2509651', '2218607', '2532708', '2525393', '2547711', '2538304', '2528071', '2515426', '2513522', '2523320', '2541473', '2543971', '2526058', '2557254', '2536045', '2546848', '2543736', '2540333', '2554397', '2558486', '2519138', '2536191', '2516493', '1922430', '2562995', '2518810', '2552839', '2552153', '2531452', '2506127', '2529216', '2539522', '2530799', '2518371', '2530774', '2507944', '2519963', '2522373', '2537288', '2532246', '2355523', '2561451', '2426806', '2521500', '2514072', '2514702', '2559788', '2505098', '2563256', '2565527', '2541459', '2556849', '2552194', '2513890', '2513963', '2548106', '2525048', '2544669', '2530078', '2507001', '2534003', '2562773', '2562338', '2532842', '2546855', '2560008', '2516685', '2566536', '2532494', '2503834', '2528961', '2513894', '2564094', '2521303', '2550072', '2524749', '2560526', '2560946', '2539398', '2502805', '2535312', '2540575', '2547889', '2534938', '2495393', '2514743', '2525400', '2517535', '2550185', '2542815', '2564284', '2505967', '2565778', '2564008', '2522176', '2541235', '2532029', '2561710', '2523359', '2553858', '2561624', '2480079', '2532518', '2563278', '2565606', '2413493', '2562471', '2560464', '2532424', '2509158', '2527371', '2536422', '2508820', '2455089', '2515256', '2181965', '2517692', '2524656', '2545395', '2555824', '2561065', '2563796', '2511335', '1060734', '2520783', '2552516', '2548220', '2512695', '2567346', '2542521', '2528907', '2511678', '2566590', '2534776', '2549100', '2539583', '1419731', '2548233', '2556896', '2513558', '2546929', '2541008', '2480939', '2561602', '2540955', '2556917', '2508880', '2510305', '2546046', '2531154', '2545296', '2557153', '2556019', '2518166', '2514860', '2518250', '2514360', '2519685', '2530186', '2530450', '2559624', '2531950', '2544110', '2536445', '2523169', '2515693', '2487618', '2520136', '2561275', '2559473', '2510964', '2506941', '2445251', '2504531', '2547902', '2568010', '2514900', '2527890', '2558529', '2559352', '2566749', '2564916', '2532963', '2538826', '2498307', '2569850', '2507920', '2540951', '2553174', '2541802', '2426879', '2523259', '2567033', '2546875', '2532362', '2500488', '2556074', '2560046', '2511227', '2509124', '2467058', '2546750', '2514392', '2562656', '2553362', '2557825', '2505377', '2519294', '2504285', '2399592', '2555061', '2506863', '2517870', '2518698', '2547429', '2532886', '2509465', '2521740', '2558499', '2513800', '2539996', '2549989', '2542263', '2515272', '2495607', '2549493', '2519991', '2563976', '2535287', '2538963', '2526411', '2513848', '2507852', '2518875', '2551493', '2528942', '2561318', '2528624', '2524867', '2544917', '2558378', '2536476', '2530418', '2564925', '2558923', '2520016', '2567483', '2565288', '2538292', '2518203', '2569915', '2565075', '2521565', '2510478', '2539487', '2547963', '2505448', '2568991', '2320941', '2543405', '2517781', '2557969', '2511219', '2215655', '2510078', '2534384', '2537024', '2515765', '2546371', '2569035', '2568202', '2498313', '2569990', '2531118', '2568704', '2543093', '2567232', '2524314', '2564108', '2525587', '2561934', '2553032', '1221372', '2504245', '2528650', '2518367', '2516705', '2568630', '2482113', '2531731', '2557142', '2543577', '2534009', '2501450', '2539839', '2524147', '2509839', '2536244', '2547116', '2538572', '2505881', '2504839', '2532158', '2563666', '2520614', '2553850', '2520985', '2565083', '2525199', '2355842', '2551426', '2545418', '2527867', '2515852', '2525917', '2555554', '2557915', '2543865', '2512080', '2554482', '2549512', '2525885', '2522744', '2511588', '2547922', '2193463', '2514174', '2513552', '2559816', '2509342', '2568022', '2547855', '2503833', '2563369', '2570668', '2536090', '2547793', '2504936', '2514408', '2524861', '2528621', '2524144', '2522965', '2553971', '2514103', '2565804', '2546115', '2514440', '2514002', '2477812', '2543371', '2546314', '2544525', '2534294', '1281975', '2505228', '2557218', '2529459', '2509766', '2516713', '2558180', '2347165', '2520959', '2533012', '2545926', '2519879', '2545653', '2566046', '2511493', '2517463', '2556949', '2553156', '2528789', '2564991', '2560951', '2539031', '2510795', '2521605', '2543189', '2377338', '2543275', '2520722', '2502329', '2318803', '2446012', '2541250', '2478847', '2496572', '2535383', '2560098', '2552314', '2508411', '2504025', '2541199', '2534667', '2570454', '2546522', '2567007', '2554509', '2455001', '2505112', '2448606', '2535499', '2513982', '2545089', '2459757', '2534227', '2543381', '2486303', '2530185', '2556164', '2407394', '2512465', '2504831', '2512656', '2561731', '2528694', '2561648', '2548629', '2555801', '2550838', '2509278', '2569222', '2512030', '2508504', '2515293', '2541619', '2518129', '2527402', '2504239', '2530387', '2541472', '2557850', '2535540', '2568839', '2545480', '2567705', '2552914', '2543336', '2542326', '2555130', '2548017', '2505073', '2519668', '2409265', '2556926', '2559927', '2550220', '2538072', '2502898', '2560366', '2506119', '2531646', '2544536', '2515139', '2511118', '2544501', '2543358', '2512878', '2527388', '2568898', '2530912', '2569899', '2507073', '2555623', '2512951', '2551121', '2559866', '2532380', '2512922', '2514037', '2562295', '2505859', '2570294', '2557155', '2553009', '2557479', '2490520', '2531614', '2533663', '2473678', '2515327', '2453148', '2505786', '2555959', '2524055', '2515217', '2557745', '2548243', '2534810', '2506356', '2512427', '2565073', '2566084', '2545177', '2528695', '2515528', '2509535', '2527526', '2524561', '2538809', '2566325', '2555515', '2551722', '2553550', '2535796', '2514858', '2536941', '2527836', '2523531', '2512551', '2532501', '2538546', '2566090', '2522155', '2525315', '2522389', '2551217', '2503798', '2509080', '2506911', '2513023', '2541035', '2565036', '2518977', '2553648', '2536477', '2543460', '2560101', '2565914', '2530904', '2531705', '2567114', '2512470', '2555885', '2505794', '2570635', '2570203', '2503906', '2527343', '2546682', '2507191', '2507430', '2372185', '2530697', '2492660', '2564454', '2557934', '2531516', '2505975', '2512279', '2377059', '2508713', '2548846', '2538720', '2524733', '2516883', '2503828', '2547262', '2506857', '2551663', '2503166', '2564954', '2521068', '2518920', '2569013', '2531772', '2534881', '2537735', '2537313', '2561440', '2511723', '2566120', '2543010', '2517964', '2542368', '2565623', '2545224', '2552515', '2532261', '2567997', '2417573', '2515953', '2551516', '2565114', '2551528', '2524067', '2501942', '2528187', '2336591', '2562195', '2570362', '2527080', '2558019', '2548791', '2501476', '2515493', '2509270', '2532759', '2554803', '2560666', '2554930', '2543893', '2508729', '2518987', '2527487', '2506265', '2554301', '2527601', '2506912', '2543048', '2561952', '2570244', '2505191', '2540883', '2537335', '2517300', '2503629', '2568902', '2536144', '2538543', '2512587', '2557767', '2533430', '2559739', '2569644', '2536392', '2566659', '2511798', '2546745', '2503345', '2558630', '2557505', '2515280', '2520452', '2539859', '2565676', '2556643', '2539865', '2508608', '2570506', '2548234', '2518270', '2568903', '2524711', '2552568', '2558262', '2560249', '2516876', '2511931', '2562583', '2513786', '2442289', '2520794', '2517257', '2548484', '2551522', '2534554', '2517684', '2512161', '2532941', '2556307', '2558654', '2504222', '2545367', '2546558', '2522688', '2556399', '2555046', '2411791', '2546873', '2509389', '2525144', '2528309', '2527429', '2550310', '2526887', '2525410', '2496551', '2560128', '2503763', '2538561', '2541297', '2541688', '2566960', '2457342', '2565611', '2549826', '2532145', '2532828', '2569104', '2564274', '2506395', '2506028', '2507575', '2228630', '2565729', '2516464', '2505921', '2532712', '2555497', '2526612', '2570349', '2528742', '2506063', '2507038', '2530201', '2567652', '2558955', '2252786', '2561415', '2567894', '2529297', '2473341', '2505923', '2525792', '2546640', '2519005', '2515785', '2564817', '2553353', '2554860', '2513797', '2531142', '2561103', '2519314', '2503927', '2531823', '2567210', '2563461', '2539594', '2555550', '2451762', '2516833', '2506126', '2522092', '2543760', '2512655', '2540815', '2552646', '2514870', '2528404', '2512081', '2548141', '2538692', '2568558', '2546333', '2536744', '2538945', '2530768', '2526827', '2517039', '2554084', '2520564', '2563722', '2551773', '2515513', '2565470', '2537971', '2465895', '2556235', '2539650', '2508700', '2511815', '2562283', '2538315', '2537969', '2533677', '2514270', '2533877', '2562231', '2548710', '2541597', '2515815', '2548421', '2517233', '2557101', '2129211', '2539973', '2550102', '2503931', '2509463', '2508388', '2465653', '2512678', '2524529', '2524916', '2514684', '2554684', '2521733', '2548424', '2532044', '2519193', '2552946', '2541405', '2510047', '2530724', '2561892', '2538302', '2568227', '2534163', '2530723', '2508121', '2517996', '2560941', '2526547', '2540706', '2567712', '2504397', '2552610', '2517705', '2511162', '2506998', '1430247', '2563151', '2563215', '2511307', '2526364', '2565354', '2569906', '2516946', '2513833', '2541699', '2521140', '2544577', '2509258', '2537907', '2508514', '2215088', '2527767', '2541596', '2505636', '2513397', '2543423', '2561012', '2554360', '2560263', '2556922', '2554511', '2512935', '2562000', '2518457', '2293872', '2525714', '2526369', '2511681', '2566768', '2529667', '2541159', '2544354', '2533807', '2548755', '2532209', '2560225', '2550195', '2533924', '2494841', '2532077', '2562785', '2545135', '2537570', '2540852', '2506553', '2545176', '2567671', '2528669', '2552943', '2561003', '2503839', '2527977', '2552351', '2546139', '2515719', '2553042', '2566833', '2517176', '2521025', '2559291', '2538647', '2568941', '2561285', '2561210', '2562847', '2514385', '2516065', '2538783', '2556792', '2530329', '2567537', '2533511', '2539300', '2503831', '2538276', '2528239', '2562347', '2537821', '2565678', '2543183', '2509194', '2531753', '2512133', '2527557', '2536371', '2505995', '2518683', '2524752', '2558856', '2554642', '2570081', '2547529', '2542685', '2528241', '2555782', '2561198', '2541876', '2539310', '2553513', '2504566', '2540699', '2554169', '2554679', '2557532', '2549102', '2524758', '2541287', '2526234', '2546132', '2564950', '2561668', '2526635', '2523565', '2554585', '2533497', '2537778', '2551937', '2528714', '2524153', '2553494', '2567645', '2517787', '2545406', '2562164', '2552353', '2504949', '2530684', '2537297', '2552625', '2524693', '2506895', '2508796', '2520539', '2538077', '2502908', '2545621', '2535517', '2524762', '2564058', '2528122', '2524741', '2552492', '2528042', '2535330', '2503728', '2500390', '2560554', '2552248', '2548842', '2541680', '2533662', '2513619', '2568904', '2275864', '2549609', '2547157', '2522302', '2493482', '2543954', '2561970', '2499304', '2516207', '2519587', '2525665', '2527266', '2512502', '2453499', '2451485', '2561540', '1613668', '2553334', '2518655', '2559208', '2525365', '2567747', '2561636', '2561920', '2530487', '2555641', '2568324', '2527366', '2507656', '2524246', '2541885', '2561269', '2486850', '2519340', '2517031', '2520102', '2564113', '2525798', '2552911', '2537282', '2537284', '2545460', '2522759', '2514855', '2548676', '2516661', '2533447', '2566494', '2505771', '2547825', '2524780', '2540199', '2518257', '2526258', '2552620', '2517156', '2543219', '2555501', '2544848', '2503770', '2526980', '2518294', '2570474', '2530852', '2531435', '2408807', '2548222', '2481129', '2507329', '2511178', '2207125', '2560914', '2545759', '2535197', '2506953', '2539591', '2533163', '2552829', '2554180', '2539779', '2511249', '2513767', '2553632', '2505219', '2523697', '2536428', '2562229', '2552132', '2568561', '2561017', '2525760', '2546752', '2523846', '2521215', '2508184', '2511213', '2541794', '2543427', '2505456', '2547147', '2566201', '2541168', '2565433', '2530163', '2505835', '2498347', '2565416', '2545771', '2514398', '2507125', '2537078', '2569132', '2500701', '2517770', '2563872', '2529421', '2524838', '2517088', '2534794', '2527904', '2233852', '2524972', '2552465', '2557567', '2548731', '2563263', '2539762', '2510973', '2505339', '2565978', '2532594', '2519093', '2522355', '2523948', '2556688', '2508178', '2524686', '2512944', '2565508', '2516174', '2533546', '2570151', '2530948', '2555131', '2550961', '2520051', '2546041', '2530937', '2547564', '2531924', '2543911', '2543239', '2537055', '2526440', '2492668', '2236269', '2538640', '2533425', '2539660', '2514043', '2538174', '2538385', '2557220', '2568137', '2559973', '2549742', '2569349', '2554058', '2548356', '2556695', '2542199', '2552408', '2545792', '2547113', '2489142', '2567888', '2557106', '2555190', '2505649', '2520474', '2554435', '2559921', '2543661', '2537411', '2559366', '2525534', '2537199', '2535085', '2554121', '2567066', '2528313', '2563206', '2523594', '2559409', '2515180', '2504834', '2516787', '2517718', '2534001', '2524308', '2530526', '2555821', '2511548', '2507455', '2548154', '2468059', '2568480', '2557124', '2563762', '2446865', '2543584', '2528282', '2525390', '2199970', '2517061', '2568783', '2511432', '2511390', '2537461', '2538359', '2408715', '2551904', '2554790', '2398611', '1079400', '2516311', '2509884', '2535243', '2498941', '2525644', '2491283', '2508389', '2548294', '2552723', '2517771', '2509454', '2142379', '2516741', '2537175', '2528472', '2537033', '2539958', '2562633', '2519285', '2542321', '2540185', '2504767', '2539467', '2522386', '2509740', '2564537', '2461498', '2547647', '2518590', '2565174', '2565817', '2446178', '2221726', '2334956', '2563846', '2316646', '2545215', '2479875', '2511530', '1168087', '1111231', '2530849', '2554990', '2541175', '2570453', '2520714', '2553108', '2261070', '2512716', '2553768', '2546259', '2562252', '2562331', '2532075', '2524587', '2231290', '2553283', '2514479', '2562900', '2564418', '2506355', '2537198', '2512345', '2541243', '2561063', '2511385', '2513845', '2467697', '2490060', '2558260', '2531370', '2543888', '2543664', '2508930', '2524835', '2533830', '2567455', '2508923', '2533018', '2520401', '2512235', '2564927', '2548249', '2545120', '2425491', '2566272', '2563100', '2535702', '2513409', '2552156', '2552799', '2510977', '2291576', '2568899', '2570043', '2528139', '2530011', '2520658', '2535351', '2559879', '2565079', '2570054', '2422714', '2560156', '2543478', '2535554', '2532113', '2524217', '2551275', '2545446', '2523561', '2562097', '2505406', '2511230', '2548422', '2529304', '2551235', '2532311', '2524171', '2523101', '2523892', '2501935', '2561777', '2516840', '2566407', '2505255', '2544029', '2505045', '2556184', '2516829', '2561622', '2524006', '2516526', '2566131', '2559896', '2507586', '2475761', '2539980', '2522374', '2538397', '2567963', '2553289', '2552419', '2547944', '2570300', '2527303', '2498272', '2516009', '2510446', '2554207', '2554171', '2549786', '2539041', '2528467', '2548397', '2265436', '2261885', '2557233', '2570435', '2518696', '2519109', '2569084', '2536813', '2550668', '2520178', '2524931', '2521911', '2549573', '2555215', '2536742', '2556376', '1551213', '2507205', '2486033', '2546131', '2517714', '2404013', '2567092', '2541021', '2555248', '2302575', '2538727', '2562849', '2528717', '2510069', '2526749', '2506239', '2511012', '2560609', '1499851', '2511203', '2508744', '2524558', '2517247', '2556509', '2538995', '2570471', '2524812', '2532006', '2260146', '2531278', '2531429', '2515005', '2534889', '2506241', '2515386', '2542460', '2532764', '2249069', '2561546', '2540241', '2559967', '2568859', '2508964', '2562212', '2519128', '2514026', '2512589', '2523658', '2546393', '2535332', '2554247', '2531426', '2536323', '2537399', '2564641', '2554323', '2521002', '2513808', '2408015', '2520686', '2533427', '2551896', '2530653', '2525272', '2517025', '2554127', '2564762', '2552235', '2508320', '2532450', '2557909', '2559127', '2527805', '2539457', '2504626', '2569428', '2506326', '2322183', '2569271', '2529672', '2536250', '2542915', '2556862', '2557566', '2558631', '2550910', '2522716', '2523802', '2510152', '2557351', '2543188', '2518159', '2365121', '2410364', '2544857', '2508971', '2560019', '2562959', '2543937', '2520113', '2530433', '2516991', '2524369', '2523196', '2520385', '2516609', '2511163', '2556943', '2540689', '2548599', '2565271', '2508272', '2521275', '2510499', '2531702', '2533968', '2554914', '2558718', '2555805', '2551316', '2563621', '2508028', '2511096', '2527067', '2504838', '2537905', '2543434', '2551967', '2464598', '2516877', '2569253', '2535500', '2423885', '2514018', '2569020', '2560489', '2539664', '2505279', '2494418', '2517033', '2506053', '2513337', '2528432', '2506081', '2561271', '2519886', '2527625', '2514798', '2450333', '2516345', '2520209', '2509573', '2568547', '2558505', '2538020', '2503743', '2200219', '2547952', '2557574', '2538667', '2529278', '2564485', '2466209', '2506362', '2566057', '2552162', '2531938', '2563229', '2298725', '2562201', '2511389', '2532128', '2537783', '2525765', '2519116', '2516387', '2511246', '2518819', '2547117', '2507076', '2554660', '2565235', '2504674', '2519414', '2520000', '2536357', '2553346', '2520340', '2515345', '2554984', '2557473', '2506182', '2520578', '2446015', '2551864', '2533696', '2505609', '2544506', '2556944', '2549681', '2550890', '2518350', '2531899', '2542540', '2514041', '2513516', '2525142', '2513908', '2522146', '2507105', '2059818', '2561821', '2494842', '2567477', '2541922', '2506330', '2536453', '2541935', '2556701', '2516581', '2507230', '2555415', '2508624', '2557225', '2557702', '2553528', '2459214', '2567777', '2539327', '2521825', '2561405', '2529160', '2542422', '2297994', '2519542', '2543786', '2555019', '2178356', '2330634', '2546329', '2506624', '2507925', '2469006', '2556276', '2533206', '2545890', '2524367', '2526802', '2516852', '2541815', '2537647', '2564292', '2550687', '2549004', '2552204', '2560164', '1673625', '2523231', '2555791', '2525727', '2511407', '2526534', '2562808', '2528853', '2503952', '2559235', '2545399', '2541261', '2535390', '2533985', '2545558', '2521998', '2504761', '2535058', '2506211', '2357896', '2519510', '2513656', '2520529', '2162803', '2556300', '2508927', '2515836', '2521097', '2516368', '2524979', '2542156', '2228470', '2554206', '2540334', '2539484', '2530737', '2543384', '2539204', '2432336', '2532582', '2504022', '2542103', '2524746', '2509883', '2516195', '2510656', '2565242', '2550802', '2519356', '2562091', '2557937', '2519258', '2505143', '2518567', '2537080', '2546866', '2510662', '2555763', '2524218', '2528762', '2524876', '2549251', '2513632', '2566402', '2502778', '2550652', '2521059', '2539826', '2560006', '2521255', '2536167', '1605608', '2505459', '2567353', '2538408', '2548313', '2543415', '2493146', '2556330', '2506635', '2530730', '2538475', '2511317', '2568094', '2554275', '2509682', '2550559', '2532248', '2505700', '2519642', '2514630', '2545677', '2535964', '2547733', '2300725', '2524020', '2555165', '2522666', '2539541', '2539566', '2523678', '2565677', '2507131', '2515735', '2507896', '2558166', '2561799', '2456787', '2522563', '2559637', '2540144', '2548664', '2566045', '2513257', '2566616', '2523743', '2564059', '2568995', '2517339', '2479248', '2505647', '2558182', '2286910', '2567803', '2564184', '2380886', '2526611', '2531962', '2545307', '2246123', '2510789', '2516315', '2530195', '2493768', '2546825', '2557105', '2522625', '2549318', '2542994', '2492731', '2560658', '2531876', '2520616', '2510491', '2559537', '2529486', '2540227', '2528815', '2525275', '2570425', '2518524', '2556475', '2568161', '2520765', '2559286', '2563659', '2531802', '2543448', '2515860', '2518980', '2537920', '2499885', '2535417', '2543002', '2564327', '2518058', '2518864', '2510149', '2511413', '2552612', '2518853', '2564097', '2522864', '2561917', '2505032', '2562034', '2539788', '2452265', '2504525', '2523562', '2500183', '2531300', '2510318', '2505353', '2551783', '2560005', '2535664', '2513889', '2553728', '2534019', '2549155', '2537957', '2521701', '2508539', '2542377', '2566134', '2542332', '2534211', '2551032', '2532138', '2570695', '2530184', '2523021', '2538525', '2557183', '2532584', '2566488', '2555842', '2560149', '2560678', '2555525', '2520268', '2558267', '2522382', '2541777', '2535468', '2516836', '2518050', '2515879', '2555317', '2513414', '2556409', '2540730', '2565454', '2516465', '2514001', '2566424', '2567730', '2490907', '2551034', '2528274', '2541033', '2530245', '2489664', '2149663', '2528794', '2550623', '2526265', '2293278', '2194280', '2515530', '2519121', '2541303', '2561053', '2543740', '2546214', '2261991', '2563099', '2437399', '2509073', '2564475', '2556706', '2567760', '2566061', '2535875', '2545335', '2538511', '2570482', '2557653', '2532663', '2538825', '2547186', '2561840', '2568726', '2569233', '2312942', '2522691', '2366957', '2554096', '2545568', '2546707', '2549300', '2560490', '2568053', '2515907', '2563679', '2549579', '2562138', '2531112', '2535976', '2508958', '2498862', '2398390', '2528957', '2528856', '2559009', '2538293', '2505832', '2566342', '2506893', '2531264', '2222524', '1394368', '2522443', '2537183', '2527828', '2511542', '2569575', '2550700', '2561091', '2563427', '2516372', '2565956', '2563878', '2537591', '2528901', '2515095', '2559317', '2525350', '2512105', '2544141', '2561536', '2524257', '2446758', '2525886', '2531653', '2549087', '2505632', '2530197', '2568252', '2522414', '2510808', '2528882', '2533825', '1751978', '2557544', '2565164', '2514099', '2539993', '2561100', '2503768', '2527530', '2510824', '2540788', '2563861', '2565968', '2530632', '2532099', '2526834', '2558678', '2547657', '2523345', '2517001', '2563499', '2546507', '2550255', '2519623', '2535618', '2544978', '2531340', '2541657', '2531010', '2537171', '2505317', '2518037', '2459094', '2532587', '2554032', '2534645', '2565984', '2537401', '2563581', '2550113', '2513791', '2561442', '2512069', '2533995', '2557139', '2537859', '2510262', '2512744', '2507573', '2565250', '2486620', '2553213', '2560238', '2562116', '2559204', '2508542', '2554205', '2541674', '2510290', '2525703', '2539524', '2509132', '2155954', '2518092', '2522502', '2528413', '2475437', '2509687', '2509002', '2530534', '2514615', '2510566', '2556380', '2520872', '2557624', '2556459', '2522338', '2563718', '2556292', '2498264', '2505167', '2515523', '2528006', '2504099', '2563925', '2513881', '2527368', '2561459', '2538594', '2554009', '2521128', '2547307', '2568114', '2537822', '2548601', '2566582', '2563486', '2512087', '2200585', '2531590', '2552990', '2568364', '2520861', '2535223', '2540324', '2524687', '2508875', '2515385', '2517020', '2540858', '2551683', '2556417', '2550449', '2561858', '2551624', '2510324', '2554734', '2519571', '2510529', '2516501', '2558470', '2554380', '2569650', '2552450', '2548103', '2530779', '2522084', '2566091', '2547305', '2562206', '2403112', '2565452', '2565109', '2515279', '2530254', '2535785', '2523485', '2539866', '2557543', '2507084', '2528108', '2530625', '2494048', '2565819', '2549895', '2558413', '2519852', '2531224', '2563098', '2519352', '2517190', '2530772', '2562745', '2567165', '2566531', '2513719', '2563087', '2569371', '2511961', '2558677', '2548786', '2545891', '2566969', '2531673', '2534961', '2524754', '2540949', '2510490', '2522876', '2559401', '2552307', '2493364', '2557758', '2556626', '2538191', '2567738', '2545512', '2548028', '2558375', '2529961', '2209720', '2569589', '2531017', '2556937', '2541291', '2512106', '2564450', '2561743', '2529713', '2561595', '2509228', '2538519', '2566099', '2504699', '2515552', '2541484', '2550388', '2510093', '2552507', '2541651', '2530634', '2549267', '2550413', '2265435', '2509723', '2512190', '2564446', '2544311', '2507344', '2557059', '2510568', '2564743', '2515193', '2506357', '2559418', '2545264', '2517759', '2508083', '2553087', '2519275', '2549524', '2556479', '2550347', '2139040', '2157822', '2542364', '1532078', '2541667', '2543469', '2511025', '2544128', '1027306', '2555217', '2537601', '2518266', '2505144', '2551681', '2505124', '2508623', '2524392', '2526385', '2568433', '2482769', '2540205', '2508680', '2495190', '2565530', '2550006', '2535393', '2482576', '2541205', '2559493', '2509759', '2549884', '2560113', '2337493', '2541879', '2547549', '2514886', '2562880', '2522646', '2563474', '2507740', '2454528', '2530461', '2556659', '2566007', '2538571', '2536720', '2540654', '2490731', '2166516', '2549446', '2532300', '2531576', '2538209', '2540179', '2508860', '2401833', '2522428', '2523459', '2549807', '2517831', '2559169', '2450077', '2504752', '2569010', '2508548', '2558081', '2552856', '2526667', '2538365', '2526941', '2446021', '2567753', '2567288', '2545259', '2570051', '2531685', '2548920', '2505293', '2556704', '2560389', '2522519', '2498237', '2532796', '1596383', '2569194', '2568554', '2529938', '2530968', '2566181', '2537808', '2557217', '2563677', '2528905', '2504911', '2520466', '2509406', '2568152', '2511594', '2539935', '1851431', '2559731', '2539359', '2528773', '2559267', '2542179', '2499764', '2552489', '2504603', '2504078', '2561164', '2508465', '2518905', '2546147', '2544023', '2532291', '2541799', '2543398', '2525573', '2559766', '2516939', '2554476', '2420987', '2568819', '2522057', '2525636', '2543656', '2548404', '2561939', '2540818', '2523457', '2525769', '2453389', '2566811', '2570570', '2521494', '2530376', '2525497', '2553098', '2533754', '2454513', '2535766', '2556203', '2522258', '2568025', '2545219', '2553141', '2390345', '2506372', '2561782', '2525912', '2506915', '2548280', '2569403', '2560222', '2517512', '2516956', '2561153', '2540277', '2500240', '2523337', '2501491', '2554307', '2559356', '2550381', '2437587', '2556269', '2170305', '2518681', '2530358', '2522153', '2504581', '2532227', '2562924', '2542757', '2301176', '2535457', '2570042', '2549753', '2511986', '2500394', '2508540', '2541493', '2530562', '2525612', '2538414', '2528289', '2565550', '2513842', '2538512', '2524172', '2568320', '2550583', '2553068', '2446350', '2567968', '2543741', '2518854', '2504580', '2555341', '2522417', '2198206', '2525523', '2527162', '2535137', '2525750', '2504617', '2533710', '2550240', '2556731', '2540912', '2551269', '2524484', '2559607', '2519619', '2532918', '2537978', '2471158', '2443806', '2525898', '2566715', '2469338', '1316735', '2545733', '2539763', '2522422', '2536268', '2507591', '2411670', '2562868', '2509499', '2539731', '2507386', '2547142', '2205067', '2545576', '2518283', '2566037', '2526104', '1366713', '2510547', '2539987', '2531929', '2540530', '2535091', '2527782', '2506332', '2553443', '2472275', '2559287', '2533730', '2568994', '2569032', '2540129', '2553211', '2515440', '2530301', '2557797', '2527975', '2567691', '2547537', '2544332', '2442501', '2533823', '2504710', '2565212', '2534731', '2180408', '2481030', '2550837', '2532804', '2521501', '2525017', '2561884', '2537512', '2538200', '2557150', '2534753', '2467608', '2568044', '2554419', '2512829', '2568621', '2508870', '2561857', '2521607', '2462174', '2526864', '2504537', '2535534', '2549288', '2541820', '2564676', '2512476', '2526520', '2531489', '2556258', '2527777', '2541361', '2552849', '2246944', '2504751', '2545513', '2505117', '2543629', '2475145', '2565616', '2523052', '2538073', '2567798', '2564370', '2535514', '2550030', '2556598', '2541893', '2516232', '2236865', '2554390', '2558627', '2551651', '2553810', '2559232', '2531848', '2566329', '2483905', '2511319', '2531147', '2553573', '2568654', '2550063', '2553970', '2527201', '2517504', '2497751', '2528738', '2508359', '2540209', '2542572', '2523782', '2550810', '2511925', '2534890', '2531138', '2512840', '2521710', '2520392', '1073228', '2535719', '2558841', '2547101', '2529558', '2503893', '2516845', '2547744', '2522727', '2494816', '2434850', '2480439', '2443790', '2532333', '2541691', '2549662', '2519383', '2520366', '2518658', '2514201', '2525736', '2440289', '2485319', '2541694', '2561248', '2525925', '2515083', '2538662', '2547395', '2537766', '2536180', '2475195', '2565324', '2547993', '2551082', '2535295', '2521759', '2547610', '2516029', '2517614', '2564012', '2547354', '2532569', '2230874', '2567080', '2503600', '2530453', '2566868', '2553466', '2510781', '2552885', '2562803', '2540411', '2554931', '2535259', '2513039', '2551585', '2545688', '2564978', '2532207', '2556486', '2518600', '2565758', '2565269', '2564404', '2557747', '2508787', '2535941', '2370338', '2507364', '2535203', '2514190', '2553981', '2523663', '2550374', '2513653', '2516286', '2570634', '2513951', '2540498', '2552769', '2516940', '2541452', '2557151', '2544916', '2547515', '2521213', '2529660', '2506437', '2550590', '2551266', '2509486', '2542055', '2551200', '2554310', '2523473', '2471194', '2540122', '2556167', '2508724', '2519723', '2528987', '2533145', '2564645', '2521659', '2559445', '2505629', '2556632', '2519795', '2536547', '2526291', '2554028', '2542653', '2547077', '2560248', '2560112', '2519370', '2562975', '2562351', '2458173', '2296641', '2565612', '2468632', '2530726', '2529930', '2562167', '2568177', '2555218', '2552909', '2539261', '2517780', '2537635', '2566437', '2560469', '2514721', '2547959', '2512306', '2559005', '2567402', '2531984', '2515078', '2530509', '2510110', '2536987', '2504401', '2554892', '2529328', '2553333', '2525038', '2504659', '2536897', '2531027', '2525535', '2554326', '2477476', '2566650', '2523894', '2376448', '2510565', '2542902', '2536202', '2567939', '2534738', '2538872', '2527528', '2521385', '2551451', '2561705', '2544475', '2538985', '2518561', '2564946', '2484732', '2533918', '2546609', '2512513', '2557724', '2506876', '2561328', '2547320', '2556198', '2286914', '2560777', '2568767', '2528004', '2547555', '2559412', '2565990', '2525711', '2526675', '2569446', '2505572', '2531312', '2484918', '2537502', '2534496', '2512761', '2536124', '2543506', '2528269', '2541457', '2496921', '2396482', '2518016', '2567434', '2506151', '2559361', '2548310', '2514405', '2513367', '2565199', '2510423', '2564226', '2555992', '2543798', '2533288', '2558931', '2488555', '2523605', '2507514', '2543772', '2567169', '2511069', '2530588', '2510397', '2570607', '2569447', '2519015', '2475931', '2549871', '2545722', '2547781', '2556599', '2528115', '2511668', '2551801', '2425085', '2545434', '2567678', '2565301', '2506580', '2557056', '2556905', '2565469', '2507320', '2532378', '2532090', '2517299', '2464217', '2560305', '2547966', '2568191', '2537867', '2475227', '2525603', '2547616', '2541866', '2541331', '2564467', '2514499', '2555382', '2545218', '2549043', '2539180', '2562090', '2560865', '2533650', '2538789', '2524159', '2503919', '2530988', '2506769', '2563629', '2447433', '2504534', '2534033', '2515499', '2552841', '2497752', '2196537', '2556767', '2523160', '2509784', '2545646', '2556995', '2508344', '2543522', '2548498', '2518011', '2559206', '2537309', '2550348', '2538167', '2530087', '2507435', '2525676', '2293990', '2503904', '2513616', '2566660', '2556014', '2568268', '2555504', '2538249', '2549388', '2504328', '2552499', '2563830', '2565170', '2564810', '2543111', '2508352', '2538049', '2561320', '2568498', '2520687', '2525900', '2435170', '2513732', '2514207', '2514240', '2514933', '2562690', '2516212', '2562473', '2536625', '2474463', '2541111', '2560120', '2512338', '2519052', '2292439', '2527850', '2524663', '2537025', '2558200', '2559274', '2367712', '2505432', '2561467', '2552238', '2527551', '2519761', '2523943', '2563886', '2506774', '2515007', '2545795', '2514841', '2532176', '2515875', '2546485', '2507719', '2506407', '2540489', '2547500', '2555450', '2528648', '2543490', '2545300', '2559476', '2538123', '2566995', '2507798', '2544592', '2513820', '2529457', '2533588', '2545504', '2512996', '2547923', '2528775', '2508487', '2533262', '2251279', '2482656', '2528511', '2510980', '2525099', '2549283', '2503907', '2518993', '2562135', '2554473', '2496619', '2527329', '2518544', '2553028', '2555779', '2472097', '2534880', '2531092', '2536243', '2541489', '2550256', '2524312', '2541445', '2506768', '2507209', '2497613', '2528763', '2508430', '2550582', '2543177', '2538565', '2536945', '2555228', '2552247', '2518046', '2511645', '2527643', '2530288', '2570552', '2538940', '2543032', '2550466', '2567557', '2516267', '2554408', '2515498', '2536230', '2530359', '2550460', '2394258', '2547028', '2541945', '2555468', '2563213', '2528633', '2510480', '2523197', '2527267', '2507413', '2562657', '2497387', '2509169', '2523384', '2510264', '2504758', '2559561', '2530899', '2513914', '2505285', '2564623', '2491951', '2551846', '2506605', '2555984', '2544363', '2512687', '2567322', '2536116', '2521972', '2564121', '2517792', '2548621', '2519239', '2563260', '2566232', '2520931', '2563443', '2508495', '2542038', '2535043', '2507723', '2559957', '2526259', '2568066', '2557857', '2543627', '2563682', '2566667', '2529560', '2568342', '2260417', '2517306', '2546645', '2546670', '2547524', '2519772', '2557135', '2508944', '2516256', '2543655', '2507481', '2528353', '2540872', '2508905', '2528747', '2530278', '1294754', '2555417', '2566220', '2513473', '2531672', '2547977', '2516886', '2509506', '2550075', '2540449', '1027646', '2223163', '2551793', '2506045', '2508575', '2524287', '2445214', '2524934', '2510415', '2550677', '2560327', '2566705', '2536872', '2522058', '2371296', '2558870', '2539526', '2512226', '2508705', '2565438', '2509578', '2555044', '2559952', '2562775', '2518523', '2560080', '2568516', '2542137', '2523304', '2538547', '2536947', '2534632', '2565401', '2505562', '2518209', '2543079', '2523538', '2560950', '2558614', '2537036', '2532872', '2553459', '2522378', '2561747', '2530910', '2522967', '2458692', '2527623', '2516778', '2556181', '2554376', '2514318', '2570053', '2504776', '2417547', '2524860', '2525521', '2567258', '2536866', '2504977', '2524337', '2555772', '2559371', '2510077', '2528674', '2512702', '2555082', '2552004', '2569595', '2517413', '2557090', '2546422', '2399340', '2269697', '2518433', '2489220', '2523668', '2533784', '2565133', '2504480', '2519225', '2532160', '2528296', '2532337', '2535119', '2468600', '2532643', '2563092', '2547858', '2563409', '2556680', '2556556', '2269079', '2550901', '2517728', '2558739', '2515373', '2518084', '2533548', '2519136', '2555829', '2528525', '2522741', '2555522', '2557065', '2543394', '2489428', '2536081', '2537983', '2558534', '2562321', '2555054', '2515471', '2531137', '2539502', '2559818', '2560076', '2531024', '2507280', '2535299', '2558239', '2567708', '2566518', '2536012', '2560218', '2509387', '2427565', '2520108', '2537318', '2518569', '2523273', '2539923', '2440025', '2557860', '2560729', '2525797', '2540346', '2518200', '2556786', '2492928', '2322389', '2555628', '2507637', '2533486', '2545179', '2542151', '2552807', '2539938', '2516624', '2532983', '2551730', '2506233', '2515673', '2508841', '2532480', '2530252', '2533617', '2518958', '2537718', '2525677', '2551583', '2504985', '2128368', '2528662', '2254262', '2505930', '2538184', '2162649', '2559771', '2542744', '2543316', '2485480', '2560686', '2518031', '2086671', '2447721', '2522976', '2520712', '2560980', '2564595', '2531368', '2543599', '2472124', '2182452', '2557042', '2550178', '2557518', '2553270', '2322231', '2564890', '2563495', '2540463', '2523325', '2536270', '2522664', '2530377', '2541630', '2537340', '2514116', '2508583', '2553740', '2568174', '2563942', '2523586', '2433087', '2391091', '2452166', '2566086', '2567446', '2567602', '2503783', '2509223', '2565428', '2554154', '2522896', '2538131', '2556553', '2524884', '2569790', '2555240', '2563290', '2517587', '2534995', '2540822', '2416542', '2508897', '2531800', '2527322', '2536658', '2549477', '2555401', '2565633', '2526255', '2556696', '2539366', '2519409', '2547418', '2504413', '1360280', '2562117', '2502860', '2560193', '2513487', '2509159', '2535531', '2548096', '2553895', '2509491', '2522066', '2559841', '2531948', '2527842', '2559685', '2522346', '2550196', '2561342', '2556675', '2568936', '2569813', '2527385', '2520868', '2545758', '2517736', '2552550', '2566263', '2549364', '2522412', '2520534', '2565921', '2551268', '2416967', '2559247', '2539032', '2504954', '2556204', '2548148', '2540928', '2527741', '2566400', '2516858', '2369754', '2554488', '2533484', '2526426', '2504408', '2543289', '2545645', '2528617', '2545511', '2568395', '2549052', '2567913', '2523199', '2527620', '2553337', '2446296', '2558600', '2555426', '2555110', '2506373', '2512455', '2547153', '2538082', '2565336', '2544980', '2532181', '2515601', '2551613', '2530395', '2559878', '2488836', '2510180', '2568013', '2563146', '2517429', '2569248', '2560321', '2554149', '2556179', '2505593', '2533274', '2507584', '2518389', '2443645', '2515526', '2515935', '2556856', '2537088', '2464432', '2528664', '2497378', '2545132', '2545820', '2539007', '2563640', '2535271', '2515188', '2538279', '2542579', '2507342', '2562537', '2469931', '2214693', '2529879', '2519970', '2493271', '2512130', '1425113', '2507207', '2540718', '2553818', '2551564', '2554382', '2541874', '2562962', '1556635', '2568813', '2542275', '2547542', '2560040', '2254500', '2531364', '2554446', '2448596', '2559699', '2546741', '2562589', '2532046', '2547776', '2553263', '2552557', '2482260', '2528368', '2451460', '2566716', '2509560', '2569164', '2556436', '2502291', '2553310', '2465721', '2383317', '2553891', '2442935', '2507070', '2477862', '2509325', '2529757', '2538829', '2548697', '2557568', '2534503', '2319603', '2543439', '2551532', '2555443', '2563946', '2533351', '2531887', '2530858', '2569795', '2522602', '2368507', '2533602', '2558661', '2567580', '2524904', '2563787', '2440947', '2564728', '2560574', '2564457', '2538865', '2566594', '2564821', '2510562', '2518180', '2562450', '2531611', '2527270', '2552498', '2507068', '2401853', '2517644', '2547296', '2518128', '2514635', '2526407', '2557529', '2503300', '2554317', '2557775', '2550088', '2534479', '2555140', '2495364', '2503875', '2529178', '2525439', '2570520', '2570321', '2503887', '2517809', '2490968', '2540930', '2529463', '2566291', '2539766', '2566432', '2505607', '2518824', '2538287', '2545392', '2510915', '2556282', '2545927', '2550038', '2563207', '2566801', '2543074', '2566149', '2509091', '2567649', '2530326', '2512436', '2511636', '2530235', '2536567', '2511508', '2556539', '2516244', '2570241', '2414410', '2517531', '2569159', '2561231', '2554195', '2488495', '2509241', '2541566', '2569951', '2533697', '2510296', '2518661', '2398010', '2533938', '2535926', '2538814', '2517639', '2541542', '2563391', '2378421', '2552164', '2553556', '2506138', '2554856', '2548454', '2510001', '2506949', '2420670', '2537637', '2529817', '2557750', '2569259', '2523763', '2539584', '2562275', '2527979', '2566929', '2545953', '2548012', '2528778', '2527396', '2531707', '2562779', '2535868', '2569219', '2561163', '2530413', '2561582', '2487348', '2529432', '2552704', '2527273', '2536359', '2555104', '2565486', '2505278', '2530934', '2475848', '2524991', '2560452', '2535837', '2513686', '2565885', '2417415', '2561932', '2538212', '2183136', '2394482', '2545547', '2551917', '2531004', '2258697', '2570383', '2565542', '2558492', '2413359', '2527395', '2562048', '2506017', '2506586', '2466601', '2529984', '2548301', '2562529', '2569119', '2561891', '2515570', '2534131', '2528892', '2565195', '2541910', '2511789', '2524359', '2540803', '2484811', '2551675', '2519592', '2513685', '2543489', '2561923', '2554364', '2514737', '2375352', '2554115', '2530265', '2556977', '2557096', '2509033', '2552586', '2517161', '2564887', '2508909', '2508676', '1391427', '2522344', '2550031', '2569479', '2549122', '2532497', '2552182', '2562024', '2525229', '2511153', '2520940', '2508085', '2527457', '2509757', '2533642', '2568725', '2503307', '2561388', '2555904', '2516909', '2562424', '2505217', '2529856', '2542213', '2537304', '2512092', '2515174', '2518262', '2566197', '2533652', '2525242', '2539827', '2561927', '2302920', '2535206', '2514172', '2482062', '2563833', '2563620', '2536056', '2519290', '2515383', '1615865', '2550503', '2510363', '2526891', '2527269', '2502333', '2532622', '2539505', '2531262', '2543527', '2397133', '2527372', '2504124', '2527920', '2525717', '2530711', '2541774', '2542162', '2514580', '2554768', '2567766', '2569147', '2513391', '2233638', '2522963', '2556804', '2507525', '2545931', '2540071', '2515314', '2527959', '2512371', '2035345', '2542171', '2403942', '2514141', '2559695', '2524952', '2555269', '2557488', '2530516', '2509225', '2519113', '2512657', '2509775', '2515389', '2559283', '2548400', '2513617', '2561290', '2549222', '2527261', '2534053', '2513843', '2535751', '2548810', '2513766', '2537805', '2528878', '2532196', '2562844', '2549941', '2519444', '2557526', '2506262', '2510146', '2508804', '2527922', '2528249', '2517040', '2564248', '2548279', '2562111', '2553096', '2508921', '2538088', '2540726', '2560382', '2550540', '2546764', '2548078', '2505474', '2537375', '2533419', '2529870', '2554235', '2558719', '2516156', '2562913', '2506795', '2517248', '2535096', '2504213', '2506083', '2510523', '2532130', '2506172', '2564004', '2565899', '2543677', '2530530', '2518461', '2526154', '2519751', '2509987', '2523939', '2516500', '2332175', '2513379', '2569704', '2568500', '2556500', '2561791', '2567151', '2520512', '2512542', '2542764', '2483660', '2556841', '2558254', '2505888', '2559533', '2553458', '2540201', '2563651', '2537283', '2504596', '2535267', '2539311', '2512877', '2564396', '2440497', '2550571', '2522841', '2524022', '2548114', '2525344', '2533418', '2570118', '2560010', '2512258', '2508038', '2569366', '2514711', '2504495', '2508647', '2550344', '2561280', '2561079', '2548073', '2539210', '2532155', '2553696', '2514273', '2543362', '2513542', '2520588', '2567897', '2547678', '2562110', '2556332', '2537672', '2520450', '2555808', '2537992', '2532028', '2498119', '2551768', '2550225', '2515773', '2562099', '2536221', '2550996', '2565095', '2518343', '2505047', '2501400', '2507842', '2512231', '2551938', '2514994', '2530553', '2554872', '2559877', '2516237', '2522694', '2549373', '2526174', '2518631', '2519054', '2534083', '2543321', '2470476', '2507276', '2538127', '2527563', '2517993', '2509155', '2516989', '2517289', '2517876', '2528935', '2542092', '2539355', '2524142', '2355823', '2506301', '2504020', '2517992', '2514492', '2525445', '2547388', '2527277', '2524747', '2527899', '2545816', '2545594', '2550316', '2556852', '2548956', '2545534', '2547896', '2549260', '2549507', '2516525', '2536494', '2552587', '2560600', '2529646', '2559521', '2545623', '2540127', '2530303', '2543927', '2547407', '2501665', '2509281', '2046275', '2541686', '2536261', '2555519', '2534121', '2262233', '2535516', '2527320', '2500611', '2536981', '2525560', '2510745', '2527422', '2567336', '2537133', '2527935', '2555663', '2547587', '2512737', '2569734', '2535655', '2510528', '2515728', '2522925', '2540290', '2525505', '2549633', '2547093', '2556619', '2541365', '2515208', '2539435', '2510000', '2552776', '2520748', '2562157', '2567629', '2538621', '2511709', '2568396', '2549793', '2552418', '2568041', '2514226', '2555472', '2561120', '2519250', '2495676', '2539420', '2545323', '2546049', '2543281', '2565828', '2325308', '2565489', '2560391', '2561000', '2564241', '2562260', '2523311', '2523503', '2552317', '2560236', '2569258', '2568079', '2537803', '2541647', '2517788', '2522565', '2552407', '2531473', '2489862', '2517221', '2554981', '2533550', '2504220', '2562124', '2513694', '2512353', '2547279', '2511378', '2507009', '2533804', '2505149', '2256399', '2507216', '2490969', '2545833', '2512098', '2537696', '2157198', '2548351', '2538380', '1297407', '2511533', '2525348', '2515989', '2511431', '2507268', '2548391', '2559106', '2538917', '2517357', '2534622', '1134838', '2560373', '2552621', '2525329', '2507184', '2541471', '2549038', '2542570', '2529706', '2501001', '2504059', '2541354', '2509431', '2543748', '2426177', '2509663', '2533761', '2519890', '2443688', '2561955', '2514288', '2525582', '2520346', '2550534', '2530678', '2505849', '2547066', '2522090', '2526448', '2512961', '2506944', '2517803', '2523347', '2543164', '2519242', '2555909', '2520097', '2525558', '2506067', '2514562', '2519058', '2544563', '2532112', '2569397', '2529284', '2535099', '2539143', '2498473', '2509961', '2524049', '2541081', '2556976', '2372923', '2518538', '2563848', '2568741', '2554971', '2527984', '2528091', '2530626', '2553824', '2537556', '2567238', '2565444', '2515320', '2515845', '2535513', '2531022', '2535101', '2561400', '2550495', '2508750', '2564182', '2555570', '2561642', '2518786', '2525165', '2533526', '2516880', '2553982', '2569154', '2522708', '2512121', '2530130', '2535608', '2507903', '2568914', '2535849', '2558305', '2558407', '2536863', '2540762', '2532699', '2560297', '2509435', '2517502', '2537009', '2507629', '2567989', '2540908', '2568846', '2510604', '2544339', '2548916', '2552409', '2562072', '2515544', '2542681', '2540833', '2546493', '2524253', '2516823', '2553326', '2517943', '2525870', '2532455', '2527832', '2517848', '2399723', '2514353', '2546414', '2561042', '2566877', '2534971', '2535198', '2564052', '2521080', '2512670', '2529716', '2557067', '2568159', '2551777', '2532660', '2516817', '2538277', '2547873', '2546840', '2535303', '2563817', '2529184', '2547614', '2557393', '2538768', '2557962', '2560581', '2545070', '2410598', '2524232', '2568140', '2569052', '2544599', '2552713', '2514801', '2552402', '2525909', '2564750', '2521898', '2530816', '2554192', '2552633', '2520425', '2542203', '2523215', '2546746', '2486215', '2504853', '2517443', '2536901', '2549022', '2507847', '2523512', '2505539', '2506205', '2515324', '2558436', '2561202', '2542584', '2510430', '2542742', '2506270', '2530188', '2550384', '2554597', '2542897', '2569102', '2553715', '2550812', '2539016', '2566373', '2524167', '2530256', '2339332', '2508052', '2426584', '2517562', '2538617', '2563799', '2555350', '2564840', '2566066', '2525499', '2550658', '2470224', '2514292', '2505023', '2556987', '2560260', '2535866', '2567586', '2557160', '2545407', '2532080', '2539184', '2533393', '2530435', '2536504', '2543526', '2550127', '2510243', '2545782', '2545007', '2568622', '2552377', '2536491', '2569649', '2525421', '2532724', '2564856', '2556354', '2514296', '2565341', '2566844', '2547921', '2566546', '2508818', '2563873', '2538797', '2533440', '2538180', '2535156', '2539404', '2555188', '2551445', '2503959', '2549532', '2515170', '2190693', '2542870', '2519917', '2525417', '2560170', '2511196', '2543012', '2562697', '2339042', '2563731', '2528156', '2555657', '2515512', '2570632', '2533397', '2565653', '1155067', '2567658', '2534742', '2531860', '2400614', '2532454', '2525670', '2530824', '2554404', '2531592', '2287793', '2540338', '2552939', '2551870', '2506964', '2551953', '2522050', '2561526', '2566910', '2504292', '2528979', '2549679', '2514387', '2543676', '2521510', '2534748', '2503978', '2556388', '2545297', '2521176', '2566305', '2532464', '2517918', '2508578', '2569960', '2522267', '2554291', '2555606', '2529641', '2527912', '2540628', '2511900', '2550424', '2561712', '2477719', '2539816', '2534326', '2543243', '2523953', '2507630', '2565088', '2561819', '2509350', '2551259', '2512102', '2538038', '2527770', '2543435', '2513292', '2502520', '2438309', '2559991', '2559906', '2559926', '2147165', '2527774', '2555459', '2565121', '2564147', '2526254', '2517267', '2520668', '2470217', '2559467', '2570109', '2551213', '1285409', '2518616', '2562899', '2550831', '2523580', '2564279', '2551058', '2553205', '2535944', '2467866', '2518212', '2515850', '2524184', '2531102', '2517370', '2531206', '2541721', '2536666', '2567835', '2518719', '2567427', '2540496', '2495602', '2522280', '2558509', '2472169', '2549321', '2540768', '2539490', '2523511', '2553606', '2551220', '2534381', '2517183', '2509116', '2524724', '2322987', '2554792', '2543339', '2513909', '2517204', '2527246', '2505489', '2517163', '2565262', '2552930', '2510786', '2543258', '2529294', '2519413', '2513422', '2534562', '2556393', '2510556', '2544697', '2569112', '2547615', '2534540', '2506741', '2513844', '2559019', '2493375', '2389301', '2524628', '2523770', '2534419', '2535464', '2522129', '2563600', '2535177', '2505007', '2506422', '2539646', '2540117', '2535161', '2549154', '2507444', '2519522', '2517455', '2525572', '2541407', '2528288', '2508996', '2540995', '2531096', '2527501', '2510266', '2545410', '2537898', '2503985', '2525509', '2528121', '2565477', '2558589', '2504745', '2525747', '2521833', '2537328', '2538864', '2526278', '2505552', '2516957', '2548340', '2541470', '2535919', '2528676', '2517782', '2452137', '2568731', '2537323', '2512772', '2523935', '2558160', '2565697', '2531384', '2528598', '2535942', '2542475', '2544881', '2534943', '2464029', '2554560', '2537615', '2520422', '2540081', '2518714', '2530780', '2544893', '2522213', '2562313', '2529476', '2531885', '2514928', '2548495', '2550726', '2499520', '2516472', '2567362', '2505336', '2567775', '2504681', '2519335', '2509468', '2520196', '2374654', '2511921', '2555077', '2554793', '2565103', '2537428', '2517418', '2562080', '2521521', '2509910', '2559092', '2421259', '2526957', '2505433', '2569322', '2570047', '2540393', '2546136', '2561452', '2541363', '1952142', '2508041', '2528449', '2568484', '2517424', '2557453', '2523412', '2545293', '2525359', '2510273', '2516308', '2511573', '2543964', '2520117', '2557208', '2563944', '2565353', '2567662', '2523285', '2529201', '2505375', '2525341', '2559456', '2506849', '2528910', '2546500', '2523587', '2559010', '2246170', '2528657', '2563975', '2564313', '2555621', '2543631', '2520637', '2554424', '2504833', '2520511', '2526963', '2545295', '2524288', '2566591', '2538509', '2533767', '2547472', '2527448', '2530339', '2552030', '2557305', '2507315', '2552861', '2547599', '2542575', '2527002', '2522592', '2510563', '2473137', '2538116', '2539979', '2566079', '2494986', '2532288', '2530947', '2567163', '2517957', '2457147', '2545193', '2526893', '2233794', '2503758', '2524853', '2545772', '2554450', '2506751', '1017278', '2550615', '2556897', '2552944', '2506078', '2569739', '2543831', '2515303', '2535115', '2511790', '2515399', '2564082', '2551258', '2568329', '2545103', '2490134', '2483236', '2523192', '2564363', '2546217', '2552843', '2520416', '2565393', '2447086', '2523481', '2558697', '2545691', '2544889', '2530063', '2538790', '2509729', '2523165', '2550927', '2548394', '2558220', '2525618', '2509649', '2558233', '1436119', '2568163', '2560849', '2555830', '2519637', '2543383', '2565387', '2519126', '2504031', '2541595', '2559972', '2507056', '2568184', '2506312', '2509062', '2561264', '2518902', '2534837', '2560840', '2566885', '2539436', '2557976', '2541396', '2521017', '2534362', '2565923', '2548061', '2506770', '2569730', '2564674', '2536052', '2514601', '2550573', '2557582', '2554423', '2532116', '2544655', '2552641', '2559084', '2412620', '2564974', '2494597', '2567443', '2535504', '2353184', '2545934', '2541605', '2387738', '2422344', '2546561', '2532685', '2522188', '2554849', '2509343', '2558313', '2514977', '2547086', '2559347', '2562555', '2515873', '2507909', '2521371', '2519390', '2549825', '2328035', '2521459', '2520974', '2558714', '2506976', '2539751', '2506540', '2503941', '2544579', '2524225', '2570556', '2548432', '2514319', '2510140', '2561480', '2540415', '2530681', '2535169', '2512281', '2556809', '2534772', '2568225', '2554264', '2568333', '2506640', '2504700', '2549505', '2550120', '2556290', '2515697', '2563800', '2565165', '2544226', '2505235', '2518178', '2554157', '2544637', '2557675', '2556890', '2507262', '2316212', '2538627', '2504930', '2546525', '2559311', '2544373', '2555934', '2524732', '2514674', '2508433', '2507121', '2504398', '2515691', '2523924', '2522747', '2526446', '2537209', '2554550', '2519398', '2569072', '2550899', '2548997', '2515362', '2520235', '2550730', '2537949', '2516135', '2552949', '2521465', '2567962', '2529747', '2500418', '2505135', '2494033', '2484730', '2520628', '2525921', '2512757', '2532325', '2549688', '2561588', '2497859', '2570606', '2531857', '2532747', '2537658', '2562420', '2503821', '2509677', '2553692', '2558209', '2509710', '2527381', '2557659', '2556422', '2560384', '2172619', '2533405', '2570490', '2536975', '2567833', '2537029', '2451482', '2507474', '2528723', '2555625', '2522393', '2527552', '2554353', '2565407', '2553401', '2567767', '2564213', '2512372', '2505662', '2548271', '2552672', '2556918', '2539492', '2328319', '2542244', '2524260', '2510453', '2538658', '2550570', '2528152', '2542164', '2568796', '2510658', '2555321', '2550163', '2510249', '2517500', '2569940', '2521251', '2507310', '2542492', '2508400', '2507304', '2495735', '2543956', '2565790', '2513044', '2555598', '2434662', '2554468', '2570310', '2535930', '2534515', '2559599', '2531843', '2552171', '2562056', '2552571', '2512811', '2514493', '2540254', '2551807', '2506985', '2524527', '2554164', '2508716', '2538605', '2567421', '2561681', '2538345', '2513275', '2551641', '2543122', '2559319', '2533768', '2518068', '2541545', '2554202', '2554531', '2556784', '2558251', '2553916', '2536569', '2528693', '2532416', '2528475', '2568456', '2555429', '2532330', '2566942', '2509598', '1299656', '2527468', '2553682', '2529834', '2550557', '2518573', '2542949', '2533403', '2510603', '2567143', '2212177', '2561073', '2512818', '2516969', '2507812', '2525611', '2568345', '2509840', '2568697', '2560996', '2562506', '2544368', '2542319', '2557344', '2527957', '2329160', '2566517', '2552216', '2534014', '2513928', '2526641', '2560289', '2509996', '2345141', '2540904', '2531835', '2525819', '2514010', '2523043', '2550724', '2511509', '2564515', '2502175', '2538109', '2548365', '2522171', '2485171', '2474821', '2535220', '2569788', '2566568', '2549985', '2561235', '2528185', '2557498', '2520386', '2569313', '2563592', '2545457', '2568383', '2548443', '2565821', '2565500', '2533333', '2529219', '2512218', '2559077', '2565111', '2542706', '2458761', '2563564', '2556255', '2518645', '2544910', '2526008', '2493076', '2517980', '2570352', '2559988', '2503769', '2555031', '2512300', '2509232', '2542220', '2541194', '2508725', '2534055', '2524929', '2557733', '2456111', '2537528', '2547805', '2547040', '2544236', '2540779', '2513669', '2563840', '2523394', '2522779', '2524530', '2558629', '2551089', '2561217', '2570092', '1386391', '2569773', '2516059', '2562692', '2556583', '2167208', '2504950', '2527265', '2530297', '2544015', '2536128', '2538146', '2558256', '2566962', '2559820', '2511543', '2560614', '2564959', '2511478', '2561760', '2511393', '2525835', '2520644', '2519909', '2515025', '2472627', '2564923', '2558044', '2557010', '2551085', '2504855', '2517738', '2506236', '2539415', '2533062', '2506923', '2520859', '2519143', '2544127', '2508751', '2528348', '2561633', '2170581', '2552126', '2526754', '2539975', '2512419', '2516642', '2550258', '2456750', '2524796', '2556761', '2534734', '2331649', '2521188', '2540085', '2549595', '2541604', '2550993', '2526543', '2402132', '2561935', '2514816', '2407579', '2561259', '2458554', '2544979', '2544529', '2524441', '2504948', '2518353', '2559563', '2540161', '2542655', '2536595', '2508694', '2566026', '2537830', '2539885', '2569529', '2507638', '2506447', '2570016', '2551694', '2540423', '2490365', '2562378', '2565843', '2567790', '2563390', '2567982', '2550318', '2563593', '2557611', '2567716', '2517201', '2509930', '2538821', '2554412', '2507901', '2537337', '2540217', '2557968', '2520759', '2525622', '2557503', '2519237', '2511138', '2522243', '2553526', '2560620', '2543894', '2530306', '2551568', '2505646', '2550013', '2538854', '2544422', '2537143', '2564263', '2400641', '2527334', '2566064', '2559442', '2566136', '2504207', '2539410', '2561719', '2512260', '2528749', '2529527', '2531385', '2509761', '2555771', '2555268', '2559773', '2513691', '2552572', '2508581', '2536971', '2553469', '2546233', '2552394', '2564918', '2528535', '2535009', '2528720', '2534455', '2516299', '2511035', '2512950', '2509540', '2513649', '2540903', '2531046', '2509878', '2554258', '2545852', '2531955', '2561963', '2564550', '2539579', '2559390', '2519484', '2550368', '2521274', '2535211', '2553099', '2435061', '2553515', '2518904', '2524127', '2542642', '2555045', '2557103', '2526165', '2510076', '2544057', '2517297', '2559874', '2300430', '2528474', '2510550', '2520072', '2558022', '2522229', '2535138', '2570196', '2451763', '2520510', '2508461', '2537641', '2507096', '2511130', '2542448', '2547010', '2557228', '2245639', '2513592', '2504898', '2567770', '2557516', '2542476', '2503999', '2518309', '2533800', '2563827', '2568111', '2536816', '2555940', '2504941', '2522403', '2536118', '2512377', '2519303', '2534714', '2513670', '2517906', '2539552', '2535037', '2561555', '2530085', '2566158', '2490921', '2547284', '2556831', '2528757', '2540042', '2515652', '2563565', '2543554', '2554929', '2551991', '2529096', '2536938', '2517616', '2502221', '2531953', '2514097', '2319578', '2552853', '2566380', '2570464', '2267634', '2570434', '2562008', '2476602', '2554627', '2551051', '2386028', '2538182', '2285707', '2521674', '2559664', '2520438', '2550928', '2515196', '2550624', '2432134', '2539447', '2505446', '2507970', '2544830', '2547999', '2552739', '2272746', '2529642', '2526316', '2545871', '2549425', '2543104', '2545289', '2567275', '2564122', '2565863', '2564601', '2537445', '2560148', '2520004', '2542564', '2525839', '2541785', '2513264', '2559814', '2504338', '2550784', '2534626', '2504297', '2545422', '2568147', '2505666', '2530790', '2557241', '2544822', '2556148', '2536805', '2528014', '2531447', '2546763', '2508534', '2320835', '2374864', '2541379', '2559359', '2529070', '2563392', '2556902', '2498153', '2539268', '2558517', '2513700', '2434582', '2544678', '2529634', '2532033', '2540860', '2536585', '2570150', '2514763', '2520048', '2513836', '2545783', '2540105', '2553402', '2553725', '2556140', '2537038', '2547044', '2556103', '2513177', '2548328', '2549016', '2557883', '2553044', '2507021', '2560728', '2535529', '2560989', '2550104', '2545946', '2544736', '2557463', '2554613', '2537427', '2532651', '2303812', '2544656', '2512438', '2550067', '2568918', '2551554', '2439260', '2506213', '2512963', '2512519', '2548131', '2528582', '2536645', '2523329', '2530226', '2507641', '2542787', '2547981', '2558458', '2570040', '2551287', '2566446', '2563173', '2531613', '2563619', '2554995', '2507049', '2515591', '2554441', '2511482', '2505855', '2291486', '2534783', '2540280', '2569483', '2516423', '2544048', '2557490', '2540971', '2506851', '2567899', '2542256', '2554153', '2522167', '2555680', '2510232', '2532934', '2533281', '2570611', '2564588', '2551128', '2567590', '2508711', '2542061', '2558762', '2556488', '2526818', '2569834', '2552779', '2550967', '2562326', '2539378', '2535191', '2512420', '2544975', '2550895', '2542631', '2548418', '2505842', '2519794', '2303401', '2520936', '2519843', '2522419', '2504844', '2516577', '2505635', '2566753', '2568900', '2526326', '2568242', '2559609', '2549519', '2521493', '2553791', '2489178', '2509234', '2530807', '2520543', '2563175', '2547929', '2539444', '2563381', '2183021', '2565005', '2533416', '2543297', '2508914', '2516407', '2412319', '2496994', '2543670', '2570478', '2554181', '2513667', '2517184', '2157492', '2509498', '2461452', '2514747', '2508877', '2561910', '2562575', '2531198', '2518462', '2536152', '2529302', '2510540', '2554151', '2518825', '2540011', '2565425', '2522690', '2534095', '2549374', '2551648', '2542169', '2519071', '2533451', '2521316', '2536654', '2567883', '2522320', '2560882', '2513905', '2547243', '2559268', '2562521', '2124775', '2544868', '2563667', '2511699', '2204056', '2546110', '2537460', '2544556', '2563777', '2567734', '2525781', '2516033', '2554271', '2531716', '2511151', '2481109', '2505487', '2561167', '2522828', '2543500', '1017251', '2566487', '2563880', '2556083', '2568847', '2550190', '2558939', '2547928', '2515897', '2560335', '2505390', '2531199', '2527083', '2520677', '2505868', '2517004', '2525333', '2536169', '2560063', '2538661', '2506007', '2504281', '2522137', '2565734', '2508863', '2522743', '2549366', '2556873', '2544450', '2512088', '2540347', '2561227', '2537662', '2556337', '2507832', '2525919', '2500430', '2506254', '2508710', '2548953', '2538568', '1702896', '2519785', '2543007', '2543168', '2507762', '2513934', '2535281', '2552414', '2531273', '2552567', '2569910', '2506963', '2527495', '2533131', '2526309', '2529083', '2527844', '2538056', '2503650', '2544294', '2529687', '2563744', '2506220', '2541995', '2538707', '2335951', '2552664', '2561219', '2512499', '2504852', '2556799', '2549196', '2553381', '2545486', '2570534', '2554035', '2532186', '2506445', '2513603', '2542005', '2557471', '2528435', '2562240', '2559340', '2526131', '2507269', '2545381', '2569926', '2509358', '2561220', '2515669', '2537809', '2475781', '2550070', '2525820', '2550147', '2483134', '2560093', '2414922', '2531431', '2538850', '2541901', '2566209', '2565812', '2541010', '2561882', '2522949', '2125484', '2544566', '1977426', '2568664', '2562905', '2559777', '2522624', '2504589', '2515355', '2544142', '2567178', '2534778', '2559190', '2559911', '2539924', '2532479', '2552159', '2545813', '2486926', '2511202', '2541634', '2569066', '2534664', '2569964', '2513006', '2553625', '2560618', '2556715', '2552504', '2514009', '2538635', '2514011', '2533947', '2566276', '2528291', '2558787', '2552456', '2529701', '2541500', '2551949', '2531723', '2548360', '2558312', '2521698', '2546458', '2515264', '2568207', '2412256', '2527295', '2517063', '2533878', '2566095', '2558819', '2514294', '2553566', '2519330', '2545775', '2536415', '2547490', '2539706', '2552403', '2534803', '2512004', '1136101', '2516826', '2542851', '2516792', '2540874', '2548815', '2549268', '2520552', '2554554', '2528863', '2567379', '2542431', '2569186', '2517606', '2562057', '2554256', '2553388', '2421453', '2428690', '2465448', '2423767', '2524557', '2534676', '2560539', '2532619', '2564753', '2532235', '2560199', '2542516', '2526732', '2568584', '2552254', '2539296', '2517659', '2537583', '2536922', '2555777', '2565774', '2562121', '2537698', '2523167', '2516132', '2527449', '2539267', '2496457', '2541757', '2551656', '2535409', '2540882', '2527627', '2527437', '2518483', '2522619', '2570484', '2521584', '2551209', '2560521', '2530380', '2516843', '2527022', '2543250', '2534959', '2516986', '2542248', '2551414', '2545023', '2540329', '2517579', '2547689', '2561971', '2563748', '2522605', '2563733', '2543287', '2529147', '2507960', '2521010', '2504195', '2546137', '2568169', '2545884', '2550395', '2539119', '2547583', '2569770', '2557322', '2527345', '2560557', '2482241', '2520082', '2510774', '2549450', '2514300', '2505514', '2539126', '2525810', '2543442', '2563011', '2516803', '2483918', '2545351', '1623740', '2518730', '2560508', '2555785', '2532889', '2420809', '2565810', '2545421', '2565017', '1101181', '2567929', '2543359', '2531482', '2568740', '2553282', '2472622', '2548105', '2560970', '2530139', '2556914', '2543218', '2529483', '2542202', '2516017', '2505989', '2516798', '2432981', '2568288', '2483505', '2552008', '2556709', '2529704', '2308450', '2564440', '2504755', '2541689', '2524166', '2504792', '2566528', '2540516', '2558201', '2508281', '2544371', '2541381', '2554321', '2526361', '2546004', '2569319', '2553603', '2567915', '2566481', '2512224', '2466711', '2559306', '2555838', '2509053', '2511108', '2556669', '2564766', '2564509', '2323376', '2520083', '2520030', '2562294', '2544943', '2506867', '2511428', '2504058', '2506725', '2518702', '2512820', '2512929', '2517080', '2557012', '2521519', '2512335', '2429254', '2527546', '2526064', '2533363', '2547688', '2532223', '2568992', '2547390', '2520626', '2562550', '2565127', '2541399', '2558545', '2545426', '2514322', '2504959', '2538632', '2507227', '2380160', '2507655', '2514500', '2526630', '2553201', '2524820', '2526599', '2437585', '2552652', '2520165', '2567634', '2512679', '2568736', '2459982', '2537064', '2560284', '2524642', '2514042', '2563127', '2513108', '2304204', '2517574', '2529104', '2560027', '2533563', '2566599', '2504790', '2543600', '2537989', '2558968', '2501236', '2532791', '2541553', '2512490', '2553511', '2512795', '2506850', '2567877', '2508981', '2521944', '2554552', '2566374', '2551272', '2564652', '2514069', '2533604', '2553297', '2551946', '2522202', '2539433', '2559807', '2518921', '2557385', '2532219', '2532974', '2570413', '2546203', '2533582', '2565339', '2515909', '2548525', '2503386', '2531904', '2570156', '2515629', '2569735', '2556859', '2505053', '2534264', '2538875', '2513369', '2523916', '2548656', '2557759', '2562222', '2532331', '2556018', '2525173', '2506228', '2550613', '2551314', '2564353', '2541538', '2509443', '2562062', '2563400', '2500170', '2540586', '2545882', '2567026', '2401563', '2557436', '2528284', '2559407', '2385955', '2540702', '2284915', '2508597', '2546878', '2476359', '2530951', '2514093', '2512814', '2528709', '2509864', '2520721', '2542860', '2559908', '2512893', '2540313', '2513774', '2526771', '2509514', '2567474', '2530577', '2510919', '2567815', '2561070', '2521599', '2504924', '2540832', '2509276', '2548461', '2547431', '2532546', '2538086', '2551271', '2523925', '2524119', '2514795', '2508970', '2482625', '2511823', '2564136', '2519417', '2536651', '2542237', '2519505', '2558023', '2526757', '2514266', '2518652', '2526491', '2506226', '2557205', '2511313', '2566174', '2553250', '2521566', '2535985', '2556537', '2178831', '2562985', '2542844', '2519784', '2529620', '2510482', '2532638', '2527729', '2561829', '2516438', '2549589', '2554111', '2531756', '2539291', '2568650', '2507166', '2561337', '2540821', '2567046', '2513211', '2551201', '2555006', '2558684', '2537931', '2556394', '2277142', '2516224', '2545304', '2562912', '2304329', '2539797', '2513099', '2131905', '2552289', '2401424', '2548603', '2532810', '2505321', '2549916', '2566072', '2528730', '2503159', '2561956', '2509195', '2543302', '2262488', '2522109', '2482807', '2518211', '2495953', '2509144', '2566332', '2512186', '2509797', '2503785', '2553086', '2528830', '2508835', '2560018', '2564742', '2544791', '2535232', '2524629', '2525946', '2539873', '2515792', '2515258', '2553640', '2567292', '2547427', '2508656', '2519111', '2570282', '2523999', '2557386', '2553598', '2546508', '2507051', '2499878', '2548055', '2505232', '2536448', '2524395', '2555780', '2508260', '2552244', '2525279', '2532135', '2523713', '2567383', '2509418', '2549235', '2558816', '2562333', '2561965', '2547685', '2562871', '2549665', '2514520', '2518685', '2560340', '2401617', '2527301', '2540819', '2561126', '2552190', '2555016', '2525865', '2529046', '2536978', '2454024', '2553397', '2570252', '2542480', '2544996', '2488011', '2565123', '2506353', '2560099', '2459366', '2558602', '2549284', '2556723', '2545565', '2559271', '2538024', '2533649', '2518480', '2559346', '2529454', '2508762', '2568619', '2283459', '2375526', '1780034', '1924473', '2316005', '2002805', '2395319', '2365914', '2305759', '2213695', '2366658', '1029707', '1192464', '1813785', '1029268', '1379272', '1011086', '2371832', '2318004', '2362161', '2200857', '1064065', '1748391', '2344062', '1068397', '2029979', '2372717', '2095320', '2054018', '2357472', '2365361', '1297635', '2235226', '2396314', '1108951', '1116289', '2362346', '2076317', '2364570', '1913775', '1222485', '2397521', '2121032', '2181320', '2353948', '2371457', '1043408', '2378662', '1142002', '2293307', '2058905', '2149796', '1875960', '2374830', '2371415', '2352155', '2389128', '2373935', '2352858', '2145638', '2358900', '1907431', '2365136', '2231168', '1180410', '2172131', '1283908', '2345851', '2057101', '2289974', '1687313', '2063428', '1060636', '1973979', '1052929', '1656461', '2013947', '1996867', '1243712', '2307148', '2309830', '1315143', '2241635', '1382069', '1183968', '2364957', '1040119', '1542843', '2384912', '1148820', '2365785', '2266874', '2365498', '2308788', '1997330', '1014427', '2208699', '1067783', '2076246', '2379859', '2367191', '2265364', '1283431', '1866365', '1186475', '1072831', '2358829', '2085483', '2310146', '1741332', '1873327', '1024665', '1062828', '2285245', '2383894', '1190970', '2331045', '2112373', '1537997', '2301031', '1192462', '2361968', '1230220', '2258570', '2232174', '2351093', '2330734', '2369444', '1846479', '2347686', '1888200', '2331609', '1392994', '1070313', '1979207', '1037596', '2034689', '1158194', '1464700', '2347854', '2229916', '2391158', '1179669', '2333637', '1088589', '1024765', '2367199', '2355162', '1024109', '2362404', '2349220', '1272128', '2239245', '2390869', '1423631', '1623582', '2048597', '2379945', '1109153', '2353218', '2356699', '1113107', '2366310', '1264012', '1948268', '2366028', '2344449', '2343178', '1186460', '1793474', '2362595', '2249397', '1849804', '1557280', '1766158', '2061569', '1868169', '2332066', '1313374', '1055649', '2311249', '2377735', '2319752', '2330377', '1062902', '1037894', '1902134', '1015940', '1406672', '2359849', '2352980', '1548913', '1092114', '1447037', '1318860', '1861644', '1436214', '1938048', '1852864', '1078055', '2365939', '1025539', '2292305', '2362116', '1227474', '2354155', '1335250', '2376347', '2323213', '1520430', '1309150', '1335798', '1124638', '2351905', '1188239', '1009341', '2359714', '2080517', '2303585', '1142776', '1179638', '1187413', '1793238', '2332532', '2365840', '1057809', '2310014', '2391711', '1037034', '1971511', '1881545', '1046923', '1231534', '2246760', '1800586', '2339853', '2048442', '2255239', '2307322', '2378771', '1072165', '1528843', '2313782', '1403828', '2275255', '2384162', '1075139', '1101357', '1825192', '2116858', '1051053', '2362415', '2372001', '2300492', '2156252', '2302568', '1057896', '1370785', '1005905', '2366720', '2347809', '1168876', '2283570', '1007494', '2318364', '1300985', '1923433', '2259021', '1215282', '1766250', '1384876', '1268846', '1237964', '2339003', '2288407', '2367967', '2377248', '2396380', '1129569', '1022650', '2332450', '1550762', '1721061', '2303253', '2388613', '1196471', '2297840', '2014861', '1075168', '1212113', '2068562', '1099579', '1277131', '2376320', '2371488', '1456389', '1193294', '1099076', '2384942', '2366194', '1030580', '1754795', '2367013', '1173449', '1135938', '1414372', '1010714', '2374096', '1015379', '2082236', '1421849', '2372905', '1394317', '2363728', '2100112', '1046960', '1942396', '1202808', '2336515', '2363949', '2093898', '2133820', '1206896', '2299193', '1923220', '1033380', '1777607', '2283921', '1239767', '2270042', '1865441', '1109173', '2139544', '1105032', '2355164', '2373592', '1195600', '1124972', '2013599', '1422026', '2140099', '1017325', '2385961', '2329477', '1955374', '2382409', '1360176', '2075285', '2229731', '1222725', '1029286', '2369351', '2312913', '2091024', '1062150', '1965349', '2387237', '1055334', '2270437', '1171446', '1916468', '2358711', '1857147', '2224658', '2102279', '2366654', '2357286', '2153692', '1180633', '1064188', '1241971', '2293966', '1985790', '1325287', '2267368', '2116114', '1027502', '2380456', '2333411', '1006035', '2342724', '2363861', '1284881', '1288466', '2364456', '2315398', '1898528', '1941375', '1594355', '2377389', '2364641', '1538520', '1755200', '2275143', '2103783', '1159427', '1022141', '2041210', '2192852', '1189033', '2050307', '2032059', '2052009', '1508739', '2224841', '1000377', '2195695', '2268388', '2203700', '1832301', '1024590', '1871680', '2385450', '2374099', '1288222', '1015136', '1060131', '2317256', '2380817', '1888558', '1027443', '2366995', '1772086', '1091155', '1388522', '1217746', '1885847', '2271220', '1612038', '1785965', '2246904', '2131258', '2366999', '2367120', '1884820', '1467864', '1409669', '1062860', '1202213', '2359703', '2316915', '1807063', '1979699', '1187991', '2372016', '2342298', '2367374', '2112209', '2142255', '2119361', '1810998', '1201113', '2333742', '1203457', '1368203', '2361036', '1100719', '2253349', '1961069', '1014417', '1218454', '1706795', '1218348', '2261675', '2321856', '1080928', '1014609', '1137781', '1192621', '1017031', '1051613', '1115888', '1049700', '2320960', '1104373', '2362998', '1861680', '2342215', '1192719', '2367946', '1673139', '2358573', '2280146', '2379375', '2360540', '1598848', '2378876', '1648415', '1124433', '1421894', '1656758', '1113910', '1534115', '1624818', '2026387', '2365175', '1415142', '1239728', '2371048', '1434269', '2362623', '1092767', '2360046', '2295085', '2153397', '2347641', '2255114', '2022550', '2360215', '1999875', '1195619', '2285567', '1114176', '2233621', '1998920', '1032468', '2389911', '2383096', '1880242', '2010725', '2397509', '2342795', '2328066', '1327688', '1342748', '1411976', '2085240', '1967968', '1788116', '2363616', '2312817', '2361753', '2380282', '1328112', '2250276', '1921962', '1875050', '2275300', '2348176', '2380970', '2325898', '1233656', '2357018', '1275244', '1503241', '2378420', '2376695', '2370030', '2386342', '2303891', '1847844', '1509028', '1175485', '2346840', '2395852', '2366110', '2169829', '2372682', '1927938', '1543777', '2343270', '1854878', '1704255', '1365092', '2379222', '1301866', '2374101', '1094189', '2068987', '2330245', '1028946', '2316620', '1809815', '1251350', '1421197', '1028973', '2252355', '1830118', '2233882', '2313646', '2364096', '2212818', '2383064', '1252367', '2374735', '1461661', '1509523', '2315109', '2394739', '2223818', '2382155', '1052918', '1067895', '1028242', '2016321', '1014657', '2310364', '2388446', '1875493', '1032254', '2081815', '1261321', '2308258', '1009134', '2277639', '2361334', '1122655', '1041664', '2359068', '1946820', '2325891', '1848960', '1060458', '2040619', '2316781', '1699390', '2298153', '2059126', '2371187', '2358806', '1904841', '2351855', '2372474', '2378855', '1765462', '1072753', '1005293', '1122599', '1074261', '1971337', '2367676', '1680852', '1420918', '2358347', '1333630', '1053742', '2364127', '2049321', '2137145', '2367739', '1063031', '1211619', '1085156', '2364391', '1070770', '1020950', '2037813', '2302655', '1422940', '2064970', '1132875', '1208504', '2371102', '2247809', '1033501', '2018880', '1006118', '2155170', '1067608', '1165841', '1215777', '2273468', '2366993', '1000468', '2074984', '1015751', '2349243', '2377557', '2003912', '1457004', '1998246', '2299144', '2038212', '2365033', '2357515', '2080884', '2176572', '2372205', '1224758', '2140041', '1143144', '2392388', '2378743', '1479425', '1888232', '2246399', '2236049', '1078287', '1378663', '1013786', '1510502', '2361128', '2376804', '1616655', '2385535', '2314798', '2183096', '2364086', '2373802', '1468065', '2391142', '2328122', '1019179', '2349205', '2330622', '1467342', '1661690', '1225270', '1862029', '2131959', '1538418', '2213576', '2305266', '1847634', '1078085', '2352926', '2328581', '2106576', '2355121', '1414040', '2357741', '1010381', '2348668', '1099813', '2360980', '1018508', '2352593', '1285600', '1366220', '2376030', '2377294', '1572073', '1936197', '1010042', '2372580', '2226958', '2364052', '1236177', '1885671', '2355816', '2371618', '2287807', '2311440', '1858551', '1448104', '1015639', '2297738', '2210840', '1059388', '2310194', '1097905', '1433778', '2317216', '1079015', '2208515', '1024553', '1035721', '1419283', '1282581', '2304615', '1189919', '2367006', '2344920', '1698837', '1807040', '1466200', '1192613', '2372373', '2368291', '2308558', '1039022', '1795596', '1147232', '2296086', '1219458', '1383591', '1930085', '2315143', '1084223', '2358172', '2378315', '2363767', '1859708', '2270433', '1024753', '2374219', '1722391', '2311629', '1127469', '2365668', '2312099', '2368169', '1710327', '2299562', '2379023', '2394112', '2387409', '2349122', '1260180', '2083634', '1928684', '2354266', '2088092', '2108926', '2351752', '1081425', '1020480', '2350393', '2177488', '2390958', '1009852', '2149759', '1261375', '2367931', '2249769', '2171537', '2358891', '1960543', '2294662', '1469147', '1660694', '2102159', '2053760', '2316793', '2386441', '2388678', '2379783', '2349666', '1009491', '1184648', '1895262', '1987864', '1571917', '2253597', '1204790', '1921916', '1757920', '2366106', '1123202', '2344042', '2107992', '1179067', '1958075', '2222239', '2346322', '1121954', '2125677', '1034383', '1112489', '1417267', '2365243', '1099039', '2286972', '1991084', '2390651', '1064154', '1031802', '1051612', '2144505', '2339379', '2362299', '2369901', '2380704', '1087975', '1449874', '1811451', '2371752', '1117210', '2347899', '2370471', '1774982', '2368984', '2387977', '1082419', '1867940', '2310921', '1294020', '2261945', '2373643', '2394389', '2373024', '2347048', '2387770', '1964982', '1416919', '2028715', '2381036', '2182584', '2188781', '1008139', '1511863', '1036919', '1752810', '1050990', '1836962', '1302322')\n",
      "),\n",
      "w_approved\n",
      "as\n",
      "(\n",
      "  select DISTINCT customerId from risk_credit_mis.loan_master_table where loantype = 'BIGLOAN' OR FLAGAPPROVAL = 1 OR FLAGDISBURSEMENT = 1  \n",
      "  or (stage1Status = 'EXPIRED' AND cddInitiatedDateAndTime IS NULL)\n",
      ")\n",
      "select *\n",
      "from\n",
      "(\n",
      "  select distinct\n",
      "  a.Customer_Id,a.TSA_Opening_date,\n",
      "  c.OFSTANDARDACCOUNTID as TSA_Account_Number, c.OfblockAmount, \n",
      "  a.TSA_Status,a.TSA_Balance,a.Solo_Stash_Balance,a.Group_Stash_Balance,a.Term_Deposit_Balance,a.Active_Term_Deposit_flag,a.Last_TSA_Credit_Date,a.Last_TSA_Debit_Date,\n",
      "  a.ARI_Flag,a.Active_Loan,a.Total_Loan_Outstanding,  case when b.customerId is not null then 1 else 0 end as Approved_Loans,\n",
      "  a.Pending_Loan_Applications,a.Hard_Reject_Loans_App,a.Soft_Reject_Loans_App,a.Cancelled_Loans_App, extract(date from a.Last_Login_Date) as Last_Login_Date,\n",
      "  a.Last_TSA_EOD_Balance_Date,a.Last_Group_Stash_Credit_Date,a.Group_Stash_Balance_Owner,a.Run_Date,a.Batch,a.Processing_Month,a.pending_loans_not_expired_not_exempt,a.expired_loans,\n",
      "  a.pending_loans_lastDt,a.expired_loans_lastDt,\n",
      "  CASE \n",
      "    WHEN tsa_status = 'Active' and (Last_TSA_Credit_Date = date '1970-01-01' and Last_Group_Stash_Credit_Date is null)\n",
      "    and (TSA_Opening_date < date '2024-06-12')   ####D-60 days(SHOULD BE SAME DATE FOR 1ST,2ND,3RD NOTIFICATION)\n",
      "    and ( round(coalesce(TSA_Balance,0) + coalesce(Solo_Stash_Balance,0) + coalesce(Group_Stash_Balance,0) + coalesce(Term_Deposit_Balance,0),2) = 0 )\n",
      "    and (Active_Loan = 0) and (COALESCE(Pending_Loan_Applications,0) = 0)\n",
      "    and (Active_Term_Deposit_flag = 0)\n",
      "    and (ARI_Flag = 'N')\n",
      "    --and (Approved_Loans = 0)  THEN 'TYPE 1'\n",
      "    and b.customerId is null  THEN 'TYPE 1'\n",
      "\n",
      "\n",
      "    WHEN tsa_status = 'Active' and Last_TSA_EOD_Balance_Date is null and (TSA_Opening_date < date '2024-06-12')  ####D-60 days(SHOULD BE SAME DATE FOR 1ST,2ND,3RD NOTIFICATION)\n",
      "    and ( round(coalesce(TSA_Balance,0) + coalesce(Solo_Stash_Balance,0) + coalesce(Group_Stash_Balance,0) + coalesce(Term_Deposit_Balance,0),2) = 0 )\n",
      "    and (Active_Loan = 0) and (COALESCE(Pending_Loan_Applications,0) = 0)\n",
      "    and (Active_Term_Deposit_flag = 0)\n",
      "    and (ARI_Flag = 'N')\n",
      "    --and (Approved_Loans = 0)\n",
      "    and b.customerId is null  \n",
      "    and (date_trunc(TSA_Opening_date,day) = date_trunc(Last_Login_Date,day)) THEN 'TYPE 2'\n",
      "\n",
      "    \n",
      "    WHEN ( round(coalesce(TSA_Balance,0) + coalesce(Solo_Stash_Balance,0) + coalesce(Group_Stash_Balance,0) + coalesce(Term_Deposit_Balance,0),2) < 1 )\n",
      "            and (Active_Loan = 0) and (COALESCE(Pending_Loan_Applications,0) = 0)\n",
      "            and (Active_Term_Deposit_flag = 0)\n",
      "            and TSA_Opening_date < date '2024-02-13'                                     ####D-180 days(SHOULD BE SAME DATE FOR 1ST,2ND,3RD NOTIFICATION)\n",
      "            and (Last_TSA_Credit_Date < date '2024-02-13'                                 ####D-180 days(SHOULD BE SAME DATE FOR 1ST,2ND,3RD NOTIFICATION)\n",
      "            and Last_TSA_Debit_Date < date '2024-02-13'                                         ####D-180 days(SHOULD BE SAME DATE FOR 1ST,2ND,3RD NOTIFICATION)\n",
      "            and coalesce(Last_Group_Stash_Credit_Date,date '1970-01-01') < date '2024-02-13' )  ####D-180 days(SHOULD BE SAME DATE FOR 1ST,2ND,3RD NOTIFICATION)\n",
      "            and tsa_status = 'Active'\n",
      "            and (ARI_Flag = 'N')\n",
      "    --and (Approved_Loans = 0)\n",
      "            and b.customerId is null  \n",
      "    THEN 'TYPE 3'\n",
      "    ELSE 'NO ACTION'\n",
      "    END AS ACTION_TYPE\n",
      "  from w_tsa A\n",
      "  left join w_approved b\n",
      "  on cast(a.Customer_Id as int64) = b.customerId\n",
      "  left join core_raw.customer_accounts c\n",
      "  on c.OFCUSTOMERID = a.Customer_Id and c.CRINTERDESC = 'Transactional Savings Account Inv_R' and c.OFISCLOSED = 'N'\n",
      "  where\n",
      "  Run_Date = date '2024-09-10'  ###DATE change here to D-1\n",
      ")\n",
      "\n"
     ]
    }
   ],
   "source": [
    "print(sq)"
   ]
  },
  {
   "cell_type": "code",
   "execution_count": 20,
   "metadata": {},
   "outputs": [
    {
     "name": "stdout",
     "output_type": "stream",
     "text": [
      "Job ID 4e2d7de1-c348-47e9-b881-f894bc3fc457 successfully executed: 100%|\u001b[32m██████████\u001b[0m|\n",
      "Downloading: 100%|\u001b[32m██████████\u001b[0m|\n"
     ]
    }
   ],
   "source": [
    "df = client.query(sq).to_dataframe(progress_bar_type = 'tqdm')"
   ]
  },
  {
   "cell_type": "code",
   "execution_count": 21,
   "metadata": {},
   "outputs": [
    {
     "data": {
      "text/html": [
       "<div>\n",
       "<style scoped>\n",
       "    .dataframe tbody tr th:only-of-type {\n",
       "        vertical-align: middle;\n",
       "    }\n",
       "\n",
       "    .dataframe tbody tr th {\n",
       "        vertical-align: top;\n",
       "    }\n",
       "\n",
       "    .dataframe thead th {\n",
       "        text-align: right;\n",
       "    }\n",
       "</style>\n",
       "<table border=\"1\" class=\"dataframe\">\n",
       "  <thead>\n",
       "    <tr style=\"text-align: right;\">\n",
       "      <th></th>\n",
       "      <th>Customer_Id</th>\n",
       "      <th>TSA_Opening_date</th>\n",
       "      <th>TSA_Account_Number</th>\n",
       "      <th>OfblockAmount</th>\n",
       "      <th>TSA_Status</th>\n",
       "      <th>TSA_Balance</th>\n",
       "      <th>Solo_Stash_Balance</th>\n",
       "      <th>Group_Stash_Balance</th>\n",
       "      <th>Term_Deposit_Balance</th>\n",
       "      <th>Active_Term_Deposit_flag</th>\n",
       "      <th>Last_TSA_Credit_Date</th>\n",
       "      <th>Last_TSA_Debit_Date</th>\n",
       "      <th>ARI_Flag</th>\n",
       "      <th>Active_Loan</th>\n",
       "      <th>Total_Loan_Outstanding</th>\n",
       "      <th>Approved_Loans</th>\n",
       "      <th>Pending_Loan_Applications</th>\n",
       "      <th>Hard_Reject_Loans_App</th>\n",
       "      <th>Soft_Reject_Loans_App</th>\n",
       "      <th>Cancelled_Loans_App</th>\n",
       "      <th>Last_Login_Date</th>\n",
       "      <th>Last_TSA_EOD_Balance_Date</th>\n",
       "      <th>Last_Group_Stash_Credit_Date</th>\n",
       "      <th>Group_Stash_Balance_Owner</th>\n",
       "      <th>Run_Date</th>\n",
       "      <th>Batch</th>\n",
       "      <th>Processing_Month</th>\n",
       "      <th>pending_loans_not_expired_not_exempt</th>\n",
       "      <th>expired_loans</th>\n",
       "      <th>pending_loans_lastDt</th>\n",
       "      <th>expired_loans_lastDt</th>\n",
       "      <th>ACTION_TYPE</th>\n",
       "    </tr>\n",
       "  </thead>\n",
       "  <tbody>\n",
       "    <tr>\n",
       "      <th>6998</th>\n",
       "      <td>2548737</td>\n",
       "      <td>2024-06-03</td>\n",
       "      <td>60825487370004</td>\n",
       "      <td>0.0</td>\n",
       "      <td>Active</td>\n",
       "      <td>0.0</td>\n",
       "      <td>0.0</td>\n",
       "      <td>0.0</td>\n",
       "      <td>0.0</td>\n",
       "      <td>0</td>\n",
       "      <td>1970-01-01</td>\n",
       "      <td>1970-01-01</td>\n",
       "      <td>N</td>\n",
       "      <td>0</td>\n",
       "      <td>0.0</td>\n",
       "      <td>0</td>\n",
       "      <td>0</td>\n",
       "      <td>1</td>\n",
       "      <td>0</td>\n",
       "      <td>0</td>\n",
       "      <td>2024-06-13</td>\n",
       "      <td>NaT</td>\n",
       "      <td>NaT</td>\n",
       "      <td>NaN</td>\n",
       "      <td>2024-09-10</td>\n",
       "      <td>Batch_1</td>\n",
       "      <td>September</td>\n",
       "      <td>0</td>\n",
       "      <td>0</td>\n",
       "      <td>NaT</td>\n",
       "      <td>NaT</td>\n",
       "      <td>TYPE 1</td>\n",
       "    </tr>\n",
       "    <tr>\n",
       "      <th>7373</th>\n",
       "      <td>2556553</td>\n",
       "      <td>2024-06-06</td>\n",
       "      <td>60825565530005</td>\n",
       "      <td>0.0</td>\n",
       "      <td>Active</td>\n",
       "      <td>0.0</td>\n",
       "      <td>0.0</td>\n",
       "      <td>0.0</td>\n",
       "      <td>0.0</td>\n",
       "      <td>0</td>\n",
       "      <td>1970-01-01</td>\n",
       "      <td>1970-01-01</td>\n",
       "      <td>N</td>\n",
       "      <td>0</td>\n",
       "      <td>0.0</td>\n",
       "      <td>0</td>\n",
       "      <td>0</td>\n",
       "      <td>0</td>\n",
       "      <td>0</td>\n",
       "      <td>0</td>\n",
       "      <td>2024-08-18</td>\n",
       "      <td>NaT</td>\n",
       "      <td>NaT</td>\n",
       "      <td>NaN</td>\n",
       "      <td>2024-09-10</td>\n",
       "      <td>Batch_1</td>\n",
       "      <td>September</td>\n",
       "      <td>0</td>\n",
       "      <td>0</td>\n",
       "      <td>NaT</td>\n",
       "      <td>NaT</td>\n",
       "      <td>TYPE 1</td>\n",
       "    </tr>\n",
       "    <tr>\n",
       "      <th>5344</th>\n",
       "      <td>2552223</td>\n",
       "      <td>2024-06-07</td>\n",
       "      <td>60825522230004</td>\n",
       "      <td>0.0</td>\n",
       "      <td>Active</td>\n",
       "      <td>0.0</td>\n",
       "      <td>0.0</td>\n",
       "      <td>0.0</td>\n",
       "      <td>0.0</td>\n",
       "      <td>0</td>\n",
       "      <td>1970-01-01</td>\n",
       "      <td>1970-01-01</td>\n",
       "      <td>N</td>\n",
       "      <td>0</td>\n",
       "      <td>0.0</td>\n",
       "      <td>0</td>\n",
       "      <td>0</td>\n",
       "      <td>0</td>\n",
       "      <td>0</td>\n",
       "      <td>0</td>\n",
       "      <td>2024-08-19</td>\n",
       "      <td>NaT</td>\n",
       "      <td>NaT</td>\n",
       "      <td>NaN</td>\n",
       "      <td>2024-09-10</td>\n",
       "      <td>Batch_1</td>\n",
       "      <td>September</td>\n",
       "      <td>0</td>\n",
       "      <td>1</td>\n",
       "      <td>NaT</td>\n",
       "      <td>2024-09-03</td>\n",
       "      <td>TYPE 1</td>\n",
       "    </tr>\n",
       "    <tr>\n",
       "      <th>12568</th>\n",
       "      <td>2508971</td>\n",
       "      <td>2024-05-11</td>\n",
       "      <td>60825089710002</td>\n",
       "      <td>0.0</td>\n",
       "      <td>Active</td>\n",
       "      <td>0.0</td>\n",
       "      <td>0.0</td>\n",
       "      <td>0.0</td>\n",
       "      <td>0.0</td>\n",
       "      <td>0</td>\n",
       "      <td>1970-01-01</td>\n",
       "      <td>1970-01-01</td>\n",
       "      <td>N</td>\n",
       "      <td>0</td>\n",
       "      <td>0.0</td>\n",
       "      <td>0</td>\n",
       "      <td>0</td>\n",
       "      <td>0</td>\n",
       "      <td>0</td>\n",
       "      <td>0</td>\n",
       "      <td>2024-05-11</td>\n",
       "      <td>NaT</td>\n",
       "      <td>NaT</td>\n",
       "      <td>NaN</td>\n",
       "      <td>2024-09-10</td>\n",
       "      <td>Batch_1</td>\n",
       "      <td>September</td>\n",
       "      <td>0</td>\n",
       "      <td>1</td>\n",
       "      <td>NaT</td>\n",
       "      <td>2024-08-10</td>\n",
       "      <td>TYPE 1</td>\n",
       "    </tr>\n",
       "    <tr>\n",
       "      <th>5294</th>\n",
       "      <td>2538750</td>\n",
       "      <td>2024-05-29</td>\n",
       "      <td>60825387500006</td>\n",
       "      <td>0.0</td>\n",
       "      <td>Active</td>\n",
       "      <td>0.0</td>\n",
       "      <td>0.0</td>\n",
       "      <td>0.0</td>\n",
       "      <td>0.0</td>\n",
       "      <td>0</td>\n",
       "      <td>1970-01-01</td>\n",
       "      <td>1970-01-01</td>\n",
       "      <td>N</td>\n",
       "      <td>0</td>\n",
       "      <td>0.0</td>\n",
       "      <td>0</td>\n",
       "      <td>0</td>\n",
       "      <td>0</td>\n",
       "      <td>0</td>\n",
       "      <td>0</td>\n",
       "      <td>2024-05-29</td>\n",
       "      <td>NaT</td>\n",
       "      <td>NaT</td>\n",
       "      <td>NaN</td>\n",
       "      <td>2024-09-10</td>\n",
       "      <td>Batch_1</td>\n",
       "      <td>September</td>\n",
       "      <td>0</td>\n",
       "      <td>1</td>\n",
       "      <td>NaT</td>\n",
       "      <td>2024-08-27</td>\n",
       "      <td>TYPE 1</td>\n",
       "    </tr>\n",
       "    <tr>\n",
       "      <th>17635</th>\n",
       "      <td>2548038</td>\n",
       "      <td>2024-06-03</td>\n",
       "      <td>60825480380004</td>\n",
       "      <td>0.0</td>\n",
       "      <td>Active</td>\n",
       "      <td>0.0</td>\n",
       "      <td>0.0</td>\n",
       "      <td>0.0</td>\n",
       "      <td>0.0</td>\n",
       "      <td>0</td>\n",
       "      <td>1970-01-01</td>\n",
       "      <td>1970-01-01</td>\n",
       "      <td>N</td>\n",
       "      <td>0</td>\n",
       "      <td>0.0</td>\n",
       "      <td>0</td>\n",
       "      <td>0</td>\n",
       "      <td>0</td>\n",
       "      <td>0</td>\n",
       "      <td>0</td>\n",
       "      <td>2024-06-03</td>\n",
       "      <td>NaT</td>\n",
       "      <td>NaT</td>\n",
       "      <td>NaN</td>\n",
       "      <td>2024-09-10</td>\n",
       "      <td>Batch_1</td>\n",
       "      <td>September</td>\n",
       "      <td>0</td>\n",
       "      <td>1</td>\n",
       "      <td>NaT</td>\n",
       "      <td>2024-09-01</td>\n",
       "      <td>TYPE 1</td>\n",
       "    </tr>\n",
       "    <tr>\n",
       "      <th>11168</th>\n",
       "      <td>2525946</td>\n",
       "      <td>2024-05-21</td>\n",
       "      <td>60825259460009</td>\n",
       "      <td>0.0</td>\n",
       "      <td>Active</td>\n",
       "      <td>0.0</td>\n",
       "      <td>0.0</td>\n",
       "      <td>0.0</td>\n",
       "      <td>0.0</td>\n",
       "      <td>0</td>\n",
       "      <td>1970-01-01</td>\n",
       "      <td>1970-01-01</td>\n",
       "      <td>N</td>\n",
       "      <td>0</td>\n",
       "      <td>0.0</td>\n",
       "      <td>0</td>\n",
       "      <td>0</td>\n",
       "      <td>0</td>\n",
       "      <td>0</td>\n",
       "      <td>0</td>\n",
       "      <td>2024-06-29</td>\n",
       "      <td>NaT</td>\n",
       "      <td>NaT</td>\n",
       "      <td>NaN</td>\n",
       "      <td>2024-09-10</td>\n",
       "      <td>Batch_1</td>\n",
       "      <td>September</td>\n",
       "      <td>0</td>\n",
       "      <td>1</td>\n",
       "      <td>NaT</td>\n",
       "      <td>2024-08-20</td>\n",
       "      <td>TYPE 1</td>\n",
       "    </tr>\n",
       "    <tr>\n",
       "      <th>17496</th>\n",
       "      <td>2523233</td>\n",
       "      <td>2024-05-19</td>\n",
       "      <td>60825232330005</td>\n",
       "      <td>0.0</td>\n",
       "      <td>Active</td>\n",
       "      <td>0.0</td>\n",
       "      <td>0.0</td>\n",
       "      <td>0.0</td>\n",
       "      <td>0.0</td>\n",
       "      <td>0</td>\n",
       "      <td>1970-01-01</td>\n",
       "      <td>1970-01-01</td>\n",
       "      <td>N</td>\n",
       "      <td>0</td>\n",
       "      <td>0.0</td>\n",
       "      <td>0</td>\n",
       "      <td>0</td>\n",
       "      <td>0</td>\n",
       "      <td>0</td>\n",
       "      <td>0</td>\n",
       "      <td>2024-05-19</td>\n",
       "      <td>NaT</td>\n",
       "      <td>NaT</td>\n",
       "      <td>NaN</td>\n",
       "      <td>2024-09-10</td>\n",
       "      <td>Batch_1</td>\n",
       "      <td>September</td>\n",
       "      <td>0</td>\n",
       "      <td>0</td>\n",
       "      <td>NaT</td>\n",
       "      <td>NaT</td>\n",
       "      <td>TYPE 1</td>\n",
       "    </tr>\n",
       "    <tr>\n",
       "      <th>14464</th>\n",
       "      <td>2528386</td>\n",
       "      <td>2024-05-22</td>\n",
       "      <td>60825283860001</td>\n",
       "      <td>0.0</td>\n",
       "      <td>Active</td>\n",
       "      <td>0.0</td>\n",
       "      <td>0.0</td>\n",
       "      <td>0.0</td>\n",
       "      <td>0.0</td>\n",
       "      <td>0</td>\n",
       "      <td>1970-01-01</td>\n",
       "      <td>1970-01-01</td>\n",
       "      <td>N</td>\n",
       "      <td>0</td>\n",
       "      <td>0.0</td>\n",
       "      <td>0</td>\n",
       "      <td>0</td>\n",
       "      <td>0</td>\n",
       "      <td>0</td>\n",
       "      <td>0</td>\n",
       "      <td>2024-05-22</td>\n",
       "      <td>NaT</td>\n",
       "      <td>NaT</td>\n",
       "      <td>NaN</td>\n",
       "      <td>2024-09-10</td>\n",
       "      <td>Batch_1</td>\n",
       "      <td>September</td>\n",
       "      <td>0</td>\n",
       "      <td>1</td>\n",
       "      <td>NaT</td>\n",
       "      <td>2024-08-21</td>\n",
       "      <td>TYPE 1</td>\n",
       "    </tr>\n",
       "    <tr>\n",
       "      <th>1027</th>\n",
       "      <td>2565469</td>\n",
       "      <td>2024-06-10</td>\n",
       "      <td>60825654690001</td>\n",
       "      <td>0.0</td>\n",
       "      <td>Active</td>\n",
       "      <td>0.0</td>\n",
       "      <td>0.0</td>\n",
       "      <td>0.0</td>\n",
       "      <td>0.0</td>\n",
       "      <td>0</td>\n",
       "      <td>1970-01-01</td>\n",
       "      <td>1970-01-01</td>\n",
       "      <td>N</td>\n",
       "      <td>0</td>\n",
       "      <td>0.0</td>\n",
       "      <td>0</td>\n",
       "      <td>0</td>\n",
       "      <td>0</td>\n",
       "      <td>0</td>\n",
       "      <td>0</td>\n",
       "      <td>2024-07-24</td>\n",
       "      <td>NaT</td>\n",
       "      <td>NaT</td>\n",
       "      <td>NaN</td>\n",
       "      <td>2024-09-10</td>\n",
       "      <td>Batch_1</td>\n",
       "      <td>September</td>\n",
       "      <td>0</td>\n",
       "      <td>1</td>\n",
       "      <td>NaT</td>\n",
       "      <td>2024-09-08</td>\n",
       "      <td>TYPE 1</td>\n",
       "    </tr>\n",
       "  </tbody>\n",
       "</table>\n",
       "</div>"
      ],
      "text/plain": [
       "      Customer_Id TSA_Opening_date TSA_Account_Number  OfblockAmount  \\\n",
       "6998      2548737       2024-06-03     60825487370004            0.0   \n",
       "7373      2556553       2024-06-06     60825565530005            0.0   \n",
       "5344      2552223       2024-06-07     60825522230004            0.0   \n",
       "12568     2508971       2024-05-11     60825089710002            0.0   \n",
       "5294      2538750       2024-05-29     60825387500006            0.0   \n",
       "17635     2548038       2024-06-03     60825480380004            0.0   \n",
       "11168     2525946       2024-05-21     60825259460009            0.0   \n",
       "17496     2523233       2024-05-19     60825232330005            0.0   \n",
       "14464     2528386       2024-05-22     60825283860001            0.0   \n",
       "1027      2565469       2024-06-10     60825654690001            0.0   \n",
       "\n",
       "      TSA_Status  TSA_Balance  Solo_Stash_Balance  Group_Stash_Balance  \\\n",
       "6998      Active          0.0                 0.0                  0.0   \n",
       "7373      Active          0.0                 0.0                  0.0   \n",
       "5344      Active          0.0                 0.0                  0.0   \n",
       "12568     Active          0.0                 0.0                  0.0   \n",
       "5294      Active          0.0                 0.0                  0.0   \n",
       "17635     Active          0.0                 0.0                  0.0   \n",
       "11168     Active          0.0                 0.0                  0.0   \n",
       "17496     Active          0.0                 0.0                  0.0   \n",
       "14464     Active          0.0                 0.0                  0.0   \n",
       "1027      Active          0.0                 0.0                  0.0   \n",
       "\n",
       "       Term_Deposit_Balance  Active_Term_Deposit_flag Last_TSA_Credit_Date  \\\n",
       "6998                    0.0                         0           1970-01-01   \n",
       "7373                    0.0                         0           1970-01-01   \n",
       "5344                    0.0                         0           1970-01-01   \n",
       "12568                   0.0                         0           1970-01-01   \n",
       "5294                    0.0                         0           1970-01-01   \n",
       "17635                   0.0                         0           1970-01-01   \n",
       "11168                   0.0                         0           1970-01-01   \n",
       "17496                   0.0                         0           1970-01-01   \n",
       "14464                   0.0                         0           1970-01-01   \n",
       "1027                    0.0                         0           1970-01-01   \n",
       "\n",
       "      Last_TSA_Debit_Date ARI_Flag  Active_Loan  Total_Loan_Outstanding  \\\n",
       "6998           1970-01-01        N            0                     0.0   \n",
       "7373           1970-01-01        N            0                     0.0   \n",
       "5344           1970-01-01        N            0                     0.0   \n",
       "12568          1970-01-01        N            0                     0.0   \n",
       "5294           1970-01-01        N            0                     0.0   \n",
       "17635          1970-01-01        N            0                     0.0   \n",
       "11168          1970-01-01        N            0                     0.0   \n",
       "17496          1970-01-01        N            0                     0.0   \n",
       "14464          1970-01-01        N            0                     0.0   \n",
       "1027           1970-01-01        N            0                     0.0   \n",
       "\n",
       "       Approved_Loans  Pending_Loan_Applications  Hard_Reject_Loans_App  \\\n",
       "6998                0                          0                      1   \n",
       "7373                0                          0                      0   \n",
       "5344                0                          0                      0   \n",
       "12568               0                          0                      0   \n",
       "5294                0                          0                      0   \n",
       "17635               0                          0                      0   \n",
       "11168               0                          0                      0   \n",
       "17496               0                          0                      0   \n",
       "14464               0                          0                      0   \n",
       "1027                0                          0                      0   \n",
       "\n",
       "       Soft_Reject_Loans_App  Cancelled_Loans_App Last_Login_Date  \\\n",
       "6998                       0                    0      2024-06-13   \n",
       "7373                       0                    0      2024-08-18   \n",
       "5344                       0                    0      2024-08-19   \n",
       "12568                      0                    0      2024-05-11   \n",
       "5294                       0                    0      2024-05-29   \n",
       "17635                      0                    0      2024-06-03   \n",
       "11168                      0                    0      2024-06-29   \n",
       "17496                      0                    0      2024-05-19   \n",
       "14464                      0                    0      2024-05-22   \n",
       "1027                       0                    0      2024-07-24   \n",
       "\n",
       "      Last_TSA_EOD_Balance_Date Last_Group_Stash_Credit_Date  \\\n",
       "6998                        NaT                          NaT   \n",
       "7373                        NaT                          NaT   \n",
       "5344                        NaT                          NaT   \n",
       "12568                       NaT                          NaT   \n",
       "5294                        NaT                          NaT   \n",
       "17635                       NaT                          NaT   \n",
       "11168                       NaT                          NaT   \n",
       "17496                       NaT                          NaT   \n",
       "14464                       NaT                          NaT   \n",
       "1027                        NaT                          NaT   \n",
       "\n",
       "       Group_Stash_Balance_Owner    Run_Date    Batch Processing_Month  \\\n",
       "6998                         NaN  2024-09-10  Batch_1        September   \n",
       "7373                         NaN  2024-09-10  Batch_1        September   \n",
       "5344                         NaN  2024-09-10  Batch_1        September   \n",
       "12568                        NaN  2024-09-10  Batch_1        September   \n",
       "5294                         NaN  2024-09-10  Batch_1        September   \n",
       "17635                        NaN  2024-09-10  Batch_1        September   \n",
       "11168                        NaN  2024-09-10  Batch_1        September   \n",
       "17496                        NaN  2024-09-10  Batch_1        September   \n",
       "14464                        NaN  2024-09-10  Batch_1        September   \n",
       "1027                         NaN  2024-09-10  Batch_1        September   \n",
       "\n",
       "       pending_loans_not_expired_not_exempt  expired_loans  \\\n",
       "6998                                      0              0   \n",
       "7373                                      0              0   \n",
       "5344                                      0              1   \n",
       "12568                                     0              1   \n",
       "5294                                      0              1   \n",
       "17635                                     0              1   \n",
       "11168                                     0              1   \n",
       "17496                                     0              0   \n",
       "14464                                     0              1   \n",
       "1027                                      0              1   \n",
       "\n",
       "      pending_loans_lastDt expired_loans_lastDt ACTION_TYPE  \n",
       "6998                   NaT                  NaT      TYPE 1  \n",
       "7373                   NaT                  NaT      TYPE 1  \n",
       "5344                   NaT           2024-09-03      TYPE 1  \n",
       "12568                  NaT           2024-08-10      TYPE 1  \n",
       "5294                   NaT           2024-08-27      TYPE 1  \n",
       "17635                  NaT           2024-09-01      TYPE 1  \n",
       "11168                  NaT           2024-08-20      TYPE 1  \n",
       "17496                  NaT                  NaT      TYPE 1  \n",
       "14464                  NaT           2024-08-21      TYPE 1  \n",
       "1027                   NaT           2024-09-08      TYPE 1  "
      ]
     },
     "execution_count": 21,
     "metadata": {},
     "output_type": "execute_result"
    }
   ],
   "source": [
    "pd.set_option('display.max_columns', None)\n",
    "df.sample(10)"
   ]
  },
  {
   "cell_type": "code",
   "execution_count": 22,
   "metadata": {},
   "outputs": [
    {
     "data": {
      "text/plain": [
       "(18120, 32)"
      ]
     },
     "execution_count": 22,
     "metadata": {},
     "output_type": "execute_result"
    }
   ],
   "source": [
    "df.shape"
   ]
  },
  {
   "cell_type": "code",
   "execution_count": 23,
   "metadata": {},
   "outputs": [
    {
     "data": {
      "text/plain": [
       "ACTION_TYPE\n",
       "TYPE 1       17101\n",
       "TYPE 3         861\n",
       "NO ACTION      122\n",
       "TYPE 2          36\n",
       "Name: count, dtype: int64"
      ]
     },
     "execution_count": 23,
     "metadata": {},
     "output_type": "execute_result"
    }
   ],
   "source": [
    "df['ACTION_TYPE'].value_counts()"
   ]
  },
  {
   "cell_type": "code",
   "execution_count": 24,
   "metadata": {},
   "outputs": [],
   "source": [
    "df.to_excel(r\"C:\\Users\\DwaipayanChakroborti\\OneDrive - Tonik Financial Pte Ltd\\MyStuff\\Marvin\\TSA Account Closure\\July24&August24 Ongoing Batch\\ThirdNotification_files\\20240911_TSA_Account_Closure_3rdtNotification.xlsx\", sheet_name='TSA_Closure_3rdNotification', index = False)"
   ]
  },
  {
   "cell_type": "code",
   "execution_count": 3,
   "metadata": {},
   "outputs": [
    {
     "data": {
      "text/plain": [
       "(18120, 32)"
      ]
     },
     "execution_count": 3,
     "metadata": {},
     "output_type": "execute_result"
    }
   ],
   "source": [
    "df = pd.read_excel(r\"C:\\Users\\DwaipayanChakroborti\\OneDrive - Tonik Financial Pte Ltd\\MyStuff\\Marvin\\TSA Account Closure\\July24&August24 Ongoing Batch\\ThirdNotification_files\\20240911_TSA_Account_Closure_3rdtNotification.xlsx\", sheet_name='TSA_Closure_3rdNotification')\n",
    "df.shape"
   ]
  },
  {
   "cell_type": "code",
   "execution_count": 4,
   "metadata": {},
   "outputs": [
    {
     "data": {
      "text/plain": [
       "Index(['Customer_Id', 'TSA_Opening_date', 'TSA_Account_Number',\n",
       "       'OfblockAmount', 'TSA_Status', 'TSA_Balance', 'Solo_Stash_Balance',\n",
       "       'Group_Stash_Balance', 'Term_Deposit_Balance',\n",
       "       'Active_Term_Deposit_flag', 'Last_TSA_Credit_Date',\n",
       "       'Last_TSA_Debit_Date', 'ARI_Flag', 'Active_Loan',\n",
       "       'Total_Loan_Outstanding', 'Approved_Loans', 'Pending_Loan_Applications',\n",
       "       'Hard_Reject_Loans_App', 'Soft_Reject_Loans_App', 'Cancelled_Loans_App',\n",
       "       'Last_Login_Date', 'Last_TSA_EOD_Balance_Date',\n",
       "       'Last_Group_Stash_Credit_Date', 'Group_Stash_Balance_Owner', 'Run_Date',\n",
       "       'Batch', 'Processing_Month', 'pending_loans_not_expired_not_exempt',\n",
       "       'expired_loans', 'pending_loans_lastDt', 'expired_loans_lastDt',\n",
       "       'ACTION_TYPE'],\n",
       "      dtype='object')"
      ]
     },
     "execution_count": 4,
     "metadata": {},
     "output_type": "execute_result"
    }
   ],
   "source": [
    "df.columns"
   ]
  },
  {
   "cell_type": "code",
   "execution_count": 11,
   "metadata": {},
   "outputs": [
    {
     "data": {
      "text/plain": [
       "ACTION_TYPE\n",
       "TYPE 1    17100\n",
       "TYPE 2       36\n",
       "TYPE 3      861\n",
       "Name: Customer_Id, dtype: int64"
      ]
     },
     "execution_count": 11,
     "metadata": {},
     "output_type": "execute_result"
    }
   ],
   "source": [
    "df[df['ACTION_TYPE']!='NO ACTION'].groupby('ACTION_TYPE')['Customer_Id'].nunique()"
   ]
  },
  {
   "cell_type": "code",
   "execution_count": 12,
   "metadata": {},
   "outputs": [
    {
     "data": {
      "text/plain": [
       "17997"
      ]
     },
     "execution_count": 12,
     "metadata": {},
     "output_type": "execute_result"
    }
   ],
   "source": [
    "17100+36+861"
   ]
  },
  {
   "cell_type": "code",
   "execution_count": 9,
   "metadata": {},
   "outputs": [
    {
     "data": {
      "text/plain": [
       "ACTION_TYPE\n",
       "NO ACTION      122\n",
       "TYPE 1       17101\n",
       "TYPE 2          36\n",
       "TYPE 3         861\n",
       "Name: Customer_Id, dtype: int64"
      ]
     },
     "execution_count": 9,
     "metadata": {},
     "output_type": "execute_result"
    }
   ],
   "source": [
    "df.groupby('ACTION_TYPE')['Customer_Id'].count()"
   ]
  },
  {
   "cell_type": "code",
   "execution_count": 7,
   "metadata": {},
   "outputs": [
    {
     "data": {
      "text/plain": [
       "18118"
      ]
     },
     "execution_count": 7,
     "metadata": {},
     "output_type": "execute_result"
    }
   ],
   "source": [
    "122+17100+36+860"
   ]
  },
  {
   "cell_type": "code",
   "execution_count": 10,
   "metadata": {},
   "outputs": [
    {
     "data": {
      "text/plain": [
       "18119"
      ]
     },
     "execution_count": 10,
     "metadata": {},
     "output_type": "execute_result"
    }
   ],
   "source": [
    "len(df['Customer_Id'].unique())"
   ]
  },
  {
   "cell_type": "code",
   "execution_count": null,
   "metadata": {},
   "outputs": [],
   "source": []
  }
 ],
 "metadata": {
  "kernelspec": {
   "display_name": "Python 3",
   "language": "python",
   "name": "python3"
  },
  "language_info": {
   "codemirror_mode": {
    "name": "ipython",
    "version": 3
   },
   "file_extension": ".py",
   "mimetype": "text/x-python",
   "name": "python",
   "nbconvert_exporter": "python",
   "pygments_lexer": "ipython3",
   "version": "3.9.19"
  }
 },
 "nbformat": 4,
 "nbformat_minor": 2
}
