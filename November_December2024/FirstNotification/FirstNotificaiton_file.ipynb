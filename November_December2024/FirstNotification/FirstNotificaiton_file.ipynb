{
 "cells": [
  {
   "cell_type": "markdown",
   "metadata": {},
   "source": [
    "# <div align=\"center\" style=\"color: #ff5733;\">TSA Account Closure Starting File</div>"
   ]
  },
  {
   "cell_type": "code",
   "execution_count": 1,
   "metadata": {},
   "outputs": [],
   "source": [
    "# %% [markdown]\n",
    "# # Jupyter Notebook Loading Header\n",
    "#\n",
    "# This is a custom loading header for Jupyter Notebooks in Visual Studio Code.\n",
    "# It includes common imports and settings to get you started quickly.\n",
    "\n",
    "# %% [markdown]\n",
    "## Import Libraries\n",
    "import pandas as pd\n",
    "import numpy as np\n",
    "import matplotlib.pyplot as plt\n",
    "import seaborn as sns\n",
    "from google.cloud import bigquery\n",
    "import os\n",
    "path = r'C:\\Users\\DwaipayanChakroborti\\AppData\\Roaming\\gcloud\\legacy_credentials\\dchakroborti@tonikbank.com\\adc.json'\n",
    "os.environ['GOOGLE_APPLICATION_CREDENTIALS'] = path\n",
    "client = bigquery.Client(project='prj-prod-dataplatform')\n",
    "\n",
    "# %% [markdown]\n",
    "## Configure Settings\n",
    "# Set options or configurations as needed\n",
    "# Example: pd.set_option('display.max_columns', None)"
   ]
  },
  {
   "cell_type": "markdown",
   "metadata": {},
   "source": [
    "# *Check if the Data in the table is EOD yesterday*"
   ]
  },
  {
   "cell_type": "code",
   "execution_count": 2,
   "metadata": {},
   "outputs": [
    {
     "name": "stdout",
     "output_type": "stream",
     "text": [
      "Job ID 76d60a13-07b1-4793-9679-da3a6ce53cf8 successfully executed: 100%|\u001b[32m██████████\u001b[0m|\n",
      "Downloading: 100%|\u001b[32m██████████\u001b[0m|\n"
     ]
    },
    {
     "data": {
      "text/html": [
       "<div>\n",
       "<style scoped>\n",
       "    .dataframe tbody tr th:only-of-type {\n",
       "        vertical-align: middle;\n",
       "    }\n",
       "\n",
       "    .dataframe tbody tr th {\n",
       "        vertical-align: top;\n",
       "    }\n",
       "\n",
       "    .dataframe thead th {\n",
       "        text-align: right;\n",
       "    }\n",
       "</style>\n",
       "<table border=\"1\" class=\"dataframe\">\n",
       "  <thead>\n",
       "    <tr style=\"text-align: right;\">\n",
       "      <th></th>\n",
       "      <th>Run_Date</th>\n",
       "      <th>cnt</th>\n",
       "    </tr>\n",
       "  </thead>\n",
       "  <tbody>\n",
       "    <tr>\n",
       "      <th>0</th>\n",
       "      <td>2024-11-25</td>\n",
       "      <td>714021</td>\n",
       "    </tr>\n",
       "  </tbody>\n",
       "</table>\n",
       "</div>"
      ],
      "text/plain": [
       "     Run_Date     cnt\n",
       "0  2024-11-25  714021"
      ]
     },
     "execution_count": 2,
     "metadata": {},
     "output_type": "execute_result"
    }
   ],
   "source": [
    "sq = \"\"\"select Run_Date, count(1)cnt from risk_credit_mis.tsa_account_closure group by 1 order by 1 desc\"\"\"\n",
    "df = client.query(sq).to_dataframe(progress_bar_type = 'tqdm')\n",
    "df.head(1)"
   ]
  },
  {
   "cell_type": "markdown",
   "metadata": {},
   "source": [
    "# Some Date Engineering"
   ]
  },
  {
   "cell_type": "code",
   "execution_count": 3,
   "metadata": {},
   "outputs": [
    {
     "name": "stdout",
     "output_type": "stream",
     "text": [
      "D-1 day from current date 2024-11-25 00:00:00\n",
      "D-60 day from the current date - 1: 2024-09-26 00:00:00\n",
      "D-180 day from the current date -1: 2024-05-29 00:00:00\n",
      "D-1 day from the current date: 2024-11-25\n",
      "D-60 day from the current date: 2024-09-26\n",
      "D-180 day from the current date: 2024-05-29\n"
     ]
    }
   ],
   "source": [
    "d = '2024-11-25'   ### Need to change this to D-1 everytime we run this code ###\n",
    "# Get the current date\n",
    "current_date = pd.Timestamp.now().date()\n",
    "d_minus_1_days = current_date - pd.DateOffset(days=1)\n",
    "# Calculate D-60 days\n",
    "d_minus_60_days = d_minus_1_days - pd.DateOffset(days=60)\n",
    "# Calculate D-180 days\n",
    "d_minus_180_days = d_minus_1_days - pd.DateOffset(days=180)\n",
    "\n",
    "print(\"D-1 day from current date\", d_minus_1_days )\n",
    "print(\"D-60 day from the current date - 1:\", d_minus_60_days)\n",
    "print(\"D-180 day from the current date -1:\", d_minus_180_days)\n",
    "\n",
    "d_minus_1_days_string = d_minus_1_days.strftime('%Y-%m-%d')\n",
    "print(\"D-1 day from the current date:\", d_minus_1_days_string)\n",
    "\n",
    "d_minus_60_days_string = d_minus_60_days.strftime('%Y-%m-%d')\n",
    "print(\"D-60 day from the current date:\", d_minus_60_days_string)\n",
    "\n",
    "d_minus_180_days_string = d_minus_180_days.strftime('%Y-%m-%d')\n",
    "print(\"D-180 day from the current date:\", d_minus_180_days_string)"
   ]
  },
  {
   "cell_type": "markdown",
   "metadata": {},
   "source": [
    "Step1: At line 11 change the date to D-1<br><br>\n",
    "Step2: At line around 36 (and (TSA_Opening_date < date '2023-10-18')   ####D-60 days(SHOULD BE SAME DATE FOR 1ST,2ND,3RD NOTIFICATION)) Change the date D-60 Days <br><br>\n",
    "Step3: At line around 45 (WHEN tsa_status = 'Active' and Last_TSA_EOD_Balance_Date is null and (TSA_Opening_date < date '2023-10-18')  ####D-60 days(SHOULD BE SAME DATE FOR 1ST,2ND,3RD NOTIFICATION)) Change the date D-60 Days <br><br>\n",
    "Step4: At line 58 (and TSA_Opening_date < date '2023-06-18'  and (Last_TSA_Credit_Date < date '2023-06-18' and Last_TSA_Debit_Date < date '2023-06-18' and coalesce(Last_Group_Stash_Credit_Date,date '1970-01-01') < date '2023-06-18')  ####D-180 days(SHOULD BE SAME DATE FOR 1ST,2ND,3RD NOTIFICATION)) <br><br>\n",
    "Step5: At line 72 (Run_Date = date '2024-01-09'###DATE change here to D-1) Change the date to D-1<br><br>"
   ]
  },
  {
   "cell_type": "code",
   "execution_count": 4,
   "metadata": {},
   "outputs": [
    {
     "name": "stdout",
     "output_type": "stream",
     "text": [
      "with\n",
      "w_kyc\n",
      "as\n",
      "(\n",
      "  select distinct PARTYID, SEGCATEGORYDESC, row_number() over(partition by partyid order by SEGEFFECTIVEFROM desc) as rnk from `core_raw.party_details`\n",
      ")\n",
      ",\n",
      "w_tsa\n",
      "as\n",
      "(\n",
      "  select * from risk_credit_mis.tsa_account_closure where Run_Date = date '2024-11-25'  ###DATE change here to D-1\n",
      "  and\n",
      "  Customer_Id not in (select cast(PARTYID as string) from w_kyc where rnk = 1 and SEGCATEGORYDESC = 'BKYC')\n",
      ")\n",
      ",\n",
      "w_approved\n",
      "as\n",
      "(\n",
      "  select DISTINCT customerId from risk_credit_mis.loan_master_table where loantype = 'BIGLOAN' OR FLAGAPPROVAL = 1 OR FLAGDISBURSEMENT = 1  \n",
      "  or (stage1Status = 'EXPIRED' AND cddInitiatedDateAndTime IS NULL)\n",
      ")\n",
      "select *\n",
      "from\n",
      "(\n",
      "  select \n",
      "  a.Customer_Id,a.TSA_Opening_date,\n",
      "  c.OFSTANDARDACCOUNTID as TSA_Account_Number, c.OfblockAmount, \n",
      "  a.TSA_Status,a.TSA_Balance,a.Solo_Stash_Balance,a.Group_Stash_Balance,a.Term_Deposit_Balance,a.Active_Term_Deposit_flag,a.Last_TSA_Credit_Date,a.Last_TSA_Debit_Date,\n",
      "  a.ARI_Flag,a.Active_Loan,a.Total_Loan_Outstanding,  case when b.customerId is not null then 1 else 0 end as Approved_Loans,\n",
      "  a.Pending_Loan_Applications,a.Hard_Reject_Loans_App,a.Soft_Reject_Loans_App,a.Cancelled_Loans_App, extract(date from a.Last_Login_Date) as Last_Login_Date,\n",
      "  a.Last_TSA_EOD_Balance_Date,a.Last_Group_Stash_Credit_Date,a.Group_Stash_Balance_Owner,a.Run_Date,a.Batch,a.Processing_Month,a.pending_loans_not_expired_not_exempt,a.expired_loans,\n",
      "  a.pending_loans_lastDt,a.expired_loans_lastDt,\n",
      "  CASE \n",
      "    WHEN tsa_status = 'Active' and (Last_TSA_Credit_Date = date '1970-01-01' and Last_Group_Stash_Credit_Date is null)\n",
      "    and (TSA_Opening_date < date '2024-09-26')                                                    ####D-60 days(SHOULD BE SAME DATE FOR 1ST,2ND,3RD NOTIFICATION)\n",
      "    and ( round(coalesce(TSA_Balance,0) + coalesce(Solo_Stash_Balance,0) + coalesce(Group_Stash_Balance,0) + coalesce(Term_Deposit_Balance,0),2) = 0 )\n",
      "    and (Active_Loan = 0) and (COALESCE(Pending_Loan_Applications,0) = 0)\n",
      "    and (Active_Term_Deposit_flag = 0)\n",
      "    and (ARI_Flag = 'N')\n",
      "    --and (Approved_Loans = 0)  THEN 'TYPE 1'\n",
      "    and b.customerId is null  THEN 'TYPE 1'\n",
      "\n",
      "\n",
      "    WHEN tsa_status = 'Active' and Last_TSA_EOD_Balance_Date is null \n",
      "    and (TSA_Opening_date < date '2024-09-26')                                                    ####D-60 days(SHOULD BE SAME DATE FOR 1ST,2ND,3RD NOTIFICATION)\n",
      "    and ( round(coalesce(TSA_Balance,0) + coalesce(Solo_Stash_Balance,0) + coalesce(Group_Stash_Balance,0) + coalesce(Term_Deposit_Balance,0),2) = 0 )\n",
      "    and (Active_Loan = 0) and (COALESCE(Pending_Loan_Applications,0) = 0)\n",
      "    and (Active_Term_Deposit_flag = 0)\n",
      "    and (ARI_Flag = 'N')\n",
      "    --and (Approved_Loans = 0)\n",
      "    and b.customerId is null  \n",
      "    and (date_trunc(TSA_Opening_date,day) = date_trunc(Last_Login_Date,day)) THEN 'TYPE 2'\n",
      "\n",
      "    \n",
      "    WHEN ( round(coalesce(TSA_Balance,0) + coalesce(Solo_Stash_Balance,0) + coalesce(Group_Stash_Balance,0) + coalesce(Term_Deposit_Balance,0),2) < 1 )\n",
      "    and (Active_Loan = 0) and (COALESCE(Pending_Loan_Applications,0) = 0)\n",
      "    and (Active_Term_Deposit_flag = 0)\n",
      "    and TSA_Opening_date < date '2024-05-29'                                                    ####D-180 days(SHOULD BE SAME DATE FOR 1ST,2ND,3RD NOTIFICATION)\n",
      "    and (Last_TSA_Credit_Date < date '2024-05-29'                                                    ####D-180 days(SHOULD BE SAME DATE FOR 1ST,2ND,3RD NOTIFICATION)\n",
      "    and Last_TSA_Debit_Date < date '2024-05-29'                                                 ####D-180 days(SHOULD BE SAME DATE FOR 1ST,2ND,3RD NOTIFICATION)\n",
      "    and coalesce(Last_Group_Stash_Credit_Date,date '1970-01-01') < date '2024-05-29')           ####D-180 days(SHOULD BE SAME DATE FOR 1ST,2ND,3RD NOTIFICATION)\n",
      "    and tsa_status = 'Active'\n",
      "    and (ARI_Flag = 'N')\n",
      "    --and (Approved_Loans = 0)\n",
      "    and b.customerId is null  \n",
      "    THEN 'TYPE 3'\n",
      "    ELSE 'NO ACTION'\n",
      "    END AS ACTION_TYPE\n",
      "  from w_tsa A\n",
      "  left join w_approved b\n",
      "  on cast(a.Customer_Id as int64) = b.customerId\n",
      "  left join core_raw.customer_accounts c\n",
      "  on c.OFCUSTOMERID = a.Customer_Id and c.CRINTERDESC = 'Transactional Savings Account Inv_R' and c.OFISCLOSED = 'N'\n",
      "  where\n",
      "  Run_Date = date '2024-11-25'                                                                         ###DATE change here to D-1\n",
      ")\n",
      "\n"
     ]
    }
   ],
   "source": [
    "sq = f\"\"\"with\n",
    "w_kyc\n",
    "as\n",
    "(\n",
    "  select distinct PARTYID, SEGCATEGORYDESC, row_number() over(partition by partyid order by SEGEFFECTIVEFROM desc) as rnk from `core_raw.party_details`\n",
    ")\n",
    ",\n",
    "w_tsa\n",
    "as\n",
    "(\n",
    "  select * from risk_credit_mis.tsa_account_closure where Run_Date = date '{d_minus_1_days_string}'  ###DATE change here to D-1\n",
    "  and\n",
    "  Customer_Id not in (select cast(PARTYID as string) from w_kyc where rnk = 1 and SEGCATEGORYDESC = 'BKYC')\n",
    ")\n",
    ",\n",
    "w_approved\n",
    "as\n",
    "(\n",
    "  select DISTINCT customerId from risk_credit_mis.loan_master_table where loantype = 'BIGLOAN' OR FLAGAPPROVAL = 1 OR FLAGDISBURSEMENT = 1  \n",
    "  or (stage1Status = 'EXPIRED' AND cddInitiatedDateAndTime IS NULL)\n",
    ")\n",
    "select *\n",
    "from\n",
    "(\n",
    "  select \n",
    "  a.Customer_Id,a.TSA_Opening_date,\n",
    "  c.OFSTANDARDACCOUNTID as TSA_Account_Number, c.OfblockAmount, \n",
    "  a.TSA_Status,a.TSA_Balance,a.Solo_Stash_Balance,a.Group_Stash_Balance,a.Term_Deposit_Balance,a.Active_Term_Deposit_flag,a.Last_TSA_Credit_Date,a.Last_TSA_Debit_Date,\n",
    "  a.ARI_Flag,a.Active_Loan,a.Total_Loan_Outstanding,  case when b.customerId is not null then 1 else 0 end as Approved_Loans,\n",
    "  a.Pending_Loan_Applications,a.Hard_Reject_Loans_App,a.Soft_Reject_Loans_App,a.Cancelled_Loans_App, extract(date from a.Last_Login_Date) as Last_Login_Date,\n",
    "  a.Last_TSA_EOD_Balance_Date,a.Last_Group_Stash_Credit_Date,a.Group_Stash_Balance_Owner,a.Run_Date,a.Batch,a.Processing_Month,a.pending_loans_not_expired_not_exempt,a.expired_loans,\n",
    "  a.pending_loans_lastDt,a.expired_loans_lastDt,\n",
    "  CASE \n",
    "    WHEN tsa_status = 'Active' and (Last_TSA_Credit_Date = date '1970-01-01' and Last_Group_Stash_Credit_Date is null)\n",
    "    and (TSA_Opening_date < date '{d_minus_60_days_string}')                                                    ####D-60 days(SHOULD BE SAME DATE FOR 1ST,2ND,3RD NOTIFICATION)\n",
    "    and ( round(coalesce(TSA_Balance,0) + coalesce(Solo_Stash_Balance,0) + coalesce(Group_Stash_Balance,0) + coalesce(Term_Deposit_Balance,0),2) = 0 )\n",
    "    and (Active_Loan = 0) and (COALESCE(Pending_Loan_Applications,0) = 0)\n",
    "    and (Active_Term_Deposit_flag = 0)\n",
    "    and (ARI_Flag = 'N')\n",
    "    --and (Approved_Loans = 0)  THEN 'TYPE 1'\n",
    "    and b.customerId is null  THEN 'TYPE 1'\n",
    "\n",
    "\n",
    "    WHEN tsa_status = 'Active' and Last_TSA_EOD_Balance_Date is null \n",
    "    and (TSA_Opening_date < date '{d_minus_60_days_string}')                                                    ####D-60 days(SHOULD BE SAME DATE FOR 1ST,2ND,3RD NOTIFICATION)\n",
    "    and ( round(coalesce(TSA_Balance,0) + coalesce(Solo_Stash_Balance,0) + coalesce(Group_Stash_Balance,0) + coalesce(Term_Deposit_Balance,0),2) = 0 )\n",
    "    and (Active_Loan = 0) and (COALESCE(Pending_Loan_Applications,0) = 0)\n",
    "    and (Active_Term_Deposit_flag = 0)\n",
    "    and (ARI_Flag = 'N')\n",
    "    --and (Approved_Loans = 0)\n",
    "    and b.customerId is null  \n",
    "    and (date_trunc(TSA_Opening_date,day) = date_trunc(Last_Login_Date,day)) THEN 'TYPE 2'\n",
    "\n",
    "    \n",
    "    WHEN ( round(coalesce(TSA_Balance,0) + coalesce(Solo_Stash_Balance,0) + coalesce(Group_Stash_Balance,0) + coalesce(Term_Deposit_Balance,0),2) < 1 )\n",
    "    and (Active_Loan = 0) and (COALESCE(Pending_Loan_Applications,0) = 0)\n",
    "    and (Active_Term_Deposit_flag = 0)\n",
    "    and TSA_Opening_date < date '{d_minus_180_days_string}'                                                    ####D-180 days(SHOULD BE SAME DATE FOR 1ST,2ND,3RD NOTIFICATION)\n",
    "    and (Last_TSA_Credit_Date < date '{d_minus_180_days_string}'                                                    ####D-180 days(SHOULD BE SAME DATE FOR 1ST,2ND,3RD NOTIFICATION)\n",
    "    and Last_TSA_Debit_Date < date '{d_minus_180_days_string}'                                                 ####D-180 days(SHOULD BE SAME DATE FOR 1ST,2ND,3RD NOTIFICATION)\n",
    "    and coalesce(Last_Group_Stash_Credit_Date,date '1970-01-01') < date '{d_minus_180_days_string}')           ####D-180 days(SHOULD BE SAME DATE FOR 1ST,2ND,3RD NOTIFICATION)\n",
    "    and tsa_status = 'Active'\n",
    "    and (ARI_Flag = 'N')\n",
    "    --and (Approved_Loans = 0)\n",
    "    and b.customerId is null  \n",
    "    THEN 'TYPE 3'\n",
    "    ELSE 'NO ACTION'\n",
    "    END AS ACTION_TYPE\n",
    "  from w_tsa A\n",
    "  left join w_approved b\n",
    "  on cast(a.Customer_Id as int64) = b.customerId\n",
    "  left join core_raw.customer_accounts c\n",
    "  on c.OFCUSTOMERID = a.Customer_Id and c.CRINTERDESC = 'Transactional Savings Account Inv_R' and c.OFISCLOSED = 'N'\n",
    "  where\n",
    "  Run_Date = date '{d_minus_1_days_string}'                                                                         ###DATE change here to D-1\n",
    ")\n",
    "\"\"\"\n",
    "print(sq)"
   ]
  },
  {
   "cell_type": "code",
   "execution_count": 5,
   "metadata": {},
   "outputs": [
    {
     "name": "stdout",
     "output_type": "stream",
     "text": [
      "Job ID 637181b6-a26c-494a-9789-ceac4a91dc28 successfully executed: 100%|\u001b[32m██████████\u001b[0m|\n",
      "Downloading: 100%|\u001b[32m██████████\u001b[0m|\n",
      "The count of rows and columns in the extracted data are\t:(680466, 32)\n"
     ]
    }
   ],
   "source": [
    "df = client.query(sq).to_dataframe(progress_bar_type='tqdm')\n",
    "\n",
    "print(f\"The count of rows and columns in the extracted data are\\t:{df.shape}\")"
   ]
  },
  {
   "cell_type": "code",
   "execution_count": 7,
   "metadata": {},
   "outputs": [
    {
     "data": {
      "text/plain": [
       "(680466, 32)"
      ]
     },
     "execution_count": 7,
     "metadata": {},
     "output_type": "execute_result"
    }
   ],
   "source": [
    "df.shape"
   ]
  },
  {
   "cell_type": "code",
   "execution_count": 8,
   "metadata": {},
   "outputs": [
    {
     "data": {
      "text/plain": [
       "Index(['Customer_Id', 'TSA_Opening_date', 'TSA_Account_Number',\n",
       "       'OfblockAmount', 'TSA_Status', 'TSA_Balance', 'Solo_Stash_Balance',\n",
       "       'Group_Stash_Balance', 'Term_Deposit_Balance',\n",
       "       'Active_Term_Deposit_flag', 'Last_TSA_Credit_Date',\n",
       "       'Last_TSA_Debit_Date', 'ARI_Flag', 'Active_Loan',\n",
       "       'Total_Loan_Outstanding', 'Approved_Loans', 'Pending_Loan_Applications',\n",
       "       'Hard_Reject_Loans_App', 'Soft_Reject_Loans_App', 'Cancelled_Loans_App',\n",
       "       'Last_Login_Date', 'Last_TSA_EOD_Balance_Date',\n",
       "       'Last_Group_Stash_Credit_Date', 'Group_Stash_Balance_Owner', 'Run_Date',\n",
       "       'Batch', 'Processing_Month', 'pending_loans_not_expired_not_exempt',\n",
       "       'expired_loans', 'pending_loans_lastDt', 'expired_loans_lastDt',\n",
       "       'ACTION_TYPE'],\n",
       "      dtype='object')"
      ]
     },
     "execution_count": 8,
     "metadata": {},
     "output_type": "execute_result"
    }
   ],
   "source": [
    "df.columns"
   ]
  },
  {
   "cell_type": "code",
   "execution_count": 9,
   "metadata": {},
   "outputs": [
    {
     "data": {
      "text/plain": [
       "ACTION_TYPE\n",
       "NO ACTION    618558\n",
       "TYPE 1        60115\n",
       "TYPE 3         1729\n",
       "TYPE 2           64\n",
       "Name: count, dtype: int64"
      ]
     },
     "execution_count": 9,
     "metadata": {},
     "output_type": "execute_result"
    }
   ],
   "source": [
    "df.ACTION_TYPE.value_counts(dropna= False)"
   ]
  },
  {
   "cell_type": "code",
   "execution_count": 10,
   "metadata": {},
   "outputs": [],
   "source": [
    "df.to_excel(r\"C:\\Users\\DwaipayanChakroborti\\OneDrive - Tonik Financial Pte Ltd\\MyStuff\\Marvin\\TSA Account Closure\\November_December2024\\FirstNotification\\202411126_TSA_First_Notificaiton.xlsx\", index = False, sheet_name='TSA_First_Notification')"
   ]
  },
  {
   "cell_type": "code",
   "execution_count": 11,
   "metadata": {},
   "outputs": [
    {
     "data": {
      "text/plain": [
       "ACTION_TYPE\n",
       "NO ACTION    618546\n",
       "TYPE 1        60115\n",
       "TYPE 2           64\n",
       "TYPE 3         1729\n",
       "Name: Customer_Id, dtype: int64"
      ]
     },
     "execution_count": 11,
     "metadata": {},
     "output_type": "execute_result"
    }
   ],
   "source": [
    "# Unique customer count by Action Type\n",
    "df.groupby('ACTION_TYPE')['Customer_Id'].nunique()"
   ]
  },
  {
   "cell_type": "code",
   "execution_count": 12,
   "metadata": {},
   "outputs": [
    {
     "data": {
      "text/plain": [
       "ACTION_TYPE\n",
       "TYPE 1    60115\n",
       "TYPE 2       64\n",
       "TYPE 3     1729\n",
       "Name: Customer_Id, dtype: int64"
      ]
     },
     "execution_count": 12,
     "metadata": {},
     "output_type": "execute_result"
    }
   ],
   "source": [
    "# Unique Customer Count by Action type when Action type is not like No Action\n",
    "df[df['ACTION_TYPE']!= 'NO ACTION'].groupby('ACTION_TYPE')['Customer_Id'].nunique()"
   ]
  },
  {
   "cell_type": "code",
   "execution_count": 13,
   "metadata": {},
   "outputs": [
    {
     "data": {
      "text/html": [
       "<div>\n",
       "<style scoped>\n",
       "    .dataframe tbody tr th:only-of-type {\n",
       "        vertical-align: middle;\n",
       "    }\n",
       "\n",
       "    .dataframe tbody tr th {\n",
       "        vertical-align: top;\n",
       "    }\n",
       "\n",
       "    .dataframe thead th {\n",
       "        text-align: right;\n",
       "    }\n",
       "</style>\n",
       "<table border=\"1\" class=\"dataframe\">\n",
       "  <thead>\n",
       "    <tr style=\"text-align: right;\">\n",
       "      <th></th>\n",
       "      <th>ACTION_TYPE</th>\n",
       "      <th>Customer_Unique_Count</th>\n",
       "    </tr>\n",
       "  </thead>\n",
       "  <tbody>\n",
       "    <tr>\n",
       "      <th>0</th>\n",
       "      <td>TYPE 1</td>\n",
       "      <td>60115</td>\n",
       "    </tr>\n",
       "    <tr>\n",
       "      <th>1</th>\n",
       "      <td>TYPE 2</td>\n",
       "      <td>64</td>\n",
       "    </tr>\n",
       "    <tr>\n",
       "      <th>2</th>\n",
       "      <td>TYPE 3</td>\n",
       "      <td>1729</td>\n",
       "    </tr>\n",
       "  </tbody>\n",
       "</table>\n",
       "</div>"
      ],
      "text/plain": [
       "  ACTION_TYPE  Customer_Unique_Count\n",
       "0      TYPE 1                  60115\n",
       "1      TYPE 2                     64\n",
       "2      TYPE 3                   1729"
      ]
     },
     "execution_count": 13,
     "metadata": {},
     "output_type": "execute_result"
    }
   ],
   "source": [
    "dfd = df[df['ACTION_TYPE'] != 'NO ACTION'].groupby('ACTION_TYPE').agg(\n",
    "    Customer_Unique_Count=('Customer_Id', 'nunique')\n",
    ").reset_index()\n",
    "\n",
    "dfd"
   ]
  },
  {
   "cell_type": "code",
   "execution_count": null,
   "metadata": {},
   "outputs": [],
   "source": []
  }
 ],
 "metadata": {
  "kernelspec": {
   "display_name": "reporting",
   "language": "python",
   "name": "python3"
  },
  "language_info": {
   "codemirror_mode": {
    "name": "ipython",
    "version": 3
   },
   "file_extension": ".py",
   "mimetype": "text/x-python",
   "name": "python",
   "nbconvert_exporter": "python",
   "pygments_lexer": "ipython3",
   "version": "3.9.19"
  }
 },
 "nbformat": 4,
 "nbformat_minor": 2
}
