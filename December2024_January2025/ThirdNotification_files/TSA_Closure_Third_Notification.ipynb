{
 "cells": [
  {
   "cell_type": "markdown",
   "metadata": {},
   "source": [
    "# <div align=\"center\" style=\"color: #ff5733;\">TSA Closure Third Notification</div>"
   ]
  },
  {
   "cell_type": "code",
   "execution_count": 1,
   "metadata": {},
   "outputs": [],
   "source": [
    "# Import Libraries   \n",
    "\n",
    "import pandas as pd  \n",
    "import numpy as np  \n",
    "\n",
    "from google.cloud import bigquery\n",
    "import os\n",
    "\n",
    "path = r\"C:\\Users\\DwaipayanChakroborti\\AppData\\Roaming\\gcloud\\legacy_credentials\\dchakroborti@tonikbank.com\\adc.json\"\n",
    "\n",
    "os.environ[\"GOOGLE_APPLICATION_CREDENTIALS\"] = path\n",
    "client = bigquery.Client(project=\"prj-prod-dataplatform\")"
   ]
  },
  {
   "cell_type": "markdown",
   "metadata": {},
   "source": [
    "# Ask Balasubramani to refresh risk_credit_mis.tsa_account_closure table.\n",
    "**Check if that is refreshed when Balasubramani confirms it**"
   ]
  },
  {
   "cell_type": "code",
   "execution_count": 2,
   "metadata": {},
   "outputs": [
    {
     "name": "stdout",
     "output_type": "stream",
     "text": [
      "Job ID 02cace4d-6ef7-4047-b526-b0a19c1b263e successfully executed: 100%|\u001b[32m██████████\u001b[0m|\n",
      "Downloading: 100%|\u001b[32m██████████\u001b[0m|\n"
     ]
    },
    {
     "data": {
      "text/html": [
       "<div>\n",
       "<style scoped>\n",
       "    .dataframe tbody tr th:only-of-type {\n",
       "        vertical-align: middle;\n",
       "    }\n",
       "\n",
       "    .dataframe tbody tr th {\n",
       "        vertical-align: top;\n",
       "    }\n",
       "\n",
       "    .dataframe thead th {\n",
       "        text-align: right;\n",
       "    }\n",
       "</style>\n",
       "<table border=\"1\" class=\"dataframe\">\n",
       "  <thead>\n",
       "    <tr style=\"text-align: right;\">\n",
       "      <th></th>\n",
       "      <th>Run_Date</th>\n",
       "      <th>cnt</th>\n",
       "    </tr>\n",
       "  </thead>\n",
       "  <tbody>\n",
       "    <tr>\n",
       "      <th>0</th>\n",
       "      <td>2025-02-06</td>\n",
       "      <td>753083</td>\n",
       "    </tr>\n",
       "  </tbody>\n",
       "</table>\n",
       "</div>"
      ],
      "text/plain": [
       "     Run_Date     cnt\n",
       "0  2025-02-06  753083"
      ]
     },
     "execution_count": 2,
     "metadata": {},
     "output_type": "execute_result"
    }
   ],
   "source": [
    "sq = \"\"\"select Run_Date, count(1)cnt from risk_credit_mis.tsa_account_closure group by 1 order by 1 desc\"\"\"\n",
    "df = client.query(sq).to_dataframe(progress_bar_type = 'tqdm')\n",
    "df.head(1)"
   ]
  },
  {
   "cell_type": "markdown",
   "metadata": {},
   "source": [
    "The date should show yesterday's date"
   ]
  },
  {
   "cell_type": "markdown",
   "metadata": {},
   "source": [
    "# Read the data from the first sheet for Type1 and Type2 data provided by Marvin"
   ]
  },
  {
   "cell_type": "code",
   "execution_count": 3,
   "metadata": {},
   "outputs": [
    {
     "data": {
      "text/plain": [
       "(35554, 2)"
      ]
     },
     "execution_count": 3,
     "metadata": {},
     "output_type": "execute_result"
    }
   ],
   "source": [
    "d1 = pd.read_excel(r\"C:\\Users\\DwaipayanChakroborti\\OneDrive - Tonik Financial Pte Ltd\\MyStuff\\Marvin\\TSA Account Closure\\December2024_January2025\\ThirdNotification_files\\Type 1  & 2  - Dec 2024.xlsx\")\n",
    "d1.shape"
   ]
  },
  {
   "cell_type": "code",
   "execution_count": 4,
   "metadata": {},
   "outputs": [
    {
     "name": "stdout",
     "output_type": "stream",
     "text": [
      "The unique count of customer_id is:\t35554\n"
     ]
    },
    {
     "data": {
      "text/html": [
       "<div>\n",
       "<style scoped>\n",
       "    .dataframe tbody tr th:only-of-type {\n",
       "        vertical-align: middle;\n",
       "    }\n",
       "\n",
       "    .dataframe tbody tr th {\n",
       "        vertical-align: top;\n",
       "    }\n",
       "\n",
       "    .dataframe thead th {\n",
       "        text-align: right;\n",
       "    }\n",
       "</style>\n",
       "<table border=\"1\" class=\"dataframe\">\n",
       "  <thead>\n",
       "    <tr style=\"text-align: right;\">\n",
       "      <th></th>\n",
       "      <th>Customer_Id</th>\n",
       "      <th>ACTION_TYPE</th>\n",
       "    </tr>\n",
       "  </thead>\n",
       "  <tbody>\n",
       "    <tr>\n",
       "      <th>0</th>\n",
       "      <td>2982912</td>\n",
       "      <td>TYPE 1</td>\n",
       "    </tr>\n",
       "    <tr>\n",
       "      <th>1</th>\n",
       "      <td>2911320</td>\n",
       "      <td>TYPE 1</td>\n",
       "    </tr>\n",
       "    <tr>\n",
       "      <th>2</th>\n",
       "      <td>2877112</td>\n",
       "      <td>TYPE 1</td>\n",
       "    </tr>\n",
       "    <tr>\n",
       "      <th>3</th>\n",
       "      <td>2984139</td>\n",
       "      <td>TYPE 1</td>\n",
       "    </tr>\n",
       "    <tr>\n",
       "      <th>4</th>\n",
       "      <td>2910719</td>\n",
       "      <td>TYPE 1</td>\n",
       "    </tr>\n",
       "  </tbody>\n",
       "</table>\n",
       "</div>"
      ],
      "text/plain": [
       "   Customer_Id ACTION_TYPE\n",
       "0      2982912      TYPE 1\n",
       "1      2911320      TYPE 1\n",
       "2      2877112      TYPE 1\n",
       "3      2984139      TYPE 1\n",
       "4      2910719      TYPE 1"
      ]
     },
     "execution_count": 4,
     "metadata": {},
     "output_type": "execute_result"
    }
   ],
   "source": [
    "print(f\"The unique count of customer_id is:\\t{len(d1['Customer_Id'].unique())}\")\n",
    "d1.head()\n"
   ]
  },
  {
   "cell_type": "code",
   "execution_count": 5,
   "metadata": {},
   "outputs": [
    {
     "data": {
      "text/plain": [
       "ACTION_TYPE\n",
       "TYPE 1    35507\n",
       "TYPE 2       47\n",
       "Name: Customer_Id, dtype: int64"
      ]
     },
     "execution_count": 5,
     "metadata": {},
     "output_type": "execute_result"
    }
   ],
   "source": [
    "d1.groupby('ACTION_TYPE')['Customer_Id'].nunique()"
   ]
  },
  {
   "cell_type": "markdown",
   "metadata": {},
   "source": [
    "# Read the data from the second sheet for Type3 data provided by Marvin"
   ]
  },
  {
   "cell_type": "code",
   "execution_count": 6,
   "metadata": {},
   "outputs": [
    {
     "data": {
      "text/plain": [
       "(1458, 2)"
      ]
     },
     "execution_count": 6,
     "metadata": {},
     "output_type": "execute_result"
    }
   ],
   "source": [
    "d2 = pd.read_excel(r\"C:\\Users\\DwaipayanChakroborti\\OneDrive - Tonik Financial Pte Ltd\\MyStuff\\Marvin\\TSA Account Closure\\December2024_January2025\\ThirdNotification_files\\Type 3  - Dec 2024.xlsx\")\n",
    "d2.shape"
   ]
  },
  {
   "cell_type": "code",
   "execution_count": 7,
   "metadata": {},
   "outputs": [
    {
     "name": "stdout",
     "output_type": "stream",
     "text": [
      "The unique count of customer_id is:\t1458\n"
     ]
    },
    {
     "data": {
      "text/html": [
       "<div>\n",
       "<style scoped>\n",
       "    .dataframe tbody tr th:only-of-type {\n",
       "        vertical-align: middle;\n",
       "    }\n",
       "\n",
       "    .dataframe tbody tr th {\n",
       "        vertical-align: top;\n",
       "    }\n",
       "\n",
       "    .dataframe thead th {\n",
       "        text-align: right;\n",
       "    }\n",
       "</style>\n",
       "<table border=\"1\" class=\"dataframe\">\n",
       "  <thead>\n",
       "    <tr style=\"text-align: right;\">\n",
       "      <th></th>\n",
       "      <th>Customer_Id</th>\n",
       "      <th>ACTION_TYPE</th>\n",
       "    </tr>\n",
       "  </thead>\n",
       "  <tbody>\n",
       "    <tr>\n",
       "      <th>0</th>\n",
       "      <td>1360717</td>\n",
       "      <td>TYPE 3</td>\n",
       "    </tr>\n",
       "    <tr>\n",
       "      <th>1</th>\n",
       "      <td>1404801</td>\n",
       "      <td>TYPE 3</td>\n",
       "    </tr>\n",
       "    <tr>\n",
       "      <th>2</th>\n",
       "      <td>1083868</td>\n",
       "      <td>TYPE 3</td>\n",
       "    </tr>\n",
       "    <tr>\n",
       "      <th>3</th>\n",
       "      <td>1310029</td>\n",
       "      <td>TYPE 3</td>\n",
       "    </tr>\n",
       "    <tr>\n",
       "      <th>4</th>\n",
       "      <td>1805856</td>\n",
       "      <td>TYPE 3</td>\n",
       "    </tr>\n",
       "  </tbody>\n",
       "</table>\n",
       "</div>"
      ],
      "text/plain": [
       "   Customer_Id ACTION_TYPE\n",
       "0      1360717      TYPE 3\n",
       "1      1404801      TYPE 3\n",
       "2      1083868      TYPE 3\n",
       "3      1310029      TYPE 3\n",
       "4      1805856      TYPE 3"
      ]
     },
     "execution_count": 7,
     "metadata": {},
     "output_type": "execute_result"
    }
   ],
   "source": [
    "print(f\"The unique count of customer_id is:\\t{len(d2['Customer_Id'].unique())}\")\n",
    "d2.head()"
   ]
  },
  {
   "cell_type": "code",
   "execution_count": 8,
   "metadata": {},
   "outputs": [
    {
     "data": {
      "text/plain": [
       "ACTION_TYPE\n",
       "TYPE 3    1458\n",
       "Name: Customer_Id, dtype: int64"
      ]
     },
     "execution_count": 8,
     "metadata": {},
     "output_type": "execute_result"
    }
   ],
   "source": [
    "d2.groupby('ACTION_TYPE')['Customer_Id'].nunique()"
   ]
  },
  {
   "cell_type": "code",
   "execution_count": 9,
   "metadata": {},
   "outputs": [
    {
     "data": {
      "text/plain": [
       "(37012, 2)"
      ]
     },
     "execution_count": 9,
     "metadata": {},
     "output_type": "execute_result"
    }
   ],
   "source": [
    "result = pd.concat([d1, d2], axis=0, ignore_index=True)\n",
    "result.shape"
   ]
  },
  {
   "cell_type": "code",
   "execution_count": 10,
   "metadata": {},
   "outputs": [
    {
     "data": {
      "text/plain": [
       "ACTION_TYPE\n",
       "TYPE 1    35507\n",
       "TYPE 3     1458\n",
       "TYPE 2       47\n",
       "Name: count, dtype: int64"
      ]
     },
     "execution_count": 10,
     "metadata": {},
     "output_type": "execute_result"
    }
   ],
   "source": [
    "result.ACTION_TYPE.value_counts()"
   ]
  },
  {
   "cell_type": "code",
   "execution_count": 14,
   "metadata": {},
   "outputs": [
    {
     "data": {
      "text/html": [
       "<div>\n",
       "<style scoped>\n",
       "    .dataframe tbody tr th:only-of-type {\n",
       "        vertical-align: middle;\n",
       "    }\n",
       "\n",
       "    .dataframe tbody tr th {\n",
       "        vertical-align: top;\n",
       "    }\n",
       "\n",
       "    .dataframe thead th {\n",
       "        text-align: right;\n",
       "    }\n",
       "</style>\n",
       "<table border=\"1\" class=\"dataframe\">\n",
       "  <thead>\n",
       "    <tr style=\"text-align: right;\">\n",
       "      <th></th>\n",
       "      <th>Customer_Id</th>\n",
       "      <th>ACTION_TYPE</th>\n",
       "    </tr>\n",
       "  </thead>\n",
       "  <tbody>\n",
       "    <tr>\n",
       "      <th>35556</th>\n",
       "      <td>1083868</td>\n",
       "      <td>TYPE 3</td>\n",
       "    </tr>\n",
       "  </tbody>\n",
       "</table>\n",
       "</div>"
      ],
      "text/plain": [
       "      Customer_Id ACTION_TYPE\n",
       "35556     1083868      TYPE 3"
      ]
     },
     "execution_count": 14,
     "metadata": {},
     "output_type": "execute_result"
    }
   ],
   "source": [
    "result[result['Customer_Id'] == '1083868']"
   ]
  },
  {
   "cell_type": "code",
   "execution_count": 12,
   "metadata": {},
   "outputs": [
    {
     "name": "stdout",
     "output_type": "stream",
     "text": [
      "<class 'pandas.core.frame.DataFrame'>\n",
      "RangeIndex: 37012 entries, 0 to 37011\n",
      "Data columns (total 2 columns):\n",
      " #   Column       Non-Null Count  Dtype \n",
      "---  ------       --------------  ----- \n",
      " 0   Customer_Id  37012 non-null  int64 \n",
      " 1   ACTION_TYPE  37012 non-null  object\n",
      "dtypes: int64(1), object(1)\n",
      "memory usage: 578.4+ KB\n"
     ]
    }
   ],
   "source": [
    "result.info()"
   ]
  },
  {
   "cell_type": "code",
   "execution_count": 13,
   "metadata": {},
   "outputs": [
    {
     "name": "stdout",
     "output_type": "stream",
     "text": [
      "<class 'pandas.core.frame.DataFrame'>\n",
      "RangeIndex: 37012 entries, 0 to 37011\n",
      "Data columns (total 2 columns):\n",
      " #   Column       Non-Null Count  Dtype \n",
      "---  ------       --------------  ----- \n",
      " 0   Customer_Id  37012 non-null  object\n",
      " 1   ACTION_TYPE  37012 non-null  object\n",
      "dtypes: object(2)\n",
      "memory usage: 578.4+ KB\n"
     ]
    }
   ],
   "source": [
    "result['Customer_Id'] = result['Customer_Id'].astype(str)\n",
    "result.info()"
   ]
  },
  {
   "cell_type": "code",
   "execution_count": 15,
   "metadata": {},
   "outputs": [],
   "source": [
    "result.to_csv(\"temp.csv\", index = False)"
   ]
  },
  {
   "cell_type": "code",
   "execution_count": 17,
   "metadata": {},
   "outputs": [
    {
     "name": "stdout",
     "output_type": "stream",
     "text": [
      "Table temp_tsa_secondnotificationcustomers created in dataset dap_ds_poweruser_playground.\n"
     ]
    }
   ],
   "source": [
    "# Define the dataset and table references\n",
    "\n",
    "dataset_id = 'dap_ds_poweruser_playground'\n",
    "table_id = 'temp_tsa_secondnotificationcustomers'\n",
    "# Define the table schema as per your DataFrame columns\n",
    "schema = [\n",
    "    bigquery.SchemaField(\"Customer_Id\", \"STRING\"),\n",
    "    bigquery.SchemaField(\"ACTION_TYPE\", \"STRING\"),\n",
    "]\n",
    "# Create the dataset reference\n",
    "dataset_ref = client.dataset(dataset_id)\n",
    "# Define the table reference\n",
    "table_ref = dataset_ref.table(table_id)\n",
    "# Configure the job to overwrite the table if it already exists\n",
    "job_config = bigquery.LoadJobConfig()\n",
    "# Load the DataFrame into BigQuery\n",
    "job = client.load_table_from_dataframe(result, table_ref, job_config=job_config)\n",
    "# Wait for the job to complete\n",
    "job.result()\n",
    "print(f\"Table {table_id} created in dataset {dataset_id}.\")"
   ]
  },
  {
   "cell_type": "code",
   "execution_count": 18,
   "metadata": {},
   "outputs": [
    {
     "name": "stdout",
     "output_type": "stream",
     "text": [
      "Job ID 1cd6ce93-0846-4f1c-a7f5-1adbb91aaf7e successfully executed: 100%|\u001b[32m██████████\u001b[0m|\n",
      "Downloading: 100%|\u001b[32m██████████\u001b[0m|\n"
     ]
    }
   ],
   "source": [
    "sq = \"\"\"select * from  dap_ds_poweruser_playground.temp_tsa_secondnotificationcustomers;\"\"\"\n",
    "\n",
    "a = client.query(sq).to_dataframe(progress_bar_type = 'tqdm')"
   ]
  },
  {
   "cell_type": "code",
   "execution_count": 21,
   "metadata": {},
   "outputs": [
    {
     "name": "stdout",
     "output_type": "stream",
     "text": [
      "The total breakdown is:\n",
      "ACTION_TYPE\n",
      "TYPE 1    35507\n",
      "TYPE 2       47\n",
      "TYPE 3     1458\n",
      "Name: Customer_Id, dtype: int64\n",
      "The unique breakdown is:\n",
      "ACTION_TYPE\n",
      "TYPE 1    35507\n",
      "TYPE 2       47\n",
      "TYPE 3     1458\n",
      "Name: Customer_Id, dtype: int64\n"
     ]
    }
   ],
   "source": [
    "print(\"The total breakdown is:\")\n",
    "print(a.groupby('ACTION_TYPE')['Customer_Id'].count())\n",
    "print(\"The unique breakdown is:\")\n",
    "print(a.groupby('ACTION_TYPE')['Customer_Id'].nunique())"
   ]
  },
  {
   "cell_type": "code",
   "execution_count": 16,
   "metadata": {},
   "outputs": [
    {
     "name": "stdout",
     "output_type": "stream",
     "text": [
      "('2982912', '2911320', '2877112', '2984139', '2910719')\n",
      "37012\n"
     ]
    }
   ],
   "source": [
    "# a = tuple(result['Customer_Id'])\n",
    "# print(a[:5])\n",
    "# print(len(a))"
   ]
  },
  {
   "cell_type": "code",
   "execution_count": 22,
   "metadata": {},
   "outputs": [
    {
     "name": "stdout",
     "output_type": "stream",
     "text": [
      "D-1 day from current date 2025-02-06 00:00:00\n",
      "D-60 day from the current date - 1: 2024-11-08\n",
      "D-180 day from the current date -1: 2024-07-11\n",
      "D-1 day from the current date: 2025-02-06\n",
      "D-60 day from the current date: 2024-11-08\n",
      "D-180 day from the current date: 2024-07-11\n"
     ]
    }
   ],
   "source": [
    "d = '2025-02-06'   ### Need to change this to D-1 everytime we run this code ###\n",
    "# Get the current date\n",
    "current_date = pd.Timestamp.now().date()\n",
    "d_minus_1_days = current_date - pd.DateOffset(days=1)\n",
    "# Calculate D-60 days\n",
    "d_minus_60_days = '2024-11-08'\n",
    "# Calculate D-180 days\n",
    "d_minus_180_days = '2024-07-11'\n",
    "\n",
    "print(\"D-1 day from current date\", d_minus_1_days )\n",
    "print(\"D-60 day from the current date - 1:\", d_minus_60_days)\n",
    "print(\"D-180 day from the current date -1:\", d_minus_180_days)\n",
    "\n",
    "d_minus_1_days_string = d_minus_1_days.strftime('%Y-%m-%d')\n",
    "print(\"D-1 day from the current date:\", d_minus_1_days_string)\n",
    "\n",
    "d_minus_60_days_string = d_minus_60_days\n",
    "print(\"D-60 day from the current date:\", d_minus_60_days_string)\n",
    "\n",
    "d_minus_180_days_string = d_minus_180_days\n",
    "print(\"D-180 day from the current date:\", d_minus_180_days_string)"
   ]
  },
  {
   "cell_type": "markdown",
   "metadata": {},
   "source": [
    "Step1: At line 11 change the date to D-1<br><br>\n",
    "Step2: At line around 36 (and (TSA_Opening_date < date '2023-10-18')   ####D-60 days(SHOULD BE SAME DATE FOR 1ST,2ND,3RD NOTIFICATION)) Change the date D-60 Days <br><br>\n",
    "Step3: At line around 45 (WHEN tsa_status = 'Active' and Last_TSA_EOD_Balance_Date is null and (TSA_Opening_date < date '2023-10-18')  ####D-60 days(SHOULD BE SAME DATE FOR 1ST,2ND,3RD NOTIFICATION)) Change the date D-60 Days <br><br>\n",
    "Step4: At line 58 (and TSA_Opening_date < date '2023-06-18'  and (Last_TSA_Credit_Date < date '2023-06-18' and Last_TSA_Debit_Date < date '2023-06-18' and coalesce(Last_Group_Stash_Credit_Date,date '1970-01-01') < date '2023-06-18')  ####D-180 days(SHOULD BE SAME DATE FOR 1ST,2ND,3RD NOTIFICATION)) <br><br>\n",
    "Step5: At line 72 (Run_Date = date '2024-01-09'###DATE change here to D-1) Change the date to D-1<br><br>"
   ]
  },
  {
   "cell_type": "markdown",
   "metadata": {},
   "source": [
    "First Notification we change all the steps <br><br>\n",
    "Second and Third Notification we only change Step1 and Step5\n",
    "For Second Notificaiton and Third Notificaiton the customre id should be from the file sent by Marvin. <br><br>"
   ]
  },
  {
   "cell_type": "code",
   "execution_count": 24,
   "metadata": {},
   "outputs": [
    {
     "name": "stdout",
     "output_type": "stream",
     "text": [
      "Job ID 5971f501-92db-4d00-957d-88a99267f054 successfully executed: 100%|\u001b[32m██████████\u001b[0m|\n",
      "Downloading: 100%|\u001b[32m██████████\u001b[0m|\n"
     ]
    },
    {
     "data": {
      "text/plain": [
       "(37011, 29)"
      ]
     },
     "execution_count": 24,
     "metadata": {},
     "output_type": "execute_result"
    }
   ],
   "source": [
    "sq = f\"\"\"\n",
    "with\n",
    "w_kyc\n",
    "as\n",
    "(\n",
    "  select distinct PARTYID, SEGCATEGORYDESC, row_number() over(partition by partyid order by SEGEFFECTIVEFROM desc) as rnk from `core_raw.party_details`\n",
    "),\n",
    "w_tsa\n",
    "as\n",
    "(\n",
    "  select * from risk_credit_mis.tsa_account_closure where Run_Date = date '{d_minus_1_days_string}' ###DATE change here to D-1\n",
    "  and\n",
    "  Customer_Id not in (select cast(PARTYID as string) from w_kyc where rnk = 1 and SEGCATEGORYDESC = 'BKYC')\n",
    "  and\n",
    "  customer_id in (select distinct cast(Customer_Id as string) from  dap_ds_poweruser_playground.temp_tsa_secondnotificationcustomers)\n",
    "  )\n",
    "select * from w_tsa;\n",
    "\"\"\"\n",
    "\n",
    "dfd = client.query(sq).to_dataframe(progress_bar_type =  'tqdm')\n",
    "dfd.shape"
   ]
  },
  {
   "cell_type": "code",
   "execution_count": 29,
   "metadata": {},
   "outputs": [],
   "source": [
    "sq = f\"\"\"\n",
    "with\n",
    "w_kyc\n",
    "as\n",
    "(\n",
    "  select distinct PARTYID, SEGCATEGORYDESC, row_number() over(partition by partyid order by SEGEFFECTIVEFROM desc) as rnk from `core_raw.party_details`\n",
    "),\n",
    "w_tsa\n",
    "as\n",
    "(\n",
    "  select * from risk_credit_mis.tsa_account_closure where Run_Date = date '{d_minus_1_days_string}'  ###DATE change here to D-1\n",
    "  and\n",
    "  Customer_Id not in (select cast(PARTYID as string) from w_kyc where rnk = 1 and SEGCATEGORYDESC = 'BKYC')\n",
    "  and\n",
    "  customer_id in (select distinct cast(Customer_Id as string) from  dap_ds_poweruser_playground.temp_tsa_secondnotificationcustomers)\n",
    "),\n",
    "w_approved\n",
    "as\n",
    "(\n",
    "  select DISTINCT customerId from risk_credit_mis.loan_master_table where loantype = 'BIGLOAN' OR FLAGAPPROVAL = 1 OR FLAGDISBURSEMENT = 1  \n",
    "  or (stage1Status = 'EXPIRED' AND cddInitiatedDateAndTime IS NULL)\n",
    ")\n",
    "select *\n",
    "from\n",
    "(\n",
    "  select distinct\n",
    "  a.Customer_Id,a.TSA_Opening_date,\n",
    "  c.OFSTANDARDACCOUNTID as TSA_Account_Number, c.OfblockAmount, \n",
    "  a.TSA_Status,a.TSA_Balance,a.Solo_Stash_Balance,a.Group_Stash_Balance,a.Term_Deposit_Balance,a.Active_Term_Deposit_flag,a.Last_TSA_Credit_Date,a.Last_TSA_Debit_Date,\n",
    "  a.ARI_Flag,a.Active_Loan,a.Total_Loan_Outstanding,  case when b.customerId is not null then 1 else 0 end as Approved_Loans,\n",
    "  a.Pending_Loan_Applications,a.Hard_Reject_Loans_App,a.Soft_Reject_Loans_App,a.Cancelled_Loans_App, extract(date from a.Last_Login_Date) as Last_Login_Date,\n",
    "  a.Last_TSA_EOD_Balance_Date,a.Last_Group_Stash_Credit_Date,a.Group_Stash_Balance_Owner,a.Run_Date,a.Batch,a.Processing_Month,a.pending_loans_not_expired_not_exempt,a.expired_loans,\n",
    "  a.pending_loans_lastDt,a.expired_loans_lastDt,\n",
    "  CASE \n",
    "    WHEN tsa_status = 'Active' and (Last_TSA_Credit_Date = date '1970-01-01' and Last_Group_Stash_Credit_Date is null)\n",
    "    and (TSA_Opening_date < date '{d_minus_60_days_string}')   ####D-60 days(SHOULD BE SAME DATE FOR 1ST,2ND,3RD NOTIFICATION)\n",
    "    and ( round(coalesce(TSA_Balance,0) + coalesce(Solo_Stash_Balance,0) + coalesce(Group_Stash_Balance,0) + coalesce(Term_Deposit_Balance,0),2) = 0 )\n",
    "    and (coalesce(Active_Loan,0) = 0) and (COALESCE(Pending_Loan_Applications,0) = 0)\n",
    "    and (Active_Term_Deposit_flag = 0)\n",
    "    and (ARI_Flag = 'N')\n",
    "    --and (Approved_Loans = 0)  THEN 'TYPE 1'\n",
    "    and b.customerId is null  THEN 'TYPE 1'\n",
    "\n",
    "\n",
    "    WHEN tsa_status = 'Active' and Last_TSA_EOD_Balance_Date is null and (TSA_Opening_date < date '{d_minus_60_days_string}')  ####D-60 days(SHOULD BE SAME DATE FOR 1ST,2ND,3RD NOTIFICATION)\n",
    "    and ( round(coalesce(TSA_Balance,0) + coalesce(Solo_Stash_Balance,0) + coalesce(Group_Stash_Balance,0) + coalesce(Term_Deposit_Balance,0),2) = 0 )\n",
    "    and (coalesce(Active_Loan, 0) = 0) and (COALESCE(Pending_Loan_Applications,0) = 0)\n",
    "    and (Active_Term_Deposit_flag = 0)\n",
    "    and (ARI_Flag = 'N')\n",
    "    --and (Approved_Loans = 0)\n",
    "    and b.customerId is null  \n",
    "    and (date_trunc(TSA_Opening_date,day) = date_trunc(Last_Login_Date,day)) THEN 'TYPE 2'\n",
    "\n",
    "    \n",
    "    WHEN ( round(coalesce(TSA_Balance,0) + coalesce(Solo_Stash_Balance,0) + coalesce(Group_Stash_Balance,0) + coalesce(Term_Deposit_Balance,0),2) < 1 )\n",
    "            and (coalesce(Active_Loan, 0) = 0) and (COALESCE(Pending_Loan_Applications,0) = 0)\n",
    "            and (Active_Term_Deposit_flag = 0)\n",
    "            and TSA_Opening_date < date '{d_minus_180_days_string}'                                     ####D-180 days(SHOULD BE SAME DATE FOR 1ST,2ND,3RD NOTIFICATION)\n",
    "            and (Last_TSA_Credit_Date < date '{d_minus_180_days_string}'                                 ####D-180 days(SHOULD BE SAME DATE FOR 1ST,2ND,3RD NOTIFICATION)\n",
    "            and Last_TSA_Debit_Date < date '{d_minus_180_days_string}'                                         ####D-180 days(SHOULD BE SAME DATE FOR 1ST,2ND,3RD NOTIFICATION)\n",
    "            and coalesce(Last_Group_Stash_Credit_Date,date '1970-01-01') < date '{d_minus_180_days_string}' )  ####D-180 days(SHOULD BE SAME DATE FOR 1ST,2ND,3RD NOTIFICATION)\n",
    "            and tsa_status = 'Active'\n",
    "            and (ARI_Flag = 'N')\n",
    "    --and (Approved_Loans = 0)\n",
    "            and b.customerId is null  \n",
    "    THEN 'TYPE 3'\n",
    "    ELSE 'NO ACTION'\n",
    "    END AS ACTION_TYPE\n",
    "  from w_tsa A\n",
    "  left join w_approved b\n",
    "  on cast(a.Customer_Id as int64) = b.customerId\n",
    "  left join core_raw.customer_accounts c\n",
    "  on c.OFCUSTOMERID = a.Customer_Id and c.CRINTERDESC = 'Transactional Savings Account Inv_R' and c.OFISCLOSED = 'N'\n",
    "  where\n",
    "  Run_Date = date '{d_minus_1_days_string}'  ###DATE change here to D-1\n",
    ")\n",
    "\"\"\"\n"
   ]
  },
  {
   "cell_type": "code",
   "execution_count": 30,
   "metadata": {},
   "outputs": [
    {
     "name": "stdout",
     "output_type": "stream",
     "text": [
      "\n",
      "with\n",
      "w_kyc\n",
      "as\n",
      "(\n",
      "  select distinct PARTYID, SEGCATEGORYDESC, row_number() over(partition by partyid order by SEGEFFECTIVEFROM desc) as rnk from `core_raw.party_details`\n",
      "),\n",
      "w_tsa\n",
      "as\n",
      "(\n",
      "  select * from risk_credit_mis.tsa_account_closure where Run_Date = date '2025-02-06'  ###DATE change here to D-1\n",
      "  and\n",
      "  Customer_Id not in (select cast(PARTYID as string) from w_kyc where rnk = 1 and SEGCATEGORYDESC = 'BKYC')\n",
      "  and\n",
      "  customer_id in (select distinct cast(Customer_Id as string) from  dap_ds_poweruser_playground.temp_tsa_secondnotificationcustomers)\n",
      "),\n",
      "w_approved\n",
      "as\n",
      "(\n",
      "  select DISTINCT customerId from risk_credit_mis.loan_master_table where loantype = 'BIGLOAN' OR FLAGAPPROVAL = 1 OR FLAGDISBURSEMENT = 1  \n",
      "  or (stage1Status = 'EXPIRED' AND cddInitiatedDateAndTime IS NULL)\n",
      ")\n",
      "select *\n",
      "from\n",
      "(\n",
      "  select distinct\n",
      "  a.Customer_Id,a.TSA_Opening_date,\n",
      "  c.OFSTANDARDACCOUNTID as TSA_Account_Number, c.OfblockAmount, \n",
      "  a.TSA_Status,a.TSA_Balance,a.Solo_Stash_Balance,a.Group_Stash_Balance,a.Term_Deposit_Balance,a.Active_Term_Deposit_flag,a.Last_TSA_Credit_Date,a.Last_TSA_Debit_Date,\n",
      "  a.ARI_Flag,a.Active_Loan,a.Total_Loan_Outstanding,  case when b.customerId is not null then 1 else 0 end as Approved_Loans,\n",
      "  a.Pending_Loan_Applications,a.Hard_Reject_Loans_App,a.Soft_Reject_Loans_App,a.Cancelled_Loans_App, extract(date from a.Last_Login_Date) as Last_Login_Date,\n",
      "  a.Last_TSA_EOD_Balance_Date,a.Last_Group_Stash_Credit_Date,a.Group_Stash_Balance_Owner,a.Run_Date,a.Batch,a.Processing_Month,a.pending_loans_not_expired_not_exempt,a.expired_loans,\n",
      "  a.pending_loans_lastDt,a.expired_loans_lastDt,\n",
      "  CASE \n",
      "    WHEN tsa_status = 'Active' and (Last_TSA_Credit_Date = date '1970-01-01' and Last_Group_Stash_Credit_Date is null)\n",
      "    and (TSA_Opening_date < date '2024-11-08')   ####D-60 days(SHOULD BE SAME DATE FOR 1ST,2ND,3RD NOTIFICATION)\n",
      "    and ( round(coalesce(TSA_Balance,0) + coalesce(Solo_Stash_Balance,0) + coalesce(Group_Stash_Balance,0) + coalesce(Term_Deposit_Balance,0),2) = 0 )\n",
      "    and (coalesce(Active_Loan,0) = 0) and (COALESCE(Pending_Loan_Applications,0) = 0)\n",
      "    and (Active_Term_Deposit_flag = 0)\n",
      "    and (ARI_Flag = 'N')\n",
      "    --and (Approved_Loans = 0)  THEN 'TYPE 1'\n",
      "    and b.customerId is null  THEN 'TYPE 1'\n",
      "\n",
      "\n",
      "    WHEN tsa_status = 'Active' and Last_TSA_EOD_Balance_Date is null and (TSA_Opening_date < date '2024-11-08')  ####D-60 days(SHOULD BE SAME DATE FOR 1ST,2ND,3RD NOTIFICATION)\n",
      "    and ( round(coalesce(TSA_Balance,0) + coalesce(Solo_Stash_Balance,0) + coalesce(Group_Stash_Balance,0) + coalesce(Term_Deposit_Balance,0),2) = 0 )\n",
      "    and (coalesce(Active_Loan, 0) = 0) and (COALESCE(Pending_Loan_Applications,0) = 0)\n",
      "    and (Active_Term_Deposit_flag = 0)\n",
      "    and (ARI_Flag = 'N')\n",
      "    --and (Approved_Loans = 0)\n",
      "    and b.customerId is null  \n",
      "    and (date_trunc(TSA_Opening_date,day) = date_trunc(Last_Login_Date,day)) THEN 'TYPE 2'\n",
      "\n",
      "    \n",
      "    WHEN ( round(coalesce(TSA_Balance,0) + coalesce(Solo_Stash_Balance,0) + coalesce(Group_Stash_Balance,0) + coalesce(Term_Deposit_Balance,0),2) < 1 )\n",
      "            and (coalesce(Active_Loan, 0) = 0) and (COALESCE(Pending_Loan_Applications,0) = 0)\n",
      "            and (Active_Term_Deposit_flag = 0)\n",
      "            and TSA_Opening_date < date '2024-07-11'                                     ####D-180 days(SHOULD BE SAME DATE FOR 1ST,2ND,3RD NOTIFICATION)\n",
      "            and (Last_TSA_Credit_Date < date '2024-07-11'                                 ####D-180 days(SHOULD BE SAME DATE FOR 1ST,2ND,3RD NOTIFICATION)\n",
      "            and Last_TSA_Debit_Date < date '2024-07-11'                                         ####D-180 days(SHOULD BE SAME DATE FOR 1ST,2ND,3RD NOTIFICATION)\n",
      "            and coalesce(Last_Group_Stash_Credit_Date,date '1970-01-01') < date '2024-07-11' )  ####D-180 days(SHOULD BE SAME DATE FOR 1ST,2ND,3RD NOTIFICATION)\n",
      "            and tsa_status = 'Active'\n",
      "            and (ARI_Flag = 'N')\n",
      "    --and (Approved_Loans = 0)\n",
      "            and b.customerId is null  \n",
      "    THEN 'TYPE 3'\n",
      "    ELSE 'NO ACTION'\n",
      "    END AS ACTION_TYPE\n",
      "  from w_tsa A\n",
      "  left join w_approved b\n",
      "  on cast(a.Customer_Id as int64) = b.customerId\n",
      "  left join core_raw.customer_accounts c\n",
      "  on c.OFCUSTOMERID = a.Customer_Id and c.CRINTERDESC = 'Transactional Savings Account Inv_R' and c.OFISCLOSED = 'N'\n",
      "  where\n",
      "  Run_Date = date '2025-02-06'  ###DATE change here to D-1\n",
      ")\n",
      "\n"
     ]
    }
   ],
   "source": [
    "print(sq)"
   ]
  },
  {
   "cell_type": "code",
   "execution_count": 31,
   "metadata": {},
   "outputs": [
    {
     "name": "stdout",
     "output_type": "stream",
     "text": [
      "\n",
      "\u001b[A\n",
      "\u001b[A\n",
      "\u001b[A\n",
      "Job ID dba37e1c-0ddf-4648-bbc6-19befad62fca successfully executed: 100%|\u001b[32m██████████\u001b[0m|\n",
      "\n",
      "\u001b[A\n",
      "\u001b[A\n",
      "Query is running:   0%|\u001b[32m          \u001b[0m|\n",
      "\n",
      "\u001b[A\n",
      "Downloading: 100%|\u001b[32m██████████\u001b[0m|\n"
     ]
    }
   ],
   "source": [
    "df = client.query(sq).to_dataframe(progress_bar_type = 'tqdm')"
   ]
  },
  {
   "cell_type": "code",
   "execution_count": 32,
   "metadata": {},
   "outputs": [
    {
     "data": {
      "text/html": [
       "<div>\n",
       "<style scoped>\n",
       "    .dataframe tbody tr th:only-of-type {\n",
       "        vertical-align: middle;\n",
       "    }\n",
       "\n",
       "    .dataframe tbody tr th {\n",
       "        vertical-align: top;\n",
       "    }\n",
       "\n",
       "    .dataframe thead th {\n",
       "        text-align: right;\n",
       "    }\n",
       "</style>\n",
       "<table border=\"1\" class=\"dataframe\">\n",
       "  <thead>\n",
       "    <tr style=\"text-align: right;\">\n",
       "      <th></th>\n",
       "      <th>Customer_Id</th>\n",
       "      <th>TSA_Opening_date</th>\n",
       "      <th>TSA_Account_Number</th>\n",
       "      <th>OfblockAmount</th>\n",
       "      <th>TSA_Status</th>\n",
       "      <th>TSA_Balance</th>\n",
       "      <th>Solo_Stash_Balance</th>\n",
       "      <th>Group_Stash_Balance</th>\n",
       "      <th>Term_Deposit_Balance</th>\n",
       "      <th>Active_Term_Deposit_flag</th>\n",
       "      <th>Last_TSA_Credit_Date</th>\n",
       "      <th>Last_TSA_Debit_Date</th>\n",
       "      <th>ARI_Flag</th>\n",
       "      <th>Active_Loan</th>\n",
       "      <th>Total_Loan_Outstanding</th>\n",
       "      <th>Approved_Loans</th>\n",
       "      <th>Pending_Loan_Applications</th>\n",
       "      <th>Hard_Reject_Loans_App</th>\n",
       "      <th>Soft_Reject_Loans_App</th>\n",
       "      <th>Cancelled_Loans_App</th>\n",
       "      <th>Last_Login_Date</th>\n",
       "      <th>Last_TSA_EOD_Balance_Date</th>\n",
       "      <th>Last_Group_Stash_Credit_Date</th>\n",
       "      <th>Group_Stash_Balance_Owner</th>\n",
       "      <th>Run_Date</th>\n",
       "      <th>Batch</th>\n",
       "      <th>Processing_Month</th>\n",
       "      <th>pending_loans_not_expired_not_exempt</th>\n",
       "      <th>expired_loans</th>\n",
       "      <th>pending_loans_lastDt</th>\n",
       "      <th>expired_loans_lastDt</th>\n",
       "      <th>ACTION_TYPE</th>\n",
       "    </tr>\n",
       "  </thead>\n",
       "  <tbody>\n",
       "    <tr>\n",
       "      <th>17961</th>\n",
       "      <td>2872684</td>\n",
       "      <td>2024-09-26</td>\n",
       "      <td>60828726840007</td>\n",
       "      <td>0.0</td>\n",
       "      <td>Active</td>\n",
       "      <td>0.00</td>\n",
       "      <td>0.0</td>\n",
       "      <td>0.0</td>\n",
       "      <td>0.0</td>\n",
       "      <td>0</td>\n",
       "      <td>1970-01-01</td>\n",
       "      <td>1970-01-01</td>\n",
       "      <td>N</td>\n",
       "      <td>0</td>\n",
       "      <td>0.0</td>\n",
       "      <td>0</td>\n",
       "      <td>0</td>\n",
       "      <td>0</td>\n",
       "      <td>0</td>\n",
       "      <td>0</td>\n",
       "      <td>2024-10-10</td>\n",
       "      <td>NaT</td>\n",
       "      <td>NaT</td>\n",
       "      <td>NaN</td>\n",
       "      <td>2025-02-06</td>\n",
       "      <td>Batch_1</td>\n",
       "      <td>February</td>\n",
       "      <td>0</td>\n",
       "      <td>1</td>\n",
       "      <td>NaT</td>\n",
       "      <td>2024-12-26</td>\n",
       "      <td>TYPE 1</td>\n",
       "    </tr>\n",
       "    <tr>\n",
       "      <th>23458</th>\n",
       "      <td>2948373</td>\n",
       "      <td>2024-10-17</td>\n",
       "      <td>60829483730001</td>\n",
       "      <td>0.0</td>\n",
       "      <td>Active</td>\n",
       "      <td>0.00</td>\n",
       "      <td>0.0</td>\n",
       "      <td>0.0</td>\n",
       "      <td>0.0</td>\n",
       "      <td>0</td>\n",
       "      <td>1970-01-01</td>\n",
       "      <td>1970-01-01</td>\n",
       "      <td>N</td>\n",
       "      <td>0</td>\n",
       "      <td>0.0</td>\n",
       "      <td>0</td>\n",
       "      <td>0</td>\n",
       "      <td>0</td>\n",
       "      <td>0</td>\n",
       "      <td>0</td>\n",
       "      <td>2024-10-17</td>\n",
       "      <td>NaT</td>\n",
       "      <td>NaT</td>\n",
       "      <td>NaN</td>\n",
       "      <td>2025-02-06</td>\n",
       "      <td>Batch_1</td>\n",
       "      <td>February</td>\n",
       "      <td>0</td>\n",
       "      <td>1</td>\n",
       "      <td>NaT</td>\n",
       "      <td>2025-01-16</td>\n",
       "      <td>TYPE 1</td>\n",
       "    </tr>\n",
       "    <tr>\n",
       "      <th>4968</th>\n",
       "      <td>2968218</td>\n",
       "      <td>2024-10-24</td>\n",
       "      <td>60829682180001</td>\n",
       "      <td>0.0</td>\n",
       "      <td>Active</td>\n",
       "      <td>0.00</td>\n",
       "      <td>0.0</td>\n",
       "      <td>0.0</td>\n",
       "      <td>0.0</td>\n",
       "      <td>0</td>\n",
       "      <td>1970-01-01</td>\n",
       "      <td>1970-01-01</td>\n",
       "      <td>N</td>\n",
       "      <td>0</td>\n",
       "      <td>0.0</td>\n",
       "      <td>0</td>\n",
       "      <td>0</td>\n",
       "      <td>0</td>\n",
       "      <td>0</td>\n",
       "      <td>0</td>\n",
       "      <td>2024-10-26</td>\n",
       "      <td>NaT</td>\n",
       "      <td>NaT</td>\n",
       "      <td>NaN</td>\n",
       "      <td>2025-02-06</td>\n",
       "      <td>Batch_1</td>\n",
       "      <td>February</td>\n",
       "      <td>0</td>\n",
       "      <td>0</td>\n",
       "      <td>NaT</td>\n",
       "      <td>NaT</td>\n",
       "      <td>TYPE 1</td>\n",
       "    </tr>\n",
       "    <tr>\n",
       "      <th>32636</th>\n",
       "      <td>1288116</td>\n",
       "      <td>2022-03-26</td>\n",
       "      <td>60812881160006</td>\n",
       "      <td>0.0</td>\n",
       "      <td>Active</td>\n",
       "      <td>0.89</td>\n",
       "      <td>0.0</td>\n",
       "      <td>0.0</td>\n",
       "      <td>0.0</td>\n",
       "      <td>0</td>\n",
       "      <td>2025-01-31</td>\n",
       "      <td>2024-02-01</td>\n",
       "      <td>N</td>\n",
       "      <td>0</td>\n",
       "      <td>0.0</td>\n",
       "      <td>0</td>\n",
       "      <td>0</td>\n",
       "      <td>0</td>\n",
       "      <td>0</td>\n",
       "      <td>0</td>\n",
       "      <td>2024-02-05</td>\n",
       "      <td>2025-02-06</td>\n",
       "      <td>NaT</td>\n",
       "      <td>NaN</td>\n",
       "      <td>2025-02-06</td>\n",
       "      <td>Batch_1</td>\n",
       "      <td>February</td>\n",
       "      <td>0</td>\n",
       "      <td>3</td>\n",
       "      <td>NaT</td>\n",
       "      <td>2024-05-06</td>\n",
       "      <td>NO ACTION</td>\n",
       "    </tr>\n",
       "    <tr>\n",
       "      <th>4182</th>\n",
       "      <td>2913185</td>\n",
       "      <td>2024-10-05</td>\n",
       "      <td>60829131850003</td>\n",
       "      <td>0.0</td>\n",
       "      <td>Active</td>\n",
       "      <td>0.00</td>\n",
       "      <td>0.0</td>\n",
       "      <td>0.0</td>\n",
       "      <td>0.0</td>\n",
       "      <td>0</td>\n",
       "      <td>1970-01-01</td>\n",
       "      <td>1970-01-01</td>\n",
       "      <td>N</td>\n",
       "      <td>0</td>\n",
       "      <td>0.0</td>\n",
       "      <td>0</td>\n",
       "      <td>0</td>\n",
       "      <td>0</td>\n",
       "      <td>0</td>\n",
       "      <td>0</td>\n",
       "      <td>2024-10-05</td>\n",
       "      <td>NaT</td>\n",
       "      <td>NaT</td>\n",
       "      <td>NaN</td>\n",
       "      <td>2025-02-06</td>\n",
       "      <td>Batch_1</td>\n",
       "      <td>February</td>\n",
       "      <td>0</td>\n",
       "      <td>0</td>\n",
       "      <td>NaT</td>\n",
       "      <td>NaT</td>\n",
       "      <td>TYPE 1</td>\n",
       "    </tr>\n",
       "    <tr>\n",
       "      <th>28802</th>\n",
       "      <td>2824547</td>\n",
       "      <td>2024-11-06</td>\n",
       "      <td>60828245470002</td>\n",
       "      <td>0.0</td>\n",
       "      <td>Active</td>\n",
       "      <td>0.00</td>\n",
       "      <td>0.0</td>\n",
       "      <td>0.0</td>\n",
       "      <td>0.0</td>\n",
       "      <td>0</td>\n",
       "      <td>1970-01-01</td>\n",
       "      <td>1970-01-01</td>\n",
       "      <td>N</td>\n",
       "      <td>0</td>\n",
       "      <td>0.0</td>\n",
       "      <td>0</td>\n",
       "      <td>0</td>\n",
       "      <td>0</td>\n",
       "      <td>0</td>\n",
       "      <td>0</td>\n",
       "      <td>2024-11-06</td>\n",
       "      <td>NaT</td>\n",
       "      <td>NaT</td>\n",
       "      <td>NaN</td>\n",
       "      <td>2025-02-06</td>\n",
       "      <td>Batch_1</td>\n",
       "      <td>February</td>\n",
       "      <td>0</td>\n",
       "      <td>1</td>\n",
       "      <td>NaT</td>\n",
       "      <td>2024-12-05</td>\n",
       "      <td>TYPE 1</td>\n",
       "    </tr>\n",
       "    <tr>\n",
       "      <th>32498</th>\n",
       "      <td>2975378</td>\n",
       "      <td>2024-10-26</td>\n",
       "      <td>60829753780008</td>\n",
       "      <td>0.0</td>\n",
       "      <td>Active</td>\n",
       "      <td>0.00</td>\n",
       "      <td>0.0</td>\n",
       "      <td>0.0</td>\n",
       "      <td>0.0</td>\n",
       "      <td>0</td>\n",
       "      <td>1970-01-01</td>\n",
       "      <td>1970-01-01</td>\n",
       "      <td>N</td>\n",
       "      <td>0</td>\n",
       "      <td>0.0</td>\n",
       "      <td>0</td>\n",
       "      <td>0</td>\n",
       "      <td>0</td>\n",
       "      <td>0</td>\n",
       "      <td>0</td>\n",
       "      <td>2024-11-28</td>\n",
       "      <td>NaT</td>\n",
       "      <td>NaT</td>\n",
       "      <td>NaN</td>\n",
       "      <td>2025-02-06</td>\n",
       "      <td>Batch_1</td>\n",
       "      <td>February</td>\n",
       "      <td>0</td>\n",
       "      <td>1</td>\n",
       "      <td>NaT</td>\n",
       "      <td>2025-01-25</td>\n",
       "      <td>TYPE 1</td>\n",
       "    </tr>\n",
       "    <tr>\n",
       "      <th>14274</th>\n",
       "      <td>2978522</td>\n",
       "      <td>2024-10-27</td>\n",
       "      <td>60829785220001</td>\n",
       "      <td>0.0</td>\n",
       "      <td>Active</td>\n",
       "      <td>0.00</td>\n",
       "      <td>0.0</td>\n",
       "      <td>0.0</td>\n",
       "      <td>0.0</td>\n",
       "      <td>0</td>\n",
       "      <td>1970-01-01</td>\n",
       "      <td>1970-01-01</td>\n",
       "      <td>N</td>\n",
       "      <td>0</td>\n",
       "      <td>0.0</td>\n",
       "      <td>0</td>\n",
       "      <td>0</td>\n",
       "      <td>0</td>\n",
       "      <td>0</td>\n",
       "      <td>0</td>\n",
       "      <td>2024-11-29</td>\n",
       "      <td>NaT</td>\n",
       "      <td>NaT</td>\n",
       "      <td>NaN</td>\n",
       "      <td>2025-02-06</td>\n",
       "      <td>Batch_1</td>\n",
       "      <td>February</td>\n",
       "      <td>0</td>\n",
       "      <td>1</td>\n",
       "      <td>NaT</td>\n",
       "      <td>2025-01-26</td>\n",
       "      <td>TYPE 1</td>\n",
       "    </tr>\n",
       "    <tr>\n",
       "      <th>2736</th>\n",
       "      <td>2946304</td>\n",
       "      <td>2024-10-16</td>\n",
       "      <td>60829463040009</td>\n",
       "      <td>0.0</td>\n",
       "      <td>Active</td>\n",
       "      <td>0.00</td>\n",
       "      <td>0.0</td>\n",
       "      <td>0.0</td>\n",
       "      <td>0.0</td>\n",
       "      <td>0</td>\n",
       "      <td>1970-01-01</td>\n",
       "      <td>1970-01-01</td>\n",
       "      <td>N</td>\n",
       "      <td>0</td>\n",
       "      <td>0.0</td>\n",
       "      <td>0</td>\n",
       "      <td>0</td>\n",
       "      <td>0</td>\n",
       "      <td>0</td>\n",
       "      <td>0</td>\n",
       "      <td>2024-10-16</td>\n",
       "      <td>NaT</td>\n",
       "      <td>NaT</td>\n",
       "      <td>NaN</td>\n",
       "      <td>2025-02-06</td>\n",
       "      <td>Batch_1</td>\n",
       "      <td>February</td>\n",
       "      <td>0</td>\n",
       "      <td>0</td>\n",
       "      <td>NaT</td>\n",
       "      <td>NaT</td>\n",
       "      <td>TYPE 1</td>\n",
       "    </tr>\n",
       "    <tr>\n",
       "      <th>8699</th>\n",
       "      <td>2098985</td>\n",
       "      <td>2023-06-18</td>\n",
       "      <td>60820989850003</td>\n",
       "      <td>0.0</td>\n",
       "      <td>Active</td>\n",
       "      <td>0.24</td>\n",
       "      <td>0.0</td>\n",
       "      <td>0.0</td>\n",
       "      <td>0.0</td>\n",
       "      <td>0</td>\n",
       "      <td>2024-06-30</td>\n",
       "      <td>2024-06-30</td>\n",
       "      <td>N</td>\n",
       "      <td>0</td>\n",
       "      <td>0.0</td>\n",
       "      <td>0</td>\n",
       "      <td>0</td>\n",
       "      <td>0</td>\n",
       "      <td>0</td>\n",
       "      <td>0</td>\n",
       "      <td>2024-10-11</td>\n",
       "      <td>2025-02-06</td>\n",
       "      <td>NaT</td>\n",
       "      <td>NaN</td>\n",
       "      <td>2025-02-06</td>\n",
       "      <td>Batch_1</td>\n",
       "      <td>February</td>\n",
       "      <td>0</td>\n",
       "      <td>0</td>\n",
       "      <td>NaT</td>\n",
       "      <td>NaT</td>\n",
       "      <td>TYPE 3</td>\n",
       "    </tr>\n",
       "  </tbody>\n",
       "</table>\n",
       "</div>"
      ],
      "text/plain": [
       "      Customer_Id TSA_Opening_date TSA_Account_Number  OfblockAmount  \\\n",
       "17961     2872684       2024-09-26     60828726840007            0.0   \n",
       "23458     2948373       2024-10-17     60829483730001            0.0   \n",
       "4968      2968218       2024-10-24     60829682180001            0.0   \n",
       "32636     1288116       2022-03-26     60812881160006            0.0   \n",
       "4182      2913185       2024-10-05     60829131850003            0.0   \n",
       "28802     2824547       2024-11-06     60828245470002            0.0   \n",
       "32498     2975378       2024-10-26     60829753780008            0.0   \n",
       "14274     2978522       2024-10-27     60829785220001            0.0   \n",
       "2736      2946304       2024-10-16     60829463040009            0.0   \n",
       "8699      2098985       2023-06-18     60820989850003            0.0   \n",
       "\n",
       "      TSA_Status  TSA_Balance  Solo_Stash_Balance  Group_Stash_Balance  \\\n",
       "17961     Active         0.00                 0.0                  0.0   \n",
       "23458     Active         0.00                 0.0                  0.0   \n",
       "4968      Active         0.00                 0.0                  0.0   \n",
       "32636     Active         0.89                 0.0                  0.0   \n",
       "4182      Active         0.00                 0.0                  0.0   \n",
       "28802     Active         0.00                 0.0                  0.0   \n",
       "32498     Active         0.00                 0.0                  0.0   \n",
       "14274     Active         0.00                 0.0                  0.0   \n",
       "2736      Active         0.00                 0.0                  0.0   \n",
       "8699      Active         0.24                 0.0                  0.0   \n",
       "\n",
       "       Term_Deposit_Balance  Active_Term_Deposit_flag Last_TSA_Credit_Date  \\\n",
       "17961                   0.0                         0           1970-01-01   \n",
       "23458                   0.0                         0           1970-01-01   \n",
       "4968                    0.0                         0           1970-01-01   \n",
       "32636                   0.0                         0           2025-01-31   \n",
       "4182                    0.0                         0           1970-01-01   \n",
       "28802                   0.0                         0           1970-01-01   \n",
       "32498                   0.0                         0           1970-01-01   \n",
       "14274                   0.0                         0           1970-01-01   \n",
       "2736                    0.0                         0           1970-01-01   \n",
       "8699                    0.0                         0           2024-06-30   \n",
       "\n",
       "      Last_TSA_Debit_Date ARI_Flag  Active_Loan  Total_Loan_Outstanding  \\\n",
       "17961          1970-01-01        N            0                     0.0   \n",
       "23458          1970-01-01        N            0                     0.0   \n",
       "4968           1970-01-01        N            0                     0.0   \n",
       "32636          2024-02-01        N            0                     0.0   \n",
       "4182           1970-01-01        N            0                     0.0   \n",
       "28802          1970-01-01        N            0                     0.0   \n",
       "32498          1970-01-01        N            0                     0.0   \n",
       "14274          1970-01-01        N            0                     0.0   \n",
       "2736           1970-01-01        N            0                     0.0   \n",
       "8699           2024-06-30        N            0                     0.0   \n",
       "\n",
       "       Approved_Loans  Pending_Loan_Applications  Hard_Reject_Loans_App  \\\n",
       "17961               0                          0                      0   \n",
       "23458               0                          0                      0   \n",
       "4968                0                          0                      0   \n",
       "32636               0                          0                      0   \n",
       "4182                0                          0                      0   \n",
       "28802               0                          0                      0   \n",
       "32498               0                          0                      0   \n",
       "14274               0                          0                      0   \n",
       "2736                0                          0                      0   \n",
       "8699                0                          0                      0   \n",
       "\n",
       "       Soft_Reject_Loans_App  Cancelled_Loans_App Last_Login_Date  \\\n",
       "17961                      0                    0      2024-10-10   \n",
       "23458                      0                    0      2024-10-17   \n",
       "4968                       0                    0      2024-10-26   \n",
       "32636                      0                    0      2024-02-05   \n",
       "4182                       0                    0      2024-10-05   \n",
       "28802                      0                    0      2024-11-06   \n",
       "32498                      0                    0      2024-11-28   \n",
       "14274                      0                    0      2024-11-29   \n",
       "2736                       0                    0      2024-10-16   \n",
       "8699                       0                    0      2024-10-11   \n",
       "\n",
       "      Last_TSA_EOD_Balance_Date Last_Group_Stash_Credit_Date  \\\n",
       "17961                       NaT                          NaT   \n",
       "23458                       NaT                          NaT   \n",
       "4968                        NaT                          NaT   \n",
       "32636                2025-02-06                          NaT   \n",
       "4182                        NaT                          NaT   \n",
       "28802                       NaT                          NaT   \n",
       "32498                       NaT                          NaT   \n",
       "14274                       NaT                          NaT   \n",
       "2736                        NaT                          NaT   \n",
       "8699                 2025-02-06                          NaT   \n",
       "\n",
       "       Group_Stash_Balance_Owner    Run_Date    Batch Processing_Month  \\\n",
       "17961                        NaN  2025-02-06  Batch_1         February   \n",
       "23458                        NaN  2025-02-06  Batch_1         February   \n",
       "4968                         NaN  2025-02-06  Batch_1         February   \n",
       "32636                        NaN  2025-02-06  Batch_1         February   \n",
       "4182                         NaN  2025-02-06  Batch_1         February   \n",
       "28802                        NaN  2025-02-06  Batch_1         February   \n",
       "32498                        NaN  2025-02-06  Batch_1         February   \n",
       "14274                        NaN  2025-02-06  Batch_1         February   \n",
       "2736                         NaN  2025-02-06  Batch_1         February   \n",
       "8699                         NaN  2025-02-06  Batch_1         February   \n",
       "\n",
       "       pending_loans_not_expired_not_exempt  expired_loans  \\\n",
       "17961                                     0              1   \n",
       "23458                                     0              1   \n",
       "4968                                      0              0   \n",
       "32636                                     0              3   \n",
       "4182                                      0              0   \n",
       "28802                                     0              1   \n",
       "32498                                     0              1   \n",
       "14274                                     0              1   \n",
       "2736                                      0              0   \n",
       "8699                                      0              0   \n",
       "\n",
       "      pending_loans_lastDt expired_loans_lastDt ACTION_TYPE  \n",
       "17961                  NaT           2024-12-26      TYPE 1  \n",
       "23458                  NaT           2025-01-16      TYPE 1  \n",
       "4968                   NaT                  NaT      TYPE 1  \n",
       "32636                  NaT           2024-05-06   NO ACTION  \n",
       "4182                   NaT                  NaT      TYPE 1  \n",
       "28802                  NaT           2024-12-05      TYPE 1  \n",
       "32498                  NaT           2025-01-25      TYPE 1  \n",
       "14274                  NaT           2025-01-26      TYPE 1  \n",
       "2736                   NaT                  NaT      TYPE 1  \n",
       "8699                   NaT                  NaT      TYPE 3  "
      ]
     },
     "execution_count": 32,
     "metadata": {},
     "output_type": "execute_result"
    }
   ],
   "source": [
    "pd.set_option('display.max_columns', None)\n",
    "df.sample(10)"
   ]
  },
  {
   "cell_type": "code",
   "execution_count": 33,
   "metadata": {},
   "outputs": [
    {
     "data": {
      "text/plain": [
       "(37011, 32)"
      ]
     },
     "execution_count": 33,
     "metadata": {},
     "output_type": "execute_result"
    }
   ],
   "source": [
    "df.shape"
   ]
  },
  {
   "cell_type": "code",
   "execution_count": 34,
   "metadata": {},
   "outputs": [
    {
     "data": {
      "text/plain": [
       "ACTION_TYPE\n",
       "TYPE 1       35337\n",
       "TYPE 3        1312\n",
       "NO ACTION      316\n",
       "TYPE 2          46\n",
       "Name: count, dtype: int64"
      ]
     },
     "execution_count": 34,
     "metadata": {},
     "output_type": "execute_result"
    }
   ],
   "source": [
    "df['ACTION_TYPE'].value_counts()"
   ]
  },
  {
   "cell_type": "code",
   "execution_count": 35,
   "metadata": {},
   "outputs": [],
   "source": [
    "df.to_excel(r\"C:\\Users\\DwaipayanChakroborti\\OneDrive - Tonik Financial Pte Ltd\\MyStuff\\Marvin\\TSA Account Closure\\December2024_January2025\\ThirdNotification_files\\20250207_TSA_Account_Closure_3rdtNotification.xlsx\", sheet_name='TSA_Closure_3rdNotification', index = False)"
   ]
  },
  {
   "cell_type": "code",
   "execution_count": 36,
   "metadata": {},
   "outputs": [
    {
     "data": {
      "text/plain": [
       "(37011, 32)"
      ]
     },
     "execution_count": 36,
     "metadata": {},
     "output_type": "execute_result"
    }
   ],
   "source": [
    "df = pd.read_excel(r\"C:\\Users\\DwaipayanChakroborti\\OneDrive - Tonik Financial Pte Ltd\\MyStuff\\Marvin\\TSA Account Closure\\December2024_January2025\\ThirdNotification_files\\20250207_TSA_Account_Closure_3rdtNotification.xlsx\", sheet_name='TSA_Closure_3rdNotification')\n",
    "df.shape"
   ]
  },
  {
   "cell_type": "code",
   "execution_count": 37,
   "metadata": {},
   "outputs": [
    {
     "data": {
      "text/plain": [
       "Index(['Customer_Id', 'TSA_Opening_date', 'TSA_Account_Number',\n",
       "       'OfblockAmount', 'TSA_Status', 'TSA_Balance', 'Solo_Stash_Balance',\n",
       "       'Group_Stash_Balance', 'Term_Deposit_Balance',\n",
       "       'Active_Term_Deposit_flag', 'Last_TSA_Credit_Date',\n",
       "       'Last_TSA_Debit_Date', 'ARI_Flag', 'Active_Loan',\n",
       "       'Total_Loan_Outstanding', 'Approved_Loans', 'Pending_Loan_Applications',\n",
       "       'Hard_Reject_Loans_App', 'Soft_Reject_Loans_App', 'Cancelled_Loans_App',\n",
       "       'Last_Login_Date', 'Last_TSA_EOD_Balance_Date',\n",
       "       'Last_Group_Stash_Credit_Date', 'Group_Stash_Balance_Owner', 'Run_Date',\n",
       "       'Batch', 'Processing_Month', 'pending_loans_not_expired_not_exempt',\n",
       "       'expired_loans', 'pending_loans_lastDt', 'expired_loans_lastDt',\n",
       "       'ACTION_TYPE'],\n",
       "      dtype='object')"
      ]
     },
     "execution_count": 37,
     "metadata": {},
     "output_type": "execute_result"
    }
   ],
   "source": [
    "df.columns"
   ]
  },
  {
   "cell_type": "code",
   "execution_count": 42,
   "metadata": {},
   "outputs": [
    {
     "data": {
      "text/plain": [
       "ACTION_TYPE\n",
       "TYPE 1    35337\n",
       "TYPE 2       46\n",
       "TYPE 3     1312\n",
       "Name: Customer_Id, dtype: int64"
      ]
     },
     "execution_count": 42,
     "metadata": {},
     "output_type": "execute_result"
    }
   ],
   "source": [
    "df[df['ACTION_TYPE']!='NO ACTION'].groupby('ACTION_TYPE')['Customer_Id'].nunique()"
   ]
  },
  {
   "cell_type": "code",
   "execution_count": 43,
   "metadata": {},
   "outputs": [
    {
     "name": "stdout",
     "output_type": "stream",
     "text": [
      "36695\n"
     ]
    }
   ],
   "source": [
    "total_unique_customers = df[df['ACTION_TYPE'] != 'NO ACTION'].groupby('ACTION_TYPE')['Customer_Id'].nunique().sum()\n",
    "print(total_unique_customers)"
   ]
  },
  {
   "cell_type": "code",
   "execution_count": 44,
   "metadata": {},
   "outputs": [
    {
     "data": {
      "text/plain": [
       "ACTION_TYPE\n",
       "NO ACTION      316\n",
       "TYPE 1       35337\n",
       "TYPE 2          46\n",
       "TYPE 3        1312\n",
       "Name: Customer_Id, dtype: int64"
      ]
     },
     "execution_count": 44,
     "metadata": {},
     "output_type": "execute_result"
    }
   ],
   "source": [
    "df.groupby('ACTION_TYPE')['Customer_Id'].count()"
   ]
  },
  {
   "cell_type": "code",
   "execution_count": 45,
   "metadata": {},
   "outputs": [],
   "source": [
    "total_count_customers = df.groupby('ACTION_TYPE')['Customer_Id'].count().sum()"
   ]
  },
  {
   "cell_type": "code",
   "execution_count": 46,
   "metadata": {},
   "outputs": [
    {
     "name": "stdout",
     "output_type": "stream",
     "text": [
      "37011\n"
     ]
    }
   ],
   "source": [
    "print(total_count_customers)"
   ]
  },
  {
   "cell_type": "code",
   "execution_count": 47,
   "metadata": {},
   "outputs": [
    {
     "data": {
      "text/plain": [
       "37011"
      ]
     },
     "execution_count": 47,
     "metadata": {},
     "output_type": "execute_result"
    }
   ],
   "source": [
    "len(df['Customer_Id'].unique())"
   ]
  },
  {
   "cell_type": "code",
   "execution_count": null,
   "metadata": {},
   "outputs": [],
   "source": []
  }
 ],
 "metadata": {
  "kernelspec": {
   "display_name": "Python 3",
   "language": "python",
   "name": "python3"
  },
  "language_info": {
   "codemirror_mode": {
    "name": "ipython",
    "version": 3
   },
   "file_extension": ".py",
   "mimetype": "text/x-python",
   "name": "python",
   "nbconvert_exporter": "python",
   "pygments_lexer": "ipython3",
   "version": "3.9.19"
  }
 },
 "nbformat": 4,
 "nbformat_minor": 2
}
