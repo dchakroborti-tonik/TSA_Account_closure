{
 "cells": [
  {
   "cell_type": "markdown",
   "metadata": {},
   "source": [
    "# <div align=\"center\" style=\"color: #ff5733;\">TSA Closure Third Notification</div>"
   ]
  },
  {
   "cell_type": "code",
   "execution_count": 1,
   "metadata": {},
   "outputs": [],
   "source": [
    "# %% [markdown]\n",
    "# # Jupyter Notebook Loading Header\n",
    "#\n",
    "# This is a custom loading header for Jupyter Notebooks in Visual Studio Code.\n",
    "# It includes common imports and settings to get you started quickly.\n",
    "\n",
    "# %% [markdown]\n",
    "## Import Libraries\n",
    "import pandas as pd\n",
    "import numpy as np\n",
    "import matplotlib.pyplot as plt\n",
    "import seaborn as sns\n",
    "from google.cloud import bigquery\n",
    "import os\n",
    "path = r'C:\\Users\\DwaipayanChakroborti\\AppData\\Roaming\\gcloud\\legacy_credentials\\dchakroborti@tonikbank.com\\adc.json'\n",
    "os.environ['GOOGLE_APPLICATION_CREDENTIALS'] = path\n",
    "client = bigquery.Client(project='prj-prod-dataplatform')\n",
    "\n",
    "# %% [markdown]\n",
    "## Configure Settings\n",
    "# Set options or configurations as needed\n",
    "# Example: pd.set_option('display.max_columns', None)"
   ]
  },
  {
   "cell_type": "markdown",
   "metadata": {},
   "source": [
    "# Ask Balasubramani to refresh risk_credit_mis.tsa_account_closure table.\n",
    "**Check if that is refreshed when Balasubramani confirms it**"
   ]
  },
  {
   "cell_type": "code",
   "execution_count": 2,
   "metadata": {},
   "outputs": [
    {
     "name": "stdout",
     "output_type": "stream",
     "text": [
      "Job ID 16d6328d-524d-4efe-8b16-0015c65a6b19 successfully executed: 100%|\u001b[32m██████████\u001b[0m|\n",
      "Downloading: 100%|\u001b[32m██████████\u001b[0m|\n"
     ]
    },
    {
     "data": {
      "text/html": [
       "<div>\n",
       "<style scoped>\n",
       "    .dataframe tbody tr th:only-of-type {\n",
       "        vertical-align: middle;\n",
       "    }\n",
       "\n",
       "    .dataframe tbody tr th {\n",
       "        vertical-align: top;\n",
       "    }\n",
       "\n",
       "    .dataframe thead th {\n",
       "        text-align: right;\n",
       "    }\n",
       "</style>\n",
       "<table border=\"1\" class=\"dataframe\">\n",
       "  <thead>\n",
       "    <tr style=\"text-align: right;\">\n",
       "      <th></th>\n",
       "      <th>Run_Date</th>\n",
       "      <th>cnt</th>\n",
       "    </tr>\n",
       "  </thead>\n",
       "  <tbody>\n",
       "    <tr>\n",
       "      <th>0</th>\n",
       "      <td>2024-05-23</td>\n",
       "      <td>555967</td>\n",
       "    </tr>\n",
       "  </tbody>\n",
       "</table>\n",
       "</div>"
      ],
      "text/plain": [
       "     Run_Date     cnt\n",
       "0  2024-05-23  555967"
      ]
     },
     "execution_count": 2,
     "metadata": {},
     "output_type": "execute_result"
    }
   ],
   "source": [
    "sq = \"\"\"select Run_Date, count(1)cnt from risk_credit_mis.tsa_account_closure group by 1 order by 1 desc\"\"\"\n",
    "df = client.query(sq).to_dataframe(progress_bar_type = 'tqdm')\n",
    "df.head(1)"
   ]
  },
  {
   "cell_type": "markdown",
   "metadata": {},
   "source": [
    "The date should show yesterday's date"
   ]
  },
  {
   "cell_type": "markdown",
   "metadata": {},
   "source": [
    "# Read the data from the first sheet for Type1 and Type2 data provided by Marvin"
   ]
  },
  {
   "cell_type": "code",
   "execution_count": 3,
   "metadata": {},
   "outputs": [
    {
     "data": {
      "text/plain": [
       "(7542, 2)"
      ]
     },
     "execution_count": 3,
     "metadata": {},
     "output_type": "execute_result"
    }
   ],
   "source": [
    "d1 = pd.read_excel(r\"C:\\Users\\DwaipayanChakroborti\\OneDrive - Tonik Financial Pte Ltd\\MyStuff\\Marvin\\TSA Account Closure\\March24&April24 Ongoing Batch\\ThirdNotification_Files\\Type 1 & 2 - 2nd Notification April.xlsx\")\n",
    "d1.shape"
   ]
  },
  {
   "cell_type": "code",
   "execution_count": 4,
   "metadata": {},
   "outputs": [
    {
     "name": "stdout",
     "output_type": "stream",
     "text": [
      "The unique count of customer_id is:\t7542\n"
     ]
    },
    {
     "data": {
      "text/html": [
       "<div>\n",
       "<style scoped>\n",
       "    .dataframe tbody tr th:only-of-type {\n",
       "        vertical-align: middle;\n",
       "    }\n",
       "\n",
       "    .dataframe tbody tr th {\n",
       "        vertical-align: top;\n",
       "    }\n",
       "\n",
       "    .dataframe thead th {\n",
       "        text-align: right;\n",
       "    }\n",
       "</style>\n",
       "<table border=\"1\" class=\"dataframe\">\n",
       "  <thead>\n",
       "    <tr style=\"text-align: right;\">\n",
       "      <th></th>\n",
       "      <th>Customer_Id</th>\n",
       "      <th>ACTION_TYPE</th>\n",
       "    </tr>\n",
       "  </thead>\n",
       "  <tbody>\n",
       "    <tr>\n",
       "      <th>0</th>\n",
       "      <td>2390807</td>\n",
       "      <td>TYPE 1</td>\n",
       "    </tr>\n",
       "    <tr>\n",
       "      <th>1</th>\n",
       "      <td>2407245</td>\n",
       "      <td>TYPE 1</td>\n",
       "    </tr>\n",
       "    <tr>\n",
       "      <th>2</th>\n",
       "      <td>2380295</td>\n",
       "      <td>TYPE 1</td>\n",
       "    </tr>\n",
       "    <tr>\n",
       "      <th>3</th>\n",
       "      <td>2392393</td>\n",
       "      <td>TYPE 1</td>\n",
       "    </tr>\n",
       "    <tr>\n",
       "      <th>4</th>\n",
       "      <td>2396066</td>\n",
       "      <td>TYPE 1</td>\n",
       "    </tr>\n",
       "  </tbody>\n",
       "</table>\n",
       "</div>"
      ],
      "text/plain": [
       "   Customer_Id ACTION_TYPE\n",
       "0      2390807      TYPE 1\n",
       "1      2407245      TYPE 1\n",
       "2      2380295      TYPE 1\n",
       "3      2392393      TYPE 1\n",
       "4      2396066      TYPE 1"
      ]
     },
     "execution_count": 4,
     "metadata": {},
     "output_type": "execute_result"
    }
   ],
   "source": [
    "print(f\"The unique count of customer_id is:\\t{len(d1['Customer_Id'].unique())}\")\n",
    "d1.head()"
   ]
  },
  {
   "cell_type": "markdown",
   "metadata": {},
   "source": [
    "# Read the data from the second sheet for Type3 data provided by Marvin"
   ]
  },
  {
   "cell_type": "code",
   "execution_count": 5,
   "metadata": {},
   "outputs": [
    {
     "data": {
      "text/plain": [
       "(1062, 2)"
      ]
     },
     "execution_count": 5,
     "metadata": {},
     "output_type": "execute_result"
    }
   ],
   "source": [
    "d2 = pd.read_excel(r\"C:\\Users\\DwaipayanChakroborti\\OneDrive - Tonik Financial Pte Ltd\\MyStuff\\Marvin\\TSA Account Closure\\March24&April24 Ongoing Batch\\ThirdNotification_Files\\Type 3 - 2nd Notification April.xlsx\")\n",
    "d2.shape"
   ]
  },
  {
   "cell_type": "code",
   "execution_count": 6,
   "metadata": {},
   "outputs": [
    {
     "name": "stdout",
     "output_type": "stream",
     "text": [
      "The unique count of customer_id is:\t1062\n"
     ]
    },
    {
     "data": {
      "text/html": [
       "<div>\n",
       "<style scoped>\n",
       "    .dataframe tbody tr th:only-of-type {\n",
       "        vertical-align: middle;\n",
       "    }\n",
       "\n",
       "    .dataframe tbody tr th {\n",
       "        vertical-align: top;\n",
       "    }\n",
       "\n",
       "    .dataframe thead th {\n",
       "        text-align: right;\n",
       "    }\n",
       "</style>\n",
       "<table border=\"1\" class=\"dataframe\">\n",
       "  <thead>\n",
       "    <tr style=\"text-align: right;\">\n",
       "      <th></th>\n",
       "      <th>Customer_Id</th>\n",
       "      <th>ACTION_TYPE</th>\n",
       "    </tr>\n",
       "  </thead>\n",
       "  <tbody>\n",
       "    <tr>\n",
       "      <th>0</th>\n",
       "      <td>1212254</td>\n",
       "      <td>TYPE 3</td>\n",
       "    </tr>\n",
       "    <tr>\n",
       "      <th>1</th>\n",
       "      <td>2226881</td>\n",
       "      <td>TYPE 3</td>\n",
       "    </tr>\n",
       "    <tr>\n",
       "      <th>2</th>\n",
       "      <td>2206744</td>\n",
       "      <td>TYPE 3</td>\n",
       "    </tr>\n",
       "    <tr>\n",
       "      <th>3</th>\n",
       "      <td>1896790</td>\n",
       "      <td>TYPE 3</td>\n",
       "    </tr>\n",
       "    <tr>\n",
       "      <th>4</th>\n",
       "      <td>1523340</td>\n",
       "      <td>TYPE 3</td>\n",
       "    </tr>\n",
       "  </tbody>\n",
       "</table>\n",
       "</div>"
      ],
      "text/plain": [
       "   Customer_Id ACTION_TYPE\n",
       "0      1212254      TYPE 3\n",
       "1      2226881      TYPE 3\n",
       "2      2206744      TYPE 3\n",
       "3      1896790      TYPE 3\n",
       "4      1523340      TYPE 3"
      ]
     },
     "execution_count": 6,
     "metadata": {},
     "output_type": "execute_result"
    }
   ],
   "source": [
    "print(f\"The unique count of customer_id is:\\t{len(d2['Customer_Id'].unique())}\")\n",
    "d2.head()"
   ]
  },
  {
   "cell_type": "code",
   "execution_count": 7,
   "metadata": {},
   "outputs": [
    {
     "data": {
      "text/plain": [
       "(8604, 2)"
      ]
     },
     "execution_count": 7,
     "metadata": {},
     "output_type": "execute_result"
    }
   ],
   "source": [
    "result = pd.concat([d1, d2], axis=0, ignore_index=True)\n",
    "result.shape"
   ]
  },
  {
   "cell_type": "code",
   "execution_count": 8,
   "metadata": {},
   "outputs": [
    {
     "data": {
      "text/plain": [
       "ACTION_TYPE\n",
       "TYPE 1    7522\n",
       "TYPE 3    1062\n",
       "TYPE 2      20\n",
       "Name: count, dtype: int64"
      ]
     },
     "execution_count": 8,
     "metadata": {},
     "output_type": "execute_result"
    }
   ],
   "source": [
    "result.ACTION_TYPE.value_counts()"
   ]
  },
  {
   "cell_type": "code",
   "execution_count": 12,
   "metadata": {},
   "outputs": [
    {
     "data": {
      "text/html": [
       "<div>\n",
       "<style scoped>\n",
       "    .dataframe tbody tr th:only-of-type {\n",
       "        vertical-align: middle;\n",
       "    }\n",
       "\n",
       "    .dataframe tbody tr th {\n",
       "        vertical-align: top;\n",
       "    }\n",
       "\n",
       "    .dataframe thead th {\n",
       "        text-align: right;\n",
       "    }\n",
       "</style>\n",
       "<table border=\"1\" class=\"dataframe\">\n",
       "  <thead>\n",
       "    <tr style=\"text-align: right;\">\n",
       "      <th></th>\n",
       "      <th>Customer_Id</th>\n",
       "      <th>ACTION_TYPE</th>\n",
       "    </tr>\n",
       "  </thead>\n",
       "  <tbody>\n",
       "    <tr>\n",
       "      <th>7545</th>\n",
       "      <td>1896790</td>\n",
       "      <td>TYPE 3</td>\n",
       "    </tr>\n",
       "  </tbody>\n",
       "</table>\n",
       "</div>"
      ],
      "text/plain": [
       "      Customer_Id ACTION_TYPE\n",
       "7545      1896790      TYPE 3"
      ]
     },
     "execution_count": 12,
     "metadata": {},
     "output_type": "execute_result"
    }
   ],
   "source": [
    "result[result['Customer_Id'] == 1896790]"
   ]
  },
  {
   "cell_type": "code",
   "execution_count": 13,
   "metadata": {},
   "outputs": [
    {
     "name": "stdout",
     "output_type": "stream",
     "text": [
      "<class 'pandas.core.frame.DataFrame'>\n",
      "RangeIndex: 8604 entries, 0 to 8603\n",
      "Data columns (total 2 columns):\n",
      " #   Column       Non-Null Count  Dtype \n",
      "---  ------       --------------  ----- \n",
      " 0   Customer_Id  8604 non-null   int64 \n",
      " 1   ACTION_TYPE  8604 non-null   object\n",
      "dtypes: int64(1), object(1)\n",
      "memory usage: 134.6+ KB\n"
     ]
    }
   ],
   "source": [
    "result.info()"
   ]
  },
  {
   "cell_type": "code",
   "execution_count": 14,
   "metadata": {},
   "outputs": [
    {
     "name": "stdout",
     "output_type": "stream",
     "text": [
      "<class 'pandas.core.frame.DataFrame'>\n",
      "RangeIndex: 8604 entries, 0 to 8603\n",
      "Data columns (total 2 columns):\n",
      " #   Column       Non-Null Count  Dtype \n",
      "---  ------       --------------  ----- \n",
      " 0   Customer_Id  8604 non-null   object\n",
      " 1   ACTION_TYPE  8604 non-null   object\n",
      "dtypes: object(2)\n",
      "memory usage: 134.6+ KB\n"
     ]
    }
   ],
   "source": [
    "result['Customer_Id'] = result['Customer_Id'].astype(str)\n",
    "result.info()"
   ]
  },
  {
   "cell_type": "code",
   "execution_count": 15,
   "metadata": {},
   "outputs": [
    {
     "data": {
      "text/html": [
       "<div>\n",
       "<style scoped>\n",
       "    .dataframe tbody tr th:only-of-type {\n",
       "        vertical-align: middle;\n",
       "    }\n",
       "\n",
       "    .dataframe tbody tr th {\n",
       "        vertical-align: top;\n",
       "    }\n",
       "\n",
       "    .dataframe thead th {\n",
       "        text-align: right;\n",
       "    }\n",
       "</style>\n",
       "<table border=\"1\" class=\"dataframe\">\n",
       "  <thead>\n",
       "    <tr style=\"text-align: right;\">\n",
       "      <th></th>\n",
       "      <th>Customer_Id</th>\n",
       "      <th>ACTION_TYPE</th>\n",
       "    </tr>\n",
       "  </thead>\n",
       "  <tbody>\n",
       "    <tr>\n",
       "      <th>7545</th>\n",
       "      <td>1896790</td>\n",
       "      <td>TYPE 3</td>\n",
       "    </tr>\n",
       "  </tbody>\n",
       "</table>\n",
       "</div>"
      ],
      "text/plain": [
       "     Customer_Id ACTION_TYPE\n",
       "7545     1896790      TYPE 3"
      ]
     },
     "execution_count": 15,
     "metadata": {},
     "output_type": "execute_result"
    }
   ],
   "source": [
    "result[result['Customer_Id'] == '1896790']"
   ]
  },
  {
   "cell_type": "code",
   "execution_count": 16,
   "metadata": {},
   "outputs": [],
   "source": [
    "result.to_csv(\"temp.csv\", index = False)"
   ]
  },
  {
   "cell_type": "code",
   "execution_count": 17,
   "metadata": {},
   "outputs": [
    {
     "data": {
      "text/plain": [
       "('2390807', '2407245', '2380295', '2392393', '2396066')"
      ]
     },
     "execution_count": 17,
     "metadata": {},
     "output_type": "execute_result"
    }
   ],
   "source": [
    "a = tuple(result['Customer_Id'])\n",
    "a[:5]"
   ]
  },
  {
   "cell_type": "code",
   "execution_count": 18,
   "metadata": {},
   "outputs": [
    {
     "name": "stdout",
     "output_type": "stream",
     "text": [
      "D-1 day from current date 2024-05-23 00:00:00\n",
      "D-60 day from the current date - 1: 2024-02-23\n",
      "D-180 day from the current date -1: 2023-10-26\n",
      "D-1 day from the current date: 2024-05-23\n",
      "D-60 day from the current date: 2024-02-23\n",
      "D-180 day from the current date: 2023-10-26\n"
     ]
    }
   ],
   "source": [
    "d = '2024-05-23'   ### Need to change this to D-1 everytime we run this code ###\n",
    "# Get the current date\n",
    "current_date = pd.Timestamp.now().date()\n",
    "d_minus_1_days = current_date - pd.DateOffset(days=1)\n",
    "# Calculate D-60 days\n",
    "d_minus_60_days = '2024-02-23'\n",
    "# Calculate D-180 days\n",
    "d_minus_180_days = '2023-10-26'\n",
    "\n",
    "print(\"D-1 day from current date\", d_minus_1_days )\n",
    "print(\"D-60 day from the current date - 1:\", d_minus_60_days)\n",
    "print(\"D-180 day from the current date -1:\", d_minus_180_days)\n",
    "\n",
    "d_minus_1_days_string = d_minus_1_days.strftime('%Y-%m-%d')\n",
    "print(\"D-1 day from the current date:\", d_minus_1_days_string)\n",
    "\n",
    "d_minus_60_days_string = d_minus_60_days\n",
    "print(\"D-60 day from the current date:\", d_minus_60_days_string)\n",
    "\n",
    "d_minus_180_days_string = d_minus_180_days\n",
    "print(\"D-180 day from the current date:\", d_minus_180_days_string)"
   ]
  },
  {
   "cell_type": "markdown",
   "metadata": {},
   "source": [
    "The date should be D-1? If the date is not D-1 then ask Bala to refresh the table."
   ]
  },
  {
   "cell_type": "markdown",
   "metadata": {},
   "source": [
    "Step1: At line 11 change the date to D-1<br><br>\n",
    "Step2: At line around 36 (and (TSA_Opening_date < date '2023-10-18')   ####D-60 days(SHOULD BE SAME DATE FOR 1ST,2ND,3RD NOTIFICATION)) Change the date D-60 Days <br><br>\n",
    "Step3: At line around 45 (WHEN tsa_status = 'Active' and Last_TSA_EOD_Balance_Date is null and (TSA_Opening_date < date '2023-10-18')  ####D-60 days(SHOULD BE SAME DATE FOR 1ST,2ND,3RD NOTIFICATION)) Change the date D-60 Days <br><br>\n",
    "Step4: At line 58 (and TSA_Opening_date < date '2023-06-18'  and (Last_TSA_Credit_Date < date '2023-06-18' and Last_TSA_Debit_Date < date '2023-06-18' and coalesce(Last_Group_Stash_Credit_Date,date '1970-01-01') < date '2023-06-18')  ####D-180 days(SHOULD BE SAME DATE FOR 1ST,2ND,3RD NOTIFICATION)) <br><br>\n",
    "Step5: At line 72 (Run_Date = date '2024-01-09'###DATE change here to D-1) Change the date to D-1<br><br>"
   ]
  },
  {
   "cell_type": "markdown",
   "metadata": {},
   "source": [
    "First Notification we change all the steps <br><br>\n",
    "Second and Third Notification we only change Step1 and Step5\n",
    "For Second Notificaiton and Third Notificaiton the customre id should be from the file sent by Marvin. <br><br>"
   ]
  },
  {
   "cell_type": "code",
   "execution_count": 19,
   "metadata": {},
   "outputs": [
    {
     "data": {
      "text/plain": [
       "(8604, 29)"
      ]
     },
     "execution_count": 19,
     "metadata": {},
     "output_type": "execute_result"
    }
   ],
   "source": [
    "sq = f\"\"\"\n",
    "with\n",
    "w_kyc\n",
    "as\n",
    "(\n",
    "  select distinct PARTYID, SEGCATEGORYDESC, row_number() over(partition by partyid order by SEGEFFECTIVEFROM desc) as rnk from `core_raw.party_details`\n",
    "),\n",
    "w_tsa\n",
    "as\n",
    "(\n",
    "  select * from risk_credit_mis.tsa_account_closure where Run_Date = date '{d_minus_1_days_string}' ###DATE change here to D-1\n",
    "  and\n",
    "  Customer_Id not in (select cast(PARTYID as string) from w_kyc where rnk = 1 and SEGCATEGORYDESC = 'BKYC')\n",
    "  and\n",
    "  --customer_id in (select cast(customer_id as string) from prj-prod-dataplatform.dap_ds_poweruser_playground.tsa_2nd_notification_base_10jan2024)\n",
    "  customer_id in {a}\n",
    ")\n",
    "select * from w_tsa;\n",
    "\"\"\"\n",
    "\n",
    "dfd = client.query(sq).to_dataframe()\n",
    "dfd.shape"
   ]
  },
  {
   "cell_type": "code",
   "execution_count": 20,
   "metadata": {},
   "outputs": [],
   "source": [
    "sq = f\"\"\"\n",
    "with\n",
    "w_kyc\n",
    "as\n",
    "(\n",
    "  select distinct PARTYID, SEGCATEGORYDESC, row_number() over(partition by partyid order by SEGEFFECTIVEFROM desc) as rnk from `core_raw.party_details`\n",
    "),\n",
    "w_tsa\n",
    "as\n",
    "(\n",
    "  select * from risk_credit_mis.tsa_account_closure where Run_Date = date '{d_minus_1_days_string}'  ###DATE change here to D-1\n",
    "  and\n",
    "  Customer_Id not in (select cast(PARTYID as string) from w_kyc where rnk = 1 and SEGCATEGORYDESC = 'BKYC')\n",
    "  and\n",
    "  --customer_id in (select cast(customer_id as string) from prj-prod-dataplatform.dap_ds_poweruser_playground.tsa_2nd_notification_base_10jan2024)\n",
    "  customer_id in {a}\n",
    "),\n",
    "w_approved\n",
    "as\n",
    "(\n",
    "  select DISTINCT customerId from risk_credit_mis.loan_master_table where loantype = 'BIGLOAN' OR FLAGAPPROVAL = 1 OR FLAGDISBURSEMENT = 1  \n",
    "  or (stage1Status = 'EXPIRED' AND cddInitiatedDateAndTime IS NULL)\n",
    ")\n",
    "select *\n",
    "from\n",
    "(\n",
    "  select distinct\n",
    "  a.Customer_Id,a.TSA_Opening_date,\n",
    "  c.OFSTANDARDACCOUNTID as TSA_Account_Number, c.OfblockAmount, \n",
    "  a.TSA_Status,a.TSA_Balance,a.Solo_Stash_Balance,a.Group_Stash_Balance,a.Term_Deposit_Balance,a.Active_Term_Deposit_flag,a.Last_TSA_Credit_Date,a.Last_TSA_Debit_Date,\n",
    "  a.ARI_Flag,a.Active_Loan,a.Total_Loan_Outstanding,  case when b.customerId is not null then 1 else 0 end as Approved_Loans,\n",
    "  a.Pending_Loan_Applications,a.Hard_Reject_Loans_App,a.Soft_Reject_Loans_App,a.Cancelled_Loans_App, extract(date from a.Last_Login_Date) as Last_Login_Date,\n",
    "  a.Last_TSA_EOD_Balance_Date,a.Last_Group_Stash_Credit_Date,a.Group_Stash_Balance_Owner,a.Run_Date,a.Batch,a.Processing_Month,a.pending_loans_not_expired_not_exempt,a.expired_loans,\n",
    "  a.pending_loans_lastDt,a.expired_loans_lastDt,\n",
    "  CASE \n",
    "    WHEN tsa_status = 'Active' and (Last_TSA_Credit_Date = date '1970-01-01' and Last_Group_Stash_Credit_Date is null)\n",
    "    and (TSA_Opening_date < date '{d_minus_60_days_string}')   ####D-60 days(SHOULD BE SAME DATE FOR 1ST,2ND,3RD NOTIFICATION)\n",
    "    and ( round(coalesce(TSA_Balance,0) + coalesce(Solo_Stash_Balance,0) + coalesce(Group_Stash_Balance,0) + coalesce(Term_Deposit_Balance,0),2) = 0 )\n",
    "    and (Active_Loan = 0) and (COALESCE(Pending_Loan_Applications,0) = 0)\n",
    "    and (Active_Term_Deposit_flag = 0)\n",
    "    and (ARI_Flag = 'N')\n",
    "    --and (Approved_Loans = 0)  THEN 'TYPE 1'\n",
    "    and b.customerId is null  THEN 'TYPE 1'\n",
    "\n",
    "\n",
    "    WHEN tsa_status = 'Active' and Last_TSA_EOD_Balance_Date is null and (TSA_Opening_date < date '{d_minus_60_days_string}')  ####D-60 days(SHOULD BE SAME DATE FOR 1ST,2ND,3RD NOTIFICATION)\n",
    "    and ( round(coalesce(TSA_Balance,0) + coalesce(Solo_Stash_Balance,0) + coalesce(Group_Stash_Balance,0) + coalesce(Term_Deposit_Balance,0),2) = 0 )\n",
    "    and (Active_Loan = 0) and (COALESCE(Pending_Loan_Applications,0) = 0)\n",
    "    and (Active_Term_Deposit_flag = 0)\n",
    "    and (ARI_Flag = 'N')\n",
    "    --and (Approved_Loans = 0)\n",
    "    and b.customerId is null  \n",
    "    and (date_trunc(TSA_Opening_date,day) = date_trunc(Last_Login_Date,day)) THEN 'TYPE 2'\n",
    "\n",
    "    \n",
    "    WHEN ( round(coalesce(TSA_Balance,0) + coalesce(Solo_Stash_Balance,0) + coalesce(Group_Stash_Balance,0) + coalesce(Term_Deposit_Balance,0),2) < 1 )\n",
    "            and (Active_Loan = 0) and (COALESCE(Pending_Loan_Applications,0) = 0)\n",
    "            and (Active_Term_Deposit_flag = 0)\n",
    "            and TSA_Opening_date < date '{d_minus_180_days_string}'                                     ####D-180 days(SHOULD BE SAME DATE FOR 1ST,2ND,3RD NOTIFICATION)\n",
    "            and (Last_TSA_Credit_Date < date '{d_minus_180_days_string}'                                 ####D-180 days(SHOULD BE SAME DATE FOR 1ST,2ND,3RD NOTIFICATION)\n",
    "            and Last_TSA_Debit_Date < date '{d_minus_180_days_string}'                                         ####D-180 days(SHOULD BE SAME DATE FOR 1ST,2ND,3RD NOTIFICATION)\n",
    "            and coalesce(Last_Group_Stash_Credit_Date,date '1970-01-01') < date '{d_minus_180_days_string}' )  ####D-180 days(SHOULD BE SAME DATE FOR 1ST,2ND,3RD NOTIFICATION)\n",
    "            and tsa_status = 'Active'\n",
    "            and (ARI_Flag = 'N')\n",
    "    --and (Approved_Loans = 0)\n",
    "            and b.customerId is null  \n",
    "    THEN 'TYPE 3'\n",
    "    ELSE 'NO ACTION'\n",
    "    END AS ACTION_TYPE\n",
    "  from w_tsa A\n",
    "  left join w_approved b\n",
    "  on cast(a.Customer_Id as int64) = b.customerId\n",
    "  left join core_raw.customer_accounts c\n",
    "  on c.OFCUSTOMERID = a.Customer_Id and c.CRINTERDESC = 'Transactional Savings Account Inv_R' and c.OFISCLOSED = 'N'\n",
    "  where\n",
    "  Run_Date = date '{d_minus_1_days_string}'  ###DATE change here to D-1\n",
    ")\n",
    "\"\"\"\n"
   ]
  },
  {
   "cell_type": "code",
   "execution_count": 21,
   "metadata": {},
   "outputs": [
    {
     "name": "stdout",
     "output_type": "stream",
     "text": [
      "\n",
      "with\n",
      "w_kyc\n",
      "as\n",
      "(\n",
      "  select distinct PARTYID, SEGCATEGORYDESC, row_number() over(partition by partyid order by SEGEFFECTIVEFROM desc) as rnk from `core_raw.party_details`\n",
      "),\n",
      "w_tsa\n",
      "as\n",
      "(\n",
      "  select * from risk_credit_mis.tsa_account_closure where Run_Date = date '2024-05-23'  ###DATE change here to D-1\n",
      "  and\n",
      "  Customer_Id not in (select cast(PARTYID as string) from w_kyc where rnk = 1 and SEGCATEGORYDESC = 'BKYC')\n",
      "  and\n",
      "  --customer_id in (select cast(customer_id as string) from prj-prod-dataplatform.dap_ds_poweruser_playground.tsa_2nd_notification_base_10jan2024)\n",
      "  customer_id in ('2390807', '2407245', '2380295', '2392393', '2396066', '2386697', '2404268', '2378985', '2392962', '2392321', '2395479', '2403368', '2396301', '2385670', '2399473', '2273556', '2401601', '2398007', '2381327', '1289602', '2371970', '2406846', '2385440', '2390354', '2398175', '2374351', '2406019', '1138774', '2407972', '2395845', '2395977', '2387769', '2339326', '2382453', '2387073', '2378580', '2391293', '2243646', '2405984', '2392104', '2406737', '2319207', '2403797', '2406690', '2389539', '2353492', '2390401', '2406418', '2392250', '2387426', '2383281', '2354416', '2387040', '2400462', '2403320', '2387614', '2386172', '2383342', '2385721', '2395818', '2402541', '2382541', '2384510', '2395681', '2401115', '2218532', '2393452', '2401499', '2388177', '2406538', '2387407', '2323206', '2387561', '2405041', '2398603', '2387556', '1407743', '2390874', '2397653', '2390902', '2391290', '2382597', '2384002', '2385903', '2390299', '2403497', '2399389', '2407485', '2381525', '2382526', '2389154', '2395455', '2391083', '2404307', '2396901', '2378703', '2406664', '2386063', '2384924', '2397453', '2403881', '2388088', '2396052', '2394804', '2038445', '2406225', '2376683', '2393293', '2397281', '2392641', '2388660', '2382711', '2408200', '2401488', '2392575', '2386948', '2388054', '2388247', '2406435', '2397690', '2399036', '2402251', '2406208', '2337581', '2388711', '2207131', '2386075', '2381229', '2400399', '2357991', '2386979', '2380951', '2387182', '2379059', '2394320', '2405116', '2385795', '2390342', '2369173', '2393178', '2403326', '2382044', '2385388', '2324001', '2400447', '2393208', '2399519', '2397749', '2399304', '2396737', '2406369', '2406183', '2400562', '2401253', '2401745', '2121264', '2384073', '2405672', '2407573', '2408088', '2395515', '2384890', '2405763', '2400959', '2399708', '2380577', '2408120', '2383940', '2393962', '2406171', '2379905', '2400006', '2402529', '2399645', '2393603', '2381006', '2400280', '2392587', '2390270', '2408005', '2386969', '2407904', '2399402', '2401390', '2387046', '2401603', '2399298', '2401291', '2390193', '2400293', '2376457', '2379271', '2384782', '2376800', '2384487', '2406479', '1898408', '2400714', '2383144', '2401886', '2389673', '2402499', '2394866', '2383025', '2394748', '2191324', '2390630', '2396458', '2399085', '2383173', '2384920', '2386190', '2389718', '2380812', '2390697', '2404714', '2189589', '2396797', '2405061', '2403451', '2393210', '1639763', '2398837', '2392663', '2393267', '2384129', '2382125', '2400488', '2386483', '2335349', '2406876', '2401226', '2394335', '2380618', '2402928', '2384761', '2403089', '2383578', '2400437', '2398631', '2393999', '2384589', '2380581', '2400557', '2379389', '2393304', '2387457', '2350833', '2394545', '2172273', '2388176', '2406447', '2383649', '2402679', '2406389', '2394905', '2379766', '2402704', '2400756', '2404934', '2250964', '2395406', '2392642', '2397624', '2387869', '2383389', '2379838', '2379458', '2398299', '2394051', '2399058', '2389117', '2400142', '2389515', '2407246', '2348291', '2392105', '2397528', '2398965', '2400470', '2407069', '2350146', '2381950', '2388049', '2387097', '2386487', '2393958', '2406987', '2390467', '2390018', '2400559', '2379056', '2401008', '2389206', '2384045', '2394952', '2335867', '2379410', '2397681', '2404014', '2405310', '2390545', '2391336', '2392205', '2390560', '2391351', '2380421', '2272880', '2395297', '2397592', '2388956', '2379466', '2383062', '2386197', '2407711', '2385428', '1597694', '2386741', '2383261', '2394607', '2395468', '2394476', '2390218', '2383221', '2381176', '2392494', '2387989', '2385005', '2392861', '2390449', '2390458', '2392359', '2403825', '2318003', '2394333', '2389653', '2405211', '2389143', '2383774', '2374213', '2380799', '2389295', '2405867', '2407736', '2385367', '2405298', '2408186', '2373975', '2396474', '2405936', '2406942', '2381181', '2405261', '2392082', '2388628', '2388305', '2406816', '2384268', '2388904', '2403716', '2389385', '2153880', '2382027', '2380930', '2393771', '2388564', '2397532', '2381928', '2405424', '2387429', '2288512', '2384917', '2401007', '2343636', '2395648', '2390904', '2384632', '2388972', '2346405', '2392390', '2398151', '2383204', '2379084', '2387877', '2385713', '2380251', '2393079', '2384083', '2387075', '2405486', '2396982', '2405103', '2407723', '2387867', '2397461', '2232623', '2379062', '2396298', '2380048', '2379726', '2400617', '2297792', '2398623', '2383715', '2397928', '2408248', '2381102', '2290787', '2394329', '2390686', '2404797', '2402471', '2402799', '2407472', '2386243', '2398421', '2393864', '2392029', '2400550', '2344400', '2390014', '1019132', '2399603', '2380112', '2391211', '2403831', '2386090', '2380217', '2387575', '2404586', '2406181', '2391318', '2146431', '2387151', '2382293', '2407021', '2379884', '2389386', '2379556', '2384349', '2390138', '2405343', '2395065', '2381944', '2361392', '2407662', '2395866', '2382790', '2335529', '2313826', '2391742', '2099901', '2396406', '2318308', '2384240', '2384532', '2382738', '2225101', '2401364', '2399315', '2380275', '2376930', '2387559', '2400877', '2399683', '2380016', '2388002', '2395635', '2395555', '2397780', '2383074', '2394256', '2391307', '2389816', '2406804', '2406918', '2386461', '2387144', '2393917', '2382446', '2403444', '2393791', '2395133', '2394834', '2396002', '2389079', '2404695', '2388569', '2394620', '2401075', '2406497', '2400712', '2386532', '2397078', '2395919', '2408211', '2400554', '2396703', '2400476', '2395429', '2407079', '2290506', '2387832', '2383407', '2401969', '2379562', '2402599', '2390746', '2408138', '2406634', '2385117', '2390067', '2382540', '2398291', '2384072', '2386448', '2395862', '2405863', '2382504', '2407102', '2386450', '2404272', '2347794', '2385960', '2384017', '2394721', '2393169', '2398330', '2392826', '2393646', '2382685', '2408000', '2402668', '2400267', '2406699', '2248013', '2385183', '2390929', '2388210', '2404212', '2383072', '2390382', '2391839', '2395371', '2407092', '2396521', '2379462', '2406021', '1955735', '1531929', '2381274', '2389207', '2390379', '2405477', '2290185', '2385906', '2382994', '2407031', '2402059', '2392089', '2399265', '2404483', '2407630', '2405176', '2408147', '2397520', '2400148', '2403077', '2405542', '2288401', '2401468', '2400931', '2380347', '2384040', '2386730', '2403487', '2390584', '2382927', '2388728', '2397734', '2385890', '2392639', '2405180', '2388286', '2402407', '2381010', '2393321', '2380672', '2388555', '2393942', '2237381', '2399619', '2393906', '2385676', '2404206', '2400282', '2404414', '2379843', '2404905', '2404380', '2406450', '2391337', '2407667', '2405359', '2382057', '2403346', '2288716', '2395269', '2383599', '2402244', '2398751', '2239729', '2382038', '2376649', '2391471', '2388771', '2385431', '2382875', '2389420', '2392847', '2407954', '2384519', '2400633', '2384844', '2385490', '1962872', '2396654', '2388465', '2364406', '2381100', '2382410', '2382916', '2391765', '2393078', '2398353', '2309818', '2381687', '2403621', '2386723', '2395145', '2388234', '2384704', '2398883', '2397752', '2408056', '2383417', '2390490', '2379692', '2380557', '2382382', '2403732', '2394219', '2378216', '2407805', '2400645', '2381350', '2397993', '2392428', '2404204', '2273041', '2399763', '2186615', '2400946', '2404008', '2396489', '2402151', '2383232', '2382390', '2379769', '2400586', '2195364', '2404583', '2393023', '2385447', '2405910', '2405393', '2394097', '2404327', '2387087', '2385368', '2402271', '2398952', '2186161', '2325925', '2393164', '2384966', '2387980', '2303396', '1049308', '2395873', '2369779', '2408443', '2383332', '2386920', '2398893', '2401814', '2398231', '2396166', '2389002', '2395524', '2378818', '2396142', '1128038', '2387549', '2380077', '2392573', '2407623', '2386130', '2389369', '2391590', '2390343', '2392991', '2389230', '2386905', '2381916', '2394391', '2391588', '2276991', '2400268', '2391308', '2405225', '2388459', '2387715', '2405716', '2391001', '2126225', '2405208', '2399174', '1621737', '2386065', '2355953', '2395324', '2392886', '2393064', '2400450', '2393186', '2319791', '2385716', '2384618', '2395918', '2405433', '2385106', '2393588', '2384060', '2406057', '2393175', '2391933', '2391762', '2389877', '2386744', '2393331', '2406947', '2395499', '2384603', '2402634', '2390137', '2400860', '2333592', '2379621', '2376526', '2392208', '1083313', '2389030', '2408337', '2398936', '2391217', '2397014', '2406167', '2385641', '2357974', '2381319', '2393121', '2389158', '2396361', '2383817', '2408009', '2403584', '2406170', '1017278', '2382351', '2379846', '2400225', '2329939', '2399559', '2388524', '2402239', '2396457', '2384091', '2402405', '2385919', '2404333', '2392127', '2382379', '2393009', '2402479', '2396062', '2401926', '2379745', '2381269', '2386782', '2386629', '2386083', '2380308', '2387418', '2406393', '2399381', '2402442', '2377315', '2390567', '2404675', '2394449', '2392510', '2390283', '2399865', '2385911', '2384140', '2404945', '2404994', '2393191', '2380892', '2406223', '2381425', '2383400', '2388229', '2391793', '2379171', '2378845', '2372939', '2380007', '2383271', '2393325', '2399563', '2401368', '2396585', '2389754', '2396745', '2408204', '2390128', '2356356', '2405615', '2383228', '2399649', '2405347', '2368271', '2395876', '2404233', '2404523', '2393995', '2382387', '2395519', '2392469', '2382984', '2404521', '2381751', '2377070', '2383104', '2373168', '2385076', '2392738', '2395536', '2402844', '2392225', '2392606', '2396336', '2391513', '2383862', '2391340', '2402929', '2386194', '2385145', '2351078', '2372658', '2381902', '2387456', '2391858', '2386646', '2380348', '2402922', '2385158', '2407464', '2385101', '2408128', '2403361', '2384493', '2404493', '2396409', '2361378', '2390041', '2404899', '2398688', '2407890', '2404535', '2111594', '2408032', '2383197', '2397084', '2398602', '1228688', '2398655', '2385580', '2393884', '2389537', '2396577', '2390563', '2403316', '2213045', '2391512', '2394055', '2379557', '2403626', '2380543', '2402361', '2404199', '2403273', '2376123', '2386904', '2384032', '2389895', '2394836', '2400558', '2376805', '2386867', '2393808', '2380924', '2381235', '2401646', '2396941', '2400618', '2380450', '2393248', '2399710', '2273839', '2407558', '2391876', '2386115', '2391606', '2386000', '2403789', '2389446', '2390559', '2348851', '2407755', '2381247', '2330205', '2398048', '2390292', '2399196', '2390269', '2388732', '2380322', '2380852', '2397634', '2395360', '2406852', '2406583', '2399454', '2382001', '2400744', '2397706', '2386123', '2170113', '2393098', '2383736', '2398767', '2375216', '2385912', '2397274', '2378948', '2399045', '2161337', '2269030', '2387702', '2378966', '2402893', '2381640', '2394179', '2388998', '2380612', '2384196', '2380784', '2397766', '2393632', '2402924', '2386423', '2382074', '2395268', '2383659', '2396427', '2394226', '2379277', '2405744', '2253116', '2353449', '2386174', '2392836', '2388104', '2395090', '2390477', '2396527', '2391421', '2237332', '2327939', '1639873', '2379571', '2397036', '2407593', '2406575', '2407575', '2391405', '2392240', '2406176', '2399580', '2382420', '2162512', '2398570', '2386886', '2388740', '2385991', '2335257', '2402013', '2403563', '2386216', '2398609', '2388775', '2397468', '2383588', '2407500', '2406309', '2380632', '2384642', '2398394', '2380565', '2394143', '2405106', '2390178', '2408197', '2401157', '1244303', '2387640', '2382292', '2391347', '2379025', '2404295', '2387262', '2380414', '2392683', '2380923', '2389399', '2380029', '2388750', '2386284', '1946793', '2385684', '2384919', '2403972', '2274467', '2386337', '2391810', '2391111', '2400783', '2387668', '2385806', '2383811', '2407778', '2382141', '2401429', '2398533', '2397109', '2394277', '2397722', '2392643', '2404944', '2301187', '2385880', '2383787', '2386137', '2393606', '2386402', '2380394', '2405684', '2387541', '2402391', '2395270', '2394867', '2380575', '2397630', '2387017', '2382398', '2379091', '2397865', '2379979', '2407157', '2363816', '2355386', '2399549', '2401557', '2393428', '2401673', '2383645', '2406688', '2403686', '2401876', '2381218', '2386974', '2397033', '2198890', '2404685', '2383537', '2390260', '2380526', '2383365', '2407282', '2398322', '2390412', '2398046', '2406793', '2388726', '2390235', '2394326', '2383205', '2394265', '2385469', '2380110', '2364383', '2400736', '2403749', '2389709', '2401823', '2332357', '2401463', '2375849', '2400219', '2393223', '2379164', '2395595', '2394897', '2405871', '2406626', '2407739', '2401276', '2384456', '2390888', '2399130', '2386632', '2400116', '2384862', '2371926', '2397673', '1112631', '2396460', '2379089', '2407568', '2392210', '2397373', '2401432', '2382012', '2387331', '2392246', '2394926', '2384105', '2381969', '2345085', '2390555', '2403838', '2407217', '2381566', '2348413', '2384226', '2381087', '2383933', '2406698', '2393080', '2396114', '2405036', '2408393', '2394617', '2385506', '2379004', '2397741', '2391944', '2390818', '2400235', '2406753', '2384815', '2406258', '2394741', '2219516', '2408341', '2400665', '2379879', '2250822', '2402692', '2379201', '2386306', '2401705', '2392007', '2399698', '2400795', '2394855', '2399925', '2388902', '2392602', '2395335', '2406551', '2393484', '2389890', '2387811', '2309693', '2391885', '2399257', '1210283', '2375203', '2392555', '2396955', '2389735', '2407260', '2403709', '1650744', '2381082', '2370873', '2404524', '2396580', '2408090', '2395489', '2402466', '2385083', '2387205', '2391312', '2383091', '2385023', '2405312', '2403465', '2403894', '2396586', '2391952', '2397915', '2402443', '2396487', '2385421', '2402851', '2383567', '2379418', '2401384', '2383815', '2387824', '2388060', '2399757', '2404597', '2393424', '2403926', '2408220', '2403178', '2393575', '2385867', '2394172', '2407400', '2379155', '2392452', '2400073', '2392006', '2389178', '2383694', '2388260', '2390088', '2388119', '2379734', '2390008', '2400034', '2385822', '2364667', '2362477', '2156526', '2386316', '2382017', '2387371', '2397035', '2401525', '1585451', '2397227', '2402091', '2402539', '2379012', '2399621', '2386135', '2392882', '2379445', '2288561', '2399017', '2408427', '2396805', '2398636', '2405776', '2406539', '2406995', '2402120', '1985788', '2386784', '2385980', '2406425', '2382451', '2378943', '2366190', '2399940', '2392821', '2179589', '2356928', '2393259', '2406944', '2387209', '2406145', '2392552', '2404387', '2199187', '2363372', '2383945', '2407551', '2392601', '2391719', '2297261', '2382596', '2397980', '2406168', '2381240', '2381109', '2405171', '2396880', '2384339', '2407190', '2386508', '2399538', '2395460', '2378012', '2392325', '2390783', '2399552', '2394729', '2387589', '2401504', '2406197', '2399706', '2365633', '2387139', '2326957', '2395897', '2403841', '2389700', '2381343', '2393853', '2400396', '2381848', '2379805', '2380732', '2382839', '2395071', '2386015', '2392286', '2395035', '2370935', '2383476', '2358554', '2407884', '2408126', '2382581', '2399595', '2379106', '2406189', '2403441', '2403436', '2405973', '2382811', '2404865', '2390540', '2399737', '2396282', '2403977', '2396320', '2403759', '2388261', '2406714', '2164591', '2386745', '2372090', '2383786', '2398090', '2387361', '2407523', '2383541', '2391989', '2399992', '2395216', '2385085', '2405517', '2404851', '2389897', '2385065', '2388792', '2404418', '2393494', '2399414', '2385096', '2381706', '2405694', '2401792', '2379876', '2404325', '2386916', '2386434', '2394953', '2125628', '2389584', '2406625', '2396813', '2304011', '2395781', '2388877', '2384586', '2406505', '2384556', '2392211', '2407716', '2404783', '2385124', '2403607', '2405810', '2392996', '2364607', '2386660', '2387700', '2385817', '2392640', '2389416', '2398253', '2406316', '2386554', '2383464', '2322146', '2392348', '2382062', '2393365', '2376444', '2406764', '2408094', '2407076', '2401048', '2387406', '2390121', '2395387', '2401820', '2400322', '2395069', '2407570', '2383196', '2379803', '2400407', '2393134', '2403389', '2379914', '2383446', '2382082', '2407466', '2382133', '2408006', '2319771', '2387398', '2399226', '2388142', '2399665', '2406252', '2398759', '2406456', '2401447', '2383855', '2382084', '2383898', '2405277', '2402054', '2392467', '2404017', '2385586', '2398781', '2401334', '2382655', '2378991', '2003693', '2393890', '2379799', '2406076', '2386438', '2366311', '2407460', '2402753', '2396632', '2407546', '2184362', '2381999', '2379384', '2381536', '2382974', '2399317', '2383038', '2389844', '2382515', '2396967', '2386208', '2397558', '2395529', '2404370', '2393072', '2390252', '2291959', '2399208', '2406364', '2112690', '2383327', '2406893', '2408087', '2385441', '1276267', '2383468', '2287262', '2379919', '2402630', '2394628', '2388196', '2395668', '2383366', '2390122', '2397374', '2391610', '2392629', '2383108', '2379651', '2384563', '2394612', '2401645', '2396471', '2389717', '2406808', '2404416', '2398638', '2388353', '2400255', '2402951', '2379785', '2404621', '2310481', '2303325', '2385894', '2383043', '2387565', '1861757', '2384918', '2400772', '2392569', '2401974', '2384757', '2396404', '2346916', '2399405', '2408413', '2335142', '2407896', '2406810', '2406458', '2398702', '2380671', '2385690', '2393770', '2382901', '2408227', '2310478', '2406661', '2135033', '2379422', '2402804', '2405796', '2387381', '2384421', '2404989', '2392341', '2405016', '2387892', '2397591', '2407428', '2385379', '2388319', '2390782', '2303083', '2399766', '2403521', '2382628', '2381296', '2391239', '2397821', '2406667', '2404728', '2384012', '2376965', '2393911', '2402287', '2400541', '2383638', '2402328', '2382514', '2388435', '2392912', '2400438', '2405197', '2379715', '2385113', '2227630', '2393695', '2304704', '2402010', '2309948', '2386573', '2401182', '2383112', '2389068', '2347814', '2397984', '2404719', '2388487', '2382035', '2377097', '2398202', '2383095', '2398723', '2385008', '2406321', '2388485', '2245742', '2379100', '2381555', '2399322', '2406866', '2397727', '2385092', '2387692', '2403079', '2378981', '2368912', '2396469', '2398476', '2396526', '2390313', '2403452', '1954563', '2404453', '2407627', '2386336', '2394270', '2359977', '2399069', '2383788', '2403189', '2384792', '2400194', '2388188', '2389985', '2267188', '2390087', '2404259', '2392857', '2408324', '2391349', '2390402', '2384139', '2387661', '2391161', '2402967', '2397778', '2380133', '2398505', '2402993', '2396305', '2380210', '2266095', '2381612', '2377497', '2392547', '2394022', '2407384', '2402604', '2389277', '2390259', '2398867', '2383174', '2392445', '2392480', '2405449', '2399989', '2380975', '2390785', '2393928', '2405068', '2403223', '2387627', '2382433', '2393790', '2407756', '2404930', '2303150', '2403778', '2399801', '2392477', '2384380', '2403877', '2401939', '2396979', '2379016', '2393915', '2383483', '2386348', '2395023', '2406233', '2390446', '2388061', '2390062', '2380442', '2372159', '2404080', '2383806', '2386416', '2371686', '2385715', '2386526', '2389371', '2397332', '2400889', '2390244', '2400262', '2403365', '2390261', '2379486', '2407421', '2384557', '2396943', '2389023', '2099530', '2381058', '2385433', '2396551', '2394770', '2406609', '2398870', '2407951', '2399871', '2400389', '2299714', '2390793', '2383098', '2406058', '2382026', '2381659', '2396253', '2402463', '2402304', '2379917', '2384460', '2389793', '2404745', '2382570', '2382632', '2387213', '2399101', '2385171', '2393084', '2391837', '2405553', '2399345', '2395137', '2385198', '2398051', '2388166', '2295965', '2388411', '2404100', '2391414', '2384406', '2378881', '2388263', '2400223', '2407337', '2398705', '2379138', '2393839', '2266051', '2394153', '2399789', '2265299', '2392237', '2394180', '2394171', '2313315', '2401772', '2407125', '2402570', '2407717', '2399166', '2388259', '2399917', '2399679', '2380159', '2399908', '2405624', '2369016', '2382987', '2406986', '2398250', '2381551', '2388101', '2385995', '2383456', '2380051', '2340087', '2400655', '2403755', '2385733', '2382070', '2388513', '2405886', '2404449', '2402295', '2381694', '2392086', '2398146', '2389829', '2399886', '2391250', '2391679', '2407863', '1443859', '2287354', '2381930', '2403958', '2400004', '2404469', '1885902', '2380034', '2393809', '2389352', '2383109', '2397934', '2382312', '2383086', '2352366', '2380889', '2395209', '2393788', '2399629', '2384967', '2406352', '2396005', '2382796', '2398643', '2354563', '2388386', '2402722', '2397045', '2401531', '2405406', '2391339', '2135074', '2393834', '2396418', '2402833', '2386552', '2396523', '2388695', '2387317', '2304159', '2386894', '2399520', '2404742', '2399853', '2407833', '1697899', '2389244', '2388269', '2406031', '2396915', '2385848', '2403186', '2392292', '2393227', '2404314', '2390387', '2401630', '2394615', '2185989', '2402628', '2399752', '2394161', '2399107', '2379530', '2386654', '2394817', '2380092', '2390501', '2316085', '2395062', '2393389', '1746396', '2396525', '2404566', '2357957', '2388416', '2391903', '2406217', '2404030', '2405464', '2393784', '2395535', '2394529', '2404873', '2386567', '2386832', '2388548', '2379915', '2407598', '2388081', '2405614', '2387918', '2404949', '2393708', '2398694', '2397736', '2360882', '2386822', '2396381', '2380300', '2399327', '2380061', '2403812', '2392247', '2386968', '2390146', '2386840', '2396462', '2386803', '2397278', '2397608', '2383150', '2404849', '2384199', '2394517', '2383350', '2400523', '2403875', '2379197', '2388464', '2401620', '2381748', '2402032', '2394597', '2394447', '2396450', '2406345', '2382099', '2400567', '2407964', '2007338', '2386101', '2379112', '2402018', '2372903', '2406089', '2385736', '2379982', '2405478', '2141045', '2404835', '2393129', '2385168', '2399063', '2399654', '2212186', '2391515', '2388584', '2406999', '2407510', '2398646', '2390898', '2352223', '2292887', '2395339', '2337706', '2404198', '2388367', '2400787', '2381541', '2406203', '2396355', '2408063', '2379099', '2397719', '2199490', '2402830', '2382187', '2397566', '2379162', '2404189', '2377813', '2400410', '2373153', '2394063', '2391392', '2407471', '2387857', '2400837', '2390640', '2386367', '2397316', '2400723', '2399954', '2290927', '2392011', '2401579', '2363042', '2400433', '2396371', '2403742', '2247987', '2299864', '2324728', '2399232', '2398524', '2385634', '2395244', '2390145', '2389855', '2393074', '1744051', '2405832', '2404894', '2383126', '2407512', '2382190', '2403430', '2400984', '2379376', '2402437', '2401405', '2398968', '2388753', '2393359', '2257642', '2389908', '2386445', '2397626', '2395238', '2405536', '2402748', '2195152', '2403221', '2392332', '2394048', '2404561', '2396840', '2265502', '2396755', '2391693', '2387038', '2338766', '2403505', '2404201', '2392454', '2395422', '2404708', '2388831', '2397583', '2384696', '2398225', '2380469', '2408007', '2395265', '2403359', '2379261', '2393571', '2399532', '1785136', '2394269', '2388595', '2391188', '2400385', '2395123', '2383607', '2388238', '2405648', '2386433', '2375378', '2400296', '2402089', '2402756', '2406452', '2397720', '2384248', '2394060', '2402874', '2380982', '2407873', '2401259', '2393844', '2386553', '2370658', '2393104', '2380180', '2396824', '2385211', '2380035', '2399516', '2405148', '2387968', '2392933', '2402163', '2381719', '2398287', '2395434', '2384577', '2394221', '2383452', '2396572', '2383907', '2382010', '2380974', '2405234', '2403737', '2390181', '2393063', '2382424', '2406600', '2386739', '2393854', '2380284', '2397266', '2386462', '2396620', '2399390', '2388026', '2396390', '2396722', '2402710', '2407820', '2384628', '2385575', '2396278', '2395549', '2407539', '2388590', '2406568', '2379220', '2379933', '2390997', '2355129', '2407780', '2398439', '2400199', '2363382', '1265302', '2407212', '2405997', '2383297', '2392335', '2398654', '2391620', '2393047', '2391874', '2391657', '2385477', '2393302', '2395293', '2388518', '2393701', '2398760', '2386050', '2394241', '2405748', '2385235', '2385284', '2400710', '2390479', '2380634', '2390279', '2384186', '2404385', '2407462', '2405565', '2383577', '2386734', '2396171', '2385056', '2393252', '2385377', '2406602', '2391523', '2403013', '2404466', '2408450', '2384352', '2391236', '2382912', '2402468', '2356298', '2394481', '2389469', '2393022', '2403975', '2307345', '2375890', '2379399', '2404776', '2386386', '2386816', '2329739', '2382186', '2394725', '2380303', '2383381', '2290489', '2358615', '2407439', '1095496', '2407738', '2406752', '2367579', '2407728', '2404939', '2392139', '2379902', '2404446', '2386007', '2407834', '2398082', '2394160', '2383076', '2400259', '2400932', '2380170', '2390453', '2394792', '2401914', '2381878', '2404552', '2378202', '2406315', '2384476', '2406504', '2398840', '2393431', '2385907', '2383497', '2385528', '2400351', '2388117', '2404793', '2381794', '2398875', '2295151', '2396517', '2261895', '2331680', '2380964', '2389003', '2401778', '2394563', '2395978', '2381345', '2388954', '2406638', '2399521', '2386353', '2393830', '2407685', '2385271', '2396545', '2387934', '2403491', '2366287', '2381243', '2387060', '2382007', '2401330', '2396539', '2386222', '2388953', '2391778', '2381487', '2390985', '2381770', '2379765', '2380483', '2383080', '2402663', '2391962', '2325475', '2386459', '2390403', '1836875', '2390790', '2391548', '2382179', '2395404', '2391120', '2384096', '2373108', '2407015', '2374694', '2379437', '2390666', '2407362', '2399875', '2406580', '2406365', '2401867', '2401784', '2399172', '2404510', '2399634', '2381395', '2371706', '2397616', '2382674', '2399169', '2408010', '2406779', '2404472', '2359837', '2400534', '1914348', '2385334', '2388856', '2397646', '2404390', '2384422', '2387380', '2389792', '2394902', '2406118', '2385448', '2386016', '2382294', '2404771', '2158144', '2382936', '2391348', '2391017', '2379496', '2394989', '2402281', '2395394', '2407866', '2380222', '2245414', '2387516', '2407980', '2368349', '2399948', '2406577', '2388029', '2371534', '2406322', '2399808', '2388220', '2391468', '2270458', '2406662', '2383294', '2387682', '2383695', '2395542', '2407317', '2274160', '2406437', '2404408', '2406658', '2398574', '2384181', '2408319', '2388731', '2407070', '2405835', '2381064', '2392065', '2395454', '2391416', '2393845', '2408080', '2400070', '2393669', '2405595', '2380537', '2384418', '2391357', '2406226', '2407513', '2300363', '2391128', '2382841', '2406148', '2397485', '2388241', '2379078', '2403225', '2396072', '2392557', '2393288', '2379010', '2401720', '2391124', '2388016', '2387906', '2404003', '2403884', '2371661', '2401955', '2404232', '2403218', '2396420', '2384748', '2384448', '2380188', '2393343', '2398580', '2225189', '2392008', '2400760', '2394272', '2401541', '2407364', '2399545', '2384975', '2393108', '2388285', '2399662', '2399072', '2390340', '2405888', '2383018', '2407762', '2389946', '2392188', '1562843', '2403149', '2403279', '2404896', '2360838', '2406636', '2401988', '2383944', '1476666', '2393201', '2405699', '2384085', '2397071', '2318178', '2401816', '2386074', '2407418', '2379993', '2407655', '2386145', '2161889', '2383585', '2388894', '2408293', '2382874', '2402892', '2394173', '2382188', '2395917', '2404568', '2402134', '1802492', '2379662', '2389752', '2406153', '2378830', '2400301', '2394968', '2379109', '2388258', '2246647', '2395510', '2393647', '2395051', '2403094', '2394780', '2391423', '2382185', '2382047', '2391847', '2408176', '2389091', '2392692', '2397351', '2391806', '2379913', '2378742', '2389660', '2395391', '2387342', '2381342', '2394844', '2395513', '2408309', '2386011', '2399272', '2390398', '2401144', '2408104', '2403891', '2389412', '2384279', '2385459', '2399049', '2393446', '2381445', '2387125', '2402431', '2387396', '2398068', '2391425', '2383722', '2389555', '2406955', '2403786', '2380609', '2388173', '2382135', '2379809', '2395328', '2387710', '2404509', '2406471', '1993156', '2387591', '2384430', '2388143', '2392362', '2384118', '2407269', '2386147', '2226852', '2155870', '2399401', '2388228', '2402280', '2395470', '2398635', '2192437', '2381481', '2341942', '2319095', '2392470', '2382990', '2398614', '2379405', '2400123', '2407138', '2398997', '2398930', '2379875', '2383300', '2381884', '2406800', '2393829', '2395687', '2380346', '2263825', '2395943', '2405064', '2387105', '2381590', '2405679', '2381203', '2401373', '2404029', '2383571', '2406029', '2408189', '2389526', '2378796', '2379709', '2397104', '2292309', '2395380', '2387550', '2405130', '2381124', '2385550', '2404436', '2397913', '2399702', '2390520', '2404134', '2396288', '2191022', '2393899', '2390911', '2386148', '1701014', '2389332', '2402256', '2317684', '2393880', '2388235', '2387814', '2396642', '2389231', '2400620', '2321514', '2401521', '2394168', '2405053', '2379443', '2406103', '2394738', '2380212', '2384385', '2386205', '2403572', '2398729', '2391984', '2395060', '2393673', '2400324', '2387572', '2386829', '2381381', '1145706', '2386652', '2398296', '2390957', '2401421', '2393136', '2405505', '2385414', '2383017', '2399333', '2404045', '2400367', '2386918', '2379307', '2230197', '2407659', '2392178', '2396358', '2402732', '2396192', '2396533', '2407595', '2404784', '2393698', '2362914', '2384898', '2390739', '2384170', '2407087', '2405243', '2386939', '2404452', '2393610', '2266649', '1443700', '2383902', '2392922', '2205610', '2386752', '2379455', '2389181', '2392645', '2391074', '2389918', '2405452', '2406115', '2373867', '2398032', '2378978', '2239298', '2377149', '2394212', '2330237', '2388690', '2372312', '2373734', '2398458', '2394680', '2380455', '2387445', '2397735', '2399739', '2399057', '1432260', '2386678', '2310846', '2404874', '2396176', '2404235', '2323525', '2388696', '2379071', '2393066', '2394299', '2400671', '2396734', '2379510', '2391909', '2393754', '2390049', '2379921', '2380003', '2381911', '2400445', '2372833', '2382998', '2397082', '2364505', '2397636', '2393286', '2384627', '2387850', '2394089', '2395015', '2388504', '2403222', '2184005', '2385027', '2380235', '2394152', '2381423', '2382120', '2402041', '2401857', '2393602', '2386964', '2388013', '2385590', '2388462', '1775537', '2398725', '2380072', '2378989', '2404202', '2404478', '2396535', '2391826', '2399610', '2395168', '2406114', '2379964', '2390296', '2333513', '2392512', '2396633', '2388055', '2406542', '2373090', '2383107', '2400326', '2228499', '2386152', '2380893', '2404468', '2405073', '2381708', '2404887', '2385993', '2380617', '2389474', '2395846', '2392717', '2392529', '2381993', '2403478', '1513131', '2389109', '2389056', '2406194', '2399434', '2181065', '2399669', '2387316', '2395200', '2379439', '2394057', '2391206', '2402931', '2395984', '2394467', '2223286', '2389779', '2399377', '2388789', '2390276', '2393898', '2388918', '2382852', '2379207', '2391924', '2389492', '2380253', '2381616', '2404457', '2404117', '2379749', '2297946', '2394351', '2397926', '2396801', '2394264', '2383257', '2400480', '2404538', '2401896', '2384855', '2280017', '2393399', '2382363', '2368975', '2384146', '2404214', '2385176', '2369126', '2402590', '2384089', '2379712', '2386592', '2407481', '2392702', '2391947', '2399564', '2391229', '2398661', '2350903', '2384614', '2402960', '2407996', '2379679', '2397758', '2388566', '2201443', '2392368', '2380002', '2385831', '2405194', '2384037', '2379087', '2407620', '2394584', '2386110', '2396367', '2385032', '2384461', '2398684', '2391936', '2405718', '2398734', '2398367', '2398575', '2394286', '2403243', '2394246', '2393786', '2404531', '2395939', '2379052', '2398967', '2391562', '2390684', '2389222', '2391350', '2380749', '2296093', '1909963', '2406832', '2382855', '2384068', '2405143', '2384021', '2404251', '2388295', '2396410', '2403773', '2395642', '2392204', '2380383', '2386084', '2396198', '2390420', '2386429', '2401783', '2403553', '2391929', '2384727', '2380071', '2379559', '2401227', '2388204', '2405593', '2382372', '2397540', '2381390', '2398652', '2394849', '2401457', '2400455', '2350593', '2408181', '2384079', '2405969', '2226151', '2386547', '2383244', '2394831', '2392612', '2379740', '2401633', '1689277', '2396588', '2386944', '2348818', '2393312', '2395724', '2385938', '2407589', '2396484', '2384736', '2404254', '2393076', '2363179', '2385637', '2384204', '2399328', '2402880', '2393792', '2405670', '2396422', '2396851', '2403075', '2397605', '2401114', '2406899', '2381283', '2400079', '2397128', '2405473', '2403924', '2398776', '1443357', '2385398', '2248982', '2407615', '2406769', '2386947', '2390489', '2374879', '2380088', '1873085', '2386568', '2382307', '2392251', '2397138', '2407088', '2393189', '2350082', '2390290', '2402548', '2404304', '1256235', '2402324', '2172206', '2403329', '2392805', '2397547', '2403387', '2354217', '2403038', '2383535', '2404502', '2399064', '2393987', '2385028', '2386078', '2382667', '2383919', '2392323', '2408338', '2385957', '2227969', '2398467', '2374918', '2405827', '2398896', '2390125', '2382034', '2393177', '2392786', '2401164', '2399711', '2384173', '2394392', '2406644', '2381743', '2320878', '2408254', '2405101', '2397431', '2200357', '2380870', '2385170', '2381965', '2390758', '2381919', '2385390', '2385077', '2392288', '2407571', '2385320', '2124749', '2405413', '2397412', '2384831', '2407590', '2402883', '2404203', '2391685', '2394133', '2406229', '2380411', '2380600', '2401852', '2407713', '2403655', '2387029', '2379074', '2401714', '2391907', '2402048', '2407017', '2381475', '2381079', '2387109', '2407412', '2403654', '2400505', '2397467', '2389465', '2399860', '2384993', '2401451', '2386156', '2396809', '2371788', '2408082', '1811759', '2392269', '2299097', '2391748', '2241770', '2358087', '2393440', '2164239', '1958745', '2379682', '2388871', '2382933', '2385675', '2367457', '2395458', '2380446', '2380512', '2397576', '2402751', '2402122', '2398466', '2400360', '2396490', '2403550', '2399485', '2394789', '2384160', '2380086', '2380648', '2401282', '2382136', '2398807', '2392938', '2389952', '2385588', '2378321', '2405834', '2403282', '2393565', '2407725', '2377769', '2386006', '2387606', '2393510', '2399042', '2391972', '2339913', '2393069', '2395054', '2375619', '2399290', '2391476', '2393598', '2406928', '2383532', '2392277', '2401519', '2383733', '2395374', '2401298', '2385112', '2400489', '2392867', '2405329', '2405264', '2395119', '2386118', '1556429', '2381785', '2405074', '2389247', '2380532', '2383876', '2395992', '2401270', '2395465', '2368940', '2383094', '2377652', '2403747', '2408253', '2396109', '2381420', '2389455', '2388575', '2385847', '2359896', '2403408', '2392727', '2396895', '2397940', '2407872', '2392665', '2396991', '2379029', '2388170', '2380668', '2384366', '2382033', '2405283', '2379643', '2381715', '2302268', '2390408', '2402462', '2396428', '2388323', '2404878', '2390733', '2390341', '2391197', '2395639', '2357986', '2407953', '2404459', '2395971', '2386982', '2386900', '2396785', '2398087', '2381500', '2398593', '2227478', '2392722', '2403126', '2394544', '2390373', '2387349', '2383836', '2402153', '2402733', '2406622', '2275018', '2387716', '2386580', '2350561', '2400246', '2405862', '2385434', '2401573', '2396178', '2401731', '2386214', '2392409', '2404716', '2379309', '2397030', '2407025', '2401355', '2399308', '2397745', '2394084', '2141740', '2398691', '2403414', '2396878', '2400596', '2404388', '2384529', '2390536', '2405206', '2384220', '2391185', '2396289', '2403200', '2396360', '2403111', '2396821', '2387102', '2401472', '2387164', '2402309', '2402534', '2390977', '2394506', '2401347', '2405855', '2333721', '2405866', '2396937', '2401739', '2394099', '2392364', '2398182', '2401435', '2386515', '2388006', '2382911', '2308432', '2407410', '2380176', '2385292', '2388797', '2406790', '2393536', '2057251', '2380299', '2407580', '2380984', '2400306', '2391775', '2382844', '2388111', '2400799', '2392304', '2407979', '2398692', '1469819', '2384999', '2405356', '2393582', '2406903', '2398910', '2384095', '2402494', '2388145', '2394766', '2385306', '2393062', '2394722', '2396579', '2380496', '2388358', '2405490', '2382477', '2392120', '1378197', '2408313', '2397649', '2398089', '2388686', '2394113', '2210175', '2387739', '2401858', '2384497', '2400485', '2386713', '2401024', '2384820', '2231391', '2398369', '2384014', '2404445', '2393568', '2391931', '2397195', '2379825', '1432588', '2387265', '2382914', '2394019', '2393879', '2392796', '2386665', '2394853', '2398199', '2391785', '2401267', '2401957', '2406885', '2400358', '2303598', '2398858', '2405919', '2380030', '2394189', '2406014', '2388192', '2390116', '2401781', '2395884', '2396990', '1181743', '2387277', '2405501', '2387280', '2402434', '2396501', '2404464', '2386393', '2380044', '2388031', '2392752', '2384065', '2389259', '2381805', '2401878', '2391094', '2396862', '2382800', '2383511', '2390240', '2395287', '2377022', '2401188', '2399155', '2387631', '2375642', '2391343', '2376504', '2271828', '2395421', '2398347', '2384169', '2395684', '2405366', '1427314', '2402229', '2401743', '2386651', '2399285', '2391593', '2383591', '2392106', '2399021', '2402788', '2378994', '2385410', '2380813', '2395533', '2394605', '2403939', '2398582', '2386534', '2406442', '2368767', '2402460', '2385989', '2388475', '2406710', '2261374', '2386225', '2392360', '2392516', '2393330', '2403790', '2406428', '2392682', '2354131', '2398081', '2402323', '2390275', '2400375', '2392865', '2390833', '2402521', '2397031', '2391845', '2407001', '2392299', '2384348', '2407602', '2380023', '2120751', '2387444', '2391044', '2390994', '2392818', '2384612', '2386934', '1765301', '2402476', '2387166', '2404245', '2380822', '2401534', '2379191', '2396543', '2384994', '2405429', '2240044', '2402392', '2333597', '2348404', '2372869', '2393273', '2390443', '2394585', '2403375', '2386294', '2393020', '2392381', '2381443', '2407587', '2408448', '2380936', '2387831', '2389564', '2381217', '2378967', '2402308', '2378786', '2401241', '2399712', '2387851', '2383684', '2384974', '2394689', '2400739', '2379633', '2273711', '2395254', '2236122', '2398181', '2379999', '2401870', '2397568', '2382265', '2393254', '2385864', '2390504', '2389910', '2408278', '2383917', '2379238', '2386347', '2395783', '2395551', '2406787', '2402174', '2401090', '2390353', '2383669', '2393048', '2400689', '2402592', '2395954', '2386850', '2384214', '2379148', '2383892', '2407783', '2388580', '2406351', '2398622', '2403034', '2379997', '2391326', '2393274', '2364454', '2401875', '2383070', '2401151', '2306107', '2390613', '2383269', '2391725', '2398880', '2406135', '2381795', '2388834', '2384334', '2390327', '2387617', '2386602', '2405739', '2405556', '2395117', '2407608', '2396798', '2385997', '2392952', '2407331', '2402071', '2384109', '2400491', '2392969', '2374258', '2381084', '2387624', '2358398', '2407503', '2390036', '2384777', '2383508', '2379892', '2318218', '2393668', '2394632', '2294766', '1602713', '2383527', '2395188', '2389256', '2385224', '2316760', '2390054', '2399975', '2381979', '2389802', '2394720', '2367333', '2405248', '2402936', '2402664', '2404169', '2393160', '2383859', '2263245', '2381626', '2378124', '2403712', '2386762', '2385500', '2379028', '2390523', '2395861', '2300227', '2390645', '2397236', '1122259', '2391096', '2401396', '2405650', '2381974', '2394437', '2405463', '2392599', '2378660', '2399849', '2383868', '2387114', '2403130', '2394165', '2397881', '2396319', '2380106', '2403672', '2400320', '2407611', '2399079', '2395214', '2401387', '2394138', '2388198', '2388535', '2391526', '2381004', '2391107', '2389349', '2400254', '2399399', '2379837', '2395466', '2401920', '2401309', '2378097', '2387680', '2386690', '2406976', '2307756', '2407553', '2406586', '2402586', '2393159', '2381619', '2400295', '2390191', '2395638', '2389810', '2386023', '2396377', '2384560', '2397620', '2386758', '2386702', '2384075', '2395261', '2405373', '2382679', '2380735', '2396333', '2379392', '2389097', '2404174', '2405829', '2392978', '2233192', '2393554', '2388421', '2407434', '2404075', '2402862', '2402677', '2370081', '2378944', '2383461', '2386442', '2387044', '2391069', '2406080', '2386520', '2405799', '2405120', '2326937', '2384933', '2401718', '2400820', '2388545', '2393150', '2399191', '2388291', '2209978', '2407223', '2394445', '2404625', '2407961', '2391961', '2405318', '2391569', '2384264', '2381285', '2385047', '2379049', '2396293', '2404658', '2391455', '2402406', '2404762', '2405434', '2392897', '2386154', '2378798', '2299563', '2387069', '2388630', '2379278', '2399498', '2404824', '2400383', '2404360', '2392770', '2389839', '2404290', '2368676', '2390582', '2398658', '2391213', '2396110', '2151513', '2391491', '2384527', '2393480', '2400304', '2045599', '2359708', '2394754', '2403371', '2387651', '2379969', '2382554', '2397549', '2390637', '2402970', '2405124', '2405441', '2400106', '2386432', '2214759', '2384791', '2395334', '2408205', '2397725', '2397108', '2391000', '2405634', '2397606', '2380245', '2390344', '2297426', '2396750', '2406964', '2398552', '2405382', '2383895', '2388978', '2389917', '2384514', '2395511', '2383980', '2402775', '2382119', '2397057', '2405950', '2092098', '2385602', '2235767', '2256073', '1853480', '2395450', '2398632', '2384953', '2135000', '2382273', '2404060', '2402470', '1620815', '2386143', '2379845', '2389258', '2397665', '2392200', '2380910', '2390115', '2375653', '2401692', '2388807', '2388445', '2405119', '2387733', '2385803', '2396393', '2370398', '2399635', '2401717', '2404454', '2396767', '2399722', '2376480', '2379573', '2189680', '2391112', '2385874', '2407591', '2400097', '2361438', '2388376', '2391059', '2386837', '2384613', '2390221', '2384607', '2385594', '2383242', '2404484', '2389013', '2397490', '2384145', '1407748', '2383920', '1942151', '2399557', '2401462', '2372054', '2323911', '2383778', '2399589', '2387138', '2387235', '2402475', '2387309', '2379214', '2399558', '2401366', '2174400', '2381346', '2378979', '2408436', '2386682', '2404015', '2398452', '2300801', '2396229', '2400174', '2407976', '2387074', '2396981', '2391653', '2403666', '2383654', '2260367', '2394313', '2394924', '2381573', '2404373', '2335118', '2401349', '2390867', '2395106', '2399570', '2138443', '2263363', '2387856', '2394957', '2398248', '2398645', '2394574', '2397802', '2389517', '2389512', '2401523', '2385914', '2381026', '2396627', '2406384', '2390015', '2388450', '2401341', '2398370', '2397927', '2397777', '2322534', '2403181', '2386749', '2138546', '2398054', '2252852', '2381914', '2391518', '2380150', '1772737', '2382904', '2179829', '2392482', '2407721', '2379174', '2379814', '2391882', '2388306', '2398337', '2386804', '2407140', '2404475', '2399178', '2402545', '2407376', '2401324', '2364745', '2370463', '2389896', '2391631', '2397555', '2383214', '2406009', '2402284', '2402317', '2399577', '2397081', '2387816', '2393256', '2392154', '2404308', '2382611', '2405289', '2400991', '2392264', '2400042', '1655268', '2383367', '2377602', '2377210', '2379354', '2390590', '2398537', '2383069', '2382566', '2401222', '2406081', '2300031', '2400312', '2407722', '2385332', '2399998', '2396304', '2387391', '2382812', '2401479', '2395552', '2393335', '2387639', '2399724', '2388334', '2387786', '2390801', '2317709', '2373686', '2399097', '2396449', '2395443', '2277256', '2380325', '2380909', '2396888', '2380789', '2398415', '2394111', '2407843', '2402315', '2389024', '2407152', '2387397', '2395400', '2384599', '2386976', '2387270', '2398653', '2390078', '2407393', '2407024', '2387531', '2396346', '2382708', '2387358', '2380687', '2396787', '2396589', '2384341', '2369148', '2405345', '2407860', '2384544', '2399451', '2380748', '2385119', '2398393', '2380657', '2402755', '2403847', '2395558', '2400311', '2391704', '2394291', '2397874', '2398177', '2391144', '2388656', '2402904', '2378657', '2389151', '2388891', '2386536', '2247050', '2322540', '2383589', '2389950', '2384058', '2384518', '2389054', '2396962', '2125018', '2405118', '2386025', '2405753', '2379161', '2383073', '2391345', '2396359', '2393936', '2397514', '2382838', '2385910', '2401733', '2400275', '2402355', '2396675', '2407647', '2358974', '2309597', '2407555', '2401740', '2384884', '2383351', '2379953', '2385622', '2384330', '2404102', '2404604', '2392072', '2273606', '2400865', '2396286', '2406152', '2392486', '2387593', '2393569', '2399127', '2383507', '2393061', '2405043', '2402458', '2381821', '2385876', '2408292', '2392535', '2224476', '1146108', '2404933', '2379454', '2388922', '2377392', '2329625', '2338571', '2384007', '2379710', '2393607', '2399544', '2391330', '2405791', '2407610', '2193694', '2398748', '2399554', '2406844', '2384023', '2381949', '2375178', '2402121', '2407158', '2394416', '2404820', '2397569', '2392121', '2401375', '2399029', '2208945', '2397345', '2392833', '2388657', '2402589', '2402294', '2393157', '2394236', '2394910', '2384760', '2394223', '2379218', '2384960', '2400821', '2003220', '2401329', '1351991', '2402801', '2407204', '2392420', '2384434', '2391942', '2399790', '2407653', '2407335', '2383741', '2380818', '2399926', '2398558', '2382052', '2302732', '2394996', '2388804', '2402331', '2378086', '2386530', '2392889', '2394007', '2399720', '2389300', '2388237', '2400945', '2381856', '2350981', '2403175', '1642888', '2387359', '2405616', '2380586', '2386861', '2407812', '2374608', '2382591', '2391980', '2379995', '2405652', '2394700', '2387082', '2392073', '2399747', '2398358', '2407444', '2404853', '2393241', '2408384', '2384175', '2389468', '2385129', '2358396', '2383655', '2407897', '2386077', '2396758', '2380971', '2392131', '2389039', '2397116', '2407592', '2385416', '2391451', '2294114', '2380842', '2384693', '2386575', '2384985', '2400343', '2398389', '2404587', '2307896', '2389196', '2391134', '2399838', '2401624', '2391195', '2383023', '2389160', '2398768', '2395392', '2385985', '2394610', '2401684', '2404724', '2383474', '2397435', '2390325', '2386219', '1817756', '2389499', '2401004', '2400897', '2402363', '2406317', '2399378', '2407095', '2396343', '2259887', '2400585', '2384580', '1286572', '2406603', '2397641', '2380637', '2404377', '2407459', '2396488', '2408352', '2386390', '2386009', '2398383', '2390673', '2405538', '2250168', '2407022', '2402260', '2383861', '2398823', '2396038', '2390844', '2381482', '2290273', '2385819', '2393776', '2404401', '2358682', '2400925', '2394321', '2393240', '2379388', '2404893', '2402524', '2403834', '2400421', '2379810', '2391801', '2388150', '2405998', '2383565', '2390610', '2400727', '2390132', '2407936', '2388456', '2404659', '2396710', '2384351', '2390159', '2407952', '2402956', '2403791', '2402306', '2391665', '2404634', '2263061', '2393368', '2384046', '2393948', '2401515', '2390213', '2401478', '2406463', '2399003', '2391841', '2384230', '2380438', '2398205', '2383045', '2391445', '2390080', '2385337', '2407176', '2391262', '2399704', '2384285', '2390399', '2389389', '2405480', '1285753', '2404860', '2403644', '2380564', '2381996', '2406614', '2379759', '2402358', '2403947', '2397384', '2392834', '2398556', '2393528', '2403976', '2388312', '2406553', '2400024', '2401454', '2388880', '2380114', '2408127', '2380364', '2370632', '2391355', '2381455', '2406433', '2402757', '2406338', '2238012', '2402404', '2404396', '2381251', '2384619', '1183995', '2385042', '2394338', '2383594', '2391063', '2405853', '2400032', '2379835', '2381291', '2368679', '2397625', '2390654', '2400071', '2348931', '2380972', '2375015', '2384770', '2400031', '2406778', '2381959', '2404211', '2407298', '2392058', '2392373', '2393234', '2405691', '2384148', '2381112', '2394041', '2392984', '2380167', '2404992', '2266025', '2380041', '2399305', '2401982', '2408260', '2390650', '2402616', '2393407', '2390394', '2398666', '2389055', '2185506', '2380115', '2397779', '2387360', '2395838', '2387249', '2401497', '2393010', '2386814', '2380829', '2399805', '2191920', '2391599', '2387458', '2390388', '2371170', '2403477', '2405636', '2392263', '2403577', '2381656', '2395258', '2406254', '2382898', '2395222', '2385579', '2378608', '2402216', '2397050', '2399531', '2382088', '2400887', '2389360', '2393509', '2398937', '2407699', '2389456', '2380767', '2395241', '2391319', '2382309', '2397553', '2389736', '2401997', '2404037', '2392272', '2388046', '2316213', '2402433', '2405671', '2397029', '2391446', '2390148', '2393716', '2379857', '2125968', '2406632', '2405751', '2388468', '2404918', '2381071', '1999975', '2381735', '1984007', '2250370', '2383842', '2397849', '2383068', '2380860', '2405218', '2382240', '2381394', '2389879', '2382078', '2397034', '2382415', '2407499', '2390806', '2304474', '2391214', '2407616', '2394935', '2400210', '2390891', '2380897', '2390172', '2403358', '2385615', '2350362', '1481685', '2382739', '2391191', '2400338', '2402950', '2402299', '2397246', '2380986', '1719987', '2387259', '2389137', '2394283', '2402258', '2407993', '2389377', '2392554', '2393493', '2401265', '2387546', '2382361', '2389853', '2390588', '2386121', '2385310', '2374458', '2351832', '2395786', '2373307', '2408401', '2382704', '2348422', '2399222', '2391964', '2398445', '2406440', '2396875', '2381156', '2380806', '2398640', '2398031', '2389774', '2392871', '2403363', '2384247', '2405404', '2400154', '2401438', '2344646', '2399671', '2344391', '2405688', '2398744', '2389663', '2399680', '2380541', '2311748', '2384666', '2381250', '2381674', '2398733', '2206509', '2408442', '2383500', '2400569', '2392774', '2395652', '2396400', '2380576', '2398397', '2176986', '2403804', '2397959', '1815528', '2387600', '2398960', '2381354', '2389246', '2398740', '2388283', '2390532', '2393188', '2395968', '2394232', '2399877', '2406132', '2384178', '2381352', '2363988', '2385308', '2385046', '2403816', '2383085', '2382935', '2394933', '2387743', '2401297', '2381284', '2387619', '2402963', '2402382', '2396391', '2398871', '2399841', '2388813', '2395872', '2380914', '2379353', '2399539', '2400281', '2394678', '2379587', '2401737', '2392446', '2392814', '2381085', '2371683', '2400473', '2392385', '2285290', '2388124', '2385963', '2385790', '2379404', '2407209', '2389604', '2382956', '2397434', '2391363', '2385983', '2393469', '2396712', '2380068', '2129399', '2121392', '2395059', '2390710', '2387350', '2383227', '2380143', '1817770', '2396665', '2397647', '2388746', '2404749', '2396835', '2391442', '2407688', '2382167', '2401249', '2401704', '2381295', '2356323', '2405110', '2342885', '2407096', '2392723', '2400598', '2393397', '2388359', '2379452', '2390247', '2398164', '2392450', '2391703', '2407189', '2386544', '2381922', '2386005', '2388472', '2298742', '2391422', '2384611', '2382900', '2399726', '2134426', '2398102', '2392022', '2388505', '2379367', '2388024', '2397640', '2385987', '2388996', '2390829', '2388328', '2128690', '2383953', '2387022', '2399510', '2396583', '2398827', '2385850', '2405079', '2357945', '2384152', '2384893', '2405272', '2407272', '2395327', '2398680', '2384845', '2397501', '2394988', '2405067', '2395393', '2403645', '2390853', '2389041', '2405817', '2405573', '2388105', '2380560', '2400346', '2385184', '2401470', '2396497', '2395286', '2384231', '2386150', '2405231', '2406123', '2224016', '2384297', '2383123', '2185858', '2398019', '2390188', '2395958', '2394439', '2378968', '2384732', '2377121', '2379716', '2384822', '2387570', '2383457', '2398009', '2352536', '2401199', '2379481', '2381260', '2385043', '2392138', '2388582', '2379617', '2374321', '2379298', '2402765', '2383593', '2379046', '2382331', '2397916', '2401240', '2383614', '2397460', '2387051', '2390447', '2408402', '2381413', '2384439', '2379604', '2404146', '2380916', '2397769', '2405999', '2404227', '2385635', '2408191', '2381892', '2393518', '2407073', '2367554', '2377648', '2387724', '2390152', '2402347', '2395907', '2389807', '2324179', '2401850', '2393385', '2391560', '2400600', '2405032', '2401623', '2385430', '2405591', '2380873', '2318362', '2384474', '2389166', '2382333', '2321504', '2403271', '2402372', '2384452', '2259449', '2407120', '2374875', '2394986', '2244612', '1635439', '2379374', '2398407', '2389674', '2406069', '2396970', '2387808', '2317123', '2380905', '2405683', '2408102', '2391799', '2388490', '2396221', '2405617', '2390515', '2384895', '2398792', '2391036', '2405438', '2356638', '2404858', '2383447', '2400179', '2384968', '2381414', '2396524', '2372896', '2407370', '2407528', '2391960', '2404522', '2379167', '2381165', '2383192', '2395080', '2324150', '2381716', '2385561', '2395953', '2397622', '2385472', '2383438', '2387231', '2397973', '2398245', '2399753', '2394065', '2398354', '2398364', '2379177', '2393322', '2376938', '2311122', '2400507', '2396716', '2396892', '2393768', '2382466', '2392313', '2385920', '2396869', '2407431', '2384076', '2405987', '2387281', '2380922', '2398506', '2402387', '2404743', '2386671', '2399403', '2394316', '2391675', '2388063', '2399091', '2401572', '2397399', '2385412', '2401665', '2405621', '2381077', '2380080', '2396581', '2383053', '2388267', '2390315', '2401295', '2394528', '2408287', '2387965', '2380899', '2395193', '2383965', '2389491', '2391333', '2398830', '2392153', '2388290', '2382521', '2386760', '2380331', '2403746', '2405870', '2396116', '2392271', '2380787', '2405569', '2403546', '2390919', '2232548', '2379610', '2391249', '2399579', '2404588', '2394955', '2385941', '2402427', '2405938', '2403888', '2393224', '2381119', '2379345', '2389292', '2405374', '2395180', '2182534', '2387093', '2393806', '2390074', '2394994', '2383420', '2387020', '2385386', '2400903', '2393684', '2391135', '2402632', '2354011', '2394569', '2390472', '2390706', '2383991', '2395237', '2399040', '2369024', '2396493', '2392714', '2401327', '2395531', '2399274', '2407521', '2391303', '2379839', '2385992', '2402094', '2387101', '2392920', '2380588', '2399767', '2382037', '2397234', '2386361', '2401322', '2392514', '2404208', '2372019', '2377677', '2389123', '2391522', '2398320', '2395826', '2403707', '2396070', '2402369', '2383128', '2395379', '2395734', '2376113', '2408034', '2403730', '2389315', '2257407', '2404074', '2396571', '2406798', '2312982', '2287772', '2403879', '2403745', '2407819', '2397112', '2397385', '2405184', '2404977', '2402180', '2383280', '2391508', '2399742', '2393923', '2400994', '2401495', '2403096', '2311438', '2385826', '2329313', '2386240', '2386987', '2368097', '2260928', '2382619', '2399456', '2403443', '2388178', '2389075', '2376753', '2404957', '2386112', '2400434', '2333962', '2400986', '2393743', '2383562', '2395008', '2387644', '2395370', '1861975', '2391557', '2387448', '2386740', '2381063', '2382268', '2383433', '2385256', '2381403', '2386588', '2388668', '2386977', '2402074', '2391681', '2396782', '2396378', '2388715', '2391532', '2403519', '2390217', '2394513', '2387071', '2393426', '2390509', '2402322', '2387961', '2405793', '2387482', '2384713', '2394773', '2400995', '2392036', '2401064', '2383263', '2399491', '2396504', '2297679', '2390740', '2397799', '2406992', '2401394', '2399436', '2406729', '2391313', '2387953', '2406013', '2388103', '2372113', '2393810', '2392721', '2135002', '2400391', '2394783', '2400169', '2394209', '2344020', '2398484', '2392249', '2379681', '2400354', '2395741', '2383992', '2381051', '2385802', '2380248', '2380313', '2389580', '2407858', '2388257', '2404805', '2398315', '2381387', '2391459', '2392633', '2402042', '2401817', '2398788', '2381905', '2383077', '2398834', '2388330', '2392375', '2405523', '2393779', '2384015', '2364042', '2402353', '2384786', '2384531', '2406850', '2392317', '2405723', '2396704', '2402672', '2378027', '2400047', '2404785', '2379003', '2407751', '2382064', '2397775', '2405178', '2348127', '2403015', '2382423', '2384706', '1269475', '2334908', '2393479', '2384442', '2389350', '2398864', '1628239', '2394397', '2385111', '2264917', '2381729', '2378688', '2397835', '2392442', '2266553', '2397495', '2406756', '2393040', '2395310', '2237346', '2384397', '2387984', '2388318', '2390905', '2404801', '2397838', '2405986', '2402976', '2379248', '2399482', '2387135', '2380999', '2354816', '2385979', '2385718', '2400526', '2315968', '2405812', '2390153', '2381543', '2383726', '2394128', '2379186', '2403495', '2398023', '1843559', '2394841', '2394040', '2184415', '2393835', '2402557', '2380098', '2401862', '2394094', '2380108', '2400120', '2394288', '2399784', '2392209', '2346789', '2396908', '2400412', '2398909', '2135551', '2406705', '2401539', '2397621', '2385932', '2404866', '2404444', '2382274', '2295525', '2403138', '2393478', '2408049', '2395113', '2388830', '2391248', '2400721', '2401121', '2386013', '2386477', '2379060', '2398564', '2383347', '2394908', '2365998', '2396037', '2001392', '2400398', '2382757', '2388611', '2367807', '2390101', '2405576', '2389936', '2387058', '2381305', '2379817', '2398649', '2394203', '2408074', '2402857', '2381148', '2262821', '2382101', '2395219', '2393763', '2397311', '2387825', '2396464', '2363653', '2403210', '2404727', '2387386', '2398790', '2384013', '2392921', '2382380', '2383555', '2397113', '2406216', '2395352', '2391571', '2397548', '2403247', '2381073', '2380663', '2391697', '2396997', '2408208', '2383579', '2395079', '2407854', '2383059', '2392511', '2383871', '2385422', '2391574', '2394307', '2342586', '2400789', '2366042', '2391411', '2400512', '2405417', '2391177', '2401751', '2402319', '2405564', '2401836', '2378276', '2392018', '2402808', '2399335', '1486136', '2386106', '2403714', '2399550', '2381825', '2404070', '2381737', '2384987', '2407321', '2390641', '2398303', '2386411', '2396843', '2398683', '2387214', '2388276', '2388885', '2396437', '2392794', '2383484', '2404736', '2288059', '2379973', '2390964', '2379553', '2381184', '2391939', '2274796', '2398278', '2394882', '2398075', '2383994', '2403192', '2381172', '2400785', '2407583', '2391545', '2402549', '2400992', '2400463', '2362487', '2384537', '2402289', '2387805', '2405437', '2396689', '2400676', '2395993', '2402940', '2387905', '2401155', '2381705', '2391456', '2404010', '1127630', '2379253', '2404703', '2393411', '2403424', '2380955', '2403803', '2394429', '2368995', '2366910', '2402691', '2398862', '2381194', '2377986', '2393318', '2406748', '2389236', '2386529', '1036209', '2398539', '2394325', '2389646', '2405048', '2391781', '2392149', '2395213', '2347874', '2385208', '2405381', '2400844', '2397527', '2383089', '2400796', '2394214', '2383325', '2398141', '2390678', '2386633', '2395938', '2383024', '2379541', '2398697', '2350642', '2396452', '2382789', '2395898', '2400998', '2399867', '2400402', '2387719', '2403882', '2390198', '2404495', '2404908', '2399410', '2389809', '2395354', '2405189', '2377289', '2379622', '2397149', '2383303', '2393315', '2398877', '2389619', '2385185', '2390167', '2386070', '2366178', '2392835', '2395108', '2401449', '2380859', '2399409', '2395285', '2394251', '2385067', '2398449', '2399697', '2395543', '2382124', '2387535', '2380194', '2406618', '2301408', '2399212', '2407937', '2392147', '2389689', '2393876', '2392541', '2301304', '2379948', '2379316', '2402357', '2380494', '2394557', '2392301', '2387996', '2395591', '2386264', '2407090', '2384470', '2391861', '2379300', '2392745', '2388033', '2399826', '2380451', '2400757', '2407938', '2383720', '2395814', '2404434', '2399254', '2390431', '2376268', '2380055', '2160424', '2398260', '2384799', '2407386', '2384378', '2402478', '2328596', '2384615', '2394105', '2384617', '2382050', '2400806', '2394648', '2396621', '2367287', '2399342', '2380888', '2394121', '2402305', '2394922', '2383256', '2302461', '2384591', '2391218', '2386094', '2379833', '2396816', '2404351', '2385382', '2394282', '2402667', '2382147', '2407516', '2395184', '2260277', '2374241', '2402332', '2389183', '2400028', '2393644', '2389856', '2379098', '2383005', '2310775', '2395351', '2386763', '2404544', '2382189', '2398420', '2403113', '2400647', '2291789', '2384122', '2394531', '2404500', '2389274', '2403211', '2398186', '2392883', '2401345', '2401625', '2396162', '2391418', '2401020', '2384886', '2392880', '2404867', '2395944', '2379871', '2404097', '2382884', '2392458', '2312629', '2213796', '2385636', '2398235', '2383755', '2406438', '2383233', '2390906', '2373216', '2405643', '2392284', '2395899', '2385039', '2405758', '2401204', '2400172', '2384744', '2401420', '2387095', '2394511', '2386413', '2388045', '2352669', '2388521', '2404546', '2396332', '2399633', '2391369', '2393334', '2388202', '2398207', '2403302', '2379385', '2400308', '2387388', '2407433', '1196665', '2399093', '2389459', '2390162', '2387939', '2384359', '2384063', '2395789', '2381862', '2396774', '2379575', '2405504', '2395102', '2403480', '2396603', '2396763', '2398669', '2392109', '2395865', '2389291', '2403133', '2390578', '2385505', '2272774', '2389276', '2386524', '2408059', '2384410', '2383808', '2390872', '2397834', '2385278', '2397530', '2400288', '2393266', '2400616', '2407505', '2376828', '2397559', '2176583', '2373961', '2407059', '2396419', '2379467', '2188864', '2380005', '2399114', '2384568', '2403694', '2380401', '2402110', '1313565', '2379050', '2385762', '2408370', '2394020', '2393358', '2402781', '2348880', '2401730', '2396615', '2388163', '2356848', '2291464', '2399772', '2387150', '2395755', '2398030', '2394444', '2396135', '2385827', '2399638', '1894246', '2394903', '2387685', '2405992', '2397783', '2390729', '2379674', '2404602', '2336916', '1835105', '2383362', '2381400', '2385946', '2380980', '2406042', '2404019', '2393988', '2357410', '2405482', '2384404', '2392902', '2386470', '2407478', '2402863', '2382297', '2403017', '2388846', '2379163', '2405535', '2405134', '2392111', '2383250', '2051925', '2398587', '2402222', '2386806', '2388890', '2405640', '2383234', '1037247', '2400005', '2395964', '2403395', '2394629', '2383114', '2389071', '2372032', '2404129', '2403091', '2402166', '2383290', '2398553', '1892321', '2394799', '2389100', '2380950', '2377510', '2379731', '2398783', '2385674', '2390029', '2398794', '2391052', '2392358', '2405386', '2385387', '2393388', '2379002', '2406780', '2386902', '2399385', '2358719', '2376381', '2398914', '2401031', '2392150', '2401378', '2401178', '2387041', '2392221', '2401922', '2383979', '2386195', '2362778', '2404609', '2406337', '2393311', '2394760', '2384900', '2405715', '2402790', '2335439', '2403202', '2403033', '2386159', '2293499', '2379263', '2406938', '2403238', '2371031', '2389092', '2384582', '2386141', '2398861', '2388819', '2393655', '2408054', '2393221', '2404759', '2401285', '2387555', '2388090', '2396614', '2172111', '2379267', '2253011', '2405566', '2381844', '2360387', '2404056', '2178595', '2398201', '2379883', '2401255', '2384001', '2380933', '2394572', '2395395', '2382358', '2401806', '2334185', '2390356', '2403641', '2394082', '2380240', '2183584', '2405923', '2400776', '2405311', '2391995', '2407988', '2402930', '2364321', '2408416', '2397417', '2383552', '2390899', '2328437', '2407538', '2391714', '2394293', '2303398', '2387887', '2388408', '2402202', '2380810', '2399895', '2395598', '2387760', '2384655', '2390319', '2397723', '2405047', '2401247', '2386706', '2392059', '2405257', '2393628', '2379000', '2389279', '2402839', '2386119', '2408289', '2379097', '2395913', '2207482', '2405701', '2385971', '2395936', '2405056', '2406372', '2392597', '2391147', '2403166', '2381388', '2394716', '2390718', '2397639', '2386360', '1409571', '2387821', '2328089', '2311039', '2402341', '2306220', '2384600', '2117705', '2358564', '2378237', '2403591', '2379355', '2388110', '2386679', '2395190', '2387229', '2398451', '2385365', '2393852', '2399551', '2366379', '2389374', '2392369', '2384394', '2402288', '2387587', '2223575', '2376174', '2384332', '2285987', '2397368', '2386903', '2398280', '2246939', '2392490', '2386513', '2379742', '2388224', '2389088', '2355647', '2392618', '2399249', '2399227', '2386311', '2379707', '2407242', '2391888', '2386742', '2407501', '2405344', '2378935', '2392681', '2383311', '2389155', '2384848', '2396461', '2379900', '2403419', '2384000', '2407175', '2393231', '2389429', '2388758', '2408380', '2408377', '2396846', '2408283', '2400121', '2387666', '2384080', '2390164', '2382054', '2392741', '2395831', '2400344', '2370549', '2396051', '2400751', '2397408', '2381016', '2381212', '2407507', '2286719', '2399758', '2406326', '2407777', '1605328', '2406584', '2400894', '2380696', '2383739', '2403213', '2391528', '2373709', '2382209', '2396242', '2390979', '2393550', '2370339', '2392504', '2392539', '2387015', '2384457', '2394182', '2388650', '2395130', '2401555', '2379819', '2389527', '2376059', '2396365', '2372218', '2391394', '2387684', '2399760', '2405802', '2399616', '2392562', '2387473', '2373426', '2397627', '2397101', '2407656', '2393489', '2401006', '2399944', '2405730', '2403236', '2395103', '2390365', '2392449', '2389414', '2377560', '2341841', '2391737', '2382825', '2407082', '2395382', '2391864', '2388132', '2358406', '2393828', '2323927', '2383031', '2397590', '2403517', '2399656', '1008080', '2398176', '2407064', '2394747', '2390457', '2386849', '2392973', '2395903', '2402480', '2383628', '2389422', '2401426', '2372130', '2397297', '2310734', '2394131', '2395195', '2402520', '2376636', '2400639', '2396631', '2386192', '2392447', '2400443', '2385678', '2382065', '2381880', '2400011', '2389161', '2396682', '2405568', '2387284', '2389266', '2408222', '2400502', '2404738', '2400528', '2332062', '2382780', '2387470', '2398637', '2406807', '2400525', '2379464', '2381960', '2407786', '2387224', '2386045', '2379249', '2375081', '2399074', '2393907', '2401109', '2395659', '2380862', '2383863', '2381131', '2407930', '2392219', '2379457', '2225630', '2338959', '2384867', '2397525', '2405787', '2393249', '2379285', '2379908', '2396508', '2406454', '2385048', '2393666', '2382422', '2389608', '2400930', '2378153', '2402564', '2212855', '2387208', '2397513', '2385408', '1456540', '2379938', '2404657', '2407414', '2388051', '2374772', '2378219', '2404488', '2387763', '2406921', '2400698', '2380216', '2378028', '2406174', '2400564', '2379096', '2402744', '2396441', '2233708', '2392171', '2394003', '2384121', '2386241', '2391264', '2385972', '2386540', '2402114', '2401300', '2407397', '2394762', '2400960', '2388542', '2404799', '2400387', '2385471', '2383048', '2404395', '2396389', '2408359', '2404913', '2406813', '2336583', '2384066', '2291447', '2398528', '2398226', '2387818', '2396528', '2381983', '2394295', '2391634', '2386727', '2383208', '2391955', '2390481', '2379555', '2404990', '2399095', '2376722', '2385484', '2398975', '2387505', '2392997', '2404127', '2399648', '2387489', '2361984', '2378693', '2385074', '2382106', '2388083', '2406079', '2380501', '2389880', '2361759', '2372296', '2384590', '2390139', '2389080', '2392579', '2400309', '2399816', '2381995', '2392103', '2381213', '2399251', '2389263', '2407973', '2395022', '2378446', '2390521', '2384910', '2380904', '2392283', '2397602', '2313737', '2400422', '2404442', '2399806', '2374991', '2395696', '2393195', '2408095', '2383848', '2386151', '2408064', '2382822', '2407458', '2404697', '2398521', '2397919', '2131377', '2392798', '2397642', '2383973', '2397713', '2400192', '1237508', '2402237', '2390768', '2407006', '2385658', '2401528', '2387191', '2403364', '1454236', '2385003', '2377297', '2380219', '2395471', '2396330', '2385102', '2381088', '2404415', '2358592', '2400257', '2338594', '2398581', '2387173', '2408043', '2384284', '2382199', '2408070', '2383264', '2386169', '2380105', '2398410', '2400901', '2406570', '2399765', '2386087', '2398170', '2361432', '2404800', '2399755', '2394828', '2391490', '2388102', '2383448', '2386653', '2397654', '2398678', '2405401', '2404803', '2392979', '2404479', '2400019', '2402465', '2396430', '2390306', '2381389', '2402639', '2403318', '2384921', '2391398', '2395329', '2402591', '2394577', '2394510', '2329364', '2407101', '2400724', '2384574', '2379114', '2303678', '2383828', '2407850', '2399524', '2402580', '2398777', '2395473', '2407639', '2403996', '2381549', '2396445', '2404686', '2393758', '2381938', '2381516', '2393972', '2393002', '2404269', '2396595', '2391840', '2398872', '2391126', '2398033', '2407871', '2390437', '2381147', '2388131', '2379750', '2341046', '2408103', '2388745', '2406997', '2398855', '2388140', '2387272', '2386285', '2398911', '2365280', '2398651', '2382113', '2405255', '2395435', '2401237', '2404596', '2400429', '2352607', '2407560', '2392515', '2383761', '2406557', '2271973', '2388216', '2150534', '2394140', '2392730', '2384358', '2391105', '2400317', '2390970', '2406526', '2386378', '2397232', '2401779', '2379576', '2388479', '2407997', '2408354', '2394422', '2383032', '2396643', '2394879', '2379795', '2403421', '2394596', '2389400', '2382316', '2403464', '2384137', '2391466', '2400868', '2359004', '2398267', '2406937', '2386667', '2380511', '2386700', '2406914', '2385169', '2394949', '2380963', '2395004', '2397721', '2397798', '2391434', '2390396', '2392888', '2398523', '2404507', '2384319', '2382888', '2380223', '2382915', '2383480', '2406503', '2386403', '2393520', '2405221', '2386030', '2406956', '2401248', '2401252', '2387301', '2395904', '2398590', '2392771', '1089856', '2405150', '2396017', '2369938', '2397493', '2403275', '2377727', '2385818', '2398942', '2389182', '2392165', '2351932', '2203383', '2387158', '2379578', '2405749', '2408085', '2395098', '2401198', '2393660', '2406829', '2400835', '2381992', '2396826', '2392502', '2406235', '2395309', '2398565', '2389629', '2406871', '2397964', '2396374', '2390421', '2403449', '2326984', '2392439', '2387641', '2391712', '2383502', '2401947', '2391666', '2388959', '2400621', '2389099', '2405402', '2382013', '2399433', '2382527', '2392787', '2388057', '2386523', '2407285', '2380809', '2389253', '2383184', '1343341', '2386312', '2382854', '2395703', '2401856', '2403374', '2335855', '2400985', '2386419', '2398323', '2382008', '2395990', '2390754', '2378982', '2395033', '2380993', '1502530', '2402832', '2110987', '2393800', '2398536', '2397574', '2397669', '2383066', '2400936', '2390623', '2406531', '2388388', '2397859', '2400494', '2397480', '2379903', '2388982', '2262191', '2379320', '2381871', '2391898', '2405485', '2389592', '2393871', '2378955', '2399316', '2358872', '2395250', '2390848', '2382925', '2396815', '2400105', '2383416', '2407281', '2387764', '2385038', '2378765', '2391923', '2394196', '2403871', '2393651', '2282728', '2391154', '2403333', '2213117', '2403102', '2379949', '2326228', '2403466', '2388497', '2407849', '2399363', '2386058', '2399852', '2383063', '2379924', '2382580', '2391789', '2398670', '2404589', '2180964', '2385342', '2408117', '2405918', '2402285', '2372003', '2407601', '2384347', '2400808', '2405168', '2400033', '2295275', '2240363', '2406982', '2382117', '2386844', '2396777', '1688301', '2396174', '2379251', '2381630', '2382246', '2403284', '1787275', '2398305', '2353576', '2386245', '2390882', '2395750', '2388018', '2396800', '2391179', '2228681', '2404624', '2236708', '2379468', '2389454', '2398995', '2385493', '2406527', '2402891', '2403530', '2384369', '2378927', '2382024', '2381476', '2382801', '2385986', '2402983', '2385139', '2401417', '2403906', '2402850', '2388010', '2324704', '2394184', '2406881', '2147805', '2387689', '2398196', '2401134', '2389939', '2379296', '2399318', '2389308', '2390652', '2386142', '2399302', '2380882', '2391611', '2398379', '2389093', '2363773', '2401590', '2394109', '2400840', '2402503', '2393508', '2388799', '2242848', '2390071', '2396537', '2403323', '2395737', '2405328', '2400823', '2183310', '2399999', '2150945', '2382893', '2399429', '2382002', '2399076', '2380664', '2382736', '2382488', '2398416', '2380387', '2398313', '2402551', '2389305', '2391819', '2388179', '2386525', '2383995', '2384275', '2385959', '2396435', '2406023', '2382498', '2407631', '2393232', '2385813', '2380226', '2394874', '2379504', '2393487', '2406694', '2382764', '2408328', '2407150', '2395976', '2389157', '2408297', '2375251', '2396372', '2392491', '2405933', '2404000', '2400972', '2389485', '2401927', '2404752', '2386952', '2404352', '2391503', '2392828', '2394639', '2400022', '2396609', '2379370', '2387480', '2389661', '2380622', '2382887', '2367046', '2382435', '2384956', '2385465', '2398424', '2401967', '2399193', '2394357', '2379072', '2393851', '2396702', '2375372', '2406457', '2404047', '2382163', '2379669', '2390743', '2393349', '2390466', '2391382', '2399850', '2396522', '2407837', '2378775', '2401357', '2385209', '2405519', '2401338', '2392229', '2400390', '2399837', '2378973', '2241061', '2385555', '2397573', '2407091', '2320646', '2381994', '2405878', '2407970', '2383405', '2385150', '2376054', '2383479', '2396281', '2387012', '2390429', '2393561', '2380353', '2393145', '2399033', '2383977', '2382160', '2405680', '2407039', '2390233', '2402643', '2395578', '2393146', '2309822', '2405324', '2390389', '2405750', '2387900', '2391531', '1359191', '2358812', '2399423', '2272140', '2383498', '2408315', '2398616', '2399718', '2400834', '2362355', '2380858', '2395645', '2392293', '2011646', '2386649', '2386500', '2402435', '2402318', '2400214', '2396434', '2390065', '2384103', '2401461', '2406883', '2406747', '2385143', '2379966', '2397830', '2259932', '2398856', '2391123', '2399729', '2396063', '2402537', '2401135', '2389430', '2383875', '2390267', '2381709', '2405620', '2401793', '2406434', '2397945', '2395252', '2393052', '2387415', '2406683', '2392345', '2394210', '2390323', '2398499', '2215790', '2387960', '2384945', '2405958', '2381961', '2401660', '2397300', '2386914', '2379988', '2400234', '2392553', '2397710', '2173930', '2379980', '2406303', '2400819', '2379594', '2391328', '2405093', '2402269', '2404855', '2404924', '2383409', '2379791', '2319598', '2366835', '2399135', '2390909', '2386793', '2379806', '2404353', '2387080', '2400536', '2404344', '2395530', '2351303', '2394352', '2381912', '2404279', '2388023', '2388230', '2401678', '2378139', '2384573', '2385583', '2395367', '2405819', '2383388', '2385729', '2405754', '2382962', '2407916', '2399836', '2396431', '2392496', '2398597', '2403760', '2389297', '2394672', '1923178', '2396860', '2403991', '2407841', '2405227', '2394756', '2401450', '2400218', '2393894', '2382586', '2385300', '2394274', '2406911', '1278298', '2404410', '2403862', '2398040', '2398411', '2381047', '2392638', '2386163', '2382221', '2269231', '2404943', '2395014', '2406904', '2383354', '2384116', '2400357', '2395056', '2396363', '2398041', '2386841', '2397676', '2405082', '2380538', '2381223', '2398357', '2395215', '2388401', '2391256', '2121117', '2391514', '2394892', '2399562', '2386035', '2383440', '2386289', '2362122', '2398417', '2388714', '2390347', '2380020', '2388141', '2384505', '2400039', '2380667', '2404802', '2383116', '2381125', '2406882', '2406919', '2394644', '2400166', '1848243', '2397971', '2403717', '2390858', '2403523', '2379413', '2387384', '2403492', '2398251', '2384097', '2388309', '2390674', '2404629', '2392507', '2398173', '2313985', '2381561', '2406704', '2388866', '2382019', '2393819', '2405422', '2369489', '2404731', '2388663', '2381083', '2387695', '2395728', '2397762', '2402330', '2398644', '2393200', '2389040', '2379006', '2352090', '2388544', '2380121', '2384074', '2398079', '2381981', '2400830', '2391181', '2405258', '1642415', '2398446', '2242333', '2396512', '2382368', '2386221', '2408259', '2401749', '2386641', '2389010', '2399481', '2398671', '2402852', '2384640', '2388441', '2384475', '2405673', '2406150', '2397679', '2393442', '2397596', '2397367', '2402831', '2385530', '2380138', '2405735', '2358816', '2371800', '2391064', '2397629', '2406297', '2275518', '1935363', '2381533', '2391736', '2397563', '2388495', '2381358', '2400440', '2380403', '2385677', '2384866', '2405444', '2391359', '2119296', '2387241', '2407859', '2381033', '2378841', '2398295', '2380231', '2408376', '2402438', '2395982', '2408154', '2383640', '2381199', '2391815', '2384930', '2270317', '2380237', '2408133', '2396444', '2390927', '2403360', '2396509', '2392092', '2396715', '2400775', '2393205', '2394627', '2404610', '2385215', '2399132', '2393867', '2406466', '2395966', '2397843', '2385796', '2380262', '2317013', '2385973', '2386387', '2396529', '2387778', '2390022', '2391507', '2402419', '2389808', '2398857', '2399173', '2400435', '2401256', '2382049', '2396796', '2379602', '2396552', '2397729', '2396781', '2387590', '2406308', '2391813', '2387134', '2401794', '2395383', '2398027', '2408415', '2388161', '2385853', '2401290', '2382828', '2393692', '2379328', '2384838', '2388157', '2397107', '2398874', '2385452', '2393630', '2382973', '2394174', '2381227', '2406473', '2393522', '2387156', '2398220', '2384280', '2387959', '2379033', '2400944', '2406271', '2397167', '2384427', '2396006', '2407676', '2386327', '2379076', '2388966', '2383581', '2381060', '2406124', '2380129', '2121788', '2394939', '2386183', '2384983', '2390922', '2385137', '2381044', '2385144', '2390196', '2391013', '2405592', '2406195', '2358132', '2407440', '2404847', '2388183', '2391912', '2394962', '2400064', '2388007', '2402397', '2399273', '2380724', '2396276', '2357237', '2379937', '2379475', '2406205', '2385121', '2406082', '2367025', '2392709', '2394891', '2385688', '2383431', '2384683', '2388066', '2326417', '2405323', '2381152', '2385457', '2389605', '2405077', '2360865', '2397672', '2390831', '2389943', '2401554', '2379129', '2389928', '2404770', '2398387', '2379383', '2399480', '2390182', '2379306', '2379606', '2399275', '2382263', '2386061', '2405075', '1965773', '2391257', '2379996', '2407597', '1226236', '2358282', '2408214', '2404619', '2386366', '2388563', '2380385', '2408372', '2391387', '2407603', '2382639', '2406599', '2394076', '2388816', '2388995', '2384405', '2387302', '2388135', '2399059', '2383987', '2384593', '1524010', '2385114', '2397948', '2385606', '2395176', '2380337', '2390176', '2341461', '2381650', '2402377', '2397334', '2388579', '2389858', '2392363', '2383962', '2387083', '2247214', '2407186', '2393394', '2379336', '2385917', '2394626', '2394217', '2398665', '2404732', '2382922', '2385270', '2399931', '2405606', '2393255', '2390591', '2383513', '2388767', '2407445', '2358938', '2400051', '1346474', '2402262', '2391794', '2387107', '2395257', '2379488', '2392055', '2382224', '2281528', '2389466', '2400747', '2388955', '2393285', '2386031', '2385640', '2391654', '2383336', '2395376', '2393100', '2398453', '2229180', '2381806', '1371773', '2396327', '2387945', '2401422', '2381002', '2255144', '2395547', '2399351', '2406210', '2385974', '2405780', '1425065', '2397012', '2360091', '2384298', '2393216', '2401975', '2391770', '2401370', '2406344', '2395158', '2401933', '2390140', '2406673', '2381777', '2408437', '2406355', '2381867', '2403037', '2391409', '2248464', '2405090', '2399652', '2391282', '2390238', '2406424', '2379182', '2323457', '2396451', '2380593', '2399542', '2406318', '2401146', '2383870', '2404718', '2406307', '2403156', '2397510', '2398517', '2383665', '2404537', '2371803', '2403751', '2403350', '2398273', '2407142', '2385748', '2323502', '2403551', '2383406', '2384201', '2392094', '2405627', '2388019', '2387941', '2408072', '2386041', '2405956', '2396918', '2389942', '2405608', '2404116', '2384047', '2394086', '2393353', '2395942', '2256204', '2401756', '2399463', '2399369', '2385148', '2384164', '2390246', '2405450', '2398184', '2379440', '2393396', '2316383', '2382941', '2377847', '2408246', '2396257', '2391098', '2405547', '2389561', '2387026', '2310918', '2403180', '2387776', '2395355', '2402236', '2384377', '2408366', '1949752', '2382633', '2400734', '2402579', '2391439', '2405028', '1984889', '2378908', '2381808', '2387947', '2391660', '2383821', '2405864', '2398804', '2392822', '2392441', '2403266', '2393702', '2385542', '2386399', '2390862', '2388756', '2402080', '2384472', '2389357', '2398346', '2405085', '2380579', '2397732', '2398869', '2394666', '2386286', '1983838', '2389452', '2389902', '2405022', '2384364', '2388803', '2399594', '2391212', '2403206', '2397644', '2247538', '2383518', '2403201', '2399527', '2385239', '2393964', '2400158', '2393060', '2407554', '2383653', '2405513', '2396329', '2384416', '2382111', '2398187', '2379371', '2284091', '2385843', '2379523', '2400165', '2394434', '2380084', '2393740', '2404906', '2395764', '2384809', '2400272', '2397221', '2392372', '2399546', '2387179', '2398134', '2386748', '2402416', '2396858', '2402810', '2384043', '2387243', '2397499', '2379748', '2400167', '2380102', '2379888', '2400706', '2385791', '2380915', '2394976', '2407230', '2393263', '2404084', '2392191', '2390187', '2407234', '2405804', '2306601', '2378296', '2402716', '2379378', '2393617', '2391121', '2399811', '2395991', '2394471', '2388036', '2398901', '2385172', '2386966', '2384922', '2389836', '2386051', '2397733', '2386981', '2382967', '2342930', '2388977', '2407222', '2396044', '2383563', '2398024', '2378918', '2393840', '2386807', '2399677', '2400790', '2382428', '2406129', '2398306', '2399245', '2406695', '2379753', '2396153', '2383630', '2406686', '2379762', '2399367', '2407828', '2387517', '2398757', '2405692', '2393889', '2391046', '2394759', '2400461', '2397481', '2402020', '2385655', '1490334', '2398192', '2390395', '2401475', '2406963', '2358976', '2379670', '2376435', '2406909', '2382896', '2388539', '2384309', '2388324', '2389216', '2385319', '2399416', '2402119', '2387998', '2405600', '2407670', '2395226', '2406432', '2407484', '2396515', '2392380', '2384328', '2396158', '2395440', '2383258', '2334038', '2389415', '2387500', '2387240', '2390634', '2258405', '2404842', '2383533', '2383384', '2398739', '2386910', '2403502', '2404760', '2343842', '2382519', '2406300', '2408439', '2393278', '2386755', '2386817', '2407949', '2386122', '2393872', '2407724', '2407541', '2379547', '2381491', '2406358', '2382159', '2407310', '2398444', '2382404', '2391978', '2369871', '2401509', '2402390', '2393117', '2386354', '2401374', '2217080', '2402610', '2386331', '2387911', '2398098', '2384583', '2206430', '2403020', '2383013', '2390679', '2383820', '2398297', '2389337', '2388325', '2393423', '2393873', '2403429', '2394190', '2389005', '2387789', '2402152', '2392564', '2391889', '2389035', '2407011', '2391043', '2393170', '2399859', '2386020', '2401549', '2394364', '2406030', '2379246', '2389065', '2407706', '2393264', '2379142', '2382445', '2392671', '2325694', '2379069', '2377817', '2402428', '2398508', '2390880', '2393865', '2403599', '2402175', '2212862', '2401388', '2390599', '2407594', '2388514', '2380849', '2320981', '2403120', '2404362', '2387551', '2408262', '2403764', '2392438', '2397703', '2397786', '2399488', '2385140', '2382878', '2388942', '2385022', '2391652', '2398109', '2344102', '2399235', '2379090', '2399329', '2405601', '2407027', '2405930', '2391941', '2406730', '2398866', '2394798', '2383942', '2399730', '2406684', '2386510', '2380171', '2398104', '2137909', '2397632', '2390253', '2361604', '2389138', '1212254', '2226881', '2206744', '1896790', '1523340', '2025559', '1188025', '2275818', '1064039', '1216066', '1046016', '1427576', '1009980', '1906368', '1023286', '1215923', '2152077', '1297382', '2194553', '2184402', '1287112', '1192236', '2113645', '2003761', '2207242', '2080796', '1854758', '1285046', '1102062', '1975249', '2086213', '2013289', '1884931', '1221603', '1369410', '2112456', '2181354', '2188500', '2063842', '2238147', '2247092', '1851807', '1173625', '1918851', '2119124', '1922486', '1268339', '1229059', '2110711', '1819390', '1411146', '1264397', '1841028', '2200143', '2222727', '2039844', '2243746', '1908116', '1191636', '1178297', '2135016', '1751276', '2276637', '2019560', '1909643', '2254565', '2190465', '1850011', '1000793', '2250624', '1351981', '1642342', '1289731', '2267666', '2262714', '1899351', '2112972', '2190805', '2261194', '2228561', '2207718', '1383716', '1103937', '2101155', '2174128', '1101324', '2282906', '1972256', '1112896', '1621109', '2188393', '2097136', '1004226', '1088647', '2199377', '2154524', '1077055', '2278918', '2215955', '2205350', '2212521', '1145936', '1091241', '2265538', '2273517', '1998026', '1057641', '2243241', '2137541', '1272358', '2254383', '1010935', '1415388', '1318691', '1999833', '1951785', '1012783', '1852527', '2002963', '1052440', '1678177', '2282556', '1472680', '1879803', '2261586', '2250948', '2066026', '2262994', '2107298', '2051360', '1573721', '1044000', '2021961', '1633597', '1306920', '1967299', '2222315', '1041574', '2085264', '2077517', '2121286', '1175288', '2021252', '2232910', '2039803', '2176799', '2208502', '1359272', '2212748', '1642194', '1694723', '2192774', '2118092', '1000249', '1012019', '1165166', '1194414', '2076661', '2174147', '1072357', '2225051', '2204527', '1142602', '2155102', '2225699', '2260195', '2214081', '2159226', '1823548', '2229974', '1633611', '2008726', '2134386', '2216859', '1817059', '1868649', '2040157', '1285936', '1056405', '1035740', '1343116', '2272666', '1139150', '2234503', '1409574', '2224423', '1404649', '2204478', '1217771', '2242665', '2238654', '1020688', '2106480', '2187813', '2180751', '2227256', '2172144', '2166868', '2127349', '2119291', '1075134', '1996921', '1062548', '2139079', '2231622', '2127222', '2166831', '2165333', '2015700', '2232262', '1727090', '2112113', '2278134', '2206468', '2236550', '1017968', '1947886', '1034066', '2205010', '2131360', '1777773', '1760391', '2217856', '2251948', '2006951', '1686768', '2194597', '1226802', '2008825', '2230721', '1890676', '2280235', '2279200', '1022496', '1071986', '2252543', '2076808', '2065207', '1227091', '2214034', '1934164', '2149466', '1086777', '1067455', '1960543', '2184759', '1195356', '2194954', '1240472', '2139962', '1754292', '2119568', '1860422', '1303156', '2060780', '1255512', '1071807', '1004891', '1602831', '1997330', '1640441', '2280369', '2261531', '2053139', '1003599', '1021601', '1867791', '2005366', '2264161', '1833470', '2203196', '2281970', '1281541', '2255203', '2096585', '2123665', '2003965', '1007142', '2259142', '1050759', '1483921', '2203546', '1993770', '2103436', '2243385', '2136551', '2206009', '1029792', '2187444', '2255673', '1043436', '1490595', '2205300', '2281072', '2126271', '2034043', '2214780', '1032110', '2204226', '1192097', '1925308', '1183180', '1679513', '2182752', '2220648', '1792783', '1374353', '1595783', '2214890', '2139292', '1011576', '2218829', '2140034', '1015447', '2176757', '1087872', '2098924', '2149079', '1593878', '2217905', '2053017', '2229846', '2163094', '2043726', '1015127', '2275185', '1928280', '2256112', '2177289', '1514555', '2250487', '1992132', '2245831', '2159510', '1277107', '1644063', '2191644', '2263588', '1186465', '1859076', '2275508', '2247858', '2165972', '1853066', '1421673', '2086007', '1244911', '2252620', '2271728', '1923035', '1519111', '1004011', '1468372', '1185992', '2233451', '2269558', '1101013', '1627646', '1051438', '1080182', '2221045', '2063100', '1011694', '1763186', '2263204', '2210810', '2190820', '1022642', '1028934', '1621414', '2079999', '2258022', '2248072', '1007610', '2250252', '1086815', '2266678', '1269861', '1018767', '1419250', '1302559', '2155811', '2244973', '2114666', '2169929', '1515551', '2192897', '2181773', '1239194', '2102329', '2010776', '1854480', '2037889', '1920964', '2238488', '1395236', '1072151', '1986569', '2279322', '1812228', '2132427', '2279184', '1436133', '2240556', '2261056', '1665698', '1571549', '1195173', '1223216', '2141700', '1887902', '2182767', '2217284', '2161159', '2118998', '2188693', '1151254', '1822541', '2061010', '1433641', '2251626', '2272696', '2217625', '1939127', '2264773', '2156927', '1061589', '1551756', '2045854', '2232565', '2226701', '1875952', '2135008', '2133981', '1269862', '2206565', '2250393', '1858626', '2195560', '1236144', '2177789', '1894783', '2201936', '2171682', '1117134', '1312910', '1224879', '2186105', '2277491', '2067651', '2166145', '2207959', '2066983', '1954183', '1595592', '2212266', '2045722', '2265447', '1014361', '1226561', '1913089', '2101667', '2230098', '2131542', '1204622', '1364473', '1371142', '2061321', '2170168', '2084712', '2047828', '2282389', '1014334', '2261966', '2012711', '2226508', '2162621', '1188040', '2221912', '2192845', '2136368', '1756601', '1155372', '2125343', '2223425', '2188676', '2114035', '1449105', '2263380', '1090141', '1224872', '1033231', '1850722', '2211791', '1558222', '1022542', '2065287', '1410605', '1085164', '1933974', '1194280', '1991963', '2262843', '2053046', '1233419', '1883909', '2231336', '1841211', '2069772', '1675264', '2107871', '1003799', '1039214', '2150626', '2064186', '2100399', '2243981', '2081152', '1004186', '2280111', '2094502', '1233430', '1729180', '2128309', '2182473', '2174605', '1664084', '1238168', '2180961', '1807478', '2188490', '1899925', '2221736', '2210413', '2137426', '2262666', '2187954', '1129618', '2115432', '2109312', '1455351', '1477254', '2232082', '2223674', '1958556', '2246470', '2187835', '1235897', '2028921', '1684303', '1863529', '1393753', '2198193', '2125925', '2054551', '1404565', '1947722', '1238137', '1825840', '2181048', '1499387', '2166935', '1033864', '2140919', '1800082', '2256331', '1858988', '2265020', '1859085', '1519915', '2249209', '2210170', '1063576', '1679177', '1374067', '1043558', '1574562', '2058579', '2210829', '1314475', '1171570', '1878937', '2219251', '1022212', '2239270', '2162403', '1361550', '2162615', '1271446', '1606490', '1124995', '2186392', '2248011', '2095347', '1195654', '2214757', '2091621', '1109835', '1112608', '2220475', '1940117', '1116035', '2172315', '2255839', '2220598', '1078475', '2108809', '2157518', '1500307', '1946565', '1109764', '1294975', '2179856', '2182078', '1032894', '1838854', '2214447', '2268537', '2094504', '1823513', '2272805', '1184142', '1623574', '2251332', '1255094', '2215190', '2149384', '1986203', '1296968', '2169009', '2137230', '1118709', '1209048', '2041060', '1372050', '2220607', '1094800', '2248108', '2257695', '1545228', '1358111', '1296060', '2133449', '2254618', '2223789', '1886784', '2239958', '2204678', '1906507', '1183258', '1109496', '1312131', '1138871', '1122411', '2114138', '1011116', '1454453', '2044984', '2277301', '1477622', '1466982', '1007001', '1485375', '1015218', '2262682', '1049479', '1022985', '1966012', '1861018', '2159351', '1033838', '1792269', '1378699', '2077408', '1698530', '1860600', '1853254', '1746510', '2142038', '2159237', '1915799', '2069251', '1302408', '1179310', '1030173', '2254586', '1024022', '2149278', '2217068', '1377895', '2112664', '2214075', '1614092', '2248187', '2259002', '2239591', '1805645', '1020670', '1242297', '2195309', '2276587', '2216114', '1081780', '2125890', '1935958', '2204351', '1906427', '2171968', '2087774', '1302080', '1004820', '2113761', '2257903', '2185725', '2087275', '1218113', '2249637', '1212903', '2283116', '1398143', '2225064', '1461829', '1662996', '2044044', '2109013', '2262763', '1180459', '1000240', '2135691', '2211868', '2249821', '1969783', '2282707', '1632823', '1517734', '2102895', '2192097', '1781333', '1775115', '1069385', '1079186', '2265533', '2214668', '2199248', '1647261', '1125405', '1079264', '2225816', '1203903', '2249979', '1279541', '1721406', '2226167', '2150102', '2139950', '1859885', '2158693', '1010694', '2167241', '1846840', '2115807', '2142736', '2259917', '2115726', '2085778', '1093925', '1051425', '1028696', '2106189', '1067708', '2106834', '1313337', '2220563', '1834076', '2188786', '1008478', '2265552', '2122555', '1008229', '2206553', '2223897', '2170275', '1247647', '1539374', '1864610', '2187056', '2212509', '1821384', '2086230', '1892195', '2012718', '2165928', '1104510', '2001391', '2212877', '1423446', '2264311', '1037401', '2233391', '2265177', '2214015', '2071069', '2202925', '2235790', '1010678', '2059624', '2060694', '1909532', '1097103', '1051628', '2217067', '2241932', '2196434', '2187955', '1297975', '1782063', '1660487', '2011400', '2120048', '2223990', '2199278', '2133061', '2194026', '1227251', '1408426', '2211828', '2247355', '2215689', '1023906', '2233680', '2282451', '1338876', '2155169', '1245003', '1200559', '2077030', '1742002', '1883469', '2274974', '1766253', '1270389', '1885903', '2072464', '1244843', '2196947', '2202799', '2242843', '2067396', '2121683', '1332322', '1891655', '1752522', '2117962', '2021263', '1284593', '1558258', '1001056', '1449088', '2224173', '2216237', '2261085', '1005390', '2201164', '2122012', '1278549', '1293071', '1222115', '1075943', '2057434', '2189711', '1080516', '2218302', '1740346', '1875204', '1069985', '1091811', '1874334', '2234040', '2217238', '2234669', '1856280', '2230341', '2037800', '1236931', '2208347', '1279910', '1023039', '1200188', '1250683', '1942695', '2213869', '2237692', '2166739', '1865319', '1041353', '1866521', '2201096', '1715598', '1959540', '1916658', '1745991', '1034321', '2171511', '2256146', '2236528', '1587997', '2235127', '2099376', '2142598', '1479785', '2221240', '2105318', '2199907', '2049306', '1045419', '2247591', '1155173', '2224929', '2120982', '2072690', '1926259', '1220698', '2256668', '2238694', '2189331', '1360809', '1936499', '1210586', '1183134', '1036792', '2235775', '2200829', '2207152', '2261356', '1119018', '2195922', '2276454', '1016046', '1941980', '1863889', '2077681', '1099725', '1856379', '2160829', '1141680', '1390158', '2204100', '1077537', '1988500', '1917535', '2206694', '1300722', '2276104', '1954228', '1227539', '1201186', '2003584', '1002226', '2119384', '1257505', '2152166', '1042117', '1592378', '2234990', '2236497', '1780410', '1031881', '1906034', '1925867', '1971477', '2151072', '2074586', '1916835', '1829082', '1118915', '2238502', '1681730', '2248495', '2210120', '1987999', '2238784', '2242031', '1374704', '2165646', '1629562', '2264588', '1822005', '1884326', '1811474', '1308937', '2141585', '2228836', '2276673', '1025673', '2053287', '2223470', '1087077', '1515288', '1863597', '2217360', '2147862', '1425855', '2114615', '2188965', '2136891', '1894743', '2226131', '1076132', '2001746', '1051005', '1837583', '1078913', '1338664', '2168039', '1935101', '1100689', '2263369', '1010714', '2062994', '1770662', '2195144', '1755615', '2216360', '2196796', '1968313', '1791243', '2221791', '2238457', '1645087', '1256424', '1050617', '1076760', '2196340', '2271321', '2245652', '2179757', '1086447', '2065905', '2079821', '1000720', '2194982', '1455248', '1009705', '1112048', '2262145', '2217142', '2161285', '1894206', '2069330', '2250351', '2219297', '2283944', '2226551', '1438783', '1972942', '2175039', '2144945', '1540654', '2053377', '2244369', '2222763', '1048582')\n",
      "),\n",
      "w_approved\n",
      "as\n",
      "(\n",
      "  select DISTINCT customerId from risk_credit_mis.loan_master_table where loantype = 'BIGLOAN' OR FLAGAPPROVAL = 1 OR FLAGDISBURSEMENT = 1  \n",
      "  or (stage1Status = 'EXPIRED' AND cddInitiatedDateAndTime IS NULL)\n",
      ")\n",
      "select *\n",
      "from\n",
      "(\n",
      "  select distinct\n",
      "  a.Customer_Id,a.TSA_Opening_date,\n",
      "  c.OFSTANDARDACCOUNTID as TSA_Account_Number, c.OfblockAmount, \n",
      "  a.TSA_Status,a.TSA_Balance,a.Solo_Stash_Balance,a.Group_Stash_Balance,a.Term_Deposit_Balance,a.Active_Term_Deposit_flag,a.Last_TSA_Credit_Date,a.Last_TSA_Debit_Date,\n",
      "  a.ARI_Flag,a.Active_Loan,a.Total_Loan_Outstanding,  case when b.customerId is not null then 1 else 0 end as Approved_Loans,\n",
      "  a.Pending_Loan_Applications,a.Hard_Reject_Loans_App,a.Soft_Reject_Loans_App,a.Cancelled_Loans_App, extract(date from a.Last_Login_Date) as Last_Login_Date,\n",
      "  a.Last_TSA_EOD_Balance_Date,a.Last_Group_Stash_Credit_Date,a.Group_Stash_Balance_Owner,a.Run_Date,a.Batch,a.Processing_Month,a.pending_loans_not_expired_not_exempt,a.expired_loans,\n",
      "  a.pending_loans_lastDt,a.expired_loans_lastDt,\n",
      "  CASE \n",
      "    WHEN tsa_status = 'Active' and (Last_TSA_Credit_Date = date '1970-01-01' and Last_Group_Stash_Credit_Date is null)\n",
      "    and (TSA_Opening_date < date '2024-02-23')   ####D-60 days(SHOULD BE SAME DATE FOR 1ST,2ND,3RD NOTIFICATION)\n",
      "    and ( round(coalesce(TSA_Balance,0) + coalesce(Solo_Stash_Balance,0) + coalesce(Group_Stash_Balance,0) + coalesce(Term_Deposit_Balance,0),2) = 0 )\n",
      "    and (Active_Loan = 0) and (COALESCE(Pending_Loan_Applications,0) = 0)\n",
      "    and (Active_Term_Deposit_flag = 0)\n",
      "    and (ARI_Flag = 'N')\n",
      "    --and (Approved_Loans = 0)  THEN 'TYPE 1'\n",
      "    and b.customerId is null  THEN 'TYPE 1'\n",
      "\n",
      "\n",
      "    WHEN tsa_status = 'Active' and Last_TSA_EOD_Balance_Date is null and (TSA_Opening_date < date '2024-02-23')  ####D-60 days(SHOULD BE SAME DATE FOR 1ST,2ND,3RD NOTIFICATION)\n",
      "    and ( round(coalesce(TSA_Balance,0) + coalesce(Solo_Stash_Balance,0) + coalesce(Group_Stash_Balance,0) + coalesce(Term_Deposit_Balance,0),2) = 0 )\n",
      "    and (Active_Loan = 0) and (COALESCE(Pending_Loan_Applications,0) = 0)\n",
      "    and (Active_Term_Deposit_flag = 0)\n",
      "    and (ARI_Flag = 'N')\n",
      "    --and (Approved_Loans = 0)\n",
      "    and b.customerId is null  \n",
      "    and (date_trunc(TSA_Opening_date,day) = date_trunc(Last_Login_Date,day)) THEN 'TYPE 2'\n",
      "\n",
      "    \n",
      "    WHEN ( round(coalesce(TSA_Balance,0) + coalesce(Solo_Stash_Balance,0) + coalesce(Group_Stash_Balance,0) + coalesce(Term_Deposit_Balance,0),2) < 1 )\n",
      "            and (Active_Loan = 0) and (COALESCE(Pending_Loan_Applications,0) = 0)\n",
      "            and (Active_Term_Deposit_flag = 0)\n",
      "            and TSA_Opening_date < date '2023-10-26'                                     ####D-180 days(SHOULD BE SAME DATE FOR 1ST,2ND,3RD NOTIFICATION)\n",
      "            and (Last_TSA_Credit_Date < date '2023-10-26'                                 ####D-180 days(SHOULD BE SAME DATE FOR 1ST,2ND,3RD NOTIFICATION)\n",
      "            and Last_TSA_Debit_Date < date '2023-10-26'                                         ####D-180 days(SHOULD BE SAME DATE FOR 1ST,2ND,3RD NOTIFICATION)\n",
      "            and coalesce(Last_Group_Stash_Credit_Date,date '1970-01-01') < date '2023-10-26' )  ####D-180 days(SHOULD BE SAME DATE FOR 1ST,2ND,3RD NOTIFICATION)\n",
      "            and tsa_status = 'Active'\n",
      "            and (ARI_Flag = 'N')\n",
      "    --and (Approved_Loans = 0)\n",
      "            and b.customerId is null  \n",
      "    THEN 'TYPE 3'\n",
      "    ELSE 'NO ACTION'\n",
      "    END AS ACTION_TYPE\n",
      "  from w_tsa A\n",
      "  left join w_approved b\n",
      "  on cast(a.Customer_Id as int64) = b.customerId\n",
      "  left join core_raw.customer_accounts c\n",
      "  on c.OFCUSTOMERID = a.Customer_Id and c.CRINTERDESC = 'Transactional Savings Account Inv_R' and c.OFISCLOSED = 'N'\n",
      "  where\n",
      "  Run_Date = date '2024-05-23'  ###DATE change here to D-1\n",
      ")\n",
      "\n"
     ]
    }
   ],
   "source": [
    "print(sq)"
   ]
  },
  {
   "cell_type": "code",
   "execution_count": 22,
   "metadata": {},
   "outputs": [
    {
     "name": "stdout",
     "output_type": "stream",
     "text": [
      "Job ID e6ba26be-5115-475e-a629-99fb65698fed successfully executed: 100%|\u001b[32m██████████\u001b[0m|\n",
      "Downloading: 100%|\u001b[32m██████████\u001b[0m|\n"
     ]
    }
   ],
   "source": [
    "df = client.query(sq).to_dataframe(progress_bar_type = 'tqdm')"
   ]
  },
  {
   "cell_type": "code",
   "execution_count": 23,
   "metadata": {},
   "outputs": [
    {
     "data": {
      "text/html": [
       "<div>\n",
       "<style scoped>\n",
       "    .dataframe tbody tr th:only-of-type {\n",
       "        vertical-align: middle;\n",
       "    }\n",
       "\n",
       "    .dataframe tbody tr th {\n",
       "        vertical-align: top;\n",
       "    }\n",
       "\n",
       "    .dataframe thead th {\n",
       "        text-align: right;\n",
       "    }\n",
       "</style>\n",
       "<table border=\"1\" class=\"dataframe\">\n",
       "  <thead>\n",
       "    <tr style=\"text-align: right;\">\n",
       "      <th></th>\n",
       "      <th>Customer_Id</th>\n",
       "      <th>TSA_Opening_date</th>\n",
       "      <th>TSA_Account_Number</th>\n",
       "      <th>OfblockAmount</th>\n",
       "      <th>TSA_Status</th>\n",
       "      <th>TSA_Balance</th>\n",
       "      <th>Solo_Stash_Balance</th>\n",
       "      <th>Group_Stash_Balance</th>\n",
       "      <th>Term_Deposit_Balance</th>\n",
       "      <th>Active_Term_Deposit_flag</th>\n",
       "      <th>Last_TSA_Credit_Date</th>\n",
       "      <th>Last_TSA_Debit_Date</th>\n",
       "      <th>ARI_Flag</th>\n",
       "      <th>Active_Loan</th>\n",
       "      <th>Total_Loan_Outstanding</th>\n",
       "      <th>Approved_Loans</th>\n",
       "      <th>Pending_Loan_Applications</th>\n",
       "      <th>Hard_Reject_Loans_App</th>\n",
       "      <th>Soft_Reject_Loans_App</th>\n",
       "      <th>Cancelled_Loans_App</th>\n",
       "      <th>Last_Login_Date</th>\n",
       "      <th>Last_TSA_EOD_Balance_Date</th>\n",
       "      <th>Last_Group_Stash_Credit_Date</th>\n",
       "      <th>Group_Stash_Balance_Owner</th>\n",
       "      <th>Run_Date</th>\n",
       "      <th>Batch</th>\n",
       "      <th>Processing_Month</th>\n",
       "      <th>pending_loans_not_expired_not_exempt</th>\n",
       "      <th>expired_loans</th>\n",
       "      <th>pending_loans_lastDt</th>\n",
       "      <th>expired_loans_lastDt</th>\n",
       "      <th>ACTION_TYPE</th>\n",
       "    </tr>\n",
       "  </thead>\n",
       "  <tbody>\n",
       "    <tr>\n",
       "      <th>6143</th>\n",
       "      <td>2399273</td>\n",
       "      <td>2024-02-13</td>\n",
       "      <td>60823992730001</td>\n",
       "      <td>0.0</td>\n",
       "      <td>Active</td>\n",
       "      <td>0.0</td>\n",
       "      <td>0.0</td>\n",
       "      <td>0.0</td>\n",
       "      <td>0.0</td>\n",
       "      <td>0</td>\n",
       "      <td>1970-01-01</td>\n",
       "      <td>1970-01-01</td>\n",
       "      <td>N</td>\n",
       "      <td>0</td>\n",
       "      <td>0.0</td>\n",
       "      <td>0</td>\n",
       "      <td>0</td>\n",
       "      <td>0</td>\n",
       "      <td>0</td>\n",
       "      <td>0</td>\n",
       "      <td>2024-02-14</td>\n",
       "      <td>NaT</td>\n",
       "      <td>NaT</td>\n",
       "      <td>NaN</td>\n",
       "      <td>2024-05-23</td>\n",
       "      <td>Batch_1</td>\n",
       "      <td>May</td>\n",
       "      <td>0</td>\n",
       "      <td>1</td>\n",
       "      <td>NaT</td>\n",
       "      <td>2024-05-14</td>\n",
       "      <td>TYPE 1</td>\n",
       "    </tr>\n",
       "    <tr>\n",
       "      <th>853</th>\n",
       "      <td>2398280</td>\n",
       "      <td>2024-02-12</td>\n",
       "      <td>60823982800005</td>\n",
       "      <td>0.0</td>\n",
       "      <td>Active</td>\n",
       "      <td>0.0</td>\n",
       "      <td>0.0</td>\n",
       "      <td>0.0</td>\n",
       "      <td>0.0</td>\n",
       "      <td>0</td>\n",
       "      <td>1970-01-01</td>\n",
       "      <td>1970-01-01</td>\n",
       "      <td>N</td>\n",
       "      <td>0</td>\n",
       "      <td>0.0</td>\n",
       "      <td>0</td>\n",
       "      <td>0</td>\n",
       "      <td>0</td>\n",
       "      <td>0</td>\n",
       "      <td>0</td>\n",
       "      <td>2024-05-03</td>\n",
       "      <td>NaT</td>\n",
       "      <td>NaT</td>\n",
       "      <td>NaN</td>\n",
       "      <td>2024-05-23</td>\n",
       "      <td>Batch_1</td>\n",
       "      <td>May</td>\n",
       "      <td>0</td>\n",
       "      <td>1</td>\n",
       "      <td>NaT</td>\n",
       "      <td>2024-05-15</td>\n",
       "      <td>TYPE 1</td>\n",
       "    </tr>\n",
       "    <tr>\n",
       "      <th>2265</th>\n",
       "      <td>2393255</td>\n",
       "      <td>2024-02-08</td>\n",
       "      <td>60823932550004</td>\n",
       "      <td>0.0</td>\n",
       "      <td>Active</td>\n",
       "      <td>0.0</td>\n",
       "      <td>0.0</td>\n",
       "      <td>0.0</td>\n",
       "      <td>0.0</td>\n",
       "      <td>0</td>\n",
       "      <td>1970-01-01</td>\n",
       "      <td>1970-01-01</td>\n",
       "      <td>N</td>\n",
       "      <td>0</td>\n",
       "      <td>0.0</td>\n",
       "      <td>0</td>\n",
       "      <td>0</td>\n",
       "      <td>0</td>\n",
       "      <td>0</td>\n",
       "      <td>0</td>\n",
       "      <td>2024-02-12</td>\n",
       "      <td>NaT</td>\n",
       "      <td>NaT</td>\n",
       "      <td>NaN</td>\n",
       "      <td>2024-05-23</td>\n",
       "      <td>Batch_1</td>\n",
       "      <td>May</td>\n",
       "      <td>0</td>\n",
       "      <td>1</td>\n",
       "      <td>NaT</td>\n",
       "      <td>2024-05-08</td>\n",
       "      <td>TYPE 1</td>\n",
       "    </tr>\n",
       "    <tr>\n",
       "      <th>1816</th>\n",
       "      <td>2406937</td>\n",
       "      <td>2024-02-21</td>\n",
       "      <td>60824069370006</td>\n",
       "      <td>0.0</td>\n",
       "      <td>Active</td>\n",
       "      <td>0.0</td>\n",
       "      <td>0.0</td>\n",
       "      <td>0.0</td>\n",
       "      <td>0.0</td>\n",
       "      <td>0</td>\n",
       "      <td>1970-01-01</td>\n",
       "      <td>1970-01-01</td>\n",
       "      <td>N</td>\n",
       "      <td>0</td>\n",
       "      <td>0.0</td>\n",
       "      <td>0</td>\n",
       "      <td>0</td>\n",
       "      <td>0</td>\n",
       "      <td>0</td>\n",
       "      <td>0</td>\n",
       "      <td>2024-02-21</td>\n",
       "      <td>NaT</td>\n",
       "      <td>NaT</td>\n",
       "      <td>NaN</td>\n",
       "      <td>2024-05-23</td>\n",
       "      <td>Batch_1</td>\n",
       "      <td>May</td>\n",
       "      <td>0</td>\n",
       "      <td>0</td>\n",
       "      <td>NaT</td>\n",
       "      <td>NaT</td>\n",
       "      <td>TYPE 1</td>\n",
       "    </tr>\n",
       "    <tr>\n",
       "      <th>6232</th>\n",
       "      <td>2394747</td>\n",
       "      <td>2024-02-09</td>\n",
       "      <td>60823947470003</td>\n",
       "      <td>0.0</td>\n",
       "      <td>Active</td>\n",
       "      <td>0.0</td>\n",
       "      <td>0.0</td>\n",
       "      <td>0.0</td>\n",
       "      <td>0.0</td>\n",
       "      <td>0</td>\n",
       "      <td>1970-01-01</td>\n",
       "      <td>1970-01-01</td>\n",
       "      <td>N</td>\n",
       "      <td>0</td>\n",
       "      <td>0.0</td>\n",
       "      <td>0</td>\n",
       "      <td>0</td>\n",
       "      <td>0</td>\n",
       "      <td>0</td>\n",
       "      <td>0</td>\n",
       "      <td>2024-02-09</td>\n",
       "      <td>NaT</td>\n",
       "      <td>NaT</td>\n",
       "      <td>NaN</td>\n",
       "      <td>2024-05-23</td>\n",
       "      <td>Batch_1</td>\n",
       "      <td>May</td>\n",
       "      <td>0</td>\n",
       "      <td>0</td>\n",
       "      <td>NaT</td>\n",
       "      <td>NaT</td>\n",
       "      <td>TYPE 1</td>\n",
       "    </tr>\n",
       "    <tr>\n",
       "      <th>2956</th>\n",
       "      <td>2406438</td>\n",
       "      <td>2024-02-20</td>\n",
       "      <td>60824064380002</td>\n",
       "      <td>0.0</td>\n",
       "      <td>Active</td>\n",
       "      <td>0.0</td>\n",
       "      <td>0.0</td>\n",
       "      <td>0.0</td>\n",
       "      <td>0.0</td>\n",
       "      <td>0</td>\n",
       "      <td>1970-01-01</td>\n",
       "      <td>1970-01-01</td>\n",
       "      <td>N</td>\n",
       "      <td>0</td>\n",
       "      <td>0.0</td>\n",
       "      <td>0</td>\n",
       "      <td>0</td>\n",
       "      <td>0</td>\n",
       "      <td>0</td>\n",
       "      <td>0</td>\n",
       "      <td>2024-03-04</td>\n",
       "      <td>NaT</td>\n",
       "      <td>NaT</td>\n",
       "      <td>NaN</td>\n",
       "      <td>2024-05-23</td>\n",
       "      <td>Batch_1</td>\n",
       "      <td>May</td>\n",
       "      <td>0</td>\n",
       "      <td>1</td>\n",
       "      <td>NaT</td>\n",
       "      <td>2024-05-21</td>\n",
       "      <td>TYPE 1</td>\n",
       "    </tr>\n",
       "    <tr>\n",
       "      <th>1561</th>\n",
       "      <td>2401422</td>\n",
       "      <td>2024-02-16</td>\n",
       "      <td>60824014220004</td>\n",
       "      <td>0.0</td>\n",
       "      <td>Active</td>\n",
       "      <td>0.0</td>\n",
       "      <td>0.0</td>\n",
       "      <td>0.0</td>\n",
       "      <td>0.0</td>\n",
       "      <td>0</td>\n",
       "      <td>1970-01-01</td>\n",
       "      <td>1970-01-01</td>\n",
       "      <td>N</td>\n",
       "      <td>0</td>\n",
       "      <td>0.0</td>\n",
       "      <td>0</td>\n",
       "      <td>0</td>\n",
       "      <td>1</td>\n",
       "      <td>0</td>\n",
       "      <td>0</td>\n",
       "      <td>2024-02-17</td>\n",
       "      <td>NaT</td>\n",
       "      <td>NaT</td>\n",
       "      <td>NaN</td>\n",
       "      <td>2024-05-23</td>\n",
       "      <td>Batch_1</td>\n",
       "      <td>May</td>\n",
       "      <td>0</td>\n",
       "      <td>0</td>\n",
       "      <td>NaT</td>\n",
       "      <td>NaT</td>\n",
       "      <td>TYPE 1</td>\n",
       "    </tr>\n",
       "    <tr>\n",
       "      <th>8546</th>\n",
       "      <td>2383150</td>\n",
       "      <td>2024-01-29</td>\n",
       "      <td>60823831500001</td>\n",
       "      <td>0.0</td>\n",
       "      <td>Active</td>\n",
       "      <td>0.0</td>\n",
       "      <td>0.0</td>\n",
       "      <td>0.0</td>\n",
       "      <td>0.0</td>\n",
       "      <td>0</td>\n",
       "      <td>1970-01-01</td>\n",
       "      <td>1970-01-01</td>\n",
       "      <td>N</td>\n",
       "      <td>0</td>\n",
       "      <td>0.0</td>\n",
       "      <td>0</td>\n",
       "      <td>0</td>\n",
       "      <td>0</td>\n",
       "      <td>0</td>\n",
       "      <td>0</td>\n",
       "      <td>2024-01-29</td>\n",
       "      <td>NaT</td>\n",
       "      <td>NaT</td>\n",
       "      <td>NaN</td>\n",
       "      <td>2024-05-23</td>\n",
       "      <td>Batch_1</td>\n",
       "      <td>May</td>\n",
       "      <td>0</td>\n",
       "      <td>1</td>\n",
       "      <td>NaT</td>\n",
       "      <td>2024-04-29</td>\n",
       "      <td>TYPE 1</td>\n",
       "    </tr>\n",
       "    <tr>\n",
       "      <th>854</th>\n",
       "      <td>2329364</td>\n",
       "      <td>2024-01-26</td>\n",
       "      <td>60823293640007</td>\n",
       "      <td>0.0</td>\n",
       "      <td>Active</td>\n",
       "      <td>0.0</td>\n",
       "      <td>0.0</td>\n",
       "      <td>0.0</td>\n",
       "      <td>0.0</td>\n",
       "      <td>0</td>\n",
       "      <td>1970-01-01</td>\n",
       "      <td>1970-01-01</td>\n",
       "      <td>N</td>\n",
       "      <td>0</td>\n",
       "      <td>0.0</td>\n",
       "      <td>0</td>\n",
       "      <td>0</td>\n",
       "      <td>0</td>\n",
       "      <td>1</td>\n",
       "      <td>0</td>\n",
       "      <td>2024-04-13</td>\n",
       "      <td>NaT</td>\n",
       "      <td>NaT</td>\n",
       "      <td>NaN</td>\n",
       "      <td>2024-05-23</td>\n",
       "      <td>Batch_1</td>\n",
       "      <td>May</td>\n",
       "      <td>0</td>\n",
       "      <td>1</td>\n",
       "      <td>NaT</td>\n",
       "      <td>2024-03-10</td>\n",
       "      <td>TYPE 1</td>\n",
       "    </tr>\n",
       "    <tr>\n",
       "      <th>585</th>\n",
       "      <td>2403732</td>\n",
       "      <td>2024-02-18</td>\n",
       "      <td>60824037320003</td>\n",
       "      <td>0.0</td>\n",
       "      <td>Active</td>\n",
       "      <td>0.0</td>\n",
       "      <td>0.0</td>\n",
       "      <td>0.0</td>\n",
       "      <td>0.0</td>\n",
       "      <td>0</td>\n",
       "      <td>1970-01-01</td>\n",
       "      <td>1970-01-01</td>\n",
       "      <td>N</td>\n",
       "      <td>0</td>\n",
       "      <td>0.0</td>\n",
       "      <td>0</td>\n",
       "      <td>0</td>\n",
       "      <td>0</td>\n",
       "      <td>0</td>\n",
       "      <td>0</td>\n",
       "      <td>2024-03-27</td>\n",
       "      <td>NaT</td>\n",
       "      <td>NaT</td>\n",
       "      <td>NaN</td>\n",
       "      <td>2024-05-23</td>\n",
       "      <td>Batch_1</td>\n",
       "      <td>May</td>\n",
       "      <td>0</td>\n",
       "      <td>0</td>\n",
       "      <td>NaT</td>\n",
       "      <td>NaT</td>\n",
       "      <td>TYPE 1</td>\n",
       "    </tr>\n",
       "  </tbody>\n",
       "</table>\n",
       "</div>"
      ],
      "text/plain": [
       "     Customer_Id TSA_Opening_date TSA_Account_Number  OfblockAmount  \\\n",
       "6143     2399273       2024-02-13     60823992730001            0.0   \n",
       "853      2398280       2024-02-12     60823982800005            0.0   \n",
       "2265     2393255       2024-02-08     60823932550004            0.0   \n",
       "1816     2406937       2024-02-21     60824069370006            0.0   \n",
       "6232     2394747       2024-02-09     60823947470003            0.0   \n",
       "2956     2406438       2024-02-20     60824064380002            0.0   \n",
       "1561     2401422       2024-02-16     60824014220004            0.0   \n",
       "8546     2383150       2024-01-29     60823831500001            0.0   \n",
       "854      2329364       2024-01-26     60823293640007            0.0   \n",
       "585      2403732       2024-02-18     60824037320003            0.0   \n",
       "\n",
       "     TSA_Status  TSA_Balance  Solo_Stash_Balance  Group_Stash_Balance  \\\n",
       "6143     Active          0.0                 0.0                  0.0   \n",
       "853      Active          0.0                 0.0                  0.0   \n",
       "2265     Active          0.0                 0.0                  0.0   \n",
       "1816     Active          0.0                 0.0                  0.0   \n",
       "6232     Active          0.0                 0.0                  0.0   \n",
       "2956     Active          0.0                 0.0                  0.0   \n",
       "1561     Active          0.0                 0.0                  0.0   \n",
       "8546     Active          0.0                 0.0                  0.0   \n",
       "854      Active          0.0                 0.0                  0.0   \n",
       "585      Active          0.0                 0.0                  0.0   \n",
       "\n",
       "      Term_Deposit_Balance  Active_Term_Deposit_flag Last_TSA_Credit_Date  \\\n",
       "6143                   0.0                         0           1970-01-01   \n",
       "853                    0.0                         0           1970-01-01   \n",
       "2265                   0.0                         0           1970-01-01   \n",
       "1816                   0.0                         0           1970-01-01   \n",
       "6232                   0.0                         0           1970-01-01   \n",
       "2956                   0.0                         0           1970-01-01   \n",
       "1561                   0.0                         0           1970-01-01   \n",
       "8546                   0.0                         0           1970-01-01   \n",
       "854                    0.0                         0           1970-01-01   \n",
       "585                    0.0                         0           1970-01-01   \n",
       "\n",
       "     Last_TSA_Debit_Date ARI_Flag  Active_Loan  Total_Loan_Outstanding  \\\n",
       "6143          1970-01-01        N            0                     0.0   \n",
       "853           1970-01-01        N            0                     0.0   \n",
       "2265          1970-01-01        N            0                     0.0   \n",
       "1816          1970-01-01        N            0                     0.0   \n",
       "6232          1970-01-01        N            0                     0.0   \n",
       "2956          1970-01-01        N            0                     0.0   \n",
       "1561          1970-01-01        N            0                     0.0   \n",
       "8546          1970-01-01        N            0                     0.0   \n",
       "854           1970-01-01        N            0                     0.0   \n",
       "585           1970-01-01        N            0                     0.0   \n",
       "\n",
       "      Approved_Loans  Pending_Loan_Applications  Hard_Reject_Loans_App  \\\n",
       "6143               0                          0                      0   \n",
       "853                0                          0                      0   \n",
       "2265               0                          0                      0   \n",
       "1816               0                          0                      0   \n",
       "6232               0                          0                      0   \n",
       "2956               0                          0                      0   \n",
       "1561               0                          0                      1   \n",
       "8546               0                          0                      0   \n",
       "854                0                          0                      0   \n",
       "585                0                          0                      0   \n",
       "\n",
       "      Soft_Reject_Loans_App  Cancelled_Loans_App Last_Login_Date  \\\n",
       "6143                      0                    0      2024-02-14   \n",
       "853                       0                    0      2024-05-03   \n",
       "2265                      0                    0      2024-02-12   \n",
       "1816                      0                    0      2024-02-21   \n",
       "6232                      0                    0      2024-02-09   \n",
       "2956                      0                    0      2024-03-04   \n",
       "1561                      0                    0      2024-02-17   \n",
       "8546                      0                    0      2024-01-29   \n",
       "854                       1                    0      2024-04-13   \n",
       "585                       0                    0      2024-03-27   \n",
       "\n",
       "     Last_TSA_EOD_Balance_Date Last_Group_Stash_Credit_Date  \\\n",
       "6143                       NaT                          NaT   \n",
       "853                        NaT                          NaT   \n",
       "2265                       NaT                          NaT   \n",
       "1816                       NaT                          NaT   \n",
       "6232                       NaT                          NaT   \n",
       "2956                       NaT                          NaT   \n",
       "1561                       NaT                          NaT   \n",
       "8546                       NaT                          NaT   \n",
       "854                        NaT                          NaT   \n",
       "585                        NaT                          NaT   \n",
       "\n",
       "      Group_Stash_Balance_Owner    Run_Date    Batch Processing_Month  \\\n",
       "6143                        NaN  2024-05-23  Batch_1              May   \n",
       "853                         NaN  2024-05-23  Batch_1              May   \n",
       "2265                        NaN  2024-05-23  Batch_1              May   \n",
       "1816                        NaN  2024-05-23  Batch_1              May   \n",
       "6232                        NaN  2024-05-23  Batch_1              May   \n",
       "2956                        NaN  2024-05-23  Batch_1              May   \n",
       "1561                        NaN  2024-05-23  Batch_1              May   \n",
       "8546                        NaN  2024-05-23  Batch_1              May   \n",
       "854                         NaN  2024-05-23  Batch_1              May   \n",
       "585                         NaN  2024-05-23  Batch_1              May   \n",
       "\n",
       "      pending_loans_not_expired_not_exempt  expired_loans  \\\n",
       "6143                                     0              1   \n",
       "853                                      0              1   \n",
       "2265                                     0              1   \n",
       "1816                                     0              0   \n",
       "6232                                     0              0   \n",
       "2956                                     0              1   \n",
       "1561                                     0              0   \n",
       "8546                                     0              1   \n",
       "854                                      0              1   \n",
       "585                                      0              0   \n",
       "\n",
       "     pending_loans_lastDt expired_loans_lastDt ACTION_TYPE  \n",
       "6143                  NaT           2024-05-14      TYPE 1  \n",
       "853                   NaT           2024-05-15      TYPE 1  \n",
       "2265                  NaT           2024-05-08      TYPE 1  \n",
       "1816                  NaT                  NaT      TYPE 1  \n",
       "6232                  NaT                  NaT      TYPE 1  \n",
       "2956                  NaT           2024-05-21      TYPE 1  \n",
       "1561                  NaT                  NaT      TYPE 1  \n",
       "8546                  NaT           2024-04-29      TYPE 1  \n",
       "854                   NaT           2024-03-10      TYPE 1  \n",
       "585                   NaT                  NaT      TYPE 1  "
      ]
     },
     "execution_count": 23,
     "metadata": {},
     "output_type": "execute_result"
    }
   ],
   "source": [
    "pd.set_option('display.max_columns', None)\n",
    "df.sample(10)"
   ]
  },
  {
   "cell_type": "code",
   "execution_count": 24,
   "metadata": {},
   "outputs": [
    {
     "data": {
      "text/plain": [
       "(8604, 32)"
      ]
     },
     "execution_count": 24,
     "metadata": {},
     "output_type": "execute_result"
    }
   ],
   "source": [
    "df.shape"
   ]
  },
  {
   "cell_type": "code",
   "execution_count": 25,
   "metadata": {},
   "outputs": [
    {
     "data": {
      "text/plain": [
       "ACTION_TYPE\n",
       "TYPE 1       7481\n",
       "TYPE 3       1017\n",
       "NO ACTION      86\n",
       "TYPE 2         20\n",
       "Name: count, dtype: int64"
      ]
     },
     "execution_count": 25,
     "metadata": {},
     "output_type": "execute_result"
    }
   ],
   "source": [
    "df['ACTION_TYPE'].value_counts()"
   ]
  },
  {
   "cell_type": "code",
   "execution_count": 27,
   "metadata": {},
   "outputs": [],
   "source": [
    "df.to_excel(r\"C:\\Users\\DwaipayanChakroborti\\OneDrive - Tonik Financial Pte Ltd\\MyStuff\\Marvin\\TSA Account Closure\\March24&April24 Ongoing Batch\\20240524_TSA_Account_Closure_3rdNotification.xlsx\", sheet_name='TSA_Closure_3rdNotification', index = False)"
   ]
  },
  {
   "cell_type": "code",
   "execution_count": null,
   "metadata": {},
   "outputs": [],
   "source": []
  }
 ],
 "metadata": {
  "kernelspec": {
   "display_name": "Python 3",
   "language": "python",
   "name": "python3"
  },
  "language_info": {
   "codemirror_mode": {
    "name": "ipython",
    "version": 3
   },
   "file_extension": ".py",
   "mimetype": "text/x-python",
   "name": "python",
   "nbconvert_exporter": "python",
   "pygments_lexer": "ipython3",
   "version": "3.9.19"
  }
 },
 "nbformat": 4,
 "nbformat_minor": 2
}
