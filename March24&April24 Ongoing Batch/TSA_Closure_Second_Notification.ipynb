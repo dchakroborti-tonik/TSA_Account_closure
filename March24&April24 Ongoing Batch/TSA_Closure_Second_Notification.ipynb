{
 "cells": [
  {
   "cell_type": "markdown",
   "metadata": {},
   "source": [
    "# <div align=\"center\" style=\"color: #ff5733;\">TSA Closure Second Notification</div>"
   ]
  },
  {
   "cell_type": "code",
   "execution_count": 1,
   "metadata": {},
   "outputs": [],
   "source": [
    "# Import Libraries   \n",
    "\n",
    "import pandas as pd  \n",
    "import numpy as np  \n",
    "\n",
    "from google.cloud import bigquery\n",
    "import os\n",
    "\n",
    "path = r\"C:\\Users\\DwaipayanChakroborti\\AppData\\Roaming\\gcloud\\legacy_credentials\\dchakroborti@tonikbank.com\\adc.json\"\n",
    "\n",
    "os.environ[\"GOOGLE_APPLICATION_CREDENTIALS\"] = path\n",
    "client = bigquery.Client(project=\"prj-prod-dataplatform\")"
   ]
  },
  {
   "cell_type": "markdown",
   "metadata": {},
   "source": [
    "# Ask Balasubramani to refresh risk_credit_mis.tsa_account_closure table.\n",
    "**Check if that is refreshed when Balasubramani confirms it**"
   ]
  },
  {
   "cell_type": "code",
   "execution_count": 2,
   "metadata": {},
   "outputs": [
    {
     "name": "stdout",
     "output_type": "stream",
     "text": [
      "Job ID c7c5ffa1-17e5-4287-a70b-69d0aa795cbe successfully executed: 100%|\u001b[32m██████████\u001b[0m|\n",
      "Downloading: 100%|\u001b[32m██████████\u001b[0m|\n"
     ]
    },
    {
     "data": {
      "text/html": [
       "<div>\n",
       "<style scoped>\n",
       "    .dataframe tbody tr th:only-of-type {\n",
       "        vertical-align: middle;\n",
       "    }\n",
       "\n",
       "    .dataframe tbody tr th {\n",
       "        vertical-align: top;\n",
       "    }\n",
       "\n",
       "    .dataframe thead th {\n",
       "        text-align: right;\n",
       "    }\n",
       "</style>\n",
       "<table border=\"1\" class=\"dataframe\">\n",
       "  <thead>\n",
       "    <tr style=\"text-align: right;\">\n",
       "      <th></th>\n",
       "      <th>Run_Date</th>\n",
       "      <th>cnt</th>\n",
       "    </tr>\n",
       "  </thead>\n",
       "  <tbody>\n",
       "    <tr>\n",
       "      <th>0</th>\n",
       "      <td>2024-05-16</td>\n",
       "      <td>550201</td>\n",
       "    </tr>\n",
       "  </tbody>\n",
       "</table>\n",
       "</div>"
      ],
      "text/plain": [
       "     Run_Date     cnt\n",
       "0  2024-05-16  550201"
      ]
     },
     "execution_count": 2,
     "metadata": {},
     "output_type": "execute_result"
    }
   ],
   "source": [
    "sq = \"\"\"select Run_Date, count(1)cnt from risk_credit_mis.tsa_account_closure group by 1 order by 1 desc\"\"\"\n",
    "df = client.query(sq).to_dataframe(progress_bar_type = 'tqdm')\n",
    "df.head(1)"
   ]
  },
  {
   "cell_type": "markdown",
   "metadata": {},
   "source": [
    "The date should show yesterday's date"
   ]
  },
  {
   "cell_type": "markdown",
   "metadata": {},
   "source": [
    "# Read the data from the first sheet for Type1 and Type2 data provided by Marvin"
   ]
  },
  {
   "cell_type": "code",
   "execution_count": 3,
   "metadata": {},
   "outputs": [
    {
     "data": {
      "text/plain": [
       "(14371, 2)"
      ]
     },
     "execution_count": 3,
     "metadata": {},
     "output_type": "execute_result"
    }
   ],
   "source": [
    "d1 = pd.read_excel(r\"C:\\Users\\DwaipayanChakroborti\\OneDrive - Tonik Financial Pte Ltd\\MyStuff\\Marvin\\TSA Account Closure\\March24&April24 Ongoing Batch\\SecondNotification_Files\\Type 1 & 2 - April.xlsx\")\n",
    "d1.shape"
   ]
  },
  {
   "cell_type": "code",
   "execution_count": 4,
   "metadata": {},
   "outputs": [
    {
     "name": "stdout",
     "output_type": "stream",
     "text": [
      "The unique count of customer_id is:\t14371\n"
     ]
    },
    {
     "data": {
      "text/html": [
       "<div>\n",
       "<style scoped>\n",
       "    .dataframe tbody tr th:only-of-type {\n",
       "        vertical-align: middle;\n",
       "    }\n",
       "\n",
       "    .dataframe tbody tr th {\n",
       "        vertical-align: top;\n",
       "    }\n",
       "\n",
       "    .dataframe thead th {\n",
       "        text-align: right;\n",
       "    }\n",
       "</style>\n",
       "<table border=\"1\" class=\"dataframe\">\n",
       "  <thead>\n",
       "    <tr style=\"text-align: right;\">\n",
       "      <th></th>\n",
       "      <th>Customer_Id</th>\n",
       "      <th>ACTION_TYPE</th>\n",
       "    </tr>\n",
       "  </thead>\n",
       "  <tbody>\n",
       "    <tr>\n",
       "      <th>0</th>\n",
       "      <td>2352790</td>\n",
       "      <td>TYPE 1</td>\n",
       "    </tr>\n",
       "    <tr>\n",
       "      <th>1</th>\n",
       "      <td>2363211</td>\n",
       "      <td>TYPE 1</td>\n",
       "    </tr>\n",
       "    <tr>\n",
       "      <th>2</th>\n",
       "      <td>2317709</td>\n",
       "      <td>TYPE 1</td>\n",
       "    </tr>\n",
       "    <tr>\n",
       "      <th>3</th>\n",
       "      <td>2367252</td>\n",
       "      <td>TYPE 1</td>\n",
       "    </tr>\n",
       "    <tr>\n",
       "      <th>4</th>\n",
       "      <td>2349365</td>\n",
       "      <td>TYPE 1</td>\n",
       "    </tr>\n",
       "  </tbody>\n",
       "</table>\n",
       "</div>"
      ],
      "text/plain": [
       "   Customer_Id ACTION_TYPE\n",
       "0      2352790      TYPE 1\n",
       "1      2363211      TYPE 1\n",
       "2      2317709      TYPE 1\n",
       "3      2367252      TYPE 1\n",
       "4      2349365      TYPE 1"
      ]
     },
     "execution_count": 4,
     "metadata": {},
     "output_type": "execute_result"
    }
   ],
   "source": [
    "print(f\"The unique count of customer_id is:\\t{len(d1['Customer_Id'].unique())}\")\n",
    "d1.head()\n"
   ]
  },
  {
   "cell_type": "markdown",
   "metadata": {},
   "source": [
    "# Read the data from the second sheet for Type3 data provided by Marvin"
   ]
  },
  {
   "cell_type": "code",
   "execution_count": 5,
   "metadata": {},
   "outputs": [
    {
     "data": {
      "text/plain": [
       "(2511, 2)"
      ]
     },
     "execution_count": 5,
     "metadata": {},
     "output_type": "execute_result"
    }
   ],
   "source": [
    "d2 = pd.read_excel(r\"C:\\Users\\DwaipayanChakroborti\\OneDrive - Tonik Financial Pte Ltd\\MyStuff\\Marvin\\TSA Account Closure\\March24&April24 Ongoing Batch\\SecondNotification_Files\\Type 3 - April.xlsx\")\n",
    "d2.shape"
   ]
  },
  {
   "cell_type": "code",
   "execution_count": 6,
   "metadata": {},
   "outputs": [
    {
     "name": "stdout",
     "output_type": "stream",
     "text": [
      "The unique count of customer_id is:\t2511\n"
     ]
    },
    {
     "data": {
      "text/html": [
       "<div>\n",
       "<style scoped>\n",
       "    .dataframe tbody tr th:only-of-type {\n",
       "        vertical-align: middle;\n",
       "    }\n",
       "\n",
       "    .dataframe tbody tr th {\n",
       "        vertical-align: top;\n",
       "    }\n",
       "\n",
       "    .dataframe thead th {\n",
       "        text-align: right;\n",
       "    }\n",
       "</style>\n",
       "<table border=\"1\" class=\"dataframe\">\n",
       "  <thead>\n",
       "    <tr style=\"text-align: right;\">\n",
       "      <th></th>\n",
       "      <th>Customer_Id</th>\n",
       "      <th>ACTION_TYPE</th>\n",
       "    </tr>\n",
       "  </thead>\n",
       "  <tbody>\n",
       "    <tr>\n",
       "      <th>0</th>\n",
       "      <td>2197600</td>\n",
       "      <td>TYPE 3</td>\n",
       "    </tr>\n",
       "    <tr>\n",
       "      <th>1</th>\n",
       "      <td>2215689</td>\n",
       "      <td>TYPE 3</td>\n",
       "    </tr>\n",
       "    <tr>\n",
       "      <th>2</th>\n",
       "      <td>2279322</td>\n",
       "      <td>TYPE 3</td>\n",
       "    </tr>\n",
       "    <tr>\n",
       "      <th>3</th>\n",
       "      <td>2276454</td>\n",
       "      <td>TYPE 3</td>\n",
       "    </tr>\n",
       "    <tr>\n",
       "      <th>4</th>\n",
       "      <td>2247591</td>\n",
       "      <td>TYPE 3</td>\n",
       "    </tr>\n",
       "  </tbody>\n",
       "</table>\n",
       "</div>"
      ],
      "text/plain": [
       "   Customer_Id ACTION_TYPE\n",
       "0      2197600      TYPE 3\n",
       "1      2215689      TYPE 3\n",
       "2      2279322      TYPE 3\n",
       "3      2276454      TYPE 3\n",
       "4      2247591      TYPE 3"
      ]
     },
     "execution_count": 6,
     "metadata": {},
     "output_type": "execute_result"
    }
   ],
   "source": [
    "print(f\"The unique count of customer_id is:\\t{len(d2['Customer_Id'].unique())}\")\n",
    "d2.head()"
   ]
  },
  {
   "cell_type": "code",
   "execution_count": 7,
   "metadata": {},
   "outputs": [
    {
     "data": {
      "text/plain": [
       "(16882, 2)"
      ]
     },
     "execution_count": 7,
     "metadata": {},
     "output_type": "execute_result"
    }
   ],
   "source": [
    "result = pd.concat([d1, d2], axis=0, ignore_index=True)\n",
    "result.shape"
   ]
  },
  {
   "cell_type": "code",
   "execution_count": 8,
   "metadata": {},
   "outputs": [
    {
     "data": {
      "text/plain": [
       "ACTION_TYPE\n",
       "TYPE 1    14326\n",
       "TYPE 3     2511\n",
       "TYPE 2       45\n",
       "Name: count, dtype: int64"
      ]
     },
     "execution_count": 8,
     "metadata": {},
     "output_type": "execute_result"
    }
   ],
   "source": [
    "result.ACTION_TYPE.value_counts()"
   ]
  },
  {
   "cell_type": "code",
   "execution_count": 15,
   "metadata": {},
   "outputs": [
    {
     "data": {
      "text/html": [
       "<div>\n",
       "<style scoped>\n",
       "    .dataframe tbody tr th:only-of-type {\n",
       "        vertical-align: middle;\n",
       "    }\n",
       "\n",
       "    .dataframe tbody tr th {\n",
       "        vertical-align: top;\n",
       "    }\n",
       "\n",
       "    .dataframe thead th {\n",
       "        text-align: right;\n",
       "    }\n",
       "</style>\n",
       "<table border=\"1\" class=\"dataframe\">\n",
       "  <thead>\n",
       "    <tr style=\"text-align: right;\">\n",
       "      <th></th>\n",
       "      <th>Customer_Id</th>\n",
       "      <th>ACTION_TYPE</th>\n",
       "    </tr>\n",
       "  </thead>\n",
       "  <tbody>\n",
       "    <tr>\n",
       "      <th>14371</th>\n",
       "      <td>2197600</td>\n",
       "      <td>TYPE 3</td>\n",
       "    </tr>\n",
       "  </tbody>\n",
       "</table>\n",
       "</div>"
      ],
      "text/plain": [
       "      Customer_Id ACTION_TYPE\n",
       "14371     2197600      TYPE 3"
      ]
     },
     "execution_count": 15,
     "metadata": {},
     "output_type": "execute_result"
    }
   ],
   "source": [
    "result[result['Customer_Id'] == '2197600']"
   ]
  },
  {
   "cell_type": "code",
   "execution_count": 12,
   "metadata": {},
   "outputs": [
    {
     "name": "stdout",
     "output_type": "stream",
     "text": [
      "<class 'pandas.core.frame.DataFrame'>\n",
      "RangeIndex: 16882 entries, 0 to 16881\n",
      "Data columns (total 2 columns):\n",
      " #   Column       Non-Null Count  Dtype \n",
      "---  ------       --------------  ----- \n",
      " 0   Customer_Id  16882 non-null  int64 \n",
      " 1   ACTION_TYPE  16882 non-null  object\n",
      "dtypes: int64(1), object(1)\n",
      "memory usage: 263.9+ KB\n"
     ]
    }
   ],
   "source": [
    "result.info()"
   ]
  },
  {
   "cell_type": "code",
   "execution_count": 13,
   "metadata": {},
   "outputs": [
    {
     "name": "stdout",
     "output_type": "stream",
     "text": [
      "<class 'pandas.core.frame.DataFrame'>\n",
      "RangeIndex: 16882 entries, 0 to 16881\n",
      "Data columns (total 2 columns):\n",
      " #   Column       Non-Null Count  Dtype \n",
      "---  ------       --------------  ----- \n",
      " 0   Customer_Id  16882 non-null  object\n",
      " 1   ACTION_TYPE  16882 non-null  object\n",
      "dtypes: object(2)\n",
      "memory usage: 263.9+ KB\n"
     ]
    }
   ],
   "source": [
    "result['Customer_Id'] = result['Customer_Id'].astype(str)\n",
    "result.info()"
   ]
  },
  {
   "cell_type": "code",
   "execution_count": 14,
   "metadata": {},
   "outputs": [],
   "source": [
    "result.to_csv(\"temp.csv\", index = False)"
   ]
  },
  {
   "cell_type": "code",
   "execution_count": 16,
   "metadata": {},
   "outputs": [
    {
     "data": {
      "text/plain": [
       "('2352790', '2363211', '2317709', '2367252', '2349365')"
      ]
     },
     "execution_count": 16,
     "metadata": {},
     "output_type": "execute_result"
    }
   ],
   "source": [
    "a = tuple(result['Customer_Id'])\n",
    "a[:5]"
   ]
  },
  {
   "cell_type": "code",
   "execution_count": 20,
   "metadata": {},
   "outputs": [
    {
     "name": "stdout",
     "output_type": "stream",
     "text": [
      "D-1 day from current date 2024-05-16 00:00:00\n",
      "D-60 day from the current date - 1: 2024-02-23\n",
      "D-180 day from the current date -1: 2023-10-26\n",
      "D-1 day from the current date: 2024-05-16\n",
      "D-60 day from the current date: 2024-02-23\n",
      "D-180 day from the current date: 2023-10-26\n"
     ]
    }
   ],
   "source": [
    "d = '2024-04-23'   ### Need to change this to D-1 everytime we run this code ###\n",
    "# Get the current date\n",
    "current_date = pd.Timestamp.now().date()\n",
    "d_minus_1_days = current_date - pd.DateOffset(days=1)\n",
    "# Calculate D-60 days\n",
    "d_minus_60_days = '2024-02-23'\n",
    "# Calculate D-180 days\n",
    "d_minus_180_days = '2023-10-26'\n",
    "\n",
    "print(\"D-1 day from current date\", d_minus_1_days )\n",
    "print(\"D-60 day from the current date - 1:\", d_minus_60_days)\n",
    "print(\"D-180 day from the current date -1:\", d_minus_180_days)\n",
    "\n",
    "d_minus_1_days_string = d_minus_1_days.strftime('%Y-%m-%d')\n",
    "print(\"D-1 day from the current date:\", d_minus_1_days_string)\n",
    "\n",
    "d_minus_60_days_string = d_minus_60_days\n",
    "print(\"D-60 day from the current date:\", d_minus_60_days_string)\n",
    "\n",
    "d_minus_180_days_string = d_minus_180_days\n",
    "print(\"D-180 day from the current date:\", d_minus_180_days_string)"
   ]
  },
  {
   "cell_type": "markdown",
   "metadata": {},
   "source": [
    "The date should be D-1? If the date is not D-1 then ask Bala to refresh the table."
   ]
  },
  {
   "cell_type": "markdown",
   "metadata": {},
   "source": [
    "Step1: At line 11 change the date to D-1<br><br>\n",
    "Step2: At line around 36 (and (TSA_Opening_date < date '2023-10-18')   ####D-60 days(SHOULD BE SAME DATE FOR 1ST,2ND,3RD NOTIFICATION)) Change the date D-60 Days <br><br>\n",
    "Step3: At line around 45 (WHEN tsa_status = 'Active' and Last_TSA_EOD_Balance_Date is null and (TSA_Opening_date < date '2023-10-18')  ####D-60 days(SHOULD BE SAME DATE FOR 1ST,2ND,3RD NOTIFICATION)) Change the date D-60 Days <br><br>\n",
    "Step4: At line 58 (and TSA_Opening_date < date '2023-06-18'  and (Last_TSA_Credit_Date < date '2023-06-18' and Last_TSA_Debit_Date < date '2023-06-18' and coalesce(Last_Group_Stash_Credit_Date,date '1970-01-01') < date '2023-06-18')  ####D-180 days(SHOULD BE SAME DATE FOR 1ST,2ND,3RD NOTIFICATION)) <br><br>\n",
    "Step5: At line 72 (Run_Date = date '2024-01-09'###DATE change here to D-1) Change the date to D-1<br><br>"
   ]
  },
  {
   "cell_type": "markdown",
   "metadata": {},
   "source": [
    "First Notification we change all the steps <br><br>\n",
    "Second and Third Notification we only change Step1 and Step5\n",
    "For Second Notificaiton and Third Notificaiton the customre id should be from the file sent by Marvin. <br><br>"
   ]
  },
  {
   "cell_type": "code",
   "execution_count": 18,
   "metadata": {},
   "outputs": [
    {
     "data": {
      "text/plain": [
       "(8886, 29)"
      ]
     },
     "execution_count": 18,
     "metadata": {},
     "output_type": "execute_result"
    }
   ],
   "source": [
    "sq = f\"\"\"\n",
    "with\n",
    "w_kyc\n",
    "as\n",
    "(\n",
    "  select distinct PARTYID, SEGCATEGORYDESC, row_number() over(partition by partyid order by SEGEFFECTIVEFROM desc) as rnk from `core_raw.party_details`\n",
    "),\n",
    "w_tsa\n",
    "as\n",
    "(\n",
    "  select * from risk_credit_mis.tsa_account_closure where Run_Date = date '{d_minus_1_days_string}' ###DATE change here to D-1\n",
    "  and\n",
    "  Customer_Id not in (select cast(PARTYID as string) from w_kyc where rnk = 1 and SEGCATEGORYDESC = 'BKYC')\n",
    "  and\n",
    "  --customer_id in (select cast(customer_id as string) from prj-prod-dataplatform.dap_ds_poweruser_playground.tsa_2nd_notification_base_10jan2024)\n",
    "  customer_id in {a}\n",
    ")\n",
    "select * from w_tsa;\n",
    "\"\"\"\n",
    "\n",
    "dfd = client.query(sq).to_dataframe()\n",
    "dfd.shape"
   ]
  },
  {
   "cell_type": "code",
   "execution_count": 21,
   "metadata": {},
   "outputs": [],
   "source": [
    "sq = f\"\"\"\n",
    "with\n",
    "w_kyc\n",
    "as\n",
    "(\n",
    "  select distinct PARTYID, SEGCATEGORYDESC, row_number() over(partition by partyid order by SEGEFFECTIVEFROM desc) as rnk from `core_raw.party_details`\n",
    "),\n",
    "w_tsa\n",
    "as\n",
    "(\n",
    "  select * from risk_credit_mis.tsa_account_closure where Run_Date = date '{d_minus_1_days_string}'  ###DATE change here to D-1\n",
    "  and\n",
    "  Customer_Id not in (select cast(PARTYID as string) from w_kyc where rnk = 1 and SEGCATEGORYDESC = 'BKYC')\n",
    "  and\n",
    "  --customer_id in (select cast(customer_id as string) from prj-prod-dataplatform.dap_ds_poweruser_playground.tsa_2nd_notification_base_10jan2024)\n",
    "  customer_id in {a}\n",
    "),\n",
    "w_approved\n",
    "as\n",
    "(\n",
    "  select DISTINCT customerId from risk_credit_mis.loan_master_table where loantype = 'BIGLOAN' OR FLAGAPPROVAL = 1 OR FLAGDISBURSEMENT = 1  \n",
    "  or (stage1Status = 'EXPIRED' AND cddInitiatedDateAndTime IS NULL)\n",
    ")\n",
    "select *\n",
    "from\n",
    "(\n",
    "  select distinct\n",
    "  a.Customer_Id,a.TSA_Opening_date,\n",
    "  c.OFSTANDARDACCOUNTID as TSA_Account_Number, c.OfblockAmount, \n",
    "  a.TSA_Status,a.TSA_Balance,a.Solo_Stash_Balance,a.Group_Stash_Balance,a.Term_Deposit_Balance,a.Active_Term_Deposit_flag,a.Last_TSA_Credit_Date,a.Last_TSA_Debit_Date,\n",
    "  a.ARI_Flag,a.Active_Loan,a.Total_Loan_Outstanding,  case when b.customerId is not null then 1 else 0 end as Approved_Loans,\n",
    "  a.Pending_Loan_Applications,a.Hard_Reject_Loans_App,a.Soft_Reject_Loans_App,a.Cancelled_Loans_App, extract(date from a.Last_Login_Date) as Last_Login_Date,\n",
    "  a.Last_TSA_EOD_Balance_Date,a.Last_Group_Stash_Credit_Date,a.Group_Stash_Balance_Owner,a.Run_Date,a.Batch,a.Processing_Month,a.pending_loans_not_expired_not_exempt,a.expired_loans,\n",
    "  a.pending_loans_lastDt,a.expired_loans_lastDt,\n",
    "  CASE \n",
    "    WHEN tsa_status = 'Active' and (Last_TSA_Credit_Date = date '1970-01-01' and Last_Group_Stash_Credit_Date is null)\n",
    "    and (TSA_Opening_date < date '{d_minus_60_days_string}')   ####D-60 days(SHOULD BE SAME DATE FOR 1ST,2ND,3RD NOTIFICATION)\n",
    "    and ( round(coalesce(TSA_Balance,0) + coalesce(Solo_Stash_Balance,0) + coalesce(Group_Stash_Balance,0) + coalesce(Term_Deposit_Balance,0),2) = 0 )\n",
    "    and (Active_Loan = 0) and (COALESCE(Pending_Loan_Applications,0) = 0)\n",
    "    and (Active_Term_Deposit_flag = 0)\n",
    "    and (ARI_Flag = 'N')\n",
    "    --and (Approved_Loans = 0)  THEN 'TYPE 1'\n",
    "    and b.customerId is null  THEN 'TYPE 1'\n",
    "\n",
    "\n",
    "    WHEN tsa_status = 'Active' and Last_TSA_EOD_Balance_Date is null and (TSA_Opening_date < date '{d_minus_60_days_string}')  ####D-60 days(SHOULD BE SAME DATE FOR 1ST,2ND,3RD NOTIFICATION)\n",
    "    and ( round(coalesce(TSA_Balance,0) + coalesce(Solo_Stash_Balance,0) + coalesce(Group_Stash_Balance,0) + coalesce(Term_Deposit_Balance,0),2) = 0 )\n",
    "    and (Active_Loan = 0) and (COALESCE(Pending_Loan_Applications,0) = 0)\n",
    "    and (Active_Term_Deposit_flag = 0)\n",
    "    and (ARI_Flag = 'N')\n",
    "    --and (Approved_Loans = 0)\n",
    "    and b.customerId is null  \n",
    "    and (date_trunc(TSA_Opening_date,day) = date_trunc(Last_Login_Date,day)) THEN 'TYPE 2'\n",
    "\n",
    "    \n",
    "    WHEN ( round(coalesce(TSA_Balance,0) + coalesce(Solo_Stash_Balance,0) + coalesce(Group_Stash_Balance,0) + coalesce(Term_Deposit_Balance,0),2) < 1 )\n",
    "            and (Active_Loan = 0) and (COALESCE(Pending_Loan_Applications,0) = 0)\n",
    "            and (Active_Term_Deposit_flag = 0)\n",
    "            and TSA_Opening_date < date '{d_minus_180_days_string}'                                     ####D-180 days(SHOULD BE SAME DATE FOR 1ST,2ND,3RD NOTIFICATION)\n",
    "            and (Last_TSA_Credit_Date < date '{d_minus_180_days_string}'                                 ####D-180 days(SHOULD BE SAME DATE FOR 1ST,2ND,3RD NOTIFICATION)\n",
    "            and Last_TSA_Debit_Date < date '{d_minus_180_days_string}'                                         ####D-180 days(SHOULD BE SAME DATE FOR 1ST,2ND,3RD NOTIFICATION)\n",
    "            and coalesce(Last_Group_Stash_Credit_Date,date '1970-01-01') < date '{d_minus_180_days_string}' )  ####D-180 days(SHOULD BE SAME DATE FOR 1ST,2ND,3RD NOTIFICATION)\n",
    "            and tsa_status = 'Active'\n",
    "            and (ARI_Flag = 'N')\n",
    "    --and (Approved_Loans = 0)\n",
    "            and b.customerId is null  \n",
    "    THEN 'TYPE 3'\n",
    "    ELSE 'NO ACTION'\n",
    "    END AS ACTION_TYPE\n",
    "  from w_tsa A\n",
    "  left join w_approved b\n",
    "  on cast(a.Customer_Id as int64) = b.customerId\n",
    "  left join core_raw.customer_accounts c\n",
    "  on c.OFCUSTOMERID = a.Customer_Id and c.CRINTERDESC = 'Transactional Savings Account Inv_R' and c.OFISCLOSED = 'N'\n",
    "  where\n",
    "  Run_Date = date '{d_minus_1_days_string}'  ###DATE change here to D-1\n",
    ")\n",
    "\"\"\"\n"
   ]
  },
  {
   "cell_type": "code",
   "execution_count": 22,
   "metadata": {},
   "outputs": [
    {
     "name": "stdout",
     "output_type": "stream",
     "text": [
      "\n",
      "with\n",
      "w_kyc\n",
      "as\n",
      "(\n",
      "  select distinct PARTYID, SEGCATEGORYDESC, row_number() over(partition by partyid order by SEGEFFECTIVEFROM desc) as rnk from `core_raw.party_details`\n",
      "),\n",
      "w_tsa\n",
      "as\n",
      "(\n",
      "  select * from risk_credit_mis.tsa_account_closure where Run_Date = date '2024-05-16'  ###DATE change here to D-1\n",
      "  and\n",
      "  Customer_Id not in (select cast(PARTYID as string) from w_kyc where rnk = 1 and SEGCATEGORYDESC = 'BKYC')\n",
      "  and\n",
      "  --customer_id in (select cast(customer_id as string) from prj-prod-dataplatform.dap_ds_poweruser_playground.tsa_2nd_notification_base_10jan2024)\n",
      "  customer_id in ('2352790', '2363211', '2317709', '2367252', '2349365', '2313900', '2360327', '2373619', '2368104', '2403316', '2381240', '2357030', '1432588', '2391318', '2135002', '2351837', '2359223', '2378978', '2404414', '2355589', '2362364', '2398075', '2384226', '2375514', '2351082', '2372641', '2387692', '2390319', '2365873', '2389416', '2378747', '2366609', '2329364', '2369200', '2374355', '2362924', '2373320', '2358066', '2388318', '2397234', '2364094', '2352850', '2399097', '2363889', '2397743', '2386006', '2363575', '2355689', '2402309', '2391319', '2379571', '2352679', '2368773', '2390520', '2377961', '2407400', '2399423', '2386832', '2389564', '2407601', '2379651', '2362355', '2382925', '2386367', '2250822', '2384332', '2408293', '2405701', '2388846', '2402151', '2360410', '2395990', '2332791', '2350894', '2401718', '2291500', '2395393', '2351475', '2376933', '2400234', '2367605', '2375935', '2381002', '2404752', '2353591', '2365646', '2390065', '2376361', '2385114', '2353086', '2402239', '2365601', '2380451', '2361195', '2379799', '2360440', '2397485', '2361562', '2398880', '2395898', '2396431', '2401020', '2363069', '2362487', '2195364', '2397722', '2371041', '2398858', '2374972', '2372312', '2392612', '2407125', '2368472', '2385472', '2357237', '2403881', '2405688', '2390395', '2349750', '2363361', '2381959', '2351474', '2389415', '2365023', '2359046', '2386007', '2397334', '2351411', '2232078', '2361496', '2406829', '2392709', '2376174', '1288811', '2407558', '2380411', '2384043', '2234928', '2356819', '2355674', '2349709', '2382265', '2402166', '2379817', '2362019', '2395395', '2352294', '2360877', '2375110', '2362207', '2354800', '2388579', '2371944', '2381566', '2360944', '2380537', '2384264', '2399265', '2387811', '2402590', '2396991', '2379071', '2349886', '2351755', '2350368', '2407615', '2405257', '2400480', '2351204', '2349721', '2383502', '2372829', '2377319', '2355699', '2372476', '2357324', '2288716', '2353853', '2386399', '2386641', '2397640', '2367625', '2389908', '2382874', '2358425', '2364525', '2384956', '2404943', '2360809', '2360559', '2372038', '2402431', '2363890', '2393582', '2359577', '2357275', '2389253', '2317936', '2379559', '2380564', '2393906', '2356324', '2381706', '2372578', '2236122', '2352210', '2183648', '2354283', '2398296', '2364420', '2356951', '2384148', '2373126', '2371572', '2360908', '2268167', '2408413', '2377364', '2396162', '2401378', '2391874', '2359614', '2397672', '2370925', '2393002', '2402377', '2369742', '2389673', '2396430', '2394891', '2351169', '2368143', '2354919', '2394632', '2387867', '2370135', '2389035', '2406804', '2358826', '2359882', '2404401', '2375278', '2364817', '2350167', '2400301', '2359961', '2379050', '2363807', '2398733', '2398427', '2398564', '2388224', '2363910', '2377108', '2227630', '2360270', '2403523', '2385974', '2383533', '2374608', '2362468', '2361965', '2405595', '2378156', '2384121', '2404714', '2354704', '2386115', '2208831', '2358760', '2364667', '2381630', '2352886', '2351191', '2392798', '2382878', '2400820', '2393766', '2379900', '2407091', '2364372', '2373960', '2354941', '2262139', '2397530', '2376800', '2399403', '2367757', '2395645', '2172850', '2358280', '2355375', '2337229', '2360490', '2395511', '2390178', '2392147', '2383739', '2387716', '2363297', '2408085', '2402831', '2399485', '2393999', '2261880', '2364833', '2332920', '2373091', '2389902', '2392341', '2385655', '2352196', '2397616', '2396633', '2400528', '2390970', '2332068', '2265299', '2316518', '2407783', '2383214', '2356952', '2379837', '2384618', '2402091', '2394612', '2362190', '2395578', '2383552', '2390509', '2384240', '2358237', '2381223', '2403091', '2407716', '2350462', '2349627', '2360775', '2402251', '2350622', '2385910', '2369027', '2377730', '2392219', '2396346', '2398202', '2396358', '2361750', '2384460', '2387044', '2380982', '2402976', '2360962', '2355362', '2377463', '2394804', '2326984', '2407523', '2364928', '2354885', '2306330', '2399235', '2390818', '2380672', '2369226', '2379784', '2362345', '2360262', '1861757', '1910573', '2356875', '2396158', '2375619', '2383256', '2366280', '2373970', '2396745', '2405048', '2374777', '2388010', '2385170', '2398952', '2396288', '2399454', '2387150', '2384573', '2362097', '2363171', '2350444', '2396153', '2374233', '2398536', '2378188', '2403126', '2359907', '2372190', '2365393', '2362375', '2352452', '2349927', '2406778', '2407866', '2351840', '2386529', '2384640', '2395781', '2401031', '2395865', '2354515', '2377677', '2387386', '2403223', '2343941', '2388259', '2399704', '2356064', '2374749', '2399852', '2382221', '2357781', '2355729', '2378095', '2392888', '2379370', '2372670', '2353117', '2383407', '2367283', '2392121', '2395531', '2385983', '2363863', '2225189', '2274160', '2365000', '2402353', '2404588', '2386678', '2398792', '2407310', '2360819', '2393175', '2385721', '2361377', '2367238', '2354456', '2381823', '2378612', '2362275', '2370658', '2383085', '2372058', '2377058', '2386841', '2397602', '2375708', '2404484', '2383497', '2353131', '2398856', '2377998', '2217026', '2391864', '2387877', '2373153', '2401549', '2191324', '2402808', '2376496', '2375115', '2405366', '2397835', '2360912', '2137909', '2393899', '2356824', '2362509', '2380612', '2378360', '2358849', '2365486', '2405834', '2365149', '2391188', '2406705', '2287162', '2374449', '2406914', '2371214', '2355690', '2299987', '2373149', '2394834', '2378132', '2369318', '2385368', '2405311', '2373527', '2389332', '2406632', '2405413', '2362105', '2396166', '2319201', '2391841', '2374483', '2395866', '2383297', '2357679', '2351055', '2371893', '2350015', '2385377', '2380617', '2395976', '2397642', '2396174', '2393159', '2388792', '2377029', '2365016', '2382521', '2372317', '2402174', '2371183', '2379825', '2310517', '2351812', '2406303', '2379002', '2397167', '2375642', '2394439', '2399580', '2394722', '2405672', '2369151', '2397838', '2407938', '2354332', '2354635', '2359171', '2131377', '2361285', '2349346', '2405323', '2392470', '2364195', '2356187', '2393066', '2389093', '2371095', '2303916', '2364944', '2360989', '2369706', '2386920', '2369564', '2399335', '2368459', '2402592', '2406686', '2353109', '2350750', '2369402', '2382013', '2362528', '2384975', '2180964', '2400028', '2364595', '2392692', '2402328', '2373529', '2362244', '2387470', '2381705', '2369926', '2379004', '2379621', '2395458', '2381152', '2353317', '2370307', '2358672', '2377560', '2374875', '2402416', '2363245', '2363149', '2134426', '2369416', '2401135', '2339280', '2356858', '2387458', '2379843', '2398651', '2406124', '2381274', '2374025', '2401421', '2396330', '2353105', '2375333', '2393009', '2350991', '2355625', '2407659', '2350648', '2357997', '2396595', '2370200', '2353134', '2387020', '2357357', '2351785', '2371544', '2326957', '2403201', '2378220', '2405310', '2360190', '2373031', '2351862', '2403102', '2396675', '2362030', '2380813', '2377159', '2349776', '2378849', '2354367', '2406424', '2350241', '2407756', '2393958', '2362678', '2378677', '2386016', '2370486', '2376905', '2399305', '2368175', '2375269', '2401282', '2367041', '2376683', '2407884', '2395454', '2404304', '2375674', '2390403', '2389429', '2402732', '2365694', '2366355', '2399718', '2402850', '2224016', '2407591', '2377873', '2353196', '2201443', '2362974', '2394922', '2365794', '2365122', '2380732', '2395269', '2380799', '2358707', '2378834', '2407553', '2390182', '2404849', '2365852', '2358258', '2405449', '2362695', '2364293', '2228681', '2402632', '2406194', '2398146', '2368814', '2353175', '2374369', '2408439', '2345350', '2403466', '2353009', '2369870', '2361736', '2358307', '2399570', '2355175', '2405490', '2406076', '2357445', '2395814', '2380634', '2388306', '2401417', '2356910', '2354504', '2398267', '2366520', '2360374', '2390457', '2391313', '2299097', '2303325', '2360979', '2336019', '2352004', '2333480', '2383588', '2365153', '2367195', '2357832', '2406553', '2239889', '2381147', '2367774', '2397605', '2372944', '2405119', '2389802', '2400024', '2386744', '2364593', '2347982', '2391336', '2380442', '2353556', '2392006', '2363980', '2359572', '2369824', '2377134', '2383431', '2363578', '2354975', '2405987', '2249443', '2387546', '2391799', '2391781', '2350609', '2401472', '2382167', '2388487', '2392260', '1456540', '2092800', '1642415', '1674790', '1556429', '1955735', '1490334', '2117705', '2119296', '2369752', '2373804', '2394138', '2406899', '2396835', '2377341', '2377270', '2364188', '2393315', '2356741', '2268562', '2368418', '2386697', '2388033', '2360591', '2363617', '2396712', '2387947', '2308415', '2360246', '2361147', '2397629', '2364210', '2391693', '2361486', '2349595', '2390654', '2395297', '2366091', '2389555', '2387415', '2365397', '2391191', '2351274', '2359653', '2383336', '2362013', '2359088', '2389485', '2361997', '2377562', '2396178', '2368142', '2379097', '2374237', '2393312', '2363372', '2365094', '2385550', '2390394', '2368443', '2394316', '2358162', '2318984', '2341461', '2393684', '2360047', '2392363', '2362715', '2361845', '2370448', '2368115', '2406599', '2348670', '2394725', '2405261', '2371283', '2375016', '2366404', '2370697', '2380102', '2302461', '2392246', '2407006', '2374078', '2377033', '2386850', '2364803', '2396588', '2268984', '2357892', '2388807', '2377425', '2373251', '2369501', '2403563', '2386216', '2388131', '2371454', '2378536', '2366002', '2323838', '2405441', '2382514', '2402262', '2386752', '2386419', '2374356', '2377228', '2369004', '2372596', '2380511', '2372429', '2401357', '1135585', '2362091', '2384603', '2359789', '2359020', '2374321', '2381476', '2393256', '2363982', '2350404', '2389337', '2376950', '2400218', '2404866', '2384066', '2401504', '2362969', '2384000', '2398410', '2391112', '2400032', '2405624', '2401338', '2394189', '2369951', '2403033', '2351926', '2358127', '2369539', '2353462', '2362638', '2371918', '2364275', '2372431', '2388057', '2381640', '2379785', '2396583', '2353050', '2352264', '2350578', '2388177', '2392359', '2388890', '2352131', '2354598', '2357217', '2403577', '2401783', '2392138', '2365817', '2392439', '2397057', '2398751', '2393164', '2363384', '2354228', '2340613', '2390062', '2359972', '2370126', '2387164', '2402463', '2368983', '2356502', '2377392', '2398347', '2384378', '2352090', '2389068', '2396572', '2354717', '2358415', '2376722', '2360568', '2361584', '2355919', '2372983', '2398877', '2391290', '2367778', '2362454', '2408450', '2382054', '2365450', '2397676', '2390354', '2367166', '2364812', '2353341', '2350079', '2404295', '2371794', '2400945', '2389263', '2365592', '2353631', '2366159', '2357758', '2372012', '2360768', '2377132', '2353602', '2401144', '2386284', '2349929', '2356373', '2400011', '2374329', '2389515', '2389829', '2382855', '2365336', '2370746', '2355528', '2359919', '2358790', '2356768', '2350513', '2406428', '2386050', '2372591', '2404587', '2362627', '2349586', '2380308', '2379838', '2378714', '2363929', '2393508', '2397510', '2374801', '2382141', '2378693', '2298959', '2404918', '2379052', '2355903', '2376094', '2355291', '2383325', '2404853', '2400317', '2405862', '2357843', '2352200', '2377979', '2271973', '2351233', '2351923', '2390379', '2374155', '2350465', '2350691', '2401525', '2404797', '2350193', '2391936', '2161337', '2352252', '2363658', '2407362', '2379087', '2404097', '2393359', '2406904', '2405134', '2369797', '2365884', '2390853', '2365599', '2367346', '2372348', '2382633', '2387965', '2371743', '2382382', '2374127', '2395069', '2399784', '2379488', '2362628', '2356390', '2392535', '2374607', '2393880', '2350685', '2399434', '2382875', '2363428', '2386532', '2394792', '2359298', '2400633', '2377358', '2393358', '2388083', '2373871', '2374893', '2387381', '2350422', '2369276', '2383420', '2368482', '2354207', '2383098', '2400387', '2363077', '2365802', '2376965', '2372964', '2355981', '2404531', '2367481', '2381131', '2366046', '2407837', '2357764', '2408103', '2389918', '2369456', '2355153', '2399473', '2358433', '2355917', '2338649', '2392599', '2357711', '2362128', '2357230', '2363049', '2355959', '2404727', '2351971', '2398387', '2383018', '2378261', '2407667', '2390218', '2363296', '2405802', '2402458', '2406866', '2395371', '2366082', '2377475', '2401590', '2355155', '2396393', '2363020', '2350955', '2369148', '2405258', '2399315', '2351348', '2351359', '2399409', '2389646', '2352214', '2358967', '2373463', '2358154', '2284423', '2401285', '2376283', '2387617', '2370885', '2367390', '2407951', '2355167', '2361914', '2367071', '2378005', '2367102', '2355930', '2407096', '2364679', '2372147', '2362763', '2209039', '1880135', '2384405', '2367144', '2356727', '2408126', '2382133', '2372867', '2371616', '2392984', '2371876', '2382024', '2399722', '2376265', '2368412', '2407059', '2355376', '2333184', '2358589', '2368887', '2365025', '2359977', '2391964', '2369847', '2360296', '2402347', '2384537', '2404127', '2383638', '2179121', '2260277', '2366047', '2407285', '2381770', '2396229', '2365523', '2403745', '2379740', '2393240', '2354861', '2392304', '2370336', '2376116', '2371754', '2398794', '2369146', '2351312', '2367080', '2374593', '2402475', '2367761', '2404945', '2400751', '2387856', '2326228', '2397583', '2397745', '2405910', '2366522', '2390466', '2395286', '2349589', '2359334', '2195152', '2391308', '2405505', '2357784', '2376270', '2376317', '2363743', '2404449', '2364505', '2386150', '2366537', '2388978', '2374781', '2282477', '2383347', '2351737', '2406503', '2370637', '2392269', '2364407', '2382297', '2395309', '2366823', '2381905', '2357686', '2392011', '2357561', '2386758', '2378966', '2405298', '2329313', '2364446', '2384220', '2387587', '2399875', '2297953', '2373943', '2387684', '2373231', '2190436', '2405517', '2394759', '2386702', '2407896', '2386649', '2377289', '2392867', '2398226', '2380110', '2364516', '2398051', '2389256', '2354257', '2405576', '2395936', '2392638', '2383114', '2373416', '2390899', '2353438', '2366858', '2342881', '2398330', '2404793', '2310481', '2362086', '2382898', '2398225', '2385278', '2365923', '2405373', '2358748', '2368445', '2406031', '2386867', '2380048', '2358794', '2373354', '2407458', '2358660', '2396435', '2405793', '2378266', '2384632', '2372541', '2391933', '2403791', '2374818', '2383995', '2356925', '2378349', '2335924', '2404254', '2365557', '2331703', '2370076', '2362750', '2366852', '2394952', '2390979', '2378273', '2405810', '2379557', '2375792', '2364531', '2380870', '2400844', '2396242', '2374699', '2353037', '2390128', '2297261', '2333382', '2393923', '2397762', '2242962', '2179077', '2390867', '2359579', '2358122', '2394853', '2370429', '2199775', '2333663', '2363012', '2402704', '2404017', '2406252', '2396755', '2318003', '2402295', '2398646', '2373963', '2300125', '2360864', '2354345', '2383761', '2370324', '2389374', '2379553', '2370736', '2369028', '2364383', '2251529', '2347824', '2406928', '2355383', '2393995', '2394223', '2394051', '2383977', '2404370', '2394082', '2355386', '2387589', '2398090', '2388995', '2359707', '2353679', '2366402', '2406069', '2383694', '2356441', '2394563', '2391606', '2402753', '2378504', '2374738', '2374064', '2354420', '2379207', '2370991', '2405853', '2347699', '2392871', '2397495', '2355150', '2406042', '2362989', '2397513', '2382026', '2400004', '2357262', '2373144', '2324001', '2359084', '2402830', '2236135', '2394099', '2394333', '2365131', '2394689', '2351404', '2366926', '2352146', '2385817', '2352074', '2404245', '2372376', '2407656', '2365121', '2380749', '2366360', '2379964', '2372029', '2364830', '2383778', '2366874', '2399079', '2374351', '2387272', '2378296', '2369297', '2356296', '2405871', '2399036', '2397553', '2390678', '2362358', '2404442', '2391679', '2382581', '2404479', '2383091', '2393191', '2379422', '2376636', '2363166', '2382106', '2360194', '2377877', '2361511', '2378874', '2388143', '2208945', '2358536', '2403243', '2372286', '2354549', '2376059', '2355789', '2354900', '2172273', '2387046', '2404510', '2404457', '2405523', '2375859', '2357447', '2353505', '2377497', '2370867', '2399806', '2403730', '2392204', '2382010', '2389279', '2297361', '2406321', '2365552', '2392065', '2379475', '2368207', '2380223', '2368700', '2377259', '2271088', '2362982', '2357728', '2398783', '2396579', '2408200', '2367505', '2360012', '2299714', '2365865', '2390347', '2226151', '2357430', '2405984', '2389517', '2376917', '2407762', '2402363', '2362391', '2389399', '2396796', '2377448', '2386183', '2370321', '2358726', '2272121', '2378908', '2352772', '2384591', '2371447', '2366744', '2399127', '2339149', '2349393', '2394605', '2362813', '2183310', '2150945', '2273606', '2360477', '2387071', '2374788', '2358051', '2361987', '2377200', '2370082', '2398506', '2394511', '2369183', '2381590', '2378472', '2383045', '2374394', '2388714', '2389942', '1848243', '1875113', '1892321', '1914348', '1289602', '1998555', '1959256', '2031103', '1719987', '1662525', '1802492', '1269475', '2053458', '1107328', '2147666', '2152589', '1954563', '2388176', '2363202', '2374438', '2404446', '2285182', '2406132', '2358037', '2369472', '2360827', '2378580', '2386741', '2405931', '2359233', '2367184', '2363520', '2355216', '2366128', '2284183', '2378064', '2361004', '2372130', '2398581', '2405404', '2354578', '2382901', '2359007', '2372335', '2353855', '2395993', '2402442', '2403789', '2363753', '2186800', '2391620', '2365111', '2366282', '2373293', '2389592', '2359156', '2388445', '2373676', '2369306', '2363404', '2367326', '2406432', '2382596', '2360621', '2367305', '2408005', '2376988', '2351564', '2366575', '2359377', '2390785', '2400385', '2355187', '2396419', '2374376', '2364299', '2378796', '2374254', '2380150', '2351446', '2371199', '2388959', '2382159', '2400079', '2268426', '2381260', '2401733', '2359491', '2384074', '2375063', '2358211', '2388290', '2237375', '2403133', '2394265', '2379578', '2381345', '2360264', '2378029', '2387682', '2287112', '2407841', '2370242', '2393695', '2392880', '2371495', '2398893', '2378313', '2403894', '2377115', '2351362', '2392639', '2379201', '2367892', '2406568', '2404475', '2350360', '2400309', '2254665', '2363978', '2371476', '2383228', '2385561', '2367731', '2395244', '2368132', '2377727', '2403655', '2379726', '2364090', '2372737', '2395216', '2365101', '2405542', '2394171', '2370339', '2372639', '2389352', '2372551', '2358756', '2352229', '2405691', '2371070', '2372377', '2377486', '2398874', '2395953', '2398684', '2377823', '2401739', '2376036', '2360101', '2369769', '2392029', '2313459', '2388834', '2398653', '2377297', '2358607', '2393010', '2384862', '2387500', '2368219', '2372959', '2407988', '2362285', '2352678', '2366997', '2404208', '2390361', '2406225', '2390523', '2373782', '2367469', '2369760', '2393809', '2403395', '2385493', '2407653', '2377830', '2408380', '2362637', '2380914', '2369347', '2319310', '2354978', '2380767', '2353319', '2349784', '2335257', '2403206', '2366132', '2383571', '2370565', '2384782', '2377229', '2389468', '2369324', '2396276', '2373808', '2192437', '2360938', '2356730', '2369920', '2351478', '2401426', '2371853', '2400262', '2392452', '2399064', '2405482', '2385194', '2392178', '2357033', '2384037', '2370987', '2382293', '2294362', '2391411', '2352988', '2386023', '2406580', '2392153', '2386009', '2359752', '2341449', '2390125', '2380888', '2371899', '2395734', '2380546', '2385005', '2359896', '2385129', '2374161', '2402480', '2378794', '2355545', '2314716', '2396982', '2377911', '2395130', '2373746', '2400865', '2380219', '2385003', '2349062', '2393651', '2370800', '2290489', '2374638', '2297852', '2375887', '2371774', '2372490', '2407676', '2366000', '2370864', '2391714', '2387743', '2371088', '2340087', '2290273', '2394798', '2363519', '2393273', '2388686', '2352312', '2388142', '2373996', '2373230', '2391858', '2364359', '2388161', '2385111', '2380222', '2383479', '2384214', '2374858', '2352827', '2390768', '2387627', '2374307', '2348880', '2397639', '2352990', '2349861', '2392073', '2369047', '2319749', '2355158', '2363769', '2385390', '2387270', '2369313', '2372024', '2406326', '2369427', '2141740', '2407583', '2360494', '2363757', '2346804', '2404080', '2361754', '2383128', '2370233', '2379913', '2408117', '2401870', '2400295', '2397608', '2388257', '2356358', '2400783', '2406437', '2372520', '2401226', '2360294', '2365467', '2407321', '2358166', '2372988', '2360884', '2391262', '2392833', '2390188', '2261895', '2376072', '2377620', '2375623', '2395872', '2365893', '2362770', '2395668', '2375052', '2351266', '2359968', '2369735', '2399322', '2407597', '2389091', '2398857', '2349938', '2363054', '2357913', '2377931', '2402557', '2387541', '2381656', '2390283', '2400272', '2401178', '2385590', '2353239', '2354439', '2386433', '2349926', '2359015', '2389952', '2398652', '2358239', '2385505', '2278065', '2362556', '2390191', '2375434', '2405606', '2360143', '2381481', '2382922', '2387776', '2377468', '2399101', '2356815', '2396110', '2390888', '2405723', '2395268', '2361554', '2407460', '2374258', '2389779', '2384430', '2334622', '2403553', '2398024', '2403572', '2400936', '2238323', '2362985', '2293800', '2370166', '2387135', '2386652', '2398009', '2391359', '2350396', '2363927', '2387241', '2259887', '2367406', '2367531', '2357542', '2387939', '2376021', '2374774', '2232552', '2358233', '1885902', '2368552', '2402804', '2375216', '2381867', '2359418', '2356805', '2355205', '2387156', '2395339', '2379749', '2393942', '2407234', '2353645', '2381425', '2400167', '2375530', '2401488', '2356657', '2360704', '2394022', '2406174', '2384047', '2369408', '2392364', '2367062', '2356089', '2404522', '2365063', '2379392', '2400412', '2392504', '2358997', '2405208', '2390710', '2374760', '2383876', '2355349', '2349447', '2396109', '2352307', '2377977', '2362871', '2363909', '2199011', '2368595', '2395975', '2355741', '2350407', '2376054', '2355206', '2376649', '2382033', '2358582', '2366100', '2383150', '2396710', '2362995', '2398235', '2386660', '2368462', '2353471', '2403977', '2350625', '2401623', '2397881', '2404233', '2383457', '2293105', '2379967', '2355070', '2386118', '2372945', '2390087', '2381871', '2368566', '2349521', '2380098', '2406080', '2362866', '2363816', '2362360', '2333290', '2355432', '2353491', '2383902', '2364406', '2352115', '2374059', '2378151', '2358775', '2351275', '2382001', '2368389', '2398896', '2386520', '2377798', '2405189', '2380401', '2388117', '2364874', '2327605', '2377592', '2403891', '2405796', '2379917', '2405504', '2358304', '2376026', '2406557', '2398575', '2398199', '2367510', '2392018', '2400402', '2383433', '2406844', '2380167', '2376082', '2352058', '2392575', '2359862', '2364853', '2371883', '2381296', '2395846', '2369041', '2359373', '2338571', '2395310', '2372939', '2351988', '2359662', '2390221', '2377097', '2360458', '2393788', '1016958', '2393278', '2378618', '2373261', '2405799', '2383350', '2267360', '2403641', '2345403', '2359479', '2361759', '2361637', '2402387', '2376069', '2394988', '2351219', '2364073', '2382387', '2385379', '2391889', '2376229', '2356775', '2354305', '2394933', '2383066', '2381073', '2404409', '2356253', '2400991', '2400360', '2373321', '2404731', '2360851', '2306908', '2378321', '2404418', '2350202', '2401227', '2381088', '2408436', '2397034', '2398354', '2406081', '2391423', '2363362', '2229814', '2374744', '2379418', '2383892', '2405616', '2367002', '2406963', '2363265', '2381974', '2386470', '2383953', '2353664', '2373498', '2405694', '2381878', '2378087', '2387281', '2358727', '2377847', '2378054', '2252967', '2378247', '2358214', '2401784', '2391405', '2384748', '2366771', '2382789', '2398031', '2369156', '2405643', '2391218', '2367835', '2376438', '2403275', '2349340', '2284832', '2379048', '2382704', '2388732', '2400772', '2317131', '2393108', '2402862', '2403644', '2373412', '2311122', '2368155', '2338594', '2367439', '2357842', '2404201', '2365056', '2404745', '2374686', '2399316', '2361326', '2370967', '2393098', '2406442', '2324645', '2341917', '2318218', '2388569', '2374732', '2396176', '2376022', '2358873', '2372715', '2366859', '2379306', '2370374', '2356927', '2366050', '2381999', '2359873', '2402216', '2353838', '2363231', '2351888', '2400039', '2385183', '2363285', '2392450', '2380061', '2352375', '2370041', '2373835', '2393561', '2375271', '2357201', '2369014', '2396580', '2354802', '2377148', '2350251', '2383108', '2357218', '2303083', '2394672', '2403238', '2385762', '2394105', '2381124', '2398723', '2401008', '2371683', '2383565', '2360265', '2372907', '2362891', '2386461', '2375378', '2372103', '2386861', '2370306', '2364984', '2388660', '2374884', '2384544', '2375966', '2360147', '2368802', '2364425', '2407964', '2360500', '2382685', '2367822', '2355766', '2385960', '2402382', '2363315', '2225228', '2400706', '2393231', '2379606', '2394741', '2339854', '2360430', '2404906', '2346365', '2388295', '2366518', '2349360', '2401462', '2357844', '2386552', '2368099', '2381295', '2372748', '2355706', '2364110', '2367462', '2298373', '1918272', '1127630', '1036209', '2011646', '2009153', '2138443', '1650744', '2142401', '2396512', '2380041', '2391888', '2384280', '2391303', '2355658', '2351567', '2376584', '2396461', '2363908', '2383607', '2263061', '2378867', '2398164', '2358454', '2388695', '2189237', '2391442', '2352139', '2357064', '1297247', '2376407', '2392682', '2386025', '2384918', '2367010', '2376792', '2306601', '2387358', '2400671', '1744051', '2391513', '2386031', '2359848', '2404408', '2383038', '2393208', '2349293', '2350351', '2358063', '2369445', '2383788', '2370708', '2391446', '2407739', '2381352', '2400894', '2407997', '2401450', '2351970', '2372765', '2384248', '2392237', '2242229', '2381808', '2396037', '2382451', '2357746', '2381102', '2349937', '2393349', '2382147', '2403221', '2141811', '2356431', '2407510', '2296861', '2352482', '2382446', '2350986', '2292887', '2360981', '2394055', '2364701', '2379000', '2386523', '2400389', '2335380', '2367975', '2355277', '2349882', '2250371', '2362409', '2374565', '2406995', '2385684', '2362916', '2395429', '2370902', '2382984', '2393565', '2373012', '2284746', '2376896', '2373656', '2393806', '2358519', '2351828', '2369815', '2393758', '2406695', '2390475', '2406636', '2354915', '2156526', '2386632', '2352982', '2394789', '2367449', '2386063', '2353195', '2398337', '2365431', '2408359', '2378770', '2405053', '2382070', '2360446', '2403751', '2372644', '2339397', '2376106', '2391980', '2371100', '2390645', '2379218', '2378467', '2372814', '2372886', '2397527', '2371631', '2384933', '2391083', '2403480', '2179589', '2400440', '2397549', '2406497', '2389092', '2374053', '2373989', '2377736', '2386289', '2393754', '2393343', '2287772', '2398609', '2386013', '2378897', '2370497', '2360543', '2362476', '2400123', '2384666', '2371518', '2368877', '2358610', '2405022', '2360357', '2359200', '2188864', '2406418', '2388831', '2226028', '2350663', '2372410', '2403797', '2371101', '2396508', '2401603', '2364138', '2372860', '2387101', '2367824', '2398640', '2364561', '2386337', '2402672', '2393080', '2384910', '2379576', '2374812', '2361223', '2395555', '2355448', '2354357', '2390957', '2361449', '2377575', '2344532', '2365916', '2346182', '2356939', '2367579', '2382398', '2372084', '2372290', '2371366', '2404561', '2392438', '2386667', '2397035', '2401751', '2351541', '2371800', '2397766', '2353357', '2396428', '2355012', '2337594', '2401541', '2397669', '2385818', '2382854', '2368432', '2376016', '2370806', '2399999', '2399665', '2405601', '2366551', '2406384', '2394680', '2408007', '2379915', '2356151', '2381016', '2393399', '2363946', '2354925', '2378216', '2383630', '2367358', '2212862', '2383059', '2377700', '2394976', '2395193', '2365544', '2405679', '2383940', '2361180', '2383965', '2401528', '2397373', '2352331', '2362963', '2378056', '2357714', '2370884', '2383474', '2366184', '2399638', '2397468', '2373216', '2385112', '2369497', '2361151', '2404259', '2372237', '2396941', '2364348', '2380999', '2383381', '2313352', '2355949', '2395392', '2358220', '2388690', '2394962', '2399318', '2173722', '2393259', '2375839', '2370903', '2376003', '2392889', '2407722', '2369984', '2390977', '2298742', '2363280', '2375825', '2391425', '2405041', '2365420', '2372439', '2358398', '2380226', '2353752', '2376268', '2351804', '2403371', '2383095', '2385634', '2393800', '2371969', '2404697', '2365176', '2398901', '2356087', '2396253', '2353132', '2396895', '2384968', '2368119', '2367934', '2352728', '2383406', '2368635', '2390588', '2367817', '2370898', '2384456', '2361183', '2362017', '2407140', '2388982', '2397927', '2401704', '2406183', '2351747', '2373540', '2377928', '2391924', '2405998', '2362629', '2393575', '2367023', '2391907', '2351384', '2385056', '2363425', '2377350', '2401006', '2374758', '2349272', '2360976', '2352042', '2366195', '2348805', '2390247', '2372615', '2364107', '2375323', '2386979', '2406181', '2364080', '2359992', '1835105', '1817756', '2404047', '2366007', '2358818', '2362074', '2329919', '2357821', '2381912', '2393917', '2390054', '2367905', '2402664', '2376123', '2378193', '2356259', '2354032', '2378668', '2376610', '2386194', '2362343', '2406135', '2370960', '2354293', '2391557', '2402929', '2385733', '2353656', '2393334', '2405437', '2388656', '2398603', '2408208', '2363629', '2388830', '2349408', '2396289', '2401515', '2402271', '2400541', '2374145', '2401730', '2371419', '2352694', '2397723', '2352129', '2334280', '2394320', '2377217', '2374667', '2356990', '2359688', '2363179', '2404893', '2372793', '2393598', '2366406', '2392288', '2391350', '2407025', '2372546', '2250691', '2391293', '2358354', '2381616', '2362273', '2392211', '2375829', '2381389', '2352755', '2401521', '2380034', '2356353', '2355759', '2390458', '2318857', '2368066', '2396450', '2351281', '2368976', '2371962', '2322534', '2399844', '2365414', '2399226', '2373166', '2400799', '2393321', '2361913', '2382404', '2407516', '2389259', '2396409', '2362171', '2395329', '2371436', '2383023', '2389492', '2395519', '2392597', '2356968', '2386360', '2403034', '2362567', '2405600', '2353062', '2366797', '2401115', '2373888', '2397626', '2374049', '2392541', '2393898', '2322146', '2405519', '2407269', '2366200', '2378933', '2405812', '2372218', '2383144', '2393302', '2350511', '2393972', '2360855', '2369395', '2200395', '2373374', '2355179', '2397332', '2394648', '2356905', '2366869', '2394897', '2371842', '2366379', '2404586', '2386163', '2387680', '2398358', '2375910', '2367705', '2356268', '2370966', '2403519', '2385903', '2370528', '2379296', '2377207', '2386090', '2355879', '2370764', '2388088', '2381930', '2369076', '2380245', '2387825', '2333885', '2352759', '2381044', '2360948', '2403089', '2376188', '2372432', '2384072', '2383070', '2380364', '2376569', '2361519', '2388475', '2362933', '2378128', '2349536', '2379769', '2368404', '2403591', '2402755', '2355749', '2390276', '2365008', '2359118', '2361556', '2352143', '2351344', '2189680', '2399254', '2404994', '2387301', '2376853', '2384178', '2390018', '2391347', '2350122', '2361875', '2335297', '2358554', '2380923', '2385459', '2368862', '2402427', '2400106', '2353777', '2378263', '2374536', '2353133', '2347814', '2363363', '2382034', '2362664', '2301408', '2247538', '2374681', '2379795', '2362402', '2355588', '2366674', '2372942', '2382941', '2383104', '2381119', '2342586', '2402288', '2370718', '2353801', '2398416', '2389138', '2405650', '2367999', '2353746', '2323513', '2374907', '2378164', '2399544', '2374669', '2384510', '2369294', '2373765', '2387398', '2398109', '2383528', '2405617', '2392120', '2375614', '2370340', '2383848', '2364114', '2349727', '2370965', '2359813', '2372032', '2366376', '2377648', '2375240', '2400776', '2379919', '2399510', '2393266', '2355231', '2328437', '2407507', '2384696', '2370796', '2390613', '2370074', '2407410', '2383871', '2359697', '2392671', '2350704', '2382887', '2369068', '2359915', '2399589', '2273556', '2395971', '2358521', '2355642', '2402857', '2373245', '2388756', '2400257', '2354571', '2342214', '2375698', '2350990', '2340364', '2390640', '2388731', '2376224', '2356760', '2377891', '2376211', '2382119', '2369672', '2213117', '2375856', '2403329', '2371696', '2404619', '2386442', '2395899', '2371901', '2354807', '2358675', '2400757', '2364370', '2388819', '2363033', '2400463', '2367779', '2365234', '2369235', '2386402', '2371916', '2406014', '2381156', '2272140', '2352038', '2405082', '2379396', '2349359', '2395510', '2240363', '2362948', '2350563', '2393195', '2368987', '2379833', '2372494', '2323525', '2392086', '2362175', '2373798', '2319095', '2392997', '2374213', '2387911', '2361030', '2388198', '2358248', '2299458', '2404801', '2289800', '2335704', '2398942', '2387960', '2351071', '2375972', '2372219', '2364825', '2398177', '2396286', '2369688', '2374474', '2402580', '2395954', '2376590', '2376120', '2391306', '2264244', '2381181', '2225630', '2379716', '2402524', '2400505', '2357021', '2385032', '2390578', '2405832', '2378635', '2402018', '2373956', '2397592', '2398587', '2389985', '2333597', '2404957', '2377343', '2392861', '2374722', '2389300', '2384613', '2383863', '2377737', '2405673', '2390259', '2351746', '2396787', '2295965', '2369843', '2349385', '2353159', '2376591', '2376436', '2230369', '1861975', '2384085', '2397916', '2407092', '1993156', '1935363', '1008080', '1531929', '1585451', '2071487', '1642888', '1313565', '1787275', '1772737', '2362650', '2400064', '2377344', '2382790', '2402438', '2397112', '2354131', '2374754', '2386135', '2367502', '2334289', '2390008', '2385973', '2399649', '2396427', '2372046', '2402315', '2373557', '2369439', '2365035', '2388521', '2357512', '2353975', '2388495', '2353181', '2372516', '2384103', '2392722', '2402202', '2367461', '2374143', '2389420', '2239298', '2369866', '2384045', '2380383', '2375849', '2356584', '2354464', '2199490', '2359019', '2362205', '2398593', '2392920', '2376902', '2374782', '2373757', '2397727', '2392883', '2369507', '2357814', '2401334', '2346576', '2400172', '2366730', '2399351', '2402462', '2403360', '2383992', '2335340', '2361049', '2374493', '2393646', '2382998', '2386817', '2353483', '2377307', '2376797', '2364498', '2399520', '2393828', '2402983', '2366795', '2350334', '2372544', '2403156', '2351787', '2349226', '2361961', '2356991', '2396552', '2383367', '2367159', '2364527', '2401199', '2401368', '2223286', '2406756', '2260593', '2377509', '2402844', '2371646', '2391147', '2402924', '2406976', '2402020', '2406684', '2363594', '2360256', '2360174', '2365920', '2386900', '2407484', '2399410', '2367929', '2366415', '2397919', '2371142', '2405538', '2397928', '2387590', '2354339', '2384152', '2241786', '2374984', '2380133', '2405918', '2311039', '2333721', '2372393', '2353612', '2407462', '2377035', '2397621', '2286790', '2385410', '2401204', '2359611', '2379162', '2376883', '2395696', '2379012', '2371736', '2334785', '2403424', '2335977', '2367254', '2363882', '2402634', '2404596', '2383264', '2404719', '2399697', '2350480', '2401922', '2363843', '2387550', '2357986', '2356865', '2407699', '2403834', '2382049', '2358246', '2407980', '2147805', '2361813', '2358998', '2360859', '2360426', '2378255', '2386112', '2362716', '2365088', '2377749', '2368935', '2379762', '2393388', '2356950', '2366015', '2391593', '2399429', '2402285', '2396962', '2401779', '2371727', '2305580', '2383416', '2391909', '2406307', '2380897', '2390985', '2372650', '2394019', '2395968', '2391134', '2367819', '2370417', '2372044', '2376875', '2374242', '2375712', '2379029', '2351102', '2349271', '2383741', '2387231', '2377075', '2368883', '2406614', '2359394', '2396365', '2376009', '2379246', '2385658', '2400304', '2393440', '2306478', '2402667', '2348851', '2404116', '2360913', '2379099', '2364854', '2351599', '2373902', '2357161', '2363553', '2371486', '2356827', '2371819', '2373435', '2352950', '2376215', '2391236', '2381203', '2342512', '2353149', '2390022', '2377048', '2232222', '2398186', '2371812', '2379504', '2381715', '2367571', '2398393', '2386745', '2403087', '2374522', '2361675', '2372922', '2349888', '2380253', '2387040', '2379914', '2397385', '2356481', '2366305', '2400158', '2405827', '2383614', '2315209', '2382292', '2375894', '2373784', '2386987', '2375702', '2387038', '2364798', '2400946', '2362679', '2388956', '2386948', '2407223', '2382433', '2356960', '2369828', '2402391', '2350536', '2383895', '2354236', '2390829', '2397653', '2356958', '2362551', '2358588', '2384015', '2390848', '2349467', '2364417', '2393852', '2400354', '2366716', '2368882', '2374261', '2241770', '2359466', '2350653', '2377599', '2367309', '2369927', '2356251', '2363060', '2392767', '2406790', '2373532', '2379049', '2363625', '2392313', '2239856', '2356789', '2396221', '2358910', '2383107', '2359905', '2350758', '2381079', '2404738', '2384557', '2387575', '2387556', '2361136', '2362771', '2353704', '2404134', '2380637', '2375203', '2364042', '2362002', '2351891', '2375882', '2407428', '2383123', '2379142', '2404235', '2352953', '2398444', '2397568', '2379457', '2393851', '2396918', '2379385', '2299948', '2406964', '2397300', '2360581', '2382828', '2403429', '2384706', '2370935', '2385306', '2378754', '2363993', '2370276', '2388066', '2391337', '2399369', '2364141', '2372840', '2355633', '2400598', '2383980', '2372007', '2358145', '2362858', '2382904', '2386306', '2394874', '2358061', '2369150', '2359339', '2376171', '2356482', '2388497', '2353536', '2270573', '2406317', '2369477', '2391931', '2377617', '2388309', '2386903', '1653407', '2358859', '2401554', '2379174', '2335867', '2379060', '2407512', '2393040', '2388668', '2375073', '2394165', '2375790', '2372145', '2382380', '2369890', '2334908', '2399654', '2359951', '2382423', '2352114', '2401121', '2399249', '2353846', '2368134', '2206509', '2393076', '2366087', '2370383', '2403421', '2372430', '2383726', '2357116', '2388435', '2373877', '2363920', '2358282', '2397713', '2388485', '2342238', '2395098', '2385158', '2390340', '2390929', '2398220', '2340352', '2397109', '2400338', '2387644', '2389527', '2376814', '2358635', '2408181', '2392865', '2358905', '2398670', '2364074', '2399545', '2393177', '2367092', '2389174', '2387391', '2371738', '2405478', '2394291', '2389010', '2349189', '2362193', '2356207', '2393489', '2397227', '2393867', '2350287', '2404000', '2367883', '2401297', '2362183', '2401322', '2375741', '2384472', '2403838', '2350771', '2403408', '2385588', '2366679', '2392385', '2403096', '2389474', '2380986', '2377353', '2403924', '2406871', '2390532', '2358557', '2361104', '2354749', '2362706', '2402639', '2382179', '2362050', '2383653', '2394513', '2366985', '2363236', '2387139', '2363489', '2372385', '2357894', '2378212', '2406673', '2386121', '2350572', '2403847', '2366288', '2371607', '2407937', '2354710', '2399706', '2325060', '2379278', '2362559', '2398508', '2396535', '2359671', '2372903', '2368429', '2341438', '2405101', '2260928', '2354247', '2362199', '2395287', '2402222', '2366336', '2386051', '2337706', '2371339', '2335142', '2356571', '2385046', '2372261', '2368497', '2285395', '2356625', '2357972', '2391043', '2378923', '2377510', '2331974', '2359411', '2383080', '2405043', '2354999', '2361545', '2380909', '2406195', '2370923', '2383073', '2381919', '2380955', '2403947', '2379089', '2395515', '2385715', '2391778', '2306107', '2384116', '2357780', '2400470', '2396460', '2355883', '2352635', '2397780', '2381172', '2348450', '2389023', '2266553', '2361520', '2374578', '2386459', '2353233', '2406189', '2371233', '2382189', '2286497', '2223743', '2363778', '2379933', '2397926', '2382994', '2367213', '2380671', '2375143', '2350346', '2403210', '2405074', '2359635', '2363722', '2393063', '2364554', '2354375', '2363609', '2366311', '2280818', '2332062', '2366366', '2386141', '2384838', '2349315', '2325488', '2384140', '2361678', '2372972', '2366526', '2376113', '2374205', '2372884', '2406473', '2398597', '2393518', '2382708', '2400235', '2375934', '2385530', '2384169', '2352628', '2359916', '2373630', '2390501', '2364064', '2360240', '2402110', '2408189', '2346197', '2370974', '2355672', '2384987', '2407158', '2358685', '2398151', '2378594', '2378102', '2397031', '2363260', '2390891', '2405864', '2350391', '2359142', '2380593', '2366443', '2400071', '2366089', '2390217', '2350638', '2406454', '2400554', '2351643', '2394007', '2372636', '2238012', '2389661', '2401678', '2386477', '2380543', '2397566', '2140547', '2365368', '2374585', '2388564', '2342756', '2351168', '2353576', '2372030', '2378535', '2353081', '2307204', '2400121', '2390162', '2408289', '2386070', '2384922', '2375913', '2261134', '2358333', '2405684', '2380007', '2398552', '2399551', '2368995', '2393840', '2364740', '2378009', '2369887', '2363273', '2354282', '2373946', '2304650', '2392332', '2362807', '2408176', '2406203', '2406699', '2375368', '2234477', '2398975', '2408120', '2386588', '2398446', '2379948', '2300031', '2316085', '2408287', '2370169', '2378089', '2246647', '2363143', '2373536', '2398757', '2380072', '2398353', '2396777', '2383945', '2389222', '2387719', '2394597', '2350722', '2372831', '2244900', '2389371', '2391507', '2407961', '2390679', '2406618', '2352208', '2362037', '2395379', '2393223', '2370939', '2394626', '2408056', '2367746', '2391523', '2361047', '2403346', '2365351', '2401276', '2391098', '2399711', '2401394', '2383258', '2385124', '2403175', '2275518', '2354916', '2406542', '2359032', '2354044', '2391124', '2406780', '2386148', '2384394', '2379056', '2318308', '2407431', '2393907', '2372926', '2266638', '2350433', '2404325', '2369655', '2362130', '2379405', '2328163', '2210939', '2313498', '2403113', '2373707', '2370152', '2396452', '2407850', '2397636', '2370858', '2370178', '2373347', '2363904', '2407936', '2371086', '2368850', '2374719', '2346979', '2376570', '2365154', '2247214', '1987030', '1999975', '1037247', '1140882', '1468838', '1113581', '1602713', '2003220', '1958745', '1605328', '1313910', '2390140', '2353070', '2327478', '2378167', '2382570', '2397104', '2398278', '2386654', '2367141', '2370360', '2371133', '2379383', '2404913', '2374894', '2369727', '2317013', '2390997', '2406787', '2355331', '2376920', '2382307', '2398602', '2398315', '2363343', '2397758', '2402904', '2393264', '2357476', '2387565', '2407317', '2199473', '2385023', '2393768', '2362353', '2379997', '2324150', '2346805', '2404269', '2399227', '2380899', '2400166', '2366361', '2367626', '2380284', '2405754', '2392103', '2393911', '2364274', '2392469', '2370632', '2361016', '2236708', '2351894', '2373464', '2394040', '2362054', '2407904', '2380915', '2380933', '2398705', '2374184', '2387651', '2373972', '2383365', '2404075', '2352564', '2387093', '2365257', '2351584', '2386944', '2227356', '2263943', '2377859', '2349787', '2348219', '2375075', '2397721', '2356685', '2389039', '2355752', '2357120', '2371665', '2368754', '2393702', '2362685', '2352652', '2366264', '2403414', '2359869', '2387559', '2383017', '2389040', '2393201', '2336065', '2399275', '2357557', '2383942', '2362630', '2376771', '2357185', '2395090', '2379466', '2359182', '2365992', '2379892', '2403546', '2404989', '2404117', '2373975', '2351009', '2398574', '2358923', '2355434', '2366954', '2388101', '2392104', '2349044', '2404597', '2366359', '2402406', '2381825', '2350963', '2388472', '2407001', '2362727', '2396816', '2407282', '2402258', '2385906', '2393157', '2403017', '2384577', '2360407', '2403831', '2375183', '2355637', '2386169', '2355347', '2377841', '2378853', '2382044', '2366459', '2372444', '2371549', '2381922', '2386413', '2365542', '2377641', '2350561', '2364116', '2404924', '2358357', '2398658', '2360253', '2408080', '2344020', '2218618', '2384421', '2385622', '2383589', '2392369', '2362005', '2404867', '2399329', '2362921', '2368411', '2398840', '2379062', '2380044', '2383074', '2400998', '2405401', '2400721', '2389619', '2162512', '2369525', '2358682', '2395465', '2405329', '2368832', '2390132', '2396543', '2355493', '2408354', '2364218', '2373982', '2362303', '2386147', '2376659', '2402799', '2376941', '2404743', '2406622', '2393145', '2383654', '2240323', '2389454', '2408088', '2392702', '2369637', '2395513', '2360857', '2365367', '2353182', '2382812', '2398369', '2367375', '2373994', '2358397', '2373885', '2397569', '2407598', '2390341', '2399826', '2397821', '2399085', '2397729', '2401499', '2399603', '2357995', '2397752', '2356909', '2394364', '2352376', '2371090', '2364651', '2388291', '2398760', '2366241', '2395818', '2404851', '2358090', '2342169', '2255576', '2360140', '2398251', '2387818', '2363365', '2404362', '2403877', '2372140', '2382739', '2399645', '2384348', '2362886', '2212510', '2365647', '2374085', '2389291', '2403714', '2373997', '2378280', '2404899', '2372920', '2352765', '2316912', '2393819', '2364946', '2407190', '2399095', '2370036', '2209978', '2375148', '2391096', '2380496', '2383480', '2159541', '2397036', '2392191', '2395479', '2358170', '2356069', '2405556', '2408416', '2351387', '2396487', '2339528', '2382309', '2352443', '2298401', '2365978', '2379573', '2361172', '2394422', '2401347', '2353817', '2371721', '2383446', '2399805', '2386755', '2397278', '2386633', '2363251', '2398643', '2406389', '2388192', '2352994', '2377149', '2399232', '2406315', '2403013', '2392393', '2351628', '2387012', '2363145', '2361071', '2383184', '2401717', '2380210', '2401155', '2393394', '2407849', '2405424', '2354855', '2399790', '2379742', '2378121', '2356303', '2351159', '2387448', '2394313', '2401451', '2352247', '2388803', '2262350', '2398671', '2378943', '2394610', '2402722', '2389155', '2349754', '2402074', '2357973', '2356752', '2371697', '2390637', '2381719', '2255144', '2376382', '2394111', '2370766', '2245764', '2383859', '2406352', '2372399', '2299728', '2382113', '2350026', '2377724', '2373760', '2179167', '2380387', '2392111', '2391348', '2400877', '2375258', '2392828', '2378519', '2340569', '2392072', '2373586', '2365518', '2372716', '2396488', '2379263', '2398458', '2369642', '2389736', '2224083', '2389308', '2294469', '2161889', '2359439', '2276616', '2354153', '2285241', '2279065', '2354600', '2384582', '2387778', '2373011', '2390296', '2388286', '2399724', '2407972', '2379069', '2384493', '2350832', '2358150', '2350388', '2349829', '2384529', '2382844', '2397632', '2404855', '2407723', '2373085', '2399549', '2368022', '2399208', '2400070', '2392847', '2364132', '2397749', '2372729', '2405106', '2359051', '2359562', '2380565', '2373774', '2404377', '2365881', '2374821', '2383342', '2339913', '2350088', '2396062', '2400567', '2359504', '2376647', '2355301', '2355870', '2379707', '2359781', '2366597', '2402317', '2381555', '2385388', '2361580', '2365469', '2395966', '2357209', '2376717', '2394065', '2398649', '2349883', '2351096', '2390504', '2392569', '2398665', '2385145', '2401856', '2373949', '2358377', '2393779', '2378859', '2349768', '2403271', '2403444', '2377815', '2357224', '2280017', '2362588', '2373716', '2370837', '2373671', '2375890', '2361958', '2349477', '2128690', '2357127', '2383842', '2360743', '2358964', '2361680', '2385963', '2371590', '2372054', '2353584', '2305408', '2349375', '2125559', '2353228', '2378769', '2315968', '2357923', '2364517', '2371545', '2401405', '2360439', '2399925', '2376995', '2356668', '2361595', '2391382', '2370606', '2375288', '2373863', '2389526', '2377063', '2381445', '2380924', '2397735', '2374772', '2373830', '2246939', '2384105', '2404977', '2303983', '2381235', '2367759', '2396005', '2365235', '2362829', '2371761', '2351256', '2362616', '2352785', '2406013', '2377589', '2407298', '2374651', '2381777', '2382052', '2367792', '2351966', '2393411', '2379445', '2362949', '2196210', '2309369', '2391121', '2400476', '2404189', '2386336', '2372112', '2370940', '2351226', '2361996', '2379186', '2390684', '2400461', '2402494', '2377808', '2357093', '2387384', '2383063', '2356766', '2375477', '2392606', '2362278', '2309822', '2356119', '2380893', '2343629', '2334025', '2372108', '2384309', '2376177', '2387080', '2364767', '2380212', '2363498', '2396471', '2353487', '2402537', '2359943', '2366483', '2371674', '2398250', '2348133', '2389357', '2362651', '2355744', '2358820', '2406393', '2357777', '2374202', '2362582', '2360027', '2399040', '2387724', '2408222', '2392730', '2400534', '2406114', '2401374', '2356712', '2396551', '2396523', '2358406', '2351832', '2349320', '2395919', '2400031', '2382064', '2407751', '2388584', '2384097', '2385716', '2376886', '2369463', '2391000', '2357573', '2379993', '2397720', '2382410', '2338766', '2375794', '2393791', '2359521', '2394307', '2364041', '2396017', '2357984', '2402397', '2406233', '2353033', '2360686', '2384600', '2396581', '2390036', '2373116', '2379731', '2371347', '2352035', '2359565', '2363126', '2357732', '2350452', '2398871', '2377684', '2383722', '2372768', '2371755', '2368895', '2361216', '2353074', '2358490', '2355307', '2366697', '2405716', '2380248', '2401857', '2386353', '2403449', '2385997', '2377019', '2369861', '2366947', '2378981', '2404290', '2359434', '2381950', '2398170', '2396066', '2372586', '2378176', '2394217', '2396627', '2401772', '2358279', '2366849', '2385171', '2386122', '2313732', '2360334', '2378901', '2350335', '2385959', '2367815', '2372340', '2376510', '2391681', '2388196', '2405264', '2387262', '2353005', '2364500', '2406748', '2390071', '2369667', '2402434', '2377978', '2349723', '2368739', '2395108', '2405835', '2405648', '2349828', '2370081', '2379712', '2374208', '2372565', '2394121', '2355964', '2393169', '2396981', '2375874', '2387214', '2367416', '2359958', '2401422', '2403452', '2384820', '2387516', '2372803', '2372799', '2379404', '2358212', '2361984', '2394617', '2400225', '2355586', '2381482', '2386445', '2393424', '2402852', '2352703', '2382065', '2384080', '2398184', '2369277', '2370322', '2384786', '2382488', '2355141', '2404944', '2366409', '2370480', '2349072', '2171209', '2399648', '2315786', '2218492', '2376514', '2374729', '2362661', '2295177', '2405870', '2388545', '2375322', '2390315', '2357624', '2376607', '2368034', '2368944', '2351974', '2354403', '2378358', '2391939', '2121392', '2365398', '2368141', '2324800', '2380575', '2350757', '2365042', '2353694', '2402520', '2403584', '2360712', '2381551', '2360552', '2372911', '2392358', '2375463', '1871835', '1891391', '2395991', '1999750', '1351991', '1502530', '2110987', '1443859', '1697899', '2163594', '1986190', '1983838', '2112690', '1962872', '1534284', '1676090', '1689277', '2370623', '2376766', '2370368', '2379674', '2356021', '2373173', '2372936', '2396785', '2364373', '2367201', '2371816', '2397461', '2349465', '2370977', '2400320', '2356746', '2397221', '2395724', '2379806', '2386665', '2363455', '2400557', '2366249', '2354406', '2396722', '2381403', '2358164', '2353627', '2376504', '2398175', '2394780', '2401388', '2301370', '2374432', '2381269', '2399021', '2368095', '2404602', '2366579', '2379454', '2368515', '2393740', '2372254', '2390313', '2367154', '2351190', '2388450', '2394557', '2366804', '2385986', '2354026', '2368473', '2381533', '2303678', '2359357', '2178595', '2351972', '2365135', '2352395', '2388006', '2383032', '2363830', '2360566', '2404344', '2369645', '2405480', '2360099', '2400723', '2407464', '2332341', '2400391', '2401370', '2279712', '2374421', '2358564', '2356608', '2401939', '2401645', '2372564', '2359004', '2397014', '2355435', '2356246', '2402114', '2373928', '2404625', '2368912', '2356907', '2366327', '2356418', '2349297', '2363158', '2350841', '2406850', '2306130', '2366093', '2262876', '2363879', '2400775', '2357941', '2385580', '2354288', '2392665', '2407095', '2350581', '2393876', '2385995', '2400429', '2379384', '2398862', '2343625', '2371031', '2376726', '2405218', '2361342', '2350146', '2408034', '2375678', '2372828', '2404507', '2388918', '2350564', '2403374', '2395328', '2399069', '2384809', '2386030', '2406355', '2406447', '2365400', '2385440', '2389455', '2385688', '2397679', '2387760', '2309365', '2375083', '2357316', '2379249', '2361164', '2367547', '2357993', '2364809', '2375177', '2352644', '2368937', '2372099', '2402801', '2275100', '2381612', '2381748', '2368495', '2244174', '2381880', '2343961', '2370087', '2377817', '2378449', '2384993', '2286554', '2383197', '2380216', '2388023', '2366001', '2348482', '2358534', '2351991', '2378480', '2399767', '2371193', '2354387', '2401468', '2406456', '2372306', '2383332', '2386629', '2392491', '2393854', '2295989', '2397528', '2375897', '2408259', '2407953', '2394572', '2402478', '2400925', '2396400', '2407755', '2391185', '2363564', '2384563', '2391135', '2395536', '2357736', '2389041', '2406167', '2407786', '2376247', '2353939', '2391052', '2352349', '2364053', '2379750', '2356722', '2407079', '2355031', '2398570', '2360813', '2352335', '2398007', '2248464', '2360713', '2385469', '2403211', '2353128', '2296093', '2374309', '2405513', '2401974', '2349991', '2382268', '2351856', '2402341', '2370964', '2368504', '2394905', '2174400', '2341942', '2356061', '2377293', '2365680', '2384007', '2382554', '2405150', '2402668', '2372394', '2314850', '2237346', '2349817', '2368857', '2385802', '2360757', '2405225', '2367749', '2401720', '2358852', '2372113', '2382047', '2395079', '2366647', '2350399', '2391123', '2389422', '2373646', '2405171', '2407843', '2386734', '2406254', '2385431', '2367738', '2407571', '2355748', '2372368', '2404014', '2395533', '2388234', '2369317', '2372709', '2361184', '2363262', '2399274', '2353650', '2388269', '2394756', '2367113', '2374446', '2356884', '2327126', '2390399', '2373232', '2393224', '2398623', '2319106', '2403464', '2408059', '2355762', '2355868', '2392225', '2400714', '2350185', '2357693', '2385579', '2367808', '2273404', '2377009', '2360235', '2315473', '2361222', '2405103', '2391392', '2396437', '2355394', '2351769', '2352070', '2399926', '2401475', '2387715', '2379982', '2370607', '2386748', '2386934', '2377666', '2394272', '2399399', '2406308', '2375283', '2349466', '2353771', '2376444', '2359687', '2369234', '2384364', '2374851', '2385022', '2392467', '2364013', '2380235', '2355626', '2402630', '2372159', '2374214', '2394003', '2392036', '2371661', '2353177', '2355204', '2380299', '2370583', '2371428', '2373299', '2359129', '2350468', '2369646', '2399633', '2378776', '2381125', '2350119', '2351848', '2369933', '2340263', '2403180', '2400931', '2350715', '2406300', '2408070', '2367214', '2396371', '2391725', '2371228', '2354605', '2227478', '1817770', '1874749', '2383511', '2366045', '2370686', '2398539', '2364504', '2383518', '2393072', '2383594', '2391398', '2374829', '2371379', '2385513', '2358813', '2354373', '2386602', '2398046', '2388504', '2397029', '2382188', '2380600', '2389005', '2372459', '2390365', '2353884', '2371758', '2400254', '2403487', '2377829', '2298151', '2384014', '2349560', '2391001', '2385137', '2359078', '2362970', '2405699', '2394849', '2373379', '2374921', '2379999', '2384351', '2389247', '2331408', '2374509', '2405463', '2373844', '2375159', '2377862', '2384196', '2387808', '2376753', '2354245', '2379662', '2387639', '2352830', '2379973', '2397232', '2380667', '2350449', '2372412', '2408393', '2388002', '2382078', '2399308', '2385270', '2383086', '2395551', '2363244', '2398937', '2264917', '2400488', '2390429', '2399859', '2390754', '2365968', '2403130', '2388856', '2383461', '2373274', '2394828', '2383451', '2406688', '2368102', '2394274', '2373816', '2391995', '2406714', '2366278', '2394219', '2154634', '2372697', '2404468', '1432260', '2372658', '2380106', '2352637', '2404805', '2379177', '2369253', '2401387', '2376603', '2151513', '2401740', '2379046', '2391333', '2396490', '2364659', '2406438', '2380115', '2384683', '2355995', '2400259', '2370133', '2357205', '2392171', '2358267', '2370573', '2368623', '2361723', '2379467', '2356223', '2364893', '2390387', '2358722', '2372417', '2374106', '2388388', '2375861', '2377440', '2381949', '2365777', '2373633', '2393129', '2398201', '2368997', '2351453', '2370433', '2369009', '2297572', '2359704', '2379765', '2389880', '2372881', '2400398', '2370585', '2377547', '2401816', '2357351', '2218532', '2391161', '2368280', '2371365', '2401255', '2402284', '2390230', '2345388', '2380143', '2379129', '2405615', '2402122', '2389459', '2373934', '2376344', '2403521', '2385211', '2372089', '2364904', '2371184', '2382987', '2391571', '2351298', '2378927', '2387905', '2397274', '2393845', '2368514', '2380240', '2403111', '2400438', '2379328', '2358886', '2397606', '2383031', '2373275', '2399871', '2362801', '2373253', '2392494', '2393368', '2377777', '2402175', '2369946', '2350586', '2368080', '2392299', '2374264', '2206430', '2391459', '2369713', '2341626', '2375757', '2397107', '2378309', '2394620', '2375755', '2388797', '2374167', '2402319', '2394628', '2384476', '2405116', '2399290', '2408220', '2355676', '2391806', '2370369', '2364428', '2333225', '2377930', '2398417', '2336875', '2406753', '2396509', '2375806', '2391548', '2405780', '2371970', '2395022', '2359975', '2369775', '2363344', '2380557', '2359669', '2382120', '2368699', '2364909', '2390807', '2334854', '2350072', '2386487', '2392375', '2372869', '2363800', '2385048', '2317232', '2408337', '2365633', '2376998', '2376540', '2394160', '2377591', '2349420', '2400901', '2354054', '2396632', '2364025', '2366341', '2377166', '2323947', '2400034', '2388210', '2385989', '2378935', '2407472', '2367049', '2367190', '2335426', '2395648', '2384999', '2405863', '2407242', '2334259', '2364902', '2386143', '2406938', '2384497', '2349433', '2399389', '2404206', '2268270', '2400617', '2367856', '2405751', '2396943', '2351704', '2368866', '2406538', '2384385', '2385412', '2367650', '2359216', '2359758', '2395103', '2349269', '2406297', '2385602', '2354144', '2366695', '2372010', '2376828', '2401449', '2394903', '2385260', '2335855', '2362058', '2405819', '2373307', '2371796', '2363511', '2351943', '2372226', '1930470', '2370700', '2392139', '2382101', '2354692', '2396359', '2378991', '2396801', '2203383', '2384410', '2395065', '2398967', '2402470', '2324704', '2379439', '2380588', '2376861', '2299540', '2394955', '2366211', '2374957', '2398253', '2404385', '2389412', '2403972', '2354289', '2367136', '2353439', '2372031', '2373006', '2399752', '2394841', '2393186', '2400223', '2186615', '2359971', '2356460', '2376144', '2355360', '2352156', '2354910', '2378237', '2398777', '2379734', '2372390', '2378608', '2375372', '2358714', '2405382', '2376417', '2306731', '2357762', '2363641', '2202614', '2373356', '2408328', '2349126', '2394935', '2372253', '2394545', '2385430', '2385729', '2383500', '2339415', '2407070', '2337868', '2356156', '2359861', '2405485', '2398499', '2362141', '2359267', '2351121', '2350550', '2360683', '2357858', '2355176', '2390067', '2368767', '1815528', '2266095', '2400462', '1946311', '1226236', '2052333', '1263599', '1276267', '1562843', '2099901', '2057251', '2099530', '2395642', '2379575', '2385065', '2395404', '2398968', '2255281', '2387805', '2393610', '2400523', '2403302', '2356841', '2391515', '2389400', '2383593', '2378881', '2299967', '2362778', '2357516', '2384109', '2367782', '2358914', '2391282', '2388036', '2339028', '2284419', '2395652', '2364385', '2366130', '2387388', '2351942', '2356414', '2383043', '2387619', '2358180', '2384231', '2369401', '2357041', '2392446', '2354394', '2390489', '2398451', '2383290', '2272774', '2379028', '2370873', '2362452', '2349904', '2384893', '2371516', '2379871', '2377018', '2394892', '2383917', '2398370', '2397783', '2394747', '2388628', '2383109', '2388237', '2393325', '2395374', '2400443', '2382294', '2388411', '2364884', '2356702', '2375277', '2385101', '2378114', '2373420', '2398524', '2376901', '2382915', '2407485', '2369829', '2381729', '2366072', '2354226', '2400019', '2406698', '2368589', '2304011', '2407721', '2356289', '2400840', '2379091', '2362701', '2383327', '2376979', '2390187', '2373672', '2363605', '2365014', '2299672', '2360435', '2360002', '2368528', '2358617', '2403038', '2374180', '2380035', '2337936', '2381071', '2349977', '2384001', '2358227', '2360869', '2399677', '2363046', '2382504', '2397467', '2396915', '2390235', '2382372', '2396114', '2353639', '2374111', '2395938', '2339517', '2348066', '2390267', '2366196', '2400558', '2359820', '2388711', '2405248', '2371417', '2386816', '2313985', '2396002', '2356370', '2400296', '2401743', '2382186', '2349270', '2314028', '2357379', '2397681', '2388462', '2396589', '2405730', '2392507', '2371408', '2378890', '2404469', '2342128', '2404724', '2391105', '2360943', '2362143', '2359900', '2351818', '2372843', '2349871', '2330231', '2389939', '2316835', '2367871', '2404380', '2356323', '2374903', '2399029', '2358487', '2292309', '2323911', '2407805', '2407541', '2373649', '2364532', '2281528', '2361315', '2401146', '2354937', '2391508', '2368911', '2364194', '2140660', '2368019', '2397374', '2387380', '2357996', '2386807', '2367949', '2403375', '2383269', '2367250', '2360380', '2404835', '2401249', '2385827', '2375973', '2385880', '2389231', '2397540', '2395913', '2398245', '2353492', '2367541', '2400710', '2406987', '2375815', '2408372', '2397984', '2385484', '2350601', '2384073', '2394760', '2380910', '2384505', '2306220', '2370645', '2363893', '2394766', '2390545', '2301739', '2379182', '2370295', '2383005', '2329625', '2396406', '2304904', '2389793', '2388421', '2380020', '2400120', '2359539', '2378025', '2358804', '2356808', '2368252', '2405359', '2350256', '2380051', '2393894', '2315716', '2389950', '2358761', '2353082', '2383786', '2372630', '2396840', '2360126', '2362241', '2390906', '2407554', '2291598', '2388611', '2282254', '2396851', '2350499', '2387666', '2366422', '2398914', '2369031', '2405227', '2401684', '2407027', '2359837', '2356879', '2372071', '2405068', '2405345', '2401982', '2392109', '2364268', '2176583', '2388018', '2393884', '2365416', '2398739', '2364376', '1501778', '2370971', '2382363', '2384164', '2390559', '2374505', '2361920', '2395703', '2403389', '2397706', '2387097', '2383815', '2386914', '2366493', '2366063', '2380322', '2372832', '2256204', '2397799', '2384334', '2360951', '2380016', '2402922', '2368539', '2405888', '2377550', '2380806', '2385796', '2367992', '2379468', '2371487', '2350838', '2367268', '2344816', '2349550', '2378840', '2359313', '2180260', '2395450', '2389855', '2314882', '2377414', '2394089', '2198890', '2349903', '2358096', '2399886', '2396298', '2372603', '2351574', '2401806', '2361649', '2369626', '2373065', '2383720', '2365745', '2361368', '2361391', '2387953', '2387984', '2374973', '2288512', '2362033', '2407021', '2358785', '2319791', '2357912', '2385992', '2369743', '2371007', '2373509', '2350120', '2386525', '2389844', '2380331', '2345085', '2355214', '2353755', '2395117', '2381735', '2397435', '2378130', '2407528', '2385477', '2398883', '2351529', '2401927', '2397777', '2273041', '2383577', '2374343', '2332242', '2356899', '2405032', '2356507', '2407421', '2351391', '2355918', '2367806', '2380803', '2388105', '2360781', '2387505', '2371831', '2388771', '2381085', '2387125', '2397596', '2408309', '2371927', '2407736', '2370466', '2368377', '2370685', '2336907', '2392663', '2358817', '2361012', '2396372', '2404634', '2406358', '2380077', '2359501', '2394041', '2359866', '2381063', '2364168', '2366901', '2253011', '2405763', '2389003', '2369366', '2362965', '2398855', '2387151', '2355045', '2199281', '2366910', '2290787', '2378000', '2371257', '2408227', '2370304', '2380068', '2402765', '2387022', '2366747', '2374360', '2404770', '2402970', '2357585', '2401290', '2375690', '2372075', '2407101', '2356821', '2373130', '2376336', '2398273', '2359818', '2399058', '2405501', '2405564', '2351907', '2332253', '2386094', '2356022', '2404799', '2404415', '2382628', '2354552', '2394246', '2402357', '2402833', '2320981', '2363653', '2358245', '2380975', '2343763', '2354329', '2397654', '2352027', '2377655', '2391369', '2357496', '2364850', '2369576', '2373390', '2375286', '2376926', '2387138', '2356918', '2401969', '2365069', '2399302', '2363225', '2370549', '2382037', '2385184', '2374268', '2373736', '2374814', '2390560', '2380930', '2394140', '2402710', '2323502', '2250370', '2398297', '2404387', '2382019', '2407603', '2394351', '2397859', '2383263', '2406997', '2394168', '2358792', '2368611', '2378270', '2392263', '2378819', '2377145', '2395334', '2359940', '2400255', '2402589', '2405143', '2390551', '2385096', '2387371', '2302295', '2387158', '2392249', '2399328', '2390138', '2394585', '2384611', '2383684', '2367927', '2367128', '2402163', '2405798', '2371510', '2362179', '2291962', '2377144', '2391490', '2388276', '2397514', '2378139', '2372053', '2394836', '2382240', '2381737', '2381212', '2360195', '2365827', '2230197', '2357431', '2366973', '2400837', '2258349', '2388740', '2370026', '2396304', '2370346', '2369918', '2394506', '2370288', '2364396', '2358087', '2393254', '2397574', '2362806', '2364112', '2407024', '2377211', '2382135', '2383062', '2360651', '2385831', '2399656', '2350537', '2393571', '2404464', '2394214', '2398104', '2375532', '2384434', '2354107', '2406846', '2372189', '2392511', '2399539', '2401457', '2369577', '2407551', '2356524', '2267109', '2374918', '2367807', '2379633', '2379805', '2375000', '2408063', '2155870', '2398505', '2403707', '2390101', '2350362', '2402308', '2405452', '2404742', '2372354', '2365460', '2366183', '2149697', '2388305', '2369403', '2376254', '2368719', '2352981', '2404621', '2396614', '2359767', '2361392', '2300266', '2319771', '2381821', '2331442', '2375276', '2312425', '2382825', '2396577', '2352034', '2360381', '2357136', '2393716', '2384693', '2350887', '2402080', '2387517', '2379100', '2387961', '2391526', '2407152', '2358366', '2385677', '2385991', '2351916', '2371801', '2383227', '2397081', '2397297', '2402931', '2385813', '2391840', '2281132', '2362191', '2370494', '2361919', '2374507', '2363784', '2393200', '2407384', '2370108', '2394097', '2351659', '2367763', '2388229', '2360470', '2367438', '2366810', '2394128', '2397116', '2400422', '2407076', '2380882', '2404502', '2391434', '2405064', '2392555', '2391989', '2402299', '2387551', '2357366', '2392247', '2388325', '2404084', '2393569', '2370720', '2285987', '2404454', '2379845', '2356108', '2358940', '2388441', '2364855', '2354397', '2396278', '2365814', '2386361', '2374811', '2362803', '2405386', '2350033', '2378989', '2241281', '2273711', '2362043', '2382893', '2205610', '2369197', '2377484', '2384589', '2401463', '2388902', '2392008', '2376119', '2283562', '2368787', '2371251', '2349981', '2373756', '2404820', '2381291', '2376439', '2356464', '2359464', '2377647', '2385718', '2378446', '2363107', '2343839', '2364276', '2357464', '2372742', '2385365', '2374808', '2372293', '2405933', '2391214', '2330595', '2351956', '2365106', '2365015', '2367004', '2355901', '2388173', '2354004', '2397732', '2394391', '2358034', '2378585', '2371135', '2383068', '2266649', '2392293', '2385490', '2351720', '2398804', '2378709', '2394476', '2376343', '2405997', '2393160', '2397934', '2321514', '2388728', '2372262', '2391418', '2360709', '2403181', '2363948', '2399091', '2378837', '2405593', '2357802', '2298460', '2353222', '2404762', '2384175', '2291464', '2394226', '2401878', '2377543', '2382927', '2398558', '2397368', '2351778', '2350833', '2001392', '1427314', '1702924', '1109352', '1285753', '1089856', '1019132', '1923178', '1169880', '1688301', '1346474', '1774185', '2360063', '2402679', '2407150', '2171351', '2389109', '2391574', '2402851', '2407662', '2351809', '2397940', '2247050', '2396333', '2357196', '2396800', '2303398', '2386450', '2394133', '2306441', '2363939', '2371368', '2375594', '2407608', '2394196', '2368414', '2367162', '2393318', '2387945', '2377103', '2370131', '2408443', '2369013', '2347832', '2387900', '2406570', '2406600', '2380353', '2388376', '2227803', '2362908', '2135892', '2369801', '2400280', '2358342', '2359091', '2407616', '2350671', '2380971', '2369246', '2323005', '2367922', '2274910', '2305935', '2358481', '2362584', '2357151', '2384930', '2388170', '2399877', '2393205', '2378190', '2404360', '2360447', '2406344', '2339967', '2382679', '2403879', '2355353', '2361245', '2356260', '2376749', '2359440', '2351871', '2290506', '2349612', '2390882', '2397993', '2379669', '2362754', '2397779', '2403430', '2341686', '2336583', '2376252', '2390148', '2376818', '2336745', '2375585', '2380313', '2389088', '2372645', '2391013', '2392814', '2313737', '2406479', '2392579', '2383987', '2383868', '2398181', '2394241', '2390652', '2406526', '2403732', '2397434', '1581509', '2362289', '2390396', '2367916', '2399488', '2391491', '2369822', '2385235', '2373879', '2405804', '2384586', '2400344', '2364607', '2391765', '2376686', '2401420', '2382933', '2325849', '2395903', '2351494', '2368009', '2382351', '2198096', '2393064', '2375954', '2356673', '2372389', '2393517', '2372049', '2371444', '2129399', '2404483', '2386969', '2354470', '2359721', '2367255', '2366604', '2351878', '2121264', '2360655', '2393632', '2387342', '2282110', '2389754', '2399766', '2400796', '2349389', '2355542', '2377827', '2316421', '2367145', '2405184', '2356639', '2385139', '2385972', '2385690', '2374239', '2351645', '2354372', '2391545', '2369787', '2376501', '2401109', '2396360', '2403862', '2353577', '2359536', '2378417', '2393331', '2407647', '2371127', '2399552', '2397555', '2369064', '2363154', '2401896', '2310734', '2343842', '2402318', '2390412', '2351224', '2394251', '2389910', '2385850', '2355122', '2365838', '2400808', '2385471', '2392428', '2374488', '2356127', '2401793', '2403626', '2376499', '2353866', '2392368', '2372062', '2359115', '2363070', '2379766', '2387407', '2364918', '2384137', '2398638', '2351866', '2354045', '2368938', '2389137', '2403746', '2405093', '2357830', '2362953', '2363042', '2386966', '2361378', '2403419', '2366277', '2363031', '2375350', '2395861', '2356638', '2351948', '2385819', '2355508', '2367919', '2356975', '2370110', '2378775', '2329939', '2388328', '2395529', '2363969', '2372146', '2354556', '2348711', '2373266', '2353125', '2369715', '2364832', '2371392', '2391532', '2355017', '2404010', '2357974', '2365026', '2393022', '2360765', '2364201', '2361264', '2384822', '2387235', '2392502', '2367640', '2343660', '2404493', '2391876', '2357410', '2406937', '2272638', '2359708', '2401375', '2380609', '2354425', '2360914', '2362297', '2368052', '2371094', '2403478', '2366448', '2384732', '2370284', '2384642', '2335439', '2385826', '2398192', '2373279', '2289829', '2363125', '2379164', '2170113', '2393628', '2365482', '2390874', '2352814', '2385047', '2323206', '2398823', '2357799', '2369854', '2395958', '2351846', '2383862', '2366833', '2391439', '2381674', '2367503', '2367610', '2401454', '2401633', '2407573', '2408082', '2395542', '2386939', '2369287', '2370356', '2366337', '2388891', '2372710', '2365747', '2355736', '2408260', '2385912', '2357917', '2379277', '2373965', '2356163', '2391471', '2379562', '2380904', '2385209', '2358209', '2392089', '2377086', '2367985', '2368927', '2390911', '2354867', '2360570', '2402013', '2354503', '2368975', '2358459', '2365963', '2347874', '2376206', '2380532', '2359270', '2391154', '2350424', '2370819', '2379988', '2359272', '2357285', '2398637', '2405683', '2387082', '2349311', '2391685', '2363252', '2376850', '2374348', '2281936', '2382973', '2357948', '2139290', '2393252', '2373475', '2371494', '2395530', '2404537', '2357813', '2355093', '2370831', '2363162', '2356957', '2378791', '2398645', '2354718', '2360011', '2406423', '2396493', '2350051', '2389512', '2368679', '2374962', '2390584', '2367899', '2362274', '2408376', '2402616', '2362150', '2406452', '2376084', '2400494', '2379345', '2362411', '2371954', '2404019', '2360286', '2370387', '2370496', '2392106', '2313331', '2393365', '2351821', '2396858', '2388456', '2371995', '2371189', '2376872', '2372522', '2262191', '2373814', '2393330', '2384328', '2375971', '2382420', '2371668', '2369616', '2362610', '2365430', '2390472', '2403871', '2377898', '2373204', '2366057', '2263363', '2394528', '2394437', '2373894', '2402692', '2358992', '2392683', '2390922', '2378786', '2399401', '2391923', '2396642', '2356769', '2381413', '2379016', '2395056', '2309818', '2358746', '2369025', '2345923', '2385085', '2390193', '2381082', '2126225', '2373709', '2388575', '2402663', '2402503', '2395352', '2358297', '2363975', '2335567', '2402748', '2363986', '2370393', '2164239', '2372993', '2382038', '2382822', '2402928', '2383362', '2391181', '2355416', '2357976', '2382916', '2229499', '2373924', '2372620', '2394596', '2351135', '2395659', '2405758', '2358120', '2378479', '2387208', '2376546', '2365572', '2372526', '2400293', '2393084', '2376939', '2383585', '2385606', '2388247', '2363701', '2364230', '2381650', '2404353', '2390909', '2367740', '2374936', '2367989', '2400985', '2384129', '2394855', '2379692', '2384021', '2405640', '2366829', '2359667', '2382838', '2353998', '2406807', '2369097', '2365280', '2404610', '2407335', '2381229', '2369092', '2378423', '2407828', '2373096', '2349748', '2408191', '2367707', '2349208', '2359062', '2400744', '2395394', '2358098', '2408278', '2399808', '2342591', '2378117', '2387816', '2368831', '2350981', '2360769', '2357850', '2257582', '2382368', '2378948', '2383567', '2362182', '2355168', '2403094', '2359903', '2408384', '2364761', '2397548', '2391815', '2362966', '2351854', '2382331', '2384920', '2384369', '2403517', '2282189', '2405620', '2397964', '2399652', '2403505', '2380951', '2365842', '2333962', '2392601', '2382312', '2372786', '2398379', '2185858', '2138546', '2368271', '2308432', '2361933', '2361757', '2386916', '2376908', '2396892', '2374652', '2396332', '2370537', '2383655', '2360051', '2384406', '2366290', '2379163', '2405636', '2403737', '2360777', '2382527', '2393048', '2396997', '2260409', '2370857', '2342193', '2376890', '2390790', '2374731', '2376356', '2394444', '2401509', '2407812', '2391748', '2377922', '2398694', '2383498', '2352907', '2354550', '2363958', '2364135', '2362977', '2397431', '2401182', '2359481', '2339576', '2213796', '2396281', '2397644', '2390116', '2393647', '2377135', '2376011', '2362213', '2349435', '2401373', '2384275', '2362024', '2406644', '2355631', '2373067', '2390292', '2386536', '2365029', '2377936', '2374190', '2371445', '2351792', '2395635', '2362121', '2365507', '2392059', '2405897', '2394716', '2371410', '2368610', '2362577', '2395884', '2178727', '2387095', '2372272', '2150534', '2370042', '2287354', '2399720', '2372011', '2256117', '2359642', '2387317', '2405886', '2354217', '2350994', '2358099', '2373954', '2366378', '2403284', '2393606', '2383483', '2396781', '2404416', '2364699', '2377671', '2384457', '2388767', '2403363', '2356561', '2391960', '2371237', '2388285', '2383053', '2350725', '2315568', '2372940', '2386240', '2385594', '2392552', '2398960', '2373034', '2350281', '2366928', '2351843', '2402041', '2401886', '2372193', '2371859', '2405343', '2397849', '2386513', '2366835', '2352487', '2394926', '2354896', '2403149', '2392553', '2406710', '2378289', '2357061', '2381965', '2390729', '2384760', '2400676', '2366958', '2376456', '2376802', '2362181', '2395440', '2392645', '2380088', '2363470', '2406737', '2390904', '2382541', '2372617', '2369965', '2402677', '2403365', '2387473', '2346789', '2378968', '2352536', '2339008', '2240044', '1968917', '1286572', '2048512', '1343341', '1306971', '1443700', '1506588', '1987645', '1706535', '1513131', '2110146', '2067685', '2173930', '2358649', '2405748', '2361267', '2372593', '2366006', '2396391', '2395270', '2397798', '2355782', '2354268', '2396979', '2407738', '2371716', '2369511', '2350719', '2364858', '2357372', '2352962', '2395468', '2400179', '2401745', '2374492', '2376392', '2386241', '2355641', '2364676', '2363427', '2386740', '2360873', '2369680', '2398776', '2364079', '2364172', '2341344', '2384380', '2365371', '2370206', '2394700', '2388045', '2390398', '2359939', '2393232', '2390927', '2354237', '2368940', '2408338', '2364065', '2378501', '2358592', '2354509', '2363027', '2380300', '2371912', '2375607', '2399680', '2377709', '2368861', '2399017', '2366124', '2402781', '2388367', '2364082', '2370916', '2374834', '2392420', '2386968', '2375908', '2383311', '2375936', '1684002', '2399042', '2369930', '2364945', '2355665', '2381354', '2366076', '2393426', '2398744', '2358937', '2357442', '2357505', '2394879', '2366562', '2396621', '2355974', '2360865', '2407871', '2400930', '2352338', '2381176', '2349313', '2373292', '2268709', '2377929', '2369573', '2371472', '2351098', '2391126', '2353064', '2376105', '2354231', '2367764', '2357759', '2374797', '2303396', '2349368', '2363286', '2387397', '2362354', '2251659', '2349782', '2374361', '2393216', '2384076', '2387489', '2389276', '2400984', '2371777', '2404657', '2407890', '2390431', '2404495', '2392490', '2372036', '2371541', '2334664', '2376555', '2376134', '2395638', '2372896', '2373665', '2369095', '2369488', '2356831', '2372801', '2402757', '2280034', '2387418', '2316213', '2379835', '2397563', '2380657', '2372990', '2349333', '2400972', '2346846', '2397128', '2384560', '2350477', '2368889', '2398346', '2384416', '2379307', '2290251', '2354755', '2377712', '2358299', '2391206', '2403747', '2359199', '2351784', '2369385', '2353083', '2269231', '2352346', '2351507', '2370566', '2365857', '2362501', '2402839', '2288561', '2377800', '2376133', '2385039', '2395004', '2390536', '2359294', '2403939', '2385416', '2390260', '2388312', '2382453', '2363831', '2405614', '2339714', '2355188', '2386084', '2378865', '2374377', '2355911', '2352033', '2408010', '2398476', '2373487', '2401309', '2316383', '2407611', '2358866', '2374048', '2398280', '2367849', '2384146', '2397113', '2402643', '2378242', '2353467', '2401265', '2396051', '2396586', '2398837', '2365228', '2399594', '2390246', '2391239', '2399895', '2370897', '2349569', '2396464', '2392283', '2365310', '2398680', '2400455', '2355244', '2356743', '2344400', '2385932', '2406603', '2406365', '2366794', '2380579', '2402883', '2404352', '2365024', '2357889', '2406690', '2375653', '2404933', '2373466', '2366683', '2393494', '2355276', '2398176', '2378324', '2301959', '2387249', '2402281', '2401967', '2406944', '2363532', '2356038', '2379876', '2361547', '2389230', '2372921', '2277726', '2359936', '2390088', '2383563', '2404824', '2353785', '2385215', '2408138', '2353059', '2384792', '2365874', '2407728', '2391064', '2375917', '2397532', '2375606', '2386760', '2402892', '2358243', '2407230', '2325694', '2400860', '2286719', '2404776', '2367672', '2399480', '2402289', '2376216', '2393522', '2395786', '2377405', '2389809', '2366569', '2380446', '2403712', '2367155', '2373652', '2364484', '2353308', '2359911', '2362237', '2397590', '2350534', '2381944', '2264985', '2364454', '2396843', '2391248', '2376737', '2352321', '2388535', '2372284', '2362698', '2358721', '2384284', '2354392', '2384967', '2318362', '2398654', '2390146', '2377335', '2379220', '2379682', '2370250', '2363522', '2355923', '2363988', '2402548', '2359230', '2361301', '2362848', '2374718', '2350052', '2364959', '2335386', '2395261', '2398635', '2394295', '2393948', '2405867', '2364891', '2378812', '2382008', '2368655', '2273889', '2404800', '2386123', '2375831', '2393479', '2377038', '2369199', '2369621', '2367258', '2394180', '2398644', '2406729', '2369080', '2363779', '2384945', '2362912', '2354390', '2364149', '2269354', '2366836', '2393020', '2401531', '2261374', '2391944', '2361761', '2365316', '2389277', '2373799', '2327930', '2389879', '2323174', '2374911', '2386749', '2368776', '2378900', '2301435', '2401256', '2352359', '2349252', '2376632', '2365464', '2351575', '2368616', '2396955', '2358673', '2350765', '2400647', '2364557', '2383821', '2335349', '2371835', '2221978', '2401665', '2349783', '2371130', '2405148', '2396070', '2358535', '2389839', '2387096', '2389183', '2407090', '2398632', '2317684', '2401920', '2400889', '2393469', '2385367', '2361228', '2383261', '2367078', '2368934', '2383919', '2398484', '2350401', '2399107', '2375707', '2400437', '2343886', '2364169', '2390833', '2389580', '2384866', '2398616', '2185092', '2370390', '2400992', '2408043', '2376164', '2350566', '2349261', '2404211', '2399317', '2377121', '2395783', '2365996', '2407713', '2391217', '2359777', '2366304', '2384065', '2382050', '2338521', '2407120', '2407970', '2394953', '2364974', '2367765', '2381487', '2362526', '2381420', '2124749', '2375964', '2379810', '2366617', '2378938', '2365736', '2359811', '2179829', '2358878', '2400165', '2305475', '2403778', '2352531', '2360399', '2365346', '2357225', '2362255', '2351944', '2352435', '2378083', '2369648', '2399414', '2379443', '2365931', '2378578', '2369024', '2373680', '2351129', '2353504', '2374211', '2382912', '2372932', '2375660', '2372804', '2380346', '2406662', '2383221', '2383069', '2403166', '2362742', '2376528', '2379074', '2395195', '2338564', '2397733', '2358728', '1480680', '2390599', '2369499', '2364212', '2368289', '2353744', '2363217', '2387114', '2390164', '2403436', '2401330', '2365053', '2374259', '2393554', '2350549', '2392512', '2366391', '2361812', '2377044', '2282799', '2347828', '2383870', '2406764', '2378327', '2404703', '2392962', '2389877', '2379888', '2349117', '2358615', '2398439', '2364092', '2389178', '2407594', '2364167', '2382012', '2408095', '2390240', '2308092', '2371555', '2362960', '2382956', '2381026', '2380469', '2376221', '2389936', '2364650', '2363230', '2404535', '2386403', '2392771', '2355979', '2393188', '2405999', '2395406', '2407418', '2362422', '2397520', '2384330', '2378732', '2365419', '2401988', '2402304', '2372278', '2393274', '2390582', '2405473', '2360138', '2392822', '2367385', '2366644', '2390733', '2364871', '2361226', '2359226', '2405277', '2374422', '2408214', '2374408', '2384921', '2407778', '2342015', '2400450', '2392390', '2393666', '2334597', '2353355', '2352493', '2407623', '2325779', '2395421', '2355040', '2362510', '2399853', '2404874', '2400959', '2362644', '2392496', '2379003', '2402094', '2407780', '2385790', '2388885', '2387769', '2401867', '2360547', '2392271', '2254787', '2373136', '2386045', '2398445', '2374687', '2350421', '2365867', '2391197', '2357083', '2377069', '2354573', '2391017', '2382967', '2401291', '2362341', '2359310', '2370139', '2373058', '2125968', '2387182', '2404544', '2387710', '2352389', '2375100', '2349874', '2398965', '2371856', '2377568', '2333005', '2365848', '2400351', '2302548', '2368991', '2350888', '2389258', '2376075', '2393763', '2375886', '2379617', '2403882', '2400812', '2366192', '2367951', '2393879', '2350913', '2404251', '2389917', '2365082', '2349960', '2399755', '2349260', '2386782', '2391675', '2367797', '2400618', '2374342', '2396888', '2384145', '2396702', '2352180', '2389466', '2373115', '2360910', '2358952', '2388110', '2389491', '2400621', '2390783', '2353622', '2331930', '2362488', '2397012', '2369412', '2401673', '2310846', '2403694', '2354563', '2356897', '2373403', '2357571', '2392458', '2398303', '2363206', '2363294', '2380822', '2366345', '2399516', '2382586', '2400712', '2407538', '2333513', '2400489', '2370758', '2369934', '2382477', '2374518', '2363188', '2406223', '2394882', '2386952', '2406153', '2365720', '2373631', '2359650', '2353079', '2388555', '2221005', '2383281', '2371033', '2390453', '2354562', '2400210', '2381694', '2365657', '2400789', '2386540', '2381960', '2351906', '2371328', '2379486', '2403812', '2407022', '2386077', '2391793', '2377163', '2389295', '2361182', '2274933', '2351741', '2352370', '2371827', '2384347', '2384418', '2400790', '2390196', '2406029', '2399173', '2392554', '2381346', '2379709', '2359892', '2355099', '2196820', '2396171', '2366791', '2249735', '2264836', '2229180', '2381400', '1639873', '1524010', '1664310', '1265302', '1138774', '1655268', '1639763', '2182534', '2375184', '2354347', '2370371', '2394299', '2349552', '2370043', '2356866', '2363527', '2256073', '2363694', '2380818', '2304159', '2372303', '2355215', '2378271', '2376781', '2398748', '2307383', '2381387', '2377721', '2371008', '2397630', '2386524', '2359593', '2390238', '2373675', '2355196', '2388029', '2365032', '2397622', '2361085', '2379214', '2402419', '2387640', '2382801', '2388179', '2384761', '2397690', '2364095', '2358360', '2406921', '2397741', '2376952', '2384046', '2386159', '2407539', '2407568', '2385894', '2393255', '2364358', '2306754', '2379710', '2378503', '2406210', '2374837', '2364321', '2398415', '2382611', '2386142', '2370317', '2374746', '2354072', '2374983', '2295405', '2367913', '2383537', '2381060', '2358599', '2393267', '2355885', '2395400', '2339151', '2385332', '2334232', '2394397', '2299864', '2361524', '2403465', '2365071', '2406115', '2376267', '2372402', '2379320', '2395335', '2407834', '2392922', '2359558', '2354366', '2391211', '2408313', '2351932', '2381743', '2350909', '2407610', '2399737', '2378210', '2372283', '2396301', '2367534', '2398636', '2373781', '2381227', '2373165', '2350664', '2376852', '2378055', '2401341', '2399251', '2352199', '2353072', '2354391', '2375398', '2360080', '2386311', '2365109', '2397620', '2370629', '2359863', '2389856', '2388188', '2387887', '2370416', '2403816', '2387041', '2278510', '2166760', '2362934', '2355851', '2378742', '2350436', '2374952', '2373099', '2358880', '2399132', '2406057', '2322540', '2381455', '2301304', '2246211', '2379464', '2371449', '2204599', '2361006', '2396319', '2396539', '2348841', '2375407', '2362067', '2392094', '2369397', '2374663', '2351715', '2386011', '2354849', '2355687', '2358332', '2333458', '2358802', '2407706', '2373426', '2367972', '2399169', '2375375', '2360947', '2369023', '2377955', '2385144', '2385067', '2379937', '2349574', '2396821', '2373915', '2395355', '2379399', '2242333', '2376899', '2365548', '2385292', '2388595', '2381343', '2357360', '2391962', '2327939', '2366147', '2379197', '2374662', '2403825', '2382035', '2361019', '2371571', '2365448', '2367733', '2298943', '2399564', '2371275', '2357675', '2352413', '2391128', '2398521', '2407819', '2391229', '2384974', '2382974', '2367133', '2379753', '2370254', '2396361', '2172551', '2358769', '2377152', '2367830', '2366477', '2368837', '2384884', '2366342', '2372924', '2372761', '2333772', '2401573', '2406229', '2389896', '2395133', '2364143', '2379510', '2408341', '2315791', '2389718', '2399524', '2391569', '2382224', '2387277', '2376323', '2407433', '2392082', '2404860', '2380438', '2270458', '2354254', '2369662', '2364921', '2389816', '2371985', '2385985', '2361400', '2355647', '2358213', '2373693', '2376029', '2264824', '2369515', '2398533', '2350290', '2333204', '2331896', '2394282', '2392738', '2394968', '2399619', '2361454', '2407481', '2396422', '2363382', '2297426', '2407513', '2383645', '2391955', '2386061', '2398666', '2399816', '2407073', '2374705', '2406625', '2370918', '2401579', '2362393', '2384845', '2401852', '2351928', '2378131', '2291447', '2377785', '2374166', '2363628', '2363043', '2380105', '2362477', '2378617', '2383806', '2403387', '2361024', '2343636', '2350168', '2386106', '2380581', '2386172', '2361330', '2390078', '2351035', '2391339', '2374755', '2372758', '2392629', '2383440', '2364916', '2202494', '2390650', '2387998', '2362459', '2389689', '2393810', '2408254', '2403451', '2377049', '2387444', '2354495', '2399747', '2364335', '2398829', '2403358', '2376196', '2369991', '2385848', '2376944', '2356915', '2291850', '2378341', '2363185', '2355078', '2393285', '2405110', '2366356', '2359786', '2363342', '2375236', '2406019', '2394738', '2367860', '2349835', '2363977', '2368922', '2349411', '2408127', '2351546', '2355314', '2359290', '2363341', '2365869', '2379298', '2379966', '2397045', '2393830', '2393286', '2356193', '2350297', '2406876', '2359647', '2224476', '1244303', '1870871', '2257642', '2393117', '2350228', '2376934', '2382674', '2357389', '2370670', '2365538', '2401749', '2390139', '2371709', '2403218', '1637293', '2405718', '2404865', '2373020', '2374790', '2389700', '2357729', '2360431', '2181567', '2382088', '2253010', '2349413', '2401660', '2397624', '2402534', '2393770', '2353164', '2364868', '2369922', '2366387', '2355235', '2394447', '2360863', '2351858', '2377001', '2388035', '2389608', '2352077', '2385676', '2400005', '2383205', '2399212', '2390443', '2349476', '2387173', '2389469', '2367271', '2389735', '2397367', '2405621', '2399074', '2364824', '2399072', '2379098', '2398134', '2299563', '2388753', '2400473', '2361119', '2355786', '2388235', '2379905', '2351447', '2385198', '2359441', '2406258', '2382711', '2245414', '2396462', '2406171', '2403599', '2379084', '2393871', '2404388', '2369784', '2386886', '2374543', '2393353', '2401714', '2394770', '2386806', '2362173', '2402120', '2372957', '2158947', '2392796', '2349251', '2406226', '2370600', '2385077', '2369016', '2400435', '2381423', '2388401', '2394678', '2387134', '2366463', '2402529', '2392272', '2389100', '2351930', '2290468', '2358618', '2369062', '2392921', '2380993', '2386814', '2375527', '2386101', '2367866', '2377258', '2402306', '2358242', '2392317', '2393536', '2377917', '2393790', '2364011', '2398867', '2398875', '2406058', '2375022', '2380538', '2378765', '2396715', '2390388', '2283646', '2376154', '2406208', '2400033', '2395351', '2400655', '2406999', '2354808', '2404675', '2379300', '2330237', '2390198', '2360082', '2383991', '2378703', '2392105', '2360379', '2381687', '2404521', '2375181', '2406816', '2371897', '2379857', '2390686', '2390323', '2390706', '2353713', '2398032', '2396444', '2393655', '2388513', '2370067', '2396374', '2355784', '2392208', '2392486', '2379622', '2386849', '2391046', '2399742', '2352362', '2237866', '2389207', '2405347', '2406216', '2367454', '2355252', '2352522', '2379309', '2394773', '2379547', '2393074', '2404523', '2370172', '2361171', '2404444', '2364241', '2388060', '2378686', '2390213', '2403492', '2364745', '2376064', '2398790', '2384527', '2366464', '2383468', '2400526', '2353552', '2362802', '2149708', '2360029', '2378287', '2392360', '2383962', '2364083', '2388464', '2396521', '2393249', '2363681', '2355262', '2362012', '2361444', '2374863', '2364892', '2351337', '2359599', '2405973', '2309729', '2349758', '2351839', '2233737', '2351148', '2359526', '2358953', '2378168', '2354358', '2330205', '2199022', '2366914', '2362159', '2371067', '2351303', '2388789', '2384614', '2357521', '2401781', '2356458', '2405477', '2349979', '2391349', '2355739', '2391416', '2365277', '2391984', '2371810', '2394831', '2407954', '2365045', '2406152', '2403364', '2319275', '2359432', '2390563', '2399519', '2364962', '2356714', '2383507', '2369035', '2384013', '2363041', '2368986', '2400174', '2388524', '2401557', '2359729', '2399671', '2380481', '2370085', '2363191', '2378852', '2352651', '2392587', '2408246', '2329710', '2291959', '2394232', '2373205', '2389315', '2367545', '2373129', '2365060', '2399166', '2363332', '2369541', '2406316', '2359077', '2405608', '2383257', '2387531', '2405923', '2407412', '2380980', '2357057', '2370771', '2395145', '2359568', '2402229', '2402479', '2373421', '2407593', '2349967', '2376622', '2382911', '2306171', '2375081', '2393227', '2244311', '2358633', '2406583', '2350475', '2362010', '2390382', '2354616', '2396449', '2357254', '2380002', '2385957', '2363121', '2400322', '2365229', '2388267', '2394577', '2392741', '2372552', '2386145', '2377881', '2388942', '2349973', '2405067', '2365851', '2385867', '2370280', '2395945', '2389236', '2392058', '2354433', '2370032', '2405090', '2351710', '2362080', '2402443', '2378352', '2366071', '2357214', '2395471', '2402744', '2369513', '2381805', '2399940', '2385224', '2372488', '2374183', '2371215', '2366909', '2404930', '2400897', '2353652', '2376114', '2377910', '2407587', '2366870', '2377652', '2403773', '2400311', '2353102', '2386119', '2352974', '2390325', '2378982', '2355282', '2355682', '2368855', '2377532', '2359122', '2362123', '2400267', '2359302', '2352298', '2405464', '2363595', '1508489', '1635439', '1228688', '1237508', '1359191', '1122259', '1563473', '1765301', '2399433', '2385586', '2380086', '2376311', '2357530', '2356720', '2365067', '2382888', '2389054', '2356690', '2351570', '2365379', '2362635', '2363173', '2386219', '2403318', '2380138', '2396142', '2390540', '2384199', '2374887', '2376058', '2400550', '2388150', '2361991', '2400932', '2393928', '2407521', '2388459', '2369126', '2376493', '2385748', '2375854', '2380648', '2380071', '2380664', '2290185', '2405753', '2349719', '2358637', '2358697', '2402032', '2380512', '2383208', '2316285', '2368200', '2376032', '2379995', '2349576', '2390279', '2391213', '2385319', '2301274', '2364585', '2348818', '2286089', '2361003', '2389674', '2375756', '2339526', '2396381', '2383448', '2386730', '2369100', '2381516', '2351072', '2356475', '2375562', '2356374', '2403350', '2392345', '2404695', '2368339', '2350460', '2378160', '2367921', '2374006', '2352357', '2403075', '2396704', '2382074', '2372009', '2375951', '2387243', '2379496', '2358767', '2332399', '2369840', '2351101', '2381708', '2374541', '2354157', '2371358', '2361990', '2358924', '2396517', '2385208', '2392372', '2355543', '2357833', '2372328', '2407860', '2399045', '2372461', '2349943', '2390919', '2371644', '2219516', '2376457', '2351814', '2375285', '2378550', '2392480', '2396389', '2398864', '2384607', '2375294', '2367798', '2374712', '2404478', '2388996', '2388416', '2355567', '2364386', '2362756', '2383581', '2397802', '2370291', '2392818', '2377972', '2399272', '2367272', '2391762', '2354645', '2400447', '2385971', '2363376', '2366061', '2395241', '2363411', '2380922', '2364164', '2405486', '2353808', '2399342', '2364694', '2337950', '2244612', '2391660', '2399729', '2372657', '2360224', '2374262', '2364179', '2357990', '2371581', '2231391', '2214759', '2367422', '2395033', '2300801', '2356517', '2355801', '2366956', '2357898', '2349827', '2358688', '2384757', '2371383', '2400564', '2402790', '2384615', '2387689', '2390902', '2361401', '2295015', '2355254', '2363390', '2356798', '2358117', '2387572', '2375875', '2406539', '2392454', '2395137', '2364580', '2369492', '2382526', '2383320', '2218702', '2384298', '2392745', '2355203', '2402960', '2380618', '2404589', '2388204', '2375558', '2236383', '2401267', '2358515', '2391942', '2384017', '2322506', '2407376', '2386015', '2393617', '2378918', '2401259', '2358657', '2376581', '2361953', '2386074', '2331680', '2352258', '2376931', '2381194', '2393588', '2377760', '2385310', '2363440', '2386462', '2349513', '2389663', '2400727', '2370620', '2377382', '2386723', '2378028', '2355399', '2248013', '2352238', '2391451', '2355767', '2361436', '2403716', '2378624', '2349544', '2371760', '2359429', '2403491', '2365877', '2401555', '2368146', '2354384', '2400734', '2391826', '2389717', '2369669', '2384470', '2401252', '2407157', '2378829', '2349351', '2386058', '2406955', '2393294', '2396420', '2400282', '2367344', '2309330', '2406634', '2394434', '2359953', '2370650', '2379238', '2397082', '2399363', '2359221', '2399416', '2385637', '2358254', '2395755', '2367816', '2363266', '2397769', '2368609', '2378097', '2391249', '2371049', '2365260', '2359638', '2335631', '2366727', '2376387', '2373016', '2392205', '2355648', '2403202', '2404759', '2406658', '2395380', '2378657', '2361268', '2362774', '2401823', '2358045', '2370091', '2384358', '2369005', '2356448', '2366624', '2405289', '2372660', '2405438', '2400407', '2382580', '2395008', '2387191', '2379353', '2391898', '2243443', '2372166', '2388894', '2399057', '2359196', '2386947', '2378727', '2351835', '2371706', '2399003', '2407087', '2378053', '2373770', '2395992', '2350184', '2377799', '2366121', '2388542', '2382597', '2390858', '2357752', '2355211', '2357523', '2394161', '2352183', '2348745', '2391719', '2369381', '1014646', '1873085', '1898408', '1894246', '2386151', '2386393', '2396643', '2358932', '2368446', '2395943', '2382062', '2397101', '2371804', '2395252', '2368060', '2372322', '2401794', '2372015', '2400390', '2385457', '2368442', '2387265', '2371693', '2386742', '2377915', '2375098', '2356321', '2398995', '2385386', '2380450', '2354602', '2390344', '2383196', '2369658', '2364940', '2385148', '2357924', '2402437', '2384427', '2372561', '2379481', '2391562', '2399463', '2365934', '2351990', '2358119', '2373409', '2378907', '2370318', '2397281', '2384139', '2391847', '2407245', '2391941', '2405866', '2381414', '2272968', '2370158', '2400821', '2362928', '2401955', '2371181', '2392301', '2386316', '2404395', '2371036', '2358486', '2349580', '2357949', '2349837', '2368033', '2368860', '2367248', '2388514', '2371380', '2379285', '2387309', '2403477', '2397138', '2367770', '2374664', '2403841', '2388220', '2392834', '2384181', '2311748', '2408442', '2388216', '2392292', '2389427', '2365174', '2380303', '2349687', '2361432', '2405749', '2364779', '2352204', '2362087', '2398205', '2365118', '2395014', '2360032', '2359567', '2376197', '2372367', '2391903', '2373857', '2373938', '2396809', '2393146', '2406505', '2358355', '2359399', '2353787', '2368548', '2389456', '2388103', '2257869', '2402891', '2359897', '2351677', '2394392', '2396682', '2377224', '2349983', '2359908', '2401479', '2401270', '2388746', '2405919', '2391355', '2381619', '2376258', '2377659', '2398930', '2353288', '2365097', '2365899', '2371354', '2402591', '2389002', '2385806', '2383126', '2396603', '2397591', '2352191', '2362783', '2405569', '2393170', '2359769', '2389895', '2378894', '2301138', '2358015', '2372456', '2400823', '2379112', '2354811', '2383452', '2405566', '2349195', '2380403', '2353250', '2337581', '2384487', '2394209', '2393890', '2403991', '2406992', '2372212', '2354748', '2383354', '2350008', '2280039', '2368903', '2326417', '2394084', '2389305', '2371608', '2379462', '2359570', '2389539', '2354904', '2356010', '2406372', '2395687', '2276991', '2399550', '2361361', '2347782', '2408427', '2354706', '2202699', '2408009', '2374870', '2385864', '2384898', '2374212', '2377313', '2378075', '2399563', '2390583', '2358445', '2395535', '2388877', '2352898', '2353056', '2373264', '2363996', '2385791', '2379251', '2325817', '2350865', '2371909', '2326782', '2263825', '2402539', '2368740', '2386416', '2355489', '2355514', '2384032', '2393743', '2405553', '2350688', '2385448', '2397665', '2387213', '2354385', '2350746', '2375858', '2214589', '2387240', '2395387', '2381305', '2371222', '2383013', '2358973', '2361395', '2349283', '2131212', '2378490', '2370140', '2373686', '2405680', '2390401', '2405272', '2404327', '2395200', '2408032', '2381536', '2373081', '2400375', '2389161', '2372809', '2396038', '2388650', '2379679', '2366606', '2362406', '2404308', '2408133', '2357957', '2354169', '2367384', '2407996', '2358912', '2373535', '2398182', '2375439', '2379610', '2368032', '2388319', '2356062', '2369876', '2286046', '2125628', '2377956', '2394335', '2364044', '2390233', '2389605', '2357371', '2371993', '2184501', '2374695', '2356726', '2386653', '2303442', '2380916', '2324143', '2400586', '2379191', '2357122', '2366152', '2376411', '2350005', '2364534', '2374097', '2352008', '2369154', '2389774', '2370949', '2390623', '2193694', '2406947', '2403359', '2383907', '2352237', '2394109', '2402468', '2392902', '2385042', '2376459', '2402407', '2370382', '2383579', '2373438', '2359052', '2352384', '2396522', '2383094', '2377348', '2390666', '2352899', '2385670', '2402405', '2386651', '2378818', '2383562', '2167017', '2359410', '2369689', '2408415', '2385106', '2338532', '2372006', '2379883', '2353729', '2400512', '2377761', '2373167', '2366913', '2381184', '2394236', '2351735', '2358938', '2367392', '2366058', '2345281', '2388544', '2398322', '2389123', '2351703', '2349572', '2390373', '2388013', '2388132', '2359342', '2363956', '2389653', '2370542', '2355129', '2355052', '2386515', '2398553', '2392643', '2384083', '2379839', '2364310', '2371551', '2381243', '2405671', '2382540', '2374676', '2388081', '2401975', '2372464', '2356486', '2402586', '2379155', '2402810', '2386378', '2377934', '2355471', '2377860', '2349227', '2359952', '2394908', '2276752', '2158934', '2270317', '1949752', '1934646', '2038445', '1841173', '1469819', '1083313', '2011369', '1621737', '1181743', '1476666', '1747786', '2386784', '2379556', '2385506', '2399390', '2386905', '2370510', '2400903', '2350903', '2357328', '2362064', '2405402', '2379267', '2392857', '2405374', '2358764', '2400169', '2401090', '2396327', '2378337', '2390521', '2398079', '2400006', '2396404', '2393060', '2311270', '2391560', '2398068', '2349264', '2400887', '2356928', '2398452', '2372174', '2373474', '2364687', '2378532', '2371798', '2354273', '2367463', '2386829', '2405434', '2355667', '2385038', '2362956', '2399554', '2376990', '2397417', '2388238', '2363160', '2387224', '2374816', '2386078', '2368168', '2349277', '2358690', '2355173', '2398420', '2322660', '2387631', '2369125', '2360007', '2400421', '2354281', '2403926', '2370352', '2253116', '2368618', '2381058', '2353844', '2381862', '2397865', '2361082', '2237332', '2392642', '2407222', '2406450', '2357300', '2373850', '2354331', '2402541', '2381626', '2387892', '2350398', '2400724', '2368642', '2351721', '2406322', '2353761', '2374789', '2384518', '2362127', '2399191', '2349647', '2406463', '2401241', '2359834', '2377711', '2372425', '2364267', '2389244', '2406148', '2308447', '2350506', '2358816', '2356770', '2349915', '2406813', '2400986', '2390674', '2350557', '2365717', '2386423', '2368676', '2397834', '2377989', '2405936', '2376475', '2404783', '2353480', '2176301', '2366190', '2349565', '2364958', '2390555', '2370741', '2367880', '2387763', '2382962', '2371145', '2408000', '2355356', '2380194', '2379921', '2376288', '2354263', '2391947', '2364306', '2382800', '2328596', '2370839', '2387934', '2392445', '2384075', '2370500', '2398582', '2385907', '2390421', '2371227', '2387209', '2385914', '2366060', '2400806', '2379171', '2381390', '2350948', '2341046', '2374453', '2351813', '2392380', '2385941', '2405956', '2391819', '2377488', '2398027', '2376592', '2310290', '2402951', '2363650', '2406664', '2358870', '2361970', '2387850', '2359438', '2383808', '2367457', '2358741', '2371147', '2369509', '2397625', '2379455', '2407952', '2363289', '2393487', '2405565', '2368308', '2402716', '2381996', '2391357', '2369619', '2373483', '2399998', '2362899', '2368045', '2371532', '2215749', '2363947', '2365820', '2318178', '2360322', '2389465', '2390261', '2404029', '1128038', '2355309', '2398098', '2388548', '2390905', '2389604', '2368954', '2366702', '2363227', '2372148', '2394844', '2360084', '2348846', '2367088', '2374081', '2357749', '2360740', '2376930', '2328586', '2298330', '2377569', '2375251', '2404199', '2349470', '2391468', '2363044', '2386679', '2400569', '2402059', '2384359', '2349618', '2402324', '2321504', '2400616', '2335143', '2372533', '2356479', '2286844', '2403755', '2330627', '2393835', '2393136', '2359031', '2356964', '2355992', '2371023', '2386500', '2377071', '2363082', '2355177', '1017278', '2367781', '2372579', '2374730', '2387606', '2400219', '2381283', '2358028', '2352040', '2407397', '2314761', '2360584', '2351025', '2407331', '2329439', '2406079', '2377723', '2333526', '2398467', '2259449', '2366377', '2393304', '2386508', '2398688', '2394256', '2408087', '2404466', '2389097', '2372930', '2408366', '2378276', '2359093', '2371809', '2390049', '2353098', '2377838', '2396716', '2380421', '2390299', '2385150', '2359815', '2392952', '2379759', '2399579', '2384204', '2367801', '2140320', '2381525', '2408297', '2385636', '2398305', '2374241', '2371803', '2407189', '2398295', '2361468', '2396336', '2369938', '2356848', '2398466', '2399562', '2393786', '2355896', '2391810', '2366699', '2405719', '2367970', '2395382', '2376903', '2397725', '2390167', '2358734', '2406694', '2362165', '2393771', '2355465', '2405627', '2390801', '2359852', '2387361', '2356394', '2404771', '2390015', '2381892', '2357673', '2355611', '2378623', '2406197', '2372833', '2369542', '2335570', '2403717', '2394607', '2403550', '2390408', '2390342', '2393248', '2380295', '2364243', '2407631', '2295689', '1674005', '2374094', '2358853', '2353112', '2399662', '2361084', '2370227', '2407560', '2382390', '2364692', '2380108', '2395789', '2406504', '2400795', '2363283', '2394416', '2381844', '2327958', '2399285', '2357945', '2350126', '2378412', '2407031', '1454236', '1836875', '1853348', '2376027', '2394629', '2401601', '2363517', '2399557', '2383405', '2391952', '2396305', '2359264', '2386020', '2336127', '2357095', '2402332', '2385441', '2389377', '2385168', '2348931', '2384247', '2405211', '2381914', '2363213', '2406893', '2319598', '2367178', '2368723', '2396474', '2368187', '2402260', '2359748', '2385421', '2374289', '2310775', '2379670', '2399867', '2390074', '2392321', '2353932', '2134056', '2389858', '2354290', '2371813', '2394264', '2388330', '2383294', '2377459', '2378744', '2357508', '2388026', '2355655', '2381969', '2363434', '2393431', '2387941', '2393100', '2397576', '2356430', '2393660', '2353502', '2392886', '2371055', '2378166', '2379148', '2368416', '2398207', '2388479', '2398323', '2359459', '2367280', '2400834', '2381716', '2349743', '2388816', '2357787', '2406103', '2383116', '2393428', '2368607', '2396377', '2377285', '2349664', '2376516', '2352740', '2345437', '2407688', '2384531', '2184415', '2353100', '2393069', '2358735', '2400148', '2392209', '2359928', '2378830', '2352327', '2356273', '2361438', '2387989', '2401478', '2406150', '2262821', '2359257', '2352789', '2376031', '2367414', '2364180', '2367436', '2389561', '2395106', '2388145', '2357494', '2352226', '2400346', '2357771', '2405028', '2354977', '2379884', '2393389', '2351282', '2406911', '2357881', '2367790', '2384160', '2375174', '2351913', '2382124', '2365046', '2373992', '2365998', '2385980', '2382632', '2394131', '2405930', '2397084', '2405197', '2406575', '2377347', '2374395', '2393311', '2361660', '2245742', '2378306', '2403192', '2359406', '2366592', '2388758', '2399860', '2367993', '2360230', '2407204', '2387814', '2350940', '2345355', '2399772', '2393602', '2380974', '2358518', '2312982', '2335118', '2363437', '2371926', '2394094', '2354338', '2395324', '2387105', '2374970', '2378039', '2397573', '2389065', '2400358', '2359241', '2402435', '2406176', '2371221', '2356965', '2365917', '2353162', '2374194', '2381491', '2293329', '2363989', '2376126', '2382084', '2386354', '2399702', '2373189', '2351961', '2366944', '2291294', '2386390', '2397071', '2369042', '2383417', '2406752', '2383944', '2381549', '2398702', '2368993', '2392055', '2399989', '2394471', '2395549', '2407017', '2363703', '2399531', '2382007', '2387624', '2386690', '2405791', '2379076', '2403236', '2390137', '2367963', '2352405', '2327995', '2387549', '2185989', '2403654', '2377539', '2370734', '2405739', '2399527', '2365473', '2399558', '2365649', '2383072', '2396116', '2386580', '2348422', '2388386', '2345320', '2391839', '2394924', '2391422', '2384556', '2404472', '2369007', '2395741', '2402042', '2371171', '2370498', '2353186', '2386387', '2406609', '2381284', '2404203', '2297036', '2355929', '2407833', '2402880', '2391882', '2333592', '2395222', '2403621', '2369238', '2390014', '2391120', '2373199', '2386844', '2355069', '2395422', '2358759', '2369052', '2371519', '2393484', '2303598', '2387906', '2341401', '2368315', '2384285', '2387349', '2376738', '2391861', '2359136', '2378071', '2381199', '2266051', '2370177', '2357640', '2353135', '2369950', '2370120', '2401646', '2123257', '2388283', '2367332', '2393987', '2395293', '2376372', '2368979', '2359921', '2384058', '2349999', '2364601', '2382187', '2403213', '2372892', '2403320', '2377271', '2386438', '2379440', '2406457', '2375841', '2407717', '2373336', '2401630', '2401324', '2371573', '2379846', '2388880', '2374475', '2353045', '2363083', '2374031', '2381319', '2375221', '2404314', '2398911', '2363056', '2359225', '2354497', '2361230', '2367661', '2406942', '2401366', '2360312', '2354316', '2381902', '2393668', '2402390', '2387535', '2372073', '2184826', '2300363', '2388955', '2352502', '2404333', '2400819', '2359828', '2279635', '2403502', '2354816', '2232548', '2365047', '2395591', '2373848', '2357290', '2373193', '2377718', '2380748', '2380494', '2293499', '2375438', '2396862', '2377256', '2382358', '2389266', '2357216', '2359402', '2370544', '2378985', '2377212', '2380724', '2395250', '2193845', '2388327', '2003693', '1409571', '1425065', '1988227', '1214310', '1486136', '1785136', '1183995', '1407748', '2004615', '2092098', '2111594', '1371773', '1145706', '1146108', '1504642', '1699613', '2351063', '2351047', '2403037', '2373090', '2355734', '2399621', '2352049', '2376047', '2357405', '2390591', '2359771', '2383173', '2384599', '2370765', '2362508', '2392721', '2406118', '2383513', '2381381', '2386264', '2324179', '2373489', '2401007', '2364026', '2368211', '2369103', '2388750', '2403247', '2386727', '2399669', '2392515', '2390306', '2360464', '2376293', '2373574', '2407175', '2391345', '2368958', '2366096', '2376844', '2388468', '2351992', '2399174', '2359798', '2374828', '2357992', '2364738', '2349428', '2359756', '2388630', '2350001', '2385542', '2374418', '2138824', '2377315', '2390420', '2388124', '2399114', '2386156', '2369871', '2380347', '2370023', '2378027', '2373278', '2381327', '2398364', '2401295', '2375130', '2402564', '2394143', '2378015', '2380030', '2360254', '2396665', '2382764', '2352283', '2379530', '2358851', '2379819', '2357421', '2362745', '2371387', '2400689', '2330313', '2374762', '2391813', '2389075', '1853480', '2355708', '2388323', '2350245', '2238539', '2398453', '2375517', '2350003', '2376426', '2389292', '2356845', '2399538', '2385641', '2351586', '2319792', '2364925', '2402733', '2265290', '2397033', '2369159', '2371505', '2379902', '2375134', '2383303', '2385172', '2355928', '2381911', '2352104', '2378153', '2385185', '2373977', '2356708', '2356911', '2408401', '2374954', '2394063', '2395367', '2394644', '2378086', '2393839', '2393692', '2384895', '2397915', '2404410', '2362730', '2402579', '2194504', '2351151', '2388019', '2329244', '2364185', '2360076', '2369465', '2405535', '2352853', '2391445', '2357581', '2325730', '2361022', '2407015', '2299889', '2397149', '2405178', '2184005', '2395113', '2397945', '2354304', '2404685', '2392325', '2382852', '2363702', '2349680', '2353038', '2393134', '2377487', '2360882', '2387302', '2381541', '2356810', '2368349', '2380385', '2372307', '2391409', '2388049', '2295151', '2378884', '2388813', '2366232', '2362135', '2389928', '2363580', '2363607', '2370034', '2380217', '2368943', '2403975', '2385320', '2357038', '2395176', '2400105', '2376874', '2390253', '2362994', '2392618', '2390782', '2401497', '2406956', '2396967', '2400620', '2403077', '2400995', '2355718', '2401731', '2393776', '2362907', '2392150', '2379059', '2400760', '2350361', '2379109', '2361445', '2355238', '2399108', '2371892', '2379437', '2350954', '2382515', '2375433', '2368994', '2387702', '2388007', '2381350', '2365843', '2370930', '2386567', '2386553', '2371965', '2355412', '2354410', '2377807', '2364051', '2385398', '2373961', '2404802', '2383409', '2385885', '2398087', '2398248', '2384960', '2376878', '2402691', '2396875', '2363832', '2332336', '2399616', '2399944', '2352440', '2382125', '2372835', '2399273', '2373217', '2209623', '2394203', '2394729', '2389584', '2378845', '2400051', '2351078', '2365219', '2381543', '2335529', '2384422', '2387980', '2365541', '2352228', '2362571', '2401237', '2377902', '2361166', '2327924', '2407503', '2406661', '2385092', '2372771', '2377787', '2350911', '2397499', '2365171', '2388263', '2294114', '2358128', '2349129', '2379355', '2398759', '2357788', '2391094', '2408006', '2376574', '2365537', '2366620', '2365413', '2395466', '2375598', '2398614', '2401188', '2325647', '2378863', '2360529', '2360886', '2399546', '2265051', '2379791', '2375506', '2378926', '2358163', '2380687', '2403020', '2378841', '2391414', '2358974', '2398196', '2380188', '2394182', '2399155', '2399172', '2375985', '2399333', '2309693', '2397913', '2405073', '2390244', '2404008', '2352407', '2407217', '2398421', '2396504', '2370812', '2367955', '2389079', '2259932', '2407501', '2388183', '2385917', '2404887', '2364863', '2362430', '2360437', '2362917', '2403742', '2388324', '2351457', '2369937', '2387593', '2370239', '2397775', '2368284', '2380251', '2358226', '2399498', '2376675', '2349402', '2349482', '2385583', '2359743', '2392991', '2364794', '2386192', '2358987', '2403884', '2400281', '2385993', '2378033', '2382841', '2121788', '2405750', '2360378', '2405417', '2400698', '2367300', '2191022', '2360200', '2380964', '2384590', '2371750', '2357876', '2395258', '2222446', '2225101', '1843559', '2392335', '2383250', '2374352', '2391590', '2388111', '2396528', '2353807', '2379371', '2406909', '2378660', '2401435', '2369575', '2388696', '2404949', '2402993', '2387359', '2377237', '2352736', '2381218', '2396515', '2408448', '2403686', '2288059', '2366494', '2211809', '2309948', '2373025', '2395226', '2389807', '2387789', '2364558', '2408147', '2364441', '2388141', '2379010', '2393221', '2359133', '2374005', '2394986', '2386286', '2372324', '2398807', '2361320', '2395060', '2378979', '2384799', '2362280', '2335392', '2394783', '2386087', '2384919', '2349987', '2371868', '2350236', '2380005', '2359793', '2358175', '2408094', '2387166', '2394174', '2370409', '2400596', '2366708', '2390590', '2380237', '2405406', '2395215', '2388977', '2399130', '2406433', '2407916', '2369562', '2374443', '2404785', '2366149', '2355810', '2359194', '2366600', '2365955', '2298365', '2404629', '2401850', '2357139', '2367251', '2392714', '2405120', '2373181', '2351788', '2408049', '2407976', '2351555', '2352607', '2386448', '2338869', '2183584', '2321407', '2226886', '2384519', '2395845', '2349197', '2382900', '2403443', '2399634', '2386225', '2384619', '2406882', '2388518', '2381004', '2364228', '2272348', '2384593', '2403709', '2393104', '2403749', '2406531', '2382190', '2407466', '2266025', '2355859', '2408186', '2398631', '2352845', '2381573', '2360676', '2397973', '2395873', '2237381', '2394445', '2368186', '2394429', '2358449', '2332258', '2350600', '2358982', '2107189', '2407724', '2130098', '2377973', '2408102', '2351074', '2367837', '2396329', '2363067', '2351884', '2392836', '2382757', '2378379', '2357818', '2389071', '2394172', '2374381', '2396529', '2232623', '2390269', '2406919', '2351024', '2386804', '2367175', '2351698', '2367674', '2358918', '2359220', '2369050', '2382936', '2361153', '2378042', '2389154', '2350218', '2381100', '2357375', '2353963', '2119665', '2373075', '2360994', '2320646', '2370443', '2395188', '2359180', '2407337', '2373219', '2399975', '2398697', '2356645', '2377590', '2394866', '2388063', '2391195', '2362936', '2352001', '2339630', '2395123', '2374024', '2358960', '2376759', '2360888', '2391512', '2358889', '2367745', '2375814', '2364124', '2392933', '2399739', '2383578', '2391666', '2390121', '2400434', '2177287', '2381561', '2393078', '2386976', '2350533', '2391074', '2407639', '2354880', '2404198', '2380789', '2335323', '2351330', '2371937', '2365117', '2357154', '2370003', '2376087', '2408197', '2393808', '2386137', '2363059', '2382655', '2394544', '2370037', '2375959', '2371910', '2401164', '2304707', '2382990', '2372104', '2371009', '2403672', '2365233', '2366042', '2349818', '2397236', '2371606', '2357454', '2397481', '2365388', '2406769', '2363074', '2342930', '2378688', '2378127', '2374151', '2366813', '2364564', '2388202', '2357751', '2406345', '2402054', '2396615', '2399708', '2362208', '2401384', '2400785', '2366031', '2386706', '2393844', '2386331', '2361021', '2364161', '2387600', '2405444', '2385555', '2359875', '2338959', '2364901', '2358371', '2386682', '2407858', '2350682', '2365211', '2362015', '2352669', '2391785', '2375056', '2369850', '2365479', '2363322', '2363304', '2364101', '2376088', '2370669', '2360942', '2378520', '2374186', '2400275', '2386568', '2364844', '2405243', '2389389', '2141045', '2364344', '2378967', '2378099', '2376604', '2369698', '2392510', '2387144', '2369609', '2402428', '2371170', '2390122', '2369704', '2382027', '2379025', '2406586', '2358646', '2396703', '2353156', '2324789', '2265502', '2371885', '2401876', '2383669', '2394467', '2368849', '2361037', '2385113', '2361789', '2400600', '2355793', '2351225', '2132712', '2350310', '2358762', '2400944', '2407863', '2351861', '2379814', '2405231', '2384532', '2395862', '2381443', '2369140', '2385635', '2349591', '2386075', '2374033', '2300227', '2369390', '2356863', '2377444', '2363310', '2408154', '2365050', '2344391', '2383828', '2371996', '2334552', '2407440', '2376642', '2349992', '2390739', '2389143', '2271982', '2379078', '2367158', '1811759', '1673099', '1628239', '1775537', '1985788', '1256235', '1915993', '1658874', '2186161', '1746396', '2389350', '2388166', '2222328', '2348127', '2386327', '2376885', '2378272', '2382591', '2389499', '2383384', '2349302', '2363597', '2371961', '2379378', '2125288', '2401519', '2378185', '2364247', '2406309', '2342802', '2384966', '2402119', '2395209', '2374714', '2375547', '2401461', '2362516', '2344990', '2395180', '2360166', '2394338', '2376233', '2357436', '2377390', '2399836', '2369771', '2376912', '2385143', '2375560', '2367058', '2378326', '2405061', '2316534', '2394639', '2375938', '2359840', '2355220', '2363032', '2352174', '2383535', '2356257', '2362368', '2364547', '2400502', '2381077', '2350949', '2405992', '2383836', '2248809', '2402521', '2266319', '2361015', '2396501', '2362101', '2352619', '2392973', '2407570', '2371620', '2368909', '2358026', '2357053', '2384736', '2356298', '2406271', '2376240', '2365357', '2376783', '2374023', '2381251', '2395595', '2387695', '2370205', '2402089', '2363165', '2378330', '2390479', '2354011', '2371688', '2387614', '2385102', '2387058', '2354502', '2359495', '2378795', '2360041', '2377295', '2393178', '2374700', '2374993', '2394584', '2390964', '2398487', '2361766', '2351939', '2397453', '2391144', '2398367', '2356753', '2379523', '2389151', '2378374', '2400960', '2398054', '2379643', '2366099', '2374874', '2374879', '2354193', '2358630', '2391703', '2360091', '2392979', '2378836', '2394325', '2404908', '2404716', '2405855', '2405450', '2368892', '2377669', '2403666', '2372405', '2359993', '2386544', '2376220', '2361337', '2344622', '2405168', '2401820', '2400868', '2355313', '2367491', '2384268', '2385979', '2351743', '2408402', '2395543', '2365433', '2382185', '2291789', '2360339', '2377986', '2371430', '2368296', '2373734', '2377769', '2355878', '2355858', '2359690', '2373727', '2369860', '2367311', '2144905', '2247448', '2268348', '2404488', '2401253', '2401836', '2396689', '2369219', '2173863', '2391107', '2370980', '2393397', '2373701', '2295525', '2383695', '2371332', '2369676', '2398725', '2376526', '2321647', '2406602', '2394799', '2406466', '2387179', '2390673', '2353583', '2373991', '2373361', '2402499', '2384574', '2374655', '2363099', '2393510', '2390641', '2358575', '2376987', '2371968', '2377020', '2367789', '2367333', '2367800', '2209142', '2372805', '2351448', '2399850', '2356432', '2397351', '2366772', '2366566', '2365911', '2378680', '2396293', '2349145', '2395552', '2352516', '2381388', '2399532', '2384474', '2349539', '2406885', '2378124', '2385337', '2397959', '2160424', '2371463', '2405670', '2146431', '2384079', '2387429', '2401247', '2377136', '2373584', '2252852', '2369779', '2407575', '2374471', '2355989', '2404396', '2400308', '2374717', '2387764', '2350303', '2365645', '2386130', '2349390', '2382002', '2355170', '2371312', '2392514', '2307345', '2376537', '2294472', '2393396', '2399595', '2374978', '2358917', '2369736', '2350658', '2365722', '2350010', '2355562', '2391775', '2184362', '2398383', '2404624', '2397490', '2398580', '2353636', '2406009', '2349212', '2388954', '2340554', '2396990', '2367562', '2404546', '2390153', '2393834', '2335438', '2370886', '2395391', '2379602', '2377719', '2324259', '2372486', '2351995', '2363456', '2401327', '2380055', '2370013', '2376948', '2373375', '2364032', '2388119', '2403273', '2367284', '2384890', '2389160', '2355671', '2374386', '2394666', '2384514', '2393673', '2399726', '2387051', '2380483', '2247256', '2318906', '2382415', '2354402', '2392727', '2404129', '2393478', '2379604', '2363120', '2385074', '2361340', '2377456', '2404214', '2395051', '2404227', '2386534', '2354182', '2389752', '2392752', '2369610', '2398102', '2360898', '2365263', '2378023', '2368065', '2393603', '2388090', '2404390', '2366545', '2357317', '2386977', '2380905', '2374826', '2379809', '2390718', '2399683', '2349864', '2370012', '2333517', '2400562', '2370153', '2405085', '2216255', '2204765', '2250168', '1378197', '2349947', '2399257', '2393915', '2217080', '2258405', '2356693', '2367430', '2376824', '2394754', '2121117', '2392323', '2381165', '2379253', '2380892', '2384568', '2381250', '2224220', '2386713', '2355894', '2405356', '2384439', '2408262', '2396654', '2356111', '2377982', '2405180', '2390270', '2365358', '2393047', '2377482', '2403497', '2359801', '2407859', '2360911', '2367713', '2406049', '2388657', '2368904', '2334185', '2387857', '2367027', '2357926', '2380810', '2390152', '2349304', '2368002', '2383112', '1836446', '2373867', '2285290', '2387700', '2325925', '2356496', '2349851', '2381047', '2381051', '2371097', '2362532', '2356674', '2366148', '2358648', '2377840', '2395184', '2362721', '2295635', '2386803', '2372242', '2383192', '2407142', '2376835', '2360538', '2398449', '2405206', '2286353', '2383855', '2369110', '2350733', '2376506', '2350082', '2399765', '2381979', '2407364', '2369137', '2391770', '2353311', '2387869', '2358988', '2370879', '2388804', '2404169', '2380809', '2405221', '2393335', '2374704', '2377330', '2405194', '2357311', '2407777', '2402893', '2383649', '2294766', '2287262', '2368386', '2393385', '2366003', '2400536', '2354693', '2317198', '2392717', '2401048', '2387959', '2395254', '2407854', '2380121', '2359808', '2302268', '2383541', '2401875', '2355352', '2370310', '2353141', '2373839', '2370909', '2355425', '2395062', '2402010', '2356487', '2381938', '2366583', '2405592', '2380926', '2399076', '2354398', '2392602', '2404500', '2354866', '2375342', '2399059', '2373976', '2350339', '2375931', '2373585', '2361154', '2396880', '2402152', '2363633', '2360586', '2372069', '2360832', '2350145', '2296154', '2389943', '2360016', '2355247', '2361688', '2402305', '2365212', '2403178', '2365160', '2361594', '2405393', '2379715', '2364700', '2372563', '2396257', '2360220', '2357991', '2393480', '2374480', '2403225', '2369988', '2350654', '2379271', '2399381', '2408104', '2407176', '2407595', '2361593', '2397710', '2366025', '2359917', '2354416', '2386411', '2404045', '2389369', '2392821', '2372199', '2366303', '2396525', '2391789', '2384994', '2393121', '2156987', '2377022', '2387087', '2367276', '2386599', '2375404', '2399811', '2386840', '2373015', '2362519', '2322625', '2353474', '2371911', '2370942', '2337946', '2375030', '2373137', '2370146', '2248982', '2349686', '2363325', '2377050', '2352774', '2392127', '2382263', '2399801', '2407670', '2351772', '2373108', '2371098', '2406425', '2350593', '2392978', '2320736', '2353615', '2375613', '2347794', '2120927', '2372256', '2349268', '2389196', '2369811', '2365637', '2404434', '2369521', '2376805', '2371282', '2364685', '2398590', '2383242', '2401792', '2378040', '2296594', '2361604', '2355559', '2387259', '2377942', '2397195', '2393509', '2392240', '2371589', '2384924', '2373078', '2359376', '2386294', '2378331', '2305554', '2363174', '2393701', '2384002', '2401064', '2389386', '2379090', '2395876', '2324753', '2390115', '2386429', '2372980', '2388031', '2375525', '2282083', '2398313', '2404760', '2406471', '2321751', '2358558', '2360191', '2365713', '2278461', '2370375', '2360838', '2355143', '2392912', '2389157', '2371003', '2405634', '2363309', '2391528', '2351768', '2383371', '2407064', '2360638', '2366925', '2355264', '2398734', '2403996', '2396320', '2386762', '2385387', '2352018', '2356793', '2402330', '2364599', '2368851', '2342234', '2382057', '2395080', '2376161', '2355946', '2259015', '2404732', '2356795', '2395019', '2406021', '2354234', '2395054', '2396484', '2392529', '2386065', '2384170', '2396497', '2212855', '2400343', '2403804', '2357639', '2399385', '2397399', '2366256', '2377177', '2346405', '2361969', '2398869', '2367865', '2364953', '2407246', '2358345', '2396282', '2294918', '2405077', '2384063', '2361876', '2357616', '2370237', '2376239', '2381785', '2347322', '2372981', '1879694', '1986639', '2051925', '2114704', '2069129', '1534719', '2091073', '2385043', '2380348', '2399542', '2372415', '2373134', '2391343', '2352946', '2179785', '2402355', '2379803', '2367099', '2406168', '2235767', '2367242', '2390634', '2379096', '2402963', '2389216', '2385795', '2396545', '2380860', '2378667', '2371707', '2376167', '2366143', '2398320', '2389191', '2351801', '2387426', '2350795', '2389709', '2370447', '2363241', '2349450', '2408090', '2389836', '2366496', '2378587', '2380501', '2395764', '2407949', '2384173', '2353145', '2387668', '2365041', '2375749', '2407620', '2388745', '2370961', '2378222', '2393079', '2376225', '2388408', '2377284', '2406852', '2382498', '2404552', '2400312', '2403906', '2372365', '2383736', '2350359', '2388104', '2354274', '2405312', '2397108', '2397647', '2352372', '2391531', '2393829', '2381247', '2388055', '2358402', '2388663', '2395158', '2388998', '2355922', '2360983', '2367891', '2403441', '2358062', '2349188', '2399577', '2368113', '2392774', '2402180', '2385911', '2400399', '2386245', '2380129', '2399992', '2359602', '2404279', '2356694', '2376037', '2379376', '2400787', '2348404', '2371313', '2397345', '2378402', '2401024', '2387733', '2359881', '2403786', '2284227', '2352568', '2366811', '2355872', '2388358', '2396846', '2353871', '2407930', '2370790', '2379388', '2392564', '2373797', '2372122', '2365438', '2350231', '2371881', '2359984', '2408324', '2393407', '2397558', '2398389', '2378955', '2378994', '2387060', '2374050', '2379594', '2361964', '2360868', '2376743', '2403361', '2369531', '2372452', '2370646', '2377814', '2391697', '2354864', '2399838', '2358132', '2404509', '2375017', '2390880', '2402599', '2373874', '2366585', '2352795', '2349657', '2355731', '2372616', '2381794', '2383933', '2358081', '2380159', '2407082', '2357091', '2186335', '2379374', '2405817', '2382136', '2125018', '2379903', '2394574', '2383366', '2386285', '2359731', '2365921', '2373301', '2358812', '2389897', '2373045', '2392770', '2391111', '2379587', '2407069', '2383300', '2399698', '2336494', '2384900', '2364482', '2393322', '2375469', '2393423', '2377812', '2371677', '2380023', '2363621', '2399178', '2358608', '2373645', '2380787', '2391257', '2373050', '2355461', '2365725', '2354441', '2392633', '2372569', '2373151', '2358883', '2362219', '2380859', '2391588', '2359923', '2396533', '2373311', '2373826', '2385414', '2275018', '2349190', '2394076', '2398407', '2385674', '2384713', '2401572', '2370398', '2371980', '2373227', '2397786', '2373368', '2374694', '2398019', '2392882', '2393234', '2399196', '2349358', '2389853', '2362110', '2382839', '2380577', '2366469', '2384448', '2373523', '2371873', '2356317', '2377555', '2365759', '2402134', '2319953', '2360848', '2350826', '2381394', '2371198', '2327695', '2330409', '2383025', '2357532', '2377373', '2377251', '2392539', '2403120', '2395547', '2369470', '2366657', '2356106', '2396908', '2339326', '2360841', '2374456', '2398661', '2353150', '2385121', '2380176', '2370316', '2386083', '2384091', '2396631', '2303150', '2243646', '2395265', '2358803', '2369356', '2394352', '2233708', '2376609', '2228499', '2360968', '2374611', '2395681', '2406918', '2386918', '2392835', '2399451', '2353274', '2353063', '2383920', '2380784', '2386739', '2344646', '2394957', '2383089', '2379908', '2405056', '2401151', '2350922', '2402956', '2235543', '2385500', '2363364', '2350811', '2357302', '2384339', '2358719', '2385938', '2374708', '2349714', '2375923', '2386793', '2402392', '2381112', '2383591', '2406364', '2402967', '2185506', '2219039', '2391456', '2379924', '2393630', '2373392', '2397246', '2403495', '2405950', '2390389', '2393189', '2408437', '2351924', '2360895', '2402287', '2329739', '2391611', '2379114', '2176986', '2356801', '2321476', '2395728', '2375504', '2372872', '2393698', '2384867', '2399837', '2271828', '2398030', '1278298', '2404074', '2395750', '2364988', '2396445', '2399753', '2400410', '2359823', '2376929', '2388260', '2357774', '2172206', '2406808', '2371441', '2404268', '2399908', '2394326', '2387073', '2364545', '2380394', '2394184', '2367958', '2312629', '2400396', '2356607', '2362016', '2406982', '2355953', '2357250', '2395285', '2364279', '2367046', '2325475', '2368068', '2384655', '2359309', '2297712', '2370197', '2390159', '2376337', '2396527', '2385176', '2391522', '2379458', '2350040', '2342885', '2403790', '2355600', '2350627', '2352017', '2332357', '2386154', '2374092', '2383234', '2395838', '2370134', '2353092', '2358255', '2366507', '2388505', '2368520', '2369217', '2401862', '2401300', '2357331', '2368901', '2380180', '2406170', '2395524', '2381981', '2378506', '2267188', '2399757', '2377066', '2374845', '2400830', '2406986', '2369015', '2386432', '2401240', '2358547', '2404784', '2371998', '2355209', '2360295', '2390172', '2359119', '2372882', '2391394', '2391972', '2374965', '2398141', '2373856', '2396343', '2354780', '2376816', '2356039', '2387015', '2394270', '2350374', '2397050', '2379161', '2385575', '2351154', '2374787', '2406800', '2363577', '2404100', '2360756', '2372465', '2227969', '2358644', '2393550', '2375249', '2350058', '2393062', '2405776', '2384404', '2365701', '2365096', '2391657', '2342094', '2404015', '2370092', '2352494', '2368116', '2360092', '2365807', '2380632', '2383733', '2399481', '2391063', '2349301', '2381087', '2395977', '2367795', '2382519', '2351419', '2349895', '2380842', '2363464', '2375140', '2349639', '2383464', '2363093', '2368526', '2405536', '2378012', '2384060', '2362113', '2402465', '2345460', '2368858', '2357721', '2364942', '2404102', '2397501', '2359776', '2360871', '2351876', '2371409', '2399245', '2373168', '2357070', '2399865', '2371647', '2377013', '2372496', '2401692', '2384744', '2373212', '2359178', '2391978', '2395213', '2371989', '2379953', '2386700', '2366899', '2350527', '2386110', '2330356', '2394902', '2405047', '2371678', '2386366', '2389099', '2398678', '2389629', '2373602', '2388972', '2371307', '2373184', '2395978', '2362327', '2310643', '2398872', '2407820', '2392938', '2284091', '2392482', '2355133', '2391712', '2355385', '2262497', '2391330', '2388580', '2375429', '2399712', '2384461', '2394293', '2334427', '2406704', '2389117', '2399304', '2386214', '2404351', '2297946', '2402236', '2379033', '2378072', '2390740', '2394060', '2364103', '2366581', '2403607', '2391328', '2373084', '2349899', '2385890', '2379745', '2385874', '2359318', '2324951', '2391212', '2385342', '2392264', '2388590', '2385119', '2380812', '2120751', '2397578', '2373890', '2406779', '2380862', '2379248', '2391885', '2391036', '2388334', '2372403', '2308353', '2406638', '2352508', '2380873', '2362378', '2393607', '2405118', '2384855', '2358507', '2376273', '2374104', '2374373', '2389013', '2352538', '2378652', '2342840', '2362561', '2382379', '2365470', '2404003', '2389206', '2401957', '2391387', '2402460', '2359457', '2355606', '2359995', '2400445', '2356555', '2363399', '2404609', '2370984', '2358264', '2369538', '2398048', '2389452', '2371850', '2362075', '2392518', '2349204', '2385239', '2374083', '2355723', '2374964', '2371414', '2376381', '2398357', '2399559', '2378462', '2376684', '2377189', '2398683', '2360209', '2383351', '2364176', '2350318', '2362768', '2373496', '2358076', '2366037', '2404568', '2398622', '2352584', '2380231', '2371446', '2396072', '2392996', '2351041', '2360462', '2386483', '2377525', '2407580', '2399367', '2390872', '2395984', '2386592', '2402121', '2391610', '2373484', '2355893', '2391794', '2393416', '2359876', '2365370', '2384848', '2382639', '2352587', '2384122', '2392557', '2385027', '2405124', '2390041', '2377327', '2382619', '2384612', '2356687', '2324404', '2396469', '2351017', '2373359', '2127830', '2386197', '2396970', '2404878', '2375590', '2374405', '2248402', '2407979', '2356059', '2407711', '2371346', '2380325', '2402549', '2367681', '2407589', '2355285', '2405130', '2383715', '2372701', '2390630', '2274796', '2387229', '2369020', '2406730', '2401539', '2355760', '2389349', '2404736', '2381395', '2385271', '2365906', '2387996', '2365095', '2331167', '2189589', '2383456', '2367391', '2392640', '2385528', '2349108', '2408204', '2404070', '2403888', '2334809', '2398691', '2397316', '2191920', '2408074', '2386312', '2212186', '2377428', '2385284', '2389182', '2356676', '2374951', '2385678', '2386152', '2349280', '2408248', '2366508', '2407011', '2360223', '2363193', '2364698', '2386000', '2362449', '2398040', '2370523', '2400194', '2403803', '2365279', '2351206', '1528545', '2241061', '1133537', '1112631', '1464808', '1095496', '1196665', '1443357', '1407743', '1428872', '1363419', '2274006', '2394221', '2369558', '2376024', '2372196', '2352022', '2357919', '2397641', '2351827', '2398788', '2394949', '2353449', '2393964', '2351775', '2385008', '2387109', '2369896', '2384118', '2402237', '2395939', '2356465', '2387316', '2401534', '2356941', '2381064', '2272880', '2304704', '2351360', '2350620', '2408319', '2376790', '2372149', '2406793', '2370785', '2384352', '2363765', '2304433', '2388922', '2393061', '2379996', '2367467', '2376272', '2316811', '2388775', '2349538', '2382736', '2393023', '2381083', '2407655', '2357264', '2351318', '2386174', '2290927', '2390697', '2408352', '2406205', '2391654', '2394531', '2352388', '2401355', '2401114', '2234954', '2395015', '2369505', '2362436', '2391503', '2373606', '2390449', '2394283', '2390181', '2352983', '2355796', '2401858', '2313826', '2350544', '2372946', '2384983', '2405938', '2365982', '2350461', '2310193', '2370463', '2402604', '2365502', '2363762', '2350932', '2405986', '2350445', '2373993', '2391961', '2398861', '2374620', '2392154', '2403976', '2373883', '2364621', '2388230', '2384815', '2401447', '2361971', '2257407', '2392681', '2384844', '2401390', '2370117', '2396767', '2388866', '2200357', '2373897', '2371192', '2349263', '2351963', '2403282', '2355623', '2405969', '2357078', '2267782', '2402863', '2403186', '2389946', '2355208', '2379875', '2404459', '2368786', '2386763', '2394329', '2158144', '2354360', '2390437', '2398089', '2389080', '2383232', '2365689', '2406832', '2341375', '2397874', '2372423', '2359747', '2396826', '2370608', '2378932', '2354079', '2385382', '2334657', '2350978', '2390994', '2377407', '2352920', '2382117', '2361415', '2399405', '2383665', '2391518', '2372523', '2391665', '2394867', '2358502', '2386510', '2378144', '2408292', '2376468', '2363780', '2392362', '2400192', '2395383', '2318549', '2376888', '2398827', '2370664', '2391845', '2375801', '2393241', '2357791', '2367748', '2383811', '2394277', '2324728', '2396489', '2384770', '2370031', '2310918', '2383640', '2191469', '2348626', '2353217', '2372090', '2370299', '2380084', '2407393', '2408064', '2406577', '2406810', '2395443', '2383659', '2382422', '2407590', '2370080', '2398231', '2369788', '2395214', '2350614', '2396758', '2350716', '2403551', '2400485', '2350488', '2358381', '2387918', '2378949', '2405328', '2404583', '2396824', '2352316', '2378750', '2392007', '2395470', '2391312', '2406235', '2153880', '2369489', '2356817', '2370364', '2384452', '2405744', '2396198', '2400199', '2377153', '2403760', '2394288', '2383438', '2372003', '2396537', '2398173', '2355831', '2350596', '2399193', '2358228', '2239729', '2404749', '2371534', '2393872', '2402471', '2349217', '2368600', '2387396', '2368245', '2381916', '2394627', '2370979', '2396798', '2346818', '2378734', '2370859', '2354400', '2408315', '2405318', '2383476', '2403323', '2405568', '2385408', '2363152', '2362981', '2372343', '2365581', '2358754', '2392200', '2387561', '2395917', '2404174', '2379541', '2382361', '2354947', '2353347', '2395360', '2364157', '2135000', '2377849', '2355490', '2360858', '2376396', '2353594', '2361531', '2369512', '2358872', '2371326', '2369476', '2355321', '2355222', '2379261', '2395023', '2392092', '2383774', '2380003', '2384583', '2122217', '2396451', '2366320', '2374182', '2364017', '2381848', '2393864', '2394210', '2390252', '2406123', '2404056', '2387280', '2375186', '2357468', '2399635', '2383484', '2350458', '2384580', '2362467', '2369923', '2388582', '2350642', '2365878', '2396418', '2356154', '2365733', '2357210', '2401756', '2395737', '2353408', '2349954', '2355659', '2351326', '2393865', '2398866', '2290758', '2402369', '2350518', '2203797', '2398023', '2368535', '2403368', '2386221', '2381806', '2361341', '2384230', '2369568', '2360037', '2356577', '2358954', '2375944', '2358294', '2392284', '2357936', '2367803', '2397646', '2401997', '2356462', '2391351', '2387555', '2380936', '2404212', '2369574', '2376388', '2390402', '2388061', '2365161', '2378648', '2375364', '2380735', '2402433', '2396815', '2406369', '2370957', '2359105', '2372654', '2351829', '2367334', '2369002', '2364461', '2378215', '2380889', '2394989', '2398997', '2372296', '2407444', '2232504', '2383271', '2370680', '2359540', '2397266', '2403301', '2403189', '2405176', '2349337', '2376799', '2405075', '2339437', '2368743', '2404202', '2373710', '2391069', '2299188', '2349449', '2400142', '2371950', '2397450', '2400268', '2326675', '2389181', '2360424', '2359381', '2282728', '2389810', '2310478', '2308329', '2392229', '2363011', '2383233', '2402950', '2349934', '2371889', '2284347', '2368704', '2382896', '2387661', '2395982', '2353160', '2385713', '2380696', '2394048', '2405016', '2384186', '2390898', '2364226', '2400835', '2359206', '2362311', '2367697', '2356890', '2369910', '2402476', '2380622', '2366709', '2391737', '2358024', '2392277', '2386894', '2399327', '2396063', '2394086', '2371343', '2396044', '2396585', '2390515', '2397719', '2392165', '2386005', '2387107', '2400756', '2357080', '2404436', '2362931', '2357716', '2390610', '2400214', '2372216', '2364664', '2408253', '2391912', '2377359', '2354336', '2372308', '2273789', '2369049', '2406129', '2377920', '2363823', '2387968', '2360834', '2352084', '2388135', '2377027', '2359829', '2295410', '2372847', '2207131', '2362983', '2386910', '2386208', '2400154', '2377981', '2401523', '2363448', '2385434', '2351456', '2381928', '2320878', '2367287', '2364286', '2175114', '2354442', '2352118', '2369281', '2372346', '2361644', '2399063', '2309597', '2346916', '2352856', '2367090', '2376461', '2382667', '2378619', '2369898', '2371624', '2389055', '2369400', '2389537', '2390446', '2350332', '2360928', '2396805', '2399758', '2378187', '2402936', '2404452', '2358959', '2386981', '2382099', '2404686', '2360488', '2384095', '2355406', '2350603', '2399298', '2325418', '2366933', '2346797', '2357276', '2403875', '2356495', '2353241', '2373064', '2404659', '2362266', '2385987', '2383527', '2406881', '2384704', '2396006', '2391704', '2309452', '2351917', '2371557', '2394748', '2404842', '2372817', '2385920', '2398830', '2354831', '2370048', '2363737', '2368544', '2352558', '2356095', '2367906', '2384012', '2372109', '2366187', '2384377', '2350589', '2379555', '2385615', '2376938', '2405324', '2393263', '2371768', '2395942', '2373858', '2352225', '2380455', '2376646', '2376823', '2362861', '2394357', '2388102', '2361125', '2395434', '2389158', '2359281', '2361900', '2375156', '2366573', '2396737', '2398936', '2376483', '2397736', '2393568', '2373478', '2349918', '2395168', '2398424', '2389024', '2367890', '2387026', '2374991', '2327692', '2382738', '2385675', '2391250', '2366291', '2367981', '2396524', '2384442', '2377864', '2376747', '2304474', '2366095', '2388539', '2355608', '2323927', '2377070', '2382316', '2357029', '2398768', '2226852', '2394152', '2401134', '2405692', '2399931', '2395918', '2404524', '2396797', '2375679', '2361539', '2385117', '2378798', '2404894', '2368838', '2382566', '2307707', '2377602', '2404939', '2356215', '2379006', '2384341', '2350871', '2403759', '2360316', '2372726', '2373317', '2380849', '2400042', '2357872', '2273839', '2386530', '2381994', '2358036', '2350068', '2361187', '2381217', '2398041', '2375338', '2395237', '2381659', '2367706', '2355997', '2371788', '2382333', '2399849', '2295275', '2376984', '2375427', '2371140', '2354597', '2390275', '2365337', '2385169', '2351993', '2364455', '2378973', '2408283', '2371654', '2356851', '2400585', '2391179', '2378205', '2408211', '2359286', '2386348', '2362192', '2360555', '2390490', '2353758', '2408205', '2320745', '2357340', '2359695', '2400994', '2399610', '2353089', '2387591', '2402244', '2394113', '2382435', '2396860', '2236159', '2355902', '2396434', '2402331', '2388016', '2334279', '2382796', '2399679', '2405422', '2377439', '2368624', '2362257', '2404272', '2392805', '2386964', '2361193', '2355863', '2352124', '2399482', '2395059', '2362914', '2379410', '2390145', '2370823', '2367001', '2369947', '2381109', '2407471', '2363446', '2348291', '2382082', '2357176', '2374135', '2400306', '2393052', '2358352', '2400665', '2349611', '2407872', '2400288', '2384366', '2260367', '2345609', '2384777', '2381213', '2392477', '2396526', '2355758', '2357007', '1984889', '1965773', '1210283', '1049308', '2007338', '1483115', '2372117', '2365532', '2368097', '2358631', '2404858', '2402756', '2383077', '2374628', '2375551', '2388566', '2400047', '2399345', '2354959', '2390862', '2353368', '2363178', '2398834', '2392251', '2403764', '2384475', '2367718', '2397634', '2380560', '2383400', '2402628', '2387331', '2399948', '2399760', '2391837', '2366444', '2393644', '2377339', '2351734', '2365803', '2406082', '2361741', '2375416', '2392826', '2352262', '2398411', '2385300', '2390481', '2366612', '2353417', '2375494', '2396813', '2365204', '2221688', '2363226', '2373302', '2392547', '2392897', '2382914', '2401198', '2326937', '2384023', '2385736', '2402323', '2397311', '2401075', '2370294', '2352313', '2373763', '2374680', '2396410', '2395598', '2407434', '2401817', '2394212', '2355510', '2393442', '2341325', '2392442', '2380668', '2394321', '2392787', '2351816', '2362705', '2351149', '2391363', '2383024', '2373445', '2390029', '2394286', '2386573', '2359656', '2395558', '2395904', '2394057', '2405958', '2366989', '2395489', '2405433', '2384397', '2364791', '2364137', '2351925', '2368968', '2401933', '2384349', '2363353', '2394762', '2403530', '2368048', '2406030', '2331323', '2337820', '2354381', '2386554', '2386434', '2407500', '2382811', '2392794', '2388140', '2373780', '2394994', '2374901', '2390831', '2368498', '2348413', '2401157', '2380526', '2307756', '2371099', '2351987', '2404566', '2377624', '2351305', '2377921', '2367273', '2376848', '2395473', '2344882', '2181065', '2366417', '2366842', '2386195', '2401396', '2397948', '2405715', '2371786', '2386526', '2371886', '2336916', '2233706', '2351609', '2400022', '2357730', '2353678', '2358303', '2368434', '2366298', '2363930', '2378888', '2385465', '2379389', '2396363', '2372493', '2404205', '2353712', '2233192', '2405547', '2362104', '2359098', '2334372', '2362984', '2392348', '2328155', '2378583', '2350538', '2392449', '2399456', '2363081', '2379969', '2360609', '2291787', '2349831', '2350921', '2363150', '2382017', '2355363', '2329355', '2367174', '2359218', '2372063', '2400507', '2355579', '2352600', '2360387', '2381285', '2365602', '2396609', '2350054', '2376949', '2382255', '2400559', '2385334', '2356356', '2388241', '2394996', '2373751', '2307581', '2350668', '2363407', '2407386', '2388054', '2362139', '2396869', '2386974', '2408128', '2333397', '2302372', '2384096', '2377095', '2166660', '2375515', '2398260', '2385919', '2387445', '2400525', '2404373', '2350523', '2401624', '2369370', '2367025', '2402372', '2401298', '2398740', '2395897', '2370419', '2364035', '2402358', '2371497', '2361694', '2384917', '2382160', '2364317', '2359557', '2399033', '2381084', '2404232', '2375695', '2398291', '2373242', '2365127', '2369086', '2358882', '2385847', '2354211', '2376250', '2388163', '2406522', '2406435', '2377974', '2406434', '2385308', '2404445', '2403958', '2245281', '2349606', '2354715', '2350336', '2387831', '2385083', '2398287', '2246895', '2407630', '2404847', '2297679', '2380337', '2350175', '2366383', '2373783', '2361899', '2383447', '2359949', '2386904', '2404037', '2356381', '2387482', '2362497', '2343328', '2361955', '2390447', '2390290', '2344102', '2367851', '2391634', '2351833', '2408377', '2391736', '2358941', '2380586', '2353154', '2358798', '2362215', '2399629', '2385447', '2354388', '2407478', '2366806', '2386261', '2350626', '2375996', '2350738', '2381961', '2398781', '2402404', '2349109', '2388046', '2407439', '2290329', '2359135', '2369363', '2393936', '2351977', '2359252', '2350569', '2368985', '2360574', '2407186', '2369285', '2387069', '2368182', '2387083', '2382445', '2383508', '2378518', '2323645', '2402322', '2366026', '2391307', '2358330', '2369227', '2366866', '2357900', '2378783', '2393210', '2381342', '2354743', '2357815', '2391742', '2397078', '2400073', '2394529', '2333027', '2394153', '2406883', '2386575', '2372575', '2374093', '2358730', '2407459', '2376266', '2371931', '2357861', '2352915', '2376788', '2383389', '2362805', '2357115', '2375309', '2398397', '2402466', '2392373', '2407973', '2395944', '2350577', '2369376', '2365116', '2379879', '2376696', '2374525', '2391929', '2362700', '2394615', '2377483', '2356070', '2406145', '2401947', '2385028', '2360342', '2405878', '2373314', '2387685', '2379474', '2373772', '2396620', '2365163', '2368000', '2370791', '2377187', '2402294', '2384617', '2387074', '2374325', '2393873', '2407370', '2362655', '2401248', '2353434', '2361872', '2351776', '1231010', '2354712', '2349763', '2380414', '2398082', '2398528', '2397460', '2362711', '2316760', '2371129', '2371399', '2387739', '2378431', '2393853', '2364076', '2388178', '2342062', '2397627', '2391177', '2349705', '2366868', '2337962', '2366857', '2381983', '2333728', '2395071', '2360024', '2401438', '2375293', '2372904', '2350328', '2387821', '2387480', '2394020', '2382209', '2376100', '2363146', '2381751', '2389056', '2364100', '2367050', '2396901', '2406747', '2404718', '2355210', '2404204', '2384319', '2354694', '2379336', '2378911', '2382428', '2360986', '2371830', '2388953', '2366230', '2369432', '2391476', '2369173', '2399789', '2399436', '2393962', '2345242', '2404873', '2328089', '2404896', '2404030', '2397673', '2385853', '2364259', '2364181', '2408072', '2276624', '2349878', '2366199', '2376677', '2368199', '2407725', '2380852', '2356747', '2407627', '2365004', '2373953', '2210175', '2366961', '2396937', '2350153', '2213045', '2172111', '2353682', '2383820', '2372250', '2402610', '2370612', '2389360', '2407505', '2369729', '2400383', '2371471', '2395190', '2399093', '2383204', '2403645', '2357960', '2357392', '2349278', '2352627', '2385433', '2351147', '2399378', '2377366', '2371375', '2361577', '2404307', '2383532', '2350898', '2353003', '2361701', '2369966', '2395327', '2366982', '2405036', '2379167', '2402551', '2383973', '2372770', '2363492', '2350321', '2392381', '2368594', '2372985', '2404934', '2395684', '2392286', '2405735', '2373518', '2388051', '2407602', '2311438', '2377245', '2355887', '2385076', '2388799', '2362204', '2377047', '2336126', '2387205', '2351760', '2392221', '2397408', '2223575', '2405344', '2378202', '2368085', '2357826', '2368698', '2354430', '2372857', '2354389', '2343607', '2361359', '2378816', '2406351', '2378003', '2363014', '2404453', '2350112', '2341365', '2393520', '2244821', '2384791', '2361627', '2357418', '2368028', '2376507', '2398729', '2183026', '2384297', '2352733', '2407499', '2402256', '2366825', '2406318', '2392723', '2407260', '2401778', '2263245', '2385140', '2383755', '2400639', '2398394', '2395354', '2335073', '2368010', '2384985', '2364528', '2370945', '2372258', '2393493', '2372821', '2350610', '2366969', '2282695', '2350923', '2377442', '2395376', '2390746', '2398187', '2369508', '2379979', '2355808', '2401329', '2387824', '2407897', '2390567', '2402788', '2407555', '2402361', '2371947', '2351824', '2357956', '2393792', '2170554', '2371808', '2318532', '2346390', '2361404', '2403222', '2356345', '2373521', '2358526', '2355938', '2360486', '2388353', '2407102', '2396774', '2387786', '2405079', '2368775', '2359620', '2406337', '2397384', '2351789', '2400097', '2365836', '2359013', '2375178', '2358814', '2386041', '2383628', '2392409', '2383875', '2354340', '2372413', '2359512', '2135033', '2362441', '2383174', '2399135', '2381709', '2394517', '2317123', '1620815', '2390343', '2382346', '2379106', '2383861', '2400739', '2229688', '2384201', '2406667', '2365307', '2339491', '2401429', '2405255', '2367554', '2363950', '2396750', '2362167', '2384886', '2401914', '2375850', '2393784', '2370782', '2406683', '2396052', '2388228', '2405573', '2390758', '2397971', '2355895', '2400324', '2367327', '2379354', '2395238', '2371000', '2401705', '2374440', '2391599', '2379367', '2382199', '2364136', '2349966', '2400747', '2392210', '2361402', '2357274', '2345112', '2402280', '2382246', '2372438', '2354424', '2357705', '2359113', '2390353', '2351341', '2366275', '2361032', '2394481', '2381992', '2364627', '2353507', '2393528', '2383048', '2269030', '2369661', '2379138', '2373047', '2383979', '2394939', '2397980', '2358825', '2407414', '2390176', '2401495', '2077705', '1365526', '1597694', '1738851', '1984007', '2007580', '1142269', '2361292', '2350095', '2402751', '2352250', '2374293', '2408054', '2351073', '2404146', '2405652', '2384627', '2392022', '2386190', '2396135', '2354934', '2353452', '2406023', '2395964', '2255421', '2369248', '2355475', '2382111', '2374112', '2402930', '2366062', '2404905', '2362529', '2360823', '2335686', '2396390', '2395907', '2383280', '2371106', '2377810', '2361272', '2400433', '2267105', '2395455', '2393150', '2358823', '2389446', '2387456', '2388715', '2135551', '2378049', '2401349', '2396782', '2396367', '2401926', '2187717', '2406551', '2376985', '2062207', '2386837', '2398669', '2403333', '2365205', '2352996', '2359508', '2362076', '2401364', '2349446', '2389430', '2331497', '2359999', '2402269', '2353640', '2355104', '2390356', '2404990', '2391631', '2362122', '2399222', '2368874', '2366722', '2359010', '2400326', '2383994', '2390743', '2401620', '2313511', '2402832', '2367458', '2402570', '2155218', '2374854', '2349656', '2199164', '2389792', '2357103', '2380029', '2350681', '2319207', '2400491', '2395435', '2354768', '2371811', '2393288', '2323457', '2374822', '2358925', '2403279', '2388359', '2359279', '2349865', '2388904', '2379980', '2385822', '2391044', '2363421', '2402874', '2363528', '2359846', '2362226', '2363903', '2358533', '2351020', '2359924', '2389297', '2402153', '2405787', '2360953', '2398306', '2398909', '2406584', '2371149', '2373010', '2371982', '2387075', '2330429', '2391801', '2350526', '2358705', '2396441', '2386035', '2397559', '2368518', '2395370', '2371741', '2385803', '2350970', '2397547', '2402775', '2356093', '2360990', '2316201', '2394721', '2359102', '2354135', '2374905', '2368579', '2385452', '2380950', '2389660', '2362032', '1701014', '2406798', '2394190', '2391256', '2398767', '2382274', '2368435', '2371686', '2365459', '2400645', '2351354', '2346143', '2376779', '2370298', '2378944', '2388563', '2380092', '2401625', '2391455', '2348000', '2325732', '2367525', '2398655', '2382466', '2390467', '2350713', '2364324', '2391340', '2388258', '2398299', '2373918', '2404658', '2390477', '2380170', '2358976', '2371376', '2250964', '2251629', '2395035', '2356908', '2397778', '2358969', '2352223', '2383388', '2388261', '2379938', '2405829', '2353068', '2323562', '2295511', '2392969', '2381995', '2386822', '2394720', '2374798', '2307896', '2390806', '2365167', '2380080', '2367900', '2391653', '2387570', '2406458', '2401222', '2387406', '2377422', '2376204', '2352561', '2352013', '2400246', '2245443', '2357348', '2360730', '2367671', '2396878', '2395460', '2370875', '2360078', '2349128', '2406626', '2349945', '2406527', '2380171', '2371426', '2393446', '2389257', '2363303', '2286870', '2393433', '2401004', '2376494', '2360035', '2381148', '2370613', '2380541', '2380576', '2368023', '2362796', '2406217', '2378219', '2354291', '2371207', '2361950', '2350350', '2360567', '2358287', '2348137', '2387350', '2352099', '2349832', '2390080', '2375212', '2386646', '2373470', '2363661', '2392786', '2363773', '2375015', '2362201', '2297792', '2404708', '2288401', '2373030', '2361008', '2401470', '2393708', '2387017', '2396192', '2385428', '2407209', '2396763', '2377939', '2383898', '2407138', '2366174', '2355377', '2356322', '2398692', '2364264', '2357488', '2376342', '2381884', '2363513', '2389246', '2381856', '2378806', '2401737', '2381795', '2298771', '2384628', '2380858', '2394510', '2385876', '2359664', '2368713', '2371887', '2351982', '2366287', '2403079', '2394179', '2350293', '2397843', '2370379', '2387284', '2405429', '2380114', '2330551', '2391264', '2349523', '2389808', '2383817', '2201113', '2313315', '2395219', '2381500', '2349345', '2403326', '2376365', '2352813', '2377784', '2363665', '2403200', '2398565', '2398081', '2365856', '2377470', '2375640', '2372207', '2390327', '2367148', '2361358', '2379452', '2369641', '2298737', '2398523', '2358133', '2368262', '2389385', '2193044', '2365468', '2395831', '2379681', '2356364', '2407212', '2360383', '2397830', '2383076', '2367130', '2357652', '2379072', '2388966', '2404728', '2369659', '2397525', '2375387', '2363583', '2360971', '2377813', '2394910', '2376957', '2366407', '2406903', '2382935', '2381010', '2365345', '2404803', '2277256', '2369048', '2381475', '2395257', '2375426', '2379748', '2386547', '2350472', '2203240', '2207812', '2370570', '2247987', '2380829', '2399521', '2391326', '2368930', '2354992', '2361026', '2383244', '2364339', '2401432', '2389030', '2376480', '2375213', '2365847', '2380262', '2359228', '2365997', '2386243', '2364548', '2349245', '2369239', '2370986', '2360945', '2386982', '2199187', '2377424', '2392516', '2407592', '2382884', '2368425', '2396378', '2397703', '2374938', '2386205', '2357047', '2406338', '2407272', '2396355', '2399049', '2378090', '2362888', '2349416', '2354577', '2354133', '2364949', '2381006', '2366118', '2398537', '2407088', '2353697', '2389890', '2364125', '2372448', '2386902', '2362410', '2400357', '2377142', '2407281', '2374419', '2317018', '2399730', '2387851', '2391466', '2377423', '2355871', '2396571', '2372019', '2351667', '2387832', '2407546', '2376287', '2380972', '2296864', '2373440', '2365681', '2388024', '2399954', '2398870', '2358396', '2388465', '2378397', '2359800', '2369034', '2395119', '2358962', '2357541', '2274467', '2367074', '2361389', '2363902', '2396457', '2352976', '2350442', '2382780', '2402048', '2378752', '2385843', '2407039', '2389414', '2364010', '2365342', '2377621', '2202063', '2392641', '2397649', '2403266', '2357863', '2399710', '2378443', '2380963', '2401345', '2397030', '2390844', '2194917', '2398517', '2360780', '2353731', '2399491', '2335960', '2393452', '2395826', '2374303', '2366927', '2362691', '2359910', '2384068', '2368264', '2393293', '2407993', '2367947', '2371078', '2207482', '2394269', '2392562', '2392573', '2358911', '2330866', '2358791', '2384953', '2397493', '2360069', '2164591', '2373730', '2349551', '2405283', '2366178', '2354242', '2386671', '2358781', '2368254', '2358179', '2353477', '2407445', '2388490', '2358958', '2307515', '2353805', '2376435', '2366603', '2370094', '2379316', '2403015', '2406089', '2402940', '2394173', '2383555', '2350665', '2405591', '2358296', '2365739', '2373341', '2392441', '2122751', '2349543', '2366853', '2395499', '2394449', '2367889', '2404992', '2212792', '2353287', '2395639', '2352674', '2361730', '2360792', '2374458', '2365859', '2159316', '2387457', '2377905', '2384089', '2357822', '2377210', '2382424', '2396458', '2398556', '2358979', '2375549', '2408370', '2364198', '2302732', '2400367', '2385256', '2357002', '2398910', '2393988', '2397480', '2377083', '2381033', '2361861', '2350996', '2367948', '2366401', '2387641', '2374696', '2389166', '2355541', '2361089', '2392250', '2359842', '2383787', '2370978', '2392447', '2381993', '2361441', '2215790', '2359080', '2402071', '2360996', '2384279', '2372355', '2365213', '2385422', '2350503', '2387029', '2365365', '2397412', '2407873', '2394569', '2392188', '2373903', '2392149', '2384727', '2352366', '2399841', '2380275', '2400116', '2376539', '2393889', '2360788', '2382163', '2378827', '2388726', '2363961', '2370059', '2370141', '2404060', '2380984', '2391514', '2299179', '2252954', '2397734', '2375651', '2384040', '2357674', '2350014', '2399402', '2351424', '2351517', '2363023', '2389274', '2355822', '2340877', '2360966', '2354458', '2382273', '2380663', '2386386', '2373449', '2350590', '2386347', '2361058', '2376002', '2399917', '2227958', '2358411', '2355305', '2405381', '2381358', '2402545', '2391652', '2405234', '2369716', '2370861', '2388871', '2366052', '2380112', '2387360', '2367294', '2357467', '2366935', '2357658', '2383599', '2388157', '2376605', '2353011', '2385946', '2406440', '2364851', '2391059', '2347777', '2384831', '2393669', '2398033', '2353118', '2359962', '2399763', '2343990', '2281564', '2400736', '2401814', '2341841', '2404604', '2350457', '2379949', '2351221', '2363642', '2375990', '2387102', '2407685', '2301187', '2385640', '2394817', '2404538', '2366880', '2396734', '2367902', '2369852', '2390793', '2334038', '2367787', '2356615', '2403138', '2399377', '2331797', '2372331', '2347346', '2372201', '2370162', '2386222', '2355861', '2357306', '2363718', '2355407', '2379413', '2391421', '2314995', '2395102', '2370165', '2392131', '2242848', '1909963', '1946793', '1655327', '1481685', '1942151', '2045599', '1088256', '1134219', '2135074', '1806838', '1756431', '2197600', '2215689', '2279322', '2276454', '2247591', '1090981', '1018950', '1947722', '1436133', '1969347', '2150253', '2163619', '2175669', '2042070', '1961410', '1030241', '2169671', '2188644', '2192762', '2109123', '2202228', '2191245', '1278822', '1003235', '1986718', '1207171', '2090503', '1975084', '2149331', '2103637', '1849456', '2185725', '1389380', '2204226', '2150102', '1878146', '2044984', '2227621', '2220291', '2236535', '2248495', '2063100', '2226881', '2206468', '2235127', '2226551', '1075134', '2201096', '2226167', '2102895', '2220607', '1933974', '2119384', '2119568', '2214757', '1781333', '1423446', '1894743', '1021601', '1602831', '1856379', '2257695', '2280235', '2051777', '2138223', '1041774', '1492104', '2167205', '1892142', '1808326', '2097120', '2190697', '2181238', '2105472', '2147589', '2146737', '1512382', '2188708', '2002790', '1888590', '1998762', '2018995', '2168952', '2119295', '2115430', '2157488', '2013014', '2171200', '2059239', '2047292', '1253187', '1361035', '1006664', '2216437', '1866245', '2215190', '1568318', '2006951', '1507953', '1058909', '2133430', '1118709', '1085302', '2166739', '2202925', '2142736', '2239270', '2064186', '2101667', '2194597', '1238168', '2214015', '1288933', '1300722', '1229059', '1086447', '1623574', '2165928', '2194026', '1031881', '2267666', '2255673', '1004226', '2261356', '2278134', '2225699', '2218829', '1868195', '2149466', '2207641', '2214780', '2223990', '2262994', '2218367', '1171763', '2099419', '1478728', '2147732', '2154199', '2124157', '2099584', '2184417', '2185942', '2101163', '2209417', '1026722', '2193094', '2185875', '1825824', '1048146', '2145562', '1835606', '1655900', '2129237', '2181396', '2045289', '2116794', '2166940', '2171717', '2215346', '2205752', '1296279', '1375406', '2096585', '2168039', '1686768', '1335199', '1926259', '2021961', '2224808', '1022496', '1316391', '1960853', '1393753', '1025673', '2241932', '1863529', '2192897', '2152166', '1411146', '2135016', '2212509', '1236144', '2244973', '1220698', '2210810', '1028934', '2188693', '2155102', '1015218', '1278510', '2110711', '1361550', '1954228', '2187955', '2252543', '2245831', '1281669', '2269558', '1551756', '1722891', '1465935', '2265020', '1034066', '1359364', '2282389', '1180475', '1410078', '2160419', '2159560', '1898984', '2149673', '1974415', '1951806', '2068348', '2171244', '1115676', '2047275', '1020329', '1960500', '2190719', '1046086', '1024167', '1474199', '1416916', '1759004', '2149136', '1217824', '1339889', '2042338', '2168221', '2031248', '1185489', '1067224', '1837510', '1288935', '2009231', '1614294', '2190805', '2156469', '1075841', '2172144', '2232565', '2233391', '1797407', '2244428', '2023838', '2213619', '1041353', '2195309', '1419250', '2174147', '1684303', '1000903', '1090393', '1959540', '1245003', '1033894', '2236497', '1449088', '2200829', '2219297', '1490595', '2263204', '1807478', '1051438', '2206009', '1097103', '2275185', '2281072', '1000720', '1018570', '2234186', '2227492', '1020810', '1079153', '1086777', '1834884', '2274974', '2224680', '1040925', '1377963', '1863597', '1094800', '1097529', '2116028', '2154015', '2175019', '1761662', '2195791', '1767119', '2161095', '2142998', '2107366', '2158268', '1776324', '2149003', '2045278', '2140347', '2052078', '2168807', '1025284', '1054720', '1917535', '1133168', '2085747', '1180459', '2194710', '2084712', '1841211', '1850722', '1939127', '2182021', '1204860', '1951190', '1010131', '2067651', '2222749', '1946565', '2060694', '1254216', '2242665', '2248011', '1278549', '1239194', '1240472', '1477622', '1048582', '2151916', '2126271', '2114615', '1857140', '1271066', '1138871', '2243746', '1721406', '1069985', '1374704', '2279184', '1015127', '2159392', '2141460', '2033718', '2042597', '2088033', '2106019', '1792269', '1388646', '1560637', '1937979', '1948384', '2108148', '2141154', '2181367', '2022632', '2164581', '1994570', '2064935', '2145023', '1311348', '1438334', '1256424', '2075278', '2131419', '2115726', '2223357', '1425855', '1834076', '1958862', '2002356', '1166668', '1755615', '1057641', '2240014', '1077575', '2188965', '2182473', '2189331', '2196796', '2151072', '2099773', '1358111', '2125343', '2066983', '1727090', '1291186', '2067396', '1112048', '1190280', '1035540', '1023906', '1033864', '2177789', '2206553', '2249821', '1035740', '2100399', '2261586', '1028696', '1203903', '1195404', '1051853', '1185908', '1010714', '2250393', '2246563', '1268935', '1573721', '1033181', '1949465', '1875102', '2122466', '2174609', '1108841', '2083094', '2081427', '1064839', '1898334', '2096662', '1240902', '2125449', '1905400', '2164312', '2014429', '2147567', '2042390', '2149239', '1455031', '2153739', '1417805', '2041060', '1002676', '2113892', '2202799', '2118998', '2187813', '2218760', '1820498', '2193742', '1051425', '2126263', '2234040', '2204615', '1064134', '2219873', '2217142', '1185992', '1558222', '1914491', '2190465', '1915799', '1800082', '2233680', '2157518', '2063842', '1079186', '2217068', '2219251', '1192236', '1018960', '2163737', '1022642', '1297975', '2192845', '1819390', '2149384', '2066026', '2207959', '2159237', '2086213', '2263369', '2012711', '1394436', '1020670', '2133491', '2065955', '2160486', '1849262', '2088684', '2181930', '2178529', '1885002', '1400360', '2175285', '1401312', '1008907', '2145145', '1029261', '1058936', '1973920', '1271763', '2157399', '1356801', '2180723', '1929839', '1165497', '1203445', '1030691', '2163869', '1145936', '1269862', '2194899', '1516401', '2069330', '1223218', '2219020', '2237112', '2223527', '2189502', '1080182', '1557821', '2192244', '2250252', '2180961', '1008478', '1080516', '2191644', '2078190', '2144945', '2086007', '1409574', '2201936', '1312910', '2049306', '1861018', '1805645', '1479785', '1101013', '2250624', '1906034', '1043558', '1245088', '2261194', '1022985', '1381258', '1067455', '1371415', '1259127', '1125657', '1288658', '2123432', '1313248', '1998026', '1182018', '1441616', '1118915', '2169971', '1014340', '2102438', '1838454', '1778182', '1016369', '2200202', '2162070', '1039242', '1008354', '1863214', '2118898', '2196794', '1874809', '2158644', '1787809', '1246306', '2148602', '2156932', '1651635', '1255474', '1308962', '1947886', '2222732', '2180246', '1123412', '1290429', '1006477', '2162615', '1777773', '1281541', '2233451', '1369410', '2203546', '1606490', '1455248', '2225064', '2187954', '1517199', '2181048', '2015373', '1745991', '1887902', '1642194', '1081780', '2170275', '2166145', '1374067', '1079170', '2158901', '1837980', '2037247', '2149903', '1957518', '2111234', '1432992', '1296946', '2201232', '2208863', '1896857', '1433242', '2167668', '2088344', '2013576', '1852763', '2214475', '2112485', '1102029', '2181042', '2164012', '1897697', '2208377', '1997839', '2169431', '1896312', '1841635', '2206097', '1875137', '1084560', '1019739', '1879666', '1913089', '1853066', '1721220', '2166935', '2170988', '1210586', '1908116', '2222727', '2139068', '2219419', '1925308', '1008229', '1595592', '2159226', '1016508', '2103436', '2116267', '2214034', '2102056', '1942695', '2059624', '1075343', '1249397', '1468372', '1909643', '1951785', '1052440', '2180751', '2227256', '1045419', '1000793', '2045854', '1077537', '2222315', '2260195', '2037800', '2277301', '1188025', '2252620', '1376516', '1512529', '1318691', '2214017', '2219198', '2217982', '1211669', '1112896', '1030173', '1032786', '2272666', '2258022', '2196646', '1029067', '1396339', '1209635', '1355293', '1109496', '1215923', '1031092', '2090994', '2168884', '2109513', '1983633', '1460918', '1219833', '2185138', '2173290', '2096657', '2056225', '1351026', '2050033', '2141251', '1411786', '1905768', '2038339', '1625142', '2186446', '2189159', '1928670', '2120212', '1683427', '1149933', '1334619', '2093772', '2077828', '1979712', '1742002', '1084748', '1103937', '1863817', '2199907', '2121286', '1269663', '2210211', '1065344', '2065287', '2188393', '2225626', '2221736', '1227539', '2189711', '2232262', '1975249', '1201884', '1934138', '1284593', '1916658', '2165333', '1906368', '2101155', '1698530', '2118092', '2012718', '1255512', '1044000', '1986203', '1539374', '1005390', '1574562', '1457197', '1854480', '2262714', '1113985', '1879803', '1313712', '2053139', '2015289', '1873452', '2181249', '1494945', '1790822', '1770152', '1757986', '1369223', '2163193', '1200096', '1995143', '1203587', '1784813', '2071842', '2152260', '2183689', '1251906', '1245408', '2214668', '1587997', '2215056', '1235897', '1999833', '1087506', '2238694', '2237360', '2102395', '2060973', '1935101', '2243385', '1236931', '2212521', '1958556', '2165972', '1360809', '1002912', '2254383', '2184402', '1796738', '2265447', '2013289', '1018601', '1382664', '1384770', '2215543', '2265177', '2276587', '2212623', '1100203', '2134520', '1967401', '1491903', '1045390', '1738029', '2111339', '2196024', '2194677', '2111538', '2186007', '2210059', '2137441', '2012561', '1101973', '1295856', '1078491', '2169774', '1869435', '2200552', '2021056', '2167742', '2024668', '1783092', '1039922', '2072198', '1883013', '1409771', '1219999', '1002637', '2021263', '2219019', '2137426', '1033838', '2106480', '1030446', '1000604', '2087275', '1733955', '2216376', '1010530', '1863326', '2054551', '2239526', '2200319', '1066229', '2027774', '2223425', '2204678', '1002226', '1972942', '1338876', '2223470', '1050617', '2238654', '2216859', '2039803', '2238488', '2206744', '2121683', '2192097', '1372089', '1754292', '2263380', '1850334', '2225816', '1076760', '2158693', '2077408', '1627646', '2273517', '1898574', '1202057', '1844065', '2159183', '2137119', '2131690', '1890895', '2163449', '2153536', '2185884', '1472551', '2184630', '2211949', '2144826', '2126251', '2016885', '2197077', '1096745', '2159282', '1434659', '1018548', '1464584', '2113906', '2145104', '2156799', '2001746', '2196434', '1899725', '1188040', '1947355', '2204351', '2194982', '2205300', '2168836', '2203196', '2233123', '2214890', '2141682', '2206924', '1032894', '2165215', '1064915', '1194280', '1906507', '2196340', '2182752', '2207718', '2010776', '1289731', '2155169', '2217238', '2114138', '2008726', '2221912', '1078913', '2223674', '1077055', '1988500', '1014537', '1858988', '2283944', '1019266', '1633611', '2214928', '2264311', '2222983', '2149278', '2122555', '1186465', '2046857', '1599972', '2069191', '1648202', '2068038', '2155004', '1273623', '1772400', '2195956', '1094416', '2063927', '2036997', '2149276', '2145314', '2191747', '2185963', '2175039', '2123665', '2204575', '1004820', '2179856', '2224423', '1021837', '1175913', '2043726', '1815113', '2234118', '1909086', '1744109', '1782063', '2171968', '2021252', '2212877', '1285046', '1037500', '2215955', '2077030', '2229846', '1011576', '1936499', '1233430', '1063576', '2259917', '2221791', '1642342', '1272358', '1351981', '1277324', '1124995', '2282707', '1041574', '1910980', '2169033', '2167809', '2158699', '2165109', '2177936', '1031392', '2045096', '1116370', '2013168', '1071599', '1354788', '2012171', '1940748', '2191806', '1977704', '2143225', '2168615', '2013035', '2003625', '1783383', '2195144', '2204527', '1509159', '1833470', '1892195', '1840593', '2207858', '2148471', '1648414', '2203975', '1002423', '1928280', '2132823', '1666862', '1296060', '1014044', '1665698', '2241461', '2246711', '2160765', '2240009', '2243981', '2242031', '1909532', '2248108', '2117962', '1398143', '2085264', '1884931', '2188676', '1061589', '1558258', '1016046', '1297382', '1233419', '1155173', '2261085', '1112608', '2076808', '1584344', '2224173', '1280918', '2078862', '2282556', '2255203', '1152906', '1089142', '1869200', '1058911', '1285257', '2261966', '1027882', '1007263', '2031105', '2159199', '2141381', '2097567', '1767211', '2155417', '1083411', '1912198', '2110639', '1071872', '2049003', '1432169', '1518452', '1698211', '2197910', '2104310', '1208198', '1017828', '2111299', '1395218', '1138892', '1177184', '2157340', '1713675', '1112918', '2065207', '1255771', '1846840', '1872940', '2163094', '1022613', '2227657', '1006038', '2192734', '1083457', '1729180', '2242337', '2012440', '2247079', '2103021', '1023039', '2200143', '2211868', '1218113', '2161285', '2211791', '2128309', '2091621', '1632823', '1934164', '1083226', '1011694', '2034043', '1302080', '1485375', '1780410', '1217771', '1841028', '2236550', '1212254', '2077517', '1878937', '1449105', '1004011', '1545228', '1883826', '2163492', '2111305', '1950830', '2137435', '2038172', '1301212', '1860458', '2183999', '2188343', '1048718', '2155426', '1293392', '1200861', '1979110', '1070452', '1914186', '2182078', '1883469', '2112113', '1932933', '1315202', '2227342', '1235537', '2233546', '2089232', '2229900', '1292364', '1003799', '1007142', '2172315', '1986569', '1067708', '2122012', '2127222', '2256112', '2204478', '1072357', '1011774', '2276637', '2188500', '2240556', '1875952', '2080796', '1013378', '2154796', '2226294', '1049815', '2201302', '1033244', '1022276', '1199321', '1178297', '2017440', '2128500', '2155601', '1314990', '2181111', '1313739', '2185229', '2201541', '2125498', '2062175', '1982157', '2165655', '2024811', '1526303', '2185146', '1766087', '2111478', '2149170', '2163678', '2173039', '2172410', '1420378', '2165350', '2059151', '2173528', '2178976', '2218879', '1344397', '2171511', '2053046', '2210120', '2132427', '2216360', '2131360', '1238254', '1883909', '2231336', '1078475', '2142000', '1635165', '1523340', '1057559', '2137541', '1165166', '1856280', '2142038', '1954183', '2217284', '1186999', '1515288', '1099725', '2187056', '1109835', '1022542', '2251626', '1339992', '1286363', '1036792', '1195356', '1009705', '1003599', '2250351', '1062548', '2275818', '2155674', '2158576', '1012647', '1542959', '1934828', '2170552', '2146140', '2191479', '1602704', '2033861', '1235683', '2174208', '1931436', '2021672', '2034203', '2059461', '1787692', '1579613', '2110685', '2101775', '1075811', '2080677', '2158507', '2113500', '1846686', '1212988', '2152077', '1929865', '1308937', '2223007', '2034296', '2077318', '2194219', '2222495', '1201739', '2220563', '2136551', '1854758', '1204622', '2165646', '2188490', '1991963', '2113645', '2045722', '2109474', '2142598', '1822005', '2207242', '1171570', '2047828', '1158512', '2264773', '1009980', '1860600', '1996921', '1678177', '1432168', '1184862', '1398572', '1245802', '2122379', '2049775', '2272696', '2085778', '1619824', '1761435', '2070397', '2066588', '2037147', '2048307', '1043953', '1519495', '2160876', '1264200', '1003590', '2146379', '1694299', '2200300', '1851312', '1923019', '2113820', '1676051', '2134491', '2190194', '1519582', '1804962', '2066618', '1861217', '2111426', '2147923', '1927857', '2164074', '1004384', '2057994', '1875204', '2179410', '1812228', '1488381', '2152789', '1385151', '1932096', '2139950', '1740346', '1874334', '2075071', '1192022', '2234990', '2240432', '2171682', '1227583', '2156094', '2176757', '2194954', '2184759', '2112456', '2156927', '2199278', '2019560', '2200077', '2220598', '2109312', '2228836', '2057434', '2230721', '2217360', '2053377', '1313337', '1746510', '1175288', '1093925', '2261653', '2264161', '1074230', '1390158', '2140919', '1343116', '1224872', '1227058', '1212124', '1574830', '1938359', '2119664', '1713151', '1057807', '1765788', '2004731', '2041827', '2200454', '2200889', '2183402', '2153611', '1783502', '1236728', '1375026', '2156121', '2169237', '1977952', '2165067', '1909802', '2179952', '1071491', '1320875', '1769283', '2095450', '2159530', '2204722', '2150748', '1113456', '2104520', '1127143', '2057118', '1011919', '2121773', '2121118', '1080066', '2166868', '1604470', '1184142', '1044342', '1820710', '1290435', '2106834', '2216087', '2057029', '1016172', '2166624', '2071608', '2105318', '2239958', '1633597', '1116035', '2214075', '2011400', '2139962', '2112972', '1660487', '1896790', '1180163', '1293071', '2001391', '1091811', '2247092', '2225051', '1850011', '1853254', '2232910', '2109013', '1002965', '1016443', '1079545', '1019972', '2224735', '2282906', '2102247', '2060193', '2166133', '2162314', '2171549', '1895734', '1810467', '2180474', '1226393', '1335843', '1031505', '2191103', '1294975', '2046890', '2211907', '2193140', '2213364', '1462785', '1991340', '2157983', '1089382', '1580193', '2001827', '1900132', '2131562', '2115636', '1044124', '1605900', '1224063', '1761087', '1146764', '2028921', '2099777', '2002963', '2022771', '2176799', '2061321', '2171014', '1200559', '2220475', '2079821', '2226131', '1916046', '1864610', '2240610', '2204841', '1257505', '2244369', '2251332', '1966012', '1645087', '1474711', '1002014', '1359272', '1129618', '2120048', '2182767', '1681730', '2150273', '2248072', '1076132', '2262763', '1011116', '1519111', '2265533', '1194414', '2217067', '1860422', '1540654', '1426650', '1195166', '2028807', '1901176', '2136276', '2153899', '1312931', '2104580', '2099918', '2019497', '1534527', '2180871', '1987499', '2144624', '2180042', '1911661', '2032993', '1914043', '1544462', '2130631', '1878912', '2070123', '2068799', '2036845', '1958727', '2118303', '1295902', '2100415', '1001928', '2131543', '1021079', '2122545', '2197976', '1378612', '1925867', '1614092', '1083467', '1216066', '1001056', '1810350', '2187835', '2237909', '1018767', '2222763', '2061010', '2081152', '1629931', '2169929', '2069251', '1941980', '1247647', '2230341', '2254565', '2217856', '1285936', '2221240', '2016356', '2230098', '1679177', '2283116', '2282451', '1305186', '1770595', '2256668', '1348583', '1004891', '1262231', '2211828', '2085984', '1032230', '1865202', '1097719', '1005068', '1210964', '1804829', '2151899', '2139560', '1040931', '2183052', '2184597', '2081244', '1919016', '2163388', '2004888', '1984538', '2156735', '2072311', '2144913', '1561017', '2191228', '2187959', '1474547', '1119310', '1414681', '1897341', '2190168', '1219549', '2139533', '2112664', '1122032', '2154129', '2162403', '1246470', '2178913', '2204047', '1000249', '1254674', '1279541', '2219988', '1868649', '1766253', '2210829', '1014805', '1056405', '2051360', '1647261', '1077355', '2015700', '1049479', '2254618', '1922486', '1119018', '2236528', '1967299', '1209048', '2247858', '1155372', '2180583', '1014361', '1338101', '2138010', '2127659', '1022028', '1621919', '1980540', '1522018', '2111499', '2192081', '1971211', '2138361', '1893489', '1072606', '2110128', '2200791', '1303932', '1006476', '1403476', '1966549', '2193417', '1453180', '1834023', '1834051', '2166397', '1113235', '1969783', '1921005', '2141700', '1788924', '1592378', '2103003', '2120982', '2025559', '1008197', '1815107', '2205010', '1208701', '1192097', '2206694', '2216114', '2037889', '2198193', '2039844', '1438783', '1770662', '2102329', '2113761', '1091241', '1179310', '1296968', '2251948', '1014334', '1662996', '1595783', '1086815', '1051628', '1317856', '2263788', '2076661', '2204100', '2281970', '1515551', '2205498', '1397548', '1040413', '1171602', '2049601', '2154524', '2247893', '1406080', '1195173', '1960543', '2155588', '2147758', '2160187', '2171044', '2184134', '2120928', '1022809', '2047491', '1772701', '2130420', '2138142', '2184902', '2199207', '1164308', '1191233', '2061944', '2191061', '2153775', '1983431', '1128481', '2214038', '2126636', '2180683', '1124488', '1852461', '2130192', '2100491', '1267972', '1004137', '1081766', '1736787', '1993770', '1814310', '2186392', '1756601', '1153392', '2207993', '1466982', '2072990', '1916835', '1101324', '1216019', '1214539', '1341017', '2216675', '1072151', '2212748', '1971477', '2136368', '2139079', '1455351', '1020688', '1517734', '2119291', '1085164', '1304334', '2147862', '2210413', '2226701', '1483921', '2155811', '2247355', '1010138', '1817059', '1675264', '2262145', '1125405', '2234503', '1694723', '1461829', '1173625', '2143790', '2261056', '2262843', '1825840', '1070606', '1817316', '2045028', '2122903', '1042350', '2191596', '2211154', '1991572', '1974681', '2162414', '1909543', '1120142', '1882633', '1310809', '2191425', '2159361', '1441424', '2162025', '1205856', '1030792', '1379957', '2216237', '1004186', '1640441', '2228849', '1935958', '2024317', '2200775', '2240383', '1621109', '1274474', '1095503', '2246138', '1069385', '1071986', '1242297', '1500307', '1183258', '1427576', '1404565', '2125890', '1775115', '1122411', '2139292', '2213869', '2174605', '2224929', '1302559', '1644063', '2194553', '1023330', '1023286', '1034321', '2256146', '1212903', '2177289', '1629562', '1374353', '1894206', '1012019', '1017968', '2094502', '1919857', '2272805', '1016676', '1991748', '1006673', '1090301', '2101185', '2140703', '2073137', '2113898', '2054735', '1672520', '2112669', '1540189', '2194137', '1557427', '1015868', '2024953', '1040326', '2178470', '2085862', '1078507', '1196506', '1223050', '2131414', '2020058', '1152037', '1067388', '1899925', '1829082', '2196352', '2162126', '2108809', '1519915', '2170168', '2107322', '1920964', '1078805', '2114666', '1007193', '2167241', '2236639', '2196947', '2242483', '1115646', '2247878', '2223789', '2238502', '1007610', '1268339', '2107298', '2119124', '1865319', '1763186', '2087774', '1421673', '2159510', '1104510', '2149079', '1499387', '1139150', '2133061', '1142602', '1088647', '1593878', '1000837', '2212266', '1042117', '1863889', '1849319', '1079264', '2250487', '1398607', '1227091', '1211867', '2117219', '1130537', '1831326', '2074259', '1095448', '2162947', '1898083', '1667370', '1258328', '2060202', '1734130', '2027554', '1689975', '1036952', '2154052', '1946927', '1657715', '2029804', '2135169', '2169034', '1062810', '1751341', '1732011', '1222425', '1096693', '1043436', '1302408', '1858626', '2044044', '2223974', '1894783', '2127349', '2058579', '1238137', '2190406', '1090141', '1051005', '1046016', '2224654', '2208212', '1378699', '2072690', '2223897', '2216623', '2237692', '2162621', '2198024', '2179757', '2220162', '2220648', '2134386', '2135691', '1200188', '2226508', '1972256', '2188786', '1191636', '1383716', '1410605', '1151254', '1312131', '1477254', '2255839', '1002970', '1463090', '1109764', '2222810', '2210170', '1044870', '2244070', '2254586', '1303156', '1021293', '1125147', '1021725', '2136621', '2124177', '1800541', '1304539', '1901020', '1202174', '1422932', '1730861', '2189471', '1516086', '1930576', '2165931', '2162436', '2183216', '2047467', '1207567', '2138345', '1396728', '2149901', '2095932', '2214800', '1105499', '1264397', '1897533', '2141585', '2220874', '1224983', '2088253', '2196827', '1916066', '2114035', '1087872', '1885903', '1621414', '2060780', '1071807', '1372050', '1277107', '1244911', '1224879', '2243241', '1221603', '2268537', '1100689', '1012783', '1039214', '2278918', '1033885', '1231486', '2097136', '2099371', '2065905', '2159039', '1844622', '1000395', '1571261', '2092110', '1428674', '1599095', '2204820', '2184773', '2164806', '2135286', '1222624', '1041558', '2121904', '2118661', '2148664', '2193653', '2102302', '2181773', '2216576', '2079999', '1404649', '1189072', '2115432', '2234669', '2195560', '2210136', '1037401', '1032931', '1528696', '2245652', '2249209', '1867791', '2250948', '1270389', '1126996', '1141680', '1852527', '2228113', '1498775', '1007001', '1064039', '2256331', '1679513', '1791243', '1195654', '1347019', '1618862', '2242843', '1201186', '2280369', '2222357', '1318273', '1997330', '2248239', '2248187', '2249285', '1867346', '2142161', '2140862', '2140956', '2124942', '2181810', '1891589', '1824172', '2131505', '2137012', '1947274', '1078770', '1978812', '1947096', '1824039', '2184610', '1951461', '2145751', '2178449', '2038911', '1019732', '2168200', '1992132', '2099376', '1306920', '1395236', '2210643', '2077681', '2190366', '2206565', '2186987', '2240961', '1957054', '1693614', '1183134', '1415388', '1019980', '2181354', '1968313', '1244843', '1010935', '2214447', '2133449', '2192774', '2208502', '1117134', '1227251', '1408426', '2229974', '2190820', '2252574', '1838854', '2107905', '2221045', '2271321', '2261531', '2277491', '2279200', '1279910', '1095668', '2110194', '1025954', '2055637', '1851034', '2184558', '2161970', '1092175', '2201397', '2110279', '2172786', '2184717', '2105438', '1450104', '2115177', '1033363', '2101354', '1454260', '2021756', '1266596', '1092523', '2129063', '2137108', '1046044', '1036166', '2171433', '1688689', '2211892', '1867573', '1013029', '2003761', '1940117', '2231622', '1314475', '1032110', '2234706', '2236991', '2081259', '2239591', '2115807', '2095347', '1859885', '2205350', '1433641', '1269861', '2186105', '1851807', '2208347', '1183180', '1250451', '1514555', '2238147', '2199377', '2259142', '1413300', '2263588', '1859076', '2160829', '2161159', '2246470', '2280111', '1792783', '2276673', '2142227', '2228395', '2275508', '1044836', '2003965', '1831234', '2108547', '2150406', '1854704', '2119179', '1889381', '2185314', '2192482', '1192434', '2130247', '2148400', '2103007', '2071364', '1391340', '1739931', '1427670', '2162294', '2009143', '2150626', '1918851', '1044682', '1423444', '2217905', '2005366', '2159351', '2208158', '1869843', '1087196', '1823548', '1715598', '1822541', '1899351', '2169009', '1024022', '1859085', '1968087', '2174128', '2257903', '1000240', '1010678', '1173558', '2238457', '2259002', '2262682', '1087077', '2107871', '2138417', '2130764', '1081921', '1246095', '2080819', '2096932', '1185500', '1709857', '2162897', '1950166', '2154243', '1299264', '1901888', '2103217', '2164002', '1982356', '2025389', '2126095', '2147237', '2090007', '1891752', '1752522', '2086230', '1967253', '2235562', '1338664', '2238274', '2094106', '2230070', '1022212', '1987999', '1891655', '1226561', '1102062', '2214081', '1222115', '2140034', '1332322', '2199248', '2094504', '2201164', '1255094', '1006978', '1271446', '2271728', '1364473', '2262666', '1029792', '2276104', '2249979', '2212335', '1906427', '1985708', '2226117', '2249637', '2202283', '2217548', '2265538', '1377895', '1038023', '1033231', '1128798', '1004969', '2091748', '2160561', '2092758', '1083379', '1995149', '2082437', '2014832', '2155374', '1433316', '1116623', '1126937', '1416535', '2147888', '2112223', '1276684', '2182456', '2103840', '2155152', '2020905', '2182400', '1556404', '1896785', '1914095', '2124829', '2125429', '2194452', '2116798', '2113083', '1247932', '2064752', '2110676', '2170487', '2160984', '2155017', '2157863', '1857602', '2084177', '2159297', '1223216', '1398623', '2116795', '1250683', '2094992', '1946216', '2235775', '1046376', '2133981', '2232082', '2195922', '2238784', '2069772', '2187444', '2166831', '1571549', '2062994', '2235790', '2003584', '1837583', '2072464', '2228561', '1664084', '1226802', '2135008', '1821384', '1015447', '1468502', '1242500', '1879662', '1317412', '2144521', '1920831', '1026150', '1874272', '2121358', '2122625', '1007470', '2043693', '2189478', '1918866', '1199345', '1056840', '2185593', '1469759', '2094198', '2153289', '1578203', '1312748', '2115021', '2195322', '2006705', '2125207', '2179265', '1643746', '2187261', '2193000', '1661421', '1861249', '2148601', '2215836', '2189761', '1923035', '2040157', '2094567', '2115700', '2214768', '2148190', '1986145', '2136891', '2226364', '2098924', '1076605', '1076155', '1632135', '2169602', '2243990', '1010694', '1866521', '1642875', '1890676', '2008825', '2218302', '1823513', '1472680', '2053017', '1760391', '1886784', '2071069', '2106189', '1287112', '2131542', '1751276', '2217625', '1371142', '2207152', '2053287', '2074586', '2264588', '1075943', '2137230', '2265552', '1050759', '2125925', '1454453', '2170608', '2266678', '1811474', '1884326', '1840082')\n",
      "),\n",
      "w_approved\n",
      "as\n",
      "(\n",
      "  select DISTINCT customerId from risk_credit_mis.loan_master_table where loantype = 'BIGLOAN' OR FLAGAPPROVAL = 1 OR FLAGDISBURSEMENT = 1  \n",
      "  or (stage1Status = 'EXPIRED' AND cddInitiatedDateAndTime IS NULL)\n",
      ")\n",
      "select *\n",
      "from\n",
      "(\n",
      "  select distinct\n",
      "  a.Customer_Id,a.TSA_Opening_date,\n",
      "  c.OFSTANDARDACCOUNTID as TSA_Account_Number, c.OfblockAmount, \n",
      "  a.TSA_Status,a.TSA_Balance,a.Solo_Stash_Balance,a.Group_Stash_Balance,a.Term_Deposit_Balance,a.Active_Term_Deposit_flag,a.Last_TSA_Credit_Date,a.Last_TSA_Debit_Date,\n",
      "  a.ARI_Flag,a.Active_Loan,a.Total_Loan_Outstanding,  case when b.customerId is not null then 1 else 0 end as Approved_Loans,\n",
      "  a.Pending_Loan_Applications,a.Hard_Reject_Loans_App,a.Soft_Reject_Loans_App,a.Cancelled_Loans_App, extract(date from a.Last_Login_Date) as Last_Login_Date,\n",
      "  a.Last_TSA_EOD_Balance_Date,a.Last_Group_Stash_Credit_Date,a.Group_Stash_Balance_Owner,a.Run_Date,a.Batch,a.Processing_Month,a.pending_loans_not_expired_not_exempt,a.expired_loans,\n",
      "  a.pending_loans_lastDt,a.expired_loans_lastDt,\n",
      "  CASE \n",
      "    WHEN tsa_status = 'Active' and (Last_TSA_Credit_Date = date '1970-01-01' and Last_Group_Stash_Credit_Date is null)\n",
      "    and (TSA_Opening_date < date '2024-02-23')   ####D-60 days(SHOULD BE SAME DATE FOR 1ST,2ND,3RD NOTIFICATION)\n",
      "    and ( round(coalesce(TSA_Balance,0) + coalesce(Solo_Stash_Balance,0) + coalesce(Group_Stash_Balance,0) + coalesce(Term_Deposit_Balance,0),2) = 0 )\n",
      "    and (Active_Loan = 0) and (COALESCE(Pending_Loan_Applications,0) = 0)\n",
      "    and (Active_Term_Deposit_flag = 0)\n",
      "    and (ARI_Flag = 'N')\n",
      "    --and (Approved_Loans = 0)  THEN 'TYPE 1'\n",
      "    and b.customerId is null  THEN 'TYPE 1'\n",
      "\n",
      "\n",
      "    WHEN tsa_status = 'Active' and Last_TSA_EOD_Balance_Date is null and (TSA_Opening_date < date '2024-02-23')  ####D-60 days(SHOULD BE SAME DATE FOR 1ST,2ND,3RD NOTIFICATION)\n",
      "    and ( round(coalesce(TSA_Balance,0) + coalesce(Solo_Stash_Balance,0) + coalesce(Group_Stash_Balance,0) + coalesce(Term_Deposit_Balance,0),2) = 0 )\n",
      "    and (Active_Loan = 0) and (COALESCE(Pending_Loan_Applications,0) = 0)\n",
      "    and (Active_Term_Deposit_flag = 0)\n",
      "    and (ARI_Flag = 'N')\n",
      "    --and (Approved_Loans = 0)\n",
      "    and b.customerId is null  \n",
      "    and (date_trunc(TSA_Opening_date,day) = date_trunc(Last_Login_Date,day)) THEN 'TYPE 2'\n",
      "\n",
      "    \n",
      "    WHEN ( round(coalesce(TSA_Balance,0) + coalesce(Solo_Stash_Balance,0) + coalesce(Group_Stash_Balance,0) + coalesce(Term_Deposit_Balance,0),2) < 1 )\n",
      "            and (Active_Loan = 0) and (COALESCE(Pending_Loan_Applications,0) = 0)\n",
      "            and (Active_Term_Deposit_flag = 0)\n",
      "            and TSA_Opening_date < date '2023-10-26'                                     ####D-180 days(SHOULD BE SAME DATE FOR 1ST,2ND,3RD NOTIFICATION)\n",
      "            and (Last_TSA_Credit_Date < date '2023-10-26'                                 ####D-180 days(SHOULD BE SAME DATE FOR 1ST,2ND,3RD NOTIFICATION)\n",
      "            and Last_TSA_Debit_Date < date '2023-10-26'                                         ####D-180 days(SHOULD BE SAME DATE FOR 1ST,2ND,3RD NOTIFICATION)\n",
      "            and coalesce(Last_Group_Stash_Credit_Date,date '1970-01-01') < date '2023-10-26' )  ####D-180 days(SHOULD BE SAME DATE FOR 1ST,2ND,3RD NOTIFICATION)\n",
      "            and tsa_status = 'Active'\n",
      "            and (ARI_Flag = 'N')\n",
      "    --and (Approved_Loans = 0)\n",
      "            and b.customerId is null  \n",
      "    THEN 'TYPE 3'\n",
      "    ELSE 'NO ACTION'\n",
      "    END AS ACTION_TYPE\n",
      "  from w_tsa A\n",
      "  left join w_approved b\n",
      "  on cast(a.Customer_Id as int64) = b.customerId\n",
      "  left join core_raw.customer_accounts c\n",
      "  on c.OFCUSTOMERID = a.Customer_Id and c.CRINTERDESC = 'Transactional Savings Account Inv_R' and c.OFISCLOSED = 'N'\n",
      "  where\n",
      "  Run_Date = date '2024-05-16'  ###DATE change here to D-1\n",
      ")\n",
      "\n"
     ]
    }
   ],
   "source": [
    "print(sq)"
   ]
  },
  {
   "cell_type": "code",
   "execution_count": 23,
   "metadata": {},
   "outputs": [
    {
     "name": "stdout",
     "output_type": "stream",
     "text": [
      "Job ID 83d0c642-d4a6-43c6-836d-8839e94f265d successfully executed: 100%|\u001b[32m██████████\u001b[0m|\n",
      "Downloading: 100%|\u001b[32m██████████\u001b[0m|\n"
     ]
    }
   ],
   "source": [
    "df = client.query(sq).to_dataframe(progress_bar_type = 'tqdm')"
   ]
  },
  {
   "cell_type": "code",
   "execution_count": 24,
   "metadata": {},
   "outputs": [
    {
     "data": {
      "text/html": [
       "<div>\n",
       "<style scoped>\n",
       "    .dataframe tbody tr th:only-of-type {\n",
       "        vertical-align: middle;\n",
       "    }\n",
       "\n",
       "    .dataframe tbody tr th {\n",
       "        vertical-align: top;\n",
       "    }\n",
       "\n",
       "    .dataframe thead th {\n",
       "        text-align: right;\n",
       "    }\n",
       "</style>\n",
       "<table border=\"1\" class=\"dataframe\">\n",
       "  <thead>\n",
       "    <tr style=\"text-align: right;\">\n",
       "      <th></th>\n",
       "      <th>Customer_Id</th>\n",
       "      <th>TSA_Opening_date</th>\n",
       "      <th>TSA_Account_Number</th>\n",
       "      <th>OfblockAmount</th>\n",
       "      <th>TSA_Status</th>\n",
       "      <th>TSA_Balance</th>\n",
       "      <th>Solo_Stash_Balance</th>\n",
       "      <th>Group_Stash_Balance</th>\n",
       "      <th>Term_Deposit_Balance</th>\n",
       "      <th>Active_Term_Deposit_flag</th>\n",
       "      <th>Last_TSA_Credit_Date</th>\n",
       "      <th>Last_TSA_Debit_Date</th>\n",
       "      <th>ARI_Flag</th>\n",
       "      <th>Active_Loan</th>\n",
       "      <th>Total_Loan_Outstanding</th>\n",
       "      <th>Approved_Loans</th>\n",
       "      <th>Pending_Loan_Applications</th>\n",
       "      <th>Hard_Reject_Loans_App</th>\n",
       "      <th>Soft_Reject_Loans_App</th>\n",
       "      <th>Cancelled_Loans_App</th>\n",
       "      <th>Last_Login_Date</th>\n",
       "      <th>Last_TSA_EOD_Balance_Date</th>\n",
       "      <th>Last_Group_Stash_Credit_Date</th>\n",
       "      <th>Group_Stash_Balance_Owner</th>\n",
       "      <th>Run_Date</th>\n",
       "      <th>Batch</th>\n",
       "      <th>Processing_Month</th>\n",
       "      <th>pending_loans_not_expired_not_exempt</th>\n",
       "      <th>expired_loans</th>\n",
       "      <th>pending_loans_lastDt</th>\n",
       "      <th>expired_loans_lastDt</th>\n",
       "      <th>ACTION_TYPE</th>\n",
       "    </tr>\n",
       "  </thead>\n",
       "  <tbody>\n",
       "    <tr>\n",
       "      <th>988</th>\n",
       "      <td>2382387</td>\n",
       "      <td>2024-01-28</td>\n",
       "      <td>60823823870006</td>\n",
       "      <td>0.0</td>\n",
       "      <td>Active</td>\n",
       "      <td>0.00</td>\n",
       "      <td>0.0</td>\n",
       "      <td>0.0</td>\n",
       "      <td>0.0</td>\n",
       "      <td>0</td>\n",
       "      <td>1970-01-01</td>\n",
       "      <td>1970-01-01</td>\n",
       "      <td>N</td>\n",
       "      <td>0</td>\n",
       "      <td>0.0</td>\n",
       "      <td>0</td>\n",
       "      <td>0</td>\n",
       "      <td>1</td>\n",
       "      <td>0</td>\n",
       "      <td>0</td>\n",
       "      <td>2024-04-17</td>\n",
       "      <td>NaT</td>\n",
       "      <td>NaT</td>\n",
       "      <td>NaN</td>\n",
       "      <td>2024-05-16</td>\n",
       "      <td>Batch_1</td>\n",
       "      <td>May</td>\n",
       "      <td>0</td>\n",
       "      <td>0</td>\n",
       "      <td>NaT</td>\n",
       "      <td>NaT</td>\n",
       "      <td>TYPE 1</td>\n",
       "    </tr>\n",
       "    <tr>\n",
       "      <th>8876</th>\n",
       "      <td>2380171</td>\n",
       "      <td>2024-01-27</td>\n",
       "      <td>60823801710004</td>\n",
       "      <td>0.0</td>\n",
       "      <td>Active</td>\n",
       "      <td>0.00</td>\n",
       "      <td>0.0</td>\n",
       "      <td>0.0</td>\n",
       "      <td>0.0</td>\n",
       "      <td>0</td>\n",
       "      <td>1970-01-01</td>\n",
       "      <td>1970-01-01</td>\n",
       "      <td>N</td>\n",
       "      <td>0</td>\n",
       "      <td>0.0</td>\n",
       "      <td>0</td>\n",
       "      <td>0</td>\n",
       "      <td>0</td>\n",
       "      <td>0</td>\n",
       "      <td>0</td>\n",
       "      <td>2024-01-27</td>\n",
       "      <td>NaT</td>\n",
       "      <td>NaT</td>\n",
       "      <td>NaN</td>\n",
       "      <td>2024-05-16</td>\n",
       "      <td>Batch_1</td>\n",
       "      <td>May</td>\n",
       "      <td>0</td>\n",
       "      <td>1</td>\n",
       "      <td>NaT</td>\n",
       "      <td>2024-04-26</td>\n",
       "      <td>TYPE 1</td>\n",
       "    </tr>\n",
       "    <tr>\n",
       "      <th>3414</th>\n",
       "      <td>2381390</td>\n",
       "      <td>2024-01-27</td>\n",
       "      <td>60823813900007</td>\n",
       "      <td>0.0</td>\n",
       "      <td>Active</td>\n",
       "      <td>0.00</td>\n",
       "      <td>0.0</td>\n",
       "      <td>0.0</td>\n",
       "      <td>0.0</td>\n",
       "      <td>0</td>\n",
       "      <td>1970-01-01</td>\n",
       "      <td>1970-01-01</td>\n",
       "      <td>N</td>\n",
       "      <td>0</td>\n",
       "      <td>0.0</td>\n",
       "      <td>0</td>\n",
       "      <td>0</td>\n",
       "      <td>0</td>\n",
       "      <td>0</td>\n",
       "      <td>0</td>\n",
       "      <td>2024-01-27</td>\n",
       "      <td>NaT</td>\n",
       "      <td>NaT</td>\n",
       "      <td>NaN</td>\n",
       "      <td>2024-05-16</td>\n",
       "      <td>Batch_1</td>\n",
       "      <td>May</td>\n",
       "      <td>0</td>\n",
       "      <td>0</td>\n",
       "      <td>NaT</td>\n",
       "      <td>NaT</td>\n",
       "      <td>TYPE 1</td>\n",
       "    </tr>\n",
       "    <tr>\n",
       "      <th>4940</th>\n",
       "      <td>1286572</td>\n",
       "      <td>2024-02-20</td>\n",
       "      <td>60812865720008</td>\n",
       "      <td>0.0</td>\n",
       "      <td>Active</td>\n",
       "      <td>0.00</td>\n",
       "      <td>0.0</td>\n",
       "      <td>0.0</td>\n",
       "      <td>0.0</td>\n",
       "      <td>0</td>\n",
       "      <td>1970-01-01</td>\n",
       "      <td>2022-11-11</td>\n",
       "      <td>N</td>\n",
       "      <td>0</td>\n",
       "      <td>0.0</td>\n",
       "      <td>0</td>\n",
       "      <td>0</td>\n",
       "      <td>1</td>\n",
       "      <td>0</td>\n",
       "      <td>0</td>\n",
       "      <td>2024-02-23</td>\n",
       "      <td>NaT</td>\n",
       "      <td>NaT</td>\n",
       "      <td>NaN</td>\n",
       "      <td>2024-05-16</td>\n",
       "      <td>Batch_1</td>\n",
       "      <td>May</td>\n",
       "      <td>0</td>\n",
       "      <td>0</td>\n",
       "      <td>NaT</td>\n",
       "      <td>NaT</td>\n",
       "      <td>TYPE 1</td>\n",
       "    </tr>\n",
       "    <tr>\n",
       "      <th>7112</th>\n",
       "      <td>2390481</td>\n",
       "      <td>2024-02-05</td>\n",
       "      <td>60823904810001</td>\n",
       "      <td>0.0</td>\n",
       "      <td>Active</td>\n",
       "      <td>0.00</td>\n",
       "      <td>0.0</td>\n",
       "      <td>0.0</td>\n",
       "      <td>0.0</td>\n",
       "      <td>0</td>\n",
       "      <td>1970-01-01</td>\n",
       "      <td>1970-01-01</td>\n",
       "      <td>N</td>\n",
       "      <td>0</td>\n",
       "      <td>0.0</td>\n",
       "      <td>0</td>\n",
       "      <td>0</td>\n",
       "      <td>0</td>\n",
       "      <td>0</td>\n",
       "      <td>0</td>\n",
       "      <td>2024-03-30</td>\n",
       "      <td>NaT</td>\n",
       "      <td>NaT</td>\n",
       "      <td>NaN</td>\n",
       "      <td>2024-05-16</td>\n",
       "      <td>Batch_1</td>\n",
       "      <td>May</td>\n",
       "      <td>0</td>\n",
       "      <td>1</td>\n",
       "      <td>NaT</td>\n",
       "      <td>2024-05-06</td>\n",
       "      <td>TYPE 1</td>\n",
       "    </tr>\n",
       "    <tr>\n",
       "      <th>490</th>\n",
       "      <td>2403831</td>\n",
       "      <td>2024-02-18</td>\n",
       "      <td>60824038310005</td>\n",
       "      <td>0.0</td>\n",
       "      <td>Active</td>\n",
       "      <td>0.00</td>\n",
       "      <td>0.0</td>\n",
       "      <td>0.0</td>\n",
       "      <td>0.0</td>\n",
       "      <td>0</td>\n",
       "      <td>1970-01-01</td>\n",
       "      <td>1970-01-01</td>\n",
       "      <td>N</td>\n",
       "      <td>0</td>\n",
       "      <td>0.0</td>\n",
       "      <td>0</td>\n",
       "      <td>0</td>\n",
       "      <td>0</td>\n",
       "      <td>1</td>\n",
       "      <td>0</td>\n",
       "      <td>2024-02-18</td>\n",
       "      <td>NaT</td>\n",
       "      <td>NaT</td>\n",
       "      <td>NaN</td>\n",
       "      <td>2024-05-16</td>\n",
       "      <td>Batch_1</td>\n",
       "      <td>May</td>\n",
       "      <td>0</td>\n",
       "      <td>0</td>\n",
       "      <td>NaT</td>\n",
       "      <td>NaT</td>\n",
       "      <td>TYPE 1</td>\n",
       "    </tr>\n",
       "    <tr>\n",
       "      <th>8714</th>\n",
       "      <td>2399416</td>\n",
       "      <td>2024-02-13</td>\n",
       "      <td>60823994160007</td>\n",
       "      <td>0.0</td>\n",
       "      <td>Active</td>\n",
       "      <td>0.00</td>\n",
       "      <td>0.0</td>\n",
       "      <td>0.0</td>\n",
       "      <td>0.0</td>\n",
       "      <td>0</td>\n",
       "      <td>1970-01-01</td>\n",
       "      <td>1970-01-01</td>\n",
       "      <td>N</td>\n",
       "      <td>0</td>\n",
       "      <td>0.0</td>\n",
       "      <td>0</td>\n",
       "      <td>0</td>\n",
       "      <td>0</td>\n",
       "      <td>0</td>\n",
       "      <td>0</td>\n",
       "      <td>2024-02-20</td>\n",
       "      <td>NaT</td>\n",
       "      <td>NaT</td>\n",
       "      <td>NaN</td>\n",
       "      <td>2024-05-16</td>\n",
       "      <td>Batch_1</td>\n",
       "      <td>May</td>\n",
       "      <td>0</td>\n",
       "      <td>1</td>\n",
       "      <td>NaT</td>\n",
       "      <td>2024-05-14</td>\n",
       "      <td>TYPE 1</td>\n",
       "    </tr>\n",
       "    <tr>\n",
       "      <th>7254</th>\n",
       "      <td>2390306</td>\n",
       "      <td>2024-02-09</td>\n",
       "      <td>60823903060006</td>\n",
       "      <td>0.0</td>\n",
       "      <td>Active</td>\n",
       "      <td>0.00</td>\n",
       "      <td>0.0</td>\n",
       "      <td>0.0</td>\n",
       "      <td>0.0</td>\n",
       "      <td>0</td>\n",
       "      <td>1970-01-01</td>\n",
       "      <td>1970-01-01</td>\n",
       "      <td>N</td>\n",
       "      <td>0</td>\n",
       "      <td>0.0</td>\n",
       "      <td>0</td>\n",
       "      <td>0</td>\n",
       "      <td>0</td>\n",
       "      <td>1</td>\n",
       "      <td>0</td>\n",
       "      <td>2024-05-16</td>\n",
       "      <td>NaT</td>\n",
       "      <td>NaT</td>\n",
       "      <td>NaN</td>\n",
       "      <td>2024-05-16</td>\n",
       "      <td>Batch_1</td>\n",
       "      <td>May</td>\n",
       "      <td>0</td>\n",
       "      <td>1</td>\n",
       "      <td>NaT</td>\n",
       "      <td>2024-05-05</td>\n",
       "      <td>TYPE 1</td>\n",
       "    </tr>\n",
       "    <tr>\n",
       "      <th>7601</th>\n",
       "      <td>2120982</td>\n",
       "      <td>2023-07-05</td>\n",
       "      <td>60821209820009</td>\n",
       "      <td>0.0</td>\n",
       "      <td>Active</td>\n",
       "      <td>0.09</td>\n",
       "      <td>0.0</td>\n",
       "      <td>0.0</td>\n",
       "      <td>0.0</td>\n",
       "      <td>0</td>\n",
       "      <td>2023-09-30</td>\n",
       "      <td>2023-09-14</td>\n",
       "      <td>N</td>\n",
       "      <td>0</td>\n",
       "      <td>0.0</td>\n",
       "      <td>0</td>\n",
       "      <td>0</td>\n",
       "      <td>0</td>\n",
       "      <td>0</td>\n",
       "      <td>0</td>\n",
       "      <td>2023-09-14</td>\n",
       "      <td>2024-05-16</td>\n",
       "      <td>NaT</td>\n",
       "      <td>NaN</td>\n",
       "      <td>2024-05-16</td>\n",
       "      <td>Batch_1</td>\n",
       "      <td>May</td>\n",
       "      <td>0</td>\n",
       "      <td>0</td>\n",
       "      <td>NaT</td>\n",
       "      <td>NaT</td>\n",
       "      <td>TYPE 3</td>\n",
       "    </tr>\n",
       "    <tr>\n",
       "      <th>4750</th>\n",
       "      <td>2393569</td>\n",
       "      <td>2024-02-08</td>\n",
       "      <td>60823935690009</td>\n",
       "      <td>0.0</td>\n",
       "      <td>Active</td>\n",
       "      <td>0.00</td>\n",
       "      <td>0.0</td>\n",
       "      <td>0.0</td>\n",
       "      <td>0.0</td>\n",
       "      <td>0</td>\n",
       "      <td>1970-01-01</td>\n",
       "      <td>1970-01-01</td>\n",
       "      <td>N</td>\n",
       "      <td>0</td>\n",
       "      <td>0.0</td>\n",
       "      <td>0</td>\n",
       "      <td>0</td>\n",
       "      <td>0</td>\n",
       "      <td>0</td>\n",
       "      <td>0</td>\n",
       "      <td>2024-02-28</td>\n",
       "      <td>NaT</td>\n",
       "      <td>NaT</td>\n",
       "      <td>NaN</td>\n",
       "      <td>2024-05-16</td>\n",
       "      <td>Batch_1</td>\n",
       "      <td>May</td>\n",
       "      <td>0</td>\n",
       "      <td>1</td>\n",
       "      <td>NaT</td>\n",
       "      <td>2024-05-09</td>\n",
       "      <td>TYPE 1</td>\n",
       "    </tr>\n",
       "  </tbody>\n",
       "</table>\n",
       "</div>"
      ],
      "text/plain": [
       "     Customer_Id TSA_Opening_date TSA_Account_Number  OfblockAmount  \\\n",
       "988      2382387       2024-01-28     60823823870006            0.0   \n",
       "8876     2380171       2024-01-27     60823801710004            0.0   \n",
       "3414     2381390       2024-01-27     60823813900007            0.0   \n",
       "4940     1286572       2024-02-20     60812865720008            0.0   \n",
       "7112     2390481       2024-02-05     60823904810001            0.0   \n",
       "490      2403831       2024-02-18     60824038310005            0.0   \n",
       "8714     2399416       2024-02-13     60823994160007            0.0   \n",
       "7254     2390306       2024-02-09     60823903060006            0.0   \n",
       "7601     2120982       2023-07-05     60821209820009            0.0   \n",
       "4750     2393569       2024-02-08     60823935690009            0.0   \n",
       "\n",
       "     TSA_Status  TSA_Balance  Solo_Stash_Balance  Group_Stash_Balance  \\\n",
       "988      Active         0.00                 0.0                  0.0   \n",
       "8876     Active         0.00                 0.0                  0.0   \n",
       "3414     Active         0.00                 0.0                  0.0   \n",
       "4940     Active         0.00                 0.0                  0.0   \n",
       "7112     Active         0.00                 0.0                  0.0   \n",
       "490      Active         0.00                 0.0                  0.0   \n",
       "8714     Active         0.00                 0.0                  0.0   \n",
       "7254     Active         0.00                 0.0                  0.0   \n",
       "7601     Active         0.09                 0.0                  0.0   \n",
       "4750     Active         0.00                 0.0                  0.0   \n",
       "\n",
       "      Term_Deposit_Balance  Active_Term_Deposit_flag Last_TSA_Credit_Date  \\\n",
       "988                    0.0                         0           1970-01-01   \n",
       "8876                   0.0                         0           1970-01-01   \n",
       "3414                   0.0                         0           1970-01-01   \n",
       "4940                   0.0                         0           1970-01-01   \n",
       "7112                   0.0                         0           1970-01-01   \n",
       "490                    0.0                         0           1970-01-01   \n",
       "8714                   0.0                         0           1970-01-01   \n",
       "7254                   0.0                         0           1970-01-01   \n",
       "7601                   0.0                         0           2023-09-30   \n",
       "4750                   0.0                         0           1970-01-01   \n",
       "\n",
       "     Last_TSA_Debit_Date ARI_Flag  Active_Loan  Total_Loan_Outstanding  \\\n",
       "988           1970-01-01        N            0                     0.0   \n",
       "8876          1970-01-01        N            0                     0.0   \n",
       "3414          1970-01-01        N            0                     0.0   \n",
       "4940          2022-11-11        N            0                     0.0   \n",
       "7112          1970-01-01        N            0                     0.0   \n",
       "490           1970-01-01        N            0                     0.0   \n",
       "8714          1970-01-01        N            0                     0.0   \n",
       "7254          1970-01-01        N            0                     0.0   \n",
       "7601          2023-09-14        N            0                     0.0   \n",
       "4750          1970-01-01        N            0                     0.0   \n",
       "\n",
       "      Approved_Loans  Pending_Loan_Applications  Hard_Reject_Loans_App  \\\n",
       "988                0                          0                      1   \n",
       "8876               0                          0                      0   \n",
       "3414               0                          0                      0   \n",
       "4940               0                          0                      1   \n",
       "7112               0                          0                      0   \n",
       "490                0                          0                      0   \n",
       "8714               0                          0                      0   \n",
       "7254               0                          0                      0   \n",
       "7601               0                          0                      0   \n",
       "4750               0                          0                      0   \n",
       "\n",
       "      Soft_Reject_Loans_App  Cancelled_Loans_App Last_Login_Date  \\\n",
       "988                       0                    0      2024-04-17   \n",
       "8876                      0                    0      2024-01-27   \n",
       "3414                      0                    0      2024-01-27   \n",
       "4940                      0                    0      2024-02-23   \n",
       "7112                      0                    0      2024-03-30   \n",
       "490                       1                    0      2024-02-18   \n",
       "8714                      0                    0      2024-02-20   \n",
       "7254                      1                    0      2024-05-16   \n",
       "7601                      0                    0      2023-09-14   \n",
       "4750                      0                    0      2024-02-28   \n",
       "\n",
       "     Last_TSA_EOD_Balance_Date Last_Group_Stash_Credit_Date  \\\n",
       "988                        NaT                          NaT   \n",
       "8876                       NaT                          NaT   \n",
       "3414                       NaT                          NaT   \n",
       "4940                       NaT                          NaT   \n",
       "7112                       NaT                          NaT   \n",
       "490                        NaT                          NaT   \n",
       "8714                       NaT                          NaT   \n",
       "7254                       NaT                          NaT   \n",
       "7601                2024-05-16                          NaT   \n",
       "4750                       NaT                          NaT   \n",
       "\n",
       "      Group_Stash_Balance_Owner    Run_Date    Batch Processing_Month  \\\n",
       "988                         NaN  2024-05-16  Batch_1              May   \n",
       "8876                        NaN  2024-05-16  Batch_1              May   \n",
       "3414                        NaN  2024-05-16  Batch_1              May   \n",
       "4940                        NaN  2024-05-16  Batch_1              May   \n",
       "7112                        NaN  2024-05-16  Batch_1              May   \n",
       "490                         NaN  2024-05-16  Batch_1              May   \n",
       "8714                        NaN  2024-05-16  Batch_1              May   \n",
       "7254                        NaN  2024-05-16  Batch_1              May   \n",
       "7601                        NaN  2024-05-16  Batch_1              May   \n",
       "4750                        NaN  2024-05-16  Batch_1              May   \n",
       "\n",
       "      pending_loans_not_expired_not_exempt  expired_loans  \\\n",
       "988                                      0              0   \n",
       "8876                                     0              1   \n",
       "3414                                     0              0   \n",
       "4940                                     0              0   \n",
       "7112                                     0              1   \n",
       "490                                      0              0   \n",
       "8714                                     0              1   \n",
       "7254                                     0              1   \n",
       "7601                                     0              0   \n",
       "4750                                     0              1   \n",
       "\n",
       "     pending_loans_lastDt expired_loans_lastDt ACTION_TYPE  \n",
       "988                   NaT                  NaT      TYPE 1  \n",
       "8876                  NaT           2024-04-26      TYPE 1  \n",
       "3414                  NaT                  NaT      TYPE 1  \n",
       "4940                  NaT                  NaT      TYPE 1  \n",
       "7112                  NaT           2024-05-06      TYPE 1  \n",
       "490                   NaT                  NaT      TYPE 1  \n",
       "8714                  NaT           2024-05-14      TYPE 1  \n",
       "7254                  NaT           2024-05-05      TYPE 1  \n",
       "7601                  NaT                  NaT      TYPE 3  \n",
       "4750                  NaT           2024-05-09      TYPE 1  "
      ]
     },
     "execution_count": 24,
     "metadata": {},
     "output_type": "execute_result"
    }
   ],
   "source": [
    "pd.set_option('display.max_columns', None)\n",
    "df.sample(10)"
   ]
  },
  {
   "cell_type": "code",
   "execution_count": 25,
   "metadata": {},
   "outputs": [
    {
     "data": {
      "text/plain": [
       "(8886, 32)"
      ]
     },
     "execution_count": 25,
     "metadata": {},
     "output_type": "execute_result"
    }
   ],
   "source": [
    "df.shape"
   ]
  },
  {
   "cell_type": "code",
   "execution_count": 26,
   "metadata": {},
   "outputs": [
    {
     "data": {
      "text/plain": [
       "ACTION_TYPE\n",
       "TYPE 1       7522\n",
       "TYPE 3       1062\n",
       "NO ACTION     282\n",
       "TYPE 2         20\n",
       "Name: count, dtype: int64"
      ]
     },
     "execution_count": 26,
     "metadata": {},
     "output_type": "execute_result"
    }
   ],
   "source": [
    "df['ACTION_TYPE'].value_counts()"
   ]
  },
  {
   "cell_type": "code",
   "execution_count": 27,
   "metadata": {},
   "outputs": [],
   "source": [
    "df.to_excel(r\"C:\\Users\\DwaipayanChakroborti\\OneDrive - Tonik Financial Pte Ltd\\MyStuff\\Marvin\\TSA Account Closure\\March24&April24 Ongoing Batch\\20240517_TSA_Account_Closure_2ndtNotification.xlsx\", sheet_name='TSA_Closure_2ndNotification', index = False)"
   ]
  },
  {
   "cell_type": "code",
   "execution_count": null,
   "metadata": {},
   "outputs": [],
   "source": []
  }
 ],
 "metadata": {
  "kernelspec": {
   "display_name": "prjreports",
   "language": "python",
   "name": "python3"
  },
  "language_info": {
   "codemirror_mode": {
    "name": "ipython",
    "version": 3
   },
   "file_extension": ".py",
   "mimetype": "text/x-python",
   "name": "python",
   "nbconvert_exporter": "python",
   "pygments_lexer": "ipython3",
   "version": "3.9.19"
  }
 },
 "nbformat": 4,
 "nbformat_minor": 2
}
