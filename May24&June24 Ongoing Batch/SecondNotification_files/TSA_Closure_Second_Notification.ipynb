{
 "cells": [
  {
   "cell_type": "markdown",
   "metadata": {},
   "source": [
    "# <div align=\"center\" style=\"color: #ff5733;\">TSA Closure Second Notification</div>"
   ]
  },
  {
   "cell_type": "code",
   "execution_count": 23,
   "metadata": {},
   "outputs": [],
   "source": [
    "# Import Libraries   \n",
    "\n",
    "import pandas as pd  \n",
    "import numpy as np  \n",
    "\n",
    "from google.cloud import bigquery\n",
    "import os\n",
    "\n",
    "path = r\"C:\\Users\\DwaipayanChakroborti\\AppData\\Roaming\\gcloud\\legacy_credentials\\dchakroborti@tonikbank.com\\adc.json\"\n",
    "\n",
    "os.environ[\"GOOGLE_APPLICATION_CREDENTIALS\"] = path\n",
    "client = bigquery.Client(project=\"prj-prod-dataplatform\")"
   ]
  },
  {
   "cell_type": "markdown",
   "metadata": {},
   "source": [
    "# Ask Balasubramani to refresh risk_credit_mis.tsa_account_closure table.\n",
    "**Check if that is refreshed when Balasubramani confirms it**"
   ]
  },
  {
   "cell_type": "code",
   "execution_count": 24,
   "metadata": {},
   "outputs": [
    {
     "name": "stdout",
     "output_type": "stream",
     "text": [
      "Job ID ae9087a4-919a-4655-bea6-0c7d630ac98f successfully executed: 100%|\u001b[32m██████████\u001b[0m|\n",
      "Downloading: 100%|\u001b[32m██████████\u001b[0m|\n"
     ]
    },
    {
     "data": {
      "text/html": [
       "<div>\n",
       "<style scoped>\n",
       "    .dataframe tbody tr th:only-of-type {\n",
       "        vertical-align: middle;\n",
       "    }\n",
       "\n",
       "    .dataframe tbody tr th {\n",
       "        vertical-align: top;\n",
       "    }\n",
       "\n",
       "    .dataframe thead th {\n",
       "        text-align: right;\n",
       "    }\n",
       "</style>\n",
       "<table border=\"1\" class=\"dataframe\">\n",
       "  <thead>\n",
       "    <tr style=\"text-align: right;\">\n",
       "      <th></th>\n",
       "      <th>Run_Date</th>\n",
       "      <th>cnt</th>\n",
       "    </tr>\n",
       "  </thead>\n",
       "  <tbody>\n",
       "    <tr>\n",
       "      <th>0</th>\n",
       "      <td>2024-07-30</td>\n",
       "      <td>630514</td>\n",
       "    </tr>\n",
       "  </tbody>\n",
       "</table>\n",
       "</div>"
      ],
      "text/plain": [
       "     Run_Date     cnt\n",
       "0  2024-07-30  630514"
      ]
     },
     "execution_count": 24,
     "metadata": {},
     "output_type": "execute_result"
    }
   ],
   "source": [
    "sq = \"\"\"select Run_Date, count(1)cnt from risk_credit_mis.tsa_account_closure group by 1 order by 1 desc\"\"\"\n",
    "df = client.query(sq).to_dataframe(progress_bar_type = 'tqdm')\n",
    "df.head(1)"
   ]
  },
  {
   "cell_type": "markdown",
   "metadata": {},
   "source": [
    "The date should show yesterday's date"
   ]
  },
  {
   "cell_type": "markdown",
   "metadata": {},
   "source": [
    "# Read the data from the first sheet for Type1 and Type2 data provided by Marvin"
   ]
  },
  {
   "cell_type": "code",
   "execution_count": 25,
   "metadata": {},
   "outputs": [
    {
     "data": {
      "text/plain": [
       "(14320, 2)"
      ]
     },
     "execution_count": 25,
     "metadata": {},
     "output_type": "execute_result"
    }
   ],
   "source": [
    "d1 = pd.read_excel(r\"C:\\Users\\DwaipayanChakroborti\\OneDrive - Tonik Financial Pte Ltd\\MyStuff\\Marvin\\TSA Account Closure\\May24&June24 Ongoing Batch\\SecondNotification_files\\Type 1 & 2.xlsx\", sheet_name='Sheet1')\n",
    "d1.shape"
   ]
  },
  {
   "cell_type": "code",
   "execution_count": 26,
   "metadata": {},
   "outputs": [
    {
     "name": "stdout",
     "output_type": "stream",
     "text": [
      "The unique count of customer_id is:\t14320\n"
     ]
    },
    {
     "data": {
      "text/html": [
       "<div>\n",
       "<style scoped>\n",
       "    .dataframe tbody tr th:only-of-type {\n",
       "        vertical-align: middle;\n",
       "    }\n",
       "\n",
       "    .dataframe tbody tr th {\n",
       "        vertical-align: top;\n",
       "    }\n",
       "\n",
       "    .dataframe thead th {\n",
       "        text-align: right;\n",
       "    }\n",
       "</style>\n",
       "<table border=\"1\" class=\"dataframe\">\n",
       "  <thead>\n",
       "    <tr style=\"text-align: right;\">\n",
       "      <th></th>\n",
       "      <th>Customer_Id</th>\n",
       "      <th>ACTION_TYPE</th>\n",
       "    </tr>\n",
       "  </thead>\n",
       "  <tbody>\n",
       "    <tr>\n",
       "      <th>0</th>\n",
       "      <td>2371220</td>\n",
       "      <td>TYPE 1</td>\n",
       "    </tr>\n",
       "    <tr>\n",
       "      <th>1</th>\n",
       "      <td>2502195</td>\n",
       "      <td>TYPE 1</td>\n",
       "    </tr>\n",
       "    <tr>\n",
       "      <th>2</th>\n",
       "      <td>2499439</td>\n",
       "      <td>TYPE 1</td>\n",
       "    </tr>\n",
       "    <tr>\n",
       "      <th>3</th>\n",
       "      <td>2451802</td>\n",
       "      <td>TYPE 1</td>\n",
       "    </tr>\n",
       "    <tr>\n",
       "      <th>4</th>\n",
       "      <td>2462375</td>\n",
       "      <td>TYPE 1</td>\n",
       "    </tr>\n",
       "  </tbody>\n",
       "</table>\n",
       "</div>"
      ],
      "text/plain": [
       "   Customer_Id ACTION_TYPE\n",
       "0      2371220      TYPE 1\n",
       "1      2502195      TYPE 1\n",
       "2      2499439      TYPE 1\n",
       "3      2451802      TYPE 1\n",
       "4      2462375      TYPE 1"
      ]
     },
     "execution_count": 26,
     "metadata": {},
     "output_type": "execute_result"
    }
   ],
   "source": [
    "print(f\"The unique count of customer_id is:\\t{len(d1['Customer_Id'].unique())}\")\n",
    "d1.head()\n"
   ]
  },
  {
   "cell_type": "markdown",
   "metadata": {},
   "source": [
    "# Read the data from the second sheet for Type3 data provided by Marvin"
   ]
  },
  {
   "cell_type": "code",
   "execution_count": 28,
   "metadata": {},
   "outputs": [
    {
     "data": {
      "text/plain": [
       "(1394, 2)"
      ]
     },
     "execution_count": 28,
     "metadata": {},
     "output_type": "execute_result"
    }
   ],
   "source": [
    "d2 = pd.read_excel(r\"C:\\Users\\DwaipayanChakroborti\\OneDrive - Tonik Financial Pte Ltd\\MyStuff\\Marvin\\TSA Account Closure\\May24&June24 Ongoing Batch\\SecondNotification_files\\Type 3.xlsx\", sheet_name='Sheet1')\n",
    "d2.shape"
   ]
  },
  {
   "cell_type": "code",
   "execution_count": 29,
   "metadata": {},
   "outputs": [
    {
     "name": "stdout",
     "output_type": "stream",
     "text": [
      "The unique count of customer_id is:\t1394\n"
     ]
    },
    {
     "data": {
      "text/html": [
       "<div>\n",
       "<style scoped>\n",
       "    .dataframe tbody tr th:only-of-type {\n",
       "        vertical-align: middle;\n",
       "    }\n",
       "\n",
       "    .dataframe tbody tr th {\n",
       "        vertical-align: top;\n",
       "    }\n",
       "\n",
       "    .dataframe thead th {\n",
       "        text-align: right;\n",
       "    }\n",
       "</style>\n",
       "<table border=\"1\" class=\"dataframe\">\n",
       "  <thead>\n",
       "    <tr style=\"text-align: right;\">\n",
       "      <th></th>\n",
       "      <th>Customer_Id</th>\n",
       "      <th>ACTION_TYPE</th>\n",
       "    </tr>\n",
       "  </thead>\n",
       "  <tbody>\n",
       "    <tr>\n",
       "      <th>0</th>\n",
       "      <td>2342057</td>\n",
       "      <td>TYPE 3</td>\n",
       "    </tr>\n",
       "    <tr>\n",
       "      <th>1</th>\n",
       "      <td>1017332</td>\n",
       "      <td>TYPE 3</td>\n",
       "    </tr>\n",
       "    <tr>\n",
       "      <th>2</th>\n",
       "      <td>2141357</td>\n",
       "      <td>TYPE 3</td>\n",
       "    </tr>\n",
       "    <tr>\n",
       "      <th>3</th>\n",
       "      <td>1829218</td>\n",
       "      <td>TYPE 3</td>\n",
       "    </tr>\n",
       "    <tr>\n",
       "      <th>4</th>\n",
       "      <td>1015223</td>\n",
       "      <td>TYPE 3</td>\n",
       "    </tr>\n",
       "  </tbody>\n",
       "</table>\n",
       "</div>"
      ],
      "text/plain": [
       "   Customer_Id ACTION_TYPE\n",
       "0      2342057      TYPE 3\n",
       "1      1017332      TYPE 3\n",
       "2      2141357      TYPE 3\n",
       "3      1829218      TYPE 3\n",
       "4      1015223      TYPE 3"
      ]
     },
     "execution_count": 29,
     "metadata": {},
     "output_type": "execute_result"
    }
   ],
   "source": [
    "print(f\"The unique count of customer_id is:\\t{len(d2['Customer_Id'].unique())}\")\n",
    "d2.head()"
   ]
  },
  {
   "cell_type": "code",
   "execution_count": 30,
   "metadata": {},
   "outputs": [
    {
     "data": {
      "text/plain": [
       "(15714, 2)"
      ]
     },
     "execution_count": 30,
     "metadata": {},
     "output_type": "execute_result"
    }
   ],
   "source": [
    "result = pd.concat([d1, d2], axis=0, ignore_index=True)\n",
    "result.shape"
   ]
  },
  {
   "cell_type": "code",
   "execution_count": 31,
   "metadata": {},
   "outputs": [
    {
     "data": {
      "text/plain": [
       "ACTION_TYPE\n",
       "TYPE 1    14290\n",
       "TYPE 3     1394\n",
       "TYPE 2       30\n",
       "Name: count, dtype: int64"
      ]
     },
     "execution_count": 31,
     "metadata": {},
     "output_type": "execute_result"
    }
   ],
   "source": [
    "result.ACTION_TYPE.value_counts()"
   ]
  },
  {
   "cell_type": "code",
   "execution_count": 35,
   "metadata": {},
   "outputs": [
    {
     "data": {
      "text/html": [
       "<div>\n",
       "<style scoped>\n",
       "    .dataframe tbody tr th:only-of-type {\n",
       "        vertical-align: middle;\n",
       "    }\n",
       "\n",
       "    .dataframe tbody tr th {\n",
       "        vertical-align: top;\n",
       "    }\n",
       "\n",
       "    .dataframe thead th {\n",
       "        text-align: right;\n",
       "    }\n",
       "</style>\n",
       "<table border=\"1\" class=\"dataframe\">\n",
       "  <thead>\n",
       "    <tr style=\"text-align: right;\">\n",
       "      <th></th>\n",
       "      <th>Customer_Id</th>\n",
       "      <th>ACTION_TYPE</th>\n",
       "    </tr>\n",
       "  </thead>\n",
       "  <tbody>\n",
       "  </tbody>\n",
       "</table>\n",
       "</div>"
      ],
      "text/plain": [
       "Empty DataFrame\n",
       "Columns: [Customer_Id, ACTION_TYPE]\n",
       "Index: []"
      ]
     },
     "execution_count": 35,
     "metadata": {},
     "output_type": "execute_result"
    }
   ],
   "source": [
    "result[result['Customer_Id'] == '2256481']"
   ]
  },
  {
   "cell_type": "code",
   "execution_count": 33,
   "metadata": {},
   "outputs": [
    {
     "name": "stdout",
     "output_type": "stream",
     "text": [
      "<class 'pandas.core.frame.DataFrame'>\n",
      "RangeIndex: 15714 entries, 0 to 15713\n",
      "Data columns (total 2 columns):\n",
      " #   Column       Non-Null Count  Dtype \n",
      "---  ------       --------------  ----- \n",
      " 0   Customer_Id  15714 non-null  int64 \n",
      " 1   ACTION_TYPE  15714 non-null  object\n",
      "dtypes: int64(1), object(1)\n",
      "memory usage: 245.7+ KB\n"
     ]
    }
   ],
   "source": [
    "result.info()"
   ]
  },
  {
   "cell_type": "code",
   "execution_count": 34,
   "metadata": {},
   "outputs": [
    {
     "name": "stdout",
     "output_type": "stream",
     "text": [
      "<class 'pandas.core.frame.DataFrame'>\n",
      "RangeIndex: 15714 entries, 0 to 15713\n",
      "Data columns (total 2 columns):\n",
      " #   Column       Non-Null Count  Dtype \n",
      "---  ------       --------------  ----- \n",
      " 0   Customer_Id  15714 non-null  object\n",
      " 1   ACTION_TYPE  15714 non-null  object\n",
      "dtypes: object(2)\n",
      "memory usage: 245.7+ KB\n"
     ]
    }
   ],
   "source": [
    "result['Customer_Id'] = result['Customer_Id'].astype(str)\n",
    "result.info()"
   ]
  },
  {
   "cell_type": "code",
   "execution_count": 36,
   "metadata": {},
   "outputs": [],
   "source": [
    "result.to_csv(\"temp.csv\", index = False)"
   ]
  },
  {
   "cell_type": "code",
   "execution_count": 37,
   "metadata": {},
   "outputs": [
    {
     "data": {
      "text/plain": [
       "('2371220', '2502195', '2499439', '2451802', '2462375')"
      ]
     },
     "execution_count": 37,
     "metadata": {},
     "output_type": "execute_result"
    }
   ],
   "source": [
    "a = tuple(result['Customer_Id'])\n",
    "a[:5]"
   ]
  },
  {
   "cell_type": "code",
   "execution_count": 38,
   "metadata": {},
   "outputs": [
    {
     "name": "stdout",
     "output_type": "stream",
     "text": [
      "D-1 day from current date 2024-07-30 00:00:00\n",
      "D-60 day from the current date - 1: 2024-05-08\n",
      "D-180 day from the current date -1: 2024-01-09\n",
      "D-1 day from the current date: 2024-07-30\n",
      "D-60 day from the current date: 2024-05-08\n",
      "D-180 day from the current date: 2024-01-09\n"
     ]
    }
   ],
   "source": [
    "d = '2024-07-31'   ### Need to change this to D-1 everytime we run this code ###\n",
    "# Get the current date\n",
    "current_date = pd.Timestamp.now().date()\n",
    "d_minus_1_days = current_date - pd.DateOffset(days=1)\n",
    "# Calculate D-60 days\n",
    "d_minus_60_days = '2024-05-08'\n",
    "# Calculate D-180 days\n",
    "d_minus_180_days = '2024-01-09'\n",
    "\n",
    "print(\"D-1 day from current date\", d_minus_1_days )\n",
    "print(\"D-60 day from the current date - 1:\", d_minus_60_days)\n",
    "print(\"D-180 day from the current date -1:\", d_minus_180_days)\n",
    "\n",
    "d_minus_1_days_string = d_minus_1_days.strftime('%Y-%m-%d')\n",
    "print(\"D-1 day from the current date:\", d_minus_1_days_string)\n",
    "\n",
    "d_minus_60_days_string = d_minus_60_days\n",
    "print(\"D-60 day from the current date:\", d_minus_60_days_string)\n",
    "\n",
    "d_minus_180_days_string = d_minus_180_days\n",
    "print(\"D-180 day from the current date:\", d_minus_180_days_string)"
   ]
  },
  {
   "cell_type": "markdown",
   "metadata": {},
   "source": [
    "The date should be D-1? If the date is not D-1 then ask Bala to refresh the table."
   ]
  },
  {
   "cell_type": "markdown",
   "metadata": {},
   "source": [
    "Step1: At line 11 change the date to D-1<br><br>\n",
    "Step2: At line around 36 (and (TSA_Opening_date < date '2023-10-18')   ####D-60 days(SHOULD BE SAME DATE FOR 1ST,2ND,3RD NOTIFICATION)) Change the date D-60 Days <br><br>\n",
    "Step3: At line around 45 (WHEN tsa_status = 'Active' and Last_TSA_EOD_Balance_Date is null and (TSA_Opening_date < date '2023-10-18')  ####D-60 days(SHOULD BE SAME DATE FOR 1ST,2ND,3RD NOTIFICATION)) Change the date D-60 Days <br><br>\n",
    "Step4: At line 58 (and TSA_Opening_date < date '2023-06-18'  and (Last_TSA_Credit_Date < date '2023-06-18' and Last_TSA_Debit_Date < date '2023-06-18' and coalesce(Last_Group_Stash_Credit_Date,date '1970-01-01') < date '2023-06-18')  ####D-180 days(SHOULD BE SAME DATE FOR 1ST,2ND,3RD NOTIFICATION)) <br><br>\n",
    "Step5: At line 72 (Run_Date = date '2024-01-09'###DATE change here to D-1) Change the date to D-1<br><br>"
   ]
  },
  {
   "cell_type": "markdown",
   "metadata": {},
   "source": [
    "First Notification we change all the steps <br><br>\n",
    "Second and Third Notification we only change Step1 and Step5\n",
    "For Second Notificaiton and Third Notificaiton the customre id should be from the file sent by Marvin. <br><br>"
   ]
  },
  {
   "cell_type": "code",
   "execution_count": 39,
   "metadata": {},
   "outputs": [
    {
     "name": "stdout",
     "output_type": "stream",
     "text": [
      "Job ID 482d319c-8ce0-4f22-b124-08708eec2015 successfully executed: 100%|\u001b[32m██████████\u001b[0m|\n",
      "Downloading: 100%|\u001b[32m██████████\u001b[0m|\n"
     ]
    },
    {
     "data": {
      "text/plain": [
       "(15712, 29)"
      ]
     },
     "execution_count": 39,
     "metadata": {},
     "output_type": "execute_result"
    }
   ],
   "source": [
    "sq = f\"\"\"\n",
    "with\n",
    "w_kyc\n",
    "as\n",
    "(\n",
    "  select distinct PARTYID, SEGCATEGORYDESC, row_number() over(partition by partyid order by SEGEFFECTIVEFROM desc) as rnk from `core_raw.party_details`\n",
    "),\n",
    "w_tsa\n",
    "as\n",
    "(\n",
    "  select * from risk_credit_mis.tsa_account_closure where Run_Date = date '{d_minus_1_days_string}' ###DATE change here to D-1\n",
    "  and\n",
    "  Customer_Id not in (select cast(PARTYID as string) from w_kyc where rnk = 1 and SEGCATEGORYDESC = 'BKYC')\n",
    "  and\n",
    "  --customer_id in (select cast(customer_id as string) from prj-prod-dataplatform.dap_ds_poweruser_playground.tsa_2nd_notification_base_10jan2024)\n",
    "  customer_id in {a}\n",
    ")\n",
    "select * from w_tsa;\n",
    "\"\"\"\n",
    "\n",
    "dfd = client.query(sq).to_dataframe(progress_bar_type='tqdm')\n",
    "dfd.shape"
   ]
  },
  {
   "cell_type": "code",
   "execution_count": 40,
   "metadata": {},
   "outputs": [],
   "source": [
    "sq = f\"\"\"\n",
    "with\n",
    "w_kyc\n",
    "as\n",
    "(\n",
    "  select distinct PARTYID, SEGCATEGORYDESC, row_number() over(partition by partyid order by SEGEFFECTIVEFROM desc) as rnk from `core_raw.party_details`\n",
    "),\n",
    "w_tsa\n",
    "as\n",
    "(\n",
    "  select * from risk_credit_mis.tsa_account_closure where Run_Date = date '{d_minus_1_days_string}'  ###DATE change here to D-1\n",
    "  and\n",
    "  Customer_Id not in (select cast(PARTYID as string) from w_kyc where rnk = 1 and SEGCATEGORYDESC = 'BKYC')\n",
    "  and\n",
    "  --customer_id in (select cast(customer_id as string) from prj-prod-dataplatform.dap_ds_poweruser_playground.tsa_2nd_notification_base_10jan2024)\n",
    "  customer_id in {a}\n",
    "),\n",
    "w_approved\n",
    "as\n",
    "(\n",
    "  select DISTINCT customerId from risk_credit_mis.loan_master_table where loantype = 'BIGLOAN' OR FLAGAPPROVAL = 1 OR FLAGDISBURSEMENT = 1  \n",
    "  or (stage1Status = 'EXPIRED' AND cddInitiatedDateAndTime IS NULL)\n",
    ")\n",
    "select *\n",
    "from\n",
    "(\n",
    "  select distinct\n",
    "  a.Customer_Id,a.TSA_Opening_date,\n",
    "  c.OFSTANDARDACCOUNTID as TSA_Account_Number, c.OfblockAmount, \n",
    "  a.TSA_Status,a.TSA_Balance,a.Solo_Stash_Balance,a.Group_Stash_Balance,a.Term_Deposit_Balance,a.Active_Term_Deposit_flag,a.Last_TSA_Credit_Date,a.Last_TSA_Debit_Date,\n",
    "  a.ARI_Flag,a.Active_Loan,a.Total_Loan_Outstanding,  case when b.customerId is not null then 1 else 0 end as Approved_Loans,\n",
    "  a.Pending_Loan_Applications,a.Hard_Reject_Loans_App,a.Soft_Reject_Loans_App,a.Cancelled_Loans_App, extract(date from a.Last_Login_Date) as Last_Login_Date,\n",
    "  a.Last_TSA_EOD_Balance_Date,a.Last_Group_Stash_Credit_Date,a.Group_Stash_Balance_Owner,a.Run_Date,a.Batch,a.Processing_Month,a.pending_loans_not_expired_not_exempt,a.expired_loans,\n",
    "  a.pending_loans_lastDt,a.expired_loans_lastDt,\n",
    "  CASE \n",
    "    WHEN tsa_status = 'Active' and (Last_TSA_Credit_Date = date '1970-01-01' and Last_Group_Stash_Credit_Date is null)\n",
    "    and (TSA_Opening_date < date '{d_minus_60_days_string}')   ####D-60 days(SHOULD BE SAME DATE FOR 1ST,2ND,3RD NOTIFICATION)\n",
    "    and ( round(coalesce(TSA_Balance,0) + coalesce(Solo_Stash_Balance,0) + coalesce(Group_Stash_Balance,0) + coalesce(Term_Deposit_Balance,0),2) = 0 )\n",
    "    and (Active_Loan = 0) and (COALESCE(Pending_Loan_Applications,0) = 0)\n",
    "    and (Active_Term_Deposit_flag = 0)\n",
    "    and (ARI_Flag = 'N')\n",
    "    --and (Approved_Loans = 0)  THEN 'TYPE 1'\n",
    "    and b.customerId is null  THEN 'TYPE 1'\n",
    "\n",
    "\n",
    "    WHEN tsa_status = 'Active' and Last_TSA_EOD_Balance_Date is null and (TSA_Opening_date < date '{d_minus_60_days_string}')  ####D-60 days(SHOULD BE SAME DATE FOR 1ST,2ND,3RD NOTIFICATION)\n",
    "    and ( round(coalesce(TSA_Balance,0) + coalesce(Solo_Stash_Balance,0) + coalesce(Group_Stash_Balance,0) + coalesce(Term_Deposit_Balance,0),2) = 0 )\n",
    "    and (Active_Loan = 0) and (COALESCE(Pending_Loan_Applications,0) = 0)\n",
    "    and (Active_Term_Deposit_flag = 0)\n",
    "    and (ARI_Flag = 'N')\n",
    "    --and (Approved_Loans = 0)\n",
    "    and b.customerId is null  \n",
    "    and (date_trunc(TSA_Opening_date,day) = date_trunc(Last_Login_Date,day)) THEN 'TYPE 2'\n",
    "\n",
    "    \n",
    "    WHEN ( round(coalesce(TSA_Balance,0) + coalesce(Solo_Stash_Balance,0) + coalesce(Group_Stash_Balance,0) + coalesce(Term_Deposit_Balance,0),2) < 1 )\n",
    "            and (Active_Loan = 0) and (COALESCE(Pending_Loan_Applications,0) = 0)\n",
    "            and (Active_Term_Deposit_flag = 0)\n",
    "            and TSA_Opening_date < date '{d_minus_180_days_string}'                                     ####D-180 days(SHOULD BE SAME DATE FOR 1ST,2ND,3RD NOTIFICATION)\n",
    "            and (Last_TSA_Credit_Date < date '{d_minus_180_days_string}'                                 ####D-180 days(SHOULD BE SAME DATE FOR 1ST,2ND,3RD NOTIFICATION)\n",
    "            and Last_TSA_Debit_Date < date '{d_minus_180_days_string}'                                         ####D-180 days(SHOULD BE SAME DATE FOR 1ST,2ND,3RD NOTIFICATION)\n",
    "            and coalesce(Last_Group_Stash_Credit_Date,date '1970-01-01') < date '{d_minus_180_days_string}' )  ####D-180 days(SHOULD BE SAME DATE FOR 1ST,2ND,3RD NOTIFICATION)\n",
    "            and tsa_status = 'Active'\n",
    "            and (ARI_Flag = 'N')\n",
    "    --and (Approved_Loans = 0)\n",
    "            and b.customerId is null  \n",
    "    THEN 'TYPE 3'\n",
    "    ELSE 'NO ACTION'\n",
    "    END AS ACTION_TYPE\n",
    "  from w_tsa A\n",
    "  left join w_approved b\n",
    "  on cast(a.Customer_Id as int64) = b.customerId\n",
    "  left join core_raw.customer_accounts c\n",
    "  on c.OFCUSTOMERID = a.Customer_Id and c.CRINTERDESC = 'Transactional Savings Account Inv_R' and c.OFISCLOSED = 'N'\n",
    "  where\n",
    "  Run_Date = date '{d_minus_1_days_string}'  ###DATE change here to D-1\n",
    ")\n",
    "\"\"\"\n"
   ]
  },
  {
   "cell_type": "code",
   "execution_count": 41,
   "metadata": {},
   "outputs": [
    {
     "name": "stdout",
     "output_type": "stream",
     "text": [
      "\n",
      "with\n",
      "w_kyc\n",
      "as\n",
      "(\n",
      "  select distinct PARTYID, SEGCATEGORYDESC, row_number() over(partition by partyid order by SEGEFFECTIVEFROM desc) as rnk from `core_raw.party_details`\n",
      "),\n",
      "w_tsa\n",
      "as\n",
      "(\n",
      "  select * from risk_credit_mis.tsa_account_closure where Run_Date = date '2024-07-30'  ###DATE change here to D-1\n",
      "  and\n",
      "  Customer_Id not in (select cast(PARTYID as string) from w_kyc where rnk = 1 and SEGCATEGORYDESC = 'BKYC')\n",
      "  and\n",
      "  --customer_id in (select cast(customer_id as string) from prj-prod-dataplatform.dap_ds_poweruser_playground.tsa_2nd_notification_base_10jan2024)\n",
      "  customer_id in ('2371220', '2502195', '2499439', '2451802', '2462375', '2452433', '2497108', '2496598', '2444336', '2495373', '2456956', '2476578', '2442697', '2495329', '2472111', '2484651', '2448096', '2491779', '2462089', '2463309', '2447013', '2454241', '2458711', '2476027', '2476104', '2485651', '2481141', '2501907', '2447691', '2466247', '2492548', '2475802', '2477131', '2468323', '2481063', '2462508', '2462034', '2455877', '2474853', '2480487', '2496009', '2485799', '2493778', '2359856', '2458051', '2448203', '2443627', '2467852', '2479825', '2181650', '2502159', '2490743', '2498872', '2436268', '2451501', '2463484', '2360956', '2480608', '2482203', '2493971', '2473786', '2483749', '2458575', '2468583', '2463507', '2457597', '2471045', '2443888', '2467773', '2496536', '2461954', '2500513', '2491527', '2481027', '2130709', '2464681', '2500534', '2502183', '2503041', '2503448', '2486820', '2463427', '2494830', '2489164', '2451177', '2481930', '2443835', '2489181', '2457295', '2465789', '2492959', '2416786', '2461496', '2502599', '2498214', '2488301', '2426626', '2449240', '2480564', '2491043', '2443640', '2429758', '2455481', '2444143', '2459329', '2477100', '2410555', '2444757', '2491433', '2447744', '2482587', '2499316', '2487611', '2470234', '2502943', '2445543', '2463075', '2502029', '2481050', '2469283', '2451323', '2484220', '2500277', '2489998', '2474004', '2488373', '2451056', '2465078', '2490067', '2471015', '2452627', '2451863', '2497757', '2481493', '2446004', '2472487', '2470525', '2496976', '2497672', '2459391', '2432925', '2467049', '2448997', '2452763', '2442163', '2452336', '2446029', '2446747', '2472429', '2474404', '2454471', '2476188', '2476026', '2485363', '2447449', '2482780', '2477898', '2485107', '2454233', '2463982', '2470741', '2489389', '2451412', '2472891', '2443001', '2477788', '2436757', '2458523', '2497714', '2461260', '2501817', '2475061', '2449524', '1107839', '2475859', '2446445', '2480539', '2498478', '2486159', '2484894', '2474241', '2454366', '2450089', '2459103', '2454097', '2460517', '2415404', '2470989', '2442969', '2460188', '2490481', '2477464', '2443829', '2354343', '2490956', '2476830', '2461004', '2479480', '2452125', '2451224', '2492412', '2460567', '2469375', '2485768', '2451665', '1783008', '2447020', '2463483', '2501656', '2455785', '2460295', '2463916', '2444437', '2456138', '2443310', '2497865', '2472801', '2461888', '2482115', '2460748', '2485786', '2464864', '2501168', '2487985', '2461792', '2500670', '2465256', '2499301', '2459020', '2453379', '2484904', '2490839', '2491627', '2458959', '2497436', '2498493', '2492581', '2492169', '2450291', '2495544', '2178609', '2493155', '2500359', '2414170', '2481938', '2464421', '2469025', '2458614', '2473252', '2456171', '2474144', '2448877', '2489241', '2463984', '2459807', '2479872', '2476293', '2451370', '2490957', '2443944', '2497425', '2478143', '2457188', '2444498', '2454354', '2477972', '2459065', '2452477', '2502501', '2451172', '2457142', '2453397', '2473882', '2358676', '2471761', '2477053', '1230640', '2157699', '2443193', '2477251', '2483739', '2487720', '2496583', '2496549', '2451857', '2489847', '2433953', '2452076', '2102712', '2459493', '2465862', '2435951', '2503304', '2483943', '2486384', '2443609', '2463547', '2454322', '2474688', '2498581', '2466659', '2489422', '2447272', '2476520', '2444167', '2468337', '2484880', '2455895', '2493014', '2489469', '2493333', '2500765', '2461559', '2472863', '2466706', '2498057', '2503621', '2498595', '2463924', '2468033', '2491727', '2500935', '2455857', '2489577', '2462853', '2468539', '2496785', '2457547', '2377785', '2475063', '2466879', '2444669', '2483696', '2465199', '1280339', '2464557', '2459371', '2445982', '2443048', '2414513', '2465324', '2465754', '2497809', '2473659', '2454612', '2483885', '2471778', '2497586', '2415678', '2473988', '2502932', '2326485', '2493325', '2457563', '2474875', '2430462', '2499955', '2455162', '2493082', '2443646', '2485429', '2490794', '2502093', '2461703', '2498130', '2499111', '2455784', '2463730', '2472480', '2484100', '2486887', '2502359', '2497938', '2454254', '2461634', '2495117', '2449630', '2445981', '2463475', '2474067', '2477269', '2482848', '2463882', '2498249', '2430040', '2486617', '2475090', '2461229', '2482244', '2478323', '2462664', '2462057', '2468351', '2482217', '2447349', '2468140', '2458053', '2457470', '2460707', '2498362', '2486783', '2337323', '2442693', '2473646', '2502373', '2462495', '2448730', '2463479', '2486326', '2446822', '2447259', '2478709', '2480080', '2497112', '2449931', '2111147', '2469621', '2468647', '2460701', '2476901', '2447289', '2495558', '2479058', '2449732', '2443313', '2459466', '2493972', '2466773', '2469681', '2442025', '2462378', '2473330', '2432174', '2434201', '2485714', '2498526', '2445060', '2453411', '2493675', '2471035', '2457567', '2469556', '2465335', '2449559', '2490146', '2479840', '2455043', '2454965', '2501475', '2453877', '2489156', '2482841', '2498562', '2463957', '2358876', '2446759', '2477048', '2458200', '2489567', '2503294', '2478864', '2487169', '2490715', '2482132', '2479152', '2442104', '2425753', '2441561', '2481453', '2477266', '2443024', '2500663', '2487199', '2489948', '2492368', '2483404', '2457705', '2480362', '2461175', '2488025', '2449789', '2481672', '2449759', '2453151', '2467576', '2432074', '2491212', '2487621', '2183343', '2451804', '2479432', '2484281', '2461616', '2496378', '2499527', '2464315', '2446129', '2500406', '2471400', '2502225', '2489499', '2487437', '2487399', '2474278', '2305528', '2474365', '2470507', '2458286', '2449167', '2461709', '2475024', '2443564', '2452585', '2448605', '2494737', '2461851', '2490592', '2173459', '2494536', '2474577', '2456658', '2444337', '2474436', '2499045', '2475864', '2489109', '2480898', '2489857', '2473368', '2442123', '2462443', '2465202', '2480970', '2457737', '2458748', '2500494', '2470679', '2418613', '2456849', '2460685', '2422204', '2461650', '2471242', '2474837', '2463394', '2492124', '2443591', '2467112', '2444950', '2460179', '2454698', '2489827', '2497327', '2498188', '2472118', '2356705', '2462432', '2484540', '2465630', '2460790', '2490868', '2461892', '2492246', '2472804', '2473689', '2475797', '2287114', '2457232', '2475450', '2464401', '2470790', '2050551', '2449663', '2440773', '2474771', '2453201', '2482276', '2470247', '2475111', '2502309', '2465808', '2445067', '2435915', '2494512', '2475448', '2429945', '2486284', '2449004', '2481901', '2484859', '2490806', '2439990', '2470042', '2475898', '2492796', '2461359', '2464659', '2446306', '2493134', '2452947', '2447083', '2444133', '2465352', '2456361', '2485551', '2497888', '2464281', '2500263', '2439900', '2495592', '2471781', '2493868', '2486212', '2478064', '2443821', '2485069', '2443187', '2422296', '2462573', '2477450', '2465780', '2492860', '2483932', '2442376', '2494359', '2461136', '2502148', '2467513', '2495830', '2484372', '2478769', '2443069', '2471091', '2503446', '2483115', '2437527', '2465333', '2446231', '2482896', '2462260', '2498383', '2486599', '2451982', '2488583', '2483721', '2484786', '2471834', '2468699', '2430955', '2473395', '2467997', '2464213', '2465258', '2479157', '2450581', '2486703', '2492915', '2464398', '2471140', '2423888', '2471112', '2503556', '2501199', '2459109', '2482626', '2464225', '2454467', '2378191', '2447254', '2474693', '2465603', '2500090', '2488842', '2441170', '2467976', '2473558', '2476609', '2464132', '2446849', '2499957', '2478496', '2464438', '2495554', '2496285', '2444846', '2452312', '2493696', '2480779', '2481312', '2462314', '2481499', '2494900', '2446587', '2501120', '2485899', '2500987', '2485897', '2467597', '2464921', '2464482', '2446242', '2500040', '2448067', '2462702', '2446221', '2459417', '2477621', '2496384', '2475363', '2446866', '2469195', '2470356', '2472725', '2496297', '2496128', '2450319', '2468841', '2428653', '2477406', '2452785', '2500894', '2492983', '2495027', '2492000', '2466145', '2449463', '2494802', '2480662', '2460536', '2451524', '2473523', '2444842', '2451389', '2477599', '2487127', '2495972', '2498477', '2449871', '2477701', '2447626', '2447434', '2407417', '2463405', '2443813', '2498241', '2448859', '2445348', '2484536', '2449841', '2474504', '2443000', '2474148', '2450628', '2489373', '2483493', '2400705', '2500159', '2373113', '2460794', '2464030', '2480447', '2467682', '2481526', '2482215', '2497595', '2450953', '2493057', '2457110', '2495728', '2503043', '2454696', '2451397', '2502424', '2464947', '2471446', '2497896', '2451658', '2329478', '2487168', '2461426', '2463138', '2463740', '2462964', '1514554', '2444609', '2445967', '2468406', '2458973', '2469278', '2446257', '2494308', '2457422', '2494751', '2473606', '2478034', '2444482', '2444597', '2455497', '2486251', '2453623', '2482094', '2447007', '2475269', '2472387', '2475014', '2467375', '2462574', '2457832', '2453345', '2482819', '2472433', '2465712', '2458017', '2385247', '2494499', '2458457', '2396040', '2478264', '2495451', '2449817', '2456847', '2483657', '2464219', '2459842', '2341484', '2490480', '2497298', '2479802', '2444761', '2501774', '2492469', '2463927', '2503217', '2490035', '2470470', '2467481', '2475627', '2448683', '2453228', '2484361', '2338868', '2475846', '2474213', '2483024', '2444915', '2446899', '2294808', '2430027', '2476745', '2399161', '2410608', '2285237', '2480591', '2445139', '2498512', '2502223', '2449660', '2485454', '2496929', '2472155', '2476465', '2456276', '2466831', '2489514', '2471402', '2469830', '2503046', '2496385', '2472960', '2334199', '2138879', '2461486', '2454741', '2465263', '2344949', '2442384', '2474919', '2500487', '2476836', '2483934', '2455896', '2477541', '2490111', '2467857', '2480555', '2468340', '2465830', '2492298', '2478717', '2471701', '2448577', '2496971', '2479782', '2474507', '2503109', '2447156', '2469466', '2476204', '2489670', '2481122', '2474092', '2501839', '2473236', '2464553', '2472795', '2466612', '2502989', '2465915', '2464688', '2442509', '2230618', '2501931', '2496742', '2357409', '2453149', '2466316', '2457303', '2476741', '2453655', '2462221', '2494666', '2465829', '2493294', '2455856', '2489056', '2392050', '2460457', '2462503', '2495286', '2460046', '2495449', '2456422', '2454367', '2480816', '2483758', '1426101', '2442543', '2443592', '2460872', '2498326', '2456846', '2470199', '2442141', '2493806', '2449369', '2486539', '2493193', '2494849', '2493814', '2483473', '2480378', '2454555', '2450764', '2448030', '2456497', '2485661', '2500851', '2439504', '2444985', '2471503', '2496473', '2461611', '2448025', '2461734', '2463482', '2503719', '2494580', '2494490', '2473488', '2371077', '2460373', '2489555', '2498528', '2447296', '2487509', '2473202', '2495466', '2372613', '2487895', '2459719', '2475558', '2460028', '2500042', '2476446', '2503094', '2470002', '2454074', '2456236', '2492978', '2466409', '2449564', '2444900', '2498234', '2501659', '2476949', '2482547', '2362707', '2477203', '2444565', '2485287', '2452139', '2477475', '2455256', '2489572', '2481676', '2454506', '2442127', '2488440', '2473065', '2481052', '2467347', '2454466', '2491280', '2446277', '2476059', '2460189', '2483265', '2460893', '2502227', '2459225', '2479886', '2495766', '2486868', '2498626', '2500168', '2426042', '2477427', '2475653', '2465164', '2480136', '2500559', '2488927', '2503346', '2479067', '2396681', '2448914', '2437889', '2503350', '2458452', '2446008', '2477588', '2471184', '2457672', '2263975', '2477850', '2447983', '2476418', '2492149', '2494598', '2451764', '2492045', '2459420', '2428712', '2455989', '2478532', '2473154', '2491089', '2472954', '2484721', '2475573', '2469162', '2491042', '2481383', '2456090', '2443547', '2472422', '2456146', '2466644', '2449061', '2459869', '2449698', '2489388', '2492072', '2449045', '2503225', '2445200', '2502667', '2450412', '2384259', '2476185', '2457237', '2470591', '2470715', '2456303', '2502130', '2488178', '2479616', '2461417', '2479108', '2490869', '2462625', '2490842', '2491521', '2465881', '2473319', '2461919', '2476272', '2462688', '2458238', '2491817', '2479519', '2460165', '2446185', '2444574', '2472446', '2450533', '2480818', '2463876', '2450068', '2457882', '2501634', '2464493', '2503438', '2446001', '2475611', '2448696', '2459437', '2466418', '2458196', '2454035', '2490147', '2442115', '2488661', '2502443', '2400330', '2445402', '2478887', '2485182', '2445853', '2447584', '2483084', '2468589', '2477517', '2470116', '2444107', '2494123', '2494617', '2453287', '2447611', '2450434', '2483154', '2477736', '2485534', '2457256', '2473530', '2502473', '2472223', '2413021', '2450883', '2471328', '2477288', '2296178', '2462602', '2445958', '2456484', '2448659', '2439512', '2443679', '2491487', '2494683', '2457240', '2469626', '2382059', '2275739', '2458844', '2468918', '2480420', '2448648', '2448678', '2477462', '2483005', '2442094', '2448070', '2445706', '2491075', '2455695', '2460360', '2492007', '2452770', '2451357', '2482674', '2491044', '2456452', '2497717', '2442971', '2490951', '2465079', '2483704', '2454602', '2497189', '2469458', '2495498', '2444332', '2462437', '2442680', '2446660', '2498902', '2477412', '2459614', '2461592', '2480902', '2477622', '2490093', '2486003', '2450912', '2448369', '2443825', '2454688', '2460367', '2453369', '2442855', '2492910', '2408556', '2474706', '2482267', '2437877', '2445777', '2452127', '2466664', '2467359', '2485850', '2492670', '2481858', '2471286', '2479358', '2496387', '2463355', '2468978', '2462410', '2427302', '2460088', '2417720', '2479268', '2483185', '2481979', '2333878', '2458623', '2464937', '2453404', '2444174', '2463526', '2452946', '2389204', '2474049', '2495136', '2446959', '2483745', '2472631', '2480890', '2479478', '2499143', '2465884', '2501952', '2448924', '2474743', '2450763', '2464106', '2453284', '2495985', '2482290', '2466455', '2457282', '2460758', '2452304', '2493888', '2448907', '2479143', '2443190', '2462051', '2476466', '2450130', '2480825', '2488805', '2460708', '2467007', '2349553', '2482650', '2459765', '2480843', '2446038', '2493934', '2497446', '2460330', '1403319', '2448167', '2496195', '2456993', '2455853', '2421336', '2454693', '2442915', '2475256', '2501682', '2361835', '2467361', '2388511', '2455372', '2486039', '2343795', '2471742', '2494921', '2457136', '2463784', '2483082', '2406094', '2475886', '2483979', '2457601', '2491746', '2424133', '2394507', '2466047', '2496559', '2446114', '2447794', '2382728', '2441875', '2475932', '2454261', '2443628', '2472796', '2455015', '2463952', '2496552', '1451792', '2449821', '2493321', '2485420', '2472704', '2443467', '2447269', '2473292', '2478627', '2448931', '2420879', '2464645', '2454392', '2460675', '2451758', '2453266', '2464766', '2301104', '2458164', '2499422', '2495099', '2448946', '2474588', '2447778', '2448728', '2460063', '2321990', '2473304', '2462630', '2462654', '2177927', '2465733', '2483651', '2489812', '2371848', '2452390', '2471654', '2500084', '2496791', '2449915', '2484390', '2461483', '2450513', '2468915', '2220172', '2446132', '2452041', '2475137', '2481023', '2487813', '2445014', '2469014', '2443027', '2481827', '2490901', '2457255', '2464958', '2473075', '2459364', '2497284', '2460778', '2462462', '2489706', '2488296', '2453830', '2461619', '2465817', '2500315', '2484076', '2494262', '2469947', '2491508', '2460402', '2473460', '2461411', '2455822', '2456752', '2458942', '2454773', '2502584', '2471881', '2472967', '2478871', '2471338', '2452306', '2461597', '2443058', '2259047', '2399995', '2491003', '2471011', '2449874', '2498865', '2498542', '2488995', '2482297', '2476057', '2487935', '2476085', '2502011', '2463777', '2487290', '2475035', '2471459', '2444000', '2451080', '2454468', '2470996', '2449157', '2447928', '2481438', '2492327', '2468714', '2486977', '2456153', '1330622', '2454636', '2497139', '2471929', '2480155', '2501409', '2495715', '2478897', '2340688', '2457682', '2452958', '2498328', '2436801', '2468973', '2446648', '2487381', '2494329', '2462423', '2463692', '2486160', '2488845', '2331419', '2393674', '2476035', '2444942', '2458958', '2503554', '2467647', '2491902', '2420753', '2464865', '2499987', '2445556', '2490844', '2400394', '2467824', '2466912', '2490999', '2463827', '2467135', '2493328', '2491098', '2466405', '2471738', '2475970', '2493462', '2462032', '2471133', '2432684', '2498758', '2457650', '2478040', '2484695', '2489411', '2502569', '2503242', '2455187', '2491766', '2490339', '2454561', '2477615', '2448362', '2460331', '2454519', '2496562', '2477150', '2477426', '2418281', '2478851', '2457749', '2492156', '2477072', '2485640', '2473842', '2496279', '2496998', '2483854', '2458981', '2457982', '2467180', '2471582', '2451752', '2503669', '2470000', '2484065', '2457183', '2478810', '2470109', '2501924', '2444862', '2492884', '2496611', '2449793', '2451428', '2491446', '2455468', '2385617', '2503503', '2497539', '2494563', '2502218', '2463824', '2465388', '2448445', '2472247', '2480771', '2451388', '2496902', '2497457', '2466838', '2454546', '2447215', '2492414', '2485345', '2468947', '2456562', '2399733', '2442735', '2468614', '2476895', '2447770', '2436334', '2482880', '2450394', '2500329', '2437777', '2494257', '2468252', '2475949', '2460539', '2486953', '2493570', '2488467', '2486425', '2499407', '2454273', '2462454', '2449832', '2480163', '2467956', '2470340', '2464211', '2444245', '2282478', '2465093', '2490337', '2480315', '2491041', '2401766', '2446262', '2465024', '2465849', '2476286', '2307176', '2491979', '2203687', '2451562', '1853167', '2486862', '2459986', '2478423', '2486363', '2491067', '2474759', '2491751', '2465436', '2457562', '2443145', '2448951', '2469536', '2460520', '2481158', '2446381', '2456839', '2450430', '2473427', '2449710', '2488922', '2498537', '2458094', '2452709', '2480152', '2463807', '2459490', '2421411', '2458745', '2450963', '2461679', '2391467', '2458789', '2476014', '2450137', '2442683', '2452414', '2496269', '2455734', '2464640', '2488649', '2225964', '2474236', '2442859', '2467204', '2493267', '2456897', '2448795', '2501181', '2482845', '2471442', '2502734', '2465155', '1240749', '2478457', '2495834', '2496934', '2468480', '2485045', '2443527', '2490091', '2469861', '2495812', '2452157', '2455253', '2477473', '2467761', '2465661', '2498212', '2500002', '2469767', '2494117', '2489035', '2451002', '2498138', '2463219', '2502475', '2467649', '2494534', '2471513', '2309672', '2456093', '2477364', '2469550', '2448182', '2414061', '2479093', '2471254', '2461383', '2460273', '2492190', '2452017', '1772232', '2500456', '2462134', '2490239', '2479842', '2470979', '2481948', '2446751', '2468857', '2450932', '2490991', '2459247', '2477075', '2470049', '2348220', '2301263', '2463198', '2468615', '1050280', '2495220', '2299915', '2442942', '2497181', '2459001', '2370112', '2448439', '2473020', '2493954', '2483585', '2471157', '2487939', '2452917', '2454646', '2448391', '2302814', '2449892', '2492228', '2480431', '2480623', '2456130', '2474787', '2498213', '2482065', '2476007', '2428334', '2495706', '2460913', '2451350', '2472273', '2431952', '2448558', '2500016', '2492964', '2487926', '2479115', '2450372', '2450427', '2459202', '2491839', '2465146', '2457508', '2500628', '2465618', '2446161', '2444751', '2443148', '2453398', '2443618', '2372129', '2413839', '2452781', '2456494', '2487551', '2485525', '2442643', '2458648', '2444318', '2475769', '2464095', '2489126', '2469629', '2490553', '2469574', '2448770', '2495146', '2494796', '2457360', '2496247', '2478824', '2500781', '2461318', '2493606', '2418945', '2442125', '2442072', '2413773', '2463003', '2449842', '2447406', '2498066', '2475696', '2496674', '2472292', '2458568', '2466850', '2457802', '2454057', '2349485', '2491993', '2491662', '2485913', '2450726', '2491063', '2448871', '2473043', '2498180', '2440875', '2502056', '2475439', '2480467', '2499354', '2445911', '2489185', '2460303', '2285063', '2448655', '2474672', '2456001', '2469506', '2466369', '2444253', '2464288', '2476115', '2467073', '2503639', '2449324', '2499432', '2486337', '2461704', '2462861', '2443500', '2449947', '2493571', '2490828', '2385079', '2454207', '2448389', '2497552', '2495351', '2476695', '2482373', '2462438', '2470752', '2446167', '2456500', '2459594', '2461437', '2448947', '2472255', '2448544', '2492377', '2488621', '2487349', '2444073', '2477298', '2444855', '2474111', '2451506', '1104916', '2472052', '2452777', '2451221', '2465350', '2467210', '2495928', '2415941', '2476424', '2444301', '2496841', '2498907', '2495702', '2482141', '1878796', '2461989', '2500685', '2483282', '2448442', '2462311', '2458806', '2462196', '2326290', '2466196', '2423404', '2401195', '2442253', '2431742', '2486630', '2472074', '2456588', '2498300', '2484648', '1132425', '2455837', '2460026', '2490016', '2482754', '2465501', '2470733', '2486151', '2292795', '2381393', '2367908', '2496693', '2448867', '2460117', '2478150', '2468652', '2460105', '2496554', '2369495', '2459911', '2490653', '2457385', '2468025', '2445372', '2500502', '2469981', '2502026', '2460738', '2468149', '2174193', '2473446', '2447238', '2461289', '2457334', '2502759', '2454004', '2502321', '2497302', '2467105', '2467845', '2470730', '2471528', '2496704', '2482365', '2499983', '2495474', '2496188', '2458915', '2470528', '2467213', '2460297', '2476642', '2492705', '2451380', '2483945', '2477873', '2491813', '2442361', '2444267', '1737731', '2497073', '2462167', '2451663', '2484659', '2447206', '2496633', '2475773', '2491402', '2487927', '2495435', '2493795', '2448675', '2458627', '2493902', '2443050', '2447002', '2483744', '2487361', '2476145', '2501487', '2472529', '2450743', '2443070', '2460918', '2466671', '2469806', '2451054', '2497750', '2503407', '2475604', '2463626', '2475938', '2488854', '2501940', '2478645', '2453903', '2484021', '2441679', '2471227', '2490922', '2444510', '2495915', '2447427', '2470354', '2473246', '2492537', '1820430', '2503317', '2480721', '2458911', '2444294', '2468939', '2432534', '2474009', '2411418', '2455656', '2444940', '2472199', '2443765', '2381584', '2482855', '2450970', '2496042', '2457915', '2474489', '2401577', '2494015', '2502236', '2494793', '2447310', '2489234', '2476394', '2429288', '2480320', '2452147', '2481754', '2487555', '2482453', '2490051', '2469618', '2467308', '2466624', '2446225', '2491781', '2292212', '2447394', '2457225', '2475967', '2491823', '2484766', '2501176', '2455765', '2483390', '2483280', '2477959', '2497722', '2466613', '2461178', '2454988', '2475957', '2386711', '2471733', '2495306', '2488998', '2502200', '2462814', '2465944', '2495989', '2491674', '2474274', '2487445', '2451182', '2353759', '2492321', '2483520', '2486058', '2471785', '2459815', '2346844', '2472643', '2460416', '2490977', '2460677', '2472482', '2464755', '2502468', '2465978', '2497840', '2449458', '2466129', '2461507', '2479941', '2462677', '1451305', '2452018', '2451347', '2497485', '2449898', '2469044', '2471857', '2451192', '2436946', '2500193', '2476269', '2445079', '2447527', '2462998', '2457900', '2475915', '2444101', '2480750', '2497844', '2501928', '2458393', '2480273', '2486320', '2436484', '2491107', '2464463', '2419744', '2484563', '2468679', '2496382', '2453438', '2460281', '2464459', '2490879', '2448587', '2429866', '2472944', '2502391', '2493198', '2499059', '2452890', '2474882', '2479571', '2475904', '2456755', '2453839', '2496461', '2393626', '2462793', '2501570', '2469461', '2384947', '2471543', '2490321', '2458923', '2460034', '2191124', '2446224', '2493235', '2498183', '2464302', '2456318', '2319430', '2470430', '2427046', '2448666', '2478764', '2501877', '2461432', '2444749', '2447987', '2484184', '2476182', '2479537', '2481228', '2495987', '2485140', '2485179', '2469551', '2454795', '2465283', '2443229', '2484941', '2447519', '2452609', '2450939', '2446172', '2450867', '2479577', '2497469', '1245754', '2489892', '2482025', '2442015', '2464016', '2460974', '2455880', '2482111', '2448381', '2460246', '2459808', '2469758', '2450857', '2452691', '2463650', '2491275', '2463102', '2431603', '2455399', '2476213', '2490678', '2474621', '2451782', '2455752', '2463919', '2453680', '2489503', '2484506', '2403616', '2444072', '2466491', '2443611', '2241842', '2476768', '2463257', '2451542', '2480600', '2484741', '2466456', '2492610', '2456771', '2481461', '2494520', '2427677', '2159085', '2445416', '2480070', '2444194', '2452083', '2442352', '2421228', '2462851', '2448488', '2446934', '2455881', '2138063', '2489144', '2502275', '2379967', '2469683', '2459909', '2471531', '2502189', '2478784', '2481426', '2448163', '2449180', '2477930', '2458815', '2502193', '2451019', '2455623', '2466686', '2447904', '2460679', '2481759', '2493620', '2500721', '2502550', '2499631', '2492700', '2490816', '2498585', '2485830', '2451711', '2467232', '2460935', '2480460', '2490215', '2200249', '2447797', '2454677', '2474419', '2493589', '2480588', '2281682', '2472703', '2491655', '2481261', '2479873', '2491153', '2489684', '2501045', '2455946', '2447255', '1170027', '2475917', '2470711', '2404558', '2459078', '2450697', '2476332', '2448799', '2490634', '2456438', '2497092', '2461546', '2490432', '2493538', '2466846', '2501793', '2496855', '2455573', '2448394', '2486122', '2502222', '2480173', '2454866', '2469628', '2447131', '2450785', '2503714', '2485261', '2447027', '2496844', '2471068', '2502154', '2450878', '2482955', '2447210', '2493214', '2463935', '2492834', '2461501', '1635900', '2453370', '2456151', '2502240', '2444704', '2458715', '2463265', '1613903', '2499169', '2484756', '2502326', '2487521', '2444282', '2483359', '2447209', '2465397', '2487112', '2449142', '2471055', '2448684', '2492926', '2480922', '2438130', '2451624', '2445890', '2465996', '2489661', '2442438', '2495231', '2468099', '2499890', '2484116', '2425602', '2482050', '2468308', '2473743', '2493647', '2476910', '2452895', '2453470', '2503366', '2337863', '2407785', '2492940', '2481035', '2503564', '2500206', '2448368', '2500727', '2502699', '2490656', '2392042', '2468460', '2496833', '2503050', '2490953', '2470861', '2468636', '2410302', '2447813', '2277162', '2392846', '2464017', '2495661', '2446535', '2496366', '2453767', '2498870', '2483833', '2490993', '2465219', '2493226', '2500562', '2498632', '2469624', '2445969', '2483961', '2481328', '2301508', '2449904', '2464096', '2443301', '2246705', '2488459', '2476639', '2475296', '2466517', '2453993', '2484412', '2442561', '2478273', '1442143', '2458639', '2464769', '2445092', '2442035', '2478772', '2495048', '2444753', '2171446', '2489446', '2465608', '2492253', '2478910', '2477381', '2480543', '2446145', '2494627', '2475222', '2493442', '2492354', '2502984', '2448538', '2455442', '2466248', '2048931', '2492736', '2488735', '2449912', '2455142', '2447944', '2380953', '2491905', '2442170', '2502358', '2479722', '2449675', '2485516', '2470385', '2472298', '2446173', '2457475', '2486614', '2495545', '2487729', '2412585', '2489332', '2415535', '2362397', '2448685', '2497421', '2476518', '2456995', '1484783', '2441770', '2448509', '2478556', '2503177', '2466126', '2442653', '2456574', '2456315', '2454613', '2493706', '2476455', '2494831', '2502732', '2485595', '2447458', '2478033', '2502305', '2477319', '2485532', '2468293', '2464992', '2447344', '2444152', '2449120', '2454738', '2479481', '2491004', '2455220', '2495392', '2450118', '2450995', '2442537', '2446645', '2484236', '2440795', '2476951', '2456672', '2484331', '2460411', '2476722', '2462415', '2482027', '2463870', '2458055', '2446653', '2470492', '2501469', '2208547', '2494650', '2481479', '2500026', '2455306', '2485838', '2500403', '2428381', '2481755', '2467087', '2443533', '2488668', '2464331', '2490830', '2442980', '2433251', '2481719', '2474799', '2475304', '2423880', '2428427', '2456079', '2489758', '2442485', '2448090', '2443045', '2446079', '2447265', '2451652', '2470937', '2449389', '2466721', '2475007', '2487817', '2470362', '2471960', '2465561', '2489539', '2431579', '2456121', '2443779', '2480001', '2496349', '2494459', '2167281', '2472139', '2466724', '2463140', '2500527', '2480399', '2475176', '2449210', '2446761', '2452837', '2477709', '2457315', '2421536', '2469513', '2462719', '2444011', '2466239', '2460446', '2503651', '2460108', '2491154', '2500270', '2455829', '2458121', '2476845', '2495205', '2463201', '2462114', '2496187', '2474906', '1904857', '2456909', '2491427', '2446042', '2503147', '2372482', '2474272', '2466502', '2447277', '2452798', '2454856', '2495356', '2474739', '2333611', '2486824', '2469727', '2308942', '2459062', '2474568', '2467299', '2487197', '2484405', '2490250', '2468391', '2478905', '2446196', '2457903', '2458091', '2453431', '2480966', '2494223', '2493279', '2480327', '2457858', '2437841', '2473036', '2296329', '2453016', '2484484', '2451303', '2493741', '2450082', '2493285', '2479684', '2481123', '2454380', '2494007', '2454011', '2458497', '2487991', '2465932', '2496476', '2475164', '2459204', '2500027', '2475973', '2439783', '2495660', '2470771', '2478422', '2478974', '2470286', '2502421', '2491329', '2470392', '2461455', '2459959', '2460284', '2462530', '2477808', '2431941', '2493089', '2461717', '2456719', '2452522', '2452706', '2472654', '2469297', '2482427', '2416167', '2462117', '2492521', '2491641', '2449807', '2500228', '2375618', '2454335', '2454512', '2454321', '2465179', '2489460', '2475944', '2463403', '2465241', '2473477', '2490000', '2473668', '2258993', '2472775', '2494783', '2447116', '2465358', '2465293', '2453394', '2493064', '2472072', '2478350', '2487670', '2479907', '2491731', '2502469', '2498957', '2482967', '2476246', '2483795', '2485618', '2407796', '2493396', '2475749', '2446094', '2481194', '2487490', '2476735', '2461608', '2462522', '2466763', '2452221', '2449937', '2453678', '2438914', '2466304', '2442976', '2447509', '2471612', '2463763', '1965881', '2320577', '2484792', '2451111', '2445506', '2444956', '2445717', '2499337', '2452096', '2496015', '2416507', '2477702', '2461626', '2470991', '2407672', '2479137', '2461494', '2472999', '2473153', '2450699', '2476068', '2483018', '2285382', '2497627', '2493567', '2444865', '2458303', '2441439', '2471249', '2394161', '2461610', '2448260', '2447726', '2466578', '2455196', '2496209', '2451575', '2416390', '2358286', '2466231', '2480342', '2442332', '2489596', '2466676', '2457972', '2450688', '2449837', '2465509', '2478509', '2406809', '2244065', '2445459', '2350864', '2474701', '2491940', '2481911', '2465600', '2450377', '2476040', '2488562', '2457719', '2446868', '2442912', '2490005', '2445447', '2478402', '2495857', '2492198', '2476696', '2465255', '2449482', '2502728', '2485922', '2496892', '2444679', '2452493', '2479169', '2444730', '2444886', '2481684', '2467222', '2483177', '2383834', '2496896', '2417966', '2473336', '2494371', '2450649', '2503667', '2475436', '2392862', '2495535', '2488470', '2477019', '2460852', '1299131', '2464938', '2444518', '2490981', '2501891', '2477820', '2444531', '2452805', '2477714', '2469909', '2489960', '2472530', '2453230', '2473047', '2479164', '2486287', '2496545', '2494776', '2442964', '2479513', '2436750', '2461317', '2454274', '2445400', '2438423', '2392844', '2459035', '2468035', '2454166', '2492904', '2494918', '2306673', '2487464', '2444339', '2456097', '2219771', '2462734', '2501109', '2476474', '2476435', '2460237', '2496356', '2443097', '2494207', '2460407', '2493816', '2494791', '2499949', '2499774', '2444989', '2454979', '2466759', '2362342', '2447263', '2417246', '2485775', '2477815', '2472623', '2452220', '2437600', '2498339', '2452638', '2487390', '2470919', '2463013', '2459793', '2451147', '2495618', '2487393', '2462945', '2489333', '2462652', '2453557', '2462550', '2453760', '2465491', '2452339', '2458853', '2491126', '2501675', '2494676', '2453590', '2478327', '2463113', '2465563', '2451682', '2450107', '2486213', '2482403', '2453948', '2501506', '2466890', '2444241', '2454454', '2455793', '2454161', '2455012', '2455512', '2418585', '2490846', '2479365', '2452209', '2444400', '2453955', '2484242', '2497137', '2475812', '2462690', '2478069', '2478266', '2487857', '2456002', '2485923', '2490097', '2460527', '2477217', '2471875', '2477429', '2463397', '2499966', '2499818', '2454042', '2452598', '2451780', '2450636', '2493319', '2502316', '2453186', '2493824', '2449773', '2475983', '2479106', '2328883', '2501269', '2176576', '2486738', '2137640', '2482362', '2458014', '2477803', '2450900', '2472253', '2491412', '2476123', '2447962', '2496901', '2485306', '2451015', '2487398', '2489989', '2133439', '1693792', '2417986', '2471909', '2448762', '2447094', '2467917', '2411594', '2480287', '2488235', '2476974', '2469486', '2483576', '2493884', '2458891', '2483767', '2457292', '2462189', '2501796', '2472075', '2455180', '2488333', '2402836', '2479551', '2452193', '2497565', '2466963', '2480727', '2483132', '2493464', '2456145', '2474971', '2463815', '2485295', '2442077', '2350699', '2489188', '2495579', '2437670', '2487358', '2445215', '2468297', '2477346', '2479869', '2466557', '2464392', '2469151', '2498376', '2490727', '2458040', '2444773', '2461081', '2463759', '2463953', '2461462', '2467085', '2463738', '2445979', '2461012', '2449705', '2475305', '2294101', '2497316', '2467599', '2477465', '2494741', '2484726', '2457001', '2480692', '2481414', '2446818', '2446149', '2489196', '2488779', '2492103', '2460722', '2462363', '2489634', '2449614', '2459346', '2487222', '2490253', '2485593', '1890441', '2465085', '2494772', '2471968', '2489357', '2163337', '2474598', '2489635', '2502376', '2498048', '2474145', '2456710', '2465549', '2482751', '2502239', '2481472', '2482034', '2492050', '2496592', '2494165', '2487021', '2502671', '2468274', '2470724', '2469287', '1200197', '2463762', '2492467', '2471983', '2487577', '2456388', '2160089', '2488418', '2465466', '1219050', '2469616', '2469059', '2462498', '2498851', '2478137', '2476003', '2444090', '2469286', '2443697', '2479283', '2501020', '2469062', '2478892', '2462170', '2470214', '2464624', '2467772', '2451810', '2378335', '2420224', '2450837', '2474038', '2472285', '2396080', '2445802', '2425449', '2484289', '2452386', '2501488', '2447336', '2478689', '2441419', '2453414', '2398963', '2453950', '2452529', '2494544', '2461269', '2481587', '2449321', '2456049', '2495929', '2479278', '2170249', '2468145', '2473298', '2477680', '2503299', '2468151', '2493587', '2459950', '2476498', '2495162', '2455126', '2487519', '2464000', '2496681', '2472533', '2478344', '2445848', '2466423', '2474783', '2495902', '2444435', '2452593', '2448688', '2448169', '2461348', '2473995', '2495333', '2500841', '2452360', '2498874', '2442275', '2465321', '2453681', '2501525', '2499202', '2450473', '2452815', '2488008', '2466028', '2458656', '2461940', '2482143', '2455327', '2460655', '2482527', '2486574', '2466565', '2467927', '2464504', '2495101', '2460643', '2480972', '2471014', '2460180', '2449690', '2459738', '2471005', '2445985', '2479950', '2454753', '2461993', '2468190', '2481844', '2453351', '2465266', '2456403', '2476245', '2463218', '2466569', '2503355', '2464037', '2491317', '2488168', '2497592', '2470668', '2469070', '2444979', '2468011', '2448492', '2450888', '2466952', '2496625', '2462324', '2491175', '2292090', '2457600', '2495122', '2453037', '2449502', '2503013', '2449712', '2472148', '2473124', '2481942', '2483691', '2461427', '2466634', '2480528', '2483933', '2465236', '2460208', '2415485', '2444099', '2450960', '2501542', '2490583', '2471774', '2486093', '2459390', '2479262', '2474117', '2473056', '2440748', '2463732', '2474890', '2442924', '2495447', '2458785', '2464136', '2444173', '2442373', '2463987', '2489550', '2419312', '2486228', '2269940', '2469033', '2487451', '2450921', '2495154', '2453208', '2296947', '2469337', '2455803', '2502522', '2460211', '2489861', '2459733', '2470640', '2460789', '2461977', '2239313', '2453372', '2476562', '2476577', '2442642', '2198676', '2444648', '2489310', '2452722', '2472565', '2452115', '2469240', '2466370', '2451021', '2498794', '2448127', '2483602', '2467911', '2490209', '2457435', '2457533', '2443989', '2495525', '2482417', '2469326', '2453869', '2496243', '2463266', '2452538', '2447517', '2457409', '2478275', '2480416', '2449619', '2494883', '2443514', '2476019', '2493223', '2490379', '2474936', '2501124', '2471109', '2446009', '2445822', '2481665', '2496094', '2449286', '2444421', '2268679', '2463126', '2455847', '2432019', '2466792', '2398599', '2496182', '2496687', '2500111', '2466412', '2496737', '2453206', '2447191', '2393648', '2487791', '2447526', '2452757', '2453070', '2468914', '2460377', '2452144', '2448496', '2501081', '2464534', '2473259', '2462085', '2462262', '2503021', '2460104', '2463901', '2458613', '2483826', '2495159', '2468173', '2439102', '2462286', '2488302', '2496936', '2483632', '2469875', '2482603', '2457405', '2465303', '2477787', '2447384', '2496073', '2472476', '2442881', '2481644', '2480210', '2485652', '2502798', '2475829', '2480334', '2463061', '2478459', '2496144', '2466642', '2474541', '2479749', '2455535', '2451883', '2148250', '2456873', '2451391', '2499715', '2502858', '2488980', '2445153', '2447410', '2457278', '2484408', '2459526', '2469634', '2430463', '2468517', '2470862', '2497159', '2462711', '2443211', '2444468', '2503637', '2494912', '2461648', '2501611', '2465482', '2486306', '2474186', '2464575', '2475832', '2462820', '2423715', '2462549', '2451843', '2450436', '2469104', '2495294', '2494752', '2502278', '2481816', '2246634', '2445584', '2451947', '2503439', '2469793', '2313336', '2453583', '2472606', '2451179', '2466294', '2446983', '2450741', '2471021', '2432970', '2489620', '2493453', '2442113', '2493745', '2472715', '2485481', '2469081', '2472791', '2468530', '2458439', '2464888', '2466207', '2220913', '2454473', '2445419', '2459756', '2216586', '2484759', '2451000', '2459826', '2454640', '2480802', '2455513', '2466949', '2475746', '2476794', '2502041', '2499166', '2466601', '2494817', '2464026', '2451324', '2484159', '2454976', '2471883', '2457304', '2460464', '2450217', '2487704', '2445738', '2466135', '2503226', '2491085', '2485584', '2461826', '2445010', '2477163', '2495462', '2495428', '2426336', '2503426', '2470157', '2489560', '2470241', '2466905', '2491083', '2495563', '2467668', '2488691', '2474324', '2464152', '2482917', '2446285', '2474149', '2461066', '2453493', '2444703', '2473635', '2502589', '2383106', '2471393', '2452327', '2460529', '2487499', '2492177', '2493611', '2443035', '2450868', '2478134', '2453532', '2448592', '2212093', '2448805', '2486128', '2459858', '2470366', '2501381', '2496002', '2424624', '2459796', '2464596', '2453240', '2475790', '2492977', '2448937', '2475729', '2493323', '2465311', '2460403', '2484478', '2455874', '2475259', '2497559', '2455964', '2410565', '2443039', '2478453', '2264414', '2452378', '2461017', '2480201', '2450470', '2468280', '2333524', '2467558', '2467595', '2500972', '2469414', '2490348', '2455983', '2478579', '2498306', '2434958', '2482941', '2443349', '2460285', '2469029', '2489590', '2494914', '2461274', '2489766', '2392394', '2443192', '2452490', '2466758', '2473588', '2468965', '2311339', '2471888', '2462231', '2485832', '2488067', '2492929', '2449147', '2496962', '2503201', '2477730', '2454655', '2493047', '2495189', '2395294', '2460450', '2462589', '2471245', '2489886', '2482890', '2470839', '2419378', '2488955', '2449533', '2491864', '2449594', '2485444', '2470244', '2498881', '2474660', '2476799', '2452925', '2472002', '2494775', '2493994', '2464036', '2493200', '2418313', '2459999', '2380186', '2495080', '2497997', '2461024', '2461352', '2492813', '2454145', '2480503', '2450613', '2492393', '2493827', '2450889', '2457075', '2474579', '2465457', '2460498', '2352534', '2489187', '2493812', '2500062', '2451707', '2494891', '2444762', '2459876', '2502266', '2478263', '2453970', '2450418', '2502545', '2450039', '2476713', '2476225', '2494180', '2465460', '2460903', '2455565', '2491191', '2479070', '2481021', '2501975', '2468922', '2483526', '2451199', '2500682', '2490450', '2494116', '2479546', '2483257', '2484939', '2471970', '2451171', '2477457', '2442898', '2469779', '2487322', '2463311', '2472504', '2478941', '2482385', '2477961', '1904505', '2461073', '2459373', '2468543', '2458558', '2454500', '2481624', '2470695', '2489413', '2502385', '2445951', '2495867', '2480905', '2470932', '2449410', '2478957', '2263599', '2450668', '2493238', '2500593', '2454204', '2490931', '2472733', '2480660', '2450449', '2445945', '2502924', '2483099', '2452794', '2475772', '2459504', '2444653', '2467448', '1930387', '2488396', '2450940', '2499808', '2500889', '2487582', '2447675', '2443616', '2457088', '2467975', '2462020', '2496459', '2494066', '2495646', '2481092', '2482873', '2495091', '2485383', '2496530', '2472595', '2455944', '2470858', '2492086', '2446943', '2503413', '2423317', '2444187', '2452407', '2489082', '2485663', '2460986', '2472800', '2485563', '2497032', '2493336', '2487900', '1670844', '2456675', '2464489', '2455373', '2478507', '2445996', '2448081', '2444321', '2496407', '2357553', '2455337', '2444631', '2501340', '2423540', '2486123', '2499305', '2494713', '2365935', '2497384', '2500404', '2487583', '2462842', '2470857', '2467108', '2464778', '2467153', '2478295', '2498525', '2489345', '2460815', '2481188', '2472807', '2469668', '2472979', '2460767', '2479295', '2470067', '2454238', '2341148', '2494036', '2456625', '2465604', '2483370', '2455011', '2491443', '2479394', '2467801', '2450257', '2466894', '2482592', '2500344', '2455436', '1075033', '2465262', '2448814', '2466144', '2455924', '2437434', '2466323', '2469018', '2443881', '2461896', '2482564', '2446923', '2475055', '2456596', '2465140', '2480834', '2455808', '2460999', '2464052', '1120803', '2443094', '2475179', '2497402', '2472751', '2448995', '2467330', '2462492', '2468055', '2480358', '2484618', '2450957', '2462735', '2483270', '2502536', '2461906', '2502832', '2502701', '2487697', '2486512', '2487558', '2466663', '2495044', '2494391', '2448955', '2444161', '2477574', '2279597', '2472287', '2474101', '2499186', '2497322', '2455594', '2496635', '2483145', '2455141', '2496566', '2452393', '2488090', '2421443', '2445284', '2447638', '2449741', '2475467', '2444910', '2474237', '2449688', '2463636', '2478844', '2444949', '2467286', '2458317', '2461095', '2495456', '2474845', '2405588', '2457138', '2467228', '2472781', '2476473', '2446155', '2501367', '2498550', '2496489', '2468084', '2500717', '2462751', '2480400', '2490976', '2477279', '2484837', '2468899', '2463797', '2447549', '2489516', '2444218', '2490538', '2445823', '2416327', '2479052', '2487410', '2443958', '2443639', '2489364', '2502251', '2486453', '2460241', '2097150', '2502598', '2457031', '2490058', '2449455', '2495708', '2501338', '2470493', '2464633', '2461282', '2476171', '2443258', '2484213', '2460480', '2469569', '2401606', '2490853', '2451155', '2495264', '2445622', '2448548', '2451075', '2500481', '2489148', '2499275', '2474173', '2495375', '2460067', '2486752', '2455955', '2442854', '2482889', '2483446', '2454590', '2444921', '2444450', '2449182', '2503653', '2499310', '2443442', '2478707', '2469539', '2450491', '2500082', '2481127', '2448373', '2500454', '2478603', '2467768', '2459034', '2496945', '2454996', '2466968', '2479584', '2441809', '2469866', '2427715', '2155478', '2470085', '2496654', '2462908', '2469661', '2457365', '2443277', '2442719', '2446075', '2487452', '2483972', '2482714', '2466862', '2492355', '2470211', '2482601', '2453607', '2395492', '2447523', '2481740', '2473349', '2428883', '2446063', '2450159', '2467524', '2452081', '2446961', '2460761', '2366012', '2471205', '2470091', '2468633', '2470014', '2457308', '2499154', '2386676', '2498565', '2442957', '2352871', '2474646', '2468926', '2468784', '2494246', '2498293', '2498748', '2184180', '2471839', '2484086', '2451997', '2389628', '2477579', '2499713', '2446179', '2479548', '2485304', '2458901', '2494729', '2480398', '2448536', '2274778', '2495538', '2463137', '2494972', '2469865', '2452897', '2472708', '2494660', '2472695', '2444867', '2496622', '2480537', '2466153', '2494270', '2445934', '2407409', '2498945', '2498553', '2393130', '2443540', '2460599', '2500773', '2469403', '2477708', '2480221', '2484966', '2490767', '2451892', '2452313', '2463176', '2497543', '2480614', '2488802', '2371338', '2479316', '2469887', '2489617', '2480172', '2449951', '2476374', '2494202', '2491659', '2477863', '2456115', '2458819', '2497286', '2455815', '2490186', '2444341', '2496993', '2446688', '2482028', '2479890', '2472244', '2484376', '2461831', '2495743', '2495697', '2452536', '2467442', '2477882', '2479441', '2473856', '2452084', '2444984', '2482959', '2443651', '2494503', '2418434', '2271613', '2469671', '2388199', '2407743', '2501883', '2480967', '2446816', '2464062', '2449472', '2479267', '2458860', '2443834', '2457835', '2469183', '2471956', '2181147', '2503646', '2450961', '2464190', '2470254', '2451401', '2492583', '2478861', '2454156', '2373966', '2442346', '2453224', '2443968', '2385492', '2478942', '2467015', '2474499', '2488765', '2461468', '2487557', '2432617', '2491100', '2455811', '2461277', '2494923', '2502426', '2500131', '2472378', '2503107', '2477471', '2484981', '2458714', '2473473', '2256777', '2474748', '2474131', '2495574', '2480553', '2462778', '2187895', '2491457', '2457572', '2454841', '2500508', '2449290', '2463296', '2463294', '2468602', '2464108', '2465997', '2495030', '2457305', '2465310', '2125443', '2491179', '2480293', '2473393', '2454769', '2466690', '2292965', '2494907', '2455977', '2485514', '2449593', '2437164', '2474514', '2461214', '2445652', '2459941', '2493883', '2437648', '2442475', '2453442', '2487976', '2491057', '2494157', '2495759', '2461994', '2485196', '2442804', '2468220', '2503348', '2471686', '2451916', '2458969', '2446771', '2460831', '2444223', '2476454', '2497574', '2465977', '2476366', '2454508', '2461355', '2479237', '2452066', '2449338', '2449454', '2500847', '2472535', '2488154', '2443549', '2473278', '2474753', '2443178', '2470855', '2443635', '2468102', '2449159', '2486342', '2451311', '1695483', '2481947', '2451013', '2496105', '2490504', '2494931', '2470469', '2468808', '2482231', '2500583', '2468823', '2484733', '2448796', '2474937', '2455876', '2496453', '2496829', '1347097', '2488140', '2456899', '2495112', '2478000', '2503480', '2466392', '2477422', '2461072', '2451152', '2454437', '2452152', '2478981', '2482445', '2460711', '2495222', '2462729', '2445627', '2474037', '2471044', '2484884', '2459382', '2444157', '2473204', '2330936', '2497033', '2444881', '2478793', '2370004', '2460232', '2458443', '2468276', '2487745', '2458327', '2461668', '2486579', '2447687', '2460494', '2467077', '2495966', '2482507', '2463381', '2497958', '2447492', '2501843', '2490974', '2493730', '2481400', '2460181', '2483991', '2465851', '2475755', '2462892', '2480291', '2498296', '2465974', '2472235', '2459243', '2453966', '2490465', '1156697', '2489966', '2442070', '2487459', '2456844', '2478859', '2501600', '2483422', '2484240', '2460408', '2472714', '2467678', '2489250', '2433774', '2467217', '2498608', '2490865', '2238204', '2488311', '2494130', '2480625', '2473168', '2465792', '2449894', '2500482', '2482315', '2481905', '2455647', '2448357', '2443505', '2442605', '2468802', '2487649', '2487110', '2500547', '2479346', '2481915', '2464434', '2498077', '2457276', '2449561', '2449225', '2453390', '2494880', '2454192', '2448325', '2490825', '2464718', '2444709', '2442320', '2476056', '2292224', '2303506', '2483946', '2465875', '2450302', '2446092', '2447322', '2475560', '2476630', '2502267', '2480521', '2482359', '2469270', '2453592', '2481494', '2496047', '2468933', '2473412', '2471116', '2462060', '2447123', '2463813', '2449653', '2471740', '2448425', '2477339', '2485424', '2469750', '2501451', '2438485', '2468285', '2482820', '2502967', '2454686', '2497299', '2442186', '2453703', '2459592', '2462926', '2473387', '2480681', '2459833', '2465906', '2301167', '2472517', '2485742', '2440006', '2500324', '2459258', '2462656', '2500887', '2494413', '2462705', '2458198', '2474239', '2493911', '2477665', '2447117', '2447776', '2460753', '2491538', '2489430', '2462108', '2458622', '2469625', '2454347', '2490588', '2459798', '2501094', '2451052', '2418783', '2479179', '2481492', '2482345', '2501361', '2466496', '2457101', '2480490', '2496380', '2479050', '2119536', '2500060', '2455916', '2449760', '2475263', '2446716', '2483332', '2463933', '2453313', '2489051', '2453326', '2446542', '2476214', '2472810', '2480768', '2455379', '2475759', '2477603', '2490875', '2452769', '2492957', '2493983', '2458890', '2444224', '2461091', '2491228', '2447241', '2500020', '2471525', '2448580', '2463911', '2491136', '2482288', '2458579', '2481217', '2308377', '2461484', '2366484', '2474721', '2453456', '2448680', '2400961', '2461657', '2482265', '2455118', '2479442', '2475796', '2466556', '2464156', '2487628', '2486676', '2372349', '2476331', '2452511', '2480084', '2493578', '2364106', '2448120', '2471716', '2497621', '2490416', '2452773', '2458701', '2478482', '2453428', '2400504', '2443948', '2397581', '2444123', '2472023', '2452140', '2492588', '2502198', '2458961', '2452039', '2496626', '2488350', '2474048', '2489216', '2499280', '2468792', '2458076', '2499618', '2398398', '2495624', '2468029', '2443082', '2465614', '2503141', '2502279', '2486611', '2462098', '2418476', '2470952', '2485366', '2474896', '2444696', '2476296', '2439046', '2488684', '2469936', '2470330', '2478115', '2488427', '2464644', '2497827', '2468259', '2489417', '2467501', '2452923', '2486898', '2482922', '2443455', '2448923', '2443224', '2468755', '2452129', '2451651', '2493021', '2442619', '2466942', '2468941', '2445037', '2450406', '2458712', '2470114', '2478454', '2502870', '2456427', '2472380', '2494685', '2433147', '2484027', '2455097', '2493032', '1497123', '2474678', '2478486', '2454915', '2495068', '2461266', '2495769', '2468136', '2488835', '2484178', '2442327', '2458999', '2462127', '2380461', '2460418', '2434354', '2486017', '2501571', '2453279', '2476837', '2475293', '2424201', '2475687', '2454144', '2470916', '2459303', '2453221', '2502476', '2479024', '2459030', '2467541', '2466179', '2489255', '2480339', '2402596', '2415300', '2457534', '2465515', '2468289', '2489881', '2443343', '2446229', '2452351', '2483667', '2469910', '2461344', '2493426', '2489471', '2465898', '2487527', '2483116', '2500217', '2475941', '2482214', '2469636', '2466545', '2447366', '2483587', '2499029', '2449453', '2502758', '2456599', '2480824', '2444943', '2494675', '2466184', '2449422', '2463888', '2474582', '2447938', '2497597', '2498206', '2467860', '2448674', '2483875', '2483182', '2475800', '2477242', '2458233', '2470583', '2476070', '2443738', '2472376', '2459848', '2459878', '2434947', '2495408', '2495804', '2459524', '2494475', '2485400', '2446309', '2499206', '2496440', '2449681', '2463883', '2478415', '2487898', '2471836', '2465172', '2492954', '2456027', '2473664', '2470238', '2480435', '2446032', '2500850', '2493360', '2473653', '2472388', '2492993', '2486619', '2454947', '2484574', '2500155', '2493923', '2500873', '2455763', '2452755', '2446975', '2475282', '2463977', '2483815', '2493723', '2468879', '2492432', '2454716', '2478536', '2487431', '2444261', '2458699', '2319448', '2483050', '2475997', '2444309', '2474107', '2500665', '2497450', '2464881', '2471174', '2466531', '2450782', '2498951', '2458083', '2496730', '2469781', '2457115', '2484396', '2472938', '2290393', '2453937', '2484770', '2490236', '2488391', '2458059', '2494950', '2503269', '2429181', '2448749', '2452316', '2493750', '2204577', '2493078', '2454483', '2442160', '2001758', '2359857', '2456643', '2450689', '2434682', '2457700', '2446668', '2477845', '2444606', '2460369', '2462633', '2444887', '2417552', '2463144', '2460507', '2463961', '2502845', '2500340', '2487912', '2442901', '2503565', '2499899', '2444480', '2458898', '2467661', '2450273', '2458998', '2464265', '2456696', '2465169', '2471769', '2495880', '2468831', '2477917', '2460584', '2502146', '2454129', '2446617', '2485625', '2462537', '2460970', '2476197', '2444290', '2461398', '2470105', '2472758', '2393116', '2476096', '2459718', '2452444', '2492968', '2466416', '2497437', '2501166', '2463666', '2453119', '2477757', '2475415', '2442155', '2486333', '2445744', '2457368', '2474479', '2371053', '2500342', '2489262', '2482173', '2476312', '2492732', '2447290', '2500215', '2455115', '2498430', '2455475', '2451359', '2462236', '2467706', '2317406', '2460478', '2457054', '2444819', '2478966', '2335024', '2445534', '2443040', '2480414', '2460033', '2464502', '2500958', '2473992', '2488493', '2473251', '2500797', '2497303', '2444270', '2465645', '2342827', '2449452', '2487589', '2485507', '2454703', '2442144', '2496717', '2464547', '2441642', '2449289', '2458716', '2472785', '2460941', '2490688', '2470044', '2472414', '2457669', '2470828', '2443270', '2483059', '2495619', '2503585', '2502094', '2457651', '2458249', '2474222', '2483971', '2460239', '2496691', '2449248', '2457631', '2468866', '1790793', '2495245', '2478138', '2475913', '2499592', '2466378', '2447381', '2459416', '2461347', '2456034', '2473228', '2477179', '2499815', '2466074', '2482249', '2488607', '2493431', '2466979', '2417511', '2450945', '2473222', '2498559', '1674537', '2445997', '2494393', '2444642', '2476016', '2446247', '2447331', '2490790', '2451028', '2443238', '2478425', '2484515', '2446171', '2478517', '2466808', '2463645', '2466430', '2457989', '2489548', '2372172', '2457338', '2459435', '2465314', '2472894', '2442559', '2462210', '2492179', '2467444', '2463470', '2494478', '2493452', '2481656', '2462356', '2275279', '2496475', '2473737', '2456940', '2457223', '2496645', '2404705', '2480054', '2479228', '2453093', '2490701', '2450035', '2474979', '2483620', '2474211', '2474293', '2462723', '2500505', '2475085', '2418276', '2467655', '2465605', '2503626', '2454699', '2500989', '2461424', '2478896', '2449265', '2450049', '2497166', '2449725', '2482175', '2459691', '2488494', '2471099', '2471867', '2474804', '2490900', '2236719', '2464083', '2502840', '2474276', '2462261', '2469646', '2460161', '2456666', '2503498', '2430128', '2493258', '2459803', '2462878', '2452258', '2476322', '2479105', '2447560', '2442112', '2444506', '2478660', '2496474', '2481548', '2473463', '2501385', '2471204', '2496852', '2449802', '2460044', '2492028', '2481481', '2447705', '2444802', '2450105', '2475745', '2457450', '2483825', '2446989', '2456319', '2447393', '2464754', '2472765', '2447276', '2485919', '2476681', '2496075', '2499229', '2493645', '2473282', '2450772', '2491336', '2449746', '2471449', '2491019', '2446026', '2487498', '2478976', '1257209', '2258332', '2479208', '2246933', '2429752', '2475762', '2457427', '2472696', '2456104', '2501977', '2443984', '2451661', '2455488', '2491472', '2490344', '2444412', '2489017', '2471991', '2476834', '2460516', '2455820', '2464460', '2364224', '2490290', '2467377', '2458770', '2471426', '2449520', '2443016', '2394259', '2473000', '2482384', '2495322', '2493048', '2451603', '2484050', '2478971', '2318626', '2456606', '2448757', '2455326', '2442169', '2448157', '2467883', '2458032', '2450264', '2447005', '2490011', '2493674', '2449391', '2468069', '2421943', '2498677', '2491720', '2493129', '2126338', '2457729', '2448112', '2430620', '2480184', '2490589', '2469740', '2463414', '2468155', '2469688', '2452342', '2478891', '2463863', '2479563', '2498310', '2442239', '2464506', '2397163', '2443199', '2476940', '2449247', '1519835', '2450255', '2387528', '2502215', '2458485', '2492643', '2476569', '2446538', '2470245', '2457880', '2453843', '2494847', '2459170', '2461153', '2467111', '2460417', '2502859', '2480571', '2356692', '2444418', '2471310', '2442365', '2477535', '2484917', '2501822', '2496129', '2303869', '2472839', '2496114', '2489600', '2469194', '2482046', '2463028', '2373913', '2491948', '2492122', '2493208', '2483784', '2351394', '2497269', '2501680', '2467186', '2498404', '2479784', '2450351', '2460992', '2491899', '2472767', '2472865', '2394803', '2501172', '2438378', '2493314', '2483706', '2465289', '2464675', '2449104', '2464573', '2470826', '2442100', '2476894', '2473346', '2483861', '2500460', '2480396', '2485522', '2455519', '2480853', '2454970', '2492899', '2471744', '2500536', '2494356', '2474121', '2480500', '2460967', '2419764', '2462485', '2444646', '2459135', '2464546', '2493373', '2452539', '2490369', '2425213', '2495622', '2452417', '2473462', '2458874', '2458556', '2491706', '2476736', '1205160', '2483965', '2460049', '2466630', '2480670', '2482818', '2471083', '2477154', '2499872', '2333467', '2496372', '2385095', '2460554', '2147057', '2459443', '2485526', '2487964', '2443121', '2447483', '2459774', '2496932', '2502597', '2461812', '2446101', '2468134', '2478583', '2471809', '2452233', '2484568', '2448706', '2458283', '2464902', '2488009', '2443593', '2482851', '2452128', '2479042', '2476996', '2465251', '2460951', '2447513', '2465453', '2495279', '2454495', '2479891', '2463683', '2455228', '2461273', '2454470', '2495236', '2177140', '2459398', '2450281', '2174842', '2488253', '2457317', '2460323', '2459231', '2449251', '2500704', '2466249', '2442150', '2493537', '2471158', '2488002', '2455052', '2500684', '2457040', '2456482', '2476118', '2444113', '2473307', '2457913', '2444676', '2470040', '2491491', '2474981', '2469739', '2470015', '2459795', '2449021', '2448820', '2444976', '2467540', '2445321', '1421825', '2488827', '2447378', '2453188', '2464469', '2465514', '2474948', '2492917', '2494708', '2500212', '2494061', '2494148', '2477439', '2481353', '2452093', '2455550', '2466625', '2470084', '2493296', '2462846', '2452468', '2493362', '2472522', '2468659', '2498258', '2498586', '2411315', '2493065', '2450531', '2479926', '2264085', '2483680', '2470404', '2455376', '2427943', '2482911', '2449518', '2475992', '2481441', '2146116', '2449673', '2480086', '2495035', '2444298', '2470001', '2368933', '2444526', '2483349', '2452410', '2460216', '2485622', '2477472', '2472508', '2435864', '2459552', '2492637', '2448714', '2456419', '2450973', '2443685', '2425650', '2460257', '2490271', '2500660', '2461969', '2452243', '2499655', '2466675', '2462230', '2455002', '2492461', '2454601', '2474082', '2453833', '2459673', '2472940', '2452162', '2420791', '2447351', '2481695', '2446913', '2488120', '2478255', '2460956', '2478179', '2446312', '2497199', '2501406', '2502342', '2463097', '2452908', '2479034', '2456103', '2466775', '2494591', '2475097', '2481951', '2480804', '2451594', '2445912', '2493024', '2443075', '2454656', '2453615', '2444459', '2495315', '2455923', '2429100', '2493177', '2496807', '2478970', '2471604', '2483705', '2444822', '2489458', '2443526', '2450328', '2476691', '2476812', '2397188', '2476825', '2452575', '2484514', '2480374', '2456163', '2449436', '2451217', '2463116', '2450739', '2471634', '2502023', '2466150', '2443353', '2430788', '2457735', '2489269', '2453487', '2485992', '2444623', '2494896', '2455507', '2444312', '2465341', '2148279', '2493338', '2444677', '2479898', '2457023', '2456061', '2469483', '2442069', '2470755', '2469835', '2190285', '2491552', '2459009', '2445898', '2450971', '2502439', '2482931', '2478963', '2452340', '2443649', '2484000', '2415185', '2499384', '2484145', '2503006', '2443574', '2469440', '2499454', '2466168', '2480792', '2452513', '1769916', '2447506', '2489296', '2462483', '2469046', '2476913', '2460349', '2490420', '2502877', '2495369', '2472112', '2442133', '1222508', '2484253', '2447139', '2491995', '2495596', '2502237', '2459251', '2455382', '2454349', '2449059', '2460595', '1685084', '2442122', '2469347', '1315293', '2367675', '2493458', '2496099', '2460784', '2500783', '2460315', '2472234', '2483886', '2470287', '2500279', '2472828', '2468723', '2438889', '2500922', '2461013', '2486365', '2421407', '2419486', '2271223', '2494068', '2448035', '2478546', '2475579', '2434996', '2484113', '2478163', '2442130', '2495923', '2460011', '1787024', '2477966', '2476078', '2479726', '2443811', '2454138', '2466803', '2451677', '2480165', '2466975', '2472964', '2458665', '2485387', '2454683', '2489839', '2444971', '2447947', '2471845', '2472934', '2461800', '2475372', '2471587', '2468595', '2500157', '2465558', '2472616', '2397662', '2479226', '2489454', '2480758', '2457962', '2400872', '2474282', '2475850', '2457161', '2482758', '2483843', '2480995', '2468880', '2453900', '2491885', '2491658', '2459502', '2491418', '2466700', '2451339', '2503170', '2483246', '2473881', '2502365', '2249960', '2453805', '2461304', '2478343', '2488529', '2502242', '2467451', '2476534', '2464049', '2473483', '2466269', '2496564', '2478485', '2448694', '2459615', '2463174', '2492376', '1271508', '2459457', '2469789', '2468104', '2465459', '2424154', '2466961', '2501219', '2480073', '2452403', '2479629', '2489506', '2486668', '2489801', '2473894', '2465964', '2492242', '2445210', '1526494', '2442471', '2476031', '2444852', '2485814', '2482124', '2477398', '2488652', '2501903', '2296759', '2441780', '2476897', '2491513', '2477686', '2427424', '2460115', '2498332', '2478854', '2446387', '2487417', '2467546', '2466933', '2500374', '2450715', '2451421', '2484365', '2444970', '2488676', '2453299', '2468834', '2450985', '2476979', '2483590', '2487879', '2455465', '2455951', '2480333', '2503581', '2463150', '2485834', '2502735', '2477385', '2502460', '2493256', '2450423', '2456359', '2479884', '2500868', '1434618', '2453596', '2461842', '2446364', '2446393', '2500806', '2476528', '2470321', '2454685', '2457204', '2487507', '2464984', '2503523', '2478702', '2471033', '2472933', '2470648', '2467953', '2503247', '2481203', '2503652', '2464383', '2473607', '2464585', '2465901', '2496573', '2435842', '2425772', '2459023', '2430810', '2477800', '2451133', '2491829', '2454819', '2457784', '2471454', '2448676', '2398715', '2490944', '2473398', '2472722', '2444247', '2469284', '2290762', '2460431', '2484712', '2412502', '2442568', '2455780', '2493167', '2447800', '2477049', '2486927', '2498498', '2470928', '1965279', '2489899', '2484072', '2463516', '2471705', '2453383', '2498161', '2477199', '2467899', '2451552', '2447412', '2469212', '2472698', '2442182', '2460447', '2462151', '2469505', '2483914', '2498154', '2499116', '2454547', '2469805', '2277233', '2493074', '2292028', '2444491', '2498515', '2464361', '2465461', '2486143', '2472830', '2450844', '2491601', '2449701', '2470808', '2464690', '2502427', '2453050', '2471567', '2500497', '2470158', '2451189', '2496593', '2471577', '2451689', '2446049', '2492901', '2484040', '2455658', '2497791', '2453135', '2483747', '2477365', '2469158', '2449643', '2471142', '2470255', '2394671', '2480277', '2474303', '2485083', '2498605', '2476962', '2495854', '2481454', '2464747', '2481604', '2485903', '2412463', '2487470', '2444488', '2447099', '2389239', '2444987', '2153793', '2492529', '2475052', '2460427', '2495908', '2443189', '2443479', '2474277', '2484582', '2500382', '2481900', '2477507', '2464704', '2466404', '2466385', '2479284', '2499650', '2501635', '2472799', '2488018', '2410192', '2497500', '2464981', '2461333', '2413225', '2491006', '2475237', '2493591', '2483863', '2454596', '2477301', '2472477', '2446083', '2489728', '2485490', '2350797', '2489172', '2465297', '2463300', '2451418', '2471434', '2501927', '2455032', '2490068', '2442639', '2450672', '2483925', '2481002', '2492202', '2444680', '2447326', '2461700', '2488717', '2459947', '2453768', '2479690', '2478427', '2496512', '2452515', '2456235', '2485389', '2494919', '2473320', '2441021', '2420005', '2347704', '2479965', '2481389', '2501740', '2481304', '2124981', '2481377', '2450933', '1491744', '1696774', '2474943', '2448593', '2503484', '2452687', '2490072', '2464005', '2496139', '2488420', '2500426', '2467567', '2457214', '2450040', '2453101', '2501471', '2471687', '2452657', '2445809', '2440165', '2459755', '2422215', '2464738', '2485129', '2451713', '2490045', '2478890', '2463793', '2449288', '2484541', '2481976', '2453292', '2458588', '2500999', '2460948', '2460145', '2485520', '2489653', '2467229', '2466037', '2473964', '2494909', '2456207', '2496276', '2454681', '2464593', '2473113', '2461451', '2459778', '2472911', '2457297', '2483233', '2491577', '2503369', '2491068', '2460616', '2463936', '2497333', '2493080', '2491821', '2473983', '2488643', '2468958', '2446305', '2502451', '2394494', '2375697', '2449582', '2251128', '2454518', '2442488', '2453619', '2445504', '2473409', '2458966', '2470990', '2469123', '2259425', '2442934', '2503085', '2470316', '2461423', '2493785', '2491189', '2451475', '2447107', '2470491', '2491677', '2462338', '2462408', '2503212', '2501711', '2381372', '2445581', '2493197', '2495801', '2495031', '2448575', '2475995', '2488015', '2496555', '2472639', '2450223', '2486892', '2464903', '1512760', '2459345', '2496594', '2458124', '2474351', '2488511', '2455714', '2465827', '2442849', '2472686', '2477336', '2457871', '2455935', '2442073', '2488027', '2487890', '2481218', '2417429', '2445094', '2472761', '2489693', '2447360', '2489210', '2501565', '2500357', '2481087', '2444581', '2485579', '2475940', '2486353', '2451738', '2473813', '2447208', '2456870', '2421540', '2484996', '2503349', '2495380', '2482157', '2420164', '2502810', '2463112', '2454498', '2484896', '2457310', '2444516', '2503134', '2476406', '2479345', '2501915', '2460747', '1967250', '2472768', '2485879', '2464374', '2471448', '2478857', '2451244', '2468586', '2479425', '2491828', '2488488', '2500343', '2485517', '2502184', '2469345', '2466947', '2360062', '2473140', '2185249', '2453387', '2337419', '2492530', '2320633', '2466911', '2442524', '2485641', '2490644', '2465556', '2450981', '2465520', '2450725', '2472374', '2473519', '2490970', '2263398', '2499271', '2463649', '2487710', '2465489', '2489703', '2479963', '2454855', '2457830', '2490471', '2214243', '2465403', '2457353', '2455010', '2451523', '2442241', '2483147', '2491048', '2464405', '2452262', '2445869', '2483625', '2448344', '2447312', '2465635', '2493449', '2481148', '2447186', '2467142', '2368857', '2453410', '2488586', '2483552', '2472021', '2474378', '2474302', '2496193', '2483873', '2447480', '2446319', '2458517', '2446972', '2500173', '2456155', '2502518', '2459365', '2480295', '2450811', '2471508', '2464870', '2487256', '2461956', '2457480', '2483958', '2465178', '2467633', '2453552', '2463096', '2461177', '2503124', '2448616', '2496041', '2466089', '2500691', '2492760', '2481163', '2450877', '2489914', '2386417', '2448099', '2424298', '2445976', '2483893', '2455362', '2467149', '2448895', '2465129', '1486163', '2501818', '2478964', '2450977', '2454398', '2441683', '2469232', '2447293', '2490463', '2473274', '2496203', '2485403', '2484052', '2485633', '2453731', '2409886', '2448040', '2495827', '2456417', '2417413', '2500224', '2481048', '2445039', '2495109', '2424058', '2483792', '2469532', '2485313', '2479211', '2460823', '2443678', '2498375', '2473322', '2477512', '2351389', '2500824', '2338024', '2485686', '2446293', '2494247', '2355721', '2492939', '2469816', '1278621', '2445555', '2460733', '2464043', '2273290', '2501619', '2458750', '2473655', '2461509', '2459853', '2471550', '2479005', '2452377', '2495058', '2447984', '2488798', '2443166', '2475748', '2500937', '2444925', '2467344', '2460727', '2455057', '2502253', '2448868', '2478392', '2444220', '2497229', '2500146', '2477682', '2457878', '2475370', '2454259', '2471059', '2442516', '2460159', '2346936', '2502155', '2461117', '2455640', '2447257', '2477352', '2451881', '2481890', '2442086', '2466767', '2465761', '2469538', '2447563', '2480604', '2421898', '2476022', '2469197', '2474525', '2461864', '2450059', '2298826', '2459849', '2502061', '2491020', '2481549', '2444877', '2442162', '2448022', '2493413', '2468500', '2472098', '2474928', '2502789', '2447252', '2472015', '2487751', '2490184', '2454830', '2446082', '2459675', '2451289', '2464960', '2463185', '2502702', '2468711', '2480559', '2480134', '2453290', '2476423', '2444451', '2466518', '2448963', '2296678', '2487408', '2355322', '2447248', '2469019', '2491793', '2460627', '2494719', '2481327', '2469934', '2458791', '2449938', '2497136', '2461225', '2485307', '2493526', '2491013', '2452636', '2444958', '2443624', '2445412', '2453488', '2487959', '2449546', '2500746', '2500431', '2444272', '2491079', '2501257', '2456550', '2472990', '2468273', '2401189', '2413934', '2481086', '2488963', '2496980', '2476211', '2468412', '2466507', '2500865', '2483869', '2493678', '2495683', '2463464', '2468056', '2474161', '2496258', '2470618', '2456667', '2455884', '2482725', '2200443', '2480737', '2457400', '2459253', '2495342', '2453178', '2451659', '2454648', '2444888', '2491180', '2442904', '2457635', '2447418', '2499290', '2487576', '2459723', '2444177', '2452630', '2496923', '2476326', '2491875', '2494556', '2482534', '2468985', '2498425', '2463792', '2481125', '2483900', '2460569', '2454619', '2376412', '2434642', '2476255', '2490691', '2469869', '2392534', '2443882', '2488233', '2495200', '2498783', '2461865', '2262358', '2471324', '2499034', '2467092', '2462186', '2493117', '2485455', '2476127', '2453015', '2482712', '2488317', '2463088', '2466328', '2479589', '2500507', '2499359', '2450080', '2368364', '2496919', '2455240', '2475524', '2442960', '2469090', '2461272', '2447553', '2479026', '2487636', '2490709', '2453620', '2469829', '2485025', '2480913', '2458023', '2488298', '2445987', '2442192', '2482178', '2466958', '2447697', '2460910', '2473461', '2445894', '2502782', '2487744', '2502166', '2489372', '2461574', '2480533', '2498549', '2470475', '2452664', '2496516', '2453420', '2450974', '2457344', '2461040', '2472277', '2467383', '2477001', '2455754', '2444098', '2483051', '2452077', '2488574', '2473617', '2136473', '2452020', '2456832', '2393875', '2485881', '2502787', '2444441', '2479290', '2475902', '2459741', '2487370', '2499004', '2446588', '2462799', '2449421', '2465071', '2475719', '2469983', '2476605', '2444983', '2485540', '2451798', '2465959', '2449952', '2444403', '2466148', '2469812', '2475751', '2501594', '2481179', '2452461', '2461194', '2472126', '2484800', '2496480', '2495605', '2489933', '2478741', '2452705', '2477407', '2477617', '2457999', '2454638', '2470194', '2470341', '2460137', '2501698', '2338592', '2458818', '2464880', '2490755', '2461853', '2450728', '2491307', '2466075', '2467269', '2496074', '2473554', '2484746', '2473923', '2449135', '2464440', '2450420', '2442708', '2482247', '2452072', '2479003', '2491771', '2502513', '2446694', '2445728', '2492085', '2459934', '2458562', '2472027', '2486460', '2473359', '2456000', '2464734', '2479222', '2448171', '2487401', '2486897', '2469679', '2437906', '2485463', '2442513', '2459660', '2472040', '2444697', '2465182', '2501618', '2452834', '2471300', '2472010', '2414693', '2487375', '2465401', '2452633', '2477754', '2448119', '2467995', '2484307', '2503179', '2459049', '2435166', '2486013', '2502401', '2493539', '2450216', '2473457', '2490205', '2410332', '2494163', '2442209', '2449037', '2503440', '2488041', '2455905', '2451535', '2483713', '2498204', '2465458', '2484565', '2489639', '2501689', '2495251', '2380410', '2397415', '2492976', '2442331', '2481964', '2446234', '2500614', '2480044', '2490947', '2495786', '2456346', '2458050', '2493984', '2466820', '2448526', '2492984', '2494565', '2447581', '2255323', '2483754', '2449554', '2449576', '2452211', '2498061', '2448433', '2466362', '2483695', '2457799', '2487267', '2499741', '2448068', '2494599', '2493232', '2437892', '2474844', '2468710', '2442280', '2442149', '2488047', '2470451', '2468315', '2463970', '2470950', '2487918', '2491066', '2451124', '1482742', '2478147', '2447559', '2457340', '2480363', '2463335', '2488466', '2476400', '2456875', '2429997', '2479489', '2461257', '2477977', '2442247', '2453958', '2448783', '2502260', '2444883', '2502824', '2478688', '2491858', '1245838', '2470833', '2448465', '2495655', '2472749', '2464860', '2339086', '2498640', '2498352', '2465541', '2466286', '2486150', '2479460', '2484636', '2443451', '2454151', '2483274', '2482697', '2488479', '2447346', '2472790', '2462598', '2464018', '2501684', '2476342', '2475108', '2488262', '2424057', '2446169', '2465197', '2128717', '2476772', '2475876', '2460563', '2471137', '2471282', '2391473', '2480682', '2442285', '2469756', '2456708', '2494112', '2471923', '2499823', '2479314', '2456651', '2476275', '2484946', '2445550', '2492919', '2496465', '2455738', '2238103', '2488958', '2426601', '2442943', '2486424', '2496487', '2496684', '2328385', '2476677', '2485018', '2500167', '2496416', '2493955', '2492883', '2474773', '2367528', '2496665', '2496373', '2448636', '2479772', '2442083', '2470401', '2449249', '2494738', '2494407', '2500848', '2443980', '2442081', '2375371', '2468466', '2481436', '2489224', '2488504', '2489455', '2502228', '2483197', '2493216', '2491037', '2503617', '2456881', '2457129', '2470182', '2491392', '2407379', '2468229', '2455982', '2469332', '2493356', '2496650', '2450295', '2222029', '2485511', '2377278', '2487387', '2501902', '2450207', '2459580', '2468854', '2479877', '2503549', '2469196', '2450323', '2499400', '2470983', '2465284', '2480126', '2439265', '2449960', '2420952', '2488081', '2447544', '2489325', '2492759', '2491219', '2494389', '2490756', '2452605', '2454673', '2483986', '2475993', '2481965', '2476460', '2471331', '2497515', '2443236', '2467635', '2498964', '2448047', '2460609', '2461745', '2447662', '2465690', '2471182', '2486904', '2492043', '2486558', '2481114', '2493710', '1625090', '2479761', '2482857', '2494302', '2498796', '2492630', '2492004', '2489403', '2293251', '2484492', '2462671', '2447825', '2499014', '2497570', '2446813', '2476774', '2460557', '2482740', '2498040', '2446725', '2492284', '2486157', '2468399', '2479924', '2470834', '2485574', '2448438', '2459318', '2394456', '2471462', '2502486', '2472302', '2477235', '2477647', '2451257', '2470262', '2158155', '2461258', '2499212', '2489197', '2456827', '2274073', '2443084', '2460766', '2464736', '2454700', '2452197', '2454799', '2492839', '2496371', '2498801', '1321861', '1764330', '2446343', '2500639', '2463905', '2458812', '2455156', '2451119', '2461179', '2493123', '2468116', '2450795', '2486873', '2467897', '2484019', '2476306', '2465396', '2459535', '2354790', '2467392', '2483581', '2450416', '2478298', '2498060', '2497805', '2497086', '2286205', '2476510', '2479436', '2467846', '2491310', '2479214', '2502017', '2485483', '2444857', '1760492', '2453529', '2488610', '2464350', '2482834', '2452894', '2482735', '2475964', '2486428', '2482884', '2448970', '2479801', '2448906', '2459513', '2483208', '2444926', '2458033', '2473731', '2443736', '2499576', '2501364', '2481982', '2447119', '2466970', '2471444', '2451001', '2471203', '2467692', '2484244', '2480336', '2494549', '2444067', '2486457', '2485773', '2450037', '2423921', '2447110', '2453354', '2498912', '2453696', '2471110', '2469699', '2444508', '2447342', '2489299', '2445417', '2461163', '2457756', '2442811', '2476448', '2475048', '2445878', '2465860', '2360878', '2448059', '2471379', '2444505', '2341096', '2464453', '2480566', '2476404', '2499179', '2468234', '2460532', '2452185', '2407373', '2466177', '2391460', '2471291', '2489385', '2493056', '2447219', '2271375', '2481277', '2454665', '2485890', '2443588', '2495388', '2499740', '2410825', '2448451', '2488387', '2476371', '2442786', '2495391', '2477981', '2466600', '2496881', '2458636', '2454462', '2477943', '2442282', '2498460', '2448603', '2447645', '2451910', '2446483', '2465417', '2447216', '2471049', '2456015', '2463823', '2263041', '2471951', '2477693', '2444195', '2455601', '2444737', '2497916', '2479689', '2450290', '2443495', '2477997', '2471759', '2503536', '2498266', '2442238', '2457211', '2471299', '2472289', '2452239', '2494975', '2445130', '2453310', '2473521', '2479791', '2490793', '2468900', '2494955', '2466637', '2468464', '2451188', '2452183', '2475184', '2481631', '2491715', '2457781', '1808720', '2457708', '2449642', '2487569', '2468172', '2498828', '2451471', '2457599', '2446600', '2390326', '2486612', '2501861', '2493019', '2459942', '2447447', '2489151', '2468782', '2451619', '2457371', '1621752', '2448429', '2456081', '2458339', '2494447', '2489824', '2465882', '2458632', '2461711', '2447299', '2500777', '2485357', '2501235', '2461121', '2447520', '2486688', '2444649', '2489324', '2447134', '2448554', '2453316', '2453403', '2500432', '2447374', '2442899', '2484162', '2463733', '2492093', '2388510', '2478467', '2496996', '2463817', '2494711', '2475971', '2474697', '2449006', '2446025', '2474687', '2211624', '2466476', '2495981', '2500988', '2498233', '2478995', '2490713', '2473438', '2495695', '2463644', '2488330', '2465402', '2468814', '2277632', '2469773', '2492551', '2437531', '2473015', '2449927', '2481412', '2488051', '2494827', '2498934', '2495394', '2462590', '2447690', '2454068', '2463070', '2476464', '2451123', '2483824', '2457424', '2476610', '2471315', '2460773', '2446910', '2456402', '2487944', '2458195', '2476905', '2483772', '2442695', '2464666', '2472213', '2453269', '2483884', '2485591', '2426420', '2480027', '2470233', '2460904', '2473335', '2443478', '2451680', '2466072', '2447946', '2479966', '2496823', '2475946', '2272771', '2445732', '2442720', '2461174', '2457363', '2496057', '2490594', '2464274', '2498364', '2492808', '2487955', '2488201', '2449080', '2464995', '2502355', '2445351', '2443884', '2498139', '2436489', '2461828', '2464763', '2452073', '2464067', '2501875', '2442389', '2474631', '2487950', '2469662', '2032216', '2487444', '2503391', '2484304', '2443943', '2464007', '2446202', '2473224', '2503616', '2501149', '2484063', '2490473', '2500747', '2491799', '2392715', '2457341', '2474231', '2453479', '2448818', '2470515', '2476169', '2444525', '2423525', '2482001', '2463322', '2492215', '2485616', '2475826', '2467848', '2500068', '2497169', '2489743', '2488340', '2476303', '2466278', '2481290', '2487092', '2442875', '2409719', '2452601', '2493222', '2478388', '2454394', '2444293', '2503680', '2488143', '2497608', '2453067', '2453367', '2447377', '2446217', '2448393', '2472240', '2457274', '2445022', '2472516', '2463203', '2445364', '2400020', '2455195', '2450950', '2463679', '2462996', '2501378', '2481757', '2485612', '2457993', '2500780', '2444436', '2481020', '2449105', '2490446', '2459536', '2457024', '2488820', '2480772', '2463857', '2498297', '2474747', '2471028', '2491330', '2463962', '2493006', '2463538', '2464424', '2451533', '2454325', '2443137', '2452163', '2456564', '2474160', '2486610', '2481910', '2501215', '2448884', '2474722', '2486766', '2473914', '2442201', '2450762', '2460545', '2405974', '2466683', '2497344', '2458340', '2470208', '2464588', '2454229', '2460477', '2465579', '2458329', '2469526', '2485931', '2479204', '2451083', '2291256', '2479949', '2475675', '2457666', '2459498', '2466860', '2464093', '2470253', '2498407', '2455995', '2480562', '2449256', '2472925', '2468209', '2464237', '2491065', '2460630', '2445246', '2496406', '2467896', '2493272', '2483424', '2489794', '2444094', '2502902', '2462091', '2477488', '2481105', '2503475', '2466127', '2483871', '2485479', '2452766', '2450424', '2478951', '2471597', '2478875', '2446563', '2468979', '2467571', '2451351', '2483237', '2487133', '2446322', '2449165', '2470565', '2472435', '2476655', '2496504', '2442286', '2496136', '2499656', '2445935', '2453406', '2496497', '2450537', '2490568', '2453710', '2453126', '2470866', '2220262', '2503615', '2450804', '2456572', '2477983', '2492150', '2469801', '2472543', '2462611', '2387319', '2501436', '2456299', '2476425', '2494854', '2497175', '2455320', '2497347', '2457200', '2471697', '2498295', '2492893', '2471439', '2486838', '2488871', '2467447', '2475757', '2460829', '2498409', '2488426', '2503583', '2459984', '2489433', '2495776', '2462603', '2453200', '2477887', '2445905', '2475963', '2482151', '2468288', '2472506', '2390460', '2467132', '2471418', '2480684', '2455036', '2449401', '2478200', '2452520', '2489774', '2458319', '2476537', '2464922', '2460040', '2465308', '2497062', '2500411', '2484062', '2501867', '2477167', '2460287', '2476479', '2462720', '2490050', '2492346', '2498446', '2482119', '2458541', '2442036', '2011999', '2459075', '2444913', '2489397', '2484570', '2452653', '2487383', '2461430', '2457870', '2488547', '2447830', '2443978', '2445042', '2482892', '2487364', '2447961', '2455592', '2475440', '2474495', '2488115', '2444404', '2482691', '2491755', '2475422', '2448422', '2427552', '2467786', '2473993', '2458865', '2455870', '2460561', '2450315', '2449179', '2456578', '2485619', '2410276', '2172999', '2469179', '2484564', '2446848', '2483319', '2476434', '2478452', '2467178', '2230043', '2452989', '2474481', '2486175', '2458736', '2448893', '2461265', '2471181', '2461416', '2476437', '2448178', '2470250', '2459314', '2459447', '2502887', '2451716', '2469870', '2502619', '2483913', '2119580', '2467068', '2494441', '2450276', '2480266', '2462472', '2459407', '2499838', '2493140', '2447495', '2467274', '2456160', '2450870', '2475943', '2482795', '2486996', '2502928', '2466526', '2475095', '2478354', '2488086', '2456016', '2462046', '1191773', '1790465', '2495065', '2447006', '2479048', '2480290', '2464282', '2497114', '2390713', '2481483', '2459924', '2497111', '2497206', '2468344', '2450564', '2502234', '2454957', '2249601', '2487790', '2446460', '2492715', '2314095', '2477344', '2446606', '2458866', '2488438', '2495910', '2452248', '2478831', '2475738', '2445637', '2453558', '2484521', '2326849', '2493100', '2467252', '2499641', '2489747', '2467914', '2476651', '2446603', '2444319', '2461526', '2496477', '2448725', '2493270', '2454660', '2438074', '2502646', '1932979', '2469385', '2469823', '2462888', '2461562', '2495531', '2478805', '2487845', '2445280', '2456395', '2484454', '2497861', '2493092', '2466726', '2453771', '2486407', '2487968', '2478106', '2475683', '2463943', '2463651', '2490666', '2486312', '2451232', '2503510', '2487332', '2447305', '2461464', '2486057', '2466859', '2486372', '2483097', '2445856', '2473575', '2446457', '2497724', '2495734', '2472134', '2454603', '2497232', '2463445', '2447303', '2481076', '2490792', '2491447', '2445821', '2465234', '2475974', '2443418', '2465552', '2444213', '2498020', '2501998', '2446797', '2502143', '2457135', '2503457', '2483489', '2457848', '2470960', '2477826', '2484318', '2458871', '2466623', '2502422', '2495107', '2464467', '2493877', '2475750', '2496137', '2464525', '2485792', '2472628', '2500572', '2461403', '2485611', '2497053', '2489685', '2447742', '2465567', '2495682', '2448123', '2442362', '1199433', '2502680', '2460622', '2456043', '2469507', '2482185', '2480443', '2452613', '2466755', '2495230', '2453743', '2466490', '2472290', '2479829', '2462833', '2482026', '2488365', '2485989', '2466584', '2462975', '2498278', '2474517', '2446078', '2481080', '2495409', '2463340', '2470369', '2447337', '2456042', '2493025', '2472673', '2445310', '2468032', '2461921', '2479774', '2487269', '2452941', '2459282', '2457944', '2490877', '2489613', '2455109', '2481879', '2442542', '2488901', '2499030', '2443919', '2474347', '2457327', '2471063', '2451273', '2477575', '2471709', '2459280', '2449772', '2475702', '2439348', '2449506', '2469565', '2501162', '2416419', '2474995', '2477213', '2493833', '2450062', '2444555', '2493423', '2447164', '2458367', '2459679', '2469024', '2457657', '2487457', '2493039', '2496303', '2498530', '2501204', '2485718', '2458687', '2467006', '2493126', '2449847', '2350535', '2444144', '2453395', '2462972', '2450657', '2489086', '2447719', '2467497', '2502526', '2482156', '2483996', '2457574', '2447275', '2452314', '2468923', '2489328', '2445972', '2462704', '2443321', '2449940', '2492193', '2501249', '2424019', '2462849', '2462464', '2476613', '2453758', '2453247', '2456434', '2500653', '1137491', '2483127', '2486671', '2475744', '2451236', '2413821', '2459828', '2485401', '2485433', '2459091', '2486986', '2444520', '2498211', '2494337', '2417140', '2376992', '2478494', '2462444', '2497831', '2441882', '2246198', '2449578', '2447853', '2501528', '2471030', '2472100', '2489490', '2446044', '2368840', '2462765', '2501458', '2445843', '2495059', '2483993', '2475113', '2502399', '2472540', '2486305', '2458630', '2426017', '2448297', '2500241', '2457568', '2495374', '2465785', '2472727', '2497988', '2467029', '2441188', '2470070', '2447714', '2491824', '2446737', '2486468', '2467079', '2502756', '2296008', '2499191', '2483614', '2499833', '2478206', '2493250', '2444075', '2487620', '2495994', '2495504', '2500476', '2448490', '2489723', '2498252', '2451041', '2497661', '2468309', '2473362', '2490866', '2467609', '2475391', '2442669', '2494145', '2465357', '1942082', '2457801', '2465726', '2498494', '2450408', '2441891', '2483056', '2462302', '2445921', '2449637', '2475442', '2465334', '2445077', '2456224', '2472094', '2459897', '2476028', '2485466', '2491224', '2261848', '2483809', '2498462', '2458795', '2487875', '2460182', '2460229', '2055109', '2443278', '2464950', '2488722', '2463997', '2451200', '2481349', '2499158', '2479626', '2303797', '2495796', '2460908', '2448986', '2447954', '2500153', '2416521', '2463948', '2448546', '2459699', '2452089', '2450801', '2452116', '2475691', '2445920', '2489969', '2453443', '2459831', '2472432', '2489734', '2477492', '2414320', '2396132', '2482513', '2478269', '2463372', '2491071', '2475756', '2446968', '2444689', '2487668', '2293600', '2467337', '2484398', '2489970', '2454046', '2483074', '2467203', '2470363', '2465080', '2471410', '2465298', '2458120', '2453911', '2475999', '2503427', '2499385', '2493836', '2461516', '2457429', '2452607', '2463306', '2457432', '2457948', '2465833', '2485893', '2468572', '2432338', '2475934', '2468757', '2444545', '2447023', '2475783', '2427289', '2458177', '2448190', '2446188', '2445423', '2498302', '2474253', '2462052', '2494702', '2486772', '2467561', '2484312', '2487274', '2090407', '2449737', '2462604', '2451617', '2472717', '2501507', '2468533', '2458647', '2475824', '2448560', '2490908', '2451565', '2487362', '2479895', '2468631', '2449682', '2467196', '2502173', '2496678', '2498315', '2501046', '2481927', '2447404', '2462581', '2458776', '2466015', '2384954', '2497404', '2496652', '2452922', '2460863', '2466472', '2494487', '2448708', '2444004', '2488908', '2497126', '2450180', '2490352', '2463041', '1229612', '2475565', '2461210', '2472705', '2481113', '2484081', '2449542', '2455828', '2454485', '1386671', '2469952', '2447145', '2496180', '2489108', '2448436', '1532267', '2499546', '2483659', '2463491', '2482602', '2452025', '2476662', '2459944', '2491211', '2495983', '2501781', '2496759', '2317284', '2456807', '2468043', '2453448', '2498024', '2466839', '2466224', '2477827', '2443134', '1034309', '2459067', '2464912', '2447893', '2464985', '2480624', '2432575', '2498604', '2474398', '2471271', '2442165', '2494154', '2443655', '2468501', '2499399', '2466146', '2450181', '2434376', '2458783', '2454907', '2472555', '2484935', '2485554', '2464564', '2458590', '2497710', '2501396', '2482838', '2445049', '2448900', '2469938', '2153630', '2461138', '2474366', '2500632', '2444390', '2467551', '2496856', '2452055', '2491842', '2453360', '2462565', '2461796', '2484054', '2474285', '2498775', '2452060', '2383869', '2472492', '2461035', '2458837', '2464521', '2494221', '2445605', '2111024', '2483774', '2466965', '2443230', '2488329', '2480174', '2464891', '2484601', '2462808', '2286617', '2499659', '2491953', '2462526', '2491237', '2497554', '2496663', '2492155', '2499380', '2503070', '2489137', '2453500', '2464072', '2484877', '2502595', '2474868', '2467128', '2447170', '2475977', '2451492', '2472514', '2358753', '2461622', '2472707', '2503655', '2434464', '2449691', '2444837', '2490514', '2277519', '2447655', '2497357', '2480686', '2431860', '2408585', '2448507', '2445567', '2486596', '2416961', '2451623', '2502663', '2482759', '2435116', '2493939', '2450393', '2446843', '2373628', '2445489', '2472920', '2482092', '2467487', '2471189', '2460255', '2494122', '2494539', '2497180', '2490819', '2446836', '2389234', '2483571', '2457395', '2474255', '2480456', '2496808', '2492078', '2487658', '2468472', '2420094', '2444839', '2372255', '2480531', '2466159', '2444594', '2501503', '2494428', '2450467', '2485904', '2449300', '1478937', '2502511', '2492206', '2453484', '2494529', '2457852', '2461421', '2478441', '2491994', '2489971', '2460410', '2478904', '2484842', '2357251', '2471003', '2475356', '2449617', '2472593', '2466903', '2475958', '2471615', '2478845', '2392945', '2500021', '2479883', '2444611', '2493563', '2454671', '2499566', '2460132', '2450986', '2445575', '2482137', '2486942', '2498157', '2494293', '2449693', '2450992', '2447224', '2466668', '2493330', '2499183', '2476864', '2466322', '2479594', '2444176', '2444296', '2449868', '2444982', '2486758', '2497706', '2459690', '2448143', '2461242', '2501482', '2479232', '2454014', '2499707', '2475866', '2467382', '1816337', '2458793', '2486711', '2491372', '2472729', '2445511', '2482343', '2469020', '2475673', '2502165', '2452298', '2463348', '2488107', '2503533', '2467259', '2483008', '2374497', '2481502', '1284763', '2449065', '2483862', '2376661', '2500080', '2492816', '2268465', '2470620', '2484990', '2362384', '2485371', '2482221', '2475268', '2479056', '2455858', '2449175', '2470098', '2470082', '2457034', '2462712', '2450809', '2482200', '2448581', '2474309', '2444951', '2463767', '2494638', '2500584', '2453774', '2454553', '2392705', '2453388', '2466597', '2444586', '2248894', '2452419', '2461653', '2329429', '2478574', '2472168', '2498091', '2352991', '2453734', '2454836', '2483820', '2408219', '2457281', '2447862', '2471387', '2479055', '2445749', '2477035', '2460042', '2442259', '2421515', '2474614', '2452855', '2445533', '2445064', '2454507', '2480953', '2467278', '2369417', '2467050', '2444645', '2444589', '2476111', '2492563', '2203774', '2492877', '2452266', '2455854', '2444182', '2465445', '2456175', '2454713', '2503602', '2460203', '2444936', '2453575', '2472630', '2450428', '2492473', '2496115', '2490488', '2467109', '2388862', '2468721', '2475377', '2444370', '2500967', '2479799', '2454876', '2456630', '2492810', '2502991', '2470815', '2499460', '2485508', '2427754', '2500693', '2489517', '2485082', '2456214', '2476308', '2442385', '2480301', '2500291', '2460020', '2467665', '2468095', '2463756', '2137674', '2483347', '2494332', '2473109', '2490012', '2450461', '2464246', '2329710', '2458608', '2484950', '2457410', '2447498', '2496582', '2462551', '2450362', '2446295', '2355358', '2501859', '2453987', '2200579', '2447129', '2498674', '2444871', '2461819', '2490439', '2454682', '2499410', '2496056', '2460054', '2468204', '2443373', '2490095', '2476802', '2168598', '2454854', '2484257', '2444280', '2446007', '2497095', '2451645', '2491077', '2460079', '2430654', '2484477', '2478113', '2489304', '2451127', '2417835', '2497278', '2485728', '2442052', '2440146', '2482992', '2361563', '2454379', '2453474', '2499484', '2455396', '2429221', '2477955', '2455406', '2456455', '2495503', '2271336', '2452662', '2448281', '2480576', '2442210', '2457038', '2469448', '2462866', '2471942', '2140228', '2499313', '2456212', '2495229', '2470731', '2479320', '2464317', '2474406', '2472022', '2444748', '2443214', '2469622', '2469716', '2451601', '2475350', '2453440', '2480208', '2444994', '2465393', '2488981', '2496550', '2466547', '2499088', '2411617', '2473064', '2476183', '2485250', '2491901', '2397243', '2444120', '2457382', '2479010', '2455055', '2492654', '2437250', '2468706', '2449633', '2441489', '2484850', '2496085', '2499078', '2485441', '2484214', '2441058', '2373041', '2450833', '2131130', '2451343', '2477000', '2435886', '2466816', '2474505', '2495017', '2462015', '2461715', '2492974', '2454672', '2494222', '2497410', '2442114', '2474322', '2443376', '2493622', '2464086', '2448697', '2452349', '2453921', '2462786', '2457033', '2475161', '2452208', '2497922', '2457097', '2495128', '2457323', '2446768', '2459628', '2498026', '2499918', '2473016', '2472324', '2442315', '2503663', '2484610', '2479238', '2416934', '2475033', '2499834', '2455863', '2456460', '2487893', '2478990', '2495600', '2490038', '2474056', '2488533', '2445656', '2459545', '2469519', '2491247', '2500711', '2476432', '2446894', '2498031', '2494979', '2489729', '2471128', '2478651', '2157576', '2498452', '2492001', '2462208', '2479694', '2502689', '2448703', '2456439', '2452747', '2467260', '2443499', '2501969', '2480676', '2459560', '2453018', '2489986', '2459340', '2478504', '2484141', '2469129', '2489462', '2460058', '2466606', '2489218', '2465184', '2502268', '2496471', '2477689', '2468328', '2489281', '2395131', '1613011', '2465570', '2459070', '2482155', '2301750', '2473831', '2487506', '2483790', '2489443', '2446058', '2482416', '2482515', '2477010', '2486104', '2466509', '2285304', '2461465', '2483255', '2469669', '2454469', '2488195', '2461435', '2449699', '2180658', '2469213', '2442461', '2343469', '2484761', '2446162', '2482208', '2460023', '2498718', '2502531', '2458066', '2265409', '2463509', '2463869', '2445185', '2494509', '2459316', '2487907', '2449274', '2472846', '2468862', '2498457', '2502864', '2325335', '2497020', '2425106', '2423471', '2444878', '2459175', '2485874', '2449958', '2462429', '2485910', '2485310', '2307431', '2496970', '2460492', '2461738', '2503544', '2471323', '2447768', '2482018', '2455816', '2183431', '2475459', '2468514', '2453245', '2482033', '2477513', '2500710', '2464837', '2465247', '2481334', '2465801', '2485468', '2459308', '2455165', '2440095', '2461203', '2468725', '2488182', '2480688', '2456279', '2477089', '2462478', '2496696', '2439802', '2471287', '2462364', '2464142', '2500749', '2413089', '2490286', '2478630', '2502147', '2471596', '2467625', '2488306', '2448940', '2455247', '2449551', '2482745', '2451536', '2486315', '2487931', '2485613', '2462004', '2470944', '2478816', '2496991', '2489708', '2457703', '2493476', '2498428', '2489358', '2500246', '2454147', '2424242', '2451805', '2464656', '2458751', '2496605', '2467746', '2492644', '2468558', '2493978', '2471321', '2500694', '2455053', '2476120', '2469099', '2500969', '2444941', '2498219', '2443004', '2466856', '2499603', '2454121', '2487138', '2467162', '2452594', '2464216', '2487374', '2493687', '2487859', '2493592', '2453978', '2446857', '2502937', '2493712', '2485509', '2477206', '2465651', '2454499', '2481622', '2470587', '2487792', '2469205', '2449433', '2498283', '2484022', '2501801', '2476488', '2474045', '2498656', '2476034', '2480633', '2444793', '2487193', '2490712', '2450267', '2474679', '2501557', '2474925', '2501767', '2488930', '2466329', '2451670', '2451184', '2408036', '2473021', '2448890', '2453097', '2470264', '2461707', '2464391', '2302943', '2500049', '2482792', '2502035', '2463376', '2466470', '2503534', '2485559', '2138075', '2448804', '2470560', '2493975', '2364414', '2498122', '2442883', '2448428', '2484191', '2474008', '2491785', '2450019', '2485513', '2460272', '2461143', '2473072', '2190123', '2450224', '2468247', '2474301', '2452065', '2495041', '2453889', '2444271', '2447761', '2493841', '2439533', '2478526', '2459687', '2497311', '2459317', '2466661', '2476159', '2474108', '2494792', '2463697', '2498229', '2464184', '2495666', '2481034', '2472637', '2492047', '2447173', '2462061', '2471990', '2497262', '2461550', '2497190', '2454766', '2484343', '2218513', '2443273', '2502716', '2464444', '2458305', '2482868', '2459940', '2487801', '2444150', '2443169', '2483610', '2455729', '2462385', '2490636', '2472509', '2477253', '2472802', '2489177', '2479221', '2502631', '2481242', '2467067', '2418141', '2487725', '2490401', '2463884', '2473433', '2456046', '2461640', '2491880', '2489280', '2443874', '2466464', '2481734', '2457591', '2491185', '2476868', '2478673', '2457490', '2454457', '2413252', '2478988', '2456245', '2446611', '2452321', '2466354', '2453272', '2415500', '2460884', '2445944', '2493326', '2493151', '2491570', '2463035', '2493173', '2469791', '2448320', '2491096', '2479819', '2469968', '2497465', '2444658', '2448455', '2493312', '2443341', '2450631', '2493695', '2474391', '2493547', '2443900', '2493681', '2490518', '2441844', '2494639', '2452016', '2489205', '2441140', '2485335', '2444250', '2263763', '2460858', '2468739', '2499497', '2459996', '2442459', '2501132', '2436885', '2487039', '2483800', '1271584', '2448467', '2488890', '2460261', '2443138', '2452031', '2455691', '2478017', '1608344', '2494126', '2460635', '2502857', '2468205', '2482093', '2492071', '2484055', '2471517', '2498739', '2402526', '2494107', '2397074', '2496753', '2494350', '2476015', '2297250', '2489271', '2487441', '2489202', '2492518', '2475140', '2487868', '2497593', '2479382', '2473984', '2443225', '2500876', '2447981', '2242447', '2491859', '1995040', '2477070', '2501010', '2358965', '2444126', '2485452', '2447031', '2459299', '2443438', '2457573', '2489934', '2457515', '2452597', '2443136', '2452647', '2502554', '2488130', '2475694', '2469692', '2499349', '2459768', '2456059', '2455783', '2502620', '2444537', '2477895', '2489246', '2453382', '2485527', '2495348', '2473444', '2458661', '2453260', '2435853', '2453974', '2468216', '2493746', '2499462', '2465387', '2457423', '2450865', '2482627', '2452004', '2468356', '2483948', '2479643', '2465167', '2446458', '2450784', '2452324', '2496148', '2443506', '2486134', '2444226', '2473864', '2462706', '2446016', '2446071', '2457662', '2446689', '2465476', '2498223', '2346455', '2478750', '2455559', '2451089', '2472935', '2460745', '2350031', '2416384', '2448179', '2462198', '2453865', '2489195', '2467369', '2487411', '2478921', '2454316', '2446441', '2453375', '2444988', '2448335', '2503674', '2467048', '2442962', '2488946', '2468243', '2237802', '2466137', '2453586', '2465116', '2470177', '2501233', '2470512', '2445421', '2472430', '2454905', '2464197', '2477477', '2480992', '2495170', '1766493', '2487359', '2468394', '2483161', '2496568', '2472564', '2474629', '2468186', '2450866', '2489127', '2486166', '2460422', '2500373', '2453425', '2459557', '2500247', '2468355', '2474947', '2459324', '2490133', '2451733', '2491960', '2448584', '2481889', '2493560', '2490094', '2378990', '2466343', '2452224', '2486301', '2479983', '2403153', '2467502', '2500052', '2459907', '2448656', '1340120', '2461985', '2451579', '2460814', '2451106', '2485457', '2393920', '2463520', '2494046', '2422632', '2498205', '2442456', '2472297', '2471422', '2460127', '2485486', '2448977', '2364999', '2445764', '2471381', '2484416', '2443631', '2496240', '2477949', '2448739', '2431787', '2461466', '2472019', '2408808', '2477515', '2496882', '2462582', '2483075', '2484959', '2495864', '2290207', '2502332', '2481946', '2460749', '2449835', '2465084', '2466582', '2451778', '2475223', '2465707', '2472070', '2451101', '2466876', '2450648', '2497765', '2474125', '2482073', '2468685', '2455917', '2483001', '2471862', '2481139', '2461283', '2476082', '2473275', '2461658', '2489307', '2453988', '2485330', '2288754', '2455197', '2489434', '2503153', '2503528', '2447722', '2461774', '2501453', '2490163', '2467645', '2491016', '2491222', '2461673', '2460805', '2492605', '2467756', '2469651', '2469185', '2461697', '2427101', '2459850', '2469487', '2432787', '2487809', '2460251', '2444210', '2451842', '2479293', '2454607', '2493460', '2468127', '2497670', '2453405', '2477618', '2454715', '2501466', '2451829', '2446183', '2477483', '2458095', '2470953', '2477609', '2465710', '2502245', '2495174', '2452966', '2490920', '2497812', '2458728', '2356505', '2482550', '2458862', '2503546', '2496388', '2501334', '2482311', '2470540', '2458489', '2476874', '2487178', '1688011', '2472203', '2452558', '2469039', '2458227', '2475225', '2497759', '2492633', '2464006', '2500920', '2469795', '2470787', '2492891', '2467949', '2485253', '2487634', '2496778', '2476440', '2473414', '2458312', '2488046', '2491151', '2458996', '2480294', '2448586', '2484094', '2443109', '2453102', '2466169', '2489707', '2471216', '2489611', '2498308', '2485459', '2480282', '2488550', '2477811', '2442024', '2482235', '2461854', '1156087', '2472177', '2303219', '2464792', '2480783', '2446465', '2476241', '2472912', '2480406', '2473061', '2455849', '2468410', '2499048', '2469780', '2479421', '2493278', '2467393', '2485162', '2459659', '2450389', '2484512', '2481876', '2478288', '2493658', '2451018', '2502821', '2471835', '2478359', '2431197', '2458507', '2330439', '2471048', '2410078', '2450313', '2503570', '2453562', '2449831', '2466899', '2476277', '2457579', '2451485', '2473017', '2485909', '2460760', '2447982', '2442256', '2502869', '2483194', '2325457', '2364774', '2446115', '2463856', '2468928', '2491051', '2459952', '2474711', '2468532', '2414679', '2494953', '2495185', '2499056', '2476297', '2481070', '2454744', '2470428', '2473151', '2447078', '2448285', '2444054', '2449081', '2495585', '2442609', '2454216', '2498384', '2462245', '2485061', '2496527', '2449547', '2442829', '2500945', '2464420', '2496706', '2482063', '2498726', '2465560', '2493133', '2481574', '2468897', '2456306', '2442116', '2460538', '2491723', '2487847', '2482146', '2489117', '2389325', '2279855', '2501384', '2467874', '2444472', '2418881', '2448585', '2491026', '2461705', '2476323', '2449315', '2489338', '2454088', '2493103', '2428386', '2456060', '2471814', '2448502', '2453296', '2499578', '2454109', '2484830', '2496643', '2498195', '2468717', '2481543', '2292994', '2454632', '2455114', '2226198', '2474564', '2221057', '2500626', '2494808', '2487593', '2451644', '2455845', '2471306', '2486577', '2445105', '2503595', '2464802', '2490403', '2450497', '2500415', '2459967', '2480016', '2465939', '2447353', '2475640', '2456167', '2458605', '2486967', '2448432', '2459717', '2477641', '2498932', '2496219', '2489711', '2477311', '2475154', '2464834', '2493090', '2444300', '2444361', '2478947', '2495632', '2489908', '2497241', '2478319', '2449136', '2496825', '2496531', '2484180', '2478369', '2472265', '2432136', '2458044', '2436265', '2479850', '2454945', '2450606', '2464293', '2458147', '2474310', '2490198', '2488355', '2474043', '2466120', '2484789', '2459938', '2477432', '2492851', '2442119', '2474892', '2464267', '2446316', '2492858', '2496616', '2445118', '2462800', '2466756', '2450308', '2472498', '2458803', '2474372', '2474076', '2495793', '2466521', '2459094', '2503139', '2465226', '2464524', '2462319', '2459792', '2500156', '2438257', '2460482', '2490392', '2495421', '2473680', '2420903', '2470495', '2459750', '2494313', '2474268', '2499028', '2483402', '2474154', '2445174', '2465531', '2266799', '2476770', '2478924', '2327400', '2487816', '2465966', '2485212', '2460649', '2465092', '2469085', '2459392', '2474159', '2457588', '2488095', '2488110', '2498247', '2489128', '2452050', '1292292', '2494858', '2476489', '2482204', '2471391', '2462578', '2473725', '2497029', '2451515', '2443507', '2477672', '2460629', '2499223', '2498268', '1112434', '2501161', '2484130', '1154804', '2461187', '2486779', '2452350', '2502068', '2455511', '2464507', '2458138', '2483827', '2408280', '2465742', '2497604', '2487312', '2452424', '2493161', '2460019', '2480938', '2449683', '2477121', '2467992', '2448322', '2319828', '2478716', '1372195', '2450464', '2496839', '2460710', '2468778', '2468920', '2497562', '2486421', '2487614', '2443276', '2501819', '2480232', '2462332', '2451278', '2458372', '2488347', '2449517', '2467209', '2463998', '2453669', '2468414', '2444673', '2492854', '2457122', '2468984', '2475780', '2483776', '2478617', '2413505', '2256344', '2471539', '2473132', '2454381', '2495663', '2464725', '2495217', '2467244', '2448019', '2471690', '2501255', '2461051', '2493901', '2491730', '2492887', '2481663', '2480372', '2446544', '2500779', '2344266', '2490312', '2445598', '2465725', '1380713', '2456992', '2483840', '2445329', '2443086', '2467066', '2452037', '2394436', '2494840', '2474729', '2502893', '2495129', '2482377', '2478846', '2451353', '2472266', '2457018', '2453174', '2503543', '2220158', '2501953', '2486179', '2476426', '2451514', '2452702', '2456250', '2483923', '2462171', '2482167', '2470553', '2486929', '2457790', '2343907', '2458267', '2477017', '2468218', '2457690', '2456372', '2499406', '2472976', '2491810', '2457557', '2452994', '2500603', '2470204', '2212797', '2462919', '2463359', '2476292', '2454003', '2493342', '2486133', '2492528', '2477030', '2463318', '2456023', '2457765', '2449066', '2456537', '2442621', '2498370', '2500541', '2477846', '2475929', '2499040', '2461761', '2464530', '2458730', '2456560', '2470899', '2339909', '2443724', '2465215', '2461076', '2461571', '2497300', '2469724', '2491721', '2461342', '2495007', '2486445', '2387054', '2490812', '2491700', '2456741', '2456129', '2464612', '2473014', '2482926', '2501371', '2466303', '2445892', '2263922', '2426772', '2453983', '2452426', '2480552', '2469152', '2502642', '2474353', '2457846', '2460269', '2444619', '2498728', '2462694', '2460326', '2448479', '2481447', '2463946', '2445485', '2442157', '2484399', '2478668', '2461413', '2462030', '2475495', '2490189', '2450765', '2489340', '2487320', '2468553', '2469275', '2476755', '2462780', '2496252', '2449384', '2498572', '2466081', '2446517', '2450887', '2443260', '2455051', '2466102', '2500401', '2455173', '2476436', '2458376', '2500469', '2399280', '2503187', '2485245', '2475043', '2500134', '2460465', '2444858', '2473841', '2493947', '2469595', '2497257', '2439309', '2451338', '2467579', '2397910', '2453213', '2465095', '2489765', '2479923', '2444895', '2461149', '2480628', '2483737', '2151232', '2486695', '2282557', '2477487', '2496797', '2480433', '2489408', '2478903', '2489378', '2493869', '2487608', '2483273', '1888678', '2496567', '2481859', '2478070', '2497280', '2490522', '2450952', '2470053', '2475347', '2479746', '2484274', '2447193', '2485286', '2477590', '2477638', '2501652', '2500688', '2482165', '2258328', '2355825', '1855441', '2452915', '2497704', '2502603', '2485474', '2491663', '2461192', '2498192', '2501322', '2485354', '2442085', '2440061', '2455161', '2465477', '2486152', '2469155', '2453510', '2442469', '2466375', '2478734', '2442195', '2489704', '2474300', '2484646', '2452056', '2355279', '2503223', '2490464', '2463820', '2497038', '2502974', '2494784', '2493264', '2492845', '2498355', '2457863', '2491525', '2495148', '2501705', '2440750', '2498320', '2454361', '2483729', '2453782', '2480950', '2497737', '2475720', '2485501', '2446389', '2450859', '2470810', '2443107', '2484210', '2475466', '2475040', '2490018', '2383487', '2481629', '2473687', '2480786', '2476221', '2495833', '2470921', '2445269', '2443597', '2433678', '2447841', '2444189', '2196840', '2270268', '2496880', '2485568', '2459000', '2491008', '2491522', '2448639', '2450329', '2491424', '2291765', '2463158', '2494111', '2468661', '2501671', '2499695', '2459432', '2485293', '2492947', '2443722', '2487538', '2469996', '2491770', '2493293', '2494641', '2382450', '2493870', '2482095', '2442562', '2483915', '2500853', '2449810', '2473416', '2458758', '2484457', '2487388', '2496274', '2467957', '2461336', '2442787', '2494930', '2457632', '2469714', '2452111', '2470505', '2479264', '2480255', '2461964', '2460731', '2444934', '2470889', '2479113', '2477536', '2353979', '2464514', '2473957', '2467977', '2461294', '2489451', '2424692', '2498207', '2463186', '2445252', '2444433', '2472300', '2475570', '2466371', '2482386', '2502762', '2495434', '2450661', '2451034', '2470517', '2451479', '2503483', '2494691', '2486168', '2457226', '2494161', '2444931', '2471397', '2491548', '2460125', '2459958', '2470184', '2360164', '2456254', '2466848', '2464004', '2499572', '2494622', '2459948', '2458500', '2479064', '2449945', '1663708', '2480413', '2477320', '2482004', '2477314', '2466774', '2490859', '2465908', '2502246', '2498373', '2446064', '2453750', '2470977', '2460206', '2485585', '2461084', '2216464', '2213563', '2448769', '2442502', '2494607', '2485804', '2464816', '2454960', '2309833', '2467378', '2475927', '2488180', '2452156', '2453614', '2152338', '2482194', '2445520', '2458775', '2457241', '2463166', '2444744', '2475715', '2456978', '2489352', '2490874', '2445713', '2484238', '2483267', '2470353', '2479181', '2478969', '2459962', '2464746', '2454843', '2501991', '2458528', '2444938', '2445171', '2458265', '2449140', '2453078', '2444993', '2467728', '2395240', '2398333', '2470726', '2443285', '2502463', '2455130', '2462012', '2503095', '2493823', '2476091', '2471874', '2489293', '2467711', '2462509', '2463642', '2479404', '2443750', '2481758', '2489985', '2493225', '2464481', '2452317', '2443922', '1802085', '2446190', '2451161', '2490843', '1254723', '2487253', '2499597', '2454705', '2494501', '2445613', '2494358', '2500424', '2451749', '2467572', '2459977', '2472238', '2473121', '2485543', '2458468', '2490980', '2317357', '2325646', '2463902', '2459185', '2479120', '1861417', '2460436', '2473242', '2443240', '2455487', '2475049', '2456425', '2493490', '2480484', '2479659', '2491005', '2479195', '2491976', '2501862', '2492057', '2488919', '2459945', '2398525', '2477631', '2499905', '2461645', '2456339', '2481325', '2456876', '2461724', '2493556', '2468420', '1310964', '2047912', '2471479', '2482423', '2454581', '2245626', '2452482', '2477452', '2484172', '2479032', '1478488', '2456260', '2309433', '2450060', '2442400', '2308007', '2490167', '2443889', '2466210', '2472989', '2497745', '2492966', '2314226', '2473579', '2465548', '2468577', '2415540', '2462027', '2459419', '2458900', '2456822', '2426799', '2480883', '2446192', '2495312', '2465883', '2479662', '2448645', '2448876', '2463021', '2478451', '2455061', '2485405', '2453646', '2454609', '2492681', '2464035', '2449930', '2463350', '2486418', '2471206', '2443330', '2497980', '2474066', '2454179', '2448010', '2494071', '2474776', '2458297', '2486348', '2454942', '2501858', '2458706', '2471029', '2446878', '1103396', '2477414', '2498650', '2457905', '2499060', '2480347', '2458578', '2471464', '2495758', '2278553', '2482246', '2439974', '2501873', '2450909', '2463304', '2492770', '2502890', '2456477', '2503715', '2461615', '2445688', '2471043', '2450350', '2459206', '2499788', '2476469', '2393347', '2499642', '2446039', '2484757', '2458260', '2460734', '2494376', '2470870', '2439786', '2277717', '2294642', '2502790', '2466024', '2500743', '2465292', '2468103', '2496520', '2468165', '2469676', '2467630', '2462532', '2477310', '2475839', '2496689', '2448494', '2494306', '2438961', '2463973', '2482226', '2502269', '2445450', '2460228', '2446926', '2486975', '2426071', '2460506', '2417233', '2444543', '2474262', '2463890', '2464674', '2495086', '2460191', '2449089', '2446800', '2453572', '2452002', '2452406', '2482064', '2475988', '2484291', '2387922', '2501963', '2464603', '2201612', '2442397', '2482108', '2488632', '2445320', '2451226', '2446962', '2444686', '2463521', '2455824', '2447618', '2462458', '2482189', '2499848', '2479757', '2447279', '2496108', '2501820', '2457414', '2487891', '2480421', '2466421', '2466088', '2469500', '2457268', '2489906', '2468197', '2471789', '2482126', '2491474', '2490675', '2442650', '2479532', '2463996', '2459401', '2463390', '2472062', '2452319', '2470024', '2466060', '2472034', '2497535', '2459740', '2492771', '2477545', '2475998', '2463049', '2457857', '2470047', '2492505', '2479015', '2486737', '2494550', '2474015', '2421371', '2503092', '2457889', '2454356', '2491365', '2470962', '2489315', '2488481', '2461110', '2457753', '2471006', '2500554', '2449226', '2498401', '2501893', '2457555', '2498314', '2445970', '2463298', '2454573', '2460662', '2475087', '2499022', '2480507', '2457012', '2502088', '2448257', '2435157', '2452738', '2462333', '2473595', '2501832', '2469517', '2448514', '2483137', '2493772', '2462813', '2502779', '2393901', '2462661', '2457928', '2491515', '2492544', '2466350', '2502226', '2462679', '2471844', '2498534', '2502765', '2484986', '2467011', '2456781', '2467130', '2499228', '2463487', '2382068', '2464568', '2480936', '2403106', '2443518', '2364775', '2263302', '2454653', '2459895', '2499173', '2471461', '2501938', '2489996', '2500023', '2446152', '2478622', '2461275', '2448883', '2491473', '2472884', '2467775', '2446447', '2452778', '1518122', '2459825', '2495709', '2464354', '2494552', '2473040', '2462660', '2447171', '2466293', '2448952', '2497041', '2461824', '2501031', '2500416', '2499629', '2276114', '2468179', '2496777', '2496884', '2452332', '2471139', '2486419', '2500557', '2471536', '2467136', '2448405', '2444963', '2478326', '2458068', '2465740', '2461651', '2447455', '2233128', '2494687', '2461596', '2483433', '2494199', '2452948', '2443091', '2497193', '2331915', '2469886', '2457902', '2455926', '2487683', '2467618', '2469373', '2484005', '2462105', '2470332', '2482056', '2453311', '2500284', '2456829', '2469939', '2502567', '2457551', '2460597', '2469547', '2481968', '2443081', '2453416', '2291081', '2469563', '2442171', '2473366', '1118716', '2476932', '2487562', '2254498', '2454569', '2484056', '2460057', '2461641', '2460765', '2462455', '2455073', '2460167', '2466680', '2476956', '2491872', '2471584', '2448380', '2421346', '2481233', '2482300', '2448615', '2444726', '2488741', '2460089', '2459160', '2451987', '1119204', '2447339', '2499047', '2482282', '2474323', '2482532', '2478918', '2451604', '2395438', '2475027', '2461241', '2490364', '2479216', '2458574', '2451528', '2468429', '1955718', '2502425', '2445024', '2470213', '2429864', '2245062', '2481545', '2493255', '2448550', '2470185', '2489579', '2452455', '2453457', '2491801', '2451282', '2475883', '2454123', '2497616', '2497677', '2461094', '2472375', '2468856', '2459917', '2459671', '2490096', '2467095', '2496230', '2465156', '2480368', '2398531', '2446684', '2491927', '2459620', '2485491', '2365636', '2443101', '2469597', '2449993', '2473650', '2490175', '2493996', '2496186', '2461128', '2481263', '2333460', '2502678', '2491304', '2456754', '2457108', '2493654', '2499886', '2478895', '2487047', '2140321', '2502296', '2465073', '2442188', '2485377', '2499238', '2497196', '2448293', '2442090', '2452516', '2456229', '2483395', '2442250', '2465221', '2502617', '2497188', '2450443', '2458671', '2475887', '2464117', '2477443', '2456998', '2467353', '2478283', '2471025', '2499960', '2463545', '2324269', '2467989', '2478920', '2493483', '2460735', '2461524', '2473560', '2450721', '2471680', '2443716', '2444512', '2469820', '2496610', '2351251', '2462093', '2446493', '2498638', '2487448', '2491267', '2458291', '2475229', '2502647', '2474319', '2498994', '2247307', '2484068', '2453980', '2485108', '2467061', '2483487', '2499624', '2450339', '2454723', '2501401', '2487397', '2463800', '2465015', '2478148', '2488447', '2469819', '2446354', '2500128', '2449008', '2469171', '2454710', '2463064', '2492527', '2360341', '2482508', '2475106', '2483899', '2448114', '2458389', '2465305', '2439568', '2462580', '2442690', '2460091', '2466334', '2487505', '2456471', '2435781', '2456996', '2452916', '2460474', '2468036', '2473098', '2498179', '2449567', '2446965', '2491576', '2478925', '2455940', '2487041', '2472609', '2466020', '2444850', '2456991', '2487740', '2372125', '2446087', '2494410', '2472526', '2487340', '2476514', '2451877', '2457964', '2444919', '2485499', '2447796', '2403183', '2482531', '2474649', '2442457', '2409661', '2485269', '2445788', '2461558', '2463562', '2328439', '2489920', '2490256', '2458663', '2450744', '2462832', '2462037', '2463354', '2480803', '2490831', '2456123', '2461251', '2492748', '1750492', '2447741', '2481985', '2276235', '2479315', '2479523', '2482935', '2472656', '2412872', '2442117', '2474728', '2493716', '2448005', '2485842', '2484895', '2487752', '2501803', '2488339', '2479202', '2502152', '2488897', '2478362', '2465472', '2456461', '2452058', '2472406', '2460874', '2482676', '2457124', '2447502', '2471246', '2259853', '2473466', '2456861', '2479429', '2497433', '2457388', '2480160', '2458924', '2457479', '2461899', '2478091', '1756692', '2485637', '2474749', '2472186', '2483969', '2463389', '2464196', '2400333', '2455939', '2475714', '2454963', '2450321', '2494804', '2445872', '2458581', '2474492', '2451848', '2501779', '2463497', '2493245', '2472180', '2489161', '2468100', '2503481', '2488960', '2476670', '2269518', '2448932', '2462409', '2426694', '2481924', '2452685', '2461250', '2500300', '2499074', '2483727', '2496849', '2498434', '2467709', '2443011', '2442197', '2473436', '2453283', '2458128', '2459965', '2500835', '2481272', '2447383', '2450093', '2457428', '2489956', '2461061', '2466342', '2461010', '2480181', '2468375', '2467250', '2491613', '2499879', '2446798', '2464055', '2450550', '2472750', '2487482', '2494806', '2438272', '2487606', '2461514', '2465795', '2456629', '2502685', '2451461', '2450624', '2437017', '2498418', '2468255', '2493406', '2500231', '2448107', '2339468', '2496484', '2479311', '2459966', '2467098', '2471704', '2477295', '2494940', '2444286', '2444879', '2494892', '2478848', '2503661', '2490724', '2476645', '2451046', '2461503', '1137759', '2497071', '2460371', '2472875', '2473489', '2493377', '2463277', '2495338', '2492241', '2461331', '2456065', '2473185', '2473730', '2454385', '2159115', '2454382', '2482804', '2498115', '2502696', '2475574', '2474985', '2490561', '2327354', '2484571', '2473908', '2498665', '2488361', '2484969', '2469030', '2464260', '2470101', '2447268', '2465522', '2481365', '2448644', '2294617', '2466435', '2483935', '2462280', '2492975', '2480121', '2469633', '2495582', '2460032', '2457209', '2185848', '2496163', '2446471', '2373394', '2461936', '2477916', '2484719', '2444812', '2497045', '2476089', '2471989', '2446832', '2457607', '2458894', '2499097', '2491969', '2490771', '2468853', '2499011', '2445085', '2447663', '2481093', '2461377', '2471683', '2472910', '2307961', '2477596', '2493434', '2482582', '2454440', '2470842', '2477780', '2445338', '2497990', '2455799', '2456398', '2469873', '2450208', '2153103', '2463546', '2487605', '2485478', '2467812', '2442299', '2482729', '2423553', '2479249', '2482388', '2414724', '2496913', '2478865', '2473051', '2501880', '2346257', '2447685', '2453752', '2459003', '2478076', '2451108', '2494698', '2463271', '2442228', '2471382', '2426308', '2456058', '2446096', '2476815', '2442936', '2474823', '2464235', '2482048', '2448475', '2326972', '2496629', '2493010', '2494722', '2475685', '2461706', '1912692', '2501029', '2483120', '2469159', '2494451', '2442570', '2462787', '2468129', '2486933', '2465744', '2468421', '2478766', '2493213', '2459728', '2479239', '2459732', '2468473', '2480606', '2457814', '2476324', '2485442', '2500484', '2466014', '2498345', '2453450', '2475785', '2422062', '2494834', '2500451', '2444664', '2459484', '2448851', '2472281', '2448518', '2490841', '2487713', '2446657', '2465521', '2443654', '2500245', '2455460', '2453637', '2496683', '2503398', '2477037', '2463623', '2466076', '2483939', '2494984', '2472694', '2485114', '2498459', '2466761', '2470677', '2495937', '2468951', '2462974', '2485375', '2465267', '2488429', '2496805', '2222833', '2461288', '2462785', '2493747', '2474150', '2478466', '2482698', '2489300', '2445028', '2491947', '2491564', '2450565', '2454567', '2442051', '2466770', '2470209', '2473305', '2484607', '2444863', '2465861', '2479760', '2489066', '2267237', '1274116', '2496673', '2450549', '2451662', '2467823', '2465873', '2450747', '2492457', '2486870', '2442744', '2466183', '2461584', '2480691', '2138930', '2456122', '2503698', '2456681', '2494905', '2443167', '2459730', '2498125', '2298931', '2482659', '2478429', '2471959', '2487829', '2468310', '2500372', '2474695', '2451247', '2455794', '2469706', '2451951', '2488088', '2452104', '2299051', '2451493', '2480565', '2459538', '2442261', '2444363', '2455610', '2462724', '2459005', '2472904', '2494916', '2460985', '2454463', '2497228', '2494669', '2473357', '2486417', '2495597', '2464486', '2457927', '2466907', '2482234', '2444449', '2491843', '2123503', '2495207', '2443140', '2488653', '2455875', '2489359', '2491109', '2502423', '2463968', '2466104', '2498464', '2474202', '2500833', '2449025', '2496443', '2480819', '2456960', '2469208', '2469957', '2464765', '2398613', '2460382', '2470993', '2494495', '2442096', '2475726', '2484282', '2452325', '2441400', '2471664', '2423084', '2468235', '2460853', '2498027', '2476069', '2455833', '2293105', '2492083', '2448385', '2453373', '2499402', '2447585', '2497222', '2443496', '2474632', '2479185', '2486656', '2471217', '2489229', '2465424', '2451035', '2444170', '2463072', '2446618', '2473479', '2496519', '2469433', '2450694', '2440913', '2493852', '2455613', '2456609', '2480473', '2465003', '2493941', '2482446', '2502896', '2476132', '2448735', '2470190', '2452293', '2478182', '2455653', '2465979', '2465887', '2485274', '2492881', '2456089', '2456150', '2456017', '2470543', '2444554', '2459252', '2461239', '2491484', '2454943', '2467464', '2456019', '2480156', '2475410', '2469013', '2493034', '2443830', '2471663', '2491639', '2442664', '2480175', '2488970', '2451599', '2477595', '2457825', '2369945', '2219903', '2469876', '2492009', '2448034', '2396514', '2496817', '2459334', '2480068', '2464897', '2442065', '2461022', '2459120', '2458547', '2462129', '2487537', '2471233', '2444493', '2499752', '2453421', '2490973', '2446954', '2468976', '2488943', '2499251', '2502806', '2473584', '2453261', '2465504', '2468519', '2490073', '2434898', '2448831', '2499854', '2501040', '2463947', '2450478', '2443497', '2456386', '2446760', '2478580', '2483251', '2461618', '2495010', '2502510', '2304647', '2442264', '2483926', '2445254', '2327185', '2469545', '2457834', '2470043', '2500533', '2477458', '2464637', '2466586', '2480441', '2462303', '2477664', '2485398', '2492154', '2269311', '2472711', '2452323', '2454668', '2449646', '2474010', '2455790', '2454641', '2465694', '2485552', '2486404', '2405801', '2462817', '2463633', '2475279', '2503456', '2413435', '2502311', '2452886', '2448387', '2466679', '2451574', '2473267', '2500644', '2487324', '2501351', '2479040', '2497309', '2450938', '2474414', '2478575', '2427835', '2463020', '2500625', '2451956', '2484432', '2474429', '2474051', '2500222', '2485390', '2502837', '2444891', '2442698', '2460455', '2462825', '2463704', '2452528', '2452143', '2472217', '2320584', '2460095', '2458792', '2461469', '2451478', '2484061', '2503202', '2483162', '2443256', '2457049', '2450522', '2478158', '2400767', '2469439', '2449834', '2460715', '2465649', '2488212', '2478973', '2484134', '2449668', '2487460', '2473391', '2457045', '2483693', '2456012', '2479785', '2495334', '2483645', '2469482', '2442518', '2484632', '2452287', '2474663', '2486855', '2489396', '2492501', '2502334', '2456156', '2465174', '2462044', '2448006', '2473625', '2497350', '2465760', '2501896', '2446236', '2492036', '2444461', '2491123', '1710251', '2438571', '2448903', '2493775', '2465659', '2480219', '2495755', '2445995', '2500122', '2480661', '2456302', '2450036', '2498894', '2501292', '2467636', '2426950', '2450170', '2487832', '2463018', '2489290', '2451637', '2459122', '2487823', '2487973', '2467754', '2302180', '2468629', '2448233', '2449024', '2475743', '2453741', '2468929', '2445825', '2443131', '2416720', '2480985', '2491210', '2497063', '2502990', '2462665', '2465483', '2454926', '2314016', '2476397', '2500838', '2499710', '2459561', '2473811', '2497880', '2496743', '2484710', '2497173', '2462648', '2463859', '2468997', '2475254', '2456204', '2455151', '2457701', '2478345', '2488080', '2462640', '2491357', '2500005', '2475897', '2503233', '2464801', '2463057', '2459275', '2484234', '2476628', '2445980', '2450336', '2498695', '2489215', '2466228', '2500630', '2448523', '2474370', '2477546', '2454477', '2470611', '2491975', '2456872', '2492972', '2441880', '2476459', '2503380', '2458743', '2468027', '2474480', '2448689', '2478054', '2455988', '2478818', '2458734', '2488844', '2500674', '2503454', '2443196', '2473218', '2493507', '2494701', '2445515', '2468416', '2461882', '2480732', '2447340', '2460141', '2452136', '2458420', '2465675', '2453965', '2479002', '2451545', '2471981', '2489500', '2447133', '2464948', '2452261', '2458722', '2443038', '2498466', '2475888', '2502909', '2460441', '2446844', '2443709', '2478700', '2467543', '2445110', '2471241', '2454491', '2449879', '2447397', '2500417', '2498773', '2451274', '2443089', '2497009', '2502324', '2497854', '2502277', '2487439', '2501914', '2493838', '2445957', '2454071', '2481413', '2435713', '2465349', '2498353', '2494281', '2483389', '2460803', '2465175', '2500302', '2480578', '2461862', '2444801', '2456570', '2483252', '2484933', '2474283', '2459818', '2443559', '2490385', '2400921', '2502021', '2450554', '2462439', '2471281', '2485135', '2483963', '2473582', '2491652', '2462767', '2435836', '2484795', '2477158', '2467310', '2473410', '2494882', '2458514', '2451440', '2493800', '2446089', '2449365', '2467817', '2482832', '2481906', '2164921', '2448416', '2472809', '2435678', '2449339', '2480186', '2492104', '2479813', '2480349', '2482252', '1106686', '2452696', '2503167', '2484685', '2384810', '2449049', '2489249', '2469366', '2459844', '2489489', '2444948', '2486775', '2502753', '2498051', '2494690', '2503530', '2492646', '2445603', '2465196', '2498109', '2490871', '2503678', '2487602', '2445040', '2461393', '2472441', '2464416', '2479077', '2478839', '2498500', '2454564', '2501587', '2315765', '2238682', '2444579', '2469052', '2465677', '2411543', '2450133', '2496517', '2452942', '2490878', '2487436', '2488616', '2493840', '2468727', '2468726', '2452178', '2475367', '2449794', '2467009', '2443598', '2131979', '2478195', '2479292', '2473407', '2441098', '2485705', '2450353', '2445358', '2204586', '2465170', '2486563', '2495114', '2450897', '2447253', '2475922', '2451346', '2448624', '2430649', '2472496', '2449813', '2458015', '2487795', '2496589', '2471347', '2491272', '2447832', '2503654', '2422044', '2485340', '2471783', '2467876', '2475641', '2500244', '2458658', '2499675', '2477681', '2474134', '2491900', '2451223', '2503444', '2478789', '2490108', '2467757', '2484821', '2485645', '2495716', '2462715', '2444322', '2479175', '2472608', '2482160', '2427470', '2467980', '2476470', '2485993', '2493652', '2453712', '2466398', '2142615', '2449714', '2496521', '2467498', '2462506', '2460109', '2463067', '2433832', '2457605', '2493205', '2474218', '2338630', '2449420', '2446573', '2485996', '2458769', '2497267', '2463862', '2478788', '2466539', '2456278', '2496590', '2447067', '2502722', '2466620', '2444578', '2477169', '2459444', '2434987', '2462316', '2490358', '2452826', '2482192', '2490659', '2487553', '2478090', '2497702', '2493306', '2445050', '2466855', '2478797', '2456289', '2474673', '2496452', '2446576', '2476224', '2445735', '2468486', '2492283', '2298456', '2447476', '2495511', '2502848', '2443183', '2456983', '2455999', '2468163', '2453979', '2496682', '2456556', '2439082', '2466654', '2443918', '2447695', '2458410', '2457460', '2486065', '2498423', '2484011', '2444149', '2474074', '2474106', '2446076', '2452545', '2490353', '2460343', '2312985', '2442105', '2492204', '2497626', '2448299', '2470154', '2488853', '2448909', '2436865', '2485213', '2382346', '2468251', '2448238', '2473757', '2459330', '2473209', '2469601', '2457692', '2493231', '2473772', '2455346', '2500238', '2486439', '2485290', '2193191', '2447308', '2496026', '2420180', '2349877', '2487420', '2492726', '2465171', '2459937', '2496907', '2477330', '2448095', '2464799', '2480677', '2442028', '2487581', '2447596', '2489583', '2458617', '2495847', '2477532', '2460449', '2469783', '2492811', '2474774', '2475330', '2445606', '2458406', '2502127', '2469207', '2472819', '2471746', '2463343', '2468881', '2477496', '2430743', '2448516', '2469707', '2492082', '2489180', '2467080', '2500280', '2443783', '2463407', '2444053', '2472665', '2456428', '2405495', '2463007', '2445588', '2466639', '2476626', '2502517', '1484802', '2493385', '2465249', '2499880', '2453723', '2470276', '2442067', '2492396', '2455019', '2441779', '2458060', '2461126', '2464779', '2457575', '2383865', '2445003', '2355722', '2490918', '2426125', '2488877', '1323923', '2463575', '2470744', '2501958', '2467880', '2487075', '2480442', '2476160', '2499368', '2493088', '2444826', '2461296', '2448583', '2500856', '2481167', '2475610', '2455840', '2438879', '2472615', '2479100', '2479628', '2446281', '2464193', '2130398', '2469058', '1969425', '2467804', '2493831', '2479818', '2464465', '2451638', '2447781', '2475339', '2454422', '2500634', '2490797', '2498574', '2482355', '2230249', '2472145', '2450876', '2486452', '2495071', '2496697', '2443290', '2464945', '2502763', '2482237', '2457356', '2459989', '2457288', '1398558', '2437912', '2466164', '2443673', '2491609', '2444893', '2477608', '2466576', '2468709', '2457655', '2500319', '2487524', '2456900', '2496293', '2501090', '2452592', '2444349', '1247515', '2462717', '2480645', '2485746', '2496774', '2487613', '2487552', '2480364', '2468009', '2424465', '2476468', '2482078', '2478898', '2475868', '2476344', '2498371', '2469737', '2493206', '2446998', '2454252', '2456862', '2296147', '2473962', '2466897', '2477623', '2502472', '2450646', '2482548', '2500466', '2457886', '2473155', '2460990', '2452884', '2500796', '2202959', '2483482', '2354906', '2500830', '2481162', '2469445', '2477661', '2454919', '2457778', '2448619', '2205820', '2451917', '2473439', '2495686', '2503589', '2484679', '2476287', '2232139', '2342152', '2467478', '2498218', '2466495', '2444285', '2488268', '2476419', '2451396', '2493601', '2490913', '2487948', '2463240', '2484622', '2470268', '2466904', '2467535', '2470545', '2426779', '2371092', '2433769', '2466929', '2496686', '2458615', '2478587', '2445937', '2460694', '2264766', '2456454', '1850843', '2465439', '2497836', '2480497', '2455830', '2497366', '2493262', '2459154', '2463111', '2460636', '2471591', '2474803', '2446530', '2490643', '2140832', '2465157', '2498447', '2497818', '2477453', '2458600', '2477275', '2495961', '2443202', '2490259', '2493335', '2151073', '2306027', '2495631', '2496703', '2474095', '2500377', '2464300', '2477107', '2471891', '2462173', '2502370', '2497198', '2453919', '2487920', '2487467', '2483883', '2275369', '2480450', '2452907', '2499188', '2457696', '2485518', '2292399', '2471841', '2473695', '2466407', '2498795', '2490044', '2249371', '2450312', '2487924', '2468707', '2467623', '2478088', '2481491', '2476924', '2498777', '2474327', '2446121', '2476636', '2421218', '2493699', '2483470', '1803316', '2466283', '2458830', '2463524', '2475739', '2462772', '2483757', '2444103', '2489663', '2469336', '2457810', '2485542', '2453095', '2482586', '2477886', '2491671', '2458943', '2450450', '2457166', '2470150', '2482168', '2451390', '2463906', '2458550', '2470415', '2477796', '2494785', '2483865', '2465652', '2476707', '2496941', '2441443', '2493179', '2489988', '2459341', '2493516', '2462675', '2486416', '2463573', '2273282', '2493020', '2461341', '2491566', '2491586', '2456790', '2453237', '2472618', '2449618', '2467131', '2490246', '2473080', '2448942', '2444198', '2449156', '2448891', '2472742', '2480008', '2502045', '2494353', '2482673', '2449641', '2454661', '2476318', '2478672', '2443147', '2488780', '2350319', '2468574', '2451349', '2484255', '2482320', '2486616', '2450088', '2475075', '2487805', '2449279', '2493366', '2472513', '2453998', '2476011', '2477899', '2431504', '2445006', '2450081', '2451157', '2457345', '2463606', '2445927', '2453209', '2296549', '2452047', '2451164', '2480899', '2422910', '2482334', '2463809', '2455025', '2439958', '2475540', '2461543', '2484403', '2450556', '2470502', '2443664', '2444325', '2334994', '2447266', '2498377', '2454502', '2479495', '2472848', '2466921', '2486646', '2453452', '2444711', '2473722', '2461889', '2450864', '2465190', '2496020', '2474083', '2470378', '2463686', '2450151', '2452011', '2442692', '2470575', '2467372', '2452278', '2490914', '2471101', '2454589', '2466748', '2492430', '2386032', '2484017', '2451241', '2483073', '2499625', '2460833', '2442998', '2492921', '2467855', '2499514', '2472726', '2459428', '2467583', '2448485', '2470566', '2459856', '2495553', '2491121', '2468077', '2452189', '2471907', '2495008', '2454290', '2498629', '2446764', '2489580', '2448747', '2503206', '2503192', '2447180', '2497823', '2454989', '2497430', '2478802', '2472025', '2466646', '2467311', '2487957', '2488825', '2484638', '2485097', '2491354', '2421821', '2466549', '2484852', '2468200', '2459864', '2481067', '2450792', '2457114', '2477630', '2479182', '2447791', '2476235', '2463458', '2503643', '2494932', '2469143', '2503024', '2450595', '2445610', '2493417', '2459874', '2471571', '2475903', '2447943', '2487500', '2487993', '2502087', '2467549', '2444130', '2442997', '2409758', '2492934', '2467054', '2498942', '2489459', '2491524', '2492119', '2475835', '2462168', '2463078', '2469757', '2444502', '2119515', '2453329', '2465361', '2472383', '2447160', '2473115', '2483342', '2457921', '2463850', '2449948', '2502618', '2467144', '2483973', '2471298', '2468744', '2476988', '2494415', '2475819', '2484263', '2503044', '2500354', '2449487', '2498399', '2464794', '2495167', '2483239', '2497047', '2450746', '2290958', '2456728', '2460664', '2474176', '2500872', '2467495', '2403313', '2469828', '2427315', '2492613', '2472554', '2470433', '2003879', '2485035', '2452973', '2480195', '2498175', '2478198', '2464472', '2472345', '2489275', '2180570', '2468278', '2448402', '2446433', '2500328', '2456287', '2485333', '2475067', '2466213', '2452577', '2455901', '2499181', '2477248', '2498312', '2428439', '2480746', '2480724', '2479843', '2498875', '2459512', '2444308', '2443896', '2495134', '2479665', '2489303', '2462617', '2480354', '2497458', '2450907', '2501955', '2450789', '2479012', '2461458', '2488160', '2496271', '2475735', '2461661', '2443336', '2478787', '2494959', '2442966', '2453127', '2498324', '2457603', '2488662', '1484458', '2444313', '2462343', '2447574', '2494310', '2455683', '2460234', '2442704', '2488693', '2479254', '2446874', '2461106', '2492541', '2466520', '2488543', '2501427', '2447816', '2483321', '2485418', '2442628', '2493604', '2464648', '2452453', '2502494', '2479025', '2442591', '2450125', '2498587', '2500001', '2464589', '2465222', '2462426', '2466595', '2448954', '2484410', '2259893', '2463960', '2484079', '2490427', '2486604', '2451285', '2488800', '2498897', '2443244', '2444954', '2474781', '2461310', '2480690', '2479031', '2487514', '2451489', '2492876', '2467672', '2465590', '2450510', '2471175', '2461579', '2462733', '2492233', '2460626', '2334890', '2461240', '2488384', '2478728', '2462811', '2442181', '2483966', '2361866', '2465764', '2467273', '2452748', '2460327', '2501795', '2447844', '2457420', '2278452', '2455398', '2467038', '2450492', '2491271', '2467725', '2461386', '2478932', '2491296', '2451173', '2469342', '2460638', '2489363', '2495919', '2463758', '2463828', '2461363', '2453724', '2502122', '2496865', '2474118', '2471018', '2480099', '2480359', '2378913', '2471185', '2454743', '2214693', '2495679', '2455546', '2494533', '2485547', '2451005', '2499199', '2469560', '2475933', '2460074', '2503334', '2444499', '2444456', '2496725', '2452990', '2463416', '2446298', '2459921', '2465611', '1578063', '2452210', '2500063', '2460488', '2491039', '2467654', '2374429', '2492878', '2456157', '2488518', '2491675', '2478226', '2474304', '2450325', '2496146', '2461499', '2489254', '2216897', '2502136', '2461642', '2367848', '2490023', '2477522', '2481309', '2477376', '2492508', '2468268', '2466473', '2466522', '2457922', '2496916', '2476637', '2445960', '2449616', '2491987', '2503640', '2493963', '2455690', '2491710', '2485343', '2496714', '2457196', '2457936', '2502523', '2497511', '2463721', '2494104', '2274373', '2453378', '2477290', '2446476', '2496513', '2471580', '2461884', '2460523', '2467450', '2450162', '2471356', '2495173', '2363009', '2499972', '2442856', '2483309', '2447073', '2489437', '2442001', '2467282', '2443824', '2495589', '2486174', '2469598', '2448306', '2468314', '2487663', '2460170', '2503606', '2490192', '2450380', '2491156', '2292430', '2448318', '2491870', '2493415', '2468817', '2479743', '2461340', '2498148', '2494167', '2442684', '2465186', '2458852', '2501863', '2453490', '2471417', '2473150', '2475670', '2303392', '2468434', '2479073', '2451166', '2481633', '2501700', '2492671', '2462605', '2490040', '2470925', '2406453', '2458931', '2445708', '2500198', '2455186', '2480535', '2454492', '2465933', '2459079', '2487227', '2458735', '2455486', '2488248', '2482936', '2464251', '2447046', '2502846', '2479007', '2447914', '2443837', '2456072', '2320527', '2453511', '2445549', '2464797', '2418806', '2458461', '2467784', '2484845', '2474408', '2454190', '2479041', '2492951', '2153542', '2446938', '2462334', '2456686', '2468131', '2466095', '2471388', '2475200', '2487578', '2482335', '2357862', '2493669', '2465312', '2442446', '2466948', '2479307', '2460568', '2495885', '2500531', '2457521', '2456353', '2497481', '2477292', '2442921', '2502505', '2425893', '2452573', '2461910', '2497054', '2461392', '2449273', '2447999', '2434095', '2467170', '2450817', '2503241', '2482425', '2428537', '2466815', '2466799', '2480837', '2493001', '2342687', '2436515', '2478448', '2442184', '2462376', '2495433', '2489591', '2486068', '2470227', '2502498', '2448643', '2449744', '2460329', '2477236', '2501391', '2501517', '2452586', '2469200', '2245279', '2443491', '2457658', '2501242', '2491462', '2471336', '2498126', '2467826', '2487765', '2441916', '2492942', '2465269', '2479732', '2462166', '2470773', '2487052', '2470688', '2446922', '2305655', '2455702', '2450914', '2444562', '2492051', '2467436', '2496518', '2477389', '2458786', '2450083', '2437797', '2410064', '2449748', '2479666', '2451578', '2444003', '2452079', '2487603', '2502181', '2478946', '2461895', '2464168', '2447227', '2495206', '2467886', '2495567', '2483777', '2279797', '2453424', '2462790', '2496608', '2485494', '2488313', '2451433', '2439028', '2448665', '2472782', '2472544', '2495570', '2467680', '2487544', '2500366', '2451146', '2492185', '2473214', '2455834', '2493807', '2471218', '2445917', '2422404', '2452731', '2451503', '2468317', '2460719', '2458299', '2311116', '2442388', '2478860', '2496183', '2463490', '2453185', '2460148', '2485380', '2161385', '2486757', '2487233', '2472444', '2469860', '2499103', '2496968', '2475414', '2457560', '2474880', '2475364', '2473769', '2450385', '2462252', '2346884', '1290004', '2459806', '2496958', '2331731', '1900275', '2490710', '2471129', '2458156', '2459061', '2453268', '2484223', '2498736', '2475774', '2464110', '2446284', '2465328', '2467010', '2446741', '2501423', '2503072', '2459129', '2470526', '2469048', '2498267', '2454413', '2471925', '2480259', '2460149', '2495501', '2478934', '2449234', '2469154', '2479508', '2492596', '2446352', '2470976', '2469520', '2464091', '2469882', '2332201', '2126305', '2461928', '2490433', '2495074', '2499865', '2449911', '2469491', '2458882', '2456128', '2399716', '2494928', '2449377', '2444225', '2435420', '2501762', '2455216', '2388811', '2467928', '2461578', '2450619', '2477202', '2491572', '2443976', '2478814', '2443033', '2496576', '2455129', '2458475', '2458379', '2492452', '2470327', '2252291', '2452479', '2453498', '2485981', '2474250', '2487885', '2487624', '2498996', '2449153', '2372643', '2468242', '2491892', '2473858', '2485352', '2455776', '2445502', '2492358', '2498049', '2395345', '2452409', '2467175', '2471113', '2501337', '2467103', '2449846', '2497017', '2498415', '2445477', '2473801', '2485181', '2458683', '2480371', '2492446', '2480780', '2475433', '2502968', '2431900', '2323743', '2459350', '2285625', '2467619', '2474682', '2450341', '2286407', '2467143', '2446502', '2444699', '2449496', '2452570', '2483896', '2486592', '2467414', '2453361', '2499573', '2457259', '2447066', '2426147', '2469665', '2488755', '2501909', '2217087', '2390089', '2474644', '2480620', '2493136', '2482658', '2496826', '2458774', '2389176', '2492995', '2491738', '2493046', '2173566', '2469654', '1809558', '2491750', '2457466', '2471545', '2477221', '2494843', '2411669', '2478430', '2502006', '2244129', '2453331', '2470126', '2496887', '2496924', '2446266', '2435091', '2490435', '2468118', '2462867', '2460537', '2444635', '2409137', '2317574', '2475556', '2491244', '2443179', '2477652', '2452131', '2447105', '2463199', '2443129', '2499829', '2463835', '2443386', '2451107', '2487954', '2478248', '2458654', '2482624', '2503375', '2502232', '2467081', '2469037', '2298928', '2490070', '2450793', '2443182', '2480085', '2473587', '2502233', '2418180', '2453584', '2154213', '2481222', '2452142', '2479308', '2462676', '2503573', '2462178', '2449096', '2503488', '2454360', '2498408', '2502709', '2467512', '2456786', '2413638', '2444263', '2450078', '2474958', '2242596', '2449000', '2491352', '2478899', '2442363', '2479713', '2495272', '2461952', '2465057', '2449575', '2479545', '2474669', '2446639', '2499361', '2459705', '2468777', '2485393', '2455952', '2424115', '2498378', '2482280', '2489832', '2479484', '2452088', '2454209', '2323932', '2479062', '2475283', '2476633', '1319865', '2443915', '2473926', '2483225', '2446820', '2466720', '2501072', '2503691', '2485928', '2466744', '2468502', '2455212', '2495278', '2457959', '2482675', '2464760', '2471064', '2478051', '2456188', '2447752', '2464033', '2450297', '2451783', '2397283', '2443683', '2480748', '2444492', '2469429', '2496698', '2489884', '2471192', '2403268', '2480709', '2482636', '2485959', '2494994', '2500708', '2443212', '2485837', '2479380', '2455757', '2493320', '2442154', '2481185', '2503318', '2472956', '2490893', '2462686', '2496769', '2453215', '2450796', '2488245', '2448832', '2494059', '2485951', '2502715', '2456294', '2454268', '2451812', '2448766', '2483811', '2458589', '2460404', '2454763', '2453912', '2483538', '2455871', '2462554', '2495011', '2496003', '2484483', '2478853', '2484077', '2458546', '2453082', '2477062', '2471042', '2444394', '2457623', '2463433', '2457246', '2386600', '2451980', '2468609', '2476339', '2429546', '2482563', '2452704', '2479447', '2463465', '2497862', '2495675', '2387327', '2472523', '2468797', '2490415', '2442623', '2477554', '2484075', '2463920', '2449366', '2460783', '2500349', '2468455', '2474230', '2468226', '2467312', '2442763', '2461387', '2447575', '2462963', '2452308', '2493386', '2476957', '2499351', '2446478', '2434004', '2464236', '2491974', '2457374', '2484251', '2489279', '2471643', '2495980', '2464503', '2460066', '2465149', '2447409', '2469307', '2487756', '2498120', '2498622', '2398356', '2482837', '2478086', '2455170', '2447496', '2446774', '2417797', '2502300', '1576258', '2455969', '2442442', '2451235', '2483637', '2449238', '2448786', '2462466', '2503525', '2451850', '2494679', '2470549', '2492218', '2462822', '2459211', '2502323', '2465291', '2479184', '2451569', '2503315', '2447712', '2451249', '2477238', '2391103', '2488487', '2463564', '2455317', '2496764', '2472304', '2467887', '2449138', '2446829', '2477296', '2448409', '2467589', '2478779', '2456680', '2465823', '2476822', '2451646', '2459408', '2495131', '2451335', '2470454', '2489341', '2425609', '2484652', '2468346', '2453860', '2494187', '2474630', '2480807', '2498832', '2399647', '2454694', '2461850', '2489977', '2489166', '2465802', '2478437', '2481299', '2106428', '2485275', '2377801', '2456228', '2482822', '2482236', '2453755', '2460347', '2485589', '2443150', '2484348', '2461316', '2481282', '2448386', '2487865', '2478177', '2479540', '2469742', '2304344', '2497910', '2494184', '2452656', '2446327', '2261154', '2420584', '2463338', '2483363', '2129354', '2488496', '2452869', '2483324', '2472518', '2401550', '2493049', '2498257', '2450919', '2472552', '2454363', '2454444', '2462896', '2475639', '2420306', '2445757', '2455048', '2453643', '2460101', '2456108', '2409164', '2403108', '2453246', '2490834', '2479400', '2470964', '2461490', '2444884', '2457128', '2470913', '2473107', '2471978', '2491479', '2497301', '2474314', '2455957', '2442808', '2474589', '2483783', '2487434', '2470457', '2477606', '2480386', '2412482', '2483917', '2443079', '2486260', '2489043', '2465671', '2500503', '2444939', '2498416', '2491464', '2479681', '2494682', '2501399', '2494118', '2453461', '2473375', '2445352', '2499225', '2444630', '2500504', '2485301', '2462696', '2462959', '2489700', '2481256', '2479652', '2456172', '2455841', '2459910', '2482705', '2458585', '2501416', '2458294', '2488588', '2477604', '2475827', '2452932', '2481788', '2452751', '2470997', '2496953', '2452496', '2453291', '2484701', '2493303', '2451267', '2498571', '2460897', '2496707', '2462584', '2447230', '2442816', '2077114', '2487647', '2498372', '2437715', '2460099', '2209384', '2485251', '2456541', '2459145', '2462519', '2459486', '2464015', '2503248', '2503683', '2491105', '2498254', '2467184', '2485412', '2491679', '2490194', '2489982', '2442651', '2488282', '2450262', '2494878', '2452354', '2485875', '2467133', '2498421', '1167730', '2474526', '2477843', '2498472', '2453301', '2495005', '2285613', '2494194', '2495335', '2484224', '2453196', '2489776', '2485161', '2471022', '2464522', '2451800', '2447532', '2494558', '2501343', '2494978', '2452006', '2483940', '2482284', '2470094', '2502600', '2483207', '2486041', '2469878', '2497272', '2461388', '2466877', '2445512', '2479411', '2493691', '2468478', '2466673', '2448610', '2468942', '2500751', '2453262', '2494962', '2496539', '2463849', '2457326', '2469317', '2469609', '2453089', '2474811', '2460917', '2461290', '2459870', '2487961', '2491215', '2480321', '2461207', '2454223', '2490372', '2447029', '2482209', '2454689', '2444836', '2494508', '2491388', '2483292', '2491509', '2451301', '2474227', '2501825', '2493639', '2487271', '2456268', '2453870', '2449782', '2447915', '2488615', '2459081', '2500103', '2470135', '2502777', '2480579', '2494881', '2485795', '2491617', '2470750', '2487580', '2479016', '2495721', '2442140', '2450530', '2466602', '2459683', '2496745', '2442688', '2462816', '2499874', '2447318', '2447235', '2502591', '2500808', '2462713', '2501597', '2444487', '2489524', '2498351', '2490367', '2483254', '2488490', '2479675', '2492911', '2440293', '2466830', '2450594', '2456164', '2479970', '2491804', '2457942', '2477934', '2502172', '2499589', '2484625', '2477677', '2486860', '2460624', '2470144', '2488452', '2488423', '2471197', '2464540', '2232811', '2497381', '2500544', '2487766', '2495522', '2471226', '2445946', '2443528', '2448456', '2452796', '2466802', '2448727', '2141352', '2453216', '2499931', '2443116', '2481652', '2469552', '2468040', '2489175', '2480800', '2448248', '2494258', '2493517', '2491790', '2426372', '2469929', '2451348', '2470100', '2488346', '2450949', '2486722', '2457441', '2473073', '2472175', '2502211', '2461036', '2448790', '2494925', '2474443', '2444109', '2451675', '2467930', '2378916', '2499077', '2443859', '2464929', '2466453', '2443596', '2230837', '2445401', '2501785', '2462206', '2447851', '2445953', '2462197', '2470813', '2457119', '2485523', '2456073', '2467018', '2474959', '2451325', '2457215', '2461213', '2460136', '2442863', '2482154', '2453263', '2494094', '2465986', '2480401', '2499722', '2502042', '2487681', '2484755', '2490798', '2492682', '2475232', '2458577', '2451960', '2461165', '2493075', '2488738', '2500698', '2491883', '2461338', '2444750', '2122509', '2488219', '2482755', '2377146', '2451136', '2423208', '2488295', '2347268', '2470339', '2471802', '2503636', '2497334', '2488716', '2473792', '2464842', '2483753', '2453835', '2453274', '2468683', '2453355', '2469847', '2500619', '2465250', '2496336', '2483068', '2491855', '2446397', '2498607', '2499197', '2467806', '2502874', '2461511', '2500569', '2476017', '2195145', '2457421', '2445899', '2459886', '2482243', '2488634', '2495509', '2466718', '2489058', '2454374', '2493007', '2206082', '2465286', '2471820', '2470391', '2502339', '2479397', '2501267', '2457280', '2327497', '2456074', '2487367', '2464955', '2502508', '2463384', '2494537', '2447217', '2498246', '2449555', '2503660', '2496341', '2453391', '2497648', '2454879', '2479257', '2477813', '2462243', '2267850', '2344344', '2458738', '2452909', '2438529', '2499976', '2493503', '1305657', '2502503', '2459645', '2477794', '2473868', '2458673', '2469392', '2452145', '2465442', '2445877', '2396751', '2448897', '2500323', '2446328', '2453210', '2477982', '2491230', '2489374', '2448212', '2493865', '2473302', '2483669', '2465684', '2466854', '2479207', '2452383', '2460483', '2448574', '2469746', '2467404', '1236246', '2502074', '2493514', '2487496', '2458167', '2463286', '2476472', '2503490', '2470249', '2471619', '2480190', '2309687', '2464920', '1813294', '2464185', '2501099', '2492967', '2455984', '2502241', '2498285', '2456718', '2452788', '2466681', '2487998', '2461863', '2466772', '2481278', '2473215', '2477369', '2497512', '2477766', '2501933', '2448928', '2456632', '2444830', '2453332', '2482702', '2463750', '2455081', '2451694', '2481861', '2500034', '2468112', '2460834', '2478961', '2487856', '2489544', '2463362', '2387609', '2464457', '2447093', '2461492', '2466425', '2469186', '2474819', '2446907', '2451410', '2471897', '2502815', '2453936', '2462597', '2469620', '2461406', '2470988', '2471499', '2451411', '2488390', '2487255', '2452094', '2467686', '2497971', '2452328', '2461475', '2476392', '2495233', '2485078', '2470994', '2446631', '2497380', '2444414', '2497249', '2458508', '2474288', '2479781', '2464298', '2498953', '2393096', '1474461', '2490371', '2477378', '2495062', '2484080', '2496770', '2453305', '2482961', '2460934', '2470486', '2502726', '2500325', '2450630', '2489282', '2178615', '2447533', '2460601', '2443532', '2471296', '2469132', '2493041', '2471808', '2475836', '2459928', '2452119', '2480648', '2439928', '2491036', '2448102', '2443613', '2491455', '2466546', '2458107', '2454488', '2417517', '2443344', '2470462', '2488294', '2460470', '2503329', '2493107', '2442168', '2496248', '2474070', '2497974', '2494998', '2482994', '2448170', '2450502', '2483133', '2449001', '2332382', '2448541', '2453218', '2338995', '2496528', '2364737', '2497885', '2498814', '2449684', '2457361', '2466466', '2476036', '2483167', '2502637', '2496701', '2447501', '2463006', '2484379', '2485379', '2442946', '2452797', '2464349', '2488929', '2447049', '2477768', '2464543', '2460633', '2447407', '2494668', '2493109', '2461951', '2479037', '2328999', '2486734', '2478316', '2481330', '2459929', '2485650', '2467569', '2471737', '2501760', '2456512', '2489040', '2473329', '1347338', '2462887', '2455502', '2457598', '2461124', '2448817', '2483268', '2458953', '2449656', '2470468', '2494593', '2453507', '2497445', '2444929', '2466784', '2481523', '2466722', '2109424', '2452103', '2486067', '2475601', '2490732', '2452010', '2496937', '2487708', '2445923', '2479986', '2460779', '2445184', '2457990', '2493402', '2464789', '2468130', '2462266', '2476257', '2478047', '2444283', '2484773', '2442306', '2500785', '2498323', '2486863', '2298217', '2465185', '1578067', '2455606', '2461923', '2495116', '2472366', '2443534', '2473411', '2454439', '2447728', '2463707', '2502405', '2479955', '2494820', '2297682', '2489135', '2444292', '2456110', '2491146', '2467315', '2495737', '2451654', '2462470', '2443302', '2476166', '2484256', '2491094', '2492848', '2456327', '2477467', '2453478', '2456776', '2495791', '2459429', '2472620', '2469355', '2472590', '2473377', '2452764', '2496657', '2479080', '2476382', '2456412', '2370893', '2458928', '2449562', '2476108', '2498636', '2444164', '2482123', '2465467', '2475221', '2493967', '2490049', '2501311', '2500563', '2476006', '2449786', '2399591', '2463074', '2496731', '2469811', '2480147', '2499178', '2456955', '2491170', '2496966', '2473023', '2456885', '2490619', '2442757', '2463798', '2490612', '2444965', '2451260', '2427885', '2473432', '2461573', '2469726', '2472503', '2498413', '2482665', '2458165', '2453578', '2463133', '2447777', '2491908', '2468736', '2454584', '2502231', '2442145', '2421769', '2464632', '2491360', '2459142', '2489184', '2479017', '1150766', '2443647', '2425405', '2503659', '2480850', '2452992', '2499499', '2484069', '2501171', '2477297', '2434245', '2456333', '2452910', '2451618', '2500683', '2453647', '2465382', '2455457', '2500679', '2500768', '2487777', '2466987', '2447385', '2500177', '2466647', '2458919', '2465685', '2479859', '2499704', '2477511', '2461946', '2411410', '2471678', '2443009', '2457230', '2483701', '2469818', '2447062', '2500267', '2448355', '2451312', '2498966', '2477360', '2446388', '2489005', '2452311', '2454484', '2464882', '2461193', '2454530', '2468080', '2498557', '2446512', '2408780', '2477201', '2463164', '2445425', '2454578', '2290085', '2456693', '2453371', '2499160', '2446790', '2352503', '2442131', '2482079', '2443161', '2469723', '2453161', '2460648', '2451352', '2490524', '2483707', '2484645', '2496729', '2476992', '2500151', '2490414', '2450885', '2457741', '2499050', '2457640', '2479483', '2489074', '2468124', '2470718', '2501704', '2462351', '2448797', '2498959', '2472142', '2468832', '2124451', '2451627', '2452206', '2458224', '2458598', '2458646', '2461581', '2495093', '2444583', '2460981', '2257125', '2477325', '2487315', '2462463', '2474827', '2487984', '2449910', '2444066', '2489414', '2476807', '2478048', '2499962', '2463094', '2497093', '2502212', '2445373', '2449492', '2495523', '2442183', '2465113', '2477867', '2411028', '2495054', '2453492', '1248924', '2499868', '2489113', '2447461', '2481361', '2483181', '2492868', '2488375', '2501512', '2501919', '2459949', '2453104', '2475105', '2473907', '2394260', '2456037', '2447730', '2454009', '2477543', '2500399', '2490979', '2493374', '2476918', '2480159', '2445583', '2437090', '2467452', '2452422', '2467304', '2449121', '2495247', '2490786', '2466100', '2452135', '2449808', '2477539', '2467145', '2495378', '2474360', '2501574', '2346346', '2463895', '2474058', '2460055', '2451020', '2444809', '2463864', '2484103', '2497043', '2454270', '2496664', '2496306', '2493565', '2440919', '2466864', '2439271', '2465317', '2325918', '2451757', '2450902', '2494041', '2452574', '2490158', '2499932', '2456920', '2271807', '2456298', '2470573', '2448588', '2472568', '2472806', '2501499', '2473158', '2471359', '2498979', '2483812', '2449797', '2324694', '2452418', '2420398', '2500612', '2460654', '2447613', '2483907', '2498552', '2462815', '2483118', '2446598', '2462251', '2501981', '2444206', '2446554', '2448334', '2483901', '2481742', '2484690', '2465529', '2499917', '2447271', '2453816', '2489805', '2207782', '2458140', '2465756', '2449891', '2494766', '2457153', '2452241', '2468175', '2458694', '2441902', '2479909', '2483941', '2388466', '2492980', '2233456', '2444908', '2463220', '2448404', '2441840', '2469576', '2442290', '2487953', '2467774', '2491762', '2485598', '2477349', '2437681', '2503701', '2500330', '2465414', '2471145', '2449975', '2446056', '2502106', '2447847', '2490946', '2461712', '2494178', '2457404', '2454525', '2328051', '2460686', '2458153', '2475825', '2486277', '2444005', '2489445', '2502397', '2446163', '2491095', '2477552', '2458137', '2472754', '2478302', '2494569', '2456290', '2447147', '2484961', '2472636', '2464526', '2489770', '2482347', '2459306', '2497040', '2482060', '2461065', '2484661', '2460559', '2462684', '2492704', '2481869', '2442742', '2500287', '2482216', '2483911', '2445913', '2496802', '2453139', '2491682', '2494081', '2453644', '2475747', '2442146', '2494694', '2442994', '2464254', '2125438', '2479580', '2462601', '2289750', '2477409', '2448789', '2477243', '2450589', '2478894', '2466779', '2470955', '2377839', '2443818', '2471725', '2451327', '2443403', '2454333', '2482240', '2454787', '2420257', '2452100', '2473987', '2426448', '2473203', '2485370', '2502800', '2482983', '2462244', '2497681', '2449717', '2457491', '2468222', '2444532', '2315022', '2452259', '2446634', '2492932', '2496723', '2490405', '2480319', '2467890', '2468324', '2471164', '2456660', '2470075', '2446040', '2460603', '2467280', '2208962', '2478328', '2466353', '2164286', '2495974', '2457243', '2453289', '2469049', '2447319', '2455063', '2446851', '2450682', '2458125', '2477531', '2502331', '2451913', '2493562', '2460293', '2491737', '2472365', '2494901', '2459505', '2479547', '2443581', '2448486', '2461807', '2444028', '2476119', '2496546', '2491064', '2151441', '2461000', '2497325', '2497256', '2366983', '2446946', '2489223', '2455059', '2460583', '2374486', '2468049', '2442767', '2451432', '2310878', '2490848', '2468407', '2493016', '2479303', '2430218', '1131796', '2482089', '2470097', '2423280', '2485630', '2456815', '2486234', '2268246', '2456391', '2450916', '2487570', '2480258', '2496613', '2482578', '2457566', '2465449', '2499364', '2465309', '2444080', '2494886', '2500272', '2501200', '2443130', '2497524', '2452161', '2488677', '2487656', '2493234', '2441643', '2364447', '2455285', '2493111', '2485060', '2496875', '2479778', '2456005', '2489170', '2500555', '2476181', '2459883', '2481794', '2486132', '2471026', '2496535', '2342057', '1017332', '2141357', '1829218', '1015223', '1176981', '2351601', '2291967', '2240228', '2238788', '2328719', '2253135', '1118959', '1972910', '2263831', '2079429', '2322107', '1786580', '1440653', '1065670', '2202445', '1106212', '1549063', '2291999', '1831841', '1042783', '2067311', '1021235', '2209246', '1979484', '1751616', '1180017', '1118893', '2255930', '1408646', '2292980', '1894082', '1037915', '2033879', '1033349', '2305121', '1071545', '1860911', '2289290', '2246040', '1180863', '2273743', '1599057', '2022968', '1473519', '1253261', '1310247', '2227040', '2327947', '1810755', '2275224', '2337011', '2323943', '1034376', '1843752', '1321168', '2309485', '2324568', '1686755', '2320447', '1914588', '1859917', '2225376', '1183437', '1037330', '1693150', '1034531', '2261091', '1089002', '2088602', '1234144', '2327054', '2273089', '1901659', '1049554', '2014749', '1715027', '1132784', '1810277', '2317347', '2286101', '1181925', '1914694', '2275209', '2325419', '1826727', '2220328', '1334361', '1042816', '1364150', '1530304', '2246355', '1481460', '2289388', '2269878', '2023160', '1521865', '2298190', '2152539', '2154179', '1026853', '2005688', '1259295', '1421653', '1716481', '1147893', '2113424', '1176803', '2267083', '1494340', '1349981', '2291617', '1217985', '1961730', '2284192', '1213921', '1408101', '1387870', '1073458', '2258455', '1051959', '1288162', '1782299', '2223232', '1015970', '1990971', '1227084', '1023647', '2291579', '1124675', '2351371', '1295978', '2070460', '2328242', '2298474', '1197603', '1955021', '1052293', '1069862', '1439415', '1318027', '1004247', '1071064', '2337904', '1083503', '2314560', '2279076', '1063178', '2015616', '2331288', '1939245', '1091012', '1904026', '2320705', '1139121', '2207828', '2031215', '1059735', '2337654', '2329990', '2325931', '1204163', '1338375', '2231306', '1007531', '2314454', '1981831', '1881797', '2261746', '1959613', '2351847', '1830333', '1869501', '1136050', '2230959', '2172185', '1035498', '1009432', '1920927', '2085696', '2354126', '1107743', '1059072', '2332750', '1256376', '2188377', '1721138', '2285128', '1255679', '2322762', '1963366', '2298111', '1097599', '1965981', '1673007', '1009590', '2216129', '1408060', '2226620', '1057741', '1650331', '2277600', '2141927', '2279364', '2321641', '1218777', '1007409', '1056035', '2299593', '1513999', '1383645', '2357933', '2359832', '2279063', '2231362', '2313096', '1553125', '1902311', '2083107', '1210753', '2169570', '2320737', '2349425', '1657639', '1183910', '2334308', '2307827', '1499969', '1087570', '2037087', '2146281', '1981760', '1602291', '1201624', '1184330', '2285827', '2280827', '2193801', '1032227', '2317531', '1004768', '1966845', '1816903', '2362967', '1036083', '1499838', '2257414', '1983141', '1947237', '1177775', '2349232', '1046794', '1194338', '2272392', '1004333', '1007088', '1034269', '2240794', '1248103', '2336326', '2316625', '1039325', '2340229', '1390384', '1746348', '2270069', '1923998', '1437803', '1081979', '2327120', '2154019', '1027669', '2336484', '1920186', '2076145', '1070983', '2195843', '1148064', '2306944', '2318132', '2003419', '1088243', '1186333', '1985908', '1944879', '2289613', '2292336', '2318139', '2273233', '2218897', '1191097', '2332196', '2284558', '2328378', '1203569', '1792384', '1532223', '2280628', '2192020', '1015744', '2050425', '1932041', '1168528', '2339031', '1023025', '1293701', '2318519', '1922117', '2297597', '2313020', '1026658', '2120918', '1000873', '2265693', '2311987', '2311398', '1043669', '1590417', '2324519', '2220789', '2157718', '2327140', '1629826', '2282127', '1046357', '1188630', '1611973', '2109061', '1907959', '2200627', '1003107', '1373014', '1965876', '1355957', '1905267', '1656591', '2136755', '2306657', '1861667', '1885791', '2319291', '2276351', '1006889', '2030780', '2343743', '1176989', '1897500', '2085756', '2322747', '2183121', '2331346', '2348288', '1071180', '2052414', '1189641', '2329342', '1278436', '2316988', '2297181', '1151505', '2181675', '2145064', '2284792', '1186731', '1818735', '2213001', '1850044', '2336928', '2312733', '1590358', '2129309', '2146163', '1200459', '1132319', '1982312', '2134618', '1001674', '2334609', '2212301', '2266903', '1745446', '1458245', '1582843', '2305697', '2284618', '1451823', '1018929', '1843235', '1513179', '2290280', '1618111', '2248332', '2187289', '2284371', '1434303', '1034859', '1137338', '2169955', '1042768', '2334826', '2321700', '2181084', '2215226', '2318888', '2272869', '1463749', '1068355', '2349318', '1708781', '1661979', '1570115', '2175952', '2294966', '1194701', '2089287', '1239094', '2291021', '2294023', '2138739', '2084143', '2269279', '1185601', '1255128', '1524501', '2225246', '1704122', '1024592', '2312338', '2122236', '2274502', '1817841', '1062104', '1102479', '1332030', '1598728', '2319736', '2170748', '2158518', '1463389', '1563830', '1240701', '1121898', '1699243', '1411338', '2290123', '1798266', '1301971', '2325548', '2315751', '1715284', '2287068', '2304424', '1034243', '2329135', '1042808', '2321567', '2172238', '1374527', '2275905', '1210287', '1998675', '1179903', '2320906', '1128941', '2296247', '2093845', '1834043', '1331057', '2070426', '1720867', '1010327', '1295885', '1883287', '1468636', '1204546', '2288199', '1019287', '1776942', '2070230', '1456750', '2125285', '1750075', '2187964', '2305388', '1807673', '1125998', '2149380', '1314658', '2312591', '1860006', '2307414', '2119002', '1158991', '2167431', '1017317', '1928817', '1963550', '1736500', '1040074', '1791966', '1845074', '2359461', '1527020', '1558077', '1387140', '1212007', '2291327', '2259514', '1381893', '1002626', '2312271', '1123686', '2341705', '2293535', '1013404', '1259510', '1494529', '1481860', '2310267', '2276553', '2332422', '1205929', '1422190', '2347631', '1047482', '2037895', '1094627', '2285325', '1608316', '1150067', '1867251', '2052163', '2287473', '1434848', '1749702', '1579116', '2276065', '1008925', '2302134', '1010008', '1955601', '2333273', '2337339', '1900177', '2138341', '1456283', '1252608', '2272520', '2274434', '2171396', '2325934', '1260378', '2119748', '1997181', '1228065', '1570056', '2321582', '2027557', '1129212', '2281067', '2276535', '2312040', '1188883', '2317975', '2292989', '1423617', '2141990', '1038230', '1016957', '1086958', '1083487', '2344318', '2355081', '2297947', '2198011', '2133680', '2311021', '2286533', '2318805', '1235190', '2034239', '2307496', '1215241', '1193814', '1788218', '2228289', '1287218', '1126450', '2269908', '1210017', '1004838', '1370618', '1847082', '1761398', '1036456', '2321660', '2002095', '2256186', '2332227', '2252333', '2030514', '2275859', '1318735', '2293346', '2040968', '1195244', '1591904', '2320987', '1442507', '2160916', '2347833', '1405762', '2353029', '1918556', '1274471', '2079310', '2300502', '2068533', '2314679', '2251483', '1185706', '1047178', '1404587', '2025784', '1948941', '2292178', '1025844', '1908159', '1216038', '2016064', '2314599', '1016064', '2292180', '2034661', '1114452', '1768285', '2040675', '2350046', '1884704', '2081372', '2195483', '2221477', '1986878', '2270772', '2336496', '2225081', '2327761', '2030361', '1801512', '1901532', '2029389', '2289147', '2301203', '2122389', '1953070', '2244329', '2059483', '2259440', '1047420', '1788973', '2224816', '1445033', '1800595', '1881765', '1047162', '2288936', '2035997', '2317638', '1043665', '2106039', '2342918', '2351885', '2317419', '2274088', '2000260', '1089510', '1421668', '2231358', '2309386', '1360161', '2289119', '1636536', '1231828', '1567868', '1896143', '1304800', '1061665', '2319754', '2344933', '1958889', '1046958', '2094086', '2007626', '1382946', '1877961', '1431427', '2350729', '1031177', '2329871', '1821175', '2048783', '1437237', '1085147', '2318267', '2278446', '1429608', '2170944', '1519787', '2134444', '2121323', '1306265', '2293812', '2342605', '1493281', '1664979', '1862521', '2277507', '1187298', '1062325', '2268060', '2210327', '1905158', '2047021', '2199546', '1020790', '1039868', '1006633', '1107660', '1259807', '1105166', '1029327', '1185386', '2131341', '2318904', '1038794', '2114461', '1581827', '2331595', '2243101', '2212114', '1059890', '1859944', '1612921', '2221830', '1024768', '2300119', '1330434', '2007944', '2326724', '1643386', '2289540', '2321098', '2261799', '2297153', '1147748', '1048117', '1225981', '1480458', '2011567', '1149876', '2135251', '2323487', '1511249', '1134401', '1351406', '1827661', '1422599', '2280258', '1033408', '1001764', '1185542', '2022000', '1092010', '2307665', '1045876', '2231127', '2071433', '1045500', '2192484', '2235255', '1027027', '2188989', '2350426', '2117121', '2334755', '1933451', '2120182', '2101179', '1404961', '1198289', '2323066', '2082884', '1658803', '1009072', '1080525', '1007107', '2009468', '1436955', '2027733', '2216172', '1738561', '2248125', '2315800', '2272739', '1041308', '1517710', '2330038', '1106631', '2335794', '2326756', '1308148', '1033479', '1358109', '1028135', '2279842', '2121315', '1190702', '1431690', '1014681', '1438345', '1601575', '1940668', '1409266', '2194379', '1219407', '1004828', '1234400', '2347037', '1032729', '1561289', '1409830', '2309558', '1124705', '1014153', '1804853', '2320270', '1194910', '2117177', '2315871', '2273354', '2291566', '1900266', '1723201', '1919328', '1016292', '2336343', '1064830', '1642802', '2302175', '1092737', '2353262', '1890238', '2166957', '2189532', '1091656', '2312846', '1316645', '1003200', '1941632', '2360798', '2285479', '1233284', '2245592', '2281041', '2328756', '2005710', '2166950', '1203798', '1391425', '1622085', '1265885', '2268841', '1086028', '1975151', '1042360', '1585570', '2332279', '1830067', '1013583', '2088323', '1880309', '1901789', '1417306', '1197979', '1922844', '2284130', '1444954', '1743956', '1081509', '2315889', '1079502', '2050393', '2304788', '1127291', '2009824', '1584030', '2311153', '1033138', '2357550', '1011936', '1292990', '1085811', '2318951', '2332789', '1196072', '1827596', '2297212', '1639085', '1239031', '1495893', '1478943', '2274445', '1036137', '1088391', '2339025', '1045447', '1140571', '1506183', '1199155', '1115263', '1654975', '2260392', '2262879', '2302114', '1034150', '1803772', '1005273', '1228034', '2323936', '1211484', '2122047', '2159911', '2293478', '1177824', '2299509', '2017082', '2349157', '1674419', '1253877', '1001766', '2060034', '2267909', '2209724', '1858370', '2031195', '1245878', '2324518', '2349209', '1856954', '1650608', '1806180', '2329095', '2320564', '2229746', '1298060', '2304756', '1006955', '1256312', '1603244', '2336513', '2236114', '2330173', '2230062', '2203912', '2031502', '2267178', '1127995', '2258753', '1460483', '1835151', '1838864', '1073886', '2294167', '2124052', '2168527', '2307022', '2036570', '2118796', '1917647', '1027797', '1327708', '2291581', '2295636', '2046816', '1182374', '1955858', '2218383', '2298011', '1356278', '1696221', '1785176', '2118025', '1069987', '2276290', '1799791', '1569092', '2300066', '1116175', '2103393', '2229805', '1212384', '1394717', '1650433', '2326833', '1760295', '1194140', '2358129', '2286159', '2255139', '1588691', '1258617', '1291767', '1326359', '2267413', '2323204', '1694765', '1985046', '1633212', '2281013', '2321614', '1035619', '1214343', '1444802', '2241058', '2190424', '2116879', '1094885', '1000557', '1324163', '2328617', '2260347', '1462247', '2145806', '2361225', '2298264', '2279454', '1707303', '2025859', '2096117', '1008401', '1850437', '2164580', '1047710', '2279983', '1051258', '1382938', '2268775', '1747700', '2308317', '1977114', '1863510', '2280218', '2218083', '2329982', '1081989', '1171327', '1511168', '1180656', '1440757', '1064410', '2318924', '2338568', '2259236', '2061257', '2321489', '2309883', '1261100', '2331550', '2239540', '2126381', '2046893', '2079248', '2269327', '1922657', '1768371', '1030774', '1148421', '2272593', '1579025', '1085442', '1084301', '1058495', '1097098', '2238830', '1069586', '2143318', '2276581', '1852100', '2352028', '1263190', '1049117', '2281049', '1601959', '1383748', '2014080', '1100843', '2125465', '2315073', '1419156', '1078664', '2118724', '2281689', '2162276', '1013742', '2355697', '2333566', '2232763', '1220598', '1083684', '2289285', '2338223', '2033526', '1023782', '2342638', '2112969', '1216749', '1261894', '2229812', '2293039', '1260478', '1642704', '2306971', '2342562', '2295628', '2219713', '2235848', '1711613', '1051038', '2321257', '2101212', '1972896', '2125187', '1467853', '1440787', '2061928', '1660694', '2253347', '2274722', '1315595', '1463794', '2036770', '2313933', '2245776', '1011357', '1015449', '1228784', '1042969', '2100609', '1359257', '2285726', '1013679', '2319115', '2234883', '2349407', '1453775', '1211978', '2163457', '1081132', '2324766', '1003740', '2013785', '1852282', '1061942', '2300039', '1449972', '2200506', '1035145', '1294263', '1040985', '1075376', '2318483', '1943266', '1096150', '2309383', '2330578', '1507167', '2037303', '1957262', '1008889', '1413664', '2209658', '1792953', '2313997', '2334501', '2338049', '1892088', '2349352', '1510201', '2336567', '1944398', '2299743', '1806823', '1196626', '2256132', '2016976', '2104182', '1291618', '1455187', '1209082', '1181994', '2315167', '1013987', '1965317', '1192547', '2284475', '2040367', '1026135', '2256107', '1387425', '2357079', '1671759', '1854310', '2312990', '1939199', '2253528', '2344720', '1355614', '1088439', '1863521', '2320924', '1007665', '2177503', '2091244', '1023670', '1076996', '1009909', '1911838', '1290623', '2277602', '2077317', '1083209', '2311639', '2349236', '2335217', '2219890', '1062291', '2266266', '2222702', '1145115', '2178903', '2114776', '2310002', '2202042', '1061523', '2294958', '2275135', '1379630', '2344093', '2307948', '2245302', '1393873', '2322471', '1991542', '2273860', '1025969', '1047544', '2298355', '2263936', '1765657', '1038125', '1151373', '1224766', '2248349', '2319875', '1203915', '2010856', '2313059', '2152975', '1121134', '2247882', '1523141', '2309316', '2050553', '1017203', '1813060', '1028466', '1075901', '1081679', '1082281', '2236063', '2334382', '1371041', '2326143', '1292795', '2343747', '1020677', '1000141', '1046457', '1816001', '2166404', '2253925', '1114826', '1425880', '1935877', '1438432', '1427490', '2124520', '1013580', '2312535', '1896970', '1025252', '1378124', '2050712', '1242197', '1796272', '2298289', '2237025', '1176084', '1003633', '2064674', '1344791', '1003333', '1052289', '2087581', '1431248', '1301783', '1085766', '1376025', '2285300', '1280438', '1616267', '1198102', '2330962', '2335287', '1025379', '1249236', '2303157', '1366232', '1381059', '2317226', '2261211', '2269090', '2344505', '2344514', '2344255', '1785991', '2140777', '1848159', '2146505', '2144153', '1995120', '2360094', '2329113', '2268170', '1114359', '2276485', '1015494', '1352290', '2270345', '1300751', '2349556', '1407692', '1012873', '1420317', '1420598', '2306170', '2305699', '2319234', '1218807', '1872792', '2278132', '2247185', '1136157', '1566223', '1278238', '2086008', '1413434', '2293037', '1460060', '1218220', '2059245', '2330125', '1266041', '1890440', '2157549', '1397387', '1318810', '1802572', '2063438', '1136216', '2324270', '2312955', '2265451', '1876797', '1563082', '2109726', '1538408', '1436507', '1941173')\n",
      "),\n",
      "w_approved\n",
      "as\n",
      "(\n",
      "  select DISTINCT customerId from risk_credit_mis.loan_master_table where loantype = 'BIGLOAN' OR FLAGAPPROVAL = 1 OR FLAGDISBURSEMENT = 1  \n",
      "  or (stage1Status = 'EXPIRED' AND cddInitiatedDateAndTime IS NULL)\n",
      ")\n",
      "select *\n",
      "from\n",
      "(\n",
      "  select distinct\n",
      "  a.Customer_Id,a.TSA_Opening_date,\n",
      "  c.OFSTANDARDACCOUNTID as TSA_Account_Number, c.OfblockAmount, \n",
      "  a.TSA_Status,a.TSA_Balance,a.Solo_Stash_Balance,a.Group_Stash_Balance,a.Term_Deposit_Balance,a.Active_Term_Deposit_flag,a.Last_TSA_Credit_Date,a.Last_TSA_Debit_Date,\n",
      "  a.ARI_Flag,a.Active_Loan,a.Total_Loan_Outstanding,  case when b.customerId is not null then 1 else 0 end as Approved_Loans,\n",
      "  a.Pending_Loan_Applications,a.Hard_Reject_Loans_App,a.Soft_Reject_Loans_App,a.Cancelled_Loans_App, extract(date from a.Last_Login_Date) as Last_Login_Date,\n",
      "  a.Last_TSA_EOD_Balance_Date,a.Last_Group_Stash_Credit_Date,a.Group_Stash_Balance_Owner,a.Run_Date,a.Batch,a.Processing_Month,a.pending_loans_not_expired_not_exempt,a.expired_loans,\n",
      "  a.pending_loans_lastDt,a.expired_loans_lastDt,\n",
      "  CASE \n",
      "    WHEN tsa_status = 'Active' and (Last_TSA_Credit_Date = date '1970-01-01' and Last_Group_Stash_Credit_Date is null)\n",
      "    and (TSA_Opening_date < date '2024-05-08')   ####D-60 days(SHOULD BE SAME DATE FOR 1ST,2ND,3RD NOTIFICATION)\n",
      "    and ( round(coalesce(TSA_Balance,0) + coalesce(Solo_Stash_Balance,0) + coalesce(Group_Stash_Balance,0) + coalesce(Term_Deposit_Balance,0),2) = 0 )\n",
      "    and (Active_Loan = 0) and (COALESCE(Pending_Loan_Applications,0) = 0)\n",
      "    and (Active_Term_Deposit_flag = 0)\n",
      "    and (ARI_Flag = 'N')\n",
      "    --and (Approved_Loans = 0)  THEN 'TYPE 1'\n",
      "    and b.customerId is null  THEN 'TYPE 1'\n",
      "\n",
      "\n",
      "    WHEN tsa_status = 'Active' and Last_TSA_EOD_Balance_Date is null and (TSA_Opening_date < date '2024-05-08')  ####D-60 days(SHOULD BE SAME DATE FOR 1ST,2ND,3RD NOTIFICATION)\n",
      "    and ( round(coalesce(TSA_Balance,0) + coalesce(Solo_Stash_Balance,0) + coalesce(Group_Stash_Balance,0) + coalesce(Term_Deposit_Balance,0),2) = 0 )\n",
      "    and (Active_Loan = 0) and (COALESCE(Pending_Loan_Applications,0) = 0)\n",
      "    and (Active_Term_Deposit_flag = 0)\n",
      "    and (ARI_Flag = 'N')\n",
      "    --and (Approved_Loans = 0)\n",
      "    and b.customerId is null  \n",
      "    and (date_trunc(TSA_Opening_date,day) = date_trunc(Last_Login_Date,day)) THEN 'TYPE 2'\n",
      "\n",
      "    \n",
      "    WHEN ( round(coalesce(TSA_Balance,0) + coalesce(Solo_Stash_Balance,0) + coalesce(Group_Stash_Balance,0) + coalesce(Term_Deposit_Balance,0),2) < 1 )\n",
      "            and (Active_Loan = 0) and (COALESCE(Pending_Loan_Applications,0) = 0)\n",
      "            and (Active_Term_Deposit_flag = 0)\n",
      "            and TSA_Opening_date < date '2024-01-09'                                     ####D-180 days(SHOULD BE SAME DATE FOR 1ST,2ND,3RD NOTIFICATION)\n",
      "            and (Last_TSA_Credit_Date < date '2024-01-09'                                 ####D-180 days(SHOULD BE SAME DATE FOR 1ST,2ND,3RD NOTIFICATION)\n",
      "            and Last_TSA_Debit_Date < date '2024-01-09'                                         ####D-180 days(SHOULD BE SAME DATE FOR 1ST,2ND,3RD NOTIFICATION)\n",
      "            and coalesce(Last_Group_Stash_Credit_Date,date '1970-01-01') < date '2024-01-09' )  ####D-180 days(SHOULD BE SAME DATE FOR 1ST,2ND,3RD NOTIFICATION)\n",
      "            and tsa_status = 'Active'\n",
      "            and (ARI_Flag = 'N')\n",
      "    --and (Approved_Loans = 0)\n",
      "            and b.customerId is null  \n",
      "    THEN 'TYPE 3'\n",
      "    ELSE 'NO ACTION'\n",
      "    END AS ACTION_TYPE\n",
      "  from w_tsa A\n",
      "  left join w_approved b\n",
      "  on cast(a.Customer_Id as int64) = b.customerId\n",
      "  left join core_raw.customer_accounts c\n",
      "  on c.OFCUSTOMERID = a.Customer_Id and c.CRINTERDESC = 'Transactional Savings Account Inv_R' and c.OFISCLOSED = 'N'\n",
      "  where\n",
      "  Run_Date = date '2024-07-30'  ###DATE change here to D-1\n",
      ")\n",
      "\n"
     ]
    }
   ],
   "source": [
    "print(sq)"
   ]
  },
  {
   "cell_type": "code",
   "execution_count": 42,
   "metadata": {},
   "outputs": [
    {
     "name": "stdout",
     "output_type": "stream",
     "text": [
      "Job ID f5121555-1654-422c-8c64-25c1eef697a1 successfully executed: 100%|\u001b[32m██████████\u001b[0m|\n",
      "Downloading: 100%|\u001b[32m██████████\u001b[0m|\n"
     ]
    }
   ],
   "source": [
    "df = client.query(sq).to_dataframe(progress_bar_type = 'tqdm')"
   ]
  },
  {
   "cell_type": "code",
   "execution_count": 43,
   "metadata": {},
   "outputs": [
    {
     "data": {
      "text/html": [
       "<div>\n",
       "<style scoped>\n",
       "    .dataframe tbody tr th:only-of-type {\n",
       "        vertical-align: middle;\n",
       "    }\n",
       "\n",
       "    .dataframe tbody tr th {\n",
       "        vertical-align: top;\n",
       "    }\n",
       "\n",
       "    .dataframe thead th {\n",
       "        text-align: right;\n",
       "    }\n",
       "</style>\n",
       "<table border=\"1\" class=\"dataframe\">\n",
       "  <thead>\n",
       "    <tr style=\"text-align: right;\">\n",
       "      <th></th>\n",
       "      <th>Customer_Id</th>\n",
       "      <th>TSA_Opening_date</th>\n",
       "      <th>TSA_Account_Number</th>\n",
       "      <th>OfblockAmount</th>\n",
       "      <th>TSA_Status</th>\n",
       "      <th>TSA_Balance</th>\n",
       "      <th>Solo_Stash_Balance</th>\n",
       "      <th>Group_Stash_Balance</th>\n",
       "      <th>Term_Deposit_Balance</th>\n",
       "      <th>Active_Term_Deposit_flag</th>\n",
       "      <th>Last_TSA_Credit_Date</th>\n",
       "      <th>Last_TSA_Debit_Date</th>\n",
       "      <th>ARI_Flag</th>\n",
       "      <th>Active_Loan</th>\n",
       "      <th>Total_Loan_Outstanding</th>\n",
       "      <th>Approved_Loans</th>\n",
       "      <th>Pending_Loan_Applications</th>\n",
       "      <th>Hard_Reject_Loans_App</th>\n",
       "      <th>Soft_Reject_Loans_App</th>\n",
       "      <th>Cancelled_Loans_App</th>\n",
       "      <th>Last_Login_Date</th>\n",
       "      <th>Last_TSA_EOD_Balance_Date</th>\n",
       "      <th>Last_Group_Stash_Credit_Date</th>\n",
       "      <th>Group_Stash_Balance_Owner</th>\n",
       "      <th>Run_Date</th>\n",
       "      <th>Batch</th>\n",
       "      <th>Processing_Month</th>\n",
       "      <th>pending_loans_not_expired_not_exempt</th>\n",
       "      <th>expired_loans</th>\n",
       "      <th>pending_loans_lastDt</th>\n",
       "      <th>expired_loans_lastDt</th>\n",
       "      <th>ACTION_TYPE</th>\n",
       "    </tr>\n",
       "  </thead>\n",
       "  <tbody>\n",
       "    <tr>\n",
       "      <th>14594</th>\n",
       "      <td>2491357</td>\n",
       "      <td>2024-05-01</td>\n",
       "      <td>60824913570007</td>\n",
       "      <td>0.0</td>\n",
       "      <td>Active</td>\n",
       "      <td>0.0</td>\n",
       "      <td>0.0</td>\n",
       "      <td>0.0</td>\n",
       "      <td>0.0</td>\n",
       "      <td>0</td>\n",
       "      <td>1970-01-01</td>\n",
       "      <td>1970-01-01</td>\n",
       "      <td>N</td>\n",
       "      <td>0</td>\n",
       "      <td>0.0</td>\n",
       "      <td>0</td>\n",
       "      <td>0</td>\n",
       "      <td>0</td>\n",
       "      <td>1</td>\n",
       "      <td>0</td>\n",
       "      <td>2024-05-01</td>\n",
       "      <td>NaT</td>\n",
       "      <td>NaT</td>\n",
       "      <td>NaN</td>\n",
       "      <td>2024-07-30</td>\n",
       "      <td>Batch_1</td>\n",
       "      <td>July</td>\n",
       "      <td>0</td>\n",
       "      <td>0</td>\n",
       "      <td>NaT</td>\n",
       "      <td>NaT</td>\n",
       "      <td>TYPE 1</td>\n",
       "    </tr>\n",
       "    <tr>\n",
       "      <th>8616</th>\n",
       "      <td>2454046</td>\n",
       "      <td>2024-04-06</td>\n",
       "      <td>60824540460007</td>\n",
       "      <td>0.0</td>\n",
       "      <td>Active</td>\n",
       "      <td>0.0</td>\n",
       "      <td>0.0</td>\n",
       "      <td>0.0</td>\n",
       "      <td>0.0</td>\n",
       "      <td>0</td>\n",
       "      <td>1970-01-01</td>\n",
       "      <td>1970-01-01</td>\n",
       "      <td>N</td>\n",
       "      <td>0</td>\n",
       "      <td>0.0</td>\n",
       "      <td>0</td>\n",
       "      <td>0</td>\n",
       "      <td>0</td>\n",
       "      <td>0</td>\n",
       "      <td>0</td>\n",
       "      <td>2024-04-06</td>\n",
       "      <td>NaT</td>\n",
       "      <td>NaT</td>\n",
       "      <td>NaN</td>\n",
       "      <td>2024-07-30</td>\n",
       "      <td>Batch_1</td>\n",
       "      <td>July</td>\n",
       "      <td>0</td>\n",
       "      <td>0</td>\n",
       "      <td>NaT</td>\n",
       "      <td>NaT</td>\n",
       "      <td>TYPE 1</td>\n",
       "    </tr>\n",
       "    <tr>\n",
       "      <th>3638</th>\n",
       "      <td>2480818</td>\n",
       "      <td>2024-04-25</td>\n",
       "      <td>60824808180006</td>\n",
       "      <td>0.0</td>\n",
       "      <td>Active</td>\n",
       "      <td>0.0</td>\n",
       "      <td>0.0</td>\n",
       "      <td>0.0</td>\n",
       "      <td>0.0</td>\n",
       "      <td>0</td>\n",
       "      <td>1970-01-01</td>\n",
       "      <td>1970-01-01</td>\n",
       "      <td>N</td>\n",
       "      <td>0</td>\n",
       "      <td>0.0</td>\n",
       "      <td>0</td>\n",
       "      <td>0</td>\n",
       "      <td>0</td>\n",
       "      <td>0</td>\n",
       "      <td>0</td>\n",
       "      <td>2024-04-25</td>\n",
       "      <td>NaT</td>\n",
       "      <td>NaT</td>\n",
       "      <td>NaN</td>\n",
       "      <td>2024-07-30</td>\n",
       "      <td>Batch_1</td>\n",
       "      <td>July</td>\n",
       "      <td>0</td>\n",
       "      <td>1</td>\n",
       "      <td>NaT</td>\n",
       "      <td>2024-07-25</td>\n",
       "      <td>TYPE 1</td>\n",
       "    </tr>\n",
       "    <tr>\n",
       "      <th>10010</th>\n",
       "      <td>2467501</td>\n",
       "      <td>2024-04-16</td>\n",
       "      <td>60824675010006</td>\n",
       "      <td>0.0</td>\n",
       "      <td>Active</td>\n",
       "      <td>0.0</td>\n",
       "      <td>0.0</td>\n",
       "      <td>0.0</td>\n",
       "      <td>0.0</td>\n",
       "      <td>0</td>\n",
       "      <td>1970-01-01</td>\n",
       "      <td>1970-01-01</td>\n",
       "      <td>N</td>\n",
       "      <td>0</td>\n",
       "      <td>0.0</td>\n",
       "      <td>0</td>\n",
       "      <td>0</td>\n",
       "      <td>0</td>\n",
       "      <td>0</td>\n",
       "      <td>0</td>\n",
       "      <td>2024-04-22</td>\n",
       "      <td>NaT</td>\n",
       "      <td>NaT</td>\n",
       "      <td>NaN</td>\n",
       "      <td>2024-07-30</td>\n",
       "      <td>Batch_1</td>\n",
       "      <td>July</td>\n",
       "      <td>0</td>\n",
       "      <td>1</td>\n",
       "      <td>NaT</td>\n",
       "      <td>2024-07-16</td>\n",
       "      <td>TYPE 1</td>\n",
       "    </tr>\n",
       "    <tr>\n",
       "      <th>2466</th>\n",
       "      <td>2451850</td>\n",
       "      <td>2024-04-04</td>\n",
       "      <td>60824518500005</td>\n",
       "      <td>0.0</td>\n",
       "      <td>Active</td>\n",
       "      <td>0.0</td>\n",
       "      <td>0.0</td>\n",
       "      <td>0.0</td>\n",
       "      <td>0.0</td>\n",
       "      <td>0</td>\n",
       "      <td>1970-01-01</td>\n",
       "      <td>1970-01-01</td>\n",
       "      <td>N</td>\n",
       "      <td>0</td>\n",
       "      <td>0.0</td>\n",
       "      <td>0</td>\n",
       "      <td>0</td>\n",
       "      <td>0</td>\n",
       "      <td>1</td>\n",
       "      <td>0</td>\n",
       "      <td>2024-07-09</td>\n",
       "      <td>NaT</td>\n",
       "      <td>NaT</td>\n",
       "      <td>NaN</td>\n",
       "      <td>2024-07-30</td>\n",
       "      <td>Batch_1</td>\n",
       "      <td>July</td>\n",
       "      <td>0</td>\n",
       "      <td>1</td>\n",
       "      <td>NaT</td>\n",
       "      <td>2024-07-04</td>\n",
       "      <td>TYPE 1</td>\n",
       "    </tr>\n",
       "    <tr>\n",
       "      <th>11304</th>\n",
       "      <td>2487603</td>\n",
       "      <td>2024-04-29</td>\n",
       "      <td>60824876030001</td>\n",
       "      <td>0.0</td>\n",
       "      <td>Active</td>\n",
       "      <td>0.0</td>\n",
       "      <td>0.0</td>\n",
       "      <td>0.0</td>\n",
       "      <td>0.0</td>\n",
       "      <td>0</td>\n",
       "      <td>1970-01-01</td>\n",
       "      <td>1970-01-01</td>\n",
       "      <td>N</td>\n",
       "      <td>0</td>\n",
       "      <td>0.0</td>\n",
       "      <td>0</td>\n",
       "      <td>0</td>\n",
       "      <td>0</td>\n",
       "      <td>0</td>\n",
       "      <td>0</td>\n",
       "      <td>2024-04-29</td>\n",
       "      <td>NaT</td>\n",
       "      <td>NaT</td>\n",
       "      <td>NaN</td>\n",
       "      <td>2024-07-30</td>\n",
       "      <td>Batch_1</td>\n",
       "      <td>July</td>\n",
       "      <td>0</td>\n",
       "      <td>1</td>\n",
       "      <td>NaT</td>\n",
       "      <td>2024-07-29</td>\n",
       "      <td>TYPE 1</td>\n",
       "    </tr>\n",
       "    <tr>\n",
       "      <th>10703</th>\n",
       "      <td>2447523</td>\n",
       "      <td>2024-04-01</td>\n",
       "      <td>60824475230002</td>\n",
       "      <td>0.0</td>\n",
       "      <td>Active</td>\n",
       "      <td>0.0</td>\n",
       "      <td>0.0</td>\n",
       "      <td>0.0</td>\n",
       "      <td>0.0</td>\n",
       "      <td>0</td>\n",
       "      <td>1970-01-01</td>\n",
       "      <td>1970-01-01</td>\n",
       "      <td>N</td>\n",
       "      <td>0</td>\n",
       "      <td>0.0</td>\n",
       "      <td>0</td>\n",
       "      <td>0</td>\n",
       "      <td>0</td>\n",
       "      <td>0</td>\n",
       "      <td>0</td>\n",
       "      <td>2024-04-01</td>\n",
       "      <td>NaT</td>\n",
       "      <td>NaT</td>\n",
       "      <td>NaN</td>\n",
       "      <td>2024-07-30</td>\n",
       "      <td>Batch_1</td>\n",
       "      <td>July</td>\n",
       "      <td>0</td>\n",
       "      <td>1</td>\n",
       "      <td>NaT</td>\n",
       "      <td>2024-07-01</td>\n",
       "      <td>TYPE 1</td>\n",
       "    </tr>\n",
       "    <tr>\n",
       "      <th>14765</th>\n",
       "      <td>2485518</td>\n",
       "      <td>2024-04-28</td>\n",
       "      <td>60824855180007</td>\n",
       "      <td>0.0</td>\n",
       "      <td>Active</td>\n",
       "      <td>0.0</td>\n",
       "      <td>0.0</td>\n",
       "      <td>0.0</td>\n",
       "      <td>0.0</td>\n",
       "      <td>0</td>\n",
       "      <td>1970-01-01</td>\n",
       "      <td>1970-01-01</td>\n",
       "      <td>N</td>\n",
       "      <td>0</td>\n",
       "      <td>0.0</td>\n",
       "      <td>0</td>\n",
       "      <td>0</td>\n",
       "      <td>0</td>\n",
       "      <td>0</td>\n",
       "      <td>0</td>\n",
       "      <td>2024-04-28</td>\n",
       "      <td>NaT</td>\n",
       "      <td>NaT</td>\n",
       "      <td>NaN</td>\n",
       "      <td>2024-07-30</td>\n",
       "      <td>Batch_1</td>\n",
       "      <td>July</td>\n",
       "      <td>0</td>\n",
       "      <td>1</td>\n",
       "      <td>NaT</td>\n",
       "      <td>2024-07-27</td>\n",
       "      <td>TYPE 1</td>\n",
       "    </tr>\n",
       "    <tr>\n",
       "      <th>5121</th>\n",
       "      <td>2477768</td>\n",
       "      <td>2024-04-23</td>\n",
       "      <td>60824777680006</td>\n",
       "      <td>0.0</td>\n",
       "      <td>Active</td>\n",
       "      <td>0.0</td>\n",
       "      <td>0.0</td>\n",
       "      <td>0.0</td>\n",
       "      <td>0.0</td>\n",
       "      <td>0</td>\n",
       "      <td>1970-01-01</td>\n",
       "      <td>1970-01-01</td>\n",
       "      <td>N</td>\n",
       "      <td>0</td>\n",
       "      <td>0.0</td>\n",
       "      <td>0</td>\n",
       "      <td>0</td>\n",
       "      <td>0</td>\n",
       "      <td>0</td>\n",
       "      <td>0</td>\n",
       "      <td>2024-07-09</td>\n",
       "      <td>NaT</td>\n",
       "      <td>NaT</td>\n",
       "      <td>NaN</td>\n",
       "      <td>2024-07-30</td>\n",
       "      <td>Batch_1</td>\n",
       "      <td>July</td>\n",
       "      <td>0</td>\n",
       "      <td>0</td>\n",
       "      <td>NaT</td>\n",
       "      <td>NaT</td>\n",
       "      <td>TYPE 1</td>\n",
       "    </tr>\n",
       "    <tr>\n",
       "      <th>13088</th>\n",
       "      <td>2484242</td>\n",
       "      <td>2024-04-27</td>\n",
       "      <td>60824842420004</td>\n",
       "      <td>0.0</td>\n",
       "      <td>Active</td>\n",
       "      <td>0.0</td>\n",
       "      <td>0.0</td>\n",
       "      <td>0.0</td>\n",
       "      <td>0.0</td>\n",
       "      <td>0</td>\n",
       "      <td>1970-01-01</td>\n",
       "      <td>1970-01-01</td>\n",
       "      <td>N</td>\n",
       "      <td>0</td>\n",
       "      <td>0.0</td>\n",
       "      <td>0</td>\n",
       "      <td>0</td>\n",
       "      <td>0</td>\n",
       "      <td>0</td>\n",
       "      <td>0</td>\n",
       "      <td>2024-04-27</td>\n",
       "      <td>NaT</td>\n",
       "      <td>NaT</td>\n",
       "      <td>NaN</td>\n",
       "      <td>2024-07-30</td>\n",
       "      <td>Batch_1</td>\n",
       "      <td>July</td>\n",
       "      <td>0</td>\n",
       "      <td>1</td>\n",
       "      <td>NaT</td>\n",
       "      <td>2024-07-27</td>\n",
       "      <td>TYPE 1</td>\n",
       "    </tr>\n",
       "  </tbody>\n",
       "</table>\n",
       "</div>"
      ],
      "text/plain": [
       "      Customer_Id TSA_Opening_date TSA_Account_Number  OfblockAmount  \\\n",
       "14594     2491357       2024-05-01     60824913570007            0.0   \n",
       "8616      2454046       2024-04-06     60824540460007            0.0   \n",
       "3638      2480818       2024-04-25     60824808180006            0.0   \n",
       "10010     2467501       2024-04-16     60824675010006            0.0   \n",
       "2466      2451850       2024-04-04     60824518500005            0.0   \n",
       "11304     2487603       2024-04-29     60824876030001            0.0   \n",
       "10703     2447523       2024-04-01     60824475230002            0.0   \n",
       "14765     2485518       2024-04-28     60824855180007            0.0   \n",
       "5121      2477768       2024-04-23     60824777680006            0.0   \n",
       "13088     2484242       2024-04-27     60824842420004            0.0   \n",
       "\n",
       "      TSA_Status  TSA_Balance  Solo_Stash_Balance  Group_Stash_Balance  \\\n",
       "14594     Active          0.0                 0.0                  0.0   \n",
       "8616      Active          0.0                 0.0                  0.0   \n",
       "3638      Active          0.0                 0.0                  0.0   \n",
       "10010     Active          0.0                 0.0                  0.0   \n",
       "2466      Active          0.0                 0.0                  0.0   \n",
       "11304     Active          0.0                 0.0                  0.0   \n",
       "10703     Active          0.0                 0.0                  0.0   \n",
       "14765     Active          0.0                 0.0                  0.0   \n",
       "5121      Active          0.0                 0.0                  0.0   \n",
       "13088     Active          0.0                 0.0                  0.0   \n",
       "\n",
       "       Term_Deposit_Balance  Active_Term_Deposit_flag Last_TSA_Credit_Date  \\\n",
       "14594                   0.0                         0           1970-01-01   \n",
       "8616                    0.0                         0           1970-01-01   \n",
       "3638                    0.0                         0           1970-01-01   \n",
       "10010                   0.0                         0           1970-01-01   \n",
       "2466                    0.0                         0           1970-01-01   \n",
       "11304                   0.0                         0           1970-01-01   \n",
       "10703                   0.0                         0           1970-01-01   \n",
       "14765                   0.0                         0           1970-01-01   \n",
       "5121                    0.0                         0           1970-01-01   \n",
       "13088                   0.0                         0           1970-01-01   \n",
       "\n",
       "      Last_TSA_Debit_Date ARI_Flag  Active_Loan  Total_Loan_Outstanding  \\\n",
       "14594          1970-01-01        N            0                     0.0   \n",
       "8616           1970-01-01        N            0                     0.0   \n",
       "3638           1970-01-01        N            0                     0.0   \n",
       "10010          1970-01-01        N            0                     0.0   \n",
       "2466           1970-01-01        N            0                     0.0   \n",
       "11304          1970-01-01        N            0                     0.0   \n",
       "10703          1970-01-01        N            0                     0.0   \n",
       "14765          1970-01-01        N            0                     0.0   \n",
       "5121           1970-01-01        N            0                     0.0   \n",
       "13088          1970-01-01        N            0                     0.0   \n",
       "\n",
       "       Approved_Loans  Pending_Loan_Applications  Hard_Reject_Loans_App  \\\n",
       "14594               0                          0                      0   \n",
       "8616                0                          0                      0   \n",
       "3638                0                          0                      0   \n",
       "10010               0                          0                      0   \n",
       "2466                0                          0                      0   \n",
       "11304               0                          0                      0   \n",
       "10703               0                          0                      0   \n",
       "14765               0                          0                      0   \n",
       "5121                0                          0                      0   \n",
       "13088               0                          0                      0   \n",
       "\n",
       "       Soft_Reject_Loans_App  Cancelled_Loans_App Last_Login_Date  \\\n",
       "14594                      1                    0      2024-05-01   \n",
       "8616                       0                    0      2024-04-06   \n",
       "3638                       0                    0      2024-04-25   \n",
       "10010                      0                    0      2024-04-22   \n",
       "2466                       1                    0      2024-07-09   \n",
       "11304                      0                    0      2024-04-29   \n",
       "10703                      0                    0      2024-04-01   \n",
       "14765                      0                    0      2024-04-28   \n",
       "5121                       0                    0      2024-07-09   \n",
       "13088                      0                    0      2024-04-27   \n",
       "\n",
       "      Last_TSA_EOD_Balance_Date Last_Group_Stash_Credit_Date  \\\n",
       "14594                       NaT                          NaT   \n",
       "8616                        NaT                          NaT   \n",
       "3638                        NaT                          NaT   \n",
       "10010                       NaT                          NaT   \n",
       "2466                        NaT                          NaT   \n",
       "11304                       NaT                          NaT   \n",
       "10703                       NaT                          NaT   \n",
       "14765                       NaT                          NaT   \n",
       "5121                        NaT                          NaT   \n",
       "13088                       NaT                          NaT   \n",
       "\n",
       "       Group_Stash_Balance_Owner    Run_Date    Batch Processing_Month  \\\n",
       "14594                        NaN  2024-07-30  Batch_1             July   \n",
       "8616                         NaN  2024-07-30  Batch_1             July   \n",
       "3638                         NaN  2024-07-30  Batch_1             July   \n",
       "10010                        NaN  2024-07-30  Batch_1             July   \n",
       "2466                         NaN  2024-07-30  Batch_1             July   \n",
       "11304                        NaN  2024-07-30  Batch_1             July   \n",
       "10703                        NaN  2024-07-30  Batch_1             July   \n",
       "14765                        NaN  2024-07-30  Batch_1             July   \n",
       "5121                         NaN  2024-07-30  Batch_1             July   \n",
       "13088                        NaN  2024-07-30  Batch_1             July   \n",
       "\n",
       "       pending_loans_not_expired_not_exempt  expired_loans  \\\n",
       "14594                                     0              0   \n",
       "8616                                      0              0   \n",
       "3638                                      0              1   \n",
       "10010                                     0              1   \n",
       "2466                                      0              1   \n",
       "11304                                     0              1   \n",
       "10703                                     0              1   \n",
       "14765                                     0              1   \n",
       "5121                                      0              0   \n",
       "13088                                     0              1   \n",
       "\n",
       "      pending_loans_lastDt expired_loans_lastDt ACTION_TYPE  \n",
       "14594                  NaT                  NaT      TYPE 1  \n",
       "8616                   NaT                  NaT      TYPE 1  \n",
       "3638                   NaT           2024-07-25      TYPE 1  \n",
       "10010                  NaT           2024-07-16      TYPE 1  \n",
       "2466                   NaT           2024-07-04      TYPE 1  \n",
       "11304                  NaT           2024-07-29      TYPE 1  \n",
       "10703                  NaT           2024-07-01      TYPE 1  \n",
       "14765                  NaT           2024-07-27      TYPE 1  \n",
       "5121                   NaT                  NaT      TYPE 1  \n",
       "13088                  NaT           2024-07-27      TYPE 1  "
      ]
     },
     "execution_count": 43,
     "metadata": {},
     "output_type": "execute_result"
    }
   ],
   "source": [
    "pd.set_option('display.max_columns', None)\n",
    "df.sample(10)"
   ]
  },
  {
   "cell_type": "code",
   "execution_count": 44,
   "metadata": {},
   "outputs": [
    {
     "data": {
      "text/plain": [
       "(15712, 32)"
      ]
     },
     "execution_count": 44,
     "metadata": {},
     "output_type": "execute_result"
    }
   ],
   "source": [
    "df.shape"
   ]
  },
  {
   "cell_type": "code",
   "execution_count": 45,
   "metadata": {},
   "outputs": [
    {
     "data": {
      "text/plain": [
       "ACTION_TYPE\n",
       "TYPE 1       14149\n",
       "TYPE 3        1328\n",
       "NO ACTION      207\n",
       "TYPE 2          28\n",
       "Name: count, dtype: int64"
      ]
     },
     "execution_count": 45,
     "metadata": {},
     "output_type": "execute_result"
    }
   ],
   "source": [
    "df['ACTION_TYPE'].value_counts()"
   ]
  },
  {
   "cell_type": "code",
   "execution_count": 46,
   "metadata": {},
   "outputs": [],
   "source": [
    "df.to_excel(r\"C:\\Users\\DwaipayanChakroborti\\OneDrive - Tonik Financial Pte Ltd\\MyStuff\\Marvin\\TSA Account Closure\\May24&June24 Ongoing Batch\\SecondNotification_files\\20240731_TSA_Account_Closure_2ndtNotification.xlsx\", sheet_name='TSA_Closure_2ndNotification', index = False)"
   ]
  },
  {
   "cell_type": "code",
   "execution_count": null,
   "metadata": {},
   "outputs": [],
   "source": []
  }
 ],
 "metadata": {
  "kernelspec": {
   "display_name": "prjreports",
   "language": "python",
   "name": "python3"
  },
  "language_info": {
   "codemirror_mode": {
    "name": "ipython",
    "version": 3
   },
   "file_extension": ".py",
   "mimetype": "text/x-python",
   "name": "python",
   "nbconvert_exporter": "python",
   "pygments_lexer": "ipython3",
   "version": "3.9.19"
  }
 },
 "nbformat": 4,
 "nbformat_minor": 2
}
